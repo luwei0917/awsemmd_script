{
 "cells": [
  {
   "cell_type": "code",
   "execution_count": 1,
   "metadata": {
    "collapsed": true
   },
   "outputs": [],
   "source": [
    "import numpy as np\n",
    "import pandas as pd\n",
    "import matplotlib\n",
    "import matplotlib.pyplot as plt\n",
    "import os\n",
    "%matplotlib inline\n",
    "\n",
    "plt.rcParams['axes.labelsize'] = 14\n",
    "plt.rcParams['xtick.labelsize'] = 12\n",
    "plt.rcParams['ytick.labelsize'] = 12\n",
    "\n",
    "# Where to save the figures\n",
    "PROJECT_ROOT_DIR = \".\"\n",
    "CHAPTER_ID = \"classification\"\n",
    "\n",
    "def save_fig(fig_id, tight_layout=True):\n",
    "    path = os.path.join(PROJECT_ROOT_DIR, \"images\", CHAPTER_ID, fig_id + \".png\")\n",
    "    print(\"Saving figure\", fig_id)\n",
    "    if tight_layout:\n",
    "        plt.tight_layout()\n",
    "    plt.savefig(path, format='png', dpi=300)"
   ]
  },
  {
   "cell_type": "code",
   "execution_count": 2,
   "metadata": {
    "collapsed": true
   },
   "outputs": [],
   "source": [
    "from sklearn.base import BaseEstimator, TransformerMixin\n",
    "from sklearn.pipeline import Pipeline\n",
    "from sklearn.preprocessing import StandardScaler\n",
    "from sklearn.pipeline import FeatureUnion\n",
    "from sklearn.preprocessing import PolynomialFeatures\n",
    "# Create a class to select numerical or categorical columns \n",
    "# since Scikit-Learn doesn't handle DataFrames yet\n",
    "class DataFrameSelector(BaseEstimator, TransformerMixin):\n",
    "    def __init__(self, attribute_names):\n",
    "        self.attribute_names = attribute_names\n",
    "    def fit(self, X, y=None):\n",
    "        return self\n",
    "    def transform(self, X):\n",
    "        return X[self.attribute_names].values\n",
    "class RemoveFirstFrame(BaseEstimator, TransformerMixin):\n",
    "    def __init__(self, frame):\n",
    "        self.frame = frame\n",
    "    def fit(self, X, y=None):\n",
    "        return self\n",
    "    def transform(self, X):\n",
    "        return X.query(f\"Step % {frame} != 1\")"
   ]
  },
  {
   "cell_type": "code",
   "execution_count": 3,
   "metadata": {
    "collapsed": true
   },
   "outputs": [],
   "source": [
    "FEATURES = ['Rw',\n",
    " 'VTotal',\n",
    " 'QGO',\n",
    " 'Burial',\n",
    " 'Water',\n",
    " 'Rama',\n",
    " 'DSSP',\n",
    " 'P_AP',\n",
    " 'Helix',\n",
    " 'Frag_Mem']\n",
    "LABEL = \"Good\""
   ]
  },
  {
   "cell_type": "code",
   "execution_count": 4,
   "metadata": {
    "collapsed": true
   },
   "outputs": [],
   "source": [
    "name_list = [\"CALU18\", \"ESPC2\"]\n",
    "all_data_list = []\n",
    "for name in name_list:\n",
    "    pre = f\"/Users/weilu/Research/davinci/{name}/\"\n",
    "    file = pre + \"/AWSEM_energy/AWSEM_energy.log\"\n",
    "    columns = [\"Step\" , \"Chain\" , \"Shake\" , \"Chi\" , \"Rama\", \"Excluded\", \"DSSP\", \"P_AP\", \"Water\" ,\"Burial\", \"Helix\", \"AMH_Go\", \"Frag_Mem\", \"Vec_FM\", \"Membrane\", \"SSB\" , \"Electro.\", \"QGO\" ,\"VTotal\"]\n",
    "    a = pd.read_table(file, names=columns)\n",
    "\n",
    "    rw_file = pre + \"/lowTstructure/rwplusScore.short.txt\"\n",
    "    b = pd.read_table(rw_file, names=[\"Rw\"], sep=\"\\s+\").reset_index()\n",
    "    data = pd.concat([a, b], axis=1)\n",
    "    data[\"Name\"] = name\n",
    "    all_data_list.append(data)\n",
    "all_data = pd.concat(all_data_list)"
   ]
  },
  {
   "cell_type": "code",
   "execution_count": 5,
   "metadata": {
    "collapsed": true
   },
   "outputs": [],
   "source": [
    "raw_test_data = pd.read_csv(\"/Users/weilu/Research/data/test_data/test_data_4.csv\")\n",
    "raw_data = raw_test_data.groupby(\"Name\").get_group(\"T0792\")"
   ]
  },
  {
   "cell_type": "code",
   "execution_count": 10,
   "metadata": {
    "scrolled": true
   },
   "outputs": [
    {
     "name": "stdout",
     "output_type": "stream",
     "text": [
      "CALU18\n",
      "[1735 1029 1013 1194 1945]\n",
      "ESPC2\n",
      "[59 64 90 23 93]\n"
     ]
    }
   ],
   "source": [
    "from sklearn.metrics import confusion_matrix\n",
    "from sklearn.ensemble import RandomForestClassifier\n",
    "from sklearn.ensemble import VotingClassifier\n",
    "from sklearn.linear_model import LogisticRegression\n",
    "from sklearn.model_selection import StratifiedKFold\n",
    "from sklearn.model_selection import StratifiedShuffleSplit\n",
    "from sklearn.base import clone\n",
    "from sklearn.svm import SVC\n",
    "num_attribs = FEATURES\n",
    "cat_attribs = [LABEL]\n",
    "frame = 201\n",
    "num_pipeline = Pipeline([\n",
    "        ('selector', DataFrameSelector(num_attribs)),\n",
    "        ('std_scaler', StandardScaler()),\n",
    "        ('poly', PolynomialFeatures(degree=1, include_bias=False))\n",
    "    ])\n",
    "cat_pipeline = Pipeline([\n",
    "        ('selector', DataFrameSelector(cat_attribs))\n",
    "    ])\n",
    "\n",
    "full_pipeline = FeatureUnion(transformer_list=[\n",
    "        (\"num_pipeline\", num_pipeline),\n",
    "        (\"cat_pipeline\", cat_pipeline),\n",
    "    ])\n",
    "my_full_pipeline = Pipeline([\n",
    "        ('removeFirstFrame', RemoveFirstFrame(frame)),\n",
    "        ('featureSelection', full_pipeline)\n",
    "])\n",
    "\n",
    "split = StratifiedShuffleSplit(n_splits=1, test_size=0.2, random_state=42)\n",
    "for train_index, test_index in split.split(raw_data, raw_data[LABEL]):\n",
    "    strat_train_set = raw_data.iloc[train_index]\n",
    "    strat_test_set = raw_data.iloc[test_index]\n",
    "# strat_test_set[LABEL].value_counts() / len(strat_test_set)\n",
    "X_train = my_full_pipeline.fit_transform(strat_train_set)\n",
    "X_test = my_full_pipeline.fit_transform(strat_test_set)\n",
    "train_y = X_train[:,-1]\n",
    "train_set = X_train[:,:-1]\n",
    "test_y = X_test[:,-1]\n",
    "test_set = X_test[:,:-1]\n",
    "\n",
    "p = 0.9\n",
    "log_clf = LogisticRegression(random_state=142, class_weight={0:p, 1:(1-p)})\n",
    "rnd_clf = RandomForestClassifier(random_state=432, class_weight={0:p, 1:(1-p)})\n",
    "svm_clf = SVC(probability=True, random_state=412, class_weight={0:p, 1:(1-p)})\n",
    "\n",
    "voting_clf = VotingClassifier(\n",
    "    estimators=[('lr', log_clf), ('rf', rnd_clf), ('svc', svm_clf)],\n",
    "    voting='soft')\n",
    "voting_clf.fit(train_set, train_y)\n",
    "n = 5\n",
    "results_list = []\n",
    "picked_list = []\n",
    "for name, data in all_data.groupby(\"Name\"):\n",
    "    print(name)\n",
    "    X = num_pipeline.fit_transform(data)\n",
    "    eval_set = X\n",
    "    test= voting_clf.predict_proba(eval_set)[:,1]\n",
    "    position_of_top_n = test.argsort()[-n:][::-1]\n",
    "#     threshold = test[position_of_top_n][-1]\n",
    "#     predict_y = np.zeros(len(eval_y),)\n",
    "#     predict_y[position_of_top_n] = 1\n",
    "    with open(\"/Users/weilu/Research/data/structure_selector/nov18_{}_results.csv\".format(name), \"w\") as f:\n",
    "        f.write(\"Result\\n\")\n",
    "        for i in test:\n",
    "            f.write(str(i) + \"\\n\")\n",
    "    results_list.append(pd.Series(test))\n",
    "    print(position_of_top_n)\n",
    "    for ii,i in enumerate(position_of_top_n):\n",
    "        os.system(f\"cp /Users/weilu/Research/davinci/{name}/lowTstructure/lowTstructure{i}.pdb /Users/weilu/Research/data/structure_selector/nov18/{name}/rank_{ii}_{i}.pdb\")\n",
    "#     predict_y = (test > threshold)\n",
    "#     print(threshold)\n"
   ]
  },
  {
   "cell_type": "code",
   "execution_count": 8,
   "metadata": {},
   "outputs": [
    {
     "data": {
      "text/plain": [
       "array([ 0.46481138,  0.41746202,  0.36644027,  0.31485466,  0.30941576])"
      ]
     },
     "execution_count": 8,
     "metadata": {},
     "output_type": "execute_result"
    }
   ],
   "source": [
    "test[position_of_top_n]"
   ]
  },
  {
   "cell_type": "code",
   "execution_count": null,
   "metadata": {
    "collapsed": true
   },
   "outputs": [],
   "source": [
    "os.system()"
   ]
  },
  {
   "cell_type": "code",
   "execution_count": 72,
   "metadata": {
    "collapsed": true
   },
   "outputs": [],
   "source": [
    "a = pd.concat(results_list)\n",
    "all_data[\"predict\"] = a\n",
    "all_data.plot( \"Rw\", \"predict\" , kind=\"scatter\")"
   ]
  },
  {
   "cell_type": "code",
   "execution_count": 79,
   "metadata": {},
   "outputs": [
    {
     "data": {
      "text/plain": [
       "<matplotlib.axes._subplots.AxesSubplot at 0x116ea9ba8>"
      ]
     },
     "execution_count": 79,
     "metadata": {},
     "output_type": "execute_result"
    },
    {
     "data": {
      "image/png": "[encoded data removed]",
      "text/plain": [
       "<matplotlib.figure.Figure at 0x116e86780>"
      ]
     },
     "metadata": {},
     "output_type": "display_data"
    }
   ],
   "source": []
  }
 ],
 "metadata": {
  "kernelspec": {
   "display_name": "Python 3",
   "language": "python",
   "name": "python3"
  },
  "language_info": {
   "codemirror_mode": {
    "name": "ipython",
    "version": 3
   },
   "file_extension": ".py",
   "mimetype": "text/x-python",
   "name": "python",
   "nbconvert_exporter": "python",
   "pygments_lexer": "ipython3",
   "version": "3.6.3"
  }
 },
 "nbformat": 4,
 "nbformat_minor": 2
}
