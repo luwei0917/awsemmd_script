{
 "cells": [
  {
   "cell_type": "code",
   "execution_count": 10,
   "metadata": {
    "collapsed": true
   },
   "outputs": [],
   "source": [
    "import os\n",
    "import sys\n",
    "import random\n",
    "import time\n",
    "from random import seed, randint\n",
    "import argparse\n",
    "import platform\n",
    "from datetime import datetime\n",
    "import imp\n",
    "import numpy as np\n",
    "import fileinput\n",
    "from itertools import product\n",
    "import pandas as pd"
   ]
  },
  {
   "cell_type": "code",
   "execution_count": 52,
   "metadata": {
    "collapsed": true
   },
   "outputs": [],
   "source": [
    "import matplotlib as mpl\n",
    "import matplotlib.pyplot as plt\n",
    "%matplotlib inline\n",
    "# %matplotlib notebook\n",
    "plt.rcParams['axes.labelsize'] = 14\n",
    "plt.rcParams['xtick.labelsize'] = 12\n",
    "plt.rcParams['ytick.labelsize'] = 12\n",
    "# plt.rcParams['figure.figsize'] = (10,5) \n",
    "# plt.rcParams['figure.figsize'] = (10,5.625)   # 16:9\n",
    "plt.rcParams['figure.figsize'] = (10,6.180)    #golden ratio\n",
    "# plt.rcParams['figure.figsize'] = (10*2,6.180*2)    #golden ratio"
   ]
  },
  {
   "cell_type": "code",
   "execution_count": 1,
   "metadata": {
    "collapsed": true
   },
   "outputs": [],
   "source": [
    "from Bio.PDB.PDBParser import PDBParser\n"
   ]
  },
  {
   "cell_type": "code",
   "execution_count": 85,
   "metadata": {
    "collapsed": true
   },
   "outputs": [],
   "source": [
    "def read_lammps(lammps_file=\"dump.lammpstrj\", center=False, ca=True):\n",
    "    nFrame = 0\n",
    "    with open(lammps_file, \"r\") as lfile:\n",
    "        for line in lfile:\n",
    "            l = line.strip()\n",
    "            if l[:5]==\"ITEM:\":\n",
    "                item = l[6:]\n",
    "            else:\n",
    "                if item == \"TIMESTEP\":\n",
    "                    step = int(l)\n",
    "                    try:\n",
    "                        atoms_all_frames.append(atoms)\n",
    "                    except NameError:\n",
    "                        atoms_all_frames = []\n",
    "                    atoms = []\n",
    "                    box = []\n",
    "                    A = []\n",
    "                    nFrame = nFrame + 1\n",
    "                elif item == \"NUMBER OF ATOMS\":\n",
    "                        n_atoms = int(l)\n",
    "                        xyz_count = 0\n",
    "                elif item[:10] == \"BOX BOUNDS\":\n",
    "                    # I center x, y not z\n",
    "                    if center:\n",
    "                        if xyz_count <= 1:\n",
    "                            xyz_count += 1\n",
    "                            box.append(l)\n",
    "                            l = l.split()\n",
    "                            # A.append([float(l[0]), float(l[1])])\n",
    "                            l_left = (float(l[0]) - float(l[1]))/2.0\n",
    "                            l_right = (float(l[1]) - float(l[0]))/2.0\n",
    "                            A.append([l_left, l_right])\n",
    "                            # print l_right - l_left\n",
    "                        else:\n",
    "                            xyz_count = 0\n",
    "                            box.append(l)\n",
    "                            l = l.split()\n",
    "                            A.append([float(l[0]), float(l[1])])\n",
    "                            # l_left = (float(l[0]) - float(l[1]))/2.0\n",
    "                            # l_right = (float(l[1]) - float(l[0]))/2.0\n",
    "                            # A.append([l_left, l_right])\n",
    "                            # print l_right - l_left\n",
    "                    else:\n",
    "                        box.append(l)\n",
    "                        l = l.split()\n",
    "                        A.append([float(l[0]), float(l[1])])\n",
    "                elif item[:5] == \"ATOMS\":\n",
    "                    l = l.split()\n",
    "                    i_atom = int(l[0])\n",
    "                    x = float(l[2])\n",
    "                    y = float(l[3])\n",
    "                    z = float(l[4])\n",
    "                    x = (A[0][1] - A[0][0])*x + A[0][0]\n",
    "                    y = (A[1][1] - A[1][0])*y + A[1][0]\n",
    "                    z = (A[2][1] - A[2][0])*z + A[2][0]\n",
    "                    # C alpha distance\n",
    "                    if ca:\n",
    "                        if i_atom % 3 == 1:\n",
    "                            atom = [x, y, z]\n",
    "                            atoms.append(atom)\n",
    "                    else:   # C beta or H in the case of GLY\n",
    "                        if i_atom % 3 == 0:\n",
    "                            atom = [x, y, z]\n",
    "                            atoms.append(atom)\n",
    "        atoms_all_frames.append(atoms)\n",
    "    return atoms_all_frames"
   ]
  },
  {
   "cell_type": "code",
   "execution_count": 78,
   "metadata": {
    "collapsed": true
   },
   "outputs": [],
   "source": [
    "MAX_OFFSET = 4\n",
    "DISTANCE_CUTOFF = 9.5\n",
    "struct_id = '2xov'\n",
    "filename = \"/Users/weilu/Research/server/feb_2018/week_of_feb05/rg_0.1_lipid_1.0_mem_1/simulation/dis_30.0/2xov.pdb\"\n",
    "p = PDBParser(PERMISSIVE=1)\n",
    "s = p.get_structure(struct_id, filename)\n",
    "chains = s[0].get_list()\n",
    "\n",
    "# import pdb file\n",
    "native_coords = []\n",
    "for chain in chains:\n",
    "    dis = []\n",
    "    all_res = []\n",
    "    for res in chain:\n",
    "        is_regular_res = res.has_id('CA') and res.has_id('O')\n",
    "        res_id = res.get_id()[0]\n",
    "        if (res.get_resname()=='GLY'):\n",
    "            native_coords.append(res['CA'].get_coord())\n",
    "        elif (res_id==' ' or res_id=='H_MSE' or res_id=='H_M3L' or res_id=='H_CAS') and is_regular_res:\n",
    "            native_coords.append(res['CB'].get_coord())\n",
    "        else:\n",
    "            print('ERROR: irregular residue at %s!' % res)\n",
    "            exit()\n",
    "native_coords = np.array(native_coords)\n",
    "a= native_coords[:,np.newaxis]\n",
    "dis = np.sqrt(np.sum((a - native_coords)**2, axis=2))\n",
    "\n",
    "n = len(dis)\n",
    "remove_band = np.eye(n)\n",
    "for i in range(1, MAX_OFFSET):\n",
    "    remove_band += np.eye(n, k=i)\n",
    "    remove_band += np.eye(n, k=-i)\n",
    "dis[remove_band==1] = np.max(dis)"
   ]
  },
  {
   "cell_type": "code",
   "execution_count": 79,
   "metadata": {},
   "outputs": [],
   "source": [
    "native_contacts = dis < DISTANCE_CUTOFF"
   ]
  },
  {
   "cell_type": "code",
   "execution_count": 81,
   "metadata": {},
   "outputs": [
    {
     "data": {
      "text/plain": [
       "array([ 1,  4, 11,  9,  4, 12, 15,  7,  4, 13,  6,  2,  5, 12,  5,  3, 10,\n",
       "       10,  3,  8, 11,  2,  3,  6,  4,  7,  4,  5, 11, 12,  3,  7, 13, 13,\n",
       "       16, 10,  8,  2,  0,  2,  6,  3,  2,  5,  2,  3, 11,  7,  9, 11, 16,\n",
       "       18, 13, 18, 18, 11,  6,  2,  7, 13, 11,  4,  8, 15,  9,  5, 14, 13,\n",
       "        9,  6, 18, 18, 12, 12, 15, 13,  9,  6, 11,  6,  7,  6, 10, 16,  5,\n",
       "        4, 16, 13,  5, 10, 20, 16,  6,  9, 21, 17,  6, 11, 16, 11,  3,  4,\n",
       "        8,  4, 12,  9, 16, 18, 17, 17, 17, 21, 18, 18, 17, 20, 19, 17, 14,\n",
       "       21, 14, 13, 13, 17, 11,  5,  7,  9,  4,  1,  8,  6, 15,  8, 14,  2,\n",
       "        1,  2,  8,  5,  3,  3, 12,  3,  2, 11,  7,  4,  8, 10,  5,  2,  3,\n",
       "        3,  9,  7, 20, 14, 16,  8,  5,  8, 18, 15,  7, 13, 22, 12,  8, 15,\n",
       "       16,  9,  6, 12, 15,  7,  2, 10,  8,  3,  1])"
      ]
     },
     "execution_count": 81,
     "metadata": {},
     "output_type": "execute_result"
    }
   ],
   "source": [
    "np.sum(native_contacts, axis=1)"
   ]
  },
  {
   "cell_type": "code",
   "execution_count": 171,
   "metadata": {
    "collapsed": true
   },
   "outputs": [],
   "source": [
    "def compute_native_contacts(coords, MAX_OFFSET=4, DISTANCE_CUTOFF=9.5):\n",
    "    native_coords = np.array(coords)\n",
    "    a= native_coords[:,np.newaxis]\n",
    "    dis = np.sqrt(np.sum((a - native_coords)**2, axis=2))\n",
    "\n",
    "    n = len(dis)\n",
    "    remove_band = np.eye(n)\n",
    "    for i in range(1, MAX_OFFSET):\n",
    "        remove_band += np.eye(n, k=i)\n",
    "        remove_band += np.eye(n, k=-i)\n",
    "    dis[remove_band==1] = np.max(dis)\n",
    "    native_contacts = dis < DISTANCE_CUTOFF\n",
    "    return native_contacts.astype(\"int\")"
   ]
  },
  {
   "cell_type": "code",
   "execution_count": 202,
   "metadata": {
    "collapsed": true
   },
   "outputs": [],
   "source": [
    "def compute_contacts(coords, native_contacts, DISTANCE_CUTOFF=9.5):\n",
    "    native_coords = np.array(coords)\n",
    "    a= native_coords[:,np.newaxis]\n",
    "    dis = np.sqrt(np.sum((a - native_coords)**2, axis=2))\n",
    "    constacts = dis < DISTANCE_CUTOFF\n",
    "    constacts = constacts*native_contacts  #remove non native contacts\n",
    "    return np.sum(constacts, axis=1).astype(\"float\")"
   ]
  },
  {
   "cell_type": "code",
   "execution_count": 188,
   "metadata": {},
   "outputs": [],
   "source": [
    "native_contacts_table = compute_native_contacts(native_coords, MAX_OFFSET, DISTANCE_CUTOFF)"
   ]
  },
  {
   "cell_type": "code",
   "execution_count": 204,
   "metadata": {},
   "outputs": [],
   "source": [
    "native_contacts = compute_contacts(native_coords, native_contacts_table)"
   ]
  },
  {
   "cell_type": "code",
   "execution_count": 205,
   "metadata": {},
   "outputs": [
    {
     "data": {
      "text/plain": [
       "array([  1.,   4.,  11.,   9.,   4.,  12.,  15.,   7.,   4.,  13.,   6.,\n",
       "         2.,   5.,  12.,   5.,   3.,  10.,  10.,   3.,   8.,  11.,   2.,\n",
       "         3.,   6.,   4.,   7.,   4.,   5.,  11.,  12.,   3.,   7.,  13.,\n",
       "        13.,  16.,  10.,   8.,   2.,   0.,   2.,   6.,   3.,   2.,   5.,\n",
       "         2.,   3.,  11.,   7.,   9.,  11.,  16.,  18.,  13.,  18.,  18.,\n",
       "        11.,   6.,   2.,   7.,  13.,  11.,   4.,   8.,  15.,   9.,   5.,\n",
       "        14.,  13.,   9.,   6.,  18.,  18.,  12.,  12.,  15.,  13.,   9.,\n",
       "         6.,  11.,   6.,   7.,   6.,  10.,  16.,   5.,   4.,  16.,  13.,\n",
       "         5.,  10.,  20.,  16.,   6.,   9.,  21.,  17.,   6.,  11.,  16.,\n",
       "        11.,   3.,   4.,   8.,   4.,  12.,   9.,  16.,  18.,  17.,  17.,\n",
       "        17.,  21.,  18.,  18.,  17.,  20.,  19.,  17.,  14.,  21.,  14.,\n",
       "        13.,  13.,  17.,  11.,   5.,   7.,   9.,   4.,   1.,   8.,   6.,\n",
       "        15.,   8.,  14.,   2.,   1.,   2.,   8.,   5.,   3.,   3.,  12.,\n",
       "         3.,   2.,  11.,   7.,   4.,   8.,  10.,   5.,   2.,   3.,   3.,\n",
       "         9.,   7.,  20.,  14.,  16.,   8.,   5.,   8.,  18.,  15.,   7.,\n",
       "        13.,  22.,  12.,   8.,  15.,  16.,   9.,   6.,  12.,  15.,   7.,\n",
       "         2.,  10.,   8.,   3.,   1.])"
      ]
     },
     "execution_count": 205,
     "metadata": {},
     "output_type": "execute_result"
    }
   ],
   "source": [
    "native_contacts "
   ]
  },
  {
   "cell_type": "code",
   "execution_count": 159,
   "metadata": {},
   "outputs": [],
   "source": [
    "dump = read_lammps(\"/Users/weilu/Research/server/feb_2018/week_of_feb05/rg_0.1_lipid_1.0_mem_1/simulation/dis_32.0/0/dump.lammpstrj.8\", ca=False)"
   ]
  },
  {
   "cell_type": "code",
   "execution_count": 206,
   "metadata": {},
   "outputs": [],
   "source": [
    "localQ_list = []\n",
    "for atom in dump:\n",
    "    contacts = compute_contacts(np.array(atom), native_contacts_table, DISTANCE_CUTOFF=DISTANCE_CUTOFF)\n",
    "    c = np.divide(contacts, native_contacts, out=np.zeros_like(contacts), where=native_contacts!=0)\n",
    "    localQ_list.append(c)\n",
    "data = np.array(localQ_list)"
   ]
  },
  {
   "cell_type": "code",
   "execution_count": 200,
   "metadata": {
    "collapsed": true
   },
   "outputs": [],
   "source": [
    "contacts = compute_contacts(np.array(dump[0]), native_contacts_table, DISTANCE_CUTOFF=DISTANCE_CUTOFF)"
   ]
  },
  {
   "cell_type": "code",
   "execution_count": 210,
   "metadata": {},
   "outputs": [
    {
     "data": {
      "text/plain": [
       "<matplotlib.colorbar.Colorbar at 0x1307fd470>"
      ]
     },
     "execution_count": 210,
     "metadata": {},
     "output_type": "execute_result"
    },
    {
     "data": {
      "image/png": "[encoded data removed]",
      "text/plain": [
       "<matplotlib.figure.Figure at 0x1300492e8>"
      ]
     },
     "metadata": {},
     "output_type": "display_data"
    }
   ],
   "source": [
    "data = np.array(localQ_list)\n",
    "plt.imshow(data.T, aspect=\"auto\")\n",
    "plt.colorbar()"
   ]
  },
  {
   "cell_type": "code",
   "execution_count": 194,
   "metadata": {},
   "outputs": [
    {
     "data": {
      "text/plain": [
       "1.0"
      ]
     },
     "execution_count": 194,
     "metadata": {},
     "output_type": "execute_result"
    }
   ],
   "source": [
    "np.max(data)"
   ]
  },
  {
   "cell_type": "code",
   "execution_count": 195,
   "metadata": {},
   "outputs": [
    {
     "data": {
      "text/plain": [
       "0.0"
      ]
     },
     "execution_count": 195,
     "metadata": {},
     "output_type": "execute_result"
    }
   ],
   "source": [
    "np.min(data)"
   ]
  },
  {
   "cell_type": "code",
   "execution_count": 164,
   "metadata": {},
   "outputs": [
    {
     "data": {
      "text/plain": [
       "array([ 0.        ,  0.25      ,  0.81818182,  0.88888889,  1.25      ,\n",
       "        0.75      ,  0.86666667,  0.85714286,  1.        ,  0.84615385,\n",
       "        1.33333333,  1.        ,  1.        ,  1.        ,  1.2       ,\n",
       "        1.66666667,  0.9       ,  1.        ,  1.33333333,  1.125     ,\n",
       "        0.90909091,  1.5       ,  1.        ,  0.83333333,  1.25      ,\n",
       "        1.14285714,  0.5       ,  1.2       ,  1.27272727,  0.58333333,\n",
       "        1.33333333,  0.71428571,  0.92307692,  0.76923077,  0.875     ,\n",
       "        0.4       ,  0.75      ,  1.        ,  0.        ,  1.        ,\n",
       "        1.33333333,  0.33333333,  0.5       ,  1.2       ,  1.5       ,\n",
       "        0.66666667,  0.72727273,  1.14285714,  0.66666667,  0.90909091,\n",
       "        0.8125    ,  0.77777778,  1.        ,  0.77777778,  0.83333333,\n",
       "        0.81818182,  1.        ,  2.5       ,  0.14285714,  0.69230769,\n",
       "        1.        ,  1.5       ,  0.625     ,  0.66666667,  1.11111111,\n",
       "        0.8       ,  0.5       ,  0.92307692,  0.88888889,  1.33333333,\n",
       "        0.66666667,  0.83333333,  0.75      ,  0.25      ,  0.8       ,\n",
       "        0.84615385,  0.33333333,  1.        ,  0.18181818,  0.66666667,\n",
       "        1.14285714,  0.5       ,  0.7       ,  0.8125    ,  1.6       ,\n",
       "        0.5       ,  0.625     ,  0.92307692,  1.4       ,  0.7       ,\n",
       "        0.75      ,  0.875     ,  1.5       ,  1.11111111,  0.85714286,\n",
       "        1.        ,  1.5       ,  1.18181818,  0.9375    ,  1.        ,\n",
       "        1.66666667,  1.5       ,  1.125     ,  3.        ,  0.5       ,\n",
       "        1.22222222,  0.8125    ,  0.88888889,  1.11764706,  0.94117647,\n",
       "        0.52941176,  0.80952381,  0.88888889,  0.66666667,  0.76470588,\n",
       "        0.85      ,  0.73684211,  0.47058824,  0.57142857,  0.57142857,\n",
       "        0.42857143,  0.23076923,  0.69230769,  0.41176471,  0.27272727,\n",
       "        0.4       ,  1.        ,  0.44444444,  0.75      ,  0.        ,\n",
       "        0.125     ,  0.5       ,  0.13333333,  0.75      ,  0.14285714,\n",
       "        4.        ,  2.        ,  1.5       ,  0.5       ,  1.4       ,\n",
       "        1.        ,  1.        ,  0.75      ,  3.        ,  1.5       ,\n",
       "        0.36363636,  1.28571429,  1.        ,  0.25      ,  0.3       ,\n",
       "        1.2       ,  1.        ,  0.33333333,  1.33333333,  0.11111111,\n",
       "        1.        ,  0.45      ,  0.64285714,  0.5625    ,  0.5       ,\n",
       "        0.4       ,  1.        ,  1.11111111,  0.73333333,  1.        ,\n",
       "        1.15384615,  0.72727273,  1.        ,  1.25      ,  0.8       ,\n",
       "        0.75      ,  1.11111111,  1.5       ,  1.        ,  0.53333333,\n",
       "        0.71428571,  4.5       ,  0.8       ,  0.5       ,  0.66666667,  1.        ])"
      ]
     },
     "execution_count": 164,
     "metadata": {},
     "output_type": "execute_result"
    }
   ],
   "source": [
    "c"
   ]
  },
  {
   "cell_type": "code",
   "execution_count": 108,
   "metadata": {},
   "outputs": [
    {
     "ename": "TypeError",
     "evalue": "No loop matching the specified signature and casting\nwas found for ufunc true_divide",
     "output_type": "error",
     "traceback": [
      "\u001b[0;31m---------------------------------------------------------------------------\u001b[0m",
      "\u001b[0;31mTypeError\u001b[0m                                 Traceback (most recent call last)",
      "\u001b[0;32m<ipython-input-108-6a9c440f5776>\u001b[0m in \u001b[0;36m<module>\u001b[0;34m()\u001b[0m\n\u001b[0;32m----> 1\u001b[0;31m \u001b[0mc\u001b[0m \u001b[0;34m=\u001b[0m \u001b[0mnp\u001b[0m\u001b[0;34m.\u001b[0m\u001b[0mdivide\u001b[0m\u001b[0;34m(\u001b[0m\u001b[0mcontacts\u001b[0m\u001b[0;34m,\u001b[0m \u001b[0mnative_contacts\u001b[0m\u001b[0;34m,\u001b[0m \u001b[0mout\u001b[0m\u001b[0;34m=\u001b[0m\u001b[0mnp\u001b[0m\u001b[0;34m.\u001b[0m\u001b[0mzeros_like\u001b[0m\u001b[0;34m(\u001b[0m\u001b[0mcontacts\u001b[0m\u001b[0;34m)\u001b[0m\u001b[0;34m,\u001b[0m \u001b[0mwhere\u001b[0m\u001b[0;34m=\u001b[0m\u001b[0mnative_contacts\u001b[0m\u001b[0;34m!=\u001b[0m\u001b[0;36m0\u001b[0m\u001b[0;34m)\u001b[0m\u001b[0;34m\u001b[0m\u001b[0m\n\u001b[0m",
      "\u001b[0;31mTypeError\u001b[0m: No loop matching the specified signature and casting\nwas found for ufunc true_divide"
     ]
    }
   ],
   "source": [
    "c = np.divide(contacts, native_contacts, out=np.zeros_like(contacts), where=native_contacts!=0)"
   ]
  },
  {
   "cell_type": "code",
   "execution_count": 115,
   "metadata": {},
   "outputs": [
    {
     "name": "stdout",
     "output_type": "stream",
     "text": [
      "[ 0.   0.   0.   1.   1.5]\n"
     ]
    }
   ],
   "source": [
    ">>> a = np.array([-1, 0, 1, 2, 3], dtype=float)\n",
    ">>> b = np.array([ 0, 0, 0, 2, 2], dtype=float)\n",
    "\n",
    ">>> c = np.divide(a, b, out=np.zeros_like(a), where=b!=0)\n",
    ">>> print(c)"
   ]
  },
  {
   "cell_type": "code",
   "execution_count": null,
   "metadata": {
    "collapsed": true
   },
   "outputs": [],
   "source": []
  },
  {
   "cell_type": "code",
   "execution_count": 120,
   "metadata": {},
   "outputs": [
    {
     "data": {
      "text/plain": [
       "(5,)"
      ]
     },
     "execution_count": 120,
     "metadata": {},
     "output_type": "execute_result"
    }
   ],
   "source": [
    "a.shape"
   ]
  },
  {
   "cell_type": "code",
   "execution_count": 91,
   "metadata": {
    "scrolled": true
   },
   "outputs": [
    {
     "data": {
      "text/plain": [
       "(181, 3)"
      ]
     },
     "execution_count": 91,
     "metadata": {},
     "output_type": "execute_result"
    }
   ],
   "source": [
    "b.shape"
   ]
  },
  {
   "cell_type": "code",
   "execution_count": 92,
   "metadata": {},
   "outputs": [
    {
     "data": {
      "text/plain": [
       "(181, 3)"
      ]
     },
     "execution_count": 92,
     "metadata": {},
     "output_type": "execute_result"
    }
   ],
   "source": [
    "native_coords.shape"
   ]
  },
  {
   "cell_type": "code",
   "execution_count": 89,
   "metadata": {},
   "outputs": [
    {
     "ename": "AttributeError",
     "evalue": "'list' object has no attribute 'shape'",
     "output_type": "error",
     "traceback": [
      "\u001b[0;31m---------------------------------------------------------------------------\u001b[0m",
      "\u001b[0;31mAttributeError\u001b[0m                            Traceback (most recent call last)",
      "\u001b[0;32m<ipython-input-89-774251a4c738>\u001b[0m in \u001b[0;36m<module>\u001b[0;34m()\u001b[0m\n\u001b[0;32m----> 1\u001b[0;31m \u001b[0mdump\u001b[0m\u001b[0;34m[\u001b[0m\u001b[0;36m0\u001b[0m\u001b[0;34m]\u001b[0m\u001b[0;34m.\u001b[0m\u001b[0mshape\u001b[0m\u001b[0;34m\u001b[0m\u001b[0m\n\u001b[0m",
      "\u001b[0;31mAttributeError\u001b[0m: 'list' object has no attribute 'shape'"
     ]
    }
   ],
   "source": [
    "dump[0]"
   ]
  },
  {
   "cell_type": "code",
   "execution_count": 75,
   "metadata": {},
   "outputs": [
    {
     "data": {
      "text/plain": [
       "<matplotlib.image.AxesImage at 0x11a05fc88>"
      ]
     },
     "execution_count": 75,
     "metadata": {},
     "output_type": "execute_result"
    },
    {
     "data": {
      "image/png": "[encoded data removed]",
      "text/plain": [
       "<matplotlib.figure.Figure at 0x11a974208>"
      ]
     },
     "metadata": {},
     "output_type": "display_data"
    }
   ],
   "source": [
    "plt.imshow(dis < 9.5, origin='lower')"
   ]
  },
  {
   "cell_type": "code",
   "execution_count": 49,
   "metadata": {},
   "outputs": [
    {
     "data": {
      "text/plain": [
       "array([[  0.        ,   0.        ,   0.        , ...,  25.01301956,\n",
       "         29.05464935,  26.2569809 ],\n",
       "       [  0.        ,   0.        ,   0.        , ...,  27.89468384,\n",
       "         31.60533905,  28.65100479],\n",
       "       [  0.        ,   0.        ,   0.        , ...,  25.06340027,\n",
       "         28.74313927,  26.19666672],\n",
       "       ..., \n",
       "       [ 25.01301956,  27.89468384,  25.06340027, ...,   0.        ,\n",
       "          0.        ,   0.        ],\n",
       "       [ 29.05464935,  31.60533905,  28.74313927, ...,   0.        ,\n",
       "          0.        ,   0.        ],\n",
       "       [ 26.2569809 ,  28.65100479,  26.19666672, ...,   0.        ,\n",
       "          0.        ,   0.        ]])"
      ]
     },
     "execution_count": 49,
     "metadata": {},
     "output_type": "execute_result"
    }
   ],
   "source": [
    "dis*remove_band"
   ]
  },
  {
   "cell_type": "code",
   "execution_count": 43,
   "metadata": {},
   "outputs": [
    {
     "data": {
      "text/plain": [
       "array([[ 0.,  1.,  0.,  0.,  0.],\n",
       "       [ 0.,  0.,  1.,  0.,  0.],\n",
       "       [ 0.,  0.,  0.,  1.,  0.],\n",
       "       [ 0.,  0.,  0.,  0.,  1.],\n",
       "       [ 0.,  0.,  0.,  0.,  0.]])"
      ]
     },
     "execution_count": 43,
     "metadata": {},
     "output_type": "execute_result"
    }
   ],
   "source": [
    "np.eye(5,k=1)"
   ]
  },
  {
   "cell_type": "code",
   "execution_count": 22,
   "metadata": {},
   "outputs": [
    {
     "data": {
      "text/plain": [
       "(181, 1, 3)"
      ]
     },
     "execution_count": 22,
     "metadata": {},
     "output_type": "execute_result"
    }
   ],
   "source": [
    ".shape"
   ]
  },
  {
   "cell_type": "code",
   "execution_count": 32,
   "metadata": {},
   "outputs": [
    {
     "data": {
      "text/plain": [
       "(181, 181)"
      ]
     },
     "execution_count": 32,
     "metadata": {},
     "output_type": "execute_result"
    }
   ],
   "source": [
    "dis.shape"
   ]
  },
  {
   "cell_type": "code",
   "execution_count": null,
   "metadata": {
    "collapsed": true
   },
   "outputs": [],
   "source": []
  },
  {
   "cell_type": "code",
   "execution_count": 25,
   "metadata": {},
   "outputs": [
    {
     "data": {
      "text/plain": [
       "(181, 181, 3)"
      ]
     },
     "execution_count": 25,
     "metadata": {},
     "output_type": "execute_result"
    }
   ],
   "source": [
    "(a - native_coords).shape"
   ]
  },
  {
   "cell_type": "code",
   "execution_count": 29,
   "metadata": {},
   "outputs": [
    {
     "data": {
      "text/plain": [
       "(181, 1, 3)"
      ]
     },
     "execution_count": 29,
     "metadata": {},
     "output_type": "execute_result"
    }
   ],
   "source": [
    "a.shape"
   ]
  },
  {
   "cell_type": "code",
   "execution_count": 17,
   "metadata": {},
   "outputs": [
    {
     "data": {
      "text/plain": [
       "(362, 3)"
      ]
     },
     "execution_count": 17,
     "metadata": {},
     "output_type": "execute_result"
    }
   ],
   "source": [
    "native_coords.shape"
   ]
  },
  {
   "cell_type": "code",
   "execution_count": null,
   "metadata": {
    "collapsed": true
   },
   "outputs": [],
   "source": [
    "[:,np.newaxis] - B"
   ]
  },
  {
   "cell_type": "code",
   "execution_count": 8,
   "metadata": {},
   "outputs": [
    {
     "data": {
      "text/plain": [
       "[array([ 11.06499958,  -0.80199999, -20.29999924], dtype=float32),\n",
       " array([ 14.42300034,   1.50899994, -16.1970005 ], dtype=float32),\n",
       " array([ 11.23499966,   1.704     , -12.07800007], dtype=float32),\n",
       " array([  9.84300041,   5.67600012, -13.94999981], dtype=float32),\n",
       " array([ 10.65600014,  10.02000046, -12.19299984], dtype=float32),\n",
       " array([ 6.45300007,  8.47000027, -9.31299973], dtype=float32),\n",
       " array([  8.15600014,   3.42600012, -10.06200027], dtype=float32),\n",
       " array([ 12.98999977,   5.22900009,  -9.58600044], dtype=float32),\n",
       " array([ 11.75699997,   9.10700035,  -6.21700001], dtype=float32),\n",
       " array([ 8.17500019,  5.43100023, -4.10400009], dtype=float32),\n",
       " array([ 12.03899956,   1.82799995,  -4.85699987], dtype=float32),\n",
       " array([ 15.45400047,   5.8829999 ,  -3.73200011], dtype=float32),\n",
       " array([ 11.94299984,   7.57800007,  -0.31400001], dtype=float32),\n",
       " array([ 10.78299999,   2.46700001,   0.99299997], dtype=float32),\n",
       " array([ 16.05699921,   1.43700004,   0.221     ], dtype=float32),\n",
       " array([ 16.96899986,   6.34200001,   2.25099993], dtype=float32),\n",
       " array([ 12.81599998,   5.54300022,   5.56099987], dtype=float32),\n",
       " array([ 14.4090004,   0.271    ,   5.375    ], dtype=float32),\n",
       " array([ 19.36499977,   2.34200001,   5.68499994], dtype=float32),\n",
       " array([ 17.10099983,   6.08400011,   8.76399994], dtype=float32),\n",
       " array([ 14.22599983,   1.98000002,  10.71800041], dtype=float32),\n",
       " array([ 18.79299927,  -1.05700004,  10.39000034], dtype=float32),\n",
       " array([ 21.4829998 ,   3.40799999,  11.57499981], dtype=float32),\n",
       " array([ 18.2859993 ,   5.83900023,  14.35299969], dtype=float32),\n",
       " array([ 16.14999962,   2.07200003,  15.79399967], dtype=float32),\n",
       " array([ 11.53299999,   0.91100001,  14.77799988], dtype=float32),\n",
       " array([ 11.47099972,   3.99300003,  19.02400017], dtype=float32),\n",
       " array([ 15.28499985,   6.921     ,  16.71299934], dtype=float32),\n",
       " array([ 12.91300011,   6.22599983,  12.09000015], dtype=float32),\n",
       " array([  8.20400047,   5.91099977,  14.90200043], dtype=float32),\n",
       " array([ 10.52799988,  10.18099976,  17.38199997], dtype=float32),\n",
       " array([ 11.48700047,  12.07600021,  12.64700031], dtype=float32),\n",
       " array([ 8.72099972,  9.35499954,  9.6079998 ], dtype=float32),\n",
       " array([  4.88399982,   8.21000004,  13.64700031], dtype=float32),\n",
       " array([  0.17200001,   9.13599968,  11.94499969], dtype=float32),\n",
       " array([  1.30000003e-02,   1.41280003e+01,   1.42600002e+01], dtype=float32),\n",
       " array([  1.94400001,  10.08399963,  18.13500023], dtype=float32),\n",
       " array([  1.82099998,  14.55200005,  20.85300064], dtype=float32),\n",
       " array([ -2.36599994,  17.99699974,  20.80699921], dtype=float32),\n",
       " array([  2.88100004,  19.4090004 ,  20.52700043], dtype=float32),\n",
       " array([  3.09800005,  16.25799942,  16.2670002 ], dtype=float32),\n",
       " array([ -2.13400006,  18.47400093,  15.01799965], dtype=float32),\n",
       " array([  0.52700001,  22.36400032,  12.46199989], dtype=float32),\n",
       " array([  4.62400007,  18.14999962,  12.00399971], dtype=float32),\n",
       " array([  1.551     ,  19.20899963,   6.77799988], dtype=float32),\n",
       " array([  6.17399979,  15.82999992,   6.41900015], dtype=float32),\n",
       " array([  3.25500011,  13.53600025,  10.46700001], dtype=float32),\n",
       " array([ -0.94800001,  13.68900013,   6.89499998], dtype=float32),\n",
       " array([  2.56999993,  11.97000027,   3.33899999], dtype=float32),\n",
       " array([  6.67000008,  10.86600018,   6.42199993], dtype=float32),\n",
       " array([ 2.87599993,  6.92000008,  8.40100002], dtype=float32),\n",
       " array([ 3.40700006,  5.7750001 ,  3.11800003], dtype=float32),\n",
       " array([ 8.69999981,  6.61800003,  4.125     ], dtype=float32),\n",
       " array([ 8.20600033,  3.70600009,  8.65200043], dtype=float32),\n",
       " array([ 9.24600029, -1.28400004,  5.94299984], dtype=float32),\n",
       " array([  8.11600018,  -2.89100003,  11.14700031], dtype=float32),\n",
       " array([ 9.95100021, -7.29799986,  9.22799969], dtype=float32),\n",
       " array([ 13.69799995,  -8.60000038,   5.80600023], dtype=float32),\n",
       " array([  8.80900002, -10.40200043,   5.31899977], dtype=float32),\n",
       " array([ 7.43200016, -5.32499981,  6.33599997], dtype=float32),\n",
       " array([ 10.92700005,  -3.20499992,   3.23300004], dtype=float32),\n",
       " array([ 11.0369997 ,  -8.16499996,   0.671     ], dtype=float32),\n",
       " array([ 6.05200005, -8.67399979,  0.065     ], dtype=float32),\n",
       " array([ 5.71799994, -3.06800008,  0.67900002], dtype=float32),\n",
       " array([ 9.81999969, -2.52800012, -2.46600008], dtype=float32),\n",
       " array([ 7.97300005, -7.33199978, -4.85599995], dtype=float32),\n",
       " array([ 3.18300009, -5.19899988, -4.59200001], dtype=float32),\n",
       " array([ 5.68599987, -0.43599999, -4.74100018], dtype=float32),\n",
       " array([ 8.86999989, -2.81800008, -8.27799988], dtype=float32),\n",
       " array([  4.99700022,  -5.4829998 , -10.20199966], dtype=float32),\n",
       " array([ 1.04499996, -2.57299995, -9.06900024], dtype=float32),\n",
       " array([ 3.24799991,  1.24300003, -9.65799999], dtype=float32),\n",
       " array([  5.77099991,   0.78299999, -12.45800018], dtype=float32),\n",
       " array([  2.14400005,  -1.579     , -14.63799953], dtype=float32),\n",
       " array([  0.104     ,   2.84100008, -12.5       ], dtype=float32),\n",
       " array([  4.73999977,   5.26100016, -13.41800022], dtype=float32),\n",
       " array([  5.21500015,   2.31100011, -17.85899925], dtype=float32),\n",
       " array([  0.40200001,   2.06200004, -19.14800072], dtype=float32),\n",
       " array([ -1.79299998,   5.52699995, -16.49300003], dtype=float32),\n",
       " array([  1.76499999,   8.6079998 , -16.33099937], dtype=float32),\n",
       " array([  4.83900023,  10.74300003, -13.27700043], dtype=float32),\n",
       " array([  0.67500001,  12.04100037, -12.2869997 ], dtype=float32),\n",
       " array([ -1.96099997,   8.05799961, -13.12300014], dtype=float32),\n",
       " array([  2.03699994,   6.63999987, -10.09899998], dtype=float32),\n",
       " array([  1.63600004,  11.72799969,  -8.03999996], dtype=float32),\n",
       " array([ -3.51200008,  11.3039999 ,  -7.9380002 ], dtype=float32),\n",
       " array([-3.00200009,  5.8579998 , -7.10500002], dtype=float32),\n",
       " array([ 1.11399996,  7.30800009, -4.15100002], dtype=float32),\n",
       " array([ -1.25999999,  11.77099991,  -2.4690001 ], dtype=float32),\n",
       " array([-6.05499983,  9.48999977, -2.66899991], dtype=float32),\n",
       " array([-4.09299994,  4.69899988, -1.38499999], dtype=float32),\n",
       " array([-0.35699999,  7.42500019,  1.68900001], dtype=float32),\n",
       " array([ -4.3920002 ,  10.77000046,   2.93000007], dtype=float32),\n",
       " array([-8.06299973,  7.07999992,  2.70900011], dtype=float32),\n",
       " array([-4.64400005,  3.17600012,  4.09100008], dtype=float32),\n",
       " array([-3.34800005,  6.01999998,  7.41699982], dtype=float32),\n",
       " array([-7.40600014,  8.72500038,  7.93300009], dtype=float32),\n",
       " array([-8.95199966,  3.7420001 ,  8.14099979], dtype=float32),\n",
       " array([ -3.99900007,   2.7750001 ,  10.17199993], dtype=float32),\n",
       " array([ -4.24399996,   6.99900007,  13.26000023], dtype=float32),\n",
       " array([ -9.71100044,   6.05299997,  13.13199997], dtype=float32),\n",
       " array([ -9.33100033,   1.10800004,  14.18700027], dtype=float32),\n",
       " array([ -4.72900009,   0.28299999,  15.35900021], dtype=float32),\n",
       " array([ -3.39599991,   4.52199984,  17.12199974], dtype=float32),\n",
       " array([ -0.292    ,   7.796    ,  15.9119997], dtype=float32),\n",
       " array([  2.75200009,   3.38000011,  16.91399956], dtype=float32),\n",
       " array([  0.80800003,   2.06299996,  11.77499962], dtype=float32),\n",
       " array([ 3.88199997,  2.49300003,  8.78899956], dtype=float32),\n",
       " array([ 4.59399986,  1.21800005,  5.31500006], dtype=float32),\n",
       " array([ 4.23999977,  0.917     ,  0.59299999], dtype=float32),\n",
       " array([ 0.63099998, -2.81299996,  3.37700009], dtype=float32),\n",
       " array([-2.296     ,  0.50700003,  2.00600004], dtype=float32),\n",
       " array([ 0.38600001,  2.79399991, -1.31799996], dtype=float32),\n",
       " array([ 0.59899998, -2.60800004, -1.95000005], dtype=float32),\n",
       " array([-4.73699999, -2.43600011, -0.53399998], dtype=float32),\n",
       " array([-4.63999987,  2.05299997, -3.48699999], dtype=float32),\n",
       " array([-1.15100002, -0.329     , -6.67199993], dtype=float32),\n",
       " array([-3.9460001 , -4.90899992, -5.58599997], dtype=float32),\n",
       " array([-7.57000017, -2.75399995, -6.8670001 ], dtype=float32),\n",
       " array([-5.82399988,  1.05799997, -9.37800026], dtype=float32),\n",
       " array([ -3.41100001,  -2.898     , -11.6239996 ], dtype=float32),\n",
       " array([ -7.52400017,  -6.08099985, -10.25599957], dtype=float32),\n",
       " array([-11.06400013,  -2.36400008, -10.9630003 ], dtype=float32),\n",
       " array([ -7.75099993,  -0.34200001, -14.78899956], dtype=float32),\n",
       " array([ -8.11100006,  -4.36399984, -16.67499924], dtype=float32),\n",
       " array([-11.93299961,  -6.48699999, -14.63199997], dtype=float32),\n",
       " array([-13.97700024,  -2.00200009, -16.10400009], dtype=float32),\n",
       " array([-10.98600006,  -0.055     , -19.14800072], dtype=float32),\n",
       " array([ -9.49400043,  -5.13700008, -22.13299942], dtype=float32),\n",
       " array([ -9.00399971,  -0.83600003, -25.07900047], dtype=float32),\n",
       " array([ -6.62599993,   0.81300002, -20.07999992], dtype=float32),\n",
       " array([ -3.17799997,  -1.78499997, -21.61800003], dtype=float32),\n",
       " array([ -3.61800003,  -0.75      , -16.97599983], dtype=float32),\n",
       " array([ -4.92999983,  -6.17600012, -17.33200073], dtype=float32),\n",
       " array([ -4.17500019,  -7.74100018, -12.07199955], dtype=float32),\n",
       " array([ -0.852     , -11.41699982, -15.16800022], dtype=float32),\n",
       " array([ -4.5999999 , -15.38199997, -14.85099983], dtype=float32),\n",
       " array([ -1.245     , -15.72599983, -12.2329998 ], dtype=float32),\n",
       " array([  0.09      , -11.23700047, -10.9829998 ], dtype=float32),\n",
       " array([ -5.39499998, -12.56299973,  -9.91399956], dtype=float32),\n",
       " array([ -2.90899992, -16.86100006,  -7.93900013], dtype=float32),\n",
       " array([  1.13800001, -14.24699974,  -6.22800016], dtype=float32),\n",
       " array([-2.58699989, -9.97500038, -5.84000015], dtype=float32),\n",
       " array([ -5.59899998, -13.82499981,  -3.69300008], dtype=float32),\n",
       " array([ -0.95999998, -15.78299999,  -1.69099998], dtype=float32),\n",
       " array([  0.33199999, -10.60599995,  -0.972     ], dtype=float32),\n",
       " array([-4.92399979, -9.97299957,  0.047     ], dtype=float32),\n",
       " array([ -4.75299978, -14.74499989,   2.36800003], dtype=float32),\n",
       " array([  0.092     , -13.09500027,   3.97300005], dtype=float32),\n",
       " array([-1.96899998, -9.83899975,  6.12300014], dtype=float32),\n",
       " array([ -6.64300013, -10.88399982,   5.59299994], dtype=float32),\n",
       " array([ -5.50299978, -14.77400017,   8.49100018], dtype=float32),\n",
       " array([ -2.56999993, -12.03899956,  12.19999981], dtype=float32),\n",
       " array([ -0.215     , -15.62800026,   7.98400021], dtype=float32),\n",
       " array([  2.43000007, -12.00199986,   6.53100014], dtype=float32),\n",
       " array([ 2.86500001, -8.70199966,  9.98200035], dtype=float32),\n",
       " array([ 1.14199996, -5.69399977,  6.76999998], dtype=float32),\n",
       " array([  2.7190001 ,  -1.89900005,  10.03600025], dtype=float32),\n",
       " array([-1.86399996, -1.37199998,  7.85900021], dtype=float32),\n",
       " array([ -5.86800003,  -2.93000007,  11.29500008], dtype=float32),\n",
       " array([-8.61299992, -6.16400003,  8.11200047], dtype=float32),\n",
       " array([-10.01500034,  -1.87300003,   7.83400011], dtype=float32),\n",
       " array([-5.84899998,  0.579     ,  7.60099983], dtype=float32),\n",
       " array([-5.79300022, -3.40300012,  4.079     ], dtype=float32),\n",
       " array([-11.15200043,  -2.33400011,   3.65799999], dtype=float32),\n",
       " array([-9.43500042,  2.7650001 ,  3.95000005], dtype=float32),\n",
       " array([-6.71400023,  1.69599998,  0.498     ], dtype=float32),\n",
       " array([-8.95899963, -2.20700002, -1.31200004], dtype=float32),\n",
       " array([-12.33399963,   1.84800005,  -0.82499999], dtype=float32),\n",
       " array([-8.16499996,  4.92000008, -2.5999999 ], dtype=float32),\n",
       " array([-7.8670001 ,  2.16599989, -6.04099989], dtype=float32),\n",
       " array([-12.13500023,  -0.184     ,  -6.17000008], dtype=float32),\n",
       " array([-13.04399967,   5.03599977,  -5.91499996], dtype=float32),\n",
       " array([-8.75399971,  5.98099995, -8.87899971], dtype=float32),\n",
       " array([ -9.94200039,   1.22500002, -11.36100006], dtype=float32),\n",
       " array([-14.97900009,   2.977     , -10.63500023], dtype=float32),\n",
       " array([-13.20400047,   7.8210001 , -11.78800011], dtype=float32),\n",
       " array([ -9.66600037,   5.60400009, -14.98900032], dtype=float32),\n",
       " array([-13.46700001,   2.0079999 , -16.30800056], dtype=float32),\n",
       " array([-16.8010006 ,   6.40199995, -16.32999992], dtype=float32),\n",
       " array([-13.06499958,   9.33600044, -18.20400047], dtype=float32)]"
      ]
     },
     "execution_count": 8,
     "metadata": {},
     "output_type": "execute_result"
    }
   ],
   "source": [
    "native_coords"
   ]
  },
  {
   "cell_type": "code",
   "execution_count": 14,
   "metadata": {
    "collapsed": true
   },
   "outputs": [],
   "source": [
    "mu, sigma = 0, 0.001 # mean and standard deviation\n",
    "X = np.random.normal(mu, sigma, (int(n),2))"
   ]
  },
  {
   "cell_type": "code",
   "execution_count": 10,
   "metadata": {},
   "outputs": [
    {
     "data": {
      "text/plain": [
       "(1000000, 2)"
      ]
     },
     "execution_count": 10,
     "metadata": {},
     "output_type": "execute_result"
    }
   ],
   "source": [
    "s.shape"
   ]
  },
  {
   "cell_type": "code",
   "execution_count": 21,
   "metadata": {
    "collapsed": true
   },
   "outputs": [],
   "source": [
    "import numpy as np\n",
    "import matplotlib.pyplot as plt\n",
    "from sklearn import linear_model, datasets\n",
    "\n",
    "# import some data to play with\n",
    "# iris = datasets.load_iris()\n",
    "# X = iris.data[:, :2]  # we only take the first two features.\n",
    "# Y = iris.target\n",
    "n = 1e6\n",
    "mu, sigma = 0, 100}} # mean and standard deviation\n",
    "X = np.random.normal(mu, sigma, (int(n),2))\n",
    "\n",
    "# X = np.random.rand(int(n),2)\n",
    "# X = np.random.randint(2, size=(100,2))\n",
    "Y = np.random.randint(2, size=int(n))\n",
    "h = .02  # step size in the mesh"
   ]
  },
  {
   "cell_type": "code",
   "execution_count": 22,
   "metadata": {},
   "outputs": [
    {
     "data": {
      "text/plain": [
       "array([[  9.30496021e-06,   2.02059006e-05]])"
      ]
     },
     "execution_count": 22,
     "metadata": {},
     "output_type": "execute_result"
    }
   ],
   "source": [
    "logreg = linear_model.LogisticRegression(C=1)\n",
    "\n",
    "# we create an instance of Neighbours Classifier and fit the data.\n",
    "logreg.fit(X, Y)\n",
    "\n",
    "# # Plot the decision boundary. For that, we will assign a color to each\n",
    "# # point in the mesh [x_min, x_max]x[y_min, y_max].\n",
    "# x_min, x_max = X[:, 0].min() - .5, X[:, 0].max() + .5\n",
    "# y_min, y_max = X[:, 1].min() - .5, X[:, 1].max() + .5\n",
    "# xx, yy = np.meshgrid(np.arange(x_min, x_max, h), np.arange(y_min, y_max, h))\n",
    "# Z = logreg.predict(np.c_[xx.ravel(), yy.ravel()])\n",
    "\n",
    "# # Put the result into a color plot\n",
    "# Z = Z.reshape(xx.shape)\n",
    "# plt.figure(1, figsize=(4, 3))\n",
    "# plt.pcolormesh(xx, yy, Z, cmap=plt.cm.Paired)\n",
    "\n",
    "# # Plot also the training points\n",
    "# plt.scatter(X[:, 0], X[:, 1], c=Y, edgecolors='k', cmap=plt.cm.Paired)\n",
    "# plt.xlabel('Sepal length')\n",
    "# plt.ylabel('Sepal width')\n",
    "\n",
    "# plt.xlim(xx.min(), xx.max())\n",
    "# plt.ylim(yy.min(), yy.max())\n",
    "# plt.xticks(())\n",
    "# plt.yticks(())\n",
    "\n",
    "plt.show()\n",
    "logreg.coef_"
   ]
  },
  {
   "cell_type": "code",
   "execution_count": 39,
   "metadata": {},
   "outputs": [
    {
     "data": {
      "text/plain": [
       "array([[ 0.00261729,  0.00699159]])"
      ]
     },
     "execution_count": 39,
     "metadata": {},
     "output_type": "execute_result"
    }
   ],
   "source": [
    "\n",
    "\n",
    "logreg = linear_model.LogisticRegression(C=0.001)\n",
    "\n",
    "# we create an instance of Neighbours Classifier and fit the data.\n",
    "logreg.fit(X, Y)\n",
    "\n",
    "# # Plot the decision boundary. For that, we will assign a color to each\n",
    "# # point in the mesh [x_min, x_max]x[y_min, y_max].\n",
    "# x_min, x_max = X[:, 0].min() - .5, X[:, 0].max() + .5\n",
    "# y_min, y_max = X[:, 1].min() - .5, X[:, 1].max() + .5\n",
    "# xx, yy = np.meshgrid(np.arange(x_min, x_max, h), np.arange(y_min, y_max, h))\n",
    "# Z = logreg.predict(np.c_[xx.ravel(), yy.ravel()])\n",
    "\n",
    "# # Put the result into a color plot\n",
    "# Z = Z.reshape(xx.shape)\n",
    "# plt.figure(1, figsize=(4, 3))\n",
    "# plt.pcolormesh(xx, yy, Z, cmap=plt.cm.Paired)\n",
    "\n",
    "# # Plot also the training points\n",
    "# plt.scatter(X[:, 0], X[:, 1], c=Y, edgecolors='k', cmap=plt.cm.Paired)\n",
    "# plt.xlabel('Sepal length')\n",
    "# plt.ylabel('Sepal width')\n",
    "\n",
    "# plt.xlim(xx.min(), xx.max())\n",
    "# plt.ylim(yy.min(), yy.max())\n",
    "# plt.xticks(())\n",
    "# plt.yticks(())\n",
    "\n",
    "# plt.show()\n",
    "logreg.coef_"
   ]
  },
  {
   "cell_type": "code",
   "execution_count": 18,
   "metadata": {
    "scrolled": true
   },
   "outputs": [
    {
     "data": {
      "text/plain": [
       "array([[-0.55421509,  1.08626766]])"
      ]
     },
     "execution_count": 18,
     "metadata": {},
     "output_type": "execute_result"
    }
   ],
   "source": [
    "logreg.coef_"
   ]
  },
  {
   "cell_type": "code",
   "execution_count": 21,
   "metadata": {},
   "outputs": [
    {
     "data": {
      "image/png": "[encoded data removed]",
      "text/plain": [
       "<matplotlib.figure.Figure at 0x1a220f6d68>"
      ]
     },
     "metadata": {},
     "output_type": "display_data"
    },
    {
     "data": {
      "text/plain": [
       "array([[-0.37177846,  0.69021342]])"
      ]
     },
     "execution_count": 21,
     "metadata": {},
     "output_type": "execute_result"
    }
   ],
   "source": [
    "logreg = linear_model.LogisticRegression(C=1)\n",
    "\n",
    "# we create an instance of Neighbours Classifier and fit the data.\n",
    "logreg.fit(X, Y)\n",
    "\n",
    "# Plot the decision boundary. For that, we will assign a color to each\n",
    "# point in the mesh [x_min, x_max]x[y_min, y_max].\n",
    "x_min, x_max = X[:, 0].min() - .5, X[:, 0].max() + .5\n",
    "y_min, y_max = X[:, 1].min() - .5, X[:, 1].max() + .5\n",
    "xx, yy = np.meshgrid(np.arange(x_min, x_max, h), np.arange(y_min, y_max, h))\n",
    "Z = logreg.predict(np.c_[xx.ravel(), yy.ravel()])\n",
    "\n",
    "# Put the result into a color plot\n",
    "Z = Z.reshape(xx.shape)\n",
    "plt.figure(1, figsize=(4, 3))\n",
    "plt.pcolormesh(xx, yy, Z, cmap=plt.cm.Paired)\n",
    "\n",
    "# Plot also the training points\n",
    "plt.scatter(X[:, 0], X[:, 1], c=Y, edgecolors='k', cmap=plt.cm.Paired)\n",
    "plt.xlabel('Sepal length')\n",
    "plt.ylabel('Sepal width')\n",
    "\n",
    "plt.xlim(xx.min(), xx.max())\n",
    "plt.ylim(yy.min(), yy.max())\n",
    "plt.xticks(())\n",
    "plt.yticks(())\n",
    "\n",
    "plt.show()\n",
    "logreg.coef_"
   ]
  },
  {
   "cell_type": "code",
   "execution_count": 5,
   "metadata": {},
   "outputs": [
    {
     "data": {
      "text/plain": [
       "(150, 2)"
      ]
     },
     "execution_count": 5,
     "metadata": {},
     "output_type": "execute_result"
    }
   ],
   "source": [
    "X.shape"
   ]
  },
  {
   "cell_type": "code",
   "execution_count": 10,
   "metadata": {},
   "outputs": [
    {
     "data": {
      "text/plain": [
       "(150,)"
      ]
     },
     "execution_count": 10,
     "metadata": {},
     "output_type": "execute_result"
    }
   ],
   "source": [
    "Y.shape"
   ]
  },
  {
   "cell_type": "code",
   "execution_count": 11,
   "metadata": {},
   "outputs": [
    {
     "data": {
      "text/plain": [
       "array([0, 0, 0, 0, 1, 1, 0, 1, 1, 0, 1, 0, 0, 0, 1, 0, 1, 0, 0, 1, 0, 1, 1,\n",
       "       1, 1, 0, 0, 1, 1, 0, 0, 1, 0, 0, 1, 0, 1, 0, 1, 0, 1, 1, 0, 0, 0, 0,\n",
       "       1, 1, 0, 1, 1, 1, 0, 1, 0, 0, 0, 0, 0, 0, 0, 1, 0, 1, 0, 1, 1, 0, 1,\n",
       "       1, 1, 0, 1, 0, 1, 0, 0, 1, 1, 0, 1, 0, 0, 1, 0, 0, 1, 1, 1, 0, 0, 1,\n",
       "       1, 0, 0, 0, 1, 0, 1, 1])"
      ]
     },
     "execution_count": 11,
     "metadata": {},
     "output_type": "execute_result"
    }
   ],
   "source": [
    "Y = np.random.randint(2, size=100)"
   ]
  },
  {
   "cell_type": "code",
   "execution_count": 8,
   "metadata": {},
   "outputs": [
    {
     "data": {
      "text/plain": [
       "array([[ 0.2307863 , -0.48469222],\n",
       "       [ 0.40605838, -0.11351738],\n",
       "       [-0.23503438,  0.11866574],\n",
       "       [-0.10383742, -0.45509079],\n",
       "       [ 0.35625542,  0.40691158],\n",
       "       [-0.05025682, -0.13459328],\n",
       "       [ 0.14278331,  0.47035423],\n",
       "       [-0.13149812, -0.05816769],\n",
       "       [ 0.30448409,  0.1261345 ],\n",
       "       [ 0.36001408, -0.14128981],\n",
       "       [ 0.48362139, -0.19231098],\n",
       "       [ 0.37094612, -0.30143582],\n",
       "       [-0.17272141,  0.49316   ],\n",
       "       [ 0.15740091, -0.16811762],\n",
       "       [ 0.44076051, -0.11703988],\n",
       "       [-0.00073148, -0.37747617],\n",
       "       [ 0.21077316, -0.17760818],\n",
       "       [ 0.2998303 ,  0.12776617],\n",
       "       [-0.36623186,  0.04595447],\n",
       "       [ 0.11545453,  0.22159948],\n",
       "       [-0.12810018, -0.37659821],\n",
       "       [ 0.43964474, -0.37573036],\n",
       "       [-0.37568209, -0.33172956],\n",
       "       [-0.19409524,  0.08899616],\n",
       "       [ 0.48291882, -0.18241232],\n",
       "       [ 0.20637445,  0.00142292],\n",
       "       [ 0.1486748 ,  0.18465496],\n",
       "       [ 0.41048277, -0.43389116],\n",
       "       [-0.43529362,  0.26557567],\n",
       "       [ 0.30366128, -0.3784693 ],\n",
       "       [ 0.44089316,  0.38661432],\n",
       "       [ 0.31971199, -0.22912049],\n",
       "       [-0.24857855, -0.45785898],\n",
       "       [ 0.39815821,  0.47531939],\n",
       "       [-0.37921676, -0.39976975],\n",
       "       [ 0.31366945, -0.46619398],\n",
       "       [-0.163613  ,  0.13658531],\n",
       "       [ 0.47864265, -0.09587867],\n",
       "       [ 0.21862261,  0.44887846],\n",
       "       [ 0.10247097,  0.40250188],\n",
       "       [-0.46621419,  0.46532218],\n",
       "       [ 0.27929643, -0.44103745],\n",
       "       [ 0.13881789, -0.3298341 ],\n",
       "       [-0.02734113,  0.08597208],\n",
       "       [ 0.31006987, -0.18061379],\n",
       "       [ 0.31482456,  0.13126331],\n",
       "       [ 0.38613767,  0.17036133],\n",
       "       [ 0.13114865, -0.189795  ],\n",
       "       [ 0.32950238,  0.11891771],\n",
       "       [-0.30141421,  0.15321047],\n",
       "       [ 0.4391253 ,  0.22187187],\n",
       "       [-0.35573877,  0.10456775],\n",
       "       [ 0.0041601 ,  0.17523155],\n",
       "       [ 0.06854497,  0.44706421],\n",
       "       [-0.07204829, -0.4689437 ],\n",
       "       [-0.39180908, -0.18389676],\n",
       "       [ 0.03856116, -0.49634087],\n",
       "       [ 0.46613886, -0.15706079],\n",
       "       [ 0.4454318 , -0.00340083],\n",
       "       [ 0.4089974 , -0.05593884],\n",
       "       [ 0.07606376,  0.07346124],\n",
       "       [-0.3733226 ,  0.20559858],\n",
       "       [ 0.08608546, -0.48701153],\n",
       "       [-0.11008255, -0.15542409],\n",
       "       [ 0.46770615, -0.34497369],\n",
       "       [ 0.0504103 ,  0.1567277 ],\n",
       "       [ 0.03093885, -0.19596107],\n",
       "       [-0.06817253,  0.18164646],\n",
       "       [ 0.43475167, -0.46117899],\n",
       "       [ 0.0565189 , -0.14173045],\n",
       "       [-0.28725629,  0.22623906],\n",
       "       [-0.24675773, -0.31580697],\n",
       "       [ 0.07033375, -0.05043594],\n",
       "       [-0.30160583, -0.13420784],\n",
       "       [-0.25162586,  0.09638681],\n",
       "       [-0.11941317,  0.40619313],\n",
       "       [ 0.22232561,  0.37570006],\n",
       "       [-0.42441704,  0.31069666],\n",
       "       [-0.37053954, -0.42356599],\n",
       "       [-0.23994549,  0.26956125],\n",
       "       [-0.05762309, -0.48027431],\n",
       "       [ 0.22055568,  0.49943802],\n",
       "       [-0.47813803,  0.39693139],\n",
       "       [ 0.47932254,  0.01266483],\n",
       "       [-0.14785689,  0.15413381],\n",
       "       [-0.2524341 ,  0.44547018],\n",
       "       [ 0.13743406,  0.02402207],\n",
       "       [ 0.38632912,  0.04147356],\n",
       "       [ 0.43688478,  0.47654825],\n",
       "       [-0.08829368,  0.37958363],\n",
       "       [-0.2647181 ,  0.28889872],\n",
       "       [-0.3204166 ,  0.41147538],\n",
       "       [ 0.12062125,  0.00788861],\n",
       "       [-0.2451592 , -0.3062482 ],\n",
       "       [-0.12160834,  0.39290665],\n",
       "       [ 0.32691456, -0.17592159],\n",
       "       [-0.08200787,  0.04147399],\n",
       "       [ 0.1918122 ,  0.47885276],\n",
       "       [ 0.12679796,  0.15078735],\n",
       "       [ 0.11067543,  0.1144015 ]])"
      ]
     },
     "execution_count": 8,
     "metadata": {},
     "output_type": "execute_result"
    }
   ],
   "source": [
    "X = np.random.rand(100,2) - 0.5"
   ]
  },
  {
   "cell_type": "code",
   "execution_count": 2,
   "metadata": {
    "collapsed": true
   },
   "outputs": [],
   "source": [
    "def expand_grid(dictionary):\n",
    "    return pd.DataFrame([row for row in product(*dictionary.values())],\n",
    "                        columns=dictionary.keys())"
   ]
  },
  {
   "cell_type": "code",
   "execution_count": 3,
   "metadata": {
    "collapsed": true
   },
   "outputs": [],
   "source": [
    "\n",
    "modify_list = {\"MY_RG\":[0.4],\n",
    "                \"MY_LIPID\":[2],\n",
    "                \"MY_RUN\":list(range(12))}"
   ]
  },
  {
   "cell_type": "code",
   "execution_count": 5,
   "metadata": {
    "collapsed": true
   },
   "outputs": [],
   "source": [
    "data = expand_grid(modify_list)"
   ]
  },
  {
   "cell_type": "code",
   "execution_count": 13,
   "metadata": {},
   "outputs": [
    {
     "data": {
      "text/html": [
       "<div>\n",
       "<style>\n",
       "    .dataframe thead tr:only-child th {\n",
       "        text-align: right;\n",
       "    }\n",
       "\n",
       "    .dataframe thead th {\n",
       "        text-align: left;\n",
       "    }\n",
       "\n",
       "    .dataframe tbody tr th {\n",
       "        vertical-align: top;\n",
       "    }\n",
       "</style>\n",
       "<table border=\"1\" class=\"dataframe\">\n",
       "  <thead>\n",
       "    <tr style=\"text-align: right;\">\n",
       "      <th></th>\n",
       "      <th>MY_RG</th>\n",
       "      <th>MY_LIPID</th>\n",
       "      <th>MY_RUN</th>\n",
       "    </tr>\n",
       "  </thead>\n",
       "  <tbody>\n",
       "    <tr>\n",
       "      <th>0</th>\n",
       "      <td>0.4</td>\n",
       "      <td>2</td>\n",
       "      <td>0</td>\n",
       "    </tr>\n",
       "    <tr>\n",
       "      <th>1</th>\n",
       "      <td>0.4</td>\n",
       "      <td>2</td>\n",
       "      <td>1</td>\n",
       "    </tr>\n",
       "    <tr>\n",
       "      <th>2</th>\n",
       "      <td>0.4</td>\n",
       "      <td>2</td>\n",
       "      <td>2</td>\n",
       "    </tr>\n",
       "    <tr>\n",
       "      <th>3</th>\n",
       "      <td>0.4</td>\n",
       "      <td>2</td>\n",
       "      <td>3</td>\n",
       "    </tr>\n",
       "    <tr>\n",
       "      <th>4</th>\n",
       "      <td>0.4</td>\n",
       "      <td>2</td>\n",
       "      <td>4</td>\n",
       "    </tr>\n",
       "    <tr>\n",
       "      <th>5</th>\n",
       "      <td>0.4</td>\n",
       "      <td>2</td>\n",
       "      <td>5</td>\n",
       "    </tr>\n",
       "    <tr>\n",
       "      <th>6</th>\n",
       "      <td>0.4</td>\n",
       "      <td>2</td>\n",
       "      <td>6</td>\n",
       "    </tr>\n",
       "    <tr>\n",
       "      <th>7</th>\n",
       "      <td>0.4</td>\n",
       "      <td>2</td>\n",
       "      <td>7</td>\n",
       "    </tr>\n",
       "    <tr>\n",
       "      <th>8</th>\n",
       "      <td>0.4</td>\n",
       "      <td>2</td>\n",
       "      <td>8</td>\n",
       "    </tr>\n",
       "    <tr>\n",
       "      <th>9</th>\n",
       "      <td>0.4</td>\n",
       "      <td>2</td>\n",
       "      <td>9</td>\n",
       "    </tr>\n",
       "    <tr>\n",
       "      <th>10</th>\n",
       "      <td>0.4</td>\n",
       "      <td>2</td>\n",
       "      <td>10</td>\n",
       "    </tr>\n",
       "    <tr>\n",
       "      <th>11</th>\n",
       "      <td>0.4</td>\n",
       "      <td>2</td>\n",
       "      <td>11</td>\n",
       "    </tr>\n",
       "  </tbody>\n",
       "</table>\n",
       "</div>"
      ],
      "text/plain": [
       "    MY_RG  MY_LIPID  MY_RUN\n",
       "0     0.4         2       0\n",
       "1     0.4         2       1\n",
       "2     0.4         2       2\n",
       "3     0.4         2       3\n",
       "4     0.4         2       4\n",
       "5     0.4         2       5\n",
       "6     0.4         2       6\n",
       "7     0.4         2       7\n",
       "8     0.4         2       8\n",
       "9     0.4         2       9\n",
       "10    0.4         2      10\n",
       "11    0.4         2      11"
      ]
     },
     "execution_count": 13,
     "metadata": {},
     "output_type": "execute_result"
    }
   ],
   "source": [
    "data"
   ]
  },
  {
   "cell_type": "code",
   "execution_count": 18,
   "metadata": {},
   "outputs": [
    {
     "data": {
      "text/plain": [
       "0.40000000000000002"
      ]
     },
     "execution_count": 18,
     "metadata": {},
     "output_type": "execute_result"
    }
   ],
   "source": [
    "data[\"MY_RG\"][9]"
   ]
  },
  {
   "cell_type": "code",
   "execution_count": 14,
   "metadata": {},
   "outputs": [
    {
     "name": "stdout",
     "output_type": "stream",
     "text": [
      "[ 0.4  2.   0. ]\n",
      "[ 0.4  2.   1. ]\n",
      "[ 0.4  2.   2. ]\n",
      "[ 0.4  2.   3. ]\n",
      "[ 0.4  2.   4. ]\n",
      "[ 0.4  2.   5. ]\n",
      "[ 0.4  2.   6. ]\n",
      "[ 0.4  2.   7. ]\n",
      "[ 0.4  2.   8. ]\n",
      "[ 0.4  2.   9. ]\n",
      "[  0.4   2.   10. ]\n",
      "[  0.4   2.   11. ]\n"
     ]
    }
   ],
   "source": [
    "for i in data.values:\n",
    "    print(i)"
   ]
  },
  {
   "cell_type": "code",
   "execution_count": 10,
   "metadata": {
    "collapsed": true
   },
   "outputs": [],
   "source": [
    "def expand_grid2(data_dict):\n",
    "    \"\"\"Create a dataframe from every combination of given values.\"\"\"\n",
    "    rows = product(*data_dict.values())\n",
    "    return pd.DataFrame.from_records(rows, columns=data_dict.keys())"
   ]
  },
  {
   "cell_type": "code",
   "execution_count": 19,
   "metadata": {
    "collapsed": true
   },
   "outputs": [],
   "source": [
    "d2 = expand_grid2(modify_list)"
   ]
  },
  {
   "cell_type": "code",
   "execution_count": 20,
   "metadata": {},
   "outputs": [
    {
     "data": {
      "text/plain": [
       "0.40000000000000002"
      ]
     },
     "execution_count": 20,
     "metadata": {},
     "output_type": "execute_result"
    }
   ],
   "source": [
    "d2[\"MY_RG\"][9]"
   ]
  },
  {
   "cell_type": "code",
   "execution_count": 22,
   "metadata": {},
   "outputs": [
    {
     "name": "stdout",
     "output_type": "stream",
     "text": [
      "0 MY_RG       0.4\n",
      "MY_LIPID    2.0\n",
      "MY_RUN      0.0\n",
      "Name: 0, dtype: float64\n",
      "1 MY_RG       0.4\n",
      "MY_LIPID    2.0\n",
      "MY_RUN      1.0\n",
      "Name: 1, dtype: float64\n",
      "2 MY_RG       0.4\n",
      "MY_LIPID    2.0\n",
      "MY_RUN      2.0\n",
      "Name: 2, dtype: float64\n",
      "3 MY_RG       0.4\n",
      "MY_LIPID    2.0\n",
      "MY_RUN      3.0\n",
      "Name: 3, dtype: float64\n",
      "4 MY_RG       0.4\n",
      "MY_LIPID    2.0\n",
      "MY_RUN      4.0\n",
      "Name: 4, dtype: float64\n",
      "5 MY_RG       0.4\n",
      "MY_LIPID    2.0\n",
      "MY_RUN      5.0\n",
      "Name: 5, dtype: float64\n",
      "6 MY_RG       0.4\n",
      "MY_LIPID    2.0\n",
      "MY_RUN      6.0\n",
      "Name: 6, dtype: float64\n",
      "7 MY_RG       0.4\n",
      "MY_LIPID    2.0\n",
      "MY_RUN      7.0\n",
      "Name: 7, dtype: float64\n",
      "8 MY_RG       0.4\n",
      "MY_LIPID    2.0\n",
      "MY_RUN      8.0\n",
      "Name: 8, dtype: float64\n",
      "9 MY_RG       0.4\n",
      "MY_LIPID    2.0\n",
      "MY_RUN      9.0\n",
      "Name: 9, dtype: float64\n",
      "10 MY_RG        0.4\n",
      "MY_LIPID     2.0\n",
      "MY_RUN      10.0\n",
      "Name: 10, dtype: float64\n",
      "11 MY_RG        0.4\n",
      "MY_LIPID     2.0\n",
      "MY_RUN      11.0\n",
      "Name: 11, dtype: float64\n"
     ]
    }
   ],
   "source": [
    "for index, row in d2.iterrows():\n",
    "    print(index, row)"
   ]
  },
  {
   "cell_type": "code",
   "execution_count": 24,
   "metadata": {},
   "outputs": [
    {
     "data": {
      "text/plain": [
       "int"
      ]
     },
     "execution_count": 24,
     "metadata": {},
     "output_type": "execute_result"
    }
   ],
   "source": [
    "type(list(range(10))[0])"
   ]
  },
  {
   "cell_type": "code",
   "execution_count": 27,
   "metadata": {},
   "outputs": [
    {
     "name": "stdout",
     "output_type": "stream",
     "text": [
      "MY_RG\n",
      "MY_LIPID\n",
      "MY_RUN\n"
     ]
    }
   ],
   "source": [
    "for key in d2.keys():\n",
    "    print(key)"
   ]
  },
  {
   "cell_type": "code",
   "execution_count": null,
   "metadata": {
    "collapsed": true
   },
   "outputs": [],
   "source": []
  }
 ],
 "metadata": {
  "kernelspec": {
   "display_name": "Python 3",
   "language": "python",
   "name": "python3"
  },
  "language_info": {
   "codemirror_mode": {
    "name": "ipython",
    "version": 3
   },
   "file_extension": ".py",
   "mimetype": "text/x-python",
   "name": "python",
   "nbconvert_exporter": "python",
   "pygments_lexer": "ipython3",
   "version": "3.6.3"
  }
 },
 "nbformat": 4,
 "nbformat_minor": 2
}
