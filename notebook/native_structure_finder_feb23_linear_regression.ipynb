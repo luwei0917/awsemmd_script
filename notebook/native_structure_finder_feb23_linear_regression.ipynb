{
 "cells": [
  {
   "cell_type": "code",
   "execution_count": 3,
   "metadata": {
    "collapsed": true
   },
   "outputs": [],
   "source": [
    "import numpy as np\n",
    "import pandas as pd\n",
    "import matplotlib\n",
    "import matplotlib.pyplot as plt\n",
    "import os\n",
    "from datetime import datetime\n",
    "import seaborn as sns\n",
    "%matplotlib inline\n",
    "\n",
    "plt.rcParams['axes.labelsize'] = 14\n",
    "plt.rcParams['xtick.labelsize'] = 12\n",
    "plt.rcParams['ytick.labelsize'] = 12\n",
    "plt.rcParams['figure.figsize'] = (10,6.180)    #golden ratio\n",
    "# Where to save the figures\n",
    "PROJECT_ROOT_DIR = \".\"\n",
    "CHAPTER_ID = \"classification\"\n",
    "\n",
    "def save_fig(fig_id, tight_layout=True):\n",
    "    path = os.path.join(PROJECT_ROOT_DIR, \"images\", CHAPTER_ID, fig_id + \".png\")\n",
    "    print(\"Saving figure\", fig_id)\n",
    "    if tight_layout:\n",
    "        plt.tight_layout()\n",
    "    plt.savefig(path, format='png', dpi=300)"
   ]
  },
  {
   "cell_type": "code",
   "execution_count": 14,
   "metadata": {
    "collapsed": true
   },
   "outputs": [],
   "source": [
    "from sklearn.base import BaseEstimator, TransformerMixin\n",
    "from sklearn.pipeline import Pipeline\n",
    "from sklearn.preprocessing import StandardScaler\n",
    "from sklearn.pipeline import FeatureUnion\n",
    "from sklearn.preprocessing import PolynomialFeatures\n",
    "from sklearn.ensemble import RandomForestClassifier\n",
    "from sklearn.ensemble import VotingClassifier\n",
    "from sklearn.linear_model import LogisticRegression\n",
    "from sklearn.svm import SVC\n",
    "from sklearn.linear_model import SGDClassifier\n",
    "\n",
    "from sklearn.model_selection import cross_val_score\n",
    "from sklearn.model_selection import cross_val_predict\n",
    "from sklearn.metrics import confusion_matrix\n",
    "from sklearn.metrics import accuracy_score\n",
    "\n",
    "\n",
    "# Create a class to select numerical or categorical columns \n",
    "# since Scikit-Learn doesn't handle DataFrames yet\n",
    "class DataFrameSelector(BaseEstimator, TransformerMixin):\n",
    "    def __init__(self, attribute_names):\n",
    "        self.attribute_names = attribute_names\n",
    "    def fit(self, X, y=None):\n",
    "        return self\n",
    "    def transform(self, X):\n",
    "        return X[self.attribute_names].values\n",
    "class RemoveFirstFrame(BaseEstimator, TransformerMixin):\n",
    "    def __init__(self, frame):\n",
    "        self.frame = frame\n",
    "    def fit(self, X, y=None):\n",
    "        return self\n",
    "    def transform(self, X):\n",
    "        return X.query(f\"Step % {frame} != 1\")\n",
    "def choose_top_rw(data,n=5):\n",
    "    return data.assign(chosen=pd.DataFrame.rank(data.Rw)<=n)\n",
    "def choose_top_vtotal(data,n=5):\n",
    "    return data.assign(chosen=pd.DataFrame.rank(data.VTotal)<=n)\n",
    "def choose_top(data,col=\"GDT\", n=5):\n",
    "    return data.assign(chosen=pd.DataFrame.rank(data[col], ascending=False)<=n)"
   ]
  },
  {
   "cell_type": "code",
   "execution_count": 50,
   "metadata": {
    "collapsed": true
   },
   "outputs": [],
   "source": [
    "raw_test_data = pd.read_csv(\"/Users/weilu/Research/data/test_data/test_data_4.csv\")\n",
    "raw_test_data_2 = raw_test_data.drop_duplicates(subset=['Qw', 'Rw', \"VTotal\"])\n",
    "raw_test_data_2 = raw_test_data_2.assign(isGood=raw_test_data_2.groupby(\"Name\")[\"GDT\"].rank(ascending=False, method='first') < 21)\n",
    "raw_test_data = raw_test_data_2\n",
    "raw_data_T0784 = raw_test_data.groupby(\"Name\").get_group(\"T0784\")\n",
    "raw_data_T0792 = raw_test_data.groupby(\"Name\").get_group(\"T0792\")\n",
    "# raw_data = pd.concat([raw_data_T0784, raw_data_T0792])\n",
    "# raw_data = raw_data_T0792\n",
    "raw_data = raw_test_data.groupby(\"Name\").get_group(\"1MBA\")\n",
    "\n",
    "chosen_by_rw = raw_test_data.groupby(\"Name\").apply(choose_top_rw)\n",
    "chosen_by_vtotal = raw_test_data.groupby(\"Name\").apply(choose_top_vtotal)\n",
    "top_rw = chosen_by_rw.query(\"chosen==True\")\n",
    "top_vtotal = chosen_by_vtotal.query(\"chosen==True\")\n",
    "best_by_GDT = raw_test_data.groupby(\"Name\").apply(choose_top, col=\"GDT\").query(\"chosen==True\")"
   ]
  },
  {
   "cell_type": "code",
   "execution_count": null,
   "metadata": {},
   "outputs": [],
   "source": [
    "g = sns.FacetGrid(raw_test_data, col=\"Name\", col_wrap=4)\n",
    "g.map(plt.scatter, \"GDT\", \"Qw\")"
   ]
  },
  {
   "cell_type": "code",
   "execution_count": null,
   "metadata": {},
   "outputs": [],
   "source": [
    "g = sns.FacetGrid(raw_test_data, col=\"Name\", col_wrap=4)\n",
    "g.map(plt.scatter, \"VTotal\", \"Qw\")"
   ]
  },
  {
   "cell_type": "code",
   "execution_count": null,
   "metadata": {},
   "outputs": [],
   "source": [
    "g = sns.FacetGrid(raw_test_data, col=\"Name\", col_wrap=4)\n",
    "g.map(plt.scatter, \"Rw\", \"Qw\")\n",
    "# sns.pointplot(chosen.Rw, chosen.Qw, c=\"red\", ax=g.facet_axis(0,0))"
   ]
  },
  {
   "cell_type": "code",
   "execution_count": null,
   "metadata": {
    "collapsed": true
   },
   "outputs": [],
   "source": []
  },
  {
   "cell_type": "code",
   "execution_count": null,
   "metadata": {},
   "outputs": [],
   "source": []
  },
  {
   "cell_type": "code",
   "execution_count": null,
   "metadata": {
    "collapsed": true
   },
   "outputs": [],
   "source": []
  },
  {
   "cell_type": "code",
   "execution_count": null,
   "metadata": {},
   "outputs": [],
   "source": [
    "g = sns.FacetGrid(best_by_GDT, col=\"Name\", col_wrap=4)\n",
    "g.map(plt.scatter, \"Rw\", \"Qw\")"
   ]
  },
  {
   "cell_type": "code",
   "execution_count": null,
   "metadata": {},
   "outputs": [],
   "source": [
    "a2 = best_by_GDT.reset_index(drop=True)[[\"Name\", \"GDT\"]].rename(index=str,columns={\"GDT\":\"best\"})\n",
    "b2 = top_rw.reset_index(drop=True)[[\"GDT\", \"Name\"]].rename(index=str,columns={\"GDT\":\"Rw\"})\n",
    "c2 = top_vtotal.reset_index(drop=True)[[\"GDT\", \"Name\"]].rename(index=str,columns={\"GDT\":\"Awsem\"})\n",
    "final2 = a2.merge(b2, on=\"Name\").merge(c2, on=\"Name\").melt(id_vars=\"Name\")\n",
    "sns.pointplot(\"Name\",\"value\", data=final2, hue=\"variable\")\n",
    "# sns.stripplot(\"value\", \"Name\", data=final2, hue=\"variable\")"
   ]
  },
  {
   "cell_type": "code",
   "execution_count": null,
   "metadata": {},
   "outputs": [],
   "source": [
    "sns.stripplot(\"value\", \"Name\", data=final2, hue=\"variable\")"
   ]
  },
  {
   "cell_type": "code",
   "execution_count": null,
   "metadata": {},
   "outputs": [],
   "source": [
    "a = best_by_GDT.reset_index(drop=True)[[\"Name\", \"Qw\"]].rename(index=str,columns={\"Qw\":\"best\"})\n",
    "b = top_rw.reset_index(drop=True)[[\"Qw\", \"Name\"]].rename(index=str,columns={\"Qw\":\"Rw\"})\n",
    "c = top_vtotal.reset_index(drop=True)[[\"Qw\", \"Name\"]].rename(index=str,columns={\"Qw\":\"Awsem\"})\n",
    "final = a.merge(b, on=\"Name\").merge(c, on=\"Name\").melt(id_vars=\"Name\")\n",
    "sns.pointplot(\"Name\",\"value\", data=final, hue=\"variable\")\n",
    "# sns.stripplot(\"value\", \"Name\", data=final, hue=\"variable\")"
   ]
  },
  {
   "cell_type": "code",
   "execution_count": null,
   "metadata": {},
   "outputs": [],
   "source": [
    "g = sns.FacetGrid(raw_test_data, col=\"Name\", col_wrap=4, hue=\"chosenVtotal\")\n",
    "g.map(plt.scatter, \"Rw\", \"Qw\")"
   ]
  },
  {
   "cell_type": "code",
   "execution_count": null,
   "metadata": {},
   "outputs": [],
   "source": [
    "t.nsmallest(5, \"Rw\")"
   ]
  },
  {
   "cell_type": "code",
   "execution_count": null,
   "metadata": {},
   "outputs": [],
   "source": [
    "a = t.assign(chosen=pd.DataFrame.rank(t.Rw)<=5)\n",
    "a.query(\"chosen==True\")"
   ]
  },
  {
   "cell_type": "code",
   "execution_count": null,
   "metadata": {},
   "outputs": [],
   "source": [
    "plt.scatter(chosen.Rw, chosen.Qw, c=\"red\")"
   ]
  },
  {
   "cell_type": "code",
   "execution_count": null,
   "metadata": {},
   "outputs": [],
   "source": [
    "raw_data_T0792.plot(\"Rw\", \"GDT\", kind=\"scatter\")"
   ]
  },
  {
   "cell_type": "code",
   "execution_count": null,
   "metadata": {},
   "outputs": [],
   "source": [
    "plt.scatter(y_pred, train_y)"
   ]
  },
  {
   "cell_type": "code",
   "execution_count": null,
   "metadata": {
    "collapsed": true
   },
   "outputs": [],
   "source": [
    "t = raw_test_data.head()"
   ]
  },
  {
   "cell_type": "code",
   "execution_count": null,
   "metadata": {
    "collapsed": true
   },
   "outputs": [],
   "source": [
    "t = pd.Series(np.array([1,2,2,4,5]))"
   ]
  },
  {
   "cell_type": "code",
   "execution_count": null,
   "metadata": {},
   "outputs": [],
   "source": [
    "t.rank(method=\"first\")"
   ]
  },
  {
   "cell_type": "code",
   "execution_count": 39,
   "metadata": {},
   "outputs": [
    {
     "ename": "SyntaxError",
     "evalue": "invalid syntax (<ipython-input-39-86cfbbddd5ba>, line 12)",
     "output_type": "error",
     "traceback": [
      "\u001b[0;36m  File \u001b[0;32m\"<ipython-input-39-86cfbbddd5ba>\"\u001b[0;36m, line \u001b[0;32m12\u001b[0m\n\u001b[0;31m    LABEL = label\u001b[0m\n\u001b[0m          ^\u001b[0m\n\u001b[0;31mSyntaxError\u001b[0m\u001b[0;31m:\u001b[0m invalid syntax\n"
     ]
    }
   ],
   "source": [
    "FEATURES = ['Rw',\n",
    "#  'VTotal',\n",
    " 'QGO',\n",
    "#  'Burial',\n",
    "#  'Water',\n",
    "#  'Rama',\n",
    "#      'DSSP',\n",
    "#      'P_AP',\n",
    "#  'Helix',\n",
    "#  'Frag_Mem']\n",
    "# LABEL = \"Qw\"\n",
    "LABEL = label\n",
    "PolynomialDegree = degree\n",
    "\n",
    "from sklearn.base import BaseEstimator, TransformerMixin\n",
    "from sklearn.pipeline import Pipeline\n",
    "from sklearn.preprocessing import StandardScaler\n",
    "from sklearn.pipeline import FeatureUnion\n",
    "from sklearn.preprocessing import PolynomialFeatures\n",
    "# Create a class to select numerical or categorical columns \n",
    "# since Scikit-Learn doesn't handle DataFrames yet\n",
    "class DataFrameSelector(BaseEstimator, TransformerMixin):\n",
    "    def __init__(self, attribute_names):\n",
    "        self.attribute_names = attribute_names\n",
    "    def fit(self, X, y=None):\n",
    "        return self\n",
    "    def transform(self, X):\n",
    "        return X[self.attribute_names].values\n",
    "class RemoveFirstFrame(BaseEstimator, TransformerMixin):\n",
    "    def __init__(self, frame):\n",
    "        self.frame = frame\n",
    "    def fit(self, X, y=None):\n",
    "        return self\n",
    "    def transform(self, X):\n",
    "        return X.query(f\"Step % {frame} != 1\")\n",
    "\n",
    "num_attribs = FEATURES\n",
    "cat_attribs = [LABEL]\n",
    "num_pipeline = Pipeline([\n",
    "        ('selector', DataFrameSelector(num_attribs)),\n",
    "        ('std_scaler', StandardScaler()),\n",
    "        ('poly', PolynomialFeatures(degree=PolynomialDegree, include_bias=False))\n",
    "    ])\n",
    "cat_pipeline = Pipeline([\n",
    "        ('selector', DataFrameSelector(cat_attribs))\n",
    "    ])\n",
    "\n",
    "full_pipeline = FeatureUnion(transformer_list=[\n",
    "        (\"num_pipeline\", num_pipeline),\n",
    "        (\"cat_pipeline\", cat_pipeline),\n",
    "    ])"
   ]
  },
  {
   "cell_type": "code",
   "execution_count": 42,
   "metadata": {},
   "outputs": [],
   "source": [
    "def my_transform(data, label, degree, p):\n",
    "    FEATURES = ['Rw',\n",
    "#      'VTotal',\n",
    "     'QGO',\n",
    "#      'Burial',\n",
    "#      'Water',\n",
    "#      'Rama',\n",
    "#      'DSSP',\n",
    "#      'P_AP',\n",
    "#      'Helix',\n",
    "#      'Frag_Mem'\n",
    "               ]\n",
    "    # LABEL = \"Qw\"\n",
    "    LABEL = label\n",
    "    PolynomialDegree = degree\n",
    "\n",
    "    from sklearn.base import BaseEstimator, TransformerMixin\n",
    "    from sklearn.pipeline import Pipeline\n",
    "    from sklearn.preprocessing import StandardScaler\n",
    "    from sklearn.pipeline import FeatureUnion\n",
    "    from sklearn.preprocessing import PolynomialFeatures\n",
    "    # Create a class to select numerical or categorical columns \n",
    "    # since Scikit-Learn doesn't handle DataFrames yet\n",
    "    class DataFrameSelector(BaseEstimator, TransformerMixin):\n",
    "        def __init__(self, attribute_names):\n",
    "            self.attribute_names = attribute_names\n",
    "        def fit(self, X, y=None):\n",
    "            return self\n",
    "        def transform(self, X):\n",
    "            return X[self.attribute_names].values\n",
    "    class RemoveFirstFrame(BaseEstimator, TransformerMixin):\n",
    "        def __init__(self, frame):\n",
    "            self.frame = frame\n",
    "        def fit(self, X, y=None):\n",
    "            return self\n",
    "        def transform(self, X):\n",
    "            return X.query(f\"Step % {frame} != 1\")\n",
    "\n",
    "    num_attribs = FEATURES\n",
    "    cat_attribs = [LABEL]\n",
    "    num_pipeline = Pipeline([\n",
    "            ('selector', DataFrameSelector(num_attribs)),\n",
    "            ('std_scaler', StandardScaler()),\n",
    "            ('poly', PolynomialFeatures(degree=PolynomialDegree, include_bias=False))\n",
    "        ])\n",
    "    cat_pipeline = Pipeline([\n",
    "            ('selector', DataFrameSelector(cat_attribs))\n",
    "        ])\n",
    "\n",
    "    full_pipeline = FeatureUnion(transformer_list=[\n",
    "            (\"num_pipeline\", num_pipeline),\n",
    "            (\"cat_pipeline\", cat_pipeline),\n",
    "        ])\n",
    "    return full_pipeline.fit_transform(data)"
   ]
  },
  {
   "cell_type": "code",
   "execution_count": 43,
   "metadata": {
    "collapsed": true
   },
   "outputs": [],
   "source": [
    "# FEATURES = [\"Rw\", \"VTotal\", \"QGO\"]\n",
    "# FEATURES = [\"Rw\", \"VTotal\", \"QGO\", \"Burial\", \"Frag_Mem\", \"Water\"]\n",
    "# FEATURES = list(raw_test_data.columns[2:-3])\n",
    "def train_and_test(label=\"GDT\", degree=1, p=0.1):\n",
    "    # my_full_pipeline = Pipeline([\n",
    "    # #         ('removeFirstFrame', RemoveFirstFrame(frame)),\n",
    "    #         ('featureSelection', full_pipeline)\n",
    "    # ])\n",
    "\n",
    "    from sklearn.model_selection import StratifiedShuffleSplit\n",
    "\n",
    "    split = StratifiedShuffleSplit(n_splits=1, test_size=0.1, random_state=142)\n",
    "    for train_index, test_index in split.split(raw_data, raw_data[\"isGood\"]):\n",
    "        strat_train_set = raw_data.iloc[train_index]\n",
    "        strat_test_set = raw_data.iloc[test_index]\n",
    "    # strat_test_set[LABEL].value_counts() / len(strat_test_set)\n",
    "    X_train = my_transform(strat_train_set, label, degree, p)\n",
    "    X_test = my_transform(strat_test_set, label, degree, p)\n",
    "    train_y = X_train[:,-1]\n",
    "    train_set = X_train[:,:-1]\n",
    "    test_y = X_test[:,-1]\n",
    "    test_set = X_test[:,:-1]\n",
    "    return (train_set, train_y, test_set, test_y)"
   ]
  },
  {
   "cell_type": "code",
   "execution_count": 44,
   "metadata": {},
   "outputs": [],
   "source": [
    "train_set, train_y, test_set, test_y = train_and_test(label=\"GDT\")\n",
    "from sklearn import linear_model\n",
    "\n",
    "regr = linear_model.LinearRegression()\n",
    "regr.fit(train_set, train_y)\n",
    "y_pred = regr.predict(train_set)"
   ]
  },
  {
   "cell_type": "code",
   "execution_count": 45,
   "metadata": {},
   "outputs": [
    {
     "name": "stdout",
     "output_type": "stream",
     "text": [
      "1MBA\n",
      "T0766\n",
      "T0784\n",
      "T0792\n",
      "T0803\n",
      "T0815\n",
      "T0833\n",
      "T251\n"
     ]
    }
   ],
   "source": [
    "label = \"isGood\"\n",
    "degree = 1\n",
    "train_set, train_y, test_set, test_y = train_and_test(label=label, degree=degree)\n",
    "log_clf = LogisticRegression(random_state=140, penalty='l1')\n",
    "p = 0.1\n",
    "# log_clf = LogisticRegression(random_state=14, class_weight={0:p, 1:(1-p)}, penalty='l1')\n",
    "log_clf.fit(train_set, train_y)\n",
    "y_pred = log_clf.predict(train_set)\n",
    "n = 10\n",
    "prediction_list = []\n",
    "for name, data in raw_test_data.groupby(\"Name\"):\n",
    "    print(name)\n",
    "    X = full_pipeline.fit_transform(data)\n",
    "    X = my_transform(data, label, degree, p)\n",
    "    eval_y = X[:,-1]\n",
    "    eval_set = X[:,:-1]\n",
    "    test= log_clf.predict_proba(eval_set)[:,1]\n",
    "    prediction_list.append(pd.Series(test))\n",
    "prediction = pd.concat(prediction_list)\n",
    "t = raw_test_data.assign(prediction=prediction.values)\n",
    "best_by_prediction = t.groupby(\"Name\").apply(choose_top, col=\"prediction\").query(\"chosen==True\")"
   ]
  },
  {
   "cell_type": "code",
   "execution_count": 46,
   "metadata": {},
   "outputs": [
    {
     "data": {
      "text/plain": [
       "['Rw', 'VTotal', 'QGO', 'Rama', 'Helix', 'Frag_Mem']"
      ]
     },
     "execution_count": 46,
     "metadata": {},
     "output_type": "execute_result"
    }
   ],
   "source": [
    "FEATURES"
   ]
  },
  {
   "cell_type": "code",
   "execution_count": 47,
   "metadata": {},
   "outputs": [
    {
     "data": {
      "text/plain": [
       "array([[-1.31137435, -1.5971631 ]])"
      ]
     },
     "execution_count": 47,
     "metadata": {},
     "output_type": "execute_result"
    }
   ],
   "source": [
    "log_clf.coef_"
   ]
  },
  {
   "cell_type": "code",
   "execution_count": 48,
   "metadata": {},
   "outputs": [
    {
     "name": "stdout",
     "output_type": "stream",
     "text": [
      "('Rw', -1.311374347301536) ('VTotal', -1.5971631038018952)\n"
     ]
    }
   ],
   "source": [
    "print(*(zip(FEATURES, log_clf.coef_[0])))"
   ]
  },
  {
   "cell_type": "code",
   "execution_count": 49,
   "metadata": {},
   "outputs": [
    {
     "data": {
      "text/plain": [
       "<matplotlib.axes._subplots.AxesSubplot at 0x10f502b38>"
      ]
     },
     "execution_count": 49,
     "metadata": {},
     "output_type": "execute_result"
    },
    {
     "data": {
      "image/png": "[encoded data removed]",
      "text/plain": [
       "<matplotlib.figure.Figure at 0x10eb44048>"
      ]
     },
     "metadata": {},
     "output_type": "display_data"
    }
   ],
   "source": [
    "a2 = best_by_GDT.reset_index(drop=True)[[\"Name\", \"GDT\"]].rename(index=str,columns={\"GDT\":\"best\"})\n",
    "b2 = top_rw.reset_index(drop=True)[[\"GDT\", \"Name\"]].rename(index=str,columns={\"GDT\":\"Rw\"})\n",
    "c2 = top_vtotal.reset_index(drop=True)[[\"GDT\", \"Name\"]].rename(index=str,columns={\"GDT\":\"Awsem\"})\n",
    "d2 = best_by_prediction.reset_index(drop=True)[[\"Name\", \"GDT\"]].rename(index=str,columns={\"GDT\":\"prediction\"})\n",
    "# final2 = a2.merge(b2, on=\"Name\").merge(c2, on=\"Name\").merge(d2, on=\"Name\").melt(id_vars=\"Name\")\n",
    "final2 = pd.concat([a2, b2[\"Rw\"], c2[\"Awsem\"], d2[\"prediction\"]], axis=1).melt(id_vars=\"Name\")\n",
    "# sns.pointplot(\"Name\",\"value\", data=final2, hue=\"variable\", hue_order=[\"prediction\", \"Awsem\", \"Rw\", \"best\"])\n",
    "# sns.stripplot(\"value\", \"Name\", data=final2, hue=\"variable\")\n",
    "sns.pointplot(\"Name\",\"value\", data=final2, hue=\"variable\", errwidth=0)"
   ]
  },
  {
   "cell_type": "code",
   "execution_count": null,
   "metadata": {},
   "outputs": [],
   "source": [
    "sns.boxplot(\"Name\",\"value\", data=final2, hue=\"variable\")"
   ]
  },
  {
   "cell_type": "code",
   "execution_count": null,
   "metadata": {},
   "outputs": [],
   "source": [
    "sns.swarmplot(x='Name', y='value', data=final2, hue=\"variable\")"
   ]
  },
  {
   "cell_type": "code",
   "execution_count": null,
   "metadata": {},
   "outputs": [],
   "source": [
    "sns.stripplot(\"Name\", \"value\", data=final2, hue=\"variable\", jitter=True)"
   ]
  },
  {
   "cell_type": "code",
   "execution_count": null,
   "metadata": {},
   "outputs": [],
   "source": [
    "sns.stripplot(\"value\", \"Name\", data=final2, hue=\"variable\", jitter=True)"
   ]
  },
  {
   "cell_type": "code",
   "execution_count": null,
   "metadata": {},
   "outputs": [],
   "source": [
    "a2 = best_by_GDT.reset_index(drop=True)[[\"Name\", \"GDT\"]].rename(index=str,columns={\"GDT\":\"best\"})\n",
    "b2 = top_rw.reset_index(drop=True)[[\"GDT\", \"Name\"]].rename(index=str,columns={\"GDT\":\"Rw\"})\n",
    "c2 = top_vtotal.reset_index(drop=True)[[\"GDT\", \"Name\"]].rename(index=str,columns={\"GDT\":\"Awsem\"})\n",
    "d2 = best_by_prediction.reset_index(drop=True)[[\"Name\", \"GDT\"]].rename(index=str,columns={\"GDT\":\"prediction\"})\n",
    "final2 = a2.merge(b2, on=\"Name\").merge(c2, on=\"Name\").merge(d2, on=\"Name\").melt(id_vars=\"Name\")\n",
    "sns.pointplot(\"Name\",\"value\", data=final2, hue=\"variable\")\n",
    "# sns.stripplot(\"value\", \"Name\", data=final2, hue=\"variable\")"
   ]
  },
  {
   "cell_type": "code",
   "execution_count": null,
   "metadata": {
    "collapsed": true
   },
   "outputs": [],
   "source": []
  },
  {
   "cell_type": "code",
   "execution_count": null,
   "metadata": {},
   "outputs": [],
   "source": [
    "a2 = best_by_GDT.reset_index(drop=True)[[\"Name\", \"GDT\"]].rename(index=str,columns={\"GDT\":\"best\"})\n",
    "b2 = top_rw.reset_index(drop=True)[[\"GDT\", \"Name\"]].rename(index=str,columns={\"GDT\":\"Rw\"})\n",
    "c2 = top_vtotal.reset_index(drop=True)[[\"GDT\", \"Name\"]].rename(index=str,columns={\"GDT\":\"Awsem\"})\n",
    "d2 = best_by_prediction.reset_index(drop=True)[[\"Name\", \"GDT\"]].rename(index=str,columns={\"GDT\":\"prediction\"})\n",
    "final2 = a2.merge(b2, on=\"Name\").merge(c2, on=\"Name\").merge(d2, on=\"Name\").melt(id_vars=\"Name\")\n",
    "sns.pointplot(\"Name\",\"value\", data=final2, hue=\"variable\")\n",
    "# sns.stripplot(\"value\", \"Name\", data=final2, hue=\"variable\")"
   ]
  },
  {
   "cell_type": "code",
   "execution_count": null,
   "metadata": {},
   "outputs": [],
   "source": [
    "np.sum(y_pred != train_y)"
   ]
  },
  {
   "cell_type": "code",
   "execution_count": null,
   "metadata": {
    "collapsed": true
   },
   "outputs": [],
   "source": []
  },
  {
   "cell_type": "code",
   "execution_count": null,
   "metadata": {},
   "outputs": [],
   "source": [
    "prediction.shape"
   ]
  },
  {
   "cell_type": "code",
   "execution_count": null,
   "metadata": {},
   "outputs": [],
   "source": [
    "raw_test_data.shape"
   ]
  },
  {
   "cell_type": "code",
   "execution_count": null,
   "metadata": {},
   "outputs": [],
   "source": [
    "y_pred.shape"
   ]
  },
  {
   "cell_type": "code",
   "execution_count": null,
   "metadata": {},
   "outputs": [],
   "source": [
    "eval_y.argsort()[-n:][::-1]"
   ]
  },
  {
   "cell_type": "code",
   "execution_count": null,
   "metadata": {},
   "outputs": [],
   "source": [
    "n = 10\n",
    "for name, data in raw_test_data.groupby(\"Name\"):\n",
    "    print(name)\n",
    "    X = full_pipeline.fit_transform(data)\n",
    "    eval_y = X[:,-1]\n",
    "    eval_set = X[:,:-1]\n",
    "    test= regr.predict(eval_set)\n",
    "    position_of_top_n = test.argsort()[-n:][::-1]\n",
    "    threshold = test[position_of_top_n][-1]\n",
    "    predict_y = np.zeros(len(eval_y),)\n",
    "    predict_y[position_of_top_n] = 1\n",
    "\n",
    "    position_of_top_n = eval_y.argsort()[-50:][::-1]\n",
    "    threshold = eval_y[position_of_top_n][-1]\n",
    "    test_y = np.zeros(len(eval_y),)\n",
    "    test_y[position_of_top_n] = 1\n",
    "    plt.figure()\n",
    "    plt.scatter(test, eval_y)\n",
    "    plt.show()\n",
    "\n",
    "#     predict_y = (test > threshold)\n",
    "#     print(threshold)\n",
    "    print(confusion_matrix(test_y, predict_y))"
   ]
  },
  {
   "cell_type": "code",
   "execution_count": null,
   "metadata": {},
   "outputs": [],
   "source": [
    "plt.scatter(y_pred, train_y)"
   ]
  },
  {
   "cell_type": "code",
   "execution_count": null,
   "metadata": {
    "collapsed": true
   },
   "outputs": [],
   "source": []
  },
  {
   "cell_type": "code",
   "execution_count": null,
   "metadata": {},
   "outputs": [],
   "source": [
    "\n",
    "\n",
    "\n",
    "from sklearn.ensemble import RandomForestClassifier\n",
    "from sklearn.ensemble import VotingClassifier\n",
    "from sklearn.linear_model import LogisticRegression\n",
    "from sklearn.svm import SVC\n",
    "from sklearn.linear_model import SGDClassifier\n",
    "from sklearn.model_selection import StratifiedShuffleSplit\n",
    "from sklearn.model_selection import cross_val_score\n",
    "from sklearn.model_selection import cross_val_predict\n",
    "from sklearn.metrics import confusion_matrix\n",
    "from sklearn.metrics import accuracy_score\n",
    "\n",
    "# log_clf = LogisticRegression(random_state=142)\n",
    "# rnd_clf = RandomForestClassifier(random_state=432)\n",
    "# svm_clf = SVC(probability=True, random_state=412)\n",
    "log_clf = LogisticRegression(random_state=142, class_weight={0:p, 1:(1-p)})\n",
    "rnd_clf = RandomForestClassifier(random_state=432, class_weight={0:p, 1:(1-p)})\n",
    "svm_clf = SVC(probability=True, random_state=412, class_weight={0:p, 1:(1-p)})\n",
    "\n",
    "voting_clf = VotingClassifier(\n",
    "    estimators=[('lr', log_clf), ('rf', rnd_clf), ('svc', svm_clf)],\n",
    "    voting='soft')\n",
    "log_clf.fit(train_set, train_y)\n",
    "rnd_clf.fit(train_set, train_y)\n",
    "svm_clf.fit(train_set, train_y)\n",
    "voting_clf.fit(train_set, train_y)\n",
    "\n",
    "\n",
    "# check on training set\n",
    "n = 10\n",
    "for clf in (log_clf, rnd_clf, svm_clf, voting_clf):\n",
    "#     y_pred = clf.predict(train_set)\n",
    "    prob= clf.predict_proba(train_set)[:,1]\n",
    "    position_of_top_n = prob.argsort()[-n:][::-1]\n",
    "    threshold = prob[position_of_top_n][-1]\n",
    "    predict_y = np.zeros(len(train_y),)\n",
    "    predict_y[position_of_top_n] = 1\n",
    "#     predict_y = (test > threshold)\n",
    "#     print(threshold)\n",
    "    cm = confusion_matrix(train_y, predict_y)\n",
    "#     print(clf.__class__.__name__, \"\\n\", accuracy_score(train_y, predict_y))\n",
    "    print(clf.__class__.__name__, \"\\n\", cm)\n",
    "    \n",
    "time_stamp = f\"{datetime.today().strftime('%d_%h_%H%M%S')}\"\n",
    "for name, data in raw_test_data.groupby(\"Name\"):\n",
    "    print(name)\n",
    "    X = full_pipeline.fit_transform(data)\n",
    "    eval_y = X[:,-1]\n",
    "    eval_set = X[:,:-1]\n",
    "    test= log_clf.predict_proba(eval_set)[:,1]\n",
    "    position_of_top_n = test.argsort()[-n:][::-1]\n",
    "    threshold = test[position_of_top_n][-1]\n",
    "    predict_y = np.zeros(len(eval_y),)\n",
    "    predict_y[position_of_top_n] = 1\n",
    "\n",
    "    with open(f\"/Users/weilu/Research/data/structure_selector/p{p}_poly{PolynomialDegree}_{name}.csv\", \"w\") as f:\n",
    "        f.write(\"Result\\n\")\n",
    "        for i in test:\n",
    "            f.write(str(i) + \"\\n\")\n",
    "#     with open(f\"/Users/weilu/Research/data/structure_selector/{name}_results_{time_stamp}.csv\", \"w\") as f:\n",
    "#         f.write(\"Result\\n\")\n",
    "#         for i in test:\n",
    "#             f.write(str(i) + \"\\n\")\n",
    "\n",
    "#     predict_y = (test > threshold)\n",
    "#     print(threshold)\n",
    "    print(confusion_matrix(eval_y, predict_y))\n",
    "print(f\"p{p}_poly{PolynomialDegree}\")"
   ]
  },
  {
   "cell_type": "code",
   "execution_count": null,
   "metadata": {
    "collapsed": true
   },
   "outputs": [],
   "source": [
    "raw_test_data = pd.read_csv(\"/Users/weilu/Research/data/test_data/test_data_4.csv\")\n",
    "raw_test_data_2 = raw_test_data.drop_duplicates(subset=['Qw', 'Rw', \"VTotal\"])\n",
    "raw_test_data_2 = raw_test_data_2.assign(isGood=raw_test_data_2.groupby(\"Name\")[\"GDT\"].rank(ascending=False, method='first') < 50)\n",
    "raw_test_data = raw_test_data_2\n",
    "raw_data_T0784 = raw_test_data.groupby(\"Name\").get_group(\"T0784\")\n",
    "raw_data_T0792 = raw_test_data.groupby(\"Name\").get_group(\"T0792\")\n",
    "# raw_data = pd.concat([raw_data_T0784, raw_data_T0792])\n",
    "raw_data = raw_data_T0792"
   ]
  },
  {
   "cell_type": "code",
   "execution_count": null,
   "metadata": {},
   "outputs": [],
   "source": [
    "# FEATURES = [\"Rw\", \"VTotal\", \"QGO\"]\n",
    "# FEATURES = [\"Rw\", \"VTotal\", \"QGO\", \"Burial\", \"Frag_Mem\", \"Water\"]\n",
    "# FEATURES = list(raw_test_data.columns[2:-3])\n",
    "FEATURES = ['Rw',\n",
    " 'VTotal',\n",
    " 'QGO',\n",
    " 'Burial',\n",
    " 'Water',\n",
    " 'Rama',\n",
    " 'DSSP',\n",
    " 'P_AP',\n",
    " 'Helix',\n",
    " 'Frag_Mem']\n",
    "# LABEL = \"Qw\"\n",
    "LABEL = \"isGood\"\n",
    "PolynomialDegree = 2\n",
    "p = 0.1\n",
    "\n",
    "\n",
    "num_attribs = FEATURES\n",
    "cat_attribs = [LABEL]\n",
    "frame = 201\n",
    "num_pipeline = Pipeline([\n",
    "        ('selector', DataFrameSelector(num_attribs)),\n",
    "        ('std_scaler', StandardScaler()),\n",
    "        ('poly', PolynomialFeatures(degree=PolynomialDegree, include_bias=False))\n",
    "    ])\n",
    "cat_pipeline = Pipeline([\n",
    "        ('selector', DataFrameSelector(cat_attribs))\n",
    "    ])\n",
    "\n",
    "full_pipeline = FeatureUnion(transformer_list=[\n",
    "        (\"num_pipeline\", num_pipeline),\n",
    "        (\"cat_pipeline\", cat_pipeline),\n",
    "    ])\n",
    "my_full_pipeline = Pipeline([\n",
    "#         ('removeFirstFrame', RemoveFirstFrame(frame)),\n",
    "        ('featureSelection', full_pipeline)\n",
    "])\n",
    "    \n",
    "from sklearn.model_selection import StratifiedShuffleSplit\n",
    "\n",
    "split = StratifiedShuffleSplit(n_splits=1, test_size=0.2, random_state=42)\n",
    "for train_index, test_index in split.split(raw_data, raw_data[\"isGood\"]):\n",
    "    strat_train_set = raw_data.iloc[train_index]\n",
    "    strat_test_set = raw_data.iloc[test_index]\n",
    "# strat_test_set[LABEL].value_counts() / len(strat_test_set)\n",
    "X_train = my_full_pipeline.fit_transform(strat_train_set)\n",
    "X_test = my_full_pipeline.fit_transform(strat_test_set)\n",
    "train_y = X_train[:,-1]\n",
    "train_set = X_train[:,:-1]\n",
    "test_y = X_test[:,-1]\n",
    "test_set = X_test[:,:-1]\n",
    "\n",
    "\n",
    "\n",
    "# log_clf = LogisticRegression(random_state=142)\n",
    "# rnd_clf = RandomForestClassifier(random_state=432)\n",
    "# svm_clf = SVC(probability=True, random_state=412)\n",
    "log_clf = LogisticRegression(random_state=142, class_weight={0:p, 1:(1-p)})\n",
    "\n",
    "log_clf.fit(train_set, train_y)\n",
    "\n",
    "\n",
    "# check on training set\n",
    "n = 5\n",
    "\n",
    "clf = log_clf\n",
    "#     y_pred = clf.predict(train_set)\n",
    "prob= clf.predict_proba(train_set)[:,1]\n",
    "position_of_top_n = prob.argsort()[-n:][::-1]\n",
    "threshold = prob[position_of_top_n][-1]\n",
    "predict_y = np.zeros(len(train_y),)\n",
    "predict_y[position_of_top_n] = 1\n",
    "#     predict_y = (test > threshold)\n",
    "#     print(threshold)\n",
    "cm = confusion_matrix(train_y, predict_y)\n",
    "#     print(clf.__class__.__name__, \"\\n\", accuracy_score(train_y, predict_y))\n",
    "print(clf.__class__.__name__, \"\\n\", cm)\n",
    "\n",
    "\n",
    "\n",
    "for name, data in raw_test_data.groupby(\"Name\"):\n",
    "    print(name)\n",
    "    X = full_pipeline.fit_transform(data)\n",
    "    eval_y = X[:,-1]\n",
    "    eval_set = X[:,:-1]\n",
    "    test= log_clf.predict_proba(eval_set)[:,1]\n",
    "    position_of_top_n = test.argsort()[-n:][::-1]\n",
    "    threshold = test[position_of_top_n][-1]\n",
    "    predict_y = np.zeros(len(eval_y),)\n",
    "    predict_y[position_of_top_n] = 1\n",
    "    print(confusion_matrix(eval_y, predict_y))\n",
    "print(f\"p{p}_poly{PolynomialDegree}\")\n",
    "\n"
   ]
  },
  {
   "cell_type": "code",
   "execution_count": null,
   "metadata": {
    "scrolled": true
   },
   "outputs": [],
   "source": [
    "strat_train_set[\"a\"] = prob"
   ]
  },
  {
   "cell_type": "code",
   "execution_count": null,
   "metadata": {},
   "outputs": [],
   "source": [
    "strat_train_set.plot(\"a\", \"GDT\", kind=\"scatter\")"
   ]
  },
  {
   "cell_type": "code",
   "execution_count": null,
   "metadata": {},
   "outputs": [],
   "source": [
    "prob"
   ]
  },
  {
   "cell_type": "code",
   "execution_count": null,
   "metadata": {},
   "outputs": [],
   "source": [
    "pd.concat([strat_train_set, pd.Series(prob)], axis=1)"
   ]
  },
  {
   "cell_type": "code",
   "execution_count": null,
   "metadata": {
    "collapsed": true
   },
   "outputs": [],
   "source": [
    "def compute_with_my_score_function(p=0.9, PolynomialDegree=3):\n",
    "    FEATURES = ['Rw',\n",
    "     'VTotal',\n",
    "     'QGO',\n",
    "     'Burial',\n",
    "     'Water',\n",
    "     'Rama',\n",
    "     'DSSP',\n",
    "     'P_AP',\n",
    "     'Helix',\n",
    "     'Frag_Mem']\n",
    "    # LABEL = \"Qw\"\n",
    "    LABEL = \"isGood\"\n",
    "\n",
    "    num_attribs = FEATURES\n",
    "    cat_attribs = [LABEL]\n",
    "    frame = 201\n",
    "    num_pipeline = Pipeline([\n",
    "            ('selector', DataFrameSelector(num_attribs)),\n",
    "            ('std_scaler', StandardScaler()),\n",
    "            ('poly', PolynomialFeatures(degree=PolynomialDegree, include_bias=False))\n",
    "        ])\n",
    "    cat_pipeline = Pipeline([\n",
    "            ('selector', DataFrameSelector(cat_attribs))\n",
    "        ])\n",
    "\n",
    "    full_pipeline = FeatureUnion(transformer_list=[\n",
    "            (\"num_pipeline\", num_pipeline),\n",
    "            (\"cat_pipeline\", cat_pipeline),\n",
    "        ])\n",
    "    my_full_pipeline = Pipeline([\n",
    "    #         ('removeFirstFrame', RemoveFirstFrame(frame)),\n",
    "            ('featureSelection', full_pipeline)\n",
    "    ])\n",
    "\n",
    "    split = StratifiedShuffleSplit(n_splits=1, test_size=0.2, random_state=42)\n",
    "    for train_index, test_index in split.split(raw_data, raw_data[\"isGood\"]):\n",
    "        strat_train_set = raw_data.iloc[train_index]\n",
    "        strat_test_set = raw_data.iloc[test_index]\n",
    "    # strat_test_set[LABEL].value_counts() / len(strat_test_set)\n",
    "    X_train = my_full_pipeline.fit_transform(strat_train_set)\n",
    "    X_test = my_full_pipeline.fit_transform(strat_test_set)\n",
    "    train_y = X_train[:,-1]\n",
    "    train_set = X_train[:,:-1]\n",
    "    test_y = X_test[:,-1]\n",
    "    test_set = X_test[:,:-1]\n",
    "\n",
    "    # log_clf = LogisticRegression(random_state=142)\n",
    "    # rnd_clf = RandomForestClassifier(random_state=432)\n",
    "    # svm_clf = SVC(probability=True, random_state=412)\n",
    "    log_clf = LogisticRegression(random_state=142, class_weight={0:p, 1:(1-p)})\n",
    "    log_clf.fit(train_set, train_y)\n",
    "\n",
    "#     voting_clf.fit(train_set, train_y)\n",
    "    n = 10\n",
    "    cl_name = \"lr\"\n",
    "    clf = log_clf\n",
    "#     for cl_name, clf in (\"voting\", voting_clf):\n",
    "    my_evaluation = 1.0\n",
    "    another_evaluation = 0.0\n",
    "    for name, data in raw_test_data.groupby(\"Name\"):\n",
    "#             print(name)\n",
    "#         X = full_pipeline.fit_transform(data)\n",
    "#         validation_data, test_data = train_test_split(X, test_size=0.6, random_state=124)\n",
    "        validation_data = my_full_pipeline.fit_transform(raw_data_T0784)\n",
    "        validation_y = validation_data[:,-1]\n",
    "        validation_set = validation_data[:,:-1]\n",
    "        clf.fit(train_set, train_y)\n",
    "        test= clf.predict_proba(validation_set)[:,1]\n",
    "        position_of_top_n = test.argsort()[-n:][::-1]\n",
    "        threshold = test[position_of_top_n][-1]\n",
    "        predict_y = np.zeros(len(validation_y),)\n",
    "        predict_y[position_of_top_n] = 1\n",
    "    #     predict_y = (test > threshold)\n",
    "#         print(threshold)\n",
    "        cm = confusion_matrix(validation_y, predict_y)\n",
    "#             print(cm)\n",
    "        precision = cm[1][1] / (cm[1][1] + cm[0][1])\n",
    "#             print(name,  \" precision\", precision,end = \" \")\n",
    "        if name != \"T0766\" and name != \"T0833\":\n",
    "            my_evaluation *= precision\n",
    "            another_evaluation += precision\n",
    "#         print(\"\")\n",
    "    print(\"classifier:\", cl_name, \", p:\",p, \", degree\", PolynomialDegree, \", score\", my_evaluation, \", another score\", another_evaluation)\n",
    "    return (cl_name, p, PolynomialDegree, my_evaluation)"
   ]
  },
  {
   "cell_type": "code",
   "execution_count": null,
   "metadata": {
    "collapsed": true
   },
   "outputs": [],
   "source": [
    "def myGridSerach():\n",
    "    p_list = [0.9, 0.8, 0.7, 0.5, 0.1]\n",
    "    degree_list = [3, 2, 1]\n",
    "#     p_list = [0.1, 0.8, 0.9, 0.95]\n",
    "#     degree_list = [1, 2, 3]\n",
    "#     p_list = [0.1, 0.15, 0.2, 0.5, 0.7, 0.8, 0.85, 0.9, 0.95]\n",
    "#     degree_list = [1, 2, 3, 4]\n",
    "    result = []\n",
    "    for p in p_list:\n",
    "        for degree in degree_list:\n",
    "            result += [compute_with_my_score_function(p, degree)]\n",
    "            "
   ]
  },
  {
   "cell_type": "code",
   "execution_count": null,
   "metadata": {},
   "outputs": [],
   "source": [
    "myGridSerach()"
   ]
  },
  {
   "cell_type": "code",
   "execution_count": null,
   "metadata": {},
   "outputs": [],
   "source": [
    "compute_with_my_score_function(0.1, 1)"
   ]
  },
  {
   "cell_type": "code",
   "execution_count": null,
   "metadata": {
    "collapsed": true
   },
   "outputs": [],
   "source": [
    "from sklearn.base import BaseEstimator, TransformerMixin\n",
    "from sklearn.pipeline import Pipeline\n",
    "from sklearn.preprocessing import StandardScaler\n",
    "from sklearn.pipeline import FeatureUnion\n",
    "from sklearn.preprocessing import PolynomialFeatures\n",
    "# Create a class to select numerical or categorical columns \n",
    "# since Scikit-Learn doesn't handle DataFrames yet\n",
    "class DataFrameSelector(BaseEstimator, TransformerMixin):\n",
    "    def __init__(self, attribute_names):\n",
    "        self.attribute_names = attribute_names\n",
    "    def fit(self, X, y=None):\n",
    "        return self\n",
    "    def transform(self, X):\n",
    "        return X[self.attribute_names].values\n",
    "class RemoveFirstFrame(BaseEstimator, TransformerMixin):\n",
    "    def __init__(self, frame):\n",
    "        self.frame = frame\n",
    "    def fit(self, X, y=None):\n",
    "        return self\n",
    "    def transform(self, X):\n",
    "        return X.query(f\"Step % {frame} != 1\")"
   ]
  },
  {
   "cell_type": "code",
   "execution_count": null,
   "metadata": {
    "collapsed": true
   },
   "outputs": [],
   "source": [
    "num_attribs = FEATURES\n",
    "cat_attribs = [LABEL]\n",
    "frame = 201\n",
    "num_pipeline = Pipeline([\n",
    "        ('selector', DataFrameSelector(num_attribs)),\n",
    "        ('std_scaler', StandardScaler()),\n",
    "        ('poly', PolynomialFeatures(degree=PolynomialDegree, include_bias=False))\n",
    "    ])\n",
    "cat_pipeline = Pipeline([\n",
    "        ('selector', DataFrameSelector(cat_attribs))\n",
    "    ])\n",
    "\n",
    "full_pipeline = FeatureUnion(transformer_list=[\n",
    "        (\"num_pipeline\", num_pipeline),\n",
    "        (\"cat_pipeline\", cat_pipeline),\n",
    "    ])\n",
    "my_full_pipeline = Pipeline([\n",
    "#         ('removeFirstFrame', RemoveFirstFrame(frame)),\n",
    "        ('featureSelection', full_pipeline)\n",
    "])"
   ]
  },
  {
   "cell_type": "code",
   "execution_count": null,
   "metadata": {
    "collapsed": true
   },
   "outputs": [],
   "source": [
    "from sklearn.model_selection import StratifiedShuffleSplit\n",
    "\n",
    "split = StratifiedShuffleSplit(n_splits=1, test_size=0.2, random_state=42)\n",
    "for train_index, test_index in split.split(raw_data, raw_data[\"isGood\"]):\n",
    "    strat_train_set = raw_data.iloc[train_index]\n",
    "    strat_test_set = raw_data.iloc[test_index]\n",
    "# strat_test_set[LABEL].value_counts() / len(strat_test_set)\n",
    "X_train = my_full_pipeline.fit_transform(strat_train_set)\n",
    "X_test = my_full_pipeline.fit_transform(strat_test_set)\n",
    "train_y = X_train[:,-1]\n",
    "train_set = X_train[:,:-1]\n",
    "test_y = X_test[:,-1]\n",
    "test_set = X_test[:,:-1]"
   ]
  },
  {
   "cell_type": "code",
   "execution_count": null,
   "metadata": {},
   "outputs": [],
   "source": [
    "from sklearn.ensemble import RandomForestClassifier\n",
    "from sklearn.ensemble import VotingClassifier\n",
    "from sklearn.linear_model import LogisticRegression\n",
    "from sklearn.svm import SVC\n",
    "from sklearn.linear_model import SGDClassifier\n",
    "\n",
    "from sklearn.model_selection import cross_val_score\n",
    "from sklearn.model_selection import cross_val_predict\n",
    "from sklearn.metrics import confusion_matrix\n",
    "from sklearn.metrics import accuracy_score\n",
    "\n",
    "# log_clf = LogisticRegression(random_state=142)\n",
    "# rnd_clf = RandomForestClassifier(random_state=432)\n",
    "# svm_clf = SVC(probability=True, random_state=412)\n",
    "log_clf = LogisticRegression(random_state=142, class_weight={0:p, 1:(1-p)})\n",
    "rnd_clf = RandomForestClassifier(random_state=432, class_weight={0:p, 1:(1-p)})\n",
    "svm_clf = SVC(probability=True, random_state=412, class_weight={0:p, 1:(1-p)})\n",
    "\n",
    "voting_clf = VotingClassifier(\n",
    "    estimators=[('lr', log_clf), ('rf', rnd_clf), ('svc', svm_clf)],\n",
    "    voting='soft')\n",
    "log_clf.fit(train_set, train_y)\n",
    "rnd_clf.fit(train_set, train_y)\n",
    "svm_clf.fit(train_set, train_y)\n",
    "voting_clf.fit(train_set, train_y)"
   ]
  },
  {
   "cell_type": "code",
   "execution_count": null,
   "metadata": {},
   "outputs": [],
   "source": [
    "# check on training set\n",
    "n = 10\n",
    "for clf in (log_clf, rnd_clf, svm_clf, voting_clf):\n",
    "#     y_pred = clf.predict(train_set)\n",
    "    prob= clf.predict_proba(train_set)[:,1]\n",
    "    position_of_top_n = prob.argsort()[-n:][::-1]\n",
    "    threshold = prob[position_of_top_n][-1]\n",
    "    predict_y = np.zeros(len(train_y),)\n",
    "    predict_y[position_of_top_n] = 1\n",
    "#     predict_y = (test > threshold)\n",
    "#     print(threshold)\n",
    "    cm = confusion_matrix(train_y, predict_y)\n",
    "#     print(clf.__class__.__name__, \"\\n\", accuracy_score(train_y, predict_y))\n",
    "    print(clf.__class__.__name__, \"\\n\", cm)"
   ]
  },
  {
   "cell_type": "code",
   "execution_count": null,
   "metadata": {},
   "outputs": [],
   "source": [
    "time_stamp = f\"{datetime.today().strftime('%d_%h_%H%M%S')}\"\n",
    "for name, data in raw_test_data.groupby(\"Name\"):\n",
    "    print(name)\n",
    "    X = full_pipeline.fit_transform(data)\n",
    "    eval_y = X[:,-1]\n",
    "    eval_set = X[:,:-1]\n",
    "    test= log_clf.predict_proba(eval_set)[:,1]\n",
    "    position_of_top_n = test.argsort()[-n:][::-1]\n",
    "    threshold = test[position_of_top_n][-1]\n",
    "    predict_y = np.zeros(len(eval_y),)\n",
    "    predict_y[position_of_top_n] = 1\n",
    "\n",
    "    with open(f\"/Users/weilu/Research/data/structure_selector/p{p}_poly{PolynomialDegree}_{name}.csv\", \"w\") as f:\n",
    "        f.write(\"Result\\n\")\n",
    "        for i in test:\n",
    "            f.write(str(i) + \"\\n\")\n",
    "#     with open(f\"/Users/weilu/Research/data/structure_selector/{name}_results_{time_stamp}.csv\", \"w\") as f:\n",
    "#         f.write(\"Result\\n\")\n",
    "#         for i in test:\n",
    "#             f.write(str(i) + \"\\n\")\n",
    "\n",
    "#     predict_y = (test > threshold)\n",
    "#     print(threshold)\n",
    "    print(confusion_matrix(eval_y, predict_y))"
   ]
  },
  {
   "cell_type": "code",
   "execution_count": null,
   "metadata": {},
   "outputs": [],
   "source": [
    "time_stamp = f\"{datetime.today().strftime('%d_%h_%H%M%S')}\"\n",
    "for name, data in raw_test_data.groupby(\"Name\"):\n",
    "    print(name)\n",
    "    X = my_full_pipeline.fit_transform(data)\n",
    "    eval_y = X[:,-1]\n",
    "    eval_set = X[:,:-1]\n",
    "    test= log_clf.predict_proba(eval_set)[:,1]\n",
    "    position_of_top_n = test.argsort()[-n:][::-1]\n",
    "    threshold = test[position_of_top_n][-1]\n",
    "    predict_y = np.zeros(len(eval_y),)\n",
    "    predict_y[position_of_top_n] = 1\n",
    "\n",
    "\n",
    "#     predict_y = (test > threshold)\n",
    "#     print(threshold)\n",
    "    print(confusion_matrix(eval_y, predict_y))"
   ]
  },
  {
   "cell_type": "code",
   "execution_count": null,
   "metadata": {
    "collapsed": true
   },
   "outputs": [],
   "source": []
  }
 ],
 "metadata": {
  "kernelspec": {
   "display_name": "Python 3",
   "language": "python",
   "name": "python3"
  },
  "language_info": {
   "codemirror_mode": {
    "name": "ipython",
    "version": 3
   },
   "file_extension": ".py",
   "mimetype": "text/x-python",
   "name": "python",
   "nbconvert_exporter": "python",
   "pygments_lexer": "ipython3",
   "version": "3.6.3"
  }
 },
 "nbformat": 4,
 "nbformat_minor": 2
}
