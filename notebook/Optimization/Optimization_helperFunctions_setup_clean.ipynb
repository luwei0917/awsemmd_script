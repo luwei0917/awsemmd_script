{
 "cells": [
  {
   "cell_type": "code",
   "execution_count": 1,
   "metadata": {},
   "outputs": [],
   "source": [
    "import os\n",
    "import sys\n",
    "import random\n",
    "import time\n",
    "from random import seed, randint\n",
    "import argparse\n",
    "import platform\n",
    "from datetime import datetime\n",
    "import imp\n",
    "import numpy as np\n",
    "import fileinput\n",
    "from itertools import product\n",
    "import pandas as pd\n",
    "from scipy.interpolate import griddata\n",
    "from scipy.interpolate import interp2d\n",
    "import seaborn as sns\n",
    "from os import listdir\n",
    "\n",
    "import matplotlib.pyplot as plt\n",
    "import seaborn as sns\n",
    "from scipy.interpolate import griddata\n",
    "import matplotlib as mpl\n",
    "# sys.path.insert(0,'..')\n",
    "# from notebookFunctions import *\n",
    "# from .. import notebookFunctions\n",
    "from Bio.PDB.Polypeptide import one_to_three\n",
    "from Bio.PDB.Polypeptide import three_to_one\n",
    "from Bio.PDB.PDBParser import PDBParser\n",
    "from pyCodeLib import *\n",
    "# from small_script.myFunctions import *\n",
    "sys.path.insert(0, \"/Users/weilu/openmmawsem\")\n",
    "from helperFunctions.myFunctions import *\n",
    "from collections import defaultdict\n",
    "%matplotlib inline\n",
    "# plt.rcParams['figure.figsize'] = (10,6.180)    #golden ratio\n",
    "# %matplotlib notebook\n",
    "%load_ext autoreload\n",
    "%autoreload 2"
   ]
  },
  {
   "cell_type": "code",
   "execution_count": 2,
   "metadata": {},
   "outputs": [],
   "source": [
    "plt.rcParams['figure.figsize'] = np.array([16.18033, 10])    #golden ratio\n",
    "plt.rcParams['figure.facecolor'] = 'w'\n",
    "plt.rcParams['figure.dpi'] = 100\n",
    "plt.rcParams.update({'font.size': 22})"
   ]
  },
  {
   "cell_type": "code",
   "execution_count": 3,
   "metadata": {},
   "outputs": [],
   "source": [
    "def mycp(source, target):\n",
    "    os.system(f\"cp {source} {target}\")\n",
    "    \n",
    "do = os.system\n",
    "\n",
    "def getSeq(fileLocation):\n",
    "    p = PDBParser()\n",
    "    s = p.get_structure(\"test\", fileLocation)\n",
    "    seq = \"\"\n",
    "    residues = list(s.get_residues())\n",
    "    for residue in residues:\n",
    "        res_id = residue.get_id()[0]\n",
    "        if res_id==' ':\n",
    "            residue_name = residue.get_resname()\n",
    "            seq += three_to_one(residue_name)\n",
    "    return seq\n",
    "\n",
    "# get chains nad seq\n",
    "def getChainsAndSeq(fileLocation):\n",
    "    # fileLocation = \"/Users/weilu/Research/examples/optimization/optimization/Structure_Ensemble/1.pdb\"\n",
    "    p = PDBParser()\n",
    "    pdb = p.get_structure(\"test\", fileLocation)\n",
    "    residues = list(pdb.get_residues())\n",
    "    seq = \"\"\n",
    "    chains = \"\"\n",
    "    for residue in residues:\n",
    "        res_id = residue.get_id()[0]\n",
    "        chain = residue.get_full_id()[2]\n",
    "        if res_id==' ':\n",
    "            residue_name = residue.get_resname()\n",
    "            seq += three_to_one(residue_name)\n",
    "            chains += chain\n",
    "    return chains, seq"
   ]
  },
  {
   "cell_type": "code",
   "execution_count": 4,
   "metadata": {},
   "outputs": [],
   "source": [
    "pdbFolderList = glob.glob(\"/Users/weilu/Dropbox/Structure_Ensemble_*\")"
   ]
  },
  {
   "cell_type": "code",
   "execution_count": 5,
   "metadata": {},
   "outputs": [
    {
     "data": {
      "text/plain": [
       "72"
      ]
     },
     "execution_count": 5,
     "metadata": {},
     "output_type": "execute_result"
    }
   ],
   "source": [
    "len(pdbFolderList)"
   ]
  },
  {
   "cell_type": "markdown",
   "metadata": {},
   "source": [
    "# filter pdbFolderList "
   ]
  },
  {
   "cell_type": "code",
   "execution_count": null,
   "metadata": {},
   "outputs": [],
   "source": [
    "_all = []\n",
    "# generate decoys\n",
    "protein_list = []\n",
    "for pdbFolder in pdbFolderList:\n",
    "    pdbName = pdbFolder.split(\"_\")[-1]\n",
    "    source = pdbFolder + f\"/*.pdb\"\n",
    "    p_list = glob.glob(source)\n",
    "    # print(p_list, source)\n",
    "    assert len(p_list) == 1\n",
    "    p = p_list[0]\n",
    "    chain_seq, seq = getChainsAndSeq(p)\n",
    "    \n",
    "    # print(pdbName, i, len(seq), len(chain_seq))\n",
    "    decoy_list = []\n",
    "    with open(f\"{pdbFolder}/peptide.txt\") as f:\n",
    "        for line in f:\n",
    "            pep = line.strip()\n",
    "            pep_len = len(pep)\n",
    "            # assert len(pep) == 9\n",
    "            for c in list(set(chain_seq)):\n",
    "                if chain_seq.count(c) == pep_len:\n",
    "                    first_c = chain_seq.find(c)\n",
    "                    a = list(seq)\n",
    "                    a[first_c:first_c+pep_len] = pep\n",
    "                    assert len(set(chain_seq[first_c:first_c+pep_len])) == 1\n",
    "                    decoy = \"\".join(a)\n",
    "                    decoy_list.append(decoy)\n",
    "    _all.append([pdbName, len(decoy_list)])"
   ]
  },
  {
   "cell_type": "code",
   "execution_count": 8,
   "metadata": {},
   "outputs": [
    {
     "data": {
      "text/html": [
       "<div>\n",
       "<style scoped>\n",
       "    .dataframe tbody tr th:only-of-type {\n",
       "        vertical-align: middle;\n",
       "    }\n",
       "\n",
       "    .dataframe tbody tr th {\n",
       "        vertical-align: top;\n",
       "    }\n",
       "\n",
       "    .dataframe thead th {\n",
       "        text-align: right;\n",
       "    }\n",
       "</style>\n",
       "<table border=\"1\" class=\"dataframe\">\n",
       "  <thead>\n",
       "    <tr style=\"text-align: right;\">\n",
       "      <th></th>\n",
       "      <th>Name</th>\n",
       "      <th>Length</th>\n",
       "    </tr>\n",
       "  </thead>\n",
       "  <tbody>\n",
       "    <tr>\n",
       "      <th>23</th>\n",
       "      <td>3D39</td>\n",
       "      <td>0</td>\n",
       "    </tr>\n",
       "    <tr>\n",
       "      <th>62</th>\n",
       "      <td>3D3V</td>\n",
       "      <td>0</td>\n",
       "    </tr>\n",
       "    <tr>\n",
       "      <th>13</th>\n",
       "      <td>3VXM</td>\n",
       "      <td>100</td>\n",
       "    </tr>\n",
       "    <tr>\n",
       "      <th>46</th>\n",
       "      <td>3VXR</td>\n",
       "      <td>100</td>\n",
       "    </tr>\n",
       "    <tr>\n",
       "      <th>41</th>\n",
       "      <td>3VXS</td>\n",
       "      <td>100</td>\n",
       "    </tr>\n",
       "    <tr>\n",
       "      <th>45</th>\n",
       "      <td>3VXU</td>\n",
       "      <td>100</td>\n",
       "    </tr>\n",
       "    <tr>\n",
       "      <th>40</th>\n",
       "      <td>5YXN</td>\n",
       "      <td>0</td>\n",
       "    </tr>\n",
       "    <tr>\n",
       "      <th>37</th>\n",
       "      <td>5YXU</td>\n",
       "      <td>0</td>\n",
       "    </tr>\n",
       "    <tr>\n",
       "      <th>68</th>\n",
       "      <td>MAGEA3</td>\n",
       "      <td>200</td>\n",
       "    </tr>\n",
       "  </tbody>\n",
       "</table>\n",
       "</div>"
      ],
      "text/plain": [
       "      Name  Length\n",
       "23    3D39       0\n",
       "62    3D3V       0\n",
       "13    3VXM     100\n",
       "46    3VXR     100\n",
       "41    3VXS     100\n",
       "45    3VXU     100\n",
       "40    5YXN       0\n",
       "37    5YXU       0\n",
       "68  MAGEA3     200"
      ]
     },
     "execution_count": 8,
     "metadata": {},
     "output_type": "execute_result"
    }
   ],
   "source": [
    "a = pd.DataFrame(_all, columns=[\"Name\", \"Length\"])\n",
    "a.query(\"Length < 1000\").sort_values(\"Name\")"
   ]
  },
  {
   "cell_type": "code",
   "execution_count": 16,
   "metadata": {},
   "outputs": [],
   "source": [
    "pdbList = list(a.query(\"Length == 1000\")[\"Name\"])"
   ]
  },
  {
   "cell_type": "code",
   "execution_count": 17,
   "metadata": {},
   "outputs": [
    {
     "data": {
      "text/plain": [
       "72"
      ]
     },
     "execution_count": 17,
     "metadata": {},
     "output_type": "execute_result"
    }
   ],
   "source": [
    "len(pdbFolderList)"
   ]
  },
  {
   "cell_type": "code",
   "execution_count": 18,
   "metadata": {},
   "outputs": [
    {
     "data": {
      "text/plain": [
       "63"
      ]
     },
     "execution_count": 18,
     "metadata": {},
     "output_type": "execute_result"
    }
   ],
   "source": [
    "len(pdbList)"
   ]
  },
  {
   "cell_type": "code",
   "execution_count": 20,
   "metadata": {},
   "outputs": [],
   "source": [
    "pre = \"/Users/weilu/Research/server/sep_2019/peptide_optimization_trial_8_larger_set\"\n",
    "do(f\"mkdir -p {pre}\")\n",
    "do(f\"mkdir -p {pre}/database/dompdb\")\n",
    "do(f\"mkdir -p {pre}/database/S20_seq\")\n",
    "do(f\"mkdir -p {pre}/optimization/decoys/shuffle\")\n",
    "# generate decoys\n",
    "protein_list = []\n",
    "for pdbFolder in pdbFolderList:\n",
    "    pdbName = pdbFolder.split(\"_\")[-1]\n",
    "    if pdbName not in pdbList:\n",
    "        continue\n",
    "    source = pdbFolder + f\"/*.pdb\"\n",
    "    p_list = glob.glob(source)\n",
    "    # print(p_list, source)\n",
    "    assert len(p_list) == 1\n",
    "    p = p_list[0]\n",
    "    chain_seq, seq = getChainsAndSeq(p)\n",
    "    \n",
    "    # print(pdbName, i, len(seq), len(chain_seq))\n",
    "    decoy_list = []\n",
    "    with open(f\"{pdbFolder}/peptide.txt\") as f:\n",
    "        for line in f:\n",
    "            pep = line.strip()\n",
    "            pep_len = len(pep)\n",
    "            # assert len(pep) == 9\n",
    "            for c in list(set(chain_seq)):\n",
    "                if chain_seq.count(c) == pep_len:\n",
    "                    first_c = chain_seq.find(c)\n",
    "                    a = list(seq)\n",
    "                    a[first_c:first_c+pep_len] = pep\n",
    "                    assert len(set(chain_seq[first_c:first_c+pep_len])) == 1\n",
    "                    decoy = \"\".join(a)\n",
    "                    decoy_list.append(decoy)\n",
    "    # two branch. one: all become one.\n",
    "    if len(decoy_list) == 0:\n",
    "        continue\n",
    "    opt_pdbName = f\"{pdbName}\"\n",
    "    fileLocation = f\"{pre}/optimization/decoys/shuffle/{opt_pdbName}.decoys\"\n",
    "    # print(\"1\", pdbName, len(decoy_list), pep_len)\n",
    "    with open(fileLocation, \"w\") as out:\n",
    "        if len(decoy_list) != 1000:\n",
    "            print(\"wrong\")\n",
    "            decoy_list = random.choices(decoy_list, k=1000)\n",
    "        for decoy in decoy_list:\n",
    "            out.write(decoy+\"\\n\")\n",
    "    protein_list.append(opt_pdbName)\n",
    "\n",
    "\n",
    "    target = f\"{pre}/database/dompdb/{opt_pdbName}.pdb\"\n",
    "    ## move native pdbs to dompdb\n",
    "    mycp(p, target)\n",
    "    ## move native seq to S20_seq\n",
    "    seq = getSeq(target)\n",
    "    fileLocation = f\"{pre}/database/S20_seq/{opt_pdbName}.seq\"\n",
    "    with open(fileLocation, \"w\") as out:\n",
    "        out.write(seq+\"\\n\")\n",
    "#     # two branch. one: set as 100 per structure.\n",
    "#     n = int(len(decoy_list) // 100)\n",
    "#     for i in range(n):\n",
    "#         opt_pdbName = f\"{pdbName}_{i}\"\n",
    "#         fileLocation = f\"{pre}/optimization/decoys/shuffle/{opt_pdbName}.decoys\"\n",
    "#         # print(\"1\", pdbName, len(decoy_list), pep_len)\n",
    "#         with open(fileLocation, \"w\") as out:\n",
    "#             for decoy in decoy_list[i*100:(i+1)*100]:\n",
    "#                 out.write(decoy+\"\\n\")\n",
    "#         protein_list.append(opt_pdbName)\n",
    "        \n",
    "        \n",
    "#         target = f\"{pre}/database/dompdb/{opt_pdbName}.pdb\"\n",
    "#         ## move native pdbs to dompdb\n",
    "#         mycp(p, target)\n",
    "#         ## move native seq to S20_seq\n",
    "#         seq = getSeq(target)\n",
    "#         fileLocation = f\"{pre}/database/S20_seq/{opt_pdbName}.seq\"\n",
    "#         with open(fileLocation, \"w\") as out:\n",
    "#             out.write(seq+\"\\n\")\n",
    "#     fileLocation = f\"{pre}/optimization/decoys/shuffle/{pdbName}.decoys\"\n",
    "# #     if len(decoy_list) == 0:\n",
    "# #         print(pdbName)\n",
    "#     print(\"1\", pdbName, len(decoy_list), pep_len)\n",
    "#     with open(fileLocation, \"w\") as out:\n",
    "#         for decoy in decoy_list:\n",
    "#             out.write(decoy+\"\\n\")"
   ]
  },
  {
   "cell_type": "code",
   "execution_count": 21,
   "metadata": {},
   "outputs": [
    {
     "data": {
      "text/plain": [
       "63"
      ]
     },
     "execution_count": 21,
     "metadata": {},
     "output_type": "execute_result"
    }
   ],
   "source": [
    "len(protein_list)"
   ]
  },
  {
   "cell_type": "code",
   "execution_count": 22,
   "metadata": {},
   "outputs": [
    {
     "data": {
      "text/plain": [
       "0"
      ]
     },
     "execution_count": 22,
     "metadata": {},
     "output_type": "execute_result"
    }
   ],
   "source": [
    "do(f\"mkdir -p {pre}/optimization\")\n",
    "do(f\"mkdir -p {pre}/phis\")\n",
    "\n",
    "## write protein_list\n",
    "fileLocation = f\"{pre}/optimization/protein_list\"\n",
    "with open(fileLocation, \"w\") as out:\n",
    "    for pdbName in protein_list:\n",
    "        out.write(f\"{pdbName}\\n\")\n",
    "\n",
    "do(f\"cp ~/opt/optimization/phi_list_contact.txt {pre}/optimization/phi_list.txt\")"
   ]
  }
 ],
 "metadata": {
  "kernelspec": {
   "display_name": "Python 3",
   "language": "python",
   "name": "python3"
  },
  "language_info": {
   "codemirror_mode": {
    "name": "ipython",
    "version": 3
   },
   "file_extension": ".py",
   "mimetype": "text/x-python",
   "name": "python",
   "nbconvert_exporter": "python",
   "pygments_lexer": "ipython3",
   "version": "3.6.8"
  }
 },
 "nbformat": 4,
 "nbformat_minor": 2
}
