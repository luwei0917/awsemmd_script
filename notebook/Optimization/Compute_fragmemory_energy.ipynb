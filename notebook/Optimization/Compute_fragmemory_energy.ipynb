{
 "cells": [
  {
   "cell_type": "code",
   "execution_count": 2,
   "metadata": {},
   "outputs": [],
   "source": [
    "import os\n",
    "import sys\n",
    "import random\n",
    "import time\n",
    "from random import seed, randint\n",
    "import argparse\n",
    "import platform\n",
    "from datetime import datetime\n",
    "import imp\n",
    "import numpy as np\n",
    "import fileinput\n",
    "from itertools import product\n",
    "import pandas as pd\n",
    "from scipy.interpolate import griddata\n",
    "from scipy.interpolate import interp2d\n",
    "import seaborn as sns\n",
    "from os import listdir\n",
    "\n",
    "import matplotlib.pyplot as plt\n",
    "import seaborn as sns\n",
    "from scipy.interpolate import griddata\n",
    "import matplotlib as mpl\n",
    "# sys.path.insert(0,'..')\n",
    "# from notebookFunctions import *\n",
    "# from .. import notebookFunctions\n",
    "\n",
    "from Bio.PDB.PDBParser import PDBParser\n",
    "sys.path.insert(0, '/Users/weilu/Research/opt_server/')\n",
    "from pyCodeLib import *\n",
    "%matplotlib inline\n",
    "plt.rcParams['figure.figsize'] = (10,6.180)    #golden ratio\n",
    "plt.rcParams['figure.facecolor'] = 'w'\n",
    "# %matplotlib notebook\n",
    "%load_ext autoreload\n",
    "%autoreload 2"
   ]
  },
  {
   "cell_type": "markdown",
   "metadata": {},
   "source": [
    "# Using the openmmawsem pdb."
   ]
  },
  {
   "cell_type": "code",
   "execution_count": 11,
   "metadata": {},
   "outputs": [
    {
     "name": "stderr",
     "output_type": "stream",
     "text": [
      "/Users/weilu/anaconda/lib/python3.6/site-packages/Bio/PDB/Polypeptide.py:328: UserWarning: Assuming residue NGP is an unknown modified amino acid\n",
      "  \"amino acid\" % residue.get_resname())\n",
      "/Users/weilu/anaconda/lib/python3.6/site-packages/Bio/PDB/Polypeptide.py:328: UserWarning: Assuming residue IPR is an unknown modified amino acid\n",
      "  \"amino acid\" % residue.get_resname())\n"
     ]
    }
   ],
   "source": [
    "input_pdb_filename = \"/Users/weilu/Research/server/oct_2020/membrane_protein_structure_prediction/setups/1py6/1py6-openmmawsem\"\n",
    "\n",
    "structure = parse_pdb(input_pdb_filename)\n",
    "res_list = get_res_list(structure)\n",
    "neighbor_list = get_neighbor_list(structure)\n",
    "sequence = get_sequence_from_structure(structure)"
   ]
  },
  {
   "cell_type": "code",
   "execution_count": 14,
   "metadata": {},
   "outputs": [],
   "source": [
    "all_atoms = list(structure.get_atoms())"
   ]
  },
  {
   "cell_type": "code",
   "execution_count": 5,
   "metadata": {
    "collapsed": true
   },
   "outputs": [],
   "source": [
    "frag_table_file = \"/Users/weilu/Research/server/oct_2020/membrane_protein_structure_prediction/setups/1py6/ha.npy\"\n",
    "frag_table, interaction_list, interaction_pair_to_bond_index = np.load(frag_table_file, allow_pickle=True)"
   ]
  },
  {
   "cell_type": "code",
   "execution_count": 9,
   "metadata": {},
   "outputs": [
    {
     "data": {
      "text/plain": [
       "(4794, 500)"
      ]
     },
     "execution_count": 9,
     "metadata": {},
     "output_type": "execute_result"
    }
   ],
   "source": [
    "frag_table.shape"
   ]
  },
  {
   "cell_type": "code",
   "execution_count": 28,
   "metadata": {},
   "outputs": [],
   "source": [
    "\n",
    "\n",
    "\n",
    "k_fm = 0.01   # 0.04184\n",
    "frag_table_rmin = 0\n",
    "frag_table_rmax = 5  # in nm\n",
    "frag_table_dr = 0.01\n",
    "r_table_size = int((frag_table_rmax - frag_table_rmin)/frag_table_dr)  # 500 here.\n",
    "max_r_index_1 = r_table_size - 2\n",
    "\n",
    "energy = 0\n",
    "for (i, j) in interaction_list:\n",
    "    index = interaction_pair_to_bond_index[(i,j)]\n",
    "    r = (all_atoms[i] - all_atoms[j]) / 10    # in unit of nm\n",
    "    r_index_1=int(min(max_r_index_1, np.floor(r/frag_table_dr)))\n",
    "    r_index_2=r_index_1+1\n",
    "    r_1=frag_table_rmin+frag_table_dr*r_index_1\n",
    "    r_2=frag_table_rmin+frag_table_dr*r_index_2\n",
    "    v1=frag_table[index, r_index_1]\n",
    "    v2=frag_table[index, r_index_2]\n",
    "\n",
    "    energy += k_fm*((v2-v1)*r+v1*r_2-v2*r_1)/(r_2-r_1)"
   ]
  },
  {
   "cell_type": "code",
   "execution_count": 29,
   "metadata": {},
   "outputs": [
    {
     "data": {
      "text/plain": [
       "1071.0001428480382"
      ]
     },
     "execution_count": 29,
     "metadata": {},
     "output_type": "execute_result"
    }
   ],
   "source": [
    "energy"
   ]
  },
  {
   "cell_type": "code",
   "execution_count": 37,
   "metadata": {},
   "outputs": [
    {
     "data": {
      "text/plain": [
       "66.25167394019772"
      ]
     },
     "execution_count": 37,
     "metadata": {},
     "output_type": "execute_result"
    }
   ],
   "source": [
    "energy = 0\n",
    "for (i, j) in interaction_list:\n",
    "    if i in range(590, 720):\n",
    "        index = interaction_pair_to_bond_index[(i,j)]\n",
    "        r = (all_atoms[i] - all_atoms[j]) / 10    # in unit of nm\n",
    "        r_index_1=int(min(max_r_index_1, np.floor(r/frag_table_dr)))\n",
    "        r_index_2=r_index_1+1\n",
    "        r_1=frag_table_rmin+frag_table_dr*r_index_1\n",
    "        r_2=frag_table_rmin+frag_table_dr*r_index_2\n",
    "        v1=frag_table[index, r_index_1]\n",
    "        v2=frag_table[index, r_index_2]\n",
    "\n",
    "        energy += k_fm*((v2-v1)*r+v1*r_2-v2*r_1)/(r_2-r_1)\n",
    "energy"
   ]
  },
  {
   "cell_type": "code",
   "execution_count": null,
   "metadata": {
    "collapsed": true
   },
   "outputs": [],
   "source": [
    "590, 720"
   ]
  },
  {
   "cell_type": "code",
   "execution_count": 38,
   "metadata": {},
   "outputs": [
    {
     "data": {
      "text/plain": [
       "133.29152124096757"
      ]
     },
     "execution_count": 38,
     "metadata": {},
     "output_type": "execute_result"
    }
   ],
   "source": [
    "energy = 0\n",
    "for (i, j) in interaction_list:\n",
    "    if i in range(460, 590):\n",
    "        index = interaction_pair_to_bond_index[(i,j)]\n",
    "        r = (all_atoms[i] - all_atoms[j]) / 10    # in unit of nm\n",
    "        r_index_1=int(min(max_r_index_1, np.floor(r/frag_table_dr)))\n",
    "        r_index_2=r_index_1+1\n",
    "        r_1=frag_table_rmin+frag_table_dr*r_index_1\n",
    "        r_2=frag_table_rmin+frag_table_dr*r_index_2\n",
    "        v1=frag_table[index, r_index_1]\n",
    "        v2=frag_table[index, r_index_2]\n",
    "\n",
    "        energy += k_fm*((v2-v1)*r+v1*r_2-v2*r_1)/(r_2-r_1)\n",
    "energy"
   ]
  },
  {
   "cell_type": "code",
   "execution_count": 30,
   "metadata": {},
   "outputs": [
    {
     "data": {
      "text/plain": [
       "958.8000000000001"
      ]
     },
     "execution_count": 30,
     "metadata": {},
     "output_type": "execute_result"
    }
   ],
   "source": [
    "20*0.01*4794"
   ]
  },
  {
   "cell_type": "code",
   "execution_count": 31,
   "metadata": {},
   "outputs": [
    {
     "data": {
      "text/plain": [
       "101.55236359252825"
      ]
     },
     "execution_count": 31,
     "metadata": {},
     "output_type": "execute_result"
    }
   ],
   "source": [
    "frag_table.max()"
   ]
  },
  {
   "cell_type": "code",
   "execution_count": 34,
   "metadata": {},
   "outputs": [
    {
     "data": {
      "text/plain": [
       "(array([2.170933e+06, 1.173400e+05, 5.532500e+04, 2.838400e+04,\n",
       "        1.427500e+04, 6.841000e+03, 2.900000e+03, 7.520000e+02,\n",
       "        1.690000e+02, 8.100000e+01]),\n",
       " array([2.02524932e-260, 1.01552364e+001, 2.03104727e+001, 3.04657091e+001,\n",
       "        4.06209454e+001, 5.07761818e+001, 6.09314182e+001, 7.10866545e+001,\n",
       "        8.12418909e+001, 9.13971272e+001, 1.01552364e+002]),\n",
       " <a list of 10 Patch objects>)"
      ]
     },
     "execution_count": 34,
     "metadata": {},
     "output_type": "execute_result"
    },
    {
     "data": {
      "image/png": "[encoded data removed]",
      "text/plain": [
       "<Figure size 720x444.96 with 1 Axes>"
      ]
     },
     "metadata": {},
     "output_type": "display_data"
    }
   ],
   "source": [
    "plt.hist(frag_table.flatten())"
   ]
  },
  {
   "cell_type": "code",
   "execution_count": null,
   "metadata": {
    "collapsed": true
   },
   "outputs": [],
   "source": []
  },
  {
   "cell_type": "code",
   "execution_count": 26,
   "metadata": {},
   "outputs": [
    {
     "data": {
      "text/plain": [
       "126.0"
      ]
     },
     "execution_count": 26,
     "metadata": {},
     "output_type": "execute_result"
    }
   ],
   "source": [
    "r_index_1"
   ]
  },
  {
   "cell_type": "code",
   "execution_count": null,
   "metadata": {
    "collapsed": true
   },
   "outputs": [],
   "source": [
    "    max_r_index_1 = r_table_size - 2\n",
    "    fm = CustomCompoundBondForce(2, f\"-{k_fm}*((v2-v1)*r+v1*r_2-v2*r_1)/(r_2-r_1); \\\n",
    "                                v1=frag_table(index, r_index_1);\\\n",
    "                                v2=frag_table(index, r_index_2);\\\n",
    "                                r_1={frag_table_rmin}+{frag_table_dr}*r_index_1;\\\n",
    "                                r_2={frag_table_rmin}+{frag_table_dr}*r_index_2;\\\n",
    "                                r_index_2=r_index_1+1;\\\n",
    "                                r_index_1=min({max_r_index_1}, floor(r/{frag_table_dr}));\\\n",
    "                                r=distance(p1, p2);\")\n",
    "    for (i, j) in interaction_list:\n",
    "        if caOnly and ((i not in oa.ca) or (j not in oa.ca)):\n",
    "            continue\n",
    "        fm.addBond([i, j], [interaction_pair_to_bond_index[(i,j)]])"
   ]
  },
  {
   "cell_type": "code",
   "execution_count": null,
   "metadata": {
    "collapsed": true
   },
   "outputs": [],
   "source": [
    "\n",
    "\n",
    "def fragment_memory_term(oa, k_fm=0.04184, frag_file_list_file=\"./frag.mem\", npy_frag_table=\"./frag_table.npy\",\n",
    "                    min_seq_sep=3, max_seq_sep=9, fm_well_width=0.1, UseSavedFragTable=True, caOnly=False, forceGroup=23):\n",
    "    # 0.8368 = 0.01 * 4.184 # in kJ/mol, converted from default value in LAMMPS AWSEM\n",
    "    k_fm *= oa.k_awsem\n",
    "    frag_table_rmin = 0\n",
    "    frag_table_rmax = 5  # in nm\n",
    "    frag_table_dr = 0.01\n",
    "    r_array = np.arange(frag_table_rmin, frag_table_rmax, frag_table_dr)\n",
    "    number_of_atoms = oa.natoms\n",
    "    r_table_size = int((frag_table_rmax - frag_table_rmin)/frag_table_dr)  # 500 here.\n",
    "    raw_frag_table = np.zeros((number_of_atoms, 6*(1+max_seq_sep), r_table_size))\n",
    "    data_dic = {}\n",
    "    for i in range(oa.natoms):\n",
    "        if i in oa.ca:\n",
    "            res_id = oa.resi[i]    # oa.resi start with 0, but pdb residue id start with 1\n",
    "            data_dic[(\"CA\", 1+int(res_id))] = i\n",
    "        if i in oa.cb:\n",
    "            res_id = oa.resi[i]\n",
    "            data_dic[(\"CB\", 1+int(res_id))] = i\n",
    "    # print(oa.res_type)\n",
    "    # print(oa.resi)\n",
    "    # print(data_dic)\n",
    "    frag_location_pre = os.path.dirname(frag_file_list_file)\n",
    "    # frag_file_list_file = frag_location_pre + \"frags.mem\"\n",
    "    # frag_table_file = frag_location_pre + \"frag_table.npy\"\n",
    "    frag_table_file = npy_frag_table\n",
    "\n",
    "    if os.path.isfile(frag_table_file) and UseSavedFragTable:\n",
    "        print(f\"Reading Fragment table from {frag_table_file}.\")\n",
    "        frag_table, interaction_list, interaction_pair_to_bond_index = np.load(frag_table_file, allow_pickle=True)\n",
    "        print(f\"Fragment table loaded, number of bonds: {len(interaction_list)}\")\n",
    "        frag_file_list = []\n",
    "    else:\n",
    "        print(f\"Loading Fragment files(Gro files)\")\n",
    "        frag_file_list = pd.read_csv(frag_file_list_file, skiprows=4, sep=\"\\s+\", names=[\"location\", \"target_start\", \"fragment_start\", \"frag_len\", \"weight\"])\n",
    "        interaction_list = set()\n",
    "    for frag_index in range(len(frag_file_list)):\n",
    "        location = frag_file_list[\"location\"].iloc[frag_index]\n",
    "        frag_name = os.path.join(frag_location_pre, location)\n",
    "        frag_len = frag_file_list[\"frag_len\"].iloc[frag_index]\n",
    "        weight = frag_file_list[\"weight\"].iloc[frag_index]\n",
    "        target_start = frag_file_list[\"target_start\"].iloc[frag_index]  # residue id\n",
    "        fragment_start = frag_file_list[\"fragment_start\"].iloc[frag_index]  # residue id\n",
    "        frag = pd.read_csv(frag_name, skiprows=2, sep=\"\\s+\", header=None, names=[\"Res_id\", \"Res\", \"Type\", \"i\", \"x\", \"y\", \"z\"])\n",
    "        frag = frag.query(f\"Res_id >= {fragment_start} and Res_id < {fragment_start+frag_len} and (Type == 'CA' or Type == 'CB')\")\n",
    "        w_m = weight\n",
    "        gamma_ij = 1\n",
    "        f = frag.values\n",
    "        for i in range(len(frag)):\n",
    "            for j in range(i, len(frag)):\n",
    "                res_id_i = frag[\"Res_id\"].iloc[i]\n",
    "                res_id_j = frag[\"Res_id\"].iloc[j]\n",
    "                target_res_id_i = frag[\"Res_id\"].iloc[i] - fragment_start + target_start\n",
    "                target_res_id_j = frag[\"Res_id\"].iloc[j] - fragment_start + target_start\n",
    "                seq_sep = res_id_j - res_id_i\n",
    "                if seq_sep > max_seq_sep:\n",
    "                    continue\n",
    "                if seq_sep < min_seq_sep:\n",
    "                    continue\n",
    "                try:\n",
    "                    i_type = frag[\"Type\"].iloc[i]\n",
    "                    j_type = frag[\"Type\"].iloc[j]\n",
    "                    correspond_target_i = data_dic[(i_type, int(target_res_id_i))]\n",
    "                    correspond_target_j = data_dic[(j_type, int(target_res_id_j))]\n",
    "                    correspond_target_i = int(correspond_target_i)\n",
    "                    correspond_target_j = int(correspond_target_j)\n",
    "                except Exception as e:\n",
    "                    continue\n",
    "\n",
    "                fi_x = f[i][4]\n",
    "                fi_y = f[i][5]\n",
    "                fi_z = f[i][6]\n",
    "\n",
    "                fj_x = f[j][4]\n",
    "                fj_y = f[j][5]\n",
    "                fj_z = f[j][6]\n",
    "                # print(\"----\", fi_x, fi_y, fi_z, fj_x, fj_y, fj_z)\n",
    "                sigma_ij = fm_well_width*seq_sep**0.15\n",
    "                rm = ((fi_x-fj_x)**2 + (fi_y-fj_y)**2 + (fi_z-fj_z)**2)**0.5\n",
    "\n",
    "                i_j_sep = int(correspond_target_j - correspond_target_i)\n",
    "\n",
    "                raw_frag_table[correspond_target_i][i_j_sep] += w_m*gamma_ij*np.exp((r_array-rm)**2/(-2.0*sigma_ij**2))\n",
    "                interaction_list.add((correspond_target_i, correspond_target_j))\n",
    "    if (not os.path.isfile(frag_table_file)) or (not UseSavedFragTable):\n",
    "        # Reduce memory usage.\n",
    "        print(\"Saving fragment table as npy file to speed up future calculation.\")\n",
    "        number_of_bonds = len(interaction_list)\n",
    "        frag_table = np.zeros((number_of_bonds, r_table_size))\n",
    "        interaction_pair_to_bond_index = {}\n",
    "        for index, (i, j) in enumerate(interaction_list):\n",
    "            ij_sep = j - i\n",
    "            assert(ij_sep > 0)\n",
    "            frag_table[index] = raw_frag_table[i][ij_sep]\n",
    "            interaction_pair_to_bond_index[(i,j)] = index\n",
    "        np.save(frag_table_file, (frag_table, interaction_list, interaction_pair_to_bond_index))\n",
    "        print(f\"All gro files information have been stored in the {frag_table_file}. \\\n",
    "            \\nYou might want to set the 'UseSavedFragTable'=True to speed up the loading next time. \\\n",
    "            \\nBut be sure to remove the .npy file if you modify the .mem file. otherwise it will keep using the old frag memeory.\")\n",
    "    # fm = CustomNonbondedForce(f\"-k_fm*((v2-v1)*r+v1*r_2-v2*r_1)/(r_2-r_1); \\\n",
    "    #                             v1=frag_table(index_smaller, sep, r_index_1);\\\n",
    "    #                             v2=frag_table(index_smaller, sep, r_index_2);\\\n",
    "    #                             index_smaller=min(index1,index2);\\\n",
    "    #                             sep=abs(index1-index2);\\\n",
    "    #                             r_1=frag_table_rmin+frag_table_dr*r_index_1;\\\n",
    "    #                             r_2=frag_table_rmin+frag_table_dr*r_index_2;\\\n",
    "    #                             r_index_2=r_index_1+1;\\\n",
    "    #                             r_index_1=floor(r/frag_table_dr);\")\n",
    "    # for i in range(oa.natoms):\n",
    "    #     fm.addParticle([i])\n",
    "\n",
    "    # # add interaction that are cutoff away\n",
    "    # # print(sorted(interaction_list))\n",
    "    # for (i, j) in interaction_list:\n",
    "    #     fm.addInteractionGroup([i], [j])\n",
    "    # # add per-particle parameters\n",
    "    # fm.addPerParticleParameter(\"index\")\n",
    "\n",
    "    # for edge case, that r > frag_table_rmax\n",
    "    max_r_index_1 = r_table_size - 2\n",
    "    fm = CustomCompoundBondForce(2, f\"-{k_fm}*((v2-v1)*r+v1*r_2-v2*r_1)/(r_2-r_1); \\\n",
    "                                v1=frag_table(index, r_index_1);\\\n",
    "                                v2=frag_table(index, r_index_2);\\\n",
    "                                r_1={frag_table_rmin}+{frag_table_dr}*r_index_1;\\\n",
    "                                r_2={frag_table_rmin}+{frag_table_dr}*r_index_2;\\\n",
    "                                r_index_2=r_index_1+1;\\\n",
    "                                r_index_1=min({max_r_index_1}, floor(r/{frag_table_dr}));\\\n",
    "                                r=distance(p1, p2);\")\n",
    "    for (i, j) in interaction_list:\n",
    "        if caOnly and ((i not in oa.ca) or (j not in oa.ca)):\n",
    "            continue\n",
    "        fm.addBond([i, j], [interaction_pair_to_bond_index[(i,j)]])\n",
    "\n",
    "    fm.addPerBondParameter(\"index\")\n",
    "\n",
    "    fm.addTabulatedFunction(\"frag_table\",\n",
    "            Discrete2DFunction(len(interaction_list), r_table_size, frag_table.T.flatten()))\n",
    "\n",
    "\n",
    "    fm.setForceGroup(forceGroup)\n",
    "    return fm\n"
   ]
  }
 ],
 "metadata": {
  "kernelspec": {
   "display_name": "Python 3",
   "language": "python",
   "name": "python3"
  },
  "language_info": {
   "codemirror_mode": {
    "name": "ipython",
    "version": 3
   },
   "file_extension": ".py",
   "mimetype": "text/x-python",
   "name": "python",
   "nbconvert_exporter": "python",
   "pygments_lexer": "ipython3",
   "version": "3.6.7"
  }
 },
 "nbformat": 4,
 "nbformat_minor": 2
}
