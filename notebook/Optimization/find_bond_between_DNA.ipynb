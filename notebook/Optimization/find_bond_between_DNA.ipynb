{
 "cells": [
  {
   "cell_type": "code",
   "execution_count": 3,
   "metadata": {
    "collapsed": true
   },
   "outputs": [],
   "source": [
    "from simtk.openmm.app import *\n",
    "from simtk.openmm import *\n",
    "from simtk.unit import *\n",
    "from sys import stdout\n",
    "import pandas as pd"
   ]
  },
  {
   "cell_type": "code",
   "execution_count": 2,
   "metadata": {
    "collapsed": true
   },
   "outputs": [],
   "source": [
    "pre = \"/Users/weilu/Research/server/jun_week1_2020/protein_DNA_benchmark/\"\n",
    "fileLocation = f\"{pre}/DNAProtein_Platform_OpenCL_date_20200226_pdb_1a36_repetition_0_clean.pdb\"\n",
    "pdb = PDBFile(fileLocation)"
   ]
  },
  {
   "cell_type": "code",
   "execution_count": 4,
   "metadata": {
    "collapsed": true
   },
   "outputs": [],
   "source": [
    "res_list = list(pdb.topology.residues())"
   ]
  },
  {
   "cell_type": "code",
   "execution_count": 6,
   "metadata": {
    "collapsed": true
   },
   "outputs": [],
   "source": [
    "res_list = list(pdb.topology.residues())\n",
    "atom_list = list(pdb.topology.atoms())\n",
    "protein_resNames = [\"NGP\", \"IGL\", \"IPR\", \"NTER\", \"CTER\"]\n",
    "DNA_resNames = [\"DA\", \"DC\", \"DT\", \"DG\"]\n",
    "protein_res_list = []\n",
    "DNA_res_list = []\n",
    "ligand_res_list = []\n",
    "for res in res_list:\n",
    "    if res.name in protein_resNames:\n",
    "        protein_res_list.append(res)\n",
    "    elif res.name in DNA_resNames:\n",
    "        DNA_res_list.append(res)\n",
    "    else:\n",
    "        ligand_res_list.append(res)\n",
    "\n",
    "protein_atom_list = []\n",
    "DNA_atom_list = []\n",
    "ligand_atom_list = []\n",
    "for atom in atom_list:\n",
    "    if atom.residue.name in protein_resNames:\n",
    "        protein_atom_list.append(atom)\n",
    "    elif atom.residue.name in DNA_resNames:\n",
    "        DNA_atom_list.append(atom)\n",
    "    else:\n",
    "        ligand_atom_list.append(atom)\n",
    "\n"
   ]
  },
  {
   "cell_type": "code",
   "execution_count": 38,
   "metadata": {
    "collapsed": true
   },
   "outputs": [],
   "source": [
    "a = DNA_atom_list[0]"
   ]
  },
  {
   "cell_type": "code",
   "execution_count": 45,
   "metadata": {},
   "outputs": [
    {
     "data": {
      "text/plain": [
       "0"
      ]
     },
     "execution_count": 45,
     "metadata": {},
     "output_type": "execute_result"
    }
   ],
   "source": [
    "a.index"
   ]
  },
  {
   "cell_type": "code",
   "execution_count": 51,
   "metadata": {
    "collapsed": true
   },
   "outputs": [],
   "source": [
    "a = (atom1_pos - atom2_pos)"
   ]
  },
  {
   "cell_type": "code",
   "execution_count": 53,
   "metadata": {
    "collapsed": true
   },
   "outputs": [],
   "source": [
    "def compute_dis(pos1, pos2):\n",
    "    dis = pos1 - pos2\n",
    "    dis = dis.value_in_unit(nanometer)\n",
    "    r = (dis[0]**2 + dis[1]**2 + dis[2]**2)**0.5\n",
    "    return r"
   ]
  },
  {
   "cell_type": "code",
   "execution_count": 4,
   "metadata": {
    "collapsed": true
   },
   "outputs": [],
   "source": [
    "import sys\n",
    "\n",
    "sys.path.append(\"/projects/pw8/wl45/open3spn2\")\n",
    "sys.path.append(\"/projects/pw8/wl45/openawsem\")\n",
    "sys.path.append(\"/Users/weilu/open3spn2\")\n",
    "sys.path.append(\"/Users/weilu/openmmawsem\")\n",
    "sys.path.append(\"C:/Users/luwei/Documents/GitHub/open3spn2\")\n",
    "sys.path.append(\"C:/Users/luwei/Documents/GitHub/openawsem\")\n",
    "\n",
    "import open3SPN2"
   ]
  },
  {
   "cell_type": "code",
   "execution_count": 60,
   "metadata": {
    "collapsed": true
   },
   "outputs": [],
   "source": [
    "dna=open3SPN2.DNA.fromCoarsePDB(fileLocation)"
   ]
  },
  {
   "cell_type": "code",
   "execution_count": 85,
   "metadata": {
    "collapsed": true
   },
   "outputs": [],
   "source": [
    "bonds_list = []\n",
    "interacting_atom = [\"A\", \"C\", \"G\", \"T\"]\n",
    "a = data.query(\"resname in @DNA_resNames\").query(\"name in @interacting_atom\").reset_index(drop=True)\n",
    "n_atom = len(a)\n",
    "for i in range(n_atom):\n",
    "    dna_res_1 = a.iloc[i]\n",
    "    chainID_1 = dna_res_1[\"chainID\"]\n",
    "    for j in range(i+1, n_atom):\n",
    "        dna_res_2 = a.iloc[j]\n",
    "        chainID_2 = dna_res_2[\"chainID\"]\n",
    "        if chainID_1 == chainID_2:\n",
    "            continue\n",
    "        atom1_pos = dna_res_1[[\"x\", \"y\", \"z\"]].values\n",
    "        atom2_pos = dna_res_2[[\"x\", \"y\", \"z\"]].values\n",
    "        dis = atom1_pos - atom2_pos\n",
    "        r = (dis[0]**2 + dis[1]**2 + dis[2]**2)**0.5\n",
    "        if r > 6.5:\n",
    "            continue\n",
    "        # print(i, j, r)\n",
    "        bonds_list.append([dna_res_1[\"serial\"], dna_res_2[\"serial\"], r])"
   ]
  },
  {
   "cell_type": "code",
   "execution_count": null,
   "metadata": {
    "collapsed": true
   },
   "outputs": [],
   "source": [
    "for (atom1, atom2, r) in bonds_list:\n",
    "    print(atom1, atom2, r)"
   ]
  },
  {
   "cell_type": "code",
   "execution_count": 72,
   "metadata": {
    "collapsed": true
   },
   "outputs": [],
   "source": [
    "b = a.iloc[1][[\"x\", \"y\", \"z\"]].values"
   ]
  },
  {
   "cell_type": "code",
   "execution_count": 93,
   "metadata": {
    "collapsed": true
   },
   "outputs": [],
   "source": [
    "from open3SPN2 import function_terms"
   ]
  },
  {
   "cell_type": "code",
   "execution_count": 95,
   "metadata": {},
   "outputs": [
    {
     "ename": "TypeError",
     "evalue": "dna_constraint_term() missing 1 required positional argument: 'dna'",
     "output_type": "error",
     "traceback": [
      "\u001b[0;31m---------------------------------------------------------------------------\u001b[0m",
      "\u001b[0;31mTypeError\u001b[0m                                 Traceback (most recent call last)",
      "\u001b[0;32m<ipython-input-95-f5d7af583eb9>\u001b[0m in \u001b[0;36m<module>\u001b[0;34m()\u001b[0m\n\u001b[0;32m----> 1\u001b[0;31m \u001b[0mfunction_terms\u001b[0m\u001b[0;34m.\u001b[0m\u001b[0mdna_constraint_term\u001b[0m\u001b[0;34m(\u001b[0m\u001b[0;34m)\u001b[0m\u001b[0;34m\u001b[0m\u001b[0;34m\u001b[0m\u001b[0m\n\u001b[0m",
      "\u001b[0;31mTypeError\u001b[0m: dna_constraint_term() missing 1 required positional argument: 'dna'"
     ]
    }
   ],
   "source": [
    "function_terms.dna_constraint_term()"
   ]
  },
  {
   "cell_type": "code",
   "execution_count": 56,
   "metadata": {},
   "outputs": [
    {
     "name": "stdout",
     "output_type": "stream",
     "text": [
      "1 <Residue 1 (DA) of chain 0> 41 <Residue 41 (DT) of chain 1> 0.6469376708771873\n",
      "1 <Residue 1 (DA) of chain 0> 42 <Residue 42 (DT) of chain 1> 0.5491159258298746\n",
      "2 <Residue 2 (DA) of chain 0> 40 <Residue 40 (DT) of chain 1> 0.6349142776784908\n",
      "2 <Residue 2 (DA) of chain 0> 41 <Residue 41 (DT) of chain 1> 0.5734785785014116\n",
      "2 <Residue 2 (DA) of chain 0> 42 <Residue 42 (DT) of chain 1> 0.6200130724428318\n",
      "3 <Residue 3 (DA) of chain 0> 40 <Residue 40 (DT) of chain 1> 0.5904393025536154\n",
      "4 <Residue 4 (DA) of chain 0> 39 <Residue 39 (DT) of chain 1> 0.5754847174339213\n",
      "4 <Residue 4 (DA) of chain 0> 40 <Residue 40 (DT) of chain 1> 0.5720431714477502\n",
      "5 <Residue 5 (DG) of chain 0> 38 <Residue 38 (DC) of chain 1> 0.5760794563252537\n",
      "5 <Residue 5 (DG) of chain 0> 39 <Residue 39 (DT) of chain 1> 0.5544115168356443\n",
      "6 <Residue 6 (DA) of chain 0> 36 <Residue 36 (DG) of chain 1> 0.6052784483194491\n",
      "6 <Residue 6 (DA) of chain 0> 37 <Residue 37 (DT) of chain 1> 0.5796950922683405\n",
      "6 <Residue 6 (DA) of chain 0> 38 <Residue 38 (DC) of chain 1> 0.5980582078694345\n",
      "7 <Residue 7 (DC) of chain 0> 36 <Residue 36 (DG) of chain 1> 0.5328443393712653\n",
      "7 <Residue 7 (DC) of chain 0> 37 <Residue 37 (DT) of chain 1> 0.6420498189393095\n",
      "8 <Residue 8 (DT) of chain 0> 35 <Residue 35 (DA) of chain 1> 0.5820032474136202\n",
      "8 <Residue 8 (DT) of chain 0> 36 <Residue 36 (DG) of chain 1> 0.5415202489288831\n",
      "9 <Residue 9 (DT) of chain 0> 34 <Residue 34 (DA) of chain 1> 0.5892325008008298\n",
      "9 <Residue 9 (DT) of chain 0> 35 <Residue 35 (DA) of chain 1> 0.6020993771795484\n",
      "10 <Residue 10 (DA) of chain 0> 32 <Residue 32 (DC) of chain 1> 0.5970426282938265\n",
      "10 <Residue 10 (DA) of chain 0> 33 <Residue 33 (DT) of chain 1> 0.5811134656846285\n",
      "10 <Residue 10 (DA) of chain 0> 34 <Residue 34 (DA) of chain 1> 0.5754623966863512\n",
      "11 <Residue 11 (DG) of chain 0> 32 <Residue 32 (DC) of chain 1> 0.5413916235037259\n",
      "12 <Residue 12 (DA) of chain 0> 31 <Residue 31 (DT) of chain 1> 0.6100143768797585\n",
      "12 <Residue 12 (DA) of chain 0> 32 <Residue 32 (DC) of chain 1> 0.6040196106087947\n",
      "13 <Residue 13 (DA) of chain 0> 30 <Residue 30 (DT) of chain 1> 0.5981789782331036\n",
      "13 <Residue 13 (DA) of chain 0> 31 <Residue 31 (DT) of chain 1> 0.5980634163698698\n",
      "14 <Residue 14 (DA) of chain 0> 29 <Residue 29 (DT) of chain 1> 0.564754158904562\n",
      "14 <Residue 14 (DA) of chain 0> 30 <Residue 30 (DT) of chain 1> 0.5818033860334605\n",
      "15 <Residue 15 (DA) of chain 0> 28 <Residue 28 (DT) of chain 1> 0.5716752399745855\n",
      "15 <Residue 15 (DA) of chain 0> 29 <Residue 29 (DT) of chain 1> 0.6047832752317145\n",
      "16 <Residue 16 (DA) of chain 0> 27 <Residue 27 (DT) of chain 1> 0.5801131441365558\n",
      "16 <Residue 16 (DA) of chain 0> 28 <Residue 28 (DT) of chain 1> 0.5990289225070856\n",
      "17 <Residue 17 (DT) of chain 0> 26 <Residue 26 (DA) of chain 1> 0.5664125263445361\n",
      "17 <Residue 17 (DT) of chain 0> 27 <Residue 27 (DT) of chain 1> 0.6074839421746061\n",
      "18 <Residue 18 (DT) of chain 0> 24 <Residue 24 (DA) of chain 1> 0.6222450722986884\n",
      "18 <Residue 18 (DT) of chain 0> 25 <Residue 25 (DA) of chain 1> 0.5631799534784598\n",
      "18 <Residue 18 (DT) of chain 0> 26 <Residue 26 (DA) of chain 1> 0.5786104561792851\n",
      "19 <Residue 19 (DT) of chain 0> 24 <Residue 24 (DA) of chain 1> 0.5728446386237723\n",
      "19 <Residue 19 (DT) of chain 0> 25 <Residue 25 (DA) of chain 1> 0.6313309512450664\n",
      "20 <Residue 20 (DT) of chain 0> 23 <Residue 23 (DA) of chain 1> 0.5983505410710346\n",
      "20 <Residue 20 (DT) of chain 0> 24 <Residue 24 (DA) of chain 1> 0.5919594918573399\n",
      "21 <Residue 21 (DT) of chain 0> 22 <Residue 22 (DA) of chain 1> 0.5847357522847391\n"
     ]
    }
   ],
   "source": [
    "dna_res_n = len(DNA_res_list)\n",
    "for i in range(dna_res_n):\n",
    "    dna_res_1 = DNA_res_list[i]\n",
    "    chainID_1 = dna_res_1.chain.id\n",
    "    for j in range(i+1, dna_res_n):\n",
    "        dna_res_2 = DNA_res_list[j]\n",
    "        chainID_2 = dna_res_2.chain.id\n",
    "        if chainID_1 == chainID_2:\n",
    "            continue\n",
    "        atom_1 = get_interacting_DNA_atom(dna_res_1)\n",
    "        atom_2 = get_interacting_DNA_atom(dna_res_2)\n",
    "        atom1_pos = pdb.positions[atom_1.index]\n",
    "        atom2_pos = pdb.positions[atom_2.index]\n",
    "        r = compute_dis(atom1_pos, atom2_pos)\n",
    "        if r > 0.65:\n",
    "            continue\n",
    "        print(i, dna_res_1, j, dna_res_2, r)"
   ]
  },
  {
   "cell_type": "code",
   "execution_count": 34,
   "metadata": {
    "collapsed": true
   },
   "outputs": [],
   "source": [
    "def get_interacting_DNA_atom(DNA_res):\n",
    "    for atom in DNA_res.atoms():\n",
    "        # print(atom)\n",
    "        if atom.name in [\"A\", \"T\", \"C\", \"G\"]:\n",
    "            return atom\n",
    "        "
   ]
  },
  {
   "cell_type": "code",
   "execution_count": 12,
   "metadata": {},
   "outputs": [
    {
     "data": {
      "text/plain": [
       "[<Atom 127 (T) of chain 1 residue 43 (DT)>,\n",
       " <Atom 128 (P) of chain 1 residue 43 (DT)>,\n",
       " <Atom 129 (S) of chain 1 residue 43 (DT)>]"
      ]
     },
     "execution_count": 12,
     "metadata": {},
     "output_type": "execute_result"
    }
   ],
   "source": [
    "list(a.atoms())"
   ]
  },
  {
   "cell_type": "code",
   "execution_count": 29,
   "metadata": {},
   "outputs": [
    {
     "name": "stdout",
     "output_type": "stream",
     "text": [
      "<Atom 127 (T) of chain 1 residue 43 (DT)>\n",
      "<Atom 128 (P) of chain 1 residue 43 (DT)>\n",
      "<Atom 129 (S) of chain 1 residue 43 (DT)>\n"
     ]
    }
   ],
   "source": [
    "for atom in a.atoms():\n",
    "    print(atom)\n",
    "    if atom.name not in [\"A\", \"T\", \"C\", \"G\"]:\n",
    "        continue\n",
    "    for \n",
    "    "
   ]
  },
  {
   "cell_type": "code",
   "execution_count": null,
   "metadata": {
    "collapsed": true
   },
   "outputs": [],
   "source": []
  },
  {
   "cell_type": "code",
   "execution_count": 36,
   "metadata": {},
   "outputs": [
    {
     "ename": "TypeError",
     "evalue": "unsupported operand type(s) for -: 'Atom' and 'Atom'",
     "output_type": "error",
     "traceback": [
      "\u001b[0;31m---------------------------------------------------------------------------\u001b[0m",
      "\u001b[0;31mTypeError\u001b[0m                                 Traceback (most recent call last)",
      "\u001b[0;32m<ipython-input-36-82e2e0582e9e>\u001b[0m in \u001b[0;36m<module>\u001b[0;34m()\u001b[0m\n\u001b[0;32m----> 1\u001b[0;31m \u001b[0matom\u001b[0m \u001b[0;34m-\u001b[0m \u001b[0matom\u001b[0m\u001b[0;34m\u001b[0m\u001b[0;34m\u001b[0m\u001b[0m\n\u001b[0m",
      "\u001b[0;31mTypeError\u001b[0m: unsupported operand type(s) for -: 'Atom' and 'Atom'"
     ]
    }
   ],
   "source": [
    "atom - atom"
   ]
  },
  {
   "cell_type": "code",
   "execution_count": null,
   "metadata": {
    "collapsed": true
   },
   "outputs": [],
   "source": []
  },
  {
   "cell_type": "code",
   "execution_count": 30,
   "metadata": {},
   "outputs": [
    {
     "data": {
      "text/plain": [
       "'129'"
      ]
     },
     "execution_count": 30,
     "metadata": {},
     "output_type": "execute_result"
    }
   ],
   "source": [
    "atom.id"
   ]
  },
  {
   "cell_type": "code",
   "execution_count": 31,
   "metadata": {},
   "outputs": [
    {
     "data": {
      "text/plain": [
       "129"
      ]
     },
     "execution_count": 31,
     "metadata": {},
     "output_type": "execute_result"
    }
   ],
   "source": [
    "atom.index"
   ]
  },
  {
   "cell_type": "code",
   "execution_count": 33,
   "metadata": {},
   "outputs": [
    {
     "data": {
      "text/plain": [
       "'S'"
      ]
     },
     "execution_count": 33,
     "metadata": {},
     "output_type": "execute_result"
    }
   ],
   "source": []
  },
  {
   "cell_type": "code",
   "execution_count": null,
   "metadata": {
    "collapsed": true
   },
   "outputs": [],
   "source": []
  },
  {
   "cell_type": "code",
   "execution_count": 17,
   "metadata": {
    "collapsed": true
   },
   "outputs": [],
   "source": [
    "dna_name = a.name[1]"
   ]
  },
  {
   "cell_type": "code",
   "execution_count": 18,
   "metadata": {},
   "outputs": [
    {
     "ename": "TypeError",
     "evalue": "'Residue' object is not subscriptable",
     "output_type": "error",
     "traceback": [
      "\u001b[0;31m---------------------------------------------------------------------------\u001b[0m",
      "\u001b[0;31mTypeError\u001b[0m                                 Traceback (most recent call last)",
      "\u001b[0;32m<ipython-input-18-b308eada0088>\u001b[0m in \u001b[0;36m<module>\u001b[0;34m()\u001b[0m\n\u001b[0;32m----> 1\u001b[0;31m \u001b[0ma\u001b[0m\u001b[0;34m[\u001b[0m\u001b[0mdna_name\u001b[0m\u001b[0;34m]\u001b[0m\u001b[0;34m\u001b[0m\u001b[0;34m\u001b[0m\u001b[0m\n\u001b[0m",
      "\u001b[0;31mTypeError\u001b[0m: 'Residue' object is not subscriptable"
     ]
    }
   ],
   "source": [
    "a[dna_name]"
   ]
  },
  {
   "cell_type": "code",
   "execution_count": 28,
   "metadata": {},
   "outputs": [
    {
     "data": {
      "text/plain": [
       "<Residue 43 (DT) of chain 1>"
      ]
     },
     "execution_count": 28,
     "metadata": {},
     "output_type": "execute_result"
    }
   ],
   "source": [
    "a"
   ]
  },
  {
   "cell_type": "code",
   "execution_count": 25,
   "metadata": {},
   "outputs": [
    {
     "data": {
      "text/plain": [
       "[]"
      ]
     },
     "execution_count": 25,
     "metadata": {},
     "output_type": "execute_result"
    }
   ],
   "source": [
    "list(a.external_bonds())"
   ]
  },
  {
   "cell_type": "code",
   "execution_count": 10,
   "metadata": {},
   "outputs": [
    {
     "data": {
      "text/plain": [
       "'B'"
      ]
     },
     "execution_count": 10,
     "metadata": {},
     "output_type": "execute_result"
    }
   ],
   "source": [
    "a.chain.id"
   ]
  },
  {
   "cell_type": "code",
   "execution_count": 5,
   "metadata": {
    "scrolled": false
   },
   "outputs": [
    {
     "data": {
      "text/plain": [
       "[<Residue 0 (DA) of chain 0>,\n",
       " <Residue 1 (DA) of chain 0>,\n",
       " <Residue 2 (DA) of chain 0>,\n",
       " <Residue 3 (DA) of chain 0>,\n",
       " <Residue 4 (DA) of chain 0>,\n",
       " <Residue 5 (DG) of chain 0>,\n",
       " <Residue 6 (DA) of chain 0>,\n",
       " <Residue 7 (DC) of chain 0>,\n",
       " <Residue 8 (DT) of chain 0>,\n",
       " <Residue 9 (DT) of chain 0>,\n",
       " <Residue 10 (DA) of chain 0>,\n",
       " <Residue 11 (DG) of chain 0>,\n",
       " <Residue 12 (DA) of chain 0>,\n",
       " <Residue 13 (DA) of chain 0>,\n",
       " <Residue 14 (DA) of chain 0>,\n",
       " <Residue 15 (DA) of chain 0>,\n",
       " <Residue 16 (DA) of chain 0>,\n",
       " <Residue 17 (DT) of chain 0>,\n",
       " <Residue 18 (DT) of chain 0>,\n",
       " <Residue 19 (DT) of chain 0>,\n",
       " <Residue 20 (DT) of chain 0>,\n",
       " <Residue 21 (DT) of chain 0>,\n",
       " <Residue 22 (DA) of chain 1>,\n",
       " <Residue 23 (DA) of chain 1>,\n",
       " <Residue 24 (DA) of chain 1>,\n",
       " <Residue 25 (DA) of chain 1>,\n",
       " <Residue 26 (DA) of chain 1>,\n",
       " <Residue 27 (DT) of chain 1>,\n",
       " <Residue 28 (DT) of chain 1>,\n",
       " <Residue 29 (DT) of chain 1>,\n",
       " <Residue 30 (DT) of chain 1>,\n",
       " <Residue 31 (DT) of chain 1>,\n",
       " <Residue 32 (DC) of chain 1>,\n",
       " <Residue 33 (DT) of chain 1>,\n",
       " <Residue 34 (DA) of chain 1>,\n",
       " <Residue 35 (DA) of chain 1>,\n",
       " <Residue 36 (DG) of chain 1>,\n",
       " <Residue 37 (DT) of chain 1>,\n",
       " <Residue 38 (DC) of chain 1>,\n",
       " <Residue 39 (DT) of chain 1>,\n",
       " <Residue 40 (DT) of chain 1>,\n",
       " <Residue 41 (DT) of chain 1>,\n",
       " <Residue 42 (DT) of chain 1>,\n",
       " <Residue 43 (DT) of chain 1>,\n",
       " <Residue 44 (NGP) of chain 2>,\n",
       " <Residue 45 (NGP) of chain 2>,\n",
       " <Residue 46 (NGP) of chain 2>,\n",
       " <Residue 47 (NGP) of chain 2>,\n",
       " <Residue 48 (NGP) of chain 2>,\n",
       " <Residue 49 (NGP) of chain 2>,\n",
       " <Residue 50 (NGP) of chain 2>,\n",
       " <Residue 51 (NGP) of chain 2>,\n",
       " <Residue 52 (NGP) of chain 2>,\n",
       " <Residue 53 (IGL) of chain 2>,\n",
       " <Residue 54 (IPR) of chain 2>,\n",
       " <Residue 55 (NGP) of chain 2>,\n",
       " <Residue 56 (NGP) of chain 2>,\n",
       " <Residue 57 (NGP) of chain 2>,\n",
       " <Residue 58 (IPR) of chain 2>,\n",
       " <Residue 59 (IPR) of chain 2>,\n",
       " <Residue 60 (NGP) of chain 2>,\n",
       " <Residue 61 (NGP) of chain 2>,\n",
       " <Residue 62 (IPR) of chain 2>,\n",
       " <Residue 63 (NGP) of chain 2>,\n",
       " <Residue 64 (IPR) of chain 2>,\n",
       " <Residue 65 (NGP) of chain 2>,\n",
       " <Residue 66 (NGP) of chain 2>,\n",
       " <Residue 67 (NGP) of chain 2>,\n",
       " <Residue 68 (NGP) of chain 2>,\n",
       " <Residue 69 (NGP) of chain 2>,\n",
       " <Residue 70 (NGP) of chain 2>,\n",
       " <Residue 71 (NGP) of chain 2>,\n",
       " <Residue 72 (NGP) of chain 2>,\n",
       " <Residue 73 (IGL) of chain 2>,\n",
       " <Residue 74 (NGP) of chain 2>,\n",
       " <Residue 75 (NGP) of chain 2>,\n",
       " <Residue 76 (NGP) of chain 2>,\n",
       " <Residue 77 (NGP) of chain 2>,\n",
       " <Residue 78 (NGP) of chain 2>,\n",
       " <Residue 79 (NGP) of chain 2>,\n",
       " <Residue 80 (IPR) of chain 2>,\n",
       " <Residue 81 (NGP) of chain 2>,\n",
       " <Residue 82 (NGP) of chain 2>,\n",
       " <Residue 83 (NGP) of chain 2>,\n",
       " <Residue 84 (NGP) of chain 2>,\n",
       " <Residue 85 (NGP) of chain 2>,\n",
       " <Residue 86 (NGP) of chain 2>,\n",
       " <Residue 87 (NGP) of chain 2>,\n",
       " <Residue 88 (NGP) of chain 2>,\n",
       " <Residue 89 (NGP) of chain 2>,\n",
       " <Residue 90 (NGP) of chain 2>,\n",
       " <Residue 91 (NGP) of chain 2>,\n",
       " <Residue 92 (NGP) of chain 2>,\n",
       " <Residue 93 (NGP) of chain 2>,\n",
       " <Residue 94 (NGP) of chain 2>,\n",
       " <Residue 95 (NGP) of chain 2>,\n",
       " <Residue 96 (NGP) of chain 2>,\n",
       " <Residue 97 (NGP) of chain 2>,\n",
       " <Residue 98 (NGP) of chain 2>,\n",
       " <Residue 99 (NGP) of chain 2>,\n",
       " <Residue 100 (NGP) of chain 2>,\n",
       " <Residue 101 (NGP) of chain 2>,\n",
       " <Residue 102 (NGP) of chain 2>,\n",
       " <Residue 103 (NGP) of chain 2>,\n",
       " <Residue 104 (NGP) of chain 2>,\n",
       " <Residue 105 (NGP) of chain 2>,\n",
       " <Residue 106 (NGP) of chain 2>,\n",
       " <Residue 107 (NGP) of chain 2>,\n",
       " <Residue 108 (NGP) of chain 2>,\n",
       " <Residue 109 (NGP) of chain 2>,\n",
       " <Residue 110 (NGP) of chain 2>,\n",
       " <Residue 111 (NGP) of chain 2>,\n",
       " <Residue 112 (NGP) of chain 2>,\n",
       " <Residue 113 (NGP) of chain 2>,\n",
       " <Residue 114 (NGP) of chain 2>,\n",
       " <Residue 115 (NGP) of chain 2>,\n",
       " <Residue 116 (NGP) of chain 2>,\n",
       " <Residue 117 (NGP) of chain 2>,\n",
       " <Residue 118 (NGP) of chain 2>,\n",
       " <Residue 119 (NGP) of chain 2>,\n",
       " <Residue 120 (NGP) of chain 2>,\n",
       " <Residue 121 (NGP) of chain 2>,\n",
       " <Residue 122 (NGP) of chain 2>,\n",
       " <Residue 123 (NGP) of chain 2>,\n",
       " <Residue 124 (NGP) of chain 2>,\n",
       " <Residue 125 (NGP) of chain 2>,\n",
       " <Residue 126 (NGP) of chain 2>,\n",
       " <Residue 127 (NGP) of chain 2>,\n",
       " <Residue 128 (NGP) of chain 2>,\n",
       " <Residue 129 (NGP) of chain 2>,\n",
       " <Residue 130 (NGP) of chain 2>,\n",
       " <Residue 131 (NGP) of chain 2>,\n",
       " <Residue 132 (NGP) of chain 2>,\n",
       " <Residue 133 (NGP) of chain 2>,\n",
       " <Residue 134 (NGP) of chain 2>,\n",
       " <Residue 135 (NGP) of chain 2>,\n",
       " <Residue 136 (NGP) of chain 2>,\n",
       " <Residue 137 (NGP) of chain 2>,\n",
       " <Residue 138 (NGP) of chain 2>,\n",
       " <Residue 139 (NGP) of chain 2>,\n",
       " <Residue 140 (NGP) of chain 2>,\n",
       " <Residue 141 (NGP) of chain 2>,\n",
       " <Residue 142 (NGP) of chain 2>,\n",
       " <Residue 143 (NGP) of chain 2>,\n",
       " <Residue 144 (NGP) of chain 2>,\n",
       " <Residue 145 (NGP) of chain 2>,\n",
       " <Residue 146 (NGP) of chain 2>,\n",
       " <Residue 147 (NGP) of chain 2>,\n",
       " <Residue 148 (NGP) of chain 2>,\n",
       " <Residue 149 (NGP) of chain 2>,\n",
       " <Residue 150 (NGP) of chain 2>,\n",
       " <Residue 151 (NGP) of chain 2>,\n",
       " <Residue 152 (NGP) of chain 2>,\n",
       " <Residue 153 (NGP) of chain 2>,\n",
       " <Residue 154 (NGP) of chain 2>,\n",
       " <Residue 155 (NGP) of chain 2>,\n",
       " <Residue 156 (NGP) of chain 2>,\n",
       " <Residue 157 (NGP) of chain 2>,\n",
       " <Residue 158 (NGP) of chain 2>,\n",
       " <Residue 159 (NGP) of chain 2>,\n",
       " <Residue 160 (NGP) of chain 2>,\n",
       " <Residue 161 (NGP) of chain 2>,\n",
       " <Residue 162 (NGP) of chain 2>,\n",
       " <Residue 163 (NGP) of chain 2>,\n",
       " <Residue 164 (NGP) of chain 2>,\n",
       " <Residue 165 (NGP) of chain 2>,\n",
       " <Residue 166 (NGP) of chain 2>,\n",
       " <Residue 167 (NGP) of chain 2>,\n",
       " <Residue 168 (IGL) of chain 2>,\n",
       " <Residue 169 (NGP) of chain 2>,\n",
       " <Residue 170 (NGP) of chain 2>,\n",
       " <Residue 171 (NGP) of chain 2>,\n",
       " <Residue 172 (NGP) of chain 2>,\n",
       " <Residue 173 (NGP) of chain 2>,\n",
       " <Residue 174 (NGP) of chain 2>,\n",
       " <Residue 175 (NGP) of chain 2>,\n",
       " <Residue 176 (NGP) of chain 2>,\n",
       " <Residue 177 (NGP) of chain 2>,\n",
       " <Residue 178 (NGP) of chain 2>,\n",
       " <Residue 179 (NGP) of chain 2>,\n",
       " <Residue 180 (NGP) of chain 2>,\n",
       " <Residue 181 (NGP) of chain 2>,\n",
       " <Residue 182 (NGP) of chain 2>,\n",
       " <Residue 183 (NGP) of chain 2>,\n",
       " <Residue 184 (NGP) of chain 2>,\n",
       " <Residue 185 (NGP) of chain 2>,\n",
       " <Residue 186 (IPR) of chain 2>,\n",
       " <Residue 187 (IPR) of chain 2>,\n",
       " <Residue 188 (IGL) of chain 2>,\n",
       " <Residue 189 (NGP) of chain 2>,\n",
       " <Residue 190 (NGP) of chain 2>,\n",
       " <Residue 191 (NGP) of chain 2>,\n",
       " <Residue 192 (IGL) of chain 2>,\n",
       " <Residue 193 (NGP) of chain 2>,\n",
       " <Residue 194 (IGL) of chain 2>,\n",
       " <Residue 195 (NGP) of chain 2>,\n",
       " <Residue 196 (NGP) of chain 2>,\n",
       " <Residue 197 (IPR) of chain 2>,\n",
       " <Residue 198 (NGP) of chain 2>,\n",
       " <Residue 199 (NGP) of chain 2>,\n",
       " <Residue 200 (IGL) of chain 2>,\n",
       " <Residue 201 (NGP) of chain 2>,\n",
       " <Residue 202 (NGP) of chain 2>,\n",
       " <Residue 203 (NGP) of chain 2>,\n",
       " <Residue 204 (NGP) of chain 2>,\n",
       " <Residue 205 (NGP) of chain 2>,\n",
       " <Residue 206 (NGP) of chain 2>,\n",
       " <Residue 207 (NGP) of chain 2>,\n",
       " <Residue 208 (IPR) of chain 2>,\n",
       " <Residue 209 (NGP) of chain 2>,\n",
       " <Residue 210 (NGP) of chain 2>,\n",
       " <Residue 211 (NGP) of chain 2>,\n",
       " <Residue 212 (NGP) of chain 2>,\n",
       " <Residue 213 (NGP) of chain 2>,\n",
       " <Residue 214 (NGP) of chain 2>,\n",
       " <Residue 215 (NGP) of chain 2>,\n",
       " <Residue 216 (NGP) of chain 2>,\n",
       " <Residue 217 (NGP) of chain 2>,\n",
       " <Residue 218 (NGP) of chain 2>,\n",
       " <Residue 219 (NGP) of chain 2>,\n",
       " <Residue 220 (NGP) of chain 2>,\n",
       " <Residue 221 (NGP) of chain 2>,\n",
       " <Residue 222 (IPR) of chain 2>,\n",
       " <Residue 223 (NGP) of chain 2>,\n",
       " <Residue 224 (IPR) of chain 2>,\n",
       " <Residue 225 (IPR) of chain 2>,\n",
       " <Residue 226 (IPR) of chain 2>,\n",
       " <Residue 227 (IGL) of chain 2>,\n",
       " <Residue 228 (NGP) of chain 2>,\n",
       " <Residue 229 (NGP) of chain 2>,\n",
       " <Residue 230 (NGP) of chain 2>,\n",
       " <Residue 231 (NGP) of chain 2>,\n",
       " <Residue 232 (NGP) of chain 2>,\n",
       " <Residue 233 (NGP) of chain 2>,\n",
       " <Residue 234 (NGP) of chain 2>,\n",
       " <Residue 235 (NGP) of chain 2>,\n",
       " <Residue 236 (NGP) of chain 2>,\n",
       " <Residue 237 (NGP) of chain 2>,\n",
       " <Residue 238 (NGP) of chain 2>,\n",
       " <Residue 239 (NGP) of chain 2>,\n",
       " <Residue 240 (NGP) of chain 2>,\n",
       " <Residue 241 (NGP) of chain 2>,\n",
       " <Residue 242 (NGP) of chain 2>,\n",
       " <Residue 243 (NGP) of chain 2>,\n",
       " <Residue 244 (NGP) of chain 2>,\n",
       " <Residue 245 (NGP) of chain 2>,\n",
       " <Residue 246 (NGP) of chain 2>,\n",
       " <Residue 247 (NGP) of chain 2>,\n",
       " <Residue 248 (NGP) of chain 2>,\n",
       " <Residue 249 (NGP) of chain 2>,\n",
       " <Residue 250 (NGP) of chain 2>,\n",
       " <Residue 251 (IGL) of chain 2>,\n",
       " <Residue 252 (NGP) of chain 2>,\n",
       " <Residue 253 (NGP) of chain 2>,\n",
       " <Residue 254 (NGP) of chain 2>,\n",
       " <Residue 255 (NGP) of chain 2>,\n",
       " <Residue 256 (NGP) of chain 2>,\n",
       " <Residue 257 (NGP) of chain 2>,\n",
       " <Residue 258 (NGP) of chain 2>,\n",
       " <Residue 259 (NGP) of chain 2>,\n",
       " <Residue 260 (IPR) of chain 2>,\n",
       " <Residue 261 (NGP) of chain 2>,\n",
       " <Residue 262 (NGP) of chain 2>,\n",
       " <Residue 263 (NGP) of chain 2>,\n",
       " <Residue 264 (NGP) of chain 2>,\n",
       " <Residue 265 (NGP) of chain 2>,\n",
       " <Residue 266 (IGL) of chain 2>,\n",
       " <Residue 267 (NGP) of chain 2>,\n",
       " <Residue 268 (NGP) of chain 2>,\n",
       " <Residue 269 (NGP) of chain 2>,\n",
       " <Residue 270 (NGP) of chain 2>,\n",
       " <Residue 271 (NGP) of chain 2>,\n",
       " <Residue 272 (NGP) of chain 2>,\n",
       " <Residue 273 (NGP) of chain 2>,\n",
       " <Residue 274 (NGP) of chain 2>,\n",
       " <Residue 275 (NGP) of chain 2>,\n",
       " <Residue 276 (NGP) of chain 2>,\n",
       " <Residue 277 (NGP) of chain 2>,\n",
       " <Residue 278 (NGP) of chain 2>,\n",
       " <Residue 279 (NGP) of chain 2>,\n",
       " <Residue 280 (NGP) of chain 2>,\n",
       " <Residue 281 (NGP) of chain 2>,\n",
       " <Residue 282 (NGP) of chain 2>,\n",
       " <Residue 283 (NGP) of chain 2>,\n",
       " <Residue 284 (NGP) of chain 2>,\n",
       " <Residue 285 (NGP) of chain 2>,\n",
       " <Residue 286 (NGP) of chain 2>,\n",
       " <Residue 287 (NGP) of chain 2>,\n",
       " <Residue 288 (NGP) of chain 2>,\n",
       " <Residue 289 (NGP) of chain 2>,\n",
       " <Residue 290 (NGP) of chain 2>,\n",
       " <Residue 291 (NGP) of chain 2>,\n",
       " <Residue 292 (NGP) of chain 2>,\n",
       " <Residue 293 (NGP) of chain 2>,\n",
       " <Residue 294 (NGP) of chain 2>,\n",
       " <Residue 295 (NGP) of chain 2>,\n",
       " <Residue 296 (NGP) of chain 2>,\n",
       " <Residue 297 (NGP) of chain 2>,\n",
       " <Residue 298 (NGP) of chain 2>,\n",
       " <Residue 299 (NGP) of chain 2>,\n",
       " <Residue 300 (NGP) of chain 2>,\n",
       " <Residue 301 (NGP) of chain 2>,\n",
       " <Residue 302 (NGP) of chain 2>,\n",
       " <Residue 303 (NGP) of chain 2>,\n",
       " <Residue 304 (NGP) of chain 2>,\n",
       " <Residue 305 (NGP) of chain 2>,\n",
       " <Residue 306 (NGP) of chain 2>,\n",
       " <Residue 307 (NGP) of chain 2>,\n",
       " <Residue 308 (NGP) of chain 2>,\n",
       " <Residue 309 (NGP) of chain 2>,\n",
       " <Residue 310 (NGP) of chain 2>,\n",
       " <Residue 311 (NGP) of chain 2>,\n",
       " <Residue 312 (NGP) of chain 2>,\n",
       " <Residue 313 (NGP) of chain 2>,\n",
       " <Residue 314 (NGP) of chain 2>,\n",
       " <Residue 315 (NGP) of chain 2>,\n",
       " <Residue 316 (NGP) of chain 2>,\n",
       " <Residue 317 (NGP) of chain 2>,\n",
       " <Residue 318 (NGP) of chain 2>,\n",
       " <Residue 319 (IGL) of chain 2>,\n",
       " <Residue 320 (NGP) of chain 2>,\n",
       " <Residue 321 (NGP) of chain 2>,\n",
       " <Residue 322 (NGP) of chain 2>,\n",
       " <Residue 323 (NGP) of chain 2>,\n",
       " <Residue 324 (NGP) of chain 2>,\n",
       " <Residue 325 (IGL) of chain 2>,\n",
       " <Residue 326 (NGP) of chain 2>,\n",
       " <Residue 327 (NGP) of chain 2>,\n",
       " <Residue 328 (NGP) of chain 2>,\n",
       " <Residue 329 (NGP) of chain 2>,\n",
       " <Residue 330 (NGP) of chain 2>,\n",
       " <Residue 331 (NGP) of chain 2>,\n",
       " <Residue 332 (IGL) of chain 2>,\n",
       " <Residue 333 (NGP) of chain 2>,\n",
       " <Residue 334 (NGP) of chain 2>,\n",
       " <Residue 335 (NGP) of chain 2>,\n",
       " <Residue 336 (NGP) of chain 2>,\n",
       " <Residue 337 (NGP) of chain 2>,\n",
       " <Residue 338 (NGP) of chain 2>,\n",
       " <Residue 339 (NGP) of chain 2>,\n",
       " <Residue 340 (NGP) of chain 2>,\n",
       " <Residue 341 (NGP) of chain 2>,\n",
       " <Residue 342 (NGP) of chain 2>,\n",
       " <Residue 343 (NGP) of chain 2>,\n",
       " <Residue 344 (NGP) of chain 2>,\n",
       " <Residue 345 (IPR) of chain 2>,\n",
       " <Residue 346 (NGP) of chain 2>,\n",
       " <Residue 347 (NGP) of chain 2>,\n",
       " <Residue 348 (NGP) of chain 2>,\n",
       " <Residue 349 (IGL) of chain 2>,\n",
       " <Residue 350 (NGP) of chain 2>,\n",
       " <Residue 351 (NGP) of chain 2>,\n",
       " <Residue 352 (NGP) of chain 2>,\n",
       " <Residue 353 (NGP) of chain 2>,\n",
       " <Residue 354 (NGP) of chain 2>,\n",
       " <Residue 355 (NGP) of chain 2>,\n",
       " <Residue 356 (NGP) of chain 2>,\n",
       " <Residue 357 (NGP) of chain 2>,\n",
       " <Residue 358 (NGP) of chain 2>,\n",
       " <Residue 359 (NGP) of chain 2>,\n",
       " <Residue 360 (IGL) of chain 2>,\n",
       " <Residue 361 (NGP) of chain 2>,\n",
       " <Residue 362 (NGP) of chain 2>,\n",
       " <Residue 363 (NGP) of chain 2>,\n",
       " <Residue 364 (NGP) of chain 2>,\n",
       " <Residue 365 (NGP) of chain 2>,\n",
       " <Residue 366 (NGP) of chain 2>,\n",
       " <Residue 367 (NGP) of chain 2>,\n",
       " <Residue 368 (NGP) of chain 2>,\n",
       " <Residue 369 (NGP) of chain 2>,\n",
       " <Residue 370 (NGP) of chain 2>,\n",
       " <Residue 371 (IPR) of chain 2>,\n",
       " <Residue 372 (NGP) of chain 2>,\n",
       " <Residue 373 (NGP) of chain 2>,\n",
       " <Residue 374 (NGP) of chain 2>,\n",
       " <Residue 375 (NGP) of chain 2>,\n",
       " <Residue 376 (NGP) of chain 2>,\n",
       " <Residue 377 (NGP) of chain 2>,\n",
       " <Residue 378 (NGP) of chain 2>,\n",
       " <Residue 379 (NGP) of chain 2>,\n",
       " <Residue 380 (NGP) of chain 2>,\n",
       " <Residue 381 (NGP) of chain 2>,\n",
       " <Residue 382 (NGP) of chain 2>,\n",
       " <Residue 383 (NGP) of chain 2>,\n",
       " <Residue 384 (NGP) of chain 2>,\n",
       " <Residue 385 (NGP) of chain 2>,\n",
       " <Residue 386 (NGP) of chain 2>,\n",
       " <Residue 387 (NGP) of chain 2>,\n",
       " <Residue 388 (NGP) of chain 2>,\n",
       " <Residue 389 (IPR) of chain 2>,\n",
       " <Residue 390 (NGP) of chain 2>,\n",
       " <Residue 391 (NGP) of chain 2>,\n",
       " <Residue 392 (NGP) of chain 2>,\n",
       " <Residue 393 (NGP) of chain 2>,\n",
       " <Residue 394 (NGP) of chain 2>,\n",
       " <Residue 395 (NGP) of chain 2>,\n",
       " <Residue 396 (NGP) of chain 2>,\n",
       " <Residue 397 (NGP) of chain 2>,\n",
       " <Residue 398 (NGP) of chain 2>,\n",
       " <Residue 399 (NGP) of chain 2>,\n",
       " <Residue 400 (IGL) of chain 2>,\n",
       " <Residue 401 (NGP) of chain 2>,\n",
       " <Residue 402 (NGP) of chain 2>,\n",
       " <Residue 403 (NGP) of chain 2>,\n",
       " <Residue 404 (NGP) of chain 2>,\n",
       " <Residue 405 (NGP) of chain 2>,\n",
       " <Residue 406 (NGP) of chain 2>,\n",
       " <Residue 407 (NGP) of chain 2>,\n",
       " <Residue 408 (NGP) of chain 2>,\n",
       " <Residue 409 (NGP) of chain 2>,\n",
       " <Residue 410 (NGP) of chain 2>,\n",
       " <Residue 411 (NGP) of chain 2>,\n",
       " <Residue 412 (IGL) of chain 2>,\n",
       " <Residue 413 (NGP) of chain 2>,\n",
       " <Residue 414 (NGP) of chain 2>,\n",
       " <Residue 415 (NGP) of chain 2>,\n",
       " <Residue 416 (NGP) of chain 2>,\n",
       " <Residue 417 (NGP) of chain 2>,\n",
       " <Residue 418 (NGP) of chain 2>,\n",
       " <Residue 419 (NGP) of chain 2>,\n",
       " <Residue 420 (NGP) of chain 2>,\n",
       " <Residue 421 (NGP) of chain 2>,\n",
       " <Residue 422 (NGP) of chain 2>,\n",
       " <Residue 423 (NGP) of chain 2>,\n",
       " <Residue 424 (NGP) of chain 2>,\n",
       " <Residue 425 (NGP) of chain 2>,\n",
       " <Residue 426 (NGP) of chain 2>,\n",
       " <Residue 427 (NGP) of chain 2>,\n",
       " <Residue 428 (NGP) of chain 2>,\n",
       " <Residue 429 (NGP) of chain 2>,\n",
       " <Residue 430 (NGP) of chain 2>,\n",
       " <Residue 431 (NGP) of chain 2>,\n",
       " <Residue 432 (NGP) of chain 2>,\n",
       " <Residue 433 (NGP) of chain 2>,\n",
       " <Residue 434 (NGP) of chain 2>,\n",
       " <Residue 435 (NGP) of chain 2>,\n",
       " <Residue 436 (NGP) of chain 2>,\n",
       " <Residue 437 (IPR) of chain 2>,\n",
       " <Residue 438 (NGP) of chain 2>,\n",
       " <Residue 439 (NGP) of chain 2>,\n",
       " <Residue 440 (NGP) of chain 2>,\n",
       " <Residue 441 (NGP) of chain 2>,\n",
       " <Residue 442 (IPR) of chain 2>,\n",
       " <Residue 443 (NGP) of chain 2>,\n",
       " <Residue 444 (NGP) of chain 2>,\n",
       " <Residue 445 (NGP) of chain 2>,\n",
       " <Residue 446 (NGP) of chain 2>,\n",
       " <Residue 447 (NGP) of chain 2>,\n",
       " <Residue 448 (NGP) of chain 2>,\n",
       " <Residue 449 (NGP) of chain 2>,\n",
       " <Residue 450 (NGP) of chain 2>,\n",
       " <Residue 451 (NGP) of chain 2>,\n",
       " <Residue 452 (NGP) of chain 2>,\n",
       " <Residue 453 (NGP) of chain 2>,\n",
       " <Residue 454 (NGP) of chain 2>,\n",
       " <Residue 455 (NGP) of chain 2>,\n",
       " <Residue 456 (NGP) of chain 2>,\n",
       " <Residue 457 (NGP) of chain 2>,\n",
       " <Residue 458 (NGP) of chain 2>,\n",
       " <Residue 459 (NGP) of chain 2>,\n",
       " <Residue 460 (NGP) of chain 2>,\n",
       " <Residue 461 (NGP) of chain 2>,\n",
       " <Residue 462 (NGP) of chain 2>,\n",
       " <Residue 463 (NGP) of chain 2>,\n",
       " <Residue 464 (NGP) of chain 2>,\n",
       " <Residue 465 (IPR) of chain 2>,\n",
       " <Residue 466 (IPR) of chain 2>,\n",
       " <Residue 467 (NGP) of chain 2>,\n",
       " <Residue 468 (NGP) of chain 2>,\n",
       " <Residue 469 (NGP) of chain 2>,\n",
       " <Residue 470 (NGP) of chain 2>,\n",
       " <Residue 471 (NGP) of chain 2>,\n",
       " <Residue 472 (NGP) of chain 2>,\n",
       " <Residue 473 (NGP) of chain 2>,\n",
       " <Residue 474 (NGP) of chain 2>,\n",
       " <Residue 475 (NGP) of chain 2>,\n",
       " <Residue 476 (NGP) of chain 2>,\n",
       " <Residue 477 (NGP) of chain 2>,\n",
       " <Residue 478 (NGP) of chain 2>,\n",
       " <Residue 479 (NGP) of chain 2>,\n",
       " <Residue 480 (NGP) of chain 2>,\n",
       " <Residue 481 (NGP) of chain 2>,\n",
       " <Residue 482 (NGP) of chain 2>,\n",
       " <Residue 483 (NGP) of chain 2>,\n",
       " <Residue 484 (NGP) of chain 2>,\n",
       " <Residue 485 (NGP) of chain 2>,\n",
       " <Residue 486 (NGP) of chain 2>,\n",
       " <Residue 487 (NGP) of chain 2>,\n",
       " <Residue 488 (NGP) of chain 2>,\n",
       " <Residue 489 (NGP) of chain 2>,\n",
       " <Residue 490 (NGP) of chain 2>,\n",
       " <Residue 491 (NGP) of chain 2>,\n",
       " <Residue 492 (NGP) of chain 2>,\n",
       " <Residue 493 (NGP) of chain 2>,\n",
       " <Residue 494 (NGP) of chain 2>,\n",
       " <Residue 495 (NGP) of chain 2>,\n",
       " <Residue 496 (NGP) of chain 2>,\n",
       " <Residue 497 (NGP) of chain 2>,\n",
       " <Residue 498 (NGP) of chain 2>,\n",
       " <Residue 499 (NGP) of chain 2>,\n",
       " <Residue 500 (NGP) of chain 2>,\n",
       " <Residue 501 (NGP) of chain 2>,\n",
       " <Residue 502 (NGP) of chain 2>,\n",
       " <Residue 503 (NGP) of chain 2>,\n",
       " <Residue 504 (NGP) of chain 2>,\n",
       " <Residue 505 (NGP) of chain 2>,\n",
       " <Residue 506 (NGP) of chain 2>,\n",
       " <Residue 507 (NGP) of chain 2>,\n",
       " <Residue 508 (NGP) of chain 2>,\n",
       " <Residue 509 (NGP) of chain 2>,\n",
       " <Residue 510 (NGP) of chain 2>,\n",
       " <Residue 511 (NGP) of chain 2>,\n",
       " <Residue 512 (NGP) of chain 2>,\n",
       " <Residue 513 (NGP) of chain 2>,\n",
       " <Residue 514 (NGP) of chain 2>,\n",
       " <Residue 515 (NGP) of chain 2>,\n",
       " <Residue 516 (NGP) of chain 2>,\n",
       " <Residue 517 (NGP) of chain 2>,\n",
       " <Residue 518 (NGP) of chain 2>,\n",
       " <Residue 519 (NGP) of chain 2>,\n",
       " <Residue 520 (NGP) of chain 2>,\n",
       " <Residue 521 (NGP) of chain 2>,\n",
       " <Residue 522 (NGP) of chain 2>,\n",
       " <Residue 523 (NGP) of chain 2>,\n",
       " <Residue 524 (NGP) of chain 2>,\n",
       " <Residue 525 (NGP) of chain 2>,\n",
       " <Residue 526 (NGP) of chain 2>,\n",
       " <Residue 527 (NGP) of chain 2>,\n",
       " <Residue 528 (NGP) of chain 2>,\n",
       " <Residue 529 (NGP) of chain 2>,\n",
       " <Residue 530 (NGP) of chain 2>,\n",
       " <Residue 531 (NGP) of chain 2>,\n",
       " <Residue 532 (NGP) of chain 2>,\n",
       " <Residue 533 (NGP) of chain 2>,\n",
       " <Residue 534 (NGP) of chain 2>,\n",
       " <Residue 535 (NGP) of chain 2>,\n",
       " <Residue 536 (NGP) of chain 2>,\n",
       " <Residue 537 (NGP) of chain 2>,\n",
       " <Residue 538 (NGP) of chain 2>,\n",
       " <Residue 539 (NGP) of chain 2>,\n",
       " <Residue 540 (NGP) of chain 2>,\n",
       " <Residue 541 (NGP) of chain 2>,\n",
       " <Residue 542 (NGP) of chain 2>,\n",
       " <Residue 543 (NGP) of chain 2>,\n",
       " <Residue 544 (NGP) of chain 2>,\n",
       " <Residue 545 (NGP) of chain 2>,\n",
       " <Residue 546 (IGL) of chain 2>,\n",
       " <Residue 547 (NGP) of chain 2>,\n",
       " <Residue 548 (NGP) of chain 2>,\n",
       " <Residue 549 (NGP) of chain 2>,\n",
       " <Residue 550 (NGP) of chain 2>,\n",
       " <Residue 551 (NGP) of chain 2>,\n",
       " <Residue 552 (NGP) of chain 2>,\n",
       " <Residue 553 (NGP) of chain 2>,\n",
       " <Residue 554 (NGP) of chain 2>,\n",
       " <Residue 555 (IPR) of chain 2>,\n",
       " <Residue 556 (NGP) of chain 2>,\n",
       " <Residue 557 (NGP) of chain 2>,\n",
       " <Residue 558 (NGP) of chain 2>,\n",
       " <Residue 559 (NGP) of chain 2>,\n",
       " <Residue 560 (NGP) of chain 2>,\n",
       " <Residue 561 (NGP) of chain 2>,\n",
       " <Residue 562 (NGP) of chain 2>,\n",
       " <Residue 563 (NGP) of chain 2>,\n",
       " <Residue 564 (NGP) of chain 2>,\n",
       " <Residue 565 (NGP) of chain 2>,\n",
       " <Residue 566 (IGL) of chain 2>,\n",
       " <Residue 567 (NGP) of chain 2>,\n",
       " <Residue 568 (IPR) of chain 2>,\n",
       " <Residue 569 (NGP) of chain 2>,\n",
       " <Residue 570 (NGP) of chain 2>,\n",
       " <Residue 571 (NGP) of chain 2>,\n",
       " <Residue 572 (NGP) of chain 2>,\n",
       " <Residue 573 (NGP) of chain 2>,\n",
       " <Residue 574 (NGP) of chain 2>,\n",
       " <Residue 575 (NGP) of chain 2>,\n",
       " <Residue 576 (NGP) of chain 2>,\n",
       " <Residue 577 (NGP) of chain 2>,\n",
       " <Residue 578 (NGP) of chain 2>,\n",
       " <Residue 579 (NGP) of chain 2>,\n",
       " <Residue 580 (NGP) of chain 2>,\n",
       " <Residue 581 (NGP) of chain 2>,\n",
       " <Residue 582 (NGP) of chain 2>,\n",
       " <Residue 583 (NGP) of chain 2>,\n",
       " <Residue 584 (NGP) of chain 2>,\n",
       " <Residue 585 (NGP) of chain 2>,\n",
       " <Residue 586 (NGP) of chain 2>,\n",
       " <Residue 587 (NGP) of chain 2>,\n",
       " <Residue 588 (NGP) of chain 2>,\n",
       " <Residue 589 (NGP) of chain 2>,\n",
       " <Residue 590 (NGP) of chain 2>,\n",
       " <Residue 591 (NGP) of chain 2>,\n",
       " <Residue 592 (NGP) of chain 2>,\n",
       " <Residue 593 (NGP) of chain 2>,\n",
       " <Residue 594 (NGP) of chain 2>]"
      ]
     },
     "execution_count": 5,
     "metadata": {},
     "output_type": "execute_result"
    }
   ],
   "source": [
    "res_list"
   ]
  },
  {
   "cell_type": "code",
   "execution_count": 5,
   "metadata": {},
   "outputs": [],
   "source": [
    "import os\n",
    "import argparse\n",
    "import sys\n",
    "import openmmawsem\n",
    "import helperFunctions.myFunctions"
   ]
  },
  {
   "cell_type": "code",
   "execution_count": 6,
   "metadata": {
    "collapsed": true
   },
   "outputs": [],
   "source": [
    "from simtk.openmm.app import *\n",
    "from simtk.openmm import *\n",
    "from simtk.unit import *\n",
    "from sys import stdout\n",
    "from pdbfixer import *"
   ]
  },
  {
   "cell_type": "code",
   "execution_count": 7,
   "metadata": {
    "collapsed": true
   },
   "outputs": [],
   "source": [
    "chains_to_simulate = \"B\""
   ]
  },
  {
   "cell_type": "code",
   "execution_count": 8,
   "metadata": {
    "collapsed": true
   },
   "outputs": [],
   "source": [
    "removeHeterogens = False"
   ]
  },
  {
   "cell_type": "code",
   "execution_count": 15,
   "metadata": {},
   "outputs": [],
   "source": [
    "pdb_filename = \"/Users/weilu/Research/server/jun_week1_2020/no_DNA_protein_DNA_benchmark/cleaned_pdbs/1a36.pdb\"\n",
    "\n",
    "\n",
    "fixer = PDBFixer(filename=pdb_filename)\n",
    "# we only want pdb chains, ligands or DNA chain will be ignored here.\n",
    "fixer.removeHeterogens(keepWater=False)\n",
    "# remove unwanted chains\n",
    "chains = list(fixer.topology.chains())"
   ]
  },
  {
   "cell_type": "code",
   "execution_count": 16,
   "metadata": {},
   "outputs": [
    {
     "data": {
      "text/plain": [
       "[<Chain 0>, <Chain 1>, <Chain 2>]"
      ]
     },
     "execution_count": 16,
     "metadata": {},
     "output_type": "execute_result"
    }
   ],
   "source": [
    "chains"
   ]
  },
  {
   "cell_type": "code",
   "execution_count": 17,
   "metadata": {},
   "outputs": [
    {
     "name": "stdout",
     "output_type": "stream",
     "text": [
      "A\n",
      "B\n",
      "C\n"
     ]
    }
   ],
   "source": [
    "for c in chains:\n",
    "    print(c.id)"
   ]
  },
  {
   "cell_type": "code",
   "execution_count": 21,
   "metadata": {},
   "outputs": [],
   "source": [
    "a = list(c.residues())"
   ]
  },
  {
   "cell_type": "code",
   "execution_count": 22,
   "metadata": {
    "collapsed": true
   },
   "outputs": [],
   "source": [
    "b = a[0]"
   ]
  },
  {
   "cell_type": "code",
   "execution_count": 23,
   "metadata": {},
   "outputs": [
    {
     "data": {
      "text/plain": [
       "'1'"
      ]
     },
     "execution_count": 23,
     "metadata": {},
     "output_type": "execute_result"
    }
   ],
   "source": [
    "b.id"
   ]
  },
  {
   "cell_type": "code",
   "execution_count": 27,
   "metadata": {
    "collapsed": true
   },
   "outputs": [],
   "source": [
    "import numpy as np"
   ]
  },
  {
   "cell_type": "code",
   "execution_count": 29,
   "metadata": {},
   "outputs": [
    {
     "data": {
      "text/plain": [
       "False"
      ]
     },
     "execution_count": 29,
     "metadata": {},
     "output_type": "execute_result"
    }
   ],
   "source": [
    "if np.alltrue([a.name in dnaResidues for a in c.residues()]) is True:\n",
    "    # this chain is a DNA chain\n",
    "    "
   ]
  },
  {
   "cell_type": "code",
   "execution_count": 26,
   "metadata": {},
   "outputs": [
    {
     "data": {
      "text/plain": [
       "False"
      ]
     },
     "execution_count": 26,
     "metadata": {},
     "output_type": "execute_result"
    }
   ],
   "source": [
    "b.name in dnaResidues"
   ]
  },
  {
   "cell_type": "code",
   "execution_count": null,
   "metadata": {
    "collapsed": true
   },
   "outputs": [],
   "source": [
    "proteinResidues = ['ALA', 'ASN', 'CYS', 'GLU', 'HIS', 'LEU', 'MET', 'PRO', 'THR', 'TYR', 'ARG', 'ASP', 'GLN', 'GLY', 'ILE', 'LYS', 'PHE', 'SER', 'TRP', 'VAL']\n",
    "rnaResidues = ['A', 'G', 'C', 'U', 'I']\n",
    "dnaResidues = ['DA', 'DG', 'DC', 'DT', 'DI']"
   ]
  },
  {
   "cell_type": "code",
   "execution_count": 25,
   "metadata": {
    "collapsed": true
   },
   "outputs": [],
   "source": [
    "dnaResidues = ['DA', 'DG', 'DC', 'DT', 'DI']"
   ]
  },
  {
   "cell_type": "code",
   "execution_count": 49,
   "metadata": {},
   "outputs": [],
   "source": [
    "chains = list(fixer.topology.chains())\n",
    "a = \"\"\n",
    "\n",
    "proteinResidues = ['ALA', 'ASN', 'CYS', 'GLU', 'HIS', 'LEU', 'MET', 'PRO', 'THR', 'TYR', 'ARG', 'ASP', 'GLN', 'GLY', 'ILE', 'LYS', 'PHE', 'SER', 'TRP', 'VAL']\n",
    "rnaResidues = ['A', 'G', 'C', 'U', 'I']\n",
    "dnaResidues = ['DA', 'DG', 'DC', 'DT', 'DI']\n",
    "for c in chains:\n",
    "    # print([a.name in dnaResidues for a in c.residues()])\n",
    "    if True and np.alltrue([a.name in dnaResidues for a in c.residues()]):\n",
    "        continue\n",
    "    if c.id in 'ABCDEFGHIJKLMNOPQRSTUVWXYZabcdefghijklmnopqrstuvwxyz0123456789':\n",
    "        a += c.id"
   ]
  },
  {
   "cell_type": "code",
   "execution_count": 50,
   "metadata": {},
   "outputs": [
    {
     "data": {
      "text/plain": [
       "'C'"
      ]
     },
     "execution_count": 50,
     "metadata": {},
     "output_type": "execute_result"
    }
   ],
   "source": [
    "a"
   ]
  },
  {
   "cell_type": "code",
   "execution_count": null,
   "metadata": {
    "collapsed": true
   },
   "outputs": [],
   "source": []
  },
  {
   "cell_type": "code",
   "execution_count": null,
   "metadata": {
    "collapsed": true
   },
   "outputs": [],
   "source": []
  },
  {
   "cell_type": "code",
   "execution_count": 12,
   "metadata": {},
   "outputs": [],
   "source": [
    "pdb_filename = \"/Users/weilu/Research/server/jun_week1_2020/no_DNA_protein_DNA_benchmark/cleaned_pdbs/1a36.pdb\"\n",
    "fixer = PDBFixer(filename=pdb_filename)\n",
    "\n",
    "# remove unwanted chains\n",
    "chains = list(fixer.topology.chains())\n",
    "chains_to_remove = [i for i, x in enumerate(chains) if x.id not in chains_to_simulate]\n",
    "fixer.removeChains(chains_to_remove)\n",
    "\n",
    "#Identify Missing Residues\n",
    "fixer.findMissingResidues()\n",
    "fixer.missingResidues = {}\n",
    "\n",
    "#Replace Nonstandard Residues\n",
    "fixer.findNonstandardResidues()\n",
    "fixer.replaceNonstandardResidues()\n",
    "\n",
    "#Remove Heterogens\n",
    "if removeHeterogens:\n",
    "    fixer.removeHeterogens(keepWater=False)\n",
    "\n",
    "#Add Missing Heavy Atoms\n",
    "fixer.findMissingAtoms()\n",
    "fixer.addMissingAtoms()\n",
    "\n",
    "#Add Missing Hydrogens\n",
    "fixer.addMissingHydrogens(7.0)\n",
    "# PDBFile.writeFile(fixer.topology, fixer.positions, open(cleaned_pdb_filename, 'w'), keepIds=keepIds)\n",
    "\n",
    "#Read sequence\n",
    "# structure = PDBParser().get_structure('X', cleaned_pdb_filename)\n"
   ]
  },
  {
   "cell_type": "code",
   "execution_count": 13,
   "metadata": {},
   "outputs": [
    {
     "data": {
      "text/plain": [
       "<Topology; 1 chains, 22 residues, 700 atoms, 1246 bonds>"
      ]
     },
     "execution_count": 13,
     "metadata": {},
     "output_type": "execute_result"
    }
   ],
   "source": [
    "fixer.topology"
   ]
  },
  {
   "cell_type": "code",
   "execution_count": null,
   "metadata": {
    "collapsed": true
   },
   "outputs": [],
   "source": []
  }
 ],
 "metadata": {
  "kernelspec": {
   "display_name": "Python 3",
   "language": "python",
   "name": "python3"
  },
  "language_info": {
   "codemirror_mode": {
    "name": "ipython",
    "version": 3
   },
   "file_extension": ".py",
   "mimetype": "text/x-python",
   "name": "python",
   "nbconvert_exporter": "python",
   "pygments_lexer": "ipython3",
   "version": "3.6.7"
  }
 },
 "nbformat": 4,
 "nbformat_minor": 2
}
