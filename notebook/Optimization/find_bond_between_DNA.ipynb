{
 "cells": [
  {
   "cell_type": "code",
   "execution_count": 3,
   "metadata": {
    "collapsed": true
   },
   "outputs": [],
   "source": [
    "from simtk.openmm.app import *\n",
    "from simtk.openmm import *\n",
    "from simtk.unit import *\n",
    "from sys import stdout\n",
    "import pandas as pd"
   ]
  },
  {
   "cell_type": "code",
   "execution_count": 2,
   "metadata": {
    "collapsed": true
   },
   "outputs": [],
   "source": [
    "pre = \"/Users/weilu/Research/server/jun_week1_2020/protein_DNA_benchmark/\"\n",
    "fileLocation = f\"{pre}/DNAProtein_Platform_OpenCL_date_20200226_pdb_1a36_repetition_0_clean.pdb\"\n",
    "pdb = PDBFile(fileLocation)"
   ]
  },
  {
   "cell_type": "code",
   "execution_count": 4,
   "metadata": {
    "collapsed": true
   },
   "outputs": [],
   "source": [
    "res_list = list(pdb.topology.residues())"
   ]
  },
  {
   "cell_type": "code",
   "execution_count": 6,
   "metadata": {
    "collapsed": true
   },
   "outputs": [],
   "source": [
    "res_list = list(pdb.topology.residues())\n",
    "atom_list = list(pdb.topology.atoms())\n",
    "protein_resNames = [\"NGP\", \"IGL\", \"IPR\", \"NTER\", \"CTER\"]\n",
    "DNA_resNames = [\"DA\", \"DC\", \"DT\", \"DG\"]\n",
    "protein_res_list = []\n",
    "DNA_res_list = []\n",
    "ligand_res_list = []\n",
    "for res in res_list:\n",
    "    if res.name in protein_resNames:\n",
    "        protein_res_list.append(res)\n",
    "    elif res.name in DNA_resNames:\n",
    "        DNA_res_list.append(res)\n",
    "    else:\n",
    "        ligand_res_list.append(res)\n",
    "\n",
    "protein_atom_list = []\n",
    "DNA_atom_list = []\n",
    "ligand_atom_list = []\n",
    "for atom in atom_list:\n",
    "    if atom.residue.name in protein_resNames:\n",
    "        protein_atom_list.append(atom)\n",
    "    elif atom.residue.name in DNA_resNames:\n",
    "        DNA_atom_list.append(atom)\n",
    "    else:\n",
    "        ligand_atom_list.append(atom)\n",
    "\n"
   ]
  },
  {
   "cell_type": "code",
   "execution_count": 38,
   "metadata": {
    "collapsed": true
   },
   "outputs": [],
   "source": [
    "a = DNA_atom_list[0]"
   ]
  },
  {
   "cell_type": "code",
   "execution_count": 45,
   "metadata": {},
   "outputs": [
    {
     "data": {
      "text/plain": [
       "0"
      ]
     },
     "execution_count": 45,
     "metadata": {},
     "output_type": "execute_result"
    }
   ],
   "source": [
    "a.index"
   ]
  },
  {
   "cell_type": "code",
   "execution_count": 51,
   "metadata": {
    "collapsed": true
   },
   "outputs": [],
   "source": [
    "a = (atom1_pos - atom2_pos)"
   ]
  },
  {
   "cell_type": "code",
   "execution_count": 53,
   "metadata": {
    "collapsed": true
   },
   "outputs": [],
   "source": [
    "def compute_dis(pos1, pos2):\n",
    "    dis = pos1 - pos2\n",
    "    dis = dis.value_in_unit(nanometer)\n",
    "    r = (dis[0]**2 + dis[1]**2 + dis[2]**2)**0.5\n",
    "    return r"
   ]
  },
  {
   "cell_type": "code",
   "execution_count": 4,
   "metadata": {
    "collapsed": true
   },
   "outputs": [],
   "source": [
    "import sys\n",
    "\n",
    "sys.path.append(\"/projects/pw8/wl45/open3spn2\")\n",
    "sys.path.append(\"/projects/pw8/wl45/openawsem\")\n",
    "sys.path.append(\"/Users/weilu/open3spn2\")\n",
    "sys.path.append(\"/Users/weilu/openmmawsem\")\n",
    "sys.path.append(\"C:/Users/luwei/Documents/GitHub/open3spn2\")\n",
    "sys.path.append(\"C:/Users/luwei/Documents/GitHub/openawsem\")\n",
    "\n",
    "import open3SPN2"
   ]
  },
  {
   "cell_type": "code",
   "execution_count": 60,
   "metadata": {
    "collapsed": true
   },
   "outputs": [],
   "source": [
    "dna=open3SPN2.DNA.fromCoarsePDB(fileLocation)"
   ]
  },
  {
   "cell_type": "code",
   "execution_count": 85,
   "metadata": {
    "collapsed": true
   },
   "outputs": [],
   "source": [
    "bonds_list = []\n",
    "interacting_atom = [\"A\", \"C\", \"G\", \"T\"]\n",
    "a = data.query(\"resname in @DNA_resNames\").query(\"name in @interacting_atom\").reset_index(drop=True)\n",
    "n_atom = len(a)\n",
    "for i in range(n_atom):\n",
    "    dna_res_1 = a.iloc[i]\n",
    "    chainID_1 = dna_res_1[\"chainID\"]\n",
    "    for j in range(i+1, n_atom):\n",
    "        dna_res_2 = a.iloc[j]\n",
    "        chainID_2 = dna_res_2[\"chainID\"]\n",
    "        if chainID_1 == chainID_2:\n",
    "            continue\n",
    "        atom1_pos = dna_res_1[[\"x\", \"y\", \"z\"]].values\n",
    "        atom2_pos = dna_res_2[[\"x\", \"y\", \"z\"]].values\n",
    "        dis = atom1_pos - atom2_pos\n",
    "        r = (dis[0]**2 + dis[1]**2 + dis[2]**2)**0.5\n",
    "        if r > 6.5:\n",
    "            continue\n",
    "        # print(i, j, r)\n",
    "        bonds_list.append([dna_res_1[\"serial\"], dna_res_2[\"serial\"], r])"
   ]
  },
  {
   "cell_type": "code",
   "execution_count": null,
   "metadata": {
    "collapsed": true
   },
   "outputs": [],
   "source": [
    "for (atom1, atom2, r) in bonds_list:\n",
    "    print(atom1, atom2, r)"
   ]
  },
  {
   "cell_type": "code",
   "execution_count": 72,
   "metadata": {
    "collapsed": true
   },
   "outputs": [],
   "source": [
    "b = a.iloc[1][[\"x\", \"y\", \"z\"]].values"
   ]
  },
  {
   "cell_type": "code",
   "execution_count": 93,
   "metadata": {
    "collapsed": true
   },
   "outputs": [],
   "source": [
    "from open3SPN2 import function_terms"
   ]
  },
  {
   "cell_type": "code",
   "execution_count": 95,
   "metadata": {},
   "outputs": [
    {
     "ename": "TypeError",
     "evalue": "dna_constraint_term() missing 1 required positional argument: 'dna'",
     "output_type": "error",
     "traceback": [
      "\u001b[0;31m---------------------------------------------------------------------------\u001b[0m",
      "\u001b[0;31mTypeError\u001b[0m                                 Traceback (most recent call last)",
      "\u001b[0;32m<ipython-input-95-f5d7af583eb9>\u001b[0m in \u001b[0;36m<module>\u001b[0;34m()\u001b[0m\n\u001b[0;32m----> 1\u001b[0;31m \u001b[0mfunction_terms\u001b[0m\u001b[0;34m.\u001b[0m\u001b[0mdna_constraint_term\u001b[0m\u001b[0;34m(\u001b[0m\u001b[0;34m)\u001b[0m\u001b[0;34m\u001b[0m\u001b[0;34m\u001b[0m\u001b[0m\n\u001b[0m",
      "\u001b[0;31mTypeError\u001b[0m: dna_constraint_term() missing 1 required positional argument: 'dna'"
     ]
    }
   ],
   "source": [
    "function_terms.dna_constraint_term()"
   ]
  },
  {
   "cell_type": "code",
   "execution_count": 56,
   "metadata": {},
   "outputs": [
    {
     "name": "stdout",
     "output_type": "stream",
     "text": [
      "1 <Residue 1 (DA) of chain 0> 41 <Residue 41 (DT) of chain 1> 0.6469376708771873\n",
      "1 <Residue 1 (DA) of chain 0> 42 <Residue 42 (DT) of chain 1> 0.5491159258298746\n",
      "2 <Residue 2 (DA) of chain 0> 40 <Residue 40 (DT) of chain 1> 0.6349142776784908\n",
      "2 <Residue 2 (DA) of chain 0> 41 <Residue 41 (DT) of chain 1> 0.5734785785014116\n",
      "2 <Residue 2 (DA) of chain 0> 42 <Residue 42 (DT) of chain 1> 0.6200130724428318\n",
      "3 <Residue 3 (DA) of chain 0> 40 <Residue 40 (DT) of chain 1> 0.5904393025536154\n",
      "4 <Residue 4 (DA) of chain 0> 39 <Residue 39 (DT) of chain 1> 0.5754847174339213\n",
      "4 <Residue 4 (DA) of chain 0> 40 <Residue 40 (DT) of chain 1> 0.5720431714477502\n",
      "5 <Residue 5 (DG) of chain 0> 38 <Residue 38 (DC) of chain 1> 0.5760794563252537\n",
      "5 <Residue 5 (DG) of chain 0> 39 <Residue 39 (DT) of chain 1> 0.5544115168356443\n",
      "6 <Residue 6 (DA) of chain 0> 36 <Residue 36 (DG) of chain 1> 0.6052784483194491\n",
      "6 <Residue 6 (DA) of chain 0> 37 <Residue 37 (DT) of chain 1> 0.5796950922683405\n",
      "6 <Residue 6 (DA) of chain 0> 38 <Residue 38 (DC) of chain 1> 0.5980582078694345\n",
      "7 <Residue 7 (DC) of chain 0> 36 <Residue 36 (DG) of chain 1> 0.5328443393712653\n",
      "7 <Residue 7 (DC) of chain 0> 37 <Residue 37 (DT) of chain 1> 0.6420498189393095\n",
      "8 <Residue 8 (DT) of chain 0> 35 <Residue 35 (DA) of chain 1> 0.5820032474136202\n",
      "8 <Residue 8 (DT) of chain 0> 36 <Residue 36 (DG) of chain 1> 0.5415202489288831\n",
      "9 <Residue 9 (DT) of chain 0> 34 <Residue 34 (DA) of chain 1> 0.5892325008008298\n",
      "9 <Residue 9 (DT) of chain 0> 35 <Residue 35 (DA) of chain 1> 0.6020993771795484\n",
      "10 <Residue 10 (DA) of chain 0> 32 <Residue 32 (DC) of chain 1> 0.5970426282938265\n",
      "10 <Residue 10 (DA) of chain 0> 33 <Residue 33 (DT) of chain 1> 0.5811134656846285\n",
      "10 <Residue 10 (DA) of chain 0> 34 <Residue 34 (DA) of chain 1> 0.5754623966863512\n",
      "11 <Residue 11 (DG) of chain 0> 32 <Residue 32 (DC) of chain 1> 0.5413916235037259\n",
      "12 <Residue 12 (DA) of chain 0> 31 <Residue 31 (DT) of chain 1> 0.6100143768797585\n",
      "12 <Residue 12 (DA) of chain 0> 32 <Residue 32 (DC) of chain 1> 0.6040196106087947\n",
      "13 <Residue 13 (DA) of chain 0> 30 <Residue 30 (DT) of chain 1> 0.5981789782331036\n",
      "13 <Residue 13 (DA) of chain 0> 31 <Residue 31 (DT) of chain 1> 0.5980634163698698\n",
      "14 <Residue 14 (DA) of chain 0> 29 <Residue 29 (DT) of chain 1> 0.564754158904562\n",
      "14 <Residue 14 (DA) of chain 0> 30 <Residue 30 (DT) of chain 1> 0.5818033860334605\n",
      "15 <Residue 15 (DA) of chain 0> 28 <Residue 28 (DT) of chain 1> 0.5716752399745855\n",
      "15 <Residue 15 (DA) of chain 0> 29 <Residue 29 (DT) of chain 1> 0.6047832752317145\n",
      "16 <Residue 16 (DA) of chain 0> 27 <Residue 27 (DT) of chain 1> 0.5801131441365558\n",
      "16 <Residue 16 (DA) of chain 0> 28 <Residue 28 (DT) of chain 1> 0.5990289225070856\n",
      "17 <Residue 17 (DT) of chain 0> 26 <Residue 26 (DA) of chain 1> 0.5664125263445361\n",
      "17 <Residue 17 (DT) of chain 0> 27 <Residue 27 (DT) of chain 1> 0.6074839421746061\n",
      "18 <Residue 18 (DT) of chain 0> 24 <Residue 24 (DA) of chain 1> 0.6222450722986884\n",
      "18 <Residue 18 (DT) of chain 0> 25 <Residue 25 (DA) of chain 1> 0.5631799534784598\n",
      "18 <Residue 18 (DT) of chain 0> 26 <Residue 26 (DA) of chain 1> 0.5786104561792851\n",
      "19 <Residue 19 (DT) of chain 0> 24 <Residue 24 (DA) of chain 1> 0.5728446386237723\n",
      "19 <Residue 19 (DT) of chain 0> 25 <Residue 25 (DA) of chain 1> 0.6313309512450664\n",
      "20 <Residue 20 (DT) of chain 0> 23 <Residue 23 (DA) of chain 1> 0.5983505410710346\n",
      "20 <Residue 20 (DT) of chain 0> 24 <Residue 24 (DA) of chain 1> 0.5919594918573399\n",
      "21 <Residue 21 (DT) of chain 0> 22 <Residue 22 (DA) of chain 1> 0.5847357522847391\n"
     ]
    }
   ],
   "source": [
    "dna_res_n = len(DNA_res_list)\n",
    "for i in range(dna_res_n):\n",
    "    dna_res_1 = DNA_res_list[i]\n",
    "    chainID_1 = dna_res_1.chain.id\n",
    "    for j in range(i+1, dna_res_n):\n",
    "        dna_res_2 = DNA_res_list[j]\n",
    "        chainID_2 = dna_res_2.chain.id\n",
    "        if chainID_1 == chainID_2:\n",
    "            continue\n",
    "        atom_1 = get_interacting_DNA_atom(dna_res_1)\n",
    "        atom_2 = get_interacting_DNA_atom(dna_res_2)\n",
    "        atom1_pos = pdb.positions[atom_1.index]\n",
    "        atom2_pos = pdb.positions[atom_2.index]\n",
    "        r = compute_dis(atom1_pos, atom2_pos)\n",
    "        if r > 0.65:\n",
    "            continue\n",
    "        print(i, dna_res_1, j, dna_res_2, r)"
   ]
  },
  {
   "cell_type": "code",
   "execution_count": 34,
   "metadata": {
    "collapsed": true
   },
   "outputs": [],
   "source": [
    "def get_interacting_DNA_atom(DNA_res):\n",
    "    for atom in DNA_res.atoms():\n",
    "        # print(atom)\n",
    "        if atom.name in [\"A\", \"T\", \"C\", \"G\"]:\n",
    "            return atom\n",
    "        "
   ]
  },
  {
   "cell_type": "code",
   "execution_count": 12,
   "metadata": {},
   "outputs": [
    {
     "data": {
      "text/plain": [
       "[<Atom 127 (T) of chain 1 residue 43 (DT)>,\n",
       " <Atom 128 (P) of chain 1 residue 43 (DT)>,\n",
       " <Atom 129 (S) of chain 1 residue 43 (DT)>]"
      ]
     },
     "execution_count": 12,
     "metadata": {},
     "output_type": "execute_result"
    }
   ],
   "source": [
    "list(a.atoms())"
   ]
  },
  {
   "cell_type": "code",
   "execution_count": 29,
   "metadata": {},
   "outputs": [
    {
     "name": "stdout",
     "output_type": "stream",
     "text": [
      "<Atom 127 (T) of chain 1 residue 43 (DT)>\n",
      "<Atom 128 (P) of chain 1 residue 43 (DT)>\n",
      "<Atom 129 (S) of chain 1 residue 43 (DT)>\n"
     ]
    }
   ],
   "source": [
    "for atom in a.atoms():\n",
    "    print(atom)\n",
    "    if atom.name not in [\"A\", \"T\", \"C\", \"G\"]:\n",
    "        continue\n",
    "    for \n",
    "    "
   ]
  },
  {
   "cell_type": "code",
   "execution_count": null,
   "metadata": {
    "collapsed": true
   },
   "outputs": [],
   "source": []
  },
  {
   "cell_type": "code",
   "execution_count": 36,
   "metadata": {},
   "outputs": [
    {
     "ename": "TypeError",
     "evalue": "unsupported operand type(s) for -: 'Atom' and 'Atom'",
     "output_type": "error",
     "traceback": [
      "\u001b[0;31m---------------------------------------------------------------------------\u001b[0m",
      "\u001b[0;31mTypeError\u001b[0m                                 Traceback (most recent call last)",
      "\u001b[0;32m<ipython-input-36-82e2e0582e9e>\u001b[0m in \u001b[0;36m<module>\u001b[0;34m()\u001b[0m\n\u001b[0;32m----> 1\u001b[0;31m \u001b[0matom\u001b[0m \u001b[0;34m-\u001b[0m \u001b[0matom\u001b[0m\u001b[0;34m\u001b[0m\u001b[0;34m\u001b[0m\u001b[0m\n\u001b[0m",
      "\u001b[0;31mTypeError\u001b[0m: unsupported operand type(s) for -: 'Atom' and 'Atom'"
     ]
    }
   ],
   "source": [
    "atom - atom"
   ]
  },
  {
   "cell_type": "code",
   "execution_count": null,
   "metadata": {
    "collapsed": true
   },
   "outputs": [],
   "source": []
  },
  {
   "cell_type": "code",
   "execution_count": 30,
   "metadata": {},
   "outputs": [
    {
     "data": {
      "text/plain": [
       "'129'"
      ]
     },
     "execution_count": 30,
     "metadata": {},
     "output_type": "execute_result"
    }
   ],
   "source": [
    "atom.id"
   ]
  },
  {
   "cell_type": "code",
   "execution_count": 31,
   "metadata": {},
   "outputs": [
    {
     "data": {
      "text/plain": [
       "129"
      ]
     },
     "execution_count": 31,
     "metadata": {},
     "output_type": "execute_result"
    }
   ],
   "source": [
    "atom.index"
   ]
  },
  {
   "cell_type": "code",
   "execution_count": 33,
   "metadata": {},
   "outputs": [
    {
     "data": {
      "text/plain": [
       "'S'"
      ]
     },
     "execution_count": 33,
     "metadata": {},
     "output_type": "execute_result"
    }
   ],
   "source": []
  },
  {
   "cell_type": "code",
   "execution_count": null,
   "metadata": {
    "collapsed": true
   },
   "outputs": [],
   "source": []
  },
  {
   "cell_type": "code",
   "execution_count": 17,
   "metadata": {
    "collapsed": true
   },
   "outputs": [],
   "source": [
    "dna_name = a.name[1]"
   ]
  },
  {
   "cell_type": "code",
   "execution_count": 18,
   "metadata": {},
   "outputs": [
    {
     "ename": "TypeError",
     "evalue": "'Residue' object is not subscriptable",
     "output_type": "error",
     "traceback": [
      "\u001b[0;31m---------------------------------------------------------------------------\u001b[0m",
      "\u001b[0;31mTypeError\u001b[0m                                 Traceback (most recent call last)",
      "\u001b[0;32m<ipython-input-18-b308eada0088>\u001b[0m in \u001b[0;36m<module>\u001b[0;34m()\u001b[0m\n\u001b[0;32m----> 1\u001b[0;31m \u001b[0ma\u001b[0m\u001b[0;34m[\u001b[0m\u001b[0mdna_name\u001b[0m\u001b[0;34m]\u001b[0m\u001b[0;34m\u001b[0m\u001b[0;34m\u001b[0m\u001b[0m\n\u001b[0m",
      "\u001b[0;31mTypeError\u001b[0m: 'Residue' object is not subscriptable"
     ]
    }
   ],
   "source": [
    "a[dna_name]"
   ]
  },
  {
   "cell_type": "code",
   "execution_count": 28,
   "metadata": {},
   "outputs": [
    {
     "data": {
      "text/plain": [
       "<Residue 43 (DT) of chain 1>"
      ]
     },
     "execution_count": 28,
     "metadata": {},
     "output_type": "execute_result"
    }
   ],
   "source": [
    "a"
   ]
  },
  {
   "cell_type": "code",
   "execution_count": 25,
   "metadata": {},
   "outputs": [
    {
     "data": {
      "text/plain": [
       "[]"
      ]
     },
     "execution_count": 25,
     "metadata": {},
     "output_type": "execute_result"
    }
   ],
   "source": [
    "list(a.external_bonds())"
   ]
  },
  {
   "cell_type": "code",
   "execution_count": 10,
   "metadata": {},
   "outputs": [
    {
     "data": {
      "text/plain": [
       "'B'"
      ]
     },
     "execution_count": 10,
     "metadata": {},
     "output_type": "execute_result"
    }
   ],
   "source": [
    "a.chain.id"
   ]
  },
  {
   "cell_type": "code",
   "execution_count": 5,
   "metadata": {
    "collapsed": true
   },
   "outputs": [],
   "source": [
    "import os\n",
    "import argparse\n",
    "import sys\n",
    "import openmmawsem\n",
    "import helperFunctions.myFunctions"
   ]
  },
  {
   "cell_type": "code",
   "execution_count": 6,
   "metadata": {
    "collapsed": true
   },
   "outputs": [],
   "source": [
    "from simtk.openmm.app import *\n",
    "from simtk.openmm import *\n",
    "from simtk.unit import *\n",
    "from sys import stdout\n",
    "from pdbfixer import *"
   ]
  },
  {
   "cell_type": "code",
   "execution_count": 7,
   "metadata": {
    "collapsed": true
   },
   "outputs": [],
   "source": [
    "chains_to_simulate = \"B\""
   ]
  },
  {
   "cell_type": "code",
   "execution_count": 8,
   "metadata": {
    "collapsed": true
   },
   "outputs": [],
   "source": [
    "removeHeterogens = False"
   ]
  },
  {
   "cell_type": "code",
   "execution_count": 15,
   "metadata": {
    "collapsed": true
   },
   "outputs": [],
   "source": [
    "pdb_filename = \"/Users/weilu/Research/server/jun_week1_2020/no_DNA_protein_DNA_benchmark/cleaned_pdbs/1a36.pdb\"\n",
    "\n",
    "\n",
    "fixer = PDBFixer(filename=pdb_filename)\n",
    "# we only want pdb chains, ligands or DNA chain will be ignored here.\n",
    "fixer.removeHeterogens(keepWater=False)\n",
    "# remove unwanted chains\n",
    "chains = list(fixer.topology.chains())"
   ]
  },
  {
   "cell_type": "code",
   "execution_count": 16,
   "metadata": {},
   "outputs": [
    {
     "data": {
      "text/plain": [
       "[<Chain 0>, <Chain 1>, <Chain 2>]"
      ]
     },
     "execution_count": 16,
     "metadata": {},
     "output_type": "execute_result"
    }
   ],
   "source": [
    "chains"
   ]
  },
  {
   "cell_type": "code",
   "execution_count": 17,
   "metadata": {},
   "outputs": [
    {
     "name": "stdout",
     "output_type": "stream",
     "text": [
      "A\n",
      "B\n",
      "C\n"
     ]
    }
   ],
   "source": [
    "for c in chains:\n",
    "    print(c.id)"
   ]
  },
  {
   "cell_type": "code",
   "execution_count": 21,
   "metadata": {
    "collapsed": true
   },
   "outputs": [],
   "source": [
    "a = list(c.residues())"
   ]
  },
  {
   "cell_type": "code",
   "execution_count": 22,
   "metadata": {
    "collapsed": true
   },
   "outputs": [],
   "source": [
    "b = a[0]"
   ]
  },
  {
   "cell_type": "code",
   "execution_count": 23,
   "metadata": {},
   "outputs": [
    {
     "data": {
      "text/plain": [
       "'1'"
      ]
     },
     "execution_count": 23,
     "metadata": {},
     "output_type": "execute_result"
    }
   ],
   "source": [
    "b.id"
   ]
  },
  {
   "cell_type": "code",
   "execution_count": 27,
   "metadata": {
    "collapsed": true
   },
   "outputs": [],
   "source": [
    "import numpy as np"
   ]
  },
  {
   "cell_type": "code",
   "execution_count": 29,
   "metadata": {},
   "outputs": [
    {
     "data": {
      "text/plain": [
       "False"
      ]
     },
     "execution_count": 29,
     "metadata": {},
     "output_type": "execute_result"
    }
   ],
   "source": [
    "if np.alltrue([a.name in dnaResidues for a in c.residues()]) is True:\n",
    "    # this chain is a DNA chain\n",
    "    "
   ]
  },
  {
   "cell_type": "code",
   "execution_count": 26,
   "metadata": {},
   "outputs": [
    {
     "data": {
      "text/plain": [
       "False"
      ]
     },
     "execution_count": 26,
     "metadata": {},
     "output_type": "execute_result"
    }
   ],
   "source": [
    "b.name in dnaResidues"
   ]
  },
  {
   "cell_type": "code",
   "execution_count": null,
   "metadata": {
    "collapsed": true
   },
   "outputs": [],
   "source": [
    "proteinResidues = ['ALA', 'ASN', 'CYS', 'GLU', 'HIS', 'LEU', 'MET', 'PRO', 'THR', 'TYR', 'ARG', 'ASP', 'GLN', 'GLY', 'ILE', 'LYS', 'PHE', 'SER', 'TRP', 'VAL']\n",
    "rnaResidues = ['A', 'G', 'C', 'U', 'I']\n",
    "dnaResidues = ['DA', 'DG', 'DC', 'DT', 'DI']"
   ]
  },
  {
   "cell_type": "code",
   "execution_count": 25,
   "metadata": {
    "collapsed": true
   },
   "outputs": [],
   "source": [
    "dnaResidues = ['DA', 'DG', 'DC', 'DT', 'DI']"
   ]
  },
  {
   "cell_type": "code",
   "execution_count": 49,
   "metadata": {
    "collapsed": true
   },
   "outputs": [],
   "source": [
    "chains = list(fixer.topology.chains())\n",
    "a = \"\"\n",
    "\n",
    "proteinResidues = ['ALA', 'ASN', 'CYS', 'GLU', 'HIS', 'LEU', 'MET', 'PRO', 'THR', 'TYR', 'ARG', 'ASP', 'GLN', 'GLY', 'ILE', 'LYS', 'PHE', 'SER', 'TRP', 'VAL']\n",
    "rnaResidues = ['A', 'G', 'C', 'U', 'I']\n",
    "dnaResidues = ['DA', 'DG', 'DC', 'DT', 'DI']\n",
    "for c in chains:\n",
    "    # print([a.name in dnaResidues for a in c.residues()])\n",
    "    if True and np.alltrue([a.name in dnaResidues for a in c.residues()]):\n",
    "        continue\n",
    "    if c.id in 'ABCDEFGHIJKLMNOPQRSTUVWXYZabcdefghijklmnopqrstuvwxyz0123456789':\n",
    "        a += c.id"
   ]
  },
  {
   "cell_type": "code",
   "execution_count": 50,
   "metadata": {},
   "outputs": [
    {
     "data": {
      "text/plain": [
       "'C'"
      ]
     },
     "execution_count": 50,
     "metadata": {},
     "output_type": "execute_result"
    }
   ],
   "source": [
    "a"
   ]
  },
  {
   "cell_type": "code",
   "execution_count": null,
   "metadata": {
    "collapsed": true
   },
   "outputs": [],
   "source": []
  },
  {
   "cell_type": "code",
   "execution_count": null,
   "metadata": {
    "collapsed": true
   },
   "outputs": [],
   "source": []
  },
  {
   "cell_type": "code",
   "execution_count": 12,
   "metadata": {
    "collapsed": true
   },
   "outputs": [],
   "source": [
    "pdb_filename = \"/Users/weilu/Research/server/jun_week1_2020/no_DNA_protein_DNA_benchmark/cleaned_pdbs/1a36.pdb\"\n",
    "fixer = PDBFixer(filename=pdb_filename)\n",
    "\n",
    "# remove unwanted chains\n",
    "chains = list(fixer.topology.chains())\n",
    "chains_to_remove = [i for i, x in enumerate(chains) if x.id not in chains_to_simulate]\n",
    "fixer.removeChains(chains_to_remove)\n",
    "\n",
    "#Identify Missing Residues\n",
    "fixer.findMissingResidues()\n",
    "fixer.missingResidues = {}\n",
    "\n",
    "#Replace Nonstandard Residues\n",
    "fixer.findNonstandardResidues()\n",
    "fixer.replaceNonstandardResidues()\n",
    "\n",
    "#Remove Heterogens\n",
    "if removeHeterogens:\n",
    "    fixer.removeHeterogens(keepWater=False)\n",
    "\n",
    "#Add Missing Heavy Atoms\n",
    "fixer.findMissingAtoms()\n",
    "fixer.addMissingAtoms()\n",
    "\n",
    "#Add Missing Hydrogens\n",
    "fixer.addMissingHydrogens(7.0)\n",
    "# PDBFile.writeFile(fixer.topology, fixer.positions, open(cleaned_pdb_filename, 'w'), keepIds=keepIds)\n",
    "\n",
    "#Read sequence\n",
    "# structure = PDBParser().get_structure('X', cleaned_pdb_filename)\n"
   ]
  },
  {
   "cell_type": "code",
   "execution_count": 13,
   "metadata": {},
   "outputs": [
    {
     "data": {
      "text/plain": [
       "<Topology; 1 chains, 22 residues, 700 atoms, 1246 bonds>"
      ]
     },
     "execution_count": 13,
     "metadata": {},
     "output_type": "execute_result"
    }
   ],
   "source": [
    "fixer.topology"
   ]
  },
  {
   "cell_type": "code",
   "execution_count": null,
   "metadata": {
    "collapsed": true
   },
   "outputs": [],
   "source": []
  }
 ],
 "metadata": {
  "kernelspec": {
   "display_name": "Python 3",
   "language": "python",
   "name": "python3"
  },
  "language_info": {
   "codemirror_mode": {
    "name": "ipython",
    "version": 3
   },
   "file_extension": ".py",
   "mimetype": "text/x-python",
   "name": "python",
   "nbconvert_exporter": "python",
   "pygments_lexer": "ipython3",
   "version": "3.6.7"
  }
 },
 "nbformat": 4,
 "nbformat_minor": 2
}
