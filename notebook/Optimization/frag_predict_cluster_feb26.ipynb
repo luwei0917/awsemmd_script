{
 "cells": [
  {
   "cell_type": "code",
   "execution_count": 1,
   "metadata": {},
   "outputs": [],
   "source": [
    "import numpy as np\n",
    "import pandas as pd\n",
    "import matplotlib.pyplot as plt\n",
    "import seaborn as sns\n",
    "# from small_script.myFunctions import *\n",
    "import feather\n",
    "import Bio.PDB as bio\n",
    "import subprocess\n",
    "from sklearn.cluster import MiniBatchKMeans\n",
    "d3_to_index = bio.Polypeptide.d3_to_index  # we may want to adjust this in the future.\n",
    "three_to_one = bio.Polypeptide.three_to_one\n",
    "one_to_index = bio.Polypeptide.one_to_index\n",
    "plt.rcParams['figure.figsize'] = [16.18033, 10]\n",
    "\n",
    "%matplotlib inline\n",
    "%load_ext autoreload\n",
    "%autoreload 2"
   ]
  },
  {
   "cell_type": "code",
   "execution_count": 2,
   "metadata": {},
   "outputs": [],
   "source": [
    "def getFragPdb(pdbId, i, outFile=None):\n",
    "    pdb = pdbId + \".pdb\"\n",
    "    if outFile is None:\n",
    "        outFile = f\"{i}_{pdb}\"\n",
    "#     pdb = \"1igqB00.pdb\"\n",
    "#     pdbId = pdb.split('.')[0]\n",
    "    pre = \"/Users/weilu/Research/optimization/fragment/\"\n",
    "    database = \"/Users/weilu/Research/optimization/fragment/database/dompdb/\"\n",
    "    parser = bio.PDBParser(QUIET=True)\n",
    "    structure = parser.get_structure(\"x\", os.path.join(database, pdb))\n",
    "    for model in structure:\n",
    "        for chain in model:\n",
    "            all_residues = list(chain)\n",
    "            io = bio.PDBIO()\n",
    "            c = bio.Chain.Chain(\"A\")\n",
    "            c.child_list = all_residues[i:i+9]\n",
    "#             for ii, res in enumerate(c):\n",
    "#                 res.id = (' ', ii+1, ' ')\n",
    "            io.set_structure(c)\n",
    "            io.save(f'{pre}{outFile}')\n",
    "def getScore(data, km):\n",
    "    #     return km.score(data.iloc[:, 3:87].values)\n",
    "    #     return data.values[3:4])\n",
    "    #     return km.score(np.array([1]*84).reshape(1,-1))\n",
    "    #     return np.sqrt(-km.score(data.values[3:87].reshape(1,-1)))\n",
    "    #     return np.sqrt(-km.score(data.values.reshape(1,-1)))\n",
    "    return np.sqrt(((km.cluster_centers_[int(data.values[-1])] - data.values[:-1])**2).sum())\n",
    "def getFromTerminal(CMD):\n",
    "    return subprocess.Popen(CMD,stdout=subprocess.PIPE,shell=True).communicate()[0].decode()"
   ]
  },
  {
   "cell_type": "code",
   "execution_count": null,
   "metadata": {},
   "outputs": [],
   "source": [
    "# pre = \"/Users/weilu/Research/optimization/fragment/\"\n",
    "# data_original = feather.read_dataframe(f\"{pre}cluster100_v2.feather\")\n",
    "# os.system(f\"mkdir -p {pre}center_cluster100_v2/origin/\")\n",
    "# os.system(f\"mkdir -p {pre}center_cluster100_v2/pdbs/\")\n",
    "# os.system(f\"mkdir -p {pre}center_cluster100_v2/gros/\")\n",
    "# center = data_original.groupby(\"cluster\").head(1)\n",
    "# for i, row in center.reset_index(drop=True).iterrows():\n",
    "#     print(i, row[\"pdb\"], row[\"i\"], row[\"cluster\"])\n",
    "#     getFragPdb(row[\"pdb\"], int(row[\"i\"]), f\"center_cluster100_v2/origin/{row['cluster']}.pdb\")\n",
    "# pre = \"/Users/weilu/Research/optimization/fragment/center_cluster100_v2//\"\n",
    "# for i in range(100):\n",
    "#     os.system(f\"python ~/opt/small_script/pdb_reres.py {pre}origin/{i}.pdb > {pre}pdbs/{i}.pdb\")\n",
    "# for i in range(100):\n",
    "#     os.system(f\"python2 ~/opt/script/Pdb2Gro.py {pre}pdbs/{i}.pdb {pre}gros/{i}.gro\")"
   ]
  },
  {
   "cell_type": "code",
   "execution_count": null,
   "metadata": {},
   "outputs": [],
   "source": []
  },
  {
   "cell_type": "code",
   "execution_count": null,
   "metadata": {},
   "outputs": [],
   "source": [
    "# data_original = pd.read_csv(\"/Users/weilu/Research/optimization/fragment/data_jan31.csv\")\n",
    "# chosen = data_original.reset_index(drop=True)\n",
    "# x = chosen.iloc[:, 3:87].values\n",
    "# kmeans = MiniBatchKMeans(n_clusters=100,\n",
    "#         random_state=0,\n",
    "#         batch_size=200,\n",
    "#         max_iter=300,\n",
    "#         tol=1e4).fit(x)\n",
    "# import pickle\n",
    "# # pickle.dump(kmeans, open(\"/Users/weilu/Research/optimization/fragment/kmeans_cluster100_v2_2\", \"wb\"))\n",
    "# chosen[\"cluster\"] = kmeans.labels_\n",
    "# chosen[\"rmsd\"] = chosen.iloc[:,3:88].apply(lambda x: getScore(x, kmeans), axis=1)\n",
    "# reodered_chosen = chosen.sort_values([\"cluster\", \"rmsd\"])\n",
    "# # reodered_chosen.reset_index(drop=True).to_feather(\"/Users/weilu/Research/optimization/fragment/cluster100_v2.feather\")\n",
    "# reodered_chosen.reset_index(drop=True).to_feather(\"/Users/weilu/Research/optimization/fragment/cluster100_v2_2.feather\")\n",
    "\n",
    "\n",
    "\n",
    "\n"
   ]
  },
  {
   "cell_type": "code",
   "execution_count": null,
   "metadata": {},
   "outputs": [],
   "source": []
  },
  {
   "cell_type": "code",
   "execution_count": null,
   "metadata": {},
   "outputs": [],
   "source": []
  },
  {
   "cell_type": "code",
   "execution_count": null,
   "metadata": {},
   "outputs": [],
   "source": []
  },
  {
   "cell_type": "code",
   "execution_count": 4,
   "metadata": {},
   "outputs": [],
   "source": [
    "data = feather.read_dataframe(\"/Users/weilu/Research/optimization/fragment/cluster100_v2_2.feather\")"
   ]
  },
  {
   "cell_type": "code",
   "execution_count": 14,
   "metadata": {},
   "outputs": [
    {
     "data": {
      "text/plain": [
       "(1912985, 89)"
      ]
     },
     "execution_count": 14,
     "metadata": {},
     "output_type": "execute_result"
    }
   ],
   "source": [
    "data.shape"
   ]
  },
  {
   "cell_type": "code",
   "execution_count": 13,
   "metadata": {},
   "outputs": [
    {
     "data": {
      "text/plain": [
       "55296"
      ]
     },
     "execution_count": 13,
     "metadata": {},
     "output_type": "execute_result"
    }
   ],
   "source": [
    "data[\"cluster\"].value_counts()[71]"
   ]
  },
  {
   "cell_type": "code",
   "execution_count": 12,
   "metadata": {},
   "outputs": [
    {
     "data": {
      "text/plain": [
       "55    337166\n",
       "1      98515\n",
       "71     55296\n",
       "38     40610\n",
       "70     37302\n",
       "19     36340\n",
       "45     32528\n",
       "2      32112\n",
       "0      31681\n",
       "32     30514\n",
       "30     30463\n",
       "89     29997\n",
       "23     28138\n",
       "8      27691\n",
       "48     27179\n",
       "33     26388\n",
       "86     26028\n",
       "14     25705\n",
       "16     25236\n",
       "82     23936\n",
       "5      23714\n",
       "80     22254\n",
       "20     21146\n",
       "99     20855\n",
       "31     20690\n",
       "65     20377\n",
       "96     19858\n",
       "79     19337\n",
       "52     19092\n",
       "63     18638\n",
       "       ...  \n",
       "17      9783\n",
       "64      9571\n",
       "4       9430\n",
       "44      9252\n",
       "39      9154\n",
       "81      9027\n",
       "6       8376\n",
       "88      8029\n",
       "58      7743\n",
       "34      7312\n",
       "42      7250\n",
       "18      6982\n",
       "87      6915\n",
       "41      6746\n",
       "94      6583\n",
       "43      6485\n",
       "9       5543\n",
       "93      4862\n",
       "24      4549\n",
       "73      4544\n",
       "26      4303\n",
       "28      4301\n",
       "27      3625\n",
       "60      3568\n",
       "78      2932\n",
       "68      2873\n",
       "61      2216\n",
       "85      1752\n",
       "59      1516\n",
       "46      1342\n",
       "Name: cluster, Length: 100, dtype: int64"
      ]
     },
     "execution_count": 12,
     "metadata": {},
     "output_type": "execute_result"
    }
   ],
   "source": [
    "data[\"cluster\"].value_counts()"
   ]
  },
  {
   "cell_type": "code",
   "execution_count": 8,
   "metadata": {},
   "outputs": [
    {
     "ename": "KeyError",
     "evalue": "'71'",
     "output_type": "error",
     "traceback": [
      "\u001b[0;31m---------------------------------------------------------------------------\u001b[0m",
      "\u001b[0;31mKeyError\u001b[0m                                  Traceback (most recent call last)",
      "\u001b[0;32m<ipython-input-8-83abbed31a0b>\u001b[0m in \u001b[0;36m<module>\u001b[0;34m\u001b[0m\n\u001b[0;32m----> 1\u001b[0;31m \u001b[0mdata\u001b[0m\u001b[0;34m[\u001b[0m\u001b[0;34m\"cluster\"\u001b[0m\u001b[0;34m]\u001b[0m\u001b[0;34m.\u001b[0m\u001b[0mvalue_counts\u001b[0m\u001b[0;34m(\u001b[0m\u001b[0;34m)\u001b[0m\u001b[0;34m[\u001b[0m\u001b[0;34m\"71\"\u001b[0m\u001b[0;34m]\u001b[0m\u001b[0;34m\u001b[0m\u001b[0;34m\u001b[0m\u001b[0m\n\u001b[0m",
      "\u001b[0;32m~/anaconda3/envs/py36/lib/python3.6/site-packages/pandas/core/series.py\u001b[0m in \u001b[0;36m__getitem__\u001b[0;34m(self, key)\u001b[0m\n\u001b[1;32m    866\u001b[0m         \u001b[0mkey\u001b[0m \u001b[0;34m=\u001b[0m \u001b[0mcom\u001b[0m\u001b[0;34m.\u001b[0m\u001b[0mapply_if_callable\u001b[0m\u001b[0;34m(\u001b[0m\u001b[0mkey\u001b[0m\u001b[0;34m,\u001b[0m \u001b[0mself\u001b[0m\u001b[0;34m)\u001b[0m\u001b[0;34m\u001b[0m\u001b[0;34m\u001b[0m\u001b[0m\n\u001b[1;32m    867\u001b[0m         \u001b[0;32mtry\u001b[0m\u001b[0;34m:\u001b[0m\u001b[0;34m\u001b[0m\u001b[0;34m\u001b[0m\u001b[0m\n\u001b[0;32m--> 868\u001b[0;31m             \u001b[0mresult\u001b[0m \u001b[0;34m=\u001b[0m \u001b[0mself\u001b[0m\u001b[0;34m.\u001b[0m\u001b[0mindex\u001b[0m\u001b[0;34m.\u001b[0m\u001b[0mget_value\u001b[0m\u001b[0;34m(\u001b[0m\u001b[0mself\u001b[0m\u001b[0;34m,\u001b[0m \u001b[0mkey\u001b[0m\u001b[0;34m)\u001b[0m\u001b[0;34m\u001b[0m\u001b[0;34m\u001b[0m\u001b[0m\n\u001b[0m\u001b[1;32m    869\u001b[0m \u001b[0;34m\u001b[0m\u001b[0m\n\u001b[1;32m    870\u001b[0m             \u001b[0;32mif\u001b[0m \u001b[0;32mnot\u001b[0m \u001b[0mis_scalar\u001b[0m\u001b[0;34m(\u001b[0m\u001b[0mresult\u001b[0m\u001b[0;34m)\u001b[0m\u001b[0;34m:\u001b[0m\u001b[0;34m\u001b[0m\u001b[0;34m\u001b[0m\u001b[0m\n",
      "\u001b[0;32m~/anaconda3/envs/py36/lib/python3.6/site-packages/pandas/core/indexes/base.py\u001b[0m in \u001b[0;36mget_value\u001b[0;34m(self, series, key)\u001b[0m\n\u001b[1;32m   4372\u001b[0m         \u001b[0;32mtry\u001b[0m\u001b[0;34m:\u001b[0m\u001b[0;34m\u001b[0m\u001b[0;34m\u001b[0m\u001b[0m\n\u001b[1;32m   4373\u001b[0m             return self._engine.get_value(s, k,\n\u001b[0;32m-> 4374\u001b[0;31m                                           tz=getattr(series.dtype, 'tz', None))\n\u001b[0m\u001b[1;32m   4375\u001b[0m         \u001b[0;32mexcept\u001b[0m \u001b[0mKeyError\u001b[0m \u001b[0;32mas\u001b[0m \u001b[0me1\u001b[0m\u001b[0;34m:\u001b[0m\u001b[0;34m\u001b[0m\u001b[0;34m\u001b[0m\u001b[0m\n\u001b[1;32m   4376\u001b[0m             \u001b[0;32mif\u001b[0m \u001b[0mlen\u001b[0m\u001b[0;34m(\u001b[0m\u001b[0mself\u001b[0m\u001b[0;34m)\u001b[0m \u001b[0;34m>\u001b[0m \u001b[0;36m0\u001b[0m \u001b[0;32mand\u001b[0m \u001b[0;34m(\u001b[0m\u001b[0mself\u001b[0m\u001b[0;34m.\u001b[0m\u001b[0mholds_integer\u001b[0m\u001b[0;34m(\u001b[0m\u001b[0;34m)\u001b[0m \u001b[0;32mor\u001b[0m \u001b[0mself\u001b[0m\u001b[0;34m.\u001b[0m\u001b[0mis_boolean\u001b[0m\u001b[0;34m(\u001b[0m\u001b[0;34m)\u001b[0m\u001b[0;34m)\u001b[0m\u001b[0;34m:\u001b[0m\u001b[0;34m\u001b[0m\u001b[0;34m\u001b[0m\u001b[0m\n",
      "\u001b[0;32mpandas/_libs/index.pyx\u001b[0m in \u001b[0;36mpandas._libs.index.IndexEngine.get_value\u001b[0;34m()\u001b[0m\n",
      "\u001b[0;32mpandas/_libs/index.pyx\u001b[0m in \u001b[0;36mpandas._libs.index.IndexEngine.get_value\u001b[0;34m()\u001b[0m\n",
      "\u001b[0;32mpandas/_libs/index.pyx\u001b[0m in \u001b[0;36mpandas._libs.index.IndexEngine.get_loc\u001b[0;34m()\u001b[0m\n",
      "\u001b[0;32mpandas/_libs/index_class_helper.pxi\u001b[0m in \u001b[0;36mpandas._libs.index.Int64Engine._check_type\u001b[0;34m()\u001b[0m\n",
      "\u001b[0;31mKeyError\u001b[0m: '71'"
     ]
    }
   ],
   "source": [
    "data[\"cluster\"].value_counts()[\"71\"]"
   ]
  },
  {
   "cell_type": "code",
   "execution_count": null,
   "metadata": {},
   "outputs": [],
   "source": []
  }
 ],
 "metadata": {
  "kernelspec": {
   "display_name": "Python 3",
   "language": "python",
   "name": "python3"
  },
  "language_info": {
   "codemirror_mode": {
    "name": "ipython",
    "version": 3
   },
   "file_extension": ".py",
   "mimetype": "text/x-python",
   "name": "python",
   "nbconvert_exporter": "python",
   "pygments_lexer": "ipython3",
   "version": "3.6.8"
  }
 },
 "nbformat": 4,
 "nbformat_minor": 2
}
