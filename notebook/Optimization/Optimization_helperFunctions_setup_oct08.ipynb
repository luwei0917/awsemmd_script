{
 "cells": [
  {
   "cell_type": "code",
   "execution_count": 1,
   "metadata": {},
   "outputs": [],
   "source": [
    "import os\n",
    "import sys\n",
    "import random\n",
    "import time\n",
    "from random import seed, randint\n",
    "import argparse\n",
    "import platform\n",
    "from datetime import datetime\n",
    "import imp\n",
    "import numpy as np\n",
    "import fileinput\n",
    "from itertools import product\n",
    "import pandas as pd\n",
    "from scipy.interpolate import griddata\n",
    "from scipy.interpolate import interp2d\n",
    "import seaborn as sns\n",
    "from os import listdir\n",
    "\n",
    "import matplotlib.pyplot as plt\n",
    "import seaborn as sns\n",
    "from scipy.interpolate import griddata\n",
    "import matplotlib as mpl\n",
    "# sys.path.insert(0,'..')\n",
    "# from notebookFunctions import *\n",
    "# from .. import notebookFunctions\n",
    "from Bio.PDB.Polypeptide import one_to_three\n",
    "from Bio.PDB.Polypeptide import three_to_one\n",
    "from Bio.PDB.PDBParser import PDBParser\n",
    "from pyCodeLib import *\n",
    "# from small_script.myFunctions import *\n",
    "sys.path.insert(0, \"/Users/weilu/openmmawsem\")\n",
    "from helperFunctions.myFunctions import *\n",
    "from collections import defaultdict\n",
    "%matplotlib inline\n",
    "# plt.rcParams['figure.figsize'] = (10,6.180)    #golden ratio\n",
    "# %matplotlib notebook\n",
    "%load_ext autoreload\n",
    "%autoreload 2"
   ]
  },
  {
   "cell_type": "code",
   "execution_count": 2,
   "metadata": {},
   "outputs": [],
   "source": [
    "plt.rcParams['figure.figsize'] = np.array([16.18033, 10])    #golden ratio\n",
    "plt.rcParams['figure.facecolor'] = 'w'\n",
    "plt.rcParams['figure.dpi'] = 100\n",
    "plt.rcParams.update({'font.size': 22})"
   ]
  },
  {
   "cell_type": "code",
   "execution_count": 3,
   "metadata": {},
   "outputs": [],
   "source": [
    "def mycp(source, target):\n",
    "    os.system(f\"cp {source} {target}\")\n",
    "    \n",
    "do = os.system\n",
    "\n",
    "def getSeq(fileLocation):\n",
    "    p = PDBParser()\n",
    "    s = p.get_structure(\"test\", fileLocation)\n",
    "    seq = \"\"\n",
    "    residues = list(s.get_residues())\n",
    "    for residue in residues:\n",
    "        res_id = residue.get_id()[0]\n",
    "        if res_id==' ':\n",
    "            residue_name = residue.get_resname()\n",
    "            seq += three_to_one(residue_name)\n",
    "    return seq\n",
    "\n",
    "# get chains nad seq\n",
    "def getChainsAndSeq(fileLocation):\n",
    "    # fileLocation = \"/Users/weilu/Research/examples/optimization/optimization/Structure_Ensemble/1.pdb\"\n",
    "    p = PDBParser()\n",
    "    pdb = p.get_structure(\"test\", fileLocation)\n",
    "    residues = list(pdb.get_residues())\n",
    "    seq = \"\"\n",
    "    chains = \"\"\n",
    "    for residue in residues:\n",
    "        res_id = residue.get_id()[0]\n",
    "        chain = residue.get_full_id()[2]\n",
    "        if res_id==' ':\n",
    "            residue_name = residue.get_resname()\n",
    "            seq += three_to_one(residue_name)\n",
    "            chains += chain\n",
    "    return chains, seq"
   ]
  },
  {
   "cell_type": "code",
   "execution_count": null,
   "metadata": {},
   "outputs": [],
   "source": [
    "pdbFolderList = glob.glob(\"/Users/weilu/Dropbox/Optimization_Xfunnel/Structure_Ensemble_*\")"
   ]
  },
  {
   "cell_type": "code",
   "execution_count": 4,
   "metadata": {},
   "outputs": [],
   "source": [
    "pdbFolderList = glob.glob(\"/Users/weilu/Research/server/oct_2019/Database_Optimization/*\")"
   ]
  },
  {
   "cell_type": "code",
   "execution_count": 5,
   "metadata": {},
   "outputs": [
    {
     "data": {
      "text/plain": [
       "81"
      ]
     },
     "execution_count": 5,
     "metadata": {},
     "output_type": "execute_result"
    }
   ],
   "source": [
    "len(pdbFolderList)"
   ]
  },
  {
   "cell_type": "code",
   "execution_count": 11,
   "metadata": {},
   "outputs": [
    {
     "name": "stdout",
     "output_type": "stream",
     "text": [
      "/Users/weilu/Research/server/oct_2019/Database_Optimization/NLV2_4Sep_AWSEM not exist\n",
      "/Users/weilu/Research/server/oct_2019/Database_Optimization/MART1_3QDG_AWSEM not exist\n",
      "/Users/weilu/Research/server/oct_2019/Database_Optimization/NLV3_4Sep_AWSEM not exist\n",
      "/Users/weilu/Research/server/oct_2019/Database_Optimization/1H5_18Sep_AWSEM not exist\n",
      "/Users/weilu/Research/server/oct_2019/Database_Optimization/10mer_23Aug_AWSEM not exist\n",
      "/Users/weilu/Research/server/oct_2019/Database_Optimization/9mer_23Aug_AWSEM not exist\n",
      "/Users/weilu/Research/server/oct_2019/Database_Optimization/MAGE3_AWSEM not exist\n"
     ]
    }
   ],
   "source": [
    "# filter out those has incompelete peptide.txt\n",
    "_all = []\n",
    "# generate decoys\n",
    "protein_list = []\n",
    "for pdbFolder in pdbFolderList:\n",
    "#     pdbName = pdbFolder.split(\"_\")[-1]\n",
    "    pdbName = pdbFolder.split(\"/\")[-1]\n",
    "    source = pdbFolder + f\"/*.pdb\"\n",
    "    p_list = glob.glob(source)\n",
    "    # print(p_list, source)\n",
    "#     assert len(p_list) == 1\n",
    "    p = p_list[0]\n",
    "    chain_seq, seq = getChainsAndSeq(p)\n",
    "    \n",
    "    # print(pdbName, i, len(seq), len(chain_seq))\n",
    "    decoy_list = []\n",
    "    if not os.path.exists(f\"{pdbFolder}/peptide.txt\"):\n",
    "        print(pdbFolder, \"not exist\")\n",
    "        continue\n",
    "    with open(f\"{pdbFolder}/peptide.txt\") as f:\n",
    "        for line in f:\n",
    "            pep = line.strip()\n",
    "            pep_len = len(pep)\n",
    "            # assert len(pep) == 9\n",
    "            for c in list(set(chain_seq)):\n",
    "                if chain_seq.count(c) == pep_len:\n",
    "                    first_c = chain_seq.find(c)\n",
    "                    a = list(seq)\n",
    "                    a[first_c:first_c+pep_len] = pep\n",
    "                    assert len(set(chain_seq[first_c:first_c+pep_len])) == 1\n",
    "                    decoy = \"\".join(a)\n",
    "                    decoy_list.append(decoy)\n",
    "    _all.append([pdbName, len(decoy_list)])"
   ]
  },
  {
   "cell_type": "code",
   "execution_count": 21,
   "metadata": {},
   "outputs": [
    {
     "data": {
      "text/html": [
       "<div>\n",
       "<style scoped>\n",
       "    .dataframe tbody tr th:only-of-type {\n",
       "        vertical-align: middle;\n",
       "    }\n",
       "\n",
       "    .dataframe tbody tr th {\n",
       "        vertical-align: top;\n",
       "    }\n",
       "\n",
       "    .dataframe thead th {\n",
       "        text-align: right;\n",
       "    }\n",
       "</style>\n",
       "<table border=\"1\" class=\"dataframe\">\n",
       "  <thead>\n",
       "    <tr style=\"text-align: right;\">\n",
       "      <th></th>\n",
       "      <th>Name</th>\n",
       "      <th>Length</th>\n",
       "    </tr>\n",
       "  </thead>\n",
       "  <tbody>\n",
       "  </tbody>\n",
       "</table>\n",
       "</div>"
      ],
      "text/plain": [
       "Empty DataFrame\n",
       "Columns: [Name, Length]\n",
       "Index: []"
      ]
     },
     "execution_count": 21,
     "metadata": {},
     "output_type": "execute_result"
    }
   ],
   "source": [
    "a = pd.DataFrame(_all, columns=[\"Name\", \"Length\"])\n",
    "a.query(\"Length < 1000\").sort_values(\"Name\")"
   ]
  },
  {
   "cell_type": "code",
   "execution_count": 18,
   "metadata": {},
   "outputs": [],
   "source": [
    "pdbList = list(a.query(\"Length == 1000\")[\"Name\"])"
   ]
  },
  {
   "cell_type": "code",
   "execution_count": 25,
   "metadata": {},
   "outputs": [
    {
     "data": {
      "text/plain": [
       "81"
      ]
     },
     "execution_count": 25,
     "metadata": {},
     "output_type": "execute_result"
    }
   ],
   "source": [
    "len(pdbFolderList)"
   ]
  },
  {
   "cell_type": "code",
   "execution_count": 24,
   "metadata": {},
   "outputs": [
    {
     "data": {
      "text/plain": [
       "74"
      ]
     },
     "execution_count": 24,
     "metadata": {},
     "output_type": "execute_result"
    }
   ],
   "source": [
    "len(pdbList)"
   ]
  },
  {
   "cell_type": "code",
   "execution_count": 26,
   "metadata": {},
   "outputs": [],
   "source": [
    "# pre = \"/Users/weilu/Research/server/sep_2019/peptide_optimization_trial_8_larger_set\"\n",
    "pre = \"/Users/weilu/Research/server/oct_2019//peptide_optimization_trial_10\"\n",
    "do(f\"mkdir -p {pre}\")\n",
    "do(f\"mkdir -p {pre}/database/dompdb\")\n",
    "do(f\"mkdir -p {pre}/database/S20_seq\")\n",
    "do(f\"mkdir -p {pre}/optimization/decoys/shuffle\")\n",
    "# generate decoys\n",
    "protein_list = []\n",
    "for pdbFolder in pdbFolderList:\n",
    "    pdbName = pdbFolder.split(\"/\")[-1]\n",
    "    if pdbName not in pdbList:\n",
    "        continue\n",
    "    source = pdbFolder + f\"/*.pdb\"\n",
    "    p_list = glob.glob(source)\n",
    "    # print(p_list, source)\n",
    "#     assert len(p_list) == 1\n",
    "    p = p_list[0]\n",
    "    chain_seq, seq = getChainsAndSeq(p)\n",
    "    \n",
    "    # print(pdbName, i, len(seq), len(chain_seq))\n",
    "    decoy_list = []\n",
    "    with open(f\"{pdbFolder}/peptide.txt\") as f:\n",
    "        for line in f:\n",
    "            pep = line.strip()\n",
    "            pep_len = len(pep)\n",
    "            # assert len(pep) == 9\n",
    "            for c in list(set(chain_seq)):\n",
    "                if chain_seq.count(c) == pep_len:\n",
    "                    first_c = chain_seq.find(c)\n",
    "                    a = list(seq)\n",
    "                    a[first_c:first_c+pep_len] = pep\n",
    "                    assert len(set(chain_seq[first_c:first_c+pep_len])) == 1\n",
    "                    decoy = \"\".join(a)\n",
    "                    decoy_list.append(decoy)\n",
    "    # two branch. one: all become one.\n",
    "    if len(decoy_list) == 0:\n",
    "        continue\n",
    "    for i in range(5):\n",
    "        opt_pdbName = f\"{pdbName}_{i}\"\n",
    "        fileLocation = f\"{pre}/optimization/decoys/shuffle/{opt_pdbName}.decoys\"\n",
    "        # print(\"1\", pdbName, len(decoy_list), pep_len)\n",
    "        with open(fileLocation, \"w\") as out:\n",
    "    #         if len(decoy_list) != 1000:\n",
    "    #             print(\"wrong\")\n",
    "    #             decoy_list = random.choices(decoy_list, k=1000)\n",
    "            for decoy in decoy_list:\n",
    "                out.write(decoy+\"\\n\")\n",
    "        protein_list.append(opt_pdbName)\n",
    "\n",
    "\n",
    "        target = f\"{pre}/database/dompdb/{opt_pdbName}.pdb\"\n",
    "        ## move native pdbs to dompdb\n",
    "        mycp(p, target)\n",
    "        ## move native seq to S20_seq\n",
    "        seq = getSeq(target)\n",
    "        fileLocation = f\"{pre}/database/S20_seq/{opt_pdbName}.seq\"\n",
    "        with open(fileLocation, \"w\") as out:\n",
    "            out.write(seq+\"\\n\")\n"
   ]
  },
  {
   "cell_type": "code",
   "execution_count": 27,
   "metadata": {},
   "outputs": [
    {
     "data": {
      "text/plain": [
       "['51_AWSEM_0',\n",
       " '51_AWSEM_1',\n",
       " '51_AWSEM_2',\n",
       " '51_AWSEM_3',\n",
       " '51_AWSEM_4',\n",
       " '15_AWSEM_0',\n",
       " '15_AWSEM_1',\n",
       " '15_AWSEM_2',\n",
       " '15_AWSEM_3',\n",
       " '15_AWSEM_4',\n",
       " '38_10mer_AWSEM_0',\n",
       " '38_10mer_AWSEM_1',\n",
       " '38_10mer_AWSEM_2',\n",
       " '38_10mer_AWSEM_3',\n",
       " '38_10mer_AWSEM_4',\n",
       " '61_AWSEM_0',\n",
       " '61_AWSEM_1',\n",
       " '61_AWSEM_2',\n",
       " '61_AWSEM_3',\n",
       " '61_AWSEM_4',\n",
       " '72_AWSEM_0',\n",
       " '72_AWSEM_1',\n",
       " '72_AWSEM_2',\n",
       " '72_AWSEM_3',\n",
       " '72_AWSEM_4',\n",
       " '47_10mer_AWSEM_0',\n",
       " '47_10mer_AWSEM_1',\n",
       " '47_10mer_AWSEM_2',\n",
       " '47_10mer_AWSEM_3',\n",
       " '47_10mer_AWSEM_4',\n",
       " '52_AWSEM_0',\n",
       " '52_AWSEM_1',\n",
       " '52_AWSEM_2',\n",
       " '52_AWSEM_3',\n",
       " '52_AWSEM_4',\n",
       " 'McPAS_23_AWSEM_0',\n",
       " 'McPAS_23_AWSEM_1',\n",
       " 'McPAS_23_AWSEM_2',\n",
       " 'McPAS_23_AWSEM_3',\n",
       " 'McPAS_23_AWSEM_4',\n",
       " '2_AWSEM_0',\n",
       " '2_AWSEM_1',\n",
       " '2_AWSEM_2',\n",
       " '2_AWSEM_3',\n",
       " '2_AWSEM_4',\n",
       " '40_10mer_AWSEM_0',\n",
       " '40_10mer_AWSEM_1',\n",
       " '40_10mer_AWSEM_2',\n",
       " '40_10mer_AWSEM_3',\n",
       " '40_10mer_AWSEM_4',\n",
       " '50_AWSEM_0',\n",
       " '50_AWSEM_1',\n",
       " '50_AWSEM_2',\n",
       " '50_AWSEM_3',\n",
       " '50_AWSEM_4',\n",
       " '56_AWSEM_0',\n",
       " '56_AWSEM_1',\n",
       " '56_AWSEM_2',\n",
       " '56_AWSEM_3',\n",
       " '56_AWSEM_4',\n",
       " '23_AWSEM_0',\n",
       " '23_AWSEM_1',\n",
       " '23_AWSEM_2',\n",
       " '23_AWSEM_3',\n",
       " '23_AWSEM_4',\n",
       " '66_10mer_AWSEM_0',\n",
       " '66_10mer_AWSEM_1',\n",
       " '66_10mer_AWSEM_2',\n",
       " '66_10mer_AWSEM_3',\n",
       " '66_10mer_AWSEM_4',\n",
       " '67_10mer_AWSEM_0',\n",
       " '67_10mer_AWSEM_1',\n",
       " '67_10mer_AWSEM_2',\n",
       " '67_10mer_AWSEM_3',\n",
       " '67_10mer_AWSEM_4',\n",
       " '42_10mer_AWSEM_0',\n",
       " '42_10mer_AWSEM_1',\n",
       " '42_10mer_AWSEM_2',\n",
       " '42_10mer_AWSEM_3',\n",
       " '42_10mer_AWSEM_4',\n",
       " 'McPAS_127_AWSEM_0',\n",
       " 'McPAS_127_AWSEM_1',\n",
       " 'McPAS_127_AWSEM_2',\n",
       " 'McPAS_127_AWSEM_3',\n",
       " 'McPAS_127_AWSEM_4',\n",
       " '34_10mer_AWSEM_0',\n",
       " '34_10mer_AWSEM_1',\n",
       " '34_10mer_AWSEM_2',\n",
       " '34_10mer_AWSEM_3',\n",
       " '34_10mer_AWSEM_4',\n",
       " '10_AWSEM_0',\n",
       " '10_AWSEM_1',\n",
       " '10_AWSEM_2',\n",
       " '10_AWSEM_3',\n",
       " '10_AWSEM_4',\n",
       " '26_AWSEM_0',\n",
       " '26_AWSEM_1',\n",
       " '26_AWSEM_2',\n",
       " '26_AWSEM_3',\n",
       " '26_AWSEM_4',\n",
       " '22_AWSEM_0',\n",
       " '22_AWSEM_1',\n",
       " '22_AWSEM_2',\n",
       " '22_AWSEM_3',\n",
       " '22_AWSEM_4',\n",
       " '35_AWSEM_0',\n",
       " '35_AWSEM_1',\n",
       " '35_AWSEM_2',\n",
       " '35_AWSEM_3',\n",
       " '35_AWSEM_4',\n",
       " '29_AWSEM_0',\n",
       " '29_AWSEM_1',\n",
       " '29_AWSEM_2',\n",
       " '29_AWSEM_3',\n",
       " '29_AWSEM_4',\n",
       " '11_AWSEM_0',\n",
       " '11_AWSEM_1',\n",
       " '11_AWSEM_2',\n",
       " '11_AWSEM_3',\n",
       " '11_AWSEM_4',\n",
       " '19_AWSEM_0',\n",
       " '19_AWSEM_1',\n",
       " '19_AWSEM_2',\n",
       " '19_AWSEM_3',\n",
       " '19_AWSEM_4',\n",
       " 'McPAS_22_AWSEM_0',\n",
       " 'McPAS_22_AWSEM_1',\n",
       " 'McPAS_22_AWSEM_2',\n",
       " 'McPAS_22_AWSEM_3',\n",
       " 'McPAS_22_AWSEM_4',\n",
       " '9_AWSEM_0',\n",
       " '9_AWSEM_1',\n",
       " '9_AWSEM_2',\n",
       " '9_AWSEM_3',\n",
       " '9_AWSEM_4',\n",
       " '5_AWSEM_0',\n",
       " '5_AWSEM_1',\n",
       " '5_AWSEM_2',\n",
       " '5_AWSEM_3',\n",
       " '5_AWSEM_4',\n",
       " '27_AWSEM_0',\n",
       " '27_AWSEM_1',\n",
       " '27_AWSEM_2',\n",
       " '27_AWSEM_3',\n",
       " '27_AWSEM_4',\n",
       " 'McPAS_135_AWSEM_0',\n",
       " 'McPAS_135_AWSEM_1',\n",
       " 'McPAS_135_AWSEM_2',\n",
       " 'McPAS_135_AWSEM_3',\n",
       " 'McPAS_135_AWSEM_4',\n",
       " '53_AWSEM_0',\n",
       " '53_AWSEM_1',\n",
       " '53_AWSEM_2',\n",
       " '53_AWSEM_3',\n",
       " '53_AWSEM_4',\n",
       " '20_AWSEM_0',\n",
       " '20_AWSEM_1',\n",
       " '20_AWSEM_2',\n",
       " '20_AWSEM_3',\n",
       " '20_AWSEM_4',\n",
       " '4_AWSEM_0',\n",
       " '4_AWSEM_1',\n",
       " '4_AWSEM_2',\n",
       " '4_AWSEM_3',\n",
       " '4_AWSEM_4',\n",
       " '44_10mer_AWSEM_0',\n",
       " '44_10mer_AWSEM_1',\n",
       " '44_10mer_AWSEM_2',\n",
       " '44_10mer_AWSEM_3',\n",
       " '44_10mer_AWSEM_4',\n",
       " '6_AWSEM_0',\n",
       " '6_AWSEM_1',\n",
       " '6_AWSEM_2',\n",
       " '6_AWSEM_3',\n",
       " '6_AWSEM_4',\n",
       " '36_AWSEM_0',\n",
       " '36_AWSEM_1',\n",
       " '36_AWSEM_2',\n",
       " '36_AWSEM_3',\n",
       " '36_AWSEM_4',\n",
       " '8_AWSEM_0',\n",
       " '8_AWSEM_1',\n",
       " '8_AWSEM_2',\n",
       " '8_AWSEM_3',\n",
       " '8_AWSEM_4',\n",
       " '71_AWSEM_0',\n",
       " '71_AWSEM_1',\n",
       " '71_AWSEM_2',\n",
       " '71_AWSEM_3',\n",
       " '71_AWSEM_4',\n",
       " '17_AWSEM_0',\n",
       " '17_AWSEM_1',\n",
       " '17_AWSEM_2',\n",
       " '17_AWSEM_3',\n",
       " '17_AWSEM_4',\n",
       " 'McPAS_14_AWSEM_0',\n",
       " 'McPAS_14_AWSEM_1',\n",
       " 'McPAS_14_AWSEM_2',\n",
       " 'McPAS_14_AWSEM_3',\n",
       " 'McPAS_14_AWSEM_4',\n",
       " '62_AWSEM_0',\n",
       " '62_AWSEM_1',\n",
       " '62_AWSEM_2',\n",
       " '62_AWSEM_3',\n",
       " '62_AWSEM_4',\n",
       " '58_AWSEM_0',\n",
       " '58_AWSEM_1',\n",
       " '58_AWSEM_2',\n",
       " '58_AWSEM_3',\n",
       " '58_AWSEM_4',\n",
       " '49_AWSEM_0',\n",
       " '49_AWSEM_1',\n",
       " '49_AWSEM_2',\n",
       " '49_AWSEM_3',\n",
       " '49_AWSEM_4',\n",
       " '14_AWSEM_0',\n",
       " '14_AWSEM_1',\n",
       " '14_AWSEM_2',\n",
       " '14_AWSEM_3',\n",
       " '14_AWSEM_4',\n",
       " 'McPAS_43_AWSEM_0',\n",
       " 'McPAS_43_AWSEM_1',\n",
       " 'McPAS_43_AWSEM_2',\n",
       " 'McPAS_43_AWSEM_3',\n",
       " 'McPAS_43_AWSEM_4',\n",
       " '65_AWSEM_0',\n",
       " '65_AWSEM_1',\n",
       " '65_AWSEM_2',\n",
       " '65_AWSEM_3',\n",
       " '65_AWSEM_4',\n",
       " '63_10mer_AWSEM_0',\n",
       " '63_10mer_AWSEM_1',\n",
       " '63_10mer_AWSEM_2',\n",
       " '63_10mer_AWSEM_3',\n",
       " '63_10mer_AWSEM_4',\n",
       " '37_10mer_AWSEM_0',\n",
       " '37_10mer_AWSEM_1',\n",
       " '37_10mer_AWSEM_2',\n",
       " '37_10mer_AWSEM_3',\n",
       " '37_10mer_AWSEM_4',\n",
       " '31_AWSEM_0',\n",
       " '31_AWSEM_1',\n",
       " '31_AWSEM_2',\n",
       " '31_AWSEM_3',\n",
       " '31_AWSEM_4',\n",
       " '21_AWSEM_0',\n",
       " '21_AWSEM_1',\n",
       " '21_AWSEM_2',\n",
       " '21_AWSEM_3',\n",
       " '21_AWSEM_4',\n",
       " '7_AWSEM_0',\n",
       " '7_AWSEM_1',\n",
       " '7_AWSEM_2',\n",
       " '7_AWSEM_3',\n",
       " '7_AWSEM_4',\n",
       " '43_10mer_AWSEM_0',\n",
       " '43_10mer_AWSEM_1',\n",
       " '43_10mer_AWSEM_2',\n",
       " '43_10mer_AWSEM_3',\n",
       " '43_10mer_AWSEM_4',\n",
       " 'McPAS_44_AWSEM_0',\n",
       " 'McPAS_44_AWSEM_1',\n",
       " 'McPAS_44_AWSEM_2',\n",
       " 'McPAS_44_AWSEM_3',\n",
       " 'McPAS_44_AWSEM_4',\n",
       " '46_10mer_AWSEM_0',\n",
       " '46_10mer_AWSEM_1',\n",
       " '46_10mer_AWSEM_2',\n",
       " '46_10mer_AWSEM_3',\n",
       " '46_10mer_AWSEM_4',\n",
       " '57_10mer_AWSEM_0',\n",
       " '57_10mer_AWSEM_1',\n",
       " '57_10mer_AWSEM_2',\n",
       " '57_10mer_AWSEM_3',\n",
       " '57_10mer_AWSEM_4',\n",
       " '12_AWSEM_0',\n",
       " '12_AWSEM_1',\n",
       " '12_AWSEM_2',\n",
       " '12_AWSEM_3',\n",
       " '12_AWSEM_4',\n",
       " '60_AWSEM_0',\n",
       " '60_AWSEM_1',\n",
       " '60_AWSEM_2',\n",
       " '60_AWSEM_3',\n",
       " '60_AWSEM_4',\n",
       " 'McPAS_136_AWSEM_0',\n",
       " 'McPAS_136_AWSEM_1',\n",
       " 'McPAS_136_AWSEM_2',\n",
       " 'McPAS_136_AWSEM_3',\n",
       " 'McPAS_136_AWSEM_4',\n",
       " '45_10mer_AWSEM_0',\n",
       " '45_10mer_AWSEM_1',\n",
       " '45_10mer_AWSEM_2',\n",
       " '45_10mer_AWSEM_3',\n",
       " '45_10mer_AWSEM_4',\n",
       " 'McPAS_126_AWSEM_0',\n",
       " 'McPAS_126_AWSEM_1',\n",
       " 'McPAS_126_AWSEM_2',\n",
       " 'McPAS_126_AWSEM_3',\n",
       " 'McPAS_126_AWSEM_4',\n",
       " '25_AWSEM_0',\n",
       " '25_AWSEM_1',\n",
       " '25_AWSEM_2',\n",
       " '25_AWSEM_3',\n",
       " '25_AWSEM_4',\n",
       " '48_10mer_AWSEM_0',\n",
       " '48_10mer_AWSEM_1',\n",
       " '48_10mer_AWSEM_2',\n",
       " '48_10mer_AWSEM_3',\n",
       " '48_10mer_AWSEM_4',\n",
       " '33_10mer_AWSEM_0',\n",
       " '33_10mer_AWSEM_1',\n",
       " '33_10mer_AWSEM_2',\n",
       " '33_10mer_AWSEM_3',\n",
       " '33_10mer_AWSEM_4',\n",
       " 'McPAS_16_AWSEM_0',\n",
       " 'McPAS_16_AWSEM_1',\n",
       " 'McPAS_16_AWSEM_2',\n",
       " 'McPAS_16_AWSEM_3',\n",
       " 'McPAS_16_AWSEM_4',\n",
       " '54_10mer_AWSEM_0',\n",
       " '54_10mer_AWSEM_1',\n",
       " '54_10mer_AWSEM_2',\n",
       " '54_10mer_AWSEM_3',\n",
       " '54_10mer_AWSEM_4',\n",
       " '13_AWSEM_0',\n",
       " '13_AWSEM_1',\n",
       " '13_AWSEM_2',\n",
       " '13_AWSEM_3',\n",
       " '13_AWSEM_4',\n",
       " '64_AWSEM_0',\n",
       " '64_AWSEM_1',\n",
       " '64_AWSEM_2',\n",
       " '64_AWSEM_3',\n",
       " '64_AWSEM_4',\n",
       " '30_10mer_AWSEM_0',\n",
       " '30_10mer_AWSEM_1',\n",
       " '30_10mer_AWSEM_2',\n",
       " '30_10mer_AWSEM_3',\n",
       " '30_10mer_AWSEM_4',\n",
       " '16_AWSEM_0',\n",
       " '16_AWSEM_1',\n",
       " '16_AWSEM_2',\n",
       " '16_AWSEM_3',\n",
       " '16_AWSEM_4',\n",
       " '1_AWSEM_0',\n",
       " '1_AWSEM_1',\n",
       " '1_AWSEM_2',\n",
       " '1_AWSEM_3',\n",
       " '1_AWSEM_4',\n",
       " '18_AWSEM_0',\n",
       " '18_AWSEM_1',\n",
       " '18_AWSEM_2',\n",
       " '18_AWSEM_3',\n",
       " '18_AWSEM_4',\n",
       " '39_10mer_AWSEM_0',\n",
       " '39_10mer_AWSEM_1',\n",
       " '39_10mer_AWSEM_2',\n",
       " '39_10mer_AWSEM_3',\n",
       " '39_10mer_AWSEM_4',\n",
       " 'McPAS_52_AWSEM_0',\n",
       " 'McPAS_52_AWSEM_1',\n",
       " 'McPAS_52_AWSEM_2',\n",
       " 'McPAS_52_AWSEM_3',\n",
       " 'McPAS_52_AWSEM_4',\n",
       " '3_AWSEM_0',\n",
       " '3_AWSEM_1',\n",
       " '3_AWSEM_2',\n",
       " '3_AWSEM_3',\n",
       " '3_AWSEM_4']"
      ]
     },
     "execution_count": 27,
     "metadata": {},
     "output_type": "execute_result"
    }
   ],
   "source": [
    "protein_list"
   ]
  },
  {
   "cell_type": "code",
   "execution_count": 28,
   "metadata": {},
   "outputs": [
    {
     "data": {
      "text/plain": [
       "0"
      ]
     },
     "execution_count": 28,
     "metadata": {},
     "output_type": "execute_result"
    }
   ],
   "source": [
    "do(f\"mkdir -p {pre}/optimization\")\n",
    "do(f\"mkdir -p {pre}/phis\")\n",
    "\n",
    "## write protein_list\n",
    "fileLocation = f\"{pre}/optimization/protein_list\"\n",
    "with open(fileLocation, \"w\") as out:\n",
    "    for pdbName in protein_list:\n",
    "        out.write(f\"{pdbName}\\n\")\n",
    "\n",
    "# do(f\"cp ~/opt/optimization/phi_list_contact.txt {pre}/optimization/phi_list.txt\")\n",
    "do(f\"cp ~/opt/optimization/phi_list_debye.txt {pre}/optimization/phi_list.txt\")"
   ]
  },
  {
   "cell_type": "markdown",
   "metadata": {},
   "source": [
    "# two branch. one: set as 100 per structure. another only use 1000."
   ]
  },
  {
   "cell_type": "code",
   "execution_count": 16,
   "metadata": {},
   "outputs": [
    {
     "ename": "NameError",
     "evalue": "name 'pdbList' is not defined",
     "output_type": "error",
     "traceback": [
      "\u001b[0;31m---------------------------------------------------------------------------\u001b[0m",
      "\u001b[0;31mNameError\u001b[0m                                 Traceback (most recent call last)",
      "\u001b[0;32m<ipython-input-16-c8af3edeeb91>\u001b[0m in \u001b[0;36m<module>\u001b[0;34m\u001b[0m\n\u001b[1;32m      9\u001b[0m \u001b[0;32mfor\u001b[0m \u001b[0mpdbFolder\u001b[0m \u001b[0;32min\u001b[0m \u001b[0mpdbFolderList\u001b[0m\u001b[0;34m:\u001b[0m\u001b[0;34m\u001b[0m\u001b[0;34m\u001b[0m\u001b[0m\n\u001b[1;32m     10\u001b[0m     \u001b[0mpdbName\u001b[0m \u001b[0;34m=\u001b[0m \u001b[0mpdbFolder\u001b[0m\u001b[0;34m.\u001b[0m\u001b[0msplit\u001b[0m\u001b[0;34m(\u001b[0m\u001b[0;34m\"_\"\u001b[0m\u001b[0;34m)\u001b[0m\u001b[0;34m[\u001b[0m\u001b[0;34m-\u001b[0m\u001b[0;36m1\u001b[0m\u001b[0;34m]\u001b[0m\u001b[0;34m\u001b[0m\u001b[0;34m\u001b[0m\u001b[0m\n\u001b[0;32m---> 11\u001b[0;31m     \u001b[0;32mif\u001b[0m \u001b[0mpdbName\u001b[0m \u001b[0;32mnot\u001b[0m \u001b[0;32min\u001b[0m \u001b[0mpdbList\u001b[0m\u001b[0;34m:\u001b[0m\u001b[0;34m\u001b[0m\u001b[0;34m\u001b[0m\u001b[0m\n\u001b[0m\u001b[1;32m     12\u001b[0m         \u001b[0;32mcontinue\u001b[0m\u001b[0;34m\u001b[0m\u001b[0;34m\u001b[0m\u001b[0m\n\u001b[1;32m     13\u001b[0m     \u001b[0msource\u001b[0m \u001b[0;34m=\u001b[0m \u001b[0mpdbFolder\u001b[0m \u001b[0;34m+\u001b[0m \u001b[0;34mf\"/*.pdb\"\u001b[0m\u001b[0;34m\u001b[0m\u001b[0;34m\u001b[0m\u001b[0m\n",
      "\u001b[0;31mNameError\u001b[0m: name 'pdbList' is not defined"
     ]
    }
   ],
   "source": [
    "# pre = \"/Users/weilu/Research/server/sep_2019/peptide_optimization_trial_8_larger_set\"\n",
    "pre = \"/Users/weilu/Research/server/oct_2019//peptide_optimization_trial_10\"\n",
    "do(f\"mkdir -p {pre}\")\n",
    "do(f\"mkdir -p {pre}/database/dompdb\")\n",
    "do(f\"mkdir -p {pre}/database/S20_seq\")\n",
    "do(f\"mkdir -p {pre}/optimization/decoys/shuffle\")\n",
    "# generate decoys\n",
    "protein_list = []\n",
    "for pdbFolder in pdbFolderList:\n",
    "#     pdbName = pdbFolder.split(\"_\")[-1]\n",
    "    if pdbName not in pdbList:\n",
    "        continue\n",
    "    source = pdbFolder + f\"/*.pdb\"\n",
    "    p_list = glob.glob(source)\n",
    "    # print(p_list, source)\n",
    "    assert len(p_list) == 1\n",
    "    p = p_list[0]\n",
    "    chain_seq, seq = getChainsAndSeq(p)\n",
    "    \n",
    "    # print(pdbName, i, len(seq), len(chain_seq))\n",
    "    decoy_list = []\n",
    "    with open(f\"{pdbFolder}/peptide.txt\") as f:\n",
    "        for line in f:\n",
    "            pep = line.strip()\n",
    "            pep_len = len(pep)\n",
    "            # assert len(pep) == 9\n",
    "            for c in list(set(chain_seq)):\n",
    "                if chain_seq.count(c) == pep_len:\n",
    "                    first_c = chain_seq.find(c)\n",
    "                    a = list(seq)\n",
    "                    a[first_c:first_c+pep_len] = pep\n",
    "                    assert len(set(chain_seq[first_c:first_c+pep_len])) == 1\n",
    "                    decoy = \"\".join(a)\n",
    "                    decoy_list.append(decoy)\n",
    "    # two branch. one: all become one.\n",
    "    if len(decoy_list) == 0:\n",
    "        continue\n",
    "    opt_pdbName = f\"{pdbName}\"\n",
    "    fileLocation = f\"{pre}/optimization/decoys/shuffle/{opt_pdbName}.decoys\"\n",
    "    # print(\"1\", pdbName, len(decoy_list), pep_len)\n",
    "    with open(fileLocation, \"w\") as out:\n",
    "        if len(decoy_list) != 1000:\n",
    "            print(\"wrong\")\n",
    "            decoy_list = random.choices(decoy_list, k=1000)\n",
    "        for decoy in decoy_list:\n",
    "            out.write(decoy+\"\\n\")\n",
    "    protein_list.append(opt_pdbName)\n",
    "\n",
    "\n",
    "    target = f\"{pre}/database/dompdb/{opt_pdbName}.pdb\"\n",
    "    ## move native pdbs to dompdb\n",
    "    mycp(p, target)\n",
    "    ## move native seq to S20_seq\n",
    "    seq = getSeq(target)\n",
    "    fileLocation = f\"{pre}/database/S20_seq/{opt_pdbName}.seq\"\n",
    "    with open(fileLocation, \"w\") as out:\n",
    "        out.write(seq+\"\\n\")\n",
    "#     # two branch. one: set as 100 per structure.\n",
    "#     n = int(len(decoy_list) // 100)\n",
    "#     for i in range(n):\n",
    "#         opt_pdbName = f\"{pdbName}_{i}\"\n",
    "#         fileLocation = f\"{pre}/optimization/decoys/shuffle/{opt_pdbName}.decoys\"\n",
    "#         # print(\"1\", pdbName, len(decoy_list), pep_len)\n",
    "#         with open(fileLocation, \"w\") as out:\n",
    "#             for decoy in decoy_list[i*100:(i+1)*100]:\n",
    "#                 out.write(decoy+\"\\n\")\n",
    "#         protein_list.append(opt_pdbName)\n",
    "        \n",
    "        \n",
    "#         target = f\"{pre}/database/dompdb/{opt_pdbName}.pdb\"\n",
    "#         ## move native pdbs to dompdb\n",
    "#         mycp(p, target)\n",
    "#         ## move native seq to S20_seq\n",
    "#         seq = getSeq(target)\n",
    "#         fileLocation = f\"{pre}/database/S20_seq/{opt_pdbName}.seq\"\n",
    "#         with open(fileLocation, \"w\") as out:\n",
    "#             out.write(seq+\"\\n\")\n",
    "#     fileLocation = f\"{pre}/optimization/decoys/shuffle/{pdbName}.decoys\"\n",
    "# #     if len(decoy_list) == 0:\n",
    "# #         print(pdbName)\n",
    "#     print(\"1\", pdbName, len(decoy_list), pep_len)\n",
    "#     with open(fileLocation, \"w\") as out:\n",
    "#         for decoy in decoy_list:\n",
    "#             out.write(decoy+\"\\n\")"
   ]
  },
  {
   "cell_type": "code",
   "execution_count": 21,
   "metadata": {},
   "outputs": [
    {
     "data": {
      "text/plain": [
       "63"
      ]
     },
     "execution_count": 21,
     "metadata": {},
     "output_type": "execute_result"
    }
   ],
   "source": [
    "len(protein_list)"
   ]
  },
  {
   "cell_type": "code",
   "execution_count": 22,
   "metadata": {},
   "outputs": [
    {
     "data": {
      "text/plain": [
       "0"
      ]
     },
     "execution_count": 22,
     "metadata": {},
     "output_type": "execute_result"
    }
   ],
   "source": [
    "do(f\"mkdir -p {pre}/optimization\")\n",
    "do(f\"mkdir -p {pre}/phis\")\n",
    "\n",
    "## write protein_list\n",
    "fileLocation = f\"{pre}/optimization/protein_list\"\n",
    "with open(fileLocation, \"w\") as out:\n",
    "    for pdbName in protein_list:\n",
    "        out.write(f\"{pdbName}\\n\")\n",
    "\n",
    "do(f\"cp ~/opt/optimization/phi_list_contact.txt {pre}/optimization/phi_list.txt\")"
   ]
  },
  {
   "cell_type": "code",
   "execution_count": null,
   "metadata": {},
   "outputs": [],
   "source": []
  },
  {
   "cell_type": "code",
   "execution_count": 80,
   "metadata": {},
   "outputs": [],
   "source": [
    "df = pd.DataFrame(dict(A=np.random.rand(20), B=np.random.rand(20)))\n",
    "d1 = df.assign(\n",
    "    A_cut=pd.cut(df.A, 2),\n",
    "    B_cut=pd.cut(df.B, 2)\n",
    ")\n",
    "d1[\"count\"] = 1\n",
    "d2 = d1[[\"A_cut\", \"B_cut\", \"count\"]].groupby([\"A_cut\", \"B_cut\"]).sum().reset_index()\n",
    "d2[\"x\"] = d2[\"A_cut\"].apply(lambda x: x.mid)\n",
    "d2[\"y\"] = d2[\"B_cut\"].apply(lambda x: x.mid)\n",
    "d3 = d2[[\"x\", \"y\", \"count\"]].reset_index()\n",
    "d3[\"z\"] = d3[\"count\"]/ d3[\"count\"].sum()\n",
    "d3[\"logz\"] = np.log(d3[\"z\"])"
   ]
  },
  {
   "cell_type": "code",
   "execution_count": null,
   "metadata": {},
   "outputs": [],
   "source": [
    "\n",
    "# pre = \"/Users/weilu/Research/server/sep_2019/peptide_optimization_specific_test\"\n",
    "pre = \"/Users/weilu/Research/server/sep_2019/peptide_optimization_trial_6\"\n",
    "\n",
    "do(f\"mkdir -p {pre}/database/dompdb\")\n",
    "do(f\"mkdir -p {pre}/database/S20_seq\")\n",
    "\n",
    "for pdbFolder in pdbFolderList:\n",
    "    pdbName = pdbFolder.split(\"_\")[-1]\n",
    "    source = pdbFolder + f\"/*.pdb\"\n",
    "    p_list = glob.glob(source)\n",
    "    if len(p_list) > 1:\n",
    "        print(p_list)\n",
    "        continue\n",
    "    if len(p_list) == 0:\n",
    "        print(\"no\", pdbName)\n",
    "    for p in p_list:\n",
    "        target = f\"{pre}/database/dompdb/{pdbName}.pdb\"\n",
    "        ## move native pdbs to dompdb\n",
    "        mycp(p, target)\n",
    "        ## move native seq to S20_seq\n",
    "        seq = getSeq(target)\n",
    "        fileLocation = f\"{pre}/database/S20_seq/{pdbName}.seq\"\n",
    "        with open(fileLocation, \"w\") as out:\n",
    "            out.write(seq+\"\\n\")\n",
    "       \n"
   ]
  },
  {
   "cell_type": "code",
   "execution_count": 82,
   "metadata": {},
   "outputs": [],
   "source": [
    "_all = []\n",
    "# generate decoys\n",
    "protein_list = []\n",
    "for pdbFolder in pdbFolderList:\n",
    "    pdbName = pdbFolder.split(\"_\")[-1]\n",
    "    source = pdbFolder + f\"/*.pdb\"\n",
    "    p_list = glob.glob(source)\n",
    "    # print(p_list, source)\n",
    "    assert len(p_list) == 1\n",
    "    p = p_list[0]\n",
    "    chain_seq, seq = getChainsAndSeq(p)\n",
    "    \n",
    "    # print(pdbName, i, len(seq), len(chain_seq))\n",
    "    decoy_list = []\n",
    "    with open(f\"{pdbFolder}/peptide.txt\") as f:\n",
    "        for line in f:\n",
    "            pep = line.strip()\n",
    "            pep_len = len(pep)\n",
    "            # assert len(pep) == 9\n",
    "            for c in list(set(chain_seq)):\n",
    "                if chain_seq.count(c) == pep_len:\n",
    "                    first_c = chain_seq.find(c)\n",
    "                    a = list(seq)\n",
    "                    a[first_c:first_c+pep_len] = pep\n",
    "                    assert len(set(chain_seq[first_c:first_c+pep_len])) == 1\n",
    "                    decoy = \"\".join(a)\n",
    "                    decoy_list.append(decoy)\n",
    "    _all.append([pdbName, len(decoy_list)])"
   ]
  },
  {
   "cell_type": "code",
   "execution_count": 85,
   "metadata": {},
   "outputs": [],
   "source": []
  },
  {
   "cell_type": "code",
   "execution_count": 92,
   "metadata": {},
   "outputs": [
    {
     "data": {
      "text/html": [
       "<div>\n",
       "<style scoped>\n",
       "    .dataframe tbody tr th:only-of-type {\n",
       "        vertical-align: middle;\n",
       "    }\n",
       "\n",
       "    .dataframe tbody tr th {\n",
       "        vertical-align: top;\n",
       "    }\n",
       "\n",
       "    .dataframe thead th {\n",
       "        text-align: right;\n",
       "    }\n",
       "</style>\n",
       "<table border=\"1\" class=\"dataframe\">\n",
       "  <thead>\n",
       "    <tr style=\"text-align: right;\">\n",
       "      <th></th>\n",
       "      <th>Name</th>\n",
       "      <th>Length</th>\n",
       "    </tr>\n",
       "  </thead>\n",
       "  <tbody>\n",
       "    <tr>\n",
       "      <th>13</th>\n",
       "      <td>3VXM</td>\n",
       "      <td>100</td>\n",
       "    </tr>\n",
       "    <tr>\n",
       "      <th>46</th>\n",
       "      <td>3VXR</td>\n",
       "      <td>100</td>\n",
       "    </tr>\n",
       "    <tr>\n",
       "      <th>41</th>\n",
       "      <td>3VXS</td>\n",
       "      <td>100</td>\n",
       "    </tr>\n",
       "    <tr>\n",
       "      <th>45</th>\n",
       "      <td>3VXU</td>\n",
       "      <td>100</td>\n",
       "    </tr>\n",
       "    <tr>\n",
       "      <th>58</th>\n",
       "      <td>5BRZ</td>\n",
       "      <td>200</td>\n",
       "    </tr>\n",
       "    <tr>\n",
       "      <th>11</th>\n",
       "      <td>5BS0</td>\n",
       "      <td>200</td>\n",
       "    </tr>\n",
       "    <tr>\n",
       "      <th>25</th>\n",
       "      <td>5WKF</td>\n",
       "      <td>250</td>\n",
       "    </tr>\n",
       "    <tr>\n",
       "      <th>22</th>\n",
       "      <td>5WKH</td>\n",
       "      <td>250</td>\n",
       "    </tr>\n",
       "    <tr>\n",
       "      <th>68</th>\n",
       "      <td>MAGEA3</td>\n",
       "      <td>200</td>\n",
       "    </tr>\n",
       "  </tbody>\n",
       "</table>\n",
       "</div>"
      ],
      "text/plain": [
       "      Name  Length\n",
       "13    3VXM     100\n",
       "46    3VXR     100\n",
       "41    3VXS     100\n",
       "45    3VXU     100\n",
       "58    5BRZ     200\n",
       "11    5BS0     200\n",
       "25    5WKF     250\n",
       "22    5WKH     250\n",
       "68  MAGEA3     200"
      ]
     },
     "execution_count": 92,
     "metadata": {},
     "output_type": "execute_result"
    }
   ],
   "source": [
    "a = pd.DataFrame(_all, columns=[\"Name\", \"Length\"])\n",
    "a.query(\"Length < 300 and Length != 0\").sort_values(\"Name\")"
   ]
  },
  {
   "cell_type": "code",
   "execution_count": null,
   "metadata": {},
   "outputs": [],
   "source": []
  },
  {
   "cell_type": "code",
   "execution_count": null,
   "metadata": {},
   "outputs": [],
   "source": []
  },
  {
   "cell_type": "code",
   "execution_count": 29,
   "metadata": {},
   "outputs": [
    {
     "name": "stdout",
     "output_type": "stream",
     "text": [
      "3D39 1 419 419\n"
     ]
    }
   ],
   "source": [
    "do(f\"mkdir -p {pre}/optimization/decoys/shuffle\")\n",
    "# generate decoys\n",
    "for pdbFolder in pdbFolderList:\n",
    "    pdbName = pdbFolder.split(\"_\")[-1]\n",
    "    source = pdbFolder + f\"/*ab.pdb\"\n",
    "    p_list = glob.glob(source)\n",
    "    if pdbName != \"3D39\":\n",
    "        continue\n",
    "    # print(p_list, source)\n",
    "    assert len(p_list) == 1\n",
    "    chain_seq, seq = getChainsAndSeq(p_list[0])\n",
    "    print(pdbName, i, len(seq), len(chain_seq))\n",
    "    decoy_list = []\n",
    "    decoy = \"\"\n",
    "    with open(f\"{pdbFolder}/peptide.txt\") as f:\n",
    "        for line in f:\n",
    "            pep = line.strip()\n",
    "            assert len(pep) == 9\n",
    "            for c in list(set(chain_seq)):\n",
    "                if chain_seq.count(c) == 9:\n",
    "                    first_c = chain_seq.find(c)\n",
    "                    a = list(seq)\n",
    "                    a[first_c:first_c+9] = pep\n",
    "                    decoy = \"\".join(a)\n",
    "                    decoy_list.append(decoy)\n",
    "    fileLocation = f\"{pre}/optimization/decoys/shuffle/{pdbName}.decoys\"\n",
    "    with open(fileLocation, \"w\") as out:\n",
    "        for decoy in decoy_list:\n",
    "            out.write(decoy+\"\\n\")"
   ]
  },
  {
   "cell_type": "code",
   "execution_count": 31,
   "metadata": {},
   "outputs": [
    {
     "data": {
      "text/plain": [
       "['A', 'X', 'B', 'Y']"
      ]
     },
     "execution_count": 31,
     "metadata": {},
     "output_type": "execute_result"
    }
   ],
   "source": [
    "list(set(chain_seq))"
   ]
  },
  {
   "cell_type": "code",
   "execution_count": 32,
   "metadata": {},
   "outputs": [
    {
     "data": {
      "text/plain": [
       "8"
      ]
     },
     "execution_count": 32,
     "metadata": {},
     "output_type": "execute_result"
    }
   ],
   "source": [
    "chain_seq.count(\"Y\")"
   ]
  },
  {
   "cell_type": "code",
   "execution_count": null,
   "metadata": {},
   "outputs": [],
   "source": []
  },
  {
   "cell_type": "code",
   "execution_count": null,
   "metadata": {},
   "outputs": [],
   "source": []
  },
  {
   "cell_type": "code",
   "execution_count": null,
   "metadata": {},
   "outputs": [],
   "source": []
  },
  {
   "cell_type": "code",
   "execution_count": null,
   "metadata": {},
   "outputs": [],
   "source": [
    "do(f\"mkdir -p {pre}/optimization\")\n",
    "## write protein_list\n",
    "fileLocation = f\"{pre}/optimization/protein_list\"\n",
    "with open(fileLocation, \"w\") as out:\n",
    "    for pdbFolder in pdbFolderList:\n",
    "        pdbName = pdbFolder.split(\"_\")[-1]\n",
    "        out.write(f\"{pdbName}\\n\")"
   ]
  },
  {
   "cell_type": "code",
   "execution_count": 205,
   "metadata": {},
   "outputs": [],
   "source": [
    "## write protein_list\n",
    "fileLocation = f\"{pre}/optimization/protein_list\"\n",
    "with open(fileLocation, \"w\") as out:\n",
    "    for pdbFolder in pdbFolderList:\n",
    "        pdbName = pdbFolder.split(\"_\")[-1]\n",
    "        for i in range(1, 6):\n",
    "            out.write(f\"{pdbName}_{i}\\n\")\n",
    "# generate decoys\n",
    "for pdbFolder in pdbFolderList:\n",
    "    pdbName = pdbFolder.split(\"_\")[-1]\n",
    "    for i in range(1, 6):\n",
    "        source = pdbFolder + f\"/{i}.pdb\"\n",
    "        source = pdbFolder + f\"/*ab.pdb\"\n",
    "        p_list = glob.glob(source)\n",
    "        assert len(p_list) == 1\n",
    "        chain_seq, seq = getChainsAndSeq(source)\n",
    "        print(pdbName, i, len(seq), len(chain_seq))\n",
    "        decoy_list = []\n",
    "        with open(f\"{pdbFolder}/peptide.txt\") as f:\n",
    "            for line in f:\n",
    "                pep = line.strip()\n",
    "                assert len(pep) == 9\n",
    "                for c in list(set(chain_seq)):\n",
    "                    if chain_seq.count(c) == 9:\n",
    "                        first_c = chain_seq.find(c)\n",
    "                        a = list(seq)\n",
    "                        a[first_c:first_c+9] = pep\n",
    "                        decoy = \"\".join(a)\n",
    "                        decoy_list.append(decoy)\n",
    "        fileLocation = f\"{pre}/optimization/decoys/shuffle/{pdbName}_{i}.decoys\"\n",
    "        with open(fileLocation, \"w\") as out:\n",
    "            for decoy in decoy_list:\n",
    "                out.write(decoy+\"\\n\")"
   ]
  },
  {
   "cell_type": "code",
   "execution_count": 19,
   "metadata": {},
   "outputs": [],
   "source": []
  },
  {
   "cell_type": "code",
   "execution_count": 168,
   "metadata": {},
   "outputs": [],
   "source": [
    "# ensure they all 9 residue peptide.\n",
    "for pdbFolder in pdbFolderList:\n",
    "    pdbName = pdbFolder.split(\"_\")[-1]\n",
    "    # print(pdbName)\n",
    "    with open(f\"{pdbFolder}/peptide.txt\") as f:\n",
    "        for line in f:\n",
    "            pep = line.strip()\n",
    "            assert len(pep) == 9"
   ]
  },
  {
   "cell_type": "code",
   "execution_count": 160,
   "metadata": {},
   "outputs": [
    {
     "data": {
      "text/plain": [
       "'/Users/weilu/Research/server/sep_2019/peptide_optimization_trial_2/database/S20_seq/4FTV_5.seq'"
      ]
     },
     "execution_count": 160,
     "metadata": {},
     "output_type": "execute_result"
    }
   ],
   "source": [
    "fileLocation"
   ]
  },
  {
   "cell_type": "code",
   "execution_count": 164,
   "metadata": {},
   "outputs": [
    {
     "data": {
      "text/plain": [
       "107"
      ]
     },
     "execution_count": 164,
     "metadata": {},
     "output_type": "execute_result"
    }
   ],
   "source": [
    "for c in \"ABCDEFG\":\n",
    "    if chain_seq.count(c) == 9:\n",
    "        first_c = chain_seq.find(c)\n",
    "        a = list(seq)\n",
    "        a[first_c:first_c+9] = pep\n",
    "        decoy = \"\".join(a)\n",
    "        decoy_list.append(decoy)"
   ]
  },
  {
   "cell_type": "code",
   "execution_count": null,
   "metadata": {},
   "outputs": [],
   "source": []
  },
  {
   "cell_type": "code",
   "execution_count": 3,
   "metadata": {},
   "outputs": [],
   "source": [
    "# get seq\n",
    "fileLocation = \"/Users/weilu/Research/examples/optimization/optimization/Structure_Ensemble/1.pdb\"\n",
    "p = PDBParser()\n",
    "pdb = p.get_structure(\"test\", fileLocation)\n",
    "residues = list(pdb.get_residues())\n",
    "seq = \"\"\n",
    "chains = \"\"\n",
    "for residue in residues:\n",
    "    res_id = residue.get_id()[0]\n",
    "    chain = residue.get_full_id()[2]\n",
    "    if res_id==' ':\n",
    "        residue_name = residue.get_resname()\n",
    "        seq += three_to_one(residue_name)\n",
    "        chains += chain"
   ]
  },
  {
   "cell_type": "code",
   "execution_count": 5,
   "metadata": {},
   "outputs": [],
   "source": [
    "# get decoy\n",
    "decoy_list = []\n",
    "with open(\"/Users/weilu/Research/examples/optimization/optimization/Structure_Ensemble/peptide.txt\") as f:\n",
    "    for line in f:\n",
    "        pep = line.strip()\n",
    "        assert len(pep) == 9\n",
    "        a = list(seq)\n",
    "        a[180:189] = pep\n",
    "        decoy = \"\".join(a)\n",
    "        decoy_list.append(decoy)"
   ]
  },
  {
   "cell_type": "code",
   "execution_count": 38,
   "metadata": {},
   "outputs": [],
   "source": [
    "for i in range(1, 91):\n",
    "    pre = \"/Users/weilu/Research/server/sep_2019/peptide_optimization\"\n",
    "    fileLocation = f\"{pre}/database/S20_seq/{i}.seq\"\n",
    "    with open(fileLocation, \"w\") as out:\n",
    "        out.write(seq+\"\\n\")"
   ]
  },
  {
   "cell_type": "code",
   "execution_count": 40,
   "metadata": {},
   "outputs": [],
   "source": [
    "for i in range(1, 91):\n",
    "    fileLocation = f\"{pre}/optimization/decoys/shuffle/{i}.decoys\"\n",
    "    with open(fileLocation, \"w\") as out:\n",
    "        for decoy in decoy_list:\n",
    "            out.write(decoy+\"\\n\")"
   ]
  },
  {
   "cell_type": "code",
   "execution_count": 42,
   "metadata": {},
   "outputs": [],
   "source": [
    "with open(\"/Users/weilu/Research/server/sep_2019/peptide_optimization/optimization/protein_list\", \"w\") as out:\n",
    "    for i in range(1, 91):\n",
    "        out.write(f\"{i}\\n\")"
   ]
  },
  {
   "cell_type": "code",
   "execution_count": 41,
   "metadata": {},
   "outputs": [],
   "source": [
    "for i in range(1, 91):\n",
    "    os.system(f\"cp /Users/weilu/Research/examples/optimization/optimization/Structure_Ensemble/{i}.pdb /Users/weilu/Research/server/sep_2019/peptide_optimization/database/dompdb/\")"
   ]
  },
  {
   "cell_type": "code",
   "execution_count": 39,
   "metadata": {},
   "outputs": [
    {
     "data": {
      "text/plain": [
       "1000"
      ]
     },
     "execution_count": 39,
     "metadata": {},
     "output_type": "execute_result"
    }
   ],
   "source": [
    "len(decoy_list)"
   ]
  },
  {
   "cell_type": "code",
   "execution_count": 6,
   "metadata": {},
   "outputs": [
    {
     "data": {
      "text/plain": [
       "'SLLMWITQV'"
      ]
     },
     "execution_count": 6,
     "metadata": {},
     "output_type": "execute_result"
    }
   ],
   "source": [
    "seq[180:189]"
   ]
  },
  {
   "cell_type": "code",
   "execution_count": 49,
   "metadata": {},
   "outputs": [],
   "source": [
    "a = list(seq)\n",
    "a[180:189] = list('FIFLLFLTL')"
   ]
  },
  {
   "cell_type": "code",
   "execution_count": 151,
   "metadata": {},
   "outputs": [],
   "source": []
  },
  {
   "cell_type": "code",
   "execution_count": 26,
   "metadata": {},
   "outputs": [],
   "source": [
    "all_seq = []\n",
    "for i in range(1, 91):\n",
    "    fileLocation = f\"/Users/weilu/Research/examples/optimization/optimization/Structure_Ensemble/{i}.pdb\"\n",
    "    seq = getSeq(fileLocation)\n",
    "    assert len(seq) == 414\n",
    "    all_seq.append(seq)\n",
    "#     assert preSeq == seq\n",
    "#     preSeq = seq"
   ]
  },
  {
   "cell_type": "code",
   "execution_count": 27,
   "metadata": {},
   "outputs": [
    {
     "data": {
      "text/plain": [
       "'GSHSMRYFFTSVSRPGRGEPRFIAVGYVDDTQFVRFDSDAASQRMEPRAPWIEQEGPEYWDGETRKVKAHSQTHRVDLGTLRGYYNQSEAGSHTVQRMYGCDVGSDWRFLRGYHQYAYDGKDYIALKEDLRSWTAADMAAQTTKHKWEAAHVAEQLRAYLEGTCVEWLRRYLENGKETLQSLLMWITQVQEVTQIPAALSVPEGENLVLNCSFTDSAIYNLQWFRQDPGKGLTSLLLIQSSQREQTSGRLNASLDKSSGRSTLYIAASQPGDSATYLCAVRPTSGGSYIPTFGRGTSLIVHPGVTQTPKFQVLKTGQSMTLQCAQDMNHEYMSWYRQDPGMGLRLIHYSVGAGITDQGEVPNGYNVSRSTTEDFPLRLLSAAPSQTSVYFCASSYVGNTGELFFGEGSRLTVLE'"
      ]
     },
     "execution_count": 27,
     "metadata": {},
     "output_type": "execute_result"
    }
   ],
   "source": [
    "all_seq[0]"
   ]
  },
  {
   "cell_type": "code",
   "execution_count": 28,
   "metadata": {},
   "outputs": [
    {
     "data": {
      "text/plain": [
       "True"
      ]
     },
     "execution_count": 28,
     "metadata": {},
     "output_type": "execute_result"
    }
   ],
   "source": [
    "all_seq[0] == all_seq[1]"
   ]
  },
  {
   "cell_type": "code",
   "execution_count": 29,
   "metadata": {},
   "outputs": [],
   "source": [
    "for i in range(90):\n",
    "    if all_seq[i] != all_seq[0]:\n",
    "        print(i)"
   ]
  },
  {
   "cell_type": "code",
   "execution_count": 9,
   "metadata": {},
   "outputs": [],
   "source": [
    "def getAllFrames(movieLocation):\n",
    "    # movieLocation = \"/Users/weilu/Research/examples/openMM_simulation/test_2/movie.pdb\"\n",
    "    location = movieLocation\n",
    "    with open(location) as f:\n",
    "        a = f.readlines()\n",
    "    n = len(a)\n",
    "    # get the position of every model title\n",
    "    model_title_index_list = []\n",
    "    for i in range(n):\n",
    "        if len(a[i]) >= 5 and a[i][:5] == \"MODEL\":\n",
    "            model_title_index = i\n",
    "            model_title_index_list.append(model_title_index)\n",
    "    model_title_index_list.append(n)\n",
    "    check_array = np.diff(model_title_index_list)\n",
    "    if np.allclose(check_array, check_array[0]):\n",
    "        size = check_array[0]\n",
    "    elif np.allclose(check_array[:-1], check_array[0]) and check_array[-1] == check_array[0] + 1:\n",
    "        # this is ok. with extra \"END\"\n",
    "        size = check_array[0]\n",
    "    else:  \n",
    "        print(\"!!!! Someting is wrong  !!!!\")\n",
    "        print(check_array)\n",
    "    return a"
   ]
  },
  {
   "cell_type": "code",
   "execution_count": 10,
   "metadata": {},
   "outputs": [],
   "source": [
    "num_of_frames = int(n/size)"
   ]
  },
  {
   "cell_type": "code",
   "execution_count": 11,
   "metadata": {},
   "outputs": [],
   "source": [
    "frame = 5\n",
    "oneFrame = a[size*frame:size*(frame+1)]"
   ]
  },
  {
   "cell_type": "code",
   "execution_count": 60,
   "metadata": {},
   "outputs": [],
   "source": [
    "frame = num_of_frames\n",
    "oneFrame = a[size*frame:size*(frame+1)]"
   ]
  },
  {
   "cell_type": "code",
   "execution_count": 61,
   "metadata": {},
   "outputs": [
    {
     "data": {
      "text/plain": [
       "[]"
      ]
     },
     "execution_count": 61,
     "metadata": {},
     "output_type": "execute_result"
    }
   ],
   "source": [
    "oneFrame"
   ]
  },
  {
   "cell_type": "code",
   "execution_count": 45,
   "metadata": {},
   "outputs": [],
   "source": [
    "\n",
    "\n",
    "# s = p.get_structure(\"test\", f)\n",
    "# residues = list(s.get_residues())"
   ]
  },
  {
   "cell_type": "code",
   "execution_count": 24,
   "metadata": {},
   "outputs": [],
   "source": [
    "import io\n",
    "\n",
    "f = io.StringIO(\"\".join(oneFrame))\n",
    "MAX_OFFSET=4\n",
    "DISTANCE_CUTOFF=9.5\n",
    "s = p.get_structure(\"test\", f)\n",
    "chains = s[0].get_list()\n",
    "\n",
    "# import pdb file\n",
    "native_coords = []\n",
    "for chain in chains:\n",
    "    dis = []\n",
    "    all_res = []\n",
    "    for res in chain:\n",
    "        is_regular_res = res.has_id('CA') and res.has_id('O')\n",
    "        res_id = res.get_id()[0]\n",
    "        if (res.get_resname()=='GLY'):\n",
    "            native_coords.append(res['CA'].get_coord())\n",
    "        elif (res_id==' ' or res_id=='H_MSE' or res_id=='H_M3L' or res_id=='H_CAS') and is_regular_res:\n",
    "            native_coords.append(res['CB'].get_coord())\n",
    "        else:\n",
    "            print('ERROR: irregular residue at %s!' % res)\n",
    "            exit()\n",
    "native_contacts_table = compute_native_contacts(native_coords, MAX_OFFSET, DISTANCE_CUTOFF)\n"
   ]
  },
  {
   "cell_type": "code",
   "execution_count": 25,
   "metadata": {},
   "outputs": [
    {
     "data": {
      "text/plain": [
       "array([[0, 0, 0, ..., 1, 1, 0],\n",
       "       [0, 0, 0, ..., 1, 0, 0],\n",
       "       [0, 0, 0, ..., 0, 0, 0],\n",
       "       ...,\n",
       "       [1, 1, 0, ..., 0, 0, 0],\n",
       "       [1, 0, 0, ..., 0, 0, 0],\n",
       "       [0, 0, 0, ..., 0, 0, 0]])"
      ]
     },
     "execution_count": 25,
     "metadata": {},
     "output_type": "execute_result"
    }
   ],
   "source": [
    "native_contacts_table"
   ]
  },
  {
   "cell_type": "code",
   "execution_count": 62,
   "metadata": {},
   "outputs": [
    {
     "data": {
      "text/plain": [
       "<matplotlib.image.AxesImage at 0x1a23839898>"
      ]
     },
     "execution_count": 62,
     "metadata": {},
     "output_type": "execute_result"
    },
    {
     "data": {
      "image/png": "[encoded data removed]",
      "text/plain": [
       "<Figure size 432x288 with 1 Axes>"
      ]
     },
     "metadata": {
      "needs_background": "light"
     },
     "output_type": "display_data"
    }
   ],
   "source": [
    "plt.imshow(native_contacts_table, origin=[0,0])"
   ]
  },
  {
   "cell_type": "code",
   "execution_count": null,
   "metadata": {},
   "outputs": [],
   "source": []
  }
 ],
 "metadata": {
  "kernelspec": {
   "display_name": "Python 3",
   "language": "python",
   "name": "python3"
  },
  "language_info": {
   "codemirror_mode": {
    "name": "ipython",
    "version": 3
   },
   "file_extension": ".py",
   "mimetype": "text/x-python",
   "name": "python",
   "nbconvert_exporter": "python",
   "pygments_lexer": "ipython3",
   "version": "3.6.8"
  }
 },
 "nbformat": 4,
 "nbformat_minor": 2
}
