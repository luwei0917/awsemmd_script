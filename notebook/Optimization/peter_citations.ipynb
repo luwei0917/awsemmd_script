{
 "cells": [
  {
   "cell_type": "code",
   "execution_count": 1,
   "metadata": {
    "collapsed": true
   },
   "outputs": [],
   "source": [
    "import bibtexparser\n"
   ]
  },
  {
   "cell_type": "code",
   "execution_count": 2,
   "metadata": {},
   "outputs": [
    {
     "data": {
      "text/plain": [
       "'1.2.0'"
      ]
     },
     "execution_count": 2,
     "metadata": {},
     "output_type": "execute_result"
    }
   ],
   "source": [
    "bibtexparser.__version__"
   ]
  },
  {
   "cell_type": "code",
   "execution_count": null,
   "metadata": {
    "collapsed": true
   },
   "outputs": [],
   "source": [
    "# sed '/month /d' peter_2020_jul22_complete_v4.bib > test.bib "
   ]
  },
  {
   "cell_type": "code",
   "execution_count": 64,
   "metadata": {},
   "outputs": [],
   "source": [
    "import bibtexparser\n",
    "from bibtexparser.bparser import BibTexParser\n",
    "import re\n",
    "\n",
    "with open('/Users/weilu/Dropbox/PeterBibCollection/test.bib') as bibtex_file:\n",
    "    bibtex_str = bibtex_file.read()\n",
    "\n",
    "\n",
    "parser = BibTexParser(common_strings=False)\n",
    "parser.ignore_nonstandard_types = False\n",
    "parser.homogenise_fields = False\n",
    "\n",
    "bib_database = bibtexparser.loads(bibtex_str, parser)"
   ]
  },
  {
   "cell_type": "code",
   "execution_count": 65,
   "metadata": {},
   "outputs": [
    {
     "name": "stdout",
     "output_type": "stream",
     "text": [
      "{'uri': '\\\\url{papers3://publication/doi/10.1002/9781118202470}', 'url': 'http://doi.wiley.com/10.1002/9781118202470', 'abstract': 'The most conspicuous peculiarity of supercooled liquids is the dramatic increase in the viscosity as the temperature is lowered toward the glass-transition temperature Tg [1, 2]. High viscosiy means momentum is easily transported{\\\\textemdash}the limit being a rigid solid in which~{\\\\ldots}', 'date-modified': '2020-07-22T21:09:55GMT', 'date-added': '2020-07-21T23:34:25GMT', 'rating': '0', 'isbn': '9780470452233', 'doi': '10.1002/9781118202470', 'address': 'Hoboken, NJ, USA', 'series': 'Theory, Experiment, and Applications', 'year': '2012', 'publisher': 'John Wiley {\\\\&} Sons, Inc.', 'title': '{Structural Glasses and Supercooled Liquids}', 'editor': 'Wolynes, Peter G and Lubchenko, Vassiliy', 'ENTRYTYPE': 'book', 'ID': 'Lubchenko:tp'}\n",
      "{'uri': '\\\\url{papers3://publication/doi/10.1002/9780470175422}', 'url': 'http://doi.wiley.com/10.1002/9780470175422', 'abstract': 'Appendix B. Frequency Cutoff in the Interaction Between the Tunneling Centers and the Linear Strain References I. INTRODUCTION During the past several decades, it has gradually been recognized in the condensed matter and materials science community that amorphous~{\\\\ldots}', 'date-modified': '2020-07-22T21:09:55GMT', 'date-added': '2020-07-22T17:21:57GMT', 'rating': '0', 'isbn': '9780471682325', 'doi': '10.1002/9780470175422', 'address': 'Hoboken, NJ, USA', 'series': 'Rice/Advances', 'year': '2008', 'publisher': 'John Wiley {\\\\&} Sons, Inc.', 'title': '{Advances in Chemical Physics}', 'editor': 'Rice, Stuart A', 'ENTRYTYPE': 'book', 'ID': 'Rice:2008bd'}\n",
      "{'uri': '\\\\url{papers3://publication/doi/10.1016/j.bpj.2012.04.001}', 'url': 'https://linkinghub.elsevier.com/retrieve/pii/S0006349512004110', 'abstract': '{\\\\ldots} Copyright {\\\\textcopyright} 2012 by the Biophysical Society. From 2012 Abstracts Issue. Ryan MB Hoffman, {\\\\textasteriskcentered} Anat Berger, Patricio O. Craig, Elizabeth A. Komives, Nicholas P. Schafer, and Peter  G . Wolynes . {\\\\textasteriskcentered} Correspondence: rmhoffman@ucsd.edu. 2012. Predicting Folding Rates from Umbrella Sampled~{\\\\ldots}', 'date-modified': '2020-07-22T21:09:54GMT', 'date-added': '2020-07-21T23:33:48GMT', 'rating': '0', 'language': 'English', 'pmcid': 'PMC3328705', 'doi': '10.1016/j.bpj.2012.04.001', 'publisher': 'The Biophysical Society', 'pages': '2001', 'number': '8', 'volume': '102', 'year': '2012', 'journal': 'Biophysical Journal', 'title': '{Correction}', 'ENTRYTYPE': 'article', 'ID': 'Craig:th'}\n",
      "{'uri': '\\\\url{papers3://publication/uuid/656F95CE-A2F4-42E8-A142-D3F45C3FE07B}', 'url': 'https://books.google.com/books/about/Protein_Folding_and_Metal_Ions.html?id=FC7NBQAAQBAJ', 'abstract': 'During their evolution, life forms based on carbon have come to exploit the chemical complexity made available by the rest of the periodic table. Proteins containing metals play important roles in energy transduction and information transfer in the cell. How do these~{\\\\ldots}', 'date-modified': '2020-07-22T21:35:28GMT', 'date-added': '2020-07-22T21:09:49GMT', 'rating': '0', 'title': '{Protein Folding and Metal Ions}', 'ENTRYTYPE': 'article', 'ID': 'Anonymous:ZW-VzqL0'}\n"
     ]
    }
   ],
   "source": [
    "for a in  bib_database.entries:\n",
    "    try:\n",
    "        author = a[\"author\"]\n",
    "    except:\n",
    "        print(a)\n",
    "        continue\n",
    "    out = re.findall('{(\\d{4})}', a[\"author\"])\n",
    "    try:\n",
    "        a[\"year\"]\n",
    "        a[\"ID\"] = a[\"year\"]+ a[\"ID\"]\n",
    "    except:\n",
    "        if len(out) == 1:\n",
    "            a[\"year\"] = out[0]\n",
    "            a[\"ID\"] = a[\"year\"] + a[\"ID\"]"
   ]
  },
  {
   "cell_type": "code",
   "execution_count": 66,
   "metadata": {},
   "outputs": [],
   "source": [
    "\n",
    "with open('/Users/weilu/Dropbox/PeterBibCollection/fixed.bib', 'w') as bibtex_file:\n",
    "    bibtexparser.dump(bib_database, bibtex_file)"
   ]
  },
  {
   "cell_type": "code",
   "execution_count": null,
   "metadata": {
    "collapsed": true
   },
   "outputs": [],
   "source": [
    "# def get_year(entry):\n",
    "#     try:\n",
    "#         year = entry[\"year\"]\n",
    "#         year = int(year)\n",
    "#     except:\n",
    "#         year = 0\n",
    "#     return year\n",
    "# bib_database.entries = sorted(bib_database.entries, key=get_year)"
   ]
  }
 ],
 "metadata": {
  "kernelspec": {
   "display_name": "Python 3",
   "language": "python",
   "name": "python3"
  },
  "language_info": {
   "codemirror_mode": {
    "name": "ipython",
    "version": 3
   },
   "file_extension": ".py",
   "mimetype": "text/x-python",
   "name": "python",
   "nbconvert_exporter": "python",
   "pygments_lexer": "ipython3",
   "version": "3.6.7"
  }
 },
 "nbformat": 4,
 "nbformat_minor": 2
}
