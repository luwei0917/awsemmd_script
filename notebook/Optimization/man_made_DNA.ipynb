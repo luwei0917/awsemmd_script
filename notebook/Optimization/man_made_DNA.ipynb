{
 "cells": [
  {
   "cell_type": "code",
   "execution_count": 1,
   "metadata": {
    "collapsed": true
   },
   "outputs": [],
   "source": [
    "import sys\n",
    "sys.path.append(\"/projects/pw8/wl45/open3spn2\")\n",
    "sys.path.append(\"/projects/pw8/wl45/openawsem\")\n",
    "sys.path.append(\"/Users/weilu/open3spn2\")\n",
    "sys.path.append(\"/Users/weilu/openmmawsem\")\n",
    "sys.path.append(\"C:/Users/luwei/Documents/GitHub/open3spn2\")\n",
    "sys.path.append(\"C:/Users/luwei/Documents/GitHub/openawsem\")\n",
    "\n",
    "\n",
    "import open3SPN2\n",
    "import ffAWSEM\n",
    "import time\n",
    "import simtk.openmm\n",
    "import simtk.openmm.app\n",
    "import numpy as np"
   ]
  },
  {
   "cell_type": "code",
   "execution_count": 6,
   "metadata": {
    "collapsed": true
   },
   "outputs": [],
   "source": [
    "import os\n",
    "from Bio.Seq import reverse_complement\n",
    "os.environ[\"X3DNA\"] = \"/Users/weilu/Research/build/x3dna-v2.4\"\n",
    "# /projects/pw8/wl45/build/x3dna-v2.4"
   ]
  },
  {
   "cell_type": "code",
   "execution_count": null,
   "metadata": {
    "collapsed": true
   },
   "outputs": [],
   "source": []
  },
  {
   "cell_type": "code",
   "execution_count": 72,
   "metadata": {
    "collapsed": true
   },
   "outputs": [],
   "source": [
    "from Bio.PDB.Polypeptide import three_to_one\n",
    "\n",
    "def convert_to_one(resName):\n",
    "    DNA_resNames = [\"DA\", \"DC\", \"DT\", \"DG\"]\n",
    "    if resName in DNA_resNames:\n",
    "        return resName[1]\n",
    "    else:\n",
    "        return three_to_one(resName)\n",
    "def isDNARes(resName):\n",
    "    DNA_resNames = [\"DA\", \"DC\", \"DT\", \"DG\"]\n",
    "    return resName in DNA_resNames\n",
    "\n",
    "def writePDB(atoms,pdb_file):\n",
    "    with open(pdb_file, 'w+') as pdb:\n",
    "        for i, atom in atoms.iterrows():\n",
    "            pdb_line = f'{atom.recname:<6}{atom.serial:>5} {atom[\"name\"]:^4}{atom.altLoc:1}'+\\\n",
    "                    f'{atom.resname:<3} {atom.chainID:1}{atom.resSeq:>4}{atom.iCode:1}   '+\\\n",
    "                    f'{atom.x:>8.3f}{atom.y:>8.3f}{atom.z:>8.3f}' +\\\n",
    "                    f'{atom.occupancy:>6.2f}{atom.occupancy:>6.2f}'+' ' * 10 +\\\n",
    "                    f'{atom.element:>2}{atom.charge:>2}'\n",
    "            assert len(pdb_line) == 80, f'An item in the atom table is longer than expected ({len(pdb_line)})\\n{pdb_line}'\n",
    "            pdb.write(pdb_line + '\\n')"
   ]
  },
  {
   "cell_type": "code",
   "execution_count": null,
   "metadata": {
    "collapsed": true
   },
   "outputs": [],
   "source": [
    "original_pdb_file = \"/Users/weilu/Research/server/jun_week3_2020/automatic_man_made_DNA/original_pdbs/6cta.pdb\"\n",
    "with open(original_pdb_file) as f:\n",
    "    a = f.readlines()\n",
    "    \n",
    "seq_dic = {}\n",
    "seq_length_dic = {}\n",
    "is_DNA_chain = {}\n",
    "for line in a:\n",
    "    if line[:6] != \"SEQRES\":\n",
    "        continue\n",
    "        # print(line)\n",
    "    ch = line[11]\n",
    "    line_index = int(line[7:10])\n",
    "    n = int(line[13:17])\n",
    "    if line_index == 1:\n",
    "        seq_dic[ch] = \"\"\n",
    "        seq_length_dic[ch] = n\n",
    "    seq = \"\".join([convert_to_one(one) for one in line[19:].split()])\n",
    "    is_DNA_chain[ch] = np.alltrue([isDNARes(one) for one in line[19:].split()])\n",
    "    seq_dic[ch] += seq\n",
    "    # print(f\"-{ch}-{line_index}-\")\n",
    "    # print(line, seq)\n",
    "DNA_chain = []\n",
    "for ch, length  in seq_length_dic.items():\n",
    "    # print(length, ch)\n",
    "    assert length == len(seq_dic[ch])\n",
    "    if is_DNA_chain[ch]:\n",
    "        DNA_chain.append(seq_dic[ch])\n",
    "        \n",
    "\n",
    "first_chain_seq = DNA_chain[0]\n",
    "second_chain_seq = DNA_chain[1]\n",
    "assert reverse_complement(first_chain_seq[1:]) == second_chain_seq[1:]\n",
    "# Initialize the DNA from a sequence.\n",
    "# DNA type can be changed to 'A' or 'B'\n",
    "new_seq = \"A\"*100 + first_chain_seq + \"A\"*100\n",
    "seq = new_seq\n",
    "dna=open3SPN2.DNA.fromSequence(seq,dna_type='B_curved')\n",
    "\n",
    "# Compute the topology for the DNA structure.\n",
    "# Since the dna was generated from the sequence using X3DNA,\n",
    "# it is not necesary to recompute the geometry.\n",
    "\n",
    "dna.computeTopology(template_from_X3DNA=False)\n",
    "writePDB(dna.atoms, \"/Users/weilu/Research/server/jun_week3_2020/automatic_man_made_DNA/setups/DNA_part.pdb\")\n",
    "# dna.writePDB(\"/Users/weilu/Research/server/jun_week3_2020/automatic_man_made_DNA/setups/DNA_part.pdb\")"
   ]
  },
  {
   "cell_type": "code",
   "execution_count": null,
   "metadata": {
    "collapsed": true
   },
   "outputs": [],
   "source": []
  },
  {
   "cell_type": "code",
   "execution_count": null,
   "metadata": {
    "collapsed": true
   },
   "outputs": [],
   "source": []
  },
  {
   "cell_type": "code",
   "execution_count": null,
   "metadata": {
    "collapsed": true
   },
   "outputs": [],
   "source": []
  },
  {
   "cell_type": "code",
   "execution_count": 98,
   "metadata": {},
   "outputs": [],
   "source": [
    "DNA_resNames = [\"DA\", \"DC\", \"DT\", \"DG\"]\n",
    "pdb_file = \"/Users/weilu/Research/server/jun_week3_2020/automatic_man_made_DNA/6cta_with_long_DNA.pdb\"\n",
    "dna=open3SPN2.DNA.fromCoarsePDB(pdb_file)\n",
    "new_dna = dna.atoms.reset_index()\n",
    "new_dna_dna_only = new_dna.query(\"resname in @DNA_resNames\")\n",
    "pdb_file = \"/Users/weilu/Research/server/jun_week3_2020/automatic_man_made_DNA/setups/with_formated_DNA_6cta_clean.pdb\"\n",
    "# seq_file = \"/Users/weilu/Research/server/jun_week3_2020/man_made_DNA/1mnn_with_long_DNA.seq\"\n",
    "dna=open3SPN2.DNA.fromCoarsePDB(pdb_file)\n",
    "\n",
    "\n",
    "start_of_second_chain =  int((new_dna_dna_only[\"resSeq\"].max())/2)\n",
    "bond_length_cutoff=1.8\n",
    "data = dna.atoms\n",
    "bonds_list = []\n",
    "\n",
    "interacting_atom = [\"A\", \"C\", \"G\", \"T\"]\n",
    "a = data.query(\"resname in @DNA_resNames\").query(\"name in @interacting_atom\").reset_index(drop=True)\n",
    "n_atom = len(a)\n",
    "for i in range(n_atom):\n",
    "    dna_res_1 = a.iloc[i]\n",
    "    chainID_1 = dna_res_1[\"chainID\"]\n",
    "    for j in range(i+1, n_atom):\n",
    "        dna_res_2 = a.iloc[j]\n",
    "        chainID_2 = dna_res_2[\"chainID\"]\n",
    "        if chainID_1 == chainID_2:\n",
    "            continue\n",
    "\n",
    "        atom1_pos = dna_res_1[[\"x\", \"y\", \"z\"]].values\n",
    "        atom2_pos = dna_res_2[[\"x\", \"y\", \"z\"]].values\n",
    "        dis = atom1_pos - atom2_pos\n",
    "        r = (dis[0]**2 + dis[1]**2 + dis[2]**2)**0.5\n",
    "        r /= 10   # convert to nm\n",
    "        if r > bond_length_cutoff:\n",
    "            # bong length larger than r will be ignored.\n",
    "            continue\n",
    "        # print(i, j, r)\n",
    "        name = dna_res_1[\"name\"]\n",
    "        resSeq = dna_res_1[\"resSeq\"] + 100\n",
    "        target_atom = new_dna_dna_only.query(f\"resSeq=={resSeq} and name=='{name}'\")\n",
    "        if len(target_atom) != 1:\n",
    "            print(target_atom)\n",
    "        else:\n",
    "            serial_1 = int(target_atom[\"index\"])\n",
    "\n",
    "        name = dna_res_2[\"name\"]\n",
    "        resSeq = dna_res_2[\"resSeq\"] + start_of_second_chain + 100\n",
    "        target_atom = new_dna_dna_only.query(f\"resSeq=={resSeq} and name=='{name}'\")\n",
    "        if len(target_atom) != 1:\n",
    "            # print(target_atom)\n",
    "            pass\n",
    "        else:\n",
    "            serial_2 = int(target_atom[\"index\"])\n",
    "#         bonds_list.append([dna_res_1[\"serial\"], dna_res_2[\"serial\"], r])\n",
    "        bonds_list.append([serial_1, serial_2, r])\n",
    "    \n",
    "bond_info = pd.DataFrame(bonds_list, columns=[\"atom1\", \"atom2\", \"r\"])\n",
    "# bond_info.to_csv(\"/Users/weilu/Research/server/jun_week3_2020/man_made_DNA/bond_info_1mnn_with_long_DNA.csv\")\n"
   ]
  },
  {
   "cell_type": "code",
   "execution_count": 104,
   "metadata": {},
   "outputs": [],
   "source": []
  },
  {
   "cell_type": "code",
   "execution_count": 116,
   "metadata": {
    "scrolled": true
   },
   "outputs": [
    {
     "data": {
      "text/plain": [
       "217"
      ]
     },
     "execution_count": 116,
     "metadata": {},
     "output_type": "execute_result"
    }
   ],
   "source": [
    "start_of_second_chain"
   ]
  },
  {
   "cell_type": "code",
   "execution_count": 113,
   "metadata": {},
   "outputs": [],
   "source": [
    "import pandas as pd\n"
   ]
  },
  {
   "cell_type": "code",
   "execution_count": 114,
   "metadata": {},
   "outputs": [
    {
     "data": {
      "text/html": [
       "<div>\n",
       "<style scoped>\n",
       "    .dataframe tbody tr th:only-of-type {\n",
       "        vertical-align: middle;\n",
       "    }\n",
       "\n",
       "    .dataframe tbody tr th {\n",
       "        vertical-align: top;\n",
       "    }\n",
       "\n",
       "    .dataframe thead th {\n",
       "        text-align: right;\n",
       "    }\n",
       "</style>\n",
       "<table border=\"1\" class=\"dataframe\">\n",
       "  <thead>\n",
       "    <tr style=\"text-align: right;\">\n",
       "      <th></th>\n",
       "      <th>atom1</th>\n",
       "      <th>atom2</th>\n",
       "      <th>r</th>\n",
       "    </tr>\n",
       "  </thead>\n",
       "  <tbody>\n",
       "    <tr>\n",
       "      <td>0</td>\n",
       "      <td>308</td>\n",
       "      <td>976</td>\n",
       "      <td>1.575230</td>\n",
       "    </tr>\n",
       "    <tr>\n",
       "      <td>1</td>\n",
       "      <td>308</td>\n",
       "      <td>976</td>\n",
       "      <td>1.298570</td>\n",
       "    </tr>\n",
       "    <tr>\n",
       "      <td>2</td>\n",
       "      <td>308</td>\n",
       "      <td>976</td>\n",
       "      <td>1.013989</td>\n",
       "    </tr>\n",
       "    <tr>\n",
       "      <td>3</td>\n",
       "      <td>308</td>\n",
       "      <td>976</td>\n",
       "      <td>0.858007</td>\n",
       "    </tr>\n",
       "    <tr>\n",
       "      <td>4</td>\n",
       "      <td>308</td>\n",
       "      <td>976</td>\n",
       "      <td>0.682224</td>\n",
       "    </tr>\n",
       "    <tr>\n",
       "      <td>...</td>\n",
       "      <td>...</td>\n",
       "      <td>...</td>\n",
       "      <td>...</td>\n",
       "    </tr>\n",
       "    <tr>\n",
       "      <td>119</td>\n",
       "      <td>344</td>\n",
       "      <td>958</td>\n",
       "      <td>0.722997</td>\n",
       "    </tr>\n",
       "    <tr>\n",
       "      <td>120</td>\n",
       "      <td>344</td>\n",
       "      <td>958</td>\n",
       "      <td>0.892758</td>\n",
       "    </tr>\n",
       "    <tr>\n",
       "      <td>121</td>\n",
       "      <td>344</td>\n",
       "      <td>958</td>\n",
       "      <td>1.120073</td>\n",
       "    </tr>\n",
       "    <tr>\n",
       "      <td>122</td>\n",
       "      <td>344</td>\n",
       "      <td>967</td>\n",
       "      <td>1.440017</td>\n",
       "    </tr>\n",
       "    <tr>\n",
       "      <td>123</td>\n",
       "      <td>344</td>\n",
       "      <td>967</td>\n",
       "      <td>1.766178</td>\n",
       "    </tr>\n",
       "  </tbody>\n",
       "</table>\n",
       "<p>124 rows × 3 columns</p>\n",
       "</div>"
      ],
      "text/plain": [
       "     atom1  atom2         r\n",
       "0      308    976  1.575230\n",
       "1      308    976  1.298570\n",
       "2      308    976  1.013989\n",
       "3      308    976  0.858007\n",
       "4      308    976  0.682224\n",
       "..     ...    ...       ...\n",
       "119    344    958  0.722997\n",
       "120    344    958  0.892758\n",
       "121    344    958  1.120073\n",
       "122    344    967  1.440017\n",
       "123    344    967  1.766178\n",
       "\n",
       "[124 rows x 3 columns]"
      ]
     },
     "execution_count": 114,
     "metadata": {},
     "output_type": "execute_result"
    }
   ],
   "source": [
    "bond_info"
   ]
  },
  {
   "cell_type": "code",
   "execution_count": 87,
   "metadata": {
    "collapsed": true
   },
   "outputs": [],
   "source": [
    "writePDB(dna.atoms, \"/Users/weilu/Research/server/jun_week3_2020/automatic_man_made_DNA/setups/DNA_part.pdb\")"
   ]
  },
  {
   "cell_type": "code",
   "execution_count": 85,
   "metadata": {},
   "outputs": [
    {
     "data": {
      "text/html": [
       "<div>\n",
       "<style scoped>\n",
       "    .dataframe tbody tr th:only-of-type {\n",
       "        vertical-align: middle;\n",
       "    }\n",
       "\n",
       "    .dataframe tbody tr th {\n",
       "        vertical-align: top;\n",
       "    }\n",
       "\n",
       "    .dataframe thead th {\n",
       "        text-align: right;\n",
       "    }\n",
       "</style>\n",
       "<table border=\"1\" class=\"dataframe\">\n",
       "  <thead>\n",
       "    <tr style=\"text-align: right;\">\n",
       "      <th></th>\n",
       "      <th>recname</th>\n",
       "      <th>serial</th>\n",
       "      <th>name</th>\n",
       "      <th>altLoc</th>\n",
       "      <th>resname</th>\n",
       "      <th>chainID</th>\n",
       "      <th>resSeq</th>\n",
       "      <th>iCode</th>\n",
       "      <th>x</th>\n",
       "      <th>y</th>\n",
       "      <th>z</th>\n",
       "      <th>occupancy</th>\n",
       "      <th>tempFactor</th>\n",
       "      <th>element</th>\n",
       "      <th>charge</th>\n",
       "      <th>type</th>\n",
       "    </tr>\n",
       "  </thead>\n",
       "  <tbody>\n",
       "    <tr>\n",
       "      <td>0</td>\n",
       "      <td>ATOM</td>\n",
       "      <td>0</td>\n",
       "      <td>A</td>\n",
       "      <td></td>\n",
       "      <td>DA</td>\n",
       "      <td>A</td>\n",
       "      <td>1</td>\n",
       "      <td></td>\n",
       "      <td>-0.440158</td>\n",
       "      <td>2.425299</td>\n",
       "      <td>0.012213</td>\n",
       "      <td>0</td>\n",
       "      <td>0</td>\n",
       "      <td>N</td>\n",
       "      <td></td>\n",
       "      <td>A</td>\n",
       "    </tr>\n",
       "    <tr>\n",
       "      <td>1</td>\n",
       "      <td>ATOM</td>\n",
       "      <td>1</td>\n",
       "      <td>S</td>\n",
       "      <td></td>\n",
       "      <td>DA</td>\n",
       "      <td>A</td>\n",
       "      <td>1</td>\n",
       "      <td></td>\n",
       "      <td>-2.789750</td>\n",
       "      <td>6.611468</td>\n",
       "      <td>-0.768648</td>\n",
       "      <td>0</td>\n",
       "      <td>0</td>\n",
       "      <td>H</td>\n",
       "      <td></td>\n",
       "      <td>S</td>\n",
       "    </tr>\n",
       "    <tr>\n",
       "      <td>2</td>\n",
       "      <td>ATOM</td>\n",
       "      <td>2</td>\n",
       "      <td>A</td>\n",
       "      <td></td>\n",
       "      <td>DA</td>\n",
       "      <td>A</td>\n",
       "      <td>2</td>\n",
       "      <td></td>\n",
       "      <td>-1.740121</td>\n",
       "      <td>1.565361</td>\n",
       "      <td>3.230875</td>\n",
       "      <td>0</td>\n",
       "      <td>0</td>\n",
       "      <td>N</td>\n",
       "      <td></td>\n",
       "      <td>A</td>\n",
       "    </tr>\n",
       "    <tr>\n",
       "      <td>3</td>\n",
       "      <td>ATOM</td>\n",
       "      <td>3</td>\n",
       "      <td>P</td>\n",
       "      <td></td>\n",
       "      <td>DA</td>\n",
       "      <td>A</td>\n",
       "      <td>2</td>\n",
       "      <td></td>\n",
       "      <td>-5.581382</td>\n",
       "      <td>7.212560</td>\n",
       "      <td>1.561305</td>\n",
       "      <td>0</td>\n",
       "      <td>0</td>\n",
       "      <td>P</td>\n",
       "      <td></td>\n",
       "      <td>P</td>\n",
       "    </tr>\n",
       "    <tr>\n",
       "      <td>4</td>\n",
       "      <td>ATOM</td>\n",
       "      <td>4</td>\n",
       "      <td>S</td>\n",
       "      <td></td>\n",
       "      <td>DA</td>\n",
       "      <td>A</td>\n",
       "      <td>2</td>\n",
       "      <td></td>\n",
       "      <td>-6.079404</td>\n",
       "      <td>3.595565</td>\n",
       "      <td>2.391771</td>\n",
       "      <td>0</td>\n",
       "      <td>0</td>\n",
       "      <td>H</td>\n",
       "      <td></td>\n",
       "      <td>S</td>\n",
       "    </tr>\n",
       "    <tr>\n",
       "      <td>...</td>\n",
       "      <td>...</td>\n",
       "      <td>...</td>\n",
       "      <td>...</td>\n",
       "      <td>...</td>\n",
       "      <td>...</td>\n",
       "      <td>...</td>\n",
       "      <td>...</td>\n",
       "      <td>...</td>\n",
       "      <td>...</td>\n",
       "      <td>...</td>\n",
       "      <td>...</td>\n",
       "      <td>...</td>\n",
       "      <td>...</td>\n",
       "      <td>...</td>\n",
       "      <td>...</td>\n",
       "      <td>...</td>\n",
       "    </tr>\n",
       "    <tr>\n",
       "      <td>1295</td>\n",
       "      <td>ATOM</td>\n",
       "      <td>1295</td>\n",
       "      <td>P</td>\n",
       "      <td></td>\n",
       "      <td>DT</td>\n",
       "      <td>B</td>\n",
       "      <td>433</td>\n",
       "      <td></td>\n",
       "      <td>5.099871</td>\n",
       "      <td>-7.850242</td>\n",
       "      <td>5.365716</td>\n",
       "      <td>0</td>\n",
       "      <td>0</td>\n",
       "      <td>P</td>\n",
       "      <td></td>\n",
       "      <td>P</td>\n",
       "    </tr>\n",
       "    <tr>\n",
       "      <td>1296</td>\n",
       "      <td>ATOM</td>\n",
       "      <td>1296</td>\n",
       "      <td>S</td>\n",
       "      <td></td>\n",
       "      <td>DT</td>\n",
       "      <td>B</td>\n",
       "      <td>433</td>\n",
       "      <td></td>\n",
       "      <td>1.512616</td>\n",
       "      <td>-7.149802</td>\n",
       "      <td>4.489658</td>\n",
       "      <td>0</td>\n",
       "      <td>0</td>\n",
       "      <td>H</td>\n",
       "      <td></td>\n",
       "      <td>S</td>\n",
       "    </tr>\n",
       "    <tr>\n",
       "      <td>1297</td>\n",
       "      <td>ATOM</td>\n",
       "      <td>1297</td>\n",
       "      <td>T</td>\n",
       "      <td></td>\n",
       "      <td>DT</td>\n",
       "      <td>B</td>\n",
       "      <td>434</td>\n",
       "      <td></td>\n",
       "      <td>-0.035655</td>\n",
       "      <td>-3.380030</td>\n",
       "      <td>0.019816</td>\n",
       "      <td>0</td>\n",
       "      <td>0</td>\n",
       "      <td>S</td>\n",
       "      <td></td>\n",
       "      <td>T</td>\n",
       "    </tr>\n",
       "    <tr>\n",
       "      <td>1298</td>\n",
       "      <td>ATOM</td>\n",
       "      <td>1298</td>\n",
       "      <td>P</td>\n",
       "      <td></td>\n",
       "      <td>DT</td>\n",
       "      <td>B</td>\n",
       "      <td>434</td>\n",
       "      <td></td>\n",
       "      <td>-0.345058</td>\n",
       "      <td>-9.264648</td>\n",
       "      <td>1.839537</td>\n",
       "      <td>0</td>\n",
       "      <td>0</td>\n",
       "      <td>P</td>\n",
       "      <td></td>\n",
       "      <td>P</td>\n",
       "    </tr>\n",
       "    <tr>\n",
       "      <td>1299</td>\n",
       "      <td>ATOM</td>\n",
       "      <td>1299</td>\n",
       "      <td>S</td>\n",
       "      <td></td>\n",
       "      <td>DT</td>\n",
       "      <td>B</td>\n",
       "      <td>434</td>\n",
       "      <td></td>\n",
       "      <td>-2.848118</td>\n",
       "      <td>-6.596525</td>\n",
       "      <td>0.977968</td>\n",
       "      <td>0</td>\n",
       "      <td>0</td>\n",
       "      <td>H</td>\n",
       "      <td></td>\n",
       "      <td>S</td>\n",
       "    </tr>\n",
       "  </tbody>\n",
       "</table>\n",
       "<p>1300 rows × 16 columns</p>\n",
       "</div>"
      ],
      "text/plain": [
       "     recname  serial name altLoc resname chainID  resSeq iCode         x  \\\n",
       "0       ATOM       0    A             DA       A       1       -0.440158   \n",
       "1       ATOM       1    S             DA       A       1       -2.789750   \n",
       "2       ATOM       2    A             DA       A       2       -1.740121   \n",
       "3       ATOM       3    P             DA       A       2       -5.581382   \n",
       "4       ATOM       4    S             DA       A       2       -6.079404   \n",
       "...      ...     ...  ...    ...     ...     ...     ...   ...       ...   \n",
       "1295    ATOM    1295    P             DT       B     433        5.099871   \n",
       "1296    ATOM    1296    S             DT       B     433        1.512616   \n",
       "1297    ATOM    1297    T             DT       B     434       -0.035655   \n",
       "1298    ATOM    1298    P             DT       B     434       -0.345058   \n",
       "1299    ATOM    1299    S             DT       B     434       -2.848118   \n",
       "\n",
       "             y         z  occupancy  tempFactor element charge type  \n",
       "0     2.425299  0.012213          0           0       N           A  \n",
       "1     6.611468 -0.768648          0           0       H           S  \n",
       "2     1.565361  3.230875          0           0       N           A  \n",
       "3     7.212560  1.561305          0           0       P           P  \n",
       "4     3.595565  2.391771          0           0       H           S  \n",
       "...        ...       ...        ...         ...     ...    ...  ...  \n",
       "1295 -7.850242  5.365716          0           0       P           P  \n",
       "1296 -7.149802  4.489658          0           0       H           S  \n",
       "1297 -3.380030  0.019816          0           0       S           T  \n",
       "1298 -9.264648  1.839537          0           0       P           P  \n",
       "1299 -6.596525  0.977968          0           0       H           S  \n",
       "\n",
       "[1300 rows x 16 columns]"
      ]
     },
     "execution_count": 85,
     "metadata": {},
     "output_type": "execute_result"
    }
   ],
   "source": [
    "dna.atoms"
   ]
  },
  {
   "cell_type": "code",
   "execution_count": null,
   "metadata": {
    "collapsed": true
   },
   "outputs": [],
   "source": [
    "cmd = \"python ~/openmmawsem/mm_create_project.py ../../../../jun_week1_2020/protein_DNA_benchmark/cleaned_pdbs/1mnn.pdb\"\n",
    "# cmd = \"cp ../only_protein/setups/1mnn/1mnn.pdb .\"\n",
    "cmd = \"cp ../only_protein/setups/1mnn/1mnn-openmmawsem.pdb .\"\n",
    "cmd = \"gg.py -d jun21 -m 1\"\n",
    "cmd = \"pdb_chain -C shifted_1mnn.pdb > shifted_1mnn_become_chain_C.pdb\"\n",
    "cmd = \"grep 'ATOM' shifted_1mnn_become_chain_C.pdb > Protein_part.pdb\"\n",
    "cmd = \"rm 1mnn_with_long_DNA.pdb\"\n",
    "cmd = \"cat DNA_part.pdb >> 1mnn_with_long_DNA.pdb\"\n",
    "cmd = \"cat Protein_part.pdb >> 1mnn_with_long_DNA.pdb\"\n",
    "# get seq from 1mnn.pdb\n",
    "cmd = \"mv single_frags_1mnn.mem single_frags_1mnn_with_long_DNA.mem\"\n",
    "# do(\"gg_server.py -d jun21 -m 1\")\n",
    "# cmd = \"python setup.py 1mnn_with_long_DNA --source .\""
   ]
  },
  {
   "cell_type": "code",
   "execution_count": 84,
   "metadata": {},
   "outputs": [
    {
     "data": {
      "text/plain": [
       "17"
      ]
     },
     "execution_count": 84,
     "metadata": {},
     "output_type": "execute_result"
    }
   ],
   "source": [
    "len(first_chain_seq)"
   ]
  },
  {
   "cell_type": "code",
   "execution_count": null,
   "metadata": {
    "collapsed": true
   },
   "outputs": [],
   "source": []
  },
  {
   "cell_type": "code",
   "execution_count": 42,
   "metadata": {
    "collapsed": true
   },
   "outputs": [],
   "source": [
    "# read the DNA seqeunce from the crystal structure.\n",
    "pdb_file = \"/Users/weilu/Research/server/jun_week3_2020/protein_DNA/DNAProtein_Platform_OpenCL_date_20200226_pdb_1mnn_repetition_0_clean.pdb\"\n",
    "dna=open3SPN2.DNA.fromCoarsePDB(pdb_file)"
   ]
  },
  {
   "cell_type": "code",
   "execution_count": 51,
   "metadata": {},
   "outputs": [],
   "source": [
    "a = dna.getSequences().reset_index()"
   ]
  },
  {
   "cell_type": "code",
   "execution_count": 54,
   "metadata": {},
   "outputs": [],
   "source": [
    "chain_list = a[\"level_0\"].unique()"
   ]
  },
  {
   "cell_type": "code",
   "execution_count": 56,
   "metadata": {},
   "outputs": [],
   "source": [
    "assert len(chain_list) == 2"
   ]
  },
  {
   "cell_type": "code",
   "execution_count": 57,
   "metadata": {},
   "outputs": [
    {
     "data": {
      "text/plain": [
       "'A'"
      ]
     },
     "execution_count": 57,
     "metadata": {},
     "output_type": "execute_result"
    }
   ],
   "source": [
    "chain_list[0]"
   ]
  },
  {
   "cell_type": "code",
   "execution_count": 58,
   "metadata": {},
   "outputs": [
    {
     "data": {
      "text/plain": [
       "'B'"
      ]
     },
     "execution_count": 58,
     "metadata": {},
     "output_type": "execute_result"
    }
   ],
   "source": [
    "chain_list[1]"
   ]
  },
  {
   "cell_type": "code",
   "execution_count": 72,
   "metadata": {},
   "outputs": [],
   "source": [
    "first_chain_seq = \"\".join(a.query(f\"level_0=='{chain_list[0]}'\")[0].to_list())\n",
    "second_chain_seq = \"\".join(a.query(f\"level_0=='{chain_list[1]}'\")[0].to_list())"
   ]
  },
  {
   "cell_type": "code",
   "execution_count": 73,
   "metadata": {},
   "outputs": [
    {
     "data": {
      "text/plain": [
       "'TGCGACACAAAAAC'"
      ]
     },
     "execution_count": 73,
     "metadata": {},
     "output_type": "execute_result"
    }
   ],
   "source": [
    "first_chain_seq"
   ]
  },
  {
   "cell_type": "code",
   "execution_count": 81,
   "metadata": {},
   "outputs": [],
   "source": [
    "assert reverse_complement(first_chain_seq[1:]) == second_chain_seq[1:]"
   ]
  },
  {
   "cell_type": "code",
   "execution_count": 83,
   "metadata": {},
   "outputs": [],
   "source": []
  },
  {
   "cell_type": "code",
   "execution_count": 84,
   "metadata": {},
   "outputs": [
    {
     "data": {
      "text/plain": [
       "'AAAAAAAAAAAAAAAAAAAAAAAAAAAAAAAAAAAAAAAAAAAAAAAAAAAAAAAAAAAAAAAAAAAAAAAAAAAAAAAAAAAAAAAAAAAAAAAAAAAATGCGACACAAAAACAAAAAAAAAAAAAAAAAAAAAAAAAAAAAAAAAAAAAAAAAAAAAAAAAAAAAAAAAAAAAAAAAAAAAAAAAAAAAAAAAAAAAAAAAAAAAAAAAAAA'"
      ]
     },
     "execution_count": 84,
     "metadata": {},
     "output_type": "execute_result"
    }
   ],
   "source": [
    "new_seq"
   ]
  },
  {
   "cell_type": "code",
   "execution_count": 87,
   "metadata": {
    "collapsed": true
   },
   "outputs": [],
   "source": [
    "# Initialize the DNA from a sequence.\n",
    "# DNA type can be changed to 'A' or 'B'\n",
    "new_seq = \"A\"*100 + first_chain_seq + \"A\"*100\n",
    "seq = new_seq\n",
    "dna=open3SPN2.DNA.fromSequence(seq,dna_type='B_curved')\n",
    "\n",
    "# Compute the topology for the DNA structure.\n",
    "# Since the dna was generated from the sequence using X3DNA,\n",
    "# it is not necesary to recompute the geometry.\n",
    "\n",
    "dna.computeTopology(template_from_X3DNA=False)\n"
   ]
  },
  {
   "cell_type": "code",
   "execution_count": 88,
   "metadata": {
    "scrolled": false
   },
   "outputs": [
    {
     "data": {
      "text/plain": [
       "'/Users/weilu/Research/server/jun_week3_2020/man_made_DNA/DNA_part.pdb'"
      ]
     },
     "execution_count": 88,
     "metadata": {},
     "output_type": "execute_result"
    }
   ],
   "source": [
    "dna.writePDB(\"/Users/weilu/Research/server/jun_week3_2020/man_made_DNA/DNA_part.pdb\")"
   ]
  },
  {
   "cell_type": "code",
   "execution_count": null,
   "metadata": {
    "collapsed": true
   },
   "outputs": [],
   "source": [
    "cleaned_pdb_filename = f\"{name}-cleaned.pdb\"\n",
    "input_pdb_filename = f\"{name}-openmmawsem.pdb\"\n",
    "do(f\"grep 'ATOM' {input_pdb_filename} > tmp.pdb\")\n",
    "do(f\"grep 'HETATM' {cleaned_pdb_filename} >> tmp.pdb\")\n",
    "do(f\"mv tmp.pdb {input_pdb_filename}\")\n"
   ]
  },
  {
   "cell_type": "code",
   "execution_count": null,
   "metadata": {
    "collapsed": true
   },
   "outputs": [],
   "source": [
    "cmd = \"python ~/openmmawsem/mm_create_project.py ../../../../jun_week1_2020/protein_DNA_benchmark/cleaned_pdbs/1mnn.pdb\"\n",
    "# cmd = \"cp ../only_protein/setups/1mnn/1mnn.pdb .\"\n",
    "cmd = \"cp ../only_protein/setups/1mnn/1mnn-openmmawsem.pdb .\"\n",
    "cmd = \"gg.py -d jun21 -m 1\"\n",
    "cmd = \"pdb_chain -C shifted_1mnn.pdb > shifted_1mnn_become_chain_C.pdb\"\n",
    "cmd = \"grep 'ATOM' shifted_1mnn_become_chain_C.pdb > Protein_part.pdb\"\n",
    "cmd = \"rm 1mnn_with_long_DNA.pdb \"\n",
    "cmd = \"cat DNA_part.pdb >> 1mnn_with_long_DNA.pdb\"\n",
    "cmd = \"cat Protein_part.pdb >> 1mnn_with_long_DNA.pdb\"\n",
    "# get seq from 1mnn.pdb\n",
    "cmd = \"mv single_frags_1mnn.mem single_frags_1mnn_with_long_DNA.mem\"\n",
    "# do(\"gg_server.py -d jun21 -m 1\")\n",
    "# cmd = \"python setup.py 1mnn_with_long_DNA --source .\""
   ]
  },
  {
   "cell_type": "code",
   "execution_count": 83,
   "metadata": {
    "collapsed": true
   },
   "outputs": [],
   "source": [
    "pdb_file = \"/Users/weilu/Research/server/jun_week3_2020/man_made_DNA/1mnn_with_long_DNA.pdb\"\n",
    "seq_file = \"/Users/weilu/Research/server/jun_week3_2020/man_made_DNA/1mnn_with_long_DNA.seq\"\n",
    "dna=open3SPN2.DNA.fromCoarsePDB(pdb_file)\n",
    "new_dna = dna.atoms.reset_index()"
   ]
  },
  {
   "cell_type": "code",
   "execution_count": 65,
   "metadata": {},
   "outputs": [],
   "source": [
    "with open(seq_file) as ps:\n",
    "    protein_sequence_one=ps.readlines()[0]\n",
    "protein=ffAWSEM.Protein.fromCoarsePDB(pdb_file, sequence=protein_sequence_one)"
   ]
  },
  {
   "cell_type": "code",
   "execution_count": 80,
   "metadata": {
    "collapsed": true
   },
   "outputs": [],
   "source": [
    "protein_resNames = [\"NGP\", \"IGL\", \"IPR\", \"NTER\", \"CTER\"]\n",
    "DNA_resNames = [\"DA\", \"DC\", \"DT\", \"DG\"]\n",
    "group1_index = []\n",
    "group2_index = []\n",
    "data = protein.atoms.reset_index()\n",
    "for i, line in data.iterrows():\n",
    "    resname = line[\"resname\"]\n",
    "    index = line[\"index\"]\n",
    "    name_ = line[\"name\"]\n",
    "    if resname in DNA_resNames and name_ == \"P\":\n",
    "        group1_index.append(index)\n",
    "    if resname in protein_resNames and name_ == \"CA\":\n",
    "        group2_index.append(index)"
   ]
  },
  {
   "cell_type": "code",
   "execution_count": 78,
   "metadata": {},
   "outputs": [],
   "source": [
    "data = dna.atoms.reset_index()"
   ]
  },
  {
   "cell_type": "code",
   "execution_count": 85,
   "metadata": {
    "collapsed": true
   },
   "outputs": [],
   "source": [
    "new_dna_dna_only = new_dna.query(\"resname in @DNA_resNames\")"
   ]
  },
  {
   "cell_type": "code",
   "execution_count": 86,
   "metadata": {},
   "outputs": [
    {
     "data": {
      "text/html": [
       "<div>\n",
       "<style scoped>\n",
       "    .dataframe tbody tr th:only-of-type {\n",
       "        vertical-align: middle;\n",
       "    }\n",
       "\n",
       "    .dataframe tbody tr th {\n",
       "        vertical-align: top;\n",
       "    }\n",
       "\n",
       "    .dataframe thead th {\n",
       "        text-align: right;\n",
       "    }\n",
       "</style>\n",
       "<table border=\"1\" class=\"dataframe\">\n",
       "  <thead>\n",
       "    <tr style=\"text-align: right;\">\n",
       "      <th></th>\n",
       "      <th>index</th>\n",
       "      <th>recname</th>\n",
       "      <th>serial</th>\n",
       "      <th>name</th>\n",
       "      <th>altLoc</th>\n",
       "      <th>resname</th>\n",
       "      <th>chainID</th>\n",
       "      <th>resSeq</th>\n",
       "      <th>iCode</th>\n",
       "      <th>x</th>\n",
       "      <th>y</th>\n",
       "      <th>z</th>\n",
       "      <th>occupancy</th>\n",
       "      <th>tempFactor</th>\n",
       "      <th>element</th>\n",
       "      <th>charge</th>\n",
       "      <th>type</th>\n",
       "    </tr>\n",
       "  </thead>\n",
       "  <tbody>\n",
       "    <tr>\n",
       "      <td>0</td>\n",
       "      <td>0</td>\n",
       "      <td>ATOM</td>\n",
       "      <td>1</td>\n",
       "      <td>A</td>\n",
       "      <td></td>\n",
       "      <td>DA</td>\n",
       "      <td>A</td>\n",
       "      <td>1</td>\n",
       "      <td></td>\n",
       "      <td>-0.440</td>\n",
       "      <td>2.425</td>\n",
       "      <td>0.012</td>\n",
       "      <td>0.0</td>\n",
       "      <td>0.0</td>\n",
       "      <td>N</td>\n",
       "      <td></td>\n",
       "      <td>A</td>\n",
       "    </tr>\n",
       "    <tr>\n",
       "      <td>1</td>\n",
       "      <td>1</td>\n",
       "      <td>ATOM</td>\n",
       "      <td>2</td>\n",
       "      <td>S</td>\n",
       "      <td></td>\n",
       "      <td>DA</td>\n",
       "      <td>A</td>\n",
       "      <td>1</td>\n",
       "      <td></td>\n",
       "      <td>-2.790</td>\n",
       "      <td>6.611</td>\n",
       "      <td>-0.769</td>\n",
       "      <td>0.0</td>\n",
       "      <td>0.0</td>\n",
       "      <td>H</td>\n",
       "      <td></td>\n",
       "      <td>S</td>\n",
       "    </tr>\n",
       "    <tr>\n",
       "      <td>2</td>\n",
       "      <td>2</td>\n",
       "      <td>ATOM</td>\n",
       "      <td>3</td>\n",
       "      <td>A</td>\n",
       "      <td></td>\n",
       "      <td>DA</td>\n",
       "      <td>A</td>\n",
       "      <td>2</td>\n",
       "      <td></td>\n",
       "      <td>-1.740</td>\n",
       "      <td>1.565</td>\n",
       "      <td>3.231</td>\n",
       "      <td>0.0</td>\n",
       "      <td>0.0</td>\n",
       "      <td>N</td>\n",
       "      <td></td>\n",
       "      <td>A</td>\n",
       "    </tr>\n",
       "    <tr>\n",
       "      <td>3</td>\n",
       "      <td>3</td>\n",
       "      <td>ATOM</td>\n",
       "      <td>4</td>\n",
       "      <td>P</td>\n",
       "      <td></td>\n",
       "      <td>DA</td>\n",
       "      <td>A</td>\n",
       "      <td>2</td>\n",
       "      <td></td>\n",
       "      <td>-5.581</td>\n",
       "      <td>7.213</td>\n",
       "      <td>1.561</td>\n",
       "      <td>0.0</td>\n",
       "      <td>0.0</td>\n",
       "      <td>P</td>\n",
       "      <td></td>\n",
       "      <td>P</td>\n",
       "    </tr>\n",
       "    <tr>\n",
       "      <td>4</td>\n",
       "      <td>4</td>\n",
       "      <td>ATOM</td>\n",
       "      <td>5</td>\n",
       "      <td>S</td>\n",
       "      <td></td>\n",
       "      <td>DA</td>\n",
       "      <td>A</td>\n",
       "      <td>2</td>\n",
       "      <td></td>\n",
       "      <td>-6.079</td>\n",
       "      <td>3.596</td>\n",
       "      <td>2.392</td>\n",
       "      <td>0.0</td>\n",
       "      <td>0.0</td>\n",
       "      <td>H</td>\n",
       "      <td></td>\n",
       "      <td>S</td>\n",
       "    </tr>\n",
       "    <tr>\n",
       "      <td>...</td>\n",
       "      <td>...</td>\n",
       "      <td>...</td>\n",
       "      <td>...</td>\n",
       "      <td>...</td>\n",
       "      <td>...</td>\n",
       "      <td>...</td>\n",
       "      <td>...</td>\n",
       "      <td>...</td>\n",
       "      <td>...</td>\n",
       "      <td>...</td>\n",
       "      <td>...</td>\n",
       "      <td>...</td>\n",
       "      <td>...</td>\n",
       "      <td>...</td>\n",
       "      <td>...</td>\n",
       "      <td>...</td>\n",
       "      <td>...</td>\n",
       "    </tr>\n",
       "    <tr>\n",
       "      <td>1277</td>\n",
       "      <td>1277</td>\n",
       "      <td>ATOM</td>\n",
       "      <td>1278</td>\n",
       "      <td>P</td>\n",
       "      <td></td>\n",
       "      <td>DT</td>\n",
       "      <td>B</td>\n",
       "      <td>427</td>\n",
       "      <td></td>\n",
       "      <td>5.100</td>\n",
       "      <td>-7.850</td>\n",
       "      <td>5.366</td>\n",
       "      <td>0.0</td>\n",
       "      <td>0.0</td>\n",
       "      <td>P</td>\n",
       "      <td></td>\n",
       "      <td>P</td>\n",
       "    </tr>\n",
       "    <tr>\n",
       "      <td>1278</td>\n",
       "      <td>1278</td>\n",
       "      <td>ATOM</td>\n",
       "      <td>1279</td>\n",
       "      <td>S</td>\n",
       "      <td></td>\n",
       "      <td>DT</td>\n",
       "      <td>B</td>\n",
       "      <td>427</td>\n",
       "      <td></td>\n",
       "      <td>1.513</td>\n",
       "      <td>-7.150</td>\n",
       "      <td>4.490</td>\n",
       "      <td>0.0</td>\n",
       "      <td>0.0</td>\n",
       "      <td>H</td>\n",
       "      <td></td>\n",
       "      <td>S</td>\n",
       "    </tr>\n",
       "    <tr>\n",
       "      <td>1279</td>\n",
       "      <td>1279</td>\n",
       "      <td>ATOM</td>\n",
       "      <td>1280</td>\n",
       "      <td>T</td>\n",
       "      <td></td>\n",
       "      <td>DT</td>\n",
       "      <td>B</td>\n",
       "      <td>428</td>\n",
       "      <td></td>\n",
       "      <td>-0.036</td>\n",
       "      <td>-3.380</td>\n",
       "      <td>0.020</td>\n",
       "      <td>0.0</td>\n",
       "      <td>0.0</td>\n",
       "      <td>S</td>\n",
       "      <td></td>\n",
       "      <td>T</td>\n",
       "    </tr>\n",
       "    <tr>\n",
       "      <td>1280</td>\n",
       "      <td>1280</td>\n",
       "      <td>ATOM</td>\n",
       "      <td>1281</td>\n",
       "      <td>P</td>\n",
       "      <td></td>\n",
       "      <td>DT</td>\n",
       "      <td>B</td>\n",
       "      <td>428</td>\n",
       "      <td></td>\n",
       "      <td>-0.345</td>\n",
       "      <td>-9.265</td>\n",
       "      <td>1.840</td>\n",
       "      <td>0.0</td>\n",
       "      <td>0.0</td>\n",
       "      <td>P</td>\n",
       "      <td></td>\n",
       "      <td>P</td>\n",
       "    </tr>\n",
       "    <tr>\n",
       "      <td>1281</td>\n",
       "      <td>1281</td>\n",
       "      <td>ATOM</td>\n",
       "      <td>1282</td>\n",
       "      <td>S</td>\n",
       "      <td></td>\n",
       "      <td>DT</td>\n",
       "      <td>B</td>\n",
       "      <td>428</td>\n",
       "      <td></td>\n",
       "      <td>-2.848</td>\n",
       "      <td>-6.597</td>\n",
       "      <td>0.978</td>\n",
       "      <td>0.0</td>\n",
       "      <td>0.0</td>\n",
       "      <td>H</td>\n",
       "      <td></td>\n",
       "      <td>S</td>\n",
       "    </tr>\n",
       "  </tbody>\n",
       "</table>\n",
       "<p>1282 rows × 17 columns</p>\n",
       "</div>"
      ],
      "text/plain": [
       "      index recname  serial name altLoc resname chainID  resSeq iCode      x  \\\n",
       "0         0    ATOM       1    A             DA       A       1       -0.440   \n",
       "1         1    ATOM       2    S             DA       A       1       -2.790   \n",
       "2         2    ATOM       3    A             DA       A       2       -1.740   \n",
       "3         3    ATOM       4    P             DA       A       2       -5.581   \n",
       "4         4    ATOM       5    S             DA       A       2       -6.079   \n",
       "...     ...     ...     ...  ...    ...     ...     ...     ...   ...    ...   \n",
       "1277   1277    ATOM    1278    P             DT       B     427        5.100   \n",
       "1278   1278    ATOM    1279    S             DT       B     427        1.513   \n",
       "1279   1279    ATOM    1280    T             DT       B     428       -0.036   \n",
       "1280   1280    ATOM    1281    P             DT       B     428       -0.345   \n",
       "1281   1281    ATOM    1282    S             DT       B     428       -2.848   \n",
       "\n",
       "          y      z  occupancy  tempFactor element charge type  \n",
       "0     2.425  0.012        0.0         0.0       N           A  \n",
       "1     6.611 -0.769        0.0         0.0       H           S  \n",
       "2     1.565  3.231        0.0         0.0       N           A  \n",
       "3     7.213  1.561        0.0         0.0       P           P  \n",
       "4     3.596  2.392        0.0         0.0       H           S  \n",
       "...     ...    ...        ...         ...     ...    ...  ...  \n",
       "1277 -7.850  5.366        0.0         0.0       P           P  \n",
       "1278 -7.150  4.490        0.0         0.0       H           S  \n",
       "1279 -3.380  0.020        0.0         0.0       S           T  \n",
       "1280 -9.265  1.840        0.0         0.0       P           P  \n",
       "1281 -6.597  0.978        0.0         0.0       H           S  \n",
       "\n",
       "[1282 rows x 17 columns]"
      ]
     },
     "execution_count": 86,
     "metadata": {},
     "output_type": "execute_result"
    }
   ],
   "source": [
    "new_dna_dna_only"
   ]
  },
  {
   "cell_type": "code",
   "execution_count": 89,
   "metadata": {
    "collapsed": true
   },
   "outputs": [],
   "source": [
    "pdb_file = \"/Users/weilu/Research/server/jun_week3_2020/protein_DNA/DNAProtein_Platform_OpenCL_date_20200226_pdb_1mnn_repetition_0_clean.pdb\"\n",
    "# seq_file = \"/Users/weilu/Research/server/jun_week3_2020/man_made_DNA/1mnn_with_long_DNA.seq\"\n",
    "dna=open3SPN2.DNA.fromCoarsePDB(pdb_file)"
   ]
  },
  {
   "cell_type": "code",
   "execution_count": 90,
   "metadata": {},
   "outputs": [
    {
     "name": "stdout",
     "output_type": "stream",
     "text": [
      "Empty DataFrame\n",
      "Columns: [index, recname, serial, name, altLoc, resname, chainID, resSeq, iCode, x, y, z, occupancy, tempFactor, element, charge, type]\n",
      "Index: []\n",
      "Empty DataFrame\n",
      "Columns: [index, recname, serial, name, altLoc, resname, chainID, resSeq, iCode, x, y, z, occupancy, tempFactor, element, charge, type]\n",
      "Index: []\n",
      "Empty DataFrame\n",
      "Columns: [index, recname, serial, name, altLoc, resname, chainID, resSeq, iCode, x, y, z, occupancy, tempFactor, element, charge, type]\n",
      "Index: []\n",
      "Empty DataFrame\n",
      "Columns: [index, recname, serial, name, altLoc, resname, chainID, resSeq, iCode, x, y, z, occupancy, tempFactor, element, charge, type]\n",
      "Index: []\n",
      "Empty DataFrame\n",
      "Columns: [index, recname, serial, name, altLoc, resname, chainID, resSeq, iCode, x, y, z, occupancy, tempFactor, element, charge, type]\n",
      "Index: []\n"
     ]
    }
   ],
   "source": [
    "k = 1\n",
    "bond_length_cutoff=1.8\n",
    "data = dna.atoms\n",
    "bonds_list = []\n",
    "DNA_resNames = [\"DA\", \"DC\", \"DT\", \"DG\"]\n",
    "interacting_atom = [\"A\", \"C\", \"G\", \"T\"]\n",
    "a = data.query(\"resname in @DNA_resNames\").query(\"name in @interacting_atom\").reset_index(drop=True)\n",
    "n_atom = len(a)\n",
    "for i in range(n_atom):\n",
    "    dna_res_1 = a.iloc[i]\n",
    "    chainID_1 = dna_res_1[\"chainID\"]\n",
    "    for j in range(i+1, n_atom):\n",
    "        dna_res_2 = a.iloc[j]\n",
    "        chainID_2 = dna_res_2[\"chainID\"]\n",
    "        if chainID_1 == chainID_2:\n",
    "            continue\n",
    "        assert chainID_1 == \"A\"\n",
    "        assert chainID_2 == \"B\"\n",
    "        atom1_pos = dna_res_1[[\"x\", \"y\", \"z\"]].values\n",
    "        atom2_pos = dna_res_2[[\"x\", \"y\", \"z\"]].values\n",
    "        dis = atom1_pos - atom2_pos\n",
    "        r = (dis[0]**2 + dis[1]**2 + dis[2]**2)**0.5\n",
    "        r /= 10   # convert to nm\n",
    "        if r > bond_length_cutoff:\n",
    "            # bong length larger than r will be ignored.\n",
    "            continue\n",
    "        # print(i, j, r)\n",
    "        name = dna_res_1[\"name\"]\n",
    "        resSeq = dna_res_1[\"resSeq\"] + 100\n",
    "        target_atom = new_dna_dna_only.query(f\"resSeq=={resSeq} and name=='{name}'\")\n",
    "        if len(target_atom) != 1:\n",
    "            print(target_atom)\n",
    "        else:\n",
    "            serial_1 = int(target_atom[\"index\"])\n",
    "\n",
    "        name = dna_res_2[\"name\"]\n",
    "        resSeq = dna_res_2[\"resSeq\"] + 313\n",
    "        target_atom = new_dna_dna_only.query(f\"resSeq=={resSeq} and name=='{name}'\")\n",
    "        if len(target_atom) != 1:\n",
    "            print(target_atom)\n",
    "        else:\n",
    "            serial_2 = int(target_atom[\"index\"])\n",
    "#         bonds_list.append([dna_res_1[\"serial\"], dna_res_2[\"serial\"], r])\n",
    "        bonds_list.append([serial_1, serial_2, r])"
   ]
  },
  {
   "cell_type": "code",
   "execution_count": 91,
   "metadata": {
    "collapsed": true
   },
   "outputs": [],
   "source": [
    "import pandas as pd\n",
    "bond_info = pd.DataFrame(bonds_list, columns=[\"atom1\", \"atom2\", \"r\"])\n",
    "bond_info.to_csv(\"/Users/weilu/Research/server/jun_week3_2020/man_made_DNA/bond_info_1mnn_with_long_DNA.csv\")"
   ]
  },
  {
   "cell_type": "code",
   "execution_count": null,
   "metadata": {
    "collapsed": true
   },
   "outputs": [],
   "source": [
    "a = pd.read_csv(\"/Users/weilu/Research/server/jun_week3_2020/man_made_DNA/bond_info_1mnn_with_long_DNA.csv\", index_col=0)\n",
    "\n",
    "for i, line in a.iterrows():\n",
    "    atom1 = line[\"atom1\"]\n",
    "    atom2 = line[\"atom2\"]\n",
    "    r = line[\"r\"]\n",
    "    print(atom1, atom2, r)"
   ]
  },
  {
   "cell_type": "code",
   "execution_count": 40,
   "metadata": {},
   "outputs": [
    {
     "data": {
      "text/html": [
       "<div>\n",
       "<style scoped>\n",
       "    .dataframe tbody tr th:only-of-type {\n",
       "        vertical-align: middle;\n",
       "    }\n",
       "\n",
       "    .dataframe tbody tr th {\n",
       "        vertical-align: top;\n",
       "    }\n",
       "\n",
       "    .dataframe thead th {\n",
       "        text-align: right;\n",
       "    }\n",
       "</style>\n",
       "<table border=\"1\" class=\"dataframe\">\n",
       "  <thead>\n",
       "    <tr style=\"text-align: right;\">\n",
       "      <th></th>\n",
       "      <th>recname</th>\n",
       "      <th>serial</th>\n",
       "      <th>name</th>\n",
       "      <th>altLoc</th>\n",
       "      <th>resname</th>\n",
       "      <th>chainID</th>\n",
       "      <th>resSeq</th>\n",
       "      <th>iCode</th>\n",
       "      <th>x</th>\n",
       "      <th>y</th>\n",
       "      <th>z</th>\n",
       "      <th>occupancy</th>\n",
       "      <th>tempFactor</th>\n",
       "      <th>element</th>\n",
       "      <th>charge</th>\n",
       "      <th>type</th>\n",
       "    </tr>\n",
       "  </thead>\n",
       "  <tbody>\n",
       "    <tr>\n",
       "      <td>299</td>\n",
       "      <td>ATOM</td>\n",
       "      <td>300</td>\n",
       "      <td>T</td>\n",
       "      <td></td>\n",
       "      <td>DT</td>\n",
       "      <td>A</td>\n",
       "      <td>101</td>\n",
       "      <td></td>\n",
       "      <td>-14.457</td>\n",
       "      <td>8.865</td>\n",
       "      <td>326.23</td>\n",
       "      <td>0.0</td>\n",
       "      <td>0.0</td>\n",
       "      <td>S</td>\n",
       "      <td></td>\n",
       "      <td>T</td>\n",
       "    </tr>\n",
       "  </tbody>\n",
       "</table>\n",
       "</div>"
      ],
      "text/plain": [
       "    recname  serial name altLoc resname chainID  resSeq iCode       x      y  \\\n",
       "299    ATOM     300    T             DT       A     101       -14.457  8.865   \n",
       "\n",
       "          z  occupancy  tempFactor element charge type  \n",
       "299  326.23        0.0         0.0       S           T  "
      ]
     },
     "execution_count": 40,
     "metadata": {},
     "output_type": "execute_result"
    }
   ],
   "source": [
    "new_dna.query(\"resSeq==101 and name=='T'\")"
   ]
  },
  {
   "cell_type": "code",
   "execution_count": 41,
   "metadata": {},
   "outputs": [
    {
     "data": {
      "text/plain": [
       "300"
      ]
     },
     "execution_count": 41,
     "metadata": {},
     "output_type": "execute_result"
    }
   ],
   "source": [
    "if chainID == \"A\":\n",
    "    resSeq = 1 + 100\n",
    "    int(new_dna.query(\"resSeq==101 and name=='T'\")[\"serial\"])\n",
    "if chainID == \"B\":\n",
    "    resSeq = 1 + 313\n",
    "    int(new_dna.query(\"resSeq==101 and name=='T'\")[\"serial\"])"
   ]
  },
  {
   "cell_type": "code",
   "execution_count": 52,
   "metadata": {},
   "outputs": [],
   "source": [
    "new_dna = new_dna.query(\"resname in @DNA_resNames\")"
   ]
  },
  {
   "cell_type": "code",
   "execution_count": 88,
   "metadata": {},
   "outputs": [
    {
     "data": {
      "text/html": [
       "<div>\n",
       "<style scoped>\n",
       "    .dataframe tbody tr th:only-of-type {\n",
       "        vertical-align: middle;\n",
       "    }\n",
       "\n",
       "    .dataframe tbody tr th {\n",
       "        vertical-align: top;\n",
       "    }\n",
       "\n",
       "    .dataframe thead th {\n",
       "        text-align: right;\n",
       "    }\n",
       "</style>\n",
       "<table border=\"1\" class=\"dataframe\">\n",
       "  <thead>\n",
       "    <tr style=\"text-align: right;\">\n",
       "      <th></th>\n",
       "      <th>index</th>\n",
       "      <th>recname</th>\n",
       "      <th>serial</th>\n",
       "      <th>name</th>\n",
       "      <th>altLoc</th>\n",
       "      <th>resname</th>\n",
       "      <th>chainID</th>\n",
       "      <th>resSeq</th>\n",
       "      <th>iCode</th>\n",
       "      <th>x</th>\n",
       "      <th>y</th>\n",
       "      <th>z</th>\n",
       "      <th>occupancy</th>\n",
       "      <th>tempFactor</th>\n",
       "      <th>element</th>\n",
       "      <th>charge</th>\n",
       "      <th>type</th>\n",
       "    </tr>\n",
       "  </thead>\n",
       "  <tbody>\n",
       "    <tr>\n",
       "      <td>0</td>\n",
       "      <td>0</td>\n",
       "      <td>ATOM</td>\n",
       "      <td>1</td>\n",
       "      <td>A</td>\n",
       "      <td></td>\n",
       "      <td>DA</td>\n",
       "      <td>A</td>\n",
       "      <td>1</td>\n",
       "      <td></td>\n",
       "      <td>-0.440</td>\n",
       "      <td>2.425</td>\n",
       "      <td>0.012</td>\n",
       "      <td>0.0</td>\n",
       "      <td>0.0</td>\n",
       "      <td>N</td>\n",
       "      <td></td>\n",
       "      <td>A</td>\n",
       "    </tr>\n",
       "    <tr>\n",
       "      <td>1</td>\n",
       "      <td>1</td>\n",
       "      <td>ATOM</td>\n",
       "      <td>2</td>\n",
       "      <td>S</td>\n",
       "      <td></td>\n",
       "      <td>DA</td>\n",
       "      <td>A</td>\n",
       "      <td>1</td>\n",
       "      <td></td>\n",
       "      <td>-2.790</td>\n",
       "      <td>6.611</td>\n",
       "      <td>-0.769</td>\n",
       "      <td>0.0</td>\n",
       "      <td>0.0</td>\n",
       "      <td>H</td>\n",
       "      <td></td>\n",
       "      <td>S</td>\n",
       "    </tr>\n",
       "    <tr>\n",
       "      <td>2</td>\n",
       "      <td>2</td>\n",
       "      <td>ATOM</td>\n",
       "      <td>3</td>\n",
       "      <td>A</td>\n",
       "      <td></td>\n",
       "      <td>DA</td>\n",
       "      <td>A</td>\n",
       "      <td>2</td>\n",
       "      <td></td>\n",
       "      <td>-1.740</td>\n",
       "      <td>1.565</td>\n",
       "      <td>3.231</td>\n",
       "      <td>0.0</td>\n",
       "      <td>0.0</td>\n",
       "      <td>N</td>\n",
       "      <td></td>\n",
       "      <td>A</td>\n",
       "    </tr>\n",
       "    <tr>\n",
       "      <td>3</td>\n",
       "      <td>3</td>\n",
       "      <td>ATOM</td>\n",
       "      <td>4</td>\n",
       "      <td>P</td>\n",
       "      <td></td>\n",
       "      <td>DA</td>\n",
       "      <td>A</td>\n",
       "      <td>2</td>\n",
       "      <td></td>\n",
       "      <td>-5.581</td>\n",
       "      <td>7.213</td>\n",
       "      <td>1.561</td>\n",
       "      <td>0.0</td>\n",
       "      <td>0.0</td>\n",
       "      <td>P</td>\n",
       "      <td></td>\n",
       "      <td>P</td>\n",
       "    </tr>\n",
       "    <tr>\n",
       "      <td>4</td>\n",
       "      <td>4</td>\n",
       "      <td>ATOM</td>\n",
       "      <td>5</td>\n",
       "      <td>S</td>\n",
       "      <td></td>\n",
       "      <td>DA</td>\n",
       "      <td>A</td>\n",
       "      <td>2</td>\n",
       "      <td></td>\n",
       "      <td>-6.079</td>\n",
       "      <td>3.596</td>\n",
       "      <td>2.392</td>\n",
       "      <td>0.0</td>\n",
       "      <td>0.0</td>\n",
       "      <td>H</td>\n",
       "      <td></td>\n",
       "      <td>S</td>\n",
       "    </tr>\n",
       "    <tr>\n",
       "      <td>...</td>\n",
       "      <td>...</td>\n",
       "      <td>...</td>\n",
       "      <td>...</td>\n",
       "      <td>...</td>\n",
       "      <td>...</td>\n",
       "      <td>...</td>\n",
       "      <td>...</td>\n",
       "      <td>...</td>\n",
       "      <td>...</td>\n",
       "      <td>...</td>\n",
       "      <td>...</td>\n",
       "      <td>...</td>\n",
       "      <td>...</td>\n",
       "      <td>...</td>\n",
       "      <td>...</td>\n",
       "      <td>...</td>\n",
       "      <td>...</td>\n",
       "    </tr>\n",
       "    <tr>\n",
       "      <td>1277</td>\n",
       "      <td>1277</td>\n",
       "      <td>ATOM</td>\n",
       "      <td>1278</td>\n",
       "      <td>P</td>\n",
       "      <td></td>\n",
       "      <td>DT</td>\n",
       "      <td>B</td>\n",
       "      <td>427</td>\n",
       "      <td></td>\n",
       "      <td>5.100</td>\n",
       "      <td>-7.850</td>\n",
       "      <td>5.366</td>\n",
       "      <td>0.0</td>\n",
       "      <td>0.0</td>\n",
       "      <td>P</td>\n",
       "      <td></td>\n",
       "      <td>P</td>\n",
       "    </tr>\n",
       "    <tr>\n",
       "      <td>1278</td>\n",
       "      <td>1278</td>\n",
       "      <td>ATOM</td>\n",
       "      <td>1279</td>\n",
       "      <td>S</td>\n",
       "      <td></td>\n",
       "      <td>DT</td>\n",
       "      <td>B</td>\n",
       "      <td>427</td>\n",
       "      <td></td>\n",
       "      <td>1.513</td>\n",
       "      <td>-7.150</td>\n",
       "      <td>4.490</td>\n",
       "      <td>0.0</td>\n",
       "      <td>0.0</td>\n",
       "      <td>H</td>\n",
       "      <td></td>\n",
       "      <td>S</td>\n",
       "    </tr>\n",
       "    <tr>\n",
       "      <td>1279</td>\n",
       "      <td>1279</td>\n",
       "      <td>ATOM</td>\n",
       "      <td>1280</td>\n",
       "      <td>T</td>\n",
       "      <td></td>\n",
       "      <td>DT</td>\n",
       "      <td>B</td>\n",
       "      <td>428</td>\n",
       "      <td></td>\n",
       "      <td>-0.036</td>\n",
       "      <td>-3.380</td>\n",
       "      <td>0.020</td>\n",
       "      <td>0.0</td>\n",
       "      <td>0.0</td>\n",
       "      <td>S</td>\n",
       "      <td></td>\n",
       "      <td>T</td>\n",
       "    </tr>\n",
       "    <tr>\n",
       "      <td>1280</td>\n",
       "      <td>1280</td>\n",
       "      <td>ATOM</td>\n",
       "      <td>1281</td>\n",
       "      <td>P</td>\n",
       "      <td></td>\n",
       "      <td>DT</td>\n",
       "      <td>B</td>\n",
       "      <td>428</td>\n",
       "      <td></td>\n",
       "      <td>-0.345</td>\n",
       "      <td>-9.265</td>\n",
       "      <td>1.840</td>\n",
       "      <td>0.0</td>\n",
       "      <td>0.0</td>\n",
       "      <td>P</td>\n",
       "      <td></td>\n",
       "      <td>P</td>\n",
       "    </tr>\n",
       "    <tr>\n",
       "      <td>1281</td>\n",
       "      <td>1281</td>\n",
       "      <td>ATOM</td>\n",
       "      <td>1282</td>\n",
       "      <td>S</td>\n",
       "      <td></td>\n",
       "      <td>DT</td>\n",
       "      <td>B</td>\n",
       "      <td>428</td>\n",
       "      <td></td>\n",
       "      <td>-2.848</td>\n",
       "      <td>-6.597</td>\n",
       "      <td>0.978</td>\n",
       "      <td>0.0</td>\n",
       "      <td>0.0</td>\n",
       "      <td>H</td>\n",
       "      <td></td>\n",
       "      <td>S</td>\n",
       "    </tr>\n",
       "  </tbody>\n",
       "</table>\n",
       "<p>1282 rows × 17 columns</p>\n",
       "</div>"
      ],
      "text/plain": [
       "      index recname  serial name altLoc resname chainID  resSeq iCode      x  \\\n",
       "0         0    ATOM       1    A             DA       A       1       -0.440   \n",
       "1         1    ATOM       2    S             DA       A       1       -2.790   \n",
       "2         2    ATOM       3    A             DA       A       2       -1.740   \n",
       "3         3    ATOM       4    P             DA       A       2       -5.581   \n",
       "4         4    ATOM       5    S             DA       A       2       -6.079   \n",
       "...     ...     ...     ...  ...    ...     ...     ...     ...   ...    ...   \n",
       "1277   1277    ATOM    1278    P             DT       B     427        5.100   \n",
       "1278   1278    ATOM    1279    S             DT       B     427        1.513   \n",
       "1279   1279    ATOM    1280    T             DT       B     428       -0.036   \n",
       "1280   1280    ATOM    1281    P             DT       B     428       -0.345   \n",
       "1281   1281    ATOM    1282    S             DT       B     428       -2.848   \n",
       "\n",
       "          y      z  occupancy  tempFactor element charge type  \n",
       "0     2.425  0.012        0.0         0.0       N           A  \n",
       "1     6.611 -0.769        0.0         0.0       H           S  \n",
       "2     1.565  3.231        0.0         0.0       N           A  \n",
       "3     7.213  1.561        0.0         0.0       P           P  \n",
       "4     3.596  2.392        0.0         0.0       H           S  \n",
       "...     ...    ...        ...         ...     ...    ...  ...  \n",
       "1277 -7.850  5.366        0.0         0.0       P           P  \n",
       "1278 -7.150  4.490        0.0         0.0       H           S  \n",
       "1279 -3.380  0.020        0.0         0.0       S           T  \n",
       "1280 -9.265  1.840        0.0         0.0       P           P  \n",
       "1281 -6.597  0.978        0.0         0.0       H           S  \n",
       "\n",
       "[1282 rows x 17 columns]"
      ]
     },
     "execution_count": 88,
     "metadata": {},
     "output_type": "execute_result"
    }
   ],
   "source": [
    "new_dna_dna_only"
   ]
  },
  {
   "cell_type": "code",
   "execution_count": 53,
   "metadata": {},
   "outputs": [
    {
     "name": "stdout",
     "output_type": "stream",
     "text": [
      "Empty DataFrame\n",
      "Columns: [recname, serial, name, altLoc, resname, chainID, resSeq, iCode, x, y, z, occupancy, tempFactor, element, charge, type]\n",
      "Index: []\n",
      "Empty DataFrame\n",
      "Columns: [recname, serial, name, altLoc, resname, chainID, resSeq, iCode, x, y, z, occupancy, tempFactor, element, charge, type]\n",
      "Index: []\n",
      "Empty DataFrame\n",
      "Columns: [recname, serial, name, altLoc, resname, chainID, resSeq, iCode, x, y, z, occupancy, tempFactor, element, charge, type]\n",
      "Index: []\n",
      "Empty DataFrame\n",
      "Columns: [recname, serial, name, altLoc, resname, chainID, resSeq, iCode, x, y, z, occupancy, tempFactor, element, charge, type]\n",
      "Index: []\n",
      "Empty DataFrame\n",
      "Columns: [recname, serial, name, altLoc, resname, chainID, resSeq, iCode, x, y, z, occupancy, tempFactor, element, charge, type]\n",
      "Index: []\n"
     ]
    }
   ],
   "source": [
    "k = 1\n",
    "bond_length_cutoff=1.8\n",
    "data = dna.atoms\n",
    "bonds_list = []\n",
    "DNA_resNames = [\"DA\", \"DC\", \"DT\", \"DG\"]\n",
    "interacting_atom = [\"A\", \"C\", \"G\", \"T\"]\n",
    "a = data.query(\"resname in @DNA_resNames\").query(\"name in @interacting_atom\").reset_index(drop=True)\n",
    "n_atom = len(a)\n",
    "for i in range(n_atom):\n",
    "    dna_res_1 = a.iloc[i]\n",
    "    chainID_1 = dna_res_1[\"chainID\"]\n",
    "    for j in range(i+1, n_atom):\n",
    "        dna_res_2 = a.iloc[j]\n",
    "        chainID_2 = dna_res_2[\"chainID\"]\n",
    "        if chainID_1 == chainID_2:\n",
    "            continue\n",
    "        assert chainID_1 == \"A\"\n",
    "        assert chainID_2 == \"B\"\n",
    "        atom1_pos = dna_res_1[[\"x\", \"y\", \"z\"]].values\n",
    "        atom2_pos = dna_res_2[[\"x\", \"y\", \"z\"]].values\n",
    "        dis = atom1_pos - atom2_pos\n",
    "        r = (dis[0]**2 + dis[1]**2 + dis[2]**2)**0.5\n",
    "        r /= 10   # convert to nm\n",
    "        if r > bond_length_cutoff:\n",
    "            # bong length larger than r will be ignored.\n",
    "            continue\n",
    "        # print(i, j, r)\n",
    "        name = dna_res_1[\"name\"]\n",
    "        resSeq = dna_res_1[\"resSeq\"] + 100\n",
    "        target_atom = new_dna_dna_only.query(f\"resSeq=={resSeq} and name=='{name}'\")\n",
    "        if len(target_atom) != 1:\n",
    "            print(target_atom)\n",
    "        else:\n",
    "            serial_1 = int(target_atom[\"index\"])\n",
    "\n",
    "        name = dna_res_2[\"name\"]\n",
    "        resSeq = dna_res_2[\"resSeq\"] + 313\n",
    "        target_atom = new_dna_dna_only.query(f\"resSeq=={resSeq} and name=='{name}'\")\n",
    "        if len(target_atom) != 1:\n",
    "            print(target_atom)\n",
    "        else:\n",
    "            serial_2 = int(target_atom[\"index\"])\n",
    "#         bonds_list.append([dna_res_1[\"serial\"], dna_res_2[\"serial\"], r])\n",
    "        bonds_list.append([serial_1, serial_2, r])"
   ]
  },
  {
   "cell_type": "code",
   "execution_count": 58,
   "metadata": {
    "collapsed": true
   },
   "outputs": [],
   "source": []
  },
  {
   "cell_type": "code",
   "execution_count": 61,
   "metadata": {},
   "outputs": [],
   "source": [
    "a = pd.read_csv(\"/Users/weilu/Research/server/jun_week3_2020/man_made_DNA/bond_info_1mnn_with_long_DNA.csv\", index_col=0)"
   ]
  },
  {
   "cell_type": "code",
   "execution_count": 63,
   "metadata": {},
   "outputs": [
    {
     "name": "stdout",
     "output_type": "stream",
     "text": [
      "300.0 965.0 1.7669660240083849\n",
      "300.0 968.0 1.4419823403911711\n",
      "300.0 971.0 1.2091323500758715\n",
      "300.0 974.0 0.8749505757469962\n",
      "300.0 977.0 0.7367425805530723\n",
      "303.0 962.0 1.6036632876012349\n",
      "303.0 965.0 1.353613319969924\n",
      "303.0 968.0 1.0386278736872032\n",
      "303.0 971.0 0.8429822358745174\n",
      "303.0 974.0 0.5601379651478732\n",
      "303.0 977.0 0.6097265452643506\n",
      "306.0 959.0 1.619531815062612\n",
      "306.0 962.0 1.2704311905805838\n",
      "306.0 965.0 1.0613017525661583\n",
      "306.0 968.0 0.7928380225493729\n",
      "306.0 971.0 0.6846149720828487\n",
      "306.0 974.0 0.5271372971057915\n",
      "306.0 977.0 0.7406163716796976\n",
      "309.0 956.0 1.6124163017037505\n",
      "309.0 959.0 1.4113481391917444\n",
      "309.0 962.0 1.0945667544741164\n",
      "309.0 965.0 0.8713648260057323\n",
      "309.0 968.0 0.6870952917900114\n",
      "309.0 971.0 0.5725176765830033\n",
      "309.0 974.0 0.5682101547843015\n",
      "309.0 977.0 0.8411220957744483\n",
      "312.0 953.0 1.6348273395071418\n",
      "312.0 956.0 1.3210408358563337\n",
      "312.0 959.0 1.146639555396551\n",
      "312.0 962.0 0.8668838215124334\n",
      "312.0 965.0 0.6488138562022241\n",
      "312.0 968.0 0.5919374460194258\n",
      "312.0 971.0 0.6201782727571162\n",
      "312.0 974.0 0.79368345075351\n",
      "312.0 977.0 1.111082400184613\n",
      "315.0 950.0 1.6250679062734577\n",
      "315.0 953.0 1.3396692427610628\n",
      "315.0 956.0 1.0678613486778141\n",
      "315.0 959.0 0.9408995908172134\n",
      "315.0 962.0 0.750834542359367\n",
      "315.0 965.0 0.5551028823560546\n",
      "315.0 968.0 0.6764778858174154\n",
      "315.0 971.0 0.8127016795848275\n",
      "315.0 974.0 1.0848885703149425\n",
      "315.0 977.0 1.4170512658333856\n",
      "318.0 947.0 1.623967764458396\n",
      "318.0 950.0 1.3214224494838884\n",
      "318.0 953.0 1.051448662560374\n",
      "318.0 956.0 0.8069149707373139\n",
      "318.0 959.0 0.6506529412828316\n",
      "318.0 962.0 0.5838506487107811\n",
      "318.0 965.0 0.4866200365788487\n",
      "318.0 968.0 0.7775713086270607\n",
      "318.0 971.0 1.0514000237778196\n",
      "318.0 974.0 1.384488403707304\n",
      "318.0 977.0 1.7447114775801758\n",
      "321.0 944.0 1.6494652284907372\n",
      "321.0 947.0 1.3283097379752962\n",
      "321.0 950.0 1.060682747102073\n",
      "321.0 953.0 0.8442631994822468\n",
      "321.0 956.0 0.693224155666838\n",
      "321.0 959.0 0.5554842482015131\n",
      "321.0 962.0 0.6879523239295001\n",
      "321.0 965.0 0.7097554367526889\n",
      "321.0 968.0 1.0468852181590873\n",
      "321.0 971.0 1.3694193842647329\n",
      "321.0 974.0 1.728484023646154\n",
      "324.0 941.0 1.6514806356721234\n",
      "324.0 944.0 1.3296291400236384\n",
      "324.0 947.0 1.02270498678749\n",
      "324.0 950.0 0.7708999286548159\n",
      "324.0 953.0 0.6076380666153167\n",
      "324.0 956.0 0.5893013999643988\n",
      "324.0 959.0 0.585567331739058\n",
      "324.0 962.0 0.8648608038291478\n",
      "324.0 965.0 1.025158529204142\n",
      "324.0 968.0 1.3759766604125228\n",
      "324.0 971.0 1.7236050301620724\n",
      "327.0 971.0 1.6591810329195542\n",
      "327.0 941.0 1.355141870801725\n",
      "327.0 944.0 1.0748234971380184\n",
      "327.0 947.0 0.821626685301786\n",
      "327.0 950.0 0.6301893207600398\n",
      "327.0 953.0 0.5814130201500481\n",
      "327.0 956.0 0.7100151688520469\n",
      "327.0 959.0 0.7861824597381962\n",
      "327.0 962.0 1.12505753186226\n",
      "327.0 965.0 1.3674423022562965\n",
      "327.0 968.0 1.7218673671337172\n",
      "330.0 968.0 1.3431456547969771\n",
      "330.0 941.0 1.0746917418497268\n",
      "330.0 944.0 0.8573848727380252\n",
      "330.0 947.0 0.6798627361460547\n",
      "330.0 950.0 0.5892929746738885\n",
      "330.0 953.0 0.6794251172866664\n",
      "330.0 956.0 0.9150374254641176\n",
      "330.0 959.0 1.084268901149526\n",
      "330.0 962.0 1.4360348254830035\n",
      "330.0 965.0 1.7312761478169798\n",
      "333.0 965.0 1.0874296896811306\n",
      "333.0 941.0 0.8535850865613812\n",
      "333.0 944.0 0.702520106473829\n",
      "333.0 947.0 0.5857292377882465\n",
      "333.0 950.0 0.5927741644167702\n",
      "333.0 953.0 0.7890060899638229\n",
      "333.0 956.0 1.096442542954258\n",
      "333.0 959.0 1.3677272425450917\n",
      "333.0 962.0 1.7162404202208963\n",
      "336.0 962.0 0.827782181494625\n",
      "336.0 941.0 0.6375246740323081\n",
      "336.0 944.0 0.5879505846582688\n",
      "336.0 947.0 0.5988627973083653\n",
      "336.0 950.0 0.7444102632285505\n",
      "336.0 953.0 1.0198929453624042\n",
      "336.0 956.0 1.3660189456958494\n",
      "336.0 959.0 1.6910005144883897\n",
      "339.0 959.0 0.6201388634813979\n",
      "339.0 941.0 0.5561299848057111\n",
      "339.0 944.0 0.6732684011595969\n",
      "339.0 947.0 0.8158133977816252\n",
      "339.0 950.0 1.0340051982461211\n",
      "339.0 953.0 1.335167408979114\n",
      "339.0 956.0 1.692015162461613\n"
     ]
    }
   ],
   "source": [
    "for i, line in a.iterrows():\n",
    "    atom1 = line[\"atom1\"]\n",
    "    atom2 = line[\"atom2\"]\n",
    "    r = line[\"r\"]\n",
    "    print(atom1, atom2, r)"
   ]
  },
  {
   "cell_type": "code",
   "execution_count": 49,
   "metadata": {},
   "outputs": [
    {
     "data": {
      "text/plain": [
       "'C'"
      ]
     },
     "execution_count": 49,
     "metadata": {},
     "output_type": "execute_result"
    }
   ],
   "source": [
    "dna_res_1[\"name\"]"
   ]
  },
  {
   "cell_type": "code",
   "execution_count": null,
   "metadata": {
    "collapsed": true
   },
   "outputs": [],
   "source": [
    "def dna_constraint_term(dna, k=10*kilocalorie_per_mole, bond_length_cutoff=0.65, forceGroup=19):\n",
    "    print(\"dna_constraint_term is on\")\n",
    "    k = k.value_in_unit(kilojoule_per_mole)\n",
    "    data = dna.atoms\n",
    "    bonds_list = []\n",
    "    DNA_resNames = [\"DA\", \"DC\", \"DT\", \"DG\"]\n",
    "    interacting_atom = [\"A\", \"C\", \"G\", \"T\"]\n",
    "    a = data.query(\"resname in @DNA_resNames\").query(\"name in @interacting_atom\").reset_index(drop=True)\n",
    "    n_atom = len(a)\n",
    "    for i in range(n_atom):\n",
    "        dna_res_1 = a.iloc[i]\n",
    "        chainID_1 = dna_res_1[\"chainID\"]\n",
    "        for j in range(i+1, n_atom):\n",
    "            dna_res_2 = a.iloc[j]\n",
    "            chainID_2 = dna_res_2[\"chainID\"]\n",
    "            if chainID_1 == chainID_2:\n",
    "                continue\n",
    "            atom1_pos = dna_res_1[[\"x\", \"y\", \"z\"]].values\n",
    "            atom2_pos = dna_res_2[[\"x\", \"y\", \"z\"]].values\n",
    "            dis = atom1_pos - atom2_pos\n",
    "            r = (dis[0]**2 + dis[1]**2 + dis[2]**2)**0.5\n",
    "            r /= 10   # convert to nm\n",
    "            if r > bond_length_cutoff:\n",
    "                # bong length larger than r will be ignored.\n",
    "                continue\n",
    "            # print(i, j, r)\n",
    "            bonds_list.append([dna_res_1[\"serial\"], dna_res_2[\"serial\"], r])\n",
    "    bondForce = CustomBondForce(f\"{k}*(r-r0)^2\")\n",
    "    bondForce.addPerBondParameter('r0')\n",
    "    for (atom1, atom2, r) in bonds_list:\n",
    "        # print(atom1, atom2, r)\n",
    "        bondForce.addBond(int(atom1), int(atom2), [r])"
   ]
  },
  {
   "cell_type": "code",
   "execution_count": null,
   "metadata": {
    "collapsed": true
   },
   "outputs": [],
   "source": [
    "cmd = \"cp ../only_protein/setups/1mnn/1mnn-openmmawsem.pdb .\"\n",
    "cmd = \"pdb_chain -C 1mnn-openmmawsem.pdb > 1mnn_chain_C.pdb\"\n",
    "cmd = \"cat DNA_part.pdb >> 1mnn_with_long_DNA.pdb\"\n",
    "cmd = \"cat 1mnn_chain_C.pdb >> 1mnn_with_long_DNA.pdb\"\n"
   ]
  },
  {
   "cell_type": "code",
   "execution_count": 7,
   "metadata": {
    "collapsed": true
   },
   "outputs": [],
   "source": [
    "from pathlib import Path\n",
    "home = str(Path.home())"
   ]
  },
  {
   "cell_type": "code",
   "execution_count": 8,
   "metadata": {},
   "outputs": [
    {
     "data": {
      "text/plain": [
       "'/Users/weilu'"
      ]
     },
     "execution_count": 8,
     "metadata": {},
     "output_type": "execute_result"
    }
   ],
   "source": [
    "home"
   ]
  },
  {
   "cell_type": "code",
   "execution_count": 70,
   "metadata": {
    "scrolled": true
   },
   "outputs": [
    {
     "data": {
      "text/plain": [
       "['T', 'G', 'C', 'G', 'A', 'C', 'A', 'C', 'A', 'A', 'A', 'A', 'A', 'C']"
      ]
     },
     "execution_count": 70,
     "metadata": {},
     "output_type": "execute_result"
    }
   ],
   "source": [
    "first_chain_seq"
   ]
  },
  {
   "cell_type": "code",
   "execution_count": 85,
   "metadata": {},
   "outputs": [
    {
     "data": {
      "text/plain": [
       "'AGTTTTTGTGTCGC'"
      ]
     },
     "execution_count": 85,
     "metadata": {},
     "output_type": "execute_result"
    }
   ],
   "source": [
    "second_chain_seq"
   ]
  },
  {
   "cell_type": "code",
   "execution_count": 68,
   "metadata": {
    "collapsed": true
   },
   "outputs": [],
   "source": [
    "from Bio.Seq import reverse_complement"
   ]
  },
  {
   "cell_type": "code",
   "execution_count": 69,
   "metadata": {},
   "outputs": [
    {
     "data": {
      "text/plain": [
       "'CGAT'"
      ]
     },
     "execution_count": 69,
     "metadata": {},
     "output_type": "execute_result"
    }
   ],
   "source": [
    "reverse_complement(\"ATCG\")"
   ]
  },
  {
   "cell_type": "code",
   "execution_count": 66,
   "metadata": {},
   "outputs": [
    {
     "ename": "AttributeError",
     "evalue": "module 'Bio.Seq' has no attribute 'reverse_complemente'",
     "output_type": "error",
     "traceback": [
      "\u001b[0;31m---------------------------------------------------------------------------\u001b[0m",
      "\u001b[0;31mAttributeError\u001b[0m                            Traceback (most recent call last)",
      "\u001b[0;32m<ipython-input-66-e3cb35c94a9f>\u001b[0m in \u001b[0;36m<module>\u001b[0;34m()\u001b[0m\n\u001b[0;32m----> 1\u001b[0;31m \u001b[0mBio\u001b[0m\u001b[0;34m.\u001b[0m\u001b[0mSeq\u001b[0m\u001b[0;34m.\u001b[0m\u001b[0mreverse_complemente\u001b[0m\u001b[0;34m(\u001b[0m\u001b[0;34m\"ATCG\"\u001b[0m\u001b[0;34m)\u001b[0m\u001b[0;34m\u001b[0m\u001b[0;34m\u001b[0m\u001b[0m\n\u001b[0m",
      "\u001b[0;31mAttributeError\u001b[0m: module 'Bio.Seq' has no attribute 'reverse_complemente'"
     ]
    }
   ],
   "source": [
    "Bio.Seq.reverse_complemente(\"ATCG\")"
   ]
  },
  {
   "cell_type": "code",
   "execution_count": 8,
   "metadata": {
    "collapsed": true
   },
   "outputs": [],
   "source": [
    "# read the DNA seqeunce from the crystal structure.\n",
    "pdb_file = \"/Users/weilu/Research/server/jun_week3_2020/protein_DNA/setups/p_20200619_pdb_4y60_repetition_0_clean.pdb\"\n",
    "dna=open3SPN2.DNA.fromCoarsePDB(pdb_file)"
   ]
  },
  {
   "cell_type": "code",
   "execution_count": 34,
   "metadata": {
    "collapsed": true
   },
   "outputs": [],
   "source": [
    "from simtk.openmm.app import *\n",
    "from simtk.openmm import *\n",
    "from simtk.unit import *\n",
    "from sys import stdout\n",
    "import pandas as pd"
   ]
  },
  {
   "cell_type": "code",
   "execution_count": 43,
   "metadata": {},
   "outputs": [],
   "source": [
    "pdb = PDBFile(pdb_file)"
   ]
  },
  {
   "cell_type": "code",
   "execution_count": 44,
   "metadata": {},
   "outputs": [],
   "source": [
    "a = pdb.getTopology()"
   ]
  },
  {
   "cell_type": "code",
   "execution_count": null,
   "metadata": {
    "collapsed": true
   },
   "outputs": [],
   "source": []
  },
  {
   "cell_type": "code",
   "execution_count": null,
   "metadata": {
    "collapsed": true
   },
   "outputs": [],
   "source": []
  },
  {
   "cell_type": "code",
   "execution_count": 5,
   "metadata": {},
   "outputs": [
    {
     "name": "stdout",
     "output_type": "stream",
     "text": [
      "Bond\n",
      "Angle\n",
      "Stacking\n",
      "Dihedral\n",
      "BasePair\n",
      "CrossStacking\n",
      "Exclusion\n",
      "Electrostatics\n"
     ]
    }
   ],
   "source": [
    "# Initialize the DNA from a sequence.\n",
    "# DNA type can be changed to 'A' or 'B'\n",
    "\n",
    "seq='ATACAAAGGTGCGAGGTTTCTATGCTCCCACG'\n",
    "dna=open3SPN2.DNA.fromSequence(seq,dna_type='B_curved')\n",
    "\n",
    "# Compute the topology for the DNA structure.\n",
    "# Since the dna was generated from the sequence using X3DNA,\n",
    "# it is not necesary to recompute the geometry.\n",
    "\n",
    "dna.computeTopology(template_from_X3DNA=False)\n",
    "\n",
    "# Create the system.\n",
    "# To set periodic boundary conditions (periodicBox=[50,50,50]).\n",
    "# The periodic box size is in nanometers.\n",
    "dna.periodic=False\n",
    "s=open3SPN2.System(dna, periodicBox=None)\n",
    "\n",
    "#Add 3SPN2 forces\n",
    "s.add3SPN2forces(verbose=True)"
   ]
  },
  {
   "cell_type": "code",
   "execution_count": null,
   "metadata": {
    "collapsed": true
   },
   "outputs": [],
   "source": []
  },
  {
   "cell_type": "code",
   "execution_count": 7,
   "metadata": {},
   "outputs": [
    {
     "data": {
      "text/plain": [
       "'/Users/weilu/Research/server/jun_week3_2020/man_made_DNA/test.pdb'"
      ]
     },
     "execution_count": 7,
     "metadata": {},
     "output_type": "execute_result"
    }
   ],
   "source": [
    "dna.writePDB(\"/Users/weilu/Research/server/jun_week3_2020/man_made_DNA/test.pdb\")"
   ]
  },
  {
   "cell_type": "code",
   "execution_count": 10,
   "metadata": {
    "collapsed": true
   },
   "outputs": [],
   "source": [
    "import scipy.spatial.distance as sdist\n",
    "import pandas as pd\n"
   ]
  },
  {
   "cell_type": "code",
   "execution_count": null,
   "metadata": {
    "collapsed": true
   },
   "outputs": [],
   "source": [
    "fix=open3SPN2.fixPDB(pdb)"
   ]
  },
  {
   "cell_type": "code",
   "execution_count": 3,
   "metadata": {
    "collapsed": true
   },
   "outputs": [],
   "source": [
    "pdb_file = \"/Users/weilu/Research/server/jun_week1_2020/protein_DNA_benchmark/DNAProtein_Platform_OpenCL_date_20200226_pdb_1a36_repetition_0_clean.pdb\"\n",
    "seq_file = \"/Users/weilu/Research/server/jun_week1_2020/protein_DNA_benchmark/DNAProtein_Platform_OpenCL_date_20200226_pdb_1a36_repetition_0_protein.seq\"\n",
    "with open(seq_file) as ps:\n",
    "    protein_sequence_one=ps.readlines()[0]\n",
    "protein=ffAWSEM.Protein.fromCoarsePDB(pdb_file,sequence=protein_sequence_one)"
   ]
  },
  {
   "cell_type": "code",
   "execution_count": 6,
   "metadata": {
    "collapsed": true
   },
   "outputs": [],
   "source": [
    "data = protein.atoms"
   ]
  },
  {
   "cell_type": "code",
   "execution_count": 27,
   "metadata": {
    "collapsed": true
   },
   "outputs": [],
   "source": [
    "protein_resNames = [\"NGP\", \"IGL\", \"IPR\", \"NTER\", \"CTER\"]\n",
    "DNA_resNames = [\"DA\", \"DC\", \"DT\", \"DG\"]\n",
    "group1_index = []\n",
    "group2_index = []\n",
    "for i, line in data.iterrows():\n",
    "    resname = line[\"resname\"]\n",
    "    index = line[\"serial\"]\n",
    "    name = line[\"name\"]\n",
    "    if resname in DNA_resNames and name == \"P\":\n",
    "        group1_index.append(index)\n",
    "    if resname in protein_resNames and name == \"CA\":\n",
    "        group2_index.append(index)"
   ]
  },
  {
   "cell_type": "code",
   "execution_count": 11,
   "metadata": {
    "collapsed": true
   },
   "outputs": [],
   "source": [
    "\n",
    "#Calculate native distances\n",
    "CA_atoms=protein.atoms[protein.atoms.name=='CA']\n",
    "P_atoms=protein.atoms[protein.atoms.name=='P']\n",
    "d=sdist.cdist(CA_atoms[['x','y','z']],P_atoms[['x','y','z']])/10 #Distance in nanometers\n",
    "d_sq=pd.DataFrame(d,index=CA_atoms.index,columns=P_atoms.index)\n",
    "d=d_sq.copy()\n",
    "d['Protein']=d.index\n",
    "d=d.melt(id_vars=['Protein'])\n",
    "d=d.rename(columns={'variable': 'DNA', 'value': 'distance'})"
   ]
  },
  {
   "cell_type": "code",
   "execution_count": 23,
   "metadata": {},
   "outputs": [
    {
     "data": {
      "text/html": [
       "<div>\n",
       "<style scoped>\n",
       "    .dataframe tbody tr th:only-of-type {\n",
       "        vertical-align: middle;\n",
       "    }\n",
       "\n",
       "    .dataframe tbody tr th {\n",
       "        vertical-align: top;\n",
       "    }\n",
       "\n",
       "    .dataframe thead th {\n",
       "        text-align: right;\n",
       "    }\n",
       "</style>\n",
       "<table border=\"1\" class=\"dataframe\">\n",
       "  <thead>\n",
       "    <tr style=\"text-align: right;\">\n",
       "      <th></th>\n",
       "      <th>Protein</th>\n",
       "      <th>DNA</th>\n",
       "      <th>distance</th>\n",
       "    </tr>\n",
       "  </thead>\n",
       "  <tbody>\n",
       "    <tr>\n",
       "      <td>352</td>\n",
       "      <td>2209</td>\n",
       "      <td>3</td>\n",
       "      <td>0.993812</td>\n",
       "    </tr>\n",
       "    <tr>\n",
       "      <td>353</td>\n",
       "      <td>2215</td>\n",
       "      <td>3</td>\n",
       "      <td>0.982950</td>\n",
       "    </tr>\n",
       "    <tr>\n",
       "      <td>354</td>\n",
       "      <td>2221</td>\n",
       "      <td>3</td>\n",
       "      <td>0.909546</td>\n",
       "    </tr>\n",
       "    <tr>\n",
       "      <td>356</td>\n",
       "      <td>2233</td>\n",
       "      <td>3</td>\n",
       "      <td>0.853868</td>\n",
       "    </tr>\n",
       "    <tr>\n",
       "      <td>357</td>\n",
       "      <td>2238</td>\n",
       "      <td>3</td>\n",
       "      <td>0.817565</td>\n",
       "    </tr>\n",
       "    <tr>\n",
       "      <td>...</td>\n",
       "      <td>...</td>\n",
       "      <td>...</td>\n",
       "      <td>...</td>\n",
       "    </tr>\n",
       "    <tr>\n",
       "      <td>20757</td>\n",
       "      <td>2315</td>\n",
       "      <td>116</td>\n",
       "      <td>0.692107</td>\n",
       "    </tr>\n",
       "    <tr>\n",
       "      <td>20758</td>\n",
       "      <td>2321</td>\n",
       "      <td>116</td>\n",
       "      <td>0.960002</td>\n",
       "    </tr>\n",
       "    <tr>\n",
       "      <td>20759</td>\n",
       "      <td>2327</td>\n",
       "      <td>116</td>\n",
       "      <td>0.996391</td>\n",
       "    </tr>\n",
       "    <tr>\n",
       "      <td>21132</td>\n",
       "      <td>1272</td>\n",
       "      <td>119</td>\n",
       "      <td>0.958682</td>\n",
       "    </tr>\n",
       "    <tr>\n",
       "      <td>21683</td>\n",
       "      <td>1272</td>\n",
       "      <td>122</td>\n",
       "      <td>0.901890</td>\n",
       "    </tr>\n",
       "  </tbody>\n",
       "</table>\n",
       "<p>268 rows × 3 columns</p>\n",
       "</div>"
      ],
      "text/plain": [
       "       Protein  DNA  distance\n",
       "352       2209    3  0.993812\n",
       "353       2215    3  0.982950\n",
       "354       2221    3  0.909546\n",
       "356       2233    3  0.853868\n",
       "357       2238    3  0.817565\n",
       "...        ...  ...       ...\n",
       "20757     2315  116  0.692107\n",
       "20758     2321  116  0.960002\n",
       "20759     2327  116  0.996391\n",
       "21132     1272  119  0.958682\n",
       "21683     1272  122  0.901890\n",
       "\n",
       "[268 rows x 3 columns]"
      ]
     },
     "execution_count": 23,
     "metadata": {},
     "output_type": "execute_result"
    }
   ],
   "source": [
    "d.query(\"distance < 1\")"
   ]
  },
  {
   "cell_type": "code",
   "execution_count": 17,
   "metadata": {},
   "outputs": [
    {
     "data": {
      "text/plain": [
       "array([3, 6, 9, 12, 15, 18, 21, 24, 27, 30, 33, 36, 39, 42, 45, 48, 51,\n",
       "       54, 57, 60, 63, 68, 71, 74, 77, 80, 83, 86, 89, 92, 95, 98, 101,\n",
       "       104, 107, 110, 113, 116, 119, 122, 125, 128], dtype=object)"
      ]
     },
     "execution_count": 17,
     "metadata": {},
     "output_type": "execute_result"
    }
   ],
   "source": [
    "d[\"DNA\"].unique()"
   ]
  },
  {
   "cell_type": "code",
   "execution_count": 18,
   "metadata": {},
   "outputs": [
    {
     "data": {
      "text/plain": [
       "(23142, 3)"
      ]
     },
     "execution_count": 18,
     "metadata": {},
     "output_type": "execute_result"
    }
   ],
   "source": [
    "d.shape"
   ]
  },
  {
   "cell_type": "code",
   "execution_count": 19,
   "metadata": {},
   "outputs": [
    {
     "data": {
      "text/plain": [
       "578.55"
      ]
     },
     "execution_count": 19,
     "metadata": {},
     "output_type": "execute_result"
    }
   ],
   "source": [
    "23142/40"
   ]
  },
  {
   "cell_type": "code",
   "execution_count": 31,
   "metadata": {
    "collapsed": true
   },
   "outputs": [],
   "source": [
    "data = pd.read_csv(\"/Users/weilu/Research/server/jun_week3_2020/protein_DNA/selected.csv\", index_col=0)\n",
    "\n",
    "sampled = data.sample(6, random_state=28)\n",
    "pdb_list = sampled.idcode.to_list()"
   ]
  },
  {
   "cell_type": "code",
   "execution_count": 38,
   "metadata": {
    "collapsed": true
   },
   "outputs": [],
   "source": []
  },
  {
   "cell_type": "code",
   "execution_count": 41,
   "metadata": {
    "collapsed": true
   },
   "outputs": [],
   "source": [
    "pdb_list = sampled.idcode.to_list()"
   ]
  },
  {
   "cell_type": "code",
   "execution_count": 42,
   "metadata": {
    "collapsed": true
   },
   "outputs": [],
   "source": [
    "pdb_list = [a.lower() for a in pdb_list]"
   ]
  },
  {
   "cell_type": "code",
   "execution_count": 43,
   "metadata": {},
   "outputs": [
    {
     "name": "stdout",
     "output_type": "stream",
     "text": [
      "['4y60', '5ke8', '1a1j', '5lxu', '1skn', '6a2h']\n"
     ]
    }
   ],
   "source": [
    "print(pdb_list)"
   ]
  },
  {
   "cell_type": "code",
   "execution_count": 35,
   "metadata": {},
   "outputs": [
    {
     "data": {
      "text/html": [
       "<div>\n",
       "<style scoped>\n",
       "    .dataframe tbody tr th:only-of-type {\n",
       "        vertical-align: middle;\n",
       "    }\n",
       "\n",
       "    .dataframe tbody tr th {\n",
       "        vertical-align: top;\n",
       "    }\n",
       "\n",
       "    .dataframe thead th {\n",
       "        text-align: right;\n",
       "    }\n",
       "</style>\n",
       "<table border=\"1\" class=\"dataframe\">\n",
       "  <thead>\n",
       "    <tr style=\"text-align: right;\">\n",
       "      <th></th>\n",
       "      <th>Number of missing residues</th>\n",
       "      <th>Resolution</th>\n",
       "      <th>idcode</th>\n",
       "      <th>release_date</th>\n",
       "      <th>First</th>\n",
       "      <th>Chain DNA1 ID</th>\n",
       "      <th>Chain DNA1 Compound</th>\n",
       "      <th>Chain DNA2 ID</th>\n",
       "      <th>Chain DNA2 Compound</th>\n",
       "      <th>Chain Protein ID</th>\n",
       "      <th>Chain Protein Compound</th>\n",
       "    </tr>\n",
       "  </thead>\n",
       "  <tbody>\n",
       "    <tr>\n",
       "      <td>45</td>\n",
       "      <td>11</td>\n",
       "      <td>3.10</td>\n",
       "      <td>6JHE</td>\n",
       "      <td>2020-01-01</td>\n",
       "      <td>3.10</td>\n",
       "      <td>b</td>\n",
       "      <td>dna (5'-d(p*tp*tp*gp*ap*ap*ap*cp*cp*tp*tp*t)-3')</td>\n",
       "      <td>c</td>\n",
       "      <td>dna (5'-d(*ap*ap*ap*gp*gp*tp*tp*tp*cp*ap*a)-3')</td>\n",
       "      <td>a</td>\n",
       "      <td>ecf rna polymerase sigma factor sigw</td>\n",
       "    </tr>\n",
       "    <tr>\n",
       "      <td>59</td>\n",
       "      <td>0</td>\n",
       "      <td>1.90</td>\n",
       "      <td>6QEC</td>\n",
       "      <td>2020-02-05</td>\n",
       "      <td>1.90</td>\n",
       "      <td>u</td>\n",
       "      <td>dna (5'-d(*ap*tp*tp*cp*gp*ap*ap*tp*ap*t*tp*ap*...</td>\n",
       "      <td>b</td>\n",
       "      <td>dna (5'-d(*ap*tp*tp*cp*gp*ap*ap*tp*ap*t*tp*ap*...</td>\n",
       "      <td>a</td>\n",
       "      <td>transcription factor lux</td>\n",
       "    </tr>\n",
       "    <tr>\n",
       "      <td>7</td>\n",
       "      <td>0</td>\n",
       "      <td>2.70</td>\n",
       "      <td>4S2Q</td>\n",
       "      <td>2016-02-17</td>\n",
       "      <td>2.70</td>\n",
       "      <td>a</td>\n",
       "      <td>dna (5'-d(p*ap*gp*gp*cp*tp*tp*tp*gp*tp*tp*cp*t...</td>\n",
       "      <td>b</td>\n",
       "      <td>dna (5'-d(p*ap*gp*gp*ap*gp*ap*ap*cp*ap*ap*ap*g...</td>\n",
       "      <td>d</td>\n",
       "      <td>transcription factor sox-9</td>\n",
       "    </tr>\n",
       "    <tr>\n",
       "      <td>50</td>\n",
       "      <td>7</td>\n",
       "      <td>2.75</td>\n",
       "      <td>5JLX</td>\n",
       "      <td>2016-06-22</td>\n",
       "      <td>2.75</td>\n",
       "      <td>b, e</td>\n",
       "      <td>dna (5'-d(*ap*gp*ap*ap*ap*gp*cp*(c7s)p*ap*tp*t...</td>\n",
       "      <td>c, f</td>\n",
       "      <td>dna (5'-d(*tp*cp*tp*cp*tp*ap*ap*tp*gp*gp*cp*tp...</td>\n",
       "      <td>a, d</td>\n",
       "      <td>homeotic protein antennapedia</td>\n",
       "    </tr>\n",
       "    <tr>\n",
       "      <td>92</td>\n",
       "      <td>3</td>\n",
       "      <td>2.40</td>\n",
       "      <td>3U2B</td>\n",
       "      <td>2011-12-28</td>\n",
       "      <td>2.40</td>\n",
       "      <td>a</td>\n",
       "      <td>dna (5'-d(*gp*tp*cp*tp*cp*tp*ap*tp*tp*gp*tp*cp...</td>\n",
       "      <td>b</td>\n",
       "      <td>dna (5'-d(*cp*cp*ap*gp*gp*ap*cp*ap*ap*tp*ap*gp...</td>\n",
       "      <td>c</td>\n",
       "      <td>transcription factor sox-4</td>\n",
       "    </tr>\n",
       "    <tr>\n",
       "      <td>27</td>\n",
       "      <td>6</td>\n",
       "      <td>1.45</td>\n",
       "      <td>5KL3</td>\n",
       "      <td>2016-09-14</td>\n",
       "      <td>1.45</td>\n",
       "      <td>b</td>\n",
       "      <td>dna (5'-d(*ap*gp*cp*gp*tp*gp*gp*gp*ap*gp*t)-3')</td>\n",
       "      <td>c</td>\n",
       "      <td>dna (5'-d(*tp*ap*cp*tp*cp*cp*cp*ap*cp*gp*c)-3')</td>\n",
       "      <td>a</td>\n",
       "      <td>wilms tumor protein</td>\n",
       "    </tr>\n",
       "  </tbody>\n",
       "</table>\n",
       "</div>"
      ],
      "text/plain": [
       "    Number of missing residues  Resolution idcode release_date  First  \\\n",
       "45                          11        3.10   6JHE   2020-01-01   3.10   \n",
       "59                           0        1.90   6QEC   2020-02-05   1.90   \n",
       "7                            0        2.70   4S2Q   2016-02-17   2.70   \n",
       "50                           7        2.75   5JLX   2016-06-22   2.75   \n",
       "92                           3        2.40   3U2B   2011-12-28   2.40   \n",
       "27                           6        1.45   5KL3   2016-09-14   1.45   \n",
       "\n",
       "   Chain DNA1 ID                                Chain DNA1 Compound  \\\n",
       "45             b   dna (5'-d(p*tp*tp*gp*ap*ap*ap*cp*cp*tp*tp*t)-3')   \n",
       "59             u  dna (5'-d(*ap*tp*tp*cp*gp*ap*ap*tp*ap*t*tp*ap*...   \n",
       "7              a  dna (5'-d(p*ap*gp*gp*cp*tp*tp*tp*gp*tp*tp*cp*t...   \n",
       "50          b, e  dna (5'-d(*ap*gp*ap*ap*ap*gp*cp*(c7s)p*ap*tp*t...   \n",
       "92             a  dna (5'-d(*gp*tp*cp*tp*cp*tp*ap*tp*tp*gp*tp*cp...   \n",
       "27             b    dna (5'-d(*ap*gp*cp*gp*tp*gp*gp*gp*ap*gp*t)-3')   \n",
       "\n",
       "   Chain DNA2 ID                                Chain DNA2 Compound  \\\n",
       "45             c    dna (5'-d(*ap*ap*ap*gp*gp*tp*tp*tp*cp*ap*a)-3')   \n",
       "59             b  dna (5'-d(*ap*tp*tp*cp*gp*ap*ap*tp*ap*t*tp*ap*...   \n",
       "7              b  dna (5'-d(p*ap*gp*gp*ap*gp*ap*ap*cp*ap*ap*ap*g...   \n",
       "50          c, f  dna (5'-d(*tp*cp*tp*cp*tp*ap*ap*tp*gp*gp*cp*tp...   \n",
       "92             b  dna (5'-d(*cp*cp*ap*gp*gp*ap*cp*ap*ap*tp*ap*gp...   \n",
       "27             c    dna (5'-d(*tp*ap*cp*tp*cp*cp*cp*ap*cp*gp*c)-3')   \n",
       "\n",
       "   Chain Protein ID                Chain Protein Compound  \n",
       "45                a  ecf rna polymerase sigma factor sigw  \n",
       "59                a              transcription factor lux  \n",
       "7                 d            transcription factor sox-9  \n",
       "50             a, d         homeotic protein antennapedia  \n",
       "92                c            transcription factor sox-4  \n",
       "27                a                   wilms tumor protein  "
      ]
     },
     "execution_count": 35,
     "metadata": {},
     "output_type": "execute_result"
    }
   ],
   "source": [
    "\n",
    "data.sample(6, random_state=0)"
   ]
  },
  {
   "cell_type": "code",
   "execution_count": 95,
   "metadata": {
    "collapsed": true
   },
   "outputs": [],
   "source": [
    "from Bio.PDB.PDBParser import PDBParser\n",
    "\n",
    "\n",
    "parser = PDBParser(QUIET=True)"
   ]
  },
  {
   "cell_type": "code",
   "execution_count": null,
   "metadata": {
    "collapsed": true
   },
   "outputs": [],
   "source": []
  }
 ],
 "metadata": {
  "kernelspec": {
   "display_name": "Python 3",
   "language": "python",
   "name": "python3"
  },
  "language_info": {
   "codemirror_mode": {
    "name": "ipython",
    "version": 3
   },
   "file_extension": ".py",
   "mimetype": "text/x-python",
   "name": "python",
   "nbconvert_exporter": "python",
   "pygments_lexer": "ipython3",
   "version": "3.6.7"
  }
 },
 "nbformat": 4,
 "nbformat_minor": 2
}
