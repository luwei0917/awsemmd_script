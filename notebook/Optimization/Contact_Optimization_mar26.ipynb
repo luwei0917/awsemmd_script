{
 "cells": [
  {
   "cell_type": "code",
   "execution_count": 2,
   "metadata": {},
   "outputs": [],
   "source": [
    "from pyCodeLib import *\n",
    "import warnings\n",
    "import glob\n",
    "import re\n",
    "import numpy as np\n",
    "import pandas as pd\n",
    "from Bio.PDB.Polypeptide import one_to_three\n",
    "\n",
    "warnings.filterwarnings('ignore')\n",
    "\n",
    "\n",
    "# sys.path.insert(0, MYHOME)\n",
    "%load_ext autoreload\n",
    "%autoreload 2"
   ]
  },
  {
   "cell_type": "code",
   "execution_count": 3,
   "metadata": {},
   "outputs": [],
   "source": [
    "os.chdir(\"/Users/weilu/Research/server/march_2019/optimization_weighted_by_q_iter7/\")"
   ]
  },
  {
   "cell_type": "code",
   "execution_count": 5,
   "metadata": {},
   "outputs": [
    {
     "ename": "NameError",
     "evalue": "name 'dataset' is not defined",
     "output_type": "error",
     "traceback": [
      "\u001b[0;31m---------------------------------------------------------------------------\u001b[0m",
      "\u001b[0;31mNameError\u001b[0m                                 Traceback (most recent call last)",
      "\u001b[0;32m<ipython-input-5-9c7fdc7122f1>\u001b[0m in \u001b[0;36m<module>\u001b[0;34m\u001b[0m\n\u001b[1;32m      2\u001b[0m \u001b[0mold_protein_simulation_list\u001b[0m \u001b[0;34m=\u001b[0m \u001b[0;34m[\u001b[0m\u001b[0;34m\"iter6_30\"\u001b[0m\u001b[0;34m,\u001b[0m \u001b[0;34m\"iter5_30\"\u001b[0m\u001b[0;34m,\u001b[0m \u001b[0;34m\"single\"\u001b[0m\u001b[0;34m,\u001b[0m \u001b[0;34m\"new_iter3_10\"\u001b[0m\u001b[0;34m,\u001b[0m \u001b[0;34m\"iter4_30\"\u001b[0m\u001b[0;34m,\u001b[0m \u001b[0;34m\"iter4_6\"\u001b[0m\u001b[0;34m,\u001b[0m \u001b[0;34m\"iter4_13\"\u001b[0m\u001b[0;34m]\u001b[0m\u001b[0;34m\u001b[0m\u001b[0;34m\u001b[0m\u001b[0m\n\u001b[1;32m      3\u001b[0m \u001b[0msimulation_location_list_dic\u001b[0m \u001b[0;34m=\u001b[0m \u001b[0;34m{\u001b[0m\u001b[0;34m}\u001b[0m\u001b[0;34m\u001b[0m\u001b[0;34m\u001b[0m\u001b[0m\n\u001b[0;32m----> 4\u001b[0;31m \u001b[0;32mfor\u001b[0m \u001b[0mp\u001b[0m \u001b[0;32min\u001b[0m \u001b[0mdataset\u001b[0m\u001b[0;34m[\u001b[0m\u001b[0;34m\"new\"\u001b[0m\u001b[0;34m]\u001b[0m\u001b[0;34m[\u001b[0m\u001b[0;36m0\u001b[0m\u001b[0;34m]\u001b[0m\u001b[0;34m:\u001b[0m\u001b[0;34m\u001b[0m\u001b[0;34m\u001b[0m\u001b[0m\n\u001b[0m\u001b[1;32m      5\u001b[0m     \u001b[0mname\u001b[0m \u001b[0;34m=\u001b[0m \u001b[0mp\u001b[0m\u001b[0;34m.\u001b[0m\u001b[0mlower\u001b[0m\u001b[0;34m(\u001b[0m\u001b[0;34m)\u001b[0m\u001b[0;34m[\u001b[0m\u001b[0;34m:\u001b[0m\u001b[0;36m4\u001b[0m\u001b[0;34m]\u001b[0m\u001b[0;34m\u001b[0m\u001b[0;34m\u001b[0m\u001b[0m\n\u001b[1;32m      6\u001b[0m     \u001b[0msimulation_location_list_dic\u001b[0m\u001b[0;34m[\u001b[0m\u001b[0mname\u001b[0m\u001b[0;34m]\u001b[0m \u001b[0;34m=\u001b[0m \u001b[0mnew_simulation_list\u001b[0m\u001b[0;34m\u001b[0m\u001b[0;34m\u001b[0m\u001b[0m\n",
      "\u001b[0;31mNameError\u001b[0m: name 'dataset' is not defined"
     ]
    }
   ],
   "source": [
    "new_simulation_list = [\"bias_2\",\"bias_old_gamma\", \"iter1_with_bias_96percent\", \"new_iter2_10\", \"new_iter1_90\", \"new_iter2_8\", \"old_new_iter2_8\"]\n",
    "old_protein_simulation_list = [\"iter6_30\", \"iter5_30\", \"single\", \"new_iter3_10\", \"iter4_30\", \"iter4_6\", \"iter4_13\"]\n",
    "simulation_location_list_dic = {}\n",
    "for p in dataset[\"new\"][0]:\n",
    "    name = p.lower()[:4]\n",
    "    simulation_location_list_dic[name] = new_simulation_list\n",
    "for p in dataset[\"old\"][0]:\n",
    "    name = p.lower()[:4]\n",
    "    simulation_location_list_dic[name] = old_protein_simulation_list\n"
   ]
  },
  {
   "cell_type": "code",
   "execution_count": 4,
   "metadata": {},
   "outputs": [
    {
     "ename": "FileNotFoundError",
     "evalue": "[Errno 2] No such file or directory: 'phis/phi_pairwise_contact_well_1fc2_native_4.5_6.5_5.0_10'",
     "output_type": "error",
     "traceback": [
      "\u001b[0;31m---------------------------------------------------------------------------\u001b[0m",
      "\u001b[0;31mFileNotFoundError\u001b[0m                         Traceback (most recent call last)",
      "\u001b[0;32m<ipython-input-4-24183cc7483a>\u001b[0m in \u001b[0;36m<module>\u001b[0;34m\u001b[0m\n\u001b[1;32m      1\u001b[0m \u001b[0mgamma_file_name\u001b[0m \u001b[0;34m=\u001b[0m \u001b[0;34m\"iteration_7_gamma_30.dat\"\u001b[0m\u001b[0;34m\u001b[0m\u001b[0;34m\u001b[0m\u001b[0m\n\u001b[1;32m      2\u001b[0m \u001b[0;34m\u001b[0m\u001b[0m\n\u001b[0;32m----> 3\u001b[0;31m \u001b[0mvalidate_hamiltonian_wei\u001b[0m\u001b[0;34m(\u001b[0m\u001b[0;34m\"phi_list.txt\"\u001b[0m\u001b[0;34m,\u001b[0m \u001b[0;34m\"proteins_name_list.txt\"\u001b[0m\u001b[0;34m,\u001b[0m \u001b[0mgamma_file_name\u001b[0m\u001b[0;34m,\u001b[0m \u001b[0;34m\"lammps\"\u001b[0m\u001b[0;34m,\u001b[0m \u001b[0;36m6000\u001b[0m\u001b[0;34m)\u001b[0m\u001b[0;34m\u001b[0m\u001b[0;34m\u001b[0m\u001b[0m\n\u001b[0m",
      "\u001b[0;32m~/opt/pyCodeLib.py\u001b[0m in \u001b[0;36mvalidate_hamiltonian_wei\u001b[0;34m(hamiltonian, training_set_file, gamma_file_name, training_decoy_method, num_decoys, test_set_file, test_decoy_method, use_filtered_gammas)\u001b[0m\n\u001b[1;32m   2295\u001b[0m \u001b[0;34m\u001b[0m\u001b[0m\n\u001b[1;32m   2296\u001b[0m         z, en, emg, emgstd = evaluate_hamiltonian_wei(\n\u001b[0;32m-> 2297\u001b[0;31m             protein, hamiltonian, training_set_file, gamma_file_name, test_decoy_method, num_decoys, use_filtered_gammas)\n\u001b[0m\u001b[1;32m   2298\u001b[0m         \u001b[0;32mif\u001b[0m \u001b[0mnp\u001b[0m\u001b[0;34m.\u001b[0m\u001b[0misnan\u001b[0m\u001b[0;34m(\u001b[0m\u001b[0mz\u001b[0m\u001b[0;34m)\u001b[0m\u001b[0;34m:\u001b[0m\u001b[0;34m\u001b[0m\u001b[0;34m\u001b[0m\u001b[0m\n\u001b[1;32m   2299\u001b[0m             \u001b[0;32mcontinue\u001b[0m\u001b[0;34m\u001b[0m\u001b[0;34m\u001b[0m\u001b[0m\n",
      "\u001b[0;32m~/opt/pyCodeLib.py\u001b[0m in \u001b[0;36mevaluate_hamiltonian_wei\u001b[0;34m(protein, hamiltonian, training_set_file, gamma_file_name, test_decoy_method, num_decoys, use_filtered_gammas)\u001b[0m\n\u001b[1;32m   2248\u001b[0m     \u001b[0;31m# Find out how many total phi_i there are and get full parameter string\u001b[0m\u001b[0;34m\u001b[0m\u001b[0;34m\u001b[0m\u001b[0;34m\u001b[0m\u001b[0m\n\u001b[1;32m   2249\u001b[0m     total_phis, full_parameters_string, num_phis = get_total_phis_and_parameter_string(\n\u001b[0;32m-> 2250\u001b[0;31m         phi_list, training_set)\n\u001b[0m\u001b[1;32m   2251\u001b[0m     \u001b[0;31m# read in corresponding gammas\u001b[0m\u001b[0;34m\u001b[0m\u001b[0;34m\u001b[0m\u001b[0;34m\u001b[0m\u001b[0m\n\u001b[1;32m   2252\u001b[0m     \u001b[0;32mif\u001b[0m \u001b[0muse_filtered_gammas\u001b[0m\u001b[0;34m:\u001b[0m\u001b[0;34m\u001b[0m\u001b[0;34m\u001b[0m\u001b[0m\n",
      "\u001b[0;32m~/opt/pyCodeLib.py\u001b[0m in \u001b[0;36mget_total_phis_and_parameter_string\u001b[0;34m(phi_list, training_set)\u001b[0m\n\u001b[1;32m   1377\u001b[0m                 \u001b[0;32mbreak\u001b[0m\u001b[0;34m\u001b[0m\u001b[0;34m\u001b[0m\u001b[0m\n\u001b[1;32m   1378\u001b[0m             input_file = open(os.path.join(phis_directory, \"%s_%s_native_%s\" % (\n\u001b[0;32m-> 1379\u001b[0;31m                 phi, protein, parameters_string)), 'r')\n\u001b[0m\u001b[1;32m   1380\u001b[0m             \u001b[0;32mfor\u001b[0m \u001b[0mline\u001b[0m \u001b[0;32min\u001b[0m \u001b[0minput_file\u001b[0m\u001b[0;34m:\u001b[0m\u001b[0;34m\u001b[0m\u001b[0;34m\u001b[0m\u001b[0m\n\u001b[1;32m   1381\u001b[0m                 \u001b[0mline\u001b[0m \u001b[0;34m=\u001b[0m \u001b[0mline\u001b[0m\u001b[0;34m.\u001b[0m\u001b[0mstrip\u001b[0m\u001b[0;34m(\u001b[0m\u001b[0;34m)\u001b[0m\u001b[0;34m.\u001b[0m\u001b[0msplit\u001b[0m\u001b[0;34m(\u001b[0m\u001b[0;34m)\u001b[0m\u001b[0;34m\u001b[0m\u001b[0;34m\u001b[0m\u001b[0m\n",
      "\u001b[0;31mFileNotFoundError\u001b[0m: [Errno 2] No such file or directory: 'phis/phi_pairwise_contact_well_1fc2_native_4.5_6.5_5.0_10'"
     ]
    }
   ],
   "source": [
    "gamma_file_name = \"iteration_7_gamma_30.dat\"\n",
    "\n",
    "validate_hamiltonian_wei(\"phi_list.txt\", \"proteins_name_list.txt\", gamma_file_name, \"lammps\", 6000, mode=2, simulation_location_list_dic=simulation_location_list_dic)"
   ]
  },
  {
   "cell_type": "code",
   "execution_count": null,
   "metadata": {},
   "outputs": [],
   "source": []
  }
 ],
 "metadata": {
  "kernelspec": {
   "display_name": "Python 3",
   "language": "python",
   "name": "python3"
  },
  "language_info": {
   "codemirror_mode": {
    "name": "ipython",
    "version": 3
   },
   "file_extension": ".py",
   "mimetype": "text/x-python",
   "name": "python",
   "nbconvert_exporter": "python",
   "pygments_lexer": "ipython3",
   "version": "3.6.8"
  }
 },
 "nbformat": 4,
 "nbformat_minor": 2
}
