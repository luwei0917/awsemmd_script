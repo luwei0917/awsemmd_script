{
 "cells": [
  {
   "cell_type": "code",
   "execution_count": 126,
   "metadata": {},
   "outputs": [
    {
     "name": "stdout",
     "output_type": "stream",
     "text": [
      "The autoreload extension is already loaded. To reload it, use:\n",
      "  %reload_ext autoreload\n"
     ]
    }
   ],
   "source": [
    "import os\n",
    "import sys\n",
    "import random\n",
    "import time\n",
    "from random import seed, randint\n",
    "import argparse\n",
    "import platform\n",
    "from datetime import datetime\n",
    "import imp\n",
    "import numpy as np\n",
    "import fileinput\n",
    "from itertools import product\n",
    "import pandas as pd\n",
    "from scipy.interpolate import griddata\n",
    "from scipy.interpolate import interp2d\n",
    "import seaborn as sns\n",
    "from os import listdir\n",
    "\n",
    "import matplotlib.pyplot as plt\n",
    "import seaborn as sns\n",
    "from scipy.interpolate import griddata\n",
    "import matplotlib as mpl\n",
    "sys.path.insert(0,'..')\n",
    "# from notebookFunctions import *\n",
    "# from .. import notebookFunctions\n",
    "\n",
    "%matplotlib inline\n",
    "plt.rcParams['figure.figsize'] = (10,6.180)    #golden ratio\n",
    "# %matplotlib notebook\n",
    "%load_ext autoreload\n",
    "%autoreload 2\n",
    "\n",
    "import sys\n",
    "sys.path.insert(0, '/Users/weilu/openmmawsem/')\n",
    "\n",
    "from openmmawsem import *"
   ]
  },
  {
   "cell_type": "code",
   "execution_count": 2,
   "metadata": {
    "collapsed": true
   },
   "outputs": [],
   "source": [
    "os.chdir(\"/Users/weilu/openmmawsem/_local/quick_run_nov16/\")"
   ]
  },
  {
   "cell_type": "code",
   "execution_count": 3,
   "metadata": {
    "collapsed": true
   },
   "outputs": [],
   "source": [
    "def download(pdb_id):\n",
    "    if not os.path.isfile(f\"{pdb_id}.pdb\"):\n",
    "        PDBList().retrieve_pdb_file(pdb_id.lower(), pdir='.', file_format='pdb')\n",
    "        os.rename(\"pdb%s.ent\" % pdb_id, f\"{pdb_id}.pdb\")"
   ]
  },
  {
   "cell_type": "code",
   "execution_count": 4,
   "metadata": {},
   "outputs": [
    {
     "name": "stdout",
     "output_type": "stream",
     "text": [
      "Reorder atom position\n",
      "Original, Changed to\n",
      "1042 N ,  1042 N\n",
      "1043 H ,  1043 H\n",
      "1044 C ,  1046 CA\n",
      "1045 O ,  1044 C\n",
      "1046 CA ,  1045 O\n",
      "1047 CB ,  1047 CB\n"
     ]
    },
    {
     "data": {
      "text/plain": [
       "'ERAGPVTWVMMIACVVVFIAMQILGDQEVMLWLAWPFDPTLKFEFWRYFTHALMHFSLMHILFNLLWWWYLGGAVEKRLGSGKLIVITLISALLSGYVQQKFSGPWFGGLSGVVYALMGYVWLRGERDPQSGIYLQRGLIIFALIWIVAGWFDLFGMSMANGAHIAGLAVGLAMAFVDSLN'"
      ]
     },
     "execution_count": 4,
     "metadata": {},
     "output_type": "execute_result"
    }
   ],
   "source": [
    "simulation_platform = \"OpenCL\" # OpenCL, CUDA, CPU, or Reference\n",
    "pdb_id = '2xov'\n",
    "pdb = f\"{pdb_id}.pdb\"\n",
    "chain='A'\n",
    "\n",
    "download(pdb_id)\n",
    "os.system(\"cp /Users/weilu/opt/parameters/globular_parameters/burial_gamma.dat .\")\n",
    "os.system(\"cp /Users/weilu/opt/parameters/globular_parameters/gamma.dat .\")\n",
    "input_pdb_filename, cleaned_pdb_filename = prepare_pdb(pdb, chain)\n",
    "ensure_atom_order(input_pdb_filename)\n",
    "getSeqFromCleanPdb(input_pdb_filename, chains='A')"
   ]
  },
  {
   "cell_type": "code",
   "execution_count": 92,
   "metadata": {},
   "outputs": [
    {
     "data": {
      "text/plain": [
       "0"
      ]
     },
     "execution_count": 92,
     "metadata": {},
     "output_type": "execute_result"
    }
   ],
   "source": [
    "# setup system\n",
    "os.system(\"cp ~/opt/database/cullpdb_pc80_* .\")\n",
    "os.system(\"python2 ~/opt/script/MultCha_prepFrags_index.py \\\n",
    "    cullpdb_pc80_res3.0_R1.0_d160504_chains29712 %s.fasta 20 1 9 > logfile\" % pdb_id)"
   ]
  },
  {
   "cell_type": "code",
   "execution_count": 125,
   "metadata": {},
   "outputs": [
    {
     "name": "stdout",
     "output_type": "stream",
     "text": [
      "Reading Fragment table. from ./frag_table.npy.\n",
      "#\"Step\",\"Potential Energy (kJ/mole)\",\"Temperature (K)\"\n",
      "1000,-4439.0380859375,276.7474416253649\n",
      "2000,-4391.15234375,299.1971234907612\n",
      "3000,-4686.6181640625,303.72159831439734\n",
      "4000,-4656.96044921875,305.3432530305844\n",
      "5000,-4692.427734375,292.81708005238204\n",
      "6000,-4761.015625,284.509277566068\n",
      "7000,-4744.38623046875,294.06852027668566\n",
      "8000,-4787.18115234375,298.5820618815759\n",
      "9000,-4800.2548828125,295.5694725023697\n",
      "10000,-4942.6005859375,287.2937044496808\n"
     ]
    }
   ],
   "source": [
    "reporter_frequency = 1000\n",
    "oa = OpenMMAWSEMSystem(input_pdb_filename, k_awsem=1.0, xml_filename=\"../../awsem.xml\") # k_awsem is an overall scaling factor that will affect the relevant temperature scales\n",
    "\n",
    "# apply forces\n",
    "forces = [\n",
    "    oa.con_term(),\n",
    "    oa.chain_term(),\n",
    "    oa.chi_term(),\n",
    "    oa.excl_term(),\n",
    "    oa.rama_term(),\n",
    "    oa.rama_proline_term(),\n",
    "    oa.direct_term(),\n",
    "    oa.burial_term(),\n",
    "    oa.mediated_term(),\n",
    "    oa.fragment_memory_term(frag_location_pre=\"./\")\n",
    "]\n",
    "oa.addForces(forces)\n",
    "\n",
    "# start simulation\n",
    "collision_rate = 5.0 / picoseconds\n",
    "\n",
    "integrator = LangevinIntegrator(300*kelvin, 1/picosecond, 2*femtoseconds)\n",
    "simulation = Simulation(oa.pdb.topology, oa.system, integrator, Platform.getPlatformByName(simulation_platform))\n",
    "simulation.context.setPositions(oa.pdb.positions) # set the initial positions of the atoms\n",
    "# simulation.context.setVelocitiesToTemperature(300*kelvin) # set the initial velocities of the atoms according to the desired starting temperature\n",
    "simulation.minimizeEnergy() # first, minimize the energy to a local minimum to reduce any large forces that might be present\n",
    "simulation.reporters.append(StateDataReporter(stdout, reporter_frequency, step=True, potentialEnergy=True, temperature=True)) # output energy and temperature during simulation\n",
    "simulation.reporters.append(PDBReporter(\"movie.pdb\", reporter_frequency)) # output PDBs of simulated structures\n",
    "simulation.step(int(1e4))\n",
    "# simulation.reporters.append(CheckpointReporter(checkpoint_file, checkpoint_reporter_frequency)) # save progress during the simulation\n"
   ]
  },
  {
   "cell_type": "code",
   "execution_count": 15,
   "metadata": {},
   "outputs": [
    {
     "ename": "TypeError",
     "evalue": "'NoneType' object is not iterable",
     "output_type": "error",
     "traceback": [
      "\u001b[0;31m---------------------------------------------------------------------------\u001b[0m",
      "\u001b[0;31mTypeError\u001b[0m                                 Traceback (most recent call last)",
      "\u001b[0;32m<ipython-input-15-7b21459014fb>\u001b[0m in \u001b[0;36m<module>\u001b[0;34m()\u001b[0m\n\u001b[1;32m     13\u001b[0m }\n\u001b[1;32m     14\u001b[0m \u001b[0;34m\u001b[0m\u001b[0m\n\u001b[0;32m---> 15\u001b[0;31m \u001b[0morder_parameters\u001b[0m\u001b[0;34m,\u001b[0m \u001b[0mmdtraj_order_parameters\u001b[0m \u001b[0;34m=\u001b[0m \u001b[0mcompute_order_parameters\u001b[0m\u001b[0;34m(\u001b[0m\u001b[0minput_pdb_filename\u001b[0m\u001b[0;34m,\u001b[0m \u001b[0;34m\"movie.pdb\"\u001b[0m\u001b[0;34m,\u001b[0m \u001b[0morder_parameters_to_compute\u001b[0m\u001b[0;34m.\u001b[0m\u001b[0mvalues\u001b[0m\u001b[0;34m(\u001b[0m\u001b[0;34m)\u001b[0m\u001b[0;34m,\u001b[0m \u001b[0mxml_filename\u001b[0m\u001b[0;34m=\u001b[0m\u001b[0;34m\"../../awsem.xml\"\u001b[0m\u001b[0;34m)\u001b[0m\u001b[0;34m\u001b[0m\u001b[0m\n\u001b[0m\u001b[1;32m     16\u001b[0m \u001b[0morder_parameter_names\u001b[0m \u001b[0;34m=\u001b[0m \u001b[0mlist\u001b[0m\u001b[0;34m(\u001b[0m\u001b[0morder_parameters_to_compute\u001b[0m\u001b[0;34m.\u001b[0m\u001b[0mkeys\u001b[0m\u001b[0;34m(\u001b[0m\u001b[0;34m)\u001b[0m\u001b[0;34m)\u001b[0m\u001b[0;34m\u001b[0m\u001b[0m\n",
      "\u001b[0;32m~/openmmawsem/openmmawsem.py\u001b[0m in \u001b[0;36mcompute_order_parameters\u001b[0;34m(openmm_awsem_pdb_file, pdb_trajectory_filename, order_parameters, platform_name, k_awsem, compute_mdtraj, rmsd_reference_structure, compute_total_energy, energy_columns, xml_filename)\u001b[0m\n\u001b[1;32m   1145\u001b[0m         \u001b[0morder_parameter_values\u001b[0m\u001b[0;34m.\u001b[0m\u001b[0mappend\u001b[0m\u001b[0;34m(\u001b[0m\u001b[0;34m[\u001b[0m\u001b[0;34m]\u001b[0m\u001b[0;34m)\u001b[0m\u001b[0;34m\u001b[0m\u001b[0m\n\u001b[1;32m   1146\u001b[0m         \u001b[0;32mfor\u001b[0m \u001b[0mi\u001b[0m \u001b[0;32min\u001b[0m \u001b[0mrange\u001b[0m\u001b[0;34m(\u001b[0m\u001b[0mlen\u001b[0m\u001b[0;34m(\u001b[0m\u001b[0mpdb_trajectory\u001b[0m\u001b[0;34m)\u001b[0m\u001b[0;34m)\u001b[0m\u001b[0;34m:\u001b[0m\u001b[0;34m\u001b[0m\u001b[0m\n\u001b[0;32m-> 1147\u001b[0;31m             \u001b[0morder_parameter_values\u001b[0m\u001b[0;34m[\u001b[0m\u001b[0;34m-\u001b[0m\u001b[0;36m1\u001b[0m\u001b[0;34m]\u001b[0m\u001b[0;34m.\u001b[0m\u001b[0mappend\u001b[0m\u001b[0;34m(\u001b[0m\u001b[0mnp\u001b[0m\u001b[0;34m.\u001b[0m\u001b[0msum\u001b[0m\u001b[0;34m(\u001b[0m\u001b[0;34m[\u001b[0m\u001b[0morder_parameter_values\u001b[0m\u001b[0;34m[\u001b[0m\u001b[0mx\u001b[0m\u001b[0;34m-\u001b[0m\u001b[0;36m1\u001b[0m\u001b[0;34m]\u001b[0m\u001b[0;34m[\u001b[0m\u001b[0mi\u001b[0m\u001b[0;34m]\u001b[0m \u001b[0;32mfor\u001b[0m \u001b[0mx\u001b[0m \u001b[0;32min\u001b[0m \u001b[0menergy_columns\u001b[0m\u001b[0;34m]\u001b[0m\u001b[0;34m)\u001b[0m\u001b[0;34m)\u001b[0m\u001b[0;34m\u001b[0m\u001b[0m\n\u001b[0m\u001b[1;32m   1148\u001b[0m     \u001b[0;32mif\u001b[0m \u001b[0;32mnot\u001b[0m \u001b[0mcompute_mdtraj\u001b[0m\u001b[0;34m:\u001b[0m\u001b[0;34m\u001b[0m\u001b[0m\n\u001b[1;32m   1149\u001b[0m         \u001b[0;32mreturn\u001b[0m \u001b[0mnp\u001b[0m\u001b[0;34m.\u001b[0m\u001b[0marray\u001b[0m\u001b[0;34m(\u001b[0m\u001b[0morder_parameter_values\u001b[0m\u001b[0;34m)\u001b[0m\u001b[0;34m\u001b[0m\u001b[0m\n",
      "\u001b[0;31mTypeError\u001b[0m: 'NoneType' object is not iterable"
     ]
    }
   ],
   "source": [
    "# when simulation is complete, compute order parameters and energies\n",
    "oa = OpenMMAWSEMSystem(input_pdb_filename, k_awsem=1.0, xml_filename=\"../../awsem.xml\") # k_awsem is an overall scaling factor that will affect the relevant q scales\n",
    "order_parameters_to_compute = {\n",
    "    \"Qvalue\": oa.q_value(cleaned_pdb_filename, chain, min_seq_sep=3, max_seq_sep=np.inf), \n",
    "#       \"Con\": oa.con_term(k_con=k_con),\n",
    "#     \"Chain\": oa.chain_term(k_chain=k_chain),\n",
    "#     \"Chi\": oa.chi_term(k_chi=k_chi),\n",
    "#     \"Excl\": oa.excl_term(k_excl=k_excl),\n",
    "#     \"Rama\": oa.rama_term(k_rama=k_rama),\n",
    "#     \"RamaPro\": oa.rama_proline_term(k_rama_proline=k_rama_proline),\n",
    "#     \"ddAM\": oa.density_dependent_associative_memory_term(memories, k_am_dd=k_am_dd, am_dd_min_seq_sep=am_dd_min_seq_sep, am_dd_max_seq_sep=am_dd_max_seq_sep, density_alpha=density_alpha, density_normalization=density_normalization, rho0=rho0, density_min_seq_sep=density_min_seq_sep, am_well_width=am_well_width, density_only_from_native_contacts=density_only_from_native_contacts, density_pdb_file=density_pdb_file, density_chain_name=density_chain_name, density_native_contact_min_seq_sep=density_native_contact_min_seq_sep, density_native_contact_threshold=density_native_contact_threshold),\n",
    "#     \"AMHGo\": oa.additive_amhgo_term(cleaned_pdb_filename, amhgo_chain, k_amhgo=k_amhgo, amhgo_min_seq_sep=amhgo_min_seq_sep, amhgo_contact_threshold=amhgo_contact_threshold, amhgo_well_width=amhgo_well_width),\n",
    "}\n",
    "\n",
    "order_parameters, mdtraj_order_parameters = compute_order_parameters(input_pdb_filename, \"movie.pdb\", order_parameters_to_compute.values(), xml_filename=\"../../awsem.xml\")\n",
    "order_parameter_names = list(order_parameters_to_compute.keys())"
   ]
  },
  {
   "cell_type": "code",
   "execution_count": 117,
   "metadata": {
    "collapsed": true
   },
   "outputs": [],
   "source": [
    "pdb_trajectory = read_trajectory_pdb_positions(\"movie.pdb\")\n",
    "oa = OpenMMAWSEMSystem(input_pdb_filename, k_awsem=1.0, xml_filename=\"../../awsem.xml\") # k_awsem is an overall scaling factor that will affect the relevant temperature scales\n",
    "\n",
    "# apply forces\n",
    "forces = [\n",
    "    oa.con_term(),\n",
    "    oa.chain_term(),\n",
    "#     oa.chi_term(),\n",
    "#     oa.excl_term(),\n",
    "#     oa.rama_term(),\n",
    "#     oa.rama_proline_term(),\n",
    "#     oa.direct_term(),\n",
    "#     oa.burial_term(),\n",
    "#     oa.mediated_term(),\n",
    "#     oa.fragment_memory_term(frag_location_pre=\"./\")\n",
    "]\n",
    "oa.addForces(forces)\n",
    "\n",
    "# start simulation\n",
    "collision_rate = 5.0 / picoseconds\n",
    "\n",
    "integrator = LangevinIntegrator(300*kelvin, 1/picosecond, 2*femtoseconds)\n",
    "simulation = Simulation(oa.pdb.topology, oa.system, integrator, Platform.getPlatformByName(simulation_platform))"
   ]
  },
  {
   "cell_type": "code",
   "execution_count": 119,
   "metadata": {},
   "outputs": [
    {
     "name": "stdout",
     "output_type": "stream",
     "text": [
      "550.2899169921875\n",
      "498.27032470703125\n",
      "576.870361328125\n",
      "582.57080078125\n",
      "596.3624267578125\n",
      "553.7578735351562\n",
      "560.9185791015625\n",
      "508.0758361816406\n",
      "549.3898315429688\n",
      "552.7684326171875\n"
     ]
    }
   ],
   "source": [
    "for pdb in pdb_trajectory:\n",
    "    simulation.context.setPositions(pdb.positions)\n",
    "    state = simulation.context.getState(getEnergy=True, groups={2})\n",
    "    print(state.getPotentialEnergy().value_in_unit(kilojoule_per_mole))"
   ]
  },
  {
   "cell_type": "code",
   "execution_count": 116,
   "metadata": {},
   "outputs": [
    {
     "name": "stdout",
     "output_type": "stream",
     "text": [
      "550.2899169921875\n",
      "498.27032470703125\n",
      "576.870361328125\n",
      "582.57080078125\n",
      "596.3624267578125\n",
      "553.7578735351562\n",
      "560.9185791015625\n",
      "508.0758361816406\n",
      "549.3898315429688\n",
      "552.7684326171875\n"
     ]
    }
   ],
   "source": [
    "for pdb in pdb_trajectory:\n",
    "    simulation.context.setPositions(pdb.positions)\n",
    "    state = simulation.context.getState(getEnergy=True, groups={2})\n",
    "    print(state.getPotentialEnergy().value_in_unit(kilojoule_per_mole))"
   ]
  },
  {
   "cell_type": "code",
   "execution_count": 81,
   "metadata": {},
   "outputs": [
    {
     "data": {
      "text/plain": [
       "32"
      ]
     },
     "execution_count": 81,
     "metadata": {},
     "output_type": "execute_result"
    }
   ],
   "source": [
    "60&(1<<5)"
   ]
  },
  {
   "cell_type": "code",
   "execution_count": 39,
   "metadata": {},
   "outputs": [
    {
     "data": {
      "text/plain": [
       "8"
      ]
     },
     "execution_count": 39,
     "metadata": {},
     "output_type": "execute_result"
    }
   ],
   "source": [
    "1<<3"
   ]
  },
  {
   "cell_type": "code",
   "execution_count": 51,
   "metadata": {},
   "outputs": [
    {
     "name": "stdout",
     "output_type": "stream",
     "text": [
      "776.7666015625\n",
      "773.289794921875\n",
      "825.0230102539062\n",
      "753.042236328125\n",
      "896.6956787109375\n",
      "829.68505859375\n",
      "746.64794921875\n",
      "816.7725830078125\n",
      "824.6434326171875\n",
      "772.7034912109375\n"
     ]
    }
   ],
   "source": [
    "for pdb in pdb_trajectory:\n",
    "    simulation.context.setPositions(pdb.positions)\n",
    "    state = simulation.context.getState(getEnergy=True)\n",
    "    print(state.getPotentialEnergy().value_in_unit(kilojoule_per_mole))"
   ]
  },
  {
   "cell_type": "code",
   "execution_count": 26,
   "metadata": {},
   "outputs": [
    {
     "name": "stdout",
     "output_type": "stream",
     "text": [
      "932.834228515625\n",
      "936.1502685546875\n",
      "959.645263671875\n",
      "868.6181640625\n",
      "1099.9014892578125\n",
      "982.6143188476562\n",
      "932.326416015625\n",
      "981.8992309570312\n",
      "1006.880615234375\n",
      "943.318115234375\n"
     ]
    }
   ],
   "source": [
    "for pdb in pdb_trajectory:\n",
    "    simulation.context.setPositions(pdb.positions)\n",
    "    state = simulation.context.getState(getEnergy=True, groups=10)\n",
    "    print(state.getPotentialEnergy().value_in_unit(kilojoule_per_mole))"
   ]
  },
  {
   "cell_type": "code",
   "execution_count": null,
   "metadata": {
    "collapsed": true
   },
   "outputs": [],
   "source": []
  },
  {
   "cell_type": "code",
   "execution_count": null,
   "metadata": {
    "collapsed": true
   },
   "outputs": [],
   "source": [
    "pdb = PDBFile('input.pdb')\n",
    "forcefield = ForceField('amber14-all.xml', 'amber14/tip3pfb.xml')\n",
    "system = forcefield.createSystem(pdb.topology, nonbondedMethod=PME, nonbondedCutoff=1*nanometer, constraints=HBonds)\n",
    "integrator = LangevinIntegrator(300*kelvin, 1/picosecond, 0.002*picoseconds)\n",
    "simulation = Simulation(pdb.topology, system, integrator)\n",
    "simulation.context.setPositions(pdb.positions)\n",
    "simulation.minimizeEnergy()\n",
    "simulation.reporters.append(PDBReporter('output.pdb', 1000))\n",
    "simulation.reporters.append(StateDataReporter(stdout, 1000, step=True, potentialEnergy=True, temperature=True))\n",
    "simulation.step(10000)"
   ]
  },
  {
   "cell_type": "code",
   "execution_count": null,
   "metadata": {
    "collapsed": true
   },
   "outputs": [],
   "source": []
  },
  {
   "cell_type": "code",
   "execution_count": 10,
   "metadata": {},
   "outputs": [
    {
     "data": {
      "text/plain": [
       "0"
      ]
     },
     "execution_count": 10,
     "metadata": {},
     "output_type": "execute_result"
    }
   ],
   "source": [
    "os.system(\"rm frag_table.npy\")"
   ]
  },
  {
   "cell_type": "code",
   "execution_count": null,
   "metadata": {
    "collapsed": true
   },
   "outputs": [],
   "source": [
    "Reading Fragment table. from ./frag_table.npy.\n",
    "#\"Step\",\"Potential Energy (kJ/mole)\",\"Temperature (K)\"\n",
    "1000,-4510.03955078125,289.49342994803334\n",
    "2000,-4486.85791015625,286.18904447834353\n",
    "3000,-4600.8193359375,299.4729686118679\n",
    "4000,-4694.6376953125,318.32629703025185\n",
    "5000,-4604.8271484375,308.2551570043043\n",
    "6000,-4745.29638671875,295.0853847360626\n",
    "7000,-4794.03515625,311.2622238551447\n",
    "8000,-4851.67919921875,300.7594704431106\n",
    "9000,-4852.998046875,296.65048061625595\n",
    "10000,-4909.064453125,302.2931345473861"
   ]
  },
  {
   "cell_type": "code",
   "execution_count": null,
   "metadata": {
    "collapsed": true
   },
   "outputs": [],
   "source": [
    "def ensure_atom_order(input_pdb_filename):\n",
    "    # ensure order of ['n', 'h', 'ca', 'c', 'o', 'cb']\n",
    "    # to be more specific, this ensure 'ca' always show up before 'c'.\n",
    "    def first(t):\n",
    "        return t[0]\n",
    "    order_table = {'N':0, 'H':1, 'CA':2, 'C':3, 'O':4, 'CB':5}\n",
    "    one_residue = []\n",
    "    with open(\"tmp.pdb\", \"w\") as out:\n",
    "        with open(input_pdb_filename, \"r\") as f:\n",
    "            pre = \"CB\"\n",
    "            all_lines = f.readlines()\n",
    "    #         print(all_lines)\n",
    "            pre_res_id = all_lines[0].split()[5]\n",
    "            for line in all_lines:\n",
    "                info = line.split()\n",
    "                if info[0]!=\"ATOM\":\n",
    "                    sorted_residue = sorted(one_residue, key=first)\n",
    "                    for a in sorted_residue:\n",
    "                        out.write(a[1])\n",
    "                    one_residue = []\n",
    "                    out.write(line)\n",
    "                    continue\n",
    "                res_id = info[5]\n",
    "                if res_id != pre_res_id:\n",
    "                    pre_res_id = res_id\n",
    "                    # sort them in order\n",
    "                    sorted_residue = sorted(one_residue, key=first)\n",
    "                    for a in sorted_residue:\n",
    "                        out.write(a[1])\n",
    "                    if sorted_residue != one_residue:\n",
    "                        print(\"Reorder atom position\")\n",
    "                        print(\"Original, Changed to\")\n",
    "                        for i, t in zip(one_residue, sorted_residue):\n",
    "                            print(i[2], i[3], \", \", t[2], t[3])\n",
    "                    one_residue = []\n",
    "                atomType = info[2]\n",
    "                one_residue.append((order_table[atomType], line, info[1], atomType))\n",
    "    os.system(f\"mv tmp.pdb {input_pdb_filename}\")"
   ]
  },
  {
   "cell_type": "code",
   "execution_count": null,
   "metadata": {
    "collapsed": true
   },
   "outputs": [],
   "source": [
    "ThreeToOne = {'ALA':'A','ARG':'R','ASN':'N','ASP':'D','CYS':'C','GLU':'E','GLN':'Q','GLY':'G','HIS':'H',\n",
    "           'ILE':'I','LEU':'L','LYS':'K','MET':'M','PHE':'F','PRO':'P','SER':'S','THR':'T','TRP':'W',\n",
    "           'TYR':'Y','VAL':'V'}\n",
    "a = pd.read_table(cleaned_pdb_filename, skiprows=2, sep=\"\\s+\", names=[\"ATOM\", \"i\", \"Type\", \"Res\", \"Chain\", \"ResId\", \"x\", \"y\", \"z\", \"_\", \"_1\", \"_2\"]).dropna()\n",
    "chain_list = [i for i in chain]\n",
    "threeLetterSeq = a.query(f\"Chain in @chain_list and Type == 'CA'\")[\"Res\"]\n",
    "seq = \"\".join([ThreeToOne[i] for i in threeLetterSeq])"
   ]
  },
  {
   "cell_type": "code",
   "execution_count": null,
   "metadata": {
    "collapsed": true
   },
   "outputs": [],
   "source": []
  },
  {
   "cell_type": "code",
   "execution_count": 1,
   "metadata": {
    "collapsed": true
   },
   "outputs": [],
   "source": [
    "superStrong = [0, 3, 1, 0, 0, 0, 2, 0, 1, 1, 0, 1, 0, 2, 2, 1, 3, 0, 3, 2, 2, 3, 1, 1, 2, 1, 1, 2, 3, 1, 0, 2, 2, 1, 2, 2, 3, 0, 3, 0, 2, 3, 1, 2, 3, 0, 1, 3, 1, 3]\n",
    "# id 237\n",
    "smartGuy =    [0, 3, 1, 0, 0, 0, 0, 0, 1, 2, 2, 3, 2, 2, 0, 3, 0, 1, 3, 3, 0, 2, 3, 1, 2, 1, 3, 1, 1, 2, 3, 1, 3, 1, 2, 0, 1, 3, 3, 3, 0, 1, 2, 1, 1, 3, 1, 3, 3, 2]\n",
    "# id 250\n",
    "notBad =      [0, 3, 1, 0, 0, 1, 0, 0, 1, 3, 2, 1, 2, 2, 2, 3, 1, 0, 3, 3, 2, 2, 3, 1, 2, 1, 0, 3, 2, 2, 1, 3, 3, 2, 1, 1, 3, 3, 1, 0, 0, 1, 3, 3, 2, 0, 1, 1, 2, 0]\n",
    "# id 318\n",
    "id318   =     [0, 3, 1, 0, 3, 1, 0, 0, 0, 0, 1, 1, 2, 2, 2, 1, 3, 0, 3, 2, 3, 2, 1, 1, 2, 1, 1, 3, 2, 2, 1, 1, 2, 3, 1, 3, 2, 1, 3, 0, 1, 1, 0, 3, 0, 1, 2, 1, 0, 1]\n",
    "# id 64\n",
    "id64 =        [0, 1, 3, 0, 1, 2, 0, 0, 1, 3, 0, 0, 3, 3, 2, 0, 0, 3, 2, 3, 3, 3, 3, 3, 2, 3, 1, 1, 0, 0, 0, 2, 1, 1, 2, 3, 0, 2, 0, 2, 3, 1, 0, 2, 3, 1, 2, 1, 0, 2]\n"
   ]
  },
  {
   "cell_type": "code",
   "execution_count": 2,
   "metadata": {
    "collapsed": true
   },
   "outputs": [],
   "source": [
    "def string_to_list(a):\n",
    "    return [int(i) for i in a.strip()]\n",
    "def list_to_string(a):\n",
    "    g = \"\"\n",
    "    for i in a:\n",
    "        g += str(i)\n",
    "    return g"
   ]
  },
  {
   "cell_type": "code",
   "execution_count": 9,
   "metadata": {},
   "outputs": [
    {
     "data": {
      "text/plain": [
       "'11111111111111111111111111111111111111111111111111'"
      ]
     },
     "execution_count": 9,
     "metadata": {},
     "output_type": "execute_result"
    }
   ],
   "source": [
    "list_to_string([1]*50)"
   ]
  },
  {
   "cell_type": "code",
   "execution_count": 10,
   "metadata": {},
   "outputs": [],
   "source": [
    "ones = [1]*50\n",
    "threes = [3]*50"
   ]
  },
  {
   "cell_type": "code",
   "execution_count": 11,
   "metadata": {},
   "outputs": [],
   "source": [
    "\n",
    "superStrong = string_to_list(\"03100020110102213032231121123102212230302312301313\")\n",
    "smartGuy =    string_to_list(\"03100000122322030133023121311231312013330121131332\")\n",
    "notBad =      string_to_list(\"03100100132122231033223121032213321133100133201120\")\n",
    "id318 = string_to_list(\"03103100001122213032321121132211231321301103012101\")\n",
    "id64 = string_to_list(\"01301200130033200323333323110002112302023102312102\")\n",
    "id0 = string_to_list(\"03100130032320203233231121021302222102023133132331\")\n",
    "id1 = string_to_list(\"13030000331200023313330331232132222221133232231230\")\n",
    "id2 = string_to_list(\"00020000110022023002322323321331321132231110320113\")\n",
    "id3 = string_to_list(\"03120230112122003321333120112322232232102302032011\")\n",
    "id4 = string_to_list(\"30320000131030223331231112222123323213312100331123\")\n",
    "id5 = string_to_list(\"30020001310102103133111111222211232132300113313313\")\n",
    "id6 = string_to_list(\"00000110033300201310323333233331220233110131203211\")\n",
    "\n",
    "r3_1 = string_to_list(\"00130003101121023033321133211212212321030133121131\")\n",
    "r3_2 = string_to_list(\"01300120111033103333123323200123222333103302322300\")\n",
    "r3_3 = string_to_list(\"00020300111320213310122121213233122223331112012311\")\n",
    "r3_4 = string_to_list(\"00120031113022221001221321311312322322310330020113\")\n",
    "r3_5 = string_to_list(\"03100300100022223333211122100122332112323132111102\")\n",
    "r3_6 = string_to_list(\"00020003110003010313111123133123123122301303111231\")\n",
    "r3_7 = string_to_list(\"03100000010222103313233121022011012122220131121131\")\n",
    "r3_8 = string_to_list(\"00020321101222120333301321123333221321301303110132\")\n",
    "r3_9 = string_to_list(\"30000001131022223110113111323122211121213122231320\")\n",
    "r3_10 = string_to_list(\"00110010101122023233133323123102222333133013332010\")\n",
    "\n",
    "# enemy_dic = {\n",
    "#     \"Ones\": ones,\n",
    "#     \"Threes\": threes\n",
    "# }\n",
    "enemy_dic = {\n",
    "    \"superStrong\": superStrong,\n",
    "    \"smartGuy\": smartGuy,\n",
    "    \"notBad\": notBad,\n",
    "    \"id318\": id318,\n",
    "    \"id64\": id64,\n",
    "    \"Ones\": ones,\n",
    "    \"Threes\": threes,\n",
    "    \"id0\": id0,\n",
    "    \"id1\": id1,\n",
    "    \"id2\": id2,\n",
    "    \"id3\": id3,\n",
    "    \"id4\": id4,\n",
    "    \"id5\": id5,\n",
    "    \"id6\": id6,\n",
    "    \"r3_1\": r3_1,\n",
    "    \"r3_2\": r3_2,\n",
    "    \"r3_3\": r3_3,\n",
    "    \"r3_4\": r3_4,\n",
    "    \"r3_5\": r3_5,\n",
    "    \"r3_6\": r3_6,\n",
    "    \"r3_7\": r3_7,\n",
    "    \"r3_8\": r3_8,\n",
    "    \"r3_9\": r3_9,\n",
    "    \"r3_10\": r3_10,\n",
    "\n",
    "}\n"
   ]
  },
  {
   "cell_type": "code",
   "execution_count": 22,
   "metadata": {},
   "outputs": [
    {
     "name": "stdout",
     "output_type": "stream",
     "text": [
      "i,name,gene\n",
      "1,superStrong,03100020110102213032231121123102212230302312301313\n",
      "2,smartGuy,03100000122322030133023121311231312013330121131332\n",
      "3,notBad,03100100132122231033223121032213321133100133201120\n",
      "4,id318,03103100001122213032321121132211231321301103012101\n",
      "5,id64,01301200130033200323333323110002112302023102312102\n",
      "6,Ones,11111111111111111111111111111111111111111111111111\n",
      "7,Threes,33333333333333333333333333333333333333333333333333\n",
      "8,id0,03100130032320203233231121021302222102023133132331\n",
      "9,id1,13030000331200023313330331232132222221133232231230\n",
      "10,id2,00020000110022023002322323321331321132231110320113\n",
      "11,id3,03120230112122003321333120112322232232102302032011\n",
      "12,id4,30320000131030223331231112222123323213312100331123\n",
      "13,id5,30020001310102103133111111222211232132300113313313\n",
      "14,id6,00000110033300201310323333233331220233110131203211\n",
      "15,r3_1,00130003101121023033321133211212212321030133121131\n",
      "16,r3_2,01300120111033103333123323200123222333103302322300\n",
      "17,r3_3,00020300111320213310122121213233122223331112012311\n",
      "18,r3_4,00120031113022221001221321311312322322310330020113\n",
      "19,r3_5,03100300100022223333211122100122332112323132111102\n",
      "20,r3_6,00020003110003010313111123133123123122301303111231\n",
      "21,r3_7,03100000010222103313233121022011012122220131121131\n",
      "22,r3_8,00020321101222120333301321123333221321301303110132\n",
      "23,r3_9,30000001131022223110113111323122211121213122231320\n",
      "24,r3_10,00110010101122023233133323123102222333133013332010\n"
     ]
    }
   ],
   "source": [
    "print(\"i,name,gene\")\n",
    "c = 1\n",
    "for i in enemy_dic:\n",
    "    print(c, i, list_to_string(enemy_dic[i]), sep=\",\")\n",
    "    c +=1 "
   ]
  },
  {
   "cell_type": "code",
   "execution_count": null,
   "metadata": {
    "collapsed": true
   },
   "outputs": [],
   "source": []
  }
 ],
 "metadata": {
  "kernelspec": {
   "display_name": "Python 3",
   "language": "python",
   "name": "python3"
  },
  "language_info": {
   "codemirror_mode": {
    "name": "ipython",
    "version": 3
   },
   "file_extension": ".py",
   "mimetype": "text/x-python",
   "name": "python",
   "nbconvert_exporter": "python",
   "pygments_lexer": "ipython3",
   "version": "3.6.3"
  }
 },
 "nbformat": 4,
 "nbformat_minor": 2
}
