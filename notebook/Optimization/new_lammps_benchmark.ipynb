{
 "cells": [
  {
   "cell_type": "code",
   "execution_count": 1,
   "metadata": {
    "collapsed": true
   },
   "outputs": [],
   "source": [
    "import os\n",
    "import sys\n",
    "import random\n",
    "import time\n",
    "from random import seed, randint\n",
    "import argparse\n",
    "import platform\n",
    "from datetime import datetime\n",
    "import imp\n",
    "import numpy as np\n",
    "import fileinput\n",
    "from itertools import product\n",
    "import pandas as pd\n",
    "from scipy.interpolate import griddata\n",
    "from scipy.interpolate import interp2d\n",
    "import seaborn as sns\n",
    "from os import listdir\n",
    "\n",
    "import matplotlib.pyplot as plt\n",
    "import seaborn as sns\n",
    "from scipy.interpolate import griddata\n",
    "import matplotlib as mpl\n",
    "# sys.path.insert(0,'..')\n",
    "# from notebookFunctions import *\n",
    "# from .. import notebookFunctions\n",
    "\n",
    "from Bio.PDB.PDBParser import PDBParser\n",
    "# sys.path.insert(0, '/Users/weilu/Research/opt_server/')\n",
    "# from pyCodeLib import *\n",
    "%matplotlib inline\n",
    "plt.rcParams['figure.figsize'] = np.array([10,6.180])    #golden ratio\n",
    "plt.rcParams['figure.facecolor'] = 'w'\n",
    "# %matplotlib notebook\n",
    "%load_ext autoreload\n",
    "%autoreload 2"
   ]
  },
  {
   "cell_type": "code",
   "execution_count": 26,
   "metadata": {},
   "outputs": [],
   "source": [
    "data = pd.read_excel(\"/Users/weilu/Downloads/Copy of 20200925_awsem2020_benchmark.xlsx\")"
   ]
  },
  {
   "cell_type": "code",
   "execution_count": 27,
   "metadata": {},
   "outputs": [],
   "source": [
    "data[\"time_for_1million_steps\"] = data[\"Time\"] /data[\"serial\"] * 1e6 /3600"
   ]
  },
  {
   "cell_type": "code",
   "execution_count": 28,
   "metadata": {},
   "outputs": [],
   "source": [
    "data[\"Length\"] = data[\"Unnamed: 1\"]"
   ]
  },
  {
   "cell_type": "code",
   "execution_count": 29,
   "metadata": {},
   "outputs": [],
   "source": [
    "data = data.sort_values(\"Length\").reset_index(drop=True)"
   ]
  },
  {
   "cell_type": "code",
   "execution_count": 30,
   "metadata": {},
   "outputs": [
    {
     "data": {
      "text/html": [
       "<div>\n",
       "<style scoped>\n",
       "    .dataframe tbody tr th:only-of-type {\n",
       "        vertical-align: middle;\n",
       "    }\n",
       "\n",
       "    .dataframe tbody tr th {\n",
       "        vertical-align: top;\n",
       "    }\n",
       "\n",
       "    .dataframe thead th {\n",
       "        text-align: right;\n",
       "    }\n",
       "</style>\n",
       "<table border=\"1\" class=\"dataframe\">\n",
       "  <thead>\n",
       "    <tr style=\"text-align: right;\">\n",
       "      <th></th>\n",
       "      <th>Unnamed: 0</th>\n",
       "      <th>Unnamed: 1</th>\n",
       "      <th>2core</th>\n",
       "      <th>4core</th>\n",
       "      <th>8core</th>\n",
       "      <th>serial</th>\n",
       "      <th>Time</th>\n",
       "      <th>time_for_1million_steps</th>\n",
       "      <th>Length</th>\n",
       "    </tr>\n",
       "  </thead>\n",
       "  <tbody>\n",
       "    <tr>\n",
       "      <td>0</td>\n",
       "      <td>6btc</td>\n",
       "      <td>96</td>\n",
       "      <td>NaN</td>\n",
       "      <td>NaN</td>\n",
       "      <td>NaN</td>\n",
       "      <td>500000</td>\n",
       "      <td>285.303</td>\n",
       "      <td>0.158502</td>\n",
       "      <td>96</td>\n",
       "    </tr>\n",
       "    <tr>\n",
       "      <td>1</td>\n",
       "      <td>6g57</td>\n",
       "      <td>124</td>\n",
       "      <td>NaN</td>\n",
       "      <td>NaN</td>\n",
       "      <td>NaN</td>\n",
       "      <td>500000</td>\n",
       "      <td>393.628</td>\n",
       "      <td>0.218682</td>\n",
       "      <td>124</td>\n",
       "    </tr>\n",
       "    <tr>\n",
       "      <td>2</td>\n",
       "      <td>pex22</td>\n",
       "      <td>173</td>\n",
       "      <td>NaN</td>\n",
       "      <td>NaN</td>\n",
       "      <td>NaN</td>\n",
       "      <td>500000</td>\n",
       "      <td>617.505</td>\n",
       "      <td>0.343058</td>\n",
       "      <td>173</td>\n",
       "    </tr>\n",
       "    <tr>\n",
       "      <td>3</td>\n",
       "      <td>unk2</td>\n",
       "      <td>210</td>\n",
       "      <td>NaN</td>\n",
       "      <td>NaN</td>\n",
       "      <td>NaN</td>\n",
       "      <td>500000</td>\n",
       "      <td>891.974</td>\n",
       "      <td>0.495541</td>\n",
       "      <td>210</td>\n",
       "    </tr>\n",
       "    <tr>\n",
       "      <td>4</td>\n",
       "      <td>sos</td>\n",
       "      <td>218</td>\n",
       "      <td>NaN</td>\n",
       "      <td>NaN</td>\n",
       "      <td>NaN</td>\n",
       "      <td>500000</td>\n",
       "      <td>912.722</td>\n",
       "      <td>0.507068</td>\n",
       "      <td>218</td>\n",
       "    </tr>\n",
       "    <tr>\n",
       "      <td>5</td>\n",
       "      <td>6q64</td>\n",
       "      <td>362</td>\n",
       "      <td>NaN</td>\n",
       "      <td>NaN</td>\n",
       "      <td>NaN</td>\n",
       "      <td>500000</td>\n",
       "      <td>1308.490</td>\n",
       "      <td>0.726939</td>\n",
       "      <td>362</td>\n",
       "    </tr>\n",
       "    <tr>\n",
       "      <td>6</td>\n",
       "      <td>fmt</td>\n",
       "      <td>442</td>\n",
       "      <td>NaN</td>\n",
       "      <td>NaN</td>\n",
       "      <td>NaN</td>\n",
       "      <td>500000</td>\n",
       "      <td>2345.210</td>\n",
       "      <td>1.302894</td>\n",
       "      <td>442</td>\n",
       "    </tr>\n",
       "    <tr>\n",
       "      <td>7</td>\n",
       "      <td>2is1</td>\n",
       "      <td>649</td>\n",
       "      <td>NaN</td>\n",
       "      <td>NaN</td>\n",
       "      <td>NaN</td>\n",
       "      <td>441000</td>\n",
       "      <td>3600.000</td>\n",
       "      <td>2.267574</td>\n",
       "      <td>649</td>\n",
       "    </tr>\n",
       "    <tr>\n",
       "      <td>8</td>\n",
       "      <td>6jdq</td>\n",
       "      <td>1076</td>\n",
       "      <td>NaN</td>\n",
       "      <td>NaN</td>\n",
       "      <td>NaN</td>\n",
       "      <td>220000</td>\n",
       "      <td>3600.000</td>\n",
       "      <td>4.545455</td>\n",
       "      <td>1076</td>\n",
       "    </tr>\n",
       "    <tr>\n",
       "      <td>9</td>\n",
       "      <td>5uak</td>\n",
       "      <td>1432</td>\n",
       "      <td>NaN</td>\n",
       "      <td>NaN</td>\n",
       "      <td>NaN</td>\n",
       "      <td>172000</td>\n",
       "      <td>3600.000</td>\n",
       "      <td>5.813953</td>\n",
       "      <td>1432</td>\n",
       "    </tr>\n",
       "    <tr>\n",
       "      <td>10</td>\n",
       "      <td>6n7n</td>\n",
       "      <td>1716</td>\n",
       "      <td>NaN</td>\n",
       "      <td>NaN</td>\n",
       "      <td>NaN</td>\n",
       "      <td>85000</td>\n",
       "      <td>3600.000</td>\n",
       "      <td>11.764706</td>\n",
       "      <td>1716</td>\n",
       "    </tr>\n",
       "    <tr>\n",
       "      <td>11</td>\n",
       "      <td>smc</td>\n",
       "      <td>2955</td>\n",
       "      <td>NaN</td>\n",
       "      <td>NaN</td>\n",
       "      <td>NaN</td>\n",
       "      <td>213000</td>\n",
       "      <td>13680.000</td>\n",
       "      <td>17.840376</td>\n",
       "      <td>2955</td>\n",
       "    </tr>\n",
       "  </tbody>\n",
       "</table>\n",
       "</div>"
      ],
      "text/plain": [
       "   Unnamed: 0  Unnamed: 1  2core  4core  8core  serial       Time  \\\n",
       "0        6btc          96    NaN    NaN    NaN  500000    285.303   \n",
       "1        6g57         124    NaN    NaN    NaN  500000    393.628   \n",
       "2       pex22         173    NaN    NaN    NaN  500000    617.505   \n",
       "3        unk2         210    NaN    NaN    NaN  500000    891.974   \n",
       "4         sos         218    NaN    NaN    NaN  500000    912.722   \n",
       "5        6q64         362    NaN    NaN    NaN  500000   1308.490   \n",
       "6         fmt         442    NaN    NaN    NaN  500000   2345.210   \n",
       "7        2is1         649    NaN    NaN    NaN  441000   3600.000   \n",
       "8        6jdq        1076    NaN    NaN    NaN  220000   3600.000   \n",
       "9        5uak        1432    NaN    NaN    NaN  172000   3600.000   \n",
       "10       6n7n        1716    NaN    NaN    NaN   85000   3600.000   \n",
       "11        smc        2955    NaN    NaN    NaN  213000  13680.000   \n",
       "\n",
       "    time_for_1million_steps  Length  \n",
       "0                  0.158502      96  \n",
       "1                  0.218682     124  \n",
       "2                  0.343058     173  \n",
       "3                  0.495541     210  \n",
       "4                  0.507068     218  \n",
       "5                  0.726939     362  \n",
       "6                  1.302894     442  \n",
       "7                  2.267574     649  \n",
       "8                  4.545455    1076  \n",
       "9                  5.813953    1432  \n",
       "10                11.764706    1716  \n",
       "11                17.840376    2955  "
      ]
     },
     "execution_count": 30,
     "metadata": {},
     "output_type": "execute_result"
    }
   ],
   "source": [
    "data"
   ]
  },
  {
   "cell_type": "code",
   "execution_count": 31,
   "metadata": {},
   "outputs": [
    {
     "data": {
      "text/plain": [
       "<matplotlib.axes._subplots.AxesSubplot at 0x7f95396958d0>"
      ]
     },
     "execution_count": 31,
     "metadata": {},
     "output_type": "execute_result"
    },
    {
     "data": {
      "image/png": "[encoded data removed]",
      "text/plain": [
       "<Figure size 720x444.96 with 1 Axes>"
      ]
     },
     "metadata": {},
     "output_type": "display_data"
    }
   ],
   "source": [
    "data.plot(\"Length\", \"time_for_1million_steps\")"
   ]
  },
  {
   "cell_type": "code",
   "execution_count": 9,
   "metadata": {},
   "outputs": [
    {
     "data": {
      "text/plain": [
       "Index(['Unnamed: 0', 'Unnamed: 1', '2core', '4core', '8core', 'serial', 'Time',\n",
       "       'time_for_1million_steps'],\n",
       "      dtype='object')"
      ]
     },
     "execution_count": 9,
     "metadata": {},
     "output_type": "execute_result"
    }
   ],
   "source": [
    "data.columns"
   ]
  },
  {
   "cell_type": "code",
   "execution_count": null,
   "metadata": {
    "collapsed": true
   },
   "outputs": [],
   "source": []
  }
 ],
 "metadata": {
  "kernelspec": {
   "display_name": "Python 3",
   "language": "python",
   "name": "python3"
  },
  "language_info": {
   "codemirror_mode": {
    "name": "ipython",
    "version": 3
   },
   "file_extension": ".py",
   "mimetype": "text/x-python",
   "name": "python",
   "nbconvert_exporter": "python",
   "pygments_lexer": "ipython3",
   "version": "3.6.7"
  }
 },
 "nbformat": 4,
 "nbformat_minor": 2
}
