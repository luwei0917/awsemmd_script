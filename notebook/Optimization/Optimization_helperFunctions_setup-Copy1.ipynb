{
 "cells": [
  {
   "cell_type": "code",
   "execution_count": 1,
   "metadata": {},
   "outputs": [],
   "source": [
    "import os\n",
    "import sys\n",
    "import random\n",
    "import time\n",
    "from random import seed, randint\n",
    "import argparse\n",
    "import platform\n",
    "from datetime import datetime\n",
    "import imp\n",
    "import numpy as np\n",
    "import fileinput\n",
    "from itertools import product\n",
    "import pandas as pd\n",
    "from scipy.interpolate import griddata\n",
    "from scipy.interpolate import interp2d\n",
    "import seaborn as sns\n",
    "from os import listdir\n",
    "\n",
    "import matplotlib.pyplot as plt\n",
    "import seaborn as sns\n",
    "from scipy.interpolate import griddata\n",
    "import matplotlib as mpl\n",
    "# sys.path.insert(0,'..')\n",
    "# from notebookFunctions import *\n",
    "# from .. import notebookFunctions\n",
    "from Bio.PDB.Polypeptide import one_to_three\n",
    "from Bio.PDB.Polypeptide import three_to_one\n",
    "from Bio.PDB.PDBParser import PDBParser\n",
    "from pyCodeLib import *\n",
    "# from small_script.myFunctions import *\n",
    "sys.path.insert(0, \"/Users/weilu/openmmawsem\")\n",
    "from helperFunctions.myFunctions import *\n",
    "from collections import defaultdict\n",
    "%matplotlib inline\n",
    "# plt.rcParams['figure.figsize'] = (10,6.180)    #golden ratio\n",
    "# %matplotlib notebook\n",
    "%load_ext autoreload\n",
    "%autoreload 2"
   ]
  },
  {
   "cell_type": "code",
   "execution_count": 2,
   "metadata": {},
   "outputs": [],
   "source": [
    "plt.rcParams['figure.figsize'] = np.array([16.18033, 10])    #golden ratio\n",
    "plt.rcParams['figure.facecolor'] = 'w'\n",
    "plt.rcParams['figure.dpi'] = 100\n",
    "plt.rcParams.update({'font.size': 22})"
   ]
  },
  {
   "cell_type": "code",
   "execution_count": 3,
   "metadata": {},
   "outputs": [],
   "source": [
    "def mycp(source, target):\n",
    "    os.system(f\"cp {source} {target}\")\n",
    "    \n",
    "do = os.system\n",
    "\n",
    "def getSeq(fileLocation):\n",
    "    p = PDBParser()\n",
    "    s = p.get_structure(\"test\", fileLocation)\n",
    "    seq = \"\"\n",
    "    residues = list(s.get_residues())\n",
    "    for residue in residues:\n",
    "        res_id = residue.get_id()[0]\n",
    "        if res_id==' ':\n",
    "            residue_name = residue.get_resname()\n",
    "            seq += three_to_one(residue_name)\n",
    "    return seq\n",
    "\n",
    "# get chains nad seq\n",
    "def getChainsAndSeq(fileLocation):\n",
    "    # fileLocation = \"/Users/weilu/Research/examples/optimization/optimization/Structure_Ensemble/1.pdb\"\n",
    "    p = PDBParser()\n",
    "    pdb = p.get_structure(\"test\", fileLocation)\n",
    "    residues = list(pdb.get_residues())\n",
    "    seq = \"\"\n",
    "    chains = \"\"\n",
    "    for residue in residues:\n",
    "        res_id = residue.get_id()[0]\n",
    "        chain = residue.get_full_id()[2]\n",
    "        if res_id==' ':\n",
    "            residue_name = residue.get_resname()\n",
    "            seq += three_to_one(residue_name)\n",
    "            chains += chain\n",
    "    return chains, seq"
   ]
  },
  {
   "cell_type": "code",
   "execution_count": 7,
   "metadata": {},
   "outputs": [],
   "source": [
    "pdbFolderList = glob.glob(\"/Users/weilu/Dropbox/Optimization_Xfunnel/Structure_Ensemble_*\")"
   ]
  },
  {
   "cell_type": "code",
   "execution_count": 34,
   "metadata": {},
   "outputs": [],
   "source": [
    "pdbFolderList = [ '/Users/weilu/Downloads/Optimization_Xfunnel/Structure_Ensemble_2BNQ',\n",
    " '/Users/weilu/Downloads/Optimization_Xfunnel/Structure_Ensemble_4FTV']"
   ]
  },
  {
   "cell_type": "code",
   "execution_count": 4,
   "metadata": {},
   "outputs": [],
   "source": [
    "pdbFolder = pdbFolderList[0]"
   ]
  },
  {
   "cell_type": "code",
   "execution_count": 5,
   "metadata": {},
   "outputs": [],
   "source": [
    "pdbName = pdbFolder.split(\"_\")[-1]"
   ]
  },
  {
   "cell_type": "code",
   "execution_count": 6,
   "metadata": {},
   "outputs": [
    {
     "data": {
      "text/plain": [
       "'1BD2'"
      ]
     },
     "execution_count": 6,
     "metadata": {},
     "output_type": "execute_result"
    }
   ],
   "source": [
    "pdbName"
   ]
  },
  {
   "cell_type": "code",
   "execution_count": 41,
   "metadata": {},
   "outputs": [
    {
     "data": {
      "text/plain": [
       "33"
      ]
     },
     "execution_count": 41,
     "metadata": {},
     "output_type": "execute_result"
    }
   ],
   "source": [
    "len(pdbFolderList)"
   ]
  },
  {
   "cell_type": "code",
   "execution_count": 8,
   "metadata": {},
   "outputs": [],
   "source": [
    "\n",
    "# pre = \"/Users/weilu/Research/server/sep_2019/peptide_optimization_specific_test\"\n",
    "pre = \"/Users/weilu/Research/server/sep_2019/peptide_optimization_trial_6\"\n",
    "\n",
    "do(f\"mkdir -p {pre}/database/dompdb\")\n",
    "do(f\"mkdir -p {pre}/database/S20_seq\")\n",
    "\n",
    "for pdbFolder in pdbFolderList:\n",
    "    pdbName = pdbFolder.split(\"_\")[-1]\n",
    "    source = pdbFolder + f\"/*.pdb\"\n",
    "    p_list = glob.glob(source)\n",
    "    if len(p_list) > 1:\n",
    "        print(p_list)\n",
    "        continue\n",
    "    if len(p_list) == 0:\n",
    "        print(\"no\", pdbName)\n",
    "    for p in p_list:\n",
    "        target = f\"{pre}/database/dompdb/{pdbName}.pdb\"\n",
    "        ## move native pdbs to dompdb\n",
    "        mycp(p, target)\n",
    "        ## move native seq to S20_seq\n",
    "        seq = getSeq(target)\n",
    "        fileLocation = f\"{pre}/database/S20_seq/{pdbName}.seq\"\n",
    "        with open(fileLocation, \"w\") as out:\n",
    "            out.write(seq+\"\\n\")\n",
    "       \n"
   ]
  },
  {
   "cell_type": "code",
   "execution_count": 44,
   "metadata": {},
   "outputs": [],
   "source": []
  },
  {
   "cell_type": "markdown",
   "metadata": {},
   "source": [
    "# two branch. one: set as 100 per structure."
   ]
  },
  {
   "cell_type": "code",
   "execution_count": 28,
   "metadata": {},
   "outputs": [],
   "source": [
    "pre = \"/Users/weilu/Research/server/sep_2019/peptide_optimization_trial_6\"\n",
    "\n",
    "do(f\"mkdir -p {pre}/database/dompdb\")\n",
    "do(f\"mkdir -p {pre}/database/S20_seq\")\n",
    "do(f\"mkdir -p {pre}/optimization/decoys/shuffle\")\n",
    "# generate decoys\n",
    "protein_list = []\n",
    "for pdbFolder in pdbFolderList:\n",
    "    pdbName = pdbFolder.split(\"_\")[-1]\n",
    "    source = pdbFolder + f\"/*.pdb\"\n",
    "    p_list = glob.glob(source)\n",
    "    # print(p_list, source)\n",
    "    assert len(p_list) == 1\n",
    "    p = p_list[0]\n",
    "    chain_seq, seq = getChainsAndSeq(p)\n",
    "    \n",
    "    # print(pdbName, i, len(seq), len(chain_seq))\n",
    "    decoy_list = []\n",
    "    with open(f\"{pdbFolder}/peptide.txt\") as f:\n",
    "        for line in f:\n",
    "            pep = line.strip()\n",
    "            pep_len = len(pep)\n",
    "            # assert len(pep) == 9\n",
    "            for c in list(set(chain_seq)):\n",
    "                if chain_seq.count(c) == pep_len:\n",
    "                    first_c = chain_seq.find(c)\n",
    "                    a = list(seq)\n",
    "                    a[first_c:first_c+pep_len] = pep\n",
    "                    assert len(set(chain_seq[first_c:first_c+pep_len])) == 1\n",
    "                    decoy = \"\".join(a)\n",
    "                    decoy_list.append(decoy)\n",
    "                    \n",
    "    # two branch. one: set as 100 per structure.\n",
    "    n = int(len(decoy_list) // 100)\n",
    "    for i in range(n):\n",
    "        opt_pdbName = f\"{pdbName}_{i}\"\n",
    "        fileLocation = f\"{pre}/optimization/decoys/shuffle/{opt_pdbName}.decoys\"\n",
    "        # print(\"1\", pdbName, len(decoy_list), pep_len)\n",
    "        with open(fileLocation, \"w\") as out:\n",
    "            for decoy in decoy_list[i*100:(i+1)*100]:\n",
    "                out.write(decoy+\"\\n\")\n",
    "        protein_list.append(opt_pdbName)\n",
    "        \n",
    "        \n",
    "        target = f\"{pre}/database/dompdb/{opt_pdbName}.pdb\"\n",
    "        ## move native pdbs to dompdb\n",
    "        mycp(p, target)\n",
    "        ## move native seq to S20_seq\n",
    "        seq = getSeq(target)\n",
    "        fileLocation = f\"{pre}/database/S20_seq/{opt_pdbName}.seq\"\n",
    "        with open(fileLocation, \"w\") as out:\n",
    "            out.write(seq+\"\\n\")\n",
    "#     fileLocation = f\"{pre}/optimization/decoys/shuffle/{pdbName}.decoys\"\n",
    "# #     if len(decoy_list) == 0:\n",
    "# #         print(pdbName)\n",
    "#     print(\"1\", pdbName, len(decoy_list), pep_len)\n",
    "#     with open(fileLocation, \"w\") as out:\n",
    "#         for decoy in decoy_list:\n",
    "#             out.write(decoy+\"\\n\")"
   ]
  },
  {
   "cell_type": "code",
   "execution_count": 29,
   "metadata": {},
   "outputs": [
    {
     "data": {
      "text/plain": [
       "475"
      ]
     },
     "execution_count": 29,
     "metadata": {},
     "output_type": "execute_result"
    }
   ],
   "source": [
    "len(protein_list)"
   ]
  },
  {
   "cell_type": "code",
   "execution_count": 30,
   "metadata": {},
   "outputs": [
    {
     "data": {
      "text/plain": [
       "0"
      ]
     },
     "execution_count": 30,
     "metadata": {},
     "output_type": "execute_result"
    }
   ],
   "source": [
    "do(f\"mkdir -p {pre}/optimization\")\n",
    "do(f\"mkdir -p {pre}/phis\")\n",
    "\n",
    "## write protein_list\n",
    "fileLocation = f\"{pre}/optimization/protein_list\"\n",
    "with open(fileLocation, \"w\") as out:\n",
    "    for pdbName in protein_list:\n",
    "        out.write(f\"{pdbName}\\n\")\n",
    "\n",
    "do(f\"cp ~/opt/optimization/phi_list_contact.txt {pre}/optimization/phi_list.txt\")"
   ]
  },
  {
   "cell_type": "code",
   "execution_count": null,
   "metadata": {},
   "outputs": [],
   "source": []
  },
  {
   "cell_type": "code",
   "execution_count": null,
   "metadata": {},
   "outputs": [],
   "source": [
    "\n",
    "# pre = \"/Users/weilu/Research/server/sep_2019/peptide_optimization_specific_test\"\n",
    "pre = \"/Users/weilu/Research/server/sep_2019/peptide_optimization_trial_6\"\n",
    "\n",
    "do(f\"mkdir -p {pre}/database/dompdb\")\n",
    "do(f\"mkdir -p {pre}/database/S20_seq\")\n",
    "\n",
    "for pdbFolder in pdbFolderList:\n",
    "    pdbName = pdbFolder.split(\"_\")[-1]\n",
    "    source = pdbFolder + f\"/*.pdb\"\n",
    "    p_list = glob.glob(source)\n",
    "    if len(p_list) > 1:\n",
    "        print(p_list)\n",
    "        continue\n",
    "    if len(p_list) == 0:\n",
    "        print(\"no\", pdbName)\n",
    "    for p in p_list:\n",
    "        target = f\"{pre}/database/dompdb/{pdbName}.pdb\"\n",
    "        ## move native pdbs to dompdb\n",
    "        mycp(p, target)\n",
    "        ## move native seq to S20_seq\n",
    "        seq = getSeq(target)\n",
    "        fileLocation = f\"{pre}/database/S20_seq/{pdbName}.seq\"\n",
    "        with open(fileLocation, \"w\") as out:\n",
    "            out.write(seq+\"\\n\")\n",
    "       \n"
   ]
  },
  {
   "cell_type": "code",
   "execution_count": 46,
   "metadata": {},
   "outputs": [
    {
     "data": {
      "text/plain": [
       "0"
      ]
     },
     "execution_count": 46,
     "metadata": {},
     "output_type": "execute_result"
    }
   ],
   "source": []
  },
  {
   "cell_type": "code",
   "execution_count": null,
   "metadata": {},
   "outputs": [],
   "source": []
  },
  {
   "cell_type": "code",
   "execution_count": null,
   "metadata": {},
   "outputs": [],
   "source": []
  },
  {
   "cell_type": "code",
   "execution_count": null,
   "metadata": {},
   "outputs": [],
   "source": []
  },
  {
   "cell_type": "code",
   "execution_count": null,
   "metadata": {},
   "outputs": [],
   "source": []
  },
  {
   "cell_type": "code",
   "execution_count": 29,
   "metadata": {},
   "outputs": [
    {
     "name": "stdout",
     "output_type": "stream",
     "text": [
      "3D39 1 419 419\n"
     ]
    }
   ],
   "source": [
    "do(f\"mkdir -p {pre}/optimization/decoys/shuffle\")\n",
    "# generate decoys\n",
    "for pdbFolder in pdbFolderList:\n",
    "    pdbName = pdbFolder.split(\"_\")[-1]\n",
    "    source = pdbFolder + f\"/*ab.pdb\"\n",
    "    p_list = glob.glob(source)\n",
    "    if pdbName != \"3D39\":\n",
    "        continue\n",
    "    # print(p_list, source)\n",
    "    assert len(p_list) == 1\n",
    "    chain_seq, seq = getChainsAndSeq(p_list[0])\n",
    "    print(pdbName, i, len(seq), len(chain_seq))\n",
    "    decoy_list = []\n",
    "    decoy = \"\"\n",
    "    with open(f\"{pdbFolder}/peptide.txt\") as f:\n",
    "        for line in f:\n",
    "            pep = line.strip()\n",
    "            assert len(pep) == 9\n",
    "            for c in list(set(chain_seq)):\n",
    "                if chain_seq.count(c) == 9:\n",
    "                    first_c = chain_seq.find(c)\n",
    "                    a = list(seq)\n",
    "                    a[first_c:first_c+9] = pep\n",
    "                    decoy = \"\".join(a)\n",
    "                    decoy_list.append(decoy)\n",
    "    fileLocation = f\"{pre}/optimization/decoys/shuffle/{pdbName}.decoys\"\n",
    "    with open(fileLocation, \"w\") as out:\n",
    "        for decoy in decoy_list:\n",
    "            out.write(decoy+\"\\n\")"
   ]
  },
  {
   "cell_type": "code",
   "execution_count": 31,
   "metadata": {},
   "outputs": [
    {
     "data": {
      "text/plain": [
       "['A', 'X', 'B', 'Y']"
      ]
     },
     "execution_count": 31,
     "metadata": {},
     "output_type": "execute_result"
    }
   ],
   "source": [
    "list(set(chain_seq))"
   ]
  },
  {
   "cell_type": "code",
   "execution_count": 32,
   "metadata": {},
   "outputs": [
    {
     "data": {
      "text/plain": [
       "8"
      ]
     },
     "execution_count": 32,
     "metadata": {},
     "output_type": "execute_result"
    }
   ],
   "source": [
    "chain_seq.count(\"Y\")"
   ]
  },
  {
   "cell_type": "code",
   "execution_count": null,
   "metadata": {},
   "outputs": [],
   "source": []
  },
  {
   "cell_type": "code",
   "execution_count": null,
   "metadata": {},
   "outputs": [],
   "source": []
  },
  {
   "cell_type": "code",
   "execution_count": null,
   "metadata": {},
   "outputs": [],
   "source": []
  },
  {
   "cell_type": "code",
   "execution_count": null,
   "metadata": {},
   "outputs": [],
   "source": [
    "do(f\"mkdir -p {pre}/optimization\")\n",
    "## write protein_list\n",
    "fileLocation = f\"{pre}/optimization/protein_list\"\n",
    "with open(fileLocation, \"w\") as out:\n",
    "    for pdbFolder in pdbFolderList:\n",
    "        pdbName = pdbFolder.split(\"_\")[-1]\n",
    "        out.write(f\"{pdbName}\\n\")"
   ]
  },
  {
   "cell_type": "code",
   "execution_count": 205,
   "metadata": {},
   "outputs": [],
   "source": [
    "## write protein_list\n",
    "fileLocation = f\"{pre}/optimization/protein_list\"\n",
    "with open(fileLocation, \"w\") as out:\n",
    "    for pdbFolder in pdbFolderList:\n",
    "        pdbName = pdbFolder.split(\"_\")[-1]\n",
    "        for i in range(1, 6):\n",
    "            out.write(f\"{pdbName}_{i}\\n\")\n",
    "# generate decoys\n",
    "for pdbFolder in pdbFolderList:\n",
    "    pdbName = pdbFolder.split(\"_\")[-1]\n",
    "    for i in range(1, 6):\n",
    "        source = pdbFolder + f\"/{i}.pdb\"\n",
    "        source = pdbFolder + f\"/*ab.pdb\"\n",
    "        p_list = glob.glob(source)\n",
    "        assert len(p_list) == 1\n",
    "        chain_seq, seq = getChainsAndSeq(source)\n",
    "        print(pdbName, i, len(seq), len(chain_seq))\n",
    "        decoy_list = []\n",
    "        with open(f\"{pdbFolder}/peptide.txt\") as f:\n",
    "            for line in f:\n",
    "                pep = line.strip()\n",
    "                assert len(pep) == 9\n",
    "                for c in list(set(chain_seq)):\n",
    "                    if chain_seq.count(c) == 9:\n",
    "                        first_c = chain_seq.find(c)\n",
    "                        a = list(seq)\n",
    "                        a[first_c:first_c+9] = pep\n",
    "                        decoy = \"\".join(a)\n",
    "                        decoy_list.append(decoy)\n",
    "        fileLocation = f\"{pre}/optimization/decoys/shuffle/{pdbName}_{i}.decoys\"\n",
    "        with open(fileLocation, \"w\") as out:\n",
    "            for decoy in decoy_list:\n",
    "                out.write(decoy+\"\\n\")"
   ]
  },
  {
   "cell_type": "code",
   "execution_count": 19,
   "metadata": {},
   "outputs": [],
   "source": []
  },
  {
   "cell_type": "code",
   "execution_count": 168,
   "metadata": {},
   "outputs": [],
   "source": [
    "# ensure they all 9 residue peptide.\n",
    "for pdbFolder in pdbFolderList:\n",
    "    pdbName = pdbFolder.split(\"_\")[-1]\n",
    "    # print(pdbName)\n",
    "    with open(f\"{pdbFolder}/peptide.txt\") as f:\n",
    "        for line in f:\n",
    "            pep = line.strip()\n",
    "            assert len(pep) == 9"
   ]
  },
  {
   "cell_type": "code",
   "execution_count": 160,
   "metadata": {},
   "outputs": [
    {
     "data": {
      "text/plain": [
       "'/Users/weilu/Research/server/sep_2019/peptide_optimization_trial_2/database/S20_seq/4FTV_5.seq'"
      ]
     },
     "execution_count": 160,
     "metadata": {},
     "output_type": "execute_result"
    }
   ],
   "source": [
    "fileLocation"
   ]
  },
  {
   "cell_type": "code",
   "execution_count": 164,
   "metadata": {},
   "outputs": [
    {
     "data": {
      "text/plain": [
       "107"
      ]
     },
     "execution_count": 164,
     "metadata": {},
     "output_type": "execute_result"
    }
   ],
   "source": [
    "for c in \"ABCDEFG\":\n",
    "    if chain_seq.count(c) == 9:\n",
    "        first_c = chain_seq.find(c)\n",
    "        a = list(seq)\n",
    "        a[first_c:first_c+9] = pep\n",
    "        decoy = \"\".join(a)\n",
    "        decoy_list.append(decoy)"
   ]
  },
  {
   "cell_type": "code",
   "execution_count": null,
   "metadata": {},
   "outputs": [],
   "source": []
  },
  {
   "cell_type": "code",
   "execution_count": 3,
   "metadata": {},
   "outputs": [],
   "source": [
    "# get seq\n",
    "fileLocation = \"/Users/weilu/Research/examples/optimization/optimization/Structure_Ensemble/1.pdb\"\n",
    "p = PDBParser()\n",
    "pdb = p.get_structure(\"test\", fileLocation)\n",
    "residues = list(pdb.get_residues())\n",
    "seq = \"\"\n",
    "chains = \"\"\n",
    "for residue in residues:\n",
    "    res_id = residue.get_id()[0]\n",
    "    chain = residue.get_full_id()[2]\n",
    "    if res_id==' ':\n",
    "        residue_name = residue.get_resname()\n",
    "        seq += three_to_one(residue_name)\n",
    "        chains += chain"
   ]
  },
  {
   "cell_type": "code",
   "execution_count": 5,
   "metadata": {},
   "outputs": [],
   "source": [
    "# get decoy\n",
    "decoy_list = []\n",
    "with open(\"/Users/weilu/Research/examples/optimization/optimization/Structure_Ensemble/peptide.txt\") as f:\n",
    "    for line in f:\n",
    "        pep = line.strip()\n",
    "        assert len(pep) == 9\n",
    "        a = list(seq)\n",
    "        a[180:189] = pep\n",
    "        decoy = \"\".join(a)\n",
    "        decoy_list.append(decoy)"
   ]
  },
  {
   "cell_type": "code",
   "execution_count": 38,
   "metadata": {},
   "outputs": [],
   "source": [
    "for i in range(1, 91):\n",
    "    pre = \"/Users/weilu/Research/server/sep_2019/peptide_optimization\"\n",
    "    fileLocation = f\"{pre}/database/S20_seq/{i}.seq\"\n",
    "    with open(fileLocation, \"w\") as out:\n",
    "        out.write(seq+\"\\n\")"
   ]
  },
  {
   "cell_type": "code",
   "execution_count": 40,
   "metadata": {},
   "outputs": [],
   "source": [
    "for i in range(1, 91):\n",
    "    fileLocation = f\"{pre}/optimization/decoys/shuffle/{i}.decoys\"\n",
    "    with open(fileLocation, \"w\") as out:\n",
    "        for decoy in decoy_list:\n",
    "            out.write(decoy+\"\\n\")"
   ]
  },
  {
   "cell_type": "code",
   "execution_count": 42,
   "metadata": {},
   "outputs": [],
   "source": [
    "with open(\"/Users/weilu/Research/server/sep_2019/peptide_optimization/optimization/protein_list\", \"w\") as out:\n",
    "    for i in range(1, 91):\n",
    "        out.write(f\"{i}\\n\")"
   ]
  },
  {
   "cell_type": "code",
   "execution_count": 41,
   "metadata": {},
   "outputs": [],
   "source": [
    "for i in range(1, 91):\n",
    "    os.system(f\"cp /Users/weilu/Research/examples/optimization/optimization/Structure_Ensemble/{i}.pdb /Users/weilu/Research/server/sep_2019/peptide_optimization/database/dompdb/\")"
   ]
  },
  {
   "cell_type": "code",
   "execution_count": 39,
   "metadata": {},
   "outputs": [
    {
     "data": {
      "text/plain": [
       "1000"
      ]
     },
     "execution_count": 39,
     "metadata": {},
     "output_type": "execute_result"
    }
   ],
   "source": [
    "len(decoy_list)"
   ]
  },
  {
   "cell_type": "code",
   "execution_count": 6,
   "metadata": {},
   "outputs": [
    {
     "data": {
      "text/plain": [
       "'SLLMWITQV'"
      ]
     },
     "execution_count": 6,
     "metadata": {},
     "output_type": "execute_result"
    }
   ],
   "source": [
    "seq[180:189]"
   ]
  },
  {
   "cell_type": "code",
   "execution_count": 49,
   "metadata": {},
   "outputs": [],
   "source": [
    "a = list(seq)\n",
    "a[180:189] = list('FIFLLFLTL')"
   ]
  },
  {
   "cell_type": "code",
   "execution_count": 151,
   "metadata": {},
   "outputs": [],
   "source": []
  },
  {
   "cell_type": "code",
   "execution_count": 26,
   "metadata": {},
   "outputs": [],
   "source": [
    "all_seq = []\n",
    "for i in range(1, 91):\n",
    "    fileLocation = f\"/Users/weilu/Research/examples/optimization/optimization/Structure_Ensemble/{i}.pdb\"\n",
    "    seq = getSeq(fileLocation)\n",
    "    assert len(seq) == 414\n",
    "    all_seq.append(seq)\n",
    "#     assert preSeq == seq\n",
    "#     preSeq = seq"
   ]
  },
  {
   "cell_type": "code",
   "execution_count": 27,
   "metadata": {},
   "outputs": [
    {
     "data": {
      "text/plain": [
       "'GSHSMRYFFTSVSRPGRGEPRFIAVGYVDDTQFVRFDSDAASQRMEPRAPWIEQEGPEYWDGETRKVKAHSQTHRVDLGTLRGYYNQSEAGSHTVQRMYGCDVGSDWRFLRGYHQYAYDGKDYIALKEDLRSWTAADMAAQTTKHKWEAAHVAEQLRAYLEGTCVEWLRRYLENGKETLQSLLMWITQVQEVTQIPAALSVPEGENLVLNCSFTDSAIYNLQWFRQDPGKGLTSLLLIQSSQREQTSGRLNASLDKSSGRSTLYIAASQPGDSATYLCAVRPTSGGSYIPTFGRGTSLIVHPGVTQTPKFQVLKTGQSMTLQCAQDMNHEYMSWYRQDPGMGLRLIHYSVGAGITDQGEVPNGYNVSRSTTEDFPLRLLSAAPSQTSVYFCASSYVGNTGELFFGEGSRLTVLE'"
      ]
     },
     "execution_count": 27,
     "metadata": {},
     "output_type": "execute_result"
    }
   ],
   "source": [
    "all_seq[0]"
   ]
  },
  {
   "cell_type": "code",
   "execution_count": 28,
   "metadata": {},
   "outputs": [
    {
     "data": {
      "text/plain": [
       "True"
      ]
     },
     "execution_count": 28,
     "metadata": {},
     "output_type": "execute_result"
    }
   ],
   "source": [
    "all_seq[0] == all_seq[1]"
   ]
  },
  {
   "cell_type": "code",
   "execution_count": 29,
   "metadata": {},
   "outputs": [],
   "source": [
    "for i in range(90):\n",
    "    if all_seq[i] != all_seq[0]:\n",
    "        print(i)"
   ]
  },
  {
   "cell_type": "code",
   "execution_count": 9,
   "metadata": {},
   "outputs": [],
   "source": [
    "def getAllFrames(movieLocation):\n",
    "    # movieLocation = \"/Users/weilu/Research/examples/openMM_simulation/test_2/movie.pdb\"\n",
    "    location = movieLocation\n",
    "    with open(location) as f:\n",
    "        a = f.readlines()\n",
    "    n = len(a)\n",
    "    # get the position of every model title\n",
    "    model_title_index_list = []\n",
    "    for i in range(n):\n",
    "        if len(a[i]) >= 5 and a[i][:5] == \"MODEL\":\n",
    "            model_title_index = i\n",
    "            model_title_index_list.append(model_title_index)\n",
    "    model_title_index_list.append(n)\n",
    "    check_array = np.diff(model_title_index_list)\n",
    "    if np.allclose(check_array, check_array[0]):\n",
    "        size = check_array[0]\n",
    "    elif np.allclose(check_array[:-1], check_array[0]) and check_array[-1] == check_array[0] + 1:\n",
    "        # this is ok. with extra \"END\"\n",
    "        size = check_array[0]\n",
    "    else:  \n",
    "        print(\"!!!! Someting is wrong  !!!!\")\n",
    "        print(check_array)\n",
    "    return a"
   ]
  },
  {
   "cell_type": "code",
   "execution_count": 10,
   "metadata": {},
   "outputs": [],
   "source": [
    "num_of_frames = int(n/size)"
   ]
  },
  {
   "cell_type": "code",
   "execution_count": 11,
   "metadata": {},
   "outputs": [],
   "source": [
    "frame = 5\n",
    "oneFrame = a[size*frame:size*(frame+1)]"
   ]
  },
  {
   "cell_type": "code",
   "execution_count": 60,
   "metadata": {},
   "outputs": [],
   "source": [
    "frame = num_of_frames\n",
    "oneFrame = a[size*frame:size*(frame+1)]"
   ]
  },
  {
   "cell_type": "code",
   "execution_count": 61,
   "metadata": {},
   "outputs": [
    {
     "data": {
      "text/plain": [
       "[]"
      ]
     },
     "execution_count": 61,
     "metadata": {},
     "output_type": "execute_result"
    }
   ],
   "source": [
    "oneFrame"
   ]
  },
  {
   "cell_type": "code",
   "execution_count": 45,
   "metadata": {},
   "outputs": [],
   "source": [
    "\n",
    "\n",
    "# s = p.get_structure(\"test\", f)\n",
    "# residues = list(s.get_residues())"
   ]
  },
  {
   "cell_type": "code",
   "execution_count": 24,
   "metadata": {},
   "outputs": [],
   "source": [
    "import io\n",
    "\n",
    "f = io.StringIO(\"\".join(oneFrame))\n",
    "MAX_OFFSET=4\n",
    "DISTANCE_CUTOFF=9.5\n",
    "s = p.get_structure(\"test\", f)\n",
    "chains = s[0].get_list()\n",
    "\n",
    "# import pdb file\n",
    "native_coords = []\n",
    "for chain in chains:\n",
    "    dis = []\n",
    "    all_res = []\n",
    "    for res in chain:\n",
    "        is_regular_res = res.has_id('CA') and res.has_id('O')\n",
    "        res_id = res.get_id()[0]\n",
    "        if (res.get_resname()=='GLY'):\n",
    "            native_coords.append(res['CA'].get_coord())\n",
    "        elif (res_id==' ' or res_id=='H_MSE' or res_id=='H_M3L' or res_id=='H_CAS') and is_regular_res:\n",
    "            native_coords.append(res['CB'].get_coord())\n",
    "        else:\n",
    "            print('ERROR: irregular residue at %s!' % res)\n",
    "            exit()\n",
    "native_contacts_table = compute_native_contacts(native_coords, MAX_OFFSET, DISTANCE_CUTOFF)\n"
   ]
  },
  {
   "cell_type": "code",
   "execution_count": 25,
   "metadata": {},
   "outputs": [
    {
     "data": {
      "text/plain": [
       "array([[0, 0, 0, ..., 1, 1, 0],\n",
       "       [0, 0, 0, ..., 1, 0, 0],\n",
       "       [0, 0, 0, ..., 0, 0, 0],\n",
       "       ...,\n",
       "       [1, 1, 0, ..., 0, 0, 0],\n",
       "       [1, 0, 0, ..., 0, 0, 0],\n",
       "       [0, 0, 0, ..., 0, 0, 0]])"
      ]
     },
     "execution_count": 25,
     "metadata": {},
     "output_type": "execute_result"
    }
   ],
   "source": [
    "native_contacts_table"
   ]
  },
  {
   "cell_type": "code",
   "execution_count": 62,
   "metadata": {},
   "outputs": [
    {
     "data": {
      "text/plain": [
       "<matplotlib.image.AxesImage at 0x1a23839898>"
      ]
     },
     "execution_count": 62,
     "metadata": {},
     "output_type": "execute_result"
    },
    {
     "data": {
      "image/png": "[encoded data removed]",
      "text/plain": [
       "<Figure size 432x288 with 1 Axes>"
      ]
     },
     "metadata": {
      "needs_background": "light"
     },
     "output_type": "display_data"
    }
   ],
   "source": [
    "plt.imshow(native_contacts_table, origin=[0,0])"
   ]
  },
  {
   "cell_type": "code",
   "execution_count": null,
   "metadata": {},
   "outputs": [],
   "source": []
  }
 ],
 "metadata": {
  "kernelspec": {
   "display_name": "Python 3",
   "language": "python",
   "name": "python3"
  },
  "language_info": {
   "codemirror_mode": {
    "name": "ipython",
    "version": 3
   },
   "file_extension": ".py",
   "mimetype": "text/x-python",
   "name": "python",
   "nbconvert_exporter": "python",
   "pygments_lexer": "ipython3",
   "version": "3.6.8"
  }
 },
 "nbformat": 4,
 "nbformat_minor": 2
}
