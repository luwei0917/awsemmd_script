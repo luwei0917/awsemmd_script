{
 "cells": [
  {
   "cell_type": "code",
   "execution_count": 160,
   "metadata": {},
   "outputs": [
    {
     "name": "stdout",
     "output_type": "stream",
     "text": [
      "The autoreload extension is already loaded. To reload it, use:\n",
      "  %reload_ext autoreload\n"
     ]
    }
   ],
   "source": [
    "import os\n",
    "import sys\n",
    "import random\n",
    "import time\n",
    "from random import seed, randint\n",
    "import argparse\n",
    "import platform\n",
    "from datetime import datetime\n",
    "import imp\n",
    "import numpy as np\n",
    "import fileinput\n",
    "from itertools import product\n",
    "import pandas as pd\n",
    "from scipy.interpolate import griddata\n",
    "from scipy.interpolate import interp2d\n",
    "import seaborn as sns\n",
    "from os import listdir\n",
    "\n",
    "import matplotlib.pyplot as plt\n",
    "import seaborn as sns\n",
    "from scipy.interpolate import griddata\n",
    "import matplotlib as mpl\n",
    "# sys.path.insert(0,'..')\n",
    "# from notebookFunctions import *\n",
    "# from .. import notebookFunctions\n",
    "\n",
    "from Bio.PDB.PDBParser import PDBParser\n",
    "from pyCodeLib import *\n",
    "%matplotlib inline\n",
    "plt.rcParams['figure.figsize'] = (10,6.180)    #golden ratio\n",
    "# %matplotlib notebook\n",
    "%load_ext autoreload\n",
    "%autoreload 2"
   ]
  },
  {
   "cell_type": "code",
   "execution_count": 112,
   "metadata": {},
   "outputs": [],
   "source": [
    "code = {\"GLY\" : \"G\", \"ALA\" : \"A\", \"LEU\" : \"L\", \"ILE\" : \"I\",\n",
    "        \"ARG\" : \"R\", \"LYS\" : \"K\", \"MET\" : \"M\", \"CYS\" : \"C\",\n",
    "        \"TYR\" : \"Y\", \"THR\" : \"T\", \"PRO\" : \"P\", \"SER\" : \"S\",\n",
    "        \"TRP\" : \"W\", \"ASP\" : \"D\", \"GLU\" : \"E\", \"ASN\" : \"N\",\n",
    "        \"GLN\" : \"Q\", \"PHE\" : \"F\", \"HIS\" : \"H\", \"VAL\" : \"V\",\n",
    "        \"M3L\" : \"K\", \"MSE\" : \"M\", \"CAS\" : \"C\"}\n",
    "gamma_se_map_1_letter = {   'A': 0,  'R': 1,  'N': 2,  'D': 3,  'C': 4,\n",
    "                            'Q': 5,  'E': 6,  'G': 7,  'H': 8,  'I': 9,\n",
    "                            'L': 10, 'K': 11, 'M': 12, 'F': 13, 'P': 14,\n",
    "                            'S': 15, 'T': 16, 'W': 17, 'Y': 18, 'V': 19}"
   ]
  },
  {
   "cell_type": "code",
   "execution_count": null,
   "metadata": {},
   "outputs": [],
   "source": []
  },
  {
   "cell_type": "code",
   "execution_count": 188,
   "metadata": {},
   "outputs": [
    {
     "data": {
      "text/plain": [
       "124.14367615091811"
      ]
     },
     "execution_count": 188,
     "metadata": {},
     "output_type": "execute_result"
    }
   ],
   "source": [
    "input_pdb_filename = \"/Users/weilu/Research//server_backup/jan_2019/compute_energy/12asA00\"\n",
    "\n",
    "structure = parse_pdb(input_pdb_filename)\n",
    "res_list = get_res_list(structure)\n",
    "neighbor_list = get_neighbor_list(structure)\n",
    "sequence = get_sequence_from_structure(structure)\n",
    "    \n",
    "cb_density = calculate_cb_density(res_list, neighbor_list)\n",
    "r_min = 6.5\n",
    "r_max = 9.5\n",
    "kappa = 5.0\n",
    "min_seq_sep = 10\n",
    "density_threshold = 2.6\n",
    "density_kappa = 7.0\n",
    "# phi_mediated_contact_well = np.zeros((2, 20,20))\n",
    "v_mediated = 0\n",
    "for res1globalindex, res1 in enumerate(res_list):\n",
    "    res1index = get_local_index(res1)\n",
    "    res1chain = get_chain(res1)\n",
    "    rho_i = cb_density[res1globalindex]\n",
    "    for res2 in get_neighbors_within_radius(neighbor_list, res1, r_max+2.0):\n",
    "        res2index = get_local_index(res2)\n",
    "        res2chain = get_chain(res2)\n",
    "        res2globalindex = get_global_index(res_list, res2)\n",
    "        rho_j = cb_density[res2globalindex]\n",
    "        if res2index - res1index >= min_seq_sep or (res1chain != res2chain and res2globalindex > res1globalindex):\n",
    "            res1type = get_res_type(res_list, res1)\n",
    "            res2type = get_res_type(res_list, res2)\n",
    "            rij = get_interaction_distance(res1, res2)\n",
    "            _pij_protein = prot_water_switchFunc_sigmaProt(\n",
    "                rho_i, rho_j, density_threshold, density_kappa) * protein_gamma_ijm[0][res1type][res2type]\n",
    "            _pij_water = prot_water_switchFunc_sigmaWater(\n",
    "                rho_i, rho_j, density_threshold, density_kappa) * water_gamma_ijm[0][res1type][res2type]\n",
    "            v_mediated += (_pij_protein + _pij_water) * interaction_well(rij, r_min, r_max, kappa)\n",
    "v_mediated"
   ]
  },
  {
   "cell_type": "code",
   "execution_count": 180,
   "metadata": {},
   "outputs": [
    {
     "data": {
      "text/plain": [
       "8.335430302233311"
      ]
     },
     "execution_count": 180,
     "metadata": {},
     "output_type": "execute_result"
    }
   ],
   "source": [
    "input_pdb_filename = \"/Users/weilu/Research/server_backup/jan_2019/compute_energy/12asA00.pdb\"\n",
    "\n",
    "_all = []\n",
    "seq = \"\"\n",
    "p=PDBParser()\n",
    "structure=p.get_structure(\"x\", input_pdb_filename)\n",
    "for model in structure:\n",
    "    for chain in model:\n",
    "        for residue in chain:\n",
    "            seq += code[residue.resname]\n",
    "            if residue.resname == \"GLY\":\n",
    "                x,y,z = residue[\"CA\"].get_coord()\n",
    "            else:\n",
    "                x,y,z = residue[\"CB\"].get_coord()\n",
    "            _all.append([x,y,z])\n",
    "v_direct = 0\n",
    "n = len(data)\n",
    "for i in range(n):\n",
    "    x, y, z = data[i]\n",
    "    ai = gamma_se_map_1_letter[seq[i]]\n",
    "    for j in range(i+10, n):\n",
    "        xj, yj, zj = data[j]\n",
    "        aj = gamma_se_map_1_letter[seq[j]]\n",
    "        r = ((x-xj)**2 + (y-yj)**2 + (z-zj)**2)**0.5\n",
    "        gamma = gamma_ijm[0][ai][aj]\n",
    "#         gamma = 1\n",
    "        v_direct += gamma * interaction_well(r, 4.5, 6.5, 5)\n",
    "v_direct"
   ]
  },
  {
   "cell_type": "code",
   "execution_count": null,
   "metadata": {},
   "outputs": [],
   "source": []
  },
  {
   "cell_type": "code",
   "execution_count": 187,
   "metadata": {},
   "outputs": [],
   "source": [
    "def read_gamma(gammaFile):\n",
    "    data = np.loadtxt(gammaFile)\n",
    "    gamma_direct = data[:210]\n",
    "    gamma_mediated = data[210:]\n",
    "    return gamma_direct, gamma_mediated\n",
    "gamma_direct, gamma_mediated = read_gamma(\"/Users/weilu/openmmawsem/parameters/gamma.dat\")\n",
    "\n",
    "nwell = 1\n",
    "gamma_ijm = np.zeros((nwell, 20, 20))\n",
    "water_gamma_ijm = np.zeros((nwell, 20, 20))\n",
    "protein_gamma_ijm = np.zeros((nwell, 20, 20))\n",
    "m = 0\n",
    "count = 0\n",
    "for i in range(20):\n",
    "    for j in range(i, 20):\n",
    "        gamma_ijm[m][i][j] = gamma_direct[count][0]\n",
    "        gamma_ijm[m][j][i] = gamma_direct[count][0]\n",
    "        count += 1\n",
    "count = 0\n",
    "for i in range(20):\n",
    "    for j in range(i, 20):\n",
    "        water_gamma_ijm[m][i][j] = gamma_mediated[count][1]\n",
    "        water_gamma_ijm[m][j][i] = gamma_mediated[count][1]\n",
    "        count += 1\n",
    "count = 0\n",
    "for i in range(20):\n",
    "    for j in range(i, 20):\n",
    "        protein_gamma_ijm[m][i][j] = gamma_mediated[count][0]\n",
    "        protein_gamma_ijm[m][j][i] = gamma_mediated[count][0]\n",
    "        count += 1\n"
   ]
  },
  {
   "cell_type": "code",
   "execution_count": null,
   "metadata": {},
   "outputs": [],
   "source": [
    "\n"
   ]
  },
  {
   "cell_type": "code",
   "execution_count": 77,
   "metadata": {},
   "outputs": [],
   "source": [
    "input_pdb_filename = \"/Users/weilu/Research/server_backup/jan_2019/compute_energy/12asA00.pdb\""
   ]
  },
  {
   "cell_type": "code",
   "execution_count": 113,
   "metadata": {},
   "outputs": [],
   "source": [
    "from Bio.PDB.PDBParser import PDBParser\n",
    "_all = []\n",
    "seq = \"\"\n",
    "p=PDBParser()\n",
    "structure=p.get_structure(\"x\", input_pdb_filename)\n",
    "for model in structure:\n",
    "    for chain in model:\n",
    "        for residue in chain:\n",
    "            seq += code[residue.resname]\n",
    "            if residue.resname == \"GLY\":\n",
    "                x,y,z = residue[\"CA\"].get_coord()\n",
    "            else:\n",
    "                x,y,z = residue[\"CB\"].get_coord()\n",
    "            _all.append([x,y,z])"
   ]
  },
  {
   "cell_type": "code",
   "execution_count": 114,
   "metadata": {},
   "outputs": [],
   "source": [
    "data = np.array(_all)"
   ]
  },
  {
   "cell_type": "code",
   "execution_count": 115,
   "metadata": {},
   "outputs": [
    {
     "data": {
      "text/plain": [
       "(327, 3)"
      ]
     },
     "execution_count": 115,
     "metadata": {},
     "output_type": "execute_result"
    }
   ],
   "source": [
    "data.shape"
   ]
  },
  {
   "cell_type": "code",
   "execution_count": 116,
   "metadata": {},
   "outputs": [
    {
     "data": {
      "text/plain": [
       "327"
      ]
     },
     "execution_count": 116,
     "metadata": {},
     "output_type": "execute_result"
    }
   ],
   "source": [
    "len(seq)"
   ]
  },
  {
   "cell_type": "code",
   "execution_count": null,
   "metadata": {},
   "outputs": [],
   "source": [
    "input_pdb_filename = \"/Users/weilu/Research/server_backup/jan_2019/compute_energy/12asA00\"\n",
    "def compute_mediated(input_pdb_filename):\n",
    "    structure = parse_pdb(input_pdb_filename)\n",
    "    res_list = get_res_list(structure)\n",
    "    neighbor_list = get_neighbor_list(structure)\n",
    "    sequence = get_sequence_from_structure(structure)\n",
    "    cb_density = calculate_cb_density(res_list, neighbor_list)\n",
    "    r_min = 6.5\n",
    "    r_max = 9.5\n",
    "    kappa = 5.0\n",
    "    min_seq_sep = 10\n",
    "    density_threshold = 2.6\n",
    "    density_kappa = 7.0\n",
    "    # phi_mediated_contact_well = np.zeros((2, 20,20))\n",
    "    v_mediated = 0\n",
    "    for res1globalindex, res1 in enumerate(res_list):\n",
    "        res1index = get_local_index(res1)\n",
    "        res1chain = get_chain(res1)\n",
    "        rho_i = cb_density[res1globalindex]\n",
    "        for res2 in get_neighbors_within_radius(neighbor_list, res1, r_max+2.0):\n",
    "            res2index = get_local_index(res2)\n",
    "            res2chain = get_chain(res2)\n",
    "            res2globalindex = get_global_index(res_list, res2)\n",
    "            rho_j = cb_density[res2globalindex]\n",
    "            if res2index - res1index >= min_seq_sep or (res1chain != res2chain and res2globalindex > res1globalindex):\n",
    "                res1type = get_res_type(res_list, res1)\n",
    "                res2type = get_res_type(res_list, res2)\n",
    "                rij = get_interaction_distance(res1, res2)\n",
    "                _pij_protein = prot_water_switchFunc_sigmaProt(\n",
    "                    rho_i, rho_j, density_threshold, density_kappa) * protein_gamma_ijm[0][res1type][res2type]\n",
    "                _pij_water = prot_water_switchFunc_sigmaWater(\n",
    "                    rho_i, rho_j, density_threshold, density_kappa) * water_gamma_ijm[0][res1type][res2type]\n",
    "                v_mediated += (_pij_protein + _pij_water) * interaction_well(rij, r_min, r_max, kappa)\n",
    "    return v_mediated"
   ]
  },
  {
   "cell_type": "code",
   "execution_count": 179,
   "metadata": {},
   "outputs": [],
   "source": [
    "input_pdb_filename = \"/Users/weilu/Research/server_backup/jan_2019/compute_energy/12asA00\"\n",
    "def compute_direct(input_pdb_filename):\n",
    "    structure = parse_pdb(input_pdb_filename)\n",
    "    res_list = get_res_list(structure)\n",
    "    neighbor_list = get_neighbor_list(structure)\n",
    "    sequence = get_sequence_from_structure(structure)\n",
    "    r_min = 4.5\n",
    "    r_max = 6.5\n",
    "    kappa = 5\n",
    "    min_seq_sep = 10\n",
    "    # phi_pairwise_contact_well = np.zeros((20,20))\n",
    "    v_direct = 0\n",
    "    for res1globalindex, res1 in enumerate(res_list):\n",
    "        res1index = get_local_index(res1)\n",
    "        res1chain = get_chain(res1)\n",
    "        for res2 in get_neighbors_within_radius(neighbor_list, res1, r_max+2.0):\n",
    "            res2index = get_local_index(res2)\n",
    "            res2chain = get_chain(res2)\n",
    "            res2globalindex = get_global_index(res_list, res2)\n",
    "            if res2index - res1index >= min_seq_sep or (res1chain != res2chain and res2globalindex > res1globalindex):\n",
    "                res1type = get_res_type(res_list, res1)\n",
    "                res2type = get_res_type(res_list, res2)\n",
    "                rij = get_interaction_distance(res1, res2)\n",
    "                gamma = gamma_ijm[0][res1type][res2type]\n",
    "    #             phi_pairwise_contact_well[res1type][res2type] += interaction_well(rij, r_min, r_max, kappa)\n",
    "                v_direct += gamma * interaction_well(rij, r_min, r_max, kappa)\n",
    "    return v_direct"
   ]
  },
  {
   "cell_type": "code",
   "execution_count": 158,
   "metadata": {},
   "outputs": [],
   "source": [
    "input_pdb_filename = \"/Users/weilu/Research/server_backup/jan_2019/compute_energy/12asA00.pdb\"\n",
    "def compute_direct(input_pdb_filename):\n",
    "    _all = []\n",
    "    seq = \"\"\n",
    "    p=PDBParser()\n",
    "    structure=p.get_structure(\"x\", input_pdb_filename)\n",
    "    for model in structure:\n",
    "        for chain in model:\n",
    "            for residue in chain:\n",
    "                seq += code[residue.resname]\n",
    "                if residue.resname == \"GLY\":\n",
    "                    x,y,z = residue[\"CA\"].get_coord()\n",
    "                else:\n",
    "                    x,y,z = residue[\"CB\"].get_coord()\n",
    "                _all.append([x,y,z])\n",
    "    v_direct = 0\n",
    "    n = len(data)\n",
    "    for i in range(n):\n",
    "        x, y, z = data[i]\n",
    "        ai = gamma_se_map_1_letter[seq[i]]\n",
    "        for j in range(i+10, n):\n",
    "            xj, yj, zj = data[j]\n",
    "            aj = gamma_se_map_1_letter[seq[j]]\n",
    "            r = ((x-xj)**2 + (y-yj)**2 + (z-zj)**2)**0.5\n",
    "            gamma = gamma_ijm[0][ai][aj]\n",
    "    #         gamma = 1\n",
    "            v_direct += gamma * interaction_well(r, 4.5, 6.5, 5)\n",
    "    #         v_direct += 1\n",
    "    return v_direct "
   ]
  },
  {
   "cell_type": "code",
   "execution_count": 159,
   "metadata": {},
   "outputs": [
    {
     "data": {
      "text/plain": [
       "8.33543028505272"
      ]
     },
     "execution_count": 159,
     "metadata": {},
     "output_type": "execute_result"
    }
   ],
   "source": [
    "compute_direct(input_pdb_filename)"
   ]
  },
  {
   "cell_type": "code",
   "execution_count": 152,
   "metadata": {},
   "outputs": [
    {
     "data": {
      "text/plain": [
       "50403"
      ]
     },
     "execution_count": 152,
     "metadata": {},
     "output_type": "execute_result"
    }
   ],
   "source": [
    "v_direct = 0\n",
    "n = len(data)\n",
    "for i in range(n):\n",
    "    x, y, z = data[i]\n",
    "    ai = gamma_se_map_1_letter[seq[i]]\n",
    "    for j in range(i+10, n):\n",
    "        xj, yj, zj = data[j]\n",
    "        aj = gamma_se_map_1_letter[seq[j]]\n",
    "        r = ((x-xj)**2 + (y-yj)**2 + (z-zj)**2)**0.5\n",
    "        gamma = gamma_ijm[0][ai][aj]\n",
    "        gamma = 1\n",
    "#         v_direct += gamma * interaction_well(r, 4.5, 6.5, 5)\n",
    "        v_direct += 1\n",
    "v_direct "
   ]
  },
  {
   "cell_type": "code",
   "execution_count": 148,
   "metadata": {},
   "outputs": [
    {
     "data": {
      "text/plain": [
       "154.13761467889907"
      ]
     },
     "execution_count": 148,
     "metadata": {},
     "output_type": "execute_result"
    }
   ],
   "source": [
    "50403/327"
   ]
  },
  {
   "cell_type": "code",
   "execution_count": null,
   "metadata": {},
   "outputs": [],
   "source": []
  },
  {
   "cell_type": "code",
   "execution_count": 141,
   "metadata": {},
   "outputs": [
    {
     "data": {
      "text/plain": [
       "<matplotlib.colorbar.Colorbar at 0x1a1b76a0b8>"
      ]
     },
     "execution_count": 141,
     "metadata": {},
     "output_type": "execute_result"
    },
    {
     "data": {
      "image/png": "[encoded data removed]",
      "text/plain": [
       "<Figure size 432x288 with 2 Axes>"
      ]
     },
     "metadata": {
      "needs_background": "light"
     },
     "output_type": "display_data"
    }
   ],
   "source": [
    "plt.imshow(gamma_ijm[0], cmap=\"RdBu_r\")\n",
    "plt.colorbar()"
   ]
  },
  {
   "cell_type": "code",
   "execution_count": 132,
   "metadata": {},
   "outputs": [],
   "source": [
    "def interaction_well(r, r_min, r_max, kappa):\n",
    "    return 0.5 * (np.tanh(kappa * (r - r_min)) * np.tanh(kappa * (r_max - r))) + 0.5"
   ]
  },
  {
   "cell_type": "code",
   "execution_count": 153,
   "metadata": {},
   "outputs": [],
   "source": [
    "# same as below\n",
    "def interaction_well(r, r_min, r_max, kappa):\n",
    "    return 0.25 * (1 + np.tanh(kappa*(r-r_min)))* (1 + np.tanh(kappa*(r_max-r)))"
   ]
  },
  {
   "cell_type": "code",
   "execution_count": null,
   "metadata": {},
   "outputs": [],
   "source": []
  },
  {
   "cell_type": "code",
   "execution_count": 74,
   "metadata": {},
   "outputs": [],
   "source": [
    "def compute_chi(data):\n",
    "    ca_all = data.query(\"type == 'CA'\")[[\"x\",\"y\",\"z\"]].values\n",
    "    cb_all = data.query(\"type == 'CB'\")[[\"x\",\"y\",\"z\"]].values\n",
    "    c_all = data.query(\"type == 'C'\")[[\"x\",\"y\",\"z\"]].values\n",
    "    n_all = data.query(\"type == 'N'\")[[\"x\",\"y\",\"z\"]].values\n",
    "    print(len(ca_all), len(cb_all), len(c_all), len(n_all))\n",
    "    energy = 0 \n",
    "    for i in range(len(n_all)):\n",
    "        ca = ca_all[i]\n",
    "        cb = cb_all[i]\n",
    "        c = c_all[i]\n",
    "        n = n_all[i]\n",
    "        chi0 = -0.83\n",
    "        k_chi = 20*4.184\n",
    "        r_ca_cb = cb-ca\n",
    "        r_c_ca = ca-c\n",
    "        r_ca_n = n-ca\n",
    "        norm_r_ca_cb = np.sum(r_ca_cb**2)**0.5\n",
    "        norm_r_c_ca = np.sum(r_c_ca**2)**0.5\n",
    "        norm_r_ca_n = np.sum(r_ca_n**2)**0.5\n",
    "        a = np.cross(-r_c_ca,r_ca_n)/norm_r_c_ca/norm_r_ca_n\n",
    "        chi = np.dot(a,r_ca_cb)/norm_r_ca_cb\n",
    "        dchi = chi - chi0\n",
    "        energy += k_chi*dchi*dchi\n",
    "    return energy"
   ]
  },
  {
   "cell_type": "code",
   "execution_count": null,
   "metadata": {},
   "outputs": [],
   "source": [
    "input_pdb_filename = \"/Users/weilu/Research/server_backup/jan_2019/compute_energy/openmm/12as-openmmawsem.pdb\"\n",
    "data = pd.read_table(input_pdb_filename, sep=\"\\s+\", header=None, names=[\"_\",\"i\",\"type\",\"res\",\"chain\",\"res_id\", \"x\",\"y\",\"z\",\"_1\",\"_2\",\"_3\"])\n",
    "data = data.dropna().reset_index()\n",
    "data[\"res_id\"] = data[\"res_id\"].apply(lambda x: int(x))\n",
    "data[\"x\"] = data[\"x\"].astype(float)"
   ]
  },
  {
   "cell_type": "code",
   "execution_count": 76,
   "metadata": {},
   "outputs": [
    {
     "name": "stdout",
     "output_type": "stream",
     "text": [
      "296 296 296 296\n"
     ]
    },
    {
     "data": {
      "text/plain": [
       "84.52557845383485"
      ]
     },
     "execution_count": 76,
     "metadata": {},
     "output_type": "execute_result"
    }
   ],
   "source": [
    "chosen = data.query(\"res != 'IGL' and res_id != 1 and res_id != 327\")\n",
    "compute_chi(chosen)/4.184"
   ]
  },
  {
   "cell_type": "code",
   "execution_count": null,
   "metadata": {},
   "outputs": [],
   "source": []
  },
  {
   "cell_type": "code",
   "execution_count": null,
   "metadata": {},
   "outputs": [],
   "source": [
    "def read_beta_parameters():\n",
    "    ### directly copied from Nick Schafer's\n",
    "    #os.chdir(parameter_directory)\n",
    "    in_anti_HB = open(\"anti_HB\", 'r').readlines()\n",
    "    in_anti_NHB = open(\"anti_NHB\", 'r').readlines()\n",
    "    in_para_HB = open(\"para_HB\", 'r').readlines()\n",
    "    in_para_one = open(\"para_one\", 'r').readlines()\n",
    "    in_anti_one = open(\"anti_one\", 'r').readlines()\n",
    "\n",
    "    p_par = np.zeros((20))\n",
    "    p_anti = np.zeros((20))\n",
    "    p_antihb = np.zeros((20,20,2))\n",
    "    p_antinhb = np.zeros((20,20,2))\n",
    "    p_parhb = np.zeros((20,20,2))\n",
    "\n",
    "    for i in range(20):\n",
    "        p_par[i] = float(in_para_one[i].strip())\n",
    "        p_anti[i] = float(in_anti_one[i].strip())\n",
    "        for j in range(20):\n",
    "            p_antihb[i][j][0] = float(in_anti_HB[i].strip().split()[j])\n",
    "            p_antinhb[i][j][0] = float(in_anti_NHB[i].strip().split()[j])\n",
    "            p_parhb[i][j][0] = float(in_para_HB[i].strip().split()[j])\n",
    "\n",
    "    for i in range(20):\n",
    "        for j in range(20):\n",
    "            p_antihb[i][j][1] = float(in_anti_HB[i+21].strip().split()[j])\n",
    "            p_antinhb[i][j][1] = float(in_anti_NHB[i+21].strip().split()[j])\n",
    "            p_parhb[i][j][1] = float(in_para_HB[i+21].strip().split()[j])\n",
    "    return p_par, p_anti, p_antihb, p_antinhb, p_parhb"
   ]
  }
 ],
 "metadata": {
  "kernelspec": {
   "display_name": "Python 3",
   "language": "python",
   "name": "python3"
  },
  "language_info": {
   "codemirror_mode": {
    "name": "ipython",
    "version": 3
   },
   "file_extension": ".py",
   "mimetype": "text/x-python",
   "name": "python",
   "nbconvert_exporter": "python",
   "pygments_lexer": "ipython3",
   "version": "3.6.8"
  }
 },
 "nbformat": 4,
 "nbformat_minor": 2
}
