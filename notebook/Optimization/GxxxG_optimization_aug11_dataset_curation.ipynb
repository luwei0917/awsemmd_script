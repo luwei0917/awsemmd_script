{
 "cells": [
  {
   "cell_type": "code",
   "execution_count": 1,
   "metadata": {},
   "outputs": [],
   "source": [
    "import os\n",
    "import sys\n",
    "import random\n",
    "import time\n",
    "from random import seed, randint\n",
    "import argparse\n",
    "import platform\n",
    "from datetime import datetime\n",
    "import imp\n",
    "import numpy as np\n",
    "import fileinput\n",
    "from itertools import product\n",
    "import pandas as pd\n",
    "from scipy.interpolate import griddata\n",
    "from scipy.interpolate import interp2d\n",
    "import seaborn as sns\n",
    "from os import listdir\n",
    "\n",
    "import matplotlib.pyplot as plt\n",
    "import seaborn as sns\n",
    "from scipy.interpolate import griddata\n",
    "import matplotlib as mpl\n",
    "# sys.path.insert(0,'..')\n",
    "# from notebookFunctions import *\n",
    "# from .. import notebookFunctions\n",
    "\n",
    "from Bio.PDB.PDBParser import PDBParser\n",
    "sys.path.insert(0, '/Users/weilu/Research/opt_server/')\n",
    "from pyCodeLib import *\n",
    "%matplotlib inline\n",
    "plt.rcParams['figure.figsize'] = np.array([10,6.180])    #golden ratio\n",
    "plt.rcParams['figure.facecolor'] = 'w'\n",
    "# %matplotlib notebook\n",
    "%load_ext autoreload\n",
    "%autoreload 2"
   ]
  },
  {
   "cell_type": "markdown",
   "metadata": {},
   "source": [
    "# narrow down the training set to single chain.\n",
    "## in order to get MSA data.(also, I can do more shuffling with smaller proteins)"
   ]
  },
  {
   "cell_type": "code",
   "execution_count": 2,
   "metadata": {
    "collapsed": true
   },
   "outputs": [],
   "source": [
    "data = pd.read_csv(\"/Users/weilu/Research/database/para_anti_para_with_six_letter_code.csv\", index_col=0)"
   ]
  },
  {
   "cell_type": "code",
   "execution_count": 3,
   "metadata": {},
   "outputs": [],
   "source": [
    "# remove all that chain1 is different from chain2\n",
    "selected = data.query(\"Chain1 == Chain2\").reset_index(drop=True)"
   ]
  },
  {
   "cell_type": "code",
   "execution_count": 4,
   "metadata": {
    "collapsed": true
   },
   "outputs": [],
   "source": [
    "# then group by protein, select the chain occured most frequent.\n",
    "selected_chain = selected.groupby(\"Protein\")[\"Chain1\"].apply(pd.Series.mode).reset_index().query(\"level_1 == 0\")"
   ]
  },
  {
   "cell_type": "code",
   "execution_count": 5,
   "metadata": {
    "collapsed": true
   },
   "outputs": [],
   "source": [
    "# keep those that selected.\n",
    "selected_chain[\"pair\"] = selected_chain[\"Protein\"] + \"_\" + selected_chain[\"Chain1\"]\n",
    "pair_list = selected_chain[\"pair\"].to_list()\n",
    "selected[\"pair\"] = selected[\"Protein\"] + \"_\" + selected[\"Chain1\"]\n",
    "s2 = selected.query(\"pair in @pair_list\")"
   ]
  },
  {
   "cell_type": "code",
   "execution_count": 6,
   "metadata": {},
   "outputs": [
    {
     "data": {
      "text/plain": [
       "<matplotlib.axes._subplots.AxesSubplot at 0x7feee9822b00>"
      ]
     },
     "execution_count": 6,
     "metadata": {},
     "output_type": "execute_result"
    },
    {
     "data": {
      "image/png": "[encoded data removed]",
      "text/plain": [
       "<Figure size 720x444.96 with 1 Axes>"
      ]
     },
     "metadata": {},
     "output_type": "display_data"
    }
   ],
   "source": [
    "s2[\"Protein\"].value_counts().hist(bins=30)"
   ]
  },
  {
   "cell_type": "code",
   "execution_count": 7,
   "metadata": {},
   "outputs": [],
   "source": [
    "unique_structure_pdbs = pd.read_csv(\"/Users/weilu/Research/database/proteins-2020-08-18.csv\")"
   ]
  },
  {
   "cell_type": "code",
   "execution_count": 8,
   "metadata": {},
   "outputs": [],
   "source": [
    "unique_structure_pdbs[\"Protein\"] = unique_structure_pdbs[\"pdbid\"].apply(lambda x: x[2:6])"
   ]
  },
  {
   "cell_type": "code",
   "execution_count": 9,
   "metadata": {},
   "outputs": [],
   "source": [
    "unique_structure_pdb_id = unique_structure_pdbs[\"Protein\"].to_list()\n",
    "s3 = s2.query(\"Protein in @unique_structure_pdb_id\")"
   ]
  },
  {
   "cell_type": "code",
   "execution_count": 10,
   "metadata": {},
   "outputs": [
    {
     "data": {
      "text/plain": [
       "<matplotlib.axes._subplots.AxesSubplot at 0x7feee95c5898>"
      ]
     },
     "execution_count": 10,
     "metadata": {},
     "output_type": "execute_result"
    },
    {
     "data": {
      "image/png": "[encoded data removed]",
      "text/plain": [
       "<Figure size 720x444.96 with 1 Axes>"
      ]
     },
     "metadata": {},
     "output_type": "display_data"
    }
   ],
   "source": [
    "s3[\"Protein\"].value_counts().hist(bins=50)"
   ]
  },
  {
   "cell_type": "code",
   "execution_count": 11,
   "metadata": {},
   "outputs": [
    {
     "data": {
      "text/plain": [
       "(1956,)"
      ]
     },
     "execution_count": 11,
     "metadata": {},
     "output_type": "execute_result"
    }
   ],
   "source": [
    "s3[\"Protein\"].unique().shape"
   ]
  },
  {
   "cell_type": "code",
   "execution_count": 12,
   "metadata": {
    "collapsed": true
   },
   "outputs": [],
   "source": [
    "# s3.to_csv(\"/Users/weilu/Research/database/gxxxg_s3.csv\")\n",
    "# pd.read_csv(\"/Users/weilu/Research/database/gxxxg_s3.csv\", index_col=0)\n",
    "t = s3[\"pair\"].unique()\n",
    "protein, chain = t[0].split(\"_\")"
   ]
  },
  {
   "cell_type": "code",
   "execution_count": 13,
   "metadata": {
    "collapsed": true
   },
   "outputs": [],
   "source": [
    "# 4hfi is ok\n",
    "# s3.query(\"Protein=='4hfi'\")"
   ]
  },
  {
   "cell_type": "code",
   "execution_count": 14,
   "metadata": {},
   "outputs": [],
   "source": [
    "interaction_count = s3[\"Protein\"].value_counts().reset_index()"
   ]
  },
  {
   "cell_type": "code",
   "execution_count": 15,
   "metadata": {},
   "outputs": [],
   "source": [
    "filtered_pdbs = interaction_count.query(\"Protein > 15\")[\"index\"].to_list()"
   ]
  },
  {
   "cell_type": "code",
   "execution_count": 16,
   "metadata": {},
   "outputs": [],
   "source": [
    "s4 = s3.query(\"Protein in @filtered_pdbs\")"
   ]
  },
  {
   "cell_type": "code",
   "execution_count": 17,
   "metadata": {},
   "outputs": [],
   "source": [
    "# s4.to_csv(\"/Users/weilu/Research/database/gxxxg_s4.csv\")\n",
    "# pd.read_csv(\"/Users/weilu/Research/database/gxxxg_s4.csv\", index_col=0)"
   ]
  },
  {
   "cell_type": "code",
   "execution_count": 18,
   "metadata": {},
   "outputs": [
    {
     "data": {
      "text/plain": [
       "(1747,)"
      ]
     },
     "execution_count": 18,
     "metadata": {},
     "output_type": "execute_result"
    }
   ],
   "source": [
    "s4[\"pair\"].unique().shape"
   ]
  },
  {
   "cell_type": "code",
   "execution_count": 19,
   "metadata": {
    "collapsed": true
   },
   "outputs": [],
   "source": [
    "a = s4.groupby([\"Res1_1\", \"Res1_2\", \"Res2_1\", \"Res2_2\", \"Direction\"])[\"Protein\"].count().reset_index().sort_values(\"Protein\")"
   ]
  },
  {
   "cell_type": "code",
   "execution_count": 25,
   "metadata": {},
   "outputs": [
    {
     "data": {
      "text/html": [
       "<div>\n",
       "<style scoped>\n",
       "    .dataframe tbody tr th:only-of-type {\n",
       "        vertical-align: middle;\n",
       "    }\n",
       "\n",
       "    .dataframe tbody tr th {\n",
       "        vertical-align: top;\n",
       "    }\n",
       "\n",
       "    .dataframe thead th {\n",
       "        text-align: right;\n",
       "    }\n",
       "</style>\n",
       "<table border=\"1\" class=\"dataframe\">\n",
       "  <thead>\n",
       "    <tr style=\"text-align: right;\">\n",
       "      <th></th>\n",
       "      <th>index</th>\n",
       "      <th>Index1_1</th>\n",
       "      <th>Res1_1</th>\n",
       "      <th>Index2_1</th>\n",
       "      <th>Res2_1</th>\n",
       "      <th>Index1_2</th>\n",
       "      <th>Res1_2</th>\n",
       "      <th>Index2_2</th>\n",
       "      <th>Res2_2</th>\n",
       "      <th>Res1</th>\n",
       "      <th>Chain1</th>\n",
       "      <th>Res2</th>\n",
       "      <th>Chain2</th>\n",
       "      <th>rij</th>\n",
       "      <th>rij_2</th>\n",
       "      <th>Protein</th>\n",
       "      <th>Direction</th>\n",
       "      <th>interaction_index</th>\n",
       "      <th>code</th>\n",
       "      <th>pair</th>\n",
       "    </tr>\n",
       "  </thead>\n",
       "  <tbody>\n",
       "    <tr>\n",
       "      <td>41</td>\n",
       "      <td>319</td>\n",
       "      <td>209</td>\n",
       "      <td>MET</td>\n",
       "      <td>252</td>\n",
       "      <td>PHE</td>\n",
       "      <td>213</td>\n",
       "      <td>ILE</td>\n",
       "      <td>248</td>\n",
       "      <td>VAL</td>\n",
       "      <td>44</td>\n",
       "      <td>B</td>\n",
       "      <td>91</td>\n",
       "      <td>B</td>\n",
       "      <td>5.343194</td>\n",
       "      <td>5.318576</td>\n",
       "      <td>3cap</td>\n",
       "      <td>anti</td>\n",
       "      <td>12</td>\n",
       "      <td>301</td>\n",
       "      <td>3cap_B</td>\n",
       "    </tr>\n",
       "    <tr>\n",
       "      <td>42</td>\n",
       "      <td>320</td>\n",
       "      <td>209</td>\n",
       "      <td>MET</td>\n",
       "      <td>256</td>\n",
       "      <td>LEU</td>\n",
       "      <td>213</td>\n",
       "      <td>ILE</td>\n",
       "      <td>252</td>\n",
       "      <td>PHE</td>\n",
       "      <td>44</td>\n",
       "      <td>B</td>\n",
       "      <td>95</td>\n",
       "      <td>B</td>\n",
       "      <td>6.288851</td>\n",
       "      <td>6.254056</td>\n",
       "      <td>3cap</td>\n",
       "      <td>anti</td>\n",
       "      <td>12</td>\n",
       "      <td>301</td>\n",
       "      <td>3cap_B</td>\n",
       "    </tr>\n",
       "    <tr>\n",
       "      <td>43</td>\n",
       "      <td>321</td>\n",
       "      <td>212</td>\n",
       "      <td>LEU</td>\n",
       "      <td>252</td>\n",
       "      <td>PHE</td>\n",
       "      <td>216</td>\n",
       "      <td>GLY</td>\n",
       "      <td>248</td>\n",
       "      <td>VAL</td>\n",
       "      <td>47</td>\n",
       "      <td>B</td>\n",
       "      <td>91</td>\n",
       "      <td>B</td>\n",
       "      <td>4.410215</td>\n",
       "      <td>5.070871</td>\n",
       "      <td>3cap</td>\n",
       "      <td>anti</td>\n",
       "      <td>77</td>\n",
       "      <td>100201</td>\n",
       "      <td>3cap_B</td>\n",
       "    </tr>\n",
       "    <tr>\n",
       "      <td>44</td>\n",
       "      <td>326</td>\n",
       "      <td>213</td>\n",
       "      <td>ILE</td>\n",
       "      <td>253</td>\n",
       "      <td>THR</td>\n",
       "      <td>217</td>\n",
       "      <td>PHE</td>\n",
       "      <td>249</td>\n",
       "      <td>PHE</td>\n",
       "      <td>48</td>\n",
       "      <td>B</td>\n",
       "      <td>92</td>\n",
       "      <td>B</td>\n",
       "      <td>5.502128</td>\n",
       "      <td>6.142965</td>\n",
       "      <td>3cap</td>\n",
       "      <td>anti</td>\n",
       "      <td>39</td>\n",
       "      <td>10102</td>\n",
       "      <td>3cap_B</td>\n",
       "    </tr>\n",
       "    <tr>\n",
       "      <td>45</td>\n",
       "      <td>336</td>\n",
       "      <td>216</td>\n",
       "      <td>GLY</td>\n",
       "      <td>248</td>\n",
       "      <td>VAL</td>\n",
       "      <td>220</td>\n",
       "      <td>ASN</td>\n",
       "      <td>244</td>\n",
       "      <td>ASP</td>\n",
       "      <td>51</td>\n",
       "      <td>B</td>\n",
       "      <td>87</td>\n",
       "      <td>B</td>\n",
       "      <td>5.070871</td>\n",
       "      <td>3.861909</td>\n",
       "      <td>3cap</td>\n",
       "      <td>anti</td>\n",
       "      <td>76</td>\n",
       "      <td>100120</td>\n",
       "      <td>3cap_B</td>\n",
       "    </tr>\n",
       "    <tr>\n",
       "      <td>...</td>\n",
       "      <td>...</td>\n",
       "      <td>...</td>\n",
       "      <td>...</td>\n",
       "      <td>...</td>\n",
       "      <td>...</td>\n",
       "      <td>...</td>\n",
       "      <td>...</td>\n",
       "      <td>...</td>\n",
       "      <td>...</td>\n",
       "      <td>...</td>\n",
       "      <td>...</td>\n",
       "      <td>...</td>\n",
       "      <td>...</td>\n",
       "      <td>...</td>\n",
       "      <td>...</td>\n",
       "      <td>...</td>\n",
       "      <td>...</td>\n",
       "      <td>...</td>\n",
       "      <td>...</td>\n",
       "      <td>...</td>\n",
       "    </tr>\n",
       "    <tr>\n",
       "      <td>600241</td>\n",
       "      <td>2277753</td>\n",
       "      <td>555</td>\n",
       "      <td>LEU</td>\n",
       "      <td>748</td>\n",
       "      <td>THR</td>\n",
       "      <td>559</td>\n",
       "      <td>PHE</td>\n",
       "      <td>752</td>\n",
       "      <td>ALA</td>\n",
       "      <td>317</td>\n",
       "      <td>B</td>\n",
       "      <td>681</td>\n",
       "      <td>B</td>\n",
       "      <td>5.458916</td>\n",
       "      <td>5.365570</td>\n",
       "      <td>6c96</td>\n",
       "      <td>parallel</td>\n",
       "      <td>58</td>\n",
       "      <td>20101</td>\n",
       "      <td>6c96_B</td>\n",
       "    </tr>\n",
       "    <tr>\n",
       "      <td>600242</td>\n",
       "      <td>2277757</td>\n",
       "      <td>558</td>\n",
       "      <td>VAL</td>\n",
       "      <td>748</td>\n",
       "      <td>THR</td>\n",
       "      <td>562</td>\n",
       "      <td>PHE</td>\n",
       "      <td>752</td>\n",
       "      <td>ALA</td>\n",
       "      <td>320</td>\n",
       "      <td>B</td>\n",
       "      <td>681</td>\n",
       "      <td>B</td>\n",
       "      <td>4.720123</td>\n",
       "      <td>4.583742</td>\n",
       "      <td>6c96</td>\n",
       "      <td>parallel</td>\n",
       "      <td>58</td>\n",
       "      <td>20101</td>\n",
       "      <td>6c96_B</td>\n",
       "    </tr>\n",
       "    <tr>\n",
       "      <td>600243</td>\n",
       "      <td>2277758</td>\n",
       "      <td>558</td>\n",
       "      <td>VAL</td>\n",
       "      <td>752</td>\n",
       "      <td>ALA</td>\n",
       "      <td>562</td>\n",
       "      <td>PHE</td>\n",
       "      <td>756</td>\n",
       "      <td>GLU</td>\n",
       "      <td>320</td>\n",
       "      <td>B</td>\n",
       "      <td>685</td>\n",
       "      <td>B</td>\n",
       "      <td>5.797050</td>\n",
       "      <td>5.380803</td>\n",
       "      <td>6c96</td>\n",
       "      <td>parallel</td>\n",
       "      <td>40</td>\n",
       "      <td>10111</td>\n",
       "      <td>6c96_B</td>\n",
       "    </tr>\n",
       "    <tr>\n",
       "      <td>600244</td>\n",
       "      <td>2277779</td>\n",
       "      <td>601</td>\n",
       "      <td>TYR</td>\n",
       "      <td>639</td>\n",
       "      <td>ALA</td>\n",
       "      <td>605</td>\n",
       "      <td>LEU</td>\n",
       "      <td>643</td>\n",
       "      <td>LEU</td>\n",
       "      <td>480</td>\n",
       "      <td>B</td>\n",
       "      <td>519</td>\n",
       "      <td>B</td>\n",
       "      <td>5.407334</td>\n",
       "      <td>5.468802</td>\n",
       "      <td>6c96</td>\n",
       "      <td>parallel</td>\n",
       "      <td>42</td>\n",
       "      <td>10201</td>\n",
       "      <td>6c96_B</td>\n",
       "    </tr>\n",
       "    <tr>\n",
       "      <td>600245</td>\n",
       "      <td>2277822</td>\n",
       "      <td>717</td>\n",
       "      <td>LEU</td>\n",
       "      <td>739</td>\n",
       "      <td>PHE</td>\n",
       "      <td>721</td>\n",
       "      <td>THR</td>\n",
       "      <td>743</td>\n",
       "      <td>THR</td>\n",
       "      <td>641</td>\n",
       "      <td>B</td>\n",
       "      <td>672</td>\n",
       "      <td>B</td>\n",
       "      <td>5.016036</td>\n",
       "      <td>4.414836</td>\n",
       "      <td>6c96</td>\n",
       "      <td>parallel</td>\n",
       "      <td>58</td>\n",
       "      <td>20101</td>\n",
       "      <td>6c96_B</td>\n",
       "    </tr>\n",
       "  </tbody>\n",
       "</table>\n",
       "<p>132497 rows × 20 columns</p>\n",
       "</div>"
      ],
      "text/plain": [
       "          index  Index1_1 Res1_1  Index2_1 Res2_1  Index1_2 Res1_2  Index2_2  \\\n",
       "41          319       209    MET       252    PHE       213    ILE       248   \n",
       "42          320       209    MET       256    LEU       213    ILE       252   \n",
       "43          321       212    LEU       252    PHE       216    GLY       248   \n",
       "44          326       213    ILE       253    THR       217    PHE       249   \n",
       "45          336       216    GLY       248    VAL       220    ASN       244   \n",
       "...         ...       ...    ...       ...    ...       ...    ...       ...   \n",
       "600241  2277753       555    LEU       748    THR       559    PHE       752   \n",
       "600242  2277757       558    VAL       748    THR       562    PHE       752   \n",
       "600243  2277758       558    VAL       752    ALA       562    PHE       756   \n",
       "600244  2277779       601    TYR       639    ALA       605    LEU       643   \n",
       "600245  2277822       717    LEU       739    PHE       721    THR       743   \n",
       "\n",
       "       Res2_2  Res1 Chain1  Res2 Chain2       rij     rij_2 Protein Direction  \\\n",
       "41        VAL    44      B    91      B  5.343194  5.318576    3cap      anti   \n",
       "42        PHE    44      B    95      B  6.288851  6.254056    3cap      anti   \n",
       "43        VAL    47      B    91      B  4.410215  5.070871    3cap      anti   \n",
       "44        PHE    48      B    92      B  5.502128  6.142965    3cap      anti   \n",
       "45        ASP    51      B    87      B  5.070871  3.861909    3cap      anti   \n",
       "...       ...   ...    ...   ...    ...       ...       ...     ...       ...   \n",
       "600241    ALA   317      B   681      B  5.458916  5.365570    6c96  parallel   \n",
       "600242    ALA   320      B   681      B  4.720123  4.583742    6c96  parallel   \n",
       "600243    GLU   320      B   685      B  5.797050  5.380803    6c96  parallel   \n",
       "600244    LEU   480      B   519      B  5.407334  5.468802    6c96  parallel   \n",
       "600245    THR   641      B   672      B  5.016036  4.414836    6c96  parallel   \n",
       "\n",
       "        interaction_index    code    pair  \n",
       "41                     12     301  3cap_B  \n",
       "42                     12     301  3cap_B  \n",
       "43                     77  100201  3cap_B  \n",
       "44                     39   10102  3cap_B  \n",
       "45                     76  100120  3cap_B  \n",
       "...                   ...     ...     ...  \n",
       "600241                 58   20101  6c96_B  \n",
       "600242                 58   20101  6c96_B  \n",
       "600243                 40   10111  6c96_B  \n",
       "600244                 42   10201  6c96_B  \n",
       "600245                 58   20101  6c96_B  \n",
       "\n",
       "[132497 rows x 20 columns]"
      ]
     },
     "execution_count": 25,
     "metadata": {},
     "output_type": "execute_result"
    }
   ],
   "source": [
    "s4"
   ]
  },
  {
   "cell_type": "code",
   "execution_count": 21,
   "metadata": {},
   "outputs": [
    {
     "data": {
      "text/html": [
       "<div>\n",
       "<style scoped>\n",
       "    .dataframe tbody tr th:only-of-type {\n",
       "        vertical-align: middle;\n",
       "    }\n",
       "\n",
       "    .dataframe tbody tr th {\n",
       "        vertical-align: top;\n",
       "    }\n",
       "\n",
       "    .dataframe thead th {\n",
       "        text-align: right;\n",
       "    }\n",
       "</style>\n",
       "<table border=\"1\" class=\"dataframe\">\n",
       "  <thead>\n",
       "    <tr style=\"text-align: right;\">\n",
       "      <th></th>\n",
       "      <th>Res1_1</th>\n",
       "      <th>Res1_2</th>\n",
       "      <th>Res2_1</th>\n",
       "      <th>Res2_2</th>\n",
       "      <th>Direction</th>\n",
       "      <th>Protein</th>\n",
       "    </tr>\n",
       "  </thead>\n",
       "  <tbody>\n",
       "    <tr>\n",
       "      <td>30729</td>\n",
       "      <td>TRP</td>\n",
       "      <td>SER</td>\n",
       "      <td>PHE</td>\n",
       "      <td>ILE</td>\n",
       "      <td>anti</td>\n",
       "      <td>1</td>\n",
       "    </tr>\n",
       "    <tr>\n",
       "      <td>14862</td>\n",
       "      <td>LEU</td>\n",
       "      <td>ARG</td>\n",
       "      <td>VAL</td>\n",
       "      <td>ILE</td>\n",
       "      <td>anti</td>\n",
       "      <td>1</td>\n",
       "    </tr>\n",
       "    <tr>\n",
       "      <td>14861</td>\n",
       "      <td>LEU</td>\n",
       "      <td>ARG</td>\n",
       "      <td>VAL</td>\n",
       "      <td>GLY</td>\n",
       "      <td>anti</td>\n",
       "      <td>1</td>\n",
       "    </tr>\n",
       "    <tr>\n",
       "      <td>14858</td>\n",
       "      <td>LEU</td>\n",
       "      <td>ARG</td>\n",
       "      <td>TYR</td>\n",
       "      <td>LEU</td>\n",
       "      <td>parallel</td>\n",
       "      <td>1</td>\n",
       "    </tr>\n",
       "    <tr>\n",
       "      <td>14856</td>\n",
       "      <td>LEU</td>\n",
       "      <td>ARG</td>\n",
       "      <td>TRP</td>\n",
       "      <td>LYS</td>\n",
       "      <td>parallel</td>\n",
       "      <td>1</td>\n",
       "    </tr>\n",
       "    <tr>\n",
       "      <td>...</td>\n",
       "      <td>...</td>\n",
       "      <td>...</td>\n",
       "      <td>...</td>\n",
       "      <td>...</td>\n",
       "      <td>...</td>\n",
       "      <td>...</td>\n",
       "    </tr>\n",
       "    <tr>\n",
       "      <td>18287</td>\n",
       "      <td>LEU</td>\n",
       "      <td>VAL</td>\n",
       "      <td>LEU</td>\n",
       "      <td>LEU</td>\n",
       "      <td>anti</td>\n",
       "      <td>72</td>\n",
       "    </tr>\n",
       "    <tr>\n",
       "      <td>34173</td>\n",
       "      <td>VAL</td>\n",
       "      <td>LEU</td>\n",
       "      <td>LEU</td>\n",
       "      <td>LEU</td>\n",
       "      <td>anti</td>\n",
       "      <td>84</td>\n",
       "    </tr>\n",
       "    <tr>\n",
       "      <td>8991</td>\n",
       "      <td>GLY</td>\n",
       "      <td>GLY</td>\n",
       "      <td>ALA</td>\n",
       "      <td>ALA</td>\n",
       "      <td>parallel</td>\n",
       "      <td>86</td>\n",
       "    </tr>\n",
       "    <tr>\n",
       "      <td>15049</td>\n",
       "      <td>LEU</td>\n",
       "      <td>ASP</td>\n",
       "      <td>LEU</td>\n",
       "      <td>SER</td>\n",
       "      <td>anti</td>\n",
       "      <td>105</td>\n",
       "    </tr>\n",
       "    <tr>\n",
       "      <td>16296</td>\n",
       "      <td>LEU</td>\n",
       "      <td>LEU</td>\n",
       "      <td>LEU</td>\n",
       "      <td>LEU</td>\n",
       "      <td>anti</td>\n",
       "      <td>155</td>\n",
       "    </tr>\n",
       "  </tbody>\n",
       "</table>\n",
       "<p>35903 rows × 6 columns</p>\n",
       "</div>"
      ],
      "text/plain": [
       "      Res1_1 Res1_2 Res2_1 Res2_2 Direction  Protein\n",
       "30729    TRP    SER    PHE    ILE      anti        1\n",
       "14862    LEU    ARG    VAL    ILE      anti        1\n",
       "14861    LEU    ARG    VAL    GLY      anti        1\n",
       "14858    LEU    ARG    TYR    LEU  parallel        1\n",
       "14856    LEU    ARG    TRP    LYS  parallel        1\n",
       "...      ...    ...    ...    ...       ...      ...\n",
       "18287    LEU    VAL    LEU    LEU      anti       72\n",
       "34173    VAL    LEU    LEU    LEU      anti       84\n",
       "8991     GLY    GLY    ALA    ALA  parallel       86\n",
       "15049    LEU    ASP    LEU    SER      anti      105\n",
       "16296    LEU    LEU    LEU    LEU      anti      155\n",
       "\n",
       "[35903 rows x 6 columns]"
      ]
     },
     "execution_count": 21,
     "metadata": {},
     "output_type": "execute_result"
    }
   ],
   "source": [
    "a"
   ]
  },
  {
   "cell_type": "code",
   "execution_count": 33,
   "metadata": {},
   "outputs": [
    {
     "data": {
      "text/plain": [
       "(22168, 6)"
      ]
     },
     "execution_count": 33,
     "metadata": {},
     "output_type": "execute_result"
    }
   ],
   "source": [
    "a.query(\"Direction =='anti'\").shape"
   ]
  },
  {
   "cell_type": "code",
   "execution_count": 29,
   "metadata": {},
   "outputs": [
    {
     "data": {
      "text/plain": [
       "(21004, 6)"
      ]
     },
     "execution_count": 29,
     "metadata": {},
     "output_type": "execute_result"
    }
   ],
   "source": [
    "a.query(\"Protein > 1\").shape"
   ]
  },
  {
   "cell_type": "code",
   "execution_count": 39,
   "metadata": {},
   "outputs": [
    {
     "data": {
      "text/plain": [
       "(10657, 6)"
      ]
     },
     "execution_count": 39,
     "metadata": {},
     "output_type": "execute_result"
    }
   ],
   "source": [
    "a.query(\"Protein > 3\").shape"
   ]
  },
  {
   "cell_type": "code",
   "execution_count": 30,
   "metadata": {
    "scrolled": true
   },
   "outputs": [
    {
     "data": {
      "text/plain": [
       "(6384, 6)"
      ]
     },
     "execution_count": 30,
     "metadata": {},
     "output_type": "execute_result"
    }
   ],
   "source": [
    "a.query(\"Protein > 5\").shape"
   ]
  },
  {
   "cell_type": "code",
   "execution_count": 31,
   "metadata": {},
   "outputs": [
    {
     "data": {
      "text/plain": [
       "(2434, 6)"
      ]
     },
     "execution_count": 31,
     "metadata": {},
     "output_type": "execute_result"
    }
   ],
   "source": [
    "a.query(\"Protein > 10\").shape"
   ]
  },
  {
   "cell_type": "code",
   "execution_count": 40,
   "metadata": {},
   "outputs": [
    {
     "data": {
      "text/plain": [
       "(619, 6)"
      ]
     },
     "execution_count": 40,
     "metadata": {},
     "output_type": "execute_result"
    }
   ],
   "source": [
    "a.query(\"Protein > 20\").shape"
   ]
  },
  {
   "cell_type": "code",
   "execution_count": 35,
   "metadata": {},
   "outputs": [
    {
     "data": {
      "text/plain": [
       "132497"
      ]
     },
     "execution_count": 35,
     "metadata": {},
     "output_type": "execute_result"
    }
   ],
   "source": [
    "a[\"Protein\"].sum()"
   ]
  },
  {
   "cell_type": "code",
   "execution_count": 36,
   "metadata": {},
   "outputs": [
    {
     "data": {
      "text/plain": [
       "117598"
      ]
     },
     "execution_count": 36,
     "metadata": {},
     "output_type": "execute_result"
    }
   ],
   "source": [
    "a.query(\"Protein > 1\")[\"Protein\"].sum()"
   ]
  },
  {
   "cell_type": "code",
   "execution_count": 42,
   "metadata": {},
   "outputs": [
    {
     "data": {
      "text/plain": [
       "92888"
      ]
     },
     "execution_count": 42,
     "metadata": {},
     "output_type": "execute_result"
    }
   ],
   "source": [
    "a.query(\"Protein > 3\")[\"Protein\"].sum()"
   ]
  },
  {
   "cell_type": "code",
   "execution_count": 37,
   "metadata": {},
   "outputs": [
    {
     "data": {
      "text/plain": [
       "44400"
      ]
     },
     "execution_count": 37,
     "metadata": {},
     "output_type": "execute_result"
    }
   ],
   "source": [
    "a.query(\"Protein > 10\")[\"Protein\"].sum()"
   ]
  },
  {
   "cell_type": "code",
   "execution_count": 41,
   "metadata": {},
   "outputs": [
    {
     "data": {
      "text/plain": [
       "18420"
      ]
     },
     "execution_count": 41,
     "metadata": {},
     "output_type": "execute_result"
    }
   ],
   "source": [
    "a.query(\"Protein > 20\")[\"Protein\"].sum()"
   ]
  },
  {
   "cell_type": "code",
   "execution_count": null,
   "metadata": {
    "collapsed": true
   },
   "outputs": [],
   "source": [
    "# let's do top 200 for both anti and parallel.\n"
   ]
  },
  {
   "cell_type": "code",
   "execution_count": 157,
   "metadata": {},
   "outputs": [],
   "source": [
    "from Bio.PDB.Polypeptide import one_to_index\n",
    "from Bio.PDB.Polypeptide import three_to_index\n",
    "\n",
    "def encode_resName(data):\n",
    "    # if anti-parallel, the order by reading from res2_2 to res2_1\n",
    "    if data[\"Direction\"] == \"anti\":\n",
    "        res2 = three_to_index(data[\"Res2_2\"])*20 + three_to_index(data[\"Res2_1\"])\n",
    "        data[\"Res2_letter\"] = data[\"Res2_2\"] + \"_\" + data[\"Res2_1\"]\n",
    "    elif data[\"Direction\"] == \"parallel\":\n",
    "        res2 = three_to_index(data[\"Res2_1\"])*20 + three_to_index(data[\"Res2_2\"])\n",
    "        data[\"Res2_letter\"] = data[\"Res2_1\"] + \"_\" + data[\"Res2_2\"]\n",
    "    res1 = three_to_index(data[\"Res1_1\"])*20 + three_to_index(data[\"Res1_2\"])\n",
    "    data[\"Res1_letter\"] = data[\"Res1_1\"] + \"_\" + data[\"Res1_2\"]\n",
    "    # if res2 index is smaller than res1, We will swtich the index. to ensure res1 is less than res2.\n",
    "    if res2 < res1:\n",
    "        data[\"Res1\"] = res2\n",
    "        data[\"Res2\"] = res1\n",
    "    else:\n",
    "        data[\"Res1\"] = res1\n",
    "        data[\"Res2\"] = res2\n",
    "    return data"
   ]
  },
  {
   "cell_type": "code",
   "execution_count": 158,
   "metadata": {
    "collapsed": true
   },
   "outputs": [],
   "source": [
    "a = a.apply(encode_resName, axis=1)\n",
    "b = a.groupby([\"Res1\", \"Res2\", \"Direction\"])[\"Protein\"].sum().reset_index()\n",
    "a_info = a.groupby([\"Res1\", \"Res2\", \"Direction\"]).head(1).reset_index(drop=True)\n",
    "a_info = a_info[['Res1_1', 'Res1_2', 'Res2_1', 'Res2_2', 'Direction',\n",
    "       'Res2_letter', 'Res1_letter', 'Res1', 'Res2']]\n",
    "b = b.merge(a_info)"
   ]
  },
  {
   "cell_type": "code",
   "execution_count": 180,
   "metadata": {
    "collapsed": true
   },
   "outputs": [],
   "source": [
    "def get_table(data):\n",
    "    table = np.zeros((400,400))\n",
    "    for i, line in data.iterrows():\n",
    "        x = line[\"Res1\"]\n",
    "        y = line[\"Res2\"]\n",
    "\n",
    "        table[x][y] += line[\"Protein\"]\n",
    "        if x != y:\n",
    "            table[y][x] += line[\"Protein\"]\n",
    "    return table\n",
    "def get_info(data):\n",
    "    table = get_table(data)\n",
    "    info = []\n",
    "    for i in range(400):\n",
    "        res1 = index_to_three(i // 20)\n",
    "        res2 = index_to_three(i % 20)\n",
    "        info.append([i, res1, res2])\n",
    "    info = pd.DataFrame(info, columns=[\"i\", \"res1\", \"res2\"])\n",
    "    info[\"order\"] = np.sum(table, axis=0)\n",
    "    info = info.sort_values(\"order\", ascending=False).reset_index(drop=True).reset_index()\n",
    "    return info"
   ]
  },
  {
   "cell_type": "code",
   "execution_count": 196,
   "metadata": {},
   "outputs": [],
   "source": [
    "from Bio.PDB.Polypeptide import index_to_three\n",
    "data = b.query(\"Direction=='parallel'\")\n",
    "para_table = get_table(data)\n",
    "para_info = get_info(data)\n",
    "para_info[\"Direction\"] = 'parallel'\n",
    "\n",
    "data = b.query(\"Direction=='anti'\")\n",
    "anti_table = get_table(data)\n",
    "anti_info = get_info(data)\n",
    "anti_info[\"Direction\"] = 'anti'\n",
    "\n",
    "\n",
    "from sklearn.cluster import KMeans\n",
    "para_table_new = para_table + 1\n",
    "para_table_log = -np.log(para_table_new)\n",
    "X = para_table_log\n",
    "# kmeans = KMeans(n_clusters=20, random_state=0).fit(X)\n",
    "kmeans = KMeans(n_clusters=20, random_state=123).fit(X)\n",
    "# kmeans = KMeans(n_clusters=20, random_state=229).fit(X)\n",
    "x_label = kmeans.predict(X)\n",
    "para_info = para_info.sort_values(\"i\").reset_index(drop=True)\n",
    "para_info[\"Group\"] = x_label\n",
    "\n",
    "from sklearn.cluster import KMeans\n",
    "anti_table_new = anti_table + 1\n",
    "anti_table_log = -np.log(anti_table_new)\n",
    "X = anti_table_log\n",
    "# kmeans = KMeans(n_clusters=20, random_state=0).fit(X)\n",
    "kmeans = KMeans(n_clusters=20, random_state=123).fit(X)\n",
    "# kmeans = KMeans(n_clusters=20, random_state=229).fit(X)\n",
    "x_label = kmeans.predict(X)\n",
    "anti_info = anti_info.sort_values(\"i\").reset_index(drop=True)\n",
    "anti_info[\"Group\"] = x_label\n",
    "\n",
    "a = pd.concat([para_info, anti_info]).reset_index(drop=True)\n",
    "a.to_csv(\"/Users/weilu/Research/database/single_chain_gxxxg_index_dic.csv\")"
   ]
  },
  {
   "cell_type": "code",
   "execution_count": 220,
   "metadata": {
    "collapsed": true
   },
   "outputs": [],
   "source": [
    "from sklearn.cluster import KMeans\n",
    "para_table_new = para_table + 1\n",
    "para_table_new = para_table_new / para_table_new.sum(axis=1).reshape(-1, 1)\n",
    "para_table_log = -np.log(para_table_new)\n",
    "X = para_table_log\n",
    "# kmeans = KMeans(n_clusters=20, random_state=0).fit(X)\n",
    "\n",
    "# kmeans = KMeans(n_clusters=20, random_state=1234).fit(X)\n",
    "# # kmeans = KMeans(n_clusters=20, random_state=229).fit(X)\n",
    "# x_label = kmeans.predict(X)\n",
    "# para_info = para_info.sort_values(\"i\").reset_index(drop=True)\n",
    "# para_info[\"Group\"] = x_label"
   ]
  },
  {
   "cell_type": "code",
   "execution_count": 259,
   "metadata": {},
   "outputs": [
    {
     "data": {
      "text/plain": [
       "[<matplotlib.lines.Line2D at 0x7f8e915974e0>]"
      ]
     },
     "execution_count": 259,
     "metadata": {},
     "output_type": "execute_result"
    },
    {
     "data": {
      "image/png": "[encoded data removed]",
      "text/plain": [
       "<Figure size 720x444.96 with 1 Axes>"
      ]
     },
     "metadata": {},
     "output_type": "display_data"
    }
   ],
   "source": [
    "plt.rcParams['figure.figsize'] = np.array([10,6.180])    #golden ratio\n",
    "plt.plot(para_table.sum(axis=1))\n",
    "plt.plot((para_table+1).sum(axis=1))"
   ]
  },
  {
   "cell_type": "code",
   "execution_count": 255,
   "metadata": {},
   "outputs": [
    {
     "data": {
      "text/plain": [
       "22501"
      ]
     },
     "execution_count": 255,
     "metadata": {},
     "output_type": "execute_result"
    }
   ],
   "source": [
    "(para_table!=0).sum()"
   ]
  },
  {
   "cell_type": "code",
   "execution_count": 250,
   "metadata": {},
   "outputs": [],
   "source": [
    "X = para_table_log\n",
    "score_max = -100000\n",
    "from sklearn.cluster import KMeans\n",
    "for i in range(100):\n",
    "    kmeans = KMeans(n_clusters=30, random_state=i).fit(X)\n",
    "    score = kmeans.score(X)\n",
    "    # print(\"score\", score, i)\n",
    "    if score > score_max:\n",
    "        score_max = score\n",
    "        keep_kmeans = kmeans"
   ]
  },
  {
   "cell_type": "code",
   "execution_count": 246,
   "metadata": {},
   "outputs": [
    {
     "name": "stdout",
     "output_type": "stream",
     "text": [
      "-19860.04252407423\n"
     ]
    }
   ],
   "source": [
    "print(score_max)"
   ]
  },
  {
   "cell_type": "code",
   "execution_count": 234,
   "metadata": {},
   "outputs": [
    {
     "name": "stdout",
     "output_type": "stream",
     "text": [
      "-19913.890326650937\n"
     ]
    }
   ],
   "source": [
    "print(score_max)"
   ]
  },
  {
   "cell_type": "code",
   "execution_count": 251,
   "metadata": {
    "collapsed": true
   },
   "outputs": [],
   "source": [
    "para_info = para_info.sort_values(\"i\").reset_index(drop=True)\n",
    "x_label = keep_kmeans.predict(X)\n",
    "para_info[\"Group\"] = x_label"
   ]
  },
  {
   "cell_type": "code",
   "execution_count": 219,
   "metadata": {},
   "outputs": [
    {
     "data": {
      "text/html": [
       "<div>\n",
       "<style scoped>\n",
       "    .dataframe tbody tr th:only-of-type {\n",
       "        vertical-align: middle;\n",
       "    }\n",
       "\n",
       "    .dataframe tbody tr th {\n",
       "        vertical-align: top;\n",
       "    }\n",
       "\n",
       "    .dataframe thead th {\n",
       "        text-align: right;\n",
       "    }\n",
       "</style>\n",
       "<table border=\"1\" class=\"dataframe\">\n",
       "  <thead>\n",
       "    <tr style=\"text-align: right;\">\n",
       "      <th></th>\n",
       "      <th>index</th>\n",
       "      <th>i</th>\n",
       "      <th>res1</th>\n",
       "      <th>res2</th>\n",
       "      <th>order</th>\n",
       "      <th>Direction</th>\n",
       "      <th>Group</th>\n",
       "    </tr>\n",
       "  </thead>\n",
       "  <tbody>\n",
       "    <tr>\n",
       "      <td>0</td>\n",
       "      <td>3</td>\n",
       "      <td>0</td>\n",
       "      <td>ALA</td>\n",
       "      <td>ALA</td>\n",
       "      <td>1611.0</td>\n",
       "      <td>parallel</td>\n",
       "      <td>3</td>\n",
       "    </tr>\n",
       "    <tr>\n",
       "      <td>5</td>\n",
       "      <td>1</td>\n",
       "      <td>5</td>\n",
       "      <td>ALA</td>\n",
       "      <td>GLY</td>\n",
       "      <td>1796.0</td>\n",
       "      <td>parallel</td>\n",
       "      <td>3</td>\n",
       "    </tr>\n",
       "    <tr>\n",
       "      <td>100</td>\n",
       "      <td>9</td>\n",
       "      <td>100</td>\n",
       "      <td>GLY</td>\n",
       "      <td>ALA</td>\n",
       "      <td>1266.0</td>\n",
       "      <td>parallel</td>\n",
       "      <td>3</td>\n",
       "    </tr>\n",
       "    <tr>\n",
       "      <td>105</td>\n",
       "      <td>2</td>\n",
       "      <td>105</td>\n",
       "      <td>GLY</td>\n",
       "      <td>GLY</td>\n",
       "      <td>1632.0</td>\n",
       "      <td>parallel</td>\n",
       "      <td>3</td>\n",
       "    </tr>\n",
       "  </tbody>\n",
       "</table>\n",
       "</div>"
      ],
      "text/plain": [
       "     index    i res1 res2   order Direction  Group\n",
       "0        3    0  ALA  ALA  1611.0  parallel      3\n",
       "5        1    5  ALA  GLY  1796.0  parallel      3\n",
       "100      9  100  GLY  ALA  1266.0  parallel      3\n",
       "105      2  105  GLY  GLY  1632.0  parallel      3"
      ]
     },
     "execution_count": 219,
     "metadata": {},
     "output_type": "execute_result"
    }
   ],
   "source": [
    "para_info.query(\"Group==3\")"
   ]
  },
  {
   "cell_type": "code",
   "execution_count": 232,
   "metadata": {},
   "outputs": [
    {
     "data": {
      "text/html": [
       "<div>\n",
       "<style scoped>\n",
       "    .dataframe tbody tr th:only-of-type {\n",
       "        vertical-align: middle;\n",
       "    }\n",
       "\n",
       "    .dataframe tbody tr th {\n",
       "        vertical-align: top;\n",
       "    }\n",
       "\n",
       "    .dataframe thead th {\n",
       "        text-align: right;\n",
       "    }\n",
       "</style>\n",
       "<table border=\"1\" class=\"dataframe\">\n",
       "  <thead>\n",
       "    <tr style=\"text-align: right;\">\n",
       "      <th></th>\n",
       "      <th>index</th>\n",
       "      <th>i</th>\n",
       "      <th>res1</th>\n",
       "      <th>res2</th>\n",
       "      <th>order</th>\n",
       "      <th>Direction</th>\n",
       "      <th>Group</th>\n",
       "    </tr>\n",
       "  </thead>\n",
       "  <tbody>\n",
       "    <tr>\n",
       "      <td>105</td>\n",
       "      <td>2</td>\n",
       "      <td>105</td>\n",
       "      <td>GLY</td>\n",
       "      <td>GLY</td>\n",
       "      <td>1632.0</td>\n",
       "      <td>parallel</td>\n",
       "      <td>13</td>\n",
       "    </tr>\n",
       "  </tbody>\n",
       "</table>\n",
       "</div>"
      ],
      "text/plain": [
       "     index    i res1 res2   order Direction  Group\n",
       "105      2  105  GLY  GLY  1632.0  parallel     13"
      ]
     },
     "execution_count": 232,
     "metadata": {},
     "output_type": "execute_result"
    }
   ],
   "source": [
    "para_info.query(\"Group==13\")"
   ]
  },
  {
   "cell_type": "code",
   "execution_count": 253,
   "metadata": {},
   "outputs": [
    {
     "data": {
      "text/html": [
       "<div>\n",
       "<style scoped>\n",
       "    .dataframe tbody tr th:only-of-type {\n",
       "        vertical-align: middle;\n",
       "    }\n",
       "\n",
       "    .dataframe tbody tr th {\n",
       "        vertical-align: top;\n",
       "    }\n",
       "\n",
       "    .dataframe thead th {\n",
       "        text-align: right;\n",
       "    }\n",
       "</style>\n",
       "<table border=\"1\" class=\"dataframe\">\n",
       "  <thead>\n",
       "    <tr style=\"text-align: right;\">\n",
       "      <th></th>\n",
       "      <th>index</th>\n",
       "      <th>i</th>\n",
       "      <th>res1</th>\n",
       "      <th>res2</th>\n",
       "      <th>order</th>\n",
       "      <th>Direction</th>\n",
       "      <th>Group</th>\n",
       "    </tr>\n",
       "  </thead>\n",
       "  <tbody>\n",
       "    <tr>\n",
       "      <td>100</td>\n",
       "      <td>9</td>\n",
       "      <td>100</td>\n",
       "      <td>GLY</td>\n",
       "      <td>ALA</td>\n",
       "      <td>1266.0</td>\n",
       "      <td>parallel</td>\n",
       "      <td>25</td>\n",
       "    </tr>\n",
       "    <tr>\n",
       "      <td>105</td>\n",
       "      <td>2</td>\n",
       "      <td>105</td>\n",
       "      <td>GLY</td>\n",
       "      <td>GLY</td>\n",
       "      <td>1632.0</td>\n",
       "      <td>parallel</td>\n",
       "      <td>25</td>\n",
       "    </tr>\n",
       "  </tbody>\n",
       "</table>\n",
       "</div>"
      ],
      "text/plain": [
       "     index    i res1 res2   order Direction  Group\n",
       "100      9  100  GLY  ALA  1266.0  parallel     25\n",
       "105      2  105  GLY  GLY  1632.0  parallel     25"
      ]
     },
     "execution_count": 253,
     "metadata": {},
     "output_type": "execute_result"
    }
   ],
   "source": [
    "para_info.query(\"Group==25\")"
   ]
  },
  {
   "cell_type": "code",
   "execution_count": 252,
   "metadata": {},
   "outputs": [
    {
     "data": {
      "text/html": [
       "<div>\n",
       "<style scoped>\n",
       "    .dataframe tbody tr th:only-of-type {\n",
       "        vertical-align: middle;\n",
       "    }\n",
       "\n",
       "    .dataframe tbody tr th {\n",
       "        vertical-align: top;\n",
       "    }\n",
       "\n",
       "    .dataframe thead th {\n",
       "        text-align: right;\n",
       "    }\n",
       "</style>\n",
       "<table border=\"1\" class=\"dataframe\">\n",
       "  <thead>\n",
       "    <tr style=\"text-align: right;\">\n",
       "      <th></th>\n",
       "      <th>index</th>\n",
       "      <th>i</th>\n",
       "      <th>res1</th>\n",
       "      <th>res2</th>\n",
       "      <th>order</th>\n",
       "      <th>Direction</th>\n",
       "      <th>Group</th>\n",
       "    </tr>\n",
       "  </thead>\n",
       "  <tbody>\n",
       "    <tr>\n",
       "      <td>100</td>\n",
       "      <td>9</td>\n",
       "      <td>100</td>\n",
       "      <td>GLY</td>\n",
       "      <td>ALA</td>\n",
       "      <td>1266.0</td>\n",
       "      <td>parallel</td>\n",
       "      <td>25</td>\n",
       "    </tr>\n",
       "    <tr>\n",
       "      <td>101</td>\n",
       "      <td>123</td>\n",
       "      <td>101</td>\n",
       "      <td>GLY</td>\n",
       "      <td>CYS</td>\n",
       "      <td>196.0</td>\n",
       "      <td>parallel</td>\n",
       "      <td>3</td>\n",
       "    </tr>\n",
       "    <tr>\n",
       "      <td>102</td>\n",
       "      <td>286</td>\n",
       "      <td>102</td>\n",
       "      <td>GLY</td>\n",
       "      <td>ASP</td>\n",
       "      <td>41.0</td>\n",
       "      <td>parallel</td>\n",
       "      <td>7</td>\n",
       "    </tr>\n",
       "    <tr>\n",
       "      <td>103</td>\n",
       "      <td>229</td>\n",
       "      <td>103</td>\n",
       "      <td>GLY</td>\n",
       "      <td>GLU</td>\n",
       "      <td>71.0</td>\n",
       "      <td>parallel</td>\n",
       "      <td>7</td>\n",
       "    </tr>\n",
       "    <tr>\n",
       "      <td>104</td>\n",
       "      <td>54</td>\n",
       "      <td>104</td>\n",
       "      <td>GLY</td>\n",
       "      <td>PHE</td>\n",
       "      <td>489.0</td>\n",
       "      <td>parallel</td>\n",
       "      <td>12</td>\n",
       "    </tr>\n",
       "    <tr>\n",
       "      <td>105</td>\n",
       "      <td>2</td>\n",
       "      <td>105</td>\n",
       "      <td>GLY</td>\n",
       "      <td>GLY</td>\n",
       "      <td>1632.0</td>\n",
       "      <td>parallel</td>\n",
       "      <td>25</td>\n",
       "    </tr>\n",
       "    <tr>\n",
       "      <td>106</td>\n",
       "      <td>239</td>\n",
       "      <td>106</td>\n",
       "      <td>GLY</td>\n",
       "      <td>HIS</td>\n",
       "      <td>64.0</td>\n",
       "      <td>parallel</td>\n",
       "      <td>7</td>\n",
       "    </tr>\n",
       "    <tr>\n",
       "      <td>107</td>\n",
       "      <td>48</td>\n",
       "      <td>107</td>\n",
       "      <td>GLY</td>\n",
       "      <td>ILE</td>\n",
       "      <td>549.0</td>\n",
       "      <td>parallel</td>\n",
       "      <td>6</td>\n",
       "    </tr>\n",
       "    <tr>\n",
       "      <td>108</td>\n",
       "      <td>277</td>\n",
       "      <td>108</td>\n",
       "      <td>GLY</td>\n",
       "      <td>LYS</td>\n",
       "      <td>45.0</td>\n",
       "      <td>parallel</td>\n",
       "      <td>7</td>\n",
       "    </tr>\n",
       "    <tr>\n",
       "      <td>109</td>\n",
       "      <td>13</td>\n",
       "      <td>109</td>\n",
       "      <td>GLY</td>\n",
       "      <td>LEU</td>\n",
       "      <td>1136.0</td>\n",
       "      <td>parallel</td>\n",
       "      <td>22</td>\n",
       "    </tr>\n",
       "    <tr>\n",
       "      <td>110</td>\n",
       "      <td>79</td>\n",
       "      <td>110</td>\n",
       "      <td>GLY</td>\n",
       "      <td>MET</td>\n",
       "      <td>341.0</td>\n",
       "      <td>parallel</td>\n",
       "      <td>4</td>\n",
       "    </tr>\n",
       "    <tr>\n",
       "      <td>111</td>\n",
       "      <td>114</td>\n",
       "      <td>111</td>\n",
       "      <td>GLY</td>\n",
       "      <td>ASN</td>\n",
       "      <td>220.0</td>\n",
       "      <td>parallel</td>\n",
       "      <td>3</td>\n",
       "    </tr>\n",
       "    <tr>\n",
       "      <td>112</td>\n",
       "      <td>68</td>\n",
       "      <td>112</td>\n",
       "      <td>GLY</td>\n",
       "      <td>PRO</td>\n",
       "      <td>408.0</td>\n",
       "      <td>parallel</td>\n",
       "      <td>4</td>\n",
       "    </tr>\n",
       "    <tr>\n",
       "      <td>113</td>\n",
       "      <td>183</td>\n",
       "      <td>113</td>\n",
       "      <td>GLY</td>\n",
       "      <td>GLN</td>\n",
       "      <td>103.0</td>\n",
       "      <td>parallel</td>\n",
       "      <td>1</td>\n",
       "    </tr>\n",
       "    <tr>\n",
       "      <td>114</td>\n",
       "      <td>258</td>\n",
       "      <td>114</td>\n",
       "      <td>GLY</td>\n",
       "      <td>ARG</td>\n",
       "      <td>54.0</td>\n",
       "      <td>parallel</td>\n",
       "      <td>1</td>\n",
       "    </tr>\n",
       "    <tr>\n",
       "      <td>115</td>\n",
       "      <td>34</td>\n",
       "      <td>115</td>\n",
       "      <td>GLY</td>\n",
       "      <td>SER</td>\n",
       "      <td>665.0</td>\n",
       "      <td>parallel</td>\n",
       "      <td>6</td>\n",
       "    </tr>\n",
       "    <tr>\n",
       "      <td>116</td>\n",
       "      <td>51</td>\n",
       "      <td>116</td>\n",
       "      <td>GLY</td>\n",
       "      <td>THR</td>\n",
       "      <td>508.0</td>\n",
       "      <td>parallel</td>\n",
       "      <td>4</td>\n",
       "    </tr>\n",
       "    <tr>\n",
       "      <td>117</td>\n",
       "      <td>32</td>\n",
       "      <td>117</td>\n",
       "      <td>GLY</td>\n",
       "      <td>VAL</td>\n",
       "      <td>745.0</td>\n",
       "      <td>parallel</td>\n",
       "      <td>26</td>\n",
       "    </tr>\n",
       "    <tr>\n",
       "      <td>118</td>\n",
       "      <td>226</td>\n",
       "      <td>118</td>\n",
       "      <td>GLY</td>\n",
       "      <td>TRP</td>\n",
       "      <td>74.0</td>\n",
       "      <td>parallel</td>\n",
       "      <td>1</td>\n",
       "    </tr>\n",
       "    <tr>\n",
       "      <td>119</td>\n",
       "      <td>125</td>\n",
       "      <td>119</td>\n",
       "      <td>GLY</td>\n",
       "      <td>TYR</td>\n",
       "      <td>192.0</td>\n",
       "      <td>parallel</td>\n",
       "      <td>3</td>\n",
       "    </tr>\n",
       "  </tbody>\n",
       "</table>\n",
       "</div>"
      ],
      "text/plain": [
       "     index    i res1 res2   order Direction  Group\n",
       "100      9  100  GLY  ALA  1266.0  parallel     25\n",
       "101    123  101  GLY  CYS   196.0  parallel      3\n",
       "102    286  102  GLY  ASP    41.0  parallel      7\n",
       "103    229  103  GLY  GLU    71.0  parallel      7\n",
       "104     54  104  GLY  PHE   489.0  parallel     12\n",
       "105      2  105  GLY  GLY  1632.0  parallel     25\n",
       "106    239  106  GLY  HIS    64.0  parallel      7\n",
       "107     48  107  GLY  ILE   549.0  parallel      6\n",
       "108    277  108  GLY  LYS    45.0  parallel      7\n",
       "109     13  109  GLY  LEU  1136.0  parallel     22\n",
       "110     79  110  GLY  MET   341.0  parallel      4\n",
       "111    114  111  GLY  ASN   220.0  parallel      3\n",
       "112     68  112  GLY  PRO   408.0  parallel      4\n",
       "113    183  113  GLY  GLN   103.0  parallel      1\n",
       "114    258  114  GLY  ARG    54.0  parallel      1\n",
       "115     34  115  GLY  SER   665.0  parallel      6\n",
       "116     51  116  GLY  THR   508.0  parallel      4\n",
       "117     32  117  GLY  VAL   745.0  parallel     26\n",
       "118    226  118  GLY  TRP    74.0  parallel      1\n",
       "119    125  119  GLY  TYR   192.0  parallel      3"
      ]
     },
     "execution_count": 252,
     "metadata": {},
     "output_type": "execute_result"
    }
   ],
   "source": [
    "para_info.query(\"res1=='GLY'\")"
   ]
  },
  {
   "cell_type": "code",
   "execution_count": 200,
   "metadata": {},
   "outputs": [
    {
     "data": {
      "text/html": [
       "<div>\n",
       "<style scoped>\n",
       "    .dataframe tbody tr th:only-of-type {\n",
       "        vertical-align: middle;\n",
       "    }\n",
       "\n",
       "    .dataframe tbody tr th {\n",
       "        vertical-align: top;\n",
       "    }\n",
       "\n",
       "    .dataframe thead th {\n",
       "        text-align: right;\n",
       "    }\n",
       "</style>\n",
       "<table border=\"1\" class=\"dataframe\">\n",
       "  <thead>\n",
       "    <tr style=\"text-align: right;\">\n",
       "      <th></th>\n",
       "      <th>index</th>\n",
       "      <th>i</th>\n",
       "      <th>res1</th>\n",
       "      <th>res2</th>\n",
       "      <th>order</th>\n",
       "      <th>Direction</th>\n",
       "      <th>Group</th>\n",
       "    </tr>\n",
       "  </thead>\n",
       "  <tbody>\n",
       "    <tr>\n",
       "      <td>100</td>\n",
       "      <td>9</td>\n",
       "      <td>100</td>\n",
       "      <td>GLY</td>\n",
       "      <td>ALA</td>\n",
       "      <td>1266.0</td>\n",
       "      <td>parallel</td>\n",
       "      <td>3</td>\n",
       "    </tr>\n",
       "    <tr>\n",
       "      <td>101</td>\n",
       "      <td>123</td>\n",
       "      <td>101</td>\n",
       "      <td>GLY</td>\n",
       "      <td>CYS</td>\n",
       "      <td>196.0</td>\n",
       "      <td>parallel</td>\n",
       "      <td>2</td>\n",
       "    </tr>\n",
       "    <tr>\n",
       "      <td>102</td>\n",
       "      <td>286</td>\n",
       "      <td>102</td>\n",
       "      <td>GLY</td>\n",
       "      <td>ASP</td>\n",
       "      <td>41.0</td>\n",
       "      <td>parallel</td>\n",
       "      <td>5</td>\n",
       "    </tr>\n",
       "    <tr>\n",
       "      <td>103</td>\n",
       "      <td>229</td>\n",
       "      <td>103</td>\n",
       "      <td>GLY</td>\n",
       "      <td>GLU</td>\n",
       "      <td>71.0</td>\n",
       "      <td>parallel</td>\n",
       "      <td>5</td>\n",
       "    </tr>\n",
       "    <tr>\n",
       "      <td>104</td>\n",
       "      <td>54</td>\n",
       "      <td>104</td>\n",
       "      <td>GLY</td>\n",
       "      <td>PHE</td>\n",
       "      <td>489.0</td>\n",
       "      <td>parallel</td>\n",
       "      <td>1</td>\n",
       "    </tr>\n",
       "    <tr>\n",
       "      <td>105</td>\n",
       "      <td>2</td>\n",
       "      <td>105</td>\n",
       "      <td>GLY</td>\n",
       "      <td>GLY</td>\n",
       "      <td>1632.0</td>\n",
       "      <td>parallel</td>\n",
       "      <td>3</td>\n",
       "    </tr>\n",
       "    <tr>\n",
       "      <td>106</td>\n",
       "      <td>239</td>\n",
       "      <td>106</td>\n",
       "      <td>GLY</td>\n",
       "      <td>HIS</td>\n",
       "      <td>64.0</td>\n",
       "      <td>parallel</td>\n",
       "      <td>5</td>\n",
       "    </tr>\n",
       "    <tr>\n",
       "      <td>107</td>\n",
       "      <td>48</td>\n",
       "      <td>107</td>\n",
       "      <td>GLY</td>\n",
       "      <td>ILE</td>\n",
       "      <td>549.0</td>\n",
       "      <td>parallel</td>\n",
       "      <td>6</td>\n",
       "    </tr>\n",
       "    <tr>\n",
       "      <td>108</td>\n",
       "      <td>277</td>\n",
       "      <td>108</td>\n",
       "      <td>GLY</td>\n",
       "      <td>LYS</td>\n",
       "      <td>45.0</td>\n",
       "      <td>parallel</td>\n",
       "      <td>5</td>\n",
       "    </tr>\n",
       "    <tr>\n",
       "      <td>109</td>\n",
       "      <td>13</td>\n",
       "      <td>109</td>\n",
       "      <td>GLY</td>\n",
       "      <td>LEU</td>\n",
       "      <td>1136.0</td>\n",
       "      <td>parallel</td>\n",
       "      <td>12</td>\n",
       "    </tr>\n",
       "    <tr>\n",
       "      <td>110</td>\n",
       "      <td>79</td>\n",
       "      <td>110</td>\n",
       "      <td>GLY</td>\n",
       "      <td>MET</td>\n",
       "      <td>341.0</td>\n",
       "      <td>parallel</td>\n",
       "      <td>11</td>\n",
       "    </tr>\n",
       "    <tr>\n",
       "      <td>111</td>\n",
       "      <td>114</td>\n",
       "      <td>111</td>\n",
       "      <td>GLY</td>\n",
       "      <td>ASN</td>\n",
       "      <td>220.0</td>\n",
       "      <td>parallel</td>\n",
       "      <td>2</td>\n",
       "    </tr>\n",
       "    <tr>\n",
       "      <td>112</td>\n",
       "      <td>68</td>\n",
       "      <td>112</td>\n",
       "      <td>GLY</td>\n",
       "      <td>PRO</td>\n",
       "      <td>408.0</td>\n",
       "      <td>parallel</td>\n",
       "      <td>0</td>\n",
       "    </tr>\n",
       "    <tr>\n",
       "      <td>113</td>\n",
       "      <td>183</td>\n",
       "      <td>113</td>\n",
       "      <td>GLY</td>\n",
       "      <td>GLN</td>\n",
       "      <td>103.0</td>\n",
       "      <td>parallel</td>\n",
       "      <td>5</td>\n",
       "    </tr>\n",
       "    <tr>\n",
       "      <td>114</td>\n",
       "      <td>258</td>\n",
       "      <td>114</td>\n",
       "      <td>GLY</td>\n",
       "      <td>ARG</td>\n",
       "      <td>54.0</td>\n",
       "      <td>parallel</td>\n",
       "      <td>5</td>\n",
       "    </tr>\n",
       "    <tr>\n",
       "      <td>115</td>\n",
       "      <td>34</td>\n",
       "      <td>115</td>\n",
       "      <td>GLY</td>\n",
       "      <td>SER</td>\n",
       "      <td>665.0</td>\n",
       "      <td>parallel</td>\n",
       "      <td>9</td>\n",
       "    </tr>\n",
       "    <tr>\n",
       "      <td>116</td>\n",
       "      <td>51</td>\n",
       "      <td>116</td>\n",
       "      <td>GLY</td>\n",
       "      <td>THR</td>\n",
       "      <td>508.0</td>\n",
       "      <td>parallel</td>\n",
       "      <td>6</td>\n",
       "    </tr>\n",
       "    <tr>\n",
       "      <td>117</td>\n",
       "      <td>32</td>\n",
       "      <td>117</td>\n",
       "      <td>GLY</td>\n",
       "      <td>VAL</td>\n",
       "      <td>745.0</td>\n",
       "      <td>parallel</td>\n",
       "      <td>6</td>\n",
       "    </tr>\n",
       "    <tr>\n",
       "      <td>118</td>\n",
       "      <td>226</td>\n",
       "      <td>118</td>\n",
       "      <td>GLY</td>\n",
       "      <td>TRP</td>\n",
       "      <td>74.0</td>\n",
       "      <td>parallel</td>\n",
       "      <td>5</td>\n",
       "    </tr>\n",
       "    <tr>\n",
       "      <td>119</td>\n",
       "      <td>125</td>\n",
       "      <td>119</td>\n",
       "      <td>GLY</td>\n",
       "      <td>TYR</td>\n",
       "      <td>192.0</td>\n",
       "      <td>parallel</td>\n",
       "      <td>0</td>\n",
       "    </tr>\n",
       "  </tbody>\n",
       "</table>\n",
       "</div>"
      ],
      "text/plain": [
       "     index    i res1 res2   order Direction  Group\n",
       "100      9  100  GLY  ALA  1266.0  parallel      3\n",
       "101    123  101  GLY  CYS   196.0  parallel      2\n",
       "102    286  102  GLY  ASP    41.0  parallel      5\n",
       "103    229  103  GLY  GLU    71.0  parallel      5\n",
       "104     54  104  GLY  PHE   489.0  parallel      1\n",
       "105      2  105  GLY  GLY  1632.0  parallel      3\n",
       "106    239  106  GLY  HIS    64.0  parallel      5\n",
       "107     48  107  GLY  ILE   549.0  parallel      6\n",
       "108    277  108  GLY  LYS    45.0  parallel      5\n",
       "109     13  109  GLY  LEU  1136.0  parallel     12\n",
       "110     79  110  GLY  MET   341.0  parallel     11\n",
       "111    114  111  GLY  ASN   220.0  parallel      2\n",
       "112     68  112  GLY  PRO   408.0  parallel      0\n",
       "113    183  113  GLY  GLN   103.0  parallel      5\n",
       "114    258  114  GLY  ARG    54.0  parallel      5\n",
       "115     34  115  GLY  SER   665.0  parallel      9\n",
       "116     51  116  GLY  THR   508.0  parallel      6\n",
       "117     32  117  GLY  VAL   745.0  parallel      6\n",
       "118    226  118  GLY  TRP    74.0  parallel      5\n",
       "119    125  119  GLY  TYR   192.0  parallel      0"
      ]
     },
     "execution_count": 200,
     "metadata": {},
     "output_type": "execute_result"
    }
   ],
   "source": [
    "para_info.query(\"res1=='GLY'\")"
   ]
  },
  {
   "cell_type": "code",
   "execution_count": 195,
   "metadata": {},
   "outputs": [
    {
     "data": {
      "text/plain": [
       "[<matplotlib.lines.Line2D at 0x7f8e91a57160>]"
      ]
     },
     "execution_count": 195,
     "metadata": {},
     "output_type": "execute_result"
    },
    {
     "data": {
      "image/png": "[encoded data removed]",
      "text/plain": [
       "<Figure size 2880x1779.84 with 1 Axes>"
      ]
     },
     "metadata": {},
     "output_type": "display_data"
    }
   ],
   "source": [
    "t = X.sum(axis=0)\n",
    "t = sorted(t)\n",
    "plt.plot(t)"
   ]
  },
  {
   "cell_type": "code",
   "execution_count": 199,
   "metadata": {},
   "outputs": [
    {
     "data": {
      "text/plain": [
       "<matplotlib.colorbar.Colorbar at 0x7f8e919d9358>"
      ]
     },
     "execution_count": 199,
     "metadata": {},
     "output_type": "execute_result"
    },
    {
     "data": {
      "image/png": "[encoded data removed]",
      "text/plain": [
       "<Figure size 2880x1779.84 with 2 Axes>"
      ]
     },
     "metadata": {},
     "output_type": "display_data"
    }
   ],
   "source": [
    "plt.imshow(X)\n",
    "plt.colorbar()"
   ]
  },
  {
   "cell_type": "code",
   "execution_count": 183,
   "metadata": {},
   "outputs": [
    {
     "data": {
      "image/png": "[encoded data removed]",
      "text/plain": [
       "<Figure size 2880x1779.84 with 1 Axes>"
      ]
     },
     "metadata": {},
     "output_type": "display_data"
    }
   ],
   "source": [
    "x_label = kmeans.predict(X)\n",
    "sorted_label = x_label[np.argsort(x_label)]\n",
    "pos_list = []\n",
    "new_label = []\n",
    "for i, label in enumerate(sorted_label):\n",
    "    if sorted_label[i] == sorted_label[i-1]:\n",
    "        pass\n",
    "    else:\n",
    "        new_label.append(sorted_label[i])\n",
    "        pos_list.append(i)\n",
    "plt.rcParams['figure.figsize'] = 4* np.array([10,6.180])    #golden ratio\n",
    "t = para_table_log[np.argsort(x_label)][:,np.argsort(x_label)]\n",
    "plt.imshow(t)\n",
    "_ = plt.xticks(pos_list, new_label)\n",
    "_ = plt.yticks(pos_list, new_label)"
   ]
  },
  {
   "cell_type": "code",
   "execution_count": 161,
   "metadata": {
    "scrolled": true
   },
   "outputs": [
    {
     "data": {
      "text/html": [
       "<div>\n",
       "<style scoped>\n",
       "    .dataframe tbody tr th:only-of-type {\n",
       "        vertical-align: middle;\n",
       "    }\n",
       "\n",
       "    .dataframe tbody tr th {\n",
       "        vertical-align: top;\n",
       "    }\n",
       "\n",
       "    .dataframe thead th {\n",
       "        text-align: right;\n",
       "    }\n",
       "</style>\n",
       "<table border=\"1\" class=\"dataframe\">\n",
       "  <thead>\n",
       "    <tr style=\"text-align: right;\">\n",
       "      <th></th>\n",
       "      <th>Res1</th>\n",
       "      <th>Res2</th>\n",
       "      <th>Direction</th>\n",
       "      <th>Protein</th>\n",
       "      <th>Res1_1</th>\n",
       "      <th>Res1_2</th>\n",
       "      <th>Res2_1</th>\n",
       "      <th>Res2_2</th>\n",
       "      <th>Res2_letter</th>\n",
       "      <th>Res1_letter</th>\n",
       "    </tr>\n",
       "  </thead>\n",
       "  <tbody>\n",
       "    <tr>\n",
       "      <td>28748</td>\n",
       "      <td>397</td>\n",
       "      <td>399</td>\n",
       "      <td>anti</td>\n",
       "      <td>1</td>\n",
       "      <td>TYR</td>\n",
       "      <td>VAL</td>\n",
       "      <td>TYR</td>\n",
       "      <td>TYR</td>\n",
       "      <td>TYR_TYR</td>\n",
       "      <td>TYR_VAL</td>\n",
       "    </tr>\n",
       "    <tr>\n",
       "      <td>25241</td>\n",
       "      <td>259</td>\n",
       "      <td>284</td>\n",
       "      <td>anti</td>\n",
       "      <td>1</td>\n",
       "      <td>PRO</td>\n",
       "      <td>TYR</td>\n",
       "      <td>PHE</td>\n",
       "      <td>ARG</td>\n",
       "      <td>ARG_PHE</td>\n",
       "      <td>PRO_TYR</td>\n",
       "    </tr>\n",
       "    <tr>\n",
       "      <td>25240</td>\n",
       "      <td>259</td>\n",
       "      <td>280</td>\n",
       "      <td>anti</td>\n",
       "      <td>1</td>\n",
       "      <td>ARG</td>\n",
       "      <td>ALA</td>\n",
       "      <td>TYR</td>\n",
       "      <td>PRO</td>\n",
       "      <td>PRO_TYR</td>\n",
       "      <td>ARG_ALA</td>\n",
       "    </tr>\n",
       "    <tr>\n",
       "      <td>25239</td>\n",
       "      <td>259</td>\n",
       "      <td>277</td>\n",
       "      <td>anti</td>\n",
       "      <td>1</td>\n",
       "      <td>GLN</td>\n",
       "      <td>VAL</td>\n",
       "      <td>TYR</td>\n",
       "      <td>PRO</td>\n",
       "      <td>PRO_TYR</td>\n",
       "      <td>GLN_VAL</td>\n",
       "    </tr>\n",
       "    <tr>\n",
       "      <td>25238</td>\n",
       "      <td>259</td>\n",
       "      <td>260</td>\n",
       "      <td>parallel</td>\n",
       "      <td>1</td>\n",
       "      <td>PRO</td>\n",
       "      <td>TYR</td>\n",
       "      <td>GLN</td>\n",
       "      <td>ALA</td>\n",
       "      <td>GLN_ALA</td>\n",
       "      <td>PRO_TYR</td>\n",
       "    </tr>\n",
       "    <tr>\n",
       "      <td>...</td>\n",
       "      <td>...</td>\n",
       "      <td>...</td>\n",
       "      <td>...</td>\n",
       "      <td>...</td>\n",
       "      <td>...</td>\n",
       "      <td>...</td>\n",
       "      <td>...</td>\n",
       "      <td>...</td>\n",
       "      <td>...</td>\n",
       "      <td>...</td>\n",
       "    </tr>\n",
       "    <tr>\n",
       "      <td>19710</td>\n",
       "      <td>182</td>\n",
       "      <td>309</td>\n",
       "      <td>anti</td>\n",
       "      <td>105</td>\n",
       "      <td>LEU</td>\n",
       "      <td>ASP</td>\n",
       "      <td>LEU</td>\n",
       "      <td>SER</td>\n",
       "      <td>SER_LEU</td>\n",
       "      <td>LEU_ASP</td>\n",
       "    </tr>\n",
       "    <tr>\n",
       "      <td>119</td>\n",
       "      <td>0</td>\n",
       "      <td>105</td>\n",
       "      <td>parallel</td>\n",
       "      <td>112</td>\n",
       "      <td>ALA</td>\n",
       "      <td>ALA</td>\n",
       "      <td>GLY</td>\n",
       "      <td>GLY</td>\n",
       "      <td>GLY_GLY</td>\n",
       "      <td>ALA_ALA</td>\n",
       "    </tr>\n",
       "    <tr>\n",
       "      <td>20615</td>\n",
       "      <td>189</td>\n",
       "      <td>197</td>\n",
       "      <td>anti</td>\n",
       "      <td>119</td>\n",
       "      <td>LEU</td>\n",
       "      <td>LEU</td>\n",
       "      <td>VAL</td>\n",
       "      <td>LEU</td>\n",
       "      <td>LEU_VAL</td>\n",
       "      <td>LEU_LEU</td>\n",
       "    </tr>\n",
       "    <tr>\n",
       "      <td>20786</td>\n",
       "      <td>189</td>\n",
       "      <td>349</td>\n",
       "      <td>anti</td>\n",
       "      <td>128</td>\n",
       "      <td>LEU</td>\n",
       "      <td>LEU</td>\n",
       "      <td>LEU</td>\n",
       "      <td>VAL</td>\n",
       "      <td>VAL_LEU</td>\n",
       "      <td>LEU_LEU</td>\n",
       "    </tr>\n",
       "    <tr>\n",
       "      <td>20599</td>\n",
       "      <td>189</td>\n",
       "      <td>189</td>\n",
       "      <td>anti</td>\n",
       "      <td>155</td>\n",
       "      <td>LEU</td>\n",
       "      <td>LEU</td>\n",
       "      <td>LEU</td>\n",
       "      <td>LEU</td>\n",
       "      <td>LEU_LEU</td>\n",
       "      <td>LEU_LEU</td>\n",
       "    </tr>\n",
       "  </tbody>\n",
       "</table>\n",
       "<p>28749 rows × 10 columns</p>\n",
       "</div>"
      ],
      "text/plain": [
       "       Res1  Res2 Direction  Protein Res1_1 Res1_2 Res2_1 Res2_2 Res2_letter  \\\n",
       "28748   397   399      anti        1    TYR    VAL    TYR    TYR     TYR_TYR   \n",
       "25241   259   284      anti        1    PRO    TYR    PHE    ARG     ARG_PHE   \n",
       "25240   259   280      anti        1    ARG    ALA    TYR    PRO     PRO_TYR   \n",
       "25239   259   277      anti        1    GLN    VAL    TYR    PRO     PRO_TYR   \n",
       "25238   259   260  parallel        1    PRO    TYR    GLN    ALA     GLN_ALA   \n",
       "...     ...   ...       ...      ...    ...    ...    ...    ...         ...   \n",
       "19710   182   309      anti      105    LEU    ASP    LEU    SER     SER_LEU   \n",
       "119       0   105  parallel      112    ALA    ALA    GLY    GLY     GLY_GLY   \n",
       "20615   189   197      anti      119    LEU    LEU    VAL    LEU     LEU_VAL   \n",
       "20786   189   349      anti      128    LEU    LEU    LEU    VAL     VAL_LEU   \n",
       "20599   189   189      anti      155    LEU    LEU    LEU    LEU     LEU_LEU   \n",
       "\n",
       "      Res1_letter  \n",
       "28748     TYR_VAL  \n",
       "25241     PRO_TYR  \n",
       "25240     ARG_ALA  \n",
       "25239     GLN_VAL  \n",
       "25238     PRO_TYR  \n",
       "...           ...  \n",
       "19710     LEU_ASP  \n",
       "119       ALA_ALA  \n",
       "20615     LEU_LEU  \n",
       "20786     LEU_LEU  \n",
       "20599     LEU_LEU  \n",
       "\n",
       "[28749 rows x 10 columns]"
      ]
     },
     "execution_count": 161,
     "metadata": {},
     "output_type": "execute_result"
    }
   ],
   "source": [
    "b.sort_values(\"Protein\")"
   ]
  },
  {
   "cell_type": "code",
   "execution_count": 169,
   "metadata": {},
   "outputs": [
    {
     "data": {
      "text/plain": [
       "(28749, 10)"
      ]
     },
     "execution_count": 169,
     "metadata": {},
     "output_type": "execute_result"
    }
   ],
   "source": [
    "b.shape"
   ]
  },
  {
   "cell_type": "code",
   "execution_count": 167,
   "metadata": {},
   "outputs": [
    {
     "data": {
      "text/plain": [
       "(17928, 10)"
      ]
     },
     "execution_count": 167,
     "metadata": {},
     "output_type": "execute_result"
    }
   ],
   "source": [
    "b.query(\"Protein > 1\").shape"
   ]
  },
  {
   "cell_type": "code",
   "execution_count": 168,
   "metadata": {},
   "outputs": [
    {
     "data": {
      "text/plain": [
       "(6510, 10)"
      ]
     },
     "execution_count": 168,
     "metadata": {},
     "output_type": "execute_result"
    }
   ],
   "source": [
    "b.query(\"Protein > 5\").shape"
   ]
  },
  {
   "cell_type": "code",
   "execution_count": 170,
   "metadata": {},
   "outputs": [
    {
     "data": {
      "text/plain": [
       "(2947, 10)"
      ]
     },
     "execution_count": 170,
     "metadata": {},
     "output_type": "execute_result"
    }
   ],
   "source": [
    "b.query(\"Protein > 10\").shape"
   ]
  },
  {
   "cell_type": "code",
   "execution_count": 176,
   "metadata": {},
   "outputs": [
    {
     "data": {
      "text/plain": [
       "(975, 10)"
      ]
     },
     "execution_count": 176,
     "metadata": {},
     "output_type": "execute_result"
    }
   ],
   "source": [
    "b.query(\"Protein > 20\").shape"
   ]
  },
  {
   "cell_type": "code",
   "execution_count": 177,
   "metadata": {},
   "outputs": [
    {
     "data": {
      "text/plain": [
       "(421, 10)"
      ]
     },
     "execution_count": 177,
     "metadata": {},
     "output_type": "execute_result"
    }
   ],
   "source": [
    "b.query(\"Protein > 30\").shape"
   ]
  },
  {
   "cell_type": "code",
   "execution_count": 178,
   "metadata": {},
   "outputs": [
    {
     "data": {
      "text/plain": [
       "(175, 10)"
      ]
     },
     "execution_count": 178,
     "metadata": {},
     "output_type": "execute_result"
    }
   ],
   "source": [
    "b.query(\"Protein > 40\").shape"
   ]
  },
  {
   "cell_type": "code",
   "execution_count": null,
   "metadata": {
    "collapsed": true
   },
   "outputs": [],
   "source": [
    "b.query(\"Protein > 50\")"
   ]
  },
  {
   "cell_type": "code",
   "execution_count": 175,
   "metadata": {},
   "outputs": [
    {
     "data": {
      "text/plain": [
       "<matplotlib.axes._subplots.AxesSubplot at 0x7f8e9c347d30>"
      ]
     },
     "execution_count": 175,
     "metadata": {},
     "output_type": "execute_result"
    },
    {
     "data": {
      "image/png": "[encoded data removed]",
      "text/plain": [
       "<Figure size 720x444.96 with 1 Axes>"
      ]
     },
     "metadata": {},
     "output_type": "display_data"
    }
   ],
   "source": [
    "b.query(\"Protein > 30\")[\"Protein\"].hist(bins=50)"
   ]
  },
  {
   "cell_type": "code",
   "execution_count": 165,
   "metadata": {},
   "outputs": [
    {
     "data": {
      "text/plain": [
       "<matplotlib.axes._subplots.AxesSubplot at 0x7f8e9c7789e8>"
      ]
     },
     "execution_count": 165,
     "metadata": {},
     "output_type": "execute_result"
    },
    {
     "data": {
      "image/png": "[encoded data removed]",
      "text/plain": [
       "<Figure size 720x444.96 with 1 Axes>"
      ]
     },
     "metadata": {},
     "output_type": "display_data"
    }
   ],
   "source": [
    "b[\"Protein\"].hist(bins=50)"
   ]
  },
  {
   "cell_type": "code",
   "execution_count": 164,
   "metadata": {},
   "outputs": [
    {
     "data": {
      "text/html": [
       "<div>\n",
       "<style scoped>\n",
       "    .dataframe tbody tr th:only-of-type {\n",
       "        vertical-align: middle;\n",
       "    }\n",
       "\n",
       "    .dataframe tbody tr th {\n",
       "        vertical-align: top;\n",
       "    }\n",
       "\n",
       "    .dataframe thead th {\n",
       "        text-align: right;\n",
       "    }\n",
       "</style>\n",
       "<table border=\"1\" class=\"dataframe\">\n",
       "  <thead>\n",
       "    <tr style=\"text-align: right;\">\n",
       "      <th></th>\n",
       "      <th>Res1</th>\n",
       "      <th>Res2</th>\n",
       "      <th>Direction</th>\n",
       "      <th>Protein</th>\n",
       "      <th>Res1_1</th>\n",
       "      <th>Res1_2</th>\n",
       "      <th>Res2_1</th>\n",
       "      <th>Res2_2</th>\n",
       "      <th>Res2_letter</th>\n",
       "      <th>Res1_letter</th>\n",
       "    </tr>\n",
       "  </thead>\n",
       "  <tbody>\n",
       "    <tr>\n",
       "      <td>12348</td>\n",
       "      <td>101</td>\n",
       "      <td>105</td>\n",
       "      <td>anti</td>\n",
       "      <td>6</td>\n",
       "      <td>GLY</td>\n",
       "      <td>CYS</td>\n",
       "      <td>GLY</td>\n",
       "      <td>GLY</td>\n",
       "      <td>GLY_GLY</td>\n",
       "      <td>GLY_CYS</td>\n",
       "    </tr>\n",
       "    <tr>\n",
       "      <td>12349</td>\n",
       "      <td>101</td>\n",
       "      <td>105</td>\n",
       "      <td>parallel</td>\n",
       "      <td>36</td>\n",
       "      <td>GLY</td>\n",
       "      <td>CYS</td>\n",
       "      <td>GLY</td>\n",
       "      <td>GLY</td>\n",
       "      <td>GLY_GLY</td>\n",
       "      <td>GLY_CYS</td>\n",
       "    </tr>\n",
       "    <tr>\n",
       "      <td>12441</td>\n",
       "      <td>102</td>\n",
       "      <td>105</td>\n",
       "      <td>anti</td>\n",
       "      <td>2</td>\n",
       "      <td>GLY</td>\n",
       "      <td>ASP</td>\n",
       "      <td>GLY</td>\n",
       "      <td>GLY</td>\n",
       "      <td>GLY_GLY</td>\n",
       "      <td>GLY_ASP</td>\n",
       "    </tr>\n",
       "    <tr>\n",
       "      <td>12808</td>\n",
       "      <td>105</td>\n",
       "      <td>105</td>\n",
       "      <td>anti</td>\n",
       "      <td>23</td>\n",
       "      <td>GLY</td>\n",
       "      <td>GLY</td>\n",
       "      <td>GLY</td>\n",
       "      <td>GLY</td>\n",
       "      <td>GLY_GLY</td>\n",
       "      <td>GLY_GLY</td>\n",
       "    </tr>\n",
       "    <tr>\n",
       "      <td>12809</td>\n",
       "      <td>105</td>\n",
       "      <td>105</td>\n",
       "      <td>parallel</td>\n",
       "      <td>43</td>\n",
       "      <td>GLY</td>\n",
       "      <td>GLY</td>\n",
       "      <td>GLY</td>\n",
       "      <td>GLY</td>\n",
       "      <td>GLY_GLY</td>\n",
       "      <td>GLY_GLY</td>\n",
       "    </tr>\n",
       "    <tr>\n",
       "      <td>12810</td>\n",
       "      <td>105</td>\n",
       "      <td>107</td>\n",
       "      <td>anti</td>\n",
       "      <td>22</td>\n",
       "      <td>GLY</td>\n",
       "      <td>ILE</td>\n",
       "      <td>GLY</td>\n",
       "      <td>GLY</td>\n",
       "      <td>GLY_GLY</td>\n",
       "      <td>GLY_ILE</td>\n",
       "    </tr>\n",
       "    <tr>\n",
       "      <td>12811</td>\n",
       "      <td>105</td>\n",
       "      <td>107</td>\n",
       "      <td>parallel</td>\n",
       "      <td>6</td>\n",
       "      <td>GLY</td>\n",
       "      <td>ILE</td>\n",
       "      <td>GLY</td>\n",
       "      <td>GLY</td>\n",
       "      <td>GLY_GLY</td>\n",
       "      <td>GLY_ILE</td>\n",
       "    </tr>\n",
       "    <tr>\n",
       "      <td>12813</td>\n",
       "      <td>105</td>\n",
       "      <td>109</td>\n",
       "      <td>anti</td>\n",
       "      <td>24</td>\n",
       "      <td>GLY</td>\n",
       "      <td>LEU</td>\n",
       "      <td>GLY</td>\n",
       "      <td>GLY</td>\n",
       "      <td>GLY_GLY</td>\n",
       "      <td>GLY_LEU</td>\n",
       "    </tr>\n",
       "    <tr>\n",
       "      <td>12814</td>\n",
       "      <td>105</td>\n",
       "      <td>109</td>\n",
       "      <td>parallel</td>\n",
       "      <td>22</td>\n",
       "      <td>GLY</td>\n",
       "      <td>LEU</td>\n",
       "      <td>GLY</td>\n",
       "      <td>GLY</td>\n",
       "      <td>GLY_GLY</td>\n",
       "      <td>GLY_LEU</td>\n",
       "    </tr>\n",
       "    <tr>\n",
       "      <td>12815</td>\n",
       "      <td>105</td>\n",
       "      <td>110</td>\n",
       "      <td>anti</td>\n",
       "      <td>6</td>\n",
       "      <td>GLY</td>\n",
       "      <td>MET</td>\n",
       "      <td>GLY</td>\n",
       "      <td>GLY</td>\n",
       "      <td>GLY_GLY</td>\n",
       "      <td>GLY_MET</td>\n",
       "    </tr>\n",
       "    <tr>\n",
       "      <td>12817</td>\n",
       "      <td>105</td>\n",
       "      <td>111</td>\n",
       "      <td>anti</td>\n",
       "      <td>2</td>\n",
       "      <td>GLY</td>\n",
       "      <td>ASN</td>\n",
       "      <td>GLY</td>\n",
       "      <td>GLY</td>\n",
       "      <td>GLY_GLY</td>\n",
       "      <td>GLY_ASN</td>\n",
       "    </tr>\n",
       "    <tr>\n",
       "      <td>12818</td>\n",
       "      <td>105</td>\n",
       "      <td>111</td>\n",
       "      <td>parallel</td>\n",
       "      <td>4</td>\n",
       "      <td>GLY</td>\n",
       "      <td>ASN</td>\n",
       "      <td>GLY</td>\n",
       "      <td>GLY</td>\n",
       "      <td>GLY_GLY</td>\n",
       "      <td>GLY_ASN</td>\n",
       "    </tr>\n",
       "    <tr>\n",
       "      <td>12819</td>\n",
       "      <td>105</td>\n",
       "      <td>112</td>\n",
       "      <td>anti</td>\n",
       "      <td>5</td>\n",
       "      <td>GLY</td>\n",
       "      <td>PRO</td>\n",
       "      <td>GLY</td>\n",
       "      <td>GLY</td>\n",
       "      <td>GLY_GLY</td>\n",
       "      <td>GLY_PRO</td>\n",
       "    </tr>\n",
       "    <tr>\n",
       "      <td>12820</td>\n",
       "      <td>105</td>\n",
       "      <td>112</td>\n",
       "      <td>parallel</td>\n",
       "      <td>19</td>\n",
       "      <td>GLY</td>\n",
       "      <td>PRO</td>\n",
       "      <td>GLY</td>\n",
       "      <td>GLY</td>\n",
       "      <td>GLY_GLY</td>\n",
       "      <td>GLY_PRO</td>\n",
       "    </tr>\n",
       "    <tr>\n",
       "      <td>12822</td>\n",
       "      <td>105</td>\n",
       "      <td>113</td>\n",
       "      <td>parallel</td>\n",
       "      <td>1</td>\n",
       "      <td>GLY</td>\n",
       "      <td>GLN</td>\n",
       "      <td>GLY</td>\n",
       "      <td>GLY</td>\n",
       "      <td>GLY_GLY</td>\n",
       "      <td>GLY_GLN</td>\n",
       "    </tr>\n",
       "    <tr>\n",
       "      <td>12823</td>\n",
       "      <td>105</td>\n",
       "      <td>114</td>\n",
       "      <td>anti</td>\n",
       "      <td>1</td>\n",
       "      <td>GLY</td>\n",
       "      <td>ARG</td>\n",
       "      <td>GLY</td>\n",
       "      <td>GLY</td>\n",
       "      <td>GLY_GLY</td>\n",
       "      <td>GLY_ARG</td>\n",
       "    </tr>\n",
       "    <tr>\n",
       "      <td>12825</td>\n",
       "      <td>105</td>\n",
       "      <td>115</td>\n",
       "      <td>anti</td>\n",
       "      <td>19</td>\n",
       "      <td>GLY</td>\n",
       "      <td>SER</td>\n",
       "      <td>GLY</td>\n",
       "      <td>GLY</td>\n",
       "      <td>GLY_GLY</td>\n",
       "      <td>GLY_SER</td>\n",
       "    </tr>\n",
       "    <tr>\n",
       "      <td>12827</td>\n",
       "      <td>105</td>\n",
       "      <td>116</td>\n",
       "      <td>anti</td>\n",
       "      <td>11</td>\n",
       "      <td>GLY</td>\n",
       "      <td>THR</td>\n",
       "      <td>GLY</td>\n",
       "      <td>GLY</td>\n",
       "      <td>GLY_GLY</td>\n",
       "      <td>GLY_THR</td>\n",
       "    </tr>\n",
       "    <tr>\n",
       "      <td>12829</td>\n",
       "      <td>105</td>\n",
       "      <td>117</td>\n",
       "      <td>anti</td>\n",
       "      <td>13</td>\n",
       "      <td>GLY</td>\n",
       "      <td>VAL</td>\n",
       "      <td>GLY</td>\n",
       "      <td>GLY</td>\n",
       "      <td>GLY_GLY</td>\n",
       "      <td>GLY_VAL</td>\n",
       "    </tr>\n",
       "    <tr>\n",
       "      <td>12832</td>\n",
       "      <td>105</td>\n",
       "      <td>118</td>\n",
       "      <td>parallel</td>\n",
       "      <td>3</td>\n",
       "      <td>GLY</td>\n",
       "      <td>TRP</td>\n",
       "      <td>GLY</td>\n",
       "      <td>GLY</td>\n",
       "      <td>GLY_GLY</td>\n",
       "      <td>GLY_TRP</td>\n",
       "    </tr>\n",
       "    <tr>\n",
       "      <td>12834</td>\n",
       "      <td>105</td>\n",
       "      <td>119</td>\n",
       "      <td>parallel</td>\n",
       "      <td>4</td>\n",
       "      <td>GLY</td>\n",
       "      <td>TYR</td>\n",
       "      <td>GLY</td>\n",
       "      <td>GLY</td>\n",
       "      <td>GLY_GLY</td>\n",
       "      <td>GLY_TYR</td>\n",
       "    </tr>\n",
       "  </tbody>\n",
       "</table>\n",
       "</div>"
      ],
      "text/plain": [
       "       Res1  Res2 Direction  Protein Res1_1 Res1_2 Res2_1 Res2_2 Res2_letter  \\\n",
       "12348   101   105      anti        6    GLY    CYS    GLY    GLY     GLY_GLY   \n",
       "12349   101   105  parallel       36    GLY    CYS    GLY    GLY     GLY_GLY   \n",
       "12441   102   105      anti        2    GLY    ASP    GLY    GLY     GLY_GLY   \n",
       "12808   105   105      anti       23    GLY    GLY    GLY    GLY     GLY_GLY   \n",
       "12809   105   105  parallel       43    GLY    GLY    GLY    GLY     GLY_GLY   \n",
       "12810   105   107      anti       22    GLY    ILE    GLY    GLY     GLY_GLY   \n",
       "12811   105   107  parallel        6    GLY    ILE    GLY    GLY     GLY_GLY   \n",
       "12813   105   109      anti       24    GLY    LEU    GLY    GLY     GLY_GLY   \n",
       "12814   105   109  parallel       22    GLY    LEU    GLY    GLY     GLY_GLY   \n",
       "12815   105   110      anti        6    GLY    MET    GLY    GLY     GLY_GLY   \n",
       "12817   105   111      anti        2    GLY    ASN    GLY    GLY     GLY_GLY   \n",
       "12818   105   111  parallel        4    GLY    ASN    GLY    GLY     GLY_GLY   \n",
       "12819   105   112      anti        5    GLY    PRO    GLY    GLY     GLY_GLY   \n",
       "12820   105   112  parallel       19    GLY    PRO    GLY    GLY     GLY_GLY   \n",
       "12822   105   113  parallel        1    GLY    GLN    GLY    GLY     GLY_GLY   \n",
       "12823   105   114      anti        1    GLY    ARG    GLY    GLY     GLY_GLY   \n",
       "12825   105   115      anti       19    GLY    SER    GLY    GLY     GLY_GLY   \n",
       "12827   105   116      anti       11    GLY    THR    GLY    GLY     GLY_GLY   \n",
       "12829   105   117      anti       13    GLY    VAL    GLY    GLY     GLY_GLY   \n",
       "12832   105   118  parallel        3    GLY    TRP    GLY    GLY     GLY_GLY   \n",
       "12834   105   119  parallel        4    GLY    TYR    GLY    GLY     GLY_GLY   \n",
       "\n",
       "      Res1_letter  \n",
       "12348     GLY_CYS  \n",
       "12349     GLY_CYS  \n",
       "12441     GLY_ASP  \n",
       "12808     GLY_GLY  \n",
       "12809     GLY_GLY  \n",
       "12810     GLY_ILE  \n",
       "12811     GLY_ILE  \n",
       "12813     GLY_LEU  \n",
       "12814     GLY_LEU  \n",
       "12815     GLY_MET  \n",
       "12817     GLY_ASN  \n",
       "12818     GLY_ASN  \n",
       "12819     GLY_PRO  \n",
       "12820     GLY_PRO  \n",
       "12822     GLY_GLN  \n",
       "12823     GLY_ARG  \n",
       "12825     GLY_SER  \n",
       "12827     GLY_THR  \n",
       "12829     GLY_VAL  \n",
       "12832     GLY_TRP  \n",
       "12834     GLY_TYR  "
      ]
     },
     "execution_count": 164,
     "metadata": {},
     "output_type": "execute_result"
    }
   ],
   "source": [
    "b.query(\"Res1_1=='GLY' and Res2_1 =='GLY' and Res2_2 =='GLY'\")"
   ]
  },
  {
   "cell_type": "code",
   "execution_count": 154,
   "metadata": {},
   "outputs": [
    {
     "data": {
      "text/html": [
       "<div>\n",
       "<style scoped>\n",
       "    .dataframe tbody tr th:only-of-type {\n",
       "        vertical-align: middle;\n",
       "    }\n",
       "\n",
       "    .dataframe tbody tr th {\n",
       "        vertical-align: top;\n",
       "    }\n",
       "\n",
       "    .dataframe thead th {\n",
       "        text-align: right;\n",
       "    }\n",
       "</style>\n",
       "<table border=\"1\" class=\"dataframe\">\n",
       "  <thead>\n",
       "    <tr style=\"text-align: right;\">\n",
       "      <th></th>\n",
       "      <th>index</th>\n",
       "      <th>Index1_1</th>\n",
       "      <th>Res1_1</th>\n",
       "      <th>Index2_1</th>\n",
       "      <th>Res2_1</th>\n",
       "      <th>Index1_2</th>\n",
       "      <th>Res1_2</th>\n",
       "      <th>Index2_2</th>\n",
       "      <th>Res2_2</th>\n",
       "      <th>Res1</th>\n",
       "      <th>Chain1</th>\n",
       "      <th>Res2</th>\n",
       "      <th>Chain2</th>\n",
       "      <th>rij</th>\n",
       "      <th>rij_2</th>\n",
       "      <th>Protein</th>\n",
       "      <th>Direction</th>\n",
       "      <th>interaction_index</th>\n",
       "      <th>code</th>\n",
       "      <th>pair</th>\n",
       "    </tr>\n",
       "  </thead>\n",
       "  <tbody>\n",
       "    <tr>\n",
       "      <td>41</td>\n",
       "      <td>319</td>\n",
       "      <td>209</td>\n",
       "      <td>MET</td>\n",
       "      <td>252</td>\n",
       "      <td>PHE</td>\n",
       "      <td>213</td>\n",
       "      <td>ILE</td>\n",
       "      <td>248</td>\n",
       "      <td>VAL</td>\n",
       "      <td>44</td>\n",
       "      <td>B</td>\n",
       "      <td>91</td>\n",
       "      <td>B</td>\n",
       "      <td>5.343194</td>\n",
       "      <td>5.318576</td>\n",
       "      <td>3cap</td>\n",
       "      <td>anti</td>\n",
       "      <td>12</td>\n",
       "      <td>301</td>\n",
       "      <td>3cap_B</td>\n",
       "    </tr>\n",
       "    <tr>\n",
       "      <td>42</td>\n",
       "      <td>320</td>\n",
       "      <td>209</td>\n",
       "      <td>MET</td>\n",
       "      <td>256</td>\n",
       "      <td>LEU</td>\n",
       "      <td>213</td>\n",
       "      <td>ILE</td>\n",
       "      <td>252</td>\n",
       "      <td>PHE</td>\n",
       "      <td>44</td>\n",
       "      <td>B</td>\n",
       "      <td>95</td>\n",
       "      <td>B</td>\n",
       "      <td>6.288851</td>\n",
       "      <td>6.254056</td>\n",
       "      <td>3cap</td>\n",
       "      <td>anti</td>\n",
       "      <td>12</td>\n",
       "      <td>301</td>\n",
       "      <td>3cap_B</td>\n",
       "    </tr>\n",
       "    <tr>\n",
       "      <td>43</td>\n",
       "      <td>321</td>\n",
       "      <td>212</td>\n",
       "      <td>LEU</td>\n",
       "      <td>252</td>\n",
       "      <td>PHE</td>\n",
       "      <td>216</td>\n",
       "      <td>GLY</td>\n",
       "      <td>248</td>\n",
       "      <td>VAL</td>\n",
       "      <td>47</td>\n",
       "      <td>B</td>\n",
       "      <td>91</td>\n",
       "      <td>B</td>\n",
       "      <td>4.410215</td>\n",
       "      <td>5.070871</td>\n",
       "      <td>3cap</td>\n",
       "      <td>anti</td>\n",
       "      <td>77</td>\n",
       "      <td>100201</td>\n",
       "      <td>3cap_B</td>\n",
       "    </tr>\n",
       "    <tr>\n",
       "      <td>44</td>\n",
       "      <td>326</td>\n",
       "      <td>213</td>\n",
       "      <td>ILE</td>\n",
       "      <td>253</td>\n",
       "      <td>THR</td>\n",
       "      <td>217</td>\n",
       "      <td>PHE</td>\n",
       "      <td>249</td>\n",
       "      <td>PHE</td>\n",
       "      <td>48</td>\n",
       "      <td>B</td>\n",
       "      <td>92</td>\n",
       "      <td>B</td>\n",
       "      <td>5.502128</td>\n",
       "      <td>6.142965</td>\n",
       "      <td>3cap</td>\n",
       "      <td>anti</td>\n",
       "      <td>39</td>\n",
       "      <td>10102</td>\n",
       "      <td>3cap_B</td>\n",
       "    </tr>\n",
       "    <tr>\n",
       "      <td>45</td>\n",
       "      <td>336</td>\n",
       "      <td>216</td>\n",
       "      <td>GLY</td>\n",
       "      <td>248</td>\n",
       "      <td>VAL</td>\n",
       "      <td>220</td>\n",
       "      <td>ASN</td>\n",
       "      <td>244</td>\n",
       "      <td>ASP</td>\n",
       "      <td>51</td>\n",
       "      <td>B</td>\n",
       "      <td>87</td>\n",
       "      <td>B</td>\n",
       "      <td>5.070871</td>\n",
       "      <td>3.861909</td>\n",
       "      <td>3cap</td>\n",
       "      <td>anti</td>\n",
       "      <td>76</td>\n",
       "      <td>100120</td>\n",
       "      <td>3cap_B</td>\n",
       "    </tr>\n",
       "    <tr>\n",
       "      <td>...</td>\n",
       "      <td>...</td>\n",
       "      <td>...</td>\n",
       "      <td>...</td>\n",
       "      <td>...</td>\n",
       "      <td>...</td>\n",
       "      <td>...</td>\n",
       "      <td>...</td>\n",
       "      <td>...</td>\n",
       "      <td>...</td>\n",
       "      <td>...</td>\n",
       "      <td>...</td>\n",
       "      <td>...</td>\n",
       "      <td>...</td>\n",
       "      <td>...</td>\n",
       "      <td>...</td>\n",
       "      <td>...</td>\n",
       "      <td>...</td>\n",
       "      <td>...</td>\n",
       "      <td>...</td>\n",
       "      <td>...</td>\n",
       "    </tr>\n",
       "    <tr>\n",
       "      <td>746515</td>\n",
       "      <td>2277753</td>\n",
       "      <td>555</td>\n",
       "      <td>LEU</td>\n",
       "      <td>748</td>\n",
       "      <td>THR</td>\n",
       "      <td>559</td>\n",
       "      <td>PHE</td>\n",
       "      <td>752</td>\n",
       "      <td>ALA</td>\n",
       "      <td>317</td>\n",
       "      <td>B</td>\n",
       "      <td>681</td>\n",
       "      <td>B</td>\n",
       "      <td>5.458916</td>\n",
       "      <td>5.365570</td>\n",
       "      <td>6c96</td>\n",
       "      <td>parallel</td>\n",
       "      <td>58</td>\n",
       "      <td>20101</td>\n",
       "      <td>6c96_B</td>\n",
       "    </tr>\n",
       "    <tr>\n",
       "      <td>746516</td>\n",
       "      <td>2277757</td>\n",
       "      <td>558</td>\n",
       "      <td>VAL</td>\n",
       "      <td>748</td>\n",
       "      <td>THR</td>\n",
       "      <td>562</td>\n",
       "      <td>PHE</td>\n",
       "      <td>752</td>\n",
       "      <td>ALA</td>\n",
       "      <td>320</td>\n",
       "      <td>B</td>\n",
       "      <td>681</td>\n",
       "      <td>B</td>\n",
       "      <td>4.720123</td>\n",
       "      <td>4.583742</td>\n",
       "      <td>6c96</td>\n",
       "      <td>parallel</td>\n",
       "      <td>58</td>\n",
       "      <td>20101</td>\n",
       "      <td>6c96_B</td>\n",
       "    </tr>\n",
       "    <tr>\n",
       "      <td>746517</td>\n",
       "      <td>2277758</td>\n",
       "      <td>558</td>\n",
       "      <td>VAL</td>\n",
       "      <td>752</td>\n",
       "      <td>ALA</td>\n",
       "      <td>562</td>\n",
       "      <td>PHE</td>\n",
       "      <td>756</td>\n",
       "      <td>GLU</td>\n",
       "      <td>320</td>\n",
       "      <td>B</td>\n",
       "      <td>685</td>\n",
       "      <td>B</td>\n",
       "      <td>5.797050</td>\n",
       "      <td>5.380803</td>\n",
       "      <td>6c96</td>\n",
       "      <td>parallel</td>\n",
       "      <td>40</td>\n",
       "      <td>10111</td>\n",
       "      <td>6c96_B</td>\n",
       "    </tr>\n",
       "    <tr>\n",
       "      <td>746518</td>\n",
       "      <td>2277779</td>\n",
       "      <td>601</td>\n",
       "      <td>TYR</td>\n",
       "      <td>639</td>\n",
       "      <td>ALA</td>\n",
       "      <td>605</td>\n",
       "      <td>LEU</td>\n",
       "      <td>643</td>\n",
       "      <td>LEU</td>\n",
       "      <td>480</td>\n",
       "      <td>B</td>\n",
       "      <td>519</td>\n",
       "      <td>B</td>\n",
       "      <td>5.407334</td>\n",
       "      <td>5.468802</td>\n",
       "      <td>6c96</td>\n",
       "      <td>parallel</td>\n",
       "      <td>42</td>\n",
       "      <td>10201</td>\n",
       "      <td>6c96_B</td>\n",
       "    </tr>\n",
       "    <tr>\n",
       "      <td>746519</td>\n",
       "      <td>2277822</td>\n",
       "      <td>717</td>\n",
       "      <td>LEU</td>\n",
       "      <td>739</td>\n",
       "      <td>PHE</td>\n",
       "      <td>721</td>\n",
       "      <td>THR</td>\n",
       "      <td>743</td>\n",
       "      <td>THR</td>\n",
       "      <td>641</td>\n",
       "      <td>B</td>\n",
       "      <td>672</td>\n",
       "      <td>B</td>\n",
       "      <td>5.016036</td>\n",
       "      <td>4.414836</td>\n",
       "      <td>6c96</td>\n",
       "      <td>parallel</td>\n",
       "      <td>58</td>\n",
       "      <td>20101</td>\n",
       "      <td>6c96_B</td>\n",
       "    </tr>\n",
       "  </tbody>\n",
       "</table>\n",
       "<p>132497 rows × 20 columns</p>\n",
       "</div>"
      ],
      "text/plain": [
       "          index  Index1_1 Res1_1  Index2_1 Res2_1  Index1_2 Res1_2  Index2_2  \\\n",
       "41          319       209    MET       252    PHE       213    ILE       248   \n",
       "42          320       209    MET       256    LEU       213    ILE       252   \n",
       "43          321       212    LEU       252    PHE       216    GLY       248   \n",
       "44          326       213    ILE       253    THR       217    PHE       249   \n",
       "45          336       216    GLY       248    VAL       220    ASN       244   \n",
       "...         ...       ...    ...       ...    ...       ...    ...       ...   \n",
       "746515  2277753       555    LEU       748    THR       559    PHE       752   \n",
       "746516  2277757       558    VAL       748    THR       562    PHE       752   \n",
       "746517  2277758       558    VAL       752    ALA       562    PHE       756   \n",
       "746518  2277779       601    TYR       639    ALA       605    LEU       643   \n",
       "746519  2277822       717    LEU       739    PHE       721    THR       743   \n",
       "\n",
       "       Res2_2  Res1 Chain1  Res2 Chain2       rij     rij_2 Protein Direction  \\\n",
       "41        VAL    44      B    91      B  5.343194  5.318576    3cap      anti   \n",
       "42        PHE    44      B    95      B  6.288851  6.254056    3cap      anti   \n",
       "43        VAL    47      B    91      B  4.410215  5.070871    3cap      anti   \n",
       "44        PHE    48      B    92      B  5.502128  6.142965    3cap      anti   \n",
       "45        ASP    51      B    87      B  5.070871  3.861909    3cap      anti   \n",
       "...       ...   ...    ...   ...    ...       ...       ...     ...       ...   \n",
       "746515    ALA   317      B   681      B  5.458916  5.365570    6c96  parallel   \n",
       "746516    ALA   320      B   681      B  4.720123  4.583742    6c96  parallel   \n",
       "746517    GLU   320      B   685      B  5.797050  5.380803    6c96  parallel   \n",
       "746518    LEU   480      B   519      B  5.407334  5.468802    6c96  parallel   \n",
       "746519    THR   641      B   672      B  5.016036  4.414836    6c96  parallel   \n",
       "\n",
       "        interaction_index    code    pair  \n",
       "41                     12     301  3cap_B  \n",
       "42                     12     301  3cap_B  \n",
       "43                     77  100201  3cap_B  \n",
       "44                     39   10102  3cap_B  \n",
       "45                     76  100120  3cap_B  \n",
       "...                   ...     ...     ...  \n",
       "746515                 58   20101  6c96_B  \n",
       "746516                 58   20101  6c96_B  \n",
       "746517                 40   10111  6c96_B  \n",
       "746518                 42   10201  6c96_B  \n",
       "746519                 58   20101  6c96_B  \n",
       "\n",
       "[132497 rows x 20 columns]"
      ]
     },
     "execution_count": 154,
     "metadata": {},
     "output_type": "execute_result"
    }
   ],
   "source": [
    "s4"
   ]
  },
  {
   "cell_type": "code",
   "execution_count": 91,
   "metadata": {},
   "outputs": [
    {
     "data": {
      "text/html": [
       "<div>\n",
       "<style scoped>\n",
       "    .dataframe tbody tr th:only-of-type {\n",
       "        vertical-align: middle;\n",
       "    }\n",
       "\n",
       "    .dataframe tbody tr th {\n",
       "        vertical-align: top;\n",
       "    }\n",
       "\n",
       "    .dataframe thead th {\n",
       "        text-align: right;\n",
       "    }\n",
       "</style>\n",
       "<table border=\"1\" class=\"dataframe\">\n",
       "  <thead>\n",
       "    <tr style=\"text-align: right;\">\n",
       "      <th></th>\n",
       "      <th>index</th>\n",
       "      <th>Protein</th>\n",
       "    </tr>\n",
       "  </thead>\n",
       "  <tbody>\n",
       "    <tr>\n",
       "      <td>527</td>\n",
       "      <td>2yn9</td>\n",
       "      <td>100</td>\n",
       "    </tr>\n",
       "    <tr>\n",
       "      <td>528</td>\n",
       "      <td>4fi3</td>\n",
       "      <td>100</td>\n",
       "    </tr>\n",
       "    <tr>\n",
       "      <td>529</td>\n",
       "      <td>5zmw</td>\n",
       "      <td>100</td>\n",
       "    </tr>\n",
       "    <tr>\n",
       "      <td>530</td>\n",
       "      <td>6roj</td>\n",
       "      <td>100</td>\n",
       "    </tr>\n",
       "    <tr>\n",
       "      <td>531</td>\n",
       "      <td>5i20</td>\n",
       "      <td>100</td>\n",
       "    </tr>\n",
       "  </tbody>\n",
       "</table>\n",
       "</div>"
      ],
      "text/plain": [
       "    index  Protein\n",
       "527  2yn9      100\n",
       "528  4fi3      100\n",
       "529  5zmw      100\n",
       "530  6roj      100\n",
       "531  5i20      100"
      ]
     },
     "execution_count": 91,
     "metadata": {},
     "output_type": "execute_result"
    }
   ],
   "source": [
    "interaction_count.query(\"Protein==100\")"
   ]
  },
  {
   "cell_type": "code",
   "execution_count": 92,
   "metadata": {},
   "outputs": [
    {
     "data": {
      "text/plain": [
       "<matplotlib.axes._subplots.AxesSubplot at 0x7f8e764eed68>"
      ]
     },
     "execution_count": 92,
     "metadata": {},
     "output_type": "execute_result"
    },
    {
     "data": {
      "image/png": "[encoded data removed]",
      "text/plain": [
       "<Figure size 720x444.96 with 1 Axes>"
      ]
     },
     "metadata": {},
     "output_type": "display_data"
    }
   ],
   "source": [
    "interaction_count.query(\"Protein < 30\")[\"Protein\"].hist(bins=30)"
   ]
  },
  {
   "cell_type": "code",
   "execution_count": 35,
   "metadata": {},
   "outputs": [
    {
     "data": {
      "text/plain": [
       "(60, 20)"
      ]
     },
     "execution_count": 35,
     "metadata": {},
     "output_type": "execute_result"
    }
   ],
   "source": [
    "selected.query(\"Protein=='3cap' and Chain1 == 'A' and Chain2 == 'A'\").shape"
   ]
  },
  {
   "cell_type": "code",
   "execution_count": 36,
   "metadata": {},
   "outputs": [
    {
     "data": {
      "text/plain": [
       "(66, 20)"
      ]
     },
     "execution_count": 36,
     "metadata": {},
     "output_type": "execute_result"
    }
   ],
   "source": [
    "selected.query(\"Protein=='3cap' and Chain1 == 'B' and Chain2 == 'B'\").shape"
   ]
  },
  {
   "cell_type": "code",
   "execution_count": 19,
   "metadata": {},
   "outputs": [
    {
     "data": {
      "text/html": [
       "<div>\n",
       "<style scoped>\n",
       "    .dataframe tbody tr th:only-of-type {\n",
       "        vertical-align: middle;\n",
       "    }\n",
       "\n",
       "    .dataframe tbody tr th {\n",
       "        vertical-align: top;\n",
       "    }\n",
       "\n",
       "    .dataframe thead th {\n",
       "        text-align: right;\n",
       "    }\n",
       "</style>\n",
       "<table border=\"1\" class=\"dataframe\">\n",
       "  <thead>\n",
       "    <tr style=\"text-align: right;\">\n",
       "      <th></th>\n",
       "      <th>Protein</th>\n",
       "      <th>level_1</th>\n",
       "      <th>Chain1</th>\n",
       "    </tr>\n",
       "  </thead>\n",
       "  <tbody>\n",
       "    <tr>\n",
       "      <td>0</td>\n",
       "      <td>1a91</td>\n",
       "      <td>0</td>\n",
       "      <td>A</td>\n",
       "    </tr>\n",
       "    <tr>\n",
       "      <td>1</td>\n",
       "      <td>1aig</td>\n",
       "      <td>0</td>\n",
       "      <td>M</td>\n",
       "    </tr>\n",
       "    <tr>\n",
       "      <td>2</td>\n",
       "      <td>1aij</td>\n",
       "      <td>0</td>\n",
       "      <td>L</td>\n",
       "    </tr>\n",
       "    <tr>\n",
       "      <td>4</td>\n",
       "      <td>1ap9</td>\n",
       "      <td>0</td>\n",
       "      <td>A</td>\n",
       "    </tr>\n",
       "    <tr>\n",
       "      <td>7</td>\n",
       "      <td>1ar1</td>\n",
       "      <td>0</td>\n",
       "      <td>A</td>\n",
       "    </tr>\n",
       "    <tr>\n",
       "      <td>...</td>\n",
       "      <td>...</td>\n",
       "      <td>...</td>\n",
       "      <td>...</td>\n",
       "    </tr>\n",
       "    <tr>\n",
       "      <td>6822</td>\n",
       "      <td>6yc2</td>\n",
       "      <td>0</td>\n",
       "      <td>A</td>\n",
       "    </tr>\n",
       "    <tr>\n",
       "      <td>6826</td>\n",
       "      <td>6yc3</td>\n",
       "      <td>0</td>\n",
       "      <td>C</td>\n",
       "    </tr>\n",
       "    <tr>\n",
       "      <td>6828</td>\n",
       "      <td>6yc4</td>\n",
       "      <td>0</td>\n",
       "      <td>D</td>\n",
       "    </tr>\n",
       "    <tr>\n",
       "      <td>6830</td>\n",
       "      <td>7prc</td>\n",
       "      <td>0</td>\n",
       "      <td>L</td>\n",
       "    </tr>\n",
       "    <tr>\n",
       "      <td>6831</td>\n",
       "      <td>test</td>\n",
       "      <td>0</td>\n",
       "      <td>N</td>\n",
       "    </tr>\n",
       "  </tbody>\n",
       "</table>\n",
       "<p>4081 rows × 3 columns</p>\n",
       "</div>"
      ],
      "text/plain": [
       "     Protein  level_1 Chain1\n",
       "0       1a91        0      A\n",
       "1       1aig        0      M\n",
       "2       1aij        0      L\n",
       "4       1ap9        0      A\n",
       "7       1ar1        0      A\n",
       "...      ...      ...    ...\n",
       "6822    6yc2        0      A\n",
       "6826    6yc3        0      C\n",
       "6828    6yc4        0      D\n",
       "6830    7prc        0      L\n",
       "6831    test        0      N\n",
       "\n",
       "[4081 rows x 3 columns]"
      ]
     },
     "execution_count": 19,
     "metadata": {},
     "output_type": "execute_result"
    }
   ],
   "source": [
    "selected_chain"
   ]
  },
  {
   "cell_type": "code",
   "execution_count": 68,
   "metadata": {},
   "outputs": [
    {
     "data": {
      "text/plain": [
       "(746520, 19)"
      ]
     },
     "execution_count": 68,
     "metadata": {},
     "output_type": "execute_result"
    }
   ],
   "source": [
    "data.shape"
   ]
  },
  {
   "cell_type": "code",
   "execution_count": 69,
   "metadata": {},
   "outputs": [
    {
     "data": {
      "text/plain": [
       "(600246, 19)"
      ]
     },
     "execution_count": 69,
     "metadata": {},
     "output_type": "execute_result"
    }
   ],
   "source": [
    "selected.shape"
   ]
  },
  {
   "cell_type": "code",
   "execution_count": 2,
   "metadata": {
    "collapsed": true
   },
   "outputs": [],
   "source": [
    "gamma = np.loadtxt(\"/Users/weilu/Research/server/jul_week1_2020/membrane_protein_structure_prediction/cluster20.dat\")"
   ]
  },
  {
   "cell_type": "code",
   "execution_count": null,
   "metadata": {
    "collapsed": true
   },
   "outputs": [],
   "source": []
  },
  {
   "cell_type": "code",
   "execution_count": 13,
   "metadata": {
    "collapsed": true
   },
   "outputs": [],
   "source": [
    "info = pd.read_csv(\"/Users/weilu/Research/database/gxxxg_index_dic_v5.csv\", index_col=0)\n",
    "interaction_index_dic = {}\n",
    "n = 20\n",
    "for i, line in info.iterrows():\n",
    "    # print(i, line[\"i\"])\n",
    "    interaction_index_dic[f\"{line['Direction']}_{line['i']}\"] = line[\"Group\"]"
   ]
  },
  {
   "cell_type": "code",
   "execution_count": 16,
   "metadata": {},
   "outputs": [
    {
     "data": {
      "text/html": [
       "<div>\n",
       "<style scoped>\n",
       "    .dataframe tbody tr th:only-of-type {\n",
       "        vertical-align: middle;\n",
       "    }\n",
       "\n",
       "    .dataframe tbody tr th {\n",
       "        vertical-align: top;\n",
       "    }\n",
       "\n",
       "    .dataframe thead th {\n",
       "        text-align: right;\n",
       "    }\n",
       "</style>\n",
       "<table border=\"1\" class=\"dataframe\">\n",
       "  <thead>\n",
       "    <tr style=\"text-align: right;\">\n",
       "      <th></th>\n",
       "      <th>index</th>\n",
       "      <th>i</th>\n",
       "      <th>res1</th>\n",
       "      <th>res2</th>\n",
       "      <th>order</th>\n",
       "      <th>Direction</th>\n",
       "      <th>Group</th>\n",
       "    </tr>\n",
       "  </thead>\n",
       "  <tbody>\n",
       "    <tr>\n",
       "      <td>0</td>\n",
       "      <td>7</td>\n",
       "      <td>0</td>\n",
       "      <td>ALA</td>\n",
       "      <td>ALA</td>\n",
       "      <td>4977.0</td>\n",
       "      <td>parallel</td>\n",
       "      <td>3</td>\n",
       "    </tr>\n",
       "    <tr>\n",
       "      <td>5</td>\n",
       "      <td>15</td>\n",
       "      <td>5</td>\n",
       "      <td>ALA</td>\n",
       "      <td>GLY</td>\n",
       "      <td>3880.0</td>\n",
       "      <td>parallel</td>\n",
       "      <td>3</td>\n",
       "    </tr>\n",
       "    <tr>\n",
       "      <td>100</td>\n",
       "      <td>11</td>\n",
       "      <td>100</td>\n",
       "      <td>GLY</td>\n",
       "      <td>ALA</td>\n",
       "      <td>4249.0</td>\n",
       "      <td>parallel</td>\n",
       "      <td>3</td>\n",
       "    </tr>\n",
       "    <tr>\n",
       "      <td>105</td>\n",
       "      <td>1</td>\n",
       "      <td>105</td>\n",
       "      <td>GLY</td>\n",
       "      <td>GLY</td>\n",
       "      <td>6447.0</td>\n",
       "      <td>parallel</td>\n",
       "      <td>3</td>\n",
       "    </tr>\n",
       "    <tr>\n",
       "      <td>540</td>\n",
       "      <td>23</td>\n",
       "      <td>140</td>\n",
       "      <td>ILE</td>\n",
       "      <td>ALA</td>\n",
       "      <td>5883.0</td>\n",
       "      <td>anti</td>\n",
       "      <td>3</td>\n",
       "    </tr>\n",
       "    <tr>\n",
       "      <td>590</td>\n",
       "      <td>47</td>\n",
       "      <td>190</td>\n",
       "      <td>LEU</td>\n",
       "      <td>MET</td>\n",
       "      <td>3904.0</td>\n",
       "      <td>anti</td>\n",
       "      <td>3</td>\n",
       "    </tr>\n",
       "    <tr>\n",
       "      <td>599</td>\n",
       "      <td>65</td>\n",
       "      <td>199</td>\n",
       "      <td>LEU</td>\n",
       "      <td>TYR</td>\n",
       "      <td>2999.0</td>\n",
       "      <td>anti</td>\n",
       "      <td>3</td>\n",
       "    </tr>\n",
       "    <tr>\n",
       "      <td>609</td>\n",
       "      <td>51</td>\n",
       "      <td>209</td>\n",
       "      <td>MET</td>\n",
       "      <td>LEU</td>\n",
       "      <td>3680.0</td>\n",
       "      <td>anti</td>\n",
       "      <td>3</td>\n",
       "    </tr>\n",
       "  </tbody>\n",
       "</table>\n",
       "</div>"
      ],
      "text/plain": [
       "     index    i res1 res2   order Direction  Group\n",
       "0        7    0  ALA  ALA  4977.0  parallel      3\n",
       "5       15    5  ALA  GLY  3880.0  parallel      3\n",
       "100     11  100  GLY  ALA  4249.0  parallel      3\n",
       "105      1  105  GLY  GLY  6447.0  parallel      3\n",
       "540     23  140  ILE  ALA  5883.0      anti      3\n",
       "590     47  190  LEU  MET  3904.0      anti      3\n",
       "599     65  199  LEU  TYR  2999.0      anti      3\n",
       "609     51  209  MET  LEU  3680.0      anti      3"
      ]
     },
     "execution_count": 16,
     "metadata": {},
     "output_type": "execute_result"
    }
   ],
   "source": [
    "info.query(\"Group == 3\")"
   ]
  },
  {
   "cell_type": "code",
   "execution_count": 4,
   "metadata": {
    "collapsed": true
   },
   "outputs": [],
   "source": [
    "from Bio.PDB.Polypeptide import one_to_index\n",
    "from Bio.PDB.Polypeptide import three_to_index\n",
    "\n",
    "def get_400_based_index(res1_1, res1_2):\n",
    "    index = three_to_index(res1_1)*20 + three_to_index(res1_2)\n",
    "    return index\n",
    "def get_overall_index_v5(index1, index2, direction, interaction_index_dic):\n",
    "    n = 20\n",
    "    # plus 1, total parameters. 21*20/2 = 210\n",
    "    n_shift = 210\n",
    "    new_index1 = interaction_index_dic[f\"{direction}_{index1}\"]\n",
    "    new_index2 = interaction_index_dic[f\"{direction}_{index2}\"]\n",
    "    if new_index1 > new_index2:\n",
    "        new_index1, new_index2 = new_index2, new_index1\n",
    "    overall_index = ((2*n-(new_index1-1))*(new_index1)/2 + new_index2 - new_index1)\n",
    "    if direction == \"anti\":\n",
    "        overall_index += n_shift\n",
    "    return int(overall_index)\n",
    "\n",
    "def get_interaction_index_from_four_residues_v5(res1_1, res1_2, res2_1, res2_2, direction, interaction_index_dic=interaction_index_dic):\n",
    "\n",
    "    index1 = get_400_based_index(res1_1, res1_2)\n",
    "    if direction == \"parallel\":\n",
    "        index2 = get_400_based_index(res2_1, res2_2)\n",
    "    elif direction == \"anti\":\n",
    "        index2 = get_400_based_index(res2_2, res2_1)\n",
    "    else:\n",
    "        print(\"unknown direction\")\n",
    "        raise\n",
    "    index = get_overall_index_v5(index1, index2, direction, interaction_index_dic)\n",
    "\n",
    "    return index"
   ]
  },
  {
   "cell_type": "code",
   "execution_count": 10,
   "metadata": {
    "collapsed": true
   },
   "outputs": [],
   "source": [
    "info_ = []\n",
    "for i in range(20):\n",
    "    for j in range(20):\n",
    "        for i2 in range(20):\n",
    "            for j2 in range(20):\n",
    "                res1_1 = index_to_three(i)\n",
    "                res1_2 = index_to_three(j)\n",
    "                res2_1 = index_to_three(i2)\n",
    "                res2_2 = index_to_three(j2)\n",
    "                for direction in [\"parallel\", \"anti\"]:\n",
    "                    index = get_interaction_index_from_four_residues_v5(res1_1, res1_2, res2_1, res2_2, direction)\n",
    "                    info_.append([res1_1, res1_2, res2_1, res2_2, direction, index, gamma[index]])"
   ]
  },
  {
   "cell_type": "code",
   "execution_count": 12,
   "metadata": {},
   "outputs": [],
   "source": [
    "data = pd.DataFrame(info_, columns=[\"Res1_1\", \"Res1_2\", \"Res2_1\", \"Res2_2\", \"Direction\", \"index\", \"Gamma\"])"
   ]
  },
  {
   "cell_type": "code",
   "execution_count": 15,
   "metadata": {},
   "outputs": [
    {
     "data": {
      "text/html": [
       "<div>\n",
       "<style scoped>\n",
       "    .dataframe tbody tr th:only-of-type {\n",
       "        vertical-align: middle;\n",
       "    }\n",
       "\n",
       "    .dataframe tbody tr th {\n",
       "        vertical-align: top;\n",
       "    }\n",
       "\n",
       "    .dataframe thead th {\n",
       "        text-align: right;\n",
       "    }\n",
       "</style>\n",
       "<table border=\"1\" class=\"dataframe\">\n",
       "  <thead>\n",
       "    <tr style=\"text-align: right;\">\n",
       "      <th></th>\n",
       "      <th>Res1_1</th>\n",
       "      <th>Res1_2</th>\n",
       "      <th>Res2_1</th>\n",
       "      <th>Res2_2</th>\n",
       "      <th>Direction</th>\n",
       "      <th>index</th>\n",
       "      <th>Gamma</th>\n",
       "    </tr>\n",
       "  </thead>\n",
       "  <tbody>\n",
       "    <tr>\n",
       "      <td>0</td>\n",
       "      <td>ALA</td>\n",
       "      <td>ALA</td>\n",
       "      <td>ALA</td>\n",
       "      <td>ALA</td>\n",
       "      <td>parallel</td>\n",
       "      <td>57</td>\n",
       "      <td>8.779705</td>\n",
       "    </tr>\n",
       "    <tr>\n",
       "      <td>1</td>\n",
       "      <td>ALA</td>\n",
       "      <td>ALA</td>\n",
       "      <td>ALA</td>\n",
       "      <td>ALA</td>\n",
       "      <td>anti</td>\n",
       "      <td>417</td>\n",
       "      <td>1.934393</td>\n",
       "    </tr>\n",
       "    <tr>\n",
       "      <td>2</td>\n",
       "      <td>ALA</td>\n",
       "      <td>ALA</td>\n",
       "      <td>ALA</td>\n",
       "      <td>CYS</td>\n",
       "      <td>parallel</td>\n",
       "      <td>40</td>\n",
       "      <td>1.030494</td>\n",
       "    </tr>\n",
       "    <tr>\n",
       "      <td>3</td>\n",
       "      <td>ALA</td>\n",
       "      <td>ALA</td>\n",
       "      <td>ALA</td>\n",
       "      <td>CYS</td>\n",
       "      <td>anti</td>\n",
       "      <td>352</td>\n",
       "      <td>1.961727</td>\n",
       "    </tr>\n",
       "    <tr>\n",
       "      <td>4</td>\n",
       "      <td>ALA</td>\n",
       "      <td>ALA</td>\n",
       "      <td>ALA</td>\n",
       "      <td>ASP</td>\n",
       "      <td>parallel</td>\n",
       "      <td>64</td>\n",
       "      <td>0.480636</td>\n",
       "    </tr>\n",
       "    <tr>\n",
       "      <td>...</td>\n",
       "      <td>...</td>\n",
       "      <td>...</td>\n",
       "      <td>...</td>\n",
       "      <td>...</td>\n",
       "      <td>...</td>\n",
       "      <td>...</td>\n",
       "      <td>...</td>\n",
       "    </tr>\n",
       "    <tr>\n",
       "      <td>319995</td>\n",
       "      <td>TYR</td>\n",
       "      <td>TYR</td>\n",
       "      <td>TYR</td>\n",
       "      <td>VAL</td>\n",
       "      <td>anti</td>\n",
       "      <td>348</td>\n",
       "      <td>1.796842</td>\n",
       "    </tr>\n",
       "    <tr>\n",
       "      <td>319996</td>\n",
       "      <td>TYR</td>\n",
       "      <td>TYR</td>\n",
       "      <td>TYR</td>\n",
       "      <td>TRP</td>\n",
       "      <td>parallel</td>\n",
       "      <td>50</td>\n",
       "      <td>0.678103</td>\n",
       "    </tr>\n",
       "    <tr>\n",
       "      <td>319997</td>\n",
       "      <td>TYR</td>\n",
       "      <td>TYR</td>\n",
       "      <td>TYR</td>\n",
       "      <td>TRP</td>\n",
       "      <td>anti</td>\n",
       "      <td>243</td>\n",
       "      <td>1.806623</td>\n",
       "    </tr>\n",
       "    <tr>\n",
       "      <td>319998</td>\n",
       "      <td>TYR</td>\n",
       "      <td>TYR</td>\n",
       "      <td>TYR</td>\n",
       "      <td>TYR</td>\n",
       "      <td>parallel</td>\n",
       "      <td>39</td>\n",
       "      <td>0.907575</td>\n",
       "    </tr>\n",
       "    <tr>\n",
       "      <td>319999</td>\n",
       "      <td>TYR</td>\n",
       "      <td>TYR</td>\n",
       "      <td>TYR</td>\n",
       "      <td>TYR</td>\n",
       "      <td>anti</td>\n",
       "      <td>399</td>\n",
       "      <td>1.790530</td>\n",
       "    </tr>\n",
       "  </tbody>\n",
       "</table>\n",
       "<p>320000 rows × 7 columns</p>\n",
       "</div>"
      ],
      "text/plain": [
       "       Res1_1 Res1_2 Res2_1 Res2_2 Direction  index     Gamma\n",
       "0         ALA    ALA    ALA    ALA  parallel     57  8.779705\n",
       "1         ALA    ALA    ALA    ALA      anti    417  1.934393\n",
       "2         ALA    ALA    ALA    CYS  parallel     40  1.030494\n",
       "3         ALA    ALA    ALA    CYS      anti    352  1.961727\n",
       "4         ALA    ALA    ALA    ASP  parallel     64  0.480636\n",
       "...       ...    ...    ...    ...       ...    ...       ...\n",
       "319995    TYR    TYR    TYR    VAL      anti    348  1.796842\n",
       "319996    TYR    TYR    TYR    TRP  parallel     50  0.678103\n",
       "319997    TYR    TYR    TYR    TRP      anti    243  1.806623\n",
       "319998    TYR    TYR    TYR    TYR  parallel     39  0.907575\n",
       "319999    TYR    TYR    TYR    TYR      anti    399  1.790530\n",
       "\n",
       "[320000 rows x 7 columns]"
      ]
     },
     "execution_count": 15,
     "metadata": {},
     "output_type": "execute_result"
    }
   ],
   "source": [
    "data"
   ]
  },
  {
   "cell_type": "code",
   "execution_count": 5,
   "metadata": {},
   "outputs": [
    {
     "data": {
      "text/plain": [
       "57"
      ]
     },
     "execution_count": 5,
     "metadata": {},
     "output_type": "execute_result"
    }
   ],
   "source": [
    "res1_1 = \"GLY\"\n",
    "res1_2 = \"GLY\"\n",
    "res2_1 = \"GLY\"\n",
    "res2_2 = \"GLY\"\n",
    "direction = \"parallel\"\n",
    "get_interaction_index_from_four_residues_v5(res1_1, res1_2, res2_1, res2_2, direction)"
   ]
  },
  {
   "cell_type": "code",
   "execution_count": 6,
   "metadata": {},
   "outputs": [
    {
     "data": {
      "text/plain": [
       "8.779705104234676"
      ]
     },
     "execution_count": 6,
     "metadata": {},
     "output_type": "execute_result"
    }
   ],
   "source": [
    "gamma[57]"
   ]
  },
  {
   "cell_type": "code",
   "execution_count": 8,
   "metadata": {},
   "outputs": [
    {
     "data": {
      "text/plain": [
       "[<matplotlib.lines.Line2D at 0x7f96ee5f1cc0>]"
      ]
     },
     "execution_count": 8,
     "metadata": {},
     "output_type": "execute_result"
    },
    {
     "data": {
      "image/png": "[encoded data removed]",
      "text/plain": [
       "<Figure size 720x444.96 with 1 Axes>"
      ]
     },
     "metadata": {},
     "output_type": "display_data"
    }
   ],
   "source": [
    "plt.plot(gamma)"
   ]
  },
  {
   "cell_type": "code",
   "execution_count": 34,
   "metadata": {
    "collapsed": true
   },
   "outputs": [],
   "source": [
    "def compute_gxxxg_energy(structure, gamma, n_parameters, detailedOutput=False, sequence=None, get_interaction_index=get_interaction_index_from_four_residues_v5):\n",
    "    res_list = get_res_list(structure)\n",
    "    neighbor_list = get_neighbor_list(structure)\n",
    "    if sequence is None:\n",
    "        sequence = get_sequence_from_structure(structure)\n",
    "\n",
    "    min_seq_sep = 10\n",
    "    r_min = 2.0\n",
    "    r_max = 6.5\n",
    "    kappa = 5\n",
    "    info_list = []\n",
    "    get_distance_between_two_residues = get_interaction_distance_com\n",
    "    phi_gxxxg_well = np.zeros(n_parameters)\n",
    "\n",
    "    e_gxxxg = 0.0\n",
    "    e_gxxxg_parallel = 0.0\n",
    "    e_gxxxg_anti_parallel = 0.0\n",
    "    data_info = []\n",
    "    for res1globalindex, res1 in enumerate(res_list):\n",
    "        res1index = get_local_index(res1)\n",
    "        res1chain = get_chain(res1)\n",
    "        for res2 in get_neighbors_within_radius(neighbor_list, res1, r_max+2.0):\n",
    "            res2index = get_local_index(res2)\n",
    "            res2chain = get_chain(res2)\n",
    "            res2globalindex = get_global_index(res_list, res2)\n",
    "\n",
    "            for shift_to_res2_2, direction in zip([-4, 4], [\"anti\", \"parallel\"]):\n",
    "                res1_2_globalindex = res1globalindex + 4\n",
    "                res1_2 = get_res_by_globalindex(res_list, res1_2_globalindex, res1chain)\n",
    "                # for shift_to_res2_2 in [-4, 4]:\n",
    "\n",
    "                # consider parallel, and anti-parallel.\n",
    "                res2_2_globalindex = res2globalindex + shift_to_res2_2\n",
    "                res2_2 = get_res_by_globalindex(res_list, res2_2_globalindex, res2chain)\n",
    "                if res1_2 == -1 or res2_2 == -1:\n",
    "                    continue\n",
    "                if direction == \"parallel\":\n",
    "                    sep = res2globalindex - res1globalindex\n",
    "                elif direction == \"anti\":\n",
    "                    sep = res2_2_globalindex - res1globalindex\n",
    "                if sep >= min_seq_sep or (res1chain != res2chain and res2globalindex > res1globalindex):\n",
    "                    rij = get_distance_between_two_residues(res1, res2)\n",
    "\n",
    "                    rij_2 = get_distance_between_two_residues(res1_2, res2_2)\n",
    "    #                 if rij_2 > (r_max+2):\n",
    "    #                     continue\n",
    "                    resName_1_1 = one_to_three(sequence[res1globalindex])\n",
    "                    resName_1_2 = one_to_three(sequence[res1_2_globalindex])\n",
    "                    resName_2_1 = one_to_three(sequence[res2globalindex])\n",
    "                    resName_2_2 = one_to_three(sequence[res2_2_globalindex])\n",
    "                    # interaction_index = get_interaction_index_from_four_residues(res1.resname, res1_2.resname, res2.resname, res2_2.resname)\n",
    "                    # interaction_index = get_interaction_index_from_four_residues_v2(resName_1_1, resName_1_2, resName_2_1, resName_2_2)\n",
    "                    interaction_index = get_interaction_index(resName_1_1, resName_1_2, resName_2_1, resName_2_2, direction)\n",
    "                    phi_ = interaction_well(rij, r_min, r_max, kappa) * interaction_well(rij_2, r_min, r_max, kappa)\n",
    "                    # phi_gxxxg_well[interaction_index] += phi_\n",
    "                    if shift_to_res2_2 == -4:\n",
    "                        e_gxxxg_anti_parallel += gamma[interaction_index] * phi_\n",
    "                    else:\n",
    "                        e_gxxxg_parallel += gamma[interaction_index] * phi_\n",
    "                    if abs(phi_) > 0.1:\n",
    "                        data_info.append([res1globalindex, res2globalindex, res1index, res2index, resName_1_1, resName_1_2, resName_2_1, resName_2_2, direction, gamma[interaction_index], interaction_index, phi_])\n",
    "                    # print(res1globalindex, res2globalindex, resName_1_1, resName_2_1, gamma[interaction_index], phi_)\n",
    "    e_gxxxg = e_gxxxg_parallel + e_gxxxg_anti_parallel\n",
    "    # print(e_gxxxg)\n",
    "    if detailedOutput:\n",
    "        return pd.DataFrame(data_info, columns=[\"g_index_1\", \"g_index_2\", \"res1_index\", \"res2_index\", \"resName_1_1\", \"resName_1_2\", \"resName_2_1\", \"resName_2_2\", \"direction\", \"gamma\", \"interaction_index\", \"phi\"])\n",
    "    else:\n",
    "        return e_gxxxg"
   ]
  },
  {
   "cell_type": "code",
   "execution_count": 35,
   "metadata": {
    "collapsed": true
   },
   "outputs": [],
   "source": [
    "# fileLocation = \"/Users/weilu/Research/server/jul_week1_2020/decoyN2000_gxxxg_shuffle_optimization/optimization_decoyN2000/gammas/filtered_protein_list_phi_gxxxg_v2_well126_gamma\"\n",
    "# gamma = np.loadtxt(fileLocation)\n",
    "# fileLocation = \"/Users/weilu/Research/server/jul_week1_2020/membrane_protein_structure_prediction/gxxxg_701.dat\"\n",
    "# gamma = np.loadtxt(fileLocation)\n",
    "pre = \"/Users/weilu/Research/server/jul_week1_2020/membrane_protein_structure_prediction/run3_cluster20_sideMem/1iwg/0/\"\n",
    "sequence = read_fasta(f\"{pre}/crystal_structure.fasta\")\n",
    "\n",
    "pdb = \"/Users/weilu/Research/server/jul_week1_2020/membrane_protein_structure_prediction/run3_cluster20_sideMem/1iwg/0/lastFrame\"\n",
    "structure = parse_pdb(pdb)\n",
    "# compute_gxxxg_energy(structure[0], -gamma, sequence=sequence)\n",
    "data_info = compute_gxxxg_energy(structure[0], -gamma, n_parameters=420, detailedOutput=True, sequence=sequence)\n",
    "\n",
    "pdb = \"/Users/weilu/Research/server/jul_week1_2020/membrane_protein_structure_prediction/run3_cluster20_sideMem/1iwg/0/crystal_structure\"\n",
    "structure = parse_pdb(pdb)\n",
    "# compute_gxxxg_energy(structure[0], -gamma, sequence=sequence)\n",
    "data_info_native = compute_gxxxg_energy(structure[0], -gamma, n_parameters=420, detailedOutput=True, sequence=sequence)\n",
    "\n",
    "\n",
    "\n"
   ]
  },
  {
   "cell_type": "code",
   "execution_count": 47,
   "metadata": {
    "collapsed": true
   },
   "outputs": [],
   "source": [
    "gamma_e100 = np.loadtxt(\"/Users/weilu/Research/server/jul_week1_2020/membrane_protein_structure_prediction/cluster20_e100.dat\")"
   ]
  },
  {
   "cell_type": "code",
   "execution_count": 48,
   "metadata": {
    "collapsed": true
   },
   "outputs": [],
   "source": [
    "# fileLocation = \"/Users/weilu/Research/server/jul_week1_2020/decoyN2000_gxxxg_shuffle_optimization/optimization_decoyN2000/gammas/filtered_protein_list_phi_gxxxg_v2_well126_gamma\"\n",
    "# gamma = np.loadtxt(fileLocation)\n",
    "# fileLocation = \"/Users/weilu/Research/server/jul_week1_2020/membrane_protein_structure_prediction/gxxxg_701.dat\"\n",
    "# gamma = np.loadtxt(fileLocation)\n",
    "pre = \"/Users/weilu/Research/server/jul_week1_2020/membrane_protein_structure_prediction/run3_cluster20_sideMem/1iwg/0/\"\n",
    "sequence = read_fasta(f\"{pre}/crystal_structure.fasta\")\n",
    "\n",
    "pdb = \"/Users/weilu/Research/server/jul_week1_2020/membrane_protein_structure_prediction/run3_cluster20_sideMem/1iwg/0/lastFrame\"\n",
    "structure = parse_pdb(pdb)\n",
    "# compute_gxxxg_energy(structure[0], -gamma, sequence=sequence)\n",
    "data_info = compute_gxxxg_energy(structure[0], -gamma_e100, n_parameters=420, detailedOutput=True, sequence=sequence)\n",
    "\n",
    "pdb = \"/Users/weilu/Research/server/jul_week1_2020/membrane_protein_structure_prediction/run3_cluster20_sideMem/1iwg/0/crystal_structure\"\n",
    "structure = parse_pdb(pdb)\n",
    "# compute_gxxxg_energy(structure[0], -gamma, sequence=sequence)\n",
    "data_info_native = compute_gxxxg_energy(structure[0], -gamma_e100, n_parameters=420, detailedOutput=True, sequence=sequence)\n",
    "\n",
    "\n",
    "\n",
    "\n"
   ]
  },
  {
   "cell_type": "code",
   "execution_count": 52,
   "metadata": {
    "collapsed": true
   },
   "outputs": [],
   "source": [
    "# fileLocation = \"/Users/weilu/Research/server/jul_week1_2020/decoyN2000_gxxxg_shuffle_optimization/optimization_decoyN2000/gammas/filtered_protein_list_phi_gxxxg_v2_well126_gamma\"\n",
    "# gamma = np.loadtxt(fileLocation)\n",
    "# fileLocation = \"/Users/weilu/Research/server/jul_week1_2020/membrane_protein_structure_prediction/gxxxg_701.dat\"\n",
    "# gamma = np.loadtxt(fileLocation)\n",
    "\n",
    "pre = \"/Users/weilu/Research/server/jul_week1_2020/membrane_protein_structure_prediction/run3_cluster20_sideMem/1j4n/0/\"\n",
    "sequence = read_fasta(f\"{pre}/crystal_structure.fasta\")\n",
    "\n",
    "pdb = \"/Users/weilu/Research/server/jul_week1_2020/membrane_protein_structure_prediction/run3_cluster20_sideMem/1j4n/0/lastFrame\"\n",
    "structure = parse_pdb(pdb)\n",
    "# compute_gxxxg_energy(structure[0], -gamma, sequence=sequence)\n",
    "data_info = compute_gxxxg_energy(structure[0], -gamma_e100, n_parameters=420, detailedOutput=True, sequence=sequence)\n",
    "\n",
    "pdb = \"/Users/weilu/Research/server/jul_week1_2020/membrane_protein_structure_prediction/run3_cluster20_sideMem/1j4n/0/crystal_structure\"\n",
    "structure = parse_pdb(pdb)\n",
    "# compute_gxxxg_energy(structure[0], -gamma, sequence=sequence)\n",
    "data_info_native = compute_gxxxg_energy(structure[0], -gamma_e100, n_parameters=420, detailedOutput=True, sequence=sequence)\n",
    "\n",
    "\n",
    "\n",
    "\n",
    "\n"
   ]
  },
  {
   "cell_type": "code",
   "execution_count": 53,
   "metadata": {},
   "outputs": [
    {
     "data": {
      "text/plain": [
       "-85.36374508950735"
      ]
     },
     "execution_count": 53,
     "metadata": {},
     "output_type": "execute_result"
    }
   ],
   "source": [
    "(data_info[\"gamma\"] * data_info[\"phi\"]).sum()"
   ]
  },
  {
   "cell_type": "code",
   "execution_count": 54,
   "metadata": {},
   "outputs": [
    {
     "data": {
      "text/plain": [
       "-24.82048004442975"
      ]
     },
     "execution_count": 54,
     "metadata": {},
     "output_type": "execute_result"
    }
   ],
   "source": [
    "(data_info_native[\"gamma\"] * data_info_native[\"phi\"]).sum()"
   ]
  },
  {
   "cell_type": "code",
   "execution_count": 59,
   "metadata": {},
   "outputs": [
    {
     "data": {
      "text/plain": [
       "(44, 12)"
      ]
     },
     "execution_count": 59,
     "metadata": {},
     "output_type": "execute_result"
    }
   ],
   "source": [
    "data_info_native.sort_values(\"gamma\").shape"
   ]
  },
  {
   "cell_type": "code",
   "execution_count": 60,
   "metadata": {},
   "outputs": [
    {
     "data": {
      "text/plain": [
       "(76, 12)"
      ]
     },
     "execution_count": 60,
     "metadata": {},
     "output_type": "execute_result"
    }
   ],
   "source": [
    "data_info.sort_values(\"gamma\").shape"
   ]
  },
  {
   "cell_type": "code",
   "execution_count": 61,
   "metadata": {},
   "outputs": [
    {
     "data": {
      "text/html": [
       "<div>\n",
       "<style scoped>\n",
       "    .dataframe tbody tr th:only-of-type {\n",
       "        vertical-align: middle;\n",
       "    }\n",
       "\n",
       "    .dataframe tbody tr th {\n",
       "        vertical-align: top;\n",
       "    }\n",
       "\n",
       "    .dataframe thead th {\n",
       "        text-align: right;\n",
       "    }\n",
       "</style>\n",
       "<table border=\"1\" class=\"dataframe\">\n",
       "  <thead>\n",
       "    <tr style=\"text-align: right;\">\n",
       "      <th></th>\n",
       "      <th>g_index_1</th>\n",
       "      <th>g_index_2</th>\n",
       "      <th>res1_index</th>\n",
       "      <th>res2_index</th>\n",
       "      <th>resName_1_1</th>\n",
       "      <th>resName_1_2</th>\n",
       "      <th>resName_2_1</th>\n",
       "      <th>resName_2_2</th>\n",
       "      <th>direction</th>\n",
       "      <th>gamma</th>\n",
       "      <th>interaction_index</th>\n",
       "      <th>phi</th>\n",
       "    </tr>\n",
       "  </thead>\n",
       "  <tbody>\n",
       "    <tr>\n",
       "      <td>59</td>\n",
       "      <td>66</td>\n",
       "      <td>98</td>\n",
       "      <td>67</td>\n",
       "      <td>99</td>\n",
       "      <td>GLY</td>\n",
       "      <td>GLY</td>\n",
       "      <td>ALA</td>\n",
       "      <td>GLY</td>\n",
       "      <td>parallel</td>\n",
       "      <td>-8.389636</td>\n",
       "      <td>57</td>\n",
       "      <td>0.852191</td>\n",
       "    </tr>\n",
       "    <tr>\n",
       "      <td>55</td>\n",
       "      <td>62</td>\n",
       "      <td>98</td>\n",
       "      <td>63</td>\n",
       "      <td>99</td>\n",
       "      <td>ALA</td>\n",
       "      <td>GLY</td>\n",
       "      <td>ALA</td>\n",
       "      <td>GLY</td>\n",
       "      <td>parallel</td>\n",
       "      <td>-8.389636</td>\n",
       "      <td>57</td>\n",
       "      <td>0.996956</td>\n",
       "    </tr>\n",
       "    <tr>\n",
       "      <td>35</td>\n",
       "      <td>30</td>\n",
       "      <td>111</td>\n",
       "      <td>31</td>\n",
       "      <td>112</td>\n",
       "      <td>GLY</td>\n",
       "      <td>PRO</td>\n",
       "      <td>SER</td>\n",
       "      <td>SER</td>\n",
       "      <td>parallel</td>\n",
       "      <td>-3.383749</td>\n",
       "      <td>0</td>\n",
       "      <td>0.884399</td>\n",
       "    </tr>\n",
       "    <tr>\n",
       "      <td>33</td>\n",
       "      <td>24</td>\n",
       "      <td>103</td>\n",
       "      <td>25</td>\n",
       "      <td>104</td>\n",
       "      <td>SER</td>\n",
       "      <td>ALA</td>\n",
       "      <td>ALA</td>\n",
       "      <td>THR</td>\n",
       "      <td>parallel</td>\n",
       "      <td>-3.099911</td>\n",
       "      <td>209</td>\n",
       "      <td>0.998538</td>\n",
       "    </tr>\n",
       "    <tr>\n",
       "      <td>75</td>\n",
       "      <td>80</td>\n",
       "      <td>96</td>\n",
       "      <td>81</td>\n",
       "      <td>97</td>\n",
       "      <td>GLY</td>\n",
       "      <td>SER</td>\n",
       "      <td>ILE</td>\n",
       "      <td>ALA</td>\n",
       "      <td>anti</td>\n",
       "      <td>-1.762111</td>\n",
       "      <td>387</td>\n",
       "      <td>0.996650</td>\n",
       "    </tr>\n",
       "    <tr>\n",
       "      <td>...</td>\n",
       "      <td>...</td>\n",
       "      <td>...</td>\n",
       "      <td>...</td>\n",
       "      <td>...</td>\n",
       "      <td>...</td>\n",
       "      <td>...</td>\n",
       "      <td>...</td>\n",
       "      <td>...</td>\n",
       "      <td>...</td>\n",
       "      <td>...</td>\n",
       "      <td>...</td>\n",
       "      <td>...</td>\n",
       "    </tr>\n",
       "    <tr>\n",
       "      <td>20</td>\n",
       "      <td>19</td>\n",
       "      <td>96</td>\n",
       "      <td>20</td>\n",
       "      <td>97</td>\n",
       "      <td>LEU</td>\n",
       "      <td>ILE</td>\n",
       "      <td>ILE</td>\n",
       "      <td>CYS</td>\n",
       "      <td>parallel</td>\n",
       "      <td>0.001655</td>\n",
       "      <td>55</td>\n",
       "      <td>0.938510</td>\n",
       "    </tr>\n",
       "    <tr>\n",
       "      <td>8</td>\n",
       "      <td>15</td>\n",
       "      <td>96</td>\n",
       "      <td>16</td>\n",
       "      <td>97</td>\n",
       "      <td>LEU</td>\n",
       "      <td>LEU</td>\n",
       "      <td>ILE</td>\n",
       "      <td>CYS</td>\n",
       "      <td>parallel</td>\n",
       "      <td>0.001655</td>\n",
       "      <td>55</td>\n",
       "      <td>0.999850</td>\n",
       "    </tr>\n",
       "    <tr>\n",
       "      <td>4</td>\n",
       "      <td>12</td>\n",
       "      <td>95</td>\n",
       "      <td>13</td>\n",
       "      <td>96</td>\n",
       "      <td>ALA</td>\n",
       "      <td>ALA</td>\n",
       "      <td>TYR</td>\n",
       "      <td>GLN</td>\n",
       "      <td>parallel</td>\n",
       "      <td>0.011323</td>\n",
       "      <td>64</td>\n",
       "      <td>0.990385</td>\n",
       "    </tr>\n",
       "    <tr>\n",
       "      <td>14</td>\n",
       "      <td>16</td>\n",
       "      <td>96</td>\n",
       "      <td>17</td>\n",
       "      <td>97</td>\n",
       "      <td>ALA</td>\n",
       "      <td>PHE</td>\n",
       "      <td>ILE</td>\n",
       "      <td>CYS</td>\n",
       "      <td>parallel</td>\n",
       "      <td>0.071113</td>\n",
       "      <td>56</td>\n",
       "      <td>0.999997</td>\n",
       "    </tr>\n",
       "    <tr>\n",
       "      <td>31</td>\n",
       "      <td>24</td>\n",
       "      <td>107</td>\n",
       "      <td>25</td>\n",
       "      <td>108</td>\n",
       "      <td>SER</td>\n",
       "      <td>ALA</td>\n",
       "      <td>THR</td>\n",
       "      <td>SER</td>\n",
       "      <td>parallel</td>\n",
       "      <td>0.074082</td>\n",
       "      <td>19</td>\n",
       "      <td>0.999996</td>\n",
       "    </tr>\n",
       "  </tbody>\n",
       "</table>\n",
       "<p>76 rows × 12 columns</p>\n",
       "</div>"
      ],
      "text/plain": [
       "    g_index_1  g_index_2  res1_index  res2_index resName_1_1 resName_1_2  \\\n",
       "59         66         98          67          99         GLY         GLY   \n",
       "55         62         98          63          99         ALA         GLY   \n",
       "35         30        111          31         112         GLY         PRO   \n",
       "33         24        103          25         104         SER         ALA   \n",
       "75         80         96          81          97         GLY         SER   \n",
       "..        ...        ...         ...         ...         ...         ...   \n",
       "20         19         96          20          97         LEU         ILE   \n",
       "8          15         96          16          97         LEU         LEU   \n",
       "4          12         95          13          96         ALA         ALA   \n",
       "14         16         96          17          97         ALA         PHE   \n",
       "31         24        107          25         108         SER         ALA   \n",
       "\n",
       "   resName_2_1 resName_2_2 direction     gamma  interaction_index       phi  \n",
       "59         ALA         GLY  parallel -8.389636                 57  0.852191  \n",
       "55         ALA         GLY  parallel -8.389636                 57  0.996956  \n",
       "35         SER         SER  parallel -3.383749                  0  0.884399  \n",
       "33         ALA         THR  parallel -3.099911                209  0.998538  \n",
       "75         ILE         ALA      anti -1.762111                387  0.996650  \n",
       "..         ...         ...       ...       ...                ...       ...  \n",
       "20         ILE         CYS  parallel  0.001655                 55  0.938510  \n",
       "8          ILE         CYS  parallel  0.001655                 55  0.999850  \n",
       "4          TYR         GLN  parallel  0.011323                 64  0.990385  \n",
       "14         ILE         CYS  parallel  0.071113                 56  0.999997  \n",
       "31         THR         SER  parallel  0.074082                 19  0.999996  \n",
       "\n",
       "[76 rows x 12 columns]"
      ]
     },
     "execution_count": 61,
     "metadata": {},
     "output_type": "execute_result"
    }
   ],
   "source": [
    "data_info.sort_values(\"gamma\")"
   ]
  },
  {
   "cell_type": "code",
   "execution_count": 45,
   "metadata": {},
   "outputs": [
    {
     "data": {
      "text/plain": [
       "<matplotlib.axes._subplots.AxesSubplot at 0x7f96f2e37e10>"
      ]
     },
     "execution_count": 45,
     "metadata": {},
     "output_type": "execute_result"
    },
    {
     "data": {
      "image/png": "[encoded data removed]",
      "text/plain": [
       "<Figure size 720x444.96 with 1 Axes>"
      ]
     },
     "metadata": {},
     "output_type": "display_data"
    }
   ],
   "source": [
    "data_info_native.sort_values(\"gamma\")[\"gamma\"].reset_index(drop=True).plot()\n",
    "\n"
   ]
  },
  {
   "cell_type": "code",
   "execution_count": 46,
   "metadata": {},
   "outputs": [
    {
     "data": {
      "text/plain": [
       "<matplotlib.axes._subplots.AxesSubplot at 0x7f96f2e370b8>"
      ]
     },
     "execution_count": 46,
     "metadata": {},
     "output_type": "execute_result"
    },
    {
     "data": {
      "image/png": "[encoded data removed]",
      "text/plain": [
       "<Figure size 720x444.96 with 1 Axes>"
      ]
     },
     "metadata": {},
     "output_type": "display_data"
    }
   ],
   "source": [
    "data_info.sort_values(\"gamma\")[\"gamma\"].reset_index(drop=True).plot()\n",
    "\n",
    "\n"
   ]
  },
  {
   "cell_type": "code",
   "execution_count": 55,
   "metadata": {},
   "outputs": [
    {
     "data": {
      "text/plain": [
       "<matplotlib.axes._subplots.AxesSubplot at 0x7f96ee929048>"
      ]
     },
     "execution_count": 55,
     "metadata": {},
     "output_type": "execute_result"
    },
    {
     "data": {
      "image/png": "[encoded data removed]",
      "text/plain": [
       "<Figure size 720x444.96 with 1 Axes>"
      ]
     },
     "metadata": {},
     "output_type": "display_data"
    }
   ],
   "source": [
    "data_info_native.sort_values(\"gamma\")[\"gamma\"].reset_index(drop=True).plot()\n",
    "\n",
    "\n"
   ]
  },
  {
   "cell_type": "code",
   "execution_count": 56,
   "metadata": {},
   "outputs": [
    {
     "data": {
      "text/plain": [
       "<matplotlib.axes._subplots.AxesSubplot at 0x7f96d7a36e80>"
      ]
     },
     "execution_count": 56,
     "metadata": {},
     "output_type": "execute_result"
    },
    {
     "data": {
      "image/png": "[encoded data removed]",
      "text/plain": [
       "<Figure size 720x444.96 with 1 Axes>"
      ]
     },
     "metadata": {},
     "output_type": "display_data"
    }
   ],
   "source": [
    "data_info.sort_values(\"gamma\")[\"gamma\"].reset_index(drop=True).plot()\n",
    "\n",
    "\n",
    "\n"
   ]
  },
  {
   "cell_type": "code",
   "execution_count": 43,
   "metadata": {
    "collapsed": true
   },
   "outputs": [],
   "source": [
    "a = pd.read_csv(\"/Users/weilu/Research/server/aug_2020/curated_single_chain_optimization/database/info_interaction_parallel.csv\")"
   ]
  },
  {
   "cell_type": "code",
   "execution_count": 44,
   "metadata": {
    "collapsed": true
   },
   "outputs": [],
   "source": [
    "b = pd.read_csv(\"/Users/weilu/Research/server/aug_2020/curated_single_chain_optimization/database/info_interaction_anti_parallel.csv\")"
   ]
  },
  {
   "cell_type": "code",
   "execution_count": 45,
   "metadata": {
    "collapsed": true
   },
   "outputs": [],
   "source": [
    "a[\"Direction\"] = \"parallel\"\n",
    "b[\"Direction\"] = \"anti\"\n",
    "c = pd.concat([a,b]).reset_index(drop=True)"
   ]
  },
  {
   "cell_type": "code",
   "execution_count": 46,
   "metadata": {
    "collapsed": true
   },
   "outputs": [],
   "source": [
    "c.to_csv(\"~/Research/database/single_chain_info_interaction.csv\")"
   ]
  },
  {
   "cell_type": "code",
   "execution_count": 48,
   "metadata": {},
   "outputs": [],
   "source": [
    "a = pd.read_csv(\"~/Research/database/single_chain_info_interaction.csv\", index_col=0)"
   ]
  },
  {
   "cell_type": "code",
   "execution_count": 50,
   "metadata": {},
   "outputs": [
    {
     "data": {
      "text/plain": [
       "6.49999703056465"
      ]
     },
     "execution_count": 50,
     "metadata": {},
     "output_type": "execute_result"
    }
   ],
   "source": [
    "data[\"rij\"].max()"
   ]
  },
  {
   "cell_type": "code",
   "execution_count": 51,
   "metadata": {},
   "outputs": [
    {
     "data": {
      "text/plain": [
       "6.4999990909873056"
      ]
     },
     "execution_count": 51,
     "metadata": {},
     "output_type": "execute_result"
    }
   ],
   "source": [
    "data[\"rij_2\"].max()"
   ]
  },
  {
   "cell_type": "code",
   "execution_count": null,
   "metadata": {
    "collapsed": true
   },
   "outputs": [],
   "source": []
  }
 ],
 "metadata": {
  "kernelspec": {
   "display_name": "Python 3",
   "language": "python",
   "name": "python3"
  },
  "language_info": {
   "codemirror_mode": {
    "name": "ipython",
    "version": 3
   },
   "file_extension": ".py",
   "mimetype": "text/x-python",
   "name": "python",
   "nbconvert_exporter": "python",
   "pygments_lexer": "ipython3",
   "version": "3.6.7"
  }
 },
 "nbformat": 4,
 "nbformat_minor": 2
}
