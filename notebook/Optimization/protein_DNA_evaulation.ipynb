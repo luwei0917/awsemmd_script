{
 "cells": [
  {
   "cell_type": "code",
   "execution_count": 1,
   "metadata": {
    "collapsed": true
   },
   "outputs": [],
   "source": [
    "import sys\n",
    "sys.path.append(\"/projects/pw8/wl45/open3spn2\")\n",
    "sys.path.append(\"/projects/pw8/wl45/openawsem\")\n",
    "sys.path.append(\"/Users/weilu/open3spn2\")\n",
    "sys.path.append(\"/Users/weilu/openmmawsem\")\n",
    "sys.path.append(\"C:/Users/luwei/Documents/GitHub/open3spn2\")\n",
    "sys.path.append(\"C:/Users/luwei/Documents/GitHub/openawsem\")\n",
    "\n",
    "\n",
    "import open3SPN2\n",
    "import ffAWSEM\n",
    "import time\n",
    "import simtk.openmm\n",
    "import simtk.openmm.app\n"
   ]
  },
  {
   "cell_type": "code",
   "execution_count": 10,
   "metadata": {
    "collapsed": true
   },
   "outputs": [],
   "source": [
    "import scipy.spatial.distance as sdist\n",
    "import pandas as pd\n"
   ]
  },
  {
   "cell_type": "code",
   "execution_count": 3,
   "metadata": {},
   "outputs": [],
   "source": [
    "pdb_file = \"/Users/weilu/Research/server/jun_week1_2020/protein_DNA_benchmark/DNAProtein_Platform_OpenCL_date_20200226_pdb_1a36_repetition_0_clean.pdb\"\n",
    "seq_file = \"/Users/weilu/Research/server/jun_week1_2020/protein_DNA_benchmark/DNAProtein_Platform_OpenCL_date_20200226_pdb_1a36_repetition_0_protein.seq\"\n",
    "with open(seq_file) as ps:\n",
    "    protein_sequence_one=ps.readlines()[0]\n",
    "protein=ffAWSEM.Protein.fromCoarsePDB(pdb_file,sequence=protein_sequence_one)"
   ]
  },
  {
   "cell_type": "code",
   "execution_count": 6,
   "metadata": {},
   "outputs": [],
   "source": [
    "data = protein.atoms"
   ]
  },
  {
   "cell_type": "code",
   "execution_count": 27,
   "metadata": {
    "collapsed": true
   },
   "outputs": [],
   "source": [
    "protein_resNames = [\"NGP\", \"IGL\", \"IPR\", \"NTER\", \"CTER\"]\n",
    "DNA_resNames = [\"DA\", \"DC\", \"DT\", \"DG\"]\n",
    "group1_index = []\n",
    "group2_index = []\n",
    "for i, line in data.iterrows():\n",
    "    resname = line[\"resname\"]\n",
    "    index = line[\"serial\"]\n",
    "    name = line[\"name\"]\n",
    "    if resname in DNA_resNames and name == \"P\":\n",
    "        group1_index.append(index)\n",
    "    if resname in protein_resNames and name == \"CA\":\n",
    "        group2_index.append(index)"
   ]
  },
  {
   "cell_type": "code",
   "execution_count": 11,
   "metadata": {},
   "outputs": [],
   "source": [
    "\n",
    "#Calculate native distances\n",
    "CA_atoms=protein.atoms[protein.atoms.name=='CA']\n",
    "P_atoms=protein.atoms[protein.atoms.name=='P']\n",
    "d=sdist.cdist(CA_atoms[['x','y','z']],P_atoms[['x','y','z']])/10 #Distance in nanometers\n",
    "d_sq=pd.DataFrame(d,index=CA_atoms.index,columns=P_atoms.index)\n",
    "d=d_sq.copy()\n",
    "d['Protein']=d.index\n",
    "d=d.melt(id_vars=['Protein'])\n",
    "d=d.rename(columns={'variable': 'DNA', 'value': 'distance'})"
   ]
  },
  {
   "cell_type": "code",
   "execution_count": 23,
   "metadata": {},
   "outputs": [
    {
     "data": {
      "text/html": [
       "<div>\n",
       "<style scoped>\n",
       "    .dataframe tbody tr th:only-of-type {\n",
       "        vertical-align: middle;\n",
       "    }\n",
       "\n",
       "    .dataframe tbody tr th {\n",
       "        vertical-align: top;\n",
       "    }\n",
       "\n",
       "    .dataframe thead th {\n",
       "        text-align: right;\n",
       "    }\n",
       "</style>\n",
       "<table border=\"1\" class=\"dataframe\">\n",
       "  <thead>\n",
       "    <tr style=\"text-align: right;\">\n",
       "      <th></th>\n",
       "      <th>Protein</th>\n",
       "      <th>DNA</th>\n",
       "      <th>distance</th>\n",
       "    </tr>\n",
       "  </thead>\n",
       "  <tbody>\n",
       "    <tr>\n",
       "      <td>352</td>\n",
       "      <td>2209</td>\n",
       "      <td>3</td>\n",
       "      <td>0.993812</td>\n",
       "    </tr>\n",
       "    <tr>\n",
       "      <td>353</td>\n",
       "      <td>2215</td>\n",
       "      <td>3</td>\n",
       "      <td>0.982950</td>\n",
       "    </tr>\n",
       "    <tr>\n",
       "      <td>354</td>\n",
       "      <td>2221</td>\n",
       "      <td>3</td>\n",
       "      <td>0.909546</td>\n",
       "    </tr>\n",
       "    <tr>\n",
       "      <td>356</td>\n",
       "      <td>2233</td>\n",
       "      <td>3</td>\n",
       "      <td>0.853868</td>\n",
       "    </tr>\n",
       "    <tr>\n",
       "      <td>357</td>\n",
       "      <td>2238</td>\n",
       "      <td>3</td>\n",
       "      <td>0.817565</td>\n",
       "    </tr>\n",
       "    <tr>\n",
       "      <td>...</td>\n",
       "      <td>...</td>\n",
       "      <td>...</td>\n",
       "      <td>...</td>\n",
       "    </tr>\n",
       "    <tr>\n",
       "      <td>20757</td>\n",
       "      <td>2315</td>\n",
       "      <td>116</td>\n",
       "      <td>0.692107</td>\n",
       "    </tr>\n",
       "    <tr>\n",
       "      <td>20758</td>\n",
       "      <td>2321</td>\n",
       "      <td>116</td>\n",
       "      <td>0.960002</td>\n",
       "    </tr>\n",
       "    <tr>\n",
       "      <td>20759</td>\n",
       "      <td>2327</td>\n",
       "      <td>116</td>\n",
       "      <td>0.996391</td>\n",
       "    </tr>\n",
       "    <tr>\n",
       "      <td>21132</td>\n",
       "      <td>1272</td>\n",
       "      <td>119</td>\n",
       "      <td>0.958682</td>\n",
       "    </tr>\n",
       "    <tr>\n",
       "      <td>21683</td>\n",
       "      <td>1272</td>\n",
       "      <td>122</td>\n",
       "      <td>0.901890</td>\n",
       "    </tr>\n",
       "  </tbody>\n",
       "</table>\n",
       "<p>268 rows × 3 columns</p>\n",
       "</div>"
      ],
      "text/plain": [
       "       Protein  DNA  distance\n",
       "352       2209    3  0.993812\n",
       "353       2215    3  0.982950\n",
       "354       2221    3  0.909546\n",
       "356       2233    3  0.853868\n",
       "357       2238    3  0.817565\n",
       "...        ...  ...       ...\n",
       "20757     2315  116  0.692107\n",
       "20758     2321  116  0.960002\n",
       "20759     2327  116  0.996391\n",
       "21132     1272  119  0.958682\n",
       "21683     1272  122  0.901890\n",
       "\n",
       "[268 rows x 3 columns]"
      ]
     },
     "execution_count": 23,
     "metadata": {},
     "output_type": "execute_result"
    }
   ],
   "source": [
    "d.query(\"distance < 1\")"
   ]
  },
  {
   "cell_type": "code",
   "execution_count": 17,
   "metadata": {},
   "outputs": [
    {
     "data": {
      "text/plain": [
       "array([3, 6, 9, 12, 15, 18, 21, 24, 27, 30, 33, 36, 39, 42, 45, 48, 51,\n",
       "       54, 57, 60, 63, 68, 71, 74, 77, 80, 83, 86, 89, 92, 95, 98, 101,\n",
       "       104, 107, 110, 113, 116, 119, 122, 125, 128], dtype=object)"
      ]
     },
     "execution_count": 17,
     "metadata": {},
     "output_type": "execute_result"
    }
   ],
   "source": [
    "d[\"DNA\"].unique()"
   ]
  },
  {
   "cell_type": "code",
   "execution_count": 18,
   "metadata": {},
   "outputs": [
    {
     "data": {
      "text/plain": [
       "(23142, 3)"
      ]
     },
     "execution_count": 18,
     "metadata": {},
     "output_type": "execute_result"
    }
   ],
   "source": [
    "d.shape"
   ]
  },
  {
   "cell_type": "code",
   "execution_count": 19,
   "metadata": {},
   "outputs": [
    {
     "data": {
      "text/plain": [
       "578.55"
      ]
     },
     "execution_count": 19,
     "metadata": {},
     "output_type": "execute_result"
    }
   ],
   "source": [
    "23142/40"
   ]
  },
  {
   "cell_type": "code",
   "execution_count": 31,
   "metadata": {},
   "outputs": [],
   "source": [
    "data = pd.read_csv(\"/Users/weilu/Research/server/jun_week3_2020/protein_DNA/selected.csv\", index_col=0)\n",
    "\n",
    "sampled = data.sample(6, random_state=28)\n",
    "pdb_list = sampled.idcode.to_list()"
   ]
  },
  {
   "cell_type": "code",
   "execution_count": 38,
   "metadata": {},
   "outputs": [],
   "source": []
  },
  {
   "cell_type": "code",
   "execution_count": 41,
   "metadata": {},
   "outputs": [],
   "source": [
    "pdb_list = sampled.idcode.to_list()"
   ]
  },
  {
   "cell_type": "code",
   "execution_count": 42,
   "metadata": {
    "collapsed": true
   },
   "outputs": [],
   "source": [
    "pdb_list = [a.lower() for a in pdb_list]"
   ]
  },
  {
   "cell_type": "code",
   "execution_count": 43,
   "metadata": {},
   "outputs": [
    {
     "name": "stdout",
     "output_type": "stream",
     "text": [
      "['4y60', '5ke8', '1a1j', '5lxu', '1skn', '6a2h']\n"
     ]
    }
   ],
   "source": [
    "print(pdb_list)"
   ]
  },
  {
   "cell_type": "code",
   "execution_count": 35,
   "metadata": {},
   "outputs": [
    {
     "data": {
      "text/html": [
       "<div>\n",
       "<style scoped>\n",
       "    .dataframe tbody tr th:only-of-type {\n",
       "        vertical-align: middle;\n",
       "    }\n",
       "\n",
       "    .dataframe tbody tr th {\n",
       "        vertical-align: top;\n",
       "    }\n",
       "\n",
       "    .dataframe thead th {\n",
       "        text-align: right;\n",
       "    }\n",
       "</style>\n",
       "<table border=\"1\" class=\"dataframe\">\n",
       "  <thead>\n",
       "    <tr style=\"text-align: right;\">\n",
       "      <th></th>\n",
       "      <th>Number of missing residues</th>\n",
       "      <th>Resolution</th>\n",
       "      <th>idcode</th>\n",
       "      <th>release_date</th>\n",
       "      <th>First</th>\n",
       "      <th>Chain DNA1 ID</th>\n",
       "      <th>Chain DNA1 Compound</th>\n",
       "      <th>Chain DNA2 ID</th>\n",
       "      <th>Chain DNA2 Compound</th>\n",
       "      <th>Chain Protein ID</th>\n",
       "      <th>Chain Protein Compound</th>\n",
       "    </tr>\n",
       "  </thead>\n",
       "  <tbody>\n",
       "    <tr>\n",
       "      <td>45</td>\n",
       "      <td>11</td>\n",
       "      <td>3.10</td>\n",
       "      <td>6JHE</td>\n",
       "      <td>2020-01-01</td>\n",
       "      <td>3.10</td>\n",
       "      <td>b</td>\n",
       "      <td>dna (5'-d(p*tp*tp*gp*ap*ap*ap*cp*cp*tp*tp*t)-3')</td>\n",
       "      <td>c</td>\n",
       "      <td>dna (5'-d(*ap*ap*ap*gp*gp*tp*tp*tp*cp*ap*a)-3')</td>\n",
       "      <td>a</td>\n",
       "      <td>ecf rna polymerase sigma factor sigw</td>\n",
       "    </tr>\n",
       "    <tr>\n",
       "      <td>59</td>\n",
       "      <td>0</td>\n",
       "      <td>1.90</td>\n",
       "      <td>6QEC</td>\n",
       "      <td>2020-02-05</td>\n",
       "      <td>1.90</td>\n",
       "      <td>u</td>\n",
       "      <td>dna (5'-d(*ap*tp*tp*cp*gp*ap*ap*tp*ap*t*tp*ap*...</td>\n",
       "      <td>b</td>\n",
       "      <td>dna (5'-d(*ap*tp*tp*cp*gp*ap*ap*tp*ap*t*tp*ap*...</td>\n",
       "      <td>a</td>\n",
       "      <td>transcription factor lux</td>\n",
       "    </tr>\n",
       "    <tr>\n",
       "      <td>7</td>\n",
       "      <td>0</td>\n",
       "      <td>2.70</td>\n",
       "      <td>4S2Q</td>\n",
       "      <td>2016-02-17</td>\n",
       "      <td>2.70</td>\n",
       "      <td>a</td>\n",
       "      <td>dna (5'-d(p*ap*gp*gp*cp*tp*tp*tp*gp*tp*tp*cp*t...</td>\n",
       "      <td>b</td>\n",
       "      <td>dna (5'-d(p*ap*gp*gp*ap*gp*ap*ap*cp*ap*ap*ap*g...</td>\n",
       "      <td>d</td>\n",
       "      <td>transcription factor sox-9</td>\n",
       "    </tr>\n",
       "    <tr>\n",
       "      <td>50</td>\n",
       "      <td>7</td>\n",
       "      <td>2.75</td>\n",
       "      <td>5JLX</td>\n",
       "      <td>2016-06-22</td>\n",
       "      <td>2.75</td>\n",
       "      <td>b, e</td>\n",
       "      <td>dna (5'-d(*ap*gp*ap*ap*ap*gp*cp*(c7s)p*ap*tp*t...</td>\n",
       "      <td>c, f</td>\n",
       "      <td>dna (5'-d(*tp*cp*tp*cp*tp*ap*ap*tp*gp*gp*cp*tp...</td>\n",
       "      <td>a, d</td>\n",
       "      <td>homeotic protein antennapedia</td>\n",
       "    </tr>\n",
       "    <tr>\n",
       "      <td>92</td>\n",
       "      <td>3</td>\n",
       "      <td>2.40</td>\n",
       "      <td>3U2B</td>\n",
       "      <td>2011-12-28</td>\n",
       "      <td>2.40</td>\n",
       "      <td>a</td>\n",
       "      <td>dna (5'-d(*gp*tp*cp*tp*cp*tp*ap*tp*tp*gp*tp*cp...</td>\n",
       "      <td>b</td>\n",
       "      <td>dna (5'-d(*cp*cp*ap*gp*gp*ap*cp*ap*ap*tp*ap*gp...</td>\n",
       "      <td>c</td>\n",
       "      <td>transcription factor sox-4</td>\n",
       "    </tr>\n",
       "    <tr>\n",
       "      <td>27</td>\n",
       "      <td>6</td>\n",
       "      <td>1.45</td>\n",
       "      <td>5KL3</td>\n",
       "      <td>2016-09-14</td>\n",
       "      <td>1.45</td>\n",
       "      <td>b</td>\n",
       "      <td>dna (5'-d(*ap*gp*cp*gp*tp*gp*gp*gp*ap*gp*t)-3')</td>\n",
       "      <td>c</td>\n",
       "      <td>dna (5'-d(*tp*ap*cp*tp*cp*cp*cp*ap*cp*gp*c)-3')</td>\n",
       "      <td>a</td>\n",
       "      <td>wilms tumor protein</td>\n",
       "    </tr>\n",
       "  </tbody>\n",
       "</table>\n",
       "</div>"
      ],
      "text/plain": [
       "    Number of missing residues  Resolution idcode release_date  First  \\\n",
       "45                          11        3.10   6JHE   2020-01-01   3.10   \n",
       "59                           0        1.90   6QEC   2020-02-05   1.90   \n",
       "7                            0        2.70   4S2Q   2016-02-17   2.70   \n",
       "50                           7        2.75   5JLX   2016-06-22   2.75   \n",
       "92                           3        2.40   3U2B   2011-12-28   2.40   \n",
       "27                           6        1.45   5KL3   2016-09-14   1.45   \n",
       "\n",
       "   Chain DNA1 ID                                Chain DNA1 Compound  \\\n",
       "45             b   dna (5'-d(p*tp*tp*gp*ap*ap*ap*cp*cp*tp*tp*t)-3')   \n",
       "59             u  dna (5'-d(*ap*tp*tp*cp*gp*ap*ap*tp*ap*t*tp*ap*...   \n",
       "7              a  dna (5'-d(p*ap*gp*gp*cp*tp*tp*tp*gp*tp*tp*cp*t...   \n",
       "50          b, e  dna (5'-d(*ap*gp*ap*ap*ap*gp*cp*(c7s)p*ap*tp*t...   \n",
       "92             a  dna (5'-d(*gp*tp*cp*tp*cp*tp*ap*tp*tp*gp*tp*cp...   \n",
       "27             b    dna (5'-d(*ap*gp*cp*gp*tp*gp*gp*gp*ap*gp*t)-3')   \n",
       "\n",
       "   Chain DNA2 ID                                Chain DNA2 Compound  \\\n",
       "45             c    dna (5'-d(*ap*ap*ap*gp*gp*tp*tp*tp*cp*ap*a)-3')   \n",
       "59             b  dna (5'-d(*ap*tp*tp*cp*gp*ap*ap*tp*ap*t*tp*ap*...   \n",
       "7              b  dna (5'-d(p*ap*gp*gp*ap*gp*ap*ap*cp*ap*ap*ap*g...   \n",
       "50          c, f  dna (5'-d(*tp*cp*tp*cp*tp*ap*ap*tp*gp*gp*cp*tp...   \n",
       "92             b  dna (5'-d(*cp*cp*ap*gp*gp*ap*cp*ap*ap*tp*ap*gp...   \n",
       "27             c    dna (5'-d(*tp*ap*cp*tp*cp*cp*cp*ap*cp*gp*c)-3')   \n",
       "\n",
       "   Chain Protein ID                Chain Protein Compound  \n",
       "45                a  ecf rna polymerase sigma factor sigw  \n",
       "59                a              transcription factor lux  \n",
       "7                 d            transcription factor sox-9  \n",
       "50             a, d         homeotic protein antennapedia  \n",
       "92                c            transcription factor sox-4  \n",
       "27                a                   wilms tumor protein  "
      ]
     },
     "execution_count": 35,
     "metadata": {},
     "output_type": "execute_result"
    }
   ],
   "source": [
    "\n",
    "data.sample(6, random_state=0)"
   ]
  },
  {
   "cell_type": "code",
   "execution_count": null,
   "metadata": {
    "collapsed": true
   },
   "outputs": [],
   "source": []
  }
 ],
 "metadata": {
  "kernelspec": {
   "display_name": "Python 3",
   "language": "python",
   "name": "python3"
  },
  "language_info": {
   "codemirror_mode": {
    "name": "ipython",
    "version": 3
   },
   "file_extension": ".py",
   "mimetype": "text/x-python",
   "name": "python",
   "nbconvert_exporter": "python",
   "pygments_lexer": "ipython3",
   "version": "3.6.7"
  }
 },
 "nbformat": 4,
 "nbformat_minor": 2
}
