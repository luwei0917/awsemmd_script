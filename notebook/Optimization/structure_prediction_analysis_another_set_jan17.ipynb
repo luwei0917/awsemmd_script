{
 "cells": [
  {
   "cell_type": "code",
   "execution_count": 5,
   "metadata": {},
   "outputs": [
    {
     "name": "stdout",
     "output_type": "stream",
     "text": [
      "The autoreload extension is already loaded. To reload it, use:\n",
      "  %reload_ext autoreload\n"
     ]
    }
   ],
   "source": [
    "import numpy as np\n",
    "import pandas as pd\n",
    "import matplotlib.pyplot as plt\n",
    "import seaborn as sns\n",
    "from small_script.myFunctions import *\n",
    "\n",
    "\n",
    "\n",
    "%matplotlib inline\n",
    "%load_ext autoreload\n",
    "%autoreload 2\n",
    "\n",
    "plt.rcParams['figure.figsize'] = [16.18033, 10]"
   ]
  },
  {
   "cell_type": "code",
   "execution_count": 2,
   "metadata": {},
   "outputs": [],
   "source": [
    "def get_data(pre, pdb_list):\n",
    "    # to get last 20 frame of each run\n",
    "    _all = []\n",
    "    for p in pdb_list:\n",
    "        name = p.lower()[:4]\n",
    "        for i in range(20):\n",
    "            for ii in range(3):\n",
    "                location = pre + f\"all_simulations/{name}/simulation/{i}/{ii}/wham.dat\"\n",
    "                try:\n",
    "                    tmp = pd.read_csv(location).tail(50).reset_index()\n",
    "                    tmp.columns = tmp.columns.str.strip()\n",
    "                    _all.append(tmp.assign(Run=i, Name=name, Rerun=ii))\n",
    "                except Exception as e: \n",
    "                    print(e)\n",
    "    data = pd.concat(_all)\n",
    "    data[\"Run\"] = \"Run\" + data[\"Run\"].astype(str)\n",
    "    return data"
   ]
  },
  {
   "cell_type": "code",
   "execution_count": 3,
   "metadata": {},
   "outputs": [],
   "source": [
    "pre = \"/Users/weilu/Research/server/jan_2019/iterative_optimization_another_set/\"\n",
    "# pdb_list = \"1R69, 1UTG, 3ICB, 256BA, 4CPV, 1CCR, 2MHR, 1MBA, 2FHA\".split(\", \")\n",
    "pdb_list = \"1FC2C, 1ENH, 2GB1, 2CRO, 1CTF, 4ICB\".split(\", \")\n",
    "data = get_data(pre, pdb_list)\n",
    "data.reset_index(drop=True).to_csv(\"/Users/weilu/Research/data/optimization/single_memory_jan17.csv\")"
   ]
  },
  {
   "cell_type": "code",
   "execution_count": 6,
   "metadata": {},
   "outputs": [
    {
     "data": {
      "text/plain": [
       "<matplotlib.axes._subplots.AxesSubplot at 0x1a1d0d6358>"
      ]
     },
     "execution_count": 6,
     "metadata": {},
     "output_type": "execute_result"
    },
    {
     "data": {
      "image/png": "[encoded data removed]",
      "text/plain": [
       "<Figure size 1164.98x720 with 1 Axes>"
      ]
     },
     "metadata": {
      "needs_background": "light"
     },
     "output_type": "display_data"
    }
   ],
   "source": [
    "sns.boxplot(\"Name\", \"Qw\", data=data)"
   ]
  },
  {
   "cell_type": "code",
   "execution_count": null,
   "metadata": {},
   "outputs": [],
   "source": []
  },
  {
   "cell_type": "code",
   "execution_count": null,
   "metadata": {},
   "outputs": [],
   "source": [
    "# data = pd.read_csv(\"/Users/weilu/Research/data/optimization/single_memory_no_gamma.csv\", index_col=0)\n",
    "# data2 = pd.read_csv(\"/Users/weilu/Research/data/optimization/single_memory_old_gamma.csv\", index_col=0)\n",
    "# data3 = pd.read_csv(\"/Users/weilu/Research/data/optimization/single_memory_new_gamma.csv\", index_col=0)\n",
    "# d = pd.concat([data.assign(Scheme=\"no_gamma\")\n",
    "#               , data3.assign(Scheme=\"new_gamma\"), data2.assign(Scheme=\"old_gamma\")])\n",
    "# sns.boxplot(\"Name\", \"Qw\", hue=\"Scheme\", data=d)"
   ]
  }
 ],
 "metadata": {
  "kernelspec": {
   "display_name": "Python 3",
   "language": "python",
   "name": "python3"
  },
  "language_info": {
   "codemirror_mode": {
    "name": "ipython",
    "version": 3
   },
   "file_extension": ".py",
   "mimetype": "text/x-python",
   "name": "python",
   "nbconvert_exporter": "python",
   "pygments_lexer": "ipython3",
   "version": "3.7.1"
  }
 },
 "nbformat": 4,
 "nbformat_minor": 2
}
