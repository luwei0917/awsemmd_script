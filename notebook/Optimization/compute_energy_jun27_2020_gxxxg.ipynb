{
 "cells": [
  {
   "cell_type": "code",
   "execution_count": 2,
   "metadata": {
    "collapsed": true
   },
   "outputs": [],
   "source": [
    "import os\n",
    "import sys\n",
    "import random\n",
    "import time\n",
    "from random import seed, randint\n",
    "import argparse\n",
    "import platform\n",
    "from datetime import datetime\n",
    "import imp\n",
    "import numpy as np\n",
    "import fileinput\n",
    "from itertools import product\n",
    "import pandas as pd\n",
    "from scipy.interpolate import griddata\n",
    "from scipy.interpolate import interp2d\n",
    "import seaborn as sns\n",
    "from os import listdir\n",
    "\n",
    "import matplotlib.pyplot as plt\n",
    "import seaborn as sns\n",
    "from scipy.interpolate import griddata\n",
    "import matplotlib as mpl\n",
    "# sys.path.insert(0,'..')\n",
    "# from notebookFunctions import *\n",
    "# from .. import notebookFunctions\n",
    "\n",
    "from Bio.PDB.PDBParser import PDBParser\n",
    "sys.path.insert(0, '/Users/weilu/Research/opt_server/')\n",
    "from pyCodeLib import *\n",
    "%matplotlib inline\n",
    "plt.rcParams['figure.figsize'] = (10,6.180)    #golden ratio\n",
    "plt.rcParams['figure.facecolor'] = 'w'\n",
    "# %matplotlib notebook\n",
    "%load_ext autoreload\n",
    "%autoreload 2"
   ]
  },
  {
   "cell_type": "code",
   "execution_count": 3,
   "metadata": {
    "collapsed": true
   },
   "outputs": [],
   "source": [
    "def get_res_by_globalindex(res_list, index, chain):\n",
    "    # the res has to be on the same chain as \"chain\"\n",
    "    if index < 0:\n",
    "        return -1\n",
    "    try:\n",
    "        res = res_list[index]\n",
    "    except:\n",
    "        return -1\n",
    "    if res.get_parent().get_id() == chain:\n",
    "        return res\n",
    "    else:\n",
    "        return -1\n",
    "    \n",
    "def get_gxxxg_anti_parallel_data(fileLocation, get_distance_between_two_residues):\n",
    "    structure = parse_pdb(fileLocation)\n",
    "    res_list = get_res_list(structure)\n",
    "    neighbor_list = get_neighbor_list(structure)\n",
    "    sequence = get_sequence_from_structure(structure)\n",
    "    \n",
    "    # database survey on the distribution of GXXXG pairs.\n",
    "    # focus on anti parallel first. (means i to j+4, i+4 to j)\n",
    "    min_seq_sep = 10\n",
    "    r_max = 9.5\n",
    "    info_list = []\n",
    "    for res1globalindex, res1 in enumerate(res_list):\n",
    "        res1index = get_local_index(res1)\n",
    "        res1chain = get_chain(res1)\n",
    "        for res2 in get_neighbors_within_radius(neighbor_list, res1, r_max+2.0):\n",
    "            res2index = get_local_index(res2)\n",
    "            res2chain = get_chain(res2)\n",
    "            res2globalindex = get_global_index(res_list, res2)\n",
    "\n",
    "            if res2globalindex - res1globalindex >= min_seq_sep or (res1chain != res2chain and res2globalindex > res1globalindex):\n",
    "                res1type = get_res_type(res_list, res1)\n",
    "                res2type = get_res_type(res_list, res2)\n",
    "                rij = get_distance_between_two_residues(res1, res2)\n",
    "                res1_2_globalindex = res1globalindex+4\n",
    "                res2_2_globalindex = res2globalindex-4\n",
    "                res1_2 = get_res_by_globalindex(res_list, res1_2_globalindex, res1chain)\n",
    "                res2_2 = get_res_by_globalindex(res_list, res2_2_globalindex, res1chain)\n",
    "                if res1_2 == -1 or res2_2 == -1:\n",
    "                    continue\n",
    "                rij_2 = get_distance_between_two_residues(res1_2, res2_2)\n",
    "                if rij_2 > 9.5:\n",
    "                    continue\n",
    "                info_ = [res1globalindex, res1.resname, res2globalindex, res2.resname, res1_2_globalindex, res1_2.resname, res2_2_globalindex, res2_2.resname, rij, rij_2]\n",
    "                info_list.append(info_)\n",
    "                # print(info_)\n",
    "\n",
    "    data = pd.DataFrame(info_list, columns=[\"Index1_1\", \"Res1_1\", \"Index2_1\", \"Res2_1\", \"Index1_2\", \"Res1_2\", \"Index2_2\", \"Res2_2\", \"rij\", \"rij_2\"])\n",
    "    return data"
   ]
  },
  {
   "cell_type": "code",
   "execution_count": 106,
   "metadata": {
    "collapsed": true
   },
   "outputs": [],
   "source": [
    "# (G)(CAST)(P)(IMLV)(NHQEDRK)(FYW)\n",
    "six_letter_code_letters = {\n",
    "    'I':3,\n",
    "    'M':3,\n",
    "    'L':3,\n",
    "    'V':3,\n",
    "    'F':5,\n",
    "    'Y':5,\n",
    "    'W':5,\n",
    "    'G':0,\n",
    "    'P':2,\n",
    "    'C':1,\n",
    "    'A':1,\n",
    "    'S':1,\n",
    "    'T':1,\n",
    "    'N':4,\n",
    "    'H':4,\n",
    "    'Q':4,\n",
    "    'E':4,\n",
    "    'D':4,\n",
    "    'R':4,\n",
    "    'K':4\n",
    "}\n",
    "\n",
    "\n",
    "pair_index_lookup = {}\n",
    "rev_pair_index_lookup = {}\n",
    "n = 6\n",
    "count = 0\n",
    "for i in range(n):\n",
    "    for j in range(n):\n",
    "        pair_index_lookup[f\"{i}_{j}\"] = count\n",
    "        rev_pair_index_lookup[count] = f\"{i}_{j}\"\n",
    "        count += 1\n",
    "        \n",
    "pair_n = 36\n",
    "count = 0\n",
    "look_up_table = {}\n",
    "rev_look_up_table = {}\n",
    "for ii in range(pair_n):\n",
    "    for jj in range(ii+1):\n",
    "        look_up_table[f\"{ii}_{jj}\"] = count\n",
    "        look_up_table[f\"{jj}_{ii}\"] = count\n",
    "        rev_look_up_table[count] = [rev_pair_index_lookup[ii]+\"_\"+rev_pair_index_lookup[jj]]\n",
    "        count += 1\n",
    "\n",
    "def get_interaction_index(data, six_letter_code_letters=six_letter_code_letters, \n",
    "                          pair_index_lookup=pair_index_lookup,\n",
    "                          look_up_table=look_up_table):\n",
    "    Res1_1 = data[\"Res1_1\"]\n",
    "    Res2_1 = data[\"Res2_1\"]\n",
    "    Res1_2 = data[\"Res1_2\"]\n",
    "    Res2_2 = data[\"Res2_2\"]\n",
    "    i1 = six_letter_code_letters[three_to_one(Res1_1)]\n",
    "    i2 = six_letter_code_letters[three_to_one(Res1_2)]\n",
    "    j1 = six_letter_code_letters[three_to_one(Res2_1)]\n",
    "    j2 = six_letter_code_letters[three_to_one(Res2_2)]\n",
    "    ii = all_combination[f\"{i1}_{i2}\"]\n",
    "    jj = all_combination[f\"{j1}_{j2}\"]\n",
    "    return look_up_table[f\"{ii}_{jj}\"]"
   ]
  },
  {
   "cell_type": "code",
   "execution_count": 4,
   "metadata": {
    "collapsed": true
   },
   "outputs": [],
   "source": [
    "import glob\n",
    "pdb_list = glob.glob(\"/Users/weilu/Research/server/jun_week4_2020/alpha_helical_membrane_protein/cleaned_pdbs/*.pdb\")\n",
    "pdb_list = [os.path.basename(a)[:-4] for a in pdb_list]"
   ]
  },
  {
   "cell_type": "code",
   "execution_count": 169,
   "metadata": {
    "collapsed": true
   },
   "outputs": [],
   "source": [
    "import glob\n",
    "pdb_list = glob.glob(\"/Users/weilu/Research/server/jun_week4_2020/alpha_helical_membrane_protein/membrane_part_only/*.pdb\")\n",
    "pdb_list = [os.path.basename(a)[:-4] for a in pdb_list]"
   ]
  },
  {
   "cell_type": "code",
   "execution_count": 173,
   "metadata": {
    "collapsed": true
   },
   "outputs": [],
   "source": [
    "pd.DataFrame(pdb_list, columns=[\"Protein\"]).to_csv(\"/Users/weilu/Research/database/gxxxg_protein_list.csv\")"
   ]
  },
  {
   "cell_type": "code",
   "execution_count": null,
   "metadata": {
    "collapsed": true
   },
   "outputs": [],
   "source": [
    "pd.read_csv(\"/Users/weilu/Research/database/gxxxg_protein_list.csv\", index_col=0)"
   ]
  },
  {
   "cell_type": "code",
   "execution_count": 170,
   "metadata": {
    "scrolled": true
   },
   "outputs": [
    {
     "data": {
      "text/plain": [
       "4165"
      ]
     },
     "execution_count": 170,
     "metadata": {},
     "output_type": "execute_result"
    }
   ],
   "source": [
    "len(pdb_list)"
   ]
  },
  {
   "cell_type": "code",
   "execution_count": 9,
   "metadata": {
    "collapsed": true
   },
   "outputs": [],
   "source": [
    "pdb_list = glob.glob(\"/Users/weilu/Research/server/jun_week4_2020/alpha_helical_membrane_protein/interaction_info/*.csv\")\n",
    "pdb_list = [os.path.basename(a)[:-4] for a in pdb_list]\n",
    "d_list = []\n",
    "for i, pdb in enumerate(pdb_list[:10]):\n",
    "    if i % 100 == 0:\n",
    "        print(i, pdb)\n",
    "    a = pd.read_csv(f\"/Users/weilu/Research/server/jun_week4_2020/alpha_helical_membrane_protein/interaction_info/{pdb}.csv\", index_col=0)\n",
    "    if len(a) == 0:\n",
    "        continue\n",
    "    d_list.append(a.assign(Protein=pdb))\n",
    "d = pd.concat(d_list).reset_index(drop=True)\n",
    "d.to_csv(\"info_interaction.csv\")"
   ]
  },
  {
   "cell_type": "code",
   "execution_count": 60,
   "metadata": {},
   "outputs": [
    {
     "data": {
      "text/plain": [
       "210.0"
      ]
     },
     "execution_count": 60,
     "metadata": {},
     "output_type": "execute_result"
    }
   ],
   "source": [
    "20*21/2"
   ]
  },
  {
   "cell_type": "code",
   "execution_count": 61,
   "metadata": {},
   "outputs": [
    {
     "data": {
      "text/plain": [
       "666.0"
      ]
     },
     "execution_count": 61,
     "metadata": {},
     "output_type": "execute_result"
    }
   ],
   "source": [
    "36*37/2"
   ]
  },
  {
   "cell_type": "code",
   "execution_count": null,
   "metadata": {
    "collapsed": true
   },
   "outputs": [],
   "source": [
    "data = pd.read_csv(\"/Users/weilu/Research/server/jun_week4_2020/alpha_helical_membrane_protein/info_interaction.csv\", index_col=0)"
   ]
  },
  {
   "cell_type": "code",
   "execution_count": 177,
   "metadata": {},
   "outputs": [
    {
     "data": {
      "text/plain": [
       "(4405818, 11)"
      ]
     },
     "execution_count": 177,
     "metadata": {},
     "output_type": "execute_result"
    }
   ],
   "source": [
    "data.shape"
   ]
  },
  {
   "cell_type": "code",
   "execution_count": 40,
   "metadata": {
    "collapsed": true
   },
   "outputs": [],
   "source": [
    "data_cutoff = data.query(\"rij < 6.5 and rij_2 < 6.5\").reset_index()"
   ]
  },
  {
   "cell_type": "code",
   "execution_count": 41,
   "metadata": {},
   "outputs": [
    {
     "data": {
      "text/plain": [
       "(409608, 12)"
      ]
     },
     "execution_count": 41,
     "metadata": {},
     "output_type": "execute_result"
    }
   ],
   "source": [
    "data_cutoff.shape"
   ]
  },
  {
   "cell_type": "code",
   "execution_count": 184,
   "metadata": {
    "collapsed": true
   },
   "outputs": [],
   "source": [
    "t = data_cutoff[\"Protein\"].value_counts().reset_index()"
   ]
  },
  {
   "cell_type": "code",
   "execution_count": 206,
   "metadata": {
    "collapsed": true
   },
   "outputs": [],
   "source": [
    "t.to_csv(\"/Users/weilu/Research/database/gxxxg_count.csv\")"
   ]
  },
  {
   "cell_type": "code",
   "execution_count": 220,
   "metadata": {
    "collapsed": true
   },
   "outputs": [],
   "source": [
    "t = pd.read_csv(\"/Users/weilu/Research/database/gxxxg_count.csv\", index_col=0)\n",
    "tt = t.query(\"Protein > 5\")[\"index\"].to_list()"
   ]
  },
  {
   "cell_type": "code",
   "execution_count": 221,
   "metadata": {
    "scrolled": true
   },
   "outputs": [
    {
     "data": {
      "text/plain": [
       "(4081, 2)"
      ]
     },
     "execution_count": 221,
     "metadata": {},
     "output_type": "execute_result"
    }
   ],
   "source": [
    "t.shape"
   ]
  },
  {
   "cell_type": "code",
   "execution_count": 203,
   "metadata": {
    "collapsed": true,
    "scrolled": true
   },
   "outputs": [],
   "source": [
    "tt = t.query(\"Protein > 5\")[\"index\"].to_list()"
   ]
  },
  {
   "cell_type": "code",
   "execution_count": 204,
   "metadata": {},
   "outputs": [
    {
     "data": {
      "text/plain": [
       "4049"
      ]
     },
     "execution_count": 204,
     "metadata": {},
     "output_type": "execute_result"
    }
   ],
   "source": [
    "len(tt)"
   ]
  },
  {
   "cell_type": "code",
   "execution_count": 185,
   "metadata": {},
   "outputs": [
    {
     "data": {
      "text/plain": [
       "array([[<matplotlib.axes._subplots.AxesSubplot object at 0x12d2c1320>]],\n",
       "      dtype=object)"
      ]
     },
     "execution_count": 185,
     "metadata": {},
     "output_type": "execute_result"
    },
    {
     "data": {
      "image/png": "[encoded data removed]",
      "text/plain": [
       "<Figure size 720x444.96 with 1 Axes>"
      ]
     },
     "metadata": {},
     "output_type": "display_data"
    }
   ],
   "source": [
    "t.hist(\"Protein\")"
   ]
  },
  {
   "cell_type": "markdown",
   "metadata": {},
   "source": [
    "# using 6 letter code"
   ]
  },
  {
   "cell_type": "code",
   "execution_count": 98,
   "metadata": {
    "collapsed": true
   },
   "outputs": [],
   "source": [
    "data_cutoff[\"interaction\"] = data_cutoff.apply(get_interaction_index, axis=1)"
   ]
  },
  {
   "cell_type": "code",
   "execution_count": 108,
   "metadata": {
    "collapsed": true
   },
   "outputs": [],
   "source": [
    "t = data_cutoff[\"interaction\"].value_counts().reset_index()"
   ]
  },
  {
   "cell_type": "markdown",
   "metadata": {},
   "source": [
    "## using simplified code,(6 letter code)\n",
    "I think, there is a bit too crowded near index 250."
   ]
  },
  {
   "cell_type": "code",
   "execution_count": 114,
   "metadata": {},
   "outputs": [
    {
     "data": {
      "text/html": [
       "<div>\n",
       "<style scoped>\n",
       "    .dataframe tbody tr th:only-of-type {\n",
       "        vertical-align: middle;\n",
       "    }\n",
       "\n",
       "    .dataframe tbody tr th {\n",
       "        vertical-align: top;\n",
       "    }\n",
       "\n",
       "    .dataframe thead th {\n",
       "        text-align: right;\n",
       "    }\n",
       "</style>\n",
       "<table border=\"1\" class=\"dataframe\">\n",
       "  <thead>\n",
       "    <tr style=\"text-align: right;\">\n",
       "      <th></th>\n",
       "      <th>index</th>\n",
       "      <th>interaction</th>\n",
       "    </tr>\n",
       "  </thead>\n",
       "  <tbody>\n",
       "    <tr>\n",
       "      <td>0</td>\n",
       "      <td>250</td>\n",
       "      <td>14598</td>\n",
       "    </tr>\n",
       "    <tr>\n",
       "      <td>1</td>\n",
       "      <td>252</td>\n",
       "      <td>14146</td>\n",
       "    </tr>\n",
       "    <tr>\n",
       "      <td>2</td>\n",
       "      <td>240</td>\n",
       "      <td>12724</td>\n",
       "    </tr>\n",
       "    <tr>\n",
       "      <td>3</td>\n",
       "      <td>199</td>\n",
       "      <td>12411</td>\n",
       "    </tr>\n",
       "    <tr>\n",
       "      <td>4</td>\n",
       "      <td>238</td>\n",
       "      <td>9457</td>\n",
       "    </tr>\n",
       "    <tr>\n",
       "      <td>...</td>\n",
       "      <td>...</td>\n",
       "      <td>...</td>\n",
       "    </tr>\n",
       "    <tr>\n",
       "      <td>395</td>\n",
       "      <td>547</td>\n",
       "      <td>105</td>\n",
       "    </tr>\n",
       "    <tr>\n",
       "      <td>396</td>\n",
       "      <td>55</td>\n",
       "      <td>104</td>\n",
       "    </tr>\n",
       "    <tr>\n",
       "      <td>397</td>\n",
       "      <td>258</td>\n",
       "      <td>101</td>\n",
       "    </tr>\n",
       "    <tr>\n",
       "      <td>398</td>\n",
       "      <td>441</td>\n",
       "      <td>101</td>\n",
       "    </tr>\n",
       "    <tr>\n",
       "      <td>399</td>\n",
       "      <td>14</td>\n",
       "      <td>100</td>\n",
       "    </tr>\n",
       "  </tbody>\n",
       "</table>\n",
       "<p>400 rows × 2 columns</p>\n",
       "</div>"
      ],
      "text/plain": [
       "     index  interaction\n",
       "0      250        14598\n",
       "1      252        14146\n",
       "2      240        12724\n",
       "3      199        12411\n",
       "4      238         9457\n",
       "..     ...          ...\n",
       "395    547          105\n",
       "396     55          104\n",
       "397    258          101\n",
       "398    441          101\n",
       "399     14          100\n",
       "\n",
       "[400 rows x 2 columns]"
      ]
     },
     "execution_count": 114,
     "metadata": {},
     "output_type": "execute_result"
    }
   ],
   "source": [
    "t.head(400)"
   ]
  },
  {
   "cell_type": "code",
   "execution_count": 111,
   "metadata": {},
   "outputs": [
    {
     "data": {
      "text/plain": [
       "(636,)"
      ]
     },
     "execution_count": 111,
     "metadata": {},
     "output_type": "execute_result"
    }
   ],
   "source": [
    "data_cutoff[\"interaction\"].unique().shape"
   ]
  },
  {
   "cell_type": "code",
   "execution_count": 110,
   "metadata": {},
   "outputs": [
    {
     "data": {
      "text/plain": [
       "array([[<matplotlib.axes._subplots.AxesSubplot object at 0x136859320>]],\n",
       "      dtype=object)"
      ]
     },
     "execution_count": 110,
     "metadata": {},
     "output_type": "execute_result"
    },
    {
     "data": {
      "image/png": "[encoded data removed]",
      "text/plain": [
       "<Figure size 720x444.96 with 1 Axes>"
      ]
     },
     "metadata": {},
     "output_type": "display_data"
    }
   ],
   "source": [
    "t.hist(\"interaction\", bins=100)"
   ]
  },
  {
   "cell_type": "code",
   "execution_count": 107,
   "metadata": {},
   "outputs": [
    {
     "data": {
      "text/plain": [
       "['3_3_3_1']"
      ]
     },
     "execution_count": 107,
     "metadata": {},
     "output_type": "execute_result"
    }
   ],
   "source": [
    "rev_look_up_table[250]"
   ]
  },
  {
   "cell_type": "markdown",
   "metadata": {},
   "source": [
    "### How many satisfy the condition\n",
    "Among 400*400 = 160,000 possible combination.\n",
    "Four body interaction exist in 26235 pair exists."
   ]
  },
  {
   "cell_type": "code",
   "execution_count": 116,
   "metadata": {
    "collapsed": true
   },
   "outputs": [],
   "source": [
    "b = data_cutoff.groupby([\"Res1_1\", \"Res2_1\", \"Res1_2\", \"Res2_2\"])[\"rij\"].count().reset_index().sort_values(\"rij\")"
   ]
  },
  {
   "cell_type": "code",
   "execution_count": 117,
   "metadata": {},
   "outputs": [
    {
     "data": {
      "text/plain": [
       "(26235, 5)"
      ]
     },
     "execution_count": 117,
     "metadata": {},
     "output_type": "execute_result"
    }
   ],
   "source": [
    "b.shape"
   ]
  },
  {
   "cell_type": "code",
   "execution_count": 119,
   "metadata": {},
   "outputs": [
    {
     "data": {
      "text/plain": [
       "array([[<matplotlib.axes._subplots.AxesSubplot object at 0x12d51b208>]],\n",
       "      dtype=object)"
      ]
     },
     "execution_count": 119,
     "metadata": {},
     "output_type": "execute_result"
    },
    {
     "data": {
      "image/png": "[encoded data removed]",
      "text/plain": [
       "<Figure size 720x444.96 with 1 Axes>"
      ]
     },
     "metadata": {},
     "output_type": "display_data"
    }
   ],
   "source": [
    "b.hist(\"rij\", bins=100)"
   ]
  },
  {
   "cell_type": "code",
   "execution_count": 121,
   "metadata": {},
   "outputs": [
    {
     "data": {
      "text/plain": [
       "(7747, 5)"
      ]
     },
     "execution_count": 121,
     "metadata": {},
     "output_type": "execute_result"
    }
   ],
   "source": [
    "b.query(\"rij > 10\").shape"
   ]
  },
  {
   "cell_type": "code",
   "execution_count": 122,
   "metadata": {},
   "outputs": [
    {
     "data": {
      "text/plain": [
       "(747, 5)"
      ]
     },
     "execution_count": 122,
     "metadata": {},
     "output_type": "execute_result"
    }
   ],
   "source": [
    "b.query(\"rij > 100\").shape"
   ]
  },
  {
   "cell_type": "code",
   "execution_count": 123,
   "metadata": {},
   "outputs": [
    {
     "data": {
      "text/html": [
       "<div>\n",
       "<style scoped>\n",
       "    .dataframe tbody tr th:only-of-type {\n",
       "        vertical-align: middle;\n",
       "    }\n",
       "\n",
       "    .dataframe tbody tr th {\n",
       "        vertical-align: top;\n",
       "    }\n",
       "\n",
       "    .dataframe thead th {\n",
       "        text-align: right;\n",
       "    }\n",
       "</style>\n",
       "<table border=\"1\" class=\"dataframe\">\n",
       "  <thead>\n",
       "    <tr style=\"text-align: right;\">\n",
       "      <th></th>\n",
       "      <th>Res1_1</th>\n",
       "      <th>Res2_1</th>\n",
       "      <th>Res1_2</th>\n",
       "      <th>Res2_2</th>\n",
       "      <th>rij</th>\n",
       "    </tr>\n",
       "  </thead>\n",
       "  <tbody>\n",
       "    <tr>\n",
       "      <td>18493</td>\n",
       "      <td>SER</td>\n",
       "      <td>ASN</td>\n",
       "      <td>MET</td>\n",
       "      <td>GLY</td>\n",
       "      <td>101</td>\n",
       "    </tr>\n",
       "    <tr>\n",
       "      <td>24920</td>\n",
       "      <td>VAL</td>\n",
       "      <td>LEU</td>\n",
       "      <td>ALA</td>\n",
       "      <td>ALA</td>\n",
       "      <td>101</td>\n",
       "    </tr>\n",
       "    <tr>\n",
       "      <td>18750</td>\n",
       "      <td>SER</td>\n",
       "      <td>GLY</td>\n",
       "      <td>ALA</td>\n",
       "      <td>THR</td>\n",
       "      <td>101</td>\n",
       "    </tr>\n",
       "    <tr>\n",
       "      <td>24527</td>\n",
       "      <td>VAL</td>\n",
       "      <td>GLY</td>\n",
       "      <td>ALA</td>\n",
       "      <td>THR</td>\n",
       "      <td>101</td>\n",
       "    </tr>\n",
       "    <tr>\n",
       "      <td>7517</td>\n",
       "      <td>GLY</td>\n",
       "      <td>SER</td>\n",
       "      <td>THR</td>\n",
       "      <td>VAL</td>\n",
       "      <td>101</td>\n",
       "    </tr>\n",
       "    <tr>\n",
       "      <td>...</td>\n",
       "      <td>...</td>\n",
       "      <td>...</td>\n",
       "      <td>...</td>\n",
       "      <td>...</td>\n",
       "      <td>...</td>\n",
       "    </tr>\n",
       "    <tr>\n",
       "      <td>1168</td>\n",
       "      <td>ALA</td>\n",
       "      <td>LEU</td>\n",
       "      <td>MET</td>\n",
       "      <td>ALA</td>\n",
       "      <td>578</td>\n",
       "    </tr>\n",
       "    <tr>\n",
       "      <td>10063</td>\n",
       "      <td>ILE</td>\n",
       "      <td>THR</td>\n",
       "      <td>ALA</td>\n",
       "      <td>LEU</td>\n",
       "      <td>593</td>\n",
       "    </tr>\n",
       "    <tr>\n",
       "      <td>11830</td>\n",
       "      <td>LEU</td>\n",
       "      <td>LEU</td>\n",
       "      <td>LEU</td>\n",
       "      <td>LEU</td>\n",
       "      <td>652</td>\n",
       "    </tr>\n",
       "    <tr>\n",
       "      <td>22440</td>\n",
       "      <td>TRP</td>\n",
       "      <td>PRO</td>\n",
       "      <td>TRP</td>\n",
       "      <td>ARG</td>\n",
       "      <td>771</td>\n",
       "    </tr>\n",
       "    <tr>\n",
       "      <td>16388</td>\n",
       "      <td>PHE</td>\n",
       "      <td>PHE</td>\n",
       "      <td>ALA</td>\n",
       "      <td>PHE</td>\n",
       "      <td>912</td>\n",
       "    </tr>\n",
       "  </tbody>\n",
       "</table>\n",
       "<p>747 rows × 5 columns</p>\n",
       "</div>"
      ],
      "text/plain": [
       "      Res1_1 Res2_1 Res1_2 Res2_2  rij\n",
       "18493    SER    ASN    MET    GLY  101\n",
       "24920    VAL    LEU    ALA    ALA  101\n",
       "18750    SER    GLY    ALA    THR  101\n",
       "24527    VAL    GLY    ALA    THR  101\n",
       "7517     GLY    SER    THR    VAL  101\n",
       "...      ...    ...    ...    ...  ...\n",
       "1168     ALA    LEU    MET    ALA  578\n",
       "10063    ILE    THR    ALA    LEU  593\n",
       "11830    LEU    LEU    LEU    LEU  652\n",
       "22440    TRP    PRO    TRP    ARG  771\n",
       "16388    PHE    PHE    ALA    PHE  912\n",
       "\n",
       "[747 rows x 5 columns]"
      ]
     },
     "execution_count": 123,
     "metadata": {},
     "output_type": "execute_result"
    }
   ],
   "source": [
    "b.query(\"rij > 100\")"
   ]
  },
  {
   "cell_type": "code",
   "execution_count": 128,
   "metadata": {
    "collapsed": true
   },
   "outputs": [],
   "source": [
    "# reduce the redundant\n",
    "from Bio.PDB.Polypeptide import three_to_index\n",
    "from Bio.PDB.Polypeptide import index_to_three"
   ]
  },
  {
   "cell_type": "code",
   "execution_count": 130,
   "metadata": {
    "collapsed": true
   },
   "outputs": [],
   "source": [
    "b_cutoff = b.query(\"rij > 100\").reset_index(drop=True)"
   ]
  },
  {
   "cell_type": "code",
   "execution_count": 168,
   "metadata": {
    "collapsed": true
   },
   "outputs": [],
   "source": [
    "def get_interaction_index_from_four_residues(Res1_1, Res1_2, Res2_1, Res2_2):\n",
    "    i1 = three_to_index(Res1_1)\n",
    "    i2 = three_to_index(Res1_2)\n",
    "    j1 = three_to_index(Res2_1)\n",
    "    j2 = three_to_index(Res2_2)\n",
    "    ii = i1 * 20 + i2\n",
    "    jj = j1 * 20 + j2\n",
    "    if ii > jj:\n",
    "        return f\"{ii}_{jj}\"\n",
    "    else:\n",
    "        return f\"{jj}_{ii}\"\n",
    "def get_interaction_index(data):\n",
    "    Res1_1 = data[\"Res1_1\"]\n",
    "    Res2_1 = data[\"Res2_1\"]\n",
    "    Res1_2 = data[\"Res1_2\"]\n",
    "    Res2_2 = data[\"Res2_2\"]\n",
    "    get_interaction_index_from_four_residues(Res1_1, Res1_2, Res2_1, Res2_2)"
   ]
  },
  {
   "cell_type": "code",
   "execution_count": 135,
   "metadata": {
    "collapsed": true
   },
   "outputs": [],
   "source": [
    "b_cutoff[\"interaction_index\"] = b_cutoff.apply(get_interaction_index, axis=1)"
   ]
  },
  {
   "cell_type": "code",
   "execution_count": 138,
   "metadata": {},
   "outputs": [
    {
     "data": {
      "text/plain": [
       "(700,)"
      ]
     },
     "execution_count": 138,
     "metadata": {},
     "output_type": "execute_result"
    }
   ],
   "source": [
    "b_cutoff[\"interaction_index\"].unique().shape"
   ]
  },
  {
   "cell_type": "code",
   "execution_count": 140,
   "metadata": {},
   "outputs": [
    {
     "name": "stdout",
     "output_type": "stream",
     "text": [
      "Res1_1 (20,)\n",
      "Res2_1 (20,)\n",
      "Res1_2 (20,)\n",
      "Res2_2 (20,)\n"
     ]
    }
   ],
   "source": [
    "for res in [\"Res1_1\", \"Res2_1\", \"Res1_2\", \"Res2_2\"]:\n",
    "    print(res, b_cutoff[res].unique().shape)"
   ]
  },
  {
   "cell_type": "code",
   "execution_count": 146,
   "metadata": {
    "collapsed": true
   },
   "outputs": [],
   "source": [
    "b_cutoff_unique = b_cutoff.groupby(\"interaction_index\").tail(1)\n",
    "b_cutoff_unique = b_cutoff_unique.reset_index(drop=True)"
   ]
  },
  {
   "cell_type": "code",
   "execution_count": 147,
   "metadata": {},
   "outputs": [
    {
     "data": {
      "text/html": [
       "<div>\n",
       "<style scoped>\n",
       "    .dataframe tbody tr th:only-of-type {\n",
       "        vertical-align: middle;\n",
       "    }\n",
       "\n",
       "    .dataframe tbody tr th {\n",
       "        vertical-align: top;\n",
       "    }\n",
       "\n",
       "    .dataframe thead th {\n",
       "        text-align: right;\n",
       "    }\n",
       "</style>\n",
       "<table border=\"1\" class=\"dataframe\">\n",
       "  <thead>\n",
       "    <tr style=\"text-align: right;\">\n",
       "      <th></th>\n",
       "      <th>Res1_1</th>\n",
       "      <th>Res2_1</th>\n",
       "      <th>Res1_2</th>\n",
       "      <th>Res2_2</th>\n",
       "      <th>rij</th>\n",
       "      <th>interaction_index</th>\n",
       "    </tr>\n",
       "  </thead>\n",
       "  <tbody>\n",
       "    <tr>\n",
       "      <td>0</td>\n",
       "      <td>SER</td>\n",
       "      <td>ASN</td>\n",
       "      <td>MET</td>\n",
       "      <td>GLY</td>\n",
       "      <td>101</td>\n",
       "      <td>310_225</td>\n",
       "    </tr>\n",
       "    <tr>\n",
       "      <td>2</td>\n",
       "      <td>SER</td>\n",
       "      <td>GLY</td>\n",
       "      <td>ALA</td>\n",
       "      <td>THR</td>\n",
       "      <td>101</td>\n",
       "      <td>300_116</td>\n",
       "    </tr>\n",
       "    <tr>\n",
       "      <td>3</td>\n",
       "      <td>VAL</td>\n",
       "      <td>GLY</td>\n",
       "      <td>ALA</td>\n",
       "      <td>THR</td>\n",
       "      <td>101</td>\n",
       "      <td>340_116</td>\n",
       "    </tr>\n",
       "    <tr>\n",
       "      <td>4</td>\n",
       "      <td>GLY</td>\n",
       "      <td>SER</td>\n",
       "      <td>THR</td>\n",
       "      <td>VAL</td>\n",
       "      <td>101</td>\n",
       "      <td>317_116</td>\n",
       "    </tr>\n",
       "    <tr>\n",
       "      <td>5</td>\n",
       "      <td>ALA</td>\n",
       "      <td>HIS</td>\n",
       "      <td>THR</td>\n",
       "      <td>VAL</td>\n",
       "      <td>101</td>\n",
       "      <td>137_16</td>\n",
       "    </tr>\n",
       "    <tr>\n",
       "      <td>...</td>\n",
       "      <td>...</td>\n",
       "      <td>...</td>\n",
       "      <td>...</td>\n",
       "      <td>...</td>\n",
       "      <td>...</td>\n",
       "      <td>...</td>\n",
       "    </tr>\n",
       "    <tr>\n",
       "      <td>742</td>\n",
       "      <td>ALA</td>\n",
       "      <td>LEU</td>\n",
       "      <td>MET</td>\n",
       "      <td>ALA</td>\n",
       "      <td>578</td>\n",
       "      <td>180_10</td>\n",
       "    </tr>\n",
       "    <tr>\n",
       "      <td>743</td>\n",
       "      <td>ILE</td>\n",
       "      <td>THR</td>\n",
       "      <td>ALA</td>\n",
       "      <td>LEU</td>\n",
       "      <td>593</td>\n",
       "      <td>329_140</td>\n",
       "    </tr>\n",
       "    <tr>\n",
       "      <td>744</td>\n",
       "      <td>LEU</td>\n",
       "      <td>LEU</td>\n",
       "      <td>LEU</td>\n",
       "      <td>LEU</td>\n",
       "      <td>652</td>\n",
       "      <td>189_189</td>\n",
       "    </tr>\n",
       "    <tr>\n",
       "      <td>745</td>\n",
       "      <td>TRP</td>\n",
       "      <td>PRO</td>\n",
       "      <td>TRP</td>\n",
       "      <td>ARG</td>\n",
       "      <td>771</td>\n",
       "      <td>378_254</td>\n",
       "    </tr>\n",
       "    <tr>\n",
       "      <td>746</td>\n",
       "      <td>PHE</td>\n",
       "      <td>PHE</td>\n",
       "      <td>ALA</td>\n",
       "      <td>PHE</td>\n",
       "      <td>912</td>\n",
       "      <td>84_80</td>\n",
       "    </tr>\n",
       "  </tbody>\n",
       "</table>\n",
       "<p>700 rows × 6 columns</p>\n",
       "</div>"
      ],
      "text/plain": [
       "    Res1_1 Res2_1 Res1_2 Res2_2  rij interaction_index\n",
       "0      SER    ASN    MET    GLY  101           310_225\n",
       "2      SER    GLY    ALA    THR  101           300_116\n",
       "3      VAL    GLY    ALA    THR  101           340_116\n",
       "4      GLY    SER    THR    VAL  101           317_116\n",
       "5      ALA    HIS    THR    VAL  101            137_16\n",
       "..     ...    ...    ...    ...  ...               ...\n",
       "742    ALA    LEU    MET    ALA  578            180_10\n",
       "743    ILE    THR    ALA    LEU  593           329_140\n",
       "744    LEU    LEU    LEU    LEU  652           189_189\n",
       "745    TRP    PRO    TRP    ARG  771           378_254\n",
       "746    PHE    PHE    ALA    PHE  912             84_80\n",
       "\n",
       "[700 rows x 6 columns]"
      ]
     },
     "execution_count": 147,
     "metadata": {},
     "output_type": "execute_result"
    }
   ],
   "source": [
    "b_cutoff_unique"
   ]
  },
  {
   "cell_type": "code",
   "execution_count": 166,
   "metadata": {
    "collapsed": true
   },
   "outputs": [],
   "source": [
    "def get_interaction_index_from_four_residues(Res1_1, Res1_2, Res2_1, Res2_2):\n",
    "    i1 = three_to_index(Res1_1)\n",
    "    i2 = three_to_index(Res1_2)\n",
    "    j1 = three_to_index(Res2_1)\n",
    "    j2 = three_to_index(Res2_2)\n",
    "    ii = i1 * 20 + i2\n",
    "    jj = j1 * 20 + j2\n",
    "    if ii > jj:\n",
    "        return f\"{ii}_{jj}\"\n",
    "    else:\n",
    "        return f\"{jj}_{ii}\"\n",
    "    \n",
    "b_cutoff_unique = pd.read_csv(\"/Users/weilu/Research/database/interaction_index.csv\", index_col=0)\n",
    "interaction_index_dic = {}\n",
    "for i, index in enumerate(b_cutoff_unique[\"interaction_index\"]):\n",
    "    interaction_index_dic[index] = i"
   ]
  },
  {
   "cell_type": "code",
   "execution_count": 163,
   "metadata": {
    "collapsed": true
   },
   "outputs": [],
   "source": [
    "b_cutoff_unique.to_csv(\"/Users/weilu/Research/database/interaction_index.csv\")"
   ]
  },
  {
   "cell_type": "code",
   "execution_count": null,
   "metadata": {
    "collapsed": true
   },
   "outputs": [],
   "source": [
    "def phi_gxxxg_well(res_list, neighbor_list, parameter_list):\n",
    "    # focus on anti parallel first. (means i to j+4, i+4 to j)\n",
    "    min_seq_sep = 10\n",
    "    r_min = 2.0\n",
    "    r_max = 6.5\n",
    "    kappa = 5\n",
    "    n_parameters = 701\n",
    "    info_list = []\n",
    "    phi_gxxxg_well = np.zeros(n_parameters)\n",
    "    for res1globalindex, res1 in enumerate(res_list):\n",
    "        res1index = get_local_index(res1)\n",
    "        res1chain = get_chain(res1)\n",
    "        for res2 in get_neighbors_within_radius(neighbor_list, res1, r_max+2.0):\n",
    "            res2index = get_local_index(res2)\n",
    "            res2chain = get_chain(res2)\n",
    "            res2globalindex = get_global_index(res_list, res2)\n",
    "\n",
    "            if res2globalindex - res1globalindex >= min_seq_sep or (res1chain != res2chain and res2globalindex > res1globalindex):\n",
    "                res1type = get_res_type(res_list, res1)\n",
    "                res2type = get_res_type(res_list, res2)\n",
    "                rij = get_distance_between_two_residues(res1, res2)\n",
    "                res1_2_globalindex = res1globalindex+4\n",
    "                res2_2_globalindex = res2globalindex-4\n",
    "                res1_2 = get_res_by_globalindex(res_list, res1_2_globalindex, res1chain)\n",
    "                res2_2 = get_res_by_globalindex(res_list, res2_2_globalindex, res1chain)\n",
    "                if res1_2 == -1 or res2_2 == -1:\n",
    "                    continue\n",
    "                rij_2 = get_distance_between_two_residues(res1_2, res2_2)\n",
    "                if rij_2 > (r_max+2):\n",
    "                    continue\n",
    "                info_ = [res1globalindex, res1.resname, res2globalindex, res2.resname, res1_2_globalindex, res1_2.resname, res2_2_globalindex, res2_2.resname, rij, rij_2]\n",
    "                info_list.append(info_)\n",
    "                \n",
    "                interaction_index = get_interaction_index_from_four_residues(res1.resname, res1_2.resname, res2.resname, res2_2.resname)\n",
    "                phi_ = interaction_well(rij, r_min, r_max, kappa) * interaction_well(rij_2, r_min, r_max, kappa)\n",
    "                try:\n",
    "                    index = interaction_index_dic[interaction_index]\n",
    "                    phi_gxxxg_well[index] += phi_\n",
    "                except:\n",
    "                    phi_gxxxg_well[-1] += phi_\n",
    "                # print(info_)\n",
    "    phis_to_return = []\n",
    "    for i in range(n_parameters):\n",
    "        phis_to_return.append(round(phi_gxxxg_well[i],4))\n",
    "    return phis_to_return\n"
   ]
  },
  {
   "cell_type": "code",
   "execution_count": null,
   "metadata": {
    "collapsed": true
   },
   "outputs": [],
   "source": [
    "def get_gxxxg_anti_parallel_data(fileLocation, get_distance_between_two_residues):\n",
    "    structure = parse_pdb(fileLocation)\n",
    "    res_list = get_res_list(structure)\n",
    "    neighbor_list = get_neighbor_list(structure)\n",
    "    sequence = get_sequence_from_structure(structure)\n",
    "    \n",
    "    # database survey on the distribution of GXXXG pairs.\n",
    "    # focus on anti parallel first. (means i to j+4, i+4 to j)\n",
    "    min_seq_sep = 10\n",
    "    r_max = 9.5\n",
    "    info_list = []\n",
    "    for res1globalindex, res1 in enumerate(res_list):\n",
    "        res1index = get_local_index(res1)\n",
    "        res1chain = get_chain(res1)\n",
    "        for res2 in get_neighbors_within_radius(neighbor_list, res1, r_max+2.0):\n",
    "            res2index = get_local_index(res2)\n",
    "            res2chain = get_chain(res2)\n",
    "            res2globalindex = get_global_index(res_list, res2)\n",
    "\n",
    "            if res2globalindex - res1globalindex >= min_seq_sep or (res1chain != res2chain and res2globalindex > res1globalindex):\n",
    "                res1type = get_res_type(res_list, res1)\n",
    "                res2type = get_res_type(res_list, res2)\n",
    "                rij = get_distance_between_two_residues(res1, res2)\n",
    "                res1_2_globalindex = res1globalindex+4\n",
    "                res2_2_globalindex = res2globalindex-4\n",
    "                res1_2 = get_res_by_globalindex(res_list, res1_2_globalindex, res1chain)\n",
    "                res2_2 = get_res_by_globalindex(res_list, res2_2_globalindex, res1chain)\n",
    "                if res1_2 == -1 or res2_2 == -1:\n",
    "                    continue\n",
    "                rij_2 = get_distance_between_two_residues(res1_2, res2_2)\n",
    "                if rij_2 > 9.5:\n",
    "                    continue\n",
    "                info_ = [res1globalindex, res1.resname, res2globalindex, res2.resname, res1_2_globalindex, res1_2.resname, res2_2_globalindex, res2_2.resname, rij, rij_2]\n",
    "                info_list.append(info_)\n",
    "                # print(info_)\n",
    "\n",
    "    data = pd.DataFrame(info_list, columns=[\"Index1_1\", \"Res1_1\", \"Index2_1\", \"Res2_1\", \"Index1_2\", \"Res1_2\", \"Index2_2\", \"Res2_2\", \"rij\", \"rij_2\"])\n",
    "    return data"
   ]
  },
  {
   "cell_type": "code",
   "execution_count": 129,
   "metadata": {},
   "outputs": [
    {
     "name": "stdout",
     "output_type": "stream",
     "text": [
      "ALA\n",
      "CYS\n",
      "ASP\n",
      "GLU\n",
      "PHE\n",
      "GLY\n",
      "HIS\n",
      "ILE\n",
      "LYS\n",
      "LEU\n",
      "MET\n",
      "ASN\n",
      "PRO\n",
      "GLN\n",
      "ARG\n",
      "SER\n",
      "THR\n",
      "VAL\n",
      "TRP\n",
      "TYR\n"
     ]
    }
   ],
   "source": [
    "for i in range(20):\n",
    "    print(index_to_three(i))"
   ]
  },
  {
   "cell_type": "code",
   "execution_count": 127,
   "metadata": {},
   "outputs": [
    {
     "data": {
      "text/plain": [
       "0"
      ]
     },
     "execution_count": 127,
     "metadata": {},
     "output_type": "execute_result"
    }
   ],
   "source": [
    "three_to_index(\"ALA\")"
   ]
  },
  {
   "cell_type": "code",
   "execution_count": 63,
   "metadata": {},
   "outputs": [
    {
     "data": {
      "text/html": [
       "<div>\n",
       "<style scoped>\n",
       "    .dataframe tbody tr th:only-of-type {\n",
       "        vertical-align: middle;\n",
       "    }\n",
       "\n",
       "    .dataframe tbody tr th {\n",
       "        vertical-align: top;\n",
       "    }\n",
       "\n",
       "    .dataframe thead th {\n",
       "        text-align: right;\n",
       "    }\n",
       "</style>\n",
       "<table border=\"1\" class=\"dataframe\">\n",
       "  <thead>\n",
       "    <tr style=\"text-align: right;\">\n",
       "      <th></th>\n",
       "      <th>index</th>\n",
       "      <th>Index1_1</th>\n",
       "      <th>Res1_1</th>\n",
       "      <th>Index2_1</th>\n",
       "      <th>Res2_1</th>\n",
       "      <th>Index1_2</th>\n",
       "      <th>Res1_2</th>\n",
       "      <th>Index2_2</th>\n",
       "      <th>Res2_2</th>\n",
       "      <th>rij</th>\n",
       "      <th>rij_2</th>\n",
       "      <th>Protein</th>\n",
       "    </tr>\n",
       "  </thead>\n",
       "  <tbody>\n",
       "    <tr>\n",
       "      <td>596</td>\n",
       "      <td>6245</td>\n",
       "      <td>67</td>\n",
       "      <td>PHE</td>\n",
       "      <td>89</td>\n",
       "      <td>PHE</td>\n",
       "      <td>71</td>\n",
       "      <td>ALA</td>\n",
       "      <td>85</td>\n",
       "      <td>PHE</td>\n",
       "      <td>5.130413</td>\n",
       "      <td>5.344700</td>\n",
       "      <td>4lmj</td>\n",
       "    </tr>\n",
       "    <tr>\n",
       "      <td>615</td>\n",
       "      <td>6415</td>\n",
       "      <td>171</td>\n",
       "      <td>PHE</td>\n",
       "      <td>192</td>\n",
       "      <td>PHE</td>\n",
       "      <td>175</td>\n",
       "      <td>ALA</td>\n",
       "      <td>188</td>\n",
       "      <td>PHE</td>\n",
       "      <td>5.133391</td>\n",
       "      <td>5.359655</td>\n",
       "      <td>4lmj</td>\n",
       "    </tr>\n",
       "    <tr>\n",
       "      <td>633</td>\n",
       "      <td>6589</td>\n",
       "      <td>273</td>\n",
       "      <td>PHE</td>\n",
       "      <td>295</td>\n",
       "      <td>PHE</td>\n",
       "      <td>277</td>\n",
       "      <td>ALA</td>\n",
       "      <td>291</td>\n",
       "      <td>PHE</td>\n",
       "      <td>5.133659</td>\n",
       "      <td>5.293667</td>\n",
       "      <td>4lmj</td>\n",
       "    </tr>\n",
       "    <tr>\n",
       "      <td>651</td>\n",
       "      <td>6762</td>\n",
       "      <td>376</td>\n",
       "      <td>PHE</td>\n",
       "      <td>398</td>\n",
       "      <td>PHE</td>\n",
       "      <td>380</td>\n",
       "      <td>ALA</td>\n",
       "      <td>394</td>\n",
       "      <td>PHE</td>\n",
       "      <td>5.163421</td>\n",
       "      <td>5.360066</td>\n",
       "      <td>4lmj</td>\n",
       "    </tr>\n",
       "    <tr>\n",
       "      <td>671</td>\n",
       "      <td>6936</td>\n",
       "      <td>481</td>\n",
       "      <td>PHE</td>\n",
       "      <td>503</td>\n",
       "      <td>PHE</td>\n",
       "      <td>485</td>\n",
       "      <td>ALA</td>\n",
       "      <td>499</td>\n",
       "      <td>PHE</td>\n",
       "      <td>5.139779</td>\n",
       "      <td>5.347360</td>\n",
       "      <td>4lmj</td>\n",
       "    </tr>\n",
       "    <tr>\n",
       "      <td>...</td>\n",
       "      <td>...</td>\n",
       "      <td>...</td>\n",
       "      <td>...</td>\n",
       "      <td>...</td>\n",
       "      <td>...</td>\n",
       "      <td>...</td>\n",
       "      <td>...</td>\n",
       "      <td>...</td>\n",
       "      <td>...</td>\n",
       "      <td>...</td>\n",
       "      <td>...</td>\n",
       "      <td>...</td>\n",
       "    </tr>\n",
       "    <tr>\n",
       "      <td>397046</td>\n",
       "      <td>4269123</td>\n",
       "      <td>157</td>\n",
       "      <td>PHE</td>\n",
       "      <td>183</td>\n",
       "      <td>PHE</td>\n",
       "      <td>161</td>\n",
       "      <td>ALA</td>\n",
       "      <td>179</td>\n",
       "      <td>PHE</td>\n",
       "      <td>5.038108</td>\n",
       "      <td>5.086150</td>\n",
       "      <td>4cof</td>\n",
       "    </tr>\n",
       "    <tr>\n",
       "      <td>397070</td>\n",
       "      <td>4269324</td>\n",
       "      <td>255</td>\n",
       "      <td>PHE</td>\n",
       "      <td>281</td>\n",
       "      <td>PHE</td>\n",
       "      <td>259</td>\n",
       "      <td>ALA</td>\n",
       "      <td>277</td>\n",
       "      <td>PHE</td>\n",
       "      <td>5.057173</td>\n",
       "      <td>5.097425</td>\n",
       "      <td>4cof</td>\n",
       "    </tr>\n",
       "    <tr>\n",
       "      <td>397095</td>\n",
       "      <td>4269527</td>\n",
       "      <td>353</td>\n",
       "      <td>PHE</td>\n",
       "      <td>379</td>\n",
       "      <td>PHE</td>\n",
       "      <td>357</td>\n",
       "      <td>ALA</td>\n",
       "      <td>375</td>\n",
       "      <td>PHE</td>\n",
       "      <td>4.856940</td>\n",
       "      <td>5.112073</td>\n",
       "      <td>4cof</td>\n",
       "    </tr>\n",
       "    <tr>\n",
       "      <td>397119</td>\n",
       "      <td>4269734</td>\n",
       "      <td>452</td>\n",
       "      <td>PHE</td>\n",
       "      <td>478</td>\n",
       "      <td>PHE</td>\n",
       "      <td>456</td>\n",
       "      <td>ALA</td>\n",
       "      <td>474</td>\n",
       "      <td>PHE</td>\n",
       "      <td>5.036300</td>\n",
       "      <td>5.065147</td>\n",
       "      <td>4cof</td>\n",
       "    </tr>\n",
       "    <tr>\n",
       "      <td>408765</td>\n",
       "      <td>4396411</td>\n",
       "      <td>303</td>\n",
       "      <td>PHE</td>\n",
       "      <td>313</td>\n",
       "      <td>PHE</td>\n",
       "      <td>307</td>\n",
       "      <td>ALA</td>\n",
       "      <td>309</td>\n",
       "      <td>PHE</td>\n",
       "      <td>5.427133</td>\n",
       "      <td>5.335099</td>\n",
       "      <td>2fec</td>\n",
       "    </tr>\n",
       "  </tbody>\n",
       "</table>\n",
       "<p>912 rows × 12 columns</p>\n",
       "</div>"
      ],
      "text/plain": [
       "          index  Index1_1 Res1_1  Index2_1 Res2_1  Index1_2 Res1_2  Index2_2  \\\n",
       "596        6245        67    PHE        89    PHE        71    ALA        85   \n",
       "615        6415       171    PHE       192    PHE       175    ALA       188   \n",
       "633        6589       273    PHE       295    PHE       277    ALA       291   \n",
       "651        6762       376    PHE       398    PHE       380    ALA       394   \n",
       "671        6936       481    PHE       503    PHE       485    ALA       499   \n",
       "...         ...       ...    ...       ...    ...       ...    ...       ...   \n",
       "397046  4269123       157    PHE       183    PHE       161    ALA       179   \n",
       "397070  4269324       255    PHE       281    PHE       259    ALA       277   \n",
       "397095  4269527       353    PHE       379    PHE       357    ALA       375   \n",
       "397119  4269734       452    PHE       478    PHE       456    ALA       474   \n",
       "408765  4396411       303    PHE       313    PHE       307    ALA       309   \n",
       "\n",
       "       Res2_2       rij     rij_2 Protein  \n",
       "596       PHE  5.130413  5.344700    4lmj  \n",
       "615       PHE  5.133391  5.359655    4lmj  \n",
       "633       PHE  5.133659  5.293667    4lmj  \n",
       "651       PHE  5.163421  5.360066    4lmj  \n",
       "671       PHE  5.139779  5.347360    4lmj  \n",
       "...       ...       ...       ...     ...  \n",
       "397046    PHE  5.038108  5.086150    4cof  \n",
       "397070    PHE  5.057173  5.097425    4cof  \n",
       "397095    PHE  4.856940  5.112073    4cof  \n",
       "397119    PHE  5.036300  5.065147    4cof  \n",
       "408765    PHE  5.427133  5.335099    2fec  \n",
       "\n",
       "[912 rows x 12 columns]"
      ]
     },
     "execution_count": 63,
     "metadata": {},
     "output_type": "execute_result"
    }
   ],
   "source": [
    "data_cutoff.query(\"Res1_1=='PHE' and Res2_1=='PHE' and Res1_2=='ALA' and Res2_2=='PHE'\")"
   ]
  },
  {
   "cell_type": "code",
   "execution_count": 65,
   "metadata": {},
   "outputs": [
    {
     "data": {
      "text/html": [
       "<div>\n",
       "<style scoped>\n",
       "    .dataframe tbody tr th:only-of-type {\n",
       "        vertical-align: middle;\n",
       "    }\n",
       "\n",
       "    .dataframe tbody tr th {\n",
       "        vertical-align: top;\n",
       "    }\n",
       "\n",
       "    .dataframe thead th {\n",
       "        text-align: right;\n",
       "    }\n",
       "</style>\n",
       "<table border=\"1\" class=\"dataframe\">\n",
       "  <thead>\n",
       "    <tr style=\"text-align: right;\">\n",
       "      <th></th>\n",
       "      <th>index</th>\n",
       "      <th>Index1_1</th>\n",
       "      <th>Res1_1</th>\n",
       "      <th>Index2_1</th>\n",
       "      <th>Res2_1</th>\n",
       "      <th>Index1_2</th>\n",
       "      <th>Res1_2</th>\n",
       "      <th>Index2_2</th>\n",
       "      <th>Res2_2</th>\n",
       "      <th>rij</th>\n",
       "      <th>rij_2</th>\n",
       "      <th>Protein</th>\n",
       "    </tr>\n",
       "  </thead>\n",
       "  <tbody>\n",
       "    <tr>\n",
       "      <td>357884</td>\n",
       "      <td>3855309</td>\n",
       "      <td>296</td>\n",
       "      <td>GLY</td>\n",
       "      <td>318</td>\n",
       "      <td>GLY</td>\n",
       "      <td>300</td>\n",
       "      <td>GLY</td>\n",
       "      <td>314</td>\n",
       "      <td>GLY</td>\n",
       "      <td>3.026064</td>\n",
       "      <td>4.078103</td>\n",
       "      <td>3mkt</td>\n",
       "    </tr>\n",
       "    <tr>\n",
       "      <td>76654</td>\n",
       "      <td>837376</td>\n",
       "      <td>453</td>\n",
       "      <td>GLY</td>\n",
       "      <td>498</td>\n",
       "      <td>GLY</td>\n",
       "      <td>457</td>\n",
       "      <td>GLY</td>\n",
       "      <td>494</td>\n",
       "      <td>GLY</td>\n",
       "      <td>5.641916</td>\n",
       "      <td>4.720324</td>\n",
       "      <td>6h2f</td>\n",
       "    </tr>\n",
       "    <tr>\n",
       "      <td>76585</td>\n",
       "      <td>836665</td>\n",
       "      <td>118</td>\n",
       "      <td>GLY</td>\n",
       "      <td>164</td>\n",
       "      <td>GLY</td>\n",
       "      <td>122</td>\n",
       "      <td>GLY</td>\n",
       "      <td>160</td>\n",
       "      <td>GLY</td>\n",
       "      <td>5.507015</td>\n",
       "      <td>4.735941</td>\n",
       "      <td>6h2f</td>\n",
       "    </tr>\n",
       "    <tr>\n",
       "      <td>16862</td>\n",
       "      <td>180586</td>\n",
       "      <td>112</td>\n",
       "      <td>GLY</td>\n",
       "      <td>129</td>\n",
       "      <td>GLY</td>\n",
       "      <td>116</td>\n",
       "      <td>GLY</td>\n",
       "      <td>125</td>\n",
       "      <td>GLY</td>\n",
       "      <td>4.992289</td>\n",
       "      <td>4.841475</td>\n",
       "      <td>4kjp</td>\n",
       "    </tr>\n",
       "    <tr>\n",
       "      <td>268735</td>\n",
       "      <td>2907902</td>\n",
       "      <td>901</td>\n",
       "      <td>GLY</td>\n",
       "      <td>931</td>\n",
       "      <td>GLY</td>\n",
       "      <td>905</td>\n",
       "      <td>GLY</td>\n",
       "      <td>927</td>\n",
       "      <td>GLY</td>\n",
       "      <td>4.849750</td>\n",
       "      <td>5.640655</td>\n",
       "      <td>4hyg</td>\n",
       "    </tr>\n",
       "    <tr>\n",
       "      <td>260327</td>\n",
       "      <td>2817418</td>\n",
       "      <td>208</td>\n",
       "      <td>GLY</td>\n",
       "      <td>236</td>\n",
       "      <td>GLY</td>\n",
       "      <td>212</td>\n",
       "      <td>GLY</td>\n",
       "      <td>232</td>\n",
       "      <td>GLY</td>\n",
       "      <td>5.291325</td>\n",
       "      <td>4.608969</td>\n",
       "      <td>3c1i</td>\n",
       "    </tr>\n",
       "    <tr>\n",
       "      <td>198885</td>\n",
       "      <td>2155416</td>\n",
       "      <td>487</td>\n",
       "      <td>GLY</td>\n",
       "      <td>507</td>\n",
       "      <td>GLY</td>\n",
       "      <td>491</td>\n",
       "      <td>GLY</td>\n",
       "      <td>503</td>\n",
       "      <td>GLY</td>\n",
       "      <td>4.856650</td>\n",
       "      <td>4.930821</td>\n",
       "      <td>4kk5</td>\n",
       "    </tr>\n",
       "    <tr>\n",
       "      <td>76643</td>\n",
       "      <td>837255</td>\n",
       "      <td>396</td>\n",
       "      <td>GLY</td>\n",
       "      <td>441</td>\n",
       "      <td>GLY</td>\n",
       "      <td>400</td>\n",
       "      <td>GLY</td>\n",
       "      <td>437</td>\n",
       "      <td>GLY</td>\n",
       "      <td>5.649156</td>\n",
       "      <td>5.112854</td>\n",
       "      <td>6h2f</td>\n",
       "    </tr>\n",
       "    <tr>\n",
       "      <td>272095</td>\n",
       "      <td>2941635</td>\n",
       "      <td>488</td>\n",
       "      <td>GLY</td>\n",
       "      <td>505</td>\n",
       "      <td>GLY</td>\n",
       "      <td>492</td>\n",
       "      <td>GLY</td>\n",
       "      <td>501</td>\n",
       "      <td>GLY</td>\n",
       "      <td>5.217060</td>\n",
       "      <td>5.052255</td>\n",
       "      <td>4kjq</td>\n",
       "    </tr>\n",
       "    <tr>\n",
       "      <td>226800</td>\n",
       "      <td>2457017</td>\n",
       "      <td>280</td>\n",
       "      <td>GLY</td>\n",
       "      <td>294</td>\n",
       "      <td>GLY</td>\n",
       "      <td>284</td>\n",
       "      <td>GLY</td>\n",
       "      <td>290</td>\n",
       "      <td>GLY</td>\n",
       "      <td>4.506031</td>\n",
       "      <td>5.561304</td>\n",
       "      <td>5xjj</td>\n",
       "    </tr>\n",
       "  </tbody>\n",
       "</table>\n",
       "</div>"
      ],
      "text/plain": [
       "          index  Index1_1 Res1_1  Index2_1 Res2_1  Index1_2 Res1_2  Index2_2  \\\n",
       "357884  3855309       296    GLY       318    GLY       300    GLY       314   \n",
       "76654    837376       453    GLY       498    GLY       457    GLY       494   \n",
       "76585    836665       118    GLY       164    GLY       122    GLY       160   \n",
       "16862    180586       112    GLY       129    GLY       116    GLY       125   \n",
       "268735  2907902       901    GLY       931    GLY       905    GLY       927   \n",
       "260327  2817418       208    GLY       236    GLY       212    GLY       232   \n",
       "198885  2155416       487    GLY       507    GLY       491    GLY       503   \n",
       "76643    837255       396    GLY       441    GLY       400    GLY       437   \n",
       "272095  2941635       488    GLY       505    GLY       492    GLY       501   \n",
       "226800  2457017       280    GLY       294    GLY       284    GLY       290   \n",
       "\n",
       "       Res2_2       rij     rij_2 Protein  \n",
       "357884    GLY  3.026064  4.078103    3mkt  \n",
       "76654     GLY  5.641916  4.720324    6h2f  \n",
       "76585     GLY  5.507015  4.735941    6h2f  \n",
       "16862     GLY  4.992289  4.841475    4kjp  \n",
       "268735    GLY  4.849750  5.640655    4hyg  \n",
       "260327    GLY  5.291325  4.608969    3c1i  \n",
       "198885    GLY  4.856650  4.930821    4kk5  \n",
       "76643     GLY  5.649156  5.112854    6h2f  \n",
       "272095    GLY  5.217060  5.052255    4kjq  \n",
       "226800    GLY  4.506031  5.561304    5xjj  "
      ]
     },
     "execution_count": 65,
     "metadata": {},
     "output_type": "execute_result"
    }
   ],
   "source": [
    "data_cutoff.query(\"Res1_1=='GLY' and Res2_1=='GLY' and Res1_2=='GLY' and Res2_2=='GLY'\").sample(10)"
   ]
  },
  {
   "cell_type": "code",
   "execution_count": 51,
   "metadata": {},
   "outputs": [
    {
     "data": {
      "text/plain": [
       "135981"
      ]
     },
     "execution_count": 51,
     "metadata": {},
     "output_type": "execute_result"
    }
   ],
   "source": [
    "b.query(\"rij > 100\")[\"rij\"].sum()"
   ]
  },
  {
   "cell_type": "code",
   "execution_count": 49,
   "metadata": {},
   "outputs": [
    {
     "name": "stdout",
     "output_type": "stream",
     "text": [
      "Res1_1 (20,)\n",
      "Res2_1 (20,)\n",
      "Res1_2 (20,)\n",
      "Res2_2 (20,)\n"
     ]
    }
   ],
   "source": [
    "for res in [\"Res1_1\", \"Res2_1\", \"Res1_2\", \"Res2_2\"]:\n",
    "    print(res, b[res].unique().shape)"
   ]
  },
  {
   "cell_type": "code",
   "execution_count": 53,
   "metadata": {},
   "outputs": [
    {
     "data": {
      "text/html": [
       "<div>\n",
       "<style scoped>\n",
       "    .dataframe tbody tr th:only-of-type {\n",
       "        vertical-align: middle;\n",
       "    }\n",
       "\n",
       "    .dataframe tbody tr th {\n",
       "        vertical-align: top;\n",
       "    }\n",
       "\n",
       "    .dataframe thead th {\n",
       "        text-align: right;\n",
       "    }\n",
       "</style>\n",
       "<table border=\"1\" class=\"dataframe\">\n",
       "  <thead>\n",
       "    <tr style=\"text-align: right;\">\n",
       "      <th></th>\n",
       "      <th>Res1_1</th>\n",
       "      <th>Res2_1</th>\n",
       "      <th>Res1_2</th>\n",
       "      <th>Res2_2</th>\n",
       "      <th>rij</th>\n",
       "    </tr>\n",
       "  </thead>\n",
       "  <tbody>\n",
       "    <tr>\n",
       "      <td>7457</td>\n",
       "      <td>GLY</td>\n",
       "      <td>SER</td>\n",
       "      <td>GLY</td>\n",
       "      <td>TYR</td>\n",
       "      <td>1</td>\n",
       "    </tr>\n",
       "    <tr>\n",
       "      <td>7452</td>\n",
       "      <td>GLY</td>\n",
       "      <td>SER</td>\n",
       "      <td>GLY</td>\n",
       "      <td>MET</td>\n",
       "      <td>1</td>\n",
       "    </tr>\n",
       "    <tr>\n",
       "      <td>7578</td>\n",
       "      <td>GLY</td>\n",
       "      <td>THR</td>\n",
       "      <td>GLY</td>\n",
       "      <td>ARG</td>\n",
       "      <td>1</td>\n",
       "    </tr>\n",
       "    <tr>\n",
       "      <td>7450</td>\n",
       "      <td>GLY</td>\n",
       "      <td>SER</td>\n",
       "      <td>GLY</td>\n",
       "      <td>ILE</td>\n",
       "      <td>1</td>\n",
       "    </tr>\n",
       "    <tr>\n",
       "      <td>7249</td>\n",
       "      <td>GLY</td>\n",
       "      <td>PHE</td>\n",
       "      <td>GLY</td>\n",
       "      <td>SER</td>\n",
       "      <td>1</td>\n",
       "    </tr>\n",
       "    <tr>\n",
       "      <td>...</td>\n",
       "      <td>...</td>\n",
       "      <td>...</td>\n",
       "      <td>...</td>\n",
       "      <td>...</td>\n",
       "      <td>...</td>\n",
       "    </tr>\n",
       "    <tr>\n",
       "      <td>6671</td>\n",
       "      <td>GLY</td>\n",
       "      <td>GLY</td>\n",
       "      <td>GLY</td>\n",
       "      <td>VAL</td>\n",
       "      <td>136</td>\n",
       "    </tr>\n",
       "    <tr>\n",
       "      <td>6664</td>\n",
       "      <td>GLY</td>\n",
       "      <td>GLY</td>\n",
       "      <td>GLY</td>\n",
       "      <td>LEU</td>\n",
       "      <td>144</td>\n",
       "    </tr>\n",
       "    <tr>\n",
       "      <td>6242</td>\n",
       "      <td>GLY</td>\n",
       "      <td>ALA</td>\n",
       "      <td>GLY</td>\n",
       "      <td>ALA</td>\n",
       "      <td>165</td>\n",
       "    </tr>\n",
       "    <tr>\n",
       "      <td>6972</td>\n",
       "      <td>GLY</td>\n",
       "      <td>LEU</td>\n",
       "      <td>GLY</td>\n",
       "      <td>GLY</td>\n",
       "      <td>172</td>\n",
       "    </tr>\n",
       "    <tr>\n",
       "      <td>6661</td>\n",
       "      <td>GLY</td>\n",
       "      <td>GLY</td>\n",
       "      <td>GLY</td>\n",
       "      <td>GLY</td>\n",
       "      <td>278</td>\n",
       "    </tr>\n",
       "  </tbody>\n",
       "</table>\n",
       "<p>162 rows × 5 columns</p>\n",
       "</div>"
      ],
      "text/plain": [
       "     Res1_1 Res2_1 Res1_2 Res2_2  rij\n",
       "7457    GLY    SER    GLY    TYR    1\n",
       "7452    GLY    SER    GLY    MET    1\n",
       "7578    GLY    THR    GLY    ARG    1\n",
       "7450    GLY    SER    GLY    ILE    1\n",
       "7249    GLY    PHE    GLY    SER    1\n",
       "...     ...    ...    ...    ...  ...\n",
       "6671    GLY    GLY    GLY    VAL  136\n",
       "6664    GLY    GLY    GLY    LEU  144\n",
       "6242    GLY    ALA    GLY    ALA  165\n",
       "6972    GLY    LEU    GLY    GLY  172\n",
       "6661    GLY    GLY    GLY    GLY  278\n",
       "\n",
       "[162 rows x 5 columns]"
      ]
     },
     "execution_count": 53,
     "metadata": {},
     "output_type": "execute_result"
    }
   ],
   "source": [
    "b.query(\"Res1_1=='GLY' and Res1_2=='GLY'\")"
   ]
  },
  {
   "cell_type": "code",
   "execution_count": 54,
   "metadata": {},
   "outputs": [
    {
     "data": {
      "text/plain": [
       "array([[<matplotlib.axes._subplots.AxesSubplot object at 0x13b5e5f28>]],\n",
       "      dtype=object)"
      ]
     },
     "execution_count": 54,
     "metadata": {},
     "output_type": "execute_result"
    },
    {
     "data": {
      "image/png": "[encoded data removed]",
      "text/plain": [
       "<Figure size 720x444.96 with 1 Axes>"
      ]
     },
     "metadata": {},
     "output_type": "display_data"
    }
   ],
   "source": [
    "b.query(\"rij > 100\").hist(\"rij\", bins=100)"
   ]
  },
  {
   "cell_type": "code",
   "execution_count": 28,
   "metadata": {
    "collapsed": true
   },
   "outputs": [],
   "source": [
    "a = data.groupby([\"Res1_1\", \"Res2_1\", \"Res1_2\", \"Res2_2\"])[\"rij\"].count().reset_index().sort_values(\"rij\")"
   ]
  },
  {
   "cell_type": "code",
   "execution_count": 32,
   "metadata": {},
   "outputs": [
    {
     "data": {
      "text/plain": [
       "(101863, 5)"
      ]
     },
     "execution_count": 32,
     "metadata": {},
     "output_type": "execute_result"
    }
   ],
   "source": [
    "a.shape"
   ]
  },
  {
   "cell_type": "code",
   "execution_count": 34,
   "metadata": {},
   "outputs": [
    {
     "data": {
      "text/plain": [
       "(10583, 5)"
      ]
     },
     "execution_count": 34,
     "metadata": {},
     "output_type": "execute_result"
    }
   ],
   "source": [
    "a.query(\"rij > 100\").shape"
   ]
  },
  {
   "cell_type": "code",
   "execution_count": 35,
   "metadata": {},
   "outputs": [
    {
     "data": {
      "text/plain": [
       "(178, 5)"
      ]
     },
     "execution_count": 35,
     "metadata": {},
     "output_type": "execute_result"
    }
   ],
   "source": [
    "a.query(\"rij > 1000\").shape"
   ]
  },
  {
   "cell_type": "code",
   "execution_count": 36,
   "metadata": {},
   "outputs": [
    {
     "data": {
      "text/html": [
       "<div>\n",
       "<style scoped>\n",
       "    .dataframe tbody tr th:only-of-type {\n",
       "        vertical-align: middle;\n",
       "    }\n",
       "\n",
       "    .dataframe tbody tr th {\n",
       "        vertical-align: top;\n",
       "    }\n",
       "\n",
       "    .dataframe thead th {\n",
       "        text-align: right;\n",
       "    }\n",
       "</style>\n",
       "<table border=\"1\" class=\"dataframe\">\n",
       "  <thead>\n",
       "    <tr style=\"text-align: right;\">\n",
       "      <th></th>\n",
       "      <th>Res1_1</th>\n",
       "      <th>Res2_1</th>\n",
       "      <th>Res1_2</th>\n",
       "      <th>Res2_2</th>\n",
       "      <th>rij</th>\n",
       "    </tr>\n",
       "  </thead>\n",
       "  <tbody>\n",
       "    <tr>\n",
       "      <td>30717</td>\n",
       "      <td>GLY</td>\n",
       "      <td>ALA</td>\n",
       "      <td>ILE</td>\n",
       "      <td>ILE</td>\n",
       "      <td>1001</td>\n",
       "    </tr>\n",
       "    <tr>\n",
       "      <td>50243</td>\n",
       "      <td>LEU</td>\n",
       "      <td>LEU</td>\n",
       "      <td>LEU</td>\n",
       "      <td>TYR</td>\n",
       "      <td>1002</td>\n",
       "    </tr>\n",
       "    <tr>\n",
       "      <td>101627</td>\n",
       "      <td>VAL</td>\n",
       "      <td>VAL</td>\n",
       "      <td>GLY</td>\n",
       "      <td>VAL</td>\n",
       "      <td>1002</td>\n",
       "    </tr>\n",
       "    <tr>\n",
       "      <td>43431</td>\n",
       "      <td>ILE</td>\n",
       "      <td>LEU</td>\n",
       "      <td>LEU</td>\n",
       "      <td>ALA</td>\n",
       "      <td>1004</td>\n",
       "    </tr>\n",
       "    <tr>\n",
       "      <td>36704</td>\n",
       "      <td>GLY</td>\n",
       "      <td>VAL</td>\n",
       "      <td>LEU</td>\n",
       "      <td>LEU</td>\n",
       "      <td>1006</td>\n",
       "    </tr>\n",
       "    <tr>\n",
       "      <td>...</td>\n",
       "      <td>...</td>\n",
       "      <td>...</td>\n",
       "      <td>...</td>\n",
       "      <td>...</td>\n",
       "      <td>...</td>\n",
       "    </tr>\n",
       "    <tr>\n",
       "      <td>3509</td>\n",
       "      <td>ALA</td>\n",
       "      <td>LEU</td>\n",
       "      <td>VAL</td>\n",
       "      <td>ALA</td>\n",
       "      <td>2034</td>\n",
       "    </tr>\n",
       "    <tr>\n",
       "      <td>50036</td>\n",
       "      <td>LEU</td>\n",
       "      <td>LEU</td>\n",
       "      <td>ALA</td>\n",
       "      <td>LEU</td>\n",
       "      <td>2072</td>\n",
       "    </tr>\n",
       "    <tr>\n",
       "      <td>50244</td>\n",
       "      <td>LEU</td>\n",
       "      <td>LEU</td>\n",
       "      <td>LEU</td>\n",
       "      <td>VAL</td>\n",
       "      <td>2160</td>\n",
       "    </tr>\n",
       "    <tr>\n",
       "      <td>0</td>\n",
       "      <td>ALA</td>\n",
       "      <td>ALA</td>\n",
       "      <td>ALA</td>\n",
       "      <td>ALA</td>\n",
       "      <td>2428</td>\n",
       "    </tr>\n",
       "    <tr>\n",
       "      <td>50235</td>\n",
       "      <td>LEU</td>\n",
       "      <td>LEU</td>\n",
       "      <td>LEU</td>\n",
       "      <td>LEU</td>\n",
       "      <td>3619</td>\n",
       "    </tr>\n",
       "  </tbody>\n",
       "</table>\n",
       "<p>178 rows × 5 columns</p>\n",
       "</div>"
      ],
      "text/plain": [
       "       Res1_1 Res2_1 Res1_2 Res2_2   rij\n",
       "30717     GLY    ALA    ILE    ILE  1001\n",
       "50243     LEU    LEU    LEU    TYR  1002\n",
       "101627    VAL    VAL    GLY    VAL  1002\n",
       "43431     ILE    LEU    LEU    ALA  1004\n",
       "36704     GLY    VAL    LEU    LEU  1006\n",
       "...       ...    ...    ...    ...   ...\n",
       "3509      ALA    LEU    VAL    ALA  2034\n",
       "50036     LEU    LEU    ALA    LEU  2072\n",
       "50244     LEU    LEU    LEU    VAL  2160\n",
       "0         ALA    ALA    ALA    ALA  2428\n",
       "50235     LEU    LEU    LEU    LEU  3619\n",
       "\n",
       "[178 rows x 5 columns]"
      ]
     },
     "execution_count": 36,
     "metadata": {},
     "output_type": "execute_result"
    }
   ],
   "source": [
    "a.query(\"rij > 1000\")"
   ]
  },
  {
   "cell_type": "code",
   "execution_count": 37,
   "metadata": {},
   "outputs": [
    {
     "data": {
      "text/plain": [
       "array([[<matplotlib.axes._subplots.AxesSubplot object at 0x13b9477b8>]],\n",
       "      dtype=object)"
      ]
     },
     "execution_count": 37,
     "metadata": {},
     "output_type": "execute_result"
    },
    {
     "data": {
      "image/png": "[encoded data removed]",
      "text/plain": [
       "<Figure size 720x444.96 with 1 Axes>"
      ]
     },
     "metadata": {},
     "output_type": "display_data"
    }
   ],
   "source": [
    "a.query(\"rij > 1000\").hist(\"rij\", bins=100)"
   ]
  },
  {
   "cell_type": "code",
   "execution_count": 67,
   "metadata": {
    "collapsed": true
   },
   "outputs": [],
   "source": [
    "# (G)(CAST)(P)(IMLV)(NHQEDRK)(FYW)\n",
    "six_letter_code_letters = {\n",
    "    'I':3,\n",
    "    'M':3,\n",
    "    'L':3,\n",
    "    'V':3,\n",
    "    'F':5,\n",
    "    'Y':5,\n",
    "    'W':5,\n",
    "    'G':0,\n",
    "    'P':2,\n",
    "    'C':1,\n",
    "    'A':1,\n",
    "    'S':1,\n",
    "    'T':1,\n",
    "    'N':4,\n",
    "    'H':4,\n",
    "    'Q':4,\n",
    "    'E':4,\n",
    "    'D':4,\n",
    "    'R':4,\n",
    "    'K':4\n",
    "}\n",
    "\n",
    "pair_index_lookup = {}\n",
    "n = 6\n",
    "count = 0\n",
    "for i in range(n):\n",
    "    for j in range(n):\n",
    "        pair_index_lookup[f\"{i}_{j}\"] = count\n",
    "        count += 1\n",
    "        \n",
    "pair_n = 36\n",
    "count = 0\n",
    "look_up_table = {}\n",
    "for ii in range(pair_n):\n",
    "    for jj in range(ii+1):\n",
    "        look_up_table[f\"{ii}_{jj}\"] = count\n",
    "        look_up_table[f\"{jj}_{ii}\"] = count\n",
    "        count += 1\n",
    "        \n",
    "def get_interaction_index(data, six_letter_code_letters=six_letter_code_letters, \n",
    "                          pair_index_lookup=pair_index_lookup,\n",
    "                          look_up_table=look_up_table):\n",
    "    Res1_1 = data[\"Res1_1\"]\n",
    "    Res2_1 = data[\"Res2_1\"]\n",
    "    Res1_2 = data[\"Res1_2\"]\n",
    "    Res2_2 = data[\"Res2_2\"]\n",
    "    i1 = six_letter_code_letters[three_to_one(Res1_1)]\n",
    "    i2 = six_letter_code_letters[three_to_one(Res1_2)]\n",
    "    j1 = six_letter_code_letters[three_to_one(Res2_1)]\n",
    "    j2 = six_letter_code_letters[three_to_one(Res2_2)]\n",
    "    ii = all_combination[f\"{i1}_{i2}\"]\n",
    "    jj = all_combination[f\"{j1}_{j2}\"]\n",
    "    return look_up_table[f\"{ii}_{jj}\"]"
   ]
  },
  {
   "cell_type": "code",
   "execution_count": 71,
   "metadata": {},
   "outputs": [
    {
     "data": {
      "text/plain": [
       "20"
      ]
     },
     "execution_count": 71,
     "metadata": {},
     "output_type": "execute_result"
    }
   ],
   "source": []
  },
  {
   "cell_type": "code",
   "execution_count": 86,
   "metadata": {
    "collapsed": true
   },
   "outputs": [],
   "source": []
  },
  {
   "cell_type": "code",
   "execution_count": 87,
   "metadata": {
    "collapsed": true
   },
   "outputs": [],
   "source": []
  },
  {
   "cell_type": "code",
   "execution_count": 88,
   "metadata": {
    "collapsed": true
   },
   "outputs": [],
   "source": []
  },
  {
   "cell_type": "code",
   "execution_count": 94,
   "metadata": {},
   "outputs": [
    {
     "data": {
      "text/plain": [
       "0      657\n",
       "1      503\n",
       "2       52\n",
       "3      193\n",
       "4      209\n",
       "      ... \n",
       "995    579\n",
       "996    283\n",
       "997    234\n",
       "998    262\n",
       "999    254\n",
       "Length: 1000, dtype: int64"
      ]
     },
     "execution_count": 94,
     "metadata": {},
     "output_type": "execute_result"
    }
   ],
   "source": [
    "tiny.apply(get_interaction_index, axis=1)"
   ]
  },
  {
   "cell_type": "code",
   "execution_count": 22,
   "metadata": {
    "collapsed": true
   },
   "outputs": [],
   "source": [
    "tiny = data.sample(1000).reset_index(drop=True)"
   ]
  },
  {
   "cell_type": "code",
   "execution_count": 26,
   "metadata": {},
   "outputs": [
    {
     "data": {
      "text/html": [
       "<div>\n",
       "<style scoped>\n",
       "    .dataframe tbody tr th:only-of-type {\n",
       "        vertical-align: middle;\n",
       "    }\n",
       "\n",
       "    .dataframe tbody tr th {\n",
       "        vertical-align: top;\n",
       "    }\n",
       "\n",
       "    .dataframe thead th {\n",
       "        text-align: right;\n",
       "    }\n",
       "</style>\n",
       "<table border=\"1\" class=\"dataframe\">\n",
       "  <thead>\n",
       "    <tr style=\"text-align: right;\">\n",
       "      <th></th>\n",
       "      <th>Res1_1</th>\n",
       "      <th>Res2_1</th>\n",
       "      <th>Res1_2</th>\n",
       "      <th>Res2_2</th>\n",
       "      <th>rij</th>\n",
       "    </tr>\n",
       "  </thead>\n",
       "  <tbody>\n",
       "    <tr>\n",
       "      <td>0</td>\n",
       "      <td>ALA</td>\n",
       "      <td>ALA</td>\n",
       "      <td>ALA</td>\n",
       "      <td>ALA</td>\n",
       "      <td>1</td>\n",
       "    </tr>\n",
       "    <tr>\n",
       "      <td>630</td>\n",
       "      <td>PHE</td>\n",
       "      <td>MET</td>\n",
       "      <td>SER</td>\n",
       "      <td>GLY</td>\n",
       "      <td>1</td>\n",
       "    </tr>\n",
       "    <tr>\n",
       "      <td>631</td>\n",
       "      <td>PHE</td>\n",
       "      <td>MET</td>\n",
       "      <td>VAL</td>\n",
       "      <td>GLY</td>\n",
       "      <td>1</td>\n",
       "    </tr>\n",
       "    <tr>\n",
       "      <td>632</td>\n",
       "      <td>PHE</td>\n",
       "      <td>PHE</td>\n",
       "      <td>ALA</td>\n",
       "      <td>GLN</td>\n",
       "      <td>1</td>\n",
       "    </tr>\n",
       "    <tr>\n",
       "      <td>633</td>\n",
       "      <td>PHE</td>\n",
       "      <td>PHE</td>\n",
       "      <td>ALA</td>\n",
       "      <td>PHE</td>\n",
       "      <td>1</td>\n",
       "    </tr>\n",
       "    <tr>\n",
       "      <td>...</td>\n",
       "      <td>...</td>\n",
       "      <td>...</td>\n",
       "      <td>...</td>\n",
       "      <td>...</td>\n",
       "      <td>...</td>\n",
       "    </tr>\n",
       "    <tr>\n",
       "      <td>898</td>\n",
       "      <td>VAL</td>\n",
       "      <td>GLY</td>\n",
       "      <td>VAL</td>\n",
       "      <td>GLY</td>\n",
       "      <td>2</td>\n",
       "    </tr>\n",
       "    <tr>\n",
       "      <td>911</td>\n",
       "      <td>VAL</td>\n",
       "      <td>LEU</td>\n",
       "      <td>ALA</td>\n",
       "      <td>ALA</td>\n",
       "      <td>2</td>\n",
       "    </tr>\n",
       "    <tr>\n",
       "      <td>104</td>\n",
       "      <td>ALA</td>\n",
       "      <td>TYR</td>\n",
       "      <td>LEU</td>\n",
       "      <td>LEU</td>\n",
       "      <td>2</td>\n",
       "    </tr>\n",
       "    <tr>\n",
       "      <td>202</td>\n",
       "      <td>GLY</td>\n",
       "      <td>ALA</td>\n",
       "      <td>VAL</td>\n",
       "      <td>LEU</td>\n",
       "      <td>3</td>\n",
       "    </tr>\n",
       "    <tr>\n",
       "      <td>682</td>\n",
       "      <td>PRO</td>\n",
       "      <td>LEU</td>\n",
       "      <td>LEU</td>\n",
       "      <td>GLY</td>\n",
       "      <td>3</td>\n",
       "    </tr>\n",
       "  </tbody>\n",
       "</table>\n",
       "<p>964 rows × 5 columns</p>\n",
       "</div>"
      ],
      "text/plain": [
       "    Res1_1 Res2_1 Res1_2 Res2_2  rij\n",
       "0      ALA    ALA    ALA    ALA    1\n",
       "630    PHE    MET    SER    GLY    1\n",
       "631    PHE    MET    VAL    GLY    1\n",
       "632    PHE    PHE    ALA    GLN    1\n",
       "633    PHE    PHE    ALA    PHE    1\n",
       "..     ...    ...    ...    ...  ...\n",
       "898    VAL    GLY    VAL    GLY    2\n",
       "911    VAL    LEU    ALA    ALA    2\n",
       "104    ALA    TYR    LEU    LEU    2\n",
       "202    GLY    ALA    VAL    LEU    3\n",
       "682    PRO    LEU    LEU    GLY    3\n",
       "\n",
       "[964 rows x 5 columns]"
      ]
     },
     "execution_count": 26,
     "metadata": {},
     "output_type": "execute_result"
    }
   ],
   "source": [
    "tiny.groupby([\"Res1_1\", \"Res2_1\", \"Res1_2\", \"Res2_2\"])[\"rij\"].count().reset_index().sort_values(\"rij\")"
   ]
  },
  {
   "cell_type": "code",
   "execution_count": null,
   "metadata": {
    "collapsed": true
   },
   "outputs": [],
   "source": []
  },
  {
   "cell_type": "code",
   "execution_count": 10,
   "metadata": {},
   "outputs": [
    {
     "data": {
      "text/plain": [
       "4159"
      ]
     },
     "execution_count": 10,
     "metadata": {},
     "output_type": "execute_result"
    }
   ],
   "source": [
    "len(pdb_list)"
   ]
  },
  {
   "cell_type": "code",
   "execution_count": 7,
   "metadata": {
    "collapsed": true
   },
   "outputs": [],
   "source": [
    "a = pd.read_csv(\"/Users/weilu/Research/server/jun_week4_2020/alpha_helical_membrane_protein/interaction_info/6uks.csv\")"
   ]
  },
  {
   "cell_type": "code",
   "execution_count": 8,
   "metadata": {},
   "outputs": [
    {
     "data": {
      "text/plain": [
       "0"
      ]
     },
     "execution_count": 8,
     "metadata": {},
     "output_type": "execute_result"
    }
   ],
   "source": [
    "len(a)"
   ]
  },
  {
   "cell_type": "code",
   "execution_count": null,
   "metadata": {
    "collapsed": true
   },
   "outputs": [],
   "source": []
  },
  {
   "cell_type": "code",
   "execution_count": null,
   "metadata": {
    "collapsed": true
   },
   "outputs": [],
   "source": []
  },
  {
   "cell_type": "code",
   "execution_count": null,
   "metadata": {
    "collapsed": true
   },
   "outputs": [],
   "source": []
  },
  {
   "cell_type": "code",
   "execution_count": null,
   "metadata": {
    "collapsed": true
   },
   "outputs": [],
   "source": [
    "get_distance_between_two_residues = get_interaction_distance_com\n",
    "d_list = []\n",
    "for i, pdb in enumerate(pdb_list):\n",
    "    if i % 100 == 0:\n",
    "        print(i, pdb)\n",
    "    fileLocation = f\"/Users/weilu/Research/server/jun_week4_2020/alpha_helical_membrane_protein/membrane_part_only/{pdb}\"\n",
    "    # get_distance_between_two_residues = get_interaction_distance\n",
    "    try:\n",
    "        d_ = get_gxxxg_anti_parallel_data(fileLocation, get_distance_between_two_residues)\n",
    "        d_list.append(d_.assign(Protein=pdb))\n",
    "    except:\n",
    "        print(pdb)"
   ]
  },
  {
   "cell_type": "code",
   "execution_count": 32,
   "metadata": {
    "collapsed": true
   },
   "outputs": [],
   "source": [
    "p_data = pd.read_csv(\"/Users/weilu/Research/server/jun_week4_2020/gxxxg_shuffle_optimization/has_structures_small_dataset_cleaned.csv\")"
   ]
  },
  {
   "cell_type": "code",
   "execution_count": 47,
   "metadata": {
    "collapsed": true
   },
   "outputs": [],
   "source": [
    "pdb_list = p_data[\"Protein\"].values"
   ]
  },
  {
   "cell_type": "code",
   "execution_count": 58,
   "metadata": {
    "collapsed": true
   },
   "outputs": [],
   "source": [
    "get_distance_between_two_residues = get_interaction_distance_com\n",
    "d_list = []\n",
    "for pdb in pdb_list:\n",
    "    fileLocation = f\"/Users/weilu/Research/server/jun_week4_2020/cath_dataset_shuffle_optimization/database/dompdb/{pdb}\"\n",
    "    # get_distance_between_two_residues = get_interaction_distance\n",
    "    d_ = get_gxxxg_anti_parallel_data(fileLocation, get_distance_between_two_residues)\n",
    "    d_list.append(d_.assign(Protein=pdb))"
   ]
  },
  {
   "cell_type": "code",
   "execution_count": 59,
   "metadata": {
    "collapsed": true
   },
   "outputs": [],
   "source": [
    "data = pd.concat(d_list).reset_index(drop=True)"
   ]
  },
  {
   "cell_type": "code",
   "execution_count": 67,
   "metadata": {},
   "outputs": [
    {
     "data": {
      "text/html": [
       "<div>\n",
       "<style scoped>\n",
       "    .dataframe tbody tr th:only-of-type {\n",
       "        vertical-align: middle;\n",
       "    }\n",
       "\n",
       "    .dataframe tbody tr th {\n",
       "        vertical-align: top;\n",
       "    }\n",
       "\n",
       "    .dataframe thead th {\n",
       "        text-align: right;\n",
       "    }\n",
       "</style>\n",
       "<table border=\"1\" class=\"dataframe\">\n",
       "  <thead>\n",
       "    <tr style=\"text-align: right;\">\n",
       "      <th></th>\n",
       "      <th>Res1_1</th>\n",
       "      <th>Res2_1</th>\n",
       "      <th>Res1_2</th>\n",
       "      <th>Res2_2</th>\n",
       "      <th>rij</th>\n",
       "    </tr>\n",
       "  </thead>\n",
       "  <tbody>\n",
       "    <tr>\n",
       "      <td>0</td>\n",
       "      <td>ALA</td>\n",
       "      <td>ALA</td>\n",
       "      <td>ALA</td>\n",
       "      <td>ALA</td>\n",
       "      <td>44</td>\n",
       "    </tr>\n",
       "    <tr>\n",
       "      <td>1</td>\n",
       "      <td>ALA</td>\n",
       "      <td>ALA</td>\n",
       "      <td>ALA</td>\n",
       "      <td>ARG</td>\n",
       "      <td>4</td>\n",
       "    </tr>\n",
       "    <tr>\n",
       "      <td>2</td>\n",
       "      <td>ALA</td>\n",
       "      <td>ALA</td>\n",
       "      <td>ALA</td>\n",
       "      <td>ASN</td>\n",
       "      <td>4</td>\n",
       "    </tr>\n",
       "    <tr>\n",
       "      <td>3</td>\n",
       "      <td>ALA</td>\n",
       "      <td>ALA</td>\n",
       "      <td>ALA</td>\n",
       "      <td>ASP</td>\n",
       "      <td>15</td>\n",
       "    </tr>\n",
       "    <tr>\n",
       "      <td>4</td>\n",
       "      <td>ALA</td>\n",
       "      <td>ALA</td>\n",
       "      <td>ALA</td>\n",
       "      <td>CYS</td>\n",
       "      <td>4</td>\n",
       "    </tr>\n",
       "    <tr>\n",
       "      <td>...</td>\n",
       "      <td>...</td>\n",
       "      <td>...</td>\n",
       "      <td>...</td>\n",
       "      <td>...</td>\n",
       "      <td>...</td>\n",
       "    </tr>\n",
       "    <tr>\n",
       "      <td>66329</td>\n",
       "      <td>VAL</td>\n",
       "      <td>VAL</td>\n",
       "      <td>VAL</td>\n",
       "      <td>SER</td>\n",
       "      <td>3</td>\n",
       "    </tr>\n",
       "    <tr>\n",
       "      <td>66330</td>\n",
       "      <td>VAL</td>\n",
       "      <td>VAL</td>\n",
       "      <td>VAL</td>\n",
       "      <td>THR</td>\n",
       "      <td>2</td>\n",
       "    </tr>\n",
       "    <tr>\n",
       "      <td>66331</td>\n",
       "      <td>VAL</td>\n",
       "      <td>VAL</td>\n",
       "      <td>VAL</td>\n",
       "      <td>TRP</td>\n",
       "      <td>2</td>\n",
       "    </tr>\n",
       "    <tr>\n",
       "      <td>66332</td>\n",
       "      <td>VAL</td>\n",
       "      <td>VAL</td>\n",
       "      <td>VAL</td>\n",
       "      <td>TYR</td>\n",
       "      <td>6</td>\n",
       "    </tr>\n",
       "    <tr>\n",
       "      <td>66333</td>\n",
       "      <td>VAL</td>\n",
       "      <td>VAL</td>\n",
       "      <td>VAL</td>\n",
       "      <td>VAL</td>\n",
       "      <td>10</td>\n",
       "    </tr>\n",
       "  </tbody>\n",
       "</table>\n",
       "<p>66334 rows × 5 columns</p>\n",
       "</div>"
      ],
      "text/plain": [
       "      Res1_1 Res2_1 Res1_2 Res2_2  rij\n",
       "0        ALA    ALA    ALA    ALA   44\n",
       "1        ALA    ALA    ALA    ARG    4\n",
       "2        ALA    ALA    ALA    ASN    4\n",
       "3        ALA    ALA    ALA    ASP   15\n",
       "4        ALA    ALA    ALA    CYS    4\n",
       "...      ...    ...    ...    ...  ...\n",
       "66329    VAL    VAL    VAL    SER    3\n",
       "66330    VAL    VAL    VAL    THR    2\n",
       "66331    VAL    VAL    VAL    TRP    2\n",
       "66332    VAL    VAL    VAL    TYR    6\n",
       "66333    VAL    VAL    VAL    VAL   10\n",
       "\n",
       "[66334 rows x 5 columns]"
      ]
     },
     "execution_count": 67,
     "metadata": {},
     "output_type": "execute_result"
    }
   ],
   "source": [
    "a = data.groupby([\"Res1_1\", \"Res2_1\", \"Res1_2\", \"Res2_2\"])[\"rij\"].count().reset_index()\n",
    "a"
   ]
  },
  {
   "cell_type": "code",
   "execution_count": 68,
   "metadata": {},
   "outputs": [
    {
     "data": {
      "text/html": [
       "<div>\n",
       "<style scoped>\n",
       "    .dataframe tbody tr th:only-of-type {\n",
       "        vertical-align: middle;\n",
       "    }\n",
       "\n",
       "    .dataframe tbody tr th {\n",
       "        vertical-align: top;\n",
       "    }\n",
       "\n",
       "    .dataframe thead th {\n",
       "        text-align: right;\n",
       "    }\n",
       "</style>\n",
       "<table border=\"1\" class=\"dataframe\">\n",
       "  <thead>\n",
       "    <tr style=\"text-align: right;\">\n",
       "      <th></th>\n",
       "      <th>Res1_1</th>\n",
       "      <th>Res2_1</th>\n",
       "      <th>Res1_2</th>\n",
       "      <th>Res2_2</th>\n",
       "      <th>rij</th>\n",
       "    </tr>\n",
       "  </thead>\n",
       "  <tbody>\n",
       "    <tr>\n",
       "      <td>32580</td>\n",
       "      <td>ILE</td>\n",
       "      <td>VAL</td>\n",
       "      <td>LYS</td>\n",
       "      <td>LYS</td>\n",
       "      <td>1</td>\n",
       "    </tr>\n",
       "    <tr>\n",
       "      <td>26865</td>\n",
       "      <td>HIS</td>\n",
       "      <td>GLY</td>\n",
       "      <td>TYR</td>\n",
       "      <td>GLN</td>\n",
       "      <td>1</td>\n",
       "    </tr>\n",
       "    <tr>\n",
       "      <td>26866</td>\n",
       "      <td>HIS</td>\n",
       "      <td>GLY</td>\n",
       "      <td>TYR</td>\n",
       "      <td>ILE</td>\n",
       "      <td>1</td>\n",
       "    </tr>\n",
       "    <tr>\n",
       "      <td>26867</td>\n",
       "      <td>HIS</td>\n",
       "      <td>GLY</td>\n",
       "      <td>TYR</td>\n",
       "      <td>LEU</td>\n",
       "      <td>1</td>\n",
       "    </tr>\n",
       "    <tr>\n",
       "      <td>51091</td>\n",
       "      <td>SER</td>\n",
       "      <td>CYS</td>\n",
       "      <td>THR</td>\n",
       "      <td>PHE</td>\n",
       "      <td>1</td>\n",
       "    </tr>\n",
       "    <tr>\n",
       "      <td>...</td>\n",
       "      <td>...</td>\n",
       "      <td>...</td>\n",
       "      <td>...</td>\n",
       "      <td>...</td>\n",
       "      <td>...</td>\n",
       "    </tr>\n",
       "    <tr>\n",
       "      <td>64280</td>\n",
       "      <td>VAL</td>\n",
       "      <td>LEU</td>\n",
       "      <td>LEU</td>\n",
       "      <td>LEU</td>\n",
       "      <td>68</td>\n",
       "    </tr>\n",
       "    <tr>\n",
       "      <td>35715</td>\n",
       "      <td>LEU</td>\n",
       "      <td>LEU</td>\n",
       "      <td>LEU</td>\n",
       "      <td>ILE</td>\n",
       "      <td>70</td>\n",
       "    </tr>\n",
       "    <tr>\n",
       "      <td>30532</td>\n",
       "      <td>ILE</td>\n",
       "      <td>LEU</td>\n",
       "      <td>LEU</td>\n",
       "      <td>LEU</td>\n",
       "      <td>70</td>\n",
       "    </tr>\n",
       "    <tr>\n",
       "      <td>35725</td>\n",
       "      <td>LEU</td>\n",
       "      <td>LEU</td>\n",
       "      <td>LEU</td>\n",
       "      <td>VAL</td>\n",
       "      <td>76</td>\n",
       "    </tr>\n",
       "    <tr>\n",
       "      <td>35716</td>\n",
       "      <td>LEU</td>\n",
       "      <td>LEU</td>\n",
       "      <td>LEU</td>\n",
       "      <td>LEU</td>\n",
       "      <td>151</td>\n",
       "    </tr>\n",
       "  </tbody>\n",
       "</table>\n",
       "<p>66334 rows × 5 columns</p>\n",
       "</div>"
      ],
      "text/plain": [
       "      Res1_1 Res2_1 Res1_2 Res2_2  rij\n",
       "32580    ILE    VAL    LYS    LYS    1\n",
       "26865    HIS    GLY    TYR    GLN    1\n",
       "26866    HIS    GLY    TYR    ILE    1\n",
       "26867    HIS    GLY    TYR    LEU    1\n",
       "51091    SER    CYS    THR    PHE    1\n",
       "...      ...    ...    ...    ...  ...\n",
       "64280    VAL    LEU    LEU    LEU   68\n",
       "35715    LEU    LEU    LEU    ILE   70\n",
       "30532    ILE    LEU    LEU    LEU   70\n",
       "35725    LEU    LEU    LEU    VAL   76\n",
       "35716    LEU    LEU    LEU    LEU  151\n",
       "\n",
       "[66334 rows x 5 columns]"
      ]
     },
     "execution_count": 68,
     "metadata": {},
     "output_type": "execute_result"
    }
   ],
   "source": [
    "a.sort_values(\"rij\")"
   ]
  },
  {
   "cell_type": "code",
   "execution_count": 75,
   "metadata": {},
   "outputs": [
    {
     "data": {
      "text/html": [
       "<div>\n",
       "<style scoped>\n",
       "    .dataframe tbody tr th:only-of-type {\n",
       "        vertical-align: middle;\n",
       "    }\n",
       "\n",
       "    .dataframe tbody tr th {\n",
       "        vertical-align: top;\n",
       "    }\n",
       "\n",
       "    .dataframe thead th {\n",
       "        text-align: right;\n",
       "    }\n",
       "</style>\n",
       "<table border=\"1\" class=\"dataframe\">\n",
       "  <thead>\n",
       "    <tr style=\"text-align: right;\">\n",
       "      <th></th>\n",
       "      <th>Res1_1</th>\n",
       "      <th>Res2_1</th>\n",
       "      <th>Res1_2</th>\n",
       "      <th>Res2_2</th>\n",
       "      <th>rij</th>\n",
       "    </tr>\n",
       "  </thead>\n",
       "  <tbody>\n",
       "    <tr>\n",
       "      <td>25407</td>\n",
       "      <td>GLY</td>\n",
       "      <td>THR</td>\n",
       "      <td>GLU</td>\n",
       "      <td>GLU</td>\n",
       "      <td>1</td>\n",
       "    </tr>\n",
       "    <tr>\n",
       "      <td>23962</td>\n",
       "      <td>GLY</td>\n",
       "      <td>HIS</td>\n",
       "      <td>GLU</td>\n",
       "      <td>PHE</td>\n",
       "      <td>1</td>\n",
       "    </tr>\n",
       "    <tr>\n",
       "      <td>23961</td>\n",
       "      <td>GLY</td>\n",
       "      <td>HIS</td>\n",
       "      <td>GLU</td>\n",
       "      <td>LYS</td>\n",
       "      <td>1</td>\n",
       "    </tr>\n",
       "    <tr>\n",
       "      <td>23960</td>\n",
       "      <td>GLY</td>\n",
       "      <td>HIS</td>\n",
       "      <td>GLU</td>\n",
       "      <td>GLN</td>\n",
       "      <td>1</td>\n",
       "    </tr>\n",
       "    <tr>\n",
       "      <td>23959</td>\n",
       "      <td>GLY</td>\n",
       "      <td>HIS</td>\n",
       "      <td>GLU</td>\n",
       "      <td>ARG</td>\n",
       "      <td>1</td>\n",
       "    </tr>\n",
       "    <tr>\n",
       "      <td>...</td>\n",
       "      <td>...</td>\n",
       "      <td>...</td>\n",
       "      <td>...</td>\n",
       "      <td>...</td>\n",
       "      <td>...</td>\n",
       "    </tr>\n",
       "    <tr>\n",
       "      <td>25922</td>\n",
       "      <td>GLY</td>\n",
       "      <td>VAL</td>\n",
       "      <td>LEU</td>\n",
       "      <td>LEU</td>\n",
       "      <td>14</td>\n",
       "    </tr>\n",
       "    <tr>\n",
       "      <td>24437</td>\n",
       "      <td>GLY</td>\n",
       "      <td>LEU</td>\n",
       "      <td>LEU</td>\n",
       "      <td>ILE</td>\n",
       "      <td>15</td>\n",
       "    </tr>\n",
       "    <tr>\n",
       "      <td>24153</td>\n",
       "      <td>GLY</td>\n",
       "      <td>ILE</td>\n",
       "      <td>LEU</td>\n",
       "      <td>LEU</td>\n",
       "      <td>16</td>\n",
       "    </tr>\n",
       "    <tr>\n",
       "      <td>24447</td>\n",
       "      <td>GLY</td>\n",
       "      <td>LEU</td>\n",
       "      <td>LEU</td>\n",
       "      <td>VAL</td>\n",
       "      <td>17</td>\n",
       "    </tr>\n",
       "    <tr>\n",
       "      <td>24438</td>\n",
       "      <td>GLY</td>\n",
       "      <td>LEU</td>\n",
       "      <td>LEU</td>\n",
       "      <td>LEU</td>\n",
       "      <td>30</td>\n",
       "    </tr>\n",
       "  </tbody>\n",
       "</table>\n",
       "<p>3514 rows × 5 columns</p>\n",
       "</div>"
      ],
      "text/plain": [
       "      Res1_1 Res2_1 Res1_2 Res2_2  rij\n",
       "25407    GLY    THR    GLU    GLU    1\n",
       "23962    GLY    HIS    GLU    PHE    1\n",
       "23961    GLY    HIS    GLU    LYS    1\n",
       "23960    GLY    HIS    GLU    GLN    1\n",
       "23959    GLY    HIS    GLU    ARG    1\n",
       "...      ...    ...    ...    ...  ...\n",
       "25922    GLY    VAL    LEU    LEU   14\n",
       "24437    GLY    LEU    LEU    ILE   15\n",
       "24153    GLY    ILE    LEU    LEU   16\n",
       "24447    GLY    LEU    LEU    VAL   17\n",
       "24438    GLY    LEU    LEU    LEU   30\n",
       "\n",
       "[3514 rows x 5 columns]"
      ]
     },
     "execution_count": 75,
     "metadata": {},
     "output_type": "execute_result"
    }
   ],
   "source": [
    "a.query(\"Res1_1 =='GLY'\").sort_values(\"rij\")"
   ]
  },
  {
   "cell_type": "code",
   "execution_count": 73,
   "metadata": {},
   "outputs": [
    {
     "data": {
      "text/html": [
       "<div>\n",
       "<style scoped>\n",
       "    .dataframe tbody tr th:only-of-type {\n",
       "        vertical-align: middle;\n",
       "    }\n",
       "\n",
       "    .dataframe tbody tr th {\n",
       "        vertical-align: top;\n",
       "    }\n",
       "\n",
       "    .dataframe thead th {\n",
       "        text-align: right;\n",
       "    }\n",
       "</style>\n",
       "<table border=\"1\" class=\"dataframe\">\n",
       "  <thead>\n",
       "    <tr style=\"text-align: right;\">\n",
       "      <th></th>\n",
       "      <th>Res1_1</th>\n",
       "      <th>Res2_1</th>\n",
       "      <th>Res1_2</th>\n",
       "      <th>Res2_2</th>\n",
       "      <th>rij</th>\n",
       "    </tr>\n",
       "  </thead>\n",
       "  <tbody>\n",
       "    <tr>\n",
       "      <td>0</td>\n",
       "      <td>ALA</td>\n",
       "      <td>ALA</td>\n",
       "      <td>ALA</td>\n",
       "      <td>ALA</td>\n",
       "      <td>44</td>\n",
       "    </tr>\n",
       "    <tr>\n",
       "      <td>2380</td>\n",
       "      <td>ALA</td>\n",
       "      <td>LEU</td>\n",
       "      <td>ALA</td>\n",
       "      <td>ALA</td>\n",
       "      <td>41</td>\n",
       "    </tr>\n",
       "    <tr>\n",
       "      <td>2390</td>\n",
       "      <td>ALA</td>\n",
       "      <td>LEU</td>\n",
       "      <td>ALA</td>\n",
       "      <td>LEU</td>\n",
       "      <td>46</td>\n",
       "    </tr>\n",
       "    <tr>\n",
       "      <td>2569</td>\n",
       "      <td>ALA</td>\n",
       "      <td>LEU</td>\n",
       "      <td>LEU</td>\n",
       "      <td>LEU</td>\n",
       "      <td>66</td>\n",
       "    </tr>\n",
       "    <tr>\n",
       "      <td>6779</td>\n",
       "      <td>ARG</td>\n",
       "      <td>LEU</td>\n",
       "      <td>LEU</td>\n",
       "      <td>LEU</td>\n",
       "      <td>46</td>\n",
       "    </tr>\n",
       "    <tr>\n",
       "      <td>20779</td>\n",
       "      <td>GLU</td>\n",
       "      <td>LEU</td>\n",
       "      <td>LEU</td>\n",
       "      <td>LEU</td>\n",
       "      <td>42</td>\n",
       "    </tr>\n",
       "    <tr>\n",
       "      <td>30211</td>\n",
       "      <td>ILE</td>\n",
       "      <td>ILE</td>\n",
       "      <td>LEU</td>\n",
       "      <td>LEU</td>\n",
       "      <td>45</td>\n",
       "    </tr>\n",
       "    <tr>\n",
       "      <td>30353</td>\n",
       "      <td>ILE</td>\n",
       "      <td>LEU</td>\n",
       "      <td>ALA</td>\n",
       "      <td>LEU</td>\n",
       "      <td>42</td>\n",
       "    </tr>\n",
       "    <tr>\n",
       "      <td>30532</td>\n",
       "      <td>ILE</td>\n",
       "      <td>LEU</td>\n",
       "      <td>LEU</td>\n",
       "      <td>LEU</td>\n",
       "      <td>70</td>\n",
       "    </tr>\n",
       "    <tr>\n",
       "      <td>30541</td>\n",
       "      <td>ILE</td>\n",
       "      <td>LEU</td>\n",
       "      <td>LEU</td>\n",
       "      <td>VAL</td>\n",
       "      <td>47</td>\n",
       "    </tr>\n",
       "    <tr>\n",
       "      <td>32875</td>\n",
       "      <td>LEU</td>\n",
       "      <td>ALA</td>\n",
       "      <td>LEU</td>\n",
       "      <td>ALA</td>\n",
       "      <td>42</td>\n",
       "    </tr>\n",
       "    <tr>\n",
       "      <td>32885</td>\n",
       "      <td>LEU</td>\n",
       "      <td>ALA</td>\n",
       "      <td>LEU</td>\n",
       "      <td>LEU</td>\n",
       "      <td>60</td>\n",
       "    </tr>\n",
       "    <tr>\n",
       "      <td>35352</td>\n",
       "      <td>LEU</td>\n",
       "      <td>ILE</td>\n",
       "      <td>LEU</td>\n",
       "      <td>LEU</td>\n",
       "      <td>62</td>\n",
       "    </tr>\n",
       "    <tr>\n",
       "      <td>35512</td>\n",
       "      <td>LEU</td>\n",
       "      <td>LEU</td>\n",
       "      <td>ALA</td>\n",
       "      <td>ALA</td>\n",
       "      <td>53</td>\n",
       "    </tr>\n",
       "    <tr>\n",
       "      <td>35522</td>\n",
       "      <td>LEU</td>\n",
       "      <td>LEU</td>\n",
       "      <td>ALA</td>\n",
       "      <td>LEU</td>\n",
       "      <td>59</td>\n",
       "    </tr>\n",
       "    <tr>\n",
       "      <td>35696</td>\n",
       "      <td>LEU</td>\n",
       "      <td>LEU</td>\n",
       "      <td>ILE</td>\n",
       "      <td>LEU</td>\n",
       "      <td>66</td>\n",
       "    </tr>\n",
       "    <tr>\n",
       "      <td>35706</td>\n",
       "      <td>LEU</td>\n",
       "      <td>LEU</td>\n",
       "      <td>LEU</td>\n",
       "      <td>ALA</td>\n",
       "      <td>61</td>\n",
       "    </tr>\n",
       "    <tr>\n",
       "      <td>35715</td>\n",
       "      <td>LEU</td>\n",
       "      <td>LEU</td>\n",
       "      <td>LEU</td>\n",
       "      <td>ILE</td>\n",
       "      <td>70</td>\n",
       "    </tr>\n",
       "    <tr>\n",
       "      <td>35716</td>\n",
       "      <td>LEU</td>\n",
       "      <td>LEU</td>\n",
       "      <td>LEU</td>\n",
       "      <td>LEU</td>\n",
       "      <td>151</td>\n",
       "    </tr>\n",
       "    <tr>\n",
       "      <td>35725</td>\n",
       "      <td>LEU</td>\n",
       "      <td>LEU</td>\n",
       "      <td>LEU</td>\n",
       "      <td>VAL</td>\n",
       "      <td>76</td>\n",
       "    </tr>\n",
       "    <tr>\n",
       "      <td>35886</td>\n",
       "      <td>LEU</td>\n",
       "      <td>LEU</td>\n",
       "      <td>VAL</td>\n",
       "      <td>LEU</td>\n",
       "      <td>58</td>\n",
       "    </tr>\n",
       "    <tr>\n",
       "      <td>38256</td>\n",
       "      <td>LEU</td>\n",
       "      <td>VAL</td>\n",
       "      <td>LEU</td>\n",
       "      <td>LEU</td>\n",
       "      <td>64</td>\n",
       "    </tr>\n",
       "    <tr>\n",
       "      <td>46028</td>\n",
       "      <td>PHE</td>\n",
       "      <td>LEU</td>\n",
       "      <td>LEU</td>\n",
       "      <td>LEU</td>\n",
       "      <td>42</td>\n",
       "    </tr>\n",
       "    <tr>\n",
       "      <td>55492</td>\n",
       "      <td>THR</td>\n",
       "      <td>LEU</td>\n",
       "      <td>LEU</td>\n",
       "      <td>LEU</td>\n",
       "      <td>46</td>\n",
       "    </tr>\n",
       "    <tr>\n",
       "      <td>64270</td>\n",
       "      <td>VAL</td>\n",
       "      <td>LEU</td>\n",
       "      <td>LEU</td>\n",
       "      <td>ALA</td>\n",
       "      <td>48</td>\n",
       "    </tr>\n",
       "    <tr>\n",
       "      <td>64280</td>\n",
       "      <td>VAL</td>\n",
       "      <td>LEU</td>\n",
       "      <td>LEU</td>\n",
       "      <td>LEU</td>\n",
       "      <td>68</td>\n",
       "    </tr>\n",
       "  </tbody>\n",
       "</table>\n",
       "</div>"
      ],
      "text/plain": [
       "      Res1_1 Res2_1 Res1_2 Res2_2  rij\n",
       "0        ALA    ALA    ALA    ALA   44\n",
       "2380     ALA    LEU    ALA    ALA   41\n",
       "2390     ALA    LEU    ALA    LEU   46\n",
       "2569     ALA    LEU    LEU    LEU   66\n",
       "6779     ARG    LEU    LEU    LEU   46\n",
       "20779    GLU    LEU    LEU    LEU   42\n",
       "30211    ILE    ILE    LEU    LEU   45\n",
       "30353    ILE    LEU    ALA    LEU   42\n",
       "30532    ILE    LEU    LEU    LEU   70\n",
       "30541    ILE    LEU    LEU    VAL   47\n",
       "32875    LEU    ALA    LEU    ALA   42\n",
       "32885    LEU    ALA    LEU    LEU   60\n",
       "35352    LEU    ILE    LEU    LEU   62\n",
       "35512    LEU    LEU    ALA    ALA   53\n",
       "35522    LEU    LEU    ALA    LEU   59\n",
       "35696    LEU    LEU    ILE    LEU   66\n",
       "35706    LEU    LEU    LEU    ALA   61\n",
       "35715    LEU    LEU    LEU    ILE   70\n",
       "35716    LEU    LEU    LEU    LEU  151\n",
       "35725    LEU    LEU    LEU    VAL   76\n",
       "35886    LEU    LEU    VAL    LEU   58\n",
       "38256    LEU    VAL    LEU    LEU   64\n",
       "46028    PHE    LEU    LEU    LEU   42\n",
       "55492    THR    LEU    LEU    LEU   46\n",
       "64270    VAL    LEU    LEU    ALA   48\n",
       "64280    VAL    LEU    LEU    LEU   68"
      ]
     },
     "execution_count": 73,
     "metadata": {},
     "output_type": "execute_result"
    }
   ],
   "source": [
    "a.query(\"rij > 40\")"
   ]
  },
  {
   "cell_type": "code",
   "execution_count": 72,
   "metadata": {},
   "outputs": [
    {
     "data": {
      "text/plain": [
       "array([[<matplotlib.axes._subplots.AxesSubplot object at 0x12476c2e8>]],\n",
       "      dtype=object)"
      ]
     },
     "execution_count": 72,
     "metadata": {},
     "output_type": "execute_result"
    },
    {
     "data": {
      "image/png": "[encoded data removed]",
      "text/plain": [
       "<Figure size 720x444.96 with 1 Axes>"
      ]
     },
     "metadata": {},
     "output_type": "display_data"
    }
   ],
   "source": [
    "a.query(\"rij > 10\").hist(\"rij\", bins=100)"
   ]
  },
  {
   "cell_type": "code",
   "execution_count": 60,
   "metadata": {
    "scrolled": true
   },
   "outputs": [
    {
     "data": {
      "text/html": [
       "<div>\n",
       "<style scoped>\n",
       "    .dataframe tbody tr th:only-of-type {\n",
       "        vertical-align: middle;\n",
       "    }\n",
       "\n",
       "    .dataframe tbody tr th {\n",
       "        vertical-align: top;\n",
       "    }\n",
       "\n",
       "    .dataframe thead th {\n",
       "        text-align: right;\n",
       "    }\n",
       "</style>\n",
       "<table border=\"1\" class=\"dataframe\">\n",
       "  <thead>\n",
       "    <tr style=\"text-align: right;\">\n",
       "      <th></th>\n",
       "      <th>Index1_1</th>\n",
       "      <th>Res1_1</th>\n",
       "      <th>Index2_1</th>\n",
       "      <th>Res2_1</th>\n",
       "      <th>Index1_2</th>\n",
       "      <th>Res1_2</th>\n",
       "      <th>Index2_2</th>\n",
       "      <th>Res2_2</th>\n",
       "      <th>rij</th>\n",
       "      <th>rij_2</th>\n",
       "      <th>Protein</th>\n",
       "    </tr>\n",
       "  </thead>\n",
       "  <tbody>\n",
       "    <tr>\n",
       "      <td>0</td>\n",
       "      <td>0</td>\n",
       "      <td>ASN</td>\n",
       "      <td>30</td>\n",
       "      <td>TRP</td>\n",
       "      <td>4</td>\n",
       "      <td>ALA</td>\n",
       "      <td>26</td>\n",
       "      <td>LEU</td>\n",
       "      <td>9.896258</td>\n",
       "      <td>4.324449</td>\n",
       "      <td>3b89A01</td>\n",
       "    </tr>\n",
       "    <tr>\n",
       "      <td>1</td>\n",
       "      <td>0</td>\n",
       "      <td>ASN</td>\n",
       "      <td>27</td>\n",
       "      <td>THR</td>\n",
       "      <td>4</td>\n",
       "      <td>ALA</td>\n",
       "      <td>23</td>\n",
       "      <td>ARG</td>\n",
       "      <td>11.182194</td>\n",
       "      <td>9.386137</td>\n",
       "      <td>3b89A01</td>\n",
       "    </tr>\n",
       "    <tr>\n",
       "      <td>2</td>\n",
       "      <td>0</td>\n",
       "      <td>ASN</td>\n",
       "      <td>26</td>\n",
       "      <td>LEU</td>\n",
       "      <td>4</td>\n",
       "      <td>ALA</td>\n",
       "      <td>22</td>\n",
       "      <td>VAL</td>\n",
       "      <td>9.695612</td>\n",
       "      <td>7.971409</td>\n",
       "      <td>3b89A01</td>\n",
       "    </tr>\n",
       "    <tr>\n",
       "      <td>3</td>\n",
       "      <td>1</td>\n",
       "      <td>ILE</td>\n",
       "      <td>23</td>\n",
       "      <td>ARG</td>\n",
       "      <td>5</td>\n",
       "      <td>LEU</td>\n",
       "      <td>19</td>\n",
       "      <td>PRO</td>\n",
       "      <td>5.874432</td>\n",
       "      <td>6.003531</td>\n",
       "      <td>3b89A01</td>\n",
       "    </tr>\n",
       "    <tr>\n",
       "      <td>4</td>\n",
       "      <td>1</td>\n",
       "      <td>ILE</td>\n",
       "      <td>30</td>\n",
       "      <td>TRP</td>\n",
       "      <td>5</td>\n",
       "      <td>LEU</td>\n",
       "      <td>26</td>\n",
       "      <td>LEU</td>\n",
       "      <td>7.363230</td>\n",
       "      <td>6.706841</td>\n",
       "      <td>3b89A01</td>\n",
       "    </tr>\n",
       "    <tr>\n",
       "      <td>...</td>\n",
       "      <td>...</td>\n",
       "      <td>...</td>\n",
       "      <td>...</td>\n",
       "      <td>...</td>\n",
       "      <td>...</td>\n",
       "      <td>...</td>\n",
       "      <td>...</td>\n",
       "      <td>...</td>\n",
       "      <td>...</td>\n",
       "      <td>...</td>\n",
       "      <td>...</td>\n",
       "    </tr>\n",
       "    <tr>\n",
       "      <td>142717</td>\n",
       "      <td>136</td>\n",
       "      <td>SER</td>\n",
       "      <td>147</td>\n",
       "      <td>LEU</td>\n",
       "      <td>140</td>\n",
       "      <td>ASP</td>\n",
       "      <td>143</td>\n",
       "      <td>ILE</td>\n",
       "      <td>10.032258</td>\n",
       "      <td>7.372383</td>\n",
       "      <td>2f6sA00</td>\n",
       "    </tr>\n",
       "    <tr>\n",
       "      <td>142718</td>\n",
       "      <td>150</td>\n",
       "      <td>HIS</td>\n",
       "      <td>164</td>\n",
       "      <td>GLY</td>\n",
       "      <td>154</td>\n",
       "      <td>ASN</td>\n",
       "      <td>160</td>\n",
       "      <td>THR</td>\n",
       "      <td>11.588511</td>\n",
       "      <td>5.193906</td>\n",
       "      <td>2f6sA00</td>\n",
       "    </tr>\n",
       "    <tr>\n",
       "      <td>142719</td>\n",
       "      <td>150</td>\n",
       "      <td>HIS</td>\n",
       "      <td>160</td>\n",
       "      <td>THR</td>\n",
       "      <td>154</td>\n",
       "      <td>ASN</td>\n",
       "      <td>156</td>\n",
       "      <td>ASN</td>\n",
       "      <td>12.843557</td>\n",
       "      <td>7.583080</td>\n",
       "      <td>2f6sA00</td>\n",
       "    </tr>\n",
       "    <tr>\n",
       "      <td>142720</td>\n",
       "      <td>152</td>\n",
       "      <td>SER</td>\n",
       "      <td>162</td>\n",
       "      <td>ILE</td>\n",
       "      <td>156</td>\n",
       "      <td>ASN</td>\n",
       "      <td>158</td>\n",
       "      <td>PRO</td>\n",
       "      <td>14.189913</td>\n",
       "      <td>7.998445</td>\n",
       "      <td>2f6sA00</td>\n",
       "    </tr>\n",
       "    <tr>\n",
       "      <td>142721</td>\n",
       "      <td>154</td>\n",
       "      <td>ASN</td>\n",
       "      <td>164</td>\n",
       "      <td>GLY</td>\n",
       "      <td>158</td>\n",
       "      <td>PRO</td>\n",
       "      <td>160</td>\n",
       "      <td>THR</td>\n",
       "      <td>12.079379</td>\n",
       "      <td>7.648072</td>\n",
       "      <td>2f6sA00</td>\n",
       "    </tr>\n",
       "  </tbody>\n",
       "</table>\n",
       "<p>142722 rows × 11 columns</p>\n",
       "</div>"
      ],
      "text/plain": [
       "       Index1_1 Res1_1 Index2_1 Res2_1 Index1_2 Res1_2 Index2_2 Res2_2  \\\n",
       "0             0    ASN       30    TRP        4    ALA       26    LEU   \n",
       "1             0    ASN       27    THR        4    ALA       23    ARG   \n",
       "2             0    ASN       26    LEU        4    ALA       22    VAL   \n",
       "3             1    ILE       23    ARG        5    LEU       19    PRO   \n",
       "4             1    ILE       30    TRP        5    LEU       26    LEU   \n",
       "...         ...    ...      ...    ...      ...    ...      ...    ...   \n",
       "142717      136    SER      147    LEU      140    ASP      143    ILE   \n",
       "142718      150    HIS      164    GLY      154    ASN      160    THR   \n",
       "142719      150    HIS      160    THR      154    ASN      156    ASN   \n",
       "142720      152    SER      162    ILE      156    ASN      158    PRO   \n",
       "142721      154    ASN      164    GLY      158    PRO      160    THR   \n",
       "\n",
       "              rij     rij_2  Protein  \n",
       "0        9.896258  4.324449  3b89A01  \n",
       "1       11.182194  9.386137  3b89A01  \n",
       "2        9.695612  7.971409  3b89A01  \n",
       "3        5.874432  6.003531  3b89A01  \n",
       "4        7.363230  6.706841  3b89A01  \n",
       "...           ...       ...      ...  \n",
       "142717  10.032258  7.372383  2f6sA00  \n",
       "142718  11.588511  5.193906  2f6sA00  \n",
       "142719  12.843557  7.583080  2f6sA00  \n",
       "142720  14.189913  7.998445  2f6sA00  \n",
       "142721  12.079379  7.648072  2f6sA00  \n",
       "\n",
       "[142722 rows x 11 columns]"
      ]
     },
     "execution_count": 60,
     "metadata": {},
     "output_type": "execute_result"
    }
   ],
   "source": [
    "selected = data.query(\"a\")"
   ]
  },
  {
   "cell_type": "code",
   "execution_count": 61,
   "metadata": {},
   "outputs": [
    {
     "data": {
      "text/plain": [
       "array([[<matplotlib.axes._subplots.AxesSubplot object at 0x12605a208>]],\n",
       "      dtype=object)"
      ]
     },
     "execution_count": 61,
     "metadata": {},
     "output_type": "execute_result"
    },
    {
     "data": {
      "image/png": "[encoded data removed]",
      "text/plain": [
       "<Figure size 720x444.96 with 1 Axes>"
      ]
     },
     "metadata": {},
     "output_type": "display_data"
    }
   ],
   "source": [
    "data.hist(\"rij\")"
   ]
  },
  {
   "cell_type": "code",
   "execution_count": 62,
   "metadata": {},
   "outputs": [
    {
     "data": {
      "text/plain": [
       "array([[<matplotlib.axes._subplots.AxesSubplot object at 0x126017128>]],\n",
       "      dtype=object)"
      ]
     },
     "execution_count": 62,
     "metadata": {},
     "output_type": "execute_result"
    },
    {
     "data": {
      "image/png": "[encoded data removed]",
      "text/plain": [
       "<Figure size 720x444.96 with 1 Axes>"
      ]
     },
     "metadata": {},
     "output_type": "display_data"
    }
   ],
   "source": [
    "data.hist(\"rij_2\")"
   ]
  },
  {
   "cell_type": "markdown",
   "metadata": {},
   "source": [
    "## hello"
   ]
  },
  {
   "cell_type": "code",
   "execution_count": null,
   "metadata": {
    "collapsed": true
   },
   "outputs": [],
   "source": []
  },
  {
   "cell_type": "code",
   "execution_count": null,
   "metadata": {
    "collapsed": true
   },
   "outputs": [],
   "source": [
    "data."
   ]
  },
  {
   "cell_type": "code",
   "execution_count": 44,
   "metadata": {},
   "outputs": [
    {
     "data": {
      "text/html": [
       "<div>\n",
       "<style scoped>\n",
       "    .dataframe tbody tr th:only-of-type {\n",
       "        vertical-align: middle;\n",
       "    }\n",
       "\n",
       "    .dataframe tbody tr th {\n",
       "        vertical-align: top;\n",
       "    }\n",
       "\n",
       "    .dataframe thead th {\n",
       "        text-align: right;\n",
       "    }\n",
       "</style>\n",
       "<table border=\"1\" class=\"dataframe\">\n",
       "  <thead>\n",
       "    <tr style=\"text-align: right;\">\n",
       "      <th></th>\n",
       "      <th>Index1_1</th>\n",
       "      <th>Res1_1</th>\n",
       "      <th>Index2_1</th>\n",
       "      <th>Res2_1</th>\n",
       "      <th>Index1_2</th>\n",
       "      <th>Res1_2</th>\n",
       "      <th>Index2_2</th>\n",
       "      <th>Res2_2</th>\n",
       "      <th>rij</th>\n",
       "      <th>rij_2</th>\n",
       "    </tr>\n",
       "  </thead>\n",
       "  <tbody>\n",
       "    <tr>\n",
       "      <td>0</td>\n",
       "      <td>3</td>\n",
       "      <td>MET</td>\n",
       "      <td>34</td>\n",
       "      <td>TYR</td>\n",
       "      <td>7</td>\n",
       "      <td>ALA</td>\n",
       "      <td>30</td>\n",
       "      <td>MET</td>\n",
       "      <td>5.490308</td>\n",
       "      <td>6.103602</td>\n",
       "    </tr>\n",
       "    <tr>\n",
       "      <td>1</td>\n",
       "      <td>5</td>\n",
       "      <td>TYR</td>\n",
       "      <td>15</td>\n",
       "      <td>VAL</td>\n",
       "      <td>9</td>\n",
       "      <td>VAL</td>\n",
       "      <td>11</td>\n",
       "      <td>ASP</td>\n",
       "      <td>13.919746</td>\n",
       "      <td>9.252665</td>\n",
       "    </tr>\n",
       "    <tr>\n",
       "      <td>2</td>\n",
       "      <td>5</td>\n",
       "      <td>TYR</td>\n",
       "      <td>38</td>\n",
       "      <td>PRO</td>\n",
       "      <td>9</td>\n",
       "      <td>VAL</td>\n",
       "      <td>34</td>\n",
       "      <td>TYR</td>\n",
       "      <td>8.890673</td>\n",
       "      <td>9.190235</td>\n",
       "    </tr>\n",
       "    <tr>\n",
       "      <td>3</td>\n",
       "      <td>6</td>\n",
       "      <td>ASP</td>\n",
       "      <td>33</td>\n",
       "      <td>LEU</td>\n",
       "      <td>10</td>\n",
       "      <td>ILE</td>\n",
       "      <td>29</td>\n",
       "      <td>VAL</td>\n",
       "      <td>12.986689</td>\n",
       "      <td>8.094069</td>\n",
       "    </tr>\n",
       "    <tr>\n",
       "      <td>4</td>\n",
       "      <td>6</td>\n",
       "      <td>ASP</td>\n",
       "      <td>34</td>\n",
       "      <td>TYR</td>\n",
       "      <td>10</td>\n",
       "      <td>ILE</td>\n",
       "      <td>30</td>\n",
       "      <td>MET</td>\n",
       "      <td>7.405823</td>\n",
       "      <td>5.190758</td>\n",
       "    </tr>\n",
       "    <tr>\n",
       "      <td>...</td>\n",
       "      <td>...</td>\n",
       "      <td>...</td>\n",
       "      <td>...</td>\n",
       "      <td>...</td>\n",
       "      <td>...</td>\n",
       "      <td>...</td>\n",
       "      <td>...</td>\n",
       "      <td>...</td>\n",
       "      <td>...</td>\n",
       "      <td>...</td>\n",
       "    </tr>\n",
       "    <tr>\n",
       "      <td>76</td>\n",
       "      <td>33</td>\n",
       "      <td>LEU</td>\n",
       "      <td>47</td>\n",
       "      <td>HIS</td>\n",
       "      <td>37</td>\n",
       "      <td>ASP</td>\n",
       "      <td>43</td>\n",
       "      <td>ALA</td>\n",
       "      <td>9.892477</td>\n",
       "      <td>7.421679</td>\n",
       "    </tr>\n",
       "    <tr>\n",
       "      <td>77</td>\n",
       "      <td>33</td>\n",
       "      <td>LEU</td>\n",
       "      <td>44</td>\n",
       "      <td>VAL</td>\n",
       "      <td>37</td>\n",
       "      <td>ASP</td>\n",
       "      <td>40</td>\n",
       "      <td>ASP</td>\n",
       "      <td>9.874549</td>\n",
       "      <td>7.839120</td>\n",
       "    </tr>\n",
       "    <tr>\n",
       "      <td>78</td>\n",
       "      <td>36</td>\n",
       "      <td>GLY</td>\n",
       "      <td>46</td>\n",
       "      <td>TYR</td>\n",
       "      <td>40</td>\n",
       "      <td>ASP</td>\n",
       "      <td>42</td>\n",
       "      <td>LEU</td>\n",
       "      <td>12.723582</td>\n",
       "      <td>5.257836</td>\n",
       "    </tr>\n",
       "    <tr>\n",
       "      <td>79</td>\n",
       "      <td>37</td>\n",
       "      <td>ASP</td>\n",
       "      <td>47</td>\n",
       "      <td>HIS</td>\n",
       "      <td>41</td>\n",
       "      <td>GLN</td>\n",
       "      <td>43</td>\n",
       "      <td>ALA</td>\n",
       "      <td>12.398187</td>\n",
       "      <td>9.498167</td>\n",
       "    </tr>\n",
       "    <tr>\n",
       "      <td>80</td>\n",
       "      <td>38</td>\n",
       "      <td>PRO</td>\n",
       "      <td>48</td>\n",
       "      <td>LEU</td>\n",
       "      <td>42</td>\n",
       "      <td>LEU</td>\n",
       "      <td>44</td>\n",
       "      <td>VAL</td>\n",
       "      <td>12.524524</td>\n",
       "      <td>8.998909</td>\n",
       "    </tr>\n",
       "  </tbody>\n",
       "</table>\n",
       "<p>81 rows × 10 columns</p>\n",
       "</div>"
      ],
      "text/plain": [
       "    Index1_1 Res1_1  Index2_1 Res2_1  Index1_2 Res1_2  Index2_2 Res2_2  \\\n",
       "0          3    MET        34    TYR         7    ALA        30    MET   \n",
       "1          5    TYR        15    VAL         9    VAL        11    ASP   \n",
       "2          5    TYR        38    PRO         9    VAL        34    TYR   \n",
       "3          6    ASP        33    LEU        10    ILE        29    VAL   \n",
       "4          6    ASP        34    TYR        10    ILE        30    MET   \n",
       "..       ...    ...       ...    ...       ...    ...       ...    ...   \n",
       "76        33    LEU        47    HIS        37    ASP        43    ALA   \n",
       "77        33    LEU        44    VAL        37    ASP        40    ASP   \n",
       "78        36    GLY        46    TYR        40    ASP        42    LEU   \n",
       "79        37    ASP        47    HIS        41    GLN        43    ALA   \n",
       "80        38    PRO        48    LEU        42    LEU        44    VAL   \n",
       "\n",
       "          rij     rij_2  \n",
       "0    5.490308  6.103602  \n",
       "1   13.919746  9.252665  \n",
       "2    8.890673  9.190235  \n",
       "3   12.986689  8.094069  \n",
       "4    7.405823  5.190758  \n",
       "..        ...       ...  \n",
       "76   9.892477  7.421679  \n",
       "77   9.874549  7.839120  \n",
       "78  12.723582  5.257836  \n",
       "79  12.398187  9.498167  \n",
       "80  12.524524  8.998909  \n",
       "\n",
       "[81 rows x 10 columns]"
      ]
     },
     "execution_count": 44,
     "metadata": {},
     "output_type": "execute_result"
    }
   ],
   "source": [
    "fileLocation = \"/Users/weilu/Research/server/jun_week4_2020/cath_dataset_shuffle_optimization/database/dompdb/2ltuA00\"\n",
    "# get_distance_between_two_residues = get_interaction_distance\n",
    "get_distance_between_two_residues = get_interaction_distance_com\n",
    "get_gxxxg_anti_parallel_data(fileLocation, get_distance_between_two_residues)"
   ]
  },
  {
   "cell_type": "code",
   "execution_count": 57,
   "metadata": {
    "collapsed": true
   },
   "outputs": [],
   "source": []
  },
  {
   "cell_type": "code",
   "execution_count": 36,
   "metadata": {
    "collapsed": true
   },
   "outputs": [],
   "source": [
    "input_pdb_filename = \"/Users/weilu/Research/server/jun_week4_2020/cath_dataset_shuffle_optimization/database/dompdb/132lA00\"\n",
    "input_pdb_filename = \"/Users/weilu/Research/server/jun_week4_2020/cath_dataset_shuffle_optimization/database/dompdb/2ltuA00\"\n",
    "\n",
    "\n",
    "\n",
    "structure = parse_pdb(input_pdb_filename)\n",
    "res_list = get_res_list(structure)\n",
    "neighbor_list = get_neighbor_list(structure)\n",
    "sequence = get_sequence_from_structure(structure)"
   ]
  },
  {
   "cell_type": "code",
   "execution_count": 20,
   "metadata": {
    "collapsed": true
   },
   "outputs": [],
   "source": [
    "# database survey on the distribution of GXXXG pairs.\n",
    "# focus on anti parallel first. (means i to j+4, i+4 to j)\n",
    "min_seq_sep = 10\n",
    "r_max = 9.5\n",
    "info_list = []\n",
    "for res1globalindex, res1 in enumerate(res_list):\n",
    "    res1index = get_local_index(res1)\n",
    "    res1chain = get_chain(res1)\n",
    "    rho_i = cb_density[res1globalindex]\n",
    "    for res2 in get_neighbors_within_radius(neighbor_list, res1, r_max+2.0):\n",
    "        res2index = get_local_index(res2)\n",
    "        res2chain = get_chain(res2)\n",
    "        res2globalindex = get_global_index(res_list, res2)\n",
    "        rho_j = cb_density[res2globalindex]\n",
    "        if res2index - res1index >= min_seq_sep or (res1chain != res2chain and res2globalindex > res1globalindex):\n",
    "            res1type = get_res_type(res_list, res1)\n",
    "            res2type = get_res_type(res_list, res2)\n",
    "            rij = get_interaction_distance(res1, res2)\n",
    "            res1_2_globalindex = res1globalindex+4\n",
    "            res2_2_globalindex = res2globalindex-4\n",
    "            res1_2 = get_res_by_globalindex(res_list, res1_2_globalindex, res1chain)\n",
    "            res2_2 = get_res_by_globalindex(res_list, res2_2_globalindex, res1chain)\n",
    "            if res1_2 == -1 or res2_2 == -1:\n",
    "                continue\n",
    "            rij_2 = get_interaction_distance(res1_2, res2_2)\n",
    "            if rij_2 > 9.5:\n",
    "                continue\n",
    "            info_ = [res1globalindex, res1.resname, res2globalindex, res2.resname, res1_2_globalindex, res1_2.resname, res2_2_globalindex, res2_2.resname, rij, rij_2]\n",
    "            info_list.append(info_)\n",
    "            # print(info_)\n",
    "\n"
   ]
  },
  {
   "cell_type": "code",
   "execution_count": 17,
   "metadata": {},
   "outputs": [
    {
     "data": {
      "text/plain": [
       "'A'"
      ]
     },
     "execution_count": 17,
     "metadata": {},
     "output_type": "execute_result"
    }
   ],
   "source": [
    "get_chain(res1)"
   ]
  },
  {
   "cell_type": "code",
   "execution_count": null,
   "metadata": {
    "collapsed": true
   },
   "outputs": [],
   "source": [
    "# the idea is that GXXXG pair.\n",
    "# i, i+4 with j, j+4 or reverse, j+4, j\n",
    "min_seq_sep = 10\n",
    "r_max = 9.5\n",
    "\n",
    "for res1globalindex, res1 in enumerate(res_list):\n",
    "    res1index = get_local_index(res1)\n",
    "    res1chain = get_chain(res1)\n",
    "    rho_i = cb_density[res1globalindex]\n",
    "    for res2 in get_neighbors_within_radius(neighbor_list, res1, r_max+2.0):"
   ]
  },
  {
   "cell_type": "code",
   "execution_count": 10,
   "metadata": {},
   "outputs": [
    {
     "data": {
      "text/plain": [
       "[<Residue VAL het=  resseq=2 icode= >,\n",
       " <Residue PHE het=  resseq=3 icode= >,\n",
       " <Residue GLY het=  resseq=4 icode= >,\n",
       " <Residue ARG het=  resseq=5 icode= >,\n",
       " <Residue CYS het=  resseq=6 icode= >,\n",
       " <Residue GLU het=  resseq=7 icode= >,\n",
       " <Residue LEU het=  resseq=8 icode= >,\n",
       " <Residue ALA het=  resseq=9 icode= >,\n",
       " <Residue ALA het=  resseq=10 icode= >,\n",
       " <Residue ALA het=  resseq=11 icode= >,\n",
       " <Residue MET het=  resseq=12 icode= >,\n",
       " <Residue ARG het=  resseq=14 icode= >,\n",
       " <Residue HIS het=  resseq=15 icode= >,\n",
       " <Residue GLY het=  resseq=16 icode= >,\n",
       " <Residue LEU het=  resseq=17 icode= >,\n",
       " <Residue ASP het=  resseq=18 icode= >,\n",
       " <Residue ASN het=  resseq=19 icode= >,\n",
       " <Residue TYR het=  resseq=20 icode= >,\n",
       " <Residue ARG het=  resseq=21 icode= >,\n",
       " <Residue GLY het=  resseq=22 icode= >,\n",
       " <Residue TYR het=  resseq=23 icode= >,\n",
       " <Residue SER het=  resseq=24 icode= >,\n",
       " <Residue LEU het=  resseq=25 icode= >,\n",
       " <Residue GLY het=  resseq=26 icode= >,\n",
       " <Residue ASN het=  resseq=27 icode= >,\n",
       " <Residue TRP het=  resseq=28 icode= >,\n",
       " <Residue VAL het=  resseq=29 icode= >,\n",
       " <Residue CYS het=  resseq=30 icode= >,\n",
       " <Residue ALA het=  resseq=31 icode= >,\n",
       " <Residue ALA het=  resseq=32 icode= >,\n",
       " <Residue PHE het=  resseq=34 icode= >,\n",
       " <Residue GLU het=  resseq=35 icode= >,\n",
       " <Residue SER het=  resseq=36 icode= >,\n",
       " <Residue ASN het=  resseq=37 icode= >,\n",
       " <Residue PHE het=  resseq=38 icode= >,\n",
       " <Residue ASN het=  resseq=39 icode= >,\n",
       " <Residue THR het=  resseq=40 icode= >,\n",
       " <Residue GLN het=  resseq=41 icode= >,\n",
       " <Residue ALA het=  resseq=42 icode= >,\n",
       " <Residue THR het=  resseq=43 icode= >,\n",
       " <Residue ASN het=  resseq=44 icode= >,\n",
       " <Residue ARG het=  resseq=45 icode= >,\n",
       " <Residue ASN het=  resseq=46 icode= >,\n",
       " <Residue THR het=  resseq=47 icode= >,\n",
       " <Residue ASP het=  resseq=48 icode= >,\n",
       " <Residue GLY het=  resseq=49 icode= >,\n",
       " <Residue SER het=  resseq=50 icode= >,\n",
       " <Residue THR het=  resseq=51 icode= >,\n",
       " <Residue ASP het=  resseq=52 icode= >,\n",
       " <Residue TYR het=  resseq=53 icode= >,\n",
       " <Residue GLY het=  resseq=54 icode= >,\n",
       " <Residue ILE het=  resseq=55 icode= >,\n",
       " <Residue LEU het=  resseq=56 icode= >,\n",
       " <Residue GLN het=  resseq=57 icode= >,\n",
       " <Residue ILE het=  resseq=58 icode= >,\n",
       " <Residue ASN het=  resseq=59 icode= >,\n",
       " <Residue SER het=  resseq=60 icode= >,\n",
       " <Residue ARG het=  resseq=61 icode= >,\n",
       " <Residue TRP het=  resseq=62 icode= >,\n",
       " <Residue TRP het=  resseq=63 icode= >,\n",
       " <Residue CYS het=  resseq=64 icode= >,\n",
       " <Residue ASN het=  resseq=65 icode= >,\n",
       " <Residue ASP het=  resseq=66 icode= >,\n",
       " <Residue GLY het=  resseq=67 icode= >,\n",
       " <Residue ARG het=  resseq=68 icode= >,\n",
       " <Residue THR het=  resseq=69 icode= >,\n",
       " <Residue PRO het=  resseq=70 icode= >,\n",
       " <Residue GLY het=  resseq=71 icode= >,\n",
       " <Residue SER het=  resseq=72 icode= >,\n",
       " <Residue ARG het=  resseq=73 icode= >,\n",
       " <Residue ASN het=  resseq=74 icode= >,\n",
       " <Residue LEU het=  resseq=75 icode= >,\n",
       " <Residue CYS het=  resseq=76 icode= >,\n",
       " <Residue ASN het=  resseq=77 icode= >,\n",
       " <Residue ILE het=  resseq=78 icode= >,\n",
       " <Residue PRO het=  resseq=79 icode= >,\n",
       " <Residue CYS het=  resseq=80 icode= >,\n",
       " <Residue SER het=  resseq=81 icode= >,\n",
       " <Residue ALA het=  resseq=82 icode= >,\n",
       " <Residue LEU het=  resseq=83 icode= >,\n",
       " <Residue LEU het=  resseq=84 icode= >,\n",
       " <Residue SER het=  resseq=85 icode= >,\n",
       " <Residue SER het=  resseq=86 icode= >,\n",
       " <Residue ASP het=  resseq=87 icode= >,\n",
       " <Residue ILE het=  resseq=88 icode= >,\n",
       " <Residue THR het=  resseq=89 icode= >,\n",
       " <Residue ALA het=  resseq=90 icode= >,\n",
       " <Residue SER het=  resseq=91 icode= >,\n",
       " <Residue VAL het=  resseq=92 icode= >,\n",
       " <Residue ASN het=  resseq=93 icode= >,\n",
       " <Residue CYS het=  resseq=94 icode= >,\n",
       " <Residue ALA het=  resseq=95 icode= >,\n",
       " <Residue LYS het=  resseq=97 icode= >,\n",
       " <Residue ILE het=  resseq=98 icode= >,\n",
       " <Residue VAL het=  resseq=99 icode= >,\n",
       " <Residue SER het=  resseq=100 icode= >,\n",
       " <Residue ASP het=  resseq=101 icode= >,\n",
       " <Residue GLY het=  resseq=102 icode= >,\n",
       " <Residue ASN het=  resseq=103 icode= >,\n",
       " <Residue GLY het=  resseq=104 icode= >,\n",
       " <Residue MET het=  resseq=105 icode= >,\n",
       " <Residue ASN het=  resseq=106 icode= >,\n",
       " <Residue ALA het=  resseq=107 icode= >,\n",
       " <Residue TRP het=  resseq=108 icode= >,\n",
       " <Residue VAL het=  resseq=109 icode= >,\n",
       " <Residue ALA het=  resseq=110 icode= >,\n",
       " <Residue TRP het=  resseq=111 icode= >,\n",
       " <Residue ARG het=  resseq=112 icode= >,\n",
       " <Residue ASN het=  resseq=113 icode= >,\n",
       " <Residue ARG het=  resseq=114 icode= >,\n",
       " <Residue CYS het=  resseq=115 icode= >,\n",
       " <Residue GLY het=  resseq=117 icode= >,\n",
       " <Residue THR het=  resseq=118 icode= >,\n",
       " <Residue ASP het=  resseq=119 icode= >,\n",
       " <Residue VAL het=  resseq=120 icode= >,\n",
       " <Residue GLN het=  resseq=121 icode= >,\n",
       " <Residue ALA het=  resseq=122 icode= >,\n",
       " <Residue TRP het=  resseq=123 icode= >,\n",
       " <Residue ILE het=  resseq=124 icode= >,\n",
       " <Residue ARG het=  resseq=125 icode= >,\n",
       " <Residue GLY het=  resseq=126 icode= >,\n",
       " <Residue CYS het=  resseq=127 icode= >,\n",
       " <Residue ARG het=  resseq=128 icode= >,\n",
       " <Residue LEU het=  resseq=129 icode= >]"
      ]
     },
     "execution_count": 10,
     "metadata": {},
     "output_type": "execute_result"
    }
   ],
   "source": [
    "r_min = 6.5\n",
    "r_max = 9.5\n",
    "kappa = 5.0\n",
    "min_seq_sep = 10\n",
    "density_threshold = 2.6\n",
    "density_kappa = 7.0\n",
    "# phi_mediated_contact_well = np.zeros((2, 20,20))\n",
    "v_mediated = 0\n",
    "for res1globalindex, res1 in enumerate(res_list):\n",
    "    res1index = get_local_index(res1)\n",
    "    res1chain = get_chain(res1)\n",
    "    rho_i = cb_density[res1globalindex]\n",
    "    for res2 in get_neighbors_within_radius(neighbor_list, res1, r_max+2.0):\n",
    "        res2index = get_local_index(res2)\n",
    "        res2chain = get_chain(res2)\n",
    "        res2globalindex = get_global_index(res_list, res2)\n",
    "        rho_j = cb_density[res2globalindex]\n",
    "        if res2index - res1index >= min_seq_sep or (res1chain != res2chain and res2globalindex > res1globalindex):\n",
    "            res1type = get_res_type(res_list, res1)\n",
    "            res2type = get_res_type(res_list, res2)\n",
    "            rij = get_interaction_distance(res1, res2)\n",
    "            _pij_protein = prot_water_switchFunc_sigmaProt(\n",
    "                rho_i, rho_j, density_threshold, density_kappa) * protein_gamma_ijm[0][res1type][res2type]\n",
    "            _pij_water = prot_water_switchFunc_sigmaWater(\n",
    "                rho_i, rho_j, density_threshold, density_kappa) * water_gamma_ijm[0][res1type][res2type]\n",
    "            v_mediated += (_pij_protein + _pij_water) * interaction_well(rij, r_min, r_max, kappa)"
   ]
  },
  {
   "cell_type": "code",
   "execution_count": null,
   "metadata": {
    "collapsed": true
   },
   "outputs": [],
   "source": []
  },
  {
   "cell_type": "code",
   "execution_count": 6,
   "metadata": {
    "collapsed": true
   },
   "outputs": [],
   "source": [
    "def read_gamma(gammaFile):\n",
    "    data = np.loadtxt(gammaFile)\n",
    "    gamma_direct = data[:210]\n",
    "    gamma_mediated = data[210:]\n",
    "    return gamma_direct, gamma_mediated\n",
    "gamma_direct, gamma_mediated = read_gamma(\"/Users/weilu/openmmawsem/parameters/gamma.dat\")\n",
    "\n",
    "nwell = 1\n",
    "gamma_ijm = np.zeros((nwell, 20, 20))\n",
    "water_gamma_ijm = np.zeros((nwell, 20, 20))\n",
    "protein_gamma_ijm = np.zeros((nwell, 20, 20))\n",
    "m = 0\n",
    "count = 0\n",
    "for i in range(20):\n",
    "    for j in range(i, 20):\n",
    "        gamma_ijm[m][i][j] = gamma_direct[count][0]\n",
    "        gamma_ijm[m][j][i] = gamma_direct[count][0]\n",
    "        count += 1\n",
    "count = 0\n",
    "for i in range(20):\n",
    "    for j in range(i, 20):\n",
    "        water_gamma_ijm[m][i][j] = gamma_mediated[count][1]\n",
    "        water_gamma_ijm[m][j][i] = gamma_mediated[count][1]\n",
    "        count += 1\n",
    "count = 0\n",
    "for i in range(20):\n",
    "    for j in range(i, 20):\n",
    "        protein_gamma_ijm[m][i][j] = gamma_mediated[count][0]\n",
    "        protein_gamma_ijm[m][j][i] = gamma_mediated[count][0]\n",
    "        count += 1\n",
    "\n"
   ]
  },
  {
   "cell_type": "code",
   "execution_count": 7,
   "metadata": {},
   "outputs": [
    {
     "data": {
      "text/plain": [
       "56.313361170304596"
      ]
     },
     "execution_count": 7,
     "metadata": {},
     "output_type": "execute_result"
    }
   ],
   "source": [
    "\n",
    "    \n",
    "cb_density = calculate_cb_density(res_list, neighbor_list)\n",
    "r_min = 6.5\n",
    "r_max = 9.5\n",
    "kappa = 5.0\n",
    "min_seq_sep = 10\n",
    "density_threshold = 2.6\n",
    "density_kappa = 7.0\n",
    "# phi_mediated_contact_well = np.zeros((2, 20,20))\n",
    "v_mediated = 0\n",
    "for res1globalindex, res1 in enumerate(res_list):\n",
    "    res1index = get_local_index(res1)\n",
    "    res1chain = get_chain(res1)\n",
    "    rho_i = cb_density[res1globalindex]\n",
    "    for res2 in get_neighbors_within_radius(neighbor_list, res1, r_max+2.0):\n",
    "        res2index = get_local_index(res2)\n",
    "        res2chain = get_chain(res2)\n",
    "        res2globalindex = get_global_index(res_list, res2)\n",
    "        rho_j = cb_density[res2globalindex]\n",
    "        if res2index - res1index >= min_seq_sep or (res1chain != res2chain and res2globalindex > res1globalindex):\n",
    "            res1type = get_res_type(res_list, res1)\n",
    "            res2type = get_res_type(res_list, res2)\n",
    "            rij = get_interaction_distance(res1, res2)\n",
    "            _pij_protein = prot_water_switchFunc_sigmaProt(\n",
    "                rho_i, rho_j, density_threshold, density_kappa) * protein_gamma_ijm[0][res1type][res2type]\n",
    "            _pij_water = prot_water_switchFunc_sigmaWater(\n",
    "                rho_i, rho_j, density_threshold, density_kappa) * water_gamma_ijm[0][res1type][res2type]\n",
    "            v_mediated += (_pij_protein + _pij_water) * interaction_well(rij, r_min, r_max, kappa)\n",
    "v_mediated"
   ]
  },
  {
   "cell_type": "code",
   "execution_count": 212,
   "metadata": {
    "collapsed": true
   },
   "outputs": [],
   "source": [
    "t = pd.read_pickle(\"/Users/weilu/Dropbox/openAWSEM/data/openAWSEM_benchmark.pkl\")\n",
    "t[\"time_in_hour\"] = t[\"time\"] / 3600"
   ]
  },
  {
   "cell_type": "code",
   "execution_count": 213,
   "metadata": {},
   "outputs": [
    {
     "data": {
      "text/html": [
       "<div>\n",
       "<style scoped>\n",
       "    .dataframe tbody tr th:only-of-type {\n",
       "        vertical-align: middle;\n",
       "    }\n",
       "\n",
       "    .dataframe tbody tr th {\n",
       "        vertical-align: top;\n",
       "    }\n",
       "\n",
       "    .dataframe thead th {\n",
       "        text-align: right;\n",
       "    }\n",
       "</style>\n",
       "<table border=\"1\" class=\"dataframe\">\n",
       "  <thead>\n",
       "    <tr style=\"text-align: right;\">\n",
       "      <th></th>\n",
       "      <th>Name</th>\n",
       "      <th>Length</th>\n",
       "      <th>Temperature</th>\n",
       "      <th>Terms</th>\n",
       "      <th>Step</th>\n",
       "      <th>Average/million</th>\n",
       "      <th>Run</th>\n",
       "      <th>Time</th>\n",
       "      <th>Step_in_millions</th>\n",
       "      <th>time</th>\n",
       "      <th>Scheme</th>\n",
       "      <th>time_in_hour</th>\n",
       "    </tr>\n",
       "  </thead>\n",
       "  <tbody>\n",
       "    <tr>\n",
       "      <td>0</td>\n",
       "      <td>6btc</td>\n",
       "      <td>96</td>\n",
       "      <td>600-200</td>\n",
       "      <td>Full</td>\n",
       "      <td>4million</td>\n",
       "      <td>3736.86</td>\n",
       "      <td>Time1</td>\n",
       "      <td>14684.9</td>\n",
       "      <td>4.00</td>\n",
       "      <td>3671.225000</td>\n",
       "      <td>LAMMPS</td>\n",
       "      <td>1.019785</td>\n",
       "    </tr>\n",
       "    <tr>\n",
       "      <td>1</td>\n",
       "      <td>6btc</td>\n",
       "      <td>96</td>\n",
       "      <td>NaN</td>\n",
       "      <td>NaN</td>\n",
       "      <td>NaN</td>\n",
       "      <td>NaN</td>\n",
       "      <td>4</td>\n",
       "      <td>NaN</td>\n",
       "      <td>NaN</td>\n",
       "      <td>670.092396</td>\n",
       "      <td>openMM</td>\n",
       "      <td>0.186137</td>\n",
       "    </tr>\n",
       "    <tr>\n",
       "      <td>2</td>\n",
       "      <td>6btc</td>\n",
       "      <td>96</td>\n",
       "      <td>NaN</td>\n",
       "      <td>NaN</td>\n",
       "      <td>NaN</td>\n",
       "      <td>NaN</td>\n",
       "      <td>3</td>\n",
       "      <td>NaN</td>\n",
       "      <td>NaN</td>\n",
       "      <td>759.019701</td>\n",
       "      <td>openMM</td>\n",
       "      <td>0.210839</td>\n",
       "    </tr>\n",
       "    <tr>\n",
       "      <td>3</td>\n",
       "      <td>6btc</td>\n",
       "      <td>96</td>\n",
       "      <td>NaN</td>\n",
       "      <td>NaN</td>\n",
       "      <td>NaN</td>\n",
       "      <td>NaN</td>\n",
       "      <td>2</td>\n",
       "      <td>NaN</td>\n",
       "      <td>NaN</td>\n",
       "      <td>667.627907</td>\n",
       "      <td>openMM</td>\n",
       "      <td>0.185452</td>\n",
       "    </tr>\n",
       "    <tr>\n",
       "      <td>4</td>\n",
       "      <td>6btc</td>\n",
       "      <td>96</td>\n",
       "      <td>NaN</td>\n",
       "      <td>NaN</td>\n",
       "      <td>NaN</td>\n",
       "      <td>NaN</td>\n",
       "      <td>1</td>\n",
       "      <td>NaN</td>\n",
       "      <td>NaN</td>\n",
       "      <td>647.193840</td>\n",
       "      <td>openMM</td>\n",
       "      <td>0.179776</td>\n",
       "    </tr>\n",
       "    <tr>\n",
       "      <td>...</td>\n",
       "      <td>...</td>\n",
       "      <td>...</td>\n",
       "      <td>...</td>\n",
       "      <td>...</td>\n",
       "      <td>...</td>\n",
       "      <td>...</td>\n",
       "      <td>...</td>\n",
       "      <td>...</td>\n",
       "      <td>...</td>\n",
       "      <td>...</td>\n",
       "      <td>...</td>\n",
       "      <td>...</td>\n",
       "    </tr>\n",
       "    <tr>\n",
       "      <td>127</td>\n",
       "      <td>6n7n</td>\n",
       "      <td>1716</td>\n",
       "      <td>NaN</td>\n",
       "      <td>NaN</td>\n",
       "      <td>NaN</td>\n",
       "      <td>NaN</td>\n",
       "      <td>0</td>\n",
       "      <td>NaN</td>\n",
       "      <td>NaN</td>\n",
       "      <td>3568.557566</td>\n",
       "      <td>openMM</td>\n",
       "      <td>0.991266</td>\n",
       "    </tr>\n",
       "    <tr>\n",
       "      <td>128</td>\n",
       "      <td>6n7n</td>\n",
       "      <td>1716</td>\n",
       "      <td>NaN</td>\n",
       "      <td>NaN</td>\n",
       "      <td>NaN</td>\n",
       "      <td>NaN</td>\n",
       "      <td>4</td>\n",
       "      <td>NaN</td>\n",
       "      <td>NaN</td>\n",
       "      <td>3574.862819</td>\n",
       "      <td>openMM</td>\n",
       "      <td>0.993017</td>\n",
       "    </tr>\n",
       "    <tr>\n",
       "      <td>129</td>\n",
       "      <td>6n7n</td>\n",
       "      <td>1716</td>\n",
       "      <td>NaN</td>\n",
       "      <td>NaN</td>\n",
       "      <td>NaN</td>\n",
       "      <td>NaN</td>\n",
       "      <td>3</td>\n",
       "      <td>NaN</td>\n",
       "      <td>NaN</td>\n",
       "      <td>3469.362383</td>\n",
       "      <td>openMM</td>\n",
       "      <td>0.963712</td>\n",
       "    </tr>\n",
       "    <tr>\n",
       "      <td>130</td>\n",
       "      <td>6n7n</td>\n",
       "      <td>1716</td>\n",
       "      <td>NaN</td>\n",
       "      <td>NaN</td>\n",
       "      <td>NaN</td>\n",
       "      <td>NaN</td>\n",
       "      <td>1</td>\n",
       "      <td>NaN</td>\n",
       "      <td>NaN</td>\n",
       "      <td>3486.096248</td>\n",
       "      <td>openMM</td>\n",
       "      <td>0.968360</td>\n",
       "    </tr>\n",
       "    <tr>\n",
       "      <td>131</td>\n",
       "      <td>6n7n</td>\n",
       "      <td>1716</td>\n",
       "      <td>300-300</td>\n",
       "      <td>no HO/ER</td>\n",
       "      <td>0.05million</td>\n",
       "      <td>747514.00</td>\n",
       "      <td>Time4</td>\n",
       "      <td>38737.2</td>\n",
       "      <td>0.05</td>\n",
       "      <td>774744.000000</td>\n",
       "      <td>LAMMPS</td>\n",
       "      <td>215.206667</td>\n",
       "    </tr>\n",
       "  </tbody>\n",
       "</table>\n",
       "<p>132 rows × 12 columns</p>\n",
       "</div>"
      ],
      "text/plain": [
       "     Name  Length Temperature     Terms         Step  Average/million    Run  \\\n",
       "0    6btc      96     600-200      Full     4million          3736.86  Time1   \n",
       "1    6btc      96         NaN       NaN          NaN              NaN      4   \n",
       "2    6btc      96         NaN       NaN          NaN              NaN      3   \n",
       "3    6btc      96         NaN       NaN          NaN              NaN      2   \n",
       "4    6btc      96         NaN       NaN          NaN              NaN      1   \n",
       "..    ...     ...         ...       ...          ...              ...    ...   \n",
       "127  6n7n    1716         NaN       NaN          NaN              NaN      0   \n",
       "128  6n7n    1716         NaN       NaN          NaN              NaN      4   \n",
       "129  6n7n    1716         NaN       NaN          NaN              NaN      3   \n",
       "130  6n7n    1716         NaN       NaN          NaN              NaN      1   \n",
       "131  6n7n    1716     300-300  no HO/ER  0.05million        747514.00  Time4   \n",
       "\n",
       "        Time  Step_in_millions           time  Scheme  time_in_hour  \n",
       "0    14684.9              4.00    3671.225000  LAMMPS      1.019785  \n",
       "1        NaN               NaN     670.092396  openMM      0.186137  \n",
       "2        NaN               NaN     759.019701  openMM      0.210839  \n",
       "3        NaN               NaN     667.627907  openMM      0.185452  \n",
       "4        NaN               NaN     647.193840  openMM      0.179776  \n",
       "..       ...               ...            ...     ...           ...  \n",
       "127      NaN               NaN    3568.557566  openMM      0.991266  \n",
       "128      NaN               NaN    3574.862819  openMM      0.993017  \n",
       "129      NaN               NaN    3469.362383  openMM      0.963712  \n",
       "130      NaN               NaN    3486.096248  openMM      0.968360  \n",
       "131  38737.2              0.05  774744.000000  LAMMPS    215.206667  \n",
       "\n",
       "[132 rows x 12 columns]"
      ]
     },
     "execution_count": 213,
     "metadata": {},
     "output_type": "execute_result"
    }
   ],
   "source": [
    "t"
   ]
  },
  {
   "cell_type": "code",
   "execution_count": 214,
   "metadata": {
    "collapsed": true
   },
   "outputs": [],
   "source": [
    "from sklearn.linear_model import LinearRegression\n",
    "data_lammps = t.query(\"Scheme == 'LAMMPS'\")\n",
    "y = data_lammps.time_in_hour.values\n",
    "X = data_lammps.Length.values\n",
    "coefs = np.polynomial.polynomial.polyfit(X, y, 2)\n",
    "ffit = np.polynomial.polynomial.Polynomial(coefs)"
   ]
  },
  {
   "cell_type": "code",
   "execution_count": 215,
   "metadata": {},
   "outputs": [
    {
     "data": {
      "text/plain": [
       "208.8227218855068"
      ]
     },
     "execution_count": 215,
     "metadata": {},
     "output_type": "execute_result"
    }
   ],
   "source": [
    "ffit(1716)"
   ]
  },
  {
   "cell_type": "code",
   "execution_count": 216,
   "metadata": {},
   "outputs": [
    {
     "data": {
      "text/plain": [
       "1152.3896116698206"
      ]
     },
     "execution_count": 216,
     "metadata": {},
     "output_type": "execute_result"
    }
   ],
   "source": [
    "ffit(3964)"
   ]
  },
  {
   "cell_type": "code",
   "execution_count": 219,
   "metadata": {},
   "outputs": [
    {
     "data": {
      "text/plain": [
       "104.13144893428807"
      ]
     },
     "execution_count": 219,
     "metadata": {},
     "output_type": "execute_result"
    }
   ],
   "source": [
    "24/ffit(3964) * 5 * 1000"
   ]
  },
  {
   "cell_type": "code",
   "execution_count": null,
   "metadata": {
    "collapsed": true
   },
   "outputs": [],
   "source": []
  },
  {
   "cell_type": "code",
   "execution_count": null,
   "metadata": {
    "collapsed": true
   },
   "outputs": [],
   "source": [
    "51e-6"
   ]
  },
  {
   "cell_type": "code",
   "execution_count": null,
   "metadata": {
    "collapsed": true
   },
   "outputs": [],
   "source": [
    "5"
   ]
  }
 ],
 "metadata": {
  "kernelspec": {
   "display_name": "Python 3",
   "language": "python",
   "name": "python3"
  },
  "language_info": {
   "codemirror_mode": {
    "name": "ipython",
    "version": 3
   },
   "file_extension": ".py",
   "mimetype": "text/x-python",
   "name": "python",
   "nbconvert_exporter": "python",
   "pygments_lexer": "ipython3",
   "version": "3.6.7"
  }
 },
 "nbformat": 4,
 "nbformat_minor": 2
}
