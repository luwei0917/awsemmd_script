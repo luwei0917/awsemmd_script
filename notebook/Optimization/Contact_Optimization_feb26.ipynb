{
 "cells": [
  {
   "cell_type": "code",
   "execution_count": 1,
   "metadata": {},
   "outputs": [],
   "source": [
    "from pyCodeLib import *\n",
    "import warnings\n",
    "import glob\n",
    "import re\n",
    "import numpy as np\n",
    "import pandas as pd\n",
    "from Bio.PDB.Polypeptide import one_to_three\n",
    "\n",
    "warnings.filterwarnings('ignore')\n",
    "\n",
    "\n",
    "# sys.path.insert(0, MYHOME)\n",
    "%load_ext autoreload\n",
    "%autoreload 2"
   ]
  },
  {
   "cell_type": "code",
   "execution_count": 2,
   "metadata": {},
   "outputs": [],
   "source": [
    "# plt.rcParams['figure.figsize'] = [16.18033, 10]\n",
    "plt.rcParams['figure.figsize'] = 0.5*np.array([16.18033, 10])\n",
    "# def gamma_format_convertion_iteration_to_simulation(iteration_gamma, gamma_for_simulation):\n",
    "#     # gamma_location = \"/Users/weilu/Research/server_backup/jan_2019/optimization/gammas_dec30/cath-dataset-nonredundant-S20Clean_phi_pairwise_contact_well4.5_6.5_5.0_10phi_density_mediated_contact_well6.5_9.5_5.0_10_2.6_7.0_gamma\"\n",
    "#     # gamma_for_simulation = \"/Users/weilu/Research/server_backup/jan_2019/optimization/iteration_gamma.dat\"\n",
    "#     gamma = iteration_gamma\n",
    "#     gamma = -gamma  # caused by tradition.\n",
    "#     # convert gamma to gamma used by simulation\n",
    "#     with open(gamma_for_simulation, \"w\") as out:\n",
    "#         c = 0\n",
    "#         for i in range(20):\n",
    "#             for j in range(i, 20):\n",
    "#                 out.write(f\"{gamma[c]:<.5f} {gamma[c]:10.5f}\\n\")\n",
    "#                 c += 1\n",
    "#         out.write(\"\\n\")\n",
    "#         for i in range(20):\n",
    "#             for j in range(i, 20):\n",
    "#                 # protein, water\n",
    "#                 out.write(f\"{gamma[c]:<.5f} {gamma[c+210]:10.5f}\\n\")\n",
    "#                 c += 1\n",
    "\n",
    "res_type_map = {\n",
    "    'A': 0,\n",
    "    'C': 4,\n",
    "    'D': 3,\n",
    "    'E': 6,\n",
    "    'F': 13,\n",
    "    'G': 7,\n",
    "    'H': 8,\n",
    "    'I': 9,\n",
    "    'K': 11,\n",
    "    'L': 10,\n",
    "    'M': 12,\n",
    "    'N': 2,\n",
    "    'P': 14,\n",
    "    'Q': 5,\n",
    "    'R': 1,\n",
    "    'S': 15,\n",
    "    'T': 16,\n",
    "    'V': 19,\n",
    "    'W': 17,\n",
    "    'Y': 18\n",
    "}\n",
    "# res_type_map = gamma_se_map_1_letter = {   'A': 0,  'R': 1,  'N': 2,  'D': 3,  'C': 4,\n",
    "#                             'Q': 5,  'E': 6,  'G': 7,  'H': 8,  'I': 9,\n",
    "#                             'L': 10, 'K': 11, 'M': 12, 'F': 13, 'P': 14,\n",
    "#                             'S': 15, 'T': 16, 'W': 17, 'Y': 18, 'V': 19}\n",
    "res_type_map_letters = ['A', 'R', 'N', 'D', 'C', 'Q', 'E', 'G',\n",
    "                        'H', 'I', 'L', 'K', 'M', 'F', 'P', 'S', 'T', 'W', 'Y', 'V']\n",
    "\n",
    "inverse_res_type_map = dict(list(zip(list(range(20)), res_type_map_letters)))\n",
    "\n",
    "def gamma_format_convertion_iteration_to_simulation(iteration_gamma, gamma_for_simulation, burial_gamma_for_simulation=None):\n",
    "    # gamma_location = \"/Users/weilu/Research/server_backup/jan_2019/optimization/gammas_dec30/cath-dataset-nonredundant-S20Clean_phi_pairwise_contact_well4.5_6.5_5.0_10phi_density_mediated_contact_well6.5_9.5_5.0_10_2.6_7.0_gamma\"\n",
    "    # gamma_for_simulation = \"/Users/weilu/Research/server_backup/jan_2019/optimization/iteration_gamma.dat\"\n",
    "    gamma = iteration_gamma\n",
    "    gamma = -gamma  # caused by tradition.\n",
    "    # convert gamma to gamma used by simulation\n",
    "    with open(gamma_for_simulation, \"w\") as out:\n",
    "        c = 0\n",
    "        for i in range(20):\n",
    "            for j in range(i, 20):\n",
    "                out.write(f\"{gamma[c]:<.5f} {gamma[c]:10.5f}\\n\")\n",
    "                c += 1\n",
    "        out.write(\"\\n\")\n",
    "        for i in range(20):\n",
    "            for j in range(i, 20):\n",
    "                # protein, water\n",
    "                out.write(f\"{gamma[c]:<.5f} {gamma[c+210]:10.5f}\\n\")\n",
    "                c += 1\n",
    "    if burial_gamma_for_simulation:\n",
    "        rhoGamma = pd.DataFrame(gamma[630:].reshape(3,20).T, columns=[\"rho1\", \"rho2\", \"rho3\"]).reset_index()\n",
    "        rhoGamma[\"oneLetter\"] = rhoGamma[\"index\"].apply(lambda x: inverse_res_type_map[x])\n",
    "        rhoGamma[\"Residue\"] = rhoGamma[\"index\"].apply(lambda x: one_to_three(inverse_res_type_map[x]))\n",
    "        rhoGamma = rhoGamma[[\"Residue\", \"rho1\", \"rho2\", \"rho3\", \"index\", \"oneLetter\"]]\n",
    "        g = rhoGamma[[\"rho1\", \"rho2\", \"rho3\"]].values\n",
    "        np.savetxt(burial_gamma_for_simulation, g, fmt='%7.4f')\n",
    "\n",
    "\n"
   ]
  },
  {
   "cell_type": "code",
   "execution_count": 45,
   "metadata": {},
   "outputs": [],
   "source": [
    "# pre = \"/Users/weilu/Research/server_backup/feb_2019/jan_optimization/gammas/\"\n",
    "pre = \"/Users/weilu/Research/server/feb_2019/optimization_iter1/gammas/\"\n",
    "# pp = \"cath-dataset-nonredundant-S20Clean_phi_pairwise_contact_well4.5_6.5_5.0_10phi_density_mediated_contact_well6.5_9.5_5.0_10_2.6_7.0\"\n",
    "# pp = \"cath-dataset-nonredundant-S20Clean_phi_pairwise_contact_well4.5_6.5_5.0_10phi_density_mediated_contact_well6.5_9.5_5.0_10_2.6_7.0phi_burial_well4.0\"\n",
    "pp = \"proteins_name_list_phi_pairwise_contact_well4.5_6.5_5.0_10phi_density_mediated_contact_well6.5_9.5_5.0_10_2.6_7.0phi_burial_well4.0\"\n",
    "A_name = pp + \"_A\"\n",
    "B_name = pp + \"_B\"\n",
    "B_filtered_name = pp + \"_B_filtered\"\n",
    "P_name = pp + \"_P\"\n",
    "Gamma_name = pp + \"_gamma\"\n",
    "Gamma_filtered_name = pp + \"_gamma_filtered\"\n",
    "Lamb_name = pp + \"_lamb\"\n",
    "Lamb_filtered_name = pp + \"_lamb_filtered\"\n",
    "\n",
    "A = np.loadtxt(pre+A_name)\n",
    "B = np.loadtxt(pre+B_name)\n",
    "B_filtered = np.loadtxt(pre+B_filtered_name, dtype=complex, converters={\n",
    "                           0: lambda s: complex(s.decode().replace('+-', '-'))})\n",
    "Gamma = np.loadtxt(pre+Gamma_name)\n",
    "Gamma_filtered = np.loadtxt(pre+Gamma_filtered_name, dtype=complex, converters={\n",
    "                           0: lambda s: complex(s.decode().replace('+-', '-'))})\n",
    "Lamb = np.loadtxt(pre+Lamb_name, dtype=complex, converters={\n",
    "                           0: lambda s: complex(s.decode().replace('+-', '-'))})\n",
    "Lamb_filtered = np.loadtxt(pre+Lamb_filtered_name, dtype=complex, converters={\n",
    "                           0: lambda s: complex(s.decode().replace('+-', '-'))})\n",
    "\n",
    "half_B_name = pp + \"_half_B\"\n",
    "half_B = np.loadtxt(pre+half_B_name)\n",
    "other_half_B_name = pp + \"_other_half_B\"\n",
    "other_half_B = np.loadtxt(pre+other_half_B_name)\n",
    "std_half_B_name = pp + \"_std_half_B\"\n",
    "std_half_B = np.loadtxt(pre+std_half_B_name)\n",
    "\n",
    "\n",
    "\n",
    "\n",
    "\n"
   ]
  },
  {
   "cell_type": "code",
   "execution_count": 49,
   "metadata": {},
   "outputs": [],
   "source": [
    "phi_i_decoy_reshaped = np.loadtxt(\"/Users/weilu/Research/server/feb_2019/optimization_iter1/phis/proteins_name_list_phi_pairwise_contact_well4.5_6.5_5.0_10phi_density_mediated_contact_well6.5_9.5_5.0_10_2.6_7.0phi_burial_well4.0_phi_decoy_all_summary.txt\")\n",
    "\n",
    "\n"
   ]
  },
  {
   "cell_type": "code",
   "execution_count": 50,
   "metadata": {},
   "outputs": [
    {
     "data": {
      "text/plain": [
       "(36000, 690)"
      ]
     },
     "execution_count": 50,
     "metadata": {},
     "output_type": "execute_result"
    }
   ],
   "source": [
    "phi_i_decoy_reshaped.shape"
   ]
  },
  {
   "cell_type": "code",
   "execution_count": 59,
   "metadata": {},
   "outputs": [],
   "source": [
    "phi_i_protein_i_decoy = np.reshape(phi_i_decoy_reshaped, (6, num_decoys, total_phis))"
   ]
  },
  {
   "cell_type": "code",
   "execution_count": null,
   "metadata": {},
   "outputs": [],
   "source": []
  },
  {
   "cell_type": "code",
   "execution_count": 141,
   "metadata": {},
   "outputs": [],
   "source": [
    "\n",
    "def get_filtered_gamma_B_lamb_P_and_lamb(A, B, half_B, other_half_B, std_half_B, total_phis, num_decoys, noise_iterations=10, relative_error_threshold=0.5, mode=1):\n",
    "    lamb, P = np.linalg.eig(B)\n",
    "    lamb, P = sort_eigenvalues_and_eigenvectors(lamb, P)\n",
    "    np.random.seed(10)\n",
    "    cutoff_modes = []\n",
    "    noisy_lamb_list = []\n",
    "    for i_noise in range(noise_iterations):\n",
    "        noisy_B = np.zeros((total_phis, total_phis))\n",
    "        for i in range(total_phis):\n",
    "            for j in range(i, total_phis):\n",
    "#                 random_B_ij = np.random.normal(\n",
    "#                     loc=half_B[i][j], scale=std_half_B[i][j])\n",
    "                if mode == 1:\n",
    "                    random_B_ij = np.random.normal(\n",
    "                        loc=half_B[i][j], scale=std_half_B[i][j] / float(num_decoys))\n",
    "#                 random_B_ij = np.random.normal(\n",
    "#                     loc=half_B[i][j], scale=std_half_B[i][j] / float(num_decoys)**0.5)\n",
    "                noisy_B[i][j] = noisy_B[j][i] = random_B_ij - \\\n",
    "                    other_half_B[i][j]\n",
    "\n",
    "        noisy_lamb, noisy_P = np.linalg.eig(noisy_B)\n",
    "        noisy_lamb, noisy_P = sort_eigenvalues_and_eigenvectors(\n",
    "            noisy_lamb, noisy_P)\n",
    "        noisy_lamb_list.append(noisy_lamb)\n",
    "        try:\n",
    "            cutoff_mode = np.where(\n",
    "                np.abs(lamb - noisy_lamb) / lamb > relative_error_threshold)[0][0]\n",
    "        except IndexError:\n",
    "            cutoff_mode = len(lamb)\n",
    "        cutoff_modes.append(cutoff_mode)\n",
    "\n",
    "    cutoff_mode = min(cutoff_modes)\n",
    "#     cutoff_mode = 10\n",
    "    print(\"min cutoff_mode\", cutoff_mode)\n",
    "\n",
    "    filtered_lamb = np.copy(lamb)\n",
    "    filtered_B_inv, filtered_lamb, P = get_filtered_B_inv_lambda_and_P(\n",
    "        filtered_lamb, cutoff_mode, P)\n",
    "\n",
    "    filtered_gamma = np.dot(filtered_B_inv, A)\n",
    "    filtered_B = np.linalg.inv(filtered_B_inv)\n",
    "    return filtered_gamma, filtered_B, filtered_lamb, P, lamb, noisy_lamb_list\n",
    "\n",
    "\n",
    "def get_filtered_B_inv_lambda_and_P(filtered_lamb, cutoff_mode, P, method='extend_all_after_first_noisy_mode'):\n",
    "    if method == 'zero_all_after_first_noisy_mode':\n",
    "        filtered_lamb_inv = 1 / filtered_lamb\n",
    "        # for \"zeroing unreliable eigenvalues\"\n",
    "        filtered_lamb_inv[cutoff_mode:] = 0.0\n",
    "        filtered_B_inv = np.dot(\n",
    "            P, np.dot(np.diag(filtered_lamb_inv), np.linalg.inv(P)))\n",
    "        filtered_lamb = 1 / filtered_lamb_inv\n",
    "    if method == 'extend_all_after_first_noisy_mode':\n",
    "        # for \"extending lowest reliable eigenvalue\"\n",
    "        filtered_lamb[cutoff_mode:] = filtered_lamb[cutoff_mode - 1]\n",
    "        filtered_B_inv = np.dot(\n",
    "            P, np.dot(np.diag(1 / filtered_lamb), np.linalg.inv(P)))\n",
    "\n",
    "    return filtered_B_inv, filtered_lamb, P\n",
    "\n",
    "\n",
    "def sort_eigenvalues_and_eigenvectors(eigenvalues, eigenvectors):\n",
    "    idx = eigenvalues.argsort()[::-1]\n",
    "    eigenvalues = eigenvalues[idx]\n",
    "    eigenvectors = eigenvectors[:, idx]\n",
    "    return eigenvalues, eigenvectors\n",
    "\n",
    "\n",
    "\n"
   ]
  },
  {
   "cell_type": "code",
   "execution_count": 39,
   "metadata": {},
   "outputs": [],
   "source": [
    "total_phis = 690\n",
    "num_decoys = 6000\n"
   ]
  },
  {
   "cell_type": "code",
   "execution_count": null,
   "metadata": {},
   "outputs": [],
   "source": [
    "plt.plot(lamb)\n",
    "\n",
    "\n"
   ]
  },
  {
   "cell_type": "code",
   "execution_count": 136,
   "metadata": {},
   "outputs": [
    {
     "data": {
      "text/plain": [
       "'2019-02-27'"
      ]
     },
     "execution_count": 136,
     "metadata": {},
     "output_type": "execute_result"
    }
   ],
   "source": [
    "f\"{datetime.date.today()}\""
   ]
  },
  {
   "cell_type": "code",
   "execution_count": 129,
   "metadata": {},
   "outputs": [
    {
     "data": {
      "text/plain": [
       "[<matplotlib.lines.Line2D at 0x1a23c6d978>]"
      ]
     },
     "execution_count": 129,
     "metadata": {},
     "output_type": "execute_result"
    },
    {
     "data": {
      "image/png": "[encoded data removed]",
      "text/plain": [
       "<Figure size 582.492x360 with 1 Axes>"
      ]
     },
     "metadata": {
      "needs_background": "light"
     },
     "output_type": "display_data"
    }
   ],
   "source": [
    "plt.plot(lamb)\n",
    "\n",
    "\n"
   ]
  },
  {
   "cell_type": "code",
   "execution_count": 147,
   "metadata": {},
   "outputs": [
    {
     "data": {
      "text/plain": [
       "[<matplotlib.lines.Line2D at 0x1a2e5a03c8>]"
      ]
     },
     "execution_count": 147,
     "metadata": {},
     "output_type": "execute_result"
    },
    {
     "data": {
      "image/png": "[encoded data removed]",
      "text/plain": [
       "<Figure size 582.492x360 with 1 Axes>"
      ]
     },
     "metadata": {
      "needs_background": "light"
     },
     "output_type": "display_data"
    }
   ],
   "source": [
    "plt.plot(np.log(lamb))\n",
    "plt.plot(np.log(noisy_lamb_list[0]))\n"
   ]
  },
  {
   "cell_type": "markdown",
   "metadata": {},
   "source": [
    "# scale=std_half_B[i][j] / float(num_decoys)"
   ]
  },
  {
   "cell_type": "code",
   "execution_count": 142,
   "metadata": {},
   "outputs": [
    {
     "name": "stdout",
     "output_type": "stream",
     "text": [
      "min cutoff_mode 352\n"
     ]
    }
   ],
   "source": [
    "filtered_gamma, filtered_B, filtered_lamb, P, lamb, noisy_lamb_list = get_filtered_gamma_B_lamb_P_and_lamb(A, B, half_B, other_half_B, std_half_B, total_phis, num_decoys)"
   ]
  },
  {
   "cell_type": "code",
   "execution_count": 146,
   "metadata": {},
   "outputs": [
    {
     "data": {
      "text/plain": [
       "[<matplotlib.lines.Line2D at 0x1a2e55d9b0>]"
      ]
     },
     "execution_count": 146,
     "metadata": {},
     "output_type": "execute_result"
    },
    {
     "data": {
      "image/png": "[encoded data removed]",
      "text/plain": [
       "<Figure size 582.492x360 with 1 Axes>"
      ]
     },
     "metadata": {
      "needs_background": "light"
     },
     "output_type": "display_data"
    }
   ],
   "source": [
    "plt.plot(noisy_lamb_list[0])"
   ]
  },
  {
   "cell_type": "code",
   "execution_count": 145,
   "metadata": {},
   "outputs": [
    {
     "data": {
      "image/png": "[encoded data removed]",
      "text/plain": [
       "<Figure size 582.492x360 with 2 Axes>"
      ]
     },
     "metadata": {
      "needs_background": "light"
     },
     "output_type": "display_data"
    }
   ],
   "source": [
    "plot_contact_well(filtered_gamma[:210], inferBound=True, invert_sign=False)"
   ]
  },
  {
   "cell_type": "code",
   "execution_count": 111,
   "metadata": {},
   "outputs": [
    {
     "data": {
      "text/html": [
       "<div>\n",
       "<style scoped>\n",
       "    .dataframe tbody tr th:only-of-type {\n",
       "        vertical-align: middle;\n",
       "    }\n",
       "\n",
       "    .dataframe tbody tr th {\n",
       "        vertical-align: top;\n",
       "    }\n",
       "\n",
       "    .dataframe thead th {\n",
       "        text-align: right;\n",
       "    }\n",
       "</style>\n",
       "<table border=\"1\" class=\"dataframe\">\n",
       "  <thead>\n",
       "    <tr style=\"text-align: right;\">\n",
       "      <th></th>\n",
       "      <th>Residue</th>\n",
       "      <th>rho1</th>\n",
       "      <th>rho2</th>\n",
       "      <th>rho3</th>\n",
       "      <th>index</th>\n",
       "      <th>oneLetter</th>\n",
       "    </tr>\n",
       "  </thead>\n",
       "  <tbody>\n",
       "    <tr>\n",
       "      <th>0</th>\n",
       "      <td>ALA</td>\n",
       "      <td>-365.862228</td>\n",
       "      <td>-360.488469</td>\n",
       "      <td>-342.263698</td>\n",
       "      <td>0</td>\n",
       "      <td>A</td>\n",
       "    </tr>\n",
       "    <tr>\n",
       "      <th>1</th>\n",
       "      <td>ARG</td>\n",
       "      <td>0.000000</td>\n",
       "      <td>0.000000</td>\n",
       "      <td>0.000000</td>\n",
       "      <td>1</td>\n",
       "      <td>R</td>\n",
       "    </tr>\n",
       "    <tr>\n",
       "      <th>2</th>\n",
       "      <td>ASN</td>\n",
       "      <td>-0.894863</td>\n",
       "      <td>10.392739</td>\n",
       "      <td>-429.097514</td>\n",
       "      <td>2</td>\n",
       "      <td>N</td>\n",
       "    </tr>\n",
       "    <tr>\n",
       "      <th>3</th>\n",
       "      <td>ASP</td>\n",
       "      <td>4.380072</td>\n",
       "      <td>-1.398988</td>\n",
       "      <td>-27.005112</td>\n",
       "      <td>3</td>\n",
       "      <td>D</td>\n",
       "    </tr>\n",
       "    <tr>\n",
       "      <th>4</th>\n",
       "      <td>CYS</td>\n",
       "      <td>0.000000</td>\n",
       "      <td>0.000000</td>\n",
       "      <td>0.000000</td>\n",
       "      <td>4</td>\n",
       "      <td>C</td>\n",
       "    </tr>\n",
       "    <tr>\n",
       "      <th>5</th>\n",
       "      <td>GLN</td>\n",
       "      <td>-43.100760</td>\n",
       "      <td>-46.437459</td>\n",
       "      <td>-51.095970</td>\n",
       "      <td>5</td>\n",
       "      <td>Q</td>\n",
       "    </tr>\n",
       "    <tr>\n",
       "      <th>6</th>\n",
       "      <td>GLU</td>\n",
       "      <td>24.715676</td>\n",
       "      <td>17.086714</td>\n",
       "      <td>0.943423</td>\n",
       "      <td>6</td>\n",
       "      <td>E</td>\n",
       "    </tr>\n",
       "    <tr>\n",
       "      <th>7</th>\n",
       "      <td>GLY</td>\n",
       "      <td>26.455361</td>\n",
       "      <td>24.474262</td>\n",
       "      <td>-48.834629</td>\n",
       "      <td>7</td>\n",
       "      <td>G</td>\n",
       "    </tr>\n",
       "    <tr>\n",
       "      <th>8</th>\n",
       "      <td>HIS</td>\n",
       "      <td>0.000000</td>\n",
       "      <td>0.000000</td>\n",
       "      <td>0.000000</td>\n",
       "      <td>8</td>\n",
       "      <td>H</td>\n",
       "    </tr>\n",
       "    <tr>\n",
       "      <th>9</th>\n",
       "      <td>ILE</td>\n",
       "      <td>-134.066163</td>\n",
       "      <td>-6.065951</td>\n",
       "      <td>-9.311017</td>\n",
       "      <td>9</td>\n",
       "      <td>I</td>\n",
       "    </tr>\n",
       "    <tr>\n",
       "      <th>10</th>\n",
       "      <td>LEU</td>\n",
       "      <td>10.414905</td>\n",
       "      <td>-4.818343</td>\n",
       "      <td>3.024835</td>\n",
       "      <td>10</td>\n",
       "      <td>L</td>\n",
       "    </tr>\n",
       "    <tr>\n",
       "      <th>11</th>\n",
       "      <td>LYS</td>\n",
       "      <td>-1.789518</td>\n",
       "      <td>-6.299741</td>\n",
       "      <td>-5.918737</td>\n",
       "      <td>11</td>\n",
       "      <td>K</td>\n",
       "    </tr>\n",
       "    <tr>\n",
       "      <th>12</th>\n",
       "      <td>MET</td>\n",
       "      <td>114.403584</td>\n",
       "      <td>98.653788</td>\n",
       "      <td>119.493722</td>\n",
       "      <td>12</td>\n",
       "      <td>M</td>\n",
       "    </tr>\n",
       "    <tr>\n",
       "      <th>13</th>\n",
       "      <td>PHE</td>\n",
       "      <td>-148.833967</td>\n",
       "      <td>-97.980345</td>\n",
       "      <td>-76.531257</td>\n",
       "      <td>13</td>\n",
       "      <td>F</td>\n",
       "    </tr>\n",
       "    <tr>\n",
       "      <th>14</th>\n",
       "      <td>PRO</td>\n",
       "      <td>-19.941899</td>\n",
       "      <td>-33.421754</td>\n",
       "      <td>-31.732973</td>\n",
       "      <td>14</td>\n",
       "      <td>P</td>\n",
       "    </tr>\n",
       "    <tr>\n",
       "      <th>15</th>\n",
       "      <td>SER</td>\n",
       "      <td>72.343762</td>\n",
       "      <td>47.540048</td>\n",
       "      <td>27.326273</td>\n",
       "      <td>15</td>\n",
       "      <td>S</td>\n",
       "    </tr>\n",
       "    <tr>\n",
       "      <th>16</th>\n",
       "      <td>THR</td>\n",
       "      <td>12.231645</td>\n",
       "      <td>11.186292</td>\n",
       "      <td>-45.618477</td>\n",
       "      <td>16</td>\n",
       "      <td>T</td>\n",
       "    </tr>\n",
       "    <tr>\n",
       "      <th>17</th>\n",
       "      <td>TRP</td>\n",
       "      <td>0.000000</td>\n",
       "      <td>0.000000</td>\n",
       "      <td>0.000000</td>\n",
       "      <td>17</td>\n",
       "      <td>W</td>\n",
       "    </tr>\n",
       "    <tr>\n",
       "      <th>18</th>\n",
       "      <td>TYR</td>\n",
       "      <td>6.830920</td>\n",
       "      <td>21.240939</td>\n",
       "      <td>11.834840</td>\n",
       "      <td>18</td>\n",
       "      <td>Y</td>\n",
       "    </tr>\n",
       "    <tr>\n",
       "      <th>19</th>\n",
       "      <td>VAL</td>\n",
       "      <td>96.942673</td>\n",
       "      <td>77.755164</td>\n",
       "      <td>30.268896</td>\n",
       "      <td>19</td>\n",
       "      <td>V</td>\n",
       "    </tr>\n",
       "  </tbody>\n",
       "</table>\n",
       "</div>"
      ],
      "text/plain": [
       "   Residue        rho1        rho2        rho3  index oneLetter\n",
       "0      ALA -365.862228 -360.488469 -342.263698      0         A\n",
       "1      ARG    0.000000    0.000000    0.000000      1         R\n",
       "2      ASN   -0.894863   10.392739 -429.097514      2         N\n",
       "3      ASP    4.380072   -1.398988  -27.005112      3         D\n",
       "4      CYS    0.000000    0.000000    0.000000      4         C\n",
       "5      GLN  -43.100760  -46.437459  -51.095970      5         Q\n",
       "6      GLU   24.715676   17.086714    0.943423      6         E\n",
       "7      GLY   26.455361   24.474262  -48.834629      7         G\n",
       "8      HIS    0.000000    0.000000    0.000000      8         H\n",
       "9      ILE -134.066163   -6.065951   -9.311017      9         I\n",
       "10     LEU   10.414905   -4.818343    3.024835     10         L\n",
       "11     LYS   -1.789518   -6.299741   -5.918737     11         K\n",
       "12     MET  114.403584   98.653788  119.493722     12         M\n",
       "13     PHE -148.833967  -97.980345  -76.531257     13         F\n",
       "14     PRO  -19.941899  -33.421754  -31.732973     14         P\n",
       "15     SER   72.343762   47.540048   27.326273     15         S\n",
       "16     THR   12.231645   11.186292  -45.618477     16         T\n",
       "17     TRP    0.000000    0.000000    0.000000     17         W\n",
       "18     TYR    6.830920   21.240939   11.834840     18         Y\n",
       "19     VAL   96.942673   77.755164   30.268896     19         V"
      ]
     },
     "execution_count": 111,
     "metadata": {},
     "output_type": "execute_result"
    }
   ],
   "source": [
    "rhoGamma = pd.DataFrame(filtered_gamma[630:].reshape(3,20).T, columns=[\"rho1\", \"rho2\", \"rho3\"]).reset_index()\n",
    "rhoGamma[\"oneLetter\"] = rhoGamma[\"index\"].apply(lambda x: inverse_res_type_map[x])\n",
    "rhoGamma[\"Residue\"] = rhoGamma[\"index\"].apply(lambda x: one_to_three(inverse_res_type_map[x]))\n",
    "rhoGamma = rhoGamma[[\"Residue\", \"rho1\", \"rho2\", \"rho3\", \"index\", \"oneLetter\"]]\n",
    "g = rhoGamma[[\"rho1\", \"rho2\", \"rho3\"]].values\n",
    "# np.savetxt(\"/Users/weilu/Research/server/feb_2019/iter_burial_gamma.dat\", g, fmt='%7.4f')\n",
    "rhoGamma"
   ]
  },
  {
   "cell_type": "markdown",
   "metadata": {},
   "source": [
    "# scale=std_half_B[i][j]"
   ]
  },
  {
   "cell_type": "code",
   "execution_count": 113,
   "metadata": {},
   "outputs": [
    {
     "name": "stdout",
     "output_type": "stream",
     "text": [
      "min cutoff_mode 0\n"
     ]
    }
   ],
   "source": [
    "filtered_gamma, filtered_B, filtered_lamb, P, lamb = get_filtered_gamma_B_lamb_P_and_lamb(A, B, half_B, other_half_B, std_half_B, total_phis, num_decoys)"
   ]
  },
  {
   "cell_type": "code",
   "execution_count": 114,
   "metadata": {},
   "outputs": [
    {
     "data": {
      "image/png": "[encoded data removed]",
      "text/plain": [
       "<Figure size 582.492x360 with 2 Axes>"
      ]
     },
     "metadata": {
      "needs_background": "light"
     },
     "output_type": "display_data"
    }
   ],
   "source": [
    "plot_contact_well(filtered_gamma[:210], inferBound=True, invert_sign=False)"
   ]
  },
  {
   "cell_type": "code",
   "execution_count": 115,
   "metadata": {},
   "outputs": [
    {
     "data": {
      "text/html": [
       "<div>\n",
       "<style scoped>\n",
       "    .dataframe tbody tr th:only-of-type {\n",
       "        vertical-align: middle;\n",
       "    }\n",
       "\n",
       "    .dataframe tbody tr th {\n",
       "        vertical-align: top;\n",
       "    }\n",
       "\n",
       "    .dataframe thead th {\n",
       "        text-align: right;\n",
       "    }\n",
       "</style>\n",
       "<table border=\"1\" class=\"dataframe\">\n",
       "  <thead>\n",
       "    <tr style=\"text-align: right;\">\n",
       "      <th></th>\n",
       "      <th>Residue</th>\n",
       "      <th>rho1</th>\n",
       "      <th>rho2</th>\n",
       "      <th>rho3</th>\n",
       "      <th>index</th>\n",
       "      <th>oneLetter</th>\n",
       "    </tr>\n",
       "  </thead>\n",
       "  <tbody>\n",
       "    <tr>\n",
       "      <th>0</th>\n",
       "      <td>ALA</td>\n",
       "      <td>-1.681267e+05</td>\n",
       "      <td>7.540282e+05</td>\n",
       "      <td>-5.731475e+05</td>\n",
       "      <td>0</td>\n",
       "      <td>A</td>\n",
       "    </tr>\n",
       "    <tr>\n",
       "      <th>1</th>\n",
       "      <td>ARG</td>\n",
       "      <td>0.000000e+00</td>\n",
       "      <td>0.000000e+00</td>\n",
       "      <td>0.000000e+00</td>\n",
       "      <td>1</td>\n",
       "      <td>R</td>\n",
       "    </tr>\n",
       "    <tr>\n",
       "      <th>2</th>\n",
       "      <td>ASN</td>\n",
       "      <td>2.239445e+05</td>\n",
       "      <td>-8.223826e+04</td>\n",
       "      <td>-1.738193e+02</td>\n",
       "      <td>2</td>\n",
       "      <td>N</td>\n",
       "    </tr>\n",
       "    <tr>\n",
       "      <th>3</th>\n",
       "      <td>ASP</td>\n",
       "      <td>9.690427e+04</td>\n",
       "      <td>-8.621003e+05</td>\n",
       "      <td>9.340615e+05</td>\n",
       "      <td>3</td>\n",
       "      <td>D</td>\n",
       "    </tr>\n",
       "    <tr>\n",
       "      <th>4</th>\n",
       "      <td>CYS</td>\n",
       "      <td>0.000000e+00</td>\n",
       "      <td>0.000000e+00</td>\n",
       "      <td>0.000000e+00</td>\n",
       "      <td>4</td>\n",
       "      <td>C</td>\n",
       "    </tr>\n",
       "    <tr>\n",
       "      <th>5</th>\n",
       "      <td>GLN</td>\n",
       "      <td>1.046045e+06</td>\n",
       "      <td>-1.230402e+06</td>\n",
       "      <td>-3.665197e+05</td>\n",
       "      <td>5</td>\n",
       "      <td>Q</td>\n",
       "    </tr>\n",
       "    <tr>\n",
       "      <th>6</th>\n",
       "      <td>GLU</td>\n",
       "      <td>1.964223e+06</td>\n",
       "      <td>-1.297040e+06</td>\n",
       "      <td>-2.755688e+05</td>\n",
       "      <td>6</td>\n",
       "      <td>E</td>\n",
       "    </tr>\n",
       "    <tr>\n",
       "      <th>7</th>\n",
       "      <td>GLY</td>\n",
       "      <td>6.950600e+04</td>\n",
       "      <td>2.624889e+05</td>\n",
       "      <td>-9.994610e+02</td>\n",
       "      <td>7</td>\n",
       "      <td>G</td>\n",
       "    </tr>\n",
       "    <tr>\n",
       "      <th>8</th>\n",
       "      <td>HIS</td>\n",
       "      <td>0.000000e+00</td>\n",
       "      <td>0.000000e+00</td>\n",
       "      <td>0.000000e+00</td>\n",
       "      <td>8</td>\n",
       "      <td>H</td>\n",
       "    </tr>\n",
       "    <tr>\n",
       "      <th>9</th>\n",
       "      <td>ILE</td>\n",
       "      <td>2.004788e+06</td>\n",
       "      <td>-2.916688e+05</td>\n",
       "      <td>-7.757121e+05</td>\n",
       "      <td>9</td>\n",
       "      <td>I</td>\n",
       "    </tr>\n",
       "    <tr>\n",
       "      <th>10</th>\n",
       "      <td>LEU</td>\n",
       "      <td>8.011223e+06</td>\n",
       "      <td>7.796535e+06</td>\n",
       "      <td>-5.546661e+06</td>\n",
       "      <td>10</td>\n",
       "      <td>L</td>\n",
       "    </tr>\n",
       "    <tr>\n",
       "      <th>11</th>\n",
       "      <td>LYS</td>\n",
       "      <td>5.972193e+06</td>\n",
       "      <td>-4.403213e+06</td>\n",
       "      <td>-1.292173e+06</td>\n",
       "      <td>11</td>\n",
       "      <td>K</td>\n",
       "    </tr>\n",
       "    <tr>\n",
       "      <th>12</th>\n",
       "      <td>MET</td>\n",
       "      <td>1.395965e+06</td>\n",
       "      <td>-1.292238e+06</td>\n",
       "      <td>-9.342788e+03</td>\n",
       "      <td>12</td>\n",
       "      <td>M</td>\n",
       "    </tr>\n",
       "    <tr>\n",
       "      <th>13</th>\n",
       "      <td>PHE</td>\n",
       "      <td>3.764796e+06</td>\n",
       "      <td>6.598616e+05</td>\n",
       "      <td>-3.408379e+05</td>\n",
       "      <td>13</td>\n",
       "      <td>F</td>\n",
       "    </tr>\n",
       "    <tr>\n",
       "      <th>14</th>\n",
       "      <td>PRO</td>\n",
       "      <td>4.687690e+05</td>\n",
       "      <td>-6.675748e+05</td>\n",
       "      <td>-2.148841e+04</td>\n",
       "      <td>14</td>\n",
       "      <td>P</td>\n",
       "    </tr>\n",
       "    <tr>\n",
       "      <th>15</th>\n",
       "      <td>SER</td>\n",
       "      <td>5.274764e+05</td>\n",
       "      <td>-3.314082e+05</td>\n",
       "      <td>-7.174392e+04</td>\n",
       "      <td>15</td>\n",
       "      <td>S</td>\n",
       "    </tr>\n",
       "    <tr>\n",
       "      <th>16</th>\n",
       "      <td>THR</td>\n",
       "      <td>8.958865e+05</td>\n",
       "      <td>-8.374832e+05</td>\n",
       "      <td>-9.929428e+03</td>\n",
       "      <td>16</td>\n",
       "      <td>T</td>\n",
       "    </tr>\n",
       "    <tr>\n",
       "      <th>17</th>\n",
       "      <td>TRP</td>\n",
       "      <td>0.000000e+00</td>\n",
       "      <td>0.000000e+00</td>\n",
       "      <td>0.000000e+00</td>\n",
       "      <td>17</td>\n",
       "      <td>W</td>\n",
       "    </tr>\n",
       "    <tr>\n",
       "      <th>18</th>\n",
       "      <td>TYR</td>\n",
       "      <td>-1.544819e+05</td>\n",
       "      <td>4.793937e+05</td>\n",
       "      <td>-2.748518e+05</td>\n",
       "      <td>18</td>\n",
       "      <td>Y</td>\n",
       "    </tr>\n",
       "    <tr>\n",
       "      <th>19</th>\n",
       "      <td>VAL</td>\n",
       "      <td>1.041417e+06</td>\n",
       "      <td>2.887682e+06</td>\n",
       "      <td>-2.506474e+05</td>\n",
       "      <td>19</td>\n",
       "      <td>V</td>\n",
       "    </tr>\n",
       "  </tbody>\n",
       "</table>\n",
       "</div>"
      ],
      "text/plain": [
       "   Residue          rho1          rho2          rho3  index oneLetter\n",
       "0      ALA -1.681267e+05  7.540282e+05 -5.731475e+05      0         A\n",
       "1      ARG  0.000000e+00  0.000000e+00  0.000000e+00      1         R\n",
       "2      ASN  2.239445e+05 -8.223826e+04 -1.738193e+02      2         N\n",
       "3      ASP  9.690427e+04 -8.621003e+05  9.340615e+05      3         D\n",
       "4      CYS  0.000000e+00  0.000000e+00  0.000000e+00      4         C\n",
       "5      GLN  1.046045e+06 -1.230402e+06 -3.665197e+05      5         Q\n",
       "6      GLU  1.964223e+06 -1.297040e+06 -2.755688e+05      6         E\n",
       "7      GLY  6.950600e+04  2.624889e+05 -9.994610e+02      7         G\n",
       "8      HIS  0.000000e+00  0.000000e+00  0.000000e+00      8         H\n",
       "9      ILE  2.004788e+06 -2.916688e+05 -7.757121e+05      9         I\n",
       "10     LEU  8.011223e+06  7.796535e+06 -5.546661e+06     10         L\n",
       "11     LYS  5.972193e+06 -4.403213e+06 -1.292173e+06     11         K\n",
       "12     MET  1.395965e+06 -1.292238e+06 -9.342788e+03     12         M\n",
       "13     PHE  3.764796e+06  6.598616e+05 -3.408379e+05     13         F\n",
       "14     PRO  4.687690e+05 -6.675748e+05 -2.148841e+04     14         P\n",
       "15     SER  5.274764e+05 -3.314082e+05 -7.174392e+04     15         S\n",
       "16     THR  8.958865e+05 -8.374832e+05 -9.929428e+03     16         T\n",
       "17     TRP  0.000000e+00  0.000000e+00  0.000000e+00     17         W\n",
       "18     TYR -1.544819e+05  4.793937e+05 -2.748518e+05     18         Y\n",
       "19     VAL  1.041417e+06  2.887682e+06 -2.506474e+05     19         V"
      ]
     },
     "execution_count": 115,
     "metadata": {},
     "output_type": "execute_result"
    }
   ],
   "source": [
    "rhoGamma = pd.DataFrame(filtered_gamma[630:].reshape(3,20).T, columns=[\"rho1\", \"rho2\", \"rho3\"]).reset_index()\n",
    "rhoGamma[\"oneLetter\"] = rhoGamma[\"index\"].apply(lambda x: inverse_res_type_map[x])\n",
    "rhoGamma[\"Residue\"] = rhoGamma[\"index\"].apply(lambda x: one_to_three(inverse_res_type_map[x]))\n",
    "rhoGamma = rhoGamma[[\"Residue\", \"rho1\", \"rho2\", \"rho3\", \"index\", \"oneLetter\"]]\n",
    "g = rhoGamma[[\"rho1\", \"rho2\", \"rho3\"]].values\n",
    "# np.savetxt(\"/Users/weilu/Research/server/feb_2019/iter_burial_gamma.dat\", g, fmt='%7.4f')\n",
    "rhoGamma"
   ]
  },
  {
   "cell_type": "markdown",
   "metadata": {},
   "source": [
    "# scale=std_half_B[i][j] / float(num_decoys)**0.5"
   ]
  },
  {
   "cell_type": "code",
   "execution_count": 120,
   "metadata": {
    "scrolled": true
   },
   "outputs": [
    {
     "name": "stdout",
     "output_type": "stream",
     "text": [
      "min cutoff_mode 181\n"
     ]
    }
   ],
   "source": [
    "filtered_gamma, filtered_B, filtered_lamb, P, lamb = get_filtered_gamma_B_lamb_P_and_lamb(A, B, half_B, other_half_B, std_half_B, total_phis, num_decoys)"
   ]
  },
  {
   "cell_type": "code",
   "execution_count": 121,
   "metadata": {},
   "outputs": [
    {
     "data": {
      "image/png": "[encoded data removed]",
      "text/plain": [
       "<Figure size 582.492x360 with 2 Axes>"
      ]
     },
     "metadata": {
      "needs_background": "light"
     },
     "output_type": "display_data"
    }
   ],
   "source": [
    "plot_contact_well(filtered_gamma[:210], inferBound=True, invert_sign=False)"
   ]
  },
  {
   "cell_type": "code",
   "execution_count": 122,
   "metadata": {},
   "outputs": [
    {
     "data": {
      "text/html": [
       "<div>\n",
       "<style scoped>\n",
       "    .dataframe tbody tr th:only-of-type {\n",
       "        vertical-align: middle;\n",
       "    }\n",
       "\n",
       "    .dataframe tbody tr th {\n",
       "        vertical-align: top;\n",
       "    }\n",
       "\n",
       "    .dataframe thead th {\n",
       "        text-align: right;\n",
       "    }\n",
       "</style>\n",
       "<table border=\"1\" class=\"dataframe\">\n",
       "  <thead>\n",
       "    <tr style=\"text-align: right;\">\n",
       "      <th></th>\n",
       "      <th>Residue</th>\n",
       "      <th>rho1</th>\n",
       "      <th>rho2</th>\n",
       "      <th>rho3</th>\n",
       "      <th>index</th>\n",
       "      <th>oneLetter</th>\n",
       "    </tr>\n",
       "  </thead>\n",
       "  <tbody>\n",
       "    <tr>\n",
       "      <th>0</th>\n",
       "      <td>ALA</td>\n",
       "      <td>-2.256962</td>\n",
       "      <td>-0.046942</td>\n",
       "      <td>2.392771</td>\n",
       "      <td>0</td>\n",
       "      <td>A</td>\n",
       "    </tr>\n",
       "    <tr>\n",
       "      <th>1</th>\n",
       "      <td>ARG</td>\n",
       "      <td>0.000000</td>\n",
       "      <td>0.000000</td>\n",
       "      <td>0.000000</td>\n",
       "      <td>1</td>\n",
       "      <td>R</td>\n",
       "    </tr>\n",
       "    <tr>\n",
       "      <th>2</th>\n",
       "      <td>ASN</td>\n",
       "      <td>-5.158056</td>\n",
       "      <td>2.817575</td>\n",
       "      <td>0.009040</td>\n",
       "      <td>2</td>\n",
       "      <td>N</td>\n",
       "    </tr>\n",
       "    <tr>\n",
       "      <th>3</th>\n",
       "      <td>ASP</td>\n",
       "      <td>-0.150601</td>\n",
       "      <td>1.049425</td>\n",
       "      <td>-3.470013</td>\n",
       "      <td>3</td>\n",
       "      <td>D</td>\n",
       "    </tr>\n",
       "    <tr>\n",
       "      <th>4</th>\n",
       "      <td>CYS</td>\n",
       "      <td>0.000000</td>\n",
       "      <td>0.000000</td>\n",
       "      <td>0.000000</td>\n",
       "      <td>4</td>\n",
       "      <td>C</td>\n",
       "    </tr>\n",
       "    <tr>\n",
       "      <th>5</th>\n",
       "      <td>GLN</td>\n",
       "      <td>0.673608</td>\n",
       "      <td>1.374643</td>\n",
       "      <td>-1.233597</td>\n",
       "      <td>5</td>\n",
       "      <td>Q</td>\n",
       "    </tr>\n",
       "    <tr>\n",
       "      <th>6</th>\n",
       "      <td>GLU</td>\n",
       "      <td>-2.532429</td>\n",
       "      <td>-3.446692</td>\n",
       "      <td>-5.571281</td>\n",
       "      <td>6</td>\n",
       "      <td>E</td>\n",
       "    </tr>\n",
       "    <tr>\n",
       "      <th>7</th>\n",
       "      <td>GLY</td>\n",
       "      <td>1.349413</td>\n",
       "      <td>2.074442</td>\n",
       "      <td>-0.273705</td>\n",
       "      <td>7</td>\n",
       "      <td>G</td>\n",
       "    </tr>\n",
       "    <tr>\n",
       "      <th>8</th>\n",
       "      <td>HIS</td>\n",
       "      <td>0.000000</td>\n",
       "      <td>0.000000</td>\n",
       "      <td>0.000000</td>\n",
       "      <td>8</td>\n",
       "      <td>H</td>\n",
       "    </tr>\n",
       "    <tr>\n",
       "      <th>9</th>\n",
       "      <td>ILE</td>\n",
       "      <td>-21.182503</td>\n",
       "      <td>8.283022</td>\n",
       "      <td>2.161626</td>\n",
       "      <td>9</td>\n",
       "      <td>I</td>\n",
       "    </tr>\n",
       "    <tr>\n",
       "      <th>10</th>\n",
       "      <td>LEU</td>\n",
       "      <td>-16.346879</td>\n",
       "      <td>-5.855605</td>\n",
       "      <td>4.582441</td>\n",
       "      <td>10</td>\n",
       "      <td>L</td>\n",
       "    </tr>\n",
       "    <tr>\n",
       "      <th>11</th>\n",
       "      <td>LYS</td>\n",
       "      <td>-0.494360</td>\n",
       "      <td>0.274523</td>\n",
       "      <td>1.132120</td>\n",
       "      <td>11</td>\n",
       "      <td>K</td>\n",
       "    </tr>\n",
       "    <tr>\n",
       "      <th>12</th>\n",
       "      <td>MET</td>\n",
       "      <td>-9.985946</td>\n",
       "      <td>0.128816</td>\n",
       "      <td>1.071107</td>\n",
       "      <td>12</td>\n",
       "      <td>M</td>\n",
       "    </tr>\n",
       "    <tr>\n",
       "      <th>13</th>\n",
       "      <td>PHE</td>\n",
       "      <td>-20.229139</td>\n",
       "      <td>-3.752153</td>\n",
       "      <td>-2.305670</td>\n",
       "      <td>13</td>\n",
       "      <td>F</td>\n",
       "    </tr>\n",
       "    <tr>\n",
       "      <th>14</th>\n",
       "      <td>PRO</td>\n",
       "      <td>-3.123007</td>\n",
       "      <td>-4.646111</td>\n",
       "      <td>-1.357765</td>\n",
       "      <td>14</td>\n",
       "      <td>P</td>\n",
       "    </tr>\n",
       "    <tr>\n",
       "      <th>15</th>\n",
       "      <td>SER</td>\n",
       "      <td>0.777917</td>\n",
       "      <td>-0.978611</td>\n",
       "      <td>-1.947493</td>\n",
       "      <td>15</td>\n",
       "      <td>S</td>\n",
       "    </tr>\n",
       "    <tr>\n",
       "      <th>16</th>\n",
       "      <td>THR</td>\n",
       "      <td>0.503589</td>\n",
       "      <td>0.138855</td>\n",
       "      <td>0.023299</td>\n",
       "      <td>16</td>\n",
       "      <td>T</td>\n",
       "    </tr>\n",
       "    <tr>\n",
       "      <th>17</th>\n",
       "      <td>TRP</td>\n",
       "      <td>0.000000</td>\n",
       "      <td>0.000000</td>\n",
       "      <td>0.000000</td>\n",
       "      <td>17</td>\n",
       "      <td>W</td>\n",
       "    </tr>\n",
       "    <tr>\n",
       "      <th>18</th>\n",
       "      <td>TYR</td>\n",
       "      <td>-6.135048</td>\n",
       "      <td>-2.271313</td>\n",
       "      <td>2.418060</td>\n",
       "      <td>18</td>\n",
       "      <td>Y</td>\n",
       "    </tr>\n",
       "    <tr>\n",
       "      <th>19</th>\n",
       "      <td>VAL</td>\n",
       "      <td>-2.508470</td>\n",
       "      <td>-6.767011</td>\n",
       "      <td>3.012403</td>\n",
       "      <td>19</td>\n",
       "      <td>V</td>\n",
       "    </tr>\n",
       "  </tbody>\n",
       "</table>\n",
       "</div>"
      ],
      "text/plain": [
       "   Residue       rho1      rho2      rho3  index oneLetter\n",
       "0      ALA  -2.256962 -0.046942  2.392771      0         A\n",
       "1      ARG   0.000000  0.000000  0.000000      1         R\n",
       "2      ASN  -5.158056  2.817575  0.009040      2         N\n",
       "3      ASP  -0.150601  1.049425 -3.470013      3         D\n",
       "4      CYS   0.000000  0.000000  0.000000      4         C\n",
       "5      GLN   0.673608  1.374643 -1.233597      5         Q\n",
       "6      GLU  -2.532429 -3.446692 -5.571281      6         E\n",
       "7      GLY   1.349413  2.074442 -0.273705      7         G\n",
       "8      HIS   0.000000  0.000000  0.000000      8         H\n",
       "9      ILE -21.182503  8.283022  2.161626      9         I\n",
       "10     LEU -16.346879 -5.855605  4.582441     10         L\n",
       "11     LYS  -0.494360  0.274523  1.132120     11         K\n",
       "12     MET  -9.985946  0.128816  1.071107     12         M\n",
       "13     PHE -20.229139 -3.752153 -2.305670     13         F\n",
       "14     PRO  -3.123007 -4.646111 -1.357765     14         P\n",
       "15     SER   0.777917 -0.978611 -1.947493     15         S\n",
       "16     THR   0.503589  0.138855  0.023299     16         T\n",
       "17     TRP   0.000000  0.000000  0.000000     17         W\n",
       "18     TYR  -6.135048 -2.271313  2.418060     18         Y\n",
       "19     VAL  -2.508470 -6.767011  3.012403     19         V"
      ]
     },
     "execution_count": 122,
     "metadata": {},
     "output_type": "execute_result"
    }
   ],
   "source": [
    "rhoGamma = pd.DataFrame(filtered_gamma[630:].reshape(3,20).T, columns=[\"rho1\", \"rho2\", \"rho3\"]).reset_index()\n",
    "rhoGamma[\"oneLetter\"] = rhoGamma[\"index\"].apply(lambda x: inverse_res_type_map[x])\n",
    "rhoGamma[\"Residue\"] = rhoGamma[\"index\"].apply(lambda x: one_to_three(inverse_res_type_map[x]))\n",
    "rhoGamma = rhoGamma[[\"Residue\", \"rho1\", \"rho2\", \"rho3\", \"index\", \"oneLetter\"]]\n",
    "g = rhoGamma[[\"rho1\", \"rho2\", \"rho3\"]].values\n",
    "# np.savetxt(\"/Users/weilu/Research/server/feb_2019/iter_burial_gamma.dat\", g, fmt='%7.4f')\n",
    "rhoGamma"
   ]
  },
  {
   "cell_type": "code",
   "execution_count": null,
   "metadata": {},
   "outputs": [],
   "source": []
  },
  {
   "cell_type": "code",
   "execution_count": 126,
   "metadata": {},
   "outputs": [],
   "source": [
    "pre = \"/Users/weilu/Research/server/feb_2019/optimization/gammas/\"\n",
    "pp = \"cath-dataset-nonredundant-S20Clean_phi_pairwise_contact_well4.5_6.5_5.0_10phi_density_mediated_contact_well6.5_9.5_5.0_10_2.6_7.0phi_burial_well4.0\"\n",
    "Gamma_name = pp + \"_gamma\"\n",
    "Gamma = np.loadtxt(pre+Gamma_name)\n",
    "\n",
    "iter_gamma = 0.5 * filtered_gamma + 0.5 * Gamma\n",
    "gamma_for_simulation = \"/Users/weilu/Research/server/feb_2019/optimization_iter1/iteration_gamma.dat\"\n",
    "burial_gamma_for_simulation = \"/Users/weilu/Research/server/feb_2019/optimization_iter1/iteration_burial_gamma.dat\"\n",
    "gamma_format_convertion_iteration_to_simulation(iter_gamma, gamma_for_simulation, burial_gamma_for_simulation=burial_gamma_for_simulation)\n",
    "\n",
    "\n",
    "\n",
    "\n"
   ]
  },
  {
   "cell_type": "code",
   "execution_count": 125,
   "metadata": {},
   "outputs": [
    {
     "data": {
      "text/html": [
       "<div>\n",
       "<style scoped>\n",
       "    .dataframe tbody tr th:only-of-type {\n",
       "        vertical-align: middle;\n",
       "    }\n",
       "\n",
       "    .dataframe tbody tr th {\n",
       "        vertical-align: top;\n",
       "    }\n",
       "\n",
       "    .dataframe thead th {\n",
       "        text-align: right;\n",
       "    }\n",
       "</style>\n",
       "<table border=\"1\" class=\"dataframe\">\n",
       "  <thead>\n",
       "    <tr style=\"text-align: right;\">\n",
       "      <th></th>\n",
       "      <th>Residue</th>\n",
       "      <th>rho1</th>\n",
       "      <th>rho2</th>\n",
       "      <th>rho3</th>\n",
       "      <th>index</th>\n",
       "      <th>oneLetter</th>\n",
       "    </tr>\n",
       "  </thead>\n",
       "  <tbody>\n",
       "    <tr>\n",
       "      <th>0</th>\n",
       "      <td>ALA</td>\n",
       "      <td>-0.14009</td>\n",
       "      <td>0.09679</td>\n",
       "      <td>0.55265</td>\n",
       "      <td>0</td>\n",
       "      <td>A</td>\n",
       "    </tr>\n",
       "    <tr>\n",
       "      <th>1</th>\n",
       "      <td>ARG</td>\n",
       "      <td>-0.25496</td>\n",
       "      <td>-0.49751</td>\n",
       "      <td>-0.98630</td>\n",
       "      <td>1</td>\n",
       "      <td>R</td>\n",
       "    </tr>\n",
       "    <tr>\n",
       "      <th>2</th>\n",
       "      <td>ASN</td>\n",
       "      <td>-0.25682</td>\n",
       "      <td>-0.46232</td>\n",
       "      <td>-0.87701</td>\n",
       "      <td>2</td>\n",
       "      <td>N</td>\n",
       "    </tr>\n",
       "    <tr>\n",
       "      <th>3</th>\n",
       "      <td>ASP</td>\n",
       "      <td>-0.27643</td>\n",
       "      <td>-0.77906</td>\n",
       "      <td>-1.73890</td>\n",
       "      <td>3</td>\n",
       "      <td>D</td>\n",
       "    </tr>\n",
       "    <tr>\n",
       "      <th>4</th>\n",
       "      <td>CYS</td>\n",
       "      <td>0.17467</td>\n",
       "      <td>1.26307</td>\n",
       "      <td>3.17942</td>\n",
       "      <td>4</td>\n",
       "      <td>C</td>\n",
       "    </tr>\n",
       "    <tr>\n",
       "      <th>5</th>\n",
       "      <td>GLN</td>\n",
       "      <td>-0.28242</td>\n",
       "      <td>-0.61399</td>\n",
       "      <td>-1.26118</td>\n",
       "      <td>5</td>\n",
       "      <td>Q</td>\n",
       "    </tr>\n",
       "    <tr>\n",
       "      <th>6</th>\n",
       "      <td>GLU</td>\n",
       "      <td>-0.31422</td>\n",
       "      <td>-0.86138</td>\n",
       "      <td>-1.97530</td>\n",
       "      <td>6</td>\n",
       "      <td>E</td>\n",
       "    </tr>\n",
       "    <tr>\n",
       "      <th>7</th>\n",
       "      <td>GLY</td>\n",
       "      <td>-0.13472</td>\n",
       "      <td>-0.21850</td>\n",
       "      <td>-0.30654</td>\n",
       "      <td>7</td>\n",
       "      <td>G</td>\n",
       "    </tr>\n",
       "    <tr>\n",
       "      <th>8</th>\n",
       "      <td>HIS</td>\n",
       "      <td>-0.17776</td>\n",
       "      <td>-0.18548</td>\n",
       "      <td>-0.18941</td>\n",
       "      <td>8</td>\n",
       "      <td>H</td>\n",
       "    </tr>\n",
       "    <tr>\n",
       "      <th>9</th>\n",
       "      <td>ILE</td>\n",
       "      <td>0.18318</td>\n",
       "      <td>1.29716</td>\n",
       "      <td>3.40786</td>\n",
       "      <td>9</td>\n",
       "      <td>I</td>\n",
       "    </tr>\n",
       "    <tr>\n",
       "      <th>10</th>\n",
       "      <td>LEU</td>\n",
       "      <td>0.04142</td>\n",
       "      <td>0.71169</td>\n",
       "      <td>2.03997</td>\n",
       "      <td>10</td>\n",
       "      <td>L</td>\n",
       "    </tr>\n",
       "    <tr>\n",
       "      <th>11</th>\n",
       "      <td>LYS</td>\n",
       "      <td>-0.26107</td>\n",
       "      <td>-0.73069</td>\n",
       "      <td>-1.70513</td>\n",
       "      <td>11</td>\n",
       "      <td>K</td>\n",
       "    </tr>\n",
       "    <tr>\n",
       "      <th>12</th>\n",
       "      <td>MET</td>\n",
       "      <td>-0.17891</td>\n",
       "      <td>0.24583</td>\n",
       "      <td>1.08636</td>\n",
       "      <td>12</td>\n",
       "      <td>M</td>\n",
       "    </tr>\n",
       "    <tr>\n",
       "      <th>13</th>\n",
       "      <td>PHE</td>\n",
       "      <td>0.06365</td>\n",
       "      <td>0.64734</td>\n",
       "      <td>1.77866</td>\n",
       "      <td>13</td>\n",
       "      <td>F</td>\n",
       "    </tr>\n",
       "    <tr>\n",
       "      <th>14</th>\n",
       "      <td>PRO</td>\n",
       "      <td>-0.17609</td>\n",
       "      <td>-0.26806</td>\n",
       "      <td>-0.42379</td>\n",
       "      <td>14</td>\n",
       "      <td>P</td>\n",
       "    </tr>\n",
       "    <tr>\n",
       "      <th>15</th>\n",
       "      <td>SER</td>\n",
       "      <td>-0.22773</td>\n",
       "      <td>-0.35472</td>\n",
       "      <td>-0.57809</td>\n",
       "      <td>15</td>\n",
       "      <td>S</td>\n",
       "    </tr>\n",
       "    <tr>\n",
       "      <th>16</th>\n",
       "      <td>THR</td>\n",
       "      <td>-0.06580</td>\n",
       "      <td>0.12022</td>\n",
       "      <td>0.46440</td>\n",
       "      <td>16</td>\n",
       "      <td>T</td>\n",
       "    </tr>\n",
       "    <tr>\n",
       "      <th>17</th>\n",
       "      <td>TRP</td>\n",
       "      <td>-0.18529</td>\n",
       "      <td>0.19507</td>\n",
       "      <td>0.94250</td>\n",
       "      <td>17</td>\n",
       "      <td>W</td>\n",
       "    </tr>\n",
       "    <tr>\n",
       "      <th>18</th>\n",
       "      <td>TYR</td>\n",
       "      <td>-0.04176</td>\n",
       "      <td>0.42189</td>\n",
       "      <td>1.34357</td>\n",
       "      <td>18</td>\n",
       "      <td>Y</td>\n",
       "    </tr>\n",
       "    <tr>\n",
       "      <th>19</th>\n",
       "      <td>VAL</td>\n",
       "      <td>0.23534</td>\n",
       "      <td>1.43618</td>\n",
       "      <td>3.72756</td>\n",
       "      <td>19</td>\n",
       "      <td>V</td>\n",
       "    </tr>\n",
       "  </tbody>\n",
       "</table>\n",
       "</div>"
      ],
      "text/plain": [
       "   Residue     rho1     rho2     rho3  index oneLetter\n",
       "0      ALA -0.14009  0.09679  0.55265      0         A\n",
       "1      ARG -0.25496 -0.49751 -0.98630      1         R\n",
       "2      ASN -0.25682 -0.46232 -0.87701      2         N\n",
       "3      ASP -0.27643 -0.77906 -1.73890      3         D\n",
       "4      CYS  0.17467  1.26307  3.17942      4         C\n",
       "5      GLN -0.28242 -0.61399 -1.26118      5         Q\n",
       "6      GLU -0.31422 -0.86138 -1.97530      6         E\n",
       "7      GLY -0.13472 -0.21850 -0.30654      7         G\n",
       "8      HIS -0.17776 -0.18548 -0.18941      8         H\n",
       "9      ILE  0.18318  1.29716  3.40786      9         I\n",
       "10     LEU  0.04142  0.71169  2.03997     10         L\n",
       "11     LYS -0.26107 -0.73069 -1.70513     11         K\n",
       "12     MET -0.17891  0.24583  1.08636     12         M\n",
       "13     PHE  0.06365  0.64734  1.77866     13         F\n",
       "14     PRO -0.17609 -0.26806 -0.42379     14         P\n",
       "15     SER -0.22773 -0.35472 -0.57809     15         S\n",
       "16     THR -0.06580  0.12022  0.46440     16         T\n",
       "17     TRP -0.18529  0.19507  0.94250     17         W\n",
       "18     TYR -0.04176  0.42189  1.34357     18         Y\n",
       "19     VAL  0.23534  1.43618  3.72756     19         V"
      ]
     },
     "execution_count": 125,
     "metadata": {},
     "output_type": "execute_result"
    }
   ],
   "source": [
    "rhoGamma = pd.DataFrame(Gamma[630:].reshape(3,20).T, columns=[\"rho1\", \"rho2\", \"rho3\"]).reset_index()\n",
    "rhoGamma[\"oneLetter\"] = rhoGamma[\"index\"].apply(lambda x: inverse_res_type_map[x])\n",
    "rhoGamma[\"Residue\"] = rhoGamma[\"index\"].apply(lambda x: one_to_three(inverse_res_type_map[x]))\n",
    "rhoGamma = rhoGamma[[\"Residue\", \"rho1\", \"rho2\", \"rho3\", \"index\", \"oneLetter\"]]\n",
    "g = rhoGamma[[\"rho1\", \"rho2\", \"rho3\"]].values\n",
    "# np.savetxt(\"/Users/weilu/Research/server/feb_2019/iter_burial_gamma.dat\", g, fmt='%7.4f')\n",
    "rhoGamma"
   ]
  },
  {
   "cell_type": "code",
   "execution_count": 158,
   "metadata": {},
   "outputs": [
    {
     "data": {
      "text/plain": [
       "10.541718494708263"
      ]
     },
     "execution_count": 158,
     "metadata": {},
     "output_type": "execute_result"
    }
   ],
   "source": [
    "pdb_file = \"/Users/weilu/Research/server/feb_2019/iterative_optimization_new_temp_range/all_simulations/1ctf/1ctf/crystal_structure.pdb\"\n",
    "chain_name = \"A\"\n",
    "parser = PDBParser()\n",
    "structure = parser.get_structure('X', pdb_file)\n",
    "chain = list(structure[0][chain_name])\n",
    "n = len(chain)\n",
    "rg = 0.0\n",
    "for i, residue_i in enumerate(chain):\n",
    "#     print(i, residue_i)\n",
    "    for j, residue_j in enumerate(chain[i+1:]):\n",
    "#         print(j)\n",
    "        r = residue_i[\"CA\"] - residue_j[\"CA\"]\n",
    "        rg += r**2\n",
    "(rg/(n**2))**0.5\n",
    "#         Rg = Rg + rsq"
   ]
  },
  {
   "cell_type": "code",
   "execution_count": 160,
   "metadata": {},
   "outputs": [
    {
     "data": {
      "text/plain": [
       "9.55076700635943"
      ]
     },
     "execution_count": 160,
     "metadata": {},
     "output_type": "execute_result"
    }
   ],
   "source": [
    "p = \"1enh\"\n",
    "p = \"1fc2\"\n",
    "def computeRg(p):\n",
    "    pdb_file = f\"/Users/weilu/Research/server/feb_2019/iterative_optimization_new_temp_range/all_simulations/{p}/{p}/crystal_structure.pdb\"\n",
    "    chain_name = \"A\"\n",
    "    parser = PDBParser()\n",
    "    structure = parser.get_structure('X', pdb_file)\n",
    "    chain = list(structure[0][chain_name])\n",
    "    n = len(chain)\n",
    "    rg = 0.0\n",
    "    for i, residue_i in enumerate(chain):\n",
    "    #     print(i, residue_i)\n",
    "        for j, residue_j in enumerate(chain[i+1:]):\n",
    "    #         print(j)\n",
    "            r = residue_i[\"CA\"] - residue_j[\"CA\"]\n",
    "            rg += r**2\n",
    "    return (rg/(n**2))**0.5"
   ]
  },
  {
   "cell_type": "code",
   "execution_count": null,
   "metadata": {},
   "outputs": [],
   "source": []
  },
  {
   "cell_type": "code",
   "execution_count": null,
   "metadata": {},
   "outputs": [],
   "source": []
  },
  {
   "cell_type": "code",
   "execution_count": null,
   "metadata": {},
   "outputs": [],
   "source": []
  },
  {
   "cell_type": "code",
   "execution_count": null,
   "metadata": {},
   "outputs": [],
   "source": []
  },
  {
   "cell_type": "code",
   "execution_count": 102,
   "metadata": {},
   "outputs": [
    {
     "data": {
      "text/plain": [
       "[<matplotlib.lines.Line2D at 0x1a2a4b9f28>]"
      ]
     },
     "execution_count": 102,
     "metadata": {},
     "output_type": "execute_result"
    },
    {
     "data": {
      "image/png": "[encoded data removed]",
      "text/plain": [
       "<Figure size 582.492x360 with 1 Axes>"
      ]
     },
     "metadata": {
      "needs_background": "light"
     },
     "output_type": "display_data"
    }
   ],
   "source": [
    "plt.plot(filtered_lamb[:50])"
   ]
  },
  {
   "cell_type": "code",
   "execution_count": 89,
   "metadata": {},
   "outputs": [
    {
     "data": {
      "text/plain": [
       "[<matplotlib.lines.Line2D at 0x1a488b1f28>]"
      ]
     },
     "execution_count": 89,
     "metadata": {},
     "output_type": "execute_result"
    },
    {
     "data": {
      "image/png": "[encoded data removed]",
      "text/plain": [
       "<Figure size 582.492x360 with 1 Axes>"
      ]
     },
     "metadata": {
      "needs_background": "light"
     },
     "output_type": "display_data"
    }
   ],
   "source": [
    "plt.plot(lamb[:50])\n"
   ]
  },
  {
   "cell_type": "code",
   "execution_count": 83,
   "metadata": {},
   "outputs": [
    {
     "data": {
      "text/plain": [
       "[<matplotlib.lines.Line2D at 0x1a48413198>]"
      ]
     },
     "execution_count": 83,
     "metadata": {},
     "output_type": "execute_result"
    },
    {
     "data": {
      "image/png": "[encoded data removed]",
      "text/plain": [
       "<Figure size 582.492x360 with 1 Axes>"
      ]
     },
     "metadata": {
      "needs_background": "light"
     },
     "output_type": "display_data"
    }
   ],
   "source": [
    "plt.plot(Lamb[:50])"
   ]
  },
  {
   "cell_type": "code",
   "execution_count": 81,
   "metadata": {},
   "outputs": [
    {
     "data": {
      "text/plain": [
       "[<matplotlib.lines.Line2D at 0x1a481b9470>]"
      ]
     },
     "execution_count": 81,
     "metadata": {},
     "output_type": "execute_result"
    },
    {
     "data": {
      "image/png": "[encoded data removed]",
      "text/plain": [
       "<Figure size 582.492x360 with 1 Axes>"
      ]
     },
     "metadata": {
      "needs_background": "light"
     },
     "output_type": "display_data"
    }
   ],
   "source": [
    "plt.plot(Lamb_filtered)"
   ]
  },
  {
   "cell_type": "code",
   "execution_count": null,
   "metadata": {},
   "outputs": [],
   "source": [
    "std_half_B"
   ]
  },
  {
   "cell_type": "code",
   "execution_count": 148,
   "metadata": {},
   "outputs": [
    {
     "data": {
      "text/plain": [
       "<matplotlib.colorbar.Colorbar at 0x1a46642c50>"
      ]
     },
     "execution_count": 148,
     "metadata": {},
     "output_type": "execute_result"
    },
    {
     "data": {
      "image/png": "[encoded data removed]",
      "text/plain": [
       "<Figure size 582.492x360 with 2 Axes>"
      ]
     },
     "metadata": {
      "needs_background": "light"
     },
     "output_type": "display_data"
    }
   ],
   "source": [
    "plt.imshow(std_half_B, cmap=\"binary\")\n",
    "plt.colorbar()"
   ]
  },
  {
   "cell_type": "code",
   "execution_count": 96,
   "metadata": {},
   "outputs": [
    {
     "data": {
      "text/plain": [
       "<matplotlib.colorbar.Colorbar at 0x1a2909ee10>"
      ]
     },
     "execution_count": 96,
     "metadata": {},
     "output_type": "execute_result"
    },
    {
     "data": {
      "image/png": "[encoded data removed]",
      "text/plain": [
       "<Figure size 582.492x360 with 2 Axes>"
      ]
     },
     "metadata": {
      "needs_background": "light"
     },
     "output_type": "display_data"
    }
   ],
   "source": [
    "plt.imshow(np.log10(std_half_B+0.1), cmap=\"binary\")\n",
    "plt.colorbar()"
   ]
  },
  {
   "cell_type": "code",
   "execution_count": 42,
   "metadata": {},
   "outputs": [
    {
     "data": {
      "text/plain": [
       "array([[0.     , 0.     , 0.     , ..., 0.     , 0.     , 0.     ],\n",
       "       [0.     , 0.     , 0.     , ..., 0.     , 0.     , 0.     ],\n",
       "       [0.     , 0.     , 0.     , ..., 0.     , 0.     , 0.     ],\n",
       "       ...,\n",
       "       [0.     , 0.     , 0.     , ..., 0.     , 0.     , 0.     ],\n",
       "       [0.     , 0.     , 0.     , ..., 0.     , 0.27402, 0.10465],\n",
       "       [0.     , 0.     , 0.     , ..., 0.     , 0.10465, 0.28193]])"
      ]
     },
     "execution_count": 42,
     "metadata": {},
     "output_type": "execute_result"
    }
   ],
   "source": [
    "std_half_B"
   ]
  },
  {
   "cell_type": "code",
   "execution_count": 35,
   "metadata": {},
   "outputs": [
    {
     "data": {
      "text/plain": [
       "[<matplotlib.lines.Line2D at 0x1a1bab5dd8>]"
      ]
     },
     "execution_count": 35,
     "metadata": {},
     "output_type": "execute_result"
    },
    {
     "data": {
      "image/png": "[encoded data removed]",
      "text/plain": [
       "<Figure size 582.492x360 with 1 Axes>"
      ]
     },
     "metadata": {
      "needs_background": "light"
     },
     "output_type": "display_data"
    }
   ],
   "source": [
    "plt.plot(filtered_lamb[340:360])"
   ]
  },
  {
   "cell_type": "code",
   "execution_count": 33,
   "metadata": {},
   "outputs": [
    {
     "data": {
      "text/plain": [
       "[<matplotlib.lines.Line2D at 0x1a198f4198>]"
      ]
     },
     "execution_count": 33,
     "metadata": {},
     "output_type": "execute_result"
    },
    {
     "data": {
      "image/png": "[encoded data removed]",
      "text/plain": [
       "<Figure size 582.492x360 with 1 Axes>"
      ]
     },
     "metadata": {
      "needs_background": "light"
     },
     "output_type": "display_data"
    }
   ],
   "source": [
    "plt.plot(Lamb[340:360])"
   ]
  },
  {
   "cell_type": "code",
   "execution_count": 34,
   "metadata": {},
   "outputs": [
    {
     "data": {
      "text/plain": [
       "[<matplotlib.lines.Line2D at 0x1a1a0947b8>]"
      ]
     },
     "execution_count": 34,
     "metadata": {},
     "output_type": "execute_result"
    },
    {
     "data": {
      "image/png": "[encoded data removed]",
      "text/plain": [
       "<Figure size 582.492x360 with 1 Axes>"
      ]
     },
     "metadata": {
      "needs_background": "light"
     },
     "output_type": "display_data"
    }
   ],
   "source": [
    "plt.plot(Lamb_filtered[340:360])"
   ]
  },
  {
   "cell_type": "code",
   "execution_count": 24,
   "metadata": {},
   "outputs": [
    {
     "data": {
      "text/plain": [
       "[<matplotlib.lines.Line2D at 0x1a194890b8>]"
      ]
     },
     "execution_count": 24,
     "metadata": {},
     "output_type": "execute_result"
    },
    {
     "data": {
      "image/png": "[encoded data removed]",
      "text/plain": [
       "<Figure size 582.492x360 with 1 Axes>"
      ]
     },
     "metadata": {
      "needs_background": "light"
     },
     "output_type": "display_data"
    }
   ],
   "source": [
    "plt.plot(Lamb_filtered[:10])"
   ]
  },
  {
   "cell_type": "code",
   "execution_count": 103,
   "metadata": {},
   "outputs": [
    {
     "data": {
      "image/png": "[encoded data removed]",
      "text/plain": [
       "<Figure size 582.492x360 with 2 Axes>"
      ]
     },
     "metadata": {
      "needs_background": "light"
     },
     "output_type": "display_data"
    }
   ],
   "source": [
    "plot_contact_well(filtered_gamma[:210], inferBound=True, invert_sign=False)"
   ]
  },
  {
   "cell_type": "code",
   "execution_count": 104,
   "metadata": {},
   "outputs": [
    {
     "data": {
      "image/png": "[encoded data removed]",
      "text/plain": [
       "<Figure size 582.492x360 with 2 Axes>"
      ]
     },
     "metadata": {
      "needs_background": "light"
     },
     "output_type": "display_data"
    }
   ],
   "source": [
    "plot_contact_well(filtered_gamma[210:420], inferBound=True, invert_sign=False)"
   ]
  },
  {
   "cell_type": "code",
   "execution_count": 91,
   "metadata": {},
   "outputs": [
    {
     "data": {
      "image/png": "[encoded data removed]",
      "text/plain": [
       "<Figure size 582.492x360 with 2 Axes>"
      ]
     },
     "metadata": {
      "needs_background": "light"
     },
     "output_type": "display_data"
    }
   ],
   "source": [
    "plot_contact_well(filtered_gamma[:210], inferBound=True, invert_sign=False)"
   ]
  },
  {
   "cell_type": "code",
   "execution_count": 92,
   "metadata": {},
   "outputs": [
    {
     "data": {
      "image/png": "[encoded data removed]",
      "text/plain": [
       "<Figure size 582.492x360 with 2 Axes>"
      ]
     },
     "metadata": {
      "needs_background": "light"
     },
     "output_type": "display_data"
    }
   ],
   "source": [
    "plot_contact_well(filtered_gamma[210:420], inferBound=True, invert_sign=False)"
   ]
  },
  {
   "cell_type": "code",
   "execution_count": 47,
   "metadata": {},
   "outputs": [
    {
     "data": {
      "image/png": "[encoded data removed]",
      "text/plain": [
       "<Figure size 582.492x360 with 2 Axes>"
      ]
     },
     "metadata": {
      "needs_background": "light"
     },
     "output_type": "display_data"
    }
   ],
   "source": [
    "plot_contact_well(Gamma[:210], inferBound=True, invert_sign=False)"
   ]
  },
  {
   "cell_type": "code",
   "execution_count": 46,
   "metadata": {},
   "outputs": [
    {
     "data": {
      "image/png": "[encoded data removed]",
      "text/plain": [
       "<Figure size 582.492x360 with 2 Axes>"
      ]
     },
     "metadata": {
      "needs_background": "light"
     },
     "output_type": "display_data"
    }
   ],
   "source": [
    "plot_contact_well(Gamma_filtered[:210], inferBound=True, invert_sign=False)"
   ]
  },
  {
   "cell_type": "code",
   "execution_count": 18,
   "metadata": {},
   "outputs": [
    {
     "data": {
      "image/png": "[encoded data removed]",
      "text/plain": [
       "<Figure size 582.492x360 with 2 Axes>"
      ]
     },
     "metadata": {
      "needs_background": "light"
     },
     "output_type": "display_data"
    }
   ],
   "source": [
    "plot_contact_well(Gamma_filtered[:210], inferBound=True, invert_sign=False)"
   ]
  },
  {
   "cell_type": "code",
   "execution_count": 15,
   "metadata": {},
   "outputs": [
    {
     "data": {
      "image/png": "[encoded data removed]",
      "text/plain": [
       "<Figure size 582.492x360 with 2 Axes>"
      ]
     },
     "metadata": {
      "needs_background": "light"
     },
     "output_type": "display_data"
    }
   ],
   "source": [
    "plot_contact_well(Gamma_filtered[:210], inferBound=True, invert_sign=False)"
   ]
  },
  {
   "cell_type": "code",
   "execution_count": 105,
   "metadata": {},
   "outputs": [
    {
     "data": {
      "text/html": [
       "<div>\n",
       "<style scoped>\n",
       "    .dataframe tbody tr th:only-of-type {\n",
       "        vertical-align: middle;\n",
       "    }\n",
       "\n",
       "    .dataframe tbody tr th {\n",
       "        vertical-align: top;\n",
       "    }\n",
       "\n",
       "    .dataframe thead th {\n",
       "        text-align: right;\n",
       "    }\n",
       "</style>\n",
       "<table border=\"1\" class=\"dataframe\">\n",
       "  <thead>\n",
       "    <tr style=\"text-align: right;\">\n",
       "      <th></th>\n",
       "      <th>Residue</th>\n",
       "      <th>rho1</th>\n",
       "      <th>rho2</th>\n",
       "      <th>rho3</th>\n",
       "      <th>index</th>\n",
       "      <th>oneLetter</th>\n",
       "    </tr>\n",
       "  </thead>\n",
       "  <tbody>\n",
       "    <tr>\n",
       "      <th>0</th>\n",
       "      <td>ALA</td>\n",
       "      <td>-2.170222</td>\n",
       "      <td>-0.052178</td>\n",
       "      <td>2.328316</td>\n",
       "      <td>0</td>\n",
       "      <td>A</td>\n",
       "    </tr>\n",
       "    <tr>\n",
       "      <th>1</th>\n",
       "      <td>ARG</td>\n",
       "      <td>0.000000</td>\n",
       "      <td>0.000000</td>\n",
       "      <td>0.000000</td>\n",
       "      <td>1</td>\n",
       "      <td>R</td>\n",
       "    </tr>\n",
       "    <tr>\n",
       "      <th>2</th>\n",
       "      <td>ASN</td>\n",
       "      <td>-5.151723</td>\n",
       "      <td>2.799517</td>\n",
       "      <td>0.008587</td>\n",
       "      <td>2</td>\n",
       "      <td>N</td>\n",
       "    </tr>\n",
       "    <tr>\n",
       "      <th>3</th>\n",
       "      <td>ASP</td>\n",
       "      <td>-0.213356</td>\n",
       "      <td>0.993850</td>\n",
       "      <td>-3.581864</td>\n",
       "      <td>3</td>\n",
       "      <td>D</td>\n",
       "    </tr>\n",
       "    <tr>\n",
       "      <th>4</th>\n",
       "      <td>CYS</td>\n",
       "      <td>0.000000</td>\n",
       "      <td>0.000000</td>\n",
       "      <td>0.000000</td>\n",
       "      <td>4</td>\n",
       "      <td>C</td>\n",
       "    </tr>\n",
       "    <tr>\n",
       "      <th>5</th>\n",
       "      <td>GLN</td>\n",
       "      <td>0.717076</td>\n",
       "      <td>1.384744</td>\n",
       "      <td>-1.266806</td>\n",
       "      <td>5</td>\n",
       "      <td>Q</td>\n",
       "    </tr>\n",
       "    <tr>\n",
       "      <th>6</th>\n",
       "      <td>GLU</td>\n",
       "      <td>-2.852692</td>\n",
       "      <td>-3.773215</td>\n",
       "      <td>-5.929980</td>\n",
       "      <td>6</td>\n",
       "      <td>E</td>\n",
       "    </tr>\n",
       "    <tr>\n",
       "      <th>7</th>\n",
       "      <td>GLY</td>\n",
       "      <td>1.441271</td>\n",
       "      <td>2.158153</td>\n",
       "      <td>-0.307456</td>\n",
       "      <td>7</td>\n",
       "      <td>G</td>\n",
       "    </tr>\n",
       "    <tr>\n",
       "      <th>8</th>\n",
       "      <td>HIS</td>\n",
       "      <td>0.000000</td>\n",
       "      <td>0.000000</td>\n",
       "      <td>0.000000</td>\n",
       "      <td>8</td>\n",
       "      <td>H</td>\n",
       "    </tr>\n",
       "    <tr>\n",
       "      <th>9</th>\n",
       "      <td>ILE</td>\n",
       "      <td>-22.295686</td>\n",
       "      <td>8.253337</td>\n",
       "      <td>2.149129</td>\n",
       "      <td>9</td>\n",
       "      <td>I</td>\n",
       "    </tr>\n",
       "    <tr>\n",
       "      <th>10</th>\n",
       "      <td>LEU</td>\n",
       "      <td>-16.457671</td>\n",
       "      <td>-5.935514</td>\n",
       "      <td>4.575022</td>\n",
       "      <td>10</td>\n",
       "      <td>L</td>\n",
       "    </tr>\n",
       "    <tr>\n",
       "      <th>11</th>\n",
       "      <td>LYS</td>\n",
       "      <td>-0.514284</td>\n",
       "      <td>0.238815</td>\n",
       "      <td>1.084299</td>\n",
       "      <td>11</td>\n",
       "      <td>K</td>\n",
       "    </tr>\n",
       "    <tr>\n",
       "      <th>12</th>\n",
       "      <td>MET</td>\n",
       "      <td>-10.235266</td>\n",
       "      <td>-0.348973</td>\n",
       "      <td>1.254733</td>\n",
       "      <td>12</td>\n",
       "      <td>M</td>\n",
       "    </tr>\n",
       "    <tr>\n",
       "      <th>13</th>\n",
       "      <td>PHE</td>\n",
       "      <td>-21.192612</td>\n",
       "      <td>-4.130757</td>\n",
       "      <td>-2.562366</td>\n",
       "      <td>13</td>\n",
       "      <td>F</td>\n",
       "    </tr>\n",
       "    <tr>\n",
       "      <th>14</th>\n",
       "      <td>PRO</td>\n",
       "      <td>-3.460562</td>\n",
       "      <td>-4.976910</td>\n",
       "      <td>-1.574999</td>\n",
       "      <td>14</td>\n",
       "      <td>P</td>\n",
       "    </tr>\n",
       "    <tr>\n",
       "      <th>15</th>\n",
       "      <td>SER</td>\n",
       "      <td>0.734854</td>\n",
       "      <td>-1.010710</td>\n",
       "      <td>-2.065968</td>\n",
       "      <td>15</td>\n",
       "      <td>S</td>\n",
       "    </tr>\n",
       "    <tr>\n",
       "      <th>16</th>\n",
       "      <td>THR</td>\n",
       "      <td>0.625312</td>\n",
       "      <td>0.140819</td>\n",
       "      <td>-0.044383</td>\n",
       "      <td>16</td>\n",
       "      <td>T</td>\n",
       "    </tr>\n",
       "    <tr>\n",
       "      <th>17</th>\n",
       "      <td>TRP</td>\n",
       "      <td>0.000000</td>\n",
       "      <td>0.000000</td>\n",
       "      <td>0.000000</td>\n",
       "      <td>17</td>\n",
       "      <td>W</td>\n",
       "    </tr>\n",
       "    <tr>\n",
       "      <th>18</th>\n",
       "      <td>TYR</td>\n",
       "      <td>-6.484124</td>\n",
       "      <td>-2.436100</td>\n",
       "      <td>2.426431</td>\n",
       "      <td>18</td>\n",
       "      <td>Y</td>\n",
       "    </tr>\n",
       "    <tr>\n",
       "      <th>19</th>\n",
       "      <td>VAL</td>\n",
       "      <td>-2.374064</td>\n",
       "      <td>-6.661438</td>\n",
       "      <td>3.002921</td>\n",
       "      <td>19</td>\n",
       "      <td>V</td>\n",
       "    </tr>\n",
       "  </tbody>\n",
       "</table>\n",
       "</div>"
      ],
      "text/plain": [
       "   Residue       rho1      rho2      rho3  index oneLetter\n",
       "0      ALA  -2.170222 -0.052178  2.328316      0         A\n",
       "1      ARG   0.000000  0.000000  0.000000      1         R\n",
       "2      ASN  -5.151723  2.799517  0.008587      2         N\n",
       "3      ASP  -0.213356  0.993850 -3.581864      3         D\n",
       "4      CYS   0.000000  0.000000  0.000000      4         C\n",
       "5      GLN   0.717076  1.384744 -1.266806      5         Q\n",
       "6      GLU  -2.852692 -3.773215 -5.929980      6         E\n",
       "7      GLY   1.441271  2.158153 -0.307456      7         G\n",
       "8      HIS   0.000000  0.000000  0.000000      8         H\n",
       "9      ILE -22.295686  8.253337  2.149129      9         I\n",
       "10     LEU -16.457671 -5.935514  4.575022     10         L\n",
       "11     LYS  -0.514284  0.238815  1.084299     11         K\n",
       "12     MET -10.235266 -0.348973  1.254733     12         M\n",
       "13     PHE -21.192612 -4.130757 -2.562366     13         F\n",
       "14     PRO  -3.460562 -4.976910 -1.574999     14         P\n",
       "15     SER   0.734854 -1.010710 -2.065968     15         S\n",
       "16     THR   0.625312  0.140819 -0.044383     16         T\n",
       "17     TRP   0.000000  0.000000  0.000000     17         W\n",
       "18     TYR  -6.484124 -2.436100  2.426431     18         Y\n",
       "19     VAL  -2.374064 -6.661438  3.002921     19         V"
      ]
     },
     "execution_count": 105,
     "metadata": {},
     "output_type": "execute_result"
    }
   ],
   "source": [
    "rhoGamma = pd.DataFrame(filtered_gamma[630:].reshape(3,20).T, columns=[\"rho1\", \"rho2\", \"rho3\"]).reset_index()\n",
    "rhoGamma[\"oneLetter\"] = rhoGamma[\"index\"].apply(lambda x: inverse_res_type_map[x])\n",
    "rhoGamma[\"Residue\"] = rhoGamma[\"index\"].apply(lambda x: one_to_three(inverse_res_type_map[x]))\n",
    "rhoGamma = rhoGamma[[\"Residue\", \"rho1\", \"rho2\", \"rho3\", \"index\", \"oneLetter\"]]\n",
    "g = rhoGamma[[\"rho1\", \"rho2\", \"rho3\"]].values\n",
    "# np.savetxt(\"/Users/weilu/Research/server/feb_2019/iter_burial_gamma.dat\", g, fmt='%7.4f')\n",
    "rhoGamma"
   ]
  },
  {
   "cell_type": "code",
   "execution_count": 93,
   "metadata": {},
   "outputs": [
    {
     "data": {
      "text/html": [
       "<div>\n",
       "<style scoped>\n",
       "    .dataframe tbody tr th:only-of-type {\n",
       "        vertical-align: middle;\n",
       "    }\n",
       "\n",
       "    .dataframe tbody tr th {\n",
       "        vertical-align: top;\n",
       "    }\n",
       "\n",
       "    .dataframe thead th {\n",
       "        text-align: right;\n",
       "    }\n",
       "</style>\n",
       "<table border=\"1\" class=\"dataframe\">\n",
       "  <thead>\n",
       "    <tr style=\"text-align: right;\">\n",
       "      <th></th>\n",
       "      <th>Residue</th>\n",
       "      <th>rho1</th>\n",
       "      <th>rho2</th>\n",
       "      <th>rho3</th>\n",
       "      <th>index</th>\n",
       "      <th>oneLetter</th>\n",
       "    </tr>\n",
       "  </thead>\n",
       "  <tbody>\n",
       "    <tr>\n",
       "      <th>0</th>\n",
       "      <td>ALA</td>\n",
       "      <td>0.017200</td>\n",
       "      <td>-0.162550</td>\n",
       "      <td>0.144266</td>\n",
       "      <td>0</td>\n",
       "      <td>A</td>\n",
       "    </tr>\n",
       "    <tr>\n",
       "      <th>1</th>\n",
       "      <td>ARG</td>\n",
       "      <td>0.000000</td>\n",
       "      <td>0.000000</td>\n",
       "      <td>0.000000</td>\n",
       "      <td>1</td>\n",
       "      <td>R</td>\n",
       "    </tr>\n",
       "    <tr>\n",
       "      <th>2</th>\n",
       "      <td>ASN</td>\n",
       "      <td>-0.044303</td>\n",
       "      <td>0.020250</td>\n",
       "      <td>0.000064</td>\n",
       "      <td>2</td>\n",
       "      <td>N</td>\n",
       "    </tr>\n",
       "    <tr>\n",
       "      <th>3</th>\n",
       "      <td>ASP</td>\n",
       "      <td>-0.108319</td>\n",
       "      <td>0.269989</td>\n",
       "      <td>-0.196254</td>\n",
       "      <td>3</td>\n",
       "      <td>D</td>\n",
       "    </tr>\n",
       "    <tr>\n",
       "      <th>4</th>\n",
       "      <td>CYS</td>\n",
       "      <td>0.000000</td>\n",
       "      <td>0.000000</td>\n",
       "      <td>0.000000</td>\n",
       "      <td>4</td>\n",
       "      <td>C</td>\n",
       "    </tr>\n",
       "    <tr>\n",
       "      <th>5</th>\n",
       "      <td>GLN</td>\n",
       "      <td>0.004084</td>\n",
       "      <td>-0.082408</td>\n",
       "      <td>0.117687</td>\n",
       "      <td>5</td>\n",
       "      <td>Q</td>\n",
       "    </tr>\n",
       "    <tr>\n",
       "      <th>6</th>\n",
       "      <td>GLU</td>\n",
       "      <td>0.008938</td>\n",
       "      <td>0.162961</td>\n",
       "      <td>-0.259982</td>\n",
       "      <td>6</td>\n",
       "      <td>E</td>\n",
       "    </tr>\n",
       "    <tr>\n",
       "      <th>7</th>\n",
       "      <td>GLY</td>\n",
       "      <td>-0.019093</td>\n",
       "      <td>-0.043874</td>\n",
       "      <td>0.001203</td>\n",
       "      <td>7</td>\n",
       "      <td>G</td>\n",
       "    </tr>\n",
       "    <tr>\n",
       "      <th>8</th>\n",
       "      <td>HIS</td>\n",
       "      <td>0.000000</td>\n",
       "      <td>0.000000</td>\n",
       "      <td>0.000000</td>\n",
       "      <td>8</td>\n",
       "      <td>H</td>\n",
       "    </tr>\n",
       "    <tr>\n",
       "      <th>9</th>\n",
       "      <td>ILE</td>\n",
       "      <td>-0.372318</td>\n",
       "      <td>0.184558</td>\n",
       "      <td>0.078965</td>\n",
       "      <td>9</td>\n",
       "      <td>I</td>\n",
       "    </tr>\n",
       "    <tr>\n",
       "      <th>10</th>\n",
       "      <td>LEU</td>\n",
       "      <td>-1.351904</td>\n",
       "      <td>-1.011399</td>\n",
       "      <td>1.544757</td>\n",
       "      <td>10</td>\n",
       "      <td>L</td>\n",
       "    </tr>\n",
       "    <tr>\n",
       "      <th>11</th>\n",
       "      <td>LYS</td>\n",
       "      <td>-0.761485</td>\n",
       "      <td>0.536285</td>\n",
       "      <td>0.098874</td>\n",
       "      <td>11</td>\n",
       "      <td>K</td>\n",
       "    </tr>\n",
       "    <tr>\n",
       "      <th>12</th>\n",
       "      <td>MET</td>\n",
       "      <td>-0.227732</td>\n",
       "      <td>0.124536</td>\n",
       "      <td>0.001619</td>\n",
       "      <td>12</td>\n",
       "      <td>M</td>\n",
       "    </tr>\n",
       "    <tr>\n",
       "      <th>13</th>\n",
       "      <td>PHE</td>\n",
       "      <td>-0.677421</td>\n",
       "      <td>-0.317522</td>\n",
       "      <td>0.338177</td>\n",
       "      <td>13</td>\n",
       "      <td>F</td>\n",
       "    </tr>\n",
       "    <tr>\n",
       "      <th>14</th>\n",
       "      <td>PRO</td>\n",
       "      <td>0.018613</td>\n",
       "      <td>-0.020599</td>\n",
       "      <td>0.000382</td>\n",
       "      <td>14</td>\n",
       "      <td>P</td>\n",
       "    </tr>\n",
       "    <tr>\n",
       "      <th>15</th>\n",
       "      <td>SER</td>\n",
       "      <td>0.210824</td>\n",
       "      <td>-0.257844</td>\n",
       "      <td>0.006150</td>\n",
       "      <td>15</td>\n",
       "      <td>S</td>\n",
       "    </tr>\n",
       "    <tr>\n",
       "      <th>16</th>\n",
       "      <td>THR</td>\n",
       "      <td>-0.193538</td>\n",
       "      <td>0.178781</td>\n",
       "      <td>0.003723</td>\n",
       "      <td>16</td>\n",
       "      <td>T</td>\n",
       "    </tr>\n",
       "    <tr>\n",
       "      <th>17</th>\n",
       "      <td>TRP</td>\n",
       "      <td>0.000000</td>\n",
       "      <td>0.000000</td>\n",
       "      <td>0.000000</td>\n",
       "      <td>17</td>\n",
       "      <td>W</td>\n",
       "    </tr>\n",
       "    <tr>\n",
       "      <th>18</th>\n",
       "      <td>TYR</td>\n",
       "      <td>-0.009700</td>\n",
       "      <td>-0.195456</td>\n",
       "      <td>0.155855</td>\n",
       "      <td>18</td>\n",
       "      <td>Y</td>\n",
       "    </tr>\n",
       "    <tr>\n",
       "      <th>19</th>\n",
       "      <td>VAL</td>\n",
       "      <td>-0.167191</td>\n",
       "      <td>-0.445578</td>\n",
       "      <td>0.078406</td>\n",
       "      <td>19</td>\n",
       "      <td>V</td>\n",
       "    </tr>\n",
       "  </tbody>\n",
       "</table>\n",
       "</div>"
      ],
      "text/plain": [
       "   Residue      rho1      rho2      rho3  index oneLetter\n",
       "0      ALA  0.017200 -0.162550  0.144266      0         A\n",
       "1      ARG  0.000000  0.000000  0.000000      1         R\n",
       "2      ASN -0.044303  0.020250  0.000064      2         N\n",
       "3      ASP -0.108319  0.269989 -0.196254      3         D\n",
       "4      CYS  0.000000  0.000000  0.000000      4         C\n",
       "5      GLN  0.004084 -0.082408  0.117687      5         Q\n",
       "6      GLU  0.008938  0.162961 -0.259982      6         E\n",
       "7      GLY -0.019093 -0.043874  0.001203      7         G\n",
       "8      HIS  0.000000  0.000000  0.000000      8         H\n",
       "9      ILE -0.372318  0.184558  0.078965      9         I\n",
       "10     LEU -1.351904 -1.011399  1.544757     10         L\n",
       "11     LYS -0.761485  0.536285  0.098874     11         K\n",
       "12     MET -0.227732  0.124536  0.001619     12         M\n",
       "13     PHE -0.677421 -0.317522  0.338177     13         F\n",
       "14     PRO  0.018613 -0.020599  0.000382     14         P\n",
       "15     SER  0.210824 -0.257844  0.006150     15         S\n",
       "16     THR -0.193538  0.178781  0.003723     16         T\n",
       "17     TRP  0.000000  0.000000  0.000000     17         W\n",
       "18     TYR -0.009700 -0.195456  0.155855     18         Y\n",
       "19     VAL -0.167191 -0.445578  0.078406     19         V"
      ]
     },
     "execution_count": 93,
     "metadata": {},
     "output_type": "execute_result"
    }
   ],
   "source": [
    "rhoGamma = pd.DataFrame(filtered_gamma[630:].reshape(3,20).T, columns=[\"rho1\", \"rho2\", \"rho3\"]).reset_index()\n",
    "rhoGamma[\"oneLetter\"] = rhoGamma[\"index\"].apply(lambda x: inverse_res_type_map[x])\n",
    "rhoGamma[\"Residue\"] = rhoGamma[\"index\"].apply(lambda x: one_to_three(inverse_res_type_map[x]))\n",
    "rhoGamma = rhoGamma[[\"Residue\", \"rho1\", \"rho2\", \"rho3\", \"index\", \"oneLetter\"]]\n",
    "g = rhoGamma[[\"rho1\", \"rho2\", \"rho3\"]].values\n",
    "# np.savetxt(\"/Users/weilu/Research/server/feb_2019/iter_burial_gamma.dat\", g, fmt='%7.4f')\n",
    "rhoGamma"
   ]
  },
  {
   "cell_type": "code",
   "execution_count": 48,
   "metadata": {},
   "outputs": [
    {
     "data": {
      "text/html": [
       "<div>\n",
       "<style scoped>\n",
       "    .dataframe tbody tr th:only-of-type {\n",
       "        vertical-align: middle;\n",
       "    }\n",
       "\n",
       "    .dataframe tbody tr th {\n",
       "        vertical-align: top;\n",
       "    }\n",
       "\n",
       "    .dataframe thead th {\n",
       "        text-align: right;\n",
       "    }\n",
       "</style>\n",
       "<table border=\"1\" class=\"dataframe\">\n",
       "  <thead>\n",
       "    <tr style=\"text-align: right;\">\n",
       "      <th></th>\n",
       "      <th>Residue</th>\n",
       "      <th>rho1</th>\n",
       "      <th>rho2</th>\n",
       "      <th>rho3</th>\n",
       "      <th>index</th>\n",
       "      <th>oneLetter</th>\n",
       "    </tr>\n",
       "  </thead>\n",
       "  <tbody>\n",
       "    <tr>\n",
       "      <th>0</th>\n",
       "      <td>ALA</td>\n",
       "      <td>14.71474</td>\n",
       "      <td>22.56941</td>\n",
       "      <td>34.11893</td>\n",
       "      <td>0</td>\n",
       "      <td>A</td>\n",
       "    </tr>\n",
       "    <tr>\n",
       "      <th>1</th>\n",
       "      <td>ARG</td>\n",
       "      <td>0.00000</td>\n",
       "      <td>0.00000</td>\n",
       "      <td>0.00000</td>\n",
       "      <td>1</td>\n",
       "      <td>R</td>\n",
       "    </tr>\n",
       "    <tr>\n",
       "      <th>2</th>\n",
       "      <td>ASN</td>\n",
       "      <td>5.43588</td>\n",
       "      <td>13.60091</td>\n",
       "      <td>-234.60303</td>\n",
       "      <td>2</td>\n",
       "      <td>N</td>\n",
       "    </tr>\n",
       "    <tr>\n",
       "      <th>3</th>\n",
       "      <td>ASP</td>\n",
       "      <td>8.10523</td>\n",
       "      <td>6.06249</td>\n",
       "      <td>-11.54394</td>\n",
       "      <td>3</td>\n",
       "      <td>D</td>\n",
       "    </tr>\n",
       "    <tr>\n",
       "      <th>4</th>\n",
       "      <td>CYS</td>\n",
       "      <td>0.00000</td>\n",
       "      <td>0.00000</td>\n",
       "      <td>0.00000</td>\n",
       "      <td>4</td>\n",
       "      <td>C</td>\n",
       "    </tr>\n",
       "    <tr>\n",
       "      <th>5</th>\n",
       "      <td>GLN</td>\n",
       "      <td>-19.56876</td>\n",
       "      <td>-21.08062</td>\n",
       "      <td>-20.14578</td>\n",
       "      <td>5</td>\n",
       "      <td>Q</td>\n",
       "    </tr>\n",
       "    <tr>\n",
       "      <th>6</th>\n",
       "      <td>GLU</td>\n",
       "      <td>16.20551</td>\n",
       "      <td>10.71726</td>\n",
       "      <td>-1.86554</td>\n",
       "      <td>6</td>\n",
       "      <td>E</td>\n",
       "    </tr>\n",
       "    <tr>\n",
       "      <th>7</th>\n",
       "      <td>GLY</td>\n",
       "      <td>19.39778</td>\n",
       "      <td>19.56108</td>\n",
       "      <td>-45.40998</td>\n",
       "      <td>7</td>\n",
       "      <td>G</td>\n",
       "    </tr>\n",
       "    <tr>\n",
       "      <th>8</th>\n",
       "      <td>HIS</td>\n",
       "      <td>0.00000</td>\n",
       "      <td>0.00000</td>\n",
       "      <td>0.00000</td>\n",
       "      <td>8</td>\n",
       "      <td>H</td>\n",
       "    </tr>\n",
       "    <tr>\n",
       "      <th>9</th>\n",
       "      <td>ILE</td>\n",
       "      <td>-133.13205</td>\n",
       "      <td>-8.60249</td>\n",
       "      <td>-7.60368</td>\n",
       "      <td>9</td>\n",
       "      <td>I</td>\n",
       "    </tr>\n",
       "    <tr>\n",
       "      <th>10</th>\n",
       "      <td>LEU</td>\n",
       "      <td>1.09626</td>\n",
       "      <td>-5.23007</td>\n",
       "      <td>3.88379</td>\n",
       "      <td>10</td>\n",
       "      <td>L</td>\n",
       "    </tr>\n",
       "    <tr>\n",
       "      <th>11</th>\n",
       "      <td>LYS</td>\n",
       "      <td>-0.63350</td>\n",
       "      <td>-2.80565</td>\n",
       "      <td>-3.05780</td>\n",
       "      <td>11</td>\n",
       "      <td>K</td>\n",
       "    </tr>\n",
       "    <tr>\n",
       "      <th>12</th>\n",
       "      <td>MET</td>\n",
       "      <td>-24.61739</td>\n",
       "      <td>-49.47733</td>\n",
       "      <td>-41.70719</td>\n",
       "      <td>12</td>\n",
       "      <td>M</td>\n",
       "    </tr>\n",
       "    <tr>\n",
       "      <th>13</th>\n",
       "      <td>PHE</td>\n",
       "      <td>-93.43657</td>\n",
       "      <td>-62.29943</td>\n",
       "      <td>-50.29770</td>\n",
       "      <td>13</td>\n",
       "      <td>F</td>\n",
       "    </tr>\n",
       "    <tr>\n",
       "      <th>14</th>\n",
       "      <td>PRO</td>\n",
       "      <td>-31.66426</td>\n",
       "      <td>-42.48370</td>\n",
       "      <td>-43.33566</td>\n",
       "      <td>14</td>\n",
       "      <td>P</td>\n",
       "    </tr>\n",
       "    <tr>\n",
       "      <th>15</th>\n",
       "      <td>SER</td>\n",
       "      <td>25.72116</td>\n",
       "      <td>7.74825</td>\n",
       "      <td>-12.39742</td>\n",
       "      <td>15</td>\n",
       "      <td>S</td>\n",
       "    </tr>\n",
       "    <tr>\n",
       "      <th>16</th>\n",
       "      <td>THR</td>\n",
       "      <td>17.37628</td>\n",
       "      <td>19.86638</td>\n",
       "      <td>-27.63170</td>\n",
       "      <td>16</td>\n",
       "      <td>T</td>\n",
       "    </tr>\n",
       "    <tr>\n",
       "      <th>17</th>\n",
       "      <td>TRP</td>\n",
       "      <td>0.00000</td>\n",
       "      <td>0.00000</td>\n",
       "      <td>0.00000</td>\n",
       "      <td>17</td>\n",
       "      <td>W</td>\n",
       "    </tr>\n",
       "    <tr>\n",
       "      <th>18</th>\n",
       "      <td>TYR</td>\n",
       "      <td>-2.14976</td>\n",
       "      <td>9.31704</td>\n",
       "      <td>5.77931</td>\n",
       "      <td>18</td>\n",
       "      <td>Y</td>\n",
       "    </tr>\n",
       "    <tr>\n",
       "      <th>19</th>\n",
       "      <td>VAL</td>\n",
       "      <td>57.95189</td>\n",
       "      <td>48.51485</td>\n",
       "      <td>23.74566</td>\n",
       "      <td>19</td>\n",
       "      <td>V</td>\n",
       "    </tr>\n",
       "  </tbody>\n",
       "</table>\n",
       "</div>"
      ],
      "text/plain": [
       "   Residue       rho1      rho2       rho3  index oneLetter\n",
       "0      ALA   14.71474  22.56941   34.11893      0         A\n",
       "1      ARG    0.00000   0.00000    0.00000      1         R\n",
       "2      ASN    5.43588  13.60091 -234.60303      2         N\n",
       "3      ASP    8.10523   6.06249  -11.54394      3         D\n",
       "4      CYS    0.00000   0.00000    0.00000      4         C\n",
       "5      GLN  -19.56876 -21.08062  -20.14578      5         Q\n",
       "6      GLU   16.20551  10.71726   -1.86554      6         E\n",
       "7      GLY   19.39778  19.56108  -45.40998      7         G\n",
       "8      HIS    0.00000   0.00000    0.00000      8         H\n",
       "9      ILE -133.13205  -8.60249   -7.60368      9         I\n",
       "10     LEU    1.09626  -5.23007    3.88379     10         L\n",
       "11     LYS   -0.63350  -2.80565   -3.05780     11         K\n",
       "12     MET  -24.61739 -49.47733  -41.70719     12         M\n",
       "13     PHE  -93.43657 -62.29943  -50.29770     13         F\n",
       "14     PRO  -31.66426 -42.48370  -43.33566     14         P\n",
       "15     SER   25.72116   7.74825  -12.39742     15         S\n",
       "16     THR   17.37628  19.86638  -27.63170     16         T\n",
       "17     TRP    0.00000   0.00000    0.00000     17         W\n",
       "18     TYR   -2.14976   9.31704    5.77931     18         Y\n",
       "19     VAL   57.95189  48.51485   23.74566     19         V"
      ]
     },
     "execution_count": 48,
     "metadata": {},
     "output_type": "execute_result"
    }
   ],
   "source": [
    "rhoGamma = pd.DataFrame(Gamma[630:].reshape(3,20).T, columns=[\"rho1\", \"rho2\", \"rho3\"]).reset_index()\n",
    "rhoGamma[\"oneLetter\"] = rhoGamma[\"index\"].apply(lambda x: inverse_res_type_map[x])\n",
    "rhoGamma[\"Residue\"] = rhoGamma[\"index\"].apply(lambda x: one_to_three(inverse_res_type_map[x]))\n",
    "rhoGamma = rhoGamma[[\"Residue\", \"rho1\", \"rho2\", \"rho3\", \"index\", \"oneLetter\"]]\n",
    "g = rhoGamma[[\"rho1\", \"rho2\", \"rho3\"]].values\n",
    "# np.savetxt(\"/Users/weilu/Research/server/feb_2019/iter_burial_gamma.dat\", g, fmt='%7.4f')\n",
    "rhoGamma"
   ]
  },
  {
   "cell_type": "code",
   "execution_count": 16,
   "metadata": {},
   "outputs": [
    {
     "data": {
      "text/html": [
       "<div>\n",
       "<style scoped>\n",
       "    .dataframe tbody tr th:only-of-type {\n",
       "        vertical-align: middle;\n",
       "    }\n",
       "\n",
       "    .dataframe tbody tr th {\n",
       "        vertical-align: top;\n",
       "    }\n",
       "\n",
       "    .dataframe thead th {\n",
       "        text-align: right;\n",
       "    }\n",
       "</style>\n",
       "<table border=\"1\" class=\"dataframe\">\n",
       "  <thead>\n",
       "    <tr style=\"text-align: right;\">\n",
       "      <th></th>\n",
       "      <th>Residue</th>\n",
       "      <th>rho1</th>\n",
       "      <th>rho2</th>\n",
       "      <th>rho3</th>\n",
       "      <th>index</th>\n",
       "      <th>oneLetter</th>\n",
       "    </tr>\n",
       "  </thead>\n",
       "  <tbody>\n",
       "    <tr>\n",
       "      <th>0</th>\n",
       "      <td>ALA</td>\n",
       "      <td>14.71474</td>\n",
       "      <td>22.56941</td>\n",
       "      <td>34.11893</td>\n",
       "      <td>0</td>\n",
       "      <td>A</td>\n",
       "    </tr>\n",
       "    <tr>\n",
       "      <th>1</th>\n",
       "      <td>ARG</td>\n",
       "      <td>0.00000</td>\n",
       "      <td>0.00000</td>\n",
       "      <td>0.00000</td>\n",
       "      <td>1</td>\n",
       "      <td>R</td>\n",
       "    </tr>\n",
       "    <tr>\n",
       "      <th>2</th>\n",
       "      <td>ASN</td>\n",
       "      <td>5.43588</td>\n",
       "      <td>13.60091</td>\n",
       "      <td>-234.60303</td>\n",
       "      <td>2</td>\n",
       "      <td>N</td>\n",
       "    </tr>\n",
       "    <tr>\n",
       "      <th>3</th>\n",
       "      <td>ASP</td>\n",
       "      <td>8.10523</td>\n",
       "      <td>6.06249</td>\n",
       "      <td>-11.54394</td>\n",
       "      <td>3</td>\n",
       "      <td>D</td>\n",
       "    </tr>\n",
       "    <tr>\n",
       "      <th>4</th>\n",
       "      <td>CYS</td>\n",
       "      <td>0.00000</td>\n",
       "      <td>0.00000</td>\n",
       "      <td>0.00000</td>\n",
       "      <td>4</td>\n",
       "      <td>C</td>\n",
       "    </tr>\n",
       "    <tr>\n",
       "      <th>5</th>\n",
       "      <td>GLN</td>\n",
       "      <td>-19.56876</td>\n",
       "      <td>-21.08062</td>\n",
       "      <td>-20.14578</td>\n",
       "      <td>5</td>\n",
       "      <td>Q</td>\n",
       "    </tr>\n",
       "    <tr>\n",
       "      <th>6</th>\n",
       "      <td>GLU</td>\n",
       "      <td>16.20551</td>\n",
       "      <td>10.71726</td>\n",
       "      <td>-1.86554</td>\n",
       "      <td>6</td>\n",
       "      <td>E</td>\n",
       "    </tr>\n",
       "    <tr>\n",
       "      <th>7</th>\n",
       "      <td>GLY</td>\n",
       "      <td>19.39778</td>\n",
       "      <td>19.56108</td>\n",
       "      <td>-45.40998</td>\n",
       "      <td>7</td>\n",
       "      <td>G</td>\n",
       "    </tr>\n",
       "    <tr>\n",
       "      <th>8</th>\n",
       "      <td>HIS</td>\n",
       "      <td>0.00000</td>\n",
       "      <td>0.00000</td>\n",
       "      <td>0.00000</td>\n",
       "      <td>8</td>\n",
       "      <td>H</td>\n",
       "    </tr>\n",
       "    <tr>\n",
       "      <th>9</th>\n",
       "      <td>ILE</td>\n",
       "      <td>-133.13205</td>\n",
       "      <td>-8.60249</td>\n",
       "      <td>-7.60368</td>\n",
       "      <td>9</td>\n",
       "      <td>I</td>\n",
       "    </tr>\n",
       "    <tr>\n",
       "      <th>10</th>\n",
       "      <td>LEU</td>\n",
       "      <td>1.09626</td>\n",
       "      <td>-5.23007</td>\n",
       "      <td>3.88379</td>\n",
       "      <td>10</td>\n",
       "      <td>L</td>\n",
       "    </tr>\n",
       "    <tr>\n",
       "      <th>11</th>\n",
       "      <td>LYS</td>\n",
       "      <td>-0.63350</td>\n",
       "      <td>-2.80565</td>\n",
       "      <td>-3.05780</td>\n",
       "      <td>11</td>\n",
       "      <td>K</td>\n",
       "    </tr>\n",
       "    <tr>\n",
       "      <th>12</th>\n",
       "      <td>MET</td>\n",
       "      <td>-24.61739</td>\n",
       "      <td>-49.47733</td>\n",
       "      <td>-41.70719</td>\n",
       "      <td>12</td>\n",
       "      <td>M</td>\n",
       "    </tr>\n",
       "    <tr>\n",
       "      <th>13</th>\n",
       "      <td>PHE</td>\n",
       "      <td>-93.43657</td>\n",
       "      <td>-62.29943</td>\n",
       "      <td>-50.29770</td>\n",
       "      <td>13</td>\n",
       "      <td>F</td>\n",
       "    </tr>\n",
       "    <tr>\n",
       "      <th>14</th>\n",
       "      <td>PRO</td>\n",
       "      <td>-31.66426</td>\n",
       "      <td>-42.48370</td>\n",
       "      <td>-43.33566</td>\n",
       "      <td>14</td>\n",
       "      <td>P</td>\n",
       "    </tr>\n",
       "    <tr>\n",
       "      <th>15</th>\n",
       "      <td>SER</td>\n",
       "      <td>25.72116</td>\n",
       "      <td>7.74825</td>\n",
       "      <td>-12.39742</td>\n",
       "      <td>15</td>\n",
       "      <td>S</td>\n",
       "    </tr>\n",
       "    <tr>\n",
       "      <th>16</th>\n",
       "      <td>THR</td>\n",
       "      <td>17.37628</td>\n",
       "      <td>19.86638</td>\n",
       "      <td>-27.63170</td>\n",
       "      <td>16</td>\n",
       "      <td>T</td>\n",
       "    </tr>\n",
       "    <tr>\n",
       "      <th>17</th>\n",
       "      <td>TRP</td>\n",
       "      <td>0.00000</td>\n",
       "      <td>0.00000</td>\n",
       "      <td>0.00000</td>\n",
       "      <td>17</td>\n",
       "      <td>W</td>\n",
       "    </tr>\n",
       "    <tr>\n",
       "      <th>18</th>\n",
       "      <td>TYR</td>\n",
       "      <td>-2.14976</td>\n",
       "      <td>9.31704</td>\n",
       "      <td>5.77931</td>\n",
       "      <td>18</td>\n",
       "      <td>Y</td>\n",
       "    </tr>\n",
       "    <tr>\n",
       "      <th>19</th>\n",
       "      <td>VAL</td>\n",
       "      <td>57.95189</td>\n",
       "      <td>48.51485</td>\n",
       "      <td>23.74566</td>\n",
       "      <td>19</td>\n",
       "      <td>V</td>\n",
       "    </tr>\n",
       "  </tbody>\n",
       "</table>\n",
       "</div>"
      ],
      "text/plain": [
       "   Residue       rho1      rho2       rho3  index oneLetter\n",
       "0      ALA   14.71474  22.56941   34.11893      0         A\n",
       "1      ARG    0.00000   0.00000    0.00000      1         R\n",
       "2      ASN    5.43588  13.60091 -234.60303      2         N\n",
       "3      ASP    8.10523   6.06249  -11.54394      3         D\n",
       "4      CYS    0.00000   0.00000    0.00000      4         C\n",
       "5      GLN  -19.56876 -21.08062  -20.14578      5         Q\n",
       "6      GLU   16.20551  10.71726   -1.86554      6         E\n",
       "7      GLY   19.39778  19.56108  -45.40998      7         G\n",
       "8      HIS    0.00000   0.00000    0.00000      8         H\n",
       "9      ILE -133.13205  -8.60249   -7.60368      9         I\n",
       "10     LEU    1.09626  -5.23007    3.88379     10         L\n",
       "11     LYS   -0.63350  -2.80565   -3.05780     11         K\n",
       "12     MET  -24.61739 -49.47733  -41.70719     12         M\n",
       "13     PHE  -93.43657 -62.29943  -50.29770     13         F\n",
       "14     PRO  -31.66426 -42.48370  -43.33566     14         P\n",
       "15     SER   25.72116   7.74825  -12.39742     15         S\n",
       "16     THR   17.37628  19.86638  -27.63170     16         T\n",
       "17     TRP    0.00000   0.00000    0.00000     17         W\n",
       "18     TYR   -2.14976   9.31704    5.77931     18         Y\n",
       "19     VAL   57.95189  48.51485   23.74566     19         V"
      ]
     },
     "execution_count": 16,
     "metadata": {},
     "output_type": "execute_result"
    }
   ],
   "source": [
    "rhoGamma = pd.DataFrame(Gamma[630:].reshape(3,20).T, columns=[\"rho1\", \"rho2\", \"rho3\"]).reset_index()\n",
    "rhoGamma[\"oneLetter\"] = rhoGamma[\"index\"].apply(lambda x: inverse_res_type_map[x])\n",
    "rhoGamma[\"Residue\"] = rhoGamma[\"index\"].apply(lambda x: one_to_three(inverse_res_type_map[x]))\n",
    "rhoGamma = rhoGamma[[\"Residue\", \"rho1\", \"rho2\", \"rho3\", \"index\", \"oneLetter\"]]\n",
    "g = rhoGamma[[\"rho1\", \"rho2\", \"rho3\"]].values\n",
    "# np.savetxt(\"/Users/weilu/Research/server/feb_2019/iter_burial_gamma.dat\", g, fmt='%7.4f')\n",
    "rhoGamma"
   ]
  },
  {
   "cell_type": "code",
   "execution_count": 17,
   "metadata": {},
   "outputs": [
    {
     "data": {
      "text/html": [
       "<div>\n",
       "<style scoped>\n",
       "    .dataframe tbody tr th:only-of-type {\n",
       "        vertical-align: middle;\n",
       "    }\n",
       "\n",
       "    .dataframe tbody tr th {\n",
       "        vertical-align: top;\n",
       "    }\n",
       "\n",
       "    .dataframe thead th {\n",
       "        text-align: right;\n",
       "    }\n",
       "</style>\n",
       "<table border=\"1\" class=\"dataframe\">\n",
       "  <thead>\n",
       "    <tr style=\"text-align: right;\">\n",
       "      <th></th>\n",
       "      <th>Residue</th>\n",
       "      <th>rho1</th>\n",
       "      <th>rho2</th>\n",
       "      <th>rho3</th>\n",
       "      <th>index</th>\n",
       "      <th>oneLetter</th>\n",
       "    </tr>\n",
       "  </thead>\n",
       "  <tbody>\n",
       "    <tr>\n",
       "      <th>0</th>\n",
       "      <td>ALA</td>\n",
       "      <td>14.47439</td>\n",
       "      <td>23.18237</td>\n",
       "      <td>34.69187</td>\n",
       "      <td>0</td>\n",
       "      <td>A</td>\n",
       "    </tr>\n",
       "    <tr>\n",
       "      <th>1</th>\n",
       "      <td>ARG</td>\n",
       "      <td>0.00000</td>\n",
       "      <td>0.00000</td>\n",
       "      <td>0.00000</td>\n",
       "      <td>1</td>\n",
       "      <td>R</td>\n",
       "    </tr>\n",
       "    <tr>\n",
       "      <th>2</th>\n",
       "      <td>ASN</td>\n",
       "      <td>5.31208</td>\n",
       "      <td>13.52831</td>\n",
       "      <td>-236.37338</td>\n",
       "      <td>2</td>\n",
       "      <td>N</td>\n",
       "    </tr>\n",
       "    <tr>\n",
       "      <th>3</th>\n",
       "      <td>ASP</td>\n",
       "      <td>7.82298</td>\n",
       "      <td>5.81821</td>\n",
       "      <td>-11.75434</td>\n",
       "      <td>3</td>\n",
       "      <td>D</td>\n",
       "    </tr>\n",
       "    <tr>\n",
       "      <th>4</th>\n",
       "      <td>CYS</td>\n",
       "      <td>0.00000</td>\n",
       "      <td>0.00000</td>\n",
       "      <td>0.00000</td>\n",
       "      <td>4</td>\n",
       "      <td>C</td>\n",
       "    </tr>\n",
       "    <tr>\n",
       "      <th>5</th>\n",
       "      <td>GLN</td>\n",
       "      <td>-19.49472</td>\n",
       "      <td>-21.03906</td>\n",
       "      <td>-20.31585</td>\n",
       "      <td>5</td>\n",
       "      <td>Q</td>\n",
       "    </tr>\n",
       "    <tr>\n",
       "      <th>6</th>\n",
       "      <td>GLU</td>\n",
       "      <td>16.01924</td>\n",
       "      <td>10.53254</td>\n",
       "      <td>-2.05376</td>\n",
       "      <td>6</td>\n",
       "      <td>E</td>\n",
       "    </tr>\n",
       "    <tr>\n",
       "      <th>7</th>\n",
       "      <td>GLY</td>\n",
       "      <td>19.47174</td>\n",
       "      <td>19.55014</td>\n",
       "      <td>-42.52611</td>\n",
       "      <td>7</td>\n",
       "      <td>G</td>\n",
       "    </tr>\n",
       "    <tr>\n",
       "      <th>8</th>\n",
       "      <td>HIS</td>\n",
       "      <td>0.00000</td>\n",
       "      <td>0.00000</td>\n",
       "      <td>0.00000</td>\n",
       "      <td>8</td>\n",
       "      <td>H</td>\n",
       "    </tr>\n",
       "    <tr>\n",
       "      <th>9</th>\n",
       "      <td>ILE</td>\n",
       "      <td>-134.70728</td>\n",
       "      <td>-8.48370</td>\n",
       "      <td>-7.48450</td>\n",
       "      <td>9</td>\n",
       "      <td>I</td>\n",
       "    </tr>\n",
       "    <tr>\n",
       "      <th>10</th>\n",
       "      <td>LEU</td>\n",
       "      <td>1.10669</td>\n",
       "      <td>-5.20457</td>\n",
       "      <td>3.91213</td>\n",
       "      <td>10</td>\n",
       "      <td>L</td>\n",
       "    </tr>\n",
       "    <tr>\n",
       "      <th>11</th>\n",
       "      <td>LYS</td>\n",
       "      <td>-0.57596</td>\n",
       "      <td>-2.76906</td>\n",
       "      <td>-3.00504</td>\n",
       "      <td>11</td>\n",
       "      <td>K</td>\n",
       "    </tr>\n",
       "    <tr>\n",
       "      <th>12</th>\n",
       "      <td>MET</td>\n",
       "      <td>-23.89231</td>\n",
       "      <td>-48.65110</td>\n",
       "      <td>-41.07594</td>\n",
       "      <td>12</td>\n",
       "      <td>M</td>\n",
       "    </tr>\n",
       "    <tr>\n",
       "      <th>13</th>\n",
       "      <td>PHE</td>\n",
       "      <td>-94.00103</td>\n",
       "      <td>-62.59673</td>\n",
       "      <td>-50.50081</td>\n",
       "      <td>13</td>\n",
       "      <td>F</td>\n",
       "    </tr>\n",
       "    <tr>\n",
       "      <th>14</th>\n",
       "      <td>PRO</td>\n",
       "      <td>-31.89421</td>\n",
       "      <td>-42.72849</td>\n",
       "      <td>-43.71658</td>\n",
       "      <td>14</td>\n",
       "      <td>P</td>\n",
       "    </tr>\n",
       "    <tr>\n",
       "      <th>15</th>\n",
       "      <td>SER</td>\n",
       "      <td>26.04124</td>\n",
       "      <td>8.17120</td>\n",
       "      <td>-11.80706</td>\n",
       "      <td>15</td>\n",
       "      <td>S</td>\n",
       "    </tr>\n",
       "    <tr>\n",
       "      <th>16</th>\n",
       "      <td>THR</td>\n",
       "      <td>17.45057</td>\n",
       "      <td>19.81142</td>\n",
       "      <td>-27.75572</td>\n",
       "      <td>16</td>\n",
       "      <td>T</td>\n",
       "    </tr>\n",
       "    <tr>\n",
       "      <th>17</th>\n",
       "      <td>TRP</td>\n",
       "      <td>0.00000</td>\n",
       "      <td>0.00000</td>\n",
       "      <td>0.00000</td>\n",
       "      <td>17</td>\n",
       "      <td>W</td>\n",
       "    </tr>\n",
       "    <tr>\n",
       "      <th>18</th>\n",
       "      <td>TYR</td>\n",
       "      <td>-1.37724</td>\n",
       "      <td>10.05679</td>\n",
       "      <td>6.29062</td>\n",
       "      <td>18</td>\n",
       "      <td>Y</td>\n",
       "    </tr>\n",
       "    <tr>\n",
       "      <th>19</th>\n",
       "      <td>VAL</td>\n",
       "      <td>58.12004</td>\n",
       "      <td>48.68700</td>\n",
       "      <td>23.92831</td>\n",
       "      <td>19</td>\n",
       "      <td>V</td>\n",
       "    </tr>\n",
       "  </tbody>\n",
       "</table>\n",
       "</div>"
      ],
      "text/plain": [
       "   Residue       rho1      rho2       rho3  index oneLetter\n",
       "0      ALA   14.47439  23.18237   34.69187      0         A\n",
       "1      ARG    0.00000   0.00000    0.00000      1         R\n",
       "2      ASN    5.31208  13.52831 -236.37338      2         N\n",
       "3      ASP    7.82298   5.81821  -11.75434      3         D\n",
       "4      CYS    0.00000   0.00000    0.00000      4         C\n",
       "5      GLN  -19.49472 -21.03906  -20.31585      5         Q\n",
       "6      GLU   16.01924  10.53254   -2.05376      6         E\n",
       "7      GLY   19.47174  19.55014  -42.52611      7         G\n",
       "8      HIS    0.00000   0.00000    0.00000      8         H\n",
       "9      ILE -134.70728  -8.48370   -7.48450      9         I\n",
       "10     LEU    1.10669  -5.20457    3.91213     10         L\n",
       "11     LYS   -0.57596  -2.76906   -3.00504     11         K\n",
       "12     MET  -23.89231 -48.65110  -41.07594     12         M\n",
       "13     PHE  -94.00103 -62.59673  -50.50081     13         F\n",
       "14     PRO  -31.89421 -42.72849  -43.71658     14         P\n",
       "15     SER   26.04124   8.17120  -11.80706     15         S\n",
       "16     THR   17.45057  19.81142  -27.75572     16         T\n",
       "17     TRP    0.00000   0.00000    0.00000     17         W\n",
       "18     TYR   -1.37724  10.05679    6.29062     18         Y\n",
       "19     VAL   58.12004  48.68700   23.92831     19         V"
      ]
     },
     "execution_count": 17,
     "metadata": {},
     "output_type": "execute_result"
    }
   ],
   "source": [
    "rhoGamma = pd.DataFrame(Gamma_filtered[630:].astype(float).reshape(3,20).T, columns=[\"rho1\", \"rho2\", \"rho3\"]).reset_index()\n",
    "rhoGamma[\"oneLetter\"] = rhoGamma[\"index\"].apply(lambda x: inverse_res_type_map[x])\n",
    "rhoGamma[\"Residue\"] = rhoGamma[\"index\"].apply(lambda x: one_to_three(inverse_res_type_map[x]))\n",
    "rhoGamma = rhoGamma[[\"Residue\", \"rho1\", \"rho2\", \"rho3\", \"index\", \"oneLetter\"]]\n",
    "g = rhoGamma[[\"rho1\", \"rho2\", \"rho3\"]].values\n",
    "# np.savetxt(\"/Users/weilu/Research/server/feb_2019/iter_burial_gamma.dat\", g, fmt='%7.4f')\n",
    "rhoGamma"
   ]
  },
  {
   "cell_type": "code",
   "execution_count": 7,
   "metadata": {
    "scrolled": true
   },
   "outputs": [
    {
     "data": {
      "text/plain": [
       "array([   3.21072-0.j,    0.     +0.j,   -2.9014 -0.j,   28.53352+0.j,\n",
       "          0.     +0.j,   -8.82379+0.j,  -18.83807+0.j,   22.90899+0.j,\n",
       "          0.     +0.j, -109.2139 +0.j,  -40.6199 +0.j,   -9.55283+0.j,\n",
       "        -47.52313-0.j, -119.90648+0.j,   -2.0399 +0.j,  -28.04518-0.j,\n",
       "          6.40333-0.j,    0.     +0.j,   -2.12887-0.j,  -10.73993-0.j,\n",
       "         22.74298-0.j,    0.     +0.j,   14.77741-0.j,   44.28591+0.j,\n",
       "          0.     +0.j,  -10.29564+0.j,  -24.09454+0.j,   16.39737+0.j,\n",
       "          0.     +0.j,    0.93591+0.j,  -20.3722 +0.j,   -3.80766+0.j,\n",
       "        -36.72318-0.j,  -40.89325+0.j,   -8.69506+0.j,  -38.07933-0.j,\n",
       "         -5.81367-0.j,    0.     +0.j,   24.40816-0.j,  -14.3642 -0.j,\n",
       "         43.00473+0.j,    0.     +0.j,    0.14576+0.j,   33.94646+0.j,\n",
       "          0.     +0.j,  -10.56024-0.j,  -21.91772+0.j,  -17.05574+0.j,\n",
       "          0.     +0.j,   -5.80952+0.j,    1.78923+0.j,   -9.09993+0.j,\n",
       "         28.37369-0.j,  -34.1822 +0.j,  -41.19861+0.j,  -66.31823-0.j,\n",
       "         40.72232+0.j,    0.     +0.j,   31.97582-0.j,  -13.43326-0.j])"
      ]
     },
     "execution_count": 7,
     "metadata": {},
     "output_type": "execute_result"
    }
   ],
   "source": [
    "Gamma_filtered[630:]"
   ]
  },
  {
   "cell_type": "code",
   "execution_count": null,
   "metadata": {},
   "outputs": [],
   "source": [
    "plot_contact_well(Gamma_filtered[630:], inferBound=True, invert_sign=False)"
   ]
  }
 ],
 "metadata": {
  "kernelspec": {
   "display_name": "Python 3",
   "language": "python",
   "name": "python3"
  },
  "language_info": {
   "codemirror_mode": {
    "name": "ipython",
    "version": 3
   },
   "file_extension": ".py",
   "mimetype": "text/x-python",
   "name": "python",
   "nbconvert_exporter": "python",
   "pygments_lexer": "ipython3",
   "version": "3.6.8"
  }
 },
 "nbformat": 4,
 "nbformat_minor": 2
}
