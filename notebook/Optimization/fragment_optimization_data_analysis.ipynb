{
 "cells": [
  {
   "cell_type": "code",
   "execution_count": 3,
   "metadata": {},
   "outputs": [
    {
     "name": "stdout",
     "output_type": "stream",
     "text": [
      "The autoreload extension is already loaded. To reload it, use:\n",
      "  %reload_ext autoreload\n"
     ]
    }
   ],
   "source": [
    "import numpy as np\n",
    "import pandas as pd\n",
    "import matplotlib.pyplot as plt\n",
    "import seaborn as sns\n",
    "from small_script.myFunctions import *\n",
    "import feather\n",
    "import Bio.PDB as bio\n",
    "d3_to_index = bio.Polypeptide.d3_to_index  # we may want to adjust this in the future.\n",
    "three_to_one = bio.Polypeptide.three_to_one\n",
    "plt.rcParams['figure.figsize'] = [16.18033, 10]\n",
    "\n",
    "%matplotlib inline\n",
    "%load_ext autoreload\n",
    "%autoreload 2"
   ]
  },
  {
   "cell_type": "code",
   "execution_count": 4,
   "metadata": {},
   "outputs": [],
   "source": [
    "data = feather.read_dataframe(\"/Users/weilu/Research/optimization/fragment/feather_frag_data_jan14.feather\")"
   ]
  },
  {
   "cell_type": "code",
   "execution_count": 5,
   "metadata": {},
   "outputs": [
    {
     "data": {
      "text/html": [
       "<div>\n",
       "<style scoped>\n",
       "    .dataframe tbody tr th:only-of-type {\n",
       "        vertical-align: middle;\n",
       "    }\n",
       "\n",
       "    .dataframe tbody tr th {\n",
       "        vertical-align: top;\n",
       "    }\n",
       "\n",
       "    .dataframe thead th {\n",
       "        text-align: right;\n",
       "    }\n",
       "</style>\n",
       "<table border=\"1\" class=\"dataframe\">\n",
       "  <thead>\n",
       "    <tr style=\"text-align: right;\">\n",
       "      <th></th>\n",
       "      <th>pdb</th>\n",
       "      <th>i</th>\n",
       "      <th>seq</th>\n",
       "      <th>dis1</th>\n",
       "      <th>dis2</th>\n",
       "      <th>dis3</th>\n",
       "      <th>dis4</th>\n",
       "      <th>dis5</th>\n",
       "      <th>dis6</th>\n",
       "      <th>dis7</th>\n",
       "      <th>...</th>\n",
       "      <th>dis13</th>\n",
       "      <th>dis14</th>\n",
       "      <th>dis15</th>\n",
       "      <th>dis16</th>\n",
       "      <th>dis17</th>\n",
       "      <th>dis18</th>\n",
       "      <th>dis19</th>\n",
       "      <th>dis20</th>\n",
       "      <th>dis21</th>\n",
       "      <th>DisType</th>\n",
       "    </tr>\n",
       "  </thead>\n",
       "  <tbody>\n",
       "    <tr>\n",
       "      <th>0</th>\n",
       "      <td>1igqB00</td>\n",
       "      <td>0</td>\n",
       "      <td>DKLKKAIVQ</td>\n",
       "      <td>9.545797</td>\n",
       "      <td>12.242739</td>\n",
       "      <td>11.389445</td>\n",
       "      <td>14.435853</td>\n",
       "      <td>15.702080</td>\n",
       "      <td>18.185148</td>\n",
       "      <td>9.427593</td>\n",
       "      <td>...</td>\n",
       "      <td>9.385722</td>\n",
       "      <td>11.658462</td>\n",
       "      <td>14.435720</td>\n",
       "      <td>9.566237</td>\n",
       "      <td>12.596333</td>\n",
       "      <td>15.433746</td>\n",
       "      <td>9.934756</td>\n",
       "      <td>12.622395</td>\n",
       "      <td>9.527388</td>\n",
       "      <td>dis_ca_ca</td>\n",
       "    </tr>\n",
       "    <tr>\n",
       "      <th>1</th>\n",
       "      <td>1igqB00</td>\n",
       "      <td>0</td>\n",
       "      <td>DKLKKAIVQ</td>\n",
       "      <td>10.203734</td>\n",
       "      <td>13.362099</td>\n",
       "      <td>10.874768</td>\n",
       "      <td>15.082260</td>\n",
       "      <td>16.066488</td>\n",
       "      <td>17.967852</td>\n",
       "      <td>10.522633</td>\n",
       "      <td>...</td>\n",
       "      <td>10.002345</td>\n",
       "      <td>12.148303</td>\n",
       "      <td>14.398872</td>\n",
       "      <td>10.041182</td>\n",
       "      <td>13.079222</td>\n",
       "      <td>15.527972</td>\n",
       "      <td>10.495568</td>\n",
       "      <td>12.849380</td>\n",
       "      <td>9.826223</td>\n",
       "      <td>dis_ca_cb</td>\n",
       "    </tr>\n",
       "    <tr>\n",
       "      <th>2</th>\n",
       "      <td>1igqB00</td>\n",
       "      <td>0</td>\n",
       "      <td>DKLKKAIVQ</td>\n",
       "      <td>9.914081</td>\n",
       "      <td>12.285064</td>\n",
       "      <td>11.122988</td>\n",
       "      <td>13.902566</td>\n",
       "      <td>15.046198</td>\n",
       "      <td>17.301693</td>\n",
       "      <td>10.278061</td>\n",
       "      <td>...</td>\n",
       "      <td>8.263468</td>\n",
       "      <td>10.266681</td>\n",
       "      <td>13.093221</td>\n",
       "      <td>10.358747</td>\n",
       "      <td>13.604508</td>\n",
       "      <td>16.222908</td>\n",
       "      <td>10.629156</td>\n",
       "      <td>13.001775</td>\n",
       "      <td>9.682165</td>\n",
       "      <td>dis_cb_ca</td>\n",
       "    </tr>\n",
       "    <tr>\n",
       "      <th>3</th>\n",
       "      <td>1igqB00</td>\n",
       "      <td>0</td>\n",
       "      <td>DKLKKAIVQ</td>\n",
       "      <td>10.556716</td>\n",
       "      <td>13.372369</td>\n",
       "      <td>10.652945</td>\n",
       "      <td>14.474377</td>\n",
       "      <td>15.494028</td>\n",
       "      <td>16.996122</td>\n",
       "      <td>11.246230</td>\n",
       "      <td>...</td>\n",
       "      <td>8.984903</td>\n",
       "      <td>10.732664</td>\n",
       "      <td>13.098623</td>\n",
       "      <td>10.637720</td>\n",
       "      <td>14.192881</td>\n",
       "      <td>16.225273</td>\n",
       "      <td>11.296279</td>\n",
       "      <td>13.163033</td>\n",
       "      <td>10.095731</td>\n",
       "      <td>dis_cb_cb</td>\n",
       "    </tr>\n",
       "    <tr>\n",
       "      <th>4</th>\n",
       "      <td>1igqB00</td>\n",
       "      <td>1</td>\n",
       "      <td>KLKKAIVQV</td>\n",
       "      <td>9.427593</td>\n",
       "      <td>9.508488</td>\n",
       "      <td>13.046163</td>\n",
       "      <td>14.956468</td>\n",
       "      <td>17.811722</td>\n",
       "      <td>21.096529</td>\n",
       "      <td>5.881323</td>\n",
       "      <td>...</td>\n",
       "      <td>12.596333</td>\n",
       "      <td>15.433746</td>\n",
       "      <td>18.900240</td>\n",
       "      <td>9.934756</td>\n",
       "      <td>12.622395</td>\n",
       "      <td>16.016058</td>\n",
       "      <td>9.527388</td>\n",
       "      <td>12.877730</td>\n",
       "      <td>9.505291</td>\n",
       "      <td>dis_ca_ca</td>\n",
       "    </tr>\n",
       "  </tbody>\n",
       "</table>\n",
       "<p>5 rows × 25 columns</p>\n",
       "</div>"
      ],
      "text/plain": [
       "       pdb  i        seq       dis1       dis2       dis3       dis4  \\\n",
       "0  1igqB00  0  DKLKKAIVQ   9.545797  12.242739  11.389445  14.435853   \n",
       "1  1igqB00  0  DKLKKAIVQ  10.203734  13.362099  10.874768  15.082260   \n",
       "2  1igqB00  0  DKLKKAIVQ   9.914081  12.285064  11.122988  13.902566   \n",
       "3  1igqB00  0  DKLKKAIVQ  10.556716  13.372369  10.652945  14.474377   \n",
       "4  1igqB00  1  KLKKAIVQV   9.427593   9.508488  13.046163  14.956468   \n",
       "\n",
       "        dis5       dis6       dis7    ...          dis13      dis14  \\\n",
       "0  15.702080  18.185148   9.427593    ...       9.385722  11.658462   \n",
       "1  16.066488  17.967852  10.522633    ...      10.002345  12.148303   \n",
       "2  15.046198  17.301693  10.278061    ...       8.263468  10.266681   \n",
       "3  15.494028  16.996122  11.246230    ...       8.984903  10.732664   \n",
       "4  17.811722  21.096529   5.881323    ...      12.596333  15.433746   \n",
       "\n",
       "       dis15      dis16      dis17      dis18      dis19      dis20  \\\n",
       "0  14.435720   9.566237  12.596333  15.433746   9.934756  12.622395   \n",
       "1  14.398872  10.041182  13.079222  15.527972  10.495568  12.849380   \n",
       "2  13.093221  10.358747  13.604508  16.222908  10.629156  13.001775   \n",
       "3  13.098623  10.637720  14.192881  16.225273  11.296279  13.163033   \n",
       "4  18.900240   9.934756  12.622395  16.016058   9.527388  12.877730   \n",
       "\n",
       "       dis21    DisType  \n",
       "0   9.527388  dis_ca_ca  \n",
       "1   9.826223  dis_ca_cb  \n",
       "2   9.682165  dis_cb_ca  \n",
       "3  10.095731  dis_cb_cb  \n",
       "4   9.505291  dis_ca_ca  \n",
       "\n",
       "[5 rows x 25 columns]"
      ]
     },
     "execution_count": 5,
     "metadata": {},
     "output_type": "execute_result"
    }
   ],
   "source": [
    "data.head()"
   ]
  },
  {
   "cell_type": "code",
   "execution_count": 15,
   "metadata": {},
   "outputs": [
    {
     "data": {
      "text/plain": [
       "30.636227"
      ]
     },
     "execution_count": 15,
     "metadata": {},
     "output_type": "execute_result"
    }
   ],
   "source": [
    "data.iloc[:,3:24].max().max()"
   ]
  },
  {
   "cell_type": "code",
   "execution_count": 16,
   "metadata": {},
   "outputs": [
    {
     "data": {
      "text/plain": [
       "1.2272211000000002"
      ]
     },
     "execution_count": 16,
     "metadata": {},
     "output_type": "execute_result"
    }
   ],
   "source": [
    "data.iloc[:,3:24].min().min()"
   ]
  },
  {
   "cell_type": "code",
   "execution_count": 101,
   "metadata": {},
   "outputs": [
    {
     "data": {
      "text/plain": [
       "array([ 0,  4,  8, 12, 16, 20, 24, 28])"
      ]
     },
     "execution_count": 101,
     "metadata": {},
     "output_type": "execute_result"
    }
   ],
   "source": [
    "np.arange(0,31,4)"
   ]
  },
  {
   "cell_type": "code",
   "execution_count": 57,
   "metadata": {},
   "outputs": [
    {
     "data": {
      "text/plain": [
       "Int64Index([2, 7, 12, 17, 22, 27], dtype='int64')"
      ]
     },
     "execution_count": 57,
     "metadata": {},
     "output_type": "execute_result"
    }
   ],
   "source": [
    "pd.interval_range(start=0, end=31, freq=5).mid.astype(int)"
   ]
  },
  {
   "cell_type": "code",
   "execution_count": 102,
   "metadata": {},
   "outputs": [],
   "source": [
    "labels = pd.interval_range(start=0, end=31, freq=4).mid.astype(int)\n",
    "for i in range(1,22):\n",
    "    data[f\"d{i}\"] = pd.cut(data[f\"dis{i}\"], bins=np.arange(0,31,4), labels=labels)"
   ]
  },
  {
   "cell_type": "code",
   "execution_count": 105,
   "metadata": {},
   "outputs": [],
   "source": [
    "data[\"dd\"] = d[\"d1\"].astype(str)\n",
    "for i in range(2,22):\n",
    "    data[\"dd\"] += d[f\"d{i}\"].astype(str)\n",
    "d = data.query(\"DisType == 'dis_ca_ca'\").reset_index(drop=True)"
   ]
  },
  {
   "cell_type": "code",
   "execution_count": null,
   "metadata": {},
   "outputs": [],
   "source": [
    "data.to_feather(\"/Users/weilu/Research/optimization/fragment/feather_frag_data_bin4_jan18.feather\")"
   ]
  },
  {
   "cell_type": "code",
   "execution_count": 106,
   "metadata": {},
   "outputs": [],
   "source": [
    "count_data = d[\"dd\"].value_counts()"
   ]
  },
  {
   "cell_type": "code",
   "execution_count": 108,
   "metadata": {},
   "outputs": [
    {
     "data": {
      "text/plain": [
       "78333"
      ]
     },
     "execution_count": 108,
     "metadata": {},
     "output_type": "execute_result"
    }
   ],
   "source": [
    "# number of unique fold. 78,333\n",
    "len(count_data)"
   ]
  },
  {
   "cell_type": "code",
   "execution_count": 109,
   "metadata": {},
   "outputs": [
    {
     "data": {
      "text/plain": [
       "475358"
      ]
     },
     "execution_count": 109,
     "metadata": {},
     "output_type": "execute_result"
    }
   ],
   "source": [
    "# number of total frag, 475,358\n",
    "count_data.reset_index()[\"dd\"].sum()"
   ]
  },
  {
   "cell_type": "code",
   "execution_count": 110,
   "metadata": {},
   "outputs": [
    {
     "data": {
      "text/plain": [
       "(32552, 2)"
      ]
     },
     "execution_count": 110,
     "metadata": {},
     "output_type": "execute_result"
    }
   ],
   "source": [
    "count_data.reset_index().query(\"dd > 1\").shape"
   ]
  },
  {
   "cell_type": "code",
   "execution_count": 111,
   "metadata": {},
   "outputs": [
    {
     "data": {
      "text/plain": [
       "(20421, 2)"
      ]
     },
     "execution_count": 111,
     "metadata": {},
     "output_type": "execute_result"
    }
   ],
   "source": [
    "count_data.reset_index().query(\"dd > 2\").shape"
   ]
  },
  {
   "cell_type": "code",
   "execution_count": 113,
   "metadata": {},
   "outputs": [
    {
     "data": {
      "text/plain": [
       "(9476, 2)"
      ]
     },
     "execution_count": 113,
     "metadata": {},
     "output_type": "execute_result"
    }
   ],
   "source": [
    "count_data.reset_index().query(\"dd > 5\").shape"
   ]
  },
  {
   "cell_type": "code",
   "execution_count": 114,
   "metadata": {},
   "outputs": [
    {
     "data": {
      "text/plain": [
       "<matplotlib.axes._subplots.AxesSubplot at 0x1a784b48d0>"
      ]
     },
     "execution_count": 114,
     "metadata": {},
     "output_type": "execute_result"
    },
    {
     "data": {
      "image/png": "[encoded data removed]",
      "text/plain": [
       "<Figure size 432x288 with 1 Axes>"
      ]
     },
     "metadata": {
      "needs_background": "light"
     },
     "output_type": "display_data"
    }
   ],
   "source": [
    "count_data.reset_index()[\"dd\"].hist(bins=50, log=True)"
   ]
  },
  {
   "cell_type": "code",
   "execution_count": 240,
   "metadata": {},
   "outputs": [],
   "source": [
    "data[\"dis6\"][data[\"dis6\"] >= 30] = 29.99  # cap the large dis to 30\n",
    "labels = pd.interval_range(start=0, end=30, freq=2).mid.astype(int)\n",
    "for i in range(1,22):\n",
    "    data[f\"d{i}\"] = pd.cut(data[f\"dis{i}\"], bins=np.arange(0,32,2), labels=labels)"
   ]
  },
  {
   "cell_type": "code",
   "execution_count": 215,
   "metadata": {},
   "outputs": [
    {
     "data": {
      "text/plain": [
       "Int64Index([1, 3, 5, 7, 9, 11, 13, 15, 17, 19, 21, 23, 25, 27, 29], dtype='int64')"
      ]
     },
     "execution_count": 215,
     "metadata": {},
     "output_type": "execute_result"
    }
   ],
   "source": [
    "labels"
   ]
  },
  {
   "cell_type": "code",
   "execution_count": 239,
   "metadata": {
    "scrolled": true
   },
   "outputs": [
    {
     "data": {
      "text/plain": [
       "array([ 0,  2,  4,  6,  8, 10, 12, 14, 16, 18, 20, 22, 24, 26, 28, 30])"
      ]
     },
     "execution_count": 239,
     "metadata": {},
     "output_type": "execute_result"
    }
   ],
   "source": [
    "np.arange(0,32,2)"
   ]
  },
  {
   "cell_type": "code",
   "execution_count": 263,
   "metadata": {},
   "outputs": [],
   "source": [
    "data[\"dd\"] = data[\"d1\"].astype(int).astype(str)\n",
    "for i in range(2,22):\n",
    "    \n",
    "    data[\"dd\"] += \",\" + data[f\"d{i}\"].astype(int).astype(str)\n",
    "d = data.query(\"DisType == 'dis_ca_ca'\").reset_index(drop=True)"
   ]
  },
  {
   "cell_type": "code",
   "execution_count": 243,
   "metadata": {},
   "outputs": [],
   "source": [
    "data.to_feather(\"/Users/weilu/Research/optimization/fragment/feather_frag_data_bin2_jan18.feather\")"
   ]
  },
  {
   "cell_type": "code",
   "execution_count": 195,
   "metadata": {},
   "outputs": [],
   "source": [
    "data = feather.read_dataframe(\"/Users/weilu/Research/optimization/fragment/feather_frag_data_bin2_jan18.feather\")\n",
    "# data = data.drop(columns=\"dd\")\n",
    "# d = data.query(\"DisType == 'dis_ca_ca'\").reset_index(drop=True)"
   ]
  },
  {
   "cell_type": "code",
   "execution_count": 264,
   "metadata": {},
   "outputs": [
    {
     "data": {
      "text/html": [
       "<div>\n",
       "<style scoped>\n",
       "    .dataframe tbody tr th:only-of-type {\n",
       "        vertical-align: middle;\n",
       "    }\n",
       "\n",
       "    .dataframe tbody tr th {\n",
       "        vertical-align: top;\n",
       "    }\n",
       "\n",
       "    .dataframe thead th {\n",
       "        text-align: right;\n",
       "    }\n",
       "</style>\n",
       "<table border=\"1\" class=\"dataframe\">\n",
       "  <thead>\n",
       "    <tr style=\"text-align: right;\">\n",
       "      <th></th>\n",
       "      <th>pdb</th>\n",
       "      <th>i</th>\n",
       "      <th>seq</th>\n",
       "      <th>dis1</th>\n",
       "      <th>dis2</th>\n",
       "      <th>dis3</th>\n",
       "      <th>dis4</th>\n",
       "      <th>dis5</th>\n",
       "      <th>dis6</th>\n",
       "      <th>dis7</th>\n",
       "      <th>...</th>\n",
       "      <th>d13</th>\n",
       "      <th>d14</th>\n",
       "      <th>d15</th>\n",
       "      <th>d16</th>\n",
       "      <th>d17</th>\n",
       "      <th>d18</th>\n",
       "      <th>d19</th>\n",
       "      <th>d20</th>\n",
       "      <th>d21</th>\n",
       "      <th>dd</th>\n",
       "    </tr>\n",
       "  </thead>\n",
       "  <tbody>\n",
       "    <tr>\n",
       "      <th>0</th>\n",
       "      <td>1igqB00</td>\n",
       "      <td>0</td>\n",
       "      <td>DKLKKAIVQ</td>\n",
       "      <td>9.545797</td>\n",
       "      <td>12.242739</td>\n",
       "      <td>11.389445</td>\n",
       "      <td>14.435853</td>\n",
       "      <td>15.702080</td>\n",
       "      <td>18.185148</td>\n",
       "      <td>9.427593</td>\n",
       "      <td>...</td>\n",
       "      <td>9</td>\n",
       "      <td>11</td>\n",
       "      <td>15</td>\n",
       "      <td>9</td>\n",
       "      <td>13</td>\n",
       "      <td>15</td>\n",
       "      <td>9</td>\n",
       "      <td>13</td>\n",
       "      <td>9</td>\n",
       "      <td>9,13,11,15,15,19,9,9,13,15,17,5,9,11,15,9,13,1...</td>\n",
       "    </tr>\n",
       "    <tr>\n",
       "      <th>1</th>\n",
       "      <td>1igqB00</td>\n",
       "      <td>1</td>\n",
       "      <td>KLKKAIVQV</td>\n",
       "      <td>9.427593</td>\n",
       "      <td>9.508488</td>\n",
       "      <td>13.046163</td>\n",
       "      <td>14.956468</td>\n",
       "      <td>17.811722</td>\n",
       "      <td>21.096529</td>\n",
       "      <td>5.881323</td>\n",
       "      <td>...</td>\n",
       "      <td>13</td>\n",
       "      <td>15</td>\n",
       "      <td>19</td>\n",
       "      <td>9</td>\n",
       "      <td>13</td>\n",
       "      <td>17</td>\n",
       "      <td>9</td>\n",
       "      <td>13</td>\n",
       "      <td>9</td>\n",
       "      <td>9,9,13,15,17,21,5,9,11,15,17,9,13,15,19,9,13,1...</td>\n",
       "    </tr>\n",
       "    <tr>\n",
       "      <th>2</th>\n",
       "      <td>1igqB00</td>\n",
       "      <td>2</td>\n",
       "      <td>LKKAIVQVE</td>\n",
       "      <td>5.881323</td>\n",
       "      <td>9.385722</td>\n",
       "      <td>11.658462</td>\n",
       "      <td>14.435720</td>\n",
       "      <td>17.857430</td>\n",
       "      <td>21.547594</td>\n",
       "      <td>9.566237</td>\n",
       "      <td>...</td>\n",
       "      <td>13</td>\n",
       "      <td>17</td>\n",
       "      <td>19</td>\n",
       "      <td>9</td>\n",
       "      <td>13</td>\n",
       "      <td>17</td>\n",
       "      <td>9</td>\n",
       "      <td>13</td>\n",
       "      <td>11</td>\n",
       "      <td>5,9,11,15,17,21,9,13,15,19,23,9,13,17,19,9,13,...</td>\n",
       "    </tr>\n",
       "    <tr>\n",
       "      <th>3</th>\n",
       "      <td>1igqB00</td>\n",
       "      <td>3</td>\n",
       "      <td>KKAIVQVEH</td>\n",
       "      <td>9.566237</td>\n",
       "      <td>12.596333</td>\n",
       "      <td>15.433746</td>\n",
       "      <td>18.900240</td>\n",
       "      <td>22.492163</td>\n",
       "      <td>25.003511</td>\n",
       "      <td>9.934756</td>\n",
       "      <td>...</td>\n",
       "      <td>13</td>\n",
       "      <td>17</td>\n",
       "      <td>19</td>\n",
       "      <td>9</td>\n",
       "      <td>13</td>\n",
       "      <td>15</td>\n",
       "      <td>11</td>\n",
       "      <td>13</td>\n",
       "      <td>11</td>\n",
       "      <td>9,13,15,19,23,25,9,13,17,19,21,9,13,17,19,9,13...</td>\n",
       "    </tr>\n",
       "    <tr>\n",
       "      <th>4</th>\n",
       "      <td>1igqB00</td>\n",
       "      <td>4</td>\n",
       "      <td>KAIVQVEHD</td>\n",
       "      <td>9.934756</td>\n",
       "      <td>12.622395</td>\n",
       "      <td>16.016058</td>\n",
       "      <td>19.465660</td>\n",
       "      <td>21.763054</td>\n",
       "      <td>25.281502</td>\n",
       "      <td>9.527388</td>\n",
       "      <td>...</td>\n",
       "      <td>13</td>\n",
       "      <td>15</td>\n",
       "      <td>19</td>\n",
       "      <td>11</td>\n",
       "      <td>13</td>\n",
       "      <td>17</td>\n",
       "      <td>11</td>\n",
       "      <td>13</td>\n",
       "      <td>11</td>\n",
       "      <td>9,13,17,19,21,25,9,13,17,19,23,9,13,15,19,11,1...</td>\n",
       "    </tr>\n",
       "  </tbody>\n",
       "</table>\n",
       "<p>5 rows × 47 columns</p>\n",
       "</div>"
      ],
      "text/plain": [
       "       pdb  i        seq      dis1       dis2       dis3       dis4  \\\n",
       "0  1igqB00  0  DKLKKAIVQ  9.545797  12.242739  11.389445  14.435853   \n",
       "1  1igqB00  1  KLKKAIVQV  9.427593   9.508488  13.046163  14.956468   \n",
       "2  1igqB00  2  LKKAIVQVE  5.881323   9.385722  11.658462  14.435720   \n",
       "3  1igqB00  3  KKAIVQVEH  9.566237  12.596333  15.433746  18.900240   \n",
       "4  1igqB00  4  KAIVQVEHD  9.934756  12.622395  16.016058  19.465660   \n",
       "\n",
       "        dis5       dis6      dis7  \\\n",
       "0  15.702080  18.185148  9.427593   \n",
       "1  17.811722  21.096529  5.881323   \n",
       "2  17.857430  21.547594  9.566237   \n",
       "3  22.492163  25.003511  9.934756   \n",
       "4  21.763054  25.281502  9.527388   \n",
       "\n",
       "                         ...                          d13  d14  d15  d16  d17  \\\n",
       "0                        ...                            9   11   15    9   13   \n",
       "1                        ...                           13   15   19    9   13   \n",
       "2                        ...                           13   17   19    9   13   \n",
       "3                        ...                           13   17   19    9   13   \n",
       "4                        ...                           13   15   19   11   13   \n",
       "\n",
       "   d18  d19  d20  d21                                                 dd  \n",
       "0   15    9   13    9  9,13,11,15,15,19,9,9,13,15,17,5,9,11,15,9,13,1...  \n",
       "1   17    9   13    9  9,9,13,15,17,21,5,9,11,15,17,9,13,15,19,9,13,1...  \n",
       "2   17    9   13   11  5,9,11,15,17,21,9,13,15,19,23,9,13,17,19,9,13,...  \n",
       "3   15   11   13   11  9,13,15,19,23,25,9,13,17,19,21,9,13,17,19,9,13...  \n",
       "4   17   11   13   11  9,13,17,19,21,25,9,13,17,19,23,9,13,15,19,11,1...  \n",
       "\n",
       "[5 rows x 47 columns]"
      ]
     },
     "execution_count": 264,
     "metadata": {},
     "output_type": "execute_result"
    }
   ],
   "source": [
    "d.head()"
   ]
  },
  {
   "cell_type": "code",
   "execution_count": 265,
   "metadata": {},
   "outputs": [],
   "source": [
    "count_data = d[\"dd\"].value_counts()"
   ]
  },
  {
   "cell_type": "code",
   "execution_count": 266,
   "metadata": {},
   "outputs": [
    {
     "data": {
      "text/plain": [
       "853589"
      ]
     },
     "execution_count": 266,
     "metadata": {},
     "output_type": "execute_result"
    }
   ],
   "source": [
    "# number of unique fold. 853,589\n",
    "len(count_data)"
   ]
  },
  {
   "cell_type": "code",
   "execution_count": 267,
   "metadata": {},
   "outputs": [
    {
     "data": {
      "text/plain": [
       "1901430"
      ]
     },
     "execution_count": 267,
     "metadata": {},
     "output_type": "execute_result"
    }
   ],
   "source": [
    "# number of total frag, 1,901,430  \n",
    "count_data.reset_index()[\"dd\"].sum()"
   ]
  },
  {
   "cell_type": "code",
   "execution_count": 268,
   "metadata": {},
   "outputs": [
    {
     "data": {
      "text/plain": [
       "(156257, 2)"
      ]
     },
     "execution_count": 268,
     "metadata": {},
     "output_type": "execute_result"
    }
   ],
   "source": [
    "count_data.reset_index().query(\"dd > 1\").shape"
   ]
  },
  {
   "cell_type": "code",
   "execution_count": 269,
   "metadata": {},
   "outputs": [
    {
     "data": {
      "text/plain": [
       "(78057, 2)"
      ]
     },
     "execution_count": 269,
     "metadata": {},
     "output_type": "execute_result"
    }
   ],
   "source": [
    "count_data.reset_index().query(\"dd > 2\").shape"
   ]
  },
  {
   "cell_type": "code",
   "execution_count": 270,
   "metadata": {},
   "outputs": [
    {
     "data": {
      "text/plain": [
       "(29117, 2)"
      ]
     },
     "execution_count": 270,
     "metadata": {},
     "output_type": "execute_result"
    }
   ],
   "source": [
    "count_data.reset_index().query(\"dd > 5\").shape"
   ]
  },
  {
   "cell_type": "code",
   "execution_count": 271,
   "metadata": {},
   "outputs": [
    {
     "data": {
      "text/plain": [
       "(13346, 2)"
      ]
     },
     "execution_count": 271,
     "metadata": {},
     "output_type": "execute_result"
    }
   ],
   "source": [
    "count_data.reset_index().query(\"dd > 10\").shape"
   ]
  },
  {
   "cell_type": "code",
   "execution_count": 272,
   "metadata": {},
   "outputs": [],
   "source": [
    "count_data_dd_10 = count_data.reset_index().query(\"dd > 10\").rename(columns={\"index\":\"dd\", \"dd\":\"count\"})\n",
    "count_data_dd_10 = count_data_dd_10.reset_index().rename(columns={\"index\":\"category\"})"
   ]
  },
  {
   "cell_type": "code",
   "execution_count": 273,
   "metadata": {},
   "outputs": [],
   "source": [
    "save_data = d.merge(count_data_dd_10, how='left', left_index=True, on=\"dd\")"
   ]
  },
  {
   "cell_type": "code",
   "execution_count": 275,
   "metadata": {},
   "outputs": [],
   "source": [
    "save_data.reset_index(drop=True).to_csv(\"/Users/weilu/Research/optimization/fragment/clustered_bin2_jan18.csv\")"
   ]
  },
  {
   "cell_type": "markdown",
   "metadata": {},
   "source": [
    "## all ca, cb pair"
   ]
  },
  {
   "cell_type": "code",
   "execution_count": 80,
   "metadata": {},
   "outputs": [
    {
     "data": {
      "text/plain": [
       "(156257, 2)"
      ]
     },
     "execution_count": 80,
     "metadata": {},
     "output_type": "execute_result"
    }
   ],
   "source": [
    "count_data.reset_index().query(\"dd > 1\").shape"
   ]
  },
  {
   "cell_type": "code",
   "execution_count": 81,
   "metadata": {},
   "outputs": [
    {
     "data": {
      "text/plain": [
       "(78057, 2)"
      ]
     },
     "execution_count": 81,
     "metadata": {},
     "output_type": "execute_result"
    }
   ],
   "source": [
    "count_data.reset_index().query(\"dd > 2\").shape"
   ]
  },
  {
   "cell_type": "code",
   "execution_count": 83,
   "metadata": {},
   "outputs": [
    {
     "data": {
      "text/plain": [
       "(50756, 2)"
      ]
     },
     "execution_count": 83,
     "metadata": {},
     "output_type": "execute_result"
    }
   ],
   "source": [
    "count_data.reset_index().query(\"dd > 3\").shape"
   ]
  },
  {
   "cell_type": "code",
   "execution_count": 89,
   "metadata": {},
   "outputs": [
    {
     "data": {
      "text/plain": [
       "1204098"
      ]
     },
     "execution_count": 89,
     "metadata": {},
     "output_type": "execute_result"
    }
   ],
   "source": [
    "count_data.reset_index().query(\"dd > 1\")[\"dd\"].sum()"
   ]
  },
  {
   "cell_type": "code",
   "execution_count": 85,
   "metadata": {},
   "outputs": [
    {
     "data": {
      "text/plain": [
       "(29117, 2)"
      ]
     },
     "execution_count": 85,
     "metadata": {},
     "output_type": "execute_result"
    }
   ],
   "source": [
    "# number of unique fold, filter less frequent, 29,117\n",
    "count_data.reset_index().query(\"dd > 5\").shape"
   ]
  },
  {
   "cell_type": "code",
   "execution_count": 87,
   "metadata": {},
   "outputs": [
    {
     "data": {
      "text/plain": [
       "871226"
      ]
     },
     "execution_count": 87,
     "metadata": {},
     "output_type": "execute_result"
    }
   ],
   "source": [
    "count_data.reset_index().query(\"dd > 5\")[\"dd\"].sum()"
   ]
  },
  {
   "cell_type": "code",
   "execution_count": 94,
   "metadata": {},
   "outputs": [
    {
     "data": {
      "text/plain": [
       "<matplotlib.axes._subplots.AxesSubplot at 0x1bb95b3e10>"
      ]
     },
     "execution_count": 94,
     "metadata": {},
     "output_type": "execute_result"
    },
    {
     "data": {
      "image/png": "[encoded data removed]",
      "text/plain": [
       "<Figure size 432x288 with 1 Axes>"
      ]
     },
     "metadata": {
      "needs_background": "light"
     },
     "output_type": "display_data"
    }
   ],
   "source": [
    "count_data.reset_index()[\"dd\"].hist(bins=50, log=True)"
   ]
  },
  {
   "cell_type": "code",
   "execution_count": 38,
   "metadata": {},
   "outputs": [
    {
     "data": {
      "text/plain": [
       "0     (8, 10]\n",
       "1    (10, 12]\n",
       "2     (8, 10]\n",
       "3    (10, 12]\n",
       "4     (8, 10]\n",
       "Name: dis1, dtype: category\n",
       "Categories (15, interval[int64]): [(0, 2] < (2, 4] < (4, 6] < (6, 8] ... (22, 24] < (24, 26] < (26, 28] < (28, 30]]"
      ]
     },
     "execution_count": 38,
     "metadata": {},
     "output_type": "execute_result"
    }
   ],
   "source": [
    "pd.cut(data.head()[\"dis1\"], bins=np.arange(0,31,2)).cat."
   ]
  },
  {
   "cell_type": "code",
   "execution_count": 4,
   "metadata": {},
   "outputs": [],
   "source": [
    "data = pd.read_csv(\"/Users/weilu/Research/optimization/fragment/data_jan14.csv\")"
   ]
  },
  {
   "cell_type": "code",
   "execution_count": 36,
   "metadata": {},
   "outputs": [],
   "source": [
    "data[\"seqDis\"] = data[\"j\"]+3\n",
    "data.to_feather(\"/Users/weilu/Research/optimization/fragment/feather_data_jan14_2.feather\")"
   ]
  },
  {
   "cell_type": "code",
   "execution_count": 14,
   "metadata": {},
   "outputs": [],
   "source": [
    "data = feather.read_dataframe(\"/Users/weilu/Research/optimization/fragment/feather_data_jan14_2.feather\")"
   ]
  },
  {
   "cell_type": "code",
   "execution_count": 19,
   "metadata": {},
   "outputs": [
    {
     "data": {
      "text/plain": [
       "'D'"
      ]
     },
     "execution_count": 19,
     "metadata": {},
     "output_type": "execute_result"
    }
   ],
   "source": [
    "three_to_one(\"ASP\")"
   ]
  },
  {
   "cell_type": "code",
   "execution_count": 39,
   "metadata": {},
   "outputs": [],
   "source": [
    "test = data.sample(int(1e6))"
   ]
  },
  {
   "cell_type": "code",
   "execution_count": 35,
   "metadata": {},
   "outputs": [
    {
     "data": {
      "text/html": [
       "<div>\n",
       "<style scoped>\n",
       "    .dataframe tbody tr th:only-of-type {\n",
       "        vertical-align: middle;\n",
       "    }\n",
       "\n",
       "    .dataframe tbody tr th {\n",
       "        vertical-align: top;\n",
       "    }\n",
       "\n",
       "    .dataframe thead th {\n",
       "        text-align: right;\n",
       "    }\n",
       "</style>\n",
       "<table border=\"1\" class=\"dataframe\">\n",
       "  <thead>\n",
       "    <tr style=\"text-align: right;\">\n",
       "      <th></th>\n",
       "      <th>pdb</th>\n",
       "      <th>i</th>\n",
       "      <th>j</th>\n",
       "      <th>res1</th>\n",
       "      <th>res2</th>\n",
       "      <th>dis_ca_ca</th>\n",
       "      <th>dis_ca_cb</th>\n",
       "      <th>dis_cb_ca</th>\n",
       "      <th>dis_cb_cb</th>\n",
       "      <th>seqDis</th>\n",
       "    </tr>\n",
       "  </thead>\n",
       "  <tbody>\n",
       "    <tr>\n",
       "      <th>0</th>\n",
       "      <td>1igqB00</td>\n",
       "      <td>0</td>\n",
       "      <td>0</td>\n",
       "      <td>ASP</td>\n",
       "      <td>LYS</td>\n",
       "      <td>9.545797</td>\n",
       "      <td>10.203734</td>\n",
       "      <td>9.914081</td>\n",
       "      <td>10.556716</td>\n",
       "      <td>3</td>\n",
       "    </tr>\n",
       "    <tr>\n",
       "      <th>1</th>\n",
       "      <td>1igqB00</td>\n",
       "      <td>0</td>\n",
       "      <td>1</td>\n",
       "      <td>ASP</td>\n",
       "      <td>LYS</td>\n",
       "      <td>12.242739</td>\n",
       "      <td>13.362099</td>\n",
       "      <td>12.285064</td>\n",
       "      <td>13.372369</td>\n",
       "      <td>4</td>\n",
       "    </tr>\n",
       "    <tr>\n",
       "      <th>2</th>\n",
       "      <td>1igqB00</td>\n",
       "      <td>0</td>\n",
       "      <td>2</td>\n",
       "      <td>ASP</td>\n",
       "      <td>ALA</td>\n",
       "      <td>11.389445</td>\n",
       "      <td>10.874768</td>\n",
       "      <td>11.122988</td>\n",
       "      <td>10.652946</td>\n",
       "      <td>5</td>\n",
       "    </tr>\n",
       "    <tr>\n",
       "      <th>3</th>\n",
       "      <td>1igqB00</td>\n",
       "      <td>0</td>\n",
       "      <td>3</td>\n",
       "      <td>ASP</td>\n",
       "      <td>ILE</td>\n",
       "      <td>14.435853</td>\n",
       "      <td>15.082260</td>\n",
       "      <td>13.902566</td>\n",
       "      <td>14.474377</td>\n",
       "      <td>6</td>\n",
       "    </tr>\n",
       "    <tr>\n",
       "      <th>4</th>\n",
       "      <td>1igqB00</td>\n",
       "      <td>0</td>\n",
       "      <td>4</td>\n",
       "      <td>ASP</td>\n",
       "      <td>VAL</td>\n",
       "      <td>15.702080</td>\n",
       "      <td>16.066488</td>\n",
       "      <td>15.046198</td>\n",
       "      <td>15.494028</td>\n",
       "      <td>7</td>\n",
       "    </tr>\n",
       "    <tr>\n",
       "      <th>5</th>\n",
       "      <td>1igqB00</td>\n",
       "      <td>0</td>\n",
       "      <td>5</td>\n",
       "      <td>ASP</td>\n",
       "      <td>GLN</td>\n",
       "      <td>18.185148</td>\n",
       "      <td>17.967852</td>\n",
       "      <td>17.301693</td>\n",
       "      <td>16.996122</td>\n",
       "      <td>8</td>\n",
       "    </tr>\n",
       "    <tr>\n",
       "      <th>6</th>\n",
       "      <td>1igqB00</td>\n",
       "      <td>0</td>\n",
       "      <td>6</td>\n",
       "      <td>ASP</td>\n",
       "      <td>VAL</td>\n",
       "      <td>21.298042</td>\n",
       "      <td>21.665291</td>\n",
       "      <td>20.407768</td>\n",
       "      <td>20.859966</td>\n",
       "      <td>9</td>\n",
       "    </tr>\n",
       "    <tr>\n",
       "      <th>7</th>\n",
       "      <td>1igqB00</td>\n",
       "      <td>1</td>\n",
       "      <td>0</td>\n",
       "      <td>LYS</td>\n",
       "      <td>LYS</td>\n",
       "      <td>9.427593</td>\n",
       "      <td>10.522633</td>\n",
       "      <td>10.278061</td>\n",
       "      <td>11.246230</td>\n",
       "      <td>3</td>\n",
       "    </tr>\n",
       "    <tr>\n",
       "      <th>8</th>\n",
       "      <td>1igqB00</td>\n",
       "      <td>1</td>\n",
       "      <td>1</td>\n",
       "      <td>LYS</td>\n",
       "      <td>ALA</td>\n",
       "      <td>9.508488</td>\n",
       "      <td>9.150386</td>\n",
       "      <td>10.755317</td>\n",
       "      <td>10.501932</td>\n",
       "      <td>4</td>\n",
       "    </tr>\n",
       "    <tr>\n",
       "      <th>9</th>\n",
       "      <td>1igqB00</td>\n",
       "      <td>1</td>\n",
       "      <td>2</td>\n",
       "      <td>LYS</td>\n",
       "      <td>ILE</td>\n",
       "      <td>13.046163</td>\n",
       "      <td>13.734128</td>\n",
       "      <td>14.317800</td>\n",
       "      <td>14.933916</td>\n",
       "      <td>5</td>\n",
       "    </tr>\n",
       "    <tr>\n",
       "      <th>10</th>\n",
       "      <td>1igqB00</td>\n",
       "      <td>1</td>\n",
       "      <td>3</td>\n",
       "      <td>LYS</td>\n",
       "      <td>VAL</td>\n",
       "      <td>14.956468</td>\n",
       "      <td>15.287210</td>\n",
       "      <td>16.379318</td>\n",
       "      <td>16.743790</td>\n",
       "      <td>6</td>\n",
       "    </tr>\n",
       "    <tr>\n",
       "      <th>11</th>\n",
       "      <td>1igqB00</td>\n",
       "      <td>1</td>\n",
       "      <td>4</td>\n",
       "      <td>LYS</td>\n",
       "      <td>GLN</td>\n",
       "      <td>17.811722</td>\n",
       "      <td>17.760918</td>\n",
       "      <td>19.179277</td>\n",
       "      <td>19.085447</td>\n",
       "      <td>7</td>\n",
       "    </tr>\n",
       "    <tr>\n",
       "      <th>12</th>\n",
       "      <td>1igqB00</td>\n",
       "      <td>1</td>\n",
       "      <td>5</td>\n",
       "      <td>LYS</td>\n",
       "      <td>VAL</td>\n",
       "      <td>21.096529</td>\n",
       "      <td>21.304592</td>\n",
       "      <td>22.518848</td>\n",
       "      <td>22.747808</td>\n",
       "      <td>8</td>\n",
       "    </tr>\n",
       "    <tr>\n",
       "      <th>13</th>\n",
       "      <td>1igqB00</td>\n",
       "      <td>1</td>\n",
       "      <td>6</td>\n",
       "      <td>LYS</td>\n",
       "      <td>GLU</td>\n",
       "      <td>24.821157</td>\n",
       "      <td>25.423830</td>\n",
       "      <td>26.228443</td>\n",
       "      <td>26.826309</td>\n",
       "      <td>9</td>\n",
       "    </tr>\n",
       "    <tr>\n",
       "      <th>14</th>\n",
       "      <td>1igqB00</td>\n",
       "      <td>2</td>\n",
       "      <td>0</td>\n",
       "      <td>LEU</td>\n",
       "      <td>ALA</td>\n",
       "      <td>5.881323</td>\n",
       "      <td>5.796468</td>\n",
       "      <td>4.888189</td>\n",
       "      <td>4.605271</td>\n",
       "      <td>3</td>\n",
       "    </tr>\n",
       "    <tr>\n",
       "      <th>15</th>\n",
       "      <td>1igqB00</td>\n",
       "      <td>2</td>\n",
       "      <td>1</td>\n",
       "      <td>LEU</td>\n",
       "      <td>ILE</td>\n",
       "      <td>9.385722</td>\n",
       "      <td>10.002345</td>\n",
       "      <td>8.263468</td>\n",
       "      <td>8.984903</td>\n",
       "      <td>4</td>\n",
       "    </tr>\n",
       "    <tr>\n",
       "      <th>16</th>\n",
       "      <td>1igqB00</td>\n",
       "      <td>2</td>\n",
       "      <td>2</td>\n",
       "      <td>LEU</td>\n",
       "      <td>VAL</td>\n",
       "      <td>11.658462</td>\n",
       "      <td>12.148303</td>\n",
       "      <td>10.266681</td>\n",
       "      <td>10.732664</td>\n",
       "      <td>5</td>\n",
       "    </tr>\n",
       "    <tr>\n",
       "      <th>17</th>\n",
       "      <td>1igqB00</td>\n",
       "      <td>2</td>\n",
       "      <td>3</td>\n",
       "      <td>LEU</td>\n",
       "      <td>GLN</td>\n",
       "      <td>14.435720</td>\n",
       "      <td>14.398872</td>\n",
       "      <td>13.093221</td>\n",
       "      <td>13.098623</td>\n",
       "      <td>6</td>\n",
       "    </tr>\n",
       "    <tr>\n",
       "      <th>18</th>\n",
       "      <td>1igqB00</td>\n",
       "      <td>2</td>\n",
       "      <td>4</td>\n",
       "      <td>LEU</td>\n",
       "      <td>VAL</td>\n",
       "      <td>17.857430</td>\n",
       "      <td>18.081791</td>\n",
       "      <td>16.449497</td>\n",
       "      <td>16.665981</td>\n",
       "      <td>7</td>\n",
       "    </tr>\n",
       "    <tr>\n",
       "      <th>19</th>\n",
       "      <td>1igqB00</td>\n",
       "      <td>2</td>\n",
       "      <td>5</td>\n",
       "      <td>LEU</td>\n",
       "      <td>GLU</td>\n",
       "      <td>21.547594</td>\n",
       "      <td>22.222416</td>\n",
       "      <td>20.160917</td>\n",
       "      <td>20.826214</td>\n",
       "      <td>8</td>\n",
       "    </tr>\n",
       "  </tbody>\n",
       "</table>\n",
       "</div>"
      ],
      "text/plain": [
       "        pdb  i  j res1 res2  dis_ca_ca  dis_ca_cb  dis_cb_ca  dis_cb_cb  \\\n",
       "0   1igqB00  0  0  ASP  LYS   9.545797  10.203734   9.914081  10.556716   \n",
       "1   1igqB00  0  1  ASP  LYS  12.242739  13.362099  12.285064  13.372369   \n",
       "2   1igqB00  0  2  ASP  ALA  11.389445  10.874768  11.122988  10.652946   \n",
       "3   1igqB00  0  3  ASP  ILE  14.435853  15.082260  13.902566  14.474377   \n",
       "4   1igqB00  0  4  ASP  VAL  15.702080  16.066488  15.046198  15.494028   \n",
       "5   1igqB00  0  5  ASP  GLN  18.185148  17.967852  17.301693  16.996122   \n",
       "6   1igqB00  0  6  ASP  VAL  21.298042  21.665291  20.407768  20.859966   \n",
       "7   1igqB00  1  0  LYS  LYS   9.427593  10.522633  10.278061  11.246230   \n",
       "8   1igqB00  1  1  LYS  ALA   9.508488   9.150386  10.755317  10.501932   \n",
       "9   1igqB00  1  2  LYS  ILE  13.046163  13.734128  14.317800  14.933916   \n",
       "10  1igqB00  1  3  LYS  VAL  14.956468  15.287210  16.379318  16.743790   \n",
       "11  1igqB00  1  4  LYS  GLN  17.811722  17.760918  19.179277  19.085447   \n",
       "12  1igqB00  1  5  LYS  VAL  21.096529  21.304592  22.518848  22.747808   \n",
       "13  1igqB00  1  6  LYS  GLU  24.821157  25.423830  26.228443  26.826309   \n",
       "14  1igqB00  2  0  LEU  ALA   5.881323   5.796468   4.888189   4.605271   \n",
       "15  1igqB00  2  1  LEU  ILE   9.385722  10.002345   8.263468   8.984903   \n",
       "16  1igqB00  2  2  LEU  VAL  11.658462  12.148303  10.266681  10.732664   \n",
       "17  1igqB00  2  3  LEU  GLN  14.435720  14.398872  13.093221  13.098623   \n",
       "18  1igqB00  2  4  LEU  VAL  17.857430  18.081791  16.449497  16.665981   \n",
       "19  1igqB00  2  5  LEU  GLU  21.547594  22.222416  20.160917  20.826214   \n",
       "\n",
       "    seqDis  \n",
       "0        3  \n",
       "1        4  \n",
       "2        5  \n",
       "3        6  \n",
       "4        7  \n",
       "5        8  \n",
       "6        9  \n",
       "7        3  \n",
       "8        4  \n",
       "9        5  \n",
       "10       6  \n",
       "11       7  \n",
       "12       8  \n",
       "13       9  \n",
       "14       3  \n",
       "15       4  \n",
       "16       5  \n",
       "17       6  \n",
       "18       7  \n",
       "19       8  "
      ]
     },
     "execution_count": 35,
     "metadata": {},
     "output_type": "execute_result"
    }
   ],
   "source": [
    "data.head(20)"
   ]
  },
  {
   "cell_type": "markdown",
   "metadata": {},
   "source": [
    "# distribution of ca ca distance, grouped by sequence distance."
   ]
  },
  {
   "cell_type": "code",
   "execution_count": 45,
   "metadata": {},
   "outputs": [
    {
     "data": {
      "image/png": "[encoded data removed]",
      "text/plain": [
       "<Figure size 1048.49x648 with 7 Axes>"
      ]
     },
     "metadata": {
      "needs_background": "light"
     },
     "output_type": "display_data"
    }
   ],
   "source": [
    "g = sns.FacetGrid(data, col=\"seqDis\", col_wrap=3, height=3, aspect=1.618033)\n",
    "g = g.map(plt.hist, \"dis_ca_ca\", bins=50)"
   ]
  },
  {
   "cell_type": "code",
   "execution_count": 44,
   "metadata": {},
   "outputs": [
    {
     "data": {
      "image/png": "[encoded data removed]",
      "text/plain": [
       "<Figure size 1048.49x648 with 7 Axes>"
      ]
     },
     "metadata": {
      "needs_background": "light"
     },
     "output_type": "display_data"
    }
   ],
   "source": [
    "g = sns.FacetGrid(test, col=\"seqDis\", col_wrap=3, height=3, aspect=1.618033)\n",
    "g = g.map(plt.hist, \"dis_ca_ca\", bins=50)"
   ]
  },
  {
   "cell_type": "code",
   "execution_count": 47,
   "metadata": {},
   "outputs": [
    {
     "data": {
      "text/plain": [
       "<matplotlib.axes._subplots.AxesSubplot at 0x1a4a5ce780>"
      ]
     },
     "execution_count": 47,
     "metadata": {},
     "output_type": "execute_result"
    },
    {
     "data": {
      "image/png": "[encoded data removed]",
      "text/plain": [
       "<Figure size 1164.98x720 with 1 Axes>"
      ]
     },
     "metadata": {
      "needs_background": "light"
     },
     "output_type": "display_data"
    }
   ],
   "source": [
    "plt.rcParams['figure.figsize'] = [16.18033, 10]\n",
    "test.query(\"j == 0\")[\"dis_ca_ca\"].hist(bins=100)"
   ]
  },
  {
   "cell_type": "code",
   "execution_count": null,
   "metadata": {},
   "outputs": [],
   "source": []
  }
 ],
 "metadata": {
  "kernelspec": {
   "display_name": "Python 3",
   "language": "python",
   "name": "python3"
  },
  "language_info": {
   "codemirror_mode": {
    "name": "ipython",
    "version": 3
   },
   "file_extension": ".py",
   "mimetype": "text/x-python",
   "name": "python",
   "nbconvert_exporter": "python",
   "pygments_lexer": "ipython3",
   "version": "3.6.8"
  }
 },
 "nbformat": 4,
 "nbformat_minor": 2
}
