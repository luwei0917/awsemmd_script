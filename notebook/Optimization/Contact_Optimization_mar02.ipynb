{
 "cells": [
  {
   "cell_type": "code",
   "execution_count": 1,
   "metadata": {},
   "outputs": [],
   "source": [
    "from pyCodeLib import *\n",
    "import warnings\n",
    "import glob\n",
    "import re\n",
    "import numpy as np\n",
    "import pandas as pd\n",
    "from Bio.PDB.Polypeptide import one_to_three\n",
    "\n",
    "warnings.filterwarnings('ignore')\n",
    "\n",
    "\n",
    "# sys.path.insert(0, MYHOME)\n",
    "%load_ext autoreload\n",
    "%autoreload 2"
   ]
  },
  {
   "cell_type": "code",
   "execution_count": 2,
   "metadata": {},
   "outputs": [],
   "source": [
    "# plt.rcParams['figure.figsize'] = [16.18033, 10]\n",
    "plt.rcParams['figure.figsize'] = 0.5*np.array([16.18033, 10])\n",
    "# def gamma_format_convertion_iteration_to_simulation(iteration_gamma, gamma_for_simulation):\n",
    "#     # gamma_location = \"/Users/weilu/Research/server_backup/jan_2019/optimization/gammas_dec30/cath-dataset-nonredundant-S20Clean_phi_pairwise_contact_well4.5_6.5_5.0_10phi_density_mediated_contact_well6.5_9.5_5.0_10_2.6_7.0_gamma\"\n",
    "#     # gamma_for_simulation = \"/Users/weilu/Research/server_backup/jan_2019/optimization/iteration_gamma.dat\"\n",
    "#     gamma = iteration_gamma\n",
    "#     gamma = -gamma  # caused by tradition.\n",
    "#     # convert gamma to gamma used by simulation\n",
    "#     with open(gamma_for_simulation, \"w\") as out:\n",
    "#         c = 0\n",
    "#         for i in range(20):\n",
    "#             for j in range(i, 20):\n",
    "#                 out.write(f\"{gamma[c]:<.5f} {gamma[c]:10.5f}\\n\")\n",
    "#                 c += 1\n",
    "#         out.write(\"\\n\")\n",
    "#         for i in range(20):\n",
    "#             for j in range(i, 20):\n",
    "#                 # protein, water\n",
    "#                 out.write(f\"{gamma[c]:<.5f} {gamma[c+210]:10.5f}\\n\")\n",
    "#                 c += 1\n",
    "\n",
    "res_type_map = {\n",
    "    'A': 0,\n",
    "    'C': 4,\n",
    "    'D': 3,\n",
    "    'E': 6,\n",
    "    'F': 13,\n",
    "    'G': 7,\n",
    "    'H': 8,\n",
    "    'I': 9,\n",
    "    'K': 11,\n",
    "    'L': 10,\n",
    "    'M': 12,\n",
    "    'N': 2,\n",
    "    'P': 14,\n",
    "    'Q': 5,\n",
    "    'R': 1,\n",
    "    'S': 15,\n",
    "    'T': 16,\n",
    "    'V': 19,\n",
    "    'W': 17,\n",
    "    'Y': 18\n",
    "}\n",
    "# res_type_map = gamma_se_map_1_letter = {   'A': 0,  'R': 1,  'N': 2,  'D': 3,  'C': 4,\n",
    "#                             'Q': 5,  'E': 6,  'G': 7,  'H': 8,  'I': 9,\n",
    "#                             'L': 10, 'K': 11, 'M': 12, 'F': 13, 'P': 14,\n",
    "#                             'S': 15, 'T': 16, 'W': 17, 'Y': 18, 'V': 19}\n",
    "res_type_map_letters = ['A', 'R', 'N', 'D', 'C', 'Q', 'E', 'G',\n",
    "                        'H', 'I', 'L', 'K', 'M', 'F', 'P', 'S', 'T', 'W', 'Y', 'V']\n",
    "\n",
    "inverse_res_type_map = dict(list(zip(list(range(20)), res_type_map_letters)))\n",
    "\n",
    "def gamma_format_convertion_iteration_to_simulation(iteration_gamma, gamma_for_simulation, burial_gamma_for_simulation=None):\n",
    "    # gamma_location = \"/Users/weilu/Research/server_backup/jan_2019/optimization/gammas_dec30/cath-dataset-nonredundant-S20Clean_phi_pairwise_contact_well4.5_6.5_5.0_10phi_density_mediated_contact_well6.5_9.5_5.0_10_2.6_7.0_gamma\"\n",
    "    # gamma_for_simulation = \"/Users/weilu/Research/server_backup/jan_2019/optimization/iteration_gamma.dat\"\n",
    "    gamma = iteration_gamma\n",
    "    gamma = -gamma  # caused by tradition.\n",
    "    # convert gamma to gamma used by simulation\n",
    "    with open(gamma_for_simulation, \"w\") as out:\n",
    "        c = 0\n",
    "        for i in range(20):\n",
    "            for j in range(i, 20):\n",
    "                out.write(f\"{gamma[c]:<.5f} {gamma[c]:10.5f}\\n\")\n",
    "                c += 1\n",
    "        out.write(\"\\n\")\n",
    "        for i in range(20):\n",
    "            for j in range(i, 20):\n",
    "                # protein, water\n",
    "                out.write(f\"{gamma[c]:<.5f} {gamma[c+210]:10.5f}\\n\")\n",
    "                c += 1\n",
    "    if burial_gamma_for_simulation:\n",
    "        rhoGamma = pd.DataFrame(gamma[630:].reshape(3,20).T, columns=[\"rho1\", \"rho2\", \"rho3\"]).reset_index()\n",
    "        rhoGamma[\"oneLetter\"] = rhoGamma[\"index\"].apply(lambda x: inverse_res_type_map[x])\n",
    "        rhoGamma[\"Residue\"] = rhoGamma[\"index\"].apply(lambda x: one_to_three(inverse_res_type_map[x]))\n",
    "        rhoGamma = rhoGamma[[\"Residue\", \"rho1\", \"rho2\", \"rho3\", \"index\", \"oneLetter\"]]\n",
    "        g = rhoGamma[[\"rho1\", \"rho2\", \"rho3\"]].values\n",
    "        np.savetxt(burial_gamma_for_simulation, g, fmt='%7.4f')\n",
    "\n",
    "\n",
    "\n"
   ]
  },
  {
   "cell_type": "code",
   "execution_count": 74,
   "metadata": {},
   "outputs": [],
   "source": [
    "# pre = \"/Users/weilu/Research/server_backup/feb_2019/jan_optimization/gammas/\"\n",
    "# pre = \"/Users/weilu/Research/server/feb_2019/optimization_with_biased_iter1/gammas/\"\n",
    "# pre = \"/Users/weilu/Research/server/march_2019/optimization_weighted_by_q_iter1/gammas/\"\n",
    "# pre = \"/Users/weilu/Research/server/march_2019/optimization_weighted_by_q_iter3/gammas/\"\n",
    "pre = \"/Users/weilu/Research/server/march_2019/optimization_weighted_by_q_iter4/gammas/\"\n",
    "# pre = \"/Users/weilu/Research/server/march_2019/optimization_weighted_by_q_iter2_improved/gammas/\"\n",
    "# pp = \"cath-dataset-nonredundant-S20Clean_phi_pairwise_contact_well4.5_6.5_5.0_10phi_density_mediated_contact_well6.5_9.5_5.0_10_2.6_7.0\"\n",
    "# pp = \"cath-dataset-nonredundant-S20Clean_phi_pairwise_contact_well4.5_6.5_5.0_10phi_density_mediated_contact_well6.5_9.5_5.0_10_2.6_7.0phi_burial_well4.0\"\n",
    "pp = \"proteins_name_list_phi_pairwise_contact_well4.5_6.5_5.0_10phi_density_mediated_contact_well6.5_9.5_5.0_10_2.6_7.0phi_burial_well4.0\"\n",
    "A_name = pp + \"_A\"\n",
    "B_name = pp + \"_B\"\n",
    "B_filtered_name = pp + \"_B_filtered\"\n",
    "P_name = pp + \"_P\"\n",
    "Gamma_name = pp + \"_gamma\"\n",
    "Gamma_filtered_name = pp + \"_gamma_filtered\"\n",
    "Lamb_name = pp + \"_lamb\"\n",
    "Lamb_filtered_name = pp + \"_lamb_filtered\"\n",
    "\n",
    "A = np.loadtxt(pre+A_name)\n",
    "B = np.loadtxt(pre+B_name)\n",
    "B_filtered = np.loadtxt(pre+B_filtered_name, dtype=complex, converters={\n",
    "                           0: lambda s: complex(s.decode().replace('+-', '-'))})\n",
    "Gamma = np.loadtxt(pre+Gamma_name)\n",
    "Gamma_filtered = np.loadtxt(pre+Gamma_filtered_name, dtype=complex, converters={\n",
    "                           0: lambda s: complex(s.decode().replace('+-', '-'))})\n",
    "Lamb = np.loadtxt(pre+Lamb_name, dtype=complex, converters={\n",
    "                           0: lambda s: complex(s.decode().replace('+-', '-'))})\n",
    "Lamb_filtered = np.loadtxt(pre+Lamb_filtered_name, dtype=complex, converters={\n",
    "                           0: lambda s: complex(s.decode().replace('+-', '-'))})\n",
    "\n",
    "half_B_name = pp + \"_half_B\"\n",
    "half_B = np.loadtxt(pre+half_B_name)\n",
    "other_half_B_name = pp + \"_other_half_B\"\n",
    "other_half_B = np.loadtxt(pre+other_half_B_name)\n",
    "std_half_B_name = pp + \"_std_half_B\"\n",
    "std_half_B = np.loadtxt(pre+std_half_B_name)\n",
    "\n",
    "\n",
    "\n",
    "\n",
    "\n",
    "\n"
   ]
  },
  {
   "cell_type": "code",
   "execution_count": 83,
   "metadata": {},
   "outputs": [
    {
     "name": "stdout",
     "output_type": "stream",
     "text": [
      "417\n"
     ]
    }
   ],
   "source": [
    "total_phis = 690\n",
    "num_decoys = 2000\n",
    "filtered_gamma, filtered_B, filtered_lamb, P, lamb = get_filtered_gamma_B_lamb_P_and_lamb(A, B, half_B, other_half_B, std_half_B, total_phis, num_decoys, mode=2)\n"
   ]
  },
  {
   "cell_type": "code",
   "execution_count": 85,
   "metadata": {},
   "outputs": [
    {
     "data": {
      "image/png": "[encoded data removed]",
      "text/plain": [
       "<Figure size 582.492x360 with 1 Axes>"
      ]
     },
     "metadata": {
      "needs_background": "light"
     },
     "output_type": "display_data"
    }
   ],
   "source": [
    "plt.plot(filtered_lamb)\n",
    "plt.yscale('log')"
   ]
  },
  {
   "cell_type": "code",
   "execution_count": 78,
   "metadata": {},
   "outputs": [
    {
     "data": {
      "image/png": "[encoded data removed]",
      "text/plain": [
       "<Figure size 582.492x360 with 1 Axes>"
      ]
     },
     "metadata": {
      "needs_background": "light"
     },
     "output_type": "display_data"
    }
   ],
   "source": [
    "plt.plot(Lamb)\n",
    "plt.yscale('log')"
   ]
  },
  {
   "cell_type": "code",
   "execution_count": 77,
   "metadata": {},
   "outputs": [
    {
     "data": {
      "image/png": "[encoded data removed]",
      "text/plain": [
       "<Figure size 582.492x360 with 1 Axes>"
      ]
     },
     "metadata": {
      "needs_background": "light"
     },
     "output_type": "display_data"
    }
   ],
   "source": [
    "plt.plot(Lamb_filtered)\n",
    "plt.yscale('log')"
   ]
  },
  {
   "cell_type": "code",
   "execution_count": 73,
   "metadata": {},
   "outputs": [
    {
     "data": {
      "image/png": "[encoded data removed]",
      "text/plain": [
       "<Figure size 582.492x360 with 1 Axes>"
      ]
     },
     "metadata": {
      "needs_background": "light"
     },
     "output_type": "display_data"
    }
   ],
   "source": [
    "a = plt.hist(std_half_B.flatten(), bins=100)\n",
    "plt.yscale('log')"
   ]
  },
  {
   "cell_type": "code",
   "execution_count": 71,
   "metadata": {},
   "outputs": [
    {
     "data": {
      "image/png": "[encoded data removed]",
      "text/plain": [
       "<Figure size 582.492x360 with 1 Axes>"
      ]
     },
     "metadata": {
      "needs_background": "light"
     },
     "output_type": "display_data"
    }
   ],
   "source": [
    "a = plt.hist(std_half_B.flatten(), bins=100)\n",
    "plt.yscale('log')"
   ]
  },
  {
   "cell_type": "code",
   "execution_count": 31,
   "metadata": {},
   "outputs": [],
   "source": [
    "g1 = Gamma_filtered"
   ]
  },
  {
   "cell_type": "code",
   "execution_count": 126,
   "metadata": {},
   "outputs": [
    {
     "data": {
      "text/plain": [
       "(-0.18649356521739133+0j)"
      ]
     },
     "execution_count": 126,
     "metadata": {},
     "output_type": "execute_result"
    }
   ],
   "source": [
    "np.mean(Gamma_filtered2)"
   ]
  },
  {
   "cell_type": "code",
   "execution_count": 127,
   "metadata": {},
   "outputs": [
    {
     "data": {
      "text/plain": [
       "0.6358350958075707"
      ]
     },
     "execution_count": 127,
     "metadata": {},
     "output_type": "execute_result"
    }
   ],
   "source": [
    "np.std(Gamma_filtered2)"
   ]
  },
  {
   "cell_type": "code",
   "execution_count": 128,
   "metadata": {},
   "outputs": [
    {
     "data": {
      "text/plain": [
       "7.643302673563186"
      ]
     },
     "execution_count": 128,
     "metadata": {},
     "output_type": "execute_result"
    }
   ],
   "source": [
    "np.std(Gamma_filtered)"
   ]
  },
  {
   "cell_type": "code",
   "execution_count": 47,
   "metadata": {},
   "outputs": [],
   "source": [
    "iter3_gamma = np.loadtxt(\"/Users/weilu/Research/server/march_2019/optimization_weighted_by_q_iter3/iter3\")"
   ]
  },
  {
   "cell_type": "code",
   "execution_count": 58,
   "metadata": {},
   "outputs": [],
   "source": [
    "iter4_gamma = np.loadtxt(\"/Users/weilu/Research/server/march_2019/optimization_weighted_by_q_iter4/iter4\")"
   ]
  },
  {
   "cell_type": "code",
   "execution_count": 48,
   "metadata": {
    "scrolled": true
   },
   "outputs": [
    {
     "data": {
      "text/plain": [
       "(690,)"
      ]
     },
     "execution_count": 48,
     "metadata": {},
     "output_type": "execute_result"
    }
   ],
   "source": [
    "iter3_gamma.shape"
   ]
  },
  {
   "cell_type": "code",
   "execution_count": 84,
   "metadata": {},
   "outputs": [
    {
     "data": {
      "image/png": "[encoded data removed]",
      "text/plain": [
       "<Figure size 582.492x360 with 2 Axes>"
      ]
     },
     "metadata": {
      "needs_background": "light"
     },
     "output_type": "display_data"
    }
   ],
   "source": [
    "plot_contact_well(filtered_gamma[:210], inferBound=True, invert_sign=False)"
   ]
  },
  {
   "cell_type": "code",
   "execution_count": 59,
   "metadata": {},
   "outputs": [
    {
     "data": {
      "image/png": "[encoded data removed]",
      "text/plain": [
       "<Figure size 582.492x360 with 2 Axes>"
      ]
     },
     "metadata": {
      "needs_background": "light"
     },
     "output_type": "display_data"
    }
   ],
   "source": [
    "plot_contact_well(iter4_gamma[:210], inferBound=True, invert_sign=False)"
   ]
  },
  {
   "cell_type": "code",
   "execution_count": 55,
   "metadata": {},
   "outputs": [
    {
     "data": {
      "image/png": "[encoded data removed]",
      "text/plain": [
       "<Figure size 582.492x360 with 2 Axes>"
      ]
     },
     "metadata": {
      "needs_background": "light"
     },
     "output_type": "display_data"
    }
   ],
   "source": [
    "plot_contact_well(Gamma_filtered[:210], inferBound=True, invert_sign=False)"
   ]
  },
  {
   "cell_type": "code",
   "execution_count": 49,
   "metadata": {},
   "outputs": [
    {
     "data": {
      "image/png": "[encoded data removed]",
      "text/plain": [
       "<Figure size 582.492x360 with 2 Axes>"
      ]
     },
     "metadata": {
      "needs_background": "light"
     },
     "output_type": "display_data"
    }
   ],
   "source": [
    "plot_contact_well(iter3_gamma[:210], inferBound=True, invert_sign=False)"
   ]
  },
  {
   "cell_type": "code",
   "execution_count": 43,
   "metadata": {},
   "outputs": [],
   "source": [
    "iter2_gamma = np.loadtxt(\"/Users/weilu/Research/server/march_2019/optimization_weighted_by_q_iter1/iter1_gamma.dat\")"
   ]
  },
  {
   "cell_type": "code",
   "execution_count": 44,
   "metadata": {},
   "outputs": [],
   "source": [
    "def mix_gammas_2(pre, Gamma, preGamma, alpha=None, iterGammaName=None):\n",
    "    if alpha is None:\n",
    "        alpha = np.std(preGamma)/np.std(Gamma)\n",
    "    percent = int(alpha*100)\n",
    "    iter_gamma = (alpha/ (1.0 + alpha) * Gamma + 1.0/(1 + alpha) * preGamma).astype(float)\n",
    "#     pre = \"/Users/weilu/Research/server/march_2019/optimization_weighted_by_q_iter1/\"\n",
    "    gamma_for_simulation = pre + f\"iteration_gamma_{percent}.dat\"\n",
    "    burial_gamma_for_simulation = pre + f\"iteration_burial_gamma_{percent}.dat\"\n",
    "    gamma_format_convertion_iteration_to_simulation(iter_gamma, gamma_for_simulation, burial_gamma_for_simulation=burial_gamma_for_simulation)\n",
    "    if iterGammaName is not None:\n",
    "        np.savetxt(pre+iterGammaName, iter_gamma)\n"
   ]
  },
  {
   "cell_type": "code",
   "execution_count": 108,
   "metadata": {},
   "outputs": [],
   "source": [
    "def mix_gammas_3(pre, Gamma, preGamma, alpha=None, iterGammaName=None, iteration=\"5\"):\n",
    "    percent = int(alpha*100)\n",
    "    scale = np.std(preGamma)/np.std(Gamma)\n",
    "    iter_gamma = ((1- alpha)*preGamma + alpha*(scale*Gamma)).astype(float)\n",
    "    iter_gamma *=  np.std(preGamma)/np.std(iter_gamma)\n",
    "\n",
    "#     pre = \"/Users/weilu/Research/server/march_2019/optimization_weighted_by_q_iter1/\"\n",
    "    gamma_for_simulation = pre + f\"iteration_{iteration}_gamma_{percent}.dat\"\n",
    "    burial_gamma_for_simulation = pre + f\"iteration_{iteration}_burial_gamma_{percent}.dat\"\n",
    "    gamma_format_convertion_iteration_to_simulation(iter_gamma, gamma_for_simulation, burial_gamma_for_simulation=burial_gamma_for_simulation)\n",
    "    if iterGammaName is not None:\n",
    "        np.savetxt(pre+iterGammaName, iter_gamma)"
   ]
  },
  {
   "cell_type": "code",
   "execution_count": 29,
   "metadata": {},
   "outputs": [],
   "source": [
    "pre = \"/Users/weilu/Research/server/march_2019/optimization_weighted_by_q_iter2/\"\n",
    "mix_gammas_2(pre, Gamma_filtered, iter1, iterGammaName=\"iter2\")"
   ]
  },
  {
   "cell_type": "code",
   "execution_count": 45,
   "metadata": {},
   "outputs": [],
   "source": [
    "pre = \"/Users/weilu/Research/server/march_2019/optimization_weighted_by_q_iter3/\"\n",
    "mix_gammas_2(pre, Gamma_filtered, iter2_gamma, iterGammaName=\"iter3\")"
   ]
  },
  {
   "cell_type": "code",
   "execution_count": 57,
   "metadata": {},
   "outputs": [],
   "source": [
    "iter3_gamma = np.loadtxt(\"/Users/weilu/Research/server/march_2019/optimization_weighted_by_q_iter3/iter3\")\n",
    "pre = \"/Users/weilu/Research/server/march_2019/optimization_weighted_by_q_iter4/\"\n",
    "mix_gammas_2(pre, Gamma_filtered, iter3_gamma, iterGammaName=\"iter4\")"
   ]
  },
  {
   "cell_type": "code",
   "execution_count": 86,
   "metadata": {},
   "outputs": [],
   "source": [
    "iter3_gamma = np.loadtxt(\"/Users/weilu/Research/server/march_2019/optimization_weighted_by_q_iter3/iter3\")\n",
    "pre = \"/Users/weilu/Research/server/march_2019/optimization_weighted_by_q_iter4/\"\n",
    "mix_gammas_2(pre, filtered_gamma, iter3_gamma, iterGammaName=\"iter4_2\")"
   ]
  },
  {
   "cell_type": "code",
   "execution_count": 88,
   "metadata": {},
   "outputs": [],
   "source": [
    "iter3_gamma = np.loadtxt(\"/Users/weilu/Research/server/march_2019/optimization_weighted_by_q_iter3/iter3\")\n",
    "pre = \"/Users/weilu/Research/server/march_2019/optimization_weighted_by_q_iter4/\"\n",
    "mix_gammas_2(pre, Gamma_filtered, iter3_gamma, iterGammaName=\"iter4_4\", alpha=0.06)"
   ]
  },
  {
   "cell_type": "code",
   "execution_count": 106,
   "metadata": {},
   "outputs": [],
   "source": [
    "iter3_gamma = np.loadtxt(\"/Users/weilu/Research/server/march_2019/optimization_weighted_by_q_iter3/iter3\")\n",
    "pre = \"/Users/weilu/Research/server/march_2019/optimization_weighted_by_q_iter4/\"\n",
    "mix_gammas_3(pre, Gamma_filtered, iter3_gamma, iterGammaName=\"iter4_thrid_gen\", alpha=0.3)"
   ]
  },
  {
   "cell_type": "code",
   "execution_count": 109,
   "metadata": {},
   "outputs": [],
   "source": [
    "iter4_gamma = np.loadtxt(\"/Users/weilu/Research/server/march_2019/optimization_weighted_by_q_iter4/iter4_thrid_gen\")\n",
    "pre = \"/Users/weilu/Research/server/march_2019/optimization_weighted_by_q_iter5/\"\n",
    "mix_gammas_3(pre, Gamma_filtered, iter4_gamma, iterGammaName=\"iter5_thrid_gen\", alpha=0.3, iteration=5)"
   ]
  },
  {
   "cell_type": "code",
   "execution_count": 110,
   "metadata": {},
   "outputs": [],
   "source": [
    "pre_i = 5\n",
    "pre_iter_gamma = np.loadtxt(f\"/Users/weilu/Research/server/march_2019/optimization_weighted_by_q_iter{pre_i}/iter{pre_i}_thrid_gen\")\n",
    "pre = f\"/Users/weilu/Research/server/march_2019/optimization_weighted_by_q_iter{pre_i+1}/\"\n",
    "mix_gammas_3(pre, Gamma_filtered, pre_iter_gamma, iterGammaName=f\"iter{pre_i+1}_thrid_gen\", alpha=0.3, iteration=pre_i+1)\n",
    "\n"
   ]
  },
  {
   "cell_type": "code",
   "execution_count": 111,
   "metadata": {},
   "outputs": [],
   "source": [
    "pre_i = 6\n",
    "pre_iter_gamma = np.loadtxt(f\"/Users/weilu/Research/server/march_2019/optimization_weighted_by_q_iter{pre_i}/iter{pre_i}_thrid_gen\")\n",
    "pre = f\"/Users/weilu/Research/server/march_2019/optimization_weighted_by_q_iter{pre_i+1}/\"\n",
    "mix_gammas_3(pre, Gamma_filtered, pre_iter_gamma, iterGammaName=f\"iter{pre_i+1}_thrid_gen\", alpha=0.3, iteration=pre_i+1)\n",
    "\n"
   ]
  },
  {
   "cell_type": "code",
   "execution_count": 21,
   "metadata": {},
   "outputs": [],
   "source": [
    "alpha = np.std(Gamma_filtered2)/np.std(Gamma_filtered)"
   ]
  },
  {
   "cell_type": "code",
   "execution_count": 89,
   "metadata": {},
   "outputs": [],
   "source": [
    "preGamma = iter3_gamma\n",
    "Gamma = Gamma_filtered\n",
    "alpha = None\n",
    "if alpha is None:\n",
    "    alpha = np.std(preGamma)/np.std(Gamma)\n",
    "percent = int(alpha*100)\n",
    "iter_gamma = (alpha/ (1.0 + alpha) * Gamma + 1.0/(1 + alpha) * preGamma).astype(float)\n",
    "#     pre = \"/Users/weilu/Research/server/march_2019/optimization_weighted_by_q_iter1/\"\n",
    "    "
   ]
  },
  {
   "cell_type": "code",
   "execution_count": 90,
   "metadata": {},
   "outputs": [
    {
     "data": {
      "text/plain": [
       "1.3567577086476883"
      ]
     },
     "execution_count": 90,
     "metadata": {},
     "output_type": "execute_result"
    }
   ],
   "source": [
    "np.std(iter_gamma)"
   ]
  },
  {
   "cell_type": "code",
   "execution_count": 91,
   "metadata": {},
   "outputs": [
    {
     "data": {
      "text/plain": [
       "1.1584179955828737"
      ]
     },
     "execution_count": 91,
     "metadata": {},
     "output_type": "execute_result"
    }
   ],
   "source": [
    "np.std(preGamma)"
   ]
  },
  {
   "cell_type": "code",
   "execution_count": 92,
   "metadata": {},
   "outputs": [
    {
     "data": {
      "text/plain": [
       "8.584457410907518"
      ]
     },
     "execution_count": 92,
     "metadata": {},
     "output_type": "execute_result"
    }
   ],
   "source": [
    "np.std(Gamma)"
   ]
  },
  {
   "cell_type": "code",
   "execution_count": 93,
   "metadata": {},
   "outputs": [
    {
     "data": {
      "text/plain": [
       "0.13494364758697194"
      ]
     },
     "execution_count": 93,
     "metadata": {},
     "output_type": "execute_result"
    }
   ],
   "source": [
    "alpha"
   ]
  },
  {
   "cell_type": "code",
   "execution_count": 101,
   "metadata": {},
   "outputs": [],
   "source": [
    "alpha = 0.05\n",
    "scale = np.std(preGamma)/np.std(Gamma)\n",
    "iter_gamma = (1- alpha)*preGamma + alpha*(scale*Gamma)\n",
    "iter_gamma *=  np.std(preGamma)/np.std(iter_gamma)"
   ]
  },
  {
   "cell_type": "code",
   "execution_count": 102,
   "metadata": {},
   "outputs": [
    {
     "data": {
      "text/plain": [
       "1.1584179955828737"
      ]
     },
     "execution_count": 102,
     "metadata": {},
     "output_type": "execute_result"
    }
   ],
   "source": [
    "np.std(iter_gamma)"
   ]
  },
  {
   "cell_type": "code",
   "execution_count": 103,
   "metadata": {},
   "outputs": [
    {
     "data": {
      "text/plain": [
       "1.1584179955828737"
      ]
     },
     "execution_count": 103,
     "metadata": {},
     "output_type": "execute_result"
    }
   ],
   "source": [
    "np.std(scale*Gamma)"
   ]
  },
  {
   "cell_type": "code",
   "execution_count": 104,
   "metadata": {},
   "outputs": [
    {
     "data": {
      "text/plain": [
       "1.1584179955828737"
      ]
     },
     "execution_count": 104,
     "metadata": {},
     "output_type": "execute_result"
    }
   ],
   "source": [
    "np.std(preGamma)"
   ]
  },
  {
   "cell_type": "code",
   "execution_count": 98,
   "metadata": {},
   "outputs": [],
   "source": [
    "iter_gamma = (1- alpha)*preGamma + alpha*Gamma"
   ]
  },
  {
   "cell_type": "code",
   "execution_count": 99,
   "metadata": {},
   "outputs": [],
   "source": [
    "iter_gamma *=  np.std(preGamma)/np.std(iter_gamma)"
   ]
  },
  {
   "cell_type": "code",
   "execution_count": 100,
   "metadata": {},
   "outputs": [
    {
     "data": {
      "text/plain": [
       "1.1584179955828737"
      ]
     },
     "execution_count": 100,
     "metadata": {},
     "output_type": "execute_result"
    }
   ],
   "source": [
    "np.std(iter_gamma)"
   ]
  },
  {
   "cell_type": "code",
   "execution_count": null,
   "metadata": {},
   "outputs": [],
   "source": []
  },
  {
   "cell_type": "code",
   "execution_count": null,
   "metadata": {},
   "outputs": [],
   "source": [
    "np.std()"
   ]
  },
  {
   "cell_type": "code",
   "execution_count": 22,
   "metadata": {},
   "outputs": [
    {
     "data": {
      "text/plain": [
       "0.08318852765137907"
      ]
     },
     "execution_count": 22,
     "metadata": {},
     "output_type": "execute_result"
    }
   ],
   "source": [
    "alpha"
   ]
  },
  {
   "cell_type": "code",
   "execution_count": 23,
   "metadata": {},
   "outputs": [
    {
     "data": {
      "text/plain": [
       "0.1056363210663856"
      ]
     },
     "execution_count": 23,
     "metadata": {},
     "output_type": "execute_result"
    }
   ],
   "source": [
    "np.std(iter1)/np.std(Gamma_filtered)"
   ]
  },
  {
   "cell_type": "code",
   "execution_count": 25,
   "metadata": {},
   "outputs": [],
   "source": [
    "pre = \"/Users/weilu/Research/server/march_2019/optimization_weighted_by_q_iter2/\"\n",
    "\n",
    "mix_gammas_2(pre, Gamma_filtered, iter1, alpha)"
   ]
  },
  {
   "cell_type": "code",
   "execution_count": 15,
   "metadata": {},
   "outputs": [],
   "source": [
    "iter1 = 0.04*Gamma_filtered1 + 0.96*Gamma_filtered2"
   ]
  },
  {
   "cell_type": "code",
   "execution_count": 20,
   "metadata": {},
   "outputs": [],
   "source": [
    "np.savetxt(\"/Users/weilu/Research/server/march_2019/optimization_weighted_by_q_iter1/iter1_gamma.dat\", iter1.astype(float))"
   ]
  },
  {
   "cell_type": "code",
   "execution_count": 9,
   "metadata": {},
   "outputs": [],
   "source": [
    "alpha = np.std(Gamma_filtered2)/np.std(Gamma_filtered)"
   ]
  },
  {
   "cell_type": "code",
   "execution_count": 11,
   "metadata": {},
   "outputs": [],
   "source": [
    "a = Gamma_filtered * (alpha)/(1 + alpha)"
   ]
  },
  {
   "cell_type": "code",
   "execution_count": 13,
   "metadata": {},
   "outputs": [
    {
     "data": {
      "text/plain": [
       "0.5870031666474704"
      ]
     },
     "execution_count": 13,
     "metadata": {},
     "output_type": "execute_result"
    }
   ],
   "source": [
    "np.std(Gamma_filtered2/(1+alpha))"
   ]
  },
  {
   "cell_type": "code",
   "execution_count": 144,
   "metadata": {},
   "outputs": [
    {
     "data": {
      "text/plain": [
       "0.08318852765137907"
      ]
     },
     "execution_count": 144,
     "metadata": {},
     "output_type": "execute_result"
    }
   ],
   "source": [
    "alpha"
   ]
  },
  {
   "cell_type": "code",
   "execution_count": 12,
   "metadata": {},
   "outputs": [
    {
     "data": {
      "text/plain": [
       "0.5870031666474705"
      ]
     },
     "execution_count": 12,
     "metadata": {},
     "output_type": "execute_result"
    }
   ],
   "source": [
    "np.std(a)"
   ]
  },
  {
   "cell_type": "code",
   "execution_count": 136,
   "metadata": {},
   "outputs": [
    {
     "data": {
      "image/png": "[encoded data removed]",
      "text/plain": [
       "<Figure size 582.492x360 with 1 Axes>"
      ]
     },
     "metadata": {
      "needs_background": "light"
     },
     "output_type": "display_data"
    }
   ],
   "source": [
    "fig, ax1 = plt.subplots()\n",
    "a = ax1.hist(a, bins=100, alpha=0.5)\n",
    "b = ax1.hist(Gamma_filtered2, bins=100, alpha=0.5)"
   ]
  },
  {
   "cell_type": "code",
   "execution_count": 125,
   "metadata": {},
   "outputs": [
    {
     "data": {
      "image/png": "[encoded data removed]",
      "text/plain": [
       "<Figure size 582.492x360 with 1 Axes>"
      ]
     },
     "metadata": {
      "needs_background": "light"
     },
     "output_type": "display_data"
    }
   ],
   "source": [
    "fig, ax1 = plt.subplots()\n",
    "a = ax1.hist(Gamma_filtered, bins=100, alpha=0.5)\n",
    "b = ax1.hist(Gamma_filtered2*10, bins=100, alpha=0.5)"
   ]
  },
  {
   "cell_type": "code",
   "execution_count": 118,
   "metadata": {},
   "outputs": [
    {
     "data": {
      "image/png": "[encoded data removed]",
      "text/plain": [
       "<Figure size 582.492x360 with 1 Axes>"
      ]
     },
     "metadata": {
      "needs_background": "light"
     },
     "output_type": "display_data"
    }
   ],
   "source": [
    "fig, ax1 = plt.subplots()\n",
    "a = ax1.hist(Gamma_filtered, bins=100, alpha=0.5)\n",
    "b = ax1.hist(Gamma_filtered2*20, bins=100, alpha=0.5)"
   ]
  },
  {
   "cell_type": "code",
   "execution_count": 122,
   "metadata": {},
   "outputs": [
    {
     "data": {
      "image/png": "[encoded data removed]",
      "text/plain": [
       "<Figure size 582.492x360 with 1 Axes>"
      ]
     },
     "metadata": {
      "needs_background": "light"
     },
     "output_type": "display_data"
    }
   ],
   "source": [
    "fig, ax1 = plt.subplots()\n",
    "a = ax1.hist(Gamma_filtered/20, bins=100, alpha=0.5)\n",
    "b = ax1.hist(Gamma_filtered2, bins=100, alpha=0.5)"
   ]
  },
  {
   "cell_type": "code",
   "execution_count": 119,
   "metadata": {},
   "outputs": [
    {
     "data": {
      "text/plain": [
       "0.047619047619047616"
      ]
     },
     "execution_count": 119,
     "metadata": {},
     "output_type": "execute_result"
    }
   ],
   "source": [
    "1/21\n",
    "\n"
   ]
  },
  {
   "cell_type": "code",
   "execution_count": 108,
   "metadata": {},
   "outputs": [
    {
     "data": {
      "image/png": "[encoded data removed]",
      "text/plain": [
       "<Figure size 582.492x360 with 1 Axes>"
      ]
     },
     "metadata": {
      "needs_background": "light"
     },
     "output_type": "display_data"
    }
   ],
   "source": [
    "a = plt.hist(Gamma_filtered, bins=100)"
   ]
  },
  {
   "cell_type": "code",
   "execution_count": 107,
   "metadata": {},
   "outputs": [
    {
     "data": {
      "image/png": "[encoded data removed]",
      "text/plain": [
       "<Figure size 582.492x360 with 1 Axes>"
      ]
     },
     "metadata": {
      "needs_background": "light"
     },
     "output_type": "display_data"
    }
   ],
   "source": [
    "a = plt.hist(Gamma_filtered2, bins=100)"
   ]
  },
  {
   "cell_type": "code",
   "execution_count": 106,
   "metadata": {},
   "outputs": [
    {
     "data": {
      "text/plain": [
       "(690,)"
      ]
     },
     "execution_count": 106,
     "metadata": {},
     "output_type": "execute_result"
    }
   ],
   "source": [
    "Gamma_filtered2.shape"
   ]
  },
  {
   "cell_type": "code",
   "execution_count": 6,
   "metadata": {},
   "outputs": [],
   "source": [
    "pre = \"/Users/weilu/Research/server/march_2019/optimization_weighted_by_q_iter1/gammas/\"\n",
    "pp = \"proteins_name_list_phi_pairwise_contact_well4.5_6.5_5.0_10phi_density_mediated_contact_well6.5_9.5_5.0_10_2.6_7.0phi_burial_well4.0\"\n",
    "def get_gammas(pre, pp):\n",
    "    # pre = \"/Users/weilu/Research/server_backup/feb_2019/jan_optimization/gammas/\"\n",
    "    # pre = \"/Users/weilu/Research/server/feb_2019/optimization_with_biased_iter1/gammas/\"\n",
    "    # pre = \"/Users/weilu/Research/server/march_2019/optimization_weighted_by_q_iter1/gammas/\"\n",
    "    # pp = \"cath-dataset-nonredundant-S20Clean_phi_pairwise_contact_well4.5_6.5_5.0_10phi_density_mediated_contact_well6.5_9.5_5.0_10_2.6_7.0\"\n",
    "    # pp = \"cath-dataset-nonredundant-S20Clean_phi_pairwise_contact_well4.5_6.5_5.0_10phi_density_mediated_contact_well6.5_9.5_5.0_10_2.6_7.0phi_burial_well4.0\"\n",
    "    # pp = \"proteins_name_list_phi_pairwise_contact_well4.5_6.5_5.0_10phi_density_mediated_contact_well6.5_9.5_5.0_10_2.6_7.0phi_burial_well4.0\"\n",
    "    A_name = pp + \"_A\"\n",
    "    B_name = pp + \"_B\"\n",
    "    B_filtered_name = pp + \"_B_filtered\"\n",
    "    P_name = pp + \"_P\"\n",
    "    Gamma_name = pp + \"_gamma\"\n",
    "    Gamma_filtered_name = pp + \"_gamma_filtered\"\n",
    "    Lamb_name = pp + \"_lamb\"\n",
    "    Lamb_filtered_name = pp + \"_lamb_filtered\"\n",
    "\n",
    "    A = np.loadtxt(pre+A_name)\n",
    "    B = np.loadtxt(pre+B_name)\n",
    "    B_filtered = np.loadtxt(pre+B_filtered_name, dtype=complex, converters={\n",
    "                               0: lambda s: complex(s.decode().replace('+-', '-'))})\n",
    "    Gamma = np.loadtxt(pre+Gamma_name)\n",
    "    Gamma_filtered = np.loadtxt(pre+Gamma_filtered_name, dtype=complex, converters={\n",
    "                               0: lambda s: complex(s.decode().replace('+-', '-'))})\n",
    "    Lamb = np.loadtxt(pre+Lamb_name, dtype=complex, converters={\n",
    "                               0: lambda s: complex(s.decode().replace('+-', '-'))})\n",
    "    Lamb_filtered = np.loadtxt(pre+Lamb_filtered_name, dtype=complex, converters={\n",
    "                               0: lambda s: complex(s.decode().replace('+-', '-'))})\n",
    "\n",
    "    half_B_name = pp + \"_half_B\"\n",
    "    half_B = np.loadtxt(pre+half_B_name)\n",
    "    other_half_B_name = pp + \"_other_half_B\"\n",
    "    other_half_B = np.loadtxt(pre+other_half_B_name)\n",
    "    std_half_B_name = pp + \"_std_half_B\"\n",
    "    std_half_B = np.loadtxt(pre+std_half_B_name)\n",
    "    return (A, B, B_filtered, Gamma, Gamma_filtered, Lamb, Lamb_filtered, half_B, other_half_B, std_half_B)\n",
    "\n",
    "\n",
    "\n",
    "\n",
    "\n"
   ]
  },
  {
   "cell_type": "code",
   "execution_count": 14,
   "metadata": {},
   "outputs": [],
   "source": [
    "pre1 = \"/Users/weilu/Research/server/march_2019/optimization_weighted_by_q_iter1/gammas/\"\n",
    "pp1 = \"proteins_name_list_phi_pairwise_contact_well4.5_6.5_5.0_10phi_density_mediated_contact_well6.5_9.5_5.0_10_2.6_7.0phi_burial_well4.0\"\n",
    "\n",
    "(A1, B1, B_filtered1, Gamma1, Gamma_filtered1, Lamb1, Lamb_filtered1, half_B1, other_half_B1, std_half_B1) = get_gammas(pre1, pp1)\n",
    "\n",
    "\n"
   ]
  },
  {
   "cell_type": "code",
   "execution_count": 7,
   "metadata": {},
   "outputs": [],
   "source": [
    "pre2 = \"/Volumes/Wei_backup/feb_2019/optimization/gammas/\"\n",
    "pp2 = \"cath-dataset-nonredundant-S20Clean_phi_pairwise_contact_well4.5_6.5_5.0_10phi_density_mediated_contact_well6.5_9.5_5.0_10_2.6_7.0phi_burial_well4.0\"\n",
    "\n",
    "(A2, B2, B_filtered2, Gamma2, Gamma_filtered2, Lamb2, Lamb_filtered2, half_B2, other_half_B2, std_half_B2) = get_gammas(pre2, pp2)\n",
    "\n",
    "\n"
   ]
  },
  {
   "cell_type": "code",
   "execution_count": 37,
   "metadata": {},
   "outputs": [],
   "source": [
    "alpha = 0.04\n",
    "A = alpha * A1 + (1 - alpha) * A2\n",
    "B = alpha * B1 + (1 - alpha) * B2\n",
    "B_filtered = alpha * B_filtered1 + (1 - alpha) * B_filtered2\n",
    "half_B = alpha * half_B1 + (1 - alpha) * half_B2\n",
    "other_half_B = alpha * other_half_B1 + (1 - alpha) * other_half_B2\n",
    "std_half_B = alpha * std_half_B1 + (1 - alpha) * std_half_B2"
   ]
  },
  {
   "cell_type": "code",
   "execution_count": 39,
   "metadata": {},
   "outputs": [
    {
     "name": "stdout",
     "output_type": "stream",
     "text": [
      "min cutoff_mode 537\n"
     ]
    }
   ],
   "source": [
    "total_phis = 690\n",
    "num_decoys = 6000\n",
    "filtered_gamma, filtered_B, filtered_lamb, P, lamb, noisy_lamb_list = get_filtered_gamma_B_lamb_P_and_lamb(A, B, half_B, other_half_B, std_half_B, total_phis, num_decoys, mode=2)\n"
   ]
  },
  {
   "cell_type": "code",
   "execution_count": 66,
   "metadata": {},
   "outputs": [
    {
     "data": {
      "text/plain": [
       "(3, 2)"
      ]
     },
     "execution_count": 66,
     "metadata": {},
     "output_type": "execute_result"
    }
   ],
   "source": [
    "a.shape"
   ]
  },
  {
   "cell_type": "code",
   "execution_count": 67,
   "metadata": {},
   "outputs": [
    {
     "data": {
      "text/plain": [
       "(2,)"
      ]
     },
     "execution_count": 67,
     "metadata": {},
     "output_type": "execute_result"
    }
   ],
   "source": [
    "a[0].shape "
   ]
  },
  {
   "cell_type": "code",
   "execution_count": 75,
   "metadata": {},
   "outputs": [
    {
     "data": {
      "text/plain": [
       "(4, 1)"
      ]
     },
     "execution_count": 75,
     "metadata": {},
     "output_type": "execute_result"
    }
   ],
   "source": [
    "np.average(np.ones((3,4,1)) * np.ones((3,1,1)), axis=0).shape"
   ]
  },
  {
   "cell_type": "code",
   "execution_count": 72,
   "metadata": {},
   "outputs": [
    {
     "data": {
      "text/plain": [
       "array([0., 0., 0., 0.])"
      ]
     },
     "execution_count": 72,
     "metadata": {},
     "output_type": "execute_result"
    }
   ],
   "source": [
    "np.zeros((4,4))[:, 2]"
   ]
  },
  {
   "cell_type": "code",
   "execution_count": 81,
   "metadata": {},
   "outputs": [
    {
     "data": {
      "text/plain": [
       "array([[1., 1., 1., 1.]])"
      ]
     },
     "execution_count": 81,
     "metadata": {},
     "output_type": "execute_result"
    }
   ],
   "source": [
    "np.average(np.ones((3,4,1)) * np.ones((3,1,1)), axis=0).T + (np.zeros((4,4))[2])"
   ]
  },
  {
   "cell_type": "code",
   "execution_count": 83,
   "metadata": {},
   "outputs": [],
   "source": [
    "a = np.zeros((4,4))"
   ]
  },
  {
   "cell_type": "code",
   "execution_count": 90,
   "metadata": {},
   "outputs": [],
   "source": [
    "a[1] += np.average(np.ones((3,4,1)) * np.ones((3,1,1)), axis=0).reshape(4)"
   ]
  },
  {
   "cell_type": "code",
   "execution_count": 91,
   "metadata": {},
   "outputs": [
    {
     "data": {
      "text/plain": [
       "array([[0., 0., 0., 0.],\n",
       "       [1., 1., 1., 1.],\n",
       "       [2., 2., 2., 2.],\n",
       "       [0., 0., 0., 0.]])"
      ]
     },
     "execution_count": 91,
     "metadata": {},
     "output_type": "execute_result"
    }
   ],
   "source": [
    "a"
   ]
  },
  {
   "cell_type": "code",
   "execution_count": 45,
   "metadata": {},
   "outputs": [],
   "source": [
    "iter_gamma = filtered_gamma.astype(float)\n",
    "pre = \"/Users/weilu/Research/server/march_2019/optimization_weighted_by_q_iter1/\"\n",
    "gamma_for_simulation = pre + f\"iteration_gamma_combined_on_B.dat\"\n",
    "burial_gamma_for_simulation = pre + f\"iteration_burial_gamma_combined_on_B.dat\"\n",
    "gamma_format_convertion_iteration_to_simulation(iter_gamma, gamma_for_simulation, burial_gamma_for_simulation=burial_gamma_for_simulation)\n"
   ]
  },
  {
   "cell_type": "code",
   "execution_count": 53,
   "metadata": {},
   "outputs": [
    {
     "data": {
      "image/png": "[encoded data removed]",
      "text/plain": [
       "<Figure size 582.492x360 with 2 Axes>"
      ]
     },
     "metadata": {
      "needs_background": "light"
     },
     "output_type": "display_data"
    }
   ],
   "source": [
    "\n",
    "plot_contact_well(iter3_gamma[:210], inferBound=True, invert_sign=False, vmin=-3, vmax=1)"
   ]
  },
  {
   "cell_type": "code",
   "execution_count": 52,
   "metadata": {},
   "outputs": [
    {
     "data": {
      "image/png": "[encoded data removed]",
      "text/plain": [
       "<Figure size 582.492x360 with 2 Axes>"
      ]
     },
     "metadata": {
      "needs_background": "light"
     },
     "output_type": "display_data"
    }
   ],
   "source": [
    "\n",
    "plot_contact_well(iter3_gamma[:210], inferBound=False, invert_sign=False, vmin=-3, vmax=1)"
   ]
  },
  {
   "cell_type": "code",
   "execution_count": 40,
   "metadata": {},
   "outputs": [
    {
     "data": {
      "image/png": "[encoded data removed]",
      "text/plain": [
       "<Figure size 582.492x360 with 2 Axes>"
      ]
     },
     "metadata": {
      "needs_background": "light"
     },
     "output_type": "display_data"
    }
   ],
   "source": [
    "plot_contact_well(filtered_gamma[:210], inferBound=True, invert_sign=False)"
   ]
  },
  {
   "cell_type": "code",
   "execution_count": 42,
   "metadata": {},
   "outputs": [
    {
     "data": {
      "image/png": "[encoded data removed]",
      "text/plain": [
       "<Figure size 582.492x360 with 2 Axes>"
      ]
     },
     "metadata": {
      "needs_background": "light"
     },
     "output_type": "display_data"
    }
   ],
   "source": [
    "plot_contact_well(filtered_gamma[210:420], inferBound=True, invert_sign=False)"
   ]
  },
  {
   "cell_type": "code",
   "execution_count": 43,
   "metadata": {},
   "outputs": [
    {
     "data": {
      "text/html": [
       "<div>\n",
       "<style scoped>\n",
       "    .dataframe tbody tr th:only-of-type {\n",
       "        vertical-align: middle;\n",
       "    }\n",
       "\n",
       "    .dataframe tbody tr th {\n",
       "        vertical-align: top;\n",
       "    }\n",
       "\n",
       "    .dataframe thead th {\n",
       "        text-align: right;\n",
       "    }\n",
       "</style>\n",
       "<table border=\"1\" class=\"dataframe\">\n",
       "  <thead>\n",
       "    <tr style=\"text-align: right;\">\n",
       "      <th></th>\n",
       "      <th>Residue</th>\n",
       "      <th>rho1</th>\n",
       "      <th>rho2</th>\n",
       "      <th>rho3</th>\n",
       "      <th>index</th>\n",
       "      <th>oneLetter</th>\n",
       "    </tr>\n",
       "  </thead>\n",
       "  <tbody>\n",
       "    <tr>\n",
       "      <th>0</th>\n",
       "      <td>ALA</td>\n",
       "      <td>-0.389817</td>\n",
       "      <td>-0.275533</td>\n",
       "      <td>-0.007550</td>\n",
       "      <td>0</td>\n",
       "      <td>A</td>\n",
       "    </tr>\n",
       "    <tr>\n",
       "      <th>1</th>\n",
       "      <td>ARG</td>\n",
       "      <td>0.188232</td>\n",
       "      <td>-0.138396</td>\n",
       "      <td>-0.699963</td>\n",
       "      <td>1</td>\n",
       "      <td>R</td>\n",
       "    </tr>\n",
       "    <tr>\n",
       "      <th>2</th>\n",
       "      <td>ASN</td>\n",
       "      <td>0.133230</td>\n",
       "      <td>-0.156322</td>\n",
       "      <td>-0.655960</td>\n",
       "      <td>2</td>\n",
       "      <td>N</td>\n",
       "    </tr>\n",
       "    <tr>\n",
       "      <th>3</th>\n",
       "      <td>ASP</td>\n",
       "      <td>0.437539</td>\n",
       "      <td>-0.137543</td>\n",
       "      <td>-1.162275</td>\n",
       "      <td>3</td>\n",
       "      <td>D</td>\n",
       "    </tr>\n",
       "    <tr>\n",
       "      <th>4</th>\n",
       "      <td>CYS</td>\n",
       "      <td>-0.478401</td>\n",
       "      <td>-0.042398</td>\n",
       "      <td>0.489214</td>\n",
       "      <td>4</td>\n",
       "      <td>C</td>\n",
       "    </tr>\n",
       "    <tr>\n",
       "      <th>5</th>\n",
       "      <td>GLN</td>\n",
       "      <td>0.267881</td>\n",
       "      <td>-0.151885</td>\n",
       "      <td>-0.812216</td>\n",
       "      <td>5</td>\n",
       "      <td>Q</td>\n",
       "    </tr>\n",
       "    <tr>\n",
       "      <th>6</th>\n",
       "      <td>GLU</td>\n",
       "      <td>0.221105</td>\n",
       "      <td>-0.385161</td>\n",
       "      <td>-1.519386</td>\n",
       "      <td>6</td>\n",
       "      <td>E</td>\n",
       "    </tr>\n",
       "    <tr>\n",
       "      <th>7</th>\n",
       "      <td>GLY</td>\n",
       "      <td>-0.057521</td>\n",
       "      <td>-0.120650</td>\n",
       "      <td>-0.273680</td>\n",
       "      <td>7</td>\n",
       "      <td>G</td>\n",
       "    </tr>\n",
       "    <tr>\n",
       "      <th>8</th>\n",
       "      <td>HIS</td>\n",
       "      <td>0.080922</td>\n",
       "      <td>-0.006209</td>\n",
       "      <td>-0.161267</td>\n",
       "      <td>8</td>\n",
       "      <td>H</td>\n",
       "    </tr>\n",
       "    <tr>\n",
       "      <th>9</th>\n",
       "      <td>ILE</td>\n",
       "      <td>-1.201620</td>\n",
       "      <td>-0.266807</td>\n",
       "      <td>1.463629</td>\n",
       "      <td>9</td>\n",
       "      <td>I</td>\n",
       "    </tr>\n",
       "    <tr>\n",
       "      <th>10</th>\n",
       "      <td>LEU</td>\n",
       "      <td>-0.926802</td>\n",
       "      <td>-0.420014</td>\n",
       "      <td>0.665855</td>\n",
       "      <td>10</td>\n",
       "      <td>L</td>\n",
       "    </tr>\n",
       "    <tr>\n",
       "      <th>11</th>\n",
       "      <td>LYS</td>\n",
       "      <td>0.269867</td>\n",
       "      <td>-0.260982</td>\n",
       "      <td>-1.247426</td>\n",
       "      <td>11</td>\n",
       "      <td>K</td>\n",
       "    </tr>\n",
       "    <tr>\n",
       "      <th>12</th>\n",
       "      <td>MET</td>\n",
       "      <td>-0.272209</td>\n",
       "      <td>-0.104415</td>\n",
       "      <td>0.240258</td>\n",
       "      <td>12</td>\n",
       "      <td>M</td>\n",
       "    </tr>\n",
       "    <tr>\n",
       "      <th>13</th>\n",
       "      <td>PHE</td>\n",
       "      <td>-0.733711</td>\n",
       "      <td>-0.302697</td>\n",
       "      <td>0.579030</td>\n",
       "      <td>13</td>\n",
       "      <td>F</td>\n",
       "    </tr>\n",
       "    <tr>\n",
       "      <th>14</th>\n",
       "      <td>PRO</td>\n",
       "      <td>0.104870</td>\n",
       "      <td>-0.083244</td>\n",
       "      <td>-0.375568</td>\n",
       "      <td>14</td>\n",
       "      <td>P</td>\n",
       "    </tr>\n",
       "    <tr>\n",
       "      <th>15</th>\n",
       "      <td>SER</td>\n",
       "      <td>0.008316</td>\n",
       "      <td>-0.201017</td>\n",
       "      <td>-0.535265</td>\n",
       "      <td>15</td>\n",
       "      <td>S</td>\n",
       "    </tr>\n",
       "    <tr>\n",
       "      <th>16</th>\n",
       "      <td>THR</td>\n",
       "      <td>-0.305269</td>\n",
       "      <td>-0.210049</td>\n",
       "      <td>-0.031007</td>\n",
       "      <td>16</td>\n",
       "      <td>T</td>\n",
       "    </tr>\n",
       "    <tr>\n",
       "      <th>17</th>\n",
       "      <td>TRP</td>\n",
       "      <td>-0.232365</td>\n",
       "      <td>-0.086286</td>\n",
       "      <td>0.197699</td>\n",
       "      <td>17</td>\n",
       "      <td>W</td>\n",
       "    </tr>\n",
       "    <tr>\n",
       "      <th>18</th>\n",
       "      <td>TYR</td>\n",
       "      <td>-0.519754</td>\n",
       "      <td>-0.175292</td>\n",
       "      <td>0.496657</td>\n",
       "      <td>18</td>\n",
       "      <td>Y</td>\n",
       "    </tr>\n",
       "    <tr>\n",
       "      <th>19</th>\n",
       "      <td>VAL</td>\n",
       "      <td>-1.258273</td>\n",
       "      <td>-0.258098</td>\n",
       "      <td>1.628784</td>\n",
       "      <td>19</td>\n",
       "      <td>V</td>\n",
       "    </tr>\n",
       "  </tbody>\n",
       "</table>\n",
       "</div>"
      ],
      "text/plain": [
       "   Residue      rho1      rho2      rho3  index oneLetter\n",
       "0      ALA -0.389817 -0.275533 -0.007550      0         A\n",
       "1      ARG  0.188232 -0.138396 -0.699963      1         R\n",
       "2      ASN  0.133230 -0.156322 -0.655960      2         N\n",
       "3      ASP  0.437539 -0.137543 -1.162275      3         D\n",
       "4      CYS -0.478401 -0.042398  0.489214      4         C\n",
       "5      GLN  0.267881 -0.151885 -0.812216      5         Q\n",
       "6      GLU  0.221105 -0.385161 -1.519386      6         E\n",
       "7      GLY -0.057521 -0.120650 -0.273680      7         G\n",
       "8      HIS  0.080922 -0.006209 -0.161267      8         H\n",
       "9      ILE -1.201620 -0.266807  1.463629      9         I\n",
       "10     LEU -0.926802 -0.420014  0.665855     10         L\n",
       "11     LYS  0.269867 -0.260982 -1.247426     11         K\n",
       "12     MET -0.272209 -0.104415  0.240258     12         M\n",
       "13     PHE -0.733711 -0.302697  0.579030     13         F\n",
       "14     PRO  0.104870 -0.083244 -0.375568     14         P\n",
       "15     SER  0.008316 -0.201017 -0.535265     15         S\n",
       "16     THR -0.305269 -0.210049 -0.031007     16         T\n",
       "17     TRP -0.232365 -0.086286  0.197699     17         W\n",
       "18     TYR -0.519754 -0.175292  0.496657     18         Y\n",
       "19     VAL -1.258273 -0.258098  1.628784     19         V"
      ]
     },
     "execution_count": 43,
     "metadata": {},
     "output_type": "execute_result"
    }
   ],
   "source": [
    "rhoGamma = pd.DataFrame(filtered_gamma[630:].astype(float).reshape(3,20).T, columns=[\"rho1\", \"rho2\", \"rho3\"]).reset_index()\n",
    "rhoGamma[\"oneLetter\"] = rhoGamma[\"index\"].apply(lambda x: inverse_res_type_map[x])\n",
    "rhoGamma[\"Residue\"] = rhoGamma[\"index\"].apply(lambda x: one_to_three(inverse_res_type_map[x]))\n",
    "rhoGamma = rhoGamma[[\"Residue\", \"rho1\", \"rho2\", \"rho3\", \"index\", \"oneLetter\"]]\n",
    "g = rhoGamma[[\"rho1\", \"rho2\", \"rho3\"]].values\n",
    "# np.savetxt(\"/Users/weilu/Research/server/feb_2019/iter_burial_gamma.dat\", g, fmt='%7.4f')\n",
    "rhoGamma"
   ]
  },
  {
   "cell_type": "code",
   "execution_count": 24,
   "metadata": {
    "scrolled": true
   },
   "outputs": [
    {
     "data": {
      "image/png": "[encoded data removed]",
      "text/plain": [
       "<Figure size 582.492x360 with 2 Axes>"
      ]
     },
     "metadata": {
      "needs_background": "light"
     },
     "output_type": "display_data"
    }
   ],
   "source": [
    "plot_contact_well(Gamma[:210], inferBound=True, invert_sign=False)"
   ]
  },
  {
   "cell_type": "code",
   "execution_count": 25,
   "metadata": {},
   "outputs": [
    {
     "data": {
      "image/png": "[encoded data removed]",
      "text/plain": [
       "<Figure size 582.492x360 with 2 Axes>"
      ]
     },
     "metadata": {
      "needs_background": "light"
     },
     "output_type": "display_data"
    }
   ],
   "source": [
    "plot_contact_well(Gamma_filtered[:210], inferBound=True, invert_sign=False)"
   ]
  },
  {
   "cell_type": "code",
   "execution_count": 27,
   "metadata": {},
   "outputs": [],
   "source": [
    "\n",
    "def get_filtered_gamma_B_lamb_P_and_lamb(A, B, half_B, other_half_B, std_half_B, total_phis, num_decoys, noise_iterations=10, relative_error_threshold=0.5, mode=2):\n",
    "    lamb, P = np.linalg.eig(B)\n",
    "    lamb, P = sort_eigenvalues_and_eigenvectors(lamb, P)\n",
    "    np.random.seed(10)\n",
    "    cutoff_modes = []\n",
    "    noisy_lamb_list = []\n",
    "    for i_noise in range(noise_iterations):\n",
    "        noisy_B = np.zeros((total_phis, total_phis))\n",
    "        for i in range(total_phis):\n",
    "            for j in range(i, total_phis):\n",
    "#                 random_B_ij = np.random.normal(\n",
    "#                     loc=half_B[i][j], scale=std_half_B[i][j])\n",
    "                if mode == 1:\n",
    "                    random_B_ij = np.random.normal(\n",
    "                        loc=half_B[i][j], scale=std_half_B[i][j] / float(num_decoys))\n",
    "                elif mode == 2:\n",
    "                    random_B_ij = np.random.normal(\n",
    "                        loc=half_B[i][j], scale=std_half_B[i][j] / float(num_decoys)**0.5)\n",
    "                noisy_B[i][j] = noisy_B[j][i] = random_B_ij - \\\n",
    "                    other_half_B[i][j]\n",
    "\n",
    "        noisy_lamb, noisy_P = np.linalg.eig(noisy_B)\n",
    "        noisy_lamb, noisy_P = sort_eigenvalues_and_eigenvectors(\n",
    "            noisy_lamb, noisy_P)\n",
    "        noisy_lamb_list.append(noisy_lamb)\n",
    "        try:\n",
    "            cutoff_mode = np.where(\n",
    "                np.abs(lamb - noisy_lamb) / lamb > relative_error_threshold)[0][0]\n",
    "        except IndexError:\n",
    "            cutoff_mode = len(lamb)\n",
    "        cutoff_modes.append(cutoff_mode)\n",
    "\n",
    "    cutoff_mode = min(cutoff_modes)\n",
    "#     cutoff_mode = 10\n",
    "    print(\"min cutoff_mode\", cutoff_mode)\n",
    "\n",
    "    filtered_lamb = np.copy(lamb)\n",
    "    filtered_B_inv, filtered_lamb, P = get_filtered_B_inv_lambda_and_P(\n",
    "        filtered_lamb, cutoff_mode, P)\n",
    "\n",
    "    filtered_gamma = np.dot(filtered_B_inv, A)\n",
    "    filtered_B = np.linalg.inv(filtered_B_inv)\n",
    "    return filtered_gamma, filtered_B, filtered_lamb, P, lamb, noisy_lamb_list\n",
    "\n",
    "\n",
    "def get_filtered_B_inv_lambda_and_P(filtered_lamb, cutoff_mode, P, method='extend_all_after_first_noisy_mode'):\n",
    "    if method == 'zero_all_after_first_noisy_mode':\n",
    "        filtered_lamb_inv = 1 / filtered_lamb\n",
    "        # for \"zeroing unreliable eigenvalues\"\n",
    "        filtered_lamb_inv[cutoff_mode:] = 0.0\n",
    "        filtered_B_inv = np.dot(\n",
    "            P, np.dot(np.diag(filtered_lamb_inv), np.linalg.inv(P)))\n",
    "        filtered_lamb = 1 / filtered_lamb_inv\n",
    "    if method == 'extend_all_after_first_noisy_mode':\n",
    "        # for \"extending lowest reliable eigenvalue\"\n",
    "        filtered_lamb[cutoff_mode:] = filtered_lamb[cutoff_mode - 1]\n",
    "        filtered_B_inv = np.dot(\n",
    "            P, np.dot(np.diag(1 / filtered_lamb), np.linalg.inv(P)))\n",
    "\n",
    "    return filtered_B_inv, filtered_lamb, P\n",
    "\n",
    "\n",
    "def sort_eigenvalues_and_eigenvectors(eigenvalues, eigenvectors):\n",
    "    idx = eigenvalues.argsort()[::-1]\n",
    "    eigenvalues = eigenvalues[idx]\n",
    "    eigenvectors = eigenvectors[:, idx]\n",
    "    return eigenvalues, eigenvectors\n",
    "\n",
    "\n",
    "\n"
   ]
  },
  {
   "cell_type": "code",
   "execution_count": 10,
   "metadata": {},
   "outputs": [],
   "source": [
    "total_phis = 690\n",
    "num_decoys = 6000\n",
    "\n"
   ]
  },
  {
   "cell_type": "code",
   "execution_count": 11,
   "metadata": {},
   "outputs": [
    {
     "name": "stdout",
     "output_type": "stream",
     "text": [
      "252 Mbytes\n"
     ]
    }
   ],
   "source": [
    "import numpy as np\n",
    "a = np.zeros((24000, 690, 2))\n",
    "print(\"%d Mbytes\" % (a.size * a.itemsize / 1024 / 1024))"
   ]
  },
  {
   "cell_type": "code",
   "execution_count": 12,
   "metadata": {},
   "outputs": [
    {
     "data": {
      "text/plain": [
       "86940"
      ]
     },
     "execution_count": 12,
     "metadata": {},
     "output_type": "execute_result"
    }
   ],
   "source": [
    "126*690"
   ]
  },
  {
   "cell_type": "code",
   "execution_count": 1,
   "metadata": {},
   "outputs": [],
   "source": [
    "a = {\"a\":\"out\"}"
   ]
  },
  {
   "cell_type": "code",
   "execution_count": 2,
   "metadata": {},
   "outputs": [
    {
     "data": {
      "text/plain": [
       "'out'"
      ]
     },
     "execution_count": 2,
     "metadata": {},
     "output_type": "execute_result"
    }
   ],
   "source": [
    "a[\"a\"]"
   ]
  },
  {
   "cell_type": "code",
   "execution_count": 22,
   "metadata": {},
   "outputs": [
    {
     "data": {
      "text/plain": [
       "'/Users/weilu/opt/notebook/Optimization'"
      ]
     },
     "execution_count": 22,
     "metadata": {},
     "output_type": "execute_result"
    }
   ],
   "source": [
    "pwd"
   ]
  },
  {
   "cell_type": "code",
   "execution_count": 38,
   "metadata": {},
   "outputs": [
    {
     "data": {
      "text/plain": [
       "20"
      ]
     },
     "execution_count": 38,
     "metadata": {},
     "output_type": "execute_result"
    }
   ],
   "source": [
    "len(burial_gamma)"
   ]
  },
  {
   "cell_type": "code",
   "execution_count": 41,
   "metadata": {},
   "outputs": [
    {
     "name": "stdout",
     "output_type": "stream",
     "text": [
      "0\n",
      "1\n",
      "2\n"
     ]
    }
   ],
   "source": [
    "for i in range(3):\n",
    "    print(i)"
   ]
  },
  {
   "cell_type": "code",
   "execution_count": 48,
   "metadata": {},
   "outputs": [],
   "source": []
  },
  {
   "cell_type": "code",
   "execution_count": 59,
   "metadata": {},
   "outputs": [],
   "source": [
    "# convert gamma to gamma used by optimization\n",
    "def read_gamma(gammaFile):\n",
    "    # attention, there is a minus sign. from strength to energy\n",
    "    data = -np.loadtxt(gammaFile)\n",
    "    gamma_direct = data[:210]\n",
    "    gamma_mediated = data[210:]\n",
    "    return gamma_direct, gamma_mediated\n",
    "gamma_direct, gamma_mediated = read_gamma(\"/Users/weilu/Research/server/feb_2019/optimization_iter1/iteration_gamma.dat\")\n",
    "# attention, there is a minus sign. from strength to energy\n",
    "burial_gamma = -np.loadtxt(\"/Users/weilu/Research/server/feb_2019/optimization_iter1/iteration_burial_gamma.dat\")\n",
    "\n",
    "with open(\"/Users/weilu/Research/server/feb_2019/optimization_with_biased_iter1/previous_iter1.dat\", \"w\") as out:\n",
    "    for x in gamma_direct:\n",
    "        out.write(f\"{x[0]}\\n\")\n",
    "    for x in gamma_mediated:\n",
    "        out.write(f\"{x[0]}\\n\")   # protein\n",
    "    for x in gamma_mediated:\n",
    "        out.write(f\"{x[1]}\\n\")\n",
    "    for i in range(3):\n",
    "        for j in range(len(burial_gamma)):\n",
    "            out.write(f\"{burial_gamma[j][i]}\\n\")\n",
    "        \n",
    "\n",
    "# # convert gamma to gamma used by optimization\n",
    "# def read_gamma(gammaFile):\n",
    "#     # attention, there is a minus sign. from strength to energy\n",
    "#     data = -np.loadtxt(gammaFile)\n",
    "#     gamma_direct = data[:210]\n",
    "#     gamma_mediated = data[210:]\n",
    "#     return gamma_direct, gamma_mediated\n",
    "# gamma_direct, gamma_mediated = read_gamma(\"/Users/weilu/openmmawsem/parameters/gamma.dat\")\n",
    "# # attention, there is a minus sign. from strength to energy\n",
    "# burial_gamma = -np.loadtxt(\"/Users/weilu/openmmawsem/parameters/burial_gamma.dat\")\n",
    "\n",
    "# with open(\"/Users/weilu/Research/server/feb_2019/original_gamma.dat\", \"w\") as out:\n",
    "#     for x in gamma_direct:\n",
    "#         out.write(f\"{x[0]}\\n\")\n",
    "#     for x in gamma_mediated:\n",
    "#         out.write(f\"{x[0]}\\n\")   # protein\n",
    "#     for x in gamma_mediated:\n",
    "#         out.write(f\"{x[1]}\\n\")\n",
    "#     for i in range(3):\n",
    "#         for j in range(len(burial_gamma)):\n",
    "#             out.write(f\"{burial_gamma[j][i]}\\n\")\n",
    "        \n",
    "\n",
    "\n"
   ]
  },
  {
   "cell_type": "code",
   "execution_count": null,
   "metadata": {},
   "outputs": [],
   "source": [
    "os.chdir(\"/Users/weilu/opt/notebook/Optimization\")"
   ]
  },
  {
   "cell_type": "code",
   "execution_count": 7,
   "metadata": {},
   "outputs": [
    {
     "data": {
      "text/plain": [
       "array([-0.36672,  0.08898, -0.00318,  0.33267, -1.4817 ,  0.13133,\n",
       "        0.40348, -0.14097, -0.20817, -2.20075])"
      ]
     },
     "execution_count": 7,
     "metadata": {},
     "output_type": "execute_result"
    }
   ],
   "source": [
    "Gamma[:10]"
   ]
  },
  {
   "cell_type": "code",
   "execution_count": 24,
   "metadata": {},
   "outputs": [],
   "source": [
    "os.chdir(\"/Users/weilu/Research/server/feb_2019/optimization_with_biased_iter1\")"
   ]
  },
  {
   "cell_type": "code",
   "execution_count": 17,
   "metadata": {},
   "outputs": [],
   "source": [
    "os.chdir(\"/Volumes/Wei_backup/feb_2019/optimization_with_biased_iter1\")"
   ]
  },
  {
   "cell_type": "code",
   "execution_count": 4,
   "metadata": {},
   "outputs": [],
   "source": [
    "# pre = \"/Users/weilu/Research/server/feb_2019/optimization/gammas/\"\n",
    "pre = \"/Volumes/Wei_backup/feb_2019/optimization/gammas/\"\n",
    "pp = \"cath-dataset-nonredundant-S20Clean_phi_pairwise_contact_well4.5_6.5_5.0_10phi_density_mediated_contact_well6.5_9.5_5.0_10_2.6_7.0phi_burial_well4.0\"\n",
    "Gamma_name = pp + \"_gamma\"\n",
    "Gamma = np.loadtxt(pre+Gamma_name)\n",
    "\n",
    "# iter_gamma = (0.2 * Gamma_filtered + 0.8 * Gamma).astype(float)\n",
    "# iter_gamma = (0.02 * Gamma_filtered + 0.98 * Gamma).astype(float)\n",
    "iter_gamma = (0.1 * Gamma_filtered + 0.9 * Gamma).astype(float)\n",
    "# iter_gamma = (0.04 * Gamma_filtered + 0.96 * Gamma).astype(float)\n",
    "# np.savetxt(\"gamma_iter1_combined_mar06.dat\", iter_gamma, fmt='%1.5f')\n",
    "\n",
    "\n"
   ]
  },
  {
   "cell_type": "code",
   "execution_count": 5,
   "metadata": {},
   "outputs": [],
   "source": [
    "def mix_gammas(newGamma, preGamma, alpha):\n",
    "    alpha = percent/100.0\n",
    "    iter_gamma = ((1-alpha) * newGamma + alpha * preGamma).astype(float)\n",
    "    pre = \"/Users/weilu/Research/server/march_2019/optimization_weighted_by_q_iter1/\"\n",
    "    gamma_for_simulation = pre + f\"iteration_gamma_{percent}.dat\"\n",
    "    burial_gamma_for_simulation = pre + f\"iteration_burial_gamma_{percent}.dat\"\n",
    "    gamma_format_convertion_iteration_to_simulation(iter_gamma, gamma_for_simulation, burial_gamma_for_simulation=burial_gamma_for_simulation)\n",
    "\n"
   ]
  },
  {
   "cell_type": "code",
   "execution_count": 6,
   "metadata": {},
   "outputs": [],
   "source": [
    "percent = 98\n",
    "mix_gammas(Gamma_filtered, Gamma, percent)"
   ]
  },
  {
   "cell_type": "code",
   "execution_count": 42,
   "metadata": {},
   "outputs": [],
   "source": [
    "percent = 0\n",
    "mix_gammas(Gamma_filtered, Gamma, percent)"
   ]
  },
  {
   "cell_type": "code",
   "execution_count": 40,
   "metadata": {},
   "outputs": [],
   "source": [
    "percent = 96\n",
    "mix_gammas(Gamma_filtered, Gamma, percent)"
   ]
  },
  {
   "cell_type": "code",
   "execution_count": 41,
   "metadata": {},
   "outputs": [],
   "source": [
    "percent = 90\n",
    "mix_gammas(Gamma_filtered, Gamma, percent)"
   ]
  },
  {
   "cell_type": "code",
   "execution_count": 33,
   "metadata": {},
   "outputs": [],
   "source": [
    "percent = 0\n",
    "iter_gamma = ((1-percent/100.0) * Gamma_filtered + percent/100.0 * Gamma).astype(float)\n",
    "pre = \"/Users/weilu/Research/server/march_2019/optimization_weighted_by_q_iter1/\"\n",
    "gamma_for_simulation = pre + f\"iteration_gamma_{percent}.dat\"\n",
    "burial_gamma_for_simulation = pre + f\"iteration_burial_gamma_{percent}.dat\"\n",
    "gamma_format_convertion_iteration_to_simulation(Gamma_filtered.astype(float), gamma_for_simulation, burial_gamma_for_simulation=burial_gamma_for_simulation)\n",
    "\n"
   ]
  },
  {
   "cell_type": "code",
   "execution_count": 34,
   "metadata": {},
   "outputs": [],
   "source": [
    "percent = 90\n",
    "iter_gamma = ((1-percent/100.0) * Gamma_filtered + percent/100.0 * Gamma).astype(float)\n",
    "pre = \"/Users/weilu/Research/server/march_2019/optimization_weighted_by_q_iter1/\"\n",
    "gamma_for_simulation = pre + f\"iteration_gamma_{percent}.dat\"\n",
    "burial_gamma_for_simulation = pre + f\"iteration_burial_gamma_{percent}.dat\"\n",
    "gamma_format_convertion_iteration_to_simulation(Gamma_filtered.astype(float), gamma_for_simulation, burial_gamma_for_simulation=burial_gamma_for_simulation)\n",
    "\n"
   ]
  },
  {
   "cell_type": "code",
   "execution_count": 18,
   "metadata": {},
   "outputs": [],
   "source": [
    "gamma_file_name = \"gammas/proteins_name_list_phi_pairwise_contact_well4.5_6.5_5.0_10phi_density_mediated_contact_well6.5_9.5_5.0_10_2.6_7.0phi_burial_well4.0_gamma_filtered\"\n",
    "\n",
    "\n"
   ]
  },
  {
   "cell_type": "code",
   "execution_count": 27,
   "metadata": {},
   "outputs": [
    {
     "name": "stdout",
     "output_type": "stream",
     "text": [
      "0 (12.239546896066248+0j)\n"
     ]
    },
    {
     "data": {
      "text/plain": [
       "([(12.239546896066248+0j),\n",
       "  (14.776922708201267+0j),\n",
       "  (17.75164633661523+0j),\n",
       "  (12.462773481596363+0j),\n",
       "  (5.136094464807733+0j),\n",
       "  (10.747711563995965+0j)],\n",
       " [(-63.860538695285214+0j),\n",
       "  (-76.24266638499954+0j),\n",
       "  (-119.55259900544597+0j),\n",
       "  (-116.48445543839254+0j),\n",
       "  (-146.96711499751189+0j),\n",
       "  (-126.89909551758436+0j)],\n",
       " [-12.957840527174318,\n",
       "  -17.310136143575765,\n",
       "  -24.950351149977184,\n",
       "  -31.811973590371647,\n",
       "  -53.36145746918327,\n",
       "  -53.08642393601131],\n",
       " [4.158871124916468,\n",
       "  3.9881463417762837,\n",
       "  5.329209813083001,\n",
       "  6.794032000425571,\n",
       "  18.225065401290802,\n",
       "  6.867757023629107])"
      ]
     },
     "execution_count": 27,
     "metadata": {},
     "output_type": "execute_result"
    }
   ],
   "source": [
    "gamma_file_name = \"gamma_iter1_combined_mar06.dat\"\n",
    "\n",
    "validate_hamiltonian_wei(\"phi_list.txt\", \"proteins_name_list.txt\", gamma_file_name, \"lammps\", 6000)"
   ]
  },
  {
   "cell_type": "code",
   "execution_count": 22,
   "metadata": {},
   "outputs": [
    {
     "name": "stdout",
     "output_type": "stream",
     "text": [
      "0 (16.968723503856513+0j)\n"
     ]
    },
    {
     "data": {
      "text/plain": [
       "([(16.968723503856513+0j),\n",
       "  (20.669477853914103+0j),\n",
       "  (21.035334878869726+0j),\n",
       "  (23.28253291562041+0j),\n",
       "  (22.11055969801755+0j),\n",
       "  (21.790532100096865+0j)],\n",
       " [(-449.40017899440664+0j),\n",
       "  (-636.4029374871329+0j),\n",
       "  (-850.861311494005+0j),\n",
       "  (-922.2037799134266+0j),\n",
       "  (-904.1641444710558+0j),\n",
       "  (-944.1371760278114+0j)],\n",
       " [-43.8288415358845,\n",
       "  -80.39629101516044,\n",
       "  -116.06722852746827,\n",
       "  -104.23413773685131,\n",
       "  -108.09559940125413,\n",
       "  -179.05046842567228],\n",
       " [23.90111061485251,\n",
       "  26.89988834752706,\n",
       "  34.931418358575655,\n",
       "  35.13233053899363,\n",
       "  36.003997906085466,\n",
       "  35.11096948379421])"
      ]
     },
     "execution_count": 22,
     "metadata": {},
     "output_type": "execute_result"
    }
   ],
   "source": [
    "gamma_file_name = \"new_iter1_gamma.dat\"\n",
    "\n",
    "validate_hamiltonian_wei(\"phi_list.txt\", \"proteins_name_list.txt\", gamma_file_name, \"lammps\", 6000)"
   ]
  },
  {
   "cell_type": "code",
   "execution_count": null,
   "metadata": {},
   "outputs": [],
   "source": []
  },
  {
   "cell_type": "code",
   "execution_count": 47,
   "metadata": {},
   "outputs": [
    {
     "name": "stdout",
     "output_type": "stream",
     "text": [
      "0 (30.714529557439594+0j)\n"
     ]
    },
    {
     "data": {
      "text/plain": [
       "([(30.714529557439594+0j),\n",
       "  (32.2596375080873+0j),\n",
       "  (41.17268101532918+0j),\n",
       "  (52.74622374859968+0j),\n",
       "  (31.006662254492987+0j),\n",
       "  (53.903272533057866+0j)],\n",
       " [(-1140.2693087736973+0j),\n",
       "  (-1362.9375049720065+0j),\n",
       "  (-2061.7999237051677+0j),\n",
       "  (-2592.4948772284374+0j),\n",
       "  (-1345.724537216494+0j),\n",
       "  (-2896.5324803938756+0j)],\n",
       " [-61.75527945912854,\n",
       "  -177.37108540485085,\n",
       "  -224.5478576052068,\n",
       "  -311.6129361144566,\n",
       "  -126.53479810777617,\n",
       "  -454.29392110967007],\n",
       " [35.11413148287449,\n",
       "  36.75076693809536,\n",
       "  44.62308552158469,\n",
       "  43.242563713853244,\n",
       "  39.32025089001807,\n",
       "  45.30779755137179])"
      ]
     },
     "execution_count": 47,
     "metadata": {},
     "output_type": "execute_result"
    }
   ],
   "source": [
    "gamma_file_name = \"gamma_iter1_origin_filter.dat\"\n",
    "\n",
    "validate_hamiltonian_wei(\"phi_list.txt\", \"proteins_name_list.txt\", gamma_file_name, \"lammps\", 6000)"
   ]
  },
  {
   "cell_type": "code",
   "execution_count": 49,
   "metadata": {},
   "outputs": [
    {
     "name": "stdout",
     "output_type": "stream",
     "text": [
      "0 (6.137732892901585+0j)\n"
     ]
    },
    {
     "data": {
      "text/plain": [
       "([(6.137732892901585+0j),\n",
       "  (6.850980844577853+0j),\n",
       "  (5.598781683212696+0j),\n",
       "  (4.4568261613318+0j),\n",
       "  (3.782575452121362+0j),\n",
       "  (8.331355986401979+0j)],\n",
       " [(-54.2777009151823+0j),\n",
       "  (-54.71865985227359+0j),\n",
       "  (-63.91975454508282+0j),\n",
       "  (-77.52020664539442+0j),\n",
       "  (-96.96819009959036+0j),\n",
       "  (-95.64260904230987+0j)],\n",
       " [-17.912388496863535,\n",
       "  -19.224059856534637,\n",
       "  -23.662128117061403,\n",
       "  -32.29022149013295,\n",
       "  -40.72548280048413,\n",
       "  -41.2108654346743],\n",
       " [5.924876994952973,\n",
       "  5.180951574814405,\n",
       "  7.190426186598645,\n",
       "  10.148474164795724,\n",
       "  14.868892375316378,\n",
       "  6.533359479114363])"
      ]
     },
     "execution_count": 49,
     "metadata": {},
     "output_type": "execute_result"
    }
   ],
   "source": [
    "gamma_file_name = \"original_gamma.dat\"\n",
    "\n",
    "validate_hamiltonian_wei(\"phi_list.txt\", \"proteins_name_list.txt\", gamma_file_name, \"lammps\", 6000)"
   ]
  },
  {
   "cell_type": "code",
   "execution_count": 52,
   "metadata": {},
   "outputs": [
    {
     "name": "stdout",
     "output_type": "stream",
     "text": [
      "0 (3.5309735447521375+0j)\n"
     ]
    },
    {
     "data": {
      "text/plain": [
       "([(3.5309735447521375+0j),\n",
       "  (2.202833247852408+0j),\n",
       "  (6.081027011086596+0j),\n",
       "  (0.9744284029297371+0j),\n",
       "  (0.9682378414104372+0j),\n",
       "  (0.1533592367528443+0j)],\n",
       " [(-24.62662335987055+0j),\n",
       "  (-18.733926158092306+0j),\n",
       "  (-43.21095859488472+0j),\n",
       "  (-33.60854520088053+0j),\n",
       "  (-68.33379517556816+0j),\n",
       "  (-42.544748764215825+0j)],\n",
       " [-10.761018956197702,\n",
       "  -12.00504920162656,\n",
       "  -16.642129901642694,\n",
       "  -26.431309784342215,\n",
       "  -49.2649180920217,\n",
       "  -41.53940004746229],\n",
       " [3.926850266063425,\n",
       "  3.0546465389633464,\n",
       "  4.369135122209323,\n",
       "  7.365585193287761,\n",
       "  19.694414190390162,\n",
       "  6.555514607664426])"
      ]
     },
     "execution_count": 52,
     "metadata": {},
     "output_type": "execute_result"
    }
   ],
   "source": [
    "gamma_file_name = \"gamma_iter_0.dat\"\n",
    "\n",
    "validate_hamiltonian_wei(\"phi_list.txt\", \"proteins_name_list.txt\", gamma_file_name, \"lammps\", 6000)"
   ]
  },
  {
   "cell_type": "code",
   "execution_count": 53,
   "metadata": {},
   "outputs": [
    {
     "name": "stdout",
     "output_type": "stream",
     "text": [
      "0 (31.222582217023767+0j)\n"
     ]
    },
    {
     "data": {
      "text/plain": [
       "([(31.222582217023767+0j),\n",
       "  (32.71032016599008+0j),\n",
       "  (41.309659041914884+0j),\n",
       "  (49.12532118469017+0j),\n",
       "  (31.459048447265783+0j),\n",
       "  (49.81515335021521+0j)],\n",
       " [(-1083.6317004178475+0j),\n",
       "  (-1265.7704868180667+0j),\n",
       "  (-1938.8123259223955+0j),\n",
       "  (-2147.163542363728+0j),\n",
       "  (-1306.5294630619642+0j),\n",
       "  (-2410.822397621466+0j)],\n",
       " [-65.52619076370671,\n",
       "  -167.91924377861608,\n",
       "  -215.73476106689614,\n",
       "  -250.02450006265573,\n",
       "  -118.29308249154414,\n",
       "  -378.7127725662777],\n",
       " [32.60798554640461,\n",
       "  33.56284002933484,\n",
       "  41.71125118963526,\n",
       "  38.61835396798001,\n",
       "  37.770893883273004,\n",
       "  40.79300149432159])"
      ]
     },
     "execution_count": 53,
     "metadata": {},
     "output_type": "execute_result"
    }
   ],
   "source": [
    "\n",
    "gamma_file_name = \"gamma_iter1_new_filter.dat\"\n",
    "\n",
    "validate_hamiltonian_wei(\"phi_list.txt\", \"proteins_name_list.txt\", gamma_file_name, \"lammps\", 6000)"
   ]
  },
  {
   "cell_type": "code",
   "execution_count": 58,
   "metadata": {},
   "outputs": [
    {
     "name": "stdout",
     "output_type": "stream",
     "text": [
      "0 (29.577080499909464+0j)\n"
     ]
    },
    {
     "data": {
      "text/plain": [
       "([(29.577080499909464+0j),\n",
       "  (30.43713173411673+0j),\n",
       "  (39.68827387347712+0j),\n",
       "  (40.264442954556756+0j),\n",
       "  (14.683380705198132+0j),\n",
       "  (41.22658626924627+0j)],\n",
       " [(-233.54459945977334+0j),\n",
       "  (-264.3562833265989+0j),\n",
       "  (-418.3994917843967+0j),\n",
       "  (-451.0008458472786+0j),\n",
       "  (-311.5731352365859+0j),\n",
       "  (-511.0406142239666+0j)],\n",
       " [-20.72743141716814,\n",
       "  -41.82431688552133,\n",
       "  -55.00800392297417,\n",
       "  -69.01696908842834,\n",
       "  -61.482555740213925,\n",
       "  -107.01498953667111],\n",
       " [7.195340596353201,\n",
       "  7.31120029262295,\n",
       "  9.156142416772369,\n",
       "  9.486878464703082,\n",
       "  17.03222061169035,\n",
       "  9.800123203232227])"
      ]
     },
     "execution_count": 58,
     "metadata": {},
     "output_type": "execute_result"
    }
   ],
   "source": [
    "\n",
    "gamma_file_name = \"gamma_iter1_combined.dat\"\n",
    "\n",
    "validate_hamiltonian_wei(\"phi_list.txt\", \"proteins_name_list.txt\", gamma_file_name, \"lammps\", 6000)"
   ]
  },
  {
   "cell_type": "code",
   "execution_count": 60,
   "metadata": {},
   "outputs": [
    {
     "name": "stdout",
     "output_type": "stream",
     "text": [
      "0 (3.884499832967118+0j)\n"
     ]
    },
    {
     "data": {
      "text/plain": [
       "([(3.884499832967118+0j),\n",
       "  (2.0848904534342556+0j),\n",
       "  (0.8766641083569572+0j),\n",
       "  (2.7125769308597136+0j),\n",
       "  (2.3594748497199522+0j),\n",
       "  (16.21623202107247+0j)],\n",
       " [(-56.5981268715542+0j),\n",
       "  (-34.70721463370089+0j),\n",
       "  (-8.71542865935356+0j),\n",
       "  (-44.03562764870141+0j),\n",
       "  (-53.43673692872248+0j),\n",
       "  (-279.0015913785711+0j)],\n",
       " [-10.436928192882498,\n",
       "  -1.7881864080661287,\n",
       "  0.7367224493535263,\n",
       "  -4.330739115434836,\n",
       "  -9.337863868048354,\n",
       "  75.03669767192545],\n",
       " [11.8834343322425,\n",
       "  15.789332322669596,\n",
       "  10.781952880929841,\n",
       "  14.637331786450995,\n",
       "  18.690122111667456,\n",
       "  21.832339879599356])"
      ]
     },
     "execution_count": 60,
     "metadata": {},
     "output_type": "execute_result"
    }
   ],
   "source": [
    "gamma_file_name = \"previous_iter1.dat\"\n",
    "\n",
    "validate_hamiltonian_wei(\"phi_list.txt\", \"proteins_name_list.txt\", gamma_file_name, \"lammps\", 6000)"
   ]
  },
  {
   "cell_type": "code",
   "execution_count": 77,
   "metadata": {},
   "outputs": [
    {
     "name": "stdout",
     "output_type": "stream",
     "text": [
      "0 (8.784370583629089+0j)\n"
     ]
    },
    {
     "data": {
      "text/plain": [
       "([(8.784370583629089+0j),\n",
       "  (9.036932071694473+0j),\n",
       "  (14.439269254832835+0j),\n",
       "  (6.249860291834691+0j),\n",
       "  (2.091950807148329+0j),\n",
       "  (6.082889827478184+0j)],\n",
       " [(-42.274862048589746+0j),\n",
       "  (-39.03794711982817+0j),\n",
       "  (-76.3063764047046+0j),\n",
       "  (-69.36405905973211+0j),\n",
       "  (-87.70783496432327+0j),\n",
       "  (-83.58936348676657+0j)],\n",
       " [-10.647675397878535,\n",
       "  -13.452912915027094,\n",
       "  -18.844427371165647,\n",
       "  -28.29022626362761,\n",
       "  -48.70009681922621,\n",
       "  -45.88286804187431],\n",
       " [3.600393033241667,\n",
       "  2.831163718153715,\n",
       "  3.979560739495621,\n",
       "  6.571960152415982,\n",
       "  18.646584810601254,\n",
       "  6.198779940836845])"
      ]
     },
     "execution_count": 77,
     "metadata": {},
     "output_type": "execute_result"
    }
   ],
   "source": [
    "# 98 percent\n",
    "gamma_file_name = \"gamma_iter1_combined.dat\"\n",
    "\n",
    "validate_hamiltonian_wei(\"phi_list.txt\", \"proteins_name_list.txt\", gamma_file_name, \"lammps\", 6000)"
   ]
  },
  {
   "cell_type": "code",
   "execution_count": 73,
   "metadata": {},
   "outputs": [
    {
     "name": "stdout",
     "output_type": "stream",
     "text": [
      "0 (13.907760508357239+0j)\n"
     ]
    },
    {
     "data": {
      "text/plain": [
       "([(13.907760508357239+0j),\n",
       "  (15.393534564143144+0j),\n",
       "  (21.636275990984416+0j),\n",
       "  (11.967898631604573+0j),\n",
       "  (3.409519300454499+0j),\n",
       "  (12.480141382633581+0j)],\n",
       " [(-63.52707192745018+0j),\n",
       "  (-64.07337423585366+0j),\n",
       "  (-114.3168575812048+0j),\n",
       "  (-111.76827963987833+0j),\n",
       "  (-112.58187766325719+0j),\n",
       "  (-131.08400906664485+0j)],\n",
       " [-11.767642190993723,\n",
       "  -16.60530152180621,\n",
       "  -22.86264570475794,\n",
       "  -32.81543576265521,\n",
       "  -50.12042872618632,\n",
       "  -52.67534072311038],\n",
       " [3.72162216234267,\n",
       "  3.0836369981340725,\n",
       "  4.226892461279139,\n",
       "  6.597051521536631,\n",
       "  18.319722938287686,\n",
       "  6.282674686093062])"
      ]
     },
     "execution_count": 73,
     "metadata": {},
     "output_type": "execute_result"
    }
   ],
   "source": [
    "# 96 percent\n",
    "gamma_file_name = \"gamma_iter1_combined.dat\"\n",
    "\n",
    "validate_hamiltonian_wei(\"phi_list.txt\", \"proteins_name_list.txt\", gamma_file_name, \"lammps\", 6000)"
   ]
  },
  {
   "cell_type": "code",
   "execution_count": 76,
   "metadata": {},
   "outputs": [],
   "source": [
    "np.savetxt(\"gamma_iter1_combined.dat\", iter_gamma, fmt='%1.5f')"
   ]
  },
  {
   "cell_type": "code",
   "execution_count": 78,
   "metadata": {},
   "outputs": [],
   "source": [
    "pre = \"/Users/weilu/Research/server/feb_2019/optimization/gammas/\"\n",
    "pp = \"cath-dataset-nonredundant-S20Clean_phi_pairwise_contact_well4.5_6.5_5.0_10phi_density_mediated_contact_well6.5_9.5_5.0_10_2.6_7.0phi_burial_well4.0\"\n",
    "Gamma_name = pp + \"_gamma\"\n",
    "Gamma = np.loadtxt(pre+Gamma_name)\n",
    "\n",
    "# iter_gamma = (0.2 * Gamma_filtered + 0.8 * Gamma).astype(float)\n",
    "iter_gamma = (0.02 * Gamma_filtered + 0.98 * Gamma).astype(float)\n",
    "# iter_gamma = (0.04 * Gamma_filtered + 0.96 * Gamma).astype(float)"
   ]
  },
  {
   "cell_type": "code",
   "execution_count": 79,
   "metadata": {},
   "outputs": [],
   "source": [
    "gamma_for_simulation = \"/Users/weilu/Research/server/feb_2019/optimization_with_biased_iter1/iteration_gamma.dat\"\n",
    "burial_gamma_for_simulation = \"/Users/weilu/Research/server/feb_2019/optimization_with_biased_iter1/iteration_burial_gamma.dat\"\n",
    "gamma_format_convertion_iteration_to_simulation(iter_gamma, gamma_for_simulation, burial_gamma_for_simulation=burial_gamma_for_simulation)\n",
    "\n",
    "\n",
    "\n",
    "\n",
    "\n"
   ]
  },
  {
   "cell_type": "code",
   "execution_count": 26,
   "metadata": {},
   "outputs": [],
   "source": [
    "z_score, e_native, e_mg, e_mg_std = evaluate_hamiltonian_wei(\"1fc2\", \"phi_list.txt\", \"proteins_name_list.txt\", None, \"lammps\", 6000)\n",
    "\n"
   ]
  },
  {
   "cell_type": "code",
   "execution_count": 27,
   "metadata": {},
   "outputs": [
    {
     "data": {
      "text/plain": [
       "(30.714529557439594+0j)"
      ]
     },
     "execution_count": 27,
     "metadata": {},
     "output_type": "execute_result"
    }
   ],
   "source": [
    "z_score"
   ]
  },
  {
   "cell_type": "code",
   "execution_count": 28,
   "metadata": {},
   "outputs": [
    {
     "data": {
      "text/plain": [
       "(-1140.2693087736973+0j)"
      ]
     },
     "execution_count": 28,
     "metadata": {},
     "output_type": "execute_result"
    }
   ],
   "source": [
    "e_native"
   ]
  },
  {
   "cell_type": "code",
   "execution_count": 29,
   "metadata": {},
   "outputs": [
    {
     "data": {
      "text/plain": [
       "-61.75527945912854"
      ]
     },
     "execution_count": 29,
     "metadata": {},
     "output_type": "execute_result"
    }
   ],
   "source": [
    "e_mg"
   ]
  },
  {
   "cell_type": "code",
   "execution_count": 17,
   "metadata": {},
   "outputs": [
    {
     "data": {
      "text/plain": [
       "[<matplotlib.lines.Line2D at 0x1a178b3860>]"
      ]
     },
     "execution_count": 17,
     "metadata": {},
     "output_type": "execute_result"
    },
    {
     "data": {
      "image/png": "[encoded data removed]",
      "text/plain": [
       "<Figure size 582.492x360 with 1 Axes>"
      ]
     },
     "metadata": {
      "needs_background": "light"
     },
     "output_type": "display_data"
    }
   ],
   "source": [
    "plt.plot(lamb[:100])"
   ]
  },
  {
   "cell_type": "code",
   "execution_count": 21,
   "metadata": {},
   "outputs": [
    {
     "name": "stdout",
     "output_type": "stream",
     "text": [
      "min cutoff_mode 438\n"
     ]
    }
   ],
   "source": [
    "filtered_gamma, filtered_B, filtered_lamb, P, lamb, noisy_lamb_list = get_filtered_gamma_B_lamb_P_and_lamb(A, B, half_B, other_half_B, std_half_B, total_phis, num_decoys, mode=2)\n"
   ]
  },
  {
   "cell_type": "code",
   "execution_count": 19,
   "metadata": {},
   "outputs": [
    {
     "data": {
      "image/png": "[encoded data removed]",
      "text/plain": [
       "<Figure size 582.492x360 with 2 Axes>"
      ]
     },
     "metadata": {
      "needs_background": "light"
     },
     "output_type": "display_data"
    }
   ],
   "source": [
    "plot_contact_well(filtered_gamma[:210], inferBound=True, invert_sign=False)"
   ]
  },
  {
   "cell_type": "code",
   "execution_count": 15,
   "metadata": {},
   "outputs": [
    {
     "data": {
      "text/html": [
       "<div>\n",
       "<style scoped>\n",
       "    .dataframe tbody tr th:only-of-type {\n",
       "        vertical-align: middle;\n",
       "    }\n",
       "\n",
       "    .dataframe tbody tr th {\n",
       "        vertical-align: top;\n",
       "    }\n",
       "\n",
       "    .dataframe thead th {\n",
       "        text-align: right;\n",
       "    }\n",
       "</style>\n",
       "<table border=\"1\" class=\"dataframe\">\n",
       "  <thead>\n",
       "    <tr style=\"text-align: right;\">\n",
       "      <th></th>\n",
       "      <th>Residue</th>\n",
       "      <th>rho1</th>\n",
       "      <th>rho2</th>\n",
       "      <th>rho3</th>\n",
       "      <th>index</th>\n",
       "      <th>oneLetter</th>\n",
       "    </tr>\n",
       "  </thead>\n",
       "  <tbody>\n",
       "    <tr>\n",
       "      <th>0</th>\n",
       "      <td>ALA</td>\n",
       "      <td>22.518473</td>\n",
       "      <td>6.620584</td>\n",
       "      <td>9.804887</td>\n",
       "      <td>0</td>\n",
       "      <td>A</td>\n",
       "    </tr>\n",
       "    <tr>\n",
       "      <th>1</th>\n",
       "      <td>ARG</td>\n",
       "      <td>-1.798650</td>\n",
       "      <td>-8.524360</td>\n",
       "      <td>-29.553309</td>\n",
       "      <td>1</td>\n",
       "      <td>R</td>\n",
       "    </tr>\n",
       "    <tr>\n",
       "      <th>2</th>\n",
       "      <td>ASN</td>\n",
       "      <td>35.513946</td>\n",
       "      <td>29.654402</td>\n",
       "      <td>48.752308</td>\n",
       "      <td>2</td>\n",
       "      <td>N</td>\n",
       "    </tr>\n",
       "    <tr>\n",
       "      <th>3</th>\n",
       "      <td>ASP</td>\n",
       "      <td>12.062799</td>\n",
       "      <td>2.152616</td>\n",
       "      <td>-3.101808</td>\n",
       "      <td>3</td>\n",
       "      <td>D</td>\n",
       "    </tr>\n",
       "    <tr>\n",
       "      <th>4</th>\n",
       "      <td>CYS</td>\n",
       "      <td>17.075106</td>\n",
       "      <td>-29.282504</td>\n",
       "      <td>-1.426390</td>\n",
       "      <td>4</td>\n",
       "      <td>C</td>\n",
       "    </tr>\n",
       "    <tr>\n",
       "      <th>5</th>\n",
       "      <td>GLN</td>\n",
       "      <td>17.808241</td>\n",
       "      <td>8.374423</td>\n",
       "      <td>24.835739</td>\n",
       "      <td>5</td>\n",
       "      <td>Q</td>\n",
       "    </tr>\n",
       "    <tr>\n",
       "      <th>6</th>\n",
       "      <td>GLU</td>\n",
       "      <td>-25.754676</td>\n",
       "      <td>-32.066855</td>\n",
       "      <td>-30.804984</td>\n",
       "      <td>6</td>\n",
       "      <td>E</td>\n",
       "    </tr>\n",
       "    <tr>\n",
       "      <th>7</th>\n",
       "      <td>GLY</td>\n",
       "      <td>-14.706492</td>\n",
       "      <td>-19.196433</td>\n",
       "      <td>-10.703004</td>\n",
       "      <td>7</td>\n",
       "      <td>G</td>\n",
       "    </tr>\n",
       "    <tr>\n",
       "      <th>8</th>\n",
       "      <td>HIS</td>\n",
       "      <td>17.516138</td>\n",
       "      <td>5.185796</td>\n",
       "      <td>0.000000</td>\n",
       "      <td>8</td>\n",
       "      <td>H</td>\n",
       "    </tr>\n",
       "    <tr>\n",
       "      <th>9</th>\n",
       "      <td>ILE</td>\n",
       "      <td>5.609815</td>\n",
       "      <td>-9.382641</td>\n",
       "      <td>-31.003939</td>\n",
       "      <td>9</td>\n",
       "      <td>I</td>\n",
       "    </tr>\n",
       "    <tr>\n",
       "      <th>10</th>\n",
       "      <td>LEU</td>\n",
       "      <td>-18.113873</td>\n",
       "      <td>-30.444607</td>\n",
       "      <td>-12.326664</td>\n",
       "      <td>10</td>\n",
       "      <td>L</td>\n",
       "    </tr>\n",
       "    <tr>\n",
       "      <th>11</th>\n",
       "      <td>LYS</td>\n",
       "      <td>-21.920740</td>\n",
       "      <td>-26.633465</td>\n",
       "      <td>-11.053836</td>\n",
       "      <td>11</td>\n",
       "      <td>K</td>\n",
       "    </tr>\n",
       "    <tr>\n",
       "      <th>12</th>\n",
       "      <td>MET</td>\n",
       "      <td>-32.900832</td>\n",
       "      <td>-31.850958</td>\n",
       "      <td>-3.335498</td>\n",
       "      <td>12</td>\n",
       "      <td>M</td>\n",
       "    </tr>\n",
       "    <tr>\n",
       "      <th>13</th>\n",
       "      <td>PHE</td>\n",
       "      <td>-38.032411</td>\n",
       "      <td>-41.645469</td>\n",
       "      <td>-21.838648</td>\n",
       "      <td>13</td>\n",
       "      <td>F</td>\n",
       "    </tr>\n",
       "    <tr>\n",
       "      <th>14</th>\n",
       "      <td>PRO</td>\n",
       "      <td>9.826257</td>\n",
       "      <td>-4.147943</td>\n",
       "      <td>6.758594</td>\n",
       "      <td>14</td>\n",
       "      <td>P</td>\n",
       "    </tr>\n",
       "    <tr>\n",
       "      <th>15</th>\n",
       "      <td>SER</td>\n",
       "      <td>2.197356</td>\n",
       "      <td>-5.881204</td>\n",
       "      <td>-16.074820</td>\n",
       "      <td>15</td>\n",
       "      <td>S</td>\n",
       "    </tr>\n",
       "    <tr>\n",
       "      <th>16</th>\n",
       "      <td>THR</td>\n",
       "      <td>-11.299125</td>\n",
       "      <td>0.977809</td>\n",
       "      <td>20.516589</td>\n",
       "      <td>16</td>\n",
       "      <td>T</td>\n",
       "    </tr>\n",
       "    <tr>\n",
       "      <th>17</th>\n",
       "      <td>TRP</td>\n",
       "      <td>-12.222685</td>\n",
       "      <td>-5.098952</td>\n",
       "      <td>15.030259</td>\n",
       "      <td>17</td>\n",
       "      <td>W</td>\n",
       "    </tr>\n",
       "    <tr>\n",
       "      <th>18</th>\n",
       "      <td>TYR</td>\n",
       "      <td>2.999569</td>\n",
       "      <td>5.043738</td>\n",
       "      <td>8.424899</td>\n",
       "      <td>18</td>\n",
       "      <td>Y</td>\n",
       "    </tr>\n",
       "    <tr>\n",
       "      <th>19</th>\n",
       "      <td>VAL</td>\n",
       "      <td>-18.433254</td>\n",
       "      <td>-24.435299</td>\n",
       "      <td>-46.850798</td>\n",
       "      <td>19</td>\n",
       "      <td>V</td>\n",
       "    </tr>\n",
       "  </tbody>\n",
       "</table>\n",
       "</div>"
      ],
      "text/plain": [
       "   Residue       rho1       rho2       rho3  index oneLetter\n",
       "0      ALA  22.518473   6.620584   9.804887      0         A\n",
       "1      ARG  -1.798650  -8.524360 -29.553309      1         R\n",
       "2      ASN  35.513946  29.654402  48.752308      2         N\n",
       "3      ASP  12.062799   2.152616  -3.101808      3         D\n",
       "4      CYS  17.075106 -29.282504  -1.426390      4         C\n",
       "5      GLN  17.808241   8.374423  24.835739      5         Q\n",
       "6      GLU -25.754676 -32.066855 -30.804984      6         E\n",
       "7      GLY -14.706492 -19.196433 -10.703004      7         G\n",
       "8      HIS  17.516138   5.185796   0.000000      8         H\n",
       "9      ILE   5.609815  -9.382641 -31.003939      9         I\n",
       "10     LEU -18.113873 -30.444607 -12.326664     10         L\n",
       "11     LYS -21.920740 -26.633465 -11.053836     11         K\n",
       "12     MET -32.900832 -31.850958  -3.335498     12         M\n",
       "13     PHE -38.032411 -41.645469 -21.838648     13         F\n",
       "14     PRO   9.826257  -4.147943   6.758594     14         P\n",
       "15     SER   2.197356  -5.881204 -16.074820     15         S\n",
       "16     THR -11.299125   0.977809  20.516589     16         T\n",
       "17     TRP -12.222685  -5.098952  15.030259     17         W\n",
       "18     TYR   2.999569   5.043738   8.424899     18         Y\n",
       "19     VAL -18.433254 -24.435299 -46.850798     19         V"
      ]
     },
     "execution_count": 15,
     "metadata": {},
     "output_type": "execute_result"
    }
   ],
   "source": [
    "rhoGamma = pd.DataFrame(filtered_gamma[630:].astype(float).reshape(3,20).T, columns=[\"rho1\", \"rho2\", \"rho3\"]).reset_index()\n",
    "rhoGamma[\"oneLetter\"] = rhoGamma[\"index\"].apply(lambda x: inverse_res_type_map[x])\n",
    "rhoGamma[\"Residue\"] = rhoGamma[\"index\"].apply(lambda x: one_to_three(inverse_res_type_map[x]))\n",
    "rhoGamma = rhoGamma[[\"Residue\", \"rho1\", \"rho2\", \"rho3\", \"index\", \"oneLetter\"]]\n",
    "g = rhoGamma[[\"rho1\", \"rho2\", \"rho3\"]].values\n",
    "# np.savetxt(\"/Users/weilu/Research/server/feb_2019/iter_burial_gamma.dat\", g, fmt='%7.4f')\n",
    "rhoGamma"
   ]
  },
  {
   "cell_type": "code",
   "execution_count": 4,
   "metadata": {},
   "outputs": [
    {
     "data": {
      "image/png": "[encoded data removed]",
      "text/plain": [
       "<Figure size 582.492x360 with 2 Axes>"
      ]
     },
     "metadata": {
      "needs_background": "light"
     },
     "output_type": "display_data"
    }
   ],
   "source": [
    "plot_contact_well(Gamma_filtered[:210], inferBound=True, invert_sign=False)"
   ]
  },
  {
   "cell_type": "code",
   "execution_count": 7,
   "metadata": {},
   "outputs": [
    {
     "data": {
      "text/html": [
       "<div>\n",
       "<style scoped>\n",
       "    .dataframe tbody tr th:only-of-type {\n",
       "        vertical-align: middle;\n",
       "    }\n",
       "\n",
       "    .dataframe tbody tr th {\n",
       "        vertical-align: top;\n",
       "    }\n",
       "\n",
       "    .dataframe thead th {\n",
       "        text-align: right;\n",
       "    }\n",
       "</style>\n",
       "<table border=\"1\" class=\"dataframe\">\n",
       "  <thead>\n",
       "    <tr style=\"text-align: right;\">\n",
       "      <th></th>\n",
       "      <th>Residue</th>\n",
       "      <th>rho1</th>\n",
       "      <th>rho2</th>\n",
       "      <th>rho3</th>\n",
       "      <th>index</th>\n",
       "      <th>oneLetter</th>\n",
       "    </tr>\n",
       "  </thead>\n",
       "  <tbody>\n",
       "    <tr>\n",
       "      <th>0</th>\n",
       "      <td>ALA</td>\n",
       "      <td>21.02257</td>\n",
       "      <td>5.68986</td>\n",
       "      <td>8.23508</td>\n",
       "      <td>0</td>\n",
       "      <td>A</td>\n",
       "    </tr>\n",
       "    <tr>\n",
       "      <th>1</th>\n",
       "      <td>ARG</td>\n",
       "      <td>-4.84993</td>\n",
       "      <td>-9.26003</td>\n",
       "      <td>-29.57624</td>\n",
       "      <td>1</td>\n",
       "      <td>R</td>\n",
       "    </tr>\n",
       "    <tr>\n",
       "      <th>2</th>\n",
       "      <td>ASN</td>\n",
       "      <td>20.14410</td>\n",
       "      <td>15.41603</td>\n",
       "      <td>48.10337</td>\n",
       "      <td>2</td>\n",
       "      <td>N</td>\n",
       "    </tr>\n",
       "    <tr>\n",
       "      <th>3</th>\n",
       "      <td>ASP</td>\n",
       "      <td>-2.03852</td>\n",
       "      <td>-13.83016</td>\n",
       "      <td>-24.61289</td>\n",
       "      <td>3</td>\n",
       "      <td>D</td>\n",
       "    </tr>\n",
       "    <tr>\n",
       "      <th>4</th>\n",
       "      <td>CYS</td>\n",
       "      <td>-322.87792</td>\n",
       "      <td>-380.41756</td>\n",
       "      <td>-408.04365</td>\n",
       "      <td>4</td>\n",
       "      <td>C</td>\n",
       "    </tr>\n",
       "    <tr>\n",
       "      <th>5</th>\n",
       "      <td>GLN</td>\n",
       "      <td>31.45585</td>\n",
       "      <td>21.87162</td>\n",
       "      <td>40.27171</td>\n",
       "      <td>5</td>\n",
       "      <td>Q</td>\n",
       "    </tr>\n",
       "    <tr>\n",
       "      <th>6</th>\n",
       "      <td>GLU</td>\n",
       "      <td>-30.77187</td>\n",
       "      <td>-36.79035</td>\n",
       "      <td>-35.34688</td>\n",
       "      <td>6</td>\n",
       "      <td>E</td>\n",
       "    </tr>\n",
       "    <tr>\n",
       "      <th>7</th>\n",
       "      <td>GLY</td>\n",
       "      <td>-19.70777</td>\n",
       "      <td>-25.18152</td>\n",
       "      <td>-25.75290</td>\n",
       "      <td>7</td>\n",
       "      <td>G</td>\n",
       "    </tr>\n",
       "    <tr>\n",
       "      <th>8</th>\n",
       "      <td>HIS</td>\n",
       "      <td>167.00113</td>\n",
       "      <td>175.83247</td>\n",
       "      <td>22.98043</td>\n",
       "      <td>8</td>\n",
       "      <td>H</td>\n",
       "    </tr>\n",
       "    <tr>\n",
       "      <th>9</th>\n",
       "      <td>ILE</td>\n",
       "      <td>14.46157</td>\n",
       "      <td>0.08975</td>\n",
       "      <td>-26.50159</td>\n",
       "      <td>9</td>\n",
       "      <td>I</td>\n",
       "    </tr>\n",
       "    <tr>\n",
       "      <th>10</th>\n",
       "      <td>LEU</td>\n",
       "      <td>-15.47314</td>\n",
       "      <td>-29.46763</td>\n",
       "      <td>-11.54582</td>\n",
       "      <td>10</td>\n",
       "      <td>L</td>\n",
       "    </tr>\n",
       "    <tr>\n",
       "      <th>11</th>\n",
       "      <td>LYS</td>\n",
       "      <td>-14.54841</td>\n",
       "      <td>-18.43505</td>\n",
       "      <td>-2.45302</td>\n",
       "      <td>11</td>\n",
       "      <td>K</td>\n",
       "    </tr>\n",
       "    <tr>\n",
       "      <th>12</th>\n",
       "      <td>MET</td>\n",
       "      <td>-57.95045</td>\n",
       "      <td>-64.29277</td>\n",
       "      <td>-71.50203</td>\n",
       "      <td>12</td>\n",
       "      <td>M</td>\n",
       "    </tr>\n",
       "    <tr>\n",
       "      <th>13</th>\n",
       "      <td>PHE</td>\n",
       "      <td>-44.10021</td>\n",
       "      <td>-47.23675</td>\n",
       "      <td>-25.77672</td>\n",
       "      <td>13</td>\n",
       "      <td>F</td>\n",
       "    </tr>\n",
       "    <tr>\n",
       "      <th>14</th>\n",
       "      <td>PRO</td>\n",
       "      <td>12.64813</td>\n",
       "      <td>0.53743</td>\n",
       "      <td>12.52336</td>\n",
       "      <td>14</td>\n",
       "      <td>P</td>\n",
       "    </tr>\n",
       "    <tr>\n",
       "      <th>15</th>\n",
       "      <td>SER</td>\n",
       "      <td>-21.92380</td>\n",
       "      <td>-30.74159</td>\n",
       "      <td>-40.40785</td>\n",
       "      <td>15</td>\n",
       "      <td>S</td>\n",
       "    </tr>\n",
       "    <tr>\n",
       "      <th>16</th>\n",
       "      <td>THR</td>\n",
       "      <td>4.40696</td>\n",
       "      <td>19.32028</td>\n",
       "      <td>40.63691</td>\n",
       "      <td>16</td>\n",
       "      <td>T</td>\n",
       "    </tr>\n",
       "    <tr>\n",
       "      <th>17</th>\n",
       "      <td>TRP</td>\n",
       "      <td>24.52156</td>\n",
       "      <td>39.16409</td>\n",
       "      <td>53.81585</td>\n",
       "      <td>17</td>\n",
       "      <td>W</td>\n",
       "    </tr>\n",
       "    <tr>\n",
       "      <th>18</th>\n",
       "      <td>TYR</td>\n",
       "      <td>-21.46595</td>\n",
       "      <td>-25.00066</td>\n",
       "      <td>-21.09843</td>\n",
       "      <td>18</td>\n",
       "      <td>Y</td>\n",
       "    </tr>\n",
       "    <tr>\n",
       "      <th>19</th>\n",
       "      <td>VAL</td>\n",
       "      <td>-15.02973</td>\n",
       "      <td>-20.90043</td>\n",
       "      <td>-44.39709</td>\n",
       "      <td>19</td>\n",
       "      <td>V</td>\n",
       "    </tr>\n",
       "  </tbody>\n",
       "</table>\n",
       "</div>"
      ],
      "text/plain": [
       "   Residue       rho1       rho2       rho3  index oneLetter\n",
       "0      ALA   21.02257    5.68986    8.23508      0         A\n",
       "1      ARG   -4.84993   -9.26003  -29.57624      1         R\n",
       "2      ASN   20.14410   15.41603   48.10337      2         N\n",
       "3      ASP   -2.03852  -13.83016  -24.61289      3         D\n",
       "4      CYS -322.87792 -380.41756 -408.04365      4         C\n",
       "5      GLN   31.45585   21.87162   40.27171      5         Q\n",
       "6      GLU  -30.77187  -36.79035  -35.34688      6         E\n",
       "7      GLY  -19.70777  -25.18152  -25.75290      7         G\n",
       "8      HIS  167.00113  175.83247   22.98043      8         H\n",
       "9      ILE   14.46157    0.08975  -26.50159      9         I\n",
       "10     LEU  -15.47314  -29.46763  -11.54582     10         L\n",
       "11     LYS  -14.54841  -18.43505   -2.45302     11         K\n",
       "12     MET  -57.95045  -64.29277  -71.50203     12         M\n",
       "13     PHE  -44.10021  -47.23675  -25.77672     13         F\n",
       "14     PRO   12.64813    0.53743   12.52336     14         P\n",
       "15     SER  -21.92380  -30.74159  -40.40785     15         S\n",
       "16     THR    4.40696   19.32028   40.63691     16         T\n",
       "17     TRP   24.52156   39.16409   53.81585     17         W\n",
       "18     TYR  -21.46595  -25.00066  -21.09843     18         Y\n",
       "19     VAL  -15.02973  -20.90043  -44.39709     19         V"
      ]
     },
     "execution_count": 7,
     "metadata": {},
     "output_type": "execute_result"
    }
   ],
   "source": [
    "rhoGamma = pd.DataFrame(Gamma_filtered[630:].astype(float).reshape(3,20).T, columns=[\"rho1\", \"rho2\", \"rho3\"]).reset_index()\n",
    "rhoGamma[\"oneLetter\"] = rhoGamma[\"index\"].apply(lambda x: inverse_res_type_map[x])\n",
    "rhoGamma[\"Residue\"] = rhoGamma[\"index\"].apply(lambda x: one_to_three(inverse_res_type_map[x]))\n",
    "rhoGamma = rhoGamma[[\"Residue\", \"rho1\", \"rho2\", \"rho3\", \"index\", \"oneLetter\"]]\n",
    "g = rhoGamma[[\"rho1\", \"rho2\", \"rho3\"]].values\n",
    "# np.savetxt(\"/Users/weilu/Research/server/feb_2019/iter_burial_gamma.dat\", g, fmt='%7.4f')\n",
    "rhoGamma"
   ]
  },
  {
   "cell_type": "code",
   "execution_count": null,
   "metadata": {},
   "outputs": [],
   "source": []
  }
 ],
 "metadata": {
  "kernelspec": {
   "display_name": "Python 3",
   "language": "python",
   "name": "python3"
  },
  "language_info": {
   "codemirror_mode": {
    "name": "ipython",
    "version": 3
   },
   "file_extension": ".py",
   "mimetype": "text/x-python",
   "name": "python",
   "nbconvert_exporter": "python",
   "pygments_lexer": "ipython3",
   "version": "3.6.8"
  }
 },
 "nbformat": 4,
 "nbformat_minor": 2
}
