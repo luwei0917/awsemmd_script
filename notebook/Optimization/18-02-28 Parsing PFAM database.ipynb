{
 "cells": [
  {
   "cell_type": "code",
   "execution_count": 1,
   "metadata": {},
   "outputs": [
    {
     "name": "stdout",
     "output_type": "stream",
     "text": [
      "E:\\research\\multisequenceanddcafrustratometry\n"
     ]
    }
   ],
   "source": [
    "cd \"E:\\research\\multisequenceanddcafrustratometry\""
   ]
  },
  {
   "cell_type": "markdown",
   "metadata": {},
   "source": [
    "# Get list of all PFAM families"
   ]
  },
  {
   "cell_type": "code",
   "execution_count": 17,
   "metadata": {},
   "outputs": [
    {
     "data": {
      "text/html": [
       "<script>requirejs.config({paths: { 'plotly': ['https://cdn.plot.ly/plotly-latest.min']},});if(!window.Plotly) {{require(['plotly'],function(plotly) {window.Plotly=plotly;});}}</script>"
      ],
      "text/vnd.plotly.v1+html": [
       "<script>requirejs.config({paths: { 'plotly': ['https://cdn.plot.ly/plotly-latest.min']},});if(!window.Plotly) {{require(['plotly'],function(plotly) {window.Plotly=plotly;});}}</script>"
      ]
     },
     "metadata": {},
     "output_type": "display_data"
    }
   ],
   "source": [
    "families = pfam_get_list_of_families()"
   ]
  },
  {
   "cell_type": "code",
   "execution_count": 39,
   "metadata": {},
   "outputs": [],
   "source": [
    "pfam_download_family_xml_files(families)"
   ]
  },
  {
   "cell_type": "code",
   "execution_count": 102,
   "metadata": {},
   "outputs": [],
   "source": [
    "accessions = pfam_get_accessions(families)"
   ]
  },
  {
   "cell_type": "markdown",
   "metadata": {},
   "source": [
    "# Find list of PFAM \"Domains\" that match our criteria"
   ]
  },
  {
   "cell_type": "code",
   "execution_count": 127,
   "metadata": {},
   "outputs": [
    {
     "data": {
      "text/html": [
       "<script>requirejs.config({paths: { 'plotly': ['https://cdn.plot.ly/plotly-latest.min']},});if(!window.Plotly) {{require(['plotly'],function(plotly) {window.Plotly=plotly;});}}</script>"
      ],
      "text/vnd.plotly.v1+html": [
       "<script>requirejs.config({paths: { 'plotly': ['https://cdn.plot.ly/plotly-latest.min']},});if(!window.Plotly) {{require(['plotly'],function(plotly) {window.Plotly=plotly;});}}</script>"
      ]
     },
     "metadata": {},
     "output_type": "display_data"
    }
   ],
   "source": [
    "domain_accessions = pfam_find_domains_matching_criteria(accessions)"
   ]
  },
  {
   "cell_type": "code",
   "execution_count": 128,
   "metadata": {},
   "outputs": [
    {
     "data": {
      "text/plain": [
       "1845"
      ]
     },
     "execution_count": 128,
     "metadata": {},
     "output_type": "execute_result"
    }
   ],
   "source": [
    "len(domain_accessions)"
   ]
  },
  {
   "cell_type": "markdown",
   "metadata": {},
   "source": [
    "# Download seed and full alignments corresponding to the selected domains"
   ]
  },
  {
   "cell_type": "code",
   "execution_count": 191,
   "metadata": {},
   "outputs": [],
   "source": [
    "pfam_download_alignments(domain_accessions, \"seed\")"
   ]
  },
  {
   "cell_type": "code",
   "execution_count": null,
   "metadata": {},
   "outputs": [],
   "source": [
    "pfam_download_alignments(domain_accessions, \"full\")"
   ]
  },
  {
   "cell_type": "code",
   "execution_count": 200,
   "metadata": {},
   "outputs": [],
   "source": [
    "for accession in domain_accessions:\n",
    "    gzip_decompress(\"%s_full.aln.gz\" % accession)"
   ]
  },
  {
   "cell_type": "markdown",
   "metadata": {},
   "source": [
    "# Find the longest representative structure in each PFAM family"
   ]
  },
  {
   "cell_type": "code",
   "execution_count": 177,
   "metadata": {},
   "outputs": [
    {
     "data": {
      "text/html": [
       "<script>requirejs.config({paths: { 'plotly': ['https://cdn.plot.ly/plotly-latest.min']},});if(!window.Plotly) {{require(['plotly'],function(plotly) {window.Plotly=plotly;});}}</script>"
      ],
      "text/vnd.plotly.v1+html": [
       "<script>requirejs.config({paths: { 'plotly': ['https://cdn.plot.ly/plotly-latest.min']},});if(!window.Plotly) {{require(['plotly'],function(plotly) {window.Plotly=plotly;});}}</script>"
      ]
     },
     "metadata": {},
     "output_type": "display_data"
    }
   ],
   "source": [
    "structures = pfam_parse_pdb_file('pdb_pfamA_reg.txt')"
   ]
  },
  {
   "cell_type": "code",
   "execution_count": 222,
   "metadata": {},
   "outputs": [],
   "source": [
    "domain_structures = {}\n",
    "for accession in domain_accessions:\n",
    "    domain_structures[accession] = structures[accession]"
   ]
  },
  {
   "cell_type": "code",
   "execution_count": null,
   "metadata": {},
   "outputs": [],
   "source": [
    "longest_structures = pfam_find_longest_structure(domain_structures, download_pdbs=True)"
   ]
  },
  {
   "cell_type": "code",
   "execution_count": 235,
   "metadata": {},
   "outputs": [
    {
     "data": {
      "text/plain": [
       "1728"
      ]
     },
     "execution_count": 235,
     "metadata": {},
     "output_type": "execute_result"
    }
   ],
   "source": [
    "len(list(set([x[0] for x in longest_domains.values()])))"
   ]
  },
  {
   "cell_type": "markdown",
   "metadata": {},
   "source": [
    "# Create truncated versions of the pdbs corresponding to the longest domains"
   ]
  },
  {
   "cell_type": "code",
   "execution_count": 2,
   "metadata": {},
   "outputs": [],
   "source": [
    "families = pfam_get_list_of_families()"
   ]
  },
  {
   "cell_type": "code",
   "execution_count": 3,
   "metadata": {},
   "outputs": [],
   "source": [
    "accessions = pfam_get_accessions(families)"
   ]
  },
  {
   "cell_type": "code",
   "execution_count": 4,
   "metadata": {},
   "outputs": [],
   "source": [
    "domain_accessions = pfam_find_domains_matching_criteria(accessions)"
   ]
  },
  {
   "cell_type": "code",
   "execution_count": 5,
   "metadata": {},
   "outputs": [],
   "source": [
    "structures = pfam_parse_pdb_file('pdb_pfamA_reg.txt')"
   ]
  },
  {
   "cell_type": "code",
   "execution_count": 6,
   "metadata": {},
   "outputs": [],
   "source": [
    "domain_structures = {}\n",
    "for accession in domain_accessions:\n",
    "    domain_structures[accession] = structures[accession]"
   ]
  },
  {
   "cell_type": "code",
   "execution_count": null,
   "metadata": {},
   "outputs": [],
   "source": [
    "longest_domains, no_pdb_families = pfam_find_longest_structure(domain_structures, download_pdbs=True)"
   ]
  },
  {
   "cell_type": "code",
   "execution_count": 34,
   "metadata": {},
   "outputs": [
    {
     "data": {
      "text/plain": [
       "['PF08079', 'PF14204']"
      ]
     },
     "execution_count": 34,
     "metadata": {},
     "output_type": "execute_result"
    }
   ],
   "source": [
    "no_pdb_families"
   ]
  },
  {
   "cell_type": "code",
   "execution_count": 35,
   "metadata": {},
   "outputs": [],
   "source": [
    "# Remove those domains that don't have any structures available in PDB format\n",
    "for family in no_pdb_families:\n",
    "    domain_accessions.remove(family)\n",
    "    del domain_structures[family]"
   ]
  },
  {
   "cell_type": "code",
   "execution_count": 3,
   "metadata": {},
   "outputs": [],
   "source": [
    "# Save dictionaries and lists to files\n",
    "# pickle.dump(longest_domains, open(\"longest_domains.pkl\", \"wb\"))\n",
    "longest_domains = pickle.load(open(\"longest_domains.pkl\", \"rb\"))"
   ]
  },
  {
   "cell_type": "code",
   "execution_count": null,
   "metadata": {},
   "outputs": [],
   "source": [
    "io = PDBIO()\n",
    "for domain in longest_domains.values():\n",
    "    pdb_id, selected_chain, selected_start, selected_end = domain\n",
    "    selected_start = int(selected_start)\n",
    "    selected_end = int(selected_end)\n",
    "    structure = parse_pdb(\"%s\" % pdb_id)\n",
    "    structure_selector = pfam_is_in_structure_selection(selected_chain, selected_start, selected_end)\n",
    "    io.set_structure(structure)\n",
    "    io.save(\"%s%s_%d-%d.pdb\" % (pdb_id, selected_chain, selected_start, selected_end), select=structure_selector)"
   ]
  },
  {
   "cell_type": "code",
   "execution_count": 18,
   "metadata": {},
   "outputs": [],
   "source": [
    "too_short_structures = []\n",
    "for accession, domain in longest_domains.items():\n",
    "     length = int(domain[3]) - int(domain[2]) + 1\n",
    "     if length < 50:\n",
    "         too_short_structures.append(accession)\n",
    "            \n",
    "for accession in too_short_structures:\n",
    "    del longest_domains[accession]"
   ]
  },
  {
   "cell_type": "code",
   "execution_count": 19,
   "metadata": {},
   "outputs": [],
   "source": [
    "# Save dictionaries and lists to files\n",
    "pickle.dump(longest_domains, open(\"longest_domains.pkl\", \"wb\"))\n",
    "longest_domains = pickle.load(open(\"longest_domains.pkl\", \"rb\"))"
   ]
  },
  {
   "cell_type": "markdown",
   "metadata": {},
   "source": [
    "# Extract sequences from trimmed pdb structures and write to fasta formatted files"
   ]
  },
  {
   "cell_type": "code",
   "execution_count": 24,
   "metadata": {},
   "outputs": [],
   "source": [
    "for domain in longest_domains.values():\n",
    "    pdb_id, selected_chain, selected_start, selected_end = domain\n",
    "    structure = parse_pdb(\"%s%s_%d-%d\" % (pdb_id, selected_chain, int(selected_start), int(selected_end)))\n",
    "    sequence = get_sequence_from_structure(structure)\n",
    "    output_file = open(\"%s%s_%d-%d.fasta\" % (pdb_id, selected_chain, int(selected_start), int(selected_end)), \"w\")\n",
    "    output_file.write(\">%s%s_%d-%d\\n\" % (pdb_id, selected_chain, int(selected_start), int(selected_end)))\n",
    "    output_file.write(sequence)\n",
    "    output_file.close()"
   ]
  },
  {
   "cell_type": "markdown",
   "metadata": {},
   "source": [
    "# Download HMMs"
   ]
  },
  {
   "cell_type": "code",
   "execution_count": 26,
   "metadata": {},
   "outputs": [],
   "source": [
    "for accession, domain in longest_domains.items():\n",
    "    pfam_download_hmm(accession)"
   ]
  },
  {
   "cell_type": "markdown",
   "metadata": {},
   "source": [
    "# Align sequences extracted from structures to family using downloaded HMMs"
   ]
  },
  {
   "cell_type": "code",
   "execution_count": 89,
   "metadata": {},
   "outputs": [],
   "source": [
    "invalid_accessions = []\n",
    "for accession, domain in longest_domains.items():\n",
    "    pdb_id, selected_chain, selected_start, selected_end = domain\n",
    "    try:\n",
    "        pfam_align_sequence_to_family(\"%s%s_%s-%s.fasta\" % (pdb_id, selected_chain, selected_start, selected_end), accession)\n",
    "    except:\n",
    "        invalid_accessions.append(accession)"
   ]
  },
  {
   "cell_type": "code",
   "execution_count": 92,
   "metadata": {},
   "outputs": [],
   "source": [
    "# remove CA-only and EM structures\n",
    "for accession in invalid_accessions:\n",
    "    del longest_domains[accession] "
   ]
  },
  {
   "cell_type": "code",
   "execution_count": 13,
   "metadata": {},
   "outputs": [
    {
     "data": {
      "text/html": [
       "<script>requirejs.config({paths: { 'plotly': ['https://cdn.plot.ly/plotly-latest.min']},});if(!window.Plotly) {{require(['plotly'],function(plotly) {window.Plotly=plotly;});}}</script>"
      ],
      "text/vnd.plotly.v1+html": [
       "<script>requirejs.config({paths: { 'plotly': ['https://cdn.plot.ly/plotly-latest.min']},});if(!window.Plotly) {{require(['plotly'],function(plotly) {window.Plotly=plotly;});}}</script>"
      ]
     },
     "metadata": {},
     "output_type": "display_data"
    }
   ],
   "source": [
    "# Save dictionaries and lists to files\n",
    "#pickle.dump(longest_domains, open(\"longest_domains.pkl\", \"wb\"))\n",
    "longest_domains = pickle.load(open(\"longest_domains.pkl\", \"rb\"))"
   ]
  },
  {
   "cell_type": "code",
   "execution_count": 94,
   "metadata": {},
   "outputs": [
    {
     "data": {
      "text/plain": [
       "1815"
      ]
     },
     "execution_count": 94,
     "metadata": {},
     "output_type": "execute_result"
    }
   ],
   "source": [
    "len(longest_domains)"
   ]
  },
  {
   "cell_type": "markdown",
   "metadata": {},
   "source": [
    "# Build multiple sequence files for the PDB structures and exclude highly gapped sequences"
   ]
  },
  {
   "cell_type": "code",
   "execution_count": 40,
   "metadata": {},
   "outputs": [
    {
     "data": {
      "text/html": [
       "<script>requirejs.config({paths: { 'plotly': ['https://cdn.plot.ly/plotly-latest.min']},});if(!window.Plotly) {{require(['plotly'],function(plotly) {window.Plotly=plotly;});}}</script>"
      ],
      "text/vnd.plotly.v1+html": [
       "<script>requirejs.config({paths: { 'plotly': ['https://cdn.plot.ly/plotly-latest.min']},});if(!window.Plotly) {{require(['plotly'],function(plotly) {window.Plotly=plotly;});}}</script>"
      ]
     },
     "metadata": {},
     "output_type": "display_data"
    }
   ],
   "source": [
    "for accession, domain in longest_domains.items():\n",
    "    pdb_id, selected_chain, selected_start, selected_end = domain\n",
    "    pfam_filter_full_alignment_by_pdb_alignment(accession, \"%s%s_%s-%s.aln\" % (pdb_id, selected_chain, selected_start, selected_end), filter_percentage=0.05)"
   ]
  },
  {
   "cell_type": "markdown",
   "metadata": {},
   "source": [
    "# Collect information on each domain and the corresponding set of sequences"
   ]
  },
  {
   "cell_type": "code",
   "execution_count": 51,
   "metadata": {},
   "outputs": [],
   "source": [
    "# number of domains\n",
    "# lengths of domains\n",
    "# number of sequences\n",
    "# mean sequence entropies"
   ]
  },
  {
   "cell_type": "code",
   "execution_count": 42,
   "metadata": {},
   "outputs": [
    {
     "data": {
      "text/plain": [
       "1815"
      ]
     },
     "execution_count": 42,
     "metadata": {},
     "output_type": "execute_result"
    }
   ],
   "source": [
    "len(longest_domains)"
   ]
  },
  {
   "cell_type": "code",
   "execution_count": 44,
   "metadata": {},
   "outputs": [],
   "source": [
    "lengths_of_domains = []\n",
    "for domain in list(longest_domains.values()):\n",
    "    pdb_id, selected_chain, selected_start, selected_end = domain\n",
    "    structure = parse_pdb(\"%s%s_%d-%d\" % (pdb_id, selected_chain, int(selected_start), int(selected_end)))\n",
    "    sequence = get_sequence_from_structure(structure)\n",
    "    lengths_of_domains.append(len(sequence))"
   ]
  },
  {
   "cell_type": "code",
   "execution_count": 50,
   "metadata": {},
   "outputs": [],
   "source": [
    "num_sequences = []\n",
    "mean_sequence_entropies = []\n",
    "for domain in list(longest_domains.values()):\n",
    "    pdb_id, selected_chain, selected_start, selected_end = domain\n",
    "    # num_lines = count_lines_in_file(\"%s%s_%d-%d_filtered_0.05.seqs\" % (pdb_id, selected_chain, int(selected_start), int(selected_end)))\n",
    "    frequency_matrix, sequence_entropy, number_of_sequences, sequence_length, mean_sequence_entropy = compute_average_sequence_and_sequence_entropy(\"%s%s_%d-%d_filtered_0.05.seqs\" % (pdb_id, selected_chain, int(selected_start), int(selected_end)))\n",
    "    num_sequences.append(number_of_sequences)\n",
    "    mean_sequence_entropies.append(mean_sequence_entropy)"
   ]
  },
  {
   "cell_type": "code",
   "execution_count": 55,
   "metadata": {},
   "outputs": [
    {
     "data": {
      "text/html": [
       "<iframe id=\"igraph\" scrolling=\"no\" style=\"border:none;\" seamless=\"seamless\" src=\"https://plot.ly/~npschafer/4854.embed\" height=\"525px\" width=\"100%\"></iframe>"
      ],
      "text/plain": [
       "<plotly.tools.PlotlyDisplay object>"
      ]
     },
     "execution_count": 55,
     "metadata": {},
     "output_type": "execute_result"
    }
   ],
   "source": [
    "fig = plotly_histogram(lengths_of_domains)\n",
    "py.iplot(fig)"
   ]
  },
  {
   "cell_type": "code",
   "execution_count": 56,
   "metadata": {},
   "outputs": [
    {
     "data": {
      "text/html": [
       "<iframe id=\"igraph\" scrolling=\"no\" style=\"border:none;\" seamless=\"seamless\" src=\"https://plot.ly/~npschafer/4856.embed\" height=\"525px\" width=\"100%\"></iframe>"
      ],
      "text/plain": [
       "<plotly.tools.PlotlyDisplay object>"
      ]
     },
     "execution_count": 56,
     "metadata": {},
     "output_type": "execute_result"
    }
   ],
   "source": [
    "fig = plotly_histogram(num_sequences)\n",
    "py.iplot(fig)"
   ]
  },
  {
   "cell_type": "code",
   "execution_count": 57,
   "metadata": {},
   "outputs": [
    {
     "data": {
      "text/html": [
       "<iframe id=\"igraph\" scrolling=\"no\" style=\"border:none;\" seamless=\"seamless\" src=\"https://plot.ly/~npschafer/4858.embed\" height=\"525px\" width=\"100%\"></iframe>"
      ],
      "text/plain": [
       "<plotly.tools.PlotlyDisplay object>"
      ]
     },
     "execution_count": 57,
     "metadata": {},
     "output_type": "execute_result"
    }
   ],
   "source": [
    "fig = plotly_histogram(mean_sequence_entropies)\n",
    "py.iplot(fig)"
   ]
  },
  {
   "cell_type": "code",
   "execution_count": 81,
   "metadata": {},
   "outputs": [
    {
     "data": {
      "text/html": [
       "<script>requirejs.config({paths: { 'plotly': ['https://cdn.plot.ly/plotly-latest.min']},});if(!window.Plotly) {{require(['plotly'],function(plotly) {window.Plotly=plotly;});}}</script>"
      ],
      "text/vnd.plotly.v1+html": [
       "<script>requirejs.config({paths: { 'plotly': ['https://cdn.plot.ly/plotly-latest.min']},});if(!window.Plotly) {{require(['plotly'],function(plotly) {window.Plotly=plotly;});}}</script>"
      ]
     },
     "metadata": {},
     "output_type": "display_data"
    },
    {
     "data": {
      "text/html": [
       "<iframe id=\"igraph\" scrolling=\"no\" style=\"border:none;\" seamless=\"seamless\" src=\"https://plot.ly/~npschafer/4880.embed\" height=\"525px\" width=\"100%\"></iframe>"
      ],
      "text/plain": [
       "<plotly.tools.PlotlyDisplay object>"
      ]
     },
     "execution_count": 81,
     "metadata": {},
     "output_type": "execute_result"
    }
   ],
   "source": [
    "fig = plotly_scatter(num_sequences, mean_sequence_entropies)\n",
    "py.iplot(fig)"
   ]
  },
  {
   "cell_type": "code",
   "execution_count": 82,
   "metadata": {},
   "outputs": [
    {
     "data": {
      "text/html": [
       "<iframe id=\"igraph\" scrolling=\"no\" style=\"border:none;\" seamless=\"seamless\" src=\"https://plot.ly/~npschafer/4882.embed\" height=\"525px\" width=\"100%\"></iframe>"
      ],
      "text/plain": [
       "<plotly.tools.PlotlyDisplay object>"
      ]
     },
     "execution_count": 82,
     "metadata": {},
     "output_type": "execute_result"
    }
   ],
   "source": [
    "fig = plotly_scatter(lengths_of_domains,num_sequences, color=mean_sequence_entropies)\n",
    "py.iplot(fig)"
   ]
  },
  {
   "cell_type": "code",
   "execution_count": 66,
   "metadata": {},
   "outputs": [
    {
     "data": {
      "text/plain": [
       "13694819"
      ]
     },
     "execution_count": 66,
     "metadata": {},
     "output_type": "execute_result"
    }
   ],
   "source": [
    "# total number of sequences\n",
    "sum(num_sequences)"
   ]
  },
  {
   "cell_type": "code",
   "execution_count": 83,
   "metadata": {},
   "outputs": [
    {
     "data": {
      "text/plain": [
       "('PF00005', ('2VF8', 'B', '513', '762'))"
      ]
     },
     "execution_count": 83,
     "metadata": {},
     "output_type": "execute_result"
    }
   ],
   "source": [
    "# most number of sequences for a single domain\n",
    "list(longest_domains.items())[np.argmax(num_sequences)]"
   ]
  },
  {
   "cell_type": "code",
   "execution_count": 84,
   "metadata": {},
   "outputs": [
    {
     "data": {
      "text/plain": [
       "('PF00723', ('1ULV', 'A', '281', '956'))"
      ]
     },
     "execution_count": 84,
     "metadata": {},
     "output_type": "execute_result"
    }
   ],
   "source": [
    "# longest single domain\n",
    "list(longest_domains.items())[np.argmax(lengths_of_domains)]"
   ]
  },
  {
   "cell_type": "code",
   "execution_count": 85,
   "metadata": {},
   "outputs": [
    {
     "data": {
      "text/plain": [
       "4318"
      ]
     },
     "execution_count": 85,
     "metadata": {},
     "output_type": "execute_result"
    }
   ],
   "source": [
    "num_sequences[np.argmax(lengths_of_domains)]"
   ]
  },
  {
   "cell_type": "code",
   "execution_count": 91,
   "metadata": {},
   "outputs": [],
   "source": [
    "sorted_domains, sorted_lengths = sort_list_by_other_list(longest_domains.items(), lengths_of_domains)"
   ]
  },
  {
   "cell_type": "code",
   "execution_count": 95,
   "metadata": {},
   "outputs": [
    {
     "data": {
      "text/plain": [
       "[(419, ('PF00310', ('2VDC', 'F', '1', '419'))),\n",
       " (420, ('PF05577', ('4EBB', 'B', '38', '465'))),\n",
       " (421, ('PF02897', ('2XE4', 'A', '27', '447'))),\n",
       " (427, ('PF07517', ('3DIN', 'B', '1', '427'))),\n",
       " (429, ('PF00728', ('1QBB', 'A', '338', '766'))),\n",
       " (430, ('PF00006', ('1JVA', 'B', '279', '741'))),\n",
       " (433, ('PF01474', ('5EX4', 'B', '25', '457'))),\n",
       " (433, ('PF02347', ('1WYV', 'G', '1', '433'))),\n",
       " (435, ('PF02934', ('1ZQ1', 'D', '15', '449'))),\n",
       " (435, ('PF15902', ('3WSZ', 'A', '133', '586'))),\n",
       " (440, ('PF01979', ('2FVM', 'D', '53', '502'))),\n",
       " (441, ('PF01964', ('4S2A', 'A', '132', '576'))),\n",
       " (443, ('PF00152', ('4RMF', 'A', '116', '558'))),\n",
       " (451, ('PF01276', ('2VYC', 'J', '140', '590'))),\n",
       " (452, ('PF00580', ('4CEJ', 'A', '11', '462'))),\n",
       " (454, ('PF00450', ('1AC5', 'A', '15', '468'))),\n",
       " (454, ('PF00704', ('4TXG', 'A', '155', '608'))),\n",
       " (456, ('PF00145', ('4YOC', 'A', '1139', '1594'))),\n",
       " (456, ('PF00148', ('4WN9', 'C', '53', '508'))),\n",
       " (459, ('PF00067', ('5JLC', 'A', '57', '524'))),\n",
       " (460, ('PF01019', ('2E0W', 'B', '63', '574'))),\n",
       " (465, ('PF00232', ('4EK7', 'B', '18', '513'))),\n",
       " (468, ('PF01204', ('2WYN', 'D', '55', '533'))),\n",
       " (470, ('PF07969', ('5T5M', 'A', '40', '510'))),\n",
       " (480, ('PF01266', ('4REP', 'A', '3', '482'))),\n",
       " (481, ('PF06202', ('5D0F', 'B', '1037', '1517'))),\n",
       " (482, ('PF01532', ('1G6I', 'A', '45', '532'))),\n",
       " (485, ('PF00202', ('5DDW', 'D', '20', '509'))),\n",
       " (491, ('PF05221', ('5TLS', 'D', '4', '494'))),\n",
       " (493, ('PF07748', ('2WYI', 'B', '402', '897'))),\n",
       " (496, ('PF00245', ('3WBH', 'B', '3', '498'))),\n",
       " (497, ('PF00759', ('1UT9', 'A', '308', '808'))),\n",
       " (498, ('PF03200', ('4J5T', 'A', '285', '799'))),\n",
       " (498, ('PF04998', ('5M3M', 'A', '989', '1611'))),\n",
       " (501, ('PF07971', ('2WZS', 'H', '235', '735'))),\n",
       " (504, ('PF02446', ('4S3R', 'A', '148', '667'))),\n",
       " (516, ('PF00463', ('5E9H', 'B', '23', '545'))),\n",
       " (519, ('PF00135', ('3VKF', 'B', '52', '626'))),\n",
       " (519, ('PF00899', ('3GZN', 'C', '20', '540'))),\n",
       " (524, ('PF00342', ('3QKI', 'C', '49', '573'))),\n",
       " (539, ('PF01593', ('5LBQ', 'A', '288', '826'))),\n",
       " (543, ('PF05787', ('4AMF', 'B', '11', '553'))),\n",
       " (546, ('PF03098', ('5K1E', 'A', '21', '567'))),\n",
       " (548, ('PF00562', ('5IPN', 'C', '717', '1264'))),\n",
       " (549, ('PF00374', ('5D51', 'L', '53', '603'))),\n",
       " (555, ('PF02738', ('2W55', 'H', '135', '705'))),\n",
       " (639, ('PF00063', ('2X51', 'A', '59', '760'))),\n",
       " (642, ('PF03028', ('3VKH', 'B', '4007', '4725'))),\n",
       " (656, ('PF00305', ('5EEO', 'A', '157', '822'))),\n",
       " (676, ('PF00723', ('1ULV', 'A', '281', '956')))]"
      ]
     },
     "execution_count": 95,
     "metadata": {},
     "output_type": "execute_result"
    }
   ],
   "source": [
    "list(zip(sorted_lengths[-50:], sorted_domains[-50:]))"
   ]
  },
  {
   "cell_type": "code",
   "execution_count": null,
   "metadata": {},
   "outputs": [],
   "source": []
  }
 ],
 "metadata": {
  "kernelspec": {
   "display_name": "Python 3",
   "language": "python",
   "name": "python3"
  },
  "language_info": {
   "codemirror_mode": {
    "name": "ipython",
    "version": 3
   },
   "file_extension": ".py",
   "mimetype": "text/x-python",
   "name": "python",
   "nbconvert_exporter": "python",
   "pygments_lexer": "ipython3",
   "version": "3.6.8"
  }
 },
 "nbformat": 4,
 "nbformat_minor": 2
}
