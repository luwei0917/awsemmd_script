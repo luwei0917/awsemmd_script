{
 "cells": [
  {
   "cell_type": "code",
   "execution_count": 251,
   "metadata": {},
   "outputs": [
    {
     "name": "stdout",
     "output_type": "stream",
     "text": [
      "The autoreload extension is already loaded. To reload it, use:\n",
      "  %reload_ext autoreload\n"
     ]
    }
   ],
   "source": [
    "import numpy as np\n",
    "import pandas as pd\n",
    "import matplotlib.pyplot as plt\n",
    "import seaborn as sns\n",
    "import datetime\n",
    "import os\n",
    "# from small_script.myFunctions import *\n",
    "\n",
    "\n",
    "\n",
    "%matplotlib inline\n",
    "%load_ext autoreload\n",
    "%autoreload 2"
   ]
  },
  {
   "cell_type": "code",
   "execution_count": 253,
   "metadata": {},
   "outputs": [],
   "source": [
    "plt.rcParams['figure.figsize'] = [16.18033, 10]    #golden ratio\n",
    "plt.rcParams['figure.facecolor'] = 'w'\n",
    "plt.rcParams['figure.dpi'] = 100"
   ]
  },
  {
   "cell_type": "code",
   "execution_count": 3,
   "metadata": {},
   "outputs": [],
   "source": [
    "data = pd.read_csv(\"/Users/weilu/Research/database/membrane_training_set/proteins-2019-05-01.csv\")\n",
    "data.pdbid = data.pdbid.apply(lambda x: x[2:-1])"
   ]
  },
  {
   "cell_type": "code",
   "execution_count": 23,
   "metadata": {},
   "outputs": [
    {
     "data": {
      "text/html": [
       "<div>\n",
       "<style scoped>\n",
       "    .dataframe tbody tr th:only-of-type {\n",
       "        vertical-align: middle;\n",
       "    }\n",
       "\n",
       "    .dataframe tbody tr th {\n",
       "        vertical-align: top;\n",
       "    }\n",
       "\n",
       "    .dataframe thead th {\n",
       "        text-align: right;\n",
       "    }\n",
       "</style>\n",
       "<table border=\"1\" class=\"dataframe\">\n",
       "  <thead>\n",
       "    <tr style=\"text-align: right;\">\n",
       "      <th></th>\n",
       "      <th>id</th>\n",
       "      <th>ordering</th>\n",
       "      <th>family_name_cache</th>\n",
       "      <th>species_name_cache</th>\n",
       "      <th>membrane_name_cache</th>\n",
       "      <th>name</th>\n",
       "      <th>description</th>\n",
       "      <th>comments</th>\n",
       "      <th>pdbid</th>\n",
       "      <th>resolution</th>\n",
       "      <th>...</th>\n",
       "      <th>species_id</th>\n",
       "      <th>family_id</th>\n",
       "      <th>superfamily_id</th>\n",
       "      <th>classtype_id</th>\n",
       "      <th>type_id</th>\n",
       "      <th>secondary_representations_count</th>\n",
       "      <th>structure_subunits_count</th>\n",
       "      <th>citations_count</th>\n",
       "      <th>created_at</th>\n",
       "      <th>updated_at</th>\n",
       "    </tr>\n",
       "  </thead>\n",
       "  <tbody>\n",
       "    <tr>\n",
       "      <th>0</th>\n",
       "      <td>1</td>\n",
       "      <td>2024.0</td>\n",
       "      <td>OmpA family</td>\n",
       "      <td>Escherichia coli</td>\n",
       "      <td>Gram-neg. outer</td>\n",
       "      <td>Outer membrane protein A (OMPA), disordered loops</td>\n",
       "      <td>NaN</td>\n",
       "      <td>OmpA is required for the action of colicins K ...</td>\n",
       "      <td>1qjp</td>\n",
       "      <td>1.65</td>\n",
       "      <td>...</td>\n",
       "      <td>9</td>\n",
       "      <td>34</td>\n",
       "      <td>26</td>\n",
       "      <td>2</td>\n",
       "      <td>1</td>\n",
       "      <td>3</td>\n",
       "      <td>1</td>\n",
       "      <td>2</td>\n",
       "      <td>2018-08-13 03:49:46 UTC</td>\n",
       "      <td>2018-09-21 18:14:03 UTC</td>\n",
       "    </tr>\n",
       "    <tr>\n",
       "      <th>1</th>\n",
       "      <td>2</td>\n",
       "      <td>2028.0</td>\n",
       "      <td>Enterobacterial Ail/Lom protein</td>\n",
       "      <td>Escherichia coli</td>\n",
       "      <td>Gram-neg. outer</td>\n",
       "      <td>Outer membrane protein X (OMPX)</td>\n",
       "      <td>NaN</td>\n",
       "      <td>OmpX from Escherichia coli promotes adhesion t...</td>\n",
       "      <td>1qj8</td>\n",
       "      <td>1.90</td>\n",
       "      <td>...</td>\n",
       "      <td>9</td>\n",
       "      <td>355</td>\n",
       "      <td>26</td>\n",
       "      <td>2</td>\n",
       "      <td>1</td>\n",
       "      <td>7</td>\n",
       "      <td>1</td>\n",
       "      <td>1</td>\n",
       "      <td>2018-08-13 03:49:46 UTC</td>\n",
       "      <td>2018-09-21 18:14:03 UTC</td>\n",
       "    </tr>\n",
       "    <tr>\n",
       "      <th>2</th>\n",
       "      <td>3</td>\n",
       "      <td>2033.0</td>\n",
       "      <td>Opacity porins</td>\n",
       "      <td>Neisseria meningitidis</td>\n",
       "      <td>Gram-neg. outer</td>\n",
       "      <td>Outer membrane protein NspA</td>\n",
       "      <td>NaN</td>\n",
       "      <td>Pathogenic Neisseria spp. possess a repertoire...</td>\n",
       "      <td>1p4t</td>\n",
       "      <td>2.55</td>\n",
       "      <td>...</td>\n",
       "      <td>24</td>\n",
       "      <td>337</td>\n",
       "      <td>235</td>\n",
       "      <td>2</td>\n",
       "      <td>1</td>\n",
       "      <td>0</td>\n",
       "      <td>1</td>\n",
       "      <td>0</td>\n",
       "      <td>2018-08-13 03:49:46 UTC</td>\n",
       "      <td>2018-09-21 18:14:03 UTC</td>\n",
       "    </tr>\n",
       "    <tr>\n",
       "      <th>3</th>\n",
       "      <td>4</td>\n",
       "      <td>1740.0</td>\n",
       "      <td>Influenza virus matrix protein 2</td>\n",
       "      <td>Influenza virus</td>\n",
       "      <td>Viral</td>\n",
       "      <td>M2 proton channel of Influenza A, closed state...</td>\n",
       "      <td>NaN</td>\n",
       "      <td>NaN</td>\n",
       "      <td>3lbw</td>\n",
       "      <td>1.65</td>\n",
       "      <td>...</td>\n",
       "      <td>51</td>\n",
       "      <td>263</td>\n",
       "      <td>185</td>\n",
       "      <td>11</td>\n",
       "      <td>1</td>\n",
       "      <td>3</td>\n",
       "      <td>4</td>\n",
       "      <td>0</td>\n",
       "      <td>2018-08-13 03:49:46 UTC</td>\n",
       "      <td>2018-10-02 17:42:36 UTC</td>\n",
       "    </tr>\n",
       "    <tr>\n",
       "      <th>4</th>\n",
       "      <td>5</td>\n",
       "      <td>2045.0</td>\n",
       "      <td>OM protease omptin, OMPT</td>\n",
       "      <td>Yersinia pestis</td>\n",
       "      <td>Gram-neg. outer</td>\n",
       "      <td>Plasminogen activator PLA (coagulase/fibrinoly...</td>\n",
       "      <td>NaN</td>\n",
       "      <td>NaN</td>\n",
       "      <td>2x55</td>\n",
       "      <td>1.85</td>\n",
       "      <td>...</td>\n",
       "      <td>299</td>\n",
       "      <td>36</td>\n",
       "      <td>27</td>\n",
       "      <td>2</td>\n",
       "      <td>1</td>\n",
       "      <td>2</td>\n",
       "      <td>1</td>\n",
       "      <td>0</td>\n",
       "      <td>2018-08-13 03:49:46 UTC</td>\n",
       "      <td>2018-09-21 18:14:03 UTC</td>\n",
       "    </tr>\n",
       "  </tbody>\n",
       "</table>\n",
       "<p>5 rows × 31 columns</p>\n",
       "</div>"
      ],
      "text/plain": [
       "   id  ordering                 family_name_cache      species_name_cache  \\\n",
       "0   1    2024.0                       OmpA family        Escherichia coli   \n",
       "1   2    2028.0   Enterobacterial Ail/Lom protein        Escherichia coli   \n",
       "2   3    2033.0                    Opacity porins  Neisseria meningitidis   \n",
       "3   4    1740.0  Influenza virus matrix protein 2         Influenza virus   \n",
       "4   5    2045.0          OM protease omptin, OMPT         Yersinia pestis   \n",
       "\n",
       "  membrane_name_cache                                               name  \\\n",
       "0     Gram-neg. outer  Outer membrane protein A (OMPA), disordered loops   \n",
       "1     Gram-neg. outer                    Outer membrane protein X (OMPX)   \n",
       "2     Gram-neg. outer                        Outer membrane protein NspA   \n",
       "3               Viral  M2 proton channel of Influenza A, closed state...   \n",
       "4     Gram-neg. outer  Plasminogen activator PLA (coagulase/fibrinoly...   \n",
       "\n",
       "  description                                           comments pdbid  \\\n",
       "0         NaN  OmpA is required for the action of colicins K ...  1qjp   \n",
       "1         NaN  OmpX from Escherichia coli promotes adhesion t...  1qj8   \n",
       "2         NaN  Pathogenic Neisseria spp. possess a repertoire...  1p4t   \n",
       "3         NaN                                                NaN  3lbw   \n",
       "4         NaN                                                NaN  2x55   \n",
       "\n",
       "  resolution  ... species_id  family_id  superfamily_id  classtype_id  \\\n",
       "0       1.65  ...          9         34              26             2   \n",
       "1       1.90  ...          9        355              26             2   \n",
       "2       2.55  ...         24        337             235             2   \n",
       "3       1.65  ...         51        263             185            11   \n",
       "4       1.85  ...        299         36              27             2   \n",
       "\n",
       "   type_id  secondary_representations_count  structure_subunits_count  \\\n",
       "0        1                                3                         1   \n",
       "1        1                                7                         1   \n",
       "2        1                                0                         1   \n",
       "3        1                                3                         4   \n",
       "4        1                                2                         1   \n",
       "\n",
       "   citations_count               created_at               updated_at  \n",
       "0                2  2018-08-13 03:49:46 UTC  2018-09-21 18:14:03 UTC  \n",
       "1                1  2018-08-13 03:49:46 UTC  2018-09-21 18:14:03 UTC  \n",
       "2                0  2018-08-13 03:49:46 UTC  2018-09-21 18:14:03 UTC  \n",
       "3                0  2018-08-13 03:49:46 UTC  2018-10-02 17:42:36 UTC  \n",
       "4                0  2018-08-13 03:49:46 UTC  2018-09-21 18:14:03 UTC  \n",
       "\n",
       "[5 rows x 31 columns]"
      ]
     },
     "execution_count": 23,
     "metadata": {},
     "output_type": "execute_result"
    }
   ],
   "source": [
    "data.head()"
   ]
  },
  {
   "cell_type": "code",
   "execution_count": 24,
   "metadata": {},
   "outputs": [
    {
     "data": {
      "text/plain": [
       "(120,)"
      ]
     },
     "execution_count": 24,
     "metadata": {},
     "output_type": "execute_result"
    }
   ],
   "source": [
    "data.query(\"classtype_id == 1\")[\"superfamily_id\"].unique().shape"
   ]
  },
  {
   "cell_type": "markdown",
   "metadata": {},
   "source": [
    "# class 1 is Alpha-helical polytopic"
   ]
  },
  {
   "cell_type": "code",
   "execution_count": 25,
   "metadata": {},
   "outputs": [],
   "source": [
    "d = data.query(\"classtype_id == 1\")"
   ]
  },
  {
   "cell_type": "code",
   "execution_count": 27,
   "metadata": {},
   "outputs": [],
   "source": [
    "dd = d.groupby(\"superfamily_id\").apply(pd.DataFrame.sample, 1).reset_index(drop=True)"
   ]
  },
  {
   "cell_type": "code",
   "execution_count": 32,
   "metadata": {},
   "outputs": [],
   "source": [
    "dd.to_csv(\"/Users/weilu/Research/database/membrane_training_set/chosen.csv\")"
   ]
  },
  {
   "cell_type": "code",
   "execution_count": 137,
   "metadata": {},
   "outputs": [
    {
     "data": {
      "text/plain": [
       "(120, 31)"
      ]
     },
     "execution_count": 137,
     "metadata": {},
     "output_type": "execute_result"
    }
   ],
   "source": [
    "dd.shape"
   ]
  },
  {
   "cell_type": "code",
   "execution_count": 28,
   "metadata": {},
   "outputs": [],
   "source": [
    "test = dd.sample(10)"
   ]
  },
  {
   "cell_type": "code",
   "execution_count": 31,
   "metadata": {},
   "outputs": [
    {
     "name": "stdout",
     "output_type": "stream",
     "text": [
      "['6c70', '5azb', '6mlu', '4r1i', '6bvg', '4zr1', '5o5e', '1lv7', '6eu6', '4pgr']\n"
     ]
    }
   ],
   "source": [
    "print(test.pdbid.tolist())"
   ]
  },
  {
   "cell_type": "code",
   "execution_count": null,
   "metadata": {},
   "outputs": [],
   "source": [
    "pd.DataFrame.sample"
   ]
  },
  {
   "cell_type": "code",
   "execution_count": 9,
   "metadata": {},
   "outputs": [],
   "source": [
    "t = data[\"superfamily_id\"]"
   ]
  },
  {
   "cell_type": "code",
   "execution_count": null,
   "metadata": {},
   "outputs": [],
   "source": [
    "t.unique()"
   ]
  },
  {
   "cell_type": "code",
   "execution_count": null,
   "metadata": {},
   "outputs": [],
   "source": [
    "pdb_list = dd.pdbid.tolist()\n",
    "for pdb in pdb_list:\n",
    "    location = pre + f\"../Alpha-helical_polytopic/{pdb}.pdb\"\n",
    "    a = get_inside_or_not_table(location)\n",
    "    ratio = sum(a)/len(a)\n",
    "    if ratio < 0.4:\n",
    "        print(\"not good\", pdb, ratio)\n",
    "    print(pdb, ratio)"
   ]
  },
  {
   "cell_type": "markdown",
   "metadata": {},
   "source": [
    "# extract transmembrane region."
   ]
  },
  {
   "cell_type": "code",
   "execution_count": 60,
   "metadata": {},
   "outputs": [],
   "source": [
    "from Bio.PDB.PDBParser import PDBParser\n",
    "from Bio.PDB.Polypeptide import PPBuilder\n",
    "def get_inside_or_not_table(pdb_file):\n",
    "    parser = PDBParser(PERMISSIVE=1,QUIET=True)\n",
    "    try:\n",
    "        structure = parser.get_structure('X', pdb_file)\n",
    "    except:\n",
    "        return [0]\n",
    "    inside_or_not_table = []\n",
    "    for res in structure.get_residues():\n",
    "        if res.get_id()[0] != \" \":\n",
    "            continue# skip\n",
    "        try:\n",
    "            res[\"CA\"].get_vector()\n",
    "        except:\n",
    "            print(pdb_file, res.get_id())\n",
    "            continue\n",
    "        inside_or_not_table.append(int(abs(res[\"CA\"].get_vector()[-1]) < 15))\n",
    "    return inside_or_not_table"
   ]
  },
  {
   "cell_type": "code",
   "execution_count": 227,
   "metadata": {},
   "outputs": [
    {
     "name": "stdout",
     "output_type": "stream",
     "text": [
      "not good 5lcb 0.059322033898305086\n",
      "not good 6f0k 0.20447284345047922\n",
      "not good 6adq 0.3028542980418188\n",
      "not good 6c6l 0.38793694311172033\n",
      "not good 5gjw 0.26644245142002987\n",
      "not good 2oau 0.1512935883014623\n",
      "/Users/weilu/Research/database/membrane_training_set/../Alpha-helical_polytopic/4y7k.pdb (' ', 240, ' ')\n",
      "not good 4y7k 0.22615131578947367\n",
      "not good 5kxi 0.23055555555555557\n",
      "not good 6ajg 0.30777777777777776\n",
      "not good 6fn4 0.21591871295512277\n",
      "not good 5ksd 0.2665066026410564\n",
      "not good 6cxh 0.3080110497237569\n",
      "not good 1p49 0.09124087591240876\n",
      "not good 4i0u 0.11734104046242774\n",
      "not good 3bpp 0.0\n",
      "not good 1kn9 0.004273504273504274\n",
      "not good 2hi7 0.2701863354037267\n",
      "not good 2yvx 0.2748868778280543\n",
      "not good 5svl 0.16516516516516516\n",
      "not good 6akg 0.2857142857142857\n",
      "not good 6el1 0.09209370424597364\n",
      "not good 6al2 0.27892561983471076\n",
      "not good 2bhv 0.010582010582010581\n",
      "not good 3rce 0.39855072463768115\n",
      "not good 6idf 0.32501834189288337\n",
      "not good 6g72 0.22000248169748107\n",
      "not good 4jza 0.0\n",
      "not good 5iji 0.18061674008810572\n",
      "not good 1lv7 0.00398406374501992\n",
      "not good 6nsj 0.0\n",
      "not good 3b8n 0.0\n",
      "not good 3pjv 0.008032128514056224\n",
      "not good 4p02 0.19305856832971802\n",
      "not good 5oyb 0.3043175487465181\n",
      "not good 6n28 0.2514792899408284\n",
      "not good 4o9u 0.26803551609322973\n",
      "not good 5eke 0.18319327731092436\n",
      "not good 5sy1 0.3792866941015089\n",
      "not good 5zfp 0.30167173252279633\n",
      "not good 5uph 0.0\n",
      "not good 5mlz 0.28732394366197184\n",
      "not good 5v7v 0.021207177814029365\n",
      "not good 6bml 0.3972602739726027\n",
      "not good 6f2d 0.19521178637200737\n",
      "not good 6c5w 0.1693227091633466\n",
      "not good 6mlu 0.07516339869281045\n",
      "not good 6nt6 0.29136690647482016\n",
      "not good 6m97 0.0\n",
      "not good 6mct 0.0\n"
     ]
    }
   ],
   "source": [
    "pre = \"/Users/weilu/Research/database/membrane_training_set/\"\n",
    "filtered_list = []\n",
    "for pdb in pdb_list:\n",
    "    location = pre + f\"../Alpha-helical_polytopic/{pdb}.pdb\"\n",
    "    a = get_inside_or_not_table(location)\n",
    "    ratio = sum(a)/len(a)\n",
    "    if ratio < 0.4:\n",
    "        print(\"not good\", pdb, ratio)\n",
    "    else:\n",
    "        filtered_list.append(pdb)\n",
    "    # print(pdb, ratio)"
   ]
  },
  {
   "cell_type": "code",
   "execution_count": 228,
   "metadata": {},
   "outputs": [
    {
     "data": {
      "text/plain": [
       "71"
      ]
     },
     "execution_count": 228,
     "metadata": {},
     "output_type": "execute_result"
    }
   ],
   "source": [
    "len(filtered_list)"
   ]
  },
  {
   "cell_type": "code",
   "execution_count": 229,
   "metadata": {},
   "outputs": [],
   "source": [
    "pdb_list = filtered_list"
   ]
  },
  {
   "cell_type": "code",
   "execution_count": 231,
   "metadata": {},
   "outputs": [
    {
     "name": "stdout",
     "output_type": "stream",
     "text": [
      "['6aky', '1j4n', '1kpl', '6eu6', '4j05', '4nv6', '2zjs', '6gct', '2c3e', '4b4a', '4llh', '5y79', '5oc0', '3fi1', '4m58', '4a2n', '4uc1', '4qo2', '2q7r', '3h90', '3b4r', '2kdc', '2ksf', '3m73', '2m67', '5t77', '6bvg', '6bbg', '5vkv', '6d9z', '4r1i', '5tcx', '4quv', '4qtn', '5hwy', '3tij', '4av3', '2lop', '2lor', '2lom', '4il3', '3zd0', '5o5e', '4od5', '4o6m', '4pgr', '5jwy', '2mpn', '4q2e', '4x5m', '2mmu', '4rp9', '4zr1', '5a40', '4xu4', '5azb', '5dir', '5wud', '5n6h', '5vre', '5tsa', '5xj5', '6b87', '6cb2', '5zug', '6c70', '6bug', '6bar', '6bhp', '4cad', '6iu3']\n"
     ]
    }
   ],
   "source": [
    "print(pdb_list)"
   ]
  },
  {
   "cell_type": "code",
   "execution_count": 230,
   "metadata": {},
   "outputs": [],
   "source": [
    "def extractTransmembrane(toLocation, location):\n",
    "    x = PDBParser().get_structure(\"x\", location)\n",
    "    class Transmembrane(Select):\n",
    "        def accept_residue(self, residue):\n",
    "            if abs(residue[\"CA\"].get_vector()[-1]) < 15:\n",
    "                return 1\n",
    "            else:\n",
    "                return 0\n",
    "\n",
    "    io = PDBIO()\n",
    "    io.set_structure(x)\n",
    "    io.save(toLocation, Transmembrane())\n",
    "\n",
    "def getSeqFromPDB(location, considerGap=True):\n",
    "    x = PDBParser().get_structure(\"x\", location)\n",
    "    seq = \"\"\n",
    "    resseqs = []\n",
    "    preResId = 0\n",
    "    for res in x.get_residues():\n",
    "        resId = res.get_id()[1]\n",
    "        if considerGap and resId != preResId + 1:\n",
    "            seq += \" \"\n",
    "            resseqs.append(-1)\n",
    "        seq += three_to_one(res.get_resname())\n",
    "        resseqs.append(res.get_id()[1])\n",
    "        preResId = resId\n",
    "    return seq,resseqs"
   ]
  },
  {
   "cell_type": "code",
   "execution_count": 232,
   "metadata": {},
   "outputs": [],
   "source": [
    "for pdb in pdb_list:\n",
    "    pre = \"/Users/weilu/Research/database/membrane_training_set/\"\n",
    "    toLocation = pre + f\"transmembrane/{pdb}.pdb\"\n",
    "    location = pre + f\"cleaned_pdbs/{pdb}.pdb\"\n",
    "    extractTransmembrane(toLocation, location)"
   ]
  },
  {
   "cell_type": "code",
   "execution_count": 233,
   "metadata": {
    "collapsed": true
   },
   "outputs": [
    {
     "name": "stdout",
     "output_type": "stream",
     "text": [
      "6aky\n",
      "1j4n\n",
      "1kpl\n",
      "6eu6\n",
      "4j05\n",
      "4nv6\n",
      "2zjs\n",
      "6gct\n",
      "2c3e\n",
      "4b4a\n",
      "4llh\n",
      "5y79\n",
      "5oc0\n",
      "3fi1\n",
      "4m58\n",
      "4a2n\n",
      "4uc1\n",
      "4qo2\n",
      "2q7r\n",
      "3h90\n",
      "3b4r\n",
      "2kdc\n",
      "2ksf\n",
      "3m73\n",
      "2m67\n",
      "5t77\n",
      "6bvg\n",
      "6bbg\n",
      "5vkv\n",
      "6d9z\n",
      "4r1i\n",
      "5tcx\n",
      "4quv\n",
      "4qtn\n",
      "5hwy\n",
      "3tij\n",
      "4av3\n",
      "2lop\n",
      "2lor\n",
      "2lom\n",
      "4il3\n",
      "3zd0\n",
      "5o5e\n",
      "4od5\n",
      "4o6m\n",
      "4pgr\n",
      "5jwy\n",
      "2mpn\n",
      "4q2e\n",
      "4x5m\n",
      "2mmu\n",
      "4rp9\n",
      "4zr1\n",
      "5a40\n",
      "4xu4\n",
      "5azb\n",
      "5dir\n",
      "5wud\n",
      "5n6h\n",
      "5vre\n",
      "5tsa\n",
      "5xj5\n",
      "6b87\n",
      "6cb2\n",
      "5zug\n",
      "6c70\n",
      "6bug\n",
      "6bar\n",
      "6bhp\n",
      "4cad\n",
      "6iu3\n"
     ]
    }
   ],
   "source": [
    "with open(\"/Users/weilu/Research/server/may_2019/four_body_helix/optimization/protein_list\", \"w\") as out:\n",
    "    for pdb in pdb_list:\n",
    "        print(pdb)\n",
    "        out.write(pdb+\"\\n\")"
   ]
  },
  {
   "cell_type": "code",
   "execution_count": 236,
   "metadata": {},
   "outputs": [],
   "source": [
    "for pdb in pdb_list:\n",
    "    location = f\"/Users/weilu/Research/server/may_2019/four_body_helix/database/dompdb/{pdb}.pdb\"\n",
    "    toLocation = f\"/Users/weilu/Research/server/may_2019/four_body_helix/database/S20_seq/{pdb}.seq\"\n",
    "    seq,resseqs = getSeqFromPDB(location, considerGap=False)\n",
    "    with open(toLocation, \"w\") as out:\n",
    "        out.write(seq+'\\n')"
   ]
  },
  {
   "cell_type": "code",
   "execution_count": 238,
   "metadata": {},
   "outputs": [
    {
     "name": "stdout",
     "output_type": "stream",
     "text": [
      "not good 6bug 0.0\n"
     ]
    }
   ],
   "source": [
    "# pre = \"/Users/weilu/Research/database/membrane_training_set/\"\n",
    "filtered_list = []\n",
    "for pdb in pdb_list:\n",
    "    location = f\"/Users/weilu/Research/server/may_2019/four_body_helix/database/dompdb/{pdb}.pdb\"\n",
    "    a = get_inside_or_not_table(location)\n",
    "    ratio = sum(a)/(len(a)+1e-6)\n",
    "    if ratio < 0.4:\n",
    "        print(\"not good\", pdb, ratio)\n",
    "    else:\n",
    "        filtered_list.append(pdb)\n",
    "    # print(pdb, ratio)"
   ]
  },
  {
   "cell_type": "code",
   "execution_count": 245,
   "metadata": {},
   "outputs": [],
   "source": [
    "pre = '/Users/weilu/Research/server/may_2019/four_body_helix/optimization/'\n",
    "location = pre + \"gammas/protein_list_phi_six_letter_four_body_helix_docking3.5_6.5_5.0_10_True_gamma\"\n",
    "gamma_k1000 = np.loadtxt(location)\n",
    "\n",
    "pre = '/Users/weilu/Research/server/may_2019/four_body_helix_repeat_n_decoys2000/optimization/'\n",
    "location = pre + \"gammas/protein_list_phi_six_letter_four_body_helix_docking3.5_6.5_5.0_10_True_gamma\"\n",
    "gamma_k2000 = np.loadtxt(location)\n",
    "\n",
    "pre = '/Users/weilu/Research/server/may_2019/four_body_helix_repeat_n_decoys4000/optimization/'\n",
    "location = pre + \"gammas/protein_list_phi_six_letter_four_body_helix_docking3.5_6.5_5.0_10_True_gamma\"\n",
    "gamma_k4000 = np.loadtxt(location)\n",
    "\n",
    "pre = '/Users/weilu/Research/server/may_2019/four_body_helix_repeat_n_decoys8000/optimization/'\n",
    "location = pre + \"gammas/protein_list_phi_six_letter_four_body_helix_docking3.5_6.5_5.0_10_True_gamma\"\n",
    "gamma_k8000 = np.loadtxt(location)\n",
    "\n",
    "pre = '/Users/weilu/Research/server/may_2019/four_body_helix_repeat_n_decoys8000/optimization/'\n",
    "location = pre + \"gammas/protein_list_phi_six_letter_four_body_helix_docking3.5_6.5_5.0_10_True_gamma_filtered\"\n",
    "gamma_k8000_f = np.loadtxt(location)\n"
   ]
  },
  {
   "cell_type": "code",
   "execution_count": 277,
   "metadata": {},
   "outputs": [],
   "source": [
    "pre = '/Users/weilu/Research/server/may_2019/four_body_helix_repeat_n_decoys8000/optimization/'\n",
    "location = pre + \"gammas/protein_list_phi_six_letter_four_body_helix_docking3.5_6.5_5.0_10_True_A\"\n",
    "A = np.loadtxt(location)\n",
    "\n",
    "location = pre + \"gammas/protein_list_phi_six_letter_four_body_helix_docking3.5_6.5_5.0_10_True_A_prime\"\n",
    "A_prime = np.loadtxt(location)\n",
    "\n",
    "location = pre + \"gammas/protein_list_phi_six_letter_four_body_helix_docking3.5_6.5_5.0_10_True_B\"\n",
    "B = np.loadtxt(location)"
   ]
  },
  {
   "cell_type": "code",
   "execution_count": 319,
   "metadata": {},
   "outputs": [],
   "source": [
    "def getNewGamma(pre):\n",
    "    location = pre + \"gammas/protein_list_phi_six_letter_four_body_helix_docking3.5_6.5_5.0_10_True_A\"\n",
    "    A = np.loadtxt(location)\n",
    "\n",
    "    location = pre + \"gammas/protein_list_phi_six_letter_four_body_helix_docking3.5_6.5_5.0_10_True_A_prime\"\n",
    "    A_prime = np.loadtxt(location)\n",
    "\n",
    "    location = pre + \"gammas/protein_list_phi_six_letter_four_body_helix_docking3.5_6.5_5.0_10_True_B\"\n",
    "    B = np.loadtxt(location)\n",
    "    B_inv = np.linalg.inv(B)\n",
    "    gamma_new = B_inv.dot(A-A_prime*(A_prime.dot(B_inv).dot(A)-A.dot(B_inv).dot(A))/(A_prime.dot(B_inv).dot(A_prime)-A.dot(B_inv).dot(A_prime)))\n",
    "    return gamma_new"
   ]
  },
  {
   "cell_type": "code",
   "execution_count": 320,
   "metadata": {},
   "outputs": [],
   "source": [
    "pre = '/Users/weilu/Research/server/may_2019/four_body_helix_repeat_n_decoys4000/optimization/'\n",
    "k4000_new = getNewGamma(pre)"
   ]
  },
  {
   "cell_type": "code",
   "execution_count": 333,
   "metadata": {},
   "outputs": [],
   "source": [
    "pre = '/Users/weilu/Research/server/may_2019/four_body_helix_use_cb/optimization/'\n",
    "location = pre + \"gammas/protein_list_phi_six_letter_four_body_helix_docking3.5_6.5_5.0_6_True_gamma\"\n",
    "gamma_cb = np.loadtxt(location)"
   ]
  },
  {
   "cell_type": "code",
   "execution_count": 290,
   "metadata": {},
   "outputs": [],
   "source": [
    "B_inv = np.linalg.inv(B)\n",
    "gamma_new = B_inv.dot(A-A_prime*(A_prime.dot(B_inv).dot(A)-A.dot(B_inv).dot(A))/(A_prime.dot(B_inv).dot(A_prime)-A.dot(B_inv).dot(A_prime)))"
   ]
  },
  {
   "cell_type": "code",
   "execution_count": 292,
   "metadata": {},
   "outputs": [
    {
     "data": {
      "text/plain": [
       "0.4956157983723786"
      ]
     },
     "execution_count": 292,
     "metadata": {},
     "output_type": "execute_result"
    }
   ],
   "source": [
    "np.mean(gamma_new)"
   ]
  },
  {
   "cell_type": "code",
   "execution_count": 312,
   "metadata": {},
   "outputs": [
    {
     "data": {
      "text/plain": [
       "-0.5763359523809523"
      ]
     },
     "execution_count": 312,
     "metadata": {},
     "output_type": "execute_result"
    }
   ],
   "source": [
    "np.mean(gamma_k8000)"
   ]
  },
  {
   "cell_type": "code",
   "execution_count": 288,
   "metadata": {},
   "outputs": [
    {
     "data": {
      "text/plain": [
       "0.37772971535670197"
      ]
     },
     "execution_count": 288,
     "metadata": {},
     "output_type": "execute_result"
    }
   ],
   "source": [
    "A_prime.dot(B_inv).dot(A)"
   ]
  },
  {
   "cell_type": "code",
   "execution_count": 324,
   "metadata": {},
   "outputs": [
    {
     "data": {
      "text/plain": [
       "0.5684094457707982"
      ]
     },
     "execution_count": 324,
     "metadata": {},
     "output_type": "execute_result"
    }
   ],
   "source": [
    "np.mean(k4000_new)"
   ]
  },
  {
   "cell_type": "code",
   "execution_count": 321,
   "metadata": {},
   "outputs": [
    {
     "data": {
      "text/plain": [
       "<matplotlib.legend.Legend at 0x1a29e996a0>"
      ]
     },
     "execution_count": 321,
     "metadata": {},
     "output_type": "execute_result"
    },
    {
     "data": {
      "image/png": "[encoded data removed]",
      "text/plain": [
       "<Figure size 1618.03x1000 with 1 Axes>"
      ]
     },
     "metadata": {},
     "output_type": "display_data"
    }
   ],
   "source": [
    "plt.plot(gamma_new, label=\"gamma_new\")\n",
    "plt.plot(k4000_new, label=\"k4000_new\")\n",
    "plt.legend()"
   ]
  },
  {
   "cell_type": "code",
   "execution_count": 331,
   "metadata": {},
   "outputs": [
    {
     "data": {
      "text/plain": [
       "<matplotlib.legend.Legend at 0x1a2e9c3f98>"
      ]
     },
     "execution_count": 331,
     "metadata": {},
     "output_type": "execute_result"
    },
    {
     "data": {
      "image/png": "[encoded data removed]",
      "text/plain": [
       "<Figure size 1618.03x1000 with 1 Axes>"
      ]
     },
     "metadata": {},
     "output_type": "display_data"
    }
   ],
   "source": [
    "# plt.plot(np.linalg.inv(B).dot(A))\n",
    "plt.plot(gamma_k8000, label=\"k8000\")\n",
    "# plt.plot(gamma_k8000_centered, label=\"k8000_center\")\n",
    "# plt.plot(gamma_new, label=\"gamma_new\")\n",
    "plt.plot(gamma_k8000_f, label=\"k8000_f\")\n",
    "# plt.plot(k4000_new, label=\"k4000_new\")\n",
    "plt.legend()"
   ]
  },
  {
   "cell_type": "code",
   "execution_count": 269,
   "metadata": {},
   "outputs": [
    {
     "data": {
      "text/plain": [
       "2.380952381144205e-07"
      ]
     },
     "execution_count": 269,
     "metadata": {},
     "output_type": "execute_result"
    }
   ],
   "source": [
    "np.mean(gamma_k1000)"
   ]
  },
  {
   "cell_type": "code",
   "execution_count": 270,
   "metadata": {},
   "outputs": [
    {
     "data": {
      "text/plain": [
       "-5.639228061588096e-17"
      ]
     },
     "execution_count": 270,
     "metadata": {},
     "output_type": "execute_result"
    }
   ],
   "source": [
    "np.mean(gamma_k4000)"
   ]
  },
  {
   "cell_type": "code",
   "execution_count": 268,
   "metadata": {},
   "outputs": [
    {
     "data": {
      "text/plain": [
       "-0.5763359523809523"
      ]
     },
     "execution_count": 268,
     "metadata": {},
     "output_type": "execute_result"
    }
   ],
   "source": [
    "np.mean(gamma_k8000)"
   ]
  },
  {
   "cell_type": "code",
   "execution_count": 303,
   "metadata": {},
   "outputs": [
    {
     "data": {
      "text/plain": [
       "array([  0,  26,  32,  54,  69,  86,  99, 104, 111, 112, 115, 119, 120,\n",
       "       121, 123, 124, 125])"
      ]
     },
     "execution_count": 303,
     "metadata": {},
     "output_type": "execute_result"
    }
   ],
   "source": [
    "np.where(np.abs(gamma_k8000_centered)> 2)[0]"
   ]
  },
  {
   "cell_type": "code",
   "execution_count": 301,
   "metadata": {},
   "outputs": [],
   "source": [
    "six_letter_code_combinations = ['000004', '000013', '000022', '000031', '000040', '000103', '000112', '000121', '000130', '000202', '000211', '000220', '000301', '000310', '000400', '001003', '001012', '001021', '001030', '001102', '001111', '001120', '001201', '001210', '001300', '002002', '002011', '002020', '002101', '002110', '002200', '003001', '003010', '003100', '004000', '010003', '010012', '010021', '010030', '010102', '010111', '010120', '010201', '010210', '010300', '011002', '011011', '011020', '011101', '011110', '011200', '012001', '012010', '012100', '013000', '020002', '020011', '020020', '020101', '020110', '020200', '021001', '021010', '021100', '022000', '030001', '030010', '030100', '031000', '040000', '100003', '100012', '100021', '100030', '100102', '100111', '100120', '100201', '100210', '100300', '101002', '101011', '101020', '101101', '101110', '101200', '102001', '102010', '102100', '103000', '110002', '110011', '110020', '110101', '110110', '110200', '111001', '111010', '111100', '112000', '120001', '120010', '120100', '121000', '130000', '200002', '200011', '200020', '200101', '200110', '200200', '201001', '201010', '201100', '202000', '210001', '210010', '210100', '211000', '220000', '300001', '300010', '300100', '301000', '310000', '400000']\n"
   ]
  },
  {
   "cell_type": "code",
   "execution_count": 307,
   "metadata": {},
   "outputs": [],
   "source": [
    "six_letter_code_combinations = np.array(six_letter_code_combinations)"
   ]
  },
  {
   "cell_type": "code",
   "execution_count": 325,
   "metadata": {},
   "outputs": [
    {
     "data": {
      "text/plain": [
       "array(['201010', '300010', '301000'], dtype='<U6')"
      ]
     },
     "execution_count": 325,
     "metadata": {},
     "output_type": "execute_result"
    }
   ],
   "source": [
    "six_letter_code_combinations[np.where(gamma_k8000 > 2)]"
   ]
  },
  {
   "cell_type": "code",
   "execution_count": 326,
   "metadata": {},
   "outputs": [
    {
     "data": {
      "text/plain": [
       "array(['000004', '002011', '004000', '022000', '040000', '102001',\n",
       "       '130000', '201001', '210001', '211000', '220000', '300001',\n",
       "       '310000', '400000'], dtype='<U6')"
      ]
     },
     "execution_count": 326,
     "metadata": {},
     "output_type": "execute_result"
    }
   ],
   "source": [
    "six_letter_code_combinations[np.where(gamma_k8000 < -2)]"
   ]
  },
  {
   "cell_type": "code",
   "execution_count": 310,
   "metadata": {},
   "outputs": [
    {
     "data": {
      "text/plain": [
       "array(['003010', '013000', '112000', '201010', '300010', '301000'],\n",
       "      dtype='<U6')"
      ]
     },
     "execution_count": 310,
     "metadata": {},
     "output_type": "execute_result"
    }
   ],
   "source": [
    "six_letter_code_combinations[np.where(gamma_k8000_centered > 2)]"
   ]
  },
  {
   "cell_type": "code",
   "execution_count": 311,
   "metadata": {},
   "outputs": [
    {
     "data": {
      "text/plain": [
       "array(['000004', '002011', '040000', '102001', '130000', '201001',\n",
       "       '210001', '220000', '300001', '310000', '400000'], dtype='<U6')"
      ]
     },
     "execution_count": 311,
     "metadata": {},
     "output_type": "execute_result"
    }
   ],
   "source": [
    "six_letter_code_combinations[np.where(gamma_k8000_centered < -2)]"
   ]
  },
  {
   "cell_type": "code",
   "execution_count": 271,
   "metadata": {},
   "outputs": [],
   "source": [
    "gamma_k8000_centered = gamma_k8000 - np.mean(gamma_k8000)"
   ]
  },
  {
   "cell_type": "code",
   "execution_count": null,
   "metadata": {},
   "outputs": [],
   "source": [
    "gamma_cb"
   ]
  },
  {
   "cell_type": "code",
   "execution_count": 335,
   "metadata": {},
   "outputs": [],
   "source": [
    "gamma_cb_centered = gamma_cb - np.mean(gamma_cb)"
   ]
  },
  {
   "cell_type": "code",
   "execution_count": 336,
   "metadata": {},
   "outputs": [
    {
     "data": {
      "text/plain": [
       "<matplotlib.legend.Legend at 0x1a24de39b0>"
      ]
     },
     "execution_count": 336,
     "metadata": {},
     "output_type": "execute_result"
    },
    {
     "data": {
      "image/png": "[encoded data removed]",
      "text/plain": [
       "<Figure size 1618.03x1000 with 1 Axes>"
      ]
     },
     "metadata": {},
     "output_type": "display_data"
    }
   ],
   "source": [
    "plt.plot(gamma_k1000, label=\"k1000\")\n",
    "plt.plot(gamma_k2000, label=\"k2000\")\n",
    "plt.plot(gamma_k4000, label=\"k4000\")\n",
    "plt.plot(gamma_cb_centered, label=\"cb\")\n",
    "# plt.plot(gamma_k8000, label=\"k8000\")\n",
    "plt.plot(gamma_k8000_centered, label=\"k8000_center\")\n",
    "# plt.plot(gamma_new, label=\"gamma_new\")\n",
    "plt.legend()"
   ]
  },
  {
   "cell_type": "code",
   "execution_count": 274,
   "metadata": {},
   "outputs": [
    {
     "data": {
      "text/plain": [
       "(-5, 5)"
      ]
     },
     "execution_count": 274,
     "metadata": {},
     "output_type": "execute_result"
    },
    {
     "data": {
      "image/png": "[encoded data removed]",
      "text/plain": [
       "<Figure size 1618.03x1000 with 1 Axes>"
      ]
     },
     "metadata": {},
     "output_type": "display_data"
    }
   ],
   "source": [
    "plt.plot(gamma_k1000, label=\"k1000\")\n",
    "plt.plot(gamma_k2000, label=\"k2000\")\n",
    "plt.plot(gamma_k4000, label=\"k4000\")\n",
    "# plt.plot(gamma_k8000, label=\"k8000\")\n",
    "plt.plot(gamma_k8000_centered, label=\"k8000_center\")\n",
    "plt.legend()\n",
    "plt.ylim(-5,5)"
   ]
  },
  {
   "cell_type": "code",
   "execution_count": 275,
   "metadata": {},
   "outputs": [
    {
     "data": {
      "text/plain": [
       "(-5, 5)"
      ]
     },
     "execution_count": 275,
     "metadata": {},
     "output_type": "execute_result"
    },
    {
     "data": {
      "image/png": "[encoded data removed]",
      "text/plain": [
       "<Figure size 1618.03x1000 with 1 Axes>"
      ]
     },
     "metadata": {},
     "output_type": "display_data"
    }
   ],
   "source": [
    "# plt.plot(gamma_k1000, label=\"k1000\")\n",
    "# plt.plot(gamma_k2000, label=\"k2000\")\n",
    "plt.plot(gamma_k4000, label=\"k4000\")\n",
    "# plt.plot(gamma_k8000, label=\"k8000\")\n",
    "plt.plot(gamma_k8000_centered, label=\"k8000_center\")\n",
    "plt.legend()\n",
    "plt.ylim(-5,5)"
   ]
  },
  {
   "cell_type": "code",
   "execution_count": 341,
   "metadata": {},
   "outputs": [],
   "source": [
    "import glob\n",
    "a = glob.glob(\"/Users/weilu/Research/server/may_2019/four_body_helix_use_cb/optimization/data/*.dat\")"
   ]
  },
  {
   "cell_type": "code",
   "execution_count": 357,
   "metadata": {},
   "outputs": [
    {
     "data": {
      "text/plain": [
       "'4rp9'"
      ]
     },
     "execution_count": 357,
     "metadata": {},
     "output_type": "execute_result"
    }
   ],
   "source": [
    "d.split(\"/\")[-1].split(\"-\")[0]"
   ]
  },
  {
   "cell_type": "code",
   "execution_count": 351,
   "metadata": {},
   "outputs": [],
   "source": [
    "d = a[0]\n",
    "tmp = pd.read_csv(d, sep=\" \", names=[\"res_pair1_chain\", \"res_pair1_index_1\", \"res_pair1_index_2\", \n",
    "                               \"res_pair2_chain\", \"res_pair2_index_1\", \"res_pair2_index_2\", \n",
    "                               \"res_type\",  \"six_letter_string\", \"total_phi\",\n",
    "                              \"d00\", \"d11\", \"d01\", \"d10\"])\n"
   ]
  },
  {
   "cell_type": "code",
   "execution_count": 358,
   "metadata": {},
   "outputs": [],
   "source": [
    "data_all = []\n",
    "for d in a:\n",
    "    name = d.split(\"/\")[-1].split(\"-\")[0]\n",
    "    tmp = pd.read_csv(d, sep=\" \", names=[\"res_pair1_chain\", \"res_pair1_index_1\", \"res_pair1_index_2\", \n",
    "                               \"res_pair2_chain\", \"res_pair2_index_1\", \"res_pair2_index_2\", \n",
    "                               \"res_type\",  \"six_letter_string\", \"total_phi\",\n",
    "                              \"d00\", \"d11\", \"d01\", \"d10\"])\n",
    "    data_all.append(tmp.assign(protein=name))"
   ]
  },
  {
   "cell_type": "code",
   "execution_count": 359,
   "metadata": {},
   "outputs": [],
   "source": [
    "data = pd.concat(data_all)\n",
    "data = data.reset_index(drop=True)\n",
    "data[\"six_letter_string\"] = data[\"six_letter_string\"].astype(str).str.pad(width=6, fillchar=\"0\")"
   ]
  },
  {
   "cell_type": "code",
   "execution_count": 380,
   "metadata": {},
   "outputs": [],
   "source": []
  },
  {
   "cell_type": "code",
   "execution_count": 381,
   "metadata": {},
   "outputs": [
    {
     "data": {
      "text/plain": [
       "(2973, 14)"
      ]
     },
     "execution_count": 381,
     "metadata": {},
     "output_type": "execute_result"
    }
   ],
   "source": [
    "data.shape"
   ]
  },
  {
   "cell_type": "code",
   "execution_count": 382,
   "metadata": {},
   "outputs": [
    {
     "data": {
      "text/plain": [
       "020200    202\n",
       "010300    160\n",
       "010201    142\n",
       "120100    139\n",
       "110200    137\n",
       "030100    116\n",
       "020101    113\n",
       "110101    109\n",
       "010210     79\n",
       "220000     77\n",
       "130000     74\n",
       "210100     74\n",
       "120001     68\n",
       "020110     64\n",
       "000400     60\n",
       "010111     58\n",
       "010102     54\n",
       "110110     54\n",
       "100201     53\n",
       "200200     45\n",
       "120010     43\n",
       "000301     42\n",
       "040000     41\n",
       "011200     40\n",
       "210001     40\n",
       "100300     40\n",
       "200101     35\n",
       "021100     34\n",
       "030001     31\n",
       "030010     31\n",
       "         ... \n",
       "201001      5\n",
       "011002      5\n",
       "010030      4\n",
       "100012      4\n",
       "000022      4\n",
       "010003      4\n",
       "000112      4\n",
       "000130      4\n",
       "001111      3\n",
       "200020      3\n",
       "100021      2\n",
       "011020      2\n",
       "002101      2\n",
       "022000      2\n",
       "012001      2\n",
       "001120      2\n",
       "002011      2\n",
       "001021      2\n",
       "101011      2\n",
       "300010      1\n",
       "202000      1\n",
       "000031      1\n",
       "102100      1\n",
       "102001      1\n",
       "001003      1\n",
       "000004      1\n",
       "000040      1\n",
       "100030      1\n",
       "001012      1\n",
       "012100      1\n",
       "Name: six_letter_string, Length: 106, dtype: int64"
      ]
     },
     "execution_count": 382,
     "metadata": {},
     "output_type": "execute_result"
    }
   ],
   "source": [
    "data[\"six_letter_string\"].value_counts()"
   ]
  },
  {
   "cell_type": "code",
   "execution_count": 367,
   "metadata": {},
   "outputs": [
    {
     "data": {
      "text/plain": [
       "GGGG    9\n",
       "AAGG    7\n",
       "AGGG    7\n",
       "GAGA    7\n",
       "AGGA    6\n",
       "AGAV    5\n",
       "AGAG    5\n",
       "GGAA    5\n",
       "GGTA    5\n",
       "GAAG    5\n",
       "AAGA    5\n",
       "FAGG    5\n",
       "GLAL    5\n",
       "LLAA    4\n",
       "IAAG    4\n",
       "AVAS    4\n",
       "GAGY    4\n",
       "IAIV    4\n",
       "AAVG    4\n",
       "AAAS    4\n",
       "LLLI    4\n",
       "AAIA    4\n",
       "SSGG    3\n",
       "AVLG    3\n",
       "TAAG    3\n",
       "GAVG    3\n",
       "FGAS    3\n",
       "AGTA    3\n",
       "AATV    3\n",
       "GAVT    3\n",
       "       ..\n",
       "FGVA    1\n",
       "LELV    1\n",
       "LLTL    1\n",
       "IFTF    1\n",
       "QFGT    1\n",
       "FGCF    1\n",
       "FLPF    1\n",
       "AIHI    1\n",
       "RAIA    1\n",
       "QFSV    1\n",
       "LAAN    1\n",
       "ATPG    1\n",
       "LGLF    1\n",
       "VTQG    1\n",
       "CLLA    1\n",
       "ISKI    1\n",
       "VIIL    1\n",
       "APLS    1\n",
       "GQGI    1\n",
       "GSAV    1\n",
       "PLSV    1\n",
       "FLGA    1\n",
       "IMSG    1\n",
       "ALSA    1\n",
       "FAGV    1\n",
       "AYTL    1\n",
       "VAWI    1\n",
       "IGLA    1\n",
       "GILT    1\n",
       "SSVL    1\n",
       "Name: res_type, Length: 2557, dtype: int64"
      ]
     },
     "execution_count": 367,
     "metadata": {},
     "output_type": "execute_result"
    }
   ],
   "source": [
    "data[\"res_type\"].value_counts()"
   ]
  },
  {
   "cell_type": "code",
   "execution_count": null,
   "metadata": {},
   "outputs": [],
   "source": []
  },
  {
   "cell_type": "code",
   "execution_count": 363,
   "metadata": {},
   "outputs": [
    {
     "data": {
      "text/html": [
       "<div>\n",
       "<style scoped>\n",
       "    .dataframe tbody tr th:only-of-type {\n",
       "        vertical-align: middle;\n",
       "    }\n",
       "\n",
       "    .dataframe tbody tr th {\n",
       "        vertical-align: top;\n",
       "    }\n",
       "\n",
       "    .dataframe thead th {\n",
       "        text-align: right;\n",
       "    }\n",
       "</style>\n",
       "<table border=\"1\" class=\"dataframe\">\n",
       "  <thead>\n",
       "    <tr style=\"text-align: right;\">\n",
       "      <th></th>\n",
       "      <th>res_pair1_chain</th>\n",
       "      <th>res_pair1_index_1</th>\n",
       "      <th>res_pair1_index_2</th>\n",
       "      <th>res_pair2_chain</th>\n",
       "      <th>res_pair2_index_1</th>\n",
       "      <th>res_pair2_index_2</th>\n",
       "      <th>res_type</th>\n",
       "      <th>six_letter_string</th>\n",
       "      <th>total_phi</th>\n",
       "      <th>d00</th>\n",
       "      <th>d11</th>\n",
       "      <th>d01</th>\n",
       "      <th>d10</th>\n",
       "    </tr>\n",
       "    <tr>\n",
       "      <th>protein</th>\n",
       "      <th></th>\n",
       "      <th></th>\n",
       "      <th></th>\n",
       "      <th></th>\n",
       "      <th></th>\n",
       "      <th></th>\n",
       "      <th></th>\n",
       "      <th></th>\n",
       "      <th></th>\n",
       "      <th></th>\n",
       "      <th></th>\n",
       "      <th></th>\n",
       "      <th></th>\n",
       "    </tr>\n",
       "  </thead>\n",
       "  <tbody>\n",
       "    <tr>\n",
       "      <th>1j4n</th>\n",
       "      <td>74</td>\n",
       "      <td>74</td>\n",
       "      <td>74</td>\n",
       "      <td>74</td>\n",
       "      <td>74</td>\n",
       "      <td>74</td>\n",
       "      <td>74</td>\n",
       "      <td>74</td>\n",
       "      <td>74</td>\n",
       "      <td>74</td>\n",
       "      <td>74</td>\n",
       "      <td>74</td>\n",
       "      <td>74</td>\n",
       "    </tr>\n",
       "    <tr>\n",
       "      <th>1kpl</th>\n",
       "      <td>159</td>\n",
       "      <td>159</td>\n",
       "      <td>159</td>\n",
       "      <td>159</td>\n",
       "      <td>159</td>\n",
       "      <td>159</td>\n",
       "      <td>159</td>\n",
       "      <td>159</td>\n",
       "      <td>159</td>\n",
       "      <td>159</td>\n",
       "      <td>159</td>\n",
       "      <td>159</td>\n",
       "      <td>159</td>\n",
       "    </tr>\n",
       "    <tr>\n",
       "      <th>2c3e</th>\n",
       "      <td>50</td>\n",
       "      <td>50</td>\n",
       "      <td>50</td>\n",
       "      <td>50</td>\n",
       "      <td>50</td>\n",
       "      <td>50</td>\n",
       "      <td>50</td>\n",
       "      <td>50</td>\n",
       "      <td>50</td>\n",
       "      <td>50</td>\n",
       "      <td>50</td>\n",
       "      <td>50</td>\n",
       "      <td>50</td>\n",
       "    </tr>\n",
       "    <tr>\n",
       "      <th>2ksf</th>\n",
       "      <td>13</td>\n",
       "      <td>13</td>\n",
       "      <td>13</td>\n",
       "      <td>13</td>\n",
       "      <td>13</td>\n",
       "      <td>13</td>\n",
       "      <td>13</td>\n",
       "      <td>13</td>\n",
       "      <td>13</td>\n",
       "      <td>13</td>\n",
       "      <td>13</td>\n",
       "      <td>13</td>\n",
       "      <td>13</td>\n",
       "    </tr>\n",
       "    <tr>\n",
       "      <th>2lom</th>\n",
       "      <td>1</td>\n",
       "      <td>1</td>\n",
       "      <td>1</td>\n",
       "      <td>1</td>\n",
       "      <td>1</td>\n",
       "      <td>1</td>\n",
       "      <td>1</td>\n",
       "      <td>1</td>\n",
       "      <td>1</td>\n",
       "      <td>1</td>\n",
       "      <td>1</td>\n",
       "      <td>1</td>\n",
       "      <td>1</td>\n",
       "    </tr>\n",
       "    <tr>\n",
       "      <th>2lop</th>\n",
       "      <td>5</td>\n",
       "      <td>5</td>\n",
       "      <td>5</td>\n",
       "      <td>5</td>\n",
       "      <td>5</td>\n",
       "      <td>5</td>\n",
       "      <td>5</td>\n",
       "      <td>5</td>\n",
       "      <td>5</td>\n",
       "      <td>5</td>\n",
       "      <td>5</td>\n",
       "      <td>5</td>\n",
       "      <td>5</td>\n",
       "    </tr>\n",
       "    <tr>\n",
       "      <th>2mmu</th>\n",
       "      <td>2</td>\n",
       "      <td>2</td>\n",
       "      <td>2</td>\n",
       "      <td>2</td>\n",
       "      <td>2</td>\n",
       "      <td>2</td>\n",
       "      <td>2</td>\n",
       "      <td>2</td>\n",
       "      <td>2</td>\n",
       "      <td>2</td>\n",
       "      <td>2</td>\n",
       "      <td>2</td>\n",
       "      <td>2</td>\n",
       "    </tr>\n",
       "    <tr>\n",
       "      <th>2mpn</th>\n",
       "      <td>6</td>\n",
       "      <td>6</td>\n",
       "      <td>6</td>\n",
       "      <td>6</td>\n",
       "      <td>6</td>\n",
       "      <td>6</td>\n",
       "      <td>6</td>\n",
       "      <td>6</td>\n",
       "      <td>6</td>\n",
       "      <td>6</td>\n",
       "      <td>6</td>\n",
       "      <td>6</td>\n",
       "      <td>6</td>\n",
       "    </tr>\n",
       "    <tr>\n",
       "      <th>2q7r</th>\n",
       "      <td>7</td>\n",
       "      <td>7</td>\n",
       "      <td>7</td>\n",
       "      <td>7</td>\n",
       "      <td>7</td>\n",
       "      <td>7</td>\n",
       "      <td>7</td>\n",
       "      <td>7</td>\n",
       "      <td>7</td>\n",
       "      <td>7</td>\n",
       "      <td>7</td>\n",
       "      <td>7</td>\n",
       "      <td>7</td>\n",
       "    </tr>\n",
       "    <tr>\n",
       "      <th>2zjs</th>\n",
       "      <td>54</td>\n",
       "      <td>54</td>\n",
       "      <td>54</td>\n",
       "      <td>54</td>\n",
       "      <td>54</td>\n",
       "      <td>54</td>\n",
       "      <td>54</td>\n",
       "      <td>54</td>\n",
       "      <td>54</td>\n",
       "      <td>54</td>\n",
       "      <td>54</td>\n",
       "      <td>54</td>\n",
       "      <td>54</td>\n",
       "    </tr>\n",
       "    <tr>\n",
       "      <th>3b4r</th>\n",
       "      <td>24</td>\n",
       "      <td>24</td>\n",
       "      <td>24</td>\n",
       "      <td>24</td>\n",
       "      <td>24</td>\n",
       "      <td>24</td>\n",
       "      <td>24</td>\n",
       "      <td>24</td>\n",
       "      <td>24</td>\n",
       "      <td>24</td>\n",
       "      <td>24</td>\n",
       "      <td>24</td>\n",
       "      <td>24</td>\n",
       "    </tr>\n",
       "    <tr>\n",
       "      <th>3fi1</th>\n",
       "      <td>79</td>\n",
       "      <td>79</td>\n",
       "      <td>79</td>\n",
       "      <td>79</td>\n",
       "      <td>79</td>\n",
       "      <td>79</td>\n",
       "      <td>79</td>\n",
       "      <td>79</td>\n",
       "      <td>79</td>\n",
       "      <td>79</td>\n",
       "      <td>79</td>\n",
       "      <td>79</td>\n",
       "      <td>79</td>\n",
       "    </tr>\n",
       "    <tr>\n",
       "      <th>3h90</th>\n",
       "      <td>12</td>\n",
       "      <td>12</td>\n",
       "      <td>12</td>\n",
       "      <td>12</td>\n",
       "      <td>12</td>\n",
       "      <td>12</td>\n",
       "      <td>12</td>\n",
       "      <td>12</td>\n",
       "      <td>12</td>\n",
       "      <td>12</td>\n",
       "      <td>12</td>\n",
       "      <td>12</td>\n",
       "      <td>12</td>\n",
       "    </tr>\n",
       "    <tr>\n",
       "      <th>3m73</th>\n",
       "      <td>45</td>\n",
       "      <td>45</td>\n",
       "      <td>45</td>\n",
       "      <td>45</td>\n",
       "      <td>45</td>\n",
       "      <td>45</td>\n",
       "      <td>45</td>\n",
       "      <td>45</td>\n",
       "      <td>45</td>\n",
       "      <td>45</td>\n",
       "      <td>45</td>\n",
       "      <td>45</td>\n",
       "      <td>45</td>\n",
       "    </tr>\n",
       "    <tr>\n",
       "      <th>3tij</th>\n",
       "      <td>83</td>\n",
       "      <td>83</td>\n",
       "      <td>83</td>\n",
       "      <td>83</td>\n",
       "      <td>83</td>\n",
       "      <td>83</td>\n",
       "      <td>83</td>\n",
       "      <td>83</td>\n",
       "      <td>83</td>\n",
       "      <td>83</td>\n",
       "      <td>83</td>\n",
       "      <td>83</td>\n",
       "      <td>83</td>\n",
       "    </tr>\n",
       "    <tr>\n",
       "      <th>3zd0</th>\n",
       "      <td>10</td>\n",
       "      <td>10</td>\n",
       "      <td>10</td>\n",
       "      <td>10</td>\n",
       "      <td>10</td>\n",
       "      <td>10</td>\n",
       "      <td>10</td>\n",
       "      <td>10</td>\n",
       "      <td>10</td>\n",
       "      <td>10</td>\n",
       "      <td>10</td>\n",
       "      <td>10</td>\n",
       "      <td>10</td>\n",
       "    </tr>\n",
       "    <tr>\n",
       "      <th>4a2n</th>\n",
       "      <td>14</td>\n",
       "      <td>14</td>\n",
       "      <td>14</td>\n",
       "      <td>14</td>\n",
       "      <td>14</td>\n",
       "      <td>14</td>\n",
       "      <td>14</td>\n",
       "      <td>14</td>\n",
       "      <td>14</td>\n",
       "      <td>14</td>\n",
       "      <td>14</td>\n",
       "      <td>14</td>\n",
       "      <td>14</td>\n",
       "    </tr>\n",
       "    <tr>\n",
       "      <th>4av3</th>\n",
       "      <td>131</td>\n",
       "      <td>131</td>\n",
       "      <td>131</td>\n",
       "      <td>131</td>\n",
       "      <td>131</td>\n",
       "      <td>131</td>\n",
       "      <td>131</td>\n",
       "      <td>131</td>\n",
       "      <td>131</td>\n",
       "      <td>131</td>\n",
       "      <td>131</td>\n",
       "      <td>131</td>\n",
       "      <td>131</td>\n",
       "    </tr>\n",
       "    <tr>\n",
       "      <th>4b4a</th>\n",
       "      <td>42</td>\n",
       "      <td>42</td>\n",
       "      <td>42</td>\n",
       "      <td>42</td>\n",
       "      <td>42</td>\n",
       "      <td>42</td>\n",
       "      <td>42</td>\n",
       "      <td>42</td>\n",
       "      <td>42</td>\n",
       "      <td>42</td>\n",
       "      <td>42</td>\n",
       "      <td>42</td>\n",
       "      <td>42</td>\n",
       "    </tr>\n",
       "    <tr>\n",
       "      <th>4cad</th>\n",
       "      <td>40</td>\n",
       "      <td>40</td>\n",
       "      <td>40</td>\n",
       "      <td>40</td>\n",
       "      <td>40</td>\n",
       "      <td>40</td>\n",
       "      <td>40</td>\n",
       "      <td>40</td>\n",
       "      <td>40</td>\n",
       "      <td>40</td>\n",
       "      <td>40</td>\n",
       "      <td>40</td>\n",
       "      <td>40</td>\n",
       "    </tr>\n",
       "    <tr>\n",
       "      <th>4il3</th>\n",
       "      <td>6</td>\n",
       "      <td>6</td>\n",
       "      <td>6</td>\n",
       "      <td>6</td>\n",
       "      <td>6</td>\n",
       "      <td>6</td>\n",
       "      <td>6</td>\n",
       "      <td>6</td>\n",
       "      <td>6</td>\n",
       "      <td>6</td>\n",
       "      <td>6</td>\n",
       "      <td>6</td>\n",
       "      <td>6</td>\n",
       "    </tr>\n",
       "    <tr>\n",
       "      <th>4j05</th>\n",
       "      <td>99</td>\n",
       "      <td>99</td>\n",
       "      <td>99</td>\n",
       "      <td>99</td>\n",
       "      <td>99</td>\n",
       "      <td>99</td>\n",
       "      <td>99</td>\n",
       "      <td>99</td>\n",
       "      <td>99</td>\n",
       "      <td>99</td>\n",
       "      <td>99</td>\n",
       "      <td>99</td>\n",
       "      <td>99</td>\n",
       "    </tr>\n",
       "    <tr>\n",
       "      <th>4llh</th>\n",
       "      <td>63</td>\n",
       "      <td>63</td>\n",
       "      <td>63</td>\n",
       "      <td>63</td>\n",
       "      <td>63</td>\n",
       "      <td>63</td>\n",
       "      <td>63</td>\n",
       "      <td>63</td>\n",
       "      <td>63</td>\n",
       "      <td>63</td>\n",
       "      <td>63</td>\n",
       "      <td>63</td>\n",
       "      <td>63</td>\n",
       "    </tr>\n",
       "    <tr>\n",
       "      <th>4m58</th>\n",
       "      <td>71</td>\n",
       "      <td>71</td>\n",
       "      <td>71</td>\n",
       "      <td>71</td>\n",
       "      <td>71</td>\n",
       "      <td>71</td>\n",
       "      <td>71</td>\n",
       "      <td>71</td>\n",
       "      <td>71</td>\n",
       "      <td>71</td>\n",
       "      <td>71</td>\n",
       "      <td>71</td>\n",
       "      <td>71</td>\n",
       "    </tr>\n",
       "    <tr>\n",
       "      <th>4nv6</th>\n",
       "      <td>23</td>\n",
       "      <td>23</td>\n",
       "      <td>23</td>\n",
       "      <td>23</td>\n",
       "      <td>23</td>\n",
       "      <td>23</td>\n",
       "      <td>23</td>\n",
       "      <td>23</td>\n",
       "      <td>23</td>\n",
       "      <td>23</td>\n",
       "      <td>23</td>\n",
       "      <td>23</td>\n",
       "      <td>23</td>\n",
       "    </tr>\n",
       "    <tr>\n",
       "      <th>4o6m</th>\n",
       "      <td>28</td>\n",
       "      <td>28</td>\n",
       "      <td>28</td>\n",
       "      <td>28</td>\n",
       "      <td>28</td>\n",
       "      <td>28</td>\n",
       "      <td>28</td>\n",
       "      <td>28</td>\n",
       "      <td>28</td>\n",
       "      <td>28</td>\n",
       "      <td>28</td>\n",
       "      <td>28</td>\n",
       "      <td>28</td>\n",
       "    </tr>\n",
       "    <tr>\n",
       "      <th>4od5</th>\n",
       "      <td>54</td>\n",
       "      <td>54</td>\n",
       "      <td>54</td>\n",
       "      <td>54</td>\n",
       "      <td>54</td>\n",
       "      <td>54</td>\n",
       "      <td>54</td>\n",
       "      <td>54</td>\n",
       "      <td>54</td>\n",
       "      <td>54</td>\n",
       "      <td>54</td>\n",
       "      <td>54</td>\n",
       "      <td>54</td>\n",
       "    </tr>\n",
       "    <tr>\n",
       "      <th>4pgr</th>\n",
       "      <td>39</td>\n",
       "      <td>39</td>\n",
       "      <td>39</td>\n",
       "      <td>39</td>\n",
       "      <td>39</td>\n",
       "      <td>39</td>\n",
       "      <td>39</td>\n",
       "      <td>39</td>\n",
       "      <td>39</td>\n",
       "      <td>39</td>\n",
       "      <td>39</td>\n",
       "      <td>39</td>\n",
       "      <td>39</td>\n",
       "    </tr>\n",
       "    <tr>\n",
       "      <th>4q2e</th>\n",
       "      <td>50</td>\n",
       "      <td>50</td>\n",
       "      <td>50</td>\n",
       "      <td>50</td>\n",
       "      <td>50</td>\n",
       "      <td>50</td>\n",
       "      <td>50</td>\n",
       "      <td>50</td>\n",
       "      <td>50</td>\n",
       "      <td>50</td>\n",
       "      <td>50</td>\n",
       "      <td>50</td>\n",
       "      <td>50</td>\n",
       "    </tr>\n",
       "    <tr>\n",
       "      <th>4qo2</th>\n",
       "      <td>32</td>\n",
       "      <td>32</td>\n",
       "      <td>32</td>\n",
       "      <td>32</td>\n",
       "      <td>32</td>\n",
       "      <td>32</td>\n",
       "      <td>32</td>\n",
       "      <td>32</td>\n",
       "      <td>32</td>\n",
       "      <td>32</td>\n",
       "      <td>32</td>\n",
       "      <td>32</td>\n",
       "      <td>32</td>\n",
       "    </tr>\n",
       "    <tr>\n",
       "      <th>...</th>\n",
       "      <td>...</td>\n",
       "      <td>...</td>\n",
       "      <td>...</td>\n",
       "      <td>...</td>\n",
       "      <td>...</td>\n",
       "      <td>...</td>\n",
       "      <td>...</td>\n",
       "      <td>...</td>\n",
       "      <td>...</td>\n",
       "      <td>...</td>\n",
       "      <td>...</td>\n",
       "      <td>...</td>\n",
       "      <td>...</td>\n",
       "    </tr>\n",
       "    <tr>\n",
       "      <th>4zr1</th>\n",
       "      <td>20</td>\n",
       "      <td>20</td>\n",
       "      <td>20</td>\n",
       "      <td>20</td>\n",
       "      <td>20</td>\n",
       "      <td>20</td>\n",
       "      <td>20</td>\n",
       "      <td>20</td>\n",
       "      <td>20</td>\n",
       "      <td>20</td>\n",
       "      <td>20</td>\n",
       "      <td>20</td>\n",
       "      <td>20</td>\n",
       "    </tr>\n",
       "    <tr>\n",
       "      <th>5a40</th>\n",
       "      <td>36</td>\n",
       "      <td>36</td>\n",
       "      <td>36</td>\n",
       "      <td>36</td>\n",
       "      <td>36</td>\n",
       "      <td>36</td>\n",
       "      <td>36</td>\n",
       "      <td>36</td>\n",
       "      <td>36</td>\n",
       "      <td>36</td>\n",
       "      <td>36</td>\n",
       "      <td>36</td>\n",
       "      <td>36</td>\n",
       "    </tr>\n",
       "    <tr>\n",
       "      <th>5azb</th>\n",
       "      <td>34</td>\n",
       "      <td>34</td>\n",
       "      <td>34</td>\n",
       "      <td>34</td>\n",
       "      <td>34</td>\n",
       "      <td>34</td>\n",
       "      <td>34</td>\n",
       "      <td>34</td>\n",
       "      <td>34</td>\n",
       "      <td>34</td>\n",
       "      <td>34</td>\n",
       "      <td>34</td>\n",
       "      <td>34</td>\n",
       "    </tr>\n",
       "    <tr>\n",
       "      <th>5dir</th>\n",
       "      <td>17</td>\n",
       "      <td>17</td>\n",
       "      <td>17</td>\n",
       "      <td>17</td>\n",
       "      <td>17</td>\n",
       "      <td>17</td>\n",
       "      <td>17</td>\n",
       "      <td>17</td>\n",
       "      <td>17</td>\n",
       "      <td>17</td>\n",
       "      <td>17</td>\n",
       "      <td>17</td>\n",
       "      <td>17</td>\n",
       "    </tr>\n",
       "    <tr>\n",
       "      <th>5hwy</th>\n",
       "      <td>65</td>\n",
       "      <td>65</td>\n",
       "      <td>65</td>\n",
       "      <td>65</td>\n",
       "      <td>65</td>\n",
       "      <td>65</td>\n",
       "      <td>65</td>\n",
       "      <td>65</td>\n",
       "      <td>65</td>\n",
       "      <td>65</td>\n",
       "      <td>65</td>\n",
       "      <td>65</td>\n",
       "      <td>65</td>\n",
       "    </tr>\n",
       "    <tr>\n",
       "      <th>5jwy</th>\n",
       "      <td>36</td>\n",
       "      <td>36</td>\n",
       "      <td>36</td>\n",
       "      <td>36</td>\n",
       "      <td>36</td>\n",
       "      <td>36</td>\n",
       "      <td>36</td>\n",
       "      <td>36</td>\n",
       "      <td>36</td>\n",
       "      <td>36</td>\n",
       "      <td>36</td>\n",
       "      <td>36</td>\n",
       "      <td>36</td>\n",
       "    </tr>\n",
       "    <tr>\n",
       "      <th>5n6h</th>\n",
       "      <td>68</td>\n",
       "      <td>68</td>\n",
       "      <td>68</td>\n",
       "      <td>68</td>\n",
       "      <td>68</td>\n",
       "      <td>68</td>\n",
       "      <td>68</td>\n",
       "      <td>68</td>\n",
       "      <td>68</td>\n",
       "      <td>68</td>\n",
       "      <td>68</td>\n",
       "      <td>68</td>\n",
       "      <td>68</td>\n",
       "    </tr>\n",
       "    <tr>\n",
       "      <th>5o5e</th>\n",
       "      <td>71</td>\n",
       "      <td>71</td>\n",
       "      <td>71</td>\n",
       "      <td>71</td>\n",
       "      <td>71</td>\n",
       "      <td>71</td>\n",
       "      <td>71</td>\n",
       "      <td>71</td>\n",
       "      <td>71</td>\n",
       "      <td>71</td>\n",
       "      <td>71</td>\n",
       "      <td>71</td>\n",
       "      <td>71</td>\n",
       "    </tr>\n",
       "    <tr>\n",
       "      <th>5oc0</th>\n",
       "      <td>9</td>\n",
       "      <td>9</td>\n",
       "      <td>9</td>\n",
       "      <td>9</td>\n",
       "      <td>9</td>\n",
       "      <td>9</td>\n",
       "      <td>9</td>\n",
       "      <td>9</td>\n",
       "      <td>9</td>\n",
       "      <td>9</td>\n",
       "      <td>9</td>\n",
       "      <td>9</td>\n",
       "      <td>9</td>\n",
       "    </tr>\n",
       "    <tr>\n",
       "      <th>5t77</th>\n",
       "      <td>91</td>\n",
       "      <td>91</td>\n",
       "      <td>91</td>\n",
       "      <td>91</td>\n",
       "      <td>91</td>\n",
       "      <td>91</td>\n",
       "      <td>91</td>\n",
       "      <td>91</td>\n",
       "      <td>91</td>\n",
       "      <td>91</td>\n",
       "      <td>91</td>\n",
       "      <td>91</td>\n",
       "      <td>91</td>\n",
       "    </tr>\n",
       "    <tr>\n",
       "      <th>5tcx</th>\n",
       "      <td>10</td>\n",
       "      <td>10</td>\n",
       "      <td>10</td>\n",
       "      <td>10</td>\n",
       "      <td>10</td>\n",
       "      <td>10</td>\n",
       "      <td>10</td>\n",
       "      <td>10</td>\n",
       "      <td>10</td>\n",
       "      <td>10</td>\n",
       "      <td>10</td>\n",
       "      <td>10</td>\n",
       "      <td>10</td>\n",
       "    </tr>\n",
       "    <tr>\n",
       "      <th>5tsa</th>\n",
       "      <td>96</td>\n",
       "      <td>96</td>\n",
       "      <td>96</td>\n",
       "      <td>96</td>\n",
       "      <td>96</td>\n",
       "      <td>96</td>\n",
       "      <td>96</td>\n",
       "      <td>96</td>\n",
       "      <td>96</td>\n",
       "      <td>96</td>\n",
       "      <td>96</td>\n",
       "      <td>96</td>\n",
       "      <td>96</td>\n",
       "    </tr>\n",
       "    <tr>\n",
       "      <th>5vkv</th>\n",
       "      <td>8</td>\n",
       "      <td>8</td>\n",
       "      <td>8</td>\n",
       "      <td>8</td>\n",
       "      <td>8</td>\n",
       "      <td>8</td>\n",
       "      <td>8</td>\n",
       "      <td>8</td>\n",
       "      <td>8</td>\n",
       "      <td>8</td>\n",
       "      <td>8</td>\n",
       "      <td>8</td>\n",
       "      <td>8</td>\n",
       "    </tr>\n",
       "    <tr>\n",
       "      <th>5vre</th>\n",
       "      <td>35</td>\n",
       "      <td>35</td>\n",
       "      <td>35</td>\n",
       "      <td>35</td>\n",
       "      <td>35</td>\n",
       "      <td>35</td>\n",
       "      <td>35</td>\n",
       "      <td>35</td>\n",
       "      <td>35</td>\n",
       "      <td>35</td>\n",
       "      <td>35</td>\n",
       "      <td>35</td>\n",
       "      <td>35</td>\n",
       "    </tr>\n",
       "    <tr>\n",
       "      <th>5wud</th>\n",
       "      <td>82</td>\n",
       "      <td>82</td>\n",
       "      <td>82</td>\n",
       "      <td>82</td>\n",
       "      <td>82</td>\n",
       "      <td>82</td>\n",
       "      <td>82</td>\n",
       "      <td>82</td>\n",
       "      <td>82</td>\n",
       "      <td>82</td>\n",
       "      <td>82</td>\n",
       "      <td>82</td>\n",
       "      <td>82</td>\n",
       "    </tr>\n",
       "    <tr>\n",
       "      <th>5xj5</th>\n",
       "      <td>52</td>\n",
       "      <td>52</td>\n",
       "      <td>52</td>\n",
       "      <td>52</td>\n",
       "      <td>52</td>\n",
       "      <td>52</td>\n",
       "      <td>52</td>\n",
       "      <td>52</td>\n",
       "      <td>52</td>\n",
       "      <td>52</td>\n",
       "      <td>52</td>\n",
       "      <td>52</td>\n",
       "      <td>52</td>\n",
       "    </tr>\n",
       "    <tr>\n",
       "      <th>5y79</th>\n",
       "      <td>56</td>\n",
       "      <td>56</td>\n",
       "      <td>56</td>\n",
       "      <td>56</td>\n",
       "      <td>56</td>\n",
       "      <td>56</td>\n",
       "      <td>56</td>\n",
       "      <td>56</td>\n",
       "      <td>56</td>\n",
       "      <td>56</td>\n",
       "      <td>56</td>\n",
       "      <td>56</td>\n",
       "      <td>56</td>\n",
       "    </tr>\n",
       "    <tr>\n",
       "      <th>5zug</th>\n",
       "      <td>39</td>\n",
       "      <td>39</td>\n",
       "      <td>39</td>\n",
       "      <td>39</td>\n",
       "      <td>39</td>\n",
       "      <td>39</td>\n",
       "      <td>39</td>\n",
       "      <td>39</td>\n",
       "      <td>39</td>\n",
       "      <td>39</td>\n",
       "      <td>39</td>\n",
       "      <td>39</td>\n",
       "      <td>39</td>\n",
       "    </tr>\n",
       "    <tr>\n",
       "      <th>6aky</th>\n",
       "      <td>32</td>\n",
       "      <td>32</td>\n",
       "      <td>32</td>\n",
       "      <td>32</td>\n",
       "      <td>32</td>\n",
       "      <td>32</td>\n",
       "      <td>32</td>\n",
       "      <td>32</td>\n",
       "      <td>32</td>\n",
       "      <td>32</td>\n",
       "      <td>32</td>\n",
       "      <td>32</td>\n",
       "      <td>32</td>\n",
       "    </tr>\n",
       "    <tr>\n",
       "      <th>6b87</th>\n",
       "      <td>3</td>\n",
       "      <td>3</td>\n",
       "      <td>3</td>\n",
       "      <td>3</td>\n",
       "      <td>3</td>\n",
       "      <td>3</td>\n",
       "      <td>3</td>\n",
       "      <td>3</td>\n",
       "      <td>3</td>\n",
       "      <td>3</td>\n",
       "      <td>3</td>\n",
       "      <td>3</td>\n",
       "      <td>3</td>\n",
       "    </tr>\n",
       "    <tr>\n",
       "      <th>6bar</th>\n",
       "      <td>37</td>\n",
       "      <td>37</td>\n",
       "      <td>37</td>\n",
       "      <td>37</td>\n",
       "      <td>37</td>\n",
       "      <td>37</td>\n",
       "      <td>37</td>\n",
       "      <td>37</td>\n",
       "      <td>37</td>\n",
       "      <td>37</td>\n",
       "      <td>37</td>\n",
       "      <td>37</td>\n",
       "      <td>37</td>\n",
       "    </tr>\n",
       "    <tr>\n",
       "      <th>6bbg</th>\n",
       "      <td>10</td>\n",
       "      <td>10</td>\n",
       "      <td>10</td>\n",
       "      <td>10</td>\n",
       "      <td>10</td>\n",
       "      <td>10</td>\n",
       "      <td>10</td>\n",
       "      <td>10</td>\n",
       "      <td>10</td>\n",
       "      <td>10</td>\n",
       "      <td>10</td>\n",
       "      <td>10</td>\n",
       "      <td>10</td>\n",
       "    </tr>\n",
       "    <tr>\n",
       "      <th>6bhp</th>\n",
       "      <td>11</td>\n",
       "      <td>11</td>\n",
       "      <td>11</td>\n",
       "      <td>11</td>\n",
       "      <td>11</td>\n",
       "      <td>11</td>\n",
       "      <td>11</td>\n",
       "      <td>11</td>\n",
       "      <td>11</td>\n",
       "      <td>11</td>\n",
       "      <td>11</td>\n",
       "      <td>11</td>\n",
       "      <td>11</td>\n",
       "    </tr>\n",
       "    <tr>\n",
       "      <th>6bvg</th>\n",
       "      <td>88</td>\n",
       "      <td>88</td>\n",
       "      <td>88</td>\n",
       "      <td>88</td>\n",
       "      <td>88</td>\n",
       "      <td>88</td>\n",
       "      <td>88</td>\n",
       "      <td>88</td>\n",
       "      <td>88</td>\n",
       "      <td>88</td>\n",
       "      <td>88</td>\n",
       "      <td>88</td>\n",
       "      <td>88</td>\n",
       "    </tr>\n",
       "    <tr>\n",
       "      <th>6c70</th>\n",
       "      <td>20</td>\n",
       "      <td>20</td>\n",
       "      <td>20</td>\n",
       "      <td>20</td>\n",
       "      <td>20</td>\n",
       "      <td>20</td>\n",
       "      <td>20</td>\n",
       "      <td>20</td>\n",
       "      <td>20</td>\n",
       "      <td>20</td>\n",
       "      <td>20</td>\n",
       "      <td>20</td>\n",
       "      <td>20</td>\n",
       "    </tr>\n",
       "    <tr>\n",
       "      <th>6cb2</th>\n",
       "      <td>69</td>\n",
       "      <td>69</td>\n",
       "      <td>69</td>\n",
       "      <td>69</td>\n",
       "      <td>69</td>\n",
       "      <td>69</td>\n",
       "      <td>69</td>\n",
       "      <td>69</td>\n",
       "      <td>69</td>\n",
       "      <td>69</td>\n",
       "      <td>69</td>\n",
       "      <td>69</td>\n",
       "      <td>69</td>\n",
       "    </tr>\n",
       "    <tr>\n",
       "      <th>6d9z</th>\n",
       "      <td>9</td>\n",
       "      <td>9</td>\n",
       "      <td>9</td>\n",
       "      <td>9</td>\n",
       "      <td>9</td>\n",
       "      <td>9</td>\n",
       "      <td>9</td>\n",
       "      <td>9</td>\n",
       "      <td>9</td>\n",
       "      <td>9</td>\n",
       "      <td>9</td>\n",
       "      <td>9</td>\n",
       "      <td>9</td>\n",
       "    </tr>\n",
       "    <tr>\n",
       "      <th>6eu6</th>\n",
       "      <td>127</td>\n",
       "      <td>127</td>\n",
       "      <td>127</td>\n",
       "      <td>127</td>\n",
       "      <td>127</td>\n",
       "      <td>127</td>\n",
       "      <td>127</td>\n",
       "      <td>127</td>\n",
       "      <td>127</td>\n",
       "      <td>127</td>\n",
       "      <td>127</td>\n",
       "      <td>127</td>\n",
       "      <td>127</td>\n",
       "    </tr>\n",
       "    <tr>\n",
       "      <th>6gct</th>\n",
       "      <td>71</td>\n",
       "      <td>71</td>\n",
       "      <td>71</td>\n",
       "      <td>71</td>\n",
       "      <td>71</td>\n",
       "      <td>71</td>\n",
       "      <td>71</td>\n",
       "      <td>71</td>\n",
       "      <td>71</td>\n",
       "      <td>71</td>\n",
       "      <td>71</td>\n",
       "      <td>71</td>\n",
       "      <td>71</td>\n",
       "    </tr>\n",
       "    <tr>\n",
       "      <th>6iu3</th>\n",
       "      <td>51</td>\n",
       "      <td>51</td>\n",
       "      <td>51</td>\n",
       "      <td>51</td>\n",
       "      <td>51</td>\n",
       "      <td>51</td>\n",
       "      <td>51</td>\n",
       "      <td>51</td>\n",
       "      <td>51</td>\n",
       "      <td>51</td>\n",
       "      <td>51</td>\n",
       "      <td>51</td>\n",
       "      <td>51</td>\n",
       "    </tr>\n",
       "  </tbody>\n",
       "</table>\n",
       "<p>67 rows × 13 columns</p>\n",
       "</div>"
      ],
      "text/plain": [
       "         res_pair1_chain  res_pair1_index_1  res_pair1_index_2  \\\n",
       "protein                                                          \n",
       "1j4n                  74                 74                 74   \n",
       "1kpl                 159                159                159   \n",
       "2c3e                  50                 50                 50   \n",
       "2ksf                  13                 13                 13   \n",
       "2lom                   1                  1                  1   \n",
       "2lop                   5                  5                  5   \n",
       "2mmu                   2                  2                  2   \n",
       "2mpn                   6                  6                  6   \n",
       "2q7r                   7                  7                  7   \n",
       "2zjs                  54                 54                 54   \n",
       "3b4r                  24                 24                 24   \n",
       "3fi1                  79                 79                 79   \n",
       "3h90                  12                 12                 12   \n",
       "3m73                  45                 45                 45   \n",
       "3tij                  83                 83                 83   \n",
       "3zd0                  10                 10                 10   \n",
       "4a2n                  14                 14                 14   \n",
       "4av3                 131                131                131   \n",
       "4b4a                  42                 42                 42   \n",
       "4cad                  40                 40                 40   \n",
       "4il3                   6                  6                  6   \n",
       "4j05                  99                 99                 99   \n",
       "4llh                  63                 63                 63   \n",
       "4m58                  71                 71                 71   \n",
       "4nv6                  23                 23                 23   \n",
       "4o6m                  28                 28                 28   \n",
       "4od5                  54                 54                 54   \n",
       "4pgr                  39                 39                 39   \n",
       "4q2e                  50                 50                 50   \n",
       "4qo2                  32                 32                 32   \n",
       "...                  ...                ...                ...   \n",
       "4zr1                  20                 20                 20   \n",
       "5a40                  36                 36                 36   \n",
       "5azb                  34                 34                 34   \n",
       "5dir                  17                 17                 17   \n",
       "5hwy                  65                 65                 65   \n",
       "5jwy                  36                 36                 36   \n",
       "5n6h                  68                 68                 68   \n",
       "5o5e                  71                 71                 71   \n",
       "5oc0                   9                  9                  9   \n",
       "5t77                  91                 91                 91   \n",
       "5tcx                  10                 10                 10   \n",
       "5tsa                  96                 96                 96   \n",
       "5vkv                   8                  8                  8   \n",
       "5vre                  35                 35                 35   \n",
       "5wud                  82                 82                 82   \n",
       "5xj5                  52                 52                 52   \n",
       "5y79                  56                 56                 56   \n",
       "5zug                  39                 39                 39   \n",
       "6aky                  32                 32                 32   \n",
       "6b87                   3                  3                  3   \n",
       "6bar                  37                 37                 37   \n",
       "6bbg                  10                 10                 10   \n",
       "6bhp                  11                 11                 11   \n",
       "6bvg                  88                 88                 88   \n",
       "6c70                  20                 20                 20   \n",
       "6cb2                  69                 69                 69   \n",
       "6d9z                   9                  9                  9   \n",
       "6eu6                 127                127                127   \n",
       "6gct                  71                 71                 71   \n",
       "6iu3                  51                 51                 51   \n",
       "\n",
       "         res_pair2_chain  res_pair2_index_1  res_pair2_index_2  res_type  \\\n",
       "protein                                                                    \n",
       "1j4n                  74                 74                 74        74   \n",
       "1kpl                 159                159                159       159   \n",
       "2c3e                  50                 50                 50        50   \n",
       "2ksf                  13                 13                 13        13   \n",
       "2lom                   1                  1                  1         1   \n",
       "2lop                   5                  5                  5         5   \n",
       "2mmu                   2                  2                  2         2   \n",
       "2mpn                   6                  6                  6         6   \n",
       "2q7r                   7                  7                  7         7   \n",
       "2zjs                  54                 54                 54        54   \n",
       "3b4r                  24                 24                 24        24   \n",
       "3fi1                  79                 79                 79        79   \n",
       "3h90                  12                 12                 12        12   \n",
       "3m73                  45                 45                 45        45   \n",
       "3tij                  83                 83                 83        83   \n",
       "3zd0                  10                 10                 10        10   \n",
       "4a2n                  14                 14                 14        14   \n",
       "4av3                 131                131                131       131   \n",
       "4b4a                  42                 42                 42        42   \n",
       "4cad                  40                 40                 40        40   \n",
       "4il3                   6                  6                  6         6   \n",
       "4j05                  99                 99                 99        99   \n",
       "4llh                  63                 63                 63        63   \n",
       "4m58                  71                 71                 71        71   \n",
       "4nv6                  23                 23                 23        23   \n",
       "4o6m                  28                 28                 28        28   \n",
       "4od5                  54                 54                 54        54   \n",
       "4pgr                  39                 39                 39        39   \n",
       "4q2e                  50                 50                 50        50   \n",
       "4qo2                  32                 32                 32        32   \n",
       "...                  ...                ...                ...       ...   \n",
       "4zr1                  20                 20                 20        20   \n",
       "5a40                  36                 36                 36        36   \n",
       "5azb                  34                 34                 34        34   \n",
       "5dir                  17                 17                 17        17   \n",
       "5hwy                  65                 65                 65        65   \n",
       "5jwy                  36                 36                 36        36   \n",
       "5n6h                  68                 68                 68        68   \n",
       "5o5e                  71                 71                 71        71   \n",
       "5oc0                   9                  9                  9         9   \n",
       "5t77                  91                 91                 91        91   \n",
       "5tcx                  10                 10                 10        10   \n",
       "5tsa                  96                 96                 96        96   \n",
       "5vkv                   8                  8                  8         8   \n",
       "5vre                  35                 35                 35        35   \n",
       "5wud                  82                 82                 82        82   \n",
       "5xj5                  52                 52                 52        52   \n",
       "5y79                  56                 56                 56        56   \n",
       "5zug                  39                 39                 39        39   \n",
       "6aky                  32                 32                 32        32   \n",
       "6b87                   3                  3                  3         3   \n",
       "6bar                  37                 37                 37        37   \n",
       "6bbg                  10                 10                 10        10   \n",
       "6bhp                  11                 11                 11        11   \n",
       "6bvg                  88                 88                 88        88   \n",
       "6c70                  20                 20                 20        20   \n",
       "6cb2                  69                 69                 69        69   \n",
       "6d9z                   9                  9                  9         9   \n",
       "6eu6                 127                127                127       127   \n",
       "6gct                  71                 71                 71        71   \n",
       "6iu3                  51                 51                 51        51   \n",
       "\n",
       "         six_letter_string  total_phi  d00  d11  d01  d10  \n",
       "protein                                                    \n",
       "1j4n                    74         74   74   74   74   74  \n",
       "1kpl                   159        159  159  159  159  159  \n",
       "2c3e                    50         50   50   50   50   50  \n",
       "2ksf                    13         13   13   13   13   13  \n",
       "2lom                     1          1    1    1    1    1  \n",
       "2lop                     5          5    5    5    5    5  \n",
       "2mmu                     2          2    2    2    2    2  \n",
       "2mpn                     6          6    6    6    6    6  \n",
       "2q7r                     7          7    7    7    7    7  \n",
       "2zjs                    54         54   54   54   54   54  \n",
       "3b4r                    24         24   24   24   24   24  \n",
       "3fi1                    79         79   79   79   79   79  \n",
       "3h90                    12         12   12   12   12   12  \n",
       "3m73                    45         45   45   45   45   45  \n",
       "3tij                    83         83   83   83   83   83  \n",
       "3zd0                    10         10   10   10   10   10  \n",
       "4a2n                    14         14   14   14   14   14  \n",
       "4av3                   131        131  131  131  131  131  \n",
       "4b4a                    42         42   42   42   42   42  \n",
       "4cad                    40         40   40   40   40   40  \n",
       "4il3                     6          6    6    6    6    6  \n",
       "4j05                    99         99   99   99   99   99  \n",
       "4llh                    63         63   63   63   63   63  \n",
       "4m58                    71         71   71   71   71   71  \n",
       "4nv6                    23         23   23   23   23   23  \n",
       "4o6m                    28         28   28   28   28   28  \n",
       "4od5                    54         54   54   54   54   54  \n",
       "4pgr                    39         39   39   39   39   39  \n",
       "4q2e                    50         50   50   50   50   50  \n",
       "4qo2                    32         32   32   32   32   32  \n",
       "...                    ...        ...  ...  ...  ...  ...  \n",
       "4zr1                    20         20   20   20   20   20  \n",
       "5a40                    36         36   36   36   36   36  \n",
       "5azb                    34         34   34   34   34   34  \n",
       "5dir                    17         17   17   17   17   17  \n",
       "5hwy                    65         65   65   65   65   65  \n",
       "5jwy                    36         36   36   36   36   36  \n",
       "5n6h                    68         68   68   68   68   68  \n",
       "5o5e                    71         71   71   71   71   71  \n",
       "5oc0                     9          9    9    9    9    9  \n",
       "5t77                    91         91   91   91   91   91  \n",
       "5tcx                    10         10   10   10   10   10  \n",
       "5tsa                    96         96   96   96   96   96  \n",
       "5vkv                     8          8    8    8    8    8  \n",
       "5vre                    35         35   35   35   35   35  \n",
       "5wud                    82         82   82   82   82   82  \n",
       "5xj5                    52         52   52   52   52   52  \n",
       "5y79                    56         56   56   56   56   56  \n",
       "5zug                    39         39   39   39   39   39  \n",
       "6aky                    32         32   32   32   32   32  \n",
       "6b87                     3          3    3    3    3    3  \n",
       "6bar                    37         37   37   37   37   37  \n",
       "6bbg                    10         10   10   10   10   10  \n",
       "6bhp                    11         11   11   11   11   11  \n",
       "6bvg                    88         88   88   88   88   88  \n",
       "6c70                    20         20   20   20   20   20  \n",
       "6cb2                    69         69   69   69   69   69  \n",
       "6d9z                     9          9    9    9    9    9  \n",
       "6eu6                   127        127  127  127  127  127  \n",
       "6gct                    71         71   71   71   71   71  \n",
       "6iu3                    51         51   51   51   51   51  \n",
       "\n",
       "[67 rows x 13 columns]"
      ]
     },
     "execution_count": 363,
     "metadata": {},
     "output_type": "execute_result"
    }
   ],
   "source": [
    "data.groupby(\"protein\").count()"
   ]
  },
  {
   "cell_type": "code",
   "execution_count": 180,
   "metadata": {},
   "outputs": [
    {
     "name": "stdout",
     "output_type": "stream",
     "text": [
      "6c70 Found GXXXG 87 GHVFA\n",
      "5azb Found GXXXG 22 GFIFA\n",
      "4r1i Found GXXXG 58 GVGIA\n",
      "4r1i Found GXXXG 86 GGYSA\n",
      "4r1i Found GXXXG 136 GLIWA\n",
      "4r1i Found GXXXG 256 GSASA\n",
      "6bvg Found GXXXG 62 GGSWA\n",
      "6bvg Found GXXXG 71 GGAFA\n",
      "6bvg Found GXXXG 72 GAFAA\n",
      "6bvg Found GXXXG 109 GFLGA\n",
      "6bvg Found GXXXG 164 GRWIA\n",
      "6bvg Found GXXXG 236 GSTAA\n",
      "6bvg Found GXXXG 266 GLAFA\n",
      "5o5e Found GXXXG 48 GALLA\n",
      "5o5e Found GXXXG 175 GMTFA\n",
      "6eu6 Found GXXXG 117 GGWFA\n",
      "6eu6 Found GXXXG 256 GVIVA\n",
      "4pgr Found GXXXG 84 GTIGA\n"
     ]
    }
   ],
   "source": [
    "pdb_list = ['6c70', '5azb', '4r1i', '6bvg', '4zr1', '5o5e', '6eu6', '4pgr']\n",
    "for pdb in pdb_list:\n",
    "    toLocation = pre + f\"transmembrane/{pdb}.pdb\"\n",
    "    seq = getSeqFromPDB(toLocation)\n",
    "    gxxxg_count = 0\n",
    "    for i in range(len(seq)-4):\n",
    "        if seq[i] == \"G\" and seq[i+4] == \"A\" and \" \" not in seq[i:i+4]:\n",
    "            gxxxg_count += 1\n",
    "            print(pdb, \"Found GXXXG\", i, seq[i:i+5])"
   ]
  },
  {
   "cell_type": "code",
   "execution_count": 181,
   "metadata": {},
   "outputs": [
    {
     "name": "stdout",
     "output_type": "stream",
     "text": [
      "5azb Found GXXXG 38 GVFLG\n",
      "5azb Found GXXXG 42 GGRIG\n",
      "5azb Found GXXXG 75 GGLIG\n",
      "5azb Found GXXXG 97 GLGAG\n",
      "5azb Found GXXXG 109 GELWG\n",
      "4r1i Found GXXXG 83 GVSGG\n",
      "4r1i Found GXXXG 174 GIVYG\n",
      "6bvg Found GXXXG 28 GKLIG\n",
      "6bvg Found GXXXG 101 GVFVG\n",
      "6bvg Found GXXXG 105 GIITG\n",
      "6bvg Found GXXXG 232 GQVIG\n",
      "4zr1 Found GXXXG 116 GFAGG\n",
      "4zr1 Found GXXXG 119 GGLFG\n",
      "5o5e Found GXXXG 23 GVISG\n",
      "5o5e Found GXXXG 122 GLEAG\n",
      "6eu6 Found GXXXG 143 GFNGG\n",
      "6eu6 Found GXXXG 205 GLITG\n",
      "6eu6 Found GXXXG 232 GGVIG\n",
      "4pgr Found GXXXG 14 GLFIG\n"
     ]
    }
   ],
   "source": [
    "for pdb in pdb_list:\n",
    "    toLocation = pre + f\"transmembrane/{pdb}.pdb\"\n",
    "    seq = getSeqFromPDB(toLocation)\n",
    "    gxxxg_count = 0\n",
    "    for i in range(len(seq)-4):\n",
    "        if seq[i] == \"G\" and seq[i+4] == \"G\" and \" \" not in seq[i:i+4]:\n",
    "            gxxxg_count += 1\n",
    "            print(pdb, \"Found GXXXG\", i, seq[i:i+5])"
   ]
  },
  {
   "cell_type": "code",
   "execution_count": 193,
   "metadata": {},
   "outputs": [
    {
     "name": "stdout",
     "output_type": "stream",
     "text": [
      "5azb Found GXXXG 37 GVFLG\n",
      "5azb Found GXXXG 41 GGRIG\n",
      "5azb Found GXXXG 74 GGLIG\n",
      "5azb Found GXXXG 94 GLGAG\n",
      "5azb Found GXXXG 106 GELWG\n",
      "4r1i Found GXXXG 75 GVSGG\n",
      "4r1i Found GXXXG 163 GIVYG\n",
      "4r1i Found GXXXG 206 GIAKG\n",
      "6bvg Found GXXXG 27 GKLIG\n",
      "6bvg Found GXXXG 94 GVFVG\n",
      "6bvg Found GXXXG 98 GIITG\n",
      "6bvg Found GXXXG 197 GTVAG\n",
      "6bvg Found GXXXG 217 GQVIG\n",
      "4zr1 Found GXXXG 108 GFAGG\n",
      "4zr1 Found GXXXG 111 GGLFG\n",
      "5o5e Found GXXXG 22 GVISG\n",
      "5o5e Found GXXXG 115 GLEAG\n",
      "6eu6 Found GXXXG 135 GFNGG\n",
      "6eu6 Found GXXXG 194 GLITG\n",
      "6eu6 Found GXXXG 219 GGVIG\n",
      "4pgr Found GXXXG 14 GLFIG\n"
     ]
    }
   ],
   "source": [
    "for pdb in pdb_list:\n",
    "    toLocation = pre + f\"transmembrane/{pdb}.pdb\"\n",
    "    seq = getSeqFromPDB(toLocation, considerGap=False)\n",
    "    gxxxg_count = 0\n",
    "    for i in range(len(seq)-4):\n",
    "        if seq[i] == \"G\" and seq[i+4] == \"G\" and \" \" not in seq[i:i+4]:\n",
    "            gxxxg_count += 1\n",
    "            print(pdb, \"Found GXXXG\", i, seq[i:i+5])"
   ]
  },
  {
   "cell_type": "code",
   "execution_count": 217,
   "metadata": {},
   "outputs": [
    {
     "name": "stdout",
     "output_type": "stream",
     "text": [
      "5azb Found GXXXG 39 GVFLG Residue 65\n",
      "5azb Found GXXXG 43 GGRIG Residue 69\n",
      "5azb Found GXXXG 76 GGLIG Residue 102\n",
      "5azb Found GXXXG 98 GLGAG Residue 136\n",
      "5azb Found GXXXG 110 GELWG Residue 148\n",
      "4r1i Found GXXXG 84 GVSGG Residue 169\n",
      "4r1i Found GXXXG 175 GIVYG Residue 318\n",
      "6bvg Found GXXXG 28 GKLIG Residue 29\n",
      "6bvg Found GXXXG 101 GVFVG Residue 138\n",
      "6bvg Found GXXXG 105 GIITG Residue 142\n",
      "6bvg Found GXXXG 232 GQVIG Residue 305\n",
      "4zr1 Found GXXXG 117 GFAGG Residue 195\n",
      "4zr1 Found GXXXG 120 GGLFG Residue 198\n",
      "5o5e Found GXXXG 24 GVISG Residue 52\n",
      "5o5e Found GXXXG 123 GLEAG Residue 171\n",
      "6eu6 Found GXXXG 144 GFNGG Residue 222\n",
      "6eu6 Found GXXXG 206 GLITG Residue 296\n",
      "6eu6 Found GXXXG 233 GGVIG Residue 329\n",
      "4pgr Found GXXXG 15 GLFIG Residue 25\n"
     ]
    }
   ],
   "source": [
    "for pdb in pdb_list:\n",
    "    toLocation = pre + f\"transmembrane/{pdb}.pdb\"\n",
    "    seq,resSeqs = getSeqFromPDB(toLocation, considerGap=True)\n",
    "    gxxxg_count = 0\n",
    "    for i in range(len(seq)-4):\n",
    "        if seq[i] == \"G\" and seq[i+4] == \"G\" and \" \" not in seq[i:i+4]:\n",
    "            gxxxg_count += 1\n",
    "            print(pdb, \"Found GXXXG\", i, seq[i:i+5], \"Residue\", resSeqs[i])"
   ]
  },
  {
   "cell_type": "code",
   "execution_count": 198,
   "metadata": {},
   "outputs": [],
   "source": [
    "location = pre + f\"transmembrane/5azb.pdb\""
   ]
  },
  {
   "cell_type": "code",
   "execution_count": 199,
   "metadata": {},
   "outputs": [],
   "source": [
    "x = PDBParser().get_structure(\"x\", location)"
   ]
  },
  {
   "cell_type": "code",
   "execution_count": 202,
   "metadata": {},
   "outputs": [
    {
     "data": {
      "text/plain": [
       "65"
      ]
     },
     "execution_count": 202,
     "metadata": {},
     "output_type": "execute_result"
    }
   ],
   "source": [
    "list(x.get_residues())[37].get_id()[1]"
   ]
  },
  {
   "cell_type": "code",
   "execution_count": 209,
   "metadata": {},
   "outputs": [],
   "source": [
    "resseqs = [res.get_id()[1] for res in x.get_residues()]"
   ]
  },
  {
   "cell_type": "code",
   "execution_count": 211,
   "metadata": {},
   "outputs": [
    {
     "data": {
      "text/plain": [
       "65"
      ]
     },
     "execution_count": 211,
     "metadata": {},
     "output_type": "execute_result"
    }
   ],
   "source": [
    "resseqs[37]"
   ]
  },
  {
   "cell_type": "code",
   "execution_count": 195,
   "metadata": {},
   "outputs": [
    {
     "data": {
      "text/plain": [
       "'/Users/weilu/Research/database/membrane_training_set/transmembrane/4pgr.pdb'"
      ]
     },
     "execution_count": 195,
     "metadata": {},
     "output_type": "execute_result"
    }
   ],
   "source": [
    "toLocation"
   ]
  },
  {
   "cell_type": "code",
   "execution_count": 187,
   "metadata": {},
   "outputs": [
    {
     "name": "stdout",
     "output_type": "stream",
     "text": [
      "['6c70', '5azb', '4r1i', '6bvg', '4zr1', '5o5e', '6eu6', '4pgr']\n"
     ]
    }
   ],
   "source": [
    "print(pdb_list)"
   ]
  },
  {
   "cell_type": "code",
   "execution_count": 190,
   "metadata": {},
   "outputs": [
    {
     "name": "stdout",
     "output_type": "stream",
     "text": [
      "6c70\n",
      "5azb\n",
      "4r1i\n",
      "6bvg\n",
      "4zr1\n",
      "5o5e\n",
      "6eu6\n",
      "4pgr\n"
     ]
    }
   ],
   "source": [
    "with open(\"/Users/weilu/Research/server/may_2019/four_body_helix/optimization/protein_list\", \"w\") as out:\n",
    "    for pdb in pdb_list:\n",
    "        print(pdb)\n",
    "        out.write(pdb+\"\\n\")"
   ]
  },
  {
   "cell_type": "code",
   "execution_count": 192,
   "metadata": {},
   "outputs": [],
   "source": [
    "for pdb in pdb_list:\n",
    "    location = f\"/Users/weilu/Research/server/may_2019/four_body_helix/database/dompdb/{pdb}.pdb\"\n",
    "    toLocation = f\"/Users/weilu/Research/server/may_2019/four_body_helix/database/S20_seq/{pdb}.seq\"\n",
    "    seq = getSeqFromPDB(location, considerGap=False)\n",
    "    with open(toLocation, \"w\") as out:\n",
    "        out.write(seq+'\\n')"
   ]
  },
  {
   "cell_type": "code",
   "execution_count": 64,
   "metadata": {},
   "outputs": [],
   "source": [
    "x = PDBParser().get_structure(\"x\", \"/Users/weilu/Research/database/membrane_training_set/cleaned_pdbs/6c70.pdb\")"
   ]
  },
  {
   "cell_type": "code",
   "execution_count": 88,
   "metadata": {},
   "outputs": [],
   "source": [
    "seq = getSeqFromPDB(\"/Users/weilu/Research/database/membrane_training_set/transmembrane/gly_only.pdb\")"
   ]
  },
  {
   "cell_type": "code",
   "execution_count": 136,
   "metadata": {},
   "outputs": [
    {
     "name": "stdout",
     "output_type": "stream",
     "text": [
      "Found GXXXG 257 GDAYG\n"
     ]
    }
   ],
   "source": [
    "seq = getSeqFromPDB(\"/Users/weilu/Research/database/\")\n",
    "gxxxg_count = 0\n",
    "for i in range(len(seq)):\n",
    "    if seq[i] == \"G\" and seq[i+4] == \"G\" and \" \" not in seq[i:i+4]:\n",
    "        gxxxg_count += 1\n",
    "        print(\"Found GXXXG\", i, seq[i:i+5])"
   ]
  },
  {
   "cell_type": "code",
   "execution_count": 129,
   "metadata": {},
   "outputs": [],
   "source": [
    "location = \"/Users/weilu/Research/database/membrane_training_set/cleaned_pdbs/6c70.pdb\"\n",
    "location = \"/Users/weilu/Research/database/membrane_training_set/transmembrane/gly_only.pdb\"\n",
    "x = PDBParser().get_structure(\"x\", location)\n",
    "ppb=CaPPBuilder()\n",
    "seq = \"\""
   ]
  },
  {
   "cell_type": "code",
   "execution_count": 130,
   "metadata": {},
   "outputs": [
    {
     "data": {
      "text/plain": [
       "[<Polypeptide start=16 end=17>,\n",
       " <Polypeptide start=19 end=23>,\n",
       " <Polypeptide start=35 end=59>,\n",
       " <Polypeptide start=68 end=90>,\n",
       " <Polypeptide start=132 end=150>,\n",
       " <Polypeptide start=158 end=164>,\n",
       " <Polypeptide start=173 end=196>,\n",
       " <Polypeptide start=263 end=284>,\n",
       " <Polypeptide start=288 end=311>,\n",
       " <Polypeptide start=362 end=363>,\n",
       " <Polypeptide start=367 end=387>]"
      ]
     },
     "execution_count": 130,
     "metadata": {},
     "output_type": "execute_result"
    }
   ],
   "source": [
    "list(ppb.build_peptides(x))"
   ]
  },
  {
   "cell_type": "code",
   "execution_count": 131,
   "metadata": {},
   "outputs": [],
   "source": [
    "seq = \"\"\n",
    "preResId = 0\n",
    "for res in x.get_residues():\n",
    "    resId = res.get_id()[1]\n",
    "    if resId != preResId + 1:\n",
    "        seq += \" \"\n",
    "    seq += three_to_one(res.get_resname())\n",
    "    preResId = resId"
   ]
  },
  {
   "cell_type": "code",
   "execution_count": 134,
   "metadata": {},
   "outputs": [],
   "source": []
  },
  {
   "cell_type": "code",
   "execution_count": 135,
   "metadata": {},
   "outputs": [
    {
     "data": {
      "text/plain": [
       "'VM GVGHF PHRIYCIVTLLLLLLQYGMMAVNLM LTANTITMLFFLHPIVKMIYFPV CVAGATIFSVISWTGITFI LMIRTFY GHVFALIYQFYYLVISMAVSNSLD VALLLHMLTTTITLTLLAYQAT V GVNVYAATVIGYLLYTLGQVFLFC G FF LDLFASVLGAVVTYFMVLVQL'"
      ]
     },
     "execution_count": 135,
     "metadata": {},
     "output_type": "execute_result"
    }
   ],
   "source": [
    "getSeqFromPDB(location)"
   ]
  },
  {
   "cell_type": "code",
   "execution_count": 133,
   "metadata": {},
   "outputs": [
    {
     "data": {
      "text/plain": [
       "'VM GVGHF PHRIYCIVTLLLLLLQYGMMAVNLM LTANTITMLFFLHPIVKMIYFPV CVAGATIFSVISWTGITFI LMIRTFY GHVFALIYQFYYLVISMAVSNSLD VALLLHMLTTTITLTLLAYQAT V GVNVYAATVIGYLLYTLGQVFLFC G FF LDLFASVLGAVVTYFMVLVQL'"
      ]
     },
     "execution_count": 133,
     "metadata": {},
     "output_type": "execute_result"
    }
   ],
   "source": [
    "seq.strip()"
   ]
  },
  {
   "cell_type": "code",
   "execution_count": 125,
   "metadata": {},
   "outputs": [
    {
     "data": {
      "text/plain": [
       "388"
      ]
     },
     "execution_count": 125,
     "metadata": {},
     "output_type": "execute_result"
    }
   ],
   "source": [
    "res.get_id()[1]"
   ]
  },
  {
   "cell_type": "code",
   "execution_count": 121,
   "metadata": {},
   "outputs": [
    {
     "data": {
      "text/plain": [
       "'K'"
      ]
     },
     "execution_count": 121,
     "metadata": {},
     "output_type": "execute_result"
    }
   ],
   "source": [
    "three_to_one(res.get_resname())"
   ]
  },
  {
   "cell_type": "code",
   "execution_count": 118,
   "metadata": {},
   "outputs": [],
   "source": [
    "from Bio.PDB.Polypeptide import three_to_one"
   ]
  },
  {
   "cell_type": "code",
   "execution_count": 120,
   "metadata": {},
   "outputs": [
    {
     "data": {
      "text/plain": [
       "'K'"
      ]
     },
     "execution_count": 120,
     "metadata": {},
     "output_type": "execute_result"
    }
   ],
   "source": [
    "three_to_one(\"LYS\")"
   ]
  },
  {
   "cell_type": "code",
   "execution_count": 116,
   "metadata": {},
   "outputs": [
    {
     "data": {
      "text/plain": [
       "388"
      ]
     },
     "execution_count": 116,
     "metadata": {},
     "output_type": "execute_result"
    }
   ],
   "source": [
    "res.get_id()[1]"
   ]
  },
  {
   "cell_type": "code",
   "execution_count": 112,
   "metadata": {},
   "outputs": [
    {
     "data": {
      "text/plain": [
       "'A'"
      ]
     },
     "execution_count": 112,
     "metadata": {},
     "output_type": "execute_result"
    }
   ],
   "source": [
    "res.full_id[2]"
   ]
  },
  {
   "cell_type": "code",
   "execution_count": 113,
   "metadata": {},
   "outputs": [
    {
     "data": {
      "text/plain": [
       "'AAAAAAAAAAAAAAAAAAAAAAAAAAAAAAAAAAAAAAAAAAAAAAAAAAAAAAAAAAAAAAAAAAAAAAAAAAAAAAAAAAAAAAAAAAAAAAAAAAAAAAAAAAAAAAAAAAAAAAAAAAAAAAAAAAAAAAAAAAAAAAAAAAAAAAAAAAAAAAAAAAAAAAAAAAAAAAAAAAAAAAAAAAAAAAAAAAAAAAAAAAAAAAAAAAAAAAAAAAAAAAAAAAAAAAAAAAAAAAAAAAAAAAAAAAAAAAAAAAAAAAAAAAAAAAAAAAAAAAAAAAAAAAAAAAAAAAAAAAAAAAAAAAAAAAAAAAAAAAAAAAAAAAAAAAAAAAAAAAAAAAAAAAAAAAAAAAAAAAAAAAAAAAAAAAAAAAAAAAAAAAAAAAAA'"
      ]
     },
     "execution_count": 113,
     "metadata": {},
     "output_type": "execute_result"
    }
   ],
   "source": [
    "seq"
   ]
  },
  {
   "cell_type": "code",
   "execution_count": null,
   "metadata": {},
   "outputs": [],
   "source": []
  },
  {
   "cell_type": "code",
   "execution_count": 98,
   "metadata": {},
   "outputs": [
    {
     "data": {
      "text/plain": [
       "'FKHQGLVADLLPNIRVMQGVGHFMFNYYSEGKKFPHRIYCIVTLLLLLLQYGMMAVNLMMESDDVDDLTANTITMLFFLHPIVKMIYFPVRSKIFYKTLAIWNNPNSHPLFAESNARFHALAITKMRRLLFCVAGATIFSVISWTGITFIEDS PIPRLMIRTFYPFNAMSGAGHVFALIYQFYYLVISMAVSNSLDVLFCSWLLFACEQLQHLKAIMKPLMELSAT GLTKKQEMLVRSAIKYWVERHKHVVRLVTAVGDAYGVALLLHMLTTTITLTLLAYQATKVNGVNVYAATVIGYLLYTLGQVFLFCIFGNRLIEESSSVMEAAYSCHWYDGSEEAKTFVQIVCQQCQKAMSISGAKFFTVSLDLFASVLGAVVTYFMVLVQLK'"
      ]
     },
     "execution_count": 98,
     "metadata": {},
     "output_type": "execute_result"
    }
   ],
   "source": [
    "aseq"
   ]
  },
  {
   "cell_type": "code",
   "execution_count": 99,
   "metadata": {},
   "outputs": [
    {
     "name": "stdout",
     "output_type": "stream",
     "text": [
      "153\n",
      "227\n"
     ]
    }
   ],
   "source": [
    "for i in range(len(seq)):\n",
    "    if seq[i] == \" \":\n",
    "        print(i)"
   ]
  },
  {
   "cell_type": "code",
   "execution_count": 90,
   "metadata": {},
   "outputs": [
    {
     "data": {
      "text/plain": [
       "0"
      ]
     },
     "execution_count": 90,
     "metadata": {},
     "output_type": "execute_result"
    }
   ],
   "source": [
    "gxxxg_count"
   ]
  },
  {
   "cell_type": "code",
   "execution_count": 96,
   "metadata": {},
   "outputs": [],
   "source": [
    "def getSeqFromPDB(location, considerGap=True):\n",
    "    x = PDBParser().get_structure(\"x\", location)\n",
    "    ppb=PPBuilder()\n",
    "    seq = \"\"\n",
    "    for pp in ppb.build_peptides(x):\n",
    "        if considerGap:\n",
    "            seq += \" \" + str(pp.get_sequence())\n",
    "        else:\n",
    "            seq += str(pp.get_sequence())\n",
    "    return seq.strip()"
   ]
  },
  {
   "cell_type": "code",
   "execution_count": 82,
   "metadata": {},
   "outputs": [
    {
     "data": {
      "text/plain": [
       "388"
      ]
     },
     "execution_count": 82,
     "metadata": {},
     "output_type": "execute_result"
    }
   ],
   "source": [
    "len(seq)"
   ]
  },
  {
   "cell_type": "code",
   "execution_count": 72,
   "metadata": {},
   "outputs": [],
   "source": [
    "a = app.get_sequence()"
   ]
  },
  {
   "cell_type": "code",
   "execution_count": 70,
   "metadata": {},
   "outputs": [
    {
     "data": {
      "text/plain": [
       "'GLTKKQEMLVRSAIKYWVERHKHVVRLVTAVGDAYGVALLLHMLTTTITLTLLAYQATKVNGVNVYAATVIGYLLYTLGQVFLFCIFGNRLIEESSSVMEAAYSCHWYDGSEEAKTFVQIVCQQCQKAMSISGAKFFTVSLDLFASVLGAVVTYFMVLVQLK'"
      ]
     },
     "execution_count": 70,
     "metadata": {},
     "output_type": "execute_result"
    }
   ],
   "source": [
    "str(pp.get_sequence())"
   ]
  },
  {
   "cell_type": "code",
   "execution_count": 41,
   "metadata": {},
   "outputs": [],
   "source": [
    "res = list(x.get_residues())[0]"
   ]
  },
  {
   "cell_type": "code",
   "execution_count": 42,
   "metadata": {},
   "outputs": [],
   "source": [
    "ca = res[\"CA\"]"
   ]
  },
  {
   "cell_type": "code",
   "execution_count": 45,
   "metadata": {},
   "outputs": [
    {
     "ename": "SyntaxError",
     "evalue": "invalid syntax (<ipython-input-45-4d008d927f5f>, line 1)",
     "output_type": "error",
     "traceback": [
      "\u001b[0;36m  File \u001b[0;32m\"<ipython-input-45-4d008d927f5f>\"\u001b[0;36m, line \u001b[0;32m1\u001b[0m\n\u001b[0;31m    if abs(ca.get_vector()[-1]) > 15\u001b[0m\n\u001b[0m                                    ^\u001b[0m\n\u001b[0;31mSyntaxError\u001b[0m\u001b[0;31m:\u001b[0m invalid syntax\n"
     ]
    }
   ],
   "source": [
    "if abs(ca.get_vector()[-1]) > 15"
   ]
  },
  {
   "cell_type": "code",
   "execution_count": 46,
   "metadata": {},
   "outputs": [],
   "source": [
    "from Bio.PDB.PDBIO import PDBIO"
   ]
  },
  {
   "cell_type": "code",
   "execution_count": 53,
   "metadata": {},
   "outputs": [],
   "source": [
    "pre = \"/Users/weilu/Research/database/membrane_training_set/transmembrane/\""
   ]
  },
  {
   "cell_type": "code",
   "execution_count": 54,
   "metadata": {},
   "outputs": [],
   "source": [
    "from Bio.PDB.PDBIO import Select"
   ]
  },
  {
   "cell_type": "code",
   "execution_count": 55,
   "metadata": {},
   "outputs": [],
   "source": [
    "class Transmembrane(Select):\n",
    "    def accept_residue(self, residue):\n",
    "        if abs(residue[\"CA\"].get_vector()[-1]) < 15:\n",
    "            return 1\n",
    "        else:\n",
    "            return 0\n",
    "\n",
    "io = PDBIO()\n",
    "io.set_structure(x)\n",
    "io.save(pre + 'gly_only.pdb', Transmembrane())"
   ]
  },
  {
   "cell_type": "code",
   "execution_count": 56,
   "metadata": {},
   "outputs": [
    {
     "data": {
      "text/plain": [
       "(' ', 1, ' ')"
      ]
     },
     "execution_count": 56,
     "metadata": {},
     "output_type": "execute_result"
    }
   ],
   "source": [
    "res.get_id()"
   ]
  },
  {
   "cell_type": "code",
   "execution_count": 57,
   "metadata": {},
   "outputs": [],
   "source": [
    "x = PDBParser().get_structure(\"x\", pre + 'gly_only.pdb')"
   ]
  },
  {
   "cell_type": "code",
   "execution_count": 58,
   "metadata": {},
   "outputs": [],
   "source": [
    "res = list(x.get_residues())[50]"
   ]
  },
  {
   "cell_type": "code",
   "execution_count": 59,
   "metadata": {},
   "outputs": [
    {
     "data": {
      "text/plain": [
       "(' ', 86, ' ')"
      ]
     },
     "execution_count": 59,
     "metadata": {},
     "output_type": "execute_result"
    }
   ],
   "source": [
    "res.get_id()"
   ]
  },
  {
   "cell_type": "code",
   "execution_count": null,
   "metadata": {},
   "outputs": [],
   "source": []
  }
 ],
 "metadata": {
  "kernelspec": {
   "display_name": "Python 3",
   "language": "python",
   "name": "python3"
  },
  "language_info": {
   "codemirror_mode": {
    "name": "ipython",
    "version": 3
   },
   "file_extension": ".py",
   "mimetype": "text/x-python",
   "name": "python",
   "nbconvert_exporter": "python",
   "pygments_lexer": "ipython3",
   "version": "3.6.8"
  }
 },
 "nbformat": 4,
 "nbformat_minor": 2
}
