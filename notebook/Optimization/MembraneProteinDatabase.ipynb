{
 "cells": [
  {
   "cell_type": "code",
   "execution_count": 1,
   "metadata": {},
   "outputs": [],
   "source": [
    "import numpy as np\n",
    "import pandas as pd\n",
    "import matplotlib.pyplot as plt\n",
    "import seaborn as sns\n",
    "import datetime\n",
    "import os\n",
    "# from small_script.myFunctions import *\n",
    "\n",
    "plt.rcParams['figure.figsize'] = [16.18033, 10]    #golden ratio\n",
    "plt.rcParams['figure.facecolor'] = 'w'\n",
    "plt.rcParams['figure.dpi'] = 100\n",
    "\n",
    "%matplotlib inline\n",
    "%load_ext autoreload\n",
    "%autoreload 2"
   ]
  },
  {
   "cell_type": "code",
   "execution_count": 3,
   "metadata": {},
   "outputs": [],
   "source": [
    "data = pd.read_csv(\"/Users/weilu/Research/database/membrane_training_set/proteins-2019-05-01.csv\")"
   ]
  },
  {
   "cell_type": "code",
   "execution_count": 22,
   "metadata": {},
   "outputs": [],
   "source": [
    "data.pdbid = data.pdbid.apply(lambda x: x[2:-1])"
   ]
  },
  {
   "cell_type": "code",
   "execution_count": 23,
   "metadata": {},
   "outputs": [
    {
     "data": {
      "text/html": [
       "<div>\n",
       "<style scoped>\n",
       "    .dataframe tbody tr th:only-of-type {\n",
       "        vertical-align: middle;\n",
       "    }\n",
       "\n",
       "    .dataframe tbody tr th {\n",
       "        vertical-align: top;\n",
       "    }\n",
       "\n",
       "    .dataframe thead th {\n",
       "        text-align: right;\n",
       "    }\n",
       "</style>\n",
       "<table border=\"1\" class=\"dataframe\">\n",
       "  <thead>\n",
       "    <tr style=\"text-align: right;\">\n",
       "      <th></th>\n",
       "      <th>id</th>\n",
       "      <th>ordering</th>\n",
       "      <th>family_name_cache</th>\n",
       "      <th>species_name_cache</th>\n",
       "      <th>membrane_name_cache</th>\n",
       "      <th>name</th>\n",
       "      <th>description</th>\n",
       "      <th>comments</th>\n",
       "      <th>pdbid</th>\n",
       "      <th>resolution</th>\n",
       "      <th>...</th>\n",
       "      <th>species_id</th>\n",
       "      <th>family_id</th>\n",
       "      <th>superfamily_id</th>\n",
       "      <th>classtype_id</th>\n",
       "      <th>type_id</th>\n",
       "      <th>secondary_representations_count</th>\n",
       "      <th>structure_subunits_count</th>\n",
       "      <th>citations_count</th>\n",
       "      <th>created_at</th>\n",
       "      <th>updated_at</th>\n",
       "    </tr>\n",
       "  </thead>\n",
       "  <tbody>\n",
       "    <tr>\n",
       "      <th>0</th>\n",
       "      <td>1</td>\n",
       "      <td>2024.0</td>\n",
       "      <td>OmpA family</td>\n",
       "      <td>Escherichia coli</td>\n",
       "      <td>Gram-neg. outer</td>\n",
       "      <td>Outer membrane protein A (OMPA), disordered loops</td>\n",
       "      <td>NaN</td>\n",
       "      <td>OmpA is required for the action of colicins K ...</td>\n",
       "      <td>1qjp</td>\n",
       "      <td>1.65</td>\n",
       "      <td>...</td>\n",
       "      <td>9</td>\n",
       "      <td>34</td>\n",
       "      <td>26</td>\n",
       "      <td>2</td>\n",
       "      <td>1</td>\n",
       "      <td>3</td>\n",
       "      <td>1</td>\n",
       "      <td>2</td>\n",
       "      <td>2018-08-13 03:49:46 UTC</td>\n",
       "      <td>2018-09-21 18:14:03 UTC</td>\n",
       "    </tr>\n",
       "    <tr>\n",
       "      <th>1</th>\n",
       "      <td>2</td>\n",
       "      <td>2028.0</td>\n",
       "      <td>Enterobacterial Ail/Lom protein</td>\n",
       "      <td>Escherichia coli</td>\n",
       "      <td>Gram-neg. outer</td>\n",
       "      <td>Outer membrane protein X (OMPX)</td>\n",
       "      <td>NaN</td>\n",
       "      <td>OmpX from Escherichia coli promotes adhesion t...</td>\n",
       "      <td>1qj8</td>\n",
       "      <td>1.90</td>\n",
       "      <td>...</td>\n",
       "      <td>9</td>\n",
       "      <td>355</td>\n",
       "      <td>26</td>\n",
       "      <td>2</td>\n",
       "      <td>1</td>\n",
       "      <td>7</td>\n",
       "      <td>1</td>\n",
       "      <td>1</td>\n",
       "      <td>2018-08-13 03:49:46 UTC</td>\n",
       "      <td>2018-09-21 18:14:03 UTC</td>\n",
       "    </tr>\n",
       "    <tr>\n",
       "      <th>2</th>\n",
       "      <td>3</td>\n",
       "      <td>2033.0</td>\n",
       "      <td>Opacity porins</td>\n",
       "      <td>Neisseria meningitidis</td>\n",
       "      <td>Gram-neg. outer</td>\n",
       "      <td>Outer membrane protein NspA</td>\n",
       "      <td>NaN</td>\n",
       "      <td>Pathogenic Neisseria spp. possess a repertoire...</td>\n",
       "      <td>1p4t</td>\n",
       "      <td>2.55</td>\n",
       "      <td>...</td>\n",
       "      <td>24</td>\n",
       "      <td>337</td>\n",
       "      <td>235</td>\n",
       "      <td>2</td>\n",
       "      <td>1</td>\n",
       "      <td>0</td>\n",
       "      <td>1</td>\n",
       "      <td>0</td>\n",
       "      <td>2018-08-13 03:49:46 UTC</td>\n",
       "      <td>2018-09-21 18:14:03 UTC</td>\n",
       "    </tr>\n",
       "    <tr>\n",
       "      <th>3</th>\n",
       "      <td>4</td>\n",
       "      <td>1740.0</td>\n",
       "      <td>Influenza virus matrix protein 2</td>\n",
       "      <td>Influenza virus</td>\n",
       "      <td>Viral</td>\n",
       "      <td>M2 proton channel of Influenza A, closed state...</td>\n",
       "      <td>NaN</td>\n",
       "      <td>NaN</td>\n",
       "      <td>3lbw</td>\n",
       "      <td>1.65</td>\n",
       "      <td>...</td>\n",
       "      <td>51</td>\n",
       "      <td>263</td>\n",
       "      <td>185</td>\n",
       "      <td>11</td>\n",
       "      <td>1</td>\n",
       "      <td>3</td>\n",
       "      <td>4</td>\n",
       "      <td>0</td>\n",
       "      <td>2018-08-13 03:49:46 UTC</td>\n",
       "      <td>2018-10-02 17:42:36 UTC</td>\n",
       "    </tr>\n",
       "    <tr>\n",
       "      <th>4</th>\n",
       "      <td>5</td>\n",
       "      <td>2045.0</td>\n",
       "      <td>OM protease omptin, OMPT</td>\n",
       "      <td>Yersinia pestis</td>\n",
       "      <td>Gram-neg. outer</td>\n",
       "      <td>Plasminogen activator PLA (coagulase/fibrinoly...</td>\n",
       "      <td>NaN</td>\n",
       "      <td>NaN</td>\n",
       "      <td>2x55</td>\n",
       "      <td>1.85</td>\n",
       "      <td>...</td>\n",
       "      <td>299</td>\n",
       "      <td>36</td>\n",
       "      <td>27</td>\n",
       "      <td>2</td>\n",
       "      <td>1</td>\n",
       "      <td>2</td>\n",
       "      <td>1</td>\n",
       "      <td>0</td>\n",
       "      <td>2018-08-13 03:49:46 UTC</td>\n",
       "      <td>2018-09-21 18:14:03 UTC</td>\n",
       "    </tr>\n",
       "  </tbody>\n",
       "</table>\n",
       "<p>5 rows × 31 columns</p>\n",
       "</div>"
      ],
      "text/plain": [
       "   id  ordering                 family_name_cache      species_name_cache  \\\n",
       "0   1    2024.0                       OmpA family        Escherichia coli   \n",
       "1   2    2028.0   Enterobacterial Ail/Lom protein        Escherichia coli   \n",
       "2   3    2033.0                    Opacity porins  Neisseria meningitidis   \n",
       "3   4    1740.0  Influenza virus matrix protein 2         Influenza virus   \n",
       "4   5    2045.0          OM protease omptin, OMPT         Yersinia pestis   \n",
       "\n",
       "  membrane_name_cache                                               name  \\\n",
       "0     Gram-neg. outer  Outer membrane protein A (OMPA), disordered loops   \n",
       "1     Gram-neg. outer                    Outer membrane protein X (OMPX)   \n",
       "2     Gram-neg. outer                        Outer membrane protein NspA   \n",
       "3               Viral  M2 proton channel of Influenza A, closed state...   \n",
       "4     Gram-neg. outer  Plasminogen activator PLA (coagulase/fibrinoly...   \n",
       "\n",
       "  description                                           comments pdbid  \\\n",
       "0         NaN  OmpA is required for the action of colicins K ...  1qjp   \n",
       "1         NaN  OmpX from Escherichia coli promotes adhesion t...  1qj8   \n",
       "2         NaN  Pathogenic Neisseria spp. possess a repertoire...  1p4t   \n",
       "3         NaN                                                NaN  3lbw   \n",
       "4         NaN                                                NaN  2x55   \n",
       "\n",
       "  resolution  ... species_id  family_id  superfamily_id  classtype_id  \\\n",
       "0       1.65  ...          9         34              26             2   \n",
       "1       1.90  ...          9        355              26             2   \n",
       "2       2.55  ...         24        337             235             2   \n",
       "3       1.65  ...         51        263             185            11   \n",
       "4       1.85  ...        299         36              27             2   \n",
       "\n",
       "   type_id  secondary_representations_count  structure_subunits_count  \\\n",
       "0        1                                3                         1   \n",
       "1        1                                7                         1   \n",
       "2        1                                0                         1   \n",
       "3        1                                3                         4   \n",
       "4        1                                2                         1   \n",
       "\n",
       "   citations_count               created_at               updated_at  \n",
       "0                2  2018-08-13 03:49:46 UTC  2018-09-21 18:14:03 UTC  \n",
       "1                1  2018-08-13 03:49:46 UTC  2018-09-21 18:14:03 UTC  \n",
       "2                0  2018-08-13 03:49:46 UTC  2018-09-21 18:14:03 UTC  \n",
       "3                0  2018-08-13 03:49:46 UTC  2018-10-02 17:42:36 UTC  \n",
       "4                0  2018-08-13 03:49:46 UTC  2018-09-21 18:14:03 UTC  \n",
       "\n",
       "[5 rows x 31 columns]"
      ]
     },
     "execution_count": 23,
     "metadata": {},
     "output_type": "execute_result"
    }
   ],
   "source": [
    "data.head()"
   ]
  },
  {
   "cell_type": "code",
   "execution_count": 24,
   "metadata": {},
   "outputs": [
    {
     "data": {
      "text/plain": [
       "(120,)"
      ]
     },
     "execution_count": 24,
     "metadata": {},
     "output_type": "execute_result"
    }
   ],
   "source": [
    "data.query(\"classtype_id == 1\")[\"superfamily_id\"].unique().shape"
   ]
  },
  {
   "cell_type": "markdown",
   "metadata": {},
   "source": [
    "# class 1 is Alpha-helical polytopic"
   ]
  },
  {
   "cell_type": "code",
   "execution_count": 25,
   "metadata": {},
   "outputs": [],
   "source": [
    "d = data.query(\"classtype_id == 1\")"
   ]
  },
  {
   "cell_type": "code",
   "execution_count": 27,
   "metadata": {},
   "outputs": [],
   "source": [
    "dd = d.groupby(\"superfamily_id\").apply(pd.DataFrame.sample, 1).reset_index(drop=True)"
   ]
  },
  {
   "cell_type": "code",
   "execution_count": 32,
   "metadata": {},
   "outputs": [],
   "source": [
    "dd.to_csv(\"/Users/weilu/Research/database/membrane_training_set/chosen.csv\")"
   ]
  },
  {
   "cell_type": "code",
   "execution_count": 137,
   "metadata": {},
   "outputs": [
    {
     "data": {
      "text/plain": [
       "(120, 31)"
      ]
     },
     "execution_count": 137,
     "metadata": {},
     "output_type": "execute_result"
    }
   ],
   "source": [
    "dd.shape"
   ]
  },
  {
   "cell_type": "code",
   "execution_count": null,
   "metadata": {},
   "outputs": [],
   "source": []
  },
  {
   "cell_type": "code",
   "execution_count": 141,
   "metadata": {},
   "outputs": [
    {
     "data": {
      "text/plain": [
       "(600, 31)"
      ]
     },
     "execution_count": 141,
     "metadata": {},
     "output_type": "execute_result"
    }
   ],
   "source": [
    "dd2.shape"
   ]
  },
  {
   "cell_type": "code",
   "execution_count": 28,
   "metadata": {},
   "outputs": [],
   "source": [
    "test = dd.sample(10)"
   ]
  },
  {
   "cell_type": "code",
   "execution_count": 31,
   "metadata": {},
   "outputs": [
    {
     "name": "stdout",
     "output_type": "stream",
     "text": [
      "['6c70', '5azb', '6mlu', '4r1i', '6bvg', '4zr1', '5o5e', '1lv7', '6eu6', '4pgr']\n"
     ]
    }
   ],
   "source": [
    "print(test.pdbid.tolist())"
   ]
  },
  {
   "cell_type": "code",
   "execution_count": null,
   "metadata": {},
   "outputs": [],
   "source": [
    "pd.DataFrame.sample"
   ]
  },
  {
   "cell_type": "code",
   "execution_count": 9,
   "metadata": {},
   "outputs": [],
   "source": [
    "t = data[\"superfamily_id\"]"
   ]
  },
  {
   "cell_type": "code",
   "execution_count": null,
   "metadata": {},
   "outputs": [],
   "source": [
    "t.unique()"
   ]
  },
  {
   "cell_type": "markdown",
   "metadata": {},
   "source": [
    "# extract transmembrane region."
   ]
  },
  {
   "cell_type": "code",
   "execution_count": 60,
   "metadata": {},
   "outputs": [],
   "source": [
    "from Bio.PDB.PDBParser import PDBParser\n",
    "from Bio.PDB.Polypeptide import PPBuilder\n"
   ]
  },
  {
   "cell_type": "code",
   "execution_count": 174,
   "metadata": {},
   "outputs": [],
   "source": [
    "def get_inside_or_not_table(pdb_file):\n",
    "    parser = PDBParser(PERMISSIVE=1,QUIET=True)\n",
    "    structure = parser.get_structure('X', pdb_file)\n",
    "    inside_or_not_table = []\n",
    "    for res in structure.get_residues():\n",
    "        if res.get_id()[0] != \" \":\n",
    "            continue# skip\n",
    "        try:\n",
    "            res[\"CA\"].get_vector()\n",
    "        except:\n",
    "            print(res.get_id())\n",
    "        inside_or_not_table.append(int(abs(res[\"CA\"].get_vector()[-1]) < 15))\n",
    "    return inside_or_not_table"
   ]
  },
  {
   "cell_type": "code",
   "execution_count": 175,
   "metadata": {},
   "outputs": [],
   "source": [
    "pdb_list = ['6c70', '5azb', '6mlu', '4r1i', '6bvg', '4zr1', '5o5e', '1lv7', '6eu6', '4pgr']"
   ]
  },
  {
   "cell_type": "code",
   "execution_count": 178,
   "metadata": {},
   "outputs": [
    {
     "name": "stdout",
     "output_type": "stream",
     "text": [
      "6c70 0.4536082474226804\n",
      "5azb 0.6232394366197183\n",
      "not good 6mlu 0.07516339869281045\n",
      "6mlu 0.07516339869281045\n",
      "4r1i 0.5735439289239882\n",
      "6bvg 0.6767337807606264\n",
      "4zr1 0.48905109489051096\n",
      "5o5e 0.5853018372703412\n",
      "not good 1lv7 0.00398406374501992\n",
      "1lv7 0.00398406374501992\n",
      "6eu6 0.6469135802469136\n",
      "4pgr 0.7536231884057971\n"
     ]
    }
   ],
   "source": [
    "for pdb in pdb_list:\n",
    "    location = pre + f\"../Alpha-helical_polytopic/{pdb}.pdb\"\n",
    "    a = get_inside_or_not_table(location)\n",
    "    ratio = sum(a)/len(a)\n",
    "    if ratio < 0.4:\n",
    "        print(\"not good\", pdb, ratio)\n",
    "    print(pdb, ratio)"
   ]
  },
  {
   "cell_type": "code",
   "execution_count": 142,
   "metadata": {},
   "outputs": [],
   "source": [
    "def extractTransmembrane(toLocation, location):\n",
    "    x = PDBParser().get_structure(\"x\", location)\n",
    "    class Transmembrane(Select):\n",
    "        def accept_residue(self, residue):\n",
    "            if abs(residue[\"CA\"].get_vector()[-1]) < 15:\n",
    "                return 1\n",
    "            else:\n",
    "                return 0\n",
    "\n",
    "    io = PDBIO()\n",
    "    io.set_structure(x)\n",
    "    io.save(toLocation, Transmembrane())"
   ]
  },
  {
   "cell_type": "code",
   "execution_count": 144,
   "metadata": {},
   "outputs": [],
   "source": []
  },
  {
   "cell_type": "code",
   "execution_count": 145,
   "metadata": {},
   "outputs": [],
   "source": [
    "for pdb in pdb_list:\n",
    "    pre = \"/Users/weilu/Research/database/membrane_training_set/\"\n",
    "    toLocation = pre + f\"transmembrane/{pdb}.pdb\"\n",
    "    location = pre + f\"cleaned_pdbs/{pdb}.pdb\"\n",
    "    extractTransmembrane(toLocation, location)"
   ]
  },
  {
   "cell_type": "code",
   "execution_count": 180,
   "metadata": {},
   "outputs": [
    {
     "name": "stdout",
     "output_type": "stream",
     "text": [
      "6c70 Found GXXXG 87 GHVFA\n",
      "5azb Found GXXXG 22 GFIFA\n",
      "4r1i Found GXXXG 58 GVGIA\n",
      "4r1i Found GXXXG 86 GGYSA\n",
      "4r1i Found GXXXG 136 GLIWA\n",
      "4r1i Found GXXXG 256 GSASA\n",
      "6bvg Found GXXXG 62 GGSWA\n",
      "6bvg Found GXXXG 71 GGAFA\n",
      "6bvg Found GXXXG 72 GAFAA\n",
      "6bvg Found GXXXG 109 GFLGA\n",
      "6bvg Found GXXXG 164 GRWIA\n",
      "6bvg Found GXXXG 236 GSTAA\n",
      "6bvg Found GXXXG 266 GLAFA\n",
      "5o5e Found GXXXG 48 GALLA\n",
      "5o5e Found GXXXG 175 GMTFA\n",
      "6eu6 Found GXXXG 117 GGWFA\n",
      "6eu6 Found GXXXG 256 GVIVA\n",
      "4pgr Found GXXXG 84 GTIGA\n"
     ]
    }
   ],
   "source": [
    "pdb_list = ['6c70', '5azb', '4r1i', '6bvg', '4zr1', '5o5e', '6eu6', '4pgr']\n",
    "for pdb in pdb_list:\n",
    "    toLocation = pre + f\"transmembrane/{pdb}.pdb\"\n",
    "    seq = getSeqFromPDB(toLocation)\n",
    "    gxxxg_count = 0\n",
    "    for i in range(len(seq)-4):\n",
    "        if seq[i] == \"G\" and seq[i+4] == \"A\" and \" \" not in seq[i:i+4]:\n",
    "            gxxxg_count += 1\n",
    "            print(pdb, \"Found GXXXG\", i, seq[i:i+5])"
   ]
  },
  {
   "cell_type": "code",
   "execution_count": 181,
   "metadata": {},
   "outputs": [
    {
     "name": "stdout",
     "output_type": "stream",
     "text": [
      "5azb Found GXXXG 38 GVFLG\n",
      "5azb Found GXXXG 42 GGRIG\n",
      "5azb Found GXXXG 75 GGLIG\n",
      "5azb Found GXXXG 97 GLGAG\n",
      "5azb Found GXXXG 109 GELWG\n",
      "4r1i Found GXXXG 83 GVSGG\n",
      "4r1i Found GXXXG 174 GIVYG\n",
      "6bvg Found GXXXG 28 GKLIG\n",
      "6bvg Found GXXXG 101 GVFVG\n",
      "6bvg Found GXXXG 105 GIITG\n",
      "6bvg Found GXXXG 232 GQVIG\n",
      "4zr1 Found GXXXG 116 GFAGG\n",
      "4zr1 Found GXXXG 119 GGLFG\n",
      "5o5e Found GXXXG 23 GVISG\n",
      "5o5e Found GXXXG 122 GLEAG\n",
      "6eu6 Found GXXXG 143 GFNGG\n",
      "6eu6 Found GXXXG 205 GLITG\n",
      "6eu6 Found GXXXG 232 GGVIG\n",
      "4pgr Found GXXXG 14 GLFIG\n"
     ]
    }
   ],
   "source": [
    "for pdb in pdb_list:\n",
    "    toLocation = pre + f\"transmembrane/{pdb}.pdb\"\n",
    "    seq = getSeqFromPDB(toLocation)\n",
    "    gxxxg_count = 0\n",
    "    for i in range(len(seq)-4):\n",
    "        if seq[i] == \"G\" and seq[i+4] == \"G\" and \" \" not in seq[i:i+4]:\n",
    "            gxxxg_count += 1\n",
    "            print(pdb, \"Found GXXXG\", i, seq[i:i+5])"
   ]
  },
  {
   "cell_type": "code",
   "execution_count": 183,
   "metadata": {},
   "outputs": [],
   "source": [
    "def count_general_amino_acid_combinations(number_of_amino_acid_types, number_of_sites):\n",
    "    number_of_valid_codes = 0\n",
    "    possible_codes = list(set(itertools.combinations_with_replacement(list(range(number_of_sites+1))*number_of_amino_acid_types, number_of_amino_acid_types)))\n",
    "    for code in possible_codes:\n",
    "        if sum(list(code)) == number_of_sites:\n",
    "            print(code)\n",
    "            number_of_valid_codes += 1\n",
    "    print(number_of_valid_codes)"
   ]
  },
  {
   "cell_type": "code",
   "execution_count": null,
   "metadata": {},
   "outputs": [],
   "source": []
  },
  {
   "cell_type": "code",
   "execution_count": null,
   "metadata": {},
   "outputs": [],
   "source": []
  },
  {
   "cell_type": "code",
   "execution_count": 64,
   "metadata": {},
   "outputs": [],
   "source": [
    "x = PDBParser().get_structure(\"x\", \"/Users/weilu/Research/database/membrane_training_set/cleaned_pdbs/6c70.pdb\")"
   ]
  },
  {
   "cell_type": "code",
   "execution_count": 88,
   "metadata": {},
   "outputs": [],
   "source": [
    "seq = getSeqFromPDB(\"/Users/weilu/Research/database/membrane_training_set/transmembrane/gly_only.pdb\")"
   ]
  },
  {
   "cell_type": "code",
   "execution_count": 136,
   "metadata": {},
   "outputs": [
    {
     "name": "stdout",
     "output_type": "stream",
     "text": [
      "Found GXXXG 257 GDAYG\n"
     ]
    }
   ],
   "source": [
    "seq = getSeqFromPDB(\"/Users/weilu/Research/database/\")\n",
    "gxxxg_count = 0\n",
    "for i in range(len(seq)):\n",
    "    if seq[i] == \"G\" and seq[i+4] == \"G\" and \" \" not in seq[i:i+4]:\n",
    "        gxxxg_count += 1\n",
    "        print(\"Found GXXXG\", i, seq[i:i+5])"
   ]
  },
  {
   "cell_type": "code",
   "execution_count": 129,
   "metadata": {},
   "outputs": [],
   "source": [
    "location = \"/Users/weilu/Research/database/membrane_training_set/cleaned_pdbs/6c70.pdb\"\n",
    "location = \"/Users/weilu/Research/database/membrane_training_set/transmembrane/gly_only.pdb\"\n",
    "x = PDBParser().get_structure(\"x\", location)\n",
    "ppb=CaPPBuilder()\n",
    "seq = \"\""
   ]
  },
  {
   "cell_type": "code",
   "execution_count": 130,
   "metadata": {},
   "outputs": [
    {
     "data": {
      "text/plain": [
       "[<Polypeptide start=16 end=17>,\n",
       " <Polypeptide start=19 end=23>,\n",
       " <Polypeptide start=35 end=59>,\n",
       " <Polypeptide start=68 end=90>,\n",
       " <Polypeptide start=132 end=150>,\n",
       " <Polypeptide start=158 end=164>,\n",
       " <Polypeptide start=173 end=196>,\n",
       " <Polypeptide start=263 end=284>,\n",
       " <Polypeptide start=288 end=311>,\n",
       " <Polypeptide start=362 end=363>,\n",
       " <Polypeptide start=367 end=387>]"
      ]
     },
     "execution_count": 130,
     "metadata": {},
     "output_type": "execute_result"
    }
   ],
   "source": [
    "list(ppb.build_peptides(x))"
   ]
  },
  {
   "cell_type": "code",
   "execution_count": 131,
   "metadata": {},
   "outputs": [],
   "source": [
    "seq = \"\"\n",
    "preResId = 0\n",
    "for res in x.get_residues():\n",
    "    resId = res.get_id()[1]\n",
    "    if resId != preResId + 1:\n",
    "        seq += \" \"\n",
    "    seq += three_to_one(res.get_resname())\n",
    "    preResId = resId"
   ]
  },
  {
   "cell_type": "code",
   "execution_count": 134,
   "metadata": {},
   "outputs": [],
   "source": [
    "def getSeqFromPDB(location, considerGap=True):\n",
    "    x = PDBParser().get_structure(\"x\", location)\n",
    "    seq = \"\"\n",
    "    preResId = 0\n",
    "    for res in x.get_residues():\n",
    "        resId = res.get_id()[1]\n",
    "        if considerGap and resId != preResId + 1:\n",
    "            seq += \" \"\n",
    "        seq += three_to_one(res.get_resname())\n",
    "        preResId = resId\n",
    "    return seq.strip()"
   ]
  },
  {
   "cell_type": "code",
   "execution_count": 135,
   "metadata": {},
   "outputs": [
    {
     "data": {
      "text/plain": [
       "'VM GVGHF PHRIYCIVTLLLLLLQYGMMAVNLM LTANTITMLFFLHPIVKMIYFPV CVAGATIFSVISWTGITFI LMIRTFY GHVFALIYQFYYLVISMAVSNSLD VALLLHMLTTTITLTLLAYQAT V GVNVYAATVIGYLLYTLGQVFLFC G FF LDLFASVLGAVVTYFMVLVQL'"
      ]
     },
     "execution_count": 135,
     "metadata": {},
     "output_type": "execute_result"
    }
   ],
   "source": [
    "getSeqFromPDB(location)"
   ]
  },
  {
   "cell_type": "code",
   "execution_count": 133,
   "metadata": {},
   "outputs": [
    {
     "data": {
      "text/plain": [
       "'VM GVGHF PHRIYCIVTLLLLLLQYGMMAVNLM LTANTITMLFFLHPIVKMIYFPV CVAGATIFSVISWTGITFI LMIRTFY GHVFALIYQFYYLVISMAVSNSLD VALLLHMLTTTITLTLLAYQAT V GVNVYAATVIGYLLYTLGQVFLFC G FF LDLFASVLGAVVTYFMVLVQL'"
      ]
     },
     "execution_count": 133,
     "metadata": {},
     "output_type": "execute_result"
    }
   ],
   "source": [
    "seq.strip()"
   ]
  },
  {
   "cell_type": "code",
   "execution_count": 125,
   "metadata": {},
   "outputs": [
    {
     "data": {
      "text/plain": [
       "388"
      ]
     },
     "execution_count": 125,
     "metadata": {},
     "output_type": "execute_result"
    }
   ],
   "source": [
    "res.get_id()[1]"
   ]
  },
  {
   "cell_type": "code",
   "execution_count": 121,
   "metadata": {},
   "outputs": [
    {
     "data": {
      "text/plain": [
       "'K'"
      ]
     },
     "execution_count": 121,
     "metadata": {},
     "output_type": "execute_result"
    }
   ],
   "source": [
    "three_to_one(res.get_resname())"
   ]
  },
  {
   "cell_type": "code",
   "execution_count": 118,
   "metadata": {},
   "outputs": [],
   "source": [
    "from Bio.PDB.Polypeptide import three_to_one"
   ]
  },
  {
   "cell_type": "code",
   "execution_count": 120,
   "metadata": {},
   "outputs": [
    {
     "data": {
      "text/plain": [
       "'K'"
      ]
     },
     "execution_count": 120,
     "metadata": {},
     "output_type": "execute_result"
    }
   ],
   "source": [
    "three_to_one(\"LYS\")"
   ]
  },
  {
   "cell_type": "code",
   "execution_count": 116,
   "metadata": {},
   "outputs": [
    {
     "data": {
      "text/plain": [
       "388"
      ]
     },
     "execution_count": 116,
     "metadata": {},
     "output_type": "execute_result"
    }
   ],
   "source": [
    "res.get_id()[1]"
   ]
  },
  {
   "cell_type": "code",
   "execution_count": 112,
   "metadata": {},
   "outputs": [
    {
     "data": {
      "text/plain": [
       "'A'"
      ]
     },
     "execution_count": 112,
     "metadata": {},
     "output_type": "execute_result"
    }
   ],
   "source": [
    "res.full_id[2]"
   ]
  },
  {
   "cell_type": "code",
   "execution_count": 113,
   "metadata": {},
   "outputs": [
    {
     "data": {
      "text/plain": [
       "'AAAAAAAAAAAAAAAAAAAAAAAAAAAAAAAAAAAAAAAAAAAAAAAAAAAAAAAAAAAAAAAAAAAAAAAAAAAAAAAAAAAAAAAAAAAAAAAAAAAAAAAAAAAAAAAAAAAAAAAAAAAAAAAAAAAAAAAAAAAAAAAAAAAAAAAAAAAAAAAAAAAAAAAAAAAAAAAAAAAAAAAAAAAAAAAAAAAAAAAAAAAAAAAAAAAAAAAAAAAAAAAAAAAAAAAAAAAAAAAAAAAAAAAAAAAAAAAAAAAAAAAAAAAAAAAAAAAAAAAAAAAAAAAAAAAAAAAAAAAAAAAAAAAAAAAAAAAAAAAAAAAAAAAAAAAAAAAAAAAAAAAAAAAAAAAAAAAAAAAAAAAAAAAAAAAAAAAAAAAAAAAAAAAA'"
      ]
     },
     "execution_count": 113,
     "metadata": {},
     "output_type": "execute_result"
    }
   ],
   "source": [
    "seq"
   ]
  },
  {
   "cell_type": "code",
   "execution_count": null,
   "metadata": {},
   "outputs": [],
   "source": []
  },
  {
   "cell_type": "code",
   "execution_count": 98,
   "metadata": {},
   "outputs": [
    {
     "data": {
      "text/plain": [
       "'FKHQGLVADLLPNIRVMQGVGHFMFNYYSEGKKFPHRIYCIVTLLLLLLQYGMMAVNLMMESDDVDDLTANTITMLFFLHPIVKMIYFPVRSKIFYKTLAIWNNPNSHPLFAESNARFHALAITKMRRLLFCVAGATIFSVISWTGITFIEDS PIPRLMIRTFYPFNAMSGAGHVFALIYQFYYLVISMAVSNSLDVLFCSWLLFACEQLQHLKAIMKPLMELSAT GLTKKQEMLVRSAIKYWVERHKHVVRLVTAVGDAYGVALLLHMLTTTITLTLLAYQATKVNGVNVYAATVIGYLLYTLGQVFLFCIFGNRLIEESSSVMEAAYSCHWYDGSEEAKTFVQIVCQQCQKAMSISGAKFFTVSLDLFASVLGAVVTYFMVLVQLK'"
      ]
     },
     "execution_count": 98,
     "metadata": {},
     "output_type": "execute_result"
    }
   ],
   "source": [
    "aseq"
   ]
  },
  {
   "cell_type": "code",
   "execution_count": 99,
   "metadata": {},
   "outputs": [
    {
     "name": "stdout",
     "output_type": "stream",
     "text": [
      "153\n",
      "227\n"
     ]
    }
   ],
   "source": [
    "for i in range(len(seq)):\n",
    "    if seq[i] == \" \":\n",
    "        print(i)"
   ]
  },
  {
   "cell_type": "code",
   "execution_count": 90,
   "metadata": {},
   "outputs": [
    {
     "data": {
      "text/plain": [
       "0"
      ]
     },
     "execution_count": 90,
     "metadata": {},
     "output_type": "execute_result"
    }
   ],
   "source": [
    "gxxxg_count"
   ]
  },
  {
   "cell_type": "code",
   "execution_count": 96,
   "metadata": {},
   "outputs": [],
   "source": [
    "def getSeqFromPDB(location, considerGap=True):\n",
    "    x = PDBParser().get_structure(\"x\", location)\n",
    "    ppb=PPBuilder()\n",
    "    seq = \"\"\n",
    "    for pp in ppb.build_peptides(x):\n",
    "        if considerGap:\n",
    "            seq += \" \" + str(pp.get_sequence())\n",
    "        else:\n",
    "            seq += str(pp.get_sequence())\n",
    "    return seq.strip()"
   ]
  },
  {
   "cell_type": "code",
   "execution_count": 82,
   "metadata": {},
   "outputs": [
    {
     "data": {
      "text/plain": [
       "388"
      ]
     },
     "execution_count": 82,
     "metadata": {},
     "output_type": "execute_result"
    }
   ],
   "source": [
    "len(seq)"
   ]
  },
  {
   "cell_type": "code",
   "execution_count": 72,
   "metadata": {},
   "outputs": [],
   "source": [
    "a = app.get_sequence()"
   ]
  },
  {
   "cell_type": "code",
   "execution_count": 70,
   "metadata": {},
   "outputs": [
    {
     "data": {
      "text/plain": [
       "'GLTKKQEMLVRSAIKYWVERHKHVVRLVTAVGDAYGVALLLHMLTTTITLTLLAYQATKVNGVNVYAATVIGYLLYTLGQVFLFCIFGNRLIEESSSVMEAAYSCHWYDGSEEAKTFVQIVCQQCQKAMSISGAKFFTVSLDLFASVLGAVVTYFMVLVQLK'"
      ]
     },
     "execution_count": 70,
     "metadata": {},
     "output_type": "execute_result"
    }
   ],
   "source": [
    "str(pp.get_sequence())"
   ]
  },
  {
   "cell_type": "code",
   "execution_count": 41,
   "metadata": {},
   "outputs": [],
   "source": [
    "res = list(x.get_residues())[0]"
   ]
  },
  {
   "cell_type": "code",
   "execution_count": 42,
   "metadata": {},
   "outputs": [],
   "source": [
    "ca = res[\"CA\"]"
   ]
  },
  {
   "cell_type": "code",
   "execution_count": 45,
   "metadata": {},
   "outputs": [
    {
     "ename": "SyntaxError",
     "evalue": "invalid syntax (<ipython-input-45-4d008d927f5f>, line 1)",
     "output_type": "error",
     "traceback": [
      "\u001b[0;36m  File \u001b[0;32m\"<ipython-input-45-4d008d927f5f>\"\u001b[0;36m, line \u001b[0;32m1\u001b[0m\n\u001b[0;31m    if abs(ca.get_vector()[-1]) > 15\u001b[0m\n\u001b[0m                                    ^\u001b[0m\n\u001b[0;31mSyntaxError\u001b[0m\u001b[0;31m:\u001b[0m invalid syntax\n"
     ]
    }
   ],
   "source": [
    "if abs(ca.get_vector()[-1]) > 15"
   ]
  },
  {
   "cell_type": "code",
   "execution_count": 46,
   "metadata": {},
   "outputs": [],
   "source": [
    "from Bio.PDB.PDBIO import PDBIO"
   ]
  },
  {
   "cell_type": "code",
   "execution_count": 53,
   "metadata": {},
   "outputs": [],
   "source": [
    "pre = \"/Users/weilu/Research/database/membrane_training_set/transmembrane/\""
   ]
  },
  {
   "cell_type": "code",
   "execution_count": 54,
   "metadata": {},
   "outputs": [],
   "source": [
    "from Bio.PDB.PDBIO import Select"
   ]
  },
  {
   "cell_type": "code",
   "execution_count": 55,
   "metadata": {},
   "outputs": [],
   "source": [
    "class Transmembrane(Select):\n",
    "    def accept_residue(self, residue):\n",
    "        if abs(residue[\"CA\"].get_vector()[-1]) < 15:\n",
    "            return 1\n",
    "        else:\n",
    "            return 0\n",
    "\n",
    "io = PDBIO()\n",
    "io.set_structure(x)\n",
    "io.save(pre + 'gly_only.pdb', Transmembrane())"
   ]
  },
  {
   "cell_type": "code",
   "execution_count": 56,
   "metadata": {},
   "outputs": [
    {
     "data": {
      "text/plain": [
       "(' ', 1, ' ')"
      ]
     },
     "execution_count": 56,
     "metadata": {},
     "output_type": "execute_result"
    }
   ],
   "source": [
    "res.get_id()"
   ]
  },
  {
   "cell_type": "code",
   "execution_count": 57,
   "metadata": {},
   "outputs": [],
   "source": [
    "x = PDBParser().get_structure(\"x\", pre + 'gly_only.pdb')"
   ]
  },
  {
   "cell_type": "code",
   "execution_count": 58,
   "metadata": {},
   "outputs": [],
   "source": [
    "res = list(x.get_residues())[50]"
   ]
  },
  {
   "cell_type": "code",
   "execution_count": 59,
   "metadata": {},
   "outputs": [
    {
     "data": {
      "text/plain": [
       "(' ', 86, ' ')"
      ]
     },
     "execution_count": 59,
     "metadata": {},
     "output_type": "execute_result"
    }
   ],
   "source": [
    "res.get_id()"
   ]
  },
  {
   "cell_type": "code",
   "execution_count": null,
   "metadata": {},
   "outputs": [],
   "source": []
  }
 ],
 "metadata": {
  "kernelspec": {
   "display_name": "Python 3",
   "language": "python",
   "name": "python3"
  },
  "language_info": {
   "codemirror_mode": {
    "name": "ipython",
    "version": 3
   },
   "file_extension": ".py",
   "mimetype": "text/x-python",
   "name": "python",
   "nbconvert_exporter": "python",
   "pygments_lexer": "ipython3",
   "version": "3.6.8"
  }
 },
 "nbformat": 4,
 "nbformat_minor": 2
}
