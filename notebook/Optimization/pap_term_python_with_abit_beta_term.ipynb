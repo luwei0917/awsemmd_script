{
 "cells": [
  {
   "cell_type": "code",
   "execution_count": 1,
   "metadata": {},
   "outputs": [],
   "source": [
    "import os\n",
    "import sys\n",
    "import random\n",
    "import time\n",
    "from random import seed, randint\n",
    "import argparse\n",
    "import platform\n",
    "from datetime import datetime\n",
    "import imp\n",
    "import numpy as np\n",
    "import fileinput\n",
    "from itertools import product\n",
    "import pandas as pd\n",
    "from scipy.interpolate import griddata\n",
    "from scipy.interpolate import interp2d\n",
    "import seaborn as sns\n",
    "from os import listdir\n",
    "\n",
    "import matplotlib.pyplot as plt\n",
    "import seaborn as sns\n",
    "from scipy.interpolate import griddata\n",
    "import matplotlib as mpl\n",
    "# sys.path.insert(0,'..')\n",
    "# from notebookFunctions import *\n",
    "# from .. import notebookFunctions\n",
    "from Bio.PDB.Polypeptide import one_to_three\n",
    "from Bio.PDB.Polypeptide import three_to_one\n",
    "from Bio.PDB.PDBParser import PDBParser\n",
    "from pyCodeLib import *\n",
    "# from small_script.myFunctions import *\n",
    "sys.path.insert(0, \"/Users/weilu/openmmawsem\")\n",
    "from helperFunctions.myFunctions import *\n",
    "from collections import defaultdict\n",
    "%matplotlib inline\n",
    "# plt.rcParams['figure.figsize'] = (10,6.180)    #golden ratio\n",
    "# %matplotlib notebook\n",
    "%load_ext autoreload\n",
    "%autoreload 2"
   ]
  },
  {
   "cell_type": "code",
   "execution_count": 2,
   "metadata": {},
   "outputs": [],
   "source": [
    "plt.rcParams['figure.figsize'] = np.array([16.18033, 10])    #golden ratio\n",
    "plt.rcParams['figure.facecolor'] = 'w'\n",
    "plt.rcParams['figure.dpi'] = 100\n",
    "plt.rcParams.update({'font.size': 22})"
   ]
  },
  {
   "cell_type": "code",
   "execution_count": 3,
   "metadata": {},
   "outputs": [],
   "source": [
    "from simtk.openmm.app import *\n",
    "from simtk.openmm import *\n",
    "from simtk.unit import *\n",
    "import numpy as np\n",
    "\n",
    "se_map_1_letter = {'A': 0,  'P': 1,  'K': 2,  'N': 3,  'R': 4,\n",
    "                   'F': 5,  'D': 6,  'Q': 7,  'E': 8,  'G': 9,\n",
    "                   'I': 10, 'H': 11, 'L': 12, 'C': 13, 'M': 14,\n",
    "                   'S': 15, 'T': 16, 'Y': 17, 'V': 18, 'W': 19}\n",
    "\n",
    "def isChainStart(residueId, chain_starts, n=2):\n",
    "    # return true if residue is near chain starts.\n",
    "    # n=0 means always return False\n",
    "    # n=1 means only return True if residue is the the first residue of a chain.\n",
    "    # n=2 means return True if residue is the first or the one nearest to the first residue of a chain.\n",
    "    atBegin = False\n",
    "    for i in range(n):\n",
    "        if (residueId-i) in chain_starts:\n",
    "            atBegin = True\n",
    "    return atBegin\n",
    "\n",
    "def isChainEnd(residueId, chain_ends, n=2):\n",
    "    # return true if residue is near chain ends.\n",
    "    # n=0 means always return False\n",
    "    # n=1 means only return True if residue is the the last residue of a chain.\n",
    "    # n=2 means return True if residue is the last or the one nearest to the last residue of a chain.\n",
    "    atEnd = False\n",
    "    for i in range(n):\n",
    "        if (residueId+i) in chain_ends:\n",
    "            atEnd = True\n",
    "    return atEnd\n",
    "def isChainEdge(residueId, chain_starts, chain_ends, n=2):\n",
    "    # n is how far away from the two ends count as in chain edge.\n",
    "    return (isChainStart(residueId, chain_starts, n) or isChainEnd(residueId, chain_ends, n))\n",
    "    # atBegin = False\n",
    "    # atEnd = False\n",
    "    # for i in range(n):\n",
    "    #     if (residueId-i) in chain_starts:\n",
    "    #         atBegin = True\n",
    "    # for i in range(n):\n",
    "    #     if (residueId+i) in chain_ends:\n",
    "    #         atEnd = True\n",
    "    # return (atBegin or atEnd)\n",
    "\n",
    "def inWhichChain(residueId, chain_ends):\n",
    "    chain_table = \"ABCDEFGHIJKLMNOPQRSTUVWXYZ\"\n",
    "    for i, end_of_chain_resId in enumerate(chain_ends):\n",
    "        if end_of_chain_resId < residueId:\n",
    "            pass\n",
    "        else:\n",
    "            return chain_table[i]\n",
    "\n",
    "def read_beta_parameters():\n",
    "    ### directly copied from Nick Schafer's\n",
    "    # os.chdir(parameter_directory)\n",
    "    in_anti_HB = open(\"anti_HB\", 'r').readlines()\n",
    "    in_anti_NHB = open(\"anti_NHB\", 'r').readlines()\n",
    "    in_para_HB = open(\"para_HB\", 'r').readlines()\n",
    "    in_para_one = open(\"para_one\", 'r').readlines()\n",
    "    in_anti_one = open(\"anti_one\", 'r').readlines()\n",
    "\n",
    "    p_par = np.zeros((20))\n",
    "    p_anti = np.zeros((20))\n",
    "    p_antihb = np.zeros((20,20,2))\n",
    "    p_antinhb = np.zeros((20,20,2))\n",
    "    p_parhb = np.zeros((20,20,2))\n",
    "\n",
    "    for i in range(20):\n",
    "        p_par[i] = float(in_para_one[i].strip())\n",
    "        p_anti[i] = float(in_anti_one[i].strip())\n",
    "        for j in range(20):\n",
    "            p_antihb[i][j][0] = float(in_anti_HB[i].strip().split()[j])\n",
    "            p_antinhb[i][j][0] = float(in_anti_NHB[i].strip().split()[j])\n",
    "            p_parhb[i][j][0] = float(in_para_HB[i].strip().split()[j])\n",
    "\n",
    "    for i in range(20):\n",
    "        for j in range(20):\n",
    "            p_antihb[i][j][1] = float(in_anti_HB[i+21].strip().split()[j])\n",
    "            p_antinhb[i][j][1] = float(in_anti_NHB[i+21].strip().split()[j])\n",
    "            p_parhb[i][j][1] = float(in_para_HB[i+21].strip().split()[j])\n",
    "    return p_par, p_anti, p_antihb, p_antinhb, p_parhb\n",
    "\n",
    "\n",
    "def get_lambda_by_index(i, j, lambda_i):\n",
    "\n",
    "\n",
    "    lambda_table = [[1.37, 1.36, 1.17],\n",
    "                    [3.89, 3.50, 3.52],\n",
    "                    [0.00, 3.47, 3.62]]\n",
    "    if abs(j-i) >= 4 and abs(j-i) < 18:\n",
    "        return lambda_table[lambda_i][0]\n",
    "    elif abs(j-i) >= 18 and abs(j-i) < 45:\n",
    "        return lambda_table[lambda_i][1]\n",
    "    elif abs(j-i) >= 45:\n",
    "        return lambda_table[lambda_i][2]\n",
    "    else:\n",
    "        return 0\n",
    "\n",
    "def get_alpha_by_index(i, j, alpha_i):\n",
    "    alpha_table = [[1.30, 1.30, 1.30],\n",
    "                    [1.32, 1.32, 1.32],\n",
    "                    [1.22, 1.22, 1.22],\n",
    "                    [0.00, 0.33, 0.33],\n",
    "                    [0.00, 1.01, 1.01]]\n",
    "    if abs(j-i) >= 4 and abs(j-i) < 18:\n",
    "        return alpha_table[alpha_i][0]\n",
    "    elif abs(j-i) >= 18 and abs(j-i) < 45:\n",
    "        return alpha_table[alpha_i][1]\n",
    "    elif abs(j-i) >= 45:\n",
    "        return alpha_table[alpha_i][2]\n",
    "    else:\n",
    "        return 0\n",
    "\n",
    "\n",
    "\n",
    "\n",
    "\n",
    "\n",
    "def get_Lambda_2(i, j, p_par, p_anti, p_antihb, p_antinhb, p_parhb, a):\n",
    "    Lambda = get_lambda_by_index(i, j, 1)\n",
    "    Lambda += -0.5*get_alpha_by_index(i, j, 0)*p_antihb[a[i], a[j]][0]\n",
    "    Lambda += -0.25*get_alpha_by_index(i, j, 1)*(p_antinhb[a[i+1], a[j-1]][0] + p_antinhb[a[i-1], a[j+1]][0])\n",
    "    Lambda += -get_alpha_by_index(i, j, 2)*(p_anti[a[i]] + p_anti[a[j]])\n",
    "    return Lambda\n",
    "\n",
    "def get_Lambda_3(i, j, p_par, p_anti, p_antihb, p_antinhb, p_parhb, a):\n",
    "    Lambda = get_lambda_by_index(i, j, 2)\n",
    "    Lambda += -get_alpha_by_index(i, j, 3)*p_parhb[a[i+1], a[j]][0]\n",
    "    Lambda += -get_alpha_by_index(i, j, 4)*p_par[a[i+1]]\n",
    "    Lambda += -get_alpha_by_index(i, j, 3)*p_par[a[j]]\n",
    "    return Lambda\n",
    "\n",
    "\n",
    "def pap_term_1(oa, k_pap=4.184, dis_i_to_i4=1.2, forceGroup=28):\n",
    "    print(\"pap_1 term ON\")\n",
    "    # dis_i_to_i4 should be in nm, it disfavor hydrogen bond when ca_i and ca_i+4 are 1.2 nm apart away.\n",
    "    nres, ca = oa.nres, oa.ca\n",
    "    # r0 = 2.0 # nm\n",
    "    r0 = 0.8  # nm\n",
    "    eta_pap = 70  # nm^-1\n",
    "    gamma_aph = 1.0\n",
    "    gamma_ap = 0.4\n",
    "    gamma_p = 0.4\n",
    "\n",
    "    gamma_1 = np.zeros((nres, nres))\n",
    "    gamma_2 = np.zeros((nres, nres))\n",
    "    for i in range(nres):\n",
    "        for j in range(nres):\n",
    "            resId1 = i\n",
    "            chain1 = inWhichChain(resId1, oa.chain_ends)\n",
    "            resId2 = j\n",
    "            chain2 = inWhichChain(resId2, oa.chain_ends)\n",
    "            gamma_1[i][j] = get_pap_gamma_APH(i, j, chain1, chain2, gamma_aph)\n",
    "            gamma_2[i][j] = get_pap_gamma_AP(i, j, chain1, chain2, gamma_ap)\n",
    "\n",
    "    constraint_i_and_i4 = f\"0.5*(1+tanh({eta_pap}*(distance(a1,a2)-{dis_i_to_i4})))\"\n",
    "    constraint_i_and_i4 = 1\n",
    "    pap_function = f\"-{k_pap}*(gamma_1(donor_idx,acceptor_idx)+gamma_2(donor_idx,acceptor_idx))\\\n",
    "                        *0.5*(1+tanh({eta_pap}*({r0}-distance(a1,d1))))\\\n",
    "                        *0.5*(1+tanh({eta_pap}*({r0}-distance(a2,d2))))\\\n",
    "                        *{constraint_i_and_i4}\"\n",
    "\n",
    "    # pap_function = f\"-{k_pap}*(gamma_1(donor_idx,acceptor_idx))\\\n",
    "    #                     *0.5*(1+tanh({eta_pap}*({r0}-distance(a1,d1))))\\\n",
    "    #                     *0.5*(1+tanh({eta_pap}*({r0}-distance(a2,d2))))\"\n",
    "\n",
    "    # pap_function = f\"-{k_pap}*distance(a1,d1)\"\n",
    "    pap = CustomHbondForce(pap_function)\n",
    "    pap.addPerDonorParameter(\"donor_idx\")\n",
    "    pap.addPerAcceptorParameter(\"acceptor_idx\")\n",
    "    pap.addTabulatedFunction(\"gamma_1\", Discrete2DFunction(nres, nres, gamma_1.T.flatten()))\n",
    "    pap.addTabulatedFunction(\"gamma_2\", Discrete2DFunction(nres, nres, gamma_2.T.flatten()))\n",
    "    # print(ca)\n",
    "    # count = 0;\n",
    "    i = 0\n",
    "    # pap.addAcceptor(ca[0], ca[4], -1, [0])\n",
    "    # pap.addAcceptor(ca[20], ca[8], -1, [4])\n",
    "    # pap.addDonor(ca[20], ca[0], -1, [4])\n",
    "    for i in range(nres):\n",
    "        if not isChainEnd(i, oa.chain_ends, n=4):\n",
    "            pap.addAcceptor(ca[i], ca[i+4], -1, [i])\n",
    "\n",
    "        # if i > 13 and not isChainStart(i, oa.chain_starts, n=4):\n",
    "        if not isChainStart(i, oa.chain_starts, n=4):\n",
    "            pap.addDonor(oa.n[i], oa.n[i-4], -1, [i])\n",
    "\n",
    "    pap.setNonbondedMethod(CustomHbondForce.CutoffNonPeriodic)\n",
    "    pap.setCutoffDistance(1.0)\n",
    "    # print(count)\n",
    "    pap.setForceGroup(forceGroup)\n",
    "    return pap\n",
    "\n",
    "def pap_term_2(oa, k_pap=4.184, dis_i_to_i4=1.2, forceGroup=28):\n",
    "    print(\"pap_2 term ON\")\n",
    "    nres, ca = oa.nres, oa.ca\n",
    "    # r0 = 2.0 # nm\n",
    "    r0 = 0.8  # nm\n",
    "    eta_pap = 70  # nm^-1\n",
    "    gamma_aph = 1.0\n",
    "    gamma_ap = 0.4\n",
    "    gamma_p = 0.4\n",
    "\n",
    "    gamma_3 = np.zeros((nres, nres))\n",
    "    for i in range(nres):\n",
    "        for j in range(nres):\n",
    "            resId1 = i\n",
    "            chain1 = inWhichChain(resId1, oa.chain_ends)\n",
    "            resId2 = j\n",
    "            chain2 = inWhichChain(resId2, oa.chain_ends)\n",
    "            gamma_3[i][j] = get_pap_gamma_P(i, j, chain1, chain2, gamma_p)\n",
    "            # gamma_3[j][i] = gamma_3[i][j]\n",
    "\n",
    "    # constraint_i_and_i4 = f\"0.5*(1+tanh({eta_pap}*(distance(a1,a2)-{dis_i_to_i4})))\"\n",
    "    constraint_i_and_i4 = 1\n",
    "\n",
    "    pap_function = f\"-{k_pap}*gamma_3(donor_idx,acceptor_idx)\\\n",
    "                        *0.5*(1+tanh({eta_pap}*({r0}-distance(a1,d1))))\\\n",
    "                        *0.5*(1+tanh({eta_pap}*({r0}-distance(a2,d2))))\\\n",
    "                        *{constraint_i_and_i4}\"\n",
    "    pap = CustomHbondForce(pap_function)\n",
    "    pap.addPerDonorParameter(\"donor_idx\")\n",
    "    pap.addPerAcceptorParameter(\"acceptor_idx\")\n",
    "    pap.addTabulatedFunction(\"gamma_3\", Discrete2DFunction(nres, nres, gamma_3.T.flatten()))\n",
    "    # print(oa.n)\n",
    "    # count = 0;\n",
    "    for i in range(nres):\n",
    "        if not isChainEnd(i, oa.chain_ends, n=13):\n",
    "            pap.addAcceptor(ca[i], ca[i+4], -1, [i])\n",
    "        if not isChainEnd(i, oa.chain_ends, n=4):\n",
    "            # pap.addDonor(ca[i], ca[i+4], -1, [i])\n",
    "            if oa.n[i] != -1 and oa.n[i+4] != -1:\n",
    "                pap.addDonor(oa.n[i], oa.n[i+4], -1, [i])\n",
    "\n",
    "    pap.setNonbondedMethod(CustomHbondForce.CutoffNonPeriodic)\n",
    "    pap.setCutoffDistance(1.0)\n",
    "    # print(count)\n",
    "    pap.setForceGroup(forceGroup)\n",
    "    return pap\n"
   ]
  },
  {
   "cell_type": "code",
   "execution_count": 55,
   "metadata": {},
   "outputs": [],
   "source": [
    "parser = PDBParser()\n",
    "structure = parser.get_structure(\"X\", \"/Users/weilu/Research/server/nov_2019/beta_pap_term_energy/openMM_chainA/chainA-cleaned.pdb\")\n",
    "\n",
    "all_res = list(structure.get_residues())\n",
    "chains = [res.get_full_id()[2] for res in all_res]\n",
    "n = len(all_res)"
   ]
  },
  {
   "cell_type": "code",
   "execution_count": 56,
   "metadata": {},
   "outputs": [],
   "source": [
    "\n",
    "def get_lambda_by_index(i, j, lambda_i):\n",
    "\n",
    "\n",
    "    lambda_table = [[1.37, 1.36, 1.17],\n",
    "                    [3.89, 3.50, 3.52],\n",
    "                    [0.00, 3.47, 3.62]]\n",
    "    if abs(j-i) >= 4 and abs(j-i) < 18:\n",
    "        return lambda_table[lambda_i][0]\n",
    "    elif abs(j-i) >= 18 and abs(j-i) < 45:\n",
    "        return lambda_table[lambda_i][1]\n",
    "    elif abs(j-i) >= 45:\n",
    "        return lambda_table[lambda_i][2]\n",
    "    else:\n",
    "        return 0\n",
    "\n",
    "def get_alpha_by_index(i, j, alpha_i):\n",
    "    alpha_table = [[1.30, 1.30, 1.30],\n",
    "                    [1.32, 1.32, 1.32],\n",
    "                    [1.22, 1.22, 1.22],\n",
    "                    [0.00, 0.33, 0.33],\n",
    "                    [0.00, 1.01, 1.01]]\n",
    "    if abs(j-i) >= 4 and abs(j-i) < 18:\n",
    "        return alpha_table[alpha_i][0]\n",
    "    elif abs(j-i) >= 18 and abs(j-i) < 45:\n",
    "        return alpha_table[alpha_i][1]\n",
    "    elif abs(j-i) >= 45:\n",
    "        return alpha_table[alpha_i][2]\n",
    "    else:\n",
    "        return 0"
   ]
  },
  {
   "cell_type": "code",
   "execution_count": 57,
   "metadata": {},
   "outputs": [],
   "source": [
    "nres = n\n",
    "lambda_1 = np.zeros((nres, nres))\n",
    "for i in range(nres):\n",
    "    for j in range(nres):\n",
    "        lambda_1[i][j] = get_lambda_by_index(i, j, 0)"
   ]
  },
  {
   "cell_type": "code",
   "execution_count": 63,
   "metadata": {},
   "outputs": [
    {
     "data": {
      "text/plain": [
       "30.895846092148226"
      ]
     },
     "execution_count": 63,
     "metadata": {},
     "output_type": "execute_result"
    }
   ],
   "source": [
    "r_ON = .298 * 10\n",
    "sigma_NO = .068 * 10\n",
    "r_OH = .206 * 10\n",
    "sigma_HO = .076 * 10\n",
    "eta_beta_1 = 10.0 * 0.1\n",
    "eta_beta_2 = 5.0 * 0.1\n",
    "# r_HB_c = 0.4\n",
    "r_HB_c = 1.2 * 10\n",
    "V_beta1 = 0\n",
    "for i in range(n):\n",
    "    for j in range(n):\n",
    "#         if abs(i-j) < 2:\n",
    "#             continue\n",
    "        chain_i = chains[i]\n",
    "        chain_j = chains[j]\n",
    "        if all_res[j].get_resname() == \"PRO\":\n",
    "            continue\n",
    "        r_Oi_Nj = all_res[i][\"O\"] - all_res[j][\"N\"]\n",
    "        r_Oi_Hj = all_res[i][\"O\"] - all_res[j][\"H\"]\n",
    "#         if all_res[i].get_resname() == \"PRO\":\n",
    "#             continue\n",
    "#         r_Oi_Nj = all_res[j][\"O\"] - all_res[i][\"N\"]\n",
    "#         r_Oi_Hj = all_res[j][\"O\"] - all_res[i][\"H\"]\n",
    "        theta_ij = np.exp(-(r_Oi_Nj-r_ON)**2/(2*sigma_NO**2)-(r_Oi_Hj-r_OH)**2/(2*sigma_HO**2))\n",
    "        if i < 2 or i >= n-2:\n",
    "            nu_i = 1\n",
    "        else:\n",
    "            r_CAim2_CAip2 = all_res[i-2][\"CA\"] - all_res[i+2][\"CA\"]\n",
    "            nu_i = 0.5*(1+tanh(eta_beta_1*(r_CAim2_CAip2-r_HB_c)))\n",
    "        if j < 2 or j >= n-2:\n",
    "            nu_j = 1\n",
    "        else:\n",
    "            r_CAjm2_CAjp2 = all_res[j-2][\"CA\"] - all_res[j+2][\"CA\"]\n",
    "            nu_j = 0.5*(1+tanh(eta_beta_2*(r_CAjm2_CAjp2-r_HB_c)))\n",
    "        V_ij = lambda_1[i][j] * theta_ij * nu_i * nu_j\n",
    "        V_beta1 += V_ij\n",
    "#         if abs(V_ij) > 1e-3:\n",
    "#             print(i, j, V_ij,lambda_1[i][j], theta_ij, nu_i, nu_j, r_Oi_Nj, r_Oi_Hj)\n",
    "V_beta1"
   ]
  },
  {
   "cell_type": "code",
   "execution_count": null,
   "metadata": {},
   "outputs": [],
   "source": []
  },
  {
   "cell_type": "code",
   "execution_count": 60,
   "metadata": {},
   "outputs": [],
   "source": [
    "res = all_res[9]"
   ]
  },
  {
   "cell_type": "code",
   "execution_count": 61,
   "metadata": {},
   "outputs": [
    {
     "data": {
      "text/plain": [
       "'VAL'"
      ]
     },
     "execution_count": 61,
     "metadata": {},
     "output_type": "execute_result"
    }
   ],
   "source": [
    "res.get_resname()"
   ]
  },
  {
   "cell_type": "code",
   "execution_count": null,
   "metadata": {},
   "outputs": [],
   "source": [
    "res.get_atoms()"
   ]
  },
  {
   "cell_type": "code",
   "execution_count": 51,
   "metadata": {},
   "outputs": [
    {
     "data": {
      "text/plain": [
       "11"
      ]
     },
     "execution_count": 51,
     "metadata": {},
     "output_type": "execute_result"
    }
   ],
   "source": [
    "j"
   ]
  },
  {
   "cell_type": "code",
   "execution_count": 52,
   "metadata": {},
   "outputs": [
    {
     "data": {
      "text/plain": [
       "1"
      ]
     },
     "execution_count": 52,
     "metadata": {},
     "output_type": "execute_result"
    }
   ],
   "source": [
    "i"
   ]
  },
  {
   "cell_type": "code",
   "execution_count": 47,
   "metadata": {},
   "outputs": [
    {
     "data": {
      "text/plain": [
       "0"
      ]
     },
     "execution_count": 47,
     "metadata": {},
     "output_type": "execute_result"
    }
   ],
   "source": [
    "i"
   ]
  },
  {
   "cell_type": "code",
   "execution_count": null,
   "metadata": {},
   "outputs": [],
   "source": []
  },
  {
   "cell_type": "code",
   "execution_count": 62,
   "metadata": {},
   "outputs": [
    {
     "data": {
      "text/plain": [
       "[<Atom N>,\n",
       " <Atom H>,\n",
       " <Atom CA>,\n",
       " <Atom HA>,\n",
       " <Atom C>,\n",
       " <Atom O>,\n",
       " <Atom CB>,\n",
       " <Atom HB>,\n",
       " <Atom CG1>,\n",
       " <Atom HG11>,\n",
       " <Atom HG12>,\n",
       " <Atom HG13>,\n",
       " <Atom CG2>,\n",
       " <Atom HG21>,\n",
       " <Atom HG22>,\n",
       " <Atom HG23>]"
      ]
     },
     "execution_count": 62,
     "metadata": {},
     "output_type": "execute_result"
    }
   ],
   "source": [
    "list(res.get_atoms())"
   ]
  },
  {
   "cell_type": "code",
   "execution_count": 10,
   "metadata": {},
   "outputs": [],
   "source": [
    "res = all_res[0]"
   ]
  },
  {
   "cell_type": "code",
   "execution_count": 12,
   "metadata": {},
   "outputs": [
    {
     "data": {
      "text/plain": [
       "'GLN'"
      ]
     },
     "execution_count": 12,
     "metadata": {},
     "output_type": "execute_result"
    }
   ],
   "source": [
    "res.get_resname()"
   ]
  },
  {
   "cell_type": "code",
   "execution_count": 16,
   "metadata": {},
   "outputs": [],
   "source": [
    "# chains = pd.read_csv(io.StringIO(a), sep=\" \", names=[\"res\", \"chain\"])\n",
    "\n",
    "all_res = list(structure.get_residues())\n",
    "chains = [res.get_full_id()[2] for res in all_res]\n",
    "n = len(all_res)"
   ]
  },
  {
   "cell_type": "code",
   "execution_count": null,
   "metadata": {},
   "outputs": [],
   "source": [
    "# APH term"
   ]
  },
  {
   "cell_type": "code",
   "execution_count": 46,
   "metadata": {},
   "outputs": [],
   "source": [
    "def get_pap_gamma_APH(donor_idx, acceptor_idx, chain_i, chain_j, gamma_APH):\n",
    "    # if chain_i == chain_j and abs(j-i) < 13 or abs(j-i) > 16:\n",
    "    # if abs(j-i) < 13 or abs(j-i) > 16:\n",
    "    # if i-j < 13 or i-j > 16:\n",
    "    # if (donor_idx - acceptor_idx >= 13 and donor_idx - acceptor_idx <= 16) or chain_i != chain_j:\n",
    "    if (donor_idx - acceptor_idx >= 13 and donor_idx - acceptor_idx <= 16):\n",
    "        return gamma_APH\n",
    "    else:\n",
    "        return 0\n",
    "    # if donor_idx - acceptor_idx < 13 or donor_idx - acceptor_idx > 16:\n",
    "    #     return 0\n",
    "    # else:\n",
    "    #     return gamma_APH"
   ]
  },
  {
   "cell_type": "code",
   "execution_count": 48,
   "metadata": {},
   "outputs": [
    {
     "name": "stdout",
     "output_type": "stream",
     "text": [
      "56.30805174575171\n"
     ]
    }
   ],
   "source": [
    "eta = 7\n",
    "r0 = 8\n",
    "a_ = 0 \n",
    "for i in range(n-4):\n",
    "    for j in range(4, n):\n",
    "        chain_i = chains.iloc[i][1]\n",
    "        chain_j = chains.iloc[j][1]\n",
    "        gamma = get_pap_gamma_APH(j, i, chain_i, chain_j, 1)\n",
    "        dis = all_res[i][\"CA\"] - all_res[j][\"CA\"]\n",
    "        dis_p4 = all_res[i+4][\"CA\"] - all_res[j-4][\"CA\"]\n",
    "        rho1 = 0.5*(1+np.tanh(eta*(r0-dis)))\n",
    "        rho2 = 0.5*(1+np.tanh(eta*(r0-dis_p4)))\n",
    "        show = -gamma * rho1 * rho2\n",
    "        a_ += show\n",
    "#         if show > 1e-6:\n",
    "#             print(i, j, show, rho1, rho2)\n",
    "#         if i == 0:\n",
    "#             print(i, j, show, rho1, rho2)\n",
    "#     break\n",
    "print(a_)"
   ]
  },
  {
   "cell_type": "code",
   "execution_count": null,
   "metadata": {},
   "outputs": [],
   "source": [
    "# P term"
   ]
  },
  {
   "cell_type": "code",
   "execution_count": 44,
   "metadata": {},
   "outputs": [],
   "source": [
    "def get_pap_gamma_AP(donor_idx, acceptor_idx, chain_i, chain_j, gamma_AP):\n",
    "    if (donor_idx - acceptor_idx >= 17) or chain_i != chain_j:\n",
    "        #     if (donor_idx - acceptor_idx >= 17):\n",
    "        return gamma_AP\n",
    "    else:\n",
    "        return 0\n"
   ]
  },
  {
   "cell_type": "code",
   "execution_count": 45,
   "metadata": {},
   "outputs": [
    {
     "name": "stdout",
     "output_type": "stream",
     "text": [
      "90.8770620506384\n"
     ]
    }
   ],
   "source": [
    "eta = 7\n",
    "r0 = 8\n",
    "a_ = 0 \n",
    "for i in range(n-4):\n",
    "    for j in range(4, n):\n",
    "        chain_i = chains.iloc[i][1]\n",
    "        chain_j = chains.iloc[j][1]\n",
    "        gamma = get_pap_gamma_AP(j, i, chain_i, chain_j, 0.4)\n",
    "        dis = all_res[i][\"CA\"] - all_res[j][\"CA\"]\n",
    "        dis_p4 = all_res[i+4][\"CA\"] - all_res[j-4][\"CA\"]\n",
    "        rho1 = 0.5*(1+np.tanh(eta*(r0-dis)))\n",
    "        rho2 = 0.5*(1+np.tanh(eta*(r0-dis_p4)))\n",
    "        show = gamma * rho1 * rho2\n",
    "        a_ += show\n",
    "#         if show > 1e-6:\n",
    "#             print(i, j, show, rho1, rho2)\n",
    "#         if i == 0:\n",
    "#             print(i, j, show, rho1, rho2)\n",
    "#     break\n",
    "print(a_)"
   ]
  },
  {
   "cell_type": "code",
   "execution_count": null,
   "metadata": {},
   "outputs": [],
   "source": [
    "# AP term"
   ]
  },
  {
   "cell_type": "code",
   "execution_count": 54,
   "metadata": {},
   "outputs": [
    {
     "name": "stdout",
     "output_type": "stream",
     "text": [
      "88.6965610402261\n"
     ]
    }
   ],
   "source": [
    "print(a_)"
   ]
  },
  {
   "cell_type": "code",
   "execution_count": 60,
   "metadata": {},
   "outputs": [],
   "source": [
    "def get_pap_gamma_P(donor_idx, acceptor_idx, chain_i, chain_j, gamma_P):\n",
    "    if (donor_idx - acceptor_idx >= 9) or chain_i != chain_j:\n",
    "        return gamma_P\n",
    "    else:\n",
    "        return 0"
   ]
  },
  {
   "cell_type": "code",
   "execution_count": 61,
   "metadata": {},
   "outputs": [],
   "source": [
    "eta = 7\n",
    "r0 = 8\n",
    "a_ = 0 \n",
    "for i in range(n-4):\n",
    "    for j in range(n-4):\n",
    "        chain_i = chains.iloc[i][1]\n",
    "        chain_j = chains.iloc[j][1]\n",
    "        gamma = get_pap_gamma_P(j, i, chain_i, chain_j, 0.4)\n",
    "        dis = all_res[i][\"CA\"] - all_res[j][\"CA\"]\n",
    "        dis_p4 = all_res[i+4][\"CA\"] - all_res[j+4][\"CA\"]\n",
    "        rho1 = 0.5*(1+np.tanh(eta*(r0-dis)))\n",
    "        rho2 = 0.5*(1+np.tanh(eta*(r0-dis_p4)))\n",
    "        show = gamma * rho1 * rho2\n",
    "        a_ += show\n",
    "#         if show > 1e-6:\n",
    "#             print(i, j, show)"
   ]
  },
  {
   "cell_type": "code",
   "execution_count": 62,
   "metadata": {},
   "outputs": [
    {
     "name": "stdout",
     "output_type": "stream",
     "text": [
      "22.350501757230532\n"
     ]
    }
   ],
   "source": [
    "print(a_)"
   ]
  },
  {
   "cell_type": "code",
   "execution_count": 56,
   "metadata": {},
   "outputs": [],
   "source": [
    "eta = 7\n",
    "r0 = 8\n",
    "a_ = 0 \n",
    "for i in range(n-4):\n",
    "    for j in range(i+9, n-4):\n",
    "        gamma = 0.4\n",
    "        dis = all_res[i][\"CA\"] - all_res[j][\"CA\"]\n",
    "        dis_p4 = all_res[i+4][\"CA\"] - all_res[j+4][\"CA\"]\n",
    "        rho1 = 0.5*(1+np.tanh(eta*(r0-dis)))\n",
    "        rho2 = 0.5*(1+np.tanh(eta*(r0-dis_p4)))\n",
    "        show = gamma * rho1 * rho2\n",
    "        a_ += show\n",
    "#         if show > 1e-6:\n",
    "#             print(i, j, show)"
   ]
  },
  {
   "cell_type": "code",
   "execution_count": 57,
   "metadata": {},
   "outputs": [
    {
     "name": "stdout",
     "output_type": "stream",
     "text": [
      "22.3505017569809\n"
     ]
    }
   ],
   "source": [
    "print(a_)"
   ]
  },
  {
   "cell_type": "code",
   "execution_count": 30,
   "metadata": {},
   "outputs": [
    {
     "data": {
      "text/plain": [
       "-1.0282995098233176"
      ]
     },
     "execution_count": 30,
     "metadata": {},
     "output_type": "execute_result"
    }
   ],
   "source": [
    "-22.983010/22.350501756"
   ]
  },
  {
   "cell_type": "code",
   "execution_count": 7,
   "metadata": {},
   "outputs": [],
   "source": [
    "from pdbfixer import PDBFixer "
   ]
  },
  {
   "cell_type": "code",
   "execution_count": 2,
   "metadata": {},
   "outputs": [
    {
     "data": {
      "text/plain": [
       "_Feature((2, 5, 0, 'alpha', 1), (3, 0, 0, 'alpha', 0), 16384)"
      ]
     },
     "execution_count": 2,
     "metadata": {},
     "output_type": "execute_result"
    }
   ],
   "source": [
    "pdbfixer.absolute_import"
   ]
  },
  {
   "cell_type": "code",
   "execution_count": 64,
   "metadata": {},
   "outputs": [],
   "source": [
    "fixer = PDBFixer(filename=\"/Users/weilu/Research/server/nov_2019/benchmark/20191025_benchmark/original/6d3r.pdb\")"
   ]
  },
  {
   "cell_type": "code",
   "execution_count": 8,
   "metadata": {},
   "outputs": [],
   "source": [
    "fixer.findMissingResidues()\n",
    "# add missing residues in the middle of a chain, not ones at the start or end of the chain.\n",
    "chains = list(fixer.topology.chains())\n",
    "keys = fixer.missingResidues.keys()"
   ]
  },
  {
   "cell_type": "code",
   "execution_count": 67,
   "metadata": {},
   "outputs": [
    {
     "data": {
      "text/plain": [
       "dict_keys([])"
      ]
     },
     "execution_count": 67,
     "metadata": {},
     "output_type": "execute_result"
    }
   ],
   "source": [
    "keys"
   ]
  },
  {
   "cell_type": "code",
   "execution_count": 9,
   "metadata": {},
   "outputs": [
    {
     "data": {
      "text/plain": [
       "{}"
      ]
     },
     "execution_count": 9,
     "metadata": {},
     "output_type": "execute_result"
    }
   ],
   "source": [
    "fixer = PDBFixer(pdbid='1VII')\n",
    "fixer.findMissingResidues()\n",
    "missing_residues = fixer.missingResidues\n",
    "missing_residues"
   ]
  },
  {
   "cell_type": "code",
   "execution_count": 69,
   "metadata": {},
   "outputs": [],
   "source": []
  },
  {
   "cell_type": "code",
   "execution_count": 11,
   "metadata": {},
   "outputs": [
    {
     "data": {
      "text/plain": [
       "dict_keys([(0, 0), (0, 398), (0, 605), (0, 645), (0, 909), (0, 1139)])"
      ]
     },
     "execution_count": 11,
     "metadata": {},
     "output_type": "execute_result"
    }
   ],
   "source": [
    "fixer = pdbfixer.PDBFixer(pdbid=\"5uak\")\n",
    "fixer.findMissingResidues()\n",
    "keys = fixer.missingResidues.keys()\n",
    "keys"
   ]
  },
  {
   "cell_type": "code",
   "execution_count": 71,
   "metadata": {},
   "outputs": [
    {
     "data": {
      "text/plain": [
       "{}"
      ]
     },
     "execution_count": 71,
     "metadata": {},
     "output_type": "execute_result"
    }
   ],
   "source": [
    "6D3R"
   ]
  },
  {
   "cell_type": "code",
   "execution_count": 72,
   "metadata": {},
   "outputs": [
    {
     "data": {
      "text/plain": [
       "dict_keys([])"
      ]
     },
     "execution_count": 72,
     "metadata": {},
     "output_type": "execute_result"
    }
   ],
   "source": [
    "fixer.missingResidues.keys()"
   ]
  },
  {
   "cell_type": "code",
   "execution_count": 4,
   "metadata": {},
   "outputs": [
    {
     "data": {
      "text/plain": [
       "dict_keys([])"
      ]
     },
     "execution_count": 4,
     "metadata": {},
     "output_type": "execute_result"
    }
   ],
   "source": [
    "fixer = pdbfixer.PDBFixer(filename=\"/Users/weilu/Research/server/nov_2019/benchmark/20191025_benchmark/original/6d3r.pdb\")\n",
    "fixer.findMissingResidues()\n",
    "keys = fixer.missingResidues.keys()\n",
    "keys"
   ]
  },
  {
   "cell_type": "code",
   "execution_count": 73,
   "metadata": {},
   "outputs": [
    {
     "data": {
      "text/plain": [
       "dict_keys([(0, 0), (0, 136), (0, 443), (0, 1069)])"
      ]
     },
     "execution_count": 73,
     "metadata": {},
     "output_type": "execute_result"
    }
   ],
   "source": [
    "fixer = PDBFixer(filename=\"/Users/weilu/Research/server/nov_2019/benchmark/20191025_benchmark/original/6jdq.pdb\")\n",
    "fixer.findMissingResidues()\n",
    "keys = fixer.missingResidues.keys()\n",
    "keys"
   ]
  },
  {
   "cell_type": "code",
   "execution_count": 74,
   "metadata": {},
   "outputs": [
    {
     "data": {
      "text/plain": [
       "{(0, 0): ['MET', 'ALA', 'ALA', 'PHE', 'LYS', 'PRO', 'ASN'],\n",
       " (0, 136): ['ARG', 'LYS'],\n",
       " (0, 443): ['TYR', 'GLY', 'LYS', 'LYS', 'ASN'],\n",
       " (0, 1069): ['GLU', 'HIS', 'HIS', 'HIS', 'HIS', 'HIS', 'HIS', 'HIS', 'HIS']}"
      ]
     },
     "execution_count": 74,
     "metadata": {},
     "output_type": "execute_result"
    }
   ],
   "source": [
    "fixer.missingResidues"
   ]
  },
  {
   "cell_type": "code",
   "execution_count": null,
   "metadata": {},
   "outputs": [],
   "source": []
  }
 ],
 "metadata": {
  "kernelspec": {
   "display_name": "Python 3",
   "language": "python",
   "name": "python3"
  },
  "language_info": {
   "codemirror_mode": {
    "name": "ipython",
    "version": 3
   },
   "file_extension": ".py",
   "mimetype": "text/x-python",
   "name": "python",
   "nbconvert_exporter": "python",
   "pygments_lexer": "ipython3",
   "version": "3.6.8"
  }
 },
 "nbformat": 4,
 "nbformat_minor": 2
}
