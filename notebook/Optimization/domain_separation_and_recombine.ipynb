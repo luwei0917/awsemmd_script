{
 "cells": [
  {
   "cell_type": "code",
   "execution_count": 1,
   "metadata": {},
   "outputs": [],
   "source": [
    "import os\n",
    "import sys\n",
    "import random\n",
    "import time\n",
    "from random import seed, randint\n",
    "import argparse\n",
    "import platform\n",
    "from datetime import datetime\n",
    "import imp\n",
    "import numpy as np\n",
    "import fileinput\n",
    "from itertools import product\n",
    "import pandas as pd\n",
    "from scipy.interpolate import griddata\n",
    "from scipy.interpolate import interp2d\n",
    "import seaborn as sns\n",
    "from os import listdir\n",
    "\n",
    "import matplotlib.pyplot as plt\n",
    "import seaborn as sns\n",
    "from scipy.interpolate import griddata\n",
    "import matplotlib as mpl\n",
    "# sys.path.insert(0,'..')\n",
    "# from notebookFunctions import *\n",
    "# from .. import notebookFunctions\n",
    "from Bio.PDB.Polypeptide import one_to_three\n",
    "from Bio.PDB.Polypeptide import three_to_one\n",
    "from Bio.PDB.PDBParser import PDBParser\n",
    "from pyCodeLib import *\n",
    "from small_script.myFunctions import *\n",
    "from collections import defaultdict\n",
    "%matplotlib inline\n",
    "# plt.rcParams['figure.figsize'] = (10,6.180)    #golden ratio\n",
    "# %matplotlib notebook\n",
    "%load_ext autoreload\n",
    "%autoreload 2"
   ]
  },
  {
   "cell_type": "code",
   "execution_count": 2,
   "metadata": {},
   "outputs": [],
   "source": [
    "plt.rcParams['figure.figsize'] = [16.18033, 10]    #golden ratio\n",
    "plt.rcParams['figure.facecolor'] = 'w'\n",
    "plt.rcParams['figure.dpi'] = 100\n",
    "plt.rcParams.update({'font.size': 22})"
   ]
  },
  {
   "cell_type": "code",
   "execution_count": 66,
   "metadata": {},
   "outputs": [],
   "source": [
    "def get_two_part_from_eye_seperation(pdb, data):\n",
    "    row = data.query(f\"Protein == '{pdb}'\")\n",
    "    assert len(row) == 1\n",
    "    row = row.iloc[0]\n",
    "    glob_start, glob_end = row[\"Range\"].split(\"-\")\n",
    "    length = row[\"Length\"]\n",
    "    glob_start = int(glob_start)\n",
    "    glob_end = int(glob_end)\n",
    "    print(pdb, glob_start, glob_end)\n",
    "    GlobularPart = list(range(glob_start, glob_end+1))\n",
    "    MembranePart = []\n",
    "    for i in range(1, length+1):\n",
    "        if i not in GlobularPart:\n",
    "            MembranePart.append(i)\n",
    "    return GlobularPart, MembranePart\n",
    "\n",
    "\n",
    "def get_contactFromDMP(fileLocation, n, threshold=0.5):\n",
    "    a = np.zeros((n,n))\n",
    "    c_list = []\n",
    "    with open(fileLocation, \"r\") as f:\n",
    "    #     for i in range(9):\n",
    "    #         next(f)\n",
    "        for line in f:\n",
    "    #         print(line)\n",
    "            try:\n",
    "                i,j,_,_,_,p = line.split(\" \")\n",
    "    #             print(i,j,p)\n",
    "                a[int(i)-1,int(j)-1] = float(p)\n",
    "                a[int(j)-1,int(i)-1] = float(p)\n",
    "                if float(p) > threshold:\n",
    "                    c_list.append([int(i)-1,int(j)-1,float(p)])\n",
    "            except Exception as e:\n",
    "                print(e)\n",
    "                pass\n",
    "    return a, np.array(c_list)\n",
    "\n",
    "from Bio.PDB.PDBParser import PDBParser\n",
    "def getContactMapFromPDB(pdbFile):\n",
    "    cutoff = 9.5\n",
    "    MAX_OFFSET = 6\n",
    "    parser = PDBParser()\n",
    "    structure = parser.get_structure('target', pdbFile)\n",
    "    all_residues = list(structure.get_residues())\n",
    "    \n",
    "    tmp = []\n",
    "    for res in all_residues:\n",
    "        # print(res.id)\n",
    "        if res.id[0] == ' ':\n",
    "            tmp.append(res)\n",
    "\n",
    "    all_residues = tmp\n",
    "\n",
    "    n = len(all_residues)\n",
    "    contact_table = np.zeros((n,n))\n",
    "    # print(all_residues, n)\n",
    "    for i, res1 in enumerate(all_residues):\n",
    "        for j, res2 in enumerate(all_residues):\n",
    "            contact_table[i][j] = res1[\"CA\"]-res2[\"CA\"]\n",
    "\n",
    "    data = (contact_table < cutoff)\n",
    "    remove_band = np.eye(n)\n",
    "    for i in range(1, MAX_OFFSET):\n",
    "        remove_band += np.eye(n, k=i)\n",
    "        remove_band += np.eye(n, k=-i)\n",
    "    data[remove_band==1] = 0\n",
    "    return data"
   ]
  },
  {
   "cell_type": "code",
   "execution_count": 115,
   "metadata": {},
   "outputs": [],
   "source": [
    "pdb_list = [\"2xov_complete\", \"6e67A\", \"5xpd\", \"3kp9\", \"4a2n\", \"5d91\", \"4nv6\", \"4p79\", \"5dsg\", \"6g7o\", \"6a93\", \"2jo1\", \"1py6\", \"1pv6\", \"1u19\"]\n",
    "infoLocation = \"/Users/weilu/Research/database/hybrid_prediction_database/length_info.csv\"\n",
    "info = pd.read_csv(infoLocation, index_col=0)\n",
    "# get_two_part_from_eye\n",
    "part_info = pd.read_csv(\"/Users/weilu/Research/database/hybrid_prediction_database/part_info.csv\", names=[\"Protein\", \"Range\"])\n",
    "part_info = part_info.merge(info, on=\"Protein\")"
   ]
  },
  {
   "cell_type": "code",
   "execution_count": 39,
   "metadata": {},
   "outputs": [
    {
     "name": "stdout",
     "output_type": "stream",
     "text": [
      "2xov_complete 1 63\n"
     ]
    }
   ],
   "source": [
    "part_info\n",
    "pdb = pdb_list[0]\n",
    "GlobularPart, MembranePart = get_two_part_from_eye_seperation(pdb, part_info)"
   ]
  },
  {
   "cell_type": "code",
   "execution_count": 41,
   "metadata": {},
   "outputs": [],
   "source": []
  },
  {
   "cell_type": "code",
   "execution_count": 47,
   "metadata": {},
   "outputs": [],
   "source": [
    "\n",
    "def getSeqFromFasta(fastaFile):\n",
    "    with open(fastaFile) as f:\n",
    "        a = f.readlines()\n",
    "    seq = \"\"\n",
    "    for line in a:\n",
    "        if line[0] == \">\":\n",
    "            continue\n",
    "        seq += line.strip()\n",
    "    return seq\n"
   ]
  },
  {
   "cell_type": "code",
   "execution_count": 116,
   "metadata": {},
   "outputs": [
    {
     "name": "stdout",
     "output_type": "stream",
     "text": [
      "2xov_complete 1 63\n",
      "6e67A 201 380\n",
      "5xpd 218 269\n",
      "3kp9 165 259\n",
      "4a2n 101 125\n",
      "5d91 1 131\n",
      "4nv6 167 264\n",
      "4p79 31 61\n",
      "5dsg 205 311\n",
      "6g7o 245 350\n",
      "6a93 196 284\n",
      "2jo1 45 72\n",
      "1py6 60 75\n",
      "1pv6 190 219\n",
      "1u19 310 348\n"
     ]
    }
   ],
   "source": [
    "import textwrap\n",
    "for pdb in pdb_list:\n",
    "    fastaFile = f\"/Users/weilu/Research/server/aug_2019/hybrid_protein_simulation/setup/{pdb}/{pdb}.fasta\"\n",
    "    seq = getSeqFromFasta(fastaFile)\n",
    "    GlobularPart, MembranePart = get_two_part_from_eye_seperation(pdb, part_info)\n",
    "    GlobularPart_index = (np.array(GlobularPart)-1).astype(int)\n",
    "    MembranePart_index = (np.array(MembranePart)-1).astype(int)\n",
    "    MembranePart_fastaFile = f\"/Users/weilu/Research/server/aug_2019/hybrid_protein_simulation/domain_contact_prediction/{pdb}_MembranePart.fasta\"\n",
    "    GlobularPart_fastaFile = f\"/Users/weilu/Research/server/aug_2019/hybrid_protein_simulation/domain_contact_prediction/{pdb}_GlobularPart.fasta\"\n",
    "    GlobularPart_seq = \"\".join(np.array(list(seq))[GlobularPart_index])\n",
    "    MembranePart_seq = \"\".join(np.array(list(seq))[MembranePart_index])\n",
    "    with open(MembranePart_fastaFile, \"w\") as out:\n",
    "        out.write(f\">{pdb}_MembranePart:A\\n\")\n",
    "        out.write(\"\\n\".join(textwrap.wrap(MembranePart_seq, width=80))+\"\\n\")\n",
    "    with open(GlobularPart_fastaFile, \"w\") as out:\n",
    "        out.write(f\">{pdb}_GlobularPart:A\\n\")\n",
    "        out.write(\"\\n\".join(textwrap.wrap(GlobularPart_seq, width=80))+\"\\n\")\n"
   ]
  },
  {
   "cell_type": "code",
   "execution_count": 19,
   "metadata": {},
   "outputs": [
    {
     "data": {
      "text/plain": [
       "417"
      ]
     },
     "execution_count": 19,
     "metadata": {},
     "output_type": "execute_result"
    }
   ],
   "source": [
    "len(seq)"
   ]
  },
  {
   "cell_type": "code",
   "execution_count": 58,
   "metadata": {},
   "outputs": [],
   "source": [
    "# combine contact map.\n",
    "# and convert into input for simulation."
   ]
  },
  {
   "cell_type": "code",
   "execution_count": 86,
   "metadata": {},
   "outputs": [
    {
     "name": "stdout",
     "output_type": "stream",
     "text": [
      "4nv6 167 258\n"
     ]
    }
   ],
   "source": [
    "\n",
    "# pdb = \"4nv6\"\n",
    "# fastaFile = f\"/Users/weilu/Research/server/aug_2019/hybrid_protein_simulation/setup/{pdb}/{pdb}.fasta\"\n",
    "# seq = getSeqFromFasta(fastaFile)\n",
    "# GlobularPart, MembranePart = get_two_part_from_eye_seperation(pdb, part_info)\n",
    "# GlobularPart_index = (np.array(GlobularPart)-1).astype(int)\n",
    "# MembranePart_index = (np.array(MembranePart)-1).astype(int)\n",
    "# pre = \"/Users/weilu/Research/server/aug_2019/hybrid_protein_simulation/domain_contact_prediction/\"\n",
    "# fileLocation = f\"{pre}/{pdb}_MembranePart.deepmetapsicov.con\"\n",
    "# n = len(MembranePart)\n",
    "# MembranePart_data = get_contactFromDMP(fileLocation, n)\n",
    "# MembranePart_fastaFile = f\"/Users/weilu/Research/server/aug_2019/hybrid_protein_simulation/domain_contact_prediction/{pdb}_MembranePart.fasta\"\n",
    "# seq_MembranePart = getSeqFromFasta(MembranePart_fastaFile)\n",
    "\n",
    "\n",
    "# fileLocation = f\"{pre}/{pdb}_GlobularPart.deepmetapsicov.con\"\n",
    "# n = len(GlobularPart)\n",
    "# GlobularPart_data = get_contactFromDMP(fileLocation, n)\n",
    "# GlobularPart_fastaFile = f\"/Users/weilu/Research/server/aug_2019/hybrid_protein_simulation/domain_contact_prediction/{pdb}_GlobularPart.fasta\"\n",
    "# seq_GlobularPart = getSeqFromFasta(GlobularPart_fastaFile)"
   ]
  },
  {
   "cell_type": "code",
   "execution_count": 104,
   "metadata": {},
   "outputs": [
    {
     "data": {
      "text/plain": [
       "<matplotlib.image.AxesImage at 0x1a285894e0>"
      ]
     },
     "execution_count": 104,
     "metadata": {},
     "output_type": "execute_result"
    },
    {
     "data": {
      "image/png": "[encoded data removed]",
      "text/plain": [
       "<Figure size 1618.03x1000 with 1 Axes>"
      ]
     },
     "metadata": {},
     "output_type": "display_data"
    }
   ],
   "source": [
    "plt.imshow(MembranePart_data[0] > 0.5, origin=0)"
   ]
  },
  {
   "cell_type": "code",
   "execution_count": 103,
   "metadata": {},
   "outputs": [
    {
     "data": {
      "text/plain": [
       "<matplotlib.image.AxesImage at 0x1a2859b358>"
      ]
     },
     "execution_count": 103,
     "metadata": {},
     "output_type": "execute_result"
    },
    {
     "data": {
      "image/png": "[encoded data removed]",
      "text/plain": [
       "<Figure size 1618.03x1000 with 1 Axes>"
      ]
     },
     "metadata": {},
     "output_type": "display_data"
    }
   ],
   "source": [
    "plt.imshow(GlobularPart_data[0] > 0.5, origin=0)"
   ]
  },
  {
   "cell_type": "code",
   "execution_count": 118,
   "metadata": {},
   "outputs": [
    {
     "name": "stdout",
     "output_type": "stream",
     "text": [
      "6e67A 201 380\n"
     ]
    }
   ],
   "source": []
  },
  {
   "cell_type": "code",
   "execution_count": 119,
   "metadata": {},
   "outputs": [],
   "source": [
    "# pdb = \"4nv6\"\n",
    "pdb = \"6e67A\"\n",
    "fastaFile = f\"/Users/weilu/Research/server/aug_2019/hybrid_protein_simulation/setup/{pdb}/{pdb}.fasta\"\n",
    "seq = getSeqFromFasta(fastaFile)\n",
    "GlobularPart, MembranePart = get_two_part_from_eye_seperation(pdb, part_info)\n",
    "GlobularPart_index = (np.array(GlobularPart)-1).astype(int)\n",
    "MembranePart_index = (np.array(MembranePart)-1).astype(int)\n",
    "\n",
    "pre = \"/Users/weilu/Research/server/aug_2019/hybrid_protein_simulation/domain_contact_prediction/\"\n",
    "fileLocation = f\"{pre}/{pdb}_MembranePart.deepmetapsicov.con\"\n",
    "data = pd.read_csv(fileLocation, sep=\"\\s+\", names=[\"i\",\"j\",\"s\", \"ss\",\"p\"]).dropna().reset_index(drop=True)\n",
    "data[\"i\"] = data[\"i\"].astype(int)\n",
    "data[\"j\"] = data[\"j\"].astype(int)\n",
    "data[\"i\"] = data[\"i\"].apply(lambda x:MembranePart_index[x-1]+1)\n",
    "data[\"j\"] = data[\"j\"].apply(lambda x:MembranePart_index[x-1]+1)\n",
    "MembranePart_data = data\n",
    "MembranePart_fastaFile = f\"/Users/weilu/Research/server/aug_2019/hybrid_protein_simulation/domain_contact_prediction/{pdb}_MembranePart.fasta\"\n",
    "seq_MembranePart = getSeqFromFasta(MembranePart_fastaFile)\n",
    "\n",
    "\n",
    "fileLocation = f\"{pre}/{pdb}_GlobularPart.deepmetapsicov.con\"\n",
    "data = pd.read_csv(fileLocation, sep=\"\\s+\", names=[\"i\",\"j\",\"s\", \"ss\",\"p\"]).dropna().reset_index(drop=True)\n",
    "data[\"i\"] = data[\"i\"].astype(int)\n",
    "data[\"j\"] = data[\"j\"].astype(int)\n",
    "data[\"i\"] = data[\"i\"].apply(lambda x:GlobularPart_index[x-1]+1)\n",
    "data[\"j\"] = data[\"j\"].apply(lambda x:GlobularPart_index[x-1]+1)\n",
    "GlobularPart_data = data\n",
    "GlobularPart_fastaFile = f\"/Users/weilu/Research/server/aug_2019/hybrid_protein_simulation/domain_contact_prediction/{pdb}_GlobularPart.fasta\"\n",
    "seq_GlobularPart = getSeqFromFasta(GlobularPart_fastaFile)"
   ]
  },
  {
   "cell_type": "code",
   "execution_count": 120,
   "metadata": {},
   "outputs": [],
   "source": [
    "data = pd.concat([GlobularPart_data, MembranePart_data]).reset_index(drop=True)\n",
    "# data = pd.concat([MembranePart_data]).reset_index(drop=True)"
   ]
  },
  {
   "cell_type": "code",
   "execution_count": 127,
   "metadata": {},
   "outputs": [],
   "source": [
    "pre='/Users/weilu/opt/gremlin/'\n",
    "directory=pre\n",
    "distancesCACB=pd.read_csv(directory+'CACBmediandist.dat', delim_whitespace=True, header=None)\n",
    "distancesCACA=pd.read_csv(directory+'CACAmediandist.dat', delim_whitespace=True, header=None)\n",
    "distancesCBCB=pd.read_csv(directory+'CBCBmediandist.dat', delim_whitespace=True, header=None)\n",
    "distancesCACB.columns = ['i', 'j', 'dist']\n",
    "distancesCACA.columns = ['i', 'j', 'dist']\n",
    "distancesCBCB.columns = ['i', 'j', 'dist']\n",
    "# if you want to filter the gremlin data, adjust the parameters below\n",
    "filter_threshold=0.5"
   ]
  },
  {
   "cell_type": "code",
   "execution_count": 132,
   "metadata": {},
   "outputs": [],
   "source": [
    "column=2\n",
    "n=len(seq)\n",
    "#     print(n)\n",
    "rnative_matrixCACB=np.ones([n,n])*99\n",
    "rnative_matrixCACA=np.ones([n,n])*99\n",
    "rnative_matrixCBCB=np.ones([n,n])*99\n",
    "for _, line in data.iterrows():\n",
    "    i = int(line[\"i\"])\n",
    "    j = int(line[\"j\"])\n",
    "    irestype=seq[i-1]\n",
    "    jrestype=seq[j-1]\n",
    "    if line[\"p\"] > filter_threshold:\n",
    "        if sum((distancesCACB['i']==irestype)&(distancesCACB['j']==jrestype))>0: #check if pair is in correct order\n",
    "            well_centerCACB = distancesCACB[(distancesCACB['i']==irestype)&(distancesCACB['j']==jrestype)]['dist'].values[0]\n",
    "            well_centerCACA = distancesCACA[(distancesCACA['i']==irestype)&(distancesCACA['j']==jrestype)]['dist'].values[0]\n",
    "            well_centerCBCB = distancesCBCB[(distancesCBCB['i']==irestype)&(distancesCBCB['j']==jrestype)]['dist'].values[0]\n",
    "        else:\n",
    "            well_centerCACB = distancesCACB[(distancesCACB['i']==jrestype)&(distancesCACB['j']==irestype)]['dist'].values[0]\n",
    "            well_centerCACA = distancesCACA[(distancesCACA['i']==jrestype)&(distancesCACA['j']==irestype)]['dist'].values[0]\n",
    "            well_centerCBCB = distancesCBCB[(distancesCBCB['i']==jrestype)&(distancesCBCB['j']==irestype)]['dist'].values[0]\n",
    "\n",
    "        rnative_matrixCACB[i-1, j-1] = well_centerCACB\n",
    "        rnative_matrixCACB[j-1, i-1] = well_centerCACB\n",
    "        rnative_matrixCACA[i-1, j-1] = well_centerCACA\n",
    "        rnative_matrixCACA[j-1, i-1] = well_centerCACA\n",
    "        rnative_matrixCBCB[i-1, j-1] = well_centerCBCB\n",
    "        rnative_matrixCBCB[j-1, i-1] = well_centerCBCB\n",
    "# import matplotlib.pyplot as plt\n",
    "pre = \"/Users/weilu/Research/server/aug_2019/hybrid_protein_simulation/domain_contact_prediction/\"\n",
    "directory = f\"{pre}/protein/{pdb}/DMP/\"\n",
    "os.system(f\"mkdir -p {directory}\")\n",
    "# plt.imshow(rnative_matrixCACB, origin=0)\n",
    "np.savetxt(directory + 'go_rnativeCACB.dat', rnative_matrixCACB, fmt='%10.5f')\n",
    "np.savetxt(directory + 'go_rnativeCACA.dat', rnative_matrixCACA, fmt='%10.5f')\n",
    "np.savetxt(directory + 'go_rnativeCBCB.dat', rnative_matrixCBCB, fmt='%10.5f')"
   ]
  },
  {
   "cell_type": "code",
   "execution_count": 131,
   "metadata": {},
   "outputs": [
    {
     "data": {
      "text/plain": [
       "'/Users/weilu/opt/gremlin/'"
      ]
     },
     "execution_count": 131,
     "metadata": {},
     "output_type": "execute_result"
    }
   ],
   "source": [
    "pre"
   ]
  },
  {
   "cell_type": "code",
   "execution_count": 121,
   "metadata": {},
   "outputs": [],
   "source": [
    "n = len(seq)\n",
    "contact_map = np.zeros((n,n))\n",
    "for _, line in data.iterrows():\n",
    "    i = int(line[\"i\"])\n",
    "    j = int(line[\"j\"])\n",
    "    irestype=seq[i-1]\n",
    "    jrestype=seq[j-1]\n",
    "    n = len(seq)\n",
    "    if line[\"p\"] > 0.5:\n",
    "        contact_map[i-1][j-1] = 1\n",
    "        contact_map[j-1][i-1] = 1"
   ]
  },
  {
   "cell_type": "code",
   "execution_count": 123,
   "metadata": {},
   "outputs": [
    {
     "data": {
      "text/plain": [
       "<matplotlib.image.AxesImage at 0x1a242387b8>"
      ]
     },
     "execution_count": 123,
     "metadata": {},
     "output_type": "execute_result"
    },
    {
     "data": {
      "image/png": "[encoded data removed]",
      "text/plain": [
       "<Figure size 1618.03x1000 with 1 Axes>"
      ]
     },
     "metadata": {},
     "output_type": "display_data"
    }
   ],
   "source": [
    "plt.imshow(contact_map, origin=0)"
   ]
  },
  {
   "cell_type": "code",
   "execution_count": null,
   "metadata": {},
   "outputs": [],
   "source": []
  },
  {
   "cell_type": "code",
   "execution_count": 122,
   "metadata": {},
   "outputs": [
    {
     "data": {
      "text/plain": [
       "457"
      ]
     },
     "execution_count": 122,
     "metadata": {},
     "output_type": "execute_result"
    }
   ],
   "source": [
    "len(seq)"
   ]
  },
  {
   "cell_type": "code",
   "execution_count": 101,
   "metadata": {},
   "outputs": [
    {
     "data": {
      "text/plain": [
       "array([166, 167, 168, 169, 170, 171, 172, 173, 174, 175, 176, 177, 178,\n",
       "       179, 180, 181, 182, 183, 184, 185, 186, 187, 188, 189, 190, 191,\n",
       "       192, 193, 194, 195, 196, 197, 198, 199, 200, 201, 202, 203, 204,\n",
       "       205, 206, 207, 208, 209, 210, 211, 212, 213, 214, 215, 216, 217,\n",
       "       218, 219, 220, 221, 222, 223, 224, 225, 226, 227, 228, 229, 230,\n",
       "       231, 232, 233, 234, 235, 236, 237, 238, 239, 240, 241, 242, 243,\n",
       "       244, 245, 246, 247, 248, 249, 250, 251, 252, 253, 254, 255, 256,\n",
       "       257])"
      ]
     },
     "execution_count": 101,
     "metadata": {},
     "output_type": "execute_result"
    }
   ],
   "source": [
    "GlobularPart_index"
   ]
  },
  {
   "cell_type": "code",
   "execution_count": 112,
   "metadata": {},
   "outputs": [
    {
     "data": {
      "text/plain": [
       "<matplotlib.image.AxesImage at 0x1a284a3e10>"
      ]
     },
     "execution_count": 112,
     "metadata": {},
     "output_type": "execute_result"
    },
    {
     "data": {
      "image/png": "[encoded data removed]",
      "text/plain": [
       "<Figure size 1618.03x1000 with 1 Axes>"
      ]
     },
     "metadata": {},
     "output_type": "display_data"
    }
   ],
   "source": [
    "plt.imshow(contact_map, origin=0)"
   ]
  },
  {
   "cell_type": "code",
   "execution_count": 100,
   "metadata": {},
   "outputs": [
    {
     "data": {
      "text/plain": [
       "<matplotlib.image.AxesImage at 0x1a283e2860>"
      ]
     },
     "execution_count": 100,
     "metadata": {},
     "output_type": "execute_result"
    },
    {
     "data": {
      "image/png": "[encoded data removed]",
      "text/plain": [
       "<Figure size 1618.03x1000 with 1 Axes>"
      ]
     },
     "metadata": {},
     "output_type": "display_data"
    }
   ],
   "source": [
    "plt.imshow(contact_map, origin=0)"
   ]
  },
  {
   "cell_type": "code",
   "execution_count": 94,
   "metadata": {},
   "outputs": [
    {
     "data": {
      "text/plain": [
       "264"
      ]
     },
     "execution_count": 94,
     "metadata": {},
     "output_type": "execute_result"
    }
   ],
   "source": [
    "len(seq)"
   ]
  },
  {
   "cell_type": "code",
   "execution_count": 84,
   "metadata": {},
   "outputs": [
    {
     "data": {
      "text/html": [
       "<div>\n",
       "<style scoped>\n",
       "    .dataframe tbody tr th:only-of-type {\n",
       "        vertical-align: middle;\n",
       "    }\n",
       "\n",
       "    .dataframe tbody tr th {\n",
       "        vertical-align: top;\n",
       "    }\n",
       "\n",
       "    .dataframe thead th {\n",
       "        text-align: right;\n",
       "    }\n",
       "</style>\n",
       "<table border=\"1\" class=\"dataframe\">\n",
       "  <thead>\n",
       "    <tr style=\"text-align: right;\">\n",
       "      <th></th>\n",
       "      <th>i</th>\n",
       "      <th>j</th>\n",
       "      <th>s</th>\n",
       "      <th>ss</th>\n",
       "      <th>p</th>\n",
       "    </tr>\n",
       "  </thead>\n",
       "  <tbody>\n",
       "    <tr>\n",
       "      <th>0</th>\n",
       "      <td>167</td>\n",
       "      <td>169</td>\n",
       "      <td>0</td>\n",
       "      <td>8</td>\n",
       "      <td>0.993693</td>\n",
       "    </tr>\n",
       "    <tr>\n",
       "      <th>1</th>\n",
       "      <td>167</td>\n",
       "      <td>170</td>\n",
       "      <td>0</td>\n",
       "      <td>8</td>\n",
       "      <td>0.994291</td>\n",
       "    </tr>\n",
       "    <tr>\n",
       "      <th>2</th>\n",
       "      <td>167</td>\n",
       "      <td>171</td>\n",
       "      <td>0</td>\n",
       "      <td>8</td>\n",
       "      <td>0.989898</td>\n",
       "    </tr>\n",
       "    <tr>\n",
       "      <th>3</th>\n",
       "      <td>167</td>\n",
       "      <td>172</td>\n",
       "      <td>0</td>\n",
       "      <td>8</td>\n",
       "      <td>0.217831</td>\n",
       "    </tr>\n",
       "    <tr>\n",
       "      <th>4</th>\n",
       "      <td>167</td>\n",
       "      <td>173</td>\n",
       "      <td>0</td>\n",
       "      <td>8</td>\n",
       "      <td>0.039602</td>\n",
       "    </tr>\n",
       "  </tbody>\n",
       "</table>\n",
       "</div>"
      ],
      "text/plain": [
       "     i    j  s  ss         p\n",
       "0  167  169  0   8  0.993693\n",
       "1  167  170  0   8  0.994291\n",
       "2  167  171  0   8  0.989898\n",
       "3  167  172  0   8  0.217831\n",
       "4  167  173  0   8  0.039602"
      ]
     },
     "execution_count": 84,
     "metadata": {},
     "output_type": "execute_result"
    }
   ],
   "source": [
    "data.head()"
   ]
  },
  {
   "cell_type": "code",
   "execution_count": null,
   "metadata": {},
   "outputs": [],
   "source": [
    "fileLocation = f\"{pre}/{pdb}_combined.deepmetapsicov.con\"\n",
    "with open(fileLocation, \"w\") as out:\n",
    "    for index, d in MembranePart_data.iterrows():\n",
    "    #     print(index)\n",
    "        i = int(d[\"i\"])\n",
    "        j = int(d[\"j\"])\n",
    "        p = round(d[\"p\"], 8)\n",
    "        s = int(d[\"s\"])\n",
    "        ss = int(d[\"ss\"])\n",
    "        out.write(f\"{i} {j} {s} {ss} {p}\\n\")\n",
    "    for index, d in GlobularPart_data.iterrows():\n",
    "    #     print(index)\n",
    "        i = int(d[\"i\"]) + len(seq_A)\n",
    "        j = int(d[\"j\"]) + len(seq_A)\n",
    "        p = round(d[\"p\"], 8)\n",
    "        s = int(d[\"s\"])\n",
    "        ss = int(d[\"ss\"])\n",
    "        out.write(f\"{i} {j} {s} {ss} {p}\\n\")\n",
    "    out.write(\"END\\n\")"
   ]
  },
  {
   "cell_type": "code",
   "execution_count": null,
   "metadata": {},
   "outputs": [],
   "source": [
    "getSeqFromFasta"
   ]
  },
  {
   "cell_type": "code",
   "execution_count": null,
   "metadata": {},
   "outputs": [],
   "source": [
    "def get_contactFromDMP(fileLocation, n, threshold=0.2):\n",
    "    a = np.zeros((n,n))\n",
    "    c_list = []\n",
    "    with open(fileLocation, \"r\") as f:\n",
    "    #     for i in range(9):\n",
    "    #         next(f)\n",
    "        for line in f:\n",
    "    #         print(line)\n",
    "            try:\n",
    "                i,j,_,_,_,p = line.split(\" \")\n",
    "    #             print(i,j,p)\n",
    "                a[int(i)-1,int(j)-1] = float(p)\n",
    "                a[int(j)-1,int(i)-1] = float(p)\n",
    "                if float(p) > threshold:\n",
    "                    c_list.append([int(i),int(j),float(p)])\n",
    "            except Exception as e:\n",
    "                print(e)\n",
    "                pass\n",
    "    return a, np.array(c_list)\n",
    "\n",
    "def convertDMPToInput(pdbID, dmp_file, fasta_file, pre='/Users/weilu/opt/gremlin/'):\n",
    "        # pdbID = \"2xov_complete_2\"\n",
    "        # read in median distances for pairwise interactions (obtained from analysis of the pdb)\n",
    "        directory=pre\n",
    "        distancesCACB=pd.read_csv(directory+'CACBmediandist.dat', delim_whitespace=True, header=None)\n",
    "        distancesCACA=pd.read_csv(directory+'CACAmediandist.dat', delim_whitespace=True, header=None)\n",
    "        distancesCBCB=pd.read_csv(directory+'CBCBmediandist.dat', delim_whitespace=True, header=None)\n",
    "        distancesCACB.columns = ['i', 'j', 'dist']\n",
    "        distancesCACA.columns = ['i', 'j', 'dist']\n",
    "        distancesCBCB.columns = ['i', 'j', 'dist']\n",
    "        # if you want to filter the gremlin data, adjust the parameters below\n",
    "        filter_threshold=0.5\n",
    "        column=2\n",
    "\n",
    "        seq = \"\"\n",
    "        with open(fasta_file) as f:\n",
    "            for line in f:\n",
    "                if line[0] == \">\":\n",
    "                    continue\n",
    "                seq += line.strip()\n",
    "        # seq\n",
    "\n",
    "        n=len(seq)\n",
    "        _, dmp_pairs = get_contactFromDMP(dmp_file, n=n)\n",
    "\n",
    "    #     print(n)\n",
    "        rnative_matrixCACB=np.ones([n,n])*99\n",
    "        rnative_matrixCACA=np.ones([n,n])*99\n",
    "        rnative_matrixCBCB=np.ones([n,n])*99\n",
    "        for pair in dmp_pairs:\n",
    "            i=int(pair[0])\n",
    "            j=int(pair[1])\n",
    "            irestype=seq[i-1]\n",
    "            jrestype=seq[j-1]\n",
    "            if float(pair[column]) > filter_threshold:\n",
    "                if sum((distancesCACB['i']==irestype)&(distancesCACB['j']==jrestype))>0: #check if pair is in correct order\n",
    "                    well_centerCACB = distancesCACB[(distancesCACB['i']==irestype)&(distancesCACB['j']==jrestype)]['dist'].values[0]\n",
    "                    well_centerCACA = distancesCACA[(distancesCACA['i']==irestype)&(distancesCACA['j']==jrestype)]['dist'].values[0]\n",
    "                    well_centerCBCB = distancesCBCB[(distancesCBCB['i']==irestype)&(distancesCBCB['j']==jrestype)]['dist'].values[0]\n",
    "                else:\n",
    "                    well_centerCACB = distancesCACB[(distancesCACB['i']==jrestype)&(distancesCACB['j']==irestype)]['dist'].values[0]\n",
    "                    well_centerCACA = distancesCACA[(distancesCACA['i']==jrestype)&(distancesCACA['j']==irestype)]['dist'].values[0]\n",
    "                    well_centerCBCB = distancesCBCB[(distancesCBCB['i']==jrestype)&(distancesCBCB['j']==irestype)]['dist'].values[0]\n",
    "\n",
    "                rnative_matrixCACB[i-1, j-1] = well_centerCACB\n",
    "                rnative_matrixCACB[j-1, i-1] = well_centerCACB\n",
    "                rnative_matrixCACA[i-1, j-1] = well_centerCACA\n",
    "                rnative_matrixCACA[j-1, i-1] = well_centerCACA\n",
    "                rnative_matrixCBCB[i-1, j-1] = well_centerCBCB\n",
    "                rnative_matrixCBCB[j-1, i-1] = well_centerCBCB\n",
    "        import matplotlib.pyplot as plt\n",
    "\n",
    "        plt.imshow(rnative_matrixCACB, origin=0)\n",
    "        # plt.show()\n",
    "        fig = plt.gcf()\n",
    "        directory = f\"{pre}/protein/\" + pdbID + \"/DMP/\"\n",
    "        os.system(\"mkdir -p \" + directory)\n",
    "        figureDirectory = f\"{directory}/contact.png\"\n",
    "        fig.savefig(figureDirectory)\n",
    "        os.system(f\"cp {dmp_file} {directory}\")\n",
    "        os.system(f\"cp {fasta_file} {directory}\")\n",
    "\n",
    "        np.savetxt(directory + 'go_rnativeCACB.dat', rnative_matrixCACB, fmt='%10.5f')\n",
    "        np.savetxt(directory + 'go_rnativeCACA.dat', rnative_matrixCACA, fmt='%10.5f')\n",
    "        np.savetxt(directory + 'go_rnativeCBCB.dat', rnative_matrixCBCB, fmt='%10.5f')\n"
   ]
  }
 ],
 "metadata": {
  "kernelspec": {
   "display_name": "Python 3",
   "language": "python",
   "name": "python3"
  },
  "language_info": {
   "codemirror_mode": {
    "name": "ipython",
    "version": 3
   },
   "file_extension": ".py",
   "mimetype": "text/x-python",
   "name": "python",
   "nbconvert_exporter": "python",
   "pygments_lexer": "ipython3",
   "version": "3.6.8"
  }
 },
 "nbformat": 4,
 "nbformat_minor": 2
}
