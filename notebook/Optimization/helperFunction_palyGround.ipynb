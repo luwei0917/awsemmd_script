{
 "cells": [
  {
   "cell_type": "code",
   "execution_count": 25,
   "metadata": {
    "collapsed": true
   },
   "outputs": [],
   "source": [
    "import os\n",
    "from Bio.PDB import PDBList\n",
    "from pdbfixer import PDBFixer\n",
    "from simtk.openmm.app import PDBFile"
   ]
  },
  {
   "cell_type": "code",
   "execution_count": 3,
   "metadata": {},
   "outputs": [],
   "source": [
    "os.chdir(\"/Users/weilu/Research/server/nov_2018/iterative_optimization\")"
   ]
  },
  {
   "cell_type": "code",
   "execution_count": 6,
   "metadata": {
    "collapsed": true
   },
   "outputs": [],
   "source": [
    "a = \"1R69, 1UTG, 3ICB, 256BA, 4CPV, 1CCR, 2MHR, 1MBA, 2FHA\""
   ]
  },
  {
   "cell_type": "code",
   "execution_count": 8,
   "metadata": {},
   "outputs": [],
   "source": [
    "pdb_list = a.split(\", \")"
   ]
  },
  {
   "cell_type": "code",
   "execution_count": 9,
   "metadata": {},
   "outputs": [
    {
     "data": {
      "text/plain": [
       "['1R69', '1UTG', '3ICB', '256BA', '4CPV', '1CCR', '2MHR', '1MBA', '2FHA']"
      ]
     },
     "execution_count": 9,
     "metadata": {},
     "output_type": "execute_result"
    }
   ],
   "source": [
    "pdb_list"
   ]
  },
  {
   "cell_type": "code",
   "execution_count": 23,
   "metadata": {},
   "outputs": [
    {
     "name": "stdout",
     "output_type": "stream",
     "text": [
      "Downloading PDB structure '1r69'...\n",
      "Downloading PDB structure '1utg'...\n",
      "Downloading PDB structure '3icb'...\n",
      "Downloading PDB structure '256b'...\n",
      "Downloading PDB structure '4cpv'...\n",
      "Downloading PDB structure '1ccr'...\n",
      "Downloading PDB structure '2mhr'...\n",
      "Downloading PDB structure '1mba'...\n",
      "Downloading PDB structure '2fha'...\n"
     ]
    }
   ],
   "source": [
    "def download(pdb_list):\n",
    "    for pdb_id in pdb_list:\n",
    "        pdb = f\"{pdb_id.lower()[:4]}\"\n",
    "        pdbFile = pdb+\".pdb\"\n",
    "        if not os.path.isfile(\"original_pdbs/\"+pdbFile):\n",
    "            pdbl = PDBList()\n",
    "            name = pdbl.retrieve_pdb_file(pdb, pdir='.', file_format='pdb')\n",
    "        os.system(f\"mv {name} original_pdbs/{pdbFile}\")"
   ]
  },
  {
   "cell_type": "code",
   "execution_count": 29,
   "metadata": {
    "collapsed": true
   },
   "outputs": [],
   "source": [
    "pdbFile = \"original_pdbs/2fha.pdb\""
   ]
  },
  {
   "cell_type": "code",
   "execution_count": 34,
   "metadata": {},
   "outputs": [
    {
     "data": {
      "text/plain": [
       "['1R69', '1UTG', '3ICB', '256BA', '4CPV', '1CCR', '2MHR', '1MBA', '2FHA']"
      ]
     },
     "execution_count": 34,
     "metadata": {},
     "output_type": "execute_result"
    }
   ],
   "source": [
    "pdb_list"
   ]
  },
  {
   "cell_type": "code",
   "execution_count": 36,
   "metadata": {},
   "outputs": [],
   "source": [
    "def cleanPdb(pdb_list):\n",
    "    for pdb_id in pdb_list:\n",
    "        pdb = f\"{pdb_id.lower()[:4]}\"\n",
    "        if len(pdb_id) == 5:\n",
    "            chain = pdb_id[4].upper()\n",
    "        else:\n",
    "            assert(len(pdb_id) == 4)\n",
    "            chain = \"A\"\n",
    "        pdbFile = pdb+\".pdb\"\n",
    "        # clean pdb\n",
    "        fixer = PDBFixer(filename=\"original_pdbs/\"+pdbFile)\n",
    "        # remove unwanted chains\n",
    "        chains = list(fixer.topology.chains())\n",
    "        chains_to_remove = [i for i, x in enumerate(chains) if x.id != chain]\n",
    "        fixer.removeChains(chains_to_remove)\n",
    "\n",
    "        fixer.findMissingResidues()\n",
    "        # add missing residues in the middle of a chain, not ones at the start or end of the chain.\n",
    "        chains = list(fixer.topology.chains())\n",
    "        keys = fixer.missingResidues.keys()\n",
    "        # print(keys)\n",
    "        for key in list(keys):\n",
    "            chain = chains[key[0]]\n",
    "            if key[1] == 0 or key[1] == len(list(chain.residues())):\n",
    "                del fixer.missingResidues[key]\n",
    "\n",
    "        fixer.findNonstandardResidues()\n",
    "        fixer.replaceNonstandardResidues()\n",
    "        fixer.removeHeterogens(False)\n",
    "        fixer.findMissingAtoms()\n",
    "        fixer.addMissingAtoms()\n",
    "        fixer.addMissingHydrogens(7.0)\n",
    "        PDBFile.writeFile(fixer.topology, fixer.positions, open(\"cleaned_pdbs/\"+pdbFile, 'w'))"
   ]
  },
  {
   "cell_type": "code",
   "execution_count": 37,
   "metadata": {},
   "outputs": [
    {
     "name": "stdout",
     "output_type": "stream",
     "text": [
      "1r69.pdb\n",
      "dict_keys([(0, 63)])\n",
      "1utg.pdb\n",
      "dict_keys([])\n",
      "3icb.pdb\n",
      "dict_keys([])\n",
      "256b.pdb\n",
      "dict_keys([])\n",
      "4cpv.pdb\n",
      "dict_keys([])\n",
      "1ccr.pdb\n",
      "dict_keys([])\n",
      "2mhr.pdb\n",
      "dict_keys([])\n",
      "1mba.pdb\n",
      "dict_keys([])\n",
      "2fha.pdb\n",
      "dict_keys([(0, 0), (0, 172)])\n"
     ]
    }
   ],
   "source": [
    "cleanPdb(pdb_list)"
   ]
  },
  {
   "cell_type": "code",
   "execution_count": null,
   "metadata": {
    "collapsed": true
   },
   "outputs": [],
   "source": []
  }
 ],
 "metadata": {
  "kernelspec": {
   "display_name": "Python 3",
   "language": "python",
   "name": "python3"
  },
  "language_info": {
   "codemirror_mode": {
    "name": "ipython",
    "version": 3
   },
   "file_extension": ".py",
   "mimetype": "text/x-python",
   "name": "python",
   "nbconvert_exporter": "python",
   "pygments_lexer": "ipython3",
   "version": "3.6.3"
  }
 },
 "nbformat": 4,
 "nbformat_minor": 2
}
