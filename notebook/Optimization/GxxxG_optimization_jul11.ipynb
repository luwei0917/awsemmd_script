{
 "cells": [
  {
   "cell_type": "code",
   "execution_count": 1,
   "metadata": {
    "collapsed": true
   },
   "outputs": [],
   "source": [
    "import os\n",
    "import sys\n",
    "import random\n",
    "import time\n",
    "from random import seed, randint\n",
    "import argparse\n",
    "import platform\n",
    "from datetime import datetime\n",
    "import imp\n",
    "import numpy as np\n",
    "import fileinput\n",
    "from itertools import product\n",
    "import pandas as pd\n",
    "from scipy.interpolate import griddata\n",
    "from scipy.interpolate import interp2d\n",
    "import seaborn as sns\n",
    "from os import listdir\n",
    "\n",
    "import matplotlib.pyplot as plt\n",
    "import seaborn as sns\n",
    "from scipy.interpolate import griddata\n",
    "import matplotlib as mpl\n",
    "# sys.path.insert(0,'..')\n",
    "# from notebookFunctions import *\n",
    "# from .. import notebookFunctions\n",
    "\n",
    "from Bio.PDB.PDBParser import PDBParser\n",
    "sys.path.insert(0, '/Users/weilu/Research/opt_server/')\n",
    "from pyCodeLib import *\n",
    "%matplotlib inline\n",
    "plt.rcParams['figure.figsize'] = np.array([10,6.180])    #golden ratio\n",
    "plt.rcParams['figure.facecolor'] = 'w'\n",
    "# %matplotlib notebook\n",
    "%load_ext autoreload\n",
    "%autoreload 2"
   ]
  },
  {
   "cell_type": "code",
   "execution_count": 2,
   "metadata": {
    "collapsed": true
   },
   "outputs": [],
   "source": [
    "# data = pd.read_csv(\"/Users/weilu/Research/database/info_interaction_cutoff65_complete.csv\", index_col=0)\n",
    "data = pd.read_csv(\"/Users/weilu/Research/database/para_anti_para_with_six_letter_code.csv\", index_col=0)"
   ]
  },
  {
   "cell_type": "code",
   "execution_count": 3,
   "metadata": {},
   "outputs": [
    {
     "data": {
      "text/plain": [
       "(746520, 19)"
      ]
     },
     "execution_count": 3,
     "metadata": {},
     "output_type": "execute_result"
    }
   ],
   "source": [
    "data.shape"
   ]
  },
  {
   "cell_type": "code",
   "execution_count": 4,
   "metadata": {
    "collapsed": true
   },
   "outputs": [],
   "source": [
    "similar_size_protein_list = data[\"Protein\"].value_counts().reset_index().query(\"Protein > 50 and Protein < 400\")[\"index\"].to_list()\n",
    "data_selected = data.query(\"Protein in @similar_size_protein_list\").reset_index(drop=True)\n"
   ]
  },
  {
   "cell_type": "code",
   "execution_count": 5,
   "metadata": {},
   "outputs": [
    {
     "data": {
      "text/plain": [
       "(461632, 19)"
      ]
     },
     "execution_count": 5,
     "metadata": {},
     "output_type": "execute_result"
    }
   ],
   "source": [
    "data_selected.shape"
   ]
  },
  {
   "cell_type": "code",
   "execution_count": 29,
   "metadata": {},
   "outputs": [
    {
     "data": {
      "text/plain": [
       "3252"
      ]
     },
     "execution_count": 29,
     "metadata": {},
     "output_type": "execute_result"
    }
   ],
   "source": [
    "len(similar_size_protein_list)"
   ]
  },
  {
   "cell_type": "code",
   "execution_count": 14,
   "metadata": {
    "collapsed": true
   },
   "outputs": [],
   "source": [
    "tiny = data.sample(10)"
   ]
  },
  {
   "cell_type": "code",
   "execution_count": 6,
   "metadata": {
    "collapsed": true
   },
   "outputs": [],
   "source": [
    "a = data_selected.groupby([\"Res1_1\", \"Res1_2\", \"Res2_1\", \"Res2_2\", \"Direction\"])[\"Protein\"].count().reset_index().sort_values(\"Protein\")"
   ]
  },
  {
   "cell_type": "code",
   "execution_count": 7,
   "metadata": {},
   "outputs": [
    {
     "data": {
      "text/html": [
       "<div>\n",
       "<style scoped>\n",
       "    .dataframe tbody tr th:only-of-type {\n",
       "        vertical-align: middle;\n",
       "    }\n",
       "\n",
       "    .dataframe tbody tr th {\n",
       "        vertical-align: top;\n",
       "    }\n",
       "\n",
       "    .dataframe thead th {\n",
       "        text-align: right;\n",
       "    }\n",
       "</style>\n",
       "<table border=\"1\" class=\"dataframe\">\n",
       "  <thead>\n",
       "    <tr style=\"text-align: right;\">\n",
       "      <th></th>\n",
       "      <th>Res1_1</th>\n",
       "      <th>Res1_2</th>\n",
       "      <th>Res2_1</th>\n",
       "      <th>Res2_2</th>\n",
       "      <th>Direction</th>\n",
       "      <th>Protein</th>\n",
       "    </tr>\n",
       "  </thead>\n",
       "  <tbody>\n",
       "    <tr>\n",
       "      <td>20277</td>\n",
       "      <td>LEU</td>\n",
       "      <td>TYR</td>\n",
       "      <td>GLY</td>\n",
       "      <td>ILE</td>\n",
       "      <td>parallel</td>\n",
       "      <td>1</td>\n",
       "    </tr>\n",
       "    <tr>\n",
       "      <td>9381</td>\n",
       "      <td>GLU</td>\n",
       "      <td>TRP</td>\n",
       "      <td>PRO</td>\n",
       "      <td>CYS</td>\n",
       "      <td>parallel</td>\n",
       "      <td>1</td>\n",
       "    </tr>\n",
       "    <tr>\n",
       "      <td>9387</td>\n",
       "      <td>GLU</td>\n",
       "      <td>TRP</td>\n",
       "      <td>TRP</td>\n",
       "      <td>PHE</td>\n",
       "      <td>anti</td>\n",
       "      <td>1</td>\n",
       "    </tr>\n",
       "    <tr>\n",
       "      <td>9389</td>\n",
       "      <td>GLU</td>\n",
       "      <td>TRP</td>\n",
       "      <td>TYR</td>\n",
       "      <td>GLY</td>\n",
       "      <td>anti</td>\n",
       "      <td>1</td>\n",
       "    </tr>\n",
       "    <tr>\n",
       "      <td>9390</td>\n",
       "      <td>GLU</td>\n",
       "      <td>TRP</td>\n",
       "      <td>TYR</td>\n",
       "      <td>GLY</td>\n",
       "      <td>parallel</td>\n",
       "      <td>1</td>\n",
       "    </tr>\n",
       "    <tr>\n",
       "      <td>...</td>\n",
       "      <td>...</td>\n",
       "      <td>...</td>\n",
       "      <td>...</td>\n",
       "      <td>...</td>\n",
       "      <td>...</td>\n",
       "      <td>...</td>\n",
       "    </tr>\n",
       "    <tr>\n",
       "      <td>13796</td>\n",
       "      <td>ILE</td>\n",
       "      <td>GLY</td>\n",
       "      <td>ILE</td>\n",
       "      <td>GLY</td>\n",
       "      <td>parallel</td>\n",
       "      <td>660</td>\n",
       "    </tr>\n",
       "    <tr>\n",
       "      <td>31922</td>\n",
       "      <td>THR</td>\n",
       "      <td>GLY</td>\n",
       "      <td>THR</td>\n",
       "      <td>GLY</td>\n",
       "      <td>parallel</td>\n",
       "      <td>701</td>\n",
       "    </tr>\n",
       "    <tr>\n",
       "      <td>34821</td>\n",
       "      <td>TRP</td>\n",
       "      <td>TRP</td>\n",
       "      <td>PRO</td>\n",
       "      <td>ARG</td>\n",
       "      <td>anti</td>\n",
       "      <td>771</td>\n",
       "    </tr>\n",
       "    <tr>\n",
       "      <td>23804</td>\n",
       "      <td>PHE</td>\n",
       "      <td>ALA</td>\n",
       "      <td>PHE</td>\n",
       "      <td>PHE</td>\n",
       "      <td>anti</td>\n",
       "      <td>892</td>\n",
       "    </tr>\n",
       "    <tr>\n",
       "      <td>10306</td>\n",
       "      <td>GLY</td>\n",
       "      <td>GLY</td>\n",
       "      <td>GLY</td>\n",
       "      <td>GLY</td>\n",
       "      <td>parallel</td>\n",
       "      <td>895</td>\n",
       "    </tr>\n",
       "  </tbody>\n",
       "</table>\n",
       "<p>40556 rows × 6 columns</p>\n",
       "</div>"
      ],
      "text/plain": [
       "      Res1_1 Res1_2 Res2_1 Res2_2 Direction  Protein\n",
       "20277    LEU    TYR    GLY    ILE  parallel        1\n",
       "9381     GLU    TRP    PRO    CYS  parallel        1\n",
       "9387     GLU    TRP    TRP    PHE      anti        1\n",
       "9389     GLU    TRP    TYR    GLY      anti        1\n",
       "9390     GLU    TRP    TYR    GLY  parallel        1\n",
       "...      ...    ...    ...    ...       ...      ...\n",
       "13796    ILE    GLY    ILE    GLY  parallel      660\n",
       "31922    THR    GLY    THR    GLY  parallel      701\n",
       "34821    TRP    TRP    PRO    ARG      anti      771\n",
       "23804    PHE    ALA    PHE    PHE      anti      892\n",
       "10306    GLY    GLY    GLY    GLY  parallel      895\n",
       "\n",
       "[40556 rows x 6 columns]"
      ]
     },
     "execution_count": 7,
     "metadata": {},
     "output_type": "execute_result"
    }
   ],
   "source": [
    "a"
   ]
  },
  {
   "cell_type": "code",
   "execution_count": 8,
   "metadata": {},
   "outputs": [
    {
     "data": {
      "text/html": [
       "<div>\n",
       "<style scoped>\n",
       "    .dataframe tbody tr th:only-of-type {\n",
       "        vertical-align: middle;\n",
       "    }\n",
       "\n",
       "    .dataframe tbody tr th {\n",
       "        vertical-align: top;\n",
       "    }\n",
       "\n",
       "    .dataframe thead th {\n",
       "        text-align: right;\n",
       "    }\n",
       "</style>\n",
       "<table border=\"1\" class=\"dataframe\">\n",
       "  <thead>\n",
       "    <tr style=\"text-align: right;\">\n",
       "      <th></th>\n",
       "      <th>Res1_1</th>\n",
       "      <th>Res1_2</th>\n",
       "      <th>Res2_1</th>\n",
       "      <th>Res2_2</th>\n",
       "      <th>Direction</th>\n",
       "      <th>Protein</th>\n",
       "    </tr>\n",
       "  </thead>\n",
       "  <tbody>\n",
       "    <tr>\n",
       "      <td>10305</td>\n",
       "      <td>GLY</td>\n",
       "      <td>GLY</td>\n",
       "      <td>GLY</td>\n",
       "      <td>GLY</td>\n",
       "      <td>anti</td>\n",
       "      <td>83</td>\n",
       "    </tr>\n",
       "    <tr>\n",
       "      <td>10306</td>\n",
       "      <td>GLY</td>\n",
       "      <td>GLY</td>\n",
       "      <td>GLY</td>\n",
       "      <td>GLY</td>\n",
       "      <td>parallel</td>\n",
       "      <td>895</td>\n",
       "    </tr>\n",
       "  </tbody>\n",
       "</table>\n",
       "</div>"
      ],
      "text/plain": [
       "      Res1_1 Res1_2 Res2_1 Res2_2 Direction  Protein\n",
       "10305    GLY    GLY    GLY    GLY      anti       83\n",
       "10306    GLY    GLY    GLY    GLY  parallel      895"
      ]
     },
     "execution_count": 8,
     "metadata": {},
     "output_type": "execute_result"
    }
   ],
   "source": [
    "a.query(\"Res1_1=='GLY' and Res1_2=='GLY' and Res2_1=='GLY' and Res2_2=='GLY'\")"
   ]
  },
  {
   "cell_type": "code",
   "execution_count": 81,
   "metadata": {},
   "outputs": [
    {
     "data": {
      "text/plain": [
       "(48267, 6)"
      ]
     },
     "execution_count": 81,
     "metadata": {},
     "output_type": "execute_result"
    }
   ],
   "source": [
    "a.shape"
   ]
  },
  {
   "cell_type": "code",
   "execution_count": 69,
   "metadata": {
    "scrolled": true
   },
   "outputs": [
    {
     "data": {
      "text/plain": [
       "(1402, 6)"
      ]
     },
     "execution_count": 69,
     "metadata": {},
     "output_type": "execute_result"
    }
   ],
   "source": [
    "a.query(\"Protein > 100\").shape"
   ]
  },
  {
   "cell_type": "code",
   "execution_count": 70,
   "metadata": {},
   "outputs": [
    {
     "data": {
      "text/plain": [
       "(316, 6)"
      ]
     },
     "execution_count": 70,
     "metadata": {},
     "output_type": "execute_result"
    }
   ],
   "source": [
    "a.query(\"Protein > 200\").shape"
   ]
  },
  {
   "cell_type": "code",
   "execution_count": 71,
   "metadata": {},
   "outputs": [
    {
     "data": {
      "text/plain": [
       "(37, 6)"
      ]
     },
     "execution_count": 71,
     "metadata": {},
     "output_type": "execute_result"
    }
   ],
   "source": [
    "a.query(\"Protein > 500\").shape"
   ]
  },
  {
   "cell_type": "code",
   "execution_count": 82,
   "metadata": {
    "collapsed": true
   },
   "outputs": [],
   "source": []
  },
  {
   "cell_type": "code",
   "execution_count": 9,
   "metadata": {
    "collapsed": true
   },
   "outputs": [],
   "source": [
    "from Bio.PDB.Polypeptide import one_to_index\n",
    "from Bio.PDB.Polypeptide import three_to_index\n",
    "\n",
    "def encode_resName(data):\n",
    "    # if anti-parallel, the order by reading from res2_2 to res2_1\n",
    "    if data[\"Direction\"] == \"anti\":\n",
    "        res2 = three_to_index(data[\"Res2_2\"])*20 + three_to_index(data[\"Res2_1\"])\n",
    "        data[\"Res2_letter\"] = data[\"Res2_2\"] + \"_\" + data[\"Res2_1\"]\n",
    "    elif data[\"Direction\"] == \"parallel\":\n",
    "        res2 = three_to_index(data[\"Res2_1\"])*20 + three_to_index(data[\"Res2_2\"])\n",
    "        data[\"Res2_letter\"] = data[\"Res2_1\"] + \"_\" + data[\"Res2_2\"]\n",
    "    res1 = three_to_index(data[\"Res1_1\"])*20 + three_to_index(data[\"Res1_2\"])\n",
    "    data[\"Res1_letter\"] = data[\"Res1_1\"] + \"_\" + data[\"Res1_2\"]\n",
    "    # if res2 index is smaller than res1, We will swtich the index. to ensure res1 is less than res2.\n",
    "    if res2 < res1:\n",
    "        data[\"Res1\"] = res2\n",
    "        data[\"Res2\"] = res1\n",
    "    else:\n",
    "        data[\"Res1\"] = res1\n",
    "        data[\"Res2\"] = res2\n",
    "    return data"
   ]
  },
  {
   "cell_type": "code",
   "execution_count": 10,
   "metadata": {
    "collapsed": true
   },
   "outputs": [],
   "source": [
    "a = a.apply(encode_resName, axis=1)"
   ]
  },
  {
   "cell_type": "code",
   "execution_count": 11,
   "metadata": {},
   "outputs": [
    {
     "data": {
      "text/html": [
       "<div>\n",
       "<style scoped>\n",
       "    .dataframe tbody tr th:only-of-type {\n",
       "        vertical-align: middle;\n",
       "    }\n",
       "\n",
       "    .dataframe tbody tr th {\n",
       "        vertical-align: top;\n",
       "    }\n",
       "\n",
       "    .dataframe thead th {\n",
       "        text-align: right;\n",
       "    }\n",
       "</style>\n",
       "<table border=\"1\" class=\"dataframe\">\n",
       "  <thead>\n",
       "    <tr style=\"text-align: right;\">\n",
       "      <th></th>\n",
       "      <th>Res1_1</th>\n",
       "      <th>Res1_2</th>\n",
       "      <th>Res2_1</th>\n",
       "      <th>Res2_2</th>\n",
       "      <th>Direction</th>\n",
       "      <th>Protein</th>\n",
       "      <th>Res2_letter</th>\n",
       "      <th>Res1_letter</th>\n",
       "      <th>Res1</th>\n",
       "      <th>Res2</th>\n",
       "    </tr>\n",
       "  </thead>\n",
       "  <tbody>\n",
       "    <tr>\n",
       "      <td>20277</td>\n",
       "      <td>LEU</td>\n",
       "      <td>TYR</td>\n",
       "      <td>GLY</td>\n",
       "      <td>ILE</td>\n",
       "      <td>parallel</td>\n",
       "      <td>1</td>\n",
       "      <td>GLY_ILE</td>\n",
       "      <td>LEU_TYR</td>\n",
       "      <td>107</td>\n",
       "      <td>199</td>\n",
       "    </tr>\n",
       "    <tr>\n",
       "      <td>9381</td>\n",
       "      <td>GLU</td>\n",
       "      <td>TRP</td>\n",
       "      <td>PRO</td>\n",
       "      <td>CYS</td>\n",
       "      <td>parallel</td>\n",
       "      <td>1</td>\n",
       "      <td>PRO_CYS</td>\n",
       "      <td>GLU_TRP</td>\n",
       "      <td>78</td>\n",
       "      <td>241</td>\n",
       "    </tr>\n",
       "    <tr>\n",
       "      <td>9387</td>\n",
       "      <td>GLU</td>\n",
       "      <td>TRP</td>\n",
       "      <td>TRP</td>\n",
       "      <td>PHE</td>\n",
       "      <td>anti</td>\n",
       "      <td>1</td>\n",
       "      <td>PHE_TRP</td>\n",
       "      <td>GLU_TRP</td>\n",
       "      <td>78</td>\n",
       "      <td>98</td>\n",
       "    </tr>\n",
       "    <tr>\n",
       "      <td>9389</td>\n",
       "      <td>GLU</td>\n",
       "      <td>TRP</td>\n",
       "      <td>TYR</td>\n",
       "      <td>GLY</td>\n",
       "      <td>anti</td>\n",
       "      <td>1</td>\n",
       "      <td>GLY_TYR</td>\n",
       "      <td>GLU_TRP</td>\n",
       "      <td>78</td>\n",
       "      <td>119</td>\n",
       "    </tr>\n",
       "    <tr>\n",
       "      <td>9390</td>\n",
       "      <td>GLU</td>\n",
       "      <td>TRP</td>\n",
       "      <td>TYR</td>\n",
       "      <td>GLY</td>\n",
       "      <td>parallel</td>\n",
       "      <td>1</td>\n",
       "      <td>TYR_GLY</td>\n",
       "      <td>GLU_TRP</td>\n",
       "      <td>78</td>\n",
       "      <td>385</td>\n",
       "    </tr>\n",
       "    <tr>\n",
       "      <td>...</td>\n",
       "      <td>...</td>\n",
       "      <td>...</td>\n",
       "      <td>...</td>\n",
       "      <td>...</td>\n",
       "      <td>...</td>\n",
       "      <td>...</td>\n",
       "      <td>...</td>\n",
       "      <td>...</td>\n",
       "      <td>...</td>\n",
       "      <td>...</td>\n",
       "    </tr>\n",
       "    <tr>\n",
       "      <td>13796</td>\n",
       "      <td>ILE</td>\n",
       "      <td>GLY</td>\n",
       "      <td>ILE</td>\n",
       "      <td>GLY</td>\n",
       "      <td>parallel</td>\n",
       "      <td>660</td>\n",
       "      <td>ILE_GLY</td>\n",
       "      <td>ILE_GLY</td>\n",
       "      <td>145</td>\n",
       "      <td>145</td>\n",
       "    </tr>\n",
       "    <tr>\n",
       "      <td>31922</td>\n",
       "      <td>THR</td>\n",
       "      <td>GLY</td>\n",
       "      <td>THR</td>\n",
       "      <td>GLY</td>\n",
       "      <td>parallel</td>\n",
       "      <td>701</td>\n",
       "      <td>THR_GLY</td>\n",
       "      <td>THR_GLY</td>\n",
       "      <td>325</td>\n",
       "      <td>325</td>\n",
       "    </tr>\n",
       "    <tr>\n",
       "      <td>34821</td>\n",
       "      <td>TRP</td>\n",
       "      <td>TRP</td>\n",
       "      <td>PRO</td>\n",
       "      <td>ARG</td>\n",
       "      <td>anti</td>\n",
       "      <td>771</td>\n",
       "      <td>ARG_PRO</td>\n",
       "      <td>TRP_TRP</td>\n",
       "      <td>292</td>\n",
       "      <td>378</td>\n",
       "    </tr>\n",
       "    <tr>\n",
       "      <td>23804</td>\n",
       "      <td>PHE</td>\n",
       "      <td>ALA</td>\n",
       "      <td>PHE</td>\n",
       "      <td>PHE</td>\n",
       "      <td>anti</td>\n",
       "      <td>892</td>\n",
       "      <td>PHE_PHE</td>\n",
       "      <td>PHE_ALA</td>\n",
       "      <td>80</td>\n",
       "      <td>84</td>\n",
       "    </tr>\n",
       "    <tr>\n",
       "      <td>10306</td>\n",
       "      <td>GLY</td>\n",
       "      <td>GLY</td>\n",
       "      <td>GLY</td>\n",
       "      <td>GLY</td>\n",
       "      <td>parallel</td>\n",
       "      <td>895</td>\n",
       "      <td>GLY_GLY</td>\n",
       "      <td>GLY_GLY</td>\n",
       "      <td>105</td>\n",
       "      <td>105</td>\n",
       "    </tr>\n",
       "  </tbody>\n",
       "</table>\n",
       "<p>40556 rows × 10 columns</p>\n",
       "</div>"
      ],
      "text/plain": [
       "      Res1_1 Res1_2 Res2_1 Res2_2 Direction  Protein Res2_letter Res1_letter  \\\n",
       "20277    LEU    TYR    GLY    ILE  parallel        1     GLY_ILE     LEU_TYR   \n",
       "9381     GLU    TRP    PRO    CYS  parallel        1     PRO_CYS     GLU_TRP   \n",
       "9387     GLU    TRP    TRP    PHE      anti        1     PHE_TRP     GLU_TRP   \n",
       "9389     GLU    TRP    TYR    GLY      anti        1     GLY_TYR     GLU_TRP   \n",
       "9390     GLU    TRP    TYR    GLY  parallel        1     TYR_GLY     GLU_TRP   \n",
       "...      ...    ...    ...    ...       ...      ...         ...         ...   \n",
       "13796    ILE    GLY    ILE    GLY  parallel      660     ILE_GLY     ILE_GLY   \n",
       "31922    THR    GLY    THR    GLY  parallel      701     THR_GLY     THR_GLY   \n",
       "34821    TRP    TRP    PRO    ARG      anti      771     ARG_PRO     TRP_TRP   \n",
       "23804    PHE    ALA    PHE    PHE      anti      892     PHE_PHE     PHE_ALA   \n",
       "10306    GLY    GLY    GLY    GLY  parallel      895     GLY_GLY     GLY_GLY   \n",
       "\n",
       "       Res1  Res2  \n",
       "20277   107   199  \n",
       "9381     78   241  \n",
       "9387     78    98  \n",
       "9389     78   119  \n",
       "9390     78   385  \n",
       "...     ...   ...  \n",
       "13796   145   145  \n",
       "31922   325   325  \n",
       "34821   292   378  \n",
       "23804    80    84  \n",
       "10306   105   105  \n",
       "\n",
       "[40556 rows x 10 columns]"
      ]
     },
     "execution_count": 11,
     "metadata": {},
     "output_type": "execute_result"
    }
   ],
   "source": [
    "a"
   ]
  },
  {
   "cell_type": "markdown",
   "metadata": {},
   "source": [
    "## b consider the symmetry between i, j."
   ]
  },
  {
   "cell_type": "code",
   "execution_count": 12,
   "metadata": {},
   "outputs": [
    {
     "data": {
      "text/html": [
       "<div>\n",
       "<style scoped>\n",
       "    .dataframe tbody tr th:only-of-type {\n",
       "        vertical-align: middle;\n",
       "    }\n",
       "\n",
       "    .dataframe tbody tr th {\n",
       "        vertical-align: top;\n",
       "    }\n",
       "\n",
       "    .dataframe thead th {\n",
       "        text-align: right;\n",
       "    }\n",
       "</style>\n",
       "<table border=\"1\" class=\"dataframe\">\n",
       "  <thead>\n",
       "    <tr style=\"text-align: right;\">\n",
       "      <th></th>\n",
       "      <th>Res1</th>\n",
       "      <th>Res2</th>\n",
       "      <th>Direction</th>\n",
       "      <th>Protein</th>\n",
       "    </tr>\n",
       "  </thead>\n",
       "  <tbody>\n",
       "    <tr>\n",
       "      <td>0</td>\n",
       "      <td>0</td>\n",
       "      <td>0</td>\n",
       "      <td>anti</td>\n",
       "      <td>116</td>\n",
       "    </tr>\n",
       "    <tr>\n",
       "      <td>1</td>\n",
       "      <td>0</td>\n",
       "      <td>0</td>\n",
       "      <td>parallel</td>\n",
       "      <td>645</td>\n",
       "    </tr>\n",
       "    <tr>\n",
       "      <td>2</td>\n",
       "      <td>0</td>\n",
       "      <td>1</td>\n",
       "      <td>anti</td>\n",
       "      <td>13</td>\n",
       "    </tr>\n",
       "    <tr>\n",
       "      <td>3</td>\n",
       "      <td>0</td>\n",
       "      <td>1</td>\n",
       "      <td>parallel</td>\n",
       "      <td>22</td>\n",
       "    </tr>\n",
       "    <tr>\n",
       "      <td>4</td>\n",
       "      <td>0</td>\n",
       "      <td>2</td>\n",
       "      <td>parallel</td>\n",
       "      <td>6</td>\n",
       "    </tr>\n",
       "    <tr>\n",
       "      <td>...</td>\n",
       "      <td>...</td>\n",
       "      <td>...</td>\n",
       "      <td>...</td>\n",
       "      <td>...</td>\n",
       "    </tr>\n",
       "    <tr>\n",
       "      <td>31220</td>\n",
       "      <td>395</td>\n",
       "      <td>399</td>\n",
       "      <td>parallel</td>\n",
       "      <td>1</td>\n",
       "    </tr>\n",
       "    <tr>\n",
       "      <td>31221</td>\n",
       "      <td>396</td>\n",
       "      <td>396</td>\n",
       "      <td>anti</td>\n",
       "      <td>1</td>\n",
       "    </tr>\n",
       "    <tr>\n",
       "      <td>31222</td>\n",
       "      <td>396</td>\n",
       "      <td>397</td>\n",
       "      <td>anti</td>\n",
       "      <td>5</td>\n",
       "    </tr>\n",
       "    <tr>\n",
       "      <td>31223</td>\n",
       "      <td>396</td>\n",
       "      <td>398</td>\n",
       "      <td>anti</td>\n",
       "      <td>14</td>\n",
       "    </tr>\n",
       "    <tr>\n",
       "      <td>31224</td>\n",
       "      <td>397</td>\n",
       "      <td>399</td>\n",
       "      <td>anti</td>\n",
       "      <td>1</td>\n",
       "    </tr>\n",
       "  </tbody>\n",
       "</table>\n",
       "<p>31225 rows × 4 columns</p>\n",
       "</div>"
      ],
      "text/plain": [
       "       Res1  Res2 Direction  Protein\n",
       "0         0     0      anti      116\n",
       "1         0     0  parallel      645\n",
       "2         0     1      anti       13\n",
       "3         0     1  parallel       22\n",
       "4         0     2  parallel        6\n",
       "...     ...   ...       ...      ...\n",
       "31220   395   399  parallel        1\n",
       "31221   396   396      anti        1\n",
       "31222   396   397      anti        5\n",
       "31223   396   398      anti       14\n",
       "31224   397   399      anti        1\n",
       "\n",
       "[31225 rows x 4 columns]"
      ]
     },
     "execution_count": 12,
     "metadata": {},
     "output_type": "execute_result"
    }
   ],
   "source": [
    "b = a.groupby([\"Res1\", \"Res2\", \"Direction\"])[\"Protein\"].sum().reset_index()\n",
    "b"
   ]
  },
  {
   "cell_type": "code",
   "execution_count": 13,
   "metadata": {},
   "outputs": [
    {
     "data": {
      "text/plain": [
       "(8818, 4)"
      ]
     },
     "execution_count": 13,
     "metadata": {},
     "output_type": "execute_result"
    }
   ],
   "source": [
    "b.query(\"Protein > 10\").shape"
   ]
  },
  {
   "cell_type": "code",
   "execution_count": 14,
   "metadata": {},
   "outputs": [
    {
     "data": {
      "text/plain": [
       "(654, 4)"
      ]
     },
     "execution_count": 14,
     "metadata": {},
     "output_type": "execute_result"
    }
   ],
   "source": [
    "b.query(\"Protein > 100\").shape"
   ]
  },
  {
   "cell_type": "code",
   "execution_count": 15,
   "metadata": {},
   "outputs": [
    {
     "data": {
      "text/plain": [
       "(225, 4)"
      ]
     },
     "execution_count": 15,
     "metadata": {},
     "output_type": "execute_result"
    }
   ],
   "source": [
    "b.query(\"Protein > 200\").shape"
   ]
  },
  {
   "cell_type": "code",
   "execution_count": 46,
   "metadata": {
    "collapsed": true
   },
   "outputs": [],
   "source": [
    "chosen = b.sort_values(\"Protein\").tail(700).reset_index(drop=True)"
   ]
  },
  {
   "cell_type": "code",
   "execution_count": 47,
   "metadata": {
    "collapsed": true
   },
   "outputs": [],
   "source": [
    "chosen[\"interaction_index\"] = chosen[\"Direction\"] + \"_\" + chosen[\"Res1\"].astype(str) + \"_\" + chosen[\"Res2\"].astype(str)"
   ]
  },
  {
   "cell_type": "code",
   "execution_count": 49,
   "metadata": {
    "collapsed": true
   },
   "outputs": [],
   "source": [
    "chosen.to_csv(\"/Users/weilu/Research/data/interaction_index_jul12.csv\")"
   ]
  },
  {
   "cell_type": "code",
   "execution_count": 137,
   "metadata": {
    "collapsed": true
   },
   "outputs": [],
   "source": [
    "b_cutoff_unique = pd.read_csv(\"/Users/weilu/Research/data/interaction_index_jul12.csv\", index_col=0)\n",
    "\n",
    "interaction_index_dic = {}\n",
    "c = 0\n",
    "for index in b_cutoff_unique[\"interaction_index\"].to_list():\n",
    "    interaction_index_dic[index] = c\n",
    "    c += 1"
   ]
  },
  {
   "cell_type": "code",
   "execution_count": 141,
   "metadata": {
    "collapsed": true
   },
   "outputs": [],
   "source": []
  },
  {
   "cell_type": "code",
   "execution_count": 32,
   "metadata": {
    "scrolled": true
   },
   "outputs": [
    {
     "data": {
      "text/plain": [
       "Direction\n",
       "anti        436\n",
       "parallel    164\n",
       "Name: Protein, dtype: int64"
      ]
     },
     "execution_count": 32,
     "metadata": {},
     "output_type": "execute_result"
    }
   ],
   "source": [
    "chosen.groupby(\"Direction\")[\"Protein\"].count()"
   ]
  },
  {
   "cell_type": "code",
   "execution_count": 140,
   "metadata": {
    "scrolled": true
   },
   "outputs": [
    {
     "data": {
      "text/plain": [
       "164150"
      ]
     },
     "execution_count": 140,
     "metadata": {},
     "output_type": "execute_result"
    }
   ],
   "source": [
    "b.query(\"Protein > 200\")[\"Protein\"].sum()"
   ]
  },
  {
   "cell_type": "code",
   "execution_count": 167,
   "metadata": {},
   "outputs": [
    {
     "data": {
      "text/html": [
       "<div>\n",
       "<style scoped>\n",
       "    .dataframe tbody tr th:only-of-type {\n",
       "        vertical-align: middle;\n",
       "    }\n",
       "\n",
       "    .dataframe tbody tr th {\n",
       "        vertical-align: top;\n",
       "    }\n",
       "\n",
       "    .dataframe thead th {\n",
       "        text-align: right;\n",
       "    }\n",
       "</style>\n",
       "<table border=\"1\" class=\"dataframe\">\n",
       "  <thead>\n",
       "    <tr style=\"text-align: right;\">\n",
       "      <th></th>\n",
       "      <th>Res1</th>\n",
       "      <th>Res2</th>\n",
       "      <th>Direction</th>\n",
       "      <th>Protein</th>\n",
       "      <th>interaction_index</th>\n",
       "    </tr>\n",
       "  </thead>\n",
       "  <tbody>\n",
       "    <tr>\n",
       "      <td>0</td>\n",
       "      <td>107</td>\n",
       "      <td>109</td>\n",
       "      <td>parallel</td>\n",
       "      <td>97</td>\n",
       "      <td>parallel_107_109</td>\n",
       "    </tr>\n",
       "    <tr>\n",
       "      <td>1</td>\n",
       "      <td>322</td>\n",
       "      <td>395</td>\n",
       "      <td>parallel</td>\n",
       "      <td>97</td>\n",
       "      <td>parallel_322_395</td>\n",
       "    </tr>\n",
       "    <tr>\n",
       "      <td>2</td>\n",
       "      <td>85</td>\n",
       "      <td>150</td>\n",
       "      <td>anti</td>\n",
       "      <td>97</td>\n",
       "      <td>anti_85_150</td>\n",
       "    </tr>\n",
       "    <tr>\n",
       "      <td>3</td>\n",
       "      <td>70</td>\n",
       "      <td>331</td>\n",
       "      <td>anti</td>\n",
       "      <td>97</td>\n",
       "      <td>anti_70_331</td>\n",
       "    </tr>\n",
       "    <tr>\n",
       "      <td>4</td>\n",
       "      <td>9</td>\n",
       "      <td>189</td>\n",
       "      <td>parallel</td>\n",
       "      <td>97</td>\n",
       "      <td>parallel_9_189</td>\n",
       "    </tr>\n",
       "    <tr>\n",
       "      <td>...</td>\n",
       "      <td>...</td>\n",
       "      <td>...</td>\n",
       "      <td>...</td>\n",
       "      <td>...</td>\n",
       "      <td>...</td>\n",
       "    </tr>\n",
       "    <tr>\n",
       "      <td>695</td>\n",
       "      <td>325</td>\n",
       "      <td>325</td>\n",
       "      <td>parallel</td>\n",
       "      <td>701</td>\n",
       "      <td>parallel_325_325</td>\n",
       "    </tr>\n",
       "    <tr>\n",
       "      <td>696</td>\n",
       "      <td>0</td>\n",
       "      <td>105</td>\n",
       "      <td>parallel</td>\n",
       "      <td>740</td>\n",
       "      <td>parallel_0_105</td>\n",
       "    </tr>\n",
       "    <tr>\n",
       "      <td>697</td>\n",
       "      <td>292</td>\n",
       "      <td>378</td>\n",
       "      <td>anti</td>\n",
       "      <td>771</td>\n",
       "      <td>anti_292_378</td>\n",
       "    </tr>\n",
       "    <tr>\n",
       "      <td>698</td>\n",
       "      <td>105</td>\n",
       "      <td>105</td>\n",
       "      <td>parallel</td>\n",
       "      <td>895</td>\n",
       "      <td>parallel_105_105</td>\n",
       "    </tr>\n",
       "    <tr>\n",
       "      <td>699</td>\n",
       "      <td>80</td>\n",
       "      <td>84</td>\n",
       "      <td>anti</td>\n",
       "      <td>947</td>\n",
       "      <td>anti_80_84</td>\n",
       "    </tr>\n",
       "  </tbody>\n",
       "</table>\n",
       "<p>700 rows × 5 columns</p>\n",
       "</div>"
      ],
      "text/plain": [
       "     Res1  Res2 Direction  Protein interaction_index\n",
       "0     107   109  parallel       97  parallel_107_109\n",
       "1     322   395  parallel       97  parallel_322_395\n",
       "2      85   150      anti       97       anti_85_150\n",
       "3      70   331      anti       97       anti_70_331\n",
       "4       9   189  parallel       97    parallel_9_189\n",
       "..    ...   ...       ...      ...               ...\n",
       "695   325   325  parallel      701  parallel_325_325\n",
       "696     0   105  parallel      740    parallel_0_105\n",
       "697   292   378      anti      771      anti_292_378\n",
       "698   105   105  parallel      895  parallel_105_105\n",
       "699    80    84      anti      947        anti_80_84\n",
       "\n",
       "[700 rows x 5 columns]"
      ]
     },
     "execution_count": 167,
     "metadata": {},
     "output_type": "execute_result"
    }
   ],
   "source": [
    "b_cutoff_unique"
   ]
  },
  {
   "cell_type": "code",
   "execution_count": 258,
   "metadata": {
    "collapsed": true
   },
   "outputs": [],
   "source": [
    "def encode_four_body_index(res1_1, res1_2, res2_1, res2_2, direction):\n",
    "    # if anti-parallel, the order by reading from res2_2 to res2_1\n",
    "    if direction == \"anti\":\n",
    "        res2 = three_to_index(res2_2)*20 + three_to_index(res2_1)\n",
    "        Res2_letter = res2_2 + \"_\" + res2_1\n",
    "    elif direction == \"parallel\":\n",
    "        res2 = three_to_index(res2_1)*20 + three_to_index(res2_2)\n",
    "        Res2_letter = res2_1 + \"_\" + res2_2\n",
    "    res1 = three_to_index(res1_1)*20 + three_to_index(res1_2)\n",
    "    Res1_letter = res1_1 + \"_\" + res1_2\n",
    "    # if res2 index is smaller than res1, We will swtich the index. to ensure res1 is less than res2.\n",
    "    if res2 < res1:\n",
    "        return res2, res1, Res1_letter, Res2_letter\n",
    "    else:\n",
    "        return res1, res2, Res1_letter, Res2_letter\n",
    "\n",
    "b_cutoff_unique = pd.read_csv(\"/Users/weilu/Research/data/interaction_index_jul12.csv\", index_col=0)\n",
    "\n",
    "interaction_index_dic = {}\n",
    "c = 0\n",
    "for index in b_cutoff_unique[\"interaction_index\"].to_list():\n",
    "    interaction_index_dic[index] = c\n",
    "    c += 1\n",
    "\n",
    "def get_interaction_index_from_four_residues_v3(res1_1, res1_2, res2_1, res2_2, direction, interaction_index_dic=interaction_index_dic):\n",
    "    res1, res2, Res1_letter, Res2_letter = encode_four_body_index(res1_1, res1_2, res2_1, res2_2, direction)\n",
    "    try:\n",
    "        index = interaction_index_dic[f\"{direction}_{res1}_{res2}\"]\n",
    "    except:\n",
    "        index = max(interaction_index_dic.values()) + 1\n",
    "    return index\n",
    "\n",
    "\n",
    "def encode_resName(data):\n",
    "    # if anti-parallel, the order by reading from res2_2 to res2_1\n",
    "    res1_1 = data[\"Res1_1\"]\n",
    "    res1_2 = data[\"Res1_2\"]\n",
    "    res2_1 = data[\"Res2_1\"]\n",
    "    res2_2 = data[\"Res2_2\"]\n",
    "    direction = data[\"Direction\"]\n",
    "    res1, res2, Res1_letter, Res2_letter = encode_four_body_index(res1_1, res1_2, res2_1, res2_2, direction)\n",
    "    data[\"Res1\"] = res1\n",
    "    data[\"Res1_letter\"] = Res1_letter\n",
    "    data[\"Res2\"] = res2\n",
    "    data[\"Res2_letter\"] = Res2_letter\n",
    "    return data"
   ]
  },
  {
   "cell_type": "code",
   "execution_count": 259,
   "metadata": {},
   "outputs": [
    {
     "data": {
      "text/plain": [
       "700"
      ]
     },
     "execution_count": 259,
     "metadata": {},
     "output_type": "execute_result"
    }
   ],
   "source": [
    "get_interaction_index_from_four_residues_v3(\"GLY\", \"GLY\", \"GLY\", \"GLY\", \"anti\")"
   ]
  },
  {
   "cell_type": "code",
   "execution_count": 161,
   "metadata": {},
   "outputs": [
    {
     "data": {
      "text/plain": [
       "698"
      ]
     },
     "execution_count": 161,
     "metadata": {},
     "output_type": "execute_result"
    }
   ],
   "source": [
    "get_interaction_index_from_four_residues_v3(\"GLY\", \"GLY\", \"GLY\", \"GLY\", \"parallel\")"
   ]
  },
  {
   "cell_type": "code",
   "execution_count": 290,
   "metadata": {
    "collapsed": true
   },
   "outputs": [],
   "source": [
    "def compute_gxxxg_energy(structure, gamma, sequence=None, get_interaction_index=get_interaction_index_from_four_residues_v3):\n",
    "    res_list = get_res_list(structure)\n",
    "    neighbor_list = get_neighbor_list(structure)\n",
    "    if sequence is None:\n",
    "        sequence = get_sequence_from_structure(structure)\n",
    "\n",
    "    min_seq_sep = 10\n",
    "    r_min = 2.0\n",
    "    r_max = 6.5\n",
    "    kappa = 5\n",
    "    n_parameters = 1 + max(interaction_index_dic.values()) + 1\n",
    "    info_list = []\n",
    "    get_distance_between_two_residues = get_interaction_distance_com\n",
    "    phi_gxxxg_well = np.zeros(n_parameters)\n",
    "\n",
    "    e_gxxxg = 0.0\n",
    "    e_gxxxg_parallel = 0.0\n",
    "    e_gxxxg_anti_parallel = 0.0\n",
    "\n",
    "    for res1globalindex, res1 in enumerate(res_list):\n",
    "        res1index = get_local_index(res1)\n",
    "        res1chain = get_chain(res1)\n",
    "        for res2 in get_neighbors_within_radius(neighbor_list, res1, r_max+2.0):\n",
    "            res2index = get_local_index(res2)\n",
    "            res2chain = get_chain(res2)\n",
    "            res2globalindex = get_global_index(res_list, res2)\n",
    "\n",
    "            for shift_to_res2_2, direction in zip([-4, 4], [\"anti\", \"parallel\"]):\n",
    "                res1_2_globalindex = res1globalindex + 4\n",
    "                res1_2 = get_res_by_globalindex(res_list, res1_2_globalindex, res1chain)\n",
    "                # for shift_to_res2_2 in [-4, 4]:\n",
    "\n",
    "                # consider parallel, and anti-parallel.\n",
    "                res2_2_globalindex = res2globalindex + shift_to_res2_2\n",
    "                res2_2 = get_res_by_globalindex(res_list, res2_2_globalindex, res2chain)\n",
    "                if res1_2 == -1 or res2_2 == -1:\n",
    "                    continue\n",
    "                if direction == \"parallel\":\n",
    "                    sep = res1globalindex - res2globalindex\n",
    "                elif direction == \"anti\":\n",
    "                    sep = res1globalindex - res2_2_globalindex\n",
    "                if sep >= min_seq_sep or (res1chain != res2chain and res2globalindex > res1globalindex):\n",
    "                    rij = get_distance_between_two_residues(res1, res2)\n",
    "\n",
    "                    rij_2 = get_distance_between_two_residues(res1_2, res2_2)\n",
    "    #                 if rij_2 > (r_max+2):\n",
    "    #                     continue\n",
    "                    resName_1_1 = one_to_three(sequence[res1globalindex])\n",
    "                    resName_1_2 = one_to_three(sequence[res1_2_globalindex])\n",
    "                    resName_2_1 = one_to_three(sequence[res2globalindex])\n",
    "                    resName_2_2 = one_to_three(sequence[res2_2_globalindex])\n",
    "                    # interaction_index = get_interaction_index_from_four_residues(res1.resname, res1_2.resname, res2.resname, res2_2.resname)\n",
    "                    # interaction_index = get_interaction_index_from_four_residues_v2(resName_1_1, resName_1_2, resName_2_1, resName_2_2)\n",
    "                    interaction_index = get_interaction_index(resName_1_1, resName_1_2, resName_2_1, resName_2_2, direction)\n",
    "                    phi_ = interaction_well(rij, r_min, r_max, kappa) * interaction_well(rij_2, r_min, r_max, kappa)\n",
    "                    # phi_gxxxg_well[interaction_index] += phi_\n",
    "                    if shift_to_res2_2 == -4:\n",
    "                        e_gxxxg_anti_parallel += gamma[interaction_index] * phi_\n",
    "                    else:\n",
    "                        e_gxxxg_parallel += gamma[interaction_index] * phi_\n",
    "                    # print(res1globalindex, res2globalindex, resName_1_1, resName_2_1, gamma[interaction_index], phi_)\n",
    "    e_gxxxg = e_gxxxg_parallel + e_gxxxg_anti_parallel\n",
    "    return e_gxxxg"
   ]
  },
  {
   "cell_type": "code",
   "execution_count": 176,
   "metadata": {},
   "outputs": [
    {
     "data": {
      "text/plain": [
       "-57.94914162302378"
      ]
     },
     "execution_count": 176,
     "metadata": {},
     "output_type": "execute_result"
    }
   ],
   "source": [
    "# fileLocation = \"/Users/weilu/Research/server/jul_week1_2020/decoyN2000_gxxxg_shuffle_optimization/optimization_decoyN2000/gammas/filtered_protein_list_phi_gxxxg_v2_well126_gamma\"\n",
    "# gamma = np.loadtxt(fileLocation)\n",
    "fileLocation = \"/Users/weilu/Research/server/jul_week1_2020/membrane_protein_structure_prediction/gxxxg_701.dat\"\n",
    "gamma = np.loadtxt(fileLocation)\n",
    "pre = \"/Users/weilu/Research/server/jul_week1_2020/membrane_protein_structure_prediction/run1/1j4n\"\n",
    "sequence = read_fasta(f\"{pre}/crystal_structure.fasta\")\n",
    "gamma = gamma *0 + 1\n",
    "pdb = \"/Users/weilu/Research/server/jul_week1_2020/membrane_protein_structure_prediction/cleaned_pdbs/1j4n\"\n",
    "structure = parse_pdb(pdb)\n",
    "compute_gxxxg_energy(structure, -gamma, sequence=sequence)\n"
   ]
  },
  {
   "cell_type": "code",
   "execution_count": 294,
   "metadata": {},
   "outputs": [
    {
     "data": {
      "text/plain": [
       "-56.54042844206832"
      ]
     },
     "execution_count": 294,
     "metadata": {},
     "output_type": "execute_result"
    }
   ],
   "source": [
    "# fileLocation = \"/Users/weilu/Research/server/jul_week1_2020/decoyN2000_gxxxg_shuffle_optimization/optimization_decoyN2000/gammas/filtered_protein_list_phi_gxxxg_v2_well126_gamma\"\n",
    "# gamma = np.loadtxt(fileLocation)\n",
    "fileLocation = \"/Users/weilu/Research/server/jul_week1_2020/membrane_protein_structure_prediction/gxxxg_701.dat\"\n",
    "gamma = np.loadtxt(fileLocation)\n",
    "pre = \"/Users/weilu/Research/server/jul_week1_2020/membrane_protein_structure_prediction/run1/1j4n\"\n",
    "sequence = read_fasta(f\"{pre}/crystal_structure.fasta\")\n",
    "# gamma = gamma *0 + 1\n",
    "# gamma = np.cumsum(gamma)\n",
    "pdb = \"/Users/weilu/Research/server/jul_week1_2020/membrane_protein_structure_prediction/cleaned_pdbs/1j4n\"\n",
    "structure = parse_pdb(pdb)\n",
    "compute_gxxxg_energy(structure, -gamma, sequence=sequence)\n",
    "\n"
   ]
  },
  {
   "cell_type": "code",
   "execution_count": 291,
   "metadata": {},
   "outputs": [
    {
     "data": {
      "text/plain": [
       "-24089.400951052234"
      ]
     },
     "execution_count": 291,
     "metadata": {},
     "output_type": "execute_result"
    }
   ],
   "source": [
    "# fileLocation = \"/Users/weilu/Research/server/jul_week1_2020/decoyN2000_gxxxg_shuffle_optimization/optimization_decoyN2000/gammas/filtered_protein_list_phi_gxxxg_v2_well126_gamma\"\n",
    "# gamma = np.loadtxt(fileLocation)\n",
    "fileLocation = \"/Users/weilu/Research/server/jul_week1_2020/membrane_protein_structure_prediction/gxxxg_701.dat\"\n",
    "gamma = np.loadtxt(fileLocation)\n",
    "pre = \"/Users/weilu/Research/server/jul_week1_2020/membrane_protein_structure_prediction/run1/1j4n\"\n",
    "sequence = read_fasta(f\"{pre}/crystal_structure.fasta\")\n",
    "gamma = gamma *0 + 1\n",
    "gamma = np.cumsum(gamma)\n",
    "pdb = \"/Users/weilu/Research/server/jul_week1_2020/membrane_protein_structure_prediction/cleaned_pdbs/1j4n\"\n",
    "structure = parse_pdb(pdb)\n",
    "compute_gxxxg_energy(structure, -gamma, sequence=sequence)\n",
    "\n",
    "\n"
   ]
  },
  {
   "cell_type": "code",
   "execution_count": null,
   "metadata": {
    "collapsed": true
   },
   "outputs": [],
   "source": []
  },
  {
   "cell_type": "code",
   "execution_count": 178,
   "metadata": {
    "collapsed": true
   },
   "outputs": [],
   "source": [
    "a = np.loadtxt(\"/Users/weilu/Research/server/jul_week1_2020/head700_gxxxg_shuffle_optimization/phis/phi_gxxxg_v3_well_1j95_native_701\")"
   ]
  },
  {
   "cell_type": "code",
   "execution_count": 283,
   "metadata": {},
   "outputs": [
    {
     "data": {
      "text/plain": [
       "697.4344974984124"
      ]
     },
     "execution_count": 283,
     "metadata": {},
     "output_type": "execute_result"
    }
   ],
   "source": [
    "24791.254497498412 -24093.82"
   ]
  },
  {
   "cell_type": "code",
   "execution_count": 292,
   "metadata": {},
   "outputs": [
    {
     "data": {
      "text/plain": [
       "0.9998165899409985"
      ]
     },
     "execution_count": 292,
     "metadata": {},
     "output_type": "execute_result"
    }
   ],
   "source": [
    "-24089.40095105223/ -24093.82 "
   ]
  },
  {
   "cell_type": "code",
   "execution_count": 181,
   "metadata": {
    "scrolled": true
   },
   "outputs": [
    {
     "data": {
      "text/plain": [
       "264.2822093"
      ]
     },
     "execution_count": 181,
     "metadata": {},
     "output_type": "execute_result"
    }
   ],
   "source": [
    "a.dot(gamma)"
   ]
  },
  {
   "cell_type": "code",
   "execution_count": 192,
   "metadata": {
    "collapsed": true
   },
   "outputs": [],
   "source": [
    "np.savetxt(\"/Users/weilu/Research/server/jul_week1_2020/membrane_protein_structure_prediction/gxxxg_test2.dat\", gamma, fmt=\"%.3f\")"
   ]
  },
  {
   "cell_type": "code",
   "execution_count": 183,
   "metadata": {},
   "outputs": [
    {
     "data": {
      "text/plain": [
       "-264.28271450360006"
      ]
     },
     "execution_count": 183,
     "metadata": {},
     "output_type": "execute_result"
    }
   ],
   "source": [
    "pdb = \"/Users/weilu/Research/server/jul_week1_2020/head700_gxxxg_shuffle_optimization/database/dompdb/1j95\"\n",
    "structure = parse_pdb(pdb)\n",
    "compute_gxxxg_energy(structure, -gamma)"
   ]
  },
  {
   "cell_type": "code",
   "execution_count": null,
   "metadata": {
    "collapsed": true
   },
   "outputs": [],
   "source": []
  },
  {
   "cell_type": "code",
   "execution_count": 166,
   "metadata": {},
   "outputs": [
    {
     "data": {
      "text/plain": [
       "-100.71492235981779"
      ]
     },
     "execution_count": 166,
     "metadata": {},
     "output_type": "execute_result"
    }
   ],
   "source": [
    "pdb = \"/Users/weilu/Research/server/jul_week1_2020/membrane_protein_structure_prediction/cleaned_pdbs/1iwg\"\n",
    "structure = parse_pdb(pdb)\n",
    "compute_gxxxg_energy(structure, gamma_new, sequence=sequence)"
   ]
  },
  {
   "cell_type": "code",
   "execution_count": 163,
   "metadata": {
    "collapsed": true
   },
   "outputs": [],
   "source": [
    "fileLocation = \"/Users/weilu/Research/server/jul_week1_2020/decoyN2000_gxxxg_shuffle_optimization/optimization_decoyN2000/gammas/filtered_protein_list_phi_gxxxg_v2_well126_gamma\"\n",
    "gamma = np.loadtxt(fileLocation)\n",
    "pre = \"/Users/weilu/Research/server/jul_week1_2020/membrane_protein_structure_prediction/run1/1iwg\"\n",
    "sequence = read_fasta(f\"{pre}/crystal_structure.fasta\")\n",
    "\n"
   ]
  },
  {
   "cell_type": "code",
   "execution_count": 37,
   "metadata": {},
   "outputs": [
    {
     "data": {
      "text/plain": [
       "-94.01979041618014"
      ]
     },
     "execution_count": 37,
     "metadata": {},
     "output_type": "execute_result"
    }
   ],
   "source": [
    "pdb = \"/Users/weilu/Research/server/jul_week1_2020/membrane_protein_structure_prediction/cleaned_pdbs/1iwg\"\n",
    "structure = parse_pdb(pdb)\n",
    "compute_gxxxg_energy(structure, gamma, sequence=sequence)"
   ]
  },
  {
   "cell_type": "code",
   "execution_count": 196,
   "metadata": {},
   "outputs": [
    {
     "data": {
      "text/plain": [
       "116"
      ]
     },
     "execution_count": 196,
     "metadata": {},
     "output_type": "execute_result"
    }
   ],
   "source": [
    "len(sequence)"
   ]
  },
  {
   "cell_type": "code",
   "execution_count": null,
   "metadata": {
    "collapsed": true
   },
   "outputs": [],
   "source": []
  },
  {
   "cell_type": "code",
   "execution_count": 223,
   "metadata": {
    "collapsed": true
   },
   "outputs": [],
   "source": [
    "np.savetxt(\"/Users/weilu/Research/server/jul_week1_2020/membrane_protein_structure_prediction/gxxxg_test2.dat\", gamma, fmt=\"%.3f\")a"
   ]
  },
  {
   "cell_type": "code",
   "execution_count": 287,
   "metadata": {
    "collapsed": true
   },
   "outputs": [],
   "source": [
    "nres = len(sequence)\n",
    "gamma_1 = np.zeros((nres, nres, 2))\n",
    "\n",
    "get_interaction_index = get_interaction_index_from_four_residues_v3\n",
    "res_list = get_res_list(structure)\n",
    "neighbor_list = get_neighbor_list(structure)\n",
    "if sequence is None:\n",
    "    sequence = get_sequence_from_structure(structure)\n",
    "\n",
    "min_seq_sep = 10\n",
    "r_min = 2.0\n",
    "r_max = 6.5\n",
    "kappa = 5\n",
    "n_parameters = 1 + max(interaction_index_dic.values()) + 1\n",
    "info_list = []\n",
    "get_distance_between_two_residues = get_interaction_distance_com\n",
    "phi_gxxxg_well = np.zeros(n_parameters)\n",
    "\n",
    "e_gxxxg = 0.0\n",
    "e_gxxxg_parallel = 0.0\n",
    "e_gxxxg_anti_parallel = 0.0\n",
    "\n",
    "for res1globalindex, res1 in enumerate(res_list):\n",
    "    res1index = get_local_index(res1)\n",
    "    res1chain = get_chain(res1)\n",
    "    for res2globalindex, res2 in enumerate(res_list):\n",
    "        res2index = get_local_index(res2)\n",
    "        res2chain = get_chain(res2)\n",
    "        for shift_to_res2_2, direction in zip([-4, 4], [\"anti\", \"parallel\"]):\n",
    "            res1_2_globalindex = res1globalindex + 4\n",
    "            res1_2 = get_res_by_globalindex(res_list, res1_2_globalindex, res1chain)\n",
    "            # for shift_to_res2_2 in [-4, 4]:\n",
    "\n",
    "            # consider parallel, and anti-parallel.\n",
    "            res2_2_globalindex = res2globalindex + shift_to_res2_2\n",
    "            res2_2 = get_res_by_globalindex(res_list, res2_2_globalindex, res2chain)\n",
    "            if res1_2 == -1 or res2_2 == -1:\n",
    "                continue\n",
    "            if direction == \"parallel\":\n",
    "                sep = res1globalindex - res2globalindex\n",
    "            elif direction == \"anti\":\n",
    "                sep = res1globalindex - res2_2_globalindex\n",
    "            if sep >= min_seq_sep or (res1chain != res2chain and res2globalindex > res1globalindex):\n",
    "                rij = get_distance_between_two_residues(res1, res2)\n",
    "\n",
    "                rij_2 = get_distance_between_two_residues(res1_2, res2_2)\n",
    "#                 if rij_2 > (r_max+2):\n",
    "#                     continue\n",
    "                resName_1_1 = one_to_three(sequence[res1globalindex])\n",
    "                resName_1_2 = one_to_three(sequence[res1_2_globalindex])\n",
    "                resName_2_1 = one_to_three(sequence[res2globalindex])\n",
    "                resName_2_2 = one_to_three(sequence[res2_2_globalindex])\n",
    "                # interaction_index = get_interaction_index_from_four_residues(res1.resname, res1_2.resname, res2.resname, res2_2.resname)\n",
    "                # interaction_index = get_interaction_index_from_four_residues_v2(resName_1_1, resName_1_2, resName_2_1, resName_2_2)\n",
    "                interaction_index = get_interaction_index(resName_1_1, resName_1_2, resName_2_1, resName_2_2, direction)\n",
    "                if direction == \"parallel\":\n",
    "                    jj = res2globalindex\n",
    "                    gamma_1[res1globalindex][jj][0] = gamma[interaction_index]\n",
    "                elif direction == \"anti\":\n",
    "                    jj = res2_2_globalindex\n",
    "                    gamma_1[res1globalindex][jj][1] = gamma[interaction_index]\n",
    "                phi_ = interaction_well(rij, r_min, r_max, kappa) * interaction_well(rij_2, r_min, r_max, kappa)\n",
    "                # phi_gxxxg_well[interaction_index] += phi_\n",
    "                if shift_to_res2_2 == -4:\n",
    "                    e_gxxxg_anti_parallel += gamma[interaction_index] * phi_\n",
    "                else:\n",
    "                    e_gxxxg_parallel += gamma[interaction_index] * phi_\n",
    "                # print(res1globalindex, res2globalindex, resName_1_1, resName_2_1, gamma[interaction_index], phi_)\n",
    "e_gxxxg = e_gxxxg_parallel + e_gxxxg_anti_parallel"
   ]
  },
  {
   "cell_type": "code",
   "execution_count": 289,
   "metadata": {},
   "outputs": [
    {
     "data": {
      "text/plain": [
       "24090.24509091378"
      ]
     },
     "execution_count": 289,
     "metadata": {},
     "output_type": "execute_result"
    }
   ],
   "source": [
    "e_gxxxg"
   ]
  },
  {
   "cell_type": "code",
   "execution_count": 234,
   "metadata": {},
   "outputs": [
    {
     "data": {
      "text/plain": [
       "115"
      ]
     },
     "execution_count": 234,
     "metadata": {},
     "output_type": "execute_result"
    }
   ],
   "source": [
    "res1globalindex"
   ]
  },
  {
   "cell_type": "code",
   "execution_count": 235,
   "metadata": {},
   "outputs": [
    {
     "data": {
      "text/plain": [
       "119"
      ]
     },
     "execution_count": 235,
     "metadata": {},
     "output_type": "execute_result"
    }
   ],
   "source": [
    "res2_2_globalindex"
   ]
  },
  {
   "cell_type": "code",
   "execution_count": 277,
   "metadata": {
    "collapsed": true
   },
   "outputs": [],
   "source": [
    "x = np.loadtxt(\"/Users/weilu/Research/server/jul_week1_2020/membrane_protein_structure_prediction/setups/1j4n/g_array.dat\")"
   ]
  },
  {
   "cell_type": "code",
   "execution_count": 278,
   "metadata": {},
   "outputs": [
    {
     "data": {
      "text/plain": [
       "<matplotlib.colorbar.Colorbar at 0x130a5aa58>"
      ]
     },
     "execution_count": 278,
     "metadata": {},
     "output_type": "execute_result"
    },
    {
     "data": {
      "image/png": "[encoded data removed]",
      "text/plain": [
       "<Figure size 360x222.48 with 2 Axes>"
      ]
     },
     "metadata": {},
     "output_type": "display_data"
    }
   ],
   "source": [
    "plt.imshow(x)\n",
    "plt.colorbar()"
   ]
  },
  {
   "cell_type": "code",
   "execution_count": 272,
   "metadata": {},
   "outputs": [
    {
     "data": {
      "text/plain": [
       "'MET'"
      ]
     },
     "execution_count": 272,
     "metadata": {},
     "output_type": "execute_result"
    }
   ],
   "source": [
    "index_to_three(10)"
   ]
  },
  {
   "cell_type": "code",
   "execution_count": 274,
   "metadata": {
    "collapsed": true
   },
   "outputs": [],
   "source": [
    "from Bio.PDB.Polypeptide import d3_to_index"
   ]
  },
  {
   "cell_type": "code",
   "execution_count": 254,
   "metadata": {},
   "outputs": [
    {
     "data": {
      "text/plain": [
       "394.0"
      ]
     },
     "execution_count": 254,
     "metadata": {},
     "output_type": "execute_result"
    }
   ],
   "source": [
    "(gamma_1[:,:,1] -x)[19,93]"
   ]
  },
  {
   "cell_type": "code",
   "execution_count": 225,
   "metadata": {
    "scrolled": true
   },
   "outputs": [
    {
     "data": {
      "text/plain": [
       "<matplotlib.image.AxesImage at 0x130112eb8>"
      ]
     },
     "execution_count": 225,
     "metadata": {},
     "output_type": "execute_result"
    },
    {
     "data": {
      "image/png": "[encoded data removed]",
      "text/plain": [
       "<Figure size 360x222.48 with 1 Axes>"
      ]
     },
     "metadata": {},
     "output_type": "display_data"
    }
   ],
   "source": [
    "plt.imshow(gamma_1[:,:,1])"
   ]
  },
  {
   "cell_type": "code",
   "execution_count": 281,
   "metadata": {},
   "outputs": [
    {
     "data": {
      "text/plain": [
       "0.0"
      ]
     },
     "execution_count": 281,
     "metadata": {},
     "output_type": "execute_result"
    }
   ],
   "source": [
    "(gamma_1[:,:,1] -x).min()"
   ]
  },
  {
   "cell_type": "code",
   "execution_count": 279,
   "metadata": {},
   "outputs": [
    {
     "data": {
      "text/plain": [
       "<matplotlib.colorbar.Colorbar at 0x130e85390>"
      ]
     },
     "execution_count": 279,
     "metadata": {},
     "output_type": "execute_result"
    },
    {
     "data": {
      "image/png": "[encoded data removed]",
      "text/plain": [
       "<Figure size 360x222.48 with 2 Axes>"
      ]
     },
     "metadata": {},
     "output_type": "display_data"
    }
   ],
   "source": [
    "plt.imshow(gamma_1[:,:,1] -x)\n",
    "plt.colorbar()"
   ]
  },
  {
   "cell_type": "code",
   "execution_count": 226,
   "metadata": {},
   "outputs": [
    {
     "name": "stdout",
     "output_type": "stream",
     "text": [
      "0.0\n"
     ]
    }
   ],
   "source": [
    "print(abs(gamma_1[:,:,1] - gamma_1[:,:,1].T).sum())"
   ]
  },
  {
   "cell_type": "code",
   "execution_count": 227,
   "metadata": {},
   "outputs": [
    {
     "data": {
      "text/plain": [
       "array([[0., 0., 0., ..., 0., 0., 0.],\n",
       "       [0., 0., 0., ..., 0., 0., 0.],\n",
       "       [0., 0., 0., ..., 0., 0., 0.],\n",
       "       ...,\n",
       "       [0., 0., 0., ..., 0., 0., 0.],\n",
       "       [0., 0., 0., ..., 0., 0., 0.],\n",
       "       [0., 0., 0., ..., 0., 0., 0.]])"
      ]
     },
     "execution_count": 227,
     "metadata": {},
     "output_type": "execute_result"
    }
   ],
   "source": [
    "gamma_1[:,:,1]"
   ]
  },
  {
   "cell_type": "code",
   "execution_count": 113,
   "metadata": {
    "collapsed": true
   },
   "outputs": [],
   "source": [
    "table = np.zeros((400,400))\n",
    "for i, line in b.query(\"Direction=='anti'\").iterrows():\n",
    "    x = line[\"Res1\"]\n",
    "    y = line[\"Res2\"]\n",
    "    table[x][y] += line[\"Protein\"]\n",
    "    table[y][x] += line[\"Protein\"]"
   ]
  },
  {
   "cell_type": "code",
   "execution_count": 109,
   "metadata": {
    "collapsed": true
   },
   "outputs": [],
   "source": [
    "plt.rcParams['figure.figsize'] = 4*np.array([10,6.180])    #golden ratio"
   ]
  },
  {
   "cell_type": "code",
   "execution_count": 134,
   "metadata": {
    "collapsed": true
   },
   "outputs": [],
   "source": [
    "c = table[np.argsort(np.sum(table, axis=1))][:,np.argsort(np.sum(table, axis=1))]"
   ]
  },
  {
   "cell_type": "code",
   "execution_count": 137,
   "metadata": {},
   "outputs": [
    {
     "data": {
      "text/plain": [
       "<matplotlib.colorbar.Colorbar at 0x12be0ef98>"
      ]
     },
     "execution_count": 137,
     "metadata": {},
     "output_type": "execute_result"
    },
    {
     "data": {
      "image/png": "[encoded data removed]",
      "text/plain": [
       "<Figure size 2880x1779.84 with 2 Axes>"
      ]
     },
     "metadata": {},
     "output_type": "display_data"
    }
   ],
   "source": [
    "plt.imshow(c>200, cmap=\"Greys\", vmin=0)\n",
    "plt.colorbar()\n",
    "\n"
   ]
  },
  {
   "cell_type": "code",
   "execution_count": 110,
   "metadata": {},
   "outputs": [
    {
     "data": {
      "text/plain": [
       "<matplotlib.colorbar.Colorbar at 0x12cffbd30>"
      ]
     },
     "execution_count": 110,
     "metadata": {},
     "output_type": "execute_result"
    },
    {
     "data": {
      "image/png": "[encoded data removed]",
      "text/plain": [
       "<Figure size 2880x1779.84 with 2 Axes>"
      ]
     },
     "metadata": {},
     "output_type": "display_data"
    }
   ],
   "source": [
    "plt.imshow(table, cmap=\"Greys\", vmin=0)\n",
    "plt.colorbar()"
   ]
  },
  {
   "cell_type": "code",
   "execution_count": 90,
   "metadata": {},
   "outputs": [
    {
     "data": {
      "text/html": [
       "<div>\n",
       "<style scoped>\n",
       "    .dataframe tbody tr th:only-of-type {\n",
       "        vertical-align: middle;\n",
       "    }\n",
       "\n",
       "    .dataframe tbody tr th {\n",
       "        vertical-align: top;\n",
       "    }\n",
       "\n",
       "    .dataframe thead th {\n",
       "        text-align: right;\n",
       "    }\n",
       "</style>\n",
       "<table border=\"1\" class=\"dataframe\">\n",
       "  <thead>\n",
       "    <tr style=\"text-align: right;\">\n",
       "      <th></th>\n",
       "      <th>Res1_1</th>\n",
       "      <th>Res1_2</th>\n",
       "      <th>Res2_1</th>\n",
       "      <th>Res2_2</th>\n",
       "      <th>Direction</th>\n",
       "      <th>Protein</th>\n",
       "      <th>Res1</th>\n",
       "      <th>Res2</th>\n",
       "      <th>Res1_letter</th>\n",
       "      <th>Res2_letter</th>\n",
       "    </tr>\n",
       "  </thead>\n",
       "  <tbody>\n",
       "    <tr>\n",
       "      <td>42768</td>\n",
       "      <td>TYR</td>\n",
       "      <td>LEU</td>\n",
       "      <td>GLN</td>\n",
       "      <td>PHE</td>\n",
       "      <td>parallel</td>\n",
       "      <td>1</td>\n",
       "      <td>389</td>\n",
       "      <td>264</td>\n",
       "      <td>TYR_LEU</td>\n",
       "      <td>GLN_PHE</td>\n",
       "    </tr>\n",
       "    <tr>\n",
       "      <td>25785</td>\n",
       "      <td>MET</td>\n",
       "      <td>ARG</td>\n",
       "      <td>SER</td>\n",
       "      <td>TRP</td>\n",
       "      <td>parallel</td>\n",
       "      <td>1</td>\n",
       "      <td>214</td>\n",
       "      <td>318</td>\n",
       "      <td>MET_ARG</td>\n",
       "      <td>SER_TRP</td>\n",
       "    </tr>\n",
       "    <tr>\n",
       "      <td>25784</td>\n",
       "      <td>MET</td>\n",
       "      <td>ARG</td>\n",
       "      <td>SER</td>\n",
       "      <td>ASP</td>\n",
       "      <td>parallel</td>\n",
       "      <td>1</td>\n",
       "      <td>214</td>\n",
       "      <td>302</td>\n",
       "      <td>MET_ARG</td>\n",
       "      <td>SER_ASP</td>\n",
       "    </tr>\n",
       "    <tr>\n",
       "      <td>8684</td>\n",
       "      <td>CYS</td>\n",
       "      <td>SER</td>\n",
       "      <td>ARG</td>\n",
       "      <td>ILE</td>\n",
       "      <td>anti</td>\n",
       "      <td>1</td>\n",
       "      <td>35</td>\n",
       "      <td>287</td>\n",
       "      <td>CYS_SER</td>\n",
       "      <td>ARG_ILE</td>\n",
       "    </tr>\n",
       "    <tr>\n",
       "      <td>25780</td>\n",
       "      <td>MET</td>\n",
       "      <td>ARG</td>\n",
       "      <td>PHE</td>\n",
       "      <td>ARG</td>\n",
       "      <td>parallel</td>\n",
       "      <td>1</td>\n",
       "      <td>214</td>\n",
       "      <td>94</td>\n",
       "      <td>MET_ARG</td>\n",
       "      <td>PHE_ARG</td>\n",
       "    </tr>\n",
       "    <tr>\n",
       "      <td>...</td>\n",
       "      <td>...</td>\n",
       "      <td>...</td>\n",
       "      <td>...</td>\n",
       "      <td>...</td>\n",
       "      <td>...</td>\n",
       "      <td>...</td>\n",
       "      <td>...</td>\n",
       "      <td>...</td>\n",
       "      <td>...</td>\n",
       "      <td>...</td>\n",
       "    </tr>\n",
       "    <tr>\n",
       "      <td>12325</td>\n",
       "      <td>GLY</td>\n",
       "      <td>GLY</td>\n",
       "      <td>ALA</td>\n",
       "      <td>ALA</td>\n",
       "      <td>parallel</td>\n",
       "      <td>780</td>\n",
       "      <td>105</td>\n",
       "      <td>0</td>\n",
       "      <td>GLY_GLY</td>\n",
       "      <td>ALA_ALA</td>\n",
       "    </tr>\n",
       "    <tr>\n",
       "      <td>21920</td>\n",
       "      <td>LEU</td>\n",
       "      <td>LEU</td>\n",
       "      <td>LEU</td>\n",
       "      <td>LEU</td>\n",
       "      <td>anti</td>\n",
       "      <td>781</td>\n",
       "      <td>189</td>\n",
       "      <td>189</td>\n",
       "      <td>LEU_LEU</td>\n",
       "      <td>LEU_LEU</td>\n",
       "    </tr>\n",
       "    <tr>\n",
       "      <td>28351</td>\n",
       "      <td>PHE</td>\n",
       "      <td>ALA</td>\n",
       "      <td>PHE</td>\n",
       "      <td>PHE</td>\n",
       "      <td>anti</td>\n",
       "      <td>912</td>\n",
       "      <td>80</td>\n",
       "      <td>84</td>\n",
       "      <td>PHE_ALA</td>\n",
       "      <td>PHE_PHE</td>\n",
       "    </tr>\n",
       "    <tr>\n",
       "      <td>1</td>\n",
       "      <td>ALA</td>\n",
       "      <td>ALA</td>\n",
       "      <td>ALA</td>\n",
       "      <td>ALA</td>\n",
       "      <td>parallel</td>\n",
       "      <td>1135</td>\n",
       "      <td>0</td>\n",
       "      <td>0</td>\n",
       "      <td>ALA_ALA</td>\n",
       "      <td>ALA_ALA</td>\n",
       "    </tr>\n",
       "    <tr>\n",
       "      <td>12410</td>\n",
       "      <td>GLY</td>\n",
       "      <td>GLY</td>\n",
       "      <td>GLY</td>\n",
       "      <td>GLY</td>\n",
       "      <td>parallel</td>\n",
       "      <td>1440</td>\n",
       "      <td>105</td>\n",
       "      <td>105</td>\n",
       "      <td>GLY_GLY</td>\n",
       "      <td>GLY_GLY</td>\n",
       "    </tr>\n",
       "  </tbody>\n",
       "</table>\n",
       "<p>48267 rows × 10 columns</p>\n",
       "</div>"
      ],
      "text/plain": [
       "      Res1_1 Res1_2 Res2_1 Res2_2 Direction  Protein  Res1  Res2 Res1_letter  \\\n",
       "42768    TYR    LEU    GLN    PHE  parallel        1   389   264     TYR_LEU   \n",
       "25785    MET    ARG    SER    TRP  parallel        1   214   318     MET_ARG   \n",
       "25784    MET    ARG    SER    ASP  parallel        1   214   302     MET_ARG   \n",
       "8684     CYS    SER    ARG    ILE      anti        1    35   287     CYS_SER   \n",
       "25780    MET    ARG    PHE    ARG  parallel        1   214    94     MET_ARG   \n",
       "...      ...    ...    ...    ...       ...      ...   ...   ...         ...   \n",
       "12325    GLY    GLY    ALA    ALA  parallel      780   105     0     GLY_GLY   \n",
       "21920    LEU    LEU    LEU    LEU      anti      781   189   189     LEU_LEU   \n",
       "28351    PHE    ALA    PHE    PHE      anti      912    80    84     PHE_ALA   \n",
       "1        ALA    ALA    ALA    ALA  parallel     1135     0     0     ALA_ALA   \n",
       "12410    GLY    GLY    GLY    GLY  parallel     1440   105   105     GLY_GLY   \n",
       "\n",
       "      Res2_letter  \n",
       "42768     GLN_PHE  \n",
       "25785     SER_TRP  \n",
       "25784     SER_ASP  \n",
       "8684      ARG_ILE  \n",
       "25780     PHE_ARG  \n",
       "...           ...  \n",
       "12325     ALA_ALA  \n",
       "21920     LEU_LEU  \n",
       "28351     PHE_PHE  \n",
       "1         ALA_ALA  \n",
       "12410     GLY_GLY  \n",
       "\n",
       "[48267 rows x 10 columns]"
      ]
     },
     "execution_count": 90,
     "metadata": {},
     "output_type": "execute_result"
    }
   ],
   "source": [
    "a"
   ]
  },
  {
   "cell_type": "code",
   "execution_count": 72,
   "metadata": {},
   "outputs": [
    {
     "data": {
      "text/plain": [
       "array([[<matplotlib.axes._subplots.AxesSubplot object at 0x121d83ac8>]],\n",
       "      dtype=object)"
      ]
     },
     "execution_count": 72,
     "metadata": {},
     "output_type": "execute_result"
    },
    {
     "data": {
      "image/png": "[encoded data removed]",
      "text/plain": [
       "<Figure size 720x444.96 with 1 Axes>"
      ]
     },
     "metadata": {},
     "output_type": "display_data"
    }
   ],
   "source": [
    "a.query(\"Protein < 100\").hist(bins=100)"
   ]
  },
  {
   "cell_type": "code",
   "execution_count": 75,
   "metadata": {},
   "outputs": [
    {
     "data": {
      "text/plain": [
       "array([[<matplotlib.axes._subplots.AxesSubplot object at 0x1031c5668>]],\n",
       "      dtype=object)"
      ]
     },
     "execution_count": 75,
     "metadata": {},
     "output_type": "execute_result"
    },
    {
     "data": {
      "image/png": "[encoded data removed]",
      "text/plain": [
       "<Figure size 720x444.96 with 1 Axes>"
      ]
     },
     "metadata": {},
     "output_type": "display_data"
    }
   ],
   "source": [
    "a.query(\"Protein > 200\").hist(bins=100)"
   ]
  },
  {
   "cell_type": "code",
   "execution_count": 46,
   "metadata": {},
   "outputs": [
    {
     "data": {
      "text/html": [
       "<div>\n",
       "<style scoped>\n",
       "    .dataframe tbody tr th:only-of-type {\n",
       "        vertical-align: middle;\n",
       "    }\n",
       "\n",
       "    .dataframe tbody tr th {\n",
       "        vertical-align: top;\n",
       "    }\n",
       "\n",
       "    .dataframe thead th {\n",
       "        text-align: right;\n",
       "    }\n",
       "</style>\n",
       "<table border=\"1\" class=\"dataframe\">\n",
       "  <thead>\n",
       "    <tr style=\"text-align: right;\">\n",
       "      <th></th>\n",
       "      <th>index</th>\n",
       "      <th>interaction_index</th>\n",
       "    </tr>\n",
       "  </thead>\n",
       "  <tbody>\n",
       "    <tr>\n",
       "      <td>0</td>\n",
       "      <td>60</td>\n",
       "      <td>56113</td>\n",
       "    </tr>\n",
       "    <tr>\n",
       "      <td>1</td>\n",
       "      <td>44</td>\n",
       "      <td>53670</td>\n",
       "    </tr>\n",
       "    <tr>\n",
       "      <td>2</td>\n",
       "      <td>42</td>\n",
       "      <td>50351</td>\n",
       "    </tr>\n",
       "    <tr>\n",
       "      <td>3</td>\n",
       "      <td>14</td>\n",
       "      <td>30480</td>\n",
       "    </tr>\n",
       "    <tr>\n",
       "      <td>4</td>\n",
       "      <td>12</td>\n",
       "      <td>30037</td>\n",
       "    </tr>\n",
       "    <tr>\n",
       "      <td>...</td>\n",
       "      <td>...</td>\n",
       "      <td>...</td>\n",
       "    </tr>\n",
       "    <tr>\n",
       "      <td>118</td>\n",
       "      <td>99</td>\n",
       "      <td>29</td>\n",
       "    </tr>\n",
       "    <tr>\n",
       "      <td>119</td>\n",
       "      <td>27</td>\n",
       "      <td>24</td>\n",
       "    </tr>\n",
       "    <tr>\n",
       "      <td>120</td>\n",
       "      <td>32</td>\n",
       "      <td>8</td>\n",
       "    </tr>\n",
       "    <tr>\n",
       "      <td>121</td>\n",
       "      <td>31</td>\n",
       "      <td>5</td>\n",
       "    </tr>\n",
       "    <tr>\n",
       "      <td>122</td>\n",
       "      <td>54</td>\n",
       "      <td>5</td>\n",
       "    </tr>\n",
       "  </tbody>\n",
       "</table>\n",
       "<p>123 rows × 2 columns</p>\n",
       "</div>"
      ],
      "text/plain": [
       "     index  interaction_index\n",
       "0       60              56113\n",
       "1       44              53670\n",
       "2       42              50351\n",
       "3       14              30480\n",
       "4       12              30037\n",
       "..     ...                ...\n",
       "118     99                 29\n",
       "119     27                 24\n",
       "120     32                  8\n",
       "121     31                  5\n",
       "122     54                  5\n",
       "\n",
       "[123 rows x 2 columns]"
      ]
     },
     "execution_count": 46,
     "metadata": {},
     "output_type": "execute_result"
    }
   ],
   "source": [
    "data[\"interaction_index\"].value_counts().reset_index()"
   ]
  },
  {
   "cell_type": "code",
   "execution_count": 43,
   "metadata": {},
   "outputs": [
    {
     "data": {
      "text/plain": [
       "(746520, 19)"
      ]
     },
     "execution_count": 43,
     "metadata": {},
     "output_type": "execute_result"
    }
   ],
   "source": [
    "data.shape"
   ]
  },
  {
   "cell_type": "code",
   "execution_count": 22,
   "metadata": {},
   "outputs": [
    {
     "data": {
      "text/html": [
       "<div>\n",
       "<style scoped>\n",
       "    .dataframe tbody tr th:only-of-type {\n",
       "        vertical-align: middle;\n",
       "    }\n",
       "\n",
       "    .dataframe tbody tr th {\n",
       "        vertical-align: top;\n",
       "    }\n",
       "\n",
       "    .dataframe thead th {\n",
       "        text-align: right;\n",
       "    }\n",
       "</style>\n",
       "<table border=\"1\" class=\"dataframe\">\n",
       "  <thead>\n",
       "    <tr style=\"text-align: right;\">\n",
       "      <th></th>\n",
       "      <th>Res1_1</th>\n",
       "      <th>Res1_2</th>\n",
       "      <th>Res2_1</th>\n",
       "      <th>Res2_2</th>\n",
       "      <th>Direction</th>\n",
       "      <th>rij</th>\n",
       "    </tr>\n",
       "  </thead>\n",
       "  <tbody>\n",
       "    <tr>\n",
       "      <td>42768</td>\n",
       "      <td>TYR</td>\n",
       "      <td>LEU</td>\n",
       "      <td>GLN</td>\n",
       "      <td>PHE</td>\n",
       "      <td>parallel</td>\n",
       "      <td>1</td>\n",
       "    </tr>\n",
       "    <tr>\n",
       "      <td>25785</td>\n",
       "      <td>MET</td>\n",
       "      <td>ARG</td>\n",
       "      <td>SER</td>\n",
       "      <td>TRP</td>\n",
       "      <td>parallel</td>\n",
       "      <td>1</td>\n",
       "    </tr>\n",
       "    <tr>\n",
       "      <td>25784</td>\n",
       "      <td>MET</td>\n",
       "      <td>ARG</td>\n",
       "      <td>SER</td>\n",
       "      <td>ASP</td>\n",
       "      <td>parallel</td>\n",
       "      <td>1</td>\n",
       "    </tr>\n",
       "    <tr>\n",
       "      <td>8684</td>\n",
       "      <td>CYS</td>\n",
       "      <td>SER</td>\n",
       "      <td>ARG</td>\n",
       "      <td>ILE</td>\n",
       "      <td>anti</td>\n",
       "      <td>1</td>\n",
       "    </tr>\n",
       "    <tr>\n",
       "      <td>25780</td>\n",
       "      <td>MET</td>\n",
       "      <td>ARG</td>\n",
       "      <td>PHE</td>\n",
       "      <td>ARG</td>\n",
       "      <td>parallel</td>\n",
       "      <td>1</td>\n",
       "    </tr>\n",
       "    <tr>\n",
       "      <td>...</td>\n",
       "      <td>...</td>\n",
       "      <td>...</td>\n",
       "      <td>...</td>\n",
       "      <td>...</td>\n",
       "      <td>...</td>\n",
       "      <td>...</td>\n",
       "    </tr>\n",
       "    <tr>\n",
       "      <td>12325</td>\n",
       "      <td>GLY</td>\n",
       "      <td>GLY</td>\n",
       "      <td>ALA</td>\n",
       "      <td>ALA</td>\n",
       "      <td>parallel</td>\n",
       "      <td>780</td>\n",
       "    </tr>\n",
       "    <tr>\n",
       "      <td>21920</td>\n",
       "      <td>LEU</td>\n",
       "      <td>LEU</td>\n",
       "      <td>LEU</td>\n",
       "      <td>LEU</td>\n",
       "      <td>anti</td>\n",
       "      <td>781</td>\n",
       "    </tr>\n",
       "    <tr>\n",
       "      <td>28351</td>\n",
       "      <td>PHE</td>\n",
       "      <td>ALA</td>\n",
       "      <td>PHE</td>\n",
       "      <td>PHE</td>\n",
       "      <td>anti</td>\n",
       "      <td>912</td>\n",
       "    </tr>\n",
       "    <tr>\n",
       "      <td>1</td>\n",
       "      <td>ALA</td>\n",
       "      <td>ALA</td>\n",
       "      <td>ALA</td>\n",
       "      <td>ALA</td>\n",
       "      <td>parallel</td>\n",
       "      <td>1135</td>\n",
       "    </tr>\n",
       "    <tr>\n",
       "      <td>12410</td>\n",
       "      <td>GLY</td>\n",
       "      <td>GLY</td>\n",
       "      <td>GLY</td>\n",
       "      <td>GLY</td>\n",
       "      <td>parallel</td>\n",
       "      <td>1440</td>\n",
       "    </tr>\n",
       "  </tbody>\n",
       "</table>\n",
       "<p>48267 rows × 6 columns</p>\n",
       "</div>"
      ],
      "text/plain": [
       "      Res1_1 Res1_2 Res2_1 Res2_2 Direction   rij\n",
       "42768    TYR    LEU    GLN    PHE  parallel     1\n",
       "25785    MET    ARG    SER    TRP  parallel     1\n",
       "25784    MET    ARG    SER    ASP  parallel     1\n",
       "8684     CYS    SER    ARG    ILE      anti     1\n",
       "25780    MET    ARG    PHE    ARG  parallel     1\n",
       "...      ...    ...    ...    ...       ...   ...\n",
       "12325    GLY    GLY    ALA    ALA  parallel   780\n",
       "21920    LEU    LEU    LEU    LEU      anti   781\n",
       "28351    PHE    ALA    PHE    PHE      anti   912\n",
       "1        ALA    ALA    ALA    ALA  parallel  1135\n",
       "12410    GLY    GLY    GLY    GLY  parallel  1440\n",
       "\n",
       "[48267 rows x 6 columns]"
      ]
     },
     "execution_count": 22,
     "metadata": {},
     "output_type": "execute_result"
    }
   ],
   "source": [
    "a"
   ]
  },
  {
   "cell_type": "code",
   "execution_count": 23,
   "metadata": {},
   "outputs": [
    {
     "data": {
      "text/plain": [
       "320000"
      ]
     },
     "execution_count": 23,
     "metadata": {},
     "output_type": "execute_result"
    }
   ],
   "source": [
    "20*20*20*20*2"
   ]
  },
  {
   "cell_type": "code",
   "execution_count": 19,
   "metadata": {},
   "outputs": [
    {
     "data": {
      "text/html": [
       "<div>\n",
       "<style scoped>\n",
       "    .dataframe tbody tr th:only-of-type {\n",
       "        vertical-align: middle;\n",
       "    }\n",
       "\n",
       "    .dataframe tbody tr th {\n",
       "        vertical-align: top;\n",
       "    }\n",
       "\n",
       "    .dataframe thead th {\n",
       "        text-align: right;\n",
       "    }\n",
       "</style>\n",
       "<table border=\"1\" class=\"dataframe\">\n",
       "  <thead>\n",
       "    <tr style=\"text-align: right;\">\n",
       "      <th></th>\n",
       "      <th>Res1_1</th>\n",
       "      <th>Res1_2</th>\n",
       "      <th>Res2_1</th>\n",
       "      <th>Res2_2</th>\n",
       "      <th>Direction</th>\n",
       "      <th>rij</th>\n",
       "    </tr>\n",
       "  </thead>\n",
       "  <tbody>\n",
       "    <tr>\n",
       "      <td>0</td>\n",
       "      <td>ALA</td>\n",
       "      <td>VAL</td>\n",
       "      <td>ILE</td>\n",
       "      <td>LEU</td>\n",
       "      <td>anti</td>\n",
       "      <td>1</td>\n",
       "    </tr>\n",
       "    <tr>\n",
       "      <td>1</td>\n",
       "      <td>ALA</td>\n",
       "      <td>VAL</td>\n",
       "      <td>ILE</td>\n",
       "      <td>PHE</td>\n",
       "      <td>anti</td>\n",
       "      <td>1</td>\n",
       "    </tr>\n",
       "    <tr>\n",
       "      <td>2</td>\n",
       "      <td>ARG</td>\n",
       "      <td>GLY</td>\n",
       "      <td>ASN</td>\n",
       "      <td>SER</td>\n",
       "      <td>parallel</td>\n",
       "      <td>1</td>\n",
       "    </tr>\n",
       "    <tr>\n",
       "      <td>3</td>\n",
       "      <td>ILE</td>\n",
       "      <td>ASN</td>\n",
       "      <td>PHE</td>\n",
       "      <td>GLY</td>\n",
       "      <td>anti</td>\n",
       "      <td>1</td>\n",
       "    </tr>\n",
       "    <tr>\n",
       "      <td>4</td>\n",
       "      <td>ILE</td>\n",
       "      <td>LEU</td>\n",
       "      <td>VAL</td>\n",
       "      <td>VAL</td>\n",
       "      <td>parallel</td>\n",
       "      <td>1</td>\n",
       "    </tr>\n",
       "    <tr>\n",
       "      <td>5</td>\n",
       "      <td>LEU</td>\n",
       "      <td>ALA</td>\n",
       "      <td>VAL</td>\n",
       "      <td>ASN</td>\n",
       "      <td>anti</td>\n",
       "      <td>1</td>\n",
       "    </tr>\n",
       "    <tr>\n",
       "      <td>6</td>\n",
       "      <td>LEU</td>\n",
       "      <td>CYS</td>\n",
       "      <td>VAL</td>\n",
       "      <td>ILE</td>\n",
       "      <td>anti</td>\n",
       "      <td>1</td>\n",
       "    </tr>\n",
       "    <tr>\n",
       "      <td>7</td>\n",
       "      <td>LEU</td>\n",
       "      <td>LEU</td>\n",
       "      <td>ALA</td>\n",
       "      <td>TYR</td>\n",
       "      <td>anti</td>\n",
       "      <td>1</td>\n",
       "    </tr>\n",
       "    <tr>\n",
       "      <td>8</td>\n",
       "      <td>LEU</td>\n",
       "      <td>LEU</td>\n",
       "      <td>THR</td>\n",
       "      <td>LEU</td>\n",
       "      <td>parallel</td>\n",
       "      <td>1</td>\n",
       "    </tr>\n",
       "    <tr>\n",
       "      <td>9</td>\n",
       "      <td>SER</td>\n",
       "      <td>GLY</td>\n",
       "      <td>LEU</td>\n",
       "      <td>GLY</td>\n",
       "      <td>parallel</td>\n",
       "      <td>1</td>\n",
       "    </tr>\n",
       "  </tbody>\n",
       "</table>\n",
       "</div>"
      ],
      "text/plain": [
       "  Res1_1 Res1_2 Res2_1 Res2_2 Direction  rij\n",
       "0    ALA    VAL    ILE    LEU      anti    1\n",
       "1    ALA    VAL    ILE    PHE      anti    1\n",
       "2    ARG    GLY    ASN    SER  parallel    1\n",
       "3    ILE    ASN    PHE    GLY      anti    1\n",
       "4    ILE    LEU    VAL    VAL  parallel    1\n",
       "5    LEU    ALA    VAL    ASN      anti    1\n",
       "6    LEU    CYS    VAL    ILE      anti    1\n",
       "7    LEU    LEU    ALA    TYR      anti    1\n",
       "8    LEU    LEU    THR    LEU  parallel    1\n",
       "9    SER    GLY    LEU    GLY  parallel    1"
      ]
     },
     "execution_count": 19,
     "metadata": {},
     "output_type": "execute_result"
    }
   ],
   "source": [
    "tiny.groupby([\"Res1_1\", \"Res1_2\", \"Res2_1\", \"Res2_2\", \"Direction\"])[\"rij\"].count().reset_index()"
   ]
  },
  {
   "cell_type": "code",
   "execution_count": 1,
   "metadata": {
    "collapsed": true
   },
   "outputs": [],
   "source": [
    "from scipy.special import comb"
   ]
  },
  {
   "cell_type": "code",
   "execution_count": 7,
   "metadata": {},
   "outputs": [
    {
     "data": {
      "text/plain": [
       "462.0"
      ]
     },
     "execution_count": 7,
     "metadata": {},
     "output_type": "execute_result"
    }
   ],
   "source": [
    "21*(1+21)/2*2"
   ]
  },
  {
   "cell_type": "code",
   "execution_count": 3,
   "metadata": {},
   "outputs": [
    {
     "data": {
      "text/plain": [
       "126.0"
      ]
     },
     "execution_count": 3,
     "metadata": {},
     "output_type": "execute_result"
    }
   ],
   "source": [
    "comb(9, 4)"
   ]
  },
  {
   "cell_type": "code",
   "execution_count": 27,
   "metadata": {},
   "outputs": [
    {
     "data": {
      "text/plain": [
       "(746520, 17)"
      ]
     },
     "execution_count": 27,
     "metadata": {},
     "output_type": "execute_result"
    }
   ],
   "source": [
    "data.shape"
   ]
  },
  {
   "cell_type": "markdown",
   "metadata": {},
   "source": [
    "## most common 700 interaction type"
   ]
  },
  {
   "cell_type": "code",
   "execution_count": 12,
   "metadata": {
    "collapsed": true
   },
   "outputs": [],
   "source": [
    "b_cutoff_unique = pd.read_csv(\"/Users/weilu/Research/data/interaction_index_jul12.csv\", index_col=0)"
   ]
  },
  {
   "cell_type": "code",
   "execution_count": 81,
   "metadata": {},
   "outputs": [
    {
     "data": {
      "text/html": [
       "<div>\n",
       "<style scoped>\n",
       "    .dataframe tbody tr th:only-of-type {\n",
       "        vertical-align: middle;\n",
       "    }\n",
       "\n",
       "    .dataframe tbody tr th {\n",
       "        vertical-align: top;\n",
       "    }\n",
       "\n",
       "    .dataframe thead th {\n",
       "        text-align: right;\n",
       "    }\n",
       "</style>\n",
       "<table border=\"1\" class=\"dataframe\">\n",
       "  <thead>\n",
       "    <tr style=\"text-align: right;\">\n",
       "      <th></th>\n",
       "      <th>Res1</th>\n",
       "      <th>Res2</th>\n",
       "      <th>Direction</th>\n",
       "      <th>Protein</th>\n",
       "      <th>interaction_index</th>\n",
       "    </tr>\n",
       "  </thead>\n",
       "  <tbody>\n",
       "    <tr>\n",
       "      <td>0</td>\n",
       "      <td>107</td>\n",
       "      <td>109</td>\n",
       "      <td>parallel</td>\n",
       "      <td>97</td>\n",
       "      <td>parallel_107_109</td>\n",
       "    </tr>\n",
       "    <tr>\n",
       "      <td>1</td>\n",
       "      <td>322</td>\n",
       "      <td>395</td>\n",
       "      <td>parallel</td>\n",
       "      <td>97</td>\n",
       "      <td>parallel_322_395</td>\n",
       "    </tr>\n",
       "    <tr>\n",
       "      <td>2</td>\n",
       "      <td>85</td>\n",
       "      <td>150</td>\n",
       "      <td>anti</td>\n",
       "      <td>97</td>\n",
       "      <td>anti_85_150</td>\n",
       "    </tr>\n",
       "    <tr>\n",
       "      <td>3</td>\n",
       "      <td>70</td>\n",
       "      <td>331</td>\n",
       "      <td>anti</td>\n",
       "      <td>97</td>\n",
       "      <td>anti_70_331</td>\n",
       "    </tr>\n",
       "    <tr>\n",
       "      <td>4</td>\n",
       "      <td>9</td>\n",
       "      <td>189</td>\n",
       "      <td>parallel</td>\n",
       "      <td>97</td>\n",
       "      <td>parallel_9_189</td>\n",
       "    </tr>\n",
       "    <tr>\n",
       "      <td>...</td>\n",
       "      <td>...</td>\n",
       "      <td>...</td>\n",
       "      <td>...</td>\n",
       "      <td>...</td>\n",
       "      <td>...</td>\n",
       "    </tr>\n",
       "    <tr>\n",
       "      <td>695</td>\n",
       "      <td>325</td>\n",
       "      <td>325</td>\n",
       "      <td>parallel</td>\n",
       "      <td>701</td>\n",
       "      <td>parallel_325_325</td>\n",
       "    </tr>\n",
       "    <tr>\n",
       "      <td>696</td>\n",
       "      <td>0</td>\n",
       "      <td>105</td>\n",
       "      <td>parallel</td>\n",
       "      <td>740</td>\n",
       "      <td>parallel_0_105</td>\n",
       "    </tr>\n",
       "    <tr>\n",
       "      <td>697</td>\n",
       "      <td>292</td>\n",
       "      <td>378</td>\n",
       "      <td>anti</td>\n",
       "      <td>771</td>\n",
       "      <td>anti_292_378</td>\n",
       "    </tr>\n",
       "    <tr>\n",
       "      <td>698</td>\n",
       "      <td>105</td>\n",
       "      <td>105</td>\n",
       "      <td>parallel</td>\n",
       "      <td>895</td>\n",
       "      <td>parallel_105_105</td>\n",
       "    </tr>\n",
       "    <tr>\n",
       "      <td>699</td>\n",
       "      <td>80</td>\n",
       "      <td>84</td>\n",
       "      <td>anti</td>\n",
       "      <td>947</td>\n",
       "      <td>anti_80_84</td>\n",
       "    </tr>\n",
       "  </tbody>\n",
       "</table>\n",
       "<p>700 rows × 5 columns</p>\n",
       "</div>"
      ],
      "text/plain": [
       "     Res1  Res2 Direction  Protein interaction_index\n",
       "0     107   109  parallel       97  parallel_107_109\n",
       "1     322   395  parallel       97  parallel_322_395\n",
       "2      85   150      anti       97       anti_85_150\n",
       "3      70   331      anti       97       anti_70_331\n",
       "4       9   189  parallel       97    parallel_9_189\n",
       "..    ...   ...       ...      ...               ...\n",
       "695   325   325  parallel      701  parallel_325_325\n",
       "696     0   105  parallel      740    parallel_0_105\n",
       "697   292   378      anti      771      anti_292_378\n",
       "698   105   105  parallel      895  parallel_105_105\n",
       "699    80    84      anti      947        anti_80_84\n",
       "\n",
       "[700 rows x 5 columns]"
      ]
     },
     "execution_count": 81,
     "metadata": {},
     "output_type": "execute_result"
    }
   ],
   "source": [
    "pd.read_csv(\"/Users/weilu/Research/data/interaction_index_jul12.csv\", index_col=0)"
   ]
  },
  {
   "cell_type": "code",
   "execution_count": 34,
   "metadata": {
    "collapsed": true
   },
   "outputs": [],
   "source": [
    "b_cutoff_unique[\"atom1\"] = b_cutoff_unique[\"Res1\"].apply(lambda x: index_to_three(x // 20))\n",
    "b_cutoff_unique[\"atom2\"] = b_cutoff_unique[\"Res1\"].apply(lambda x: index_to_three(x % 20))\n",
    "b_cutoff_unique[\"atom3\"] = b_cutoff_unique[\"Res2\"].apply(lambda x: index_to_three(x // 20))\n",
    "b_cutoff_unique[\"atom4\"] = b_cutoff_unique[\"Res2\"].apply(lambda x: index_to_three(x % 20))"
   ]
  },
  {
   "cell_type": "code",
   "execution_count": 40,
   "metadata": {
    "collapsed": true
   },
   "outputs": [],
   "source": [
    "b_cutoff_unique[\"interaction_type\"] = b_cutoff_unique[\"interaction_index\"]"
   ]
  },
  {
   "cell_type": "code",
   "execution_count": 42,
   "metadata": {
    "collapsed": true
   },
   "outputs": [],
   "source": [
    "b_cutoff_unique[\"interaction_index\"] = b_cutoff_unique[\"Direction\"] + \"_\" + b_cutoff_unique[\"atom1\"] + \"_\" + b_cutoff_unique[\"atom2\"] + \"_\" + b_cutoff_unique[\"atom3\"] + \"_\" + b_cutoff_unique[\"atom4\"]"
   ]
  },
  {
   "cell_type": "code",
   "execution_count": null,
   "metadata": {
    "collapsed": true
   },
   "outputs": [],
   "source": []
  },
  {
   "cell_type": "code",
   "execution_count": 47,
   "metadata": {
    "collapsed": true
   },
   "outputs": [],
   "source": [
    "data = pd.concat([b_cutoff_unique, \n",
    "                  pd.DataFrame([[-1, -1, \"all\", -1, \"x\"]], \n",
    "                               columns=b_cutoff_unique.columns[:5])], sort=False).reset_index(drop=True)"
   ]
  },
  {
   "cell_type": "code",
   "execution_count": 49,
   "metadata": {
    "collapsed": true
   },
   "outputs": [],
   "source": [
    "data[\"gamma\"] = complete"
   ]
  },
  {
   "cell_type": "code",
   "execution_count": 75,
   "metadata": {
    "collapsed": true
   },
   "outputs": [],
   "source": [
    "data[\"gamma_cutoff\"] = gamma_new"
   ]
  },
  {
   "cell_type": "code",
   "execution_count": 76,
   "metadata": {
    "collapsed": true
   },
   "outputs": [],
   "source": [
    "t = data.sort_values(\"gamma_cutoff\").head(20)"
   ]
  },
  {
   "cell_type": "code",
   "execution_count": 82,
   "metadata": {},
   "outputs": [
    {
     "data": {
      "text/html": [
       "<div>\n",
       "<style scoped>\n",
       "    .dataframe tbody tr th:only-of-type {\n",
       "        vertical-align: middle;\n",
       "    }\n",
       "\n",
       "    .dataframe tbody tr th {\n",
       "        vertical-align: top;\n",
       "    }\n",
       "\n",
       "    .dataframe thead th {\n",
       "        text-align: right;\n",
       "    }\n",
       "</style>\n",
       "<table border=\"1\" class=\"dataframe\">\n",
       "  <thead>\n",
       "    <tr style=\"text-align: right;\">\n",
       "      <th></th>\n",
       "      <th>Res1</th>\n",
       "      <th>Res2</th>\n",
       "      <th>Direction</th>\n",
       "      <th>Protein</th>\n",
       "      <th>interaction_index</th>\n",
       "      <th>atom1</th>\n",
       "      <th>atom2</th>\n",
       "      <th>atom3</th>\n",
       "      <th>atom4</th>\n",
       "      <th>interaction_type</th>\n",
       "      <th>gamma</th>\n",
       "      <th>gamma_cutoff100</th>\n",
       "      <th>gamma_cutoff</th>\n",
       "    </tr>\n",
       "  </thead>\n",
       "  <tbody>\n",
       "    <tr>\n",
       "      <td>0</td>\n",
       "      <td>107</td>\n",
       "      <td>109</td>\n",
       "      <td>parallel</td>\n",
       "      <td>97</td>\n",
       "      <td>parallel_GLY_ILE_GLY_LEU</td>\n",
       "      <td>GLY</td>\n",
       "      <td>ILE</td>\n",
       "      <td>GLY</td>\n",
       "      <td>LEU</td>\n",
       "      <td>parallel_107_109</td>\n",
       "      <td>-2.16218</td>\n",
       "      <td>-0.788643</td>\n",
       "      <td>-0.788643</td>\n",
       "    </tr>\n",
       "    <tr>\n",
       "      <td>1</td>\n",
       "      <td>322</td>\n",
       "      <td>395</td>\n",
       "      <td>parallel</td>\n",
       "      <td>97</td>\n",
       "      <td>parallel_THR_ASP_TYR_SER</td>\n",
       "      <td>THR</td>\n",
       "      <td>ASP</td>\n",
       "      <td>TYR</td>\n",
       "      <td>SER</td>\n",
       "      <td>parallel_322_395</td>\n",
       "      <td>-160.33193</td>\n",
       "      <td>-1.075308</td>\n",
       "      <td>-1.075308</td>\n",
       "    </tr>\n",
       "    <tr>\n",
       "      <td>2</td>\n",
       "      <td>85</td>\n",
       "      <td>150</td>\n",
       "      <td>anti</td>\n",
       "      <td>97</td>\n",
       "      <td>anti_PHE_GLY_ILE_MET</td>\n",
       "      <td>PHE</td>\n",
       "      <td>GLY</td>\n",
       "      <td>ILE</td>\n",
       "      <td>MET</td>\n",
       "      <td>anti_85_150</td>\n",
       "      <td>-8.37383</td>\n",
       "      <td>-1.026892</td>\n",
       "      <td>-1.026892</td>\n",
       "    </tr>\n",
       "    <tr>\n",
       "      <td>3</td>\n",
       "      <td>70</td>\n",
       "      <td>331</td>\n",
       "      <td>anti</td>\n",
       "      <td>97</td>\n",
       "      <td>anti_GLU_MET_THR_ASN</td>\n",
       "      <td>GLU</td>\n",
       "      <td>MET</td>\n",
       "      <td>THR</td>\n",
       "      <td>ASN</td>\n",
       "      <td>anti_70_331</td>\n",
       "      <td>-203.13935</td>\n",
       "      <td>-1.145494</td>\n",
       "      <td>-1.145494</td>\n",
       "    </tr>\n",
       "    <tr>\n",
       "      <td>4</td>\n",
       "      <td>9</td>\n",
       "      <td>189</td>\n",
       "      <td>parallel</td>\n",
       "      <td>97</td>\n",
       "      <td>parallel_ALA_LEU_LEU_LEU</td>\n",
       "      <td>ALA</td>\n",
       "      <td>LEU</td>\n",
       "      <td>LEU</td>\n",
       "      <td>LEU</td>\n",
       "      <td>parallel_9_189</td>\n",
       "      <td>-1.22163</td>\n",
       "      <td>-0.396211</td>\n",
       "      <td>-0.396211</td>\n",
       "    </tr>\n",
       "    <tr>\n",
       "      <td>...</td>\n",
       "      <td>...</td>\n",
       "      <td>...</td>\n",
       "      <td>...</td>\n",
       "      <td>...</td>\n",
       "      <td>...</td>\n",
       "      <td>...</td>\n",
       "      <td>...</td>\n",
       "      <td>...</td>\n",
       "      <td>...</td>\n",
       "      <td>...</td>\n",
       "      <td>...</td>\n",
       "      <td>...</td>\n",
       "      <td>...</td>\n",
       "    </tr>\n",
       "    <tr>\n",
       "      <td>696</td>\n",
       "      <td>0</td>\n",
       "      <td>105</td>\n",
       "      <td>parallel</td>\n",
       "      <td>740</td>\n",
       "      <td>parallel_ALA_ALA_GLY_GLY</td>\n",
       "      <td>ALA</td>\n",
       "      <td>ALA</td>\n",
       "      <td>GLY</td>\n",
       "      <td>GLY</td>\n",
       "      <td>parallel_0_105</td>\n",
       "      <td>-19.11771</td>\n",
       "      <td>-8.416487</td>\n",
       "      <td>-8.416487</td>\n",
       "    </tr>\n",
       "    <tr>\n",
       "      <td>697</td>\n",
       "      <td>292</td>\n",
       "      <td>378</td>\n",
       "      <td>anti</td>\n",
       "      <td>771</td>\n",
       "      <td>anti_ARG_PRO_TRP_TRP</td>\n",
       "      <td>ARG</td>\n",
       "      <td>PRO</td>\n",
       "      <td>TRP</td>\n",
       "      <td>TRP</td>\n",
       "      <td>anti_292_378</td>\n",
       "      <td>-1942.56614</td>\n",
       "      <td>-9.171390</td>\n",
       "      <td>-9.171390</td>\n",
       "    </tr>\n",
       "    <tr>\n",
       "      <td>698</td>\n",
       "      <td>105</td>\n",
       "      <td>105</td>\n",
       "      <td>parallel</td>\n",
       "      <td>895</td>\n",
       "      <td>parallel_GLY_GLY_GLY_GLY</td>\n",
       "      <td>GLY</td>\n",
       "      <td>GLY</td>\n",
       "      <td>GLY</td>\n",
       "      <td>GLY</td>\n",
       "      <td>parallel_105_105</td>\n",
       "      <td>-55.09020</td>\n",
       "      <td>-11.075072</td>\n",
       "      <td>-11.075072</td>\n",
       "    </tr>\n",
       "    <tr>\n",
       "      <td>699</td>\n",
       "      <td>80</td>\n",
       "      <td>84</td>\n",
       "      <td>anti</td>\n",
       "      <td>947</td>\n",
       "      <td>anti_PHE_ALA_PHE_PHE</td>\n",
       "      <td>PHE</td>\n",
       "      <td>ALA</td>\n",
       "      <td>PHE</td>\n",
       "      <td>PHE</td>\n",
       "      <td>anti_80_84</td>\n",
       "      <td>-21.46817</td>\n",
       "      <td>-10.721774</td>\n",
       "      <td>-10.721774</td>\n",
       "    </tr>\n",
       "    <tr>\n",
       "      <td>700</td>\n",
       "      <td>-1</td>\n",
       "      <td>-1</td>\n",
       "      <td>all</td>\n",
       "      <td>-1</td>\n",
       "      <td>x</td>\n",
       "      <td>NaN</td>\n",
       "      <td>NaN</td>\n",
       "      <td>NaN</td>\n",
       "      <td>NaN</td>\n",
       "      <td>NaN</td>\n",
       "      <td>-1.25702</td>\n",
       "      <td>-1.406692</td>\n",
       "      <td>-1.406692</td>\n",
       "    </tr>\n",
       "  </tbody>\n",
       "</table>\n",
       "<p>701 rows × 13 columns</p>\n",
       "</div>"
      ],
      "text/plain": [
       "     Res1  Res2 Direction  Protein         interaction_index atom1 atom2  \\\n",
       "0     107   109  parallel       97  parallel_GLY_ILE_GLY_LEU   GLY   ILE   \n",
       "1     322   395  parallel       97  parallel_THR_ASP_TYR_SER   THR   ASP   \n",
       "2      85   150      anti       97      anti_PHE_GLY_ILE_MET   PHE   GLY   \n",
       "3      70   331      anti       97      anti_GLU_MET_THR_ASN   GLU   MET   \n",
       "4       9   189  parallel       97  parallel_ALA_LEU_LEU_LEU   ALA   LEU   \n",
       "..    ...   ...       ...      ...                       ...   ...   ...   \n",
       "696     0   105  parallel      740  parallel_ALA_ALA_GLY_GLY   ALA   ALA   \n",
       "697   292   378      anti      771      anti_ARG_PRO_TRP_TRP   ARG   PRO   \n",
       "698   105   105  parallel      895  parallel_GLY_GLY_GLY_GLY   GLY   GLY   \n",
       "699    80    84      anti      947      anti_PHE_ALA_PHE_PHE   PHE   ALA   \n",
       "700    -1    -1       all       -1                         x   NaN   NaN   \n",
       "\n",
       "    atom3 atom4  interaction_type       gamma  gamma_cutoff100  gamma_cutoff  \n",
       "0     GLY   LEU  parallel_107_109    -2.16218        -0.788643     -0.788643  \n",
       "1     TYR   SER  parallel_322_395  -160.33193        -1.075308     -1.075308  \n",
       "2     ILE   MET       anti_85_150    -8.37383        -1.026892     -1.026892  \n",
       "3     THR   ASN       anti_70_331  -203.13935        -1.145494     -1.145494  \n",
       "4     LEU   LEU    parallel_9_189    -1.22163        -0.396211     -0.396211  \n",
       "..    ...   ...               ...         ...              ...           ...  \n",
       "696   GLY   GLY    parallel_0_105   -19.11771        -8.416487     -8.416487  \n",
       "697   TRP   TRP      anti_292_378 -1942.56614        -9.171390     -9.171390  \n",
       "698   GLY   GLY  parallel_105_105   -55.09020       -11.075072    -11.075072  \n",
       "699   PHE   PHE        anti_80_84   -21.46817       -10.721774    -10.721774  \n",
       "700   NaN   NaN               NaN    -1.25702        -1.406692     -1.406692  \n",
       "\n",
       "[701 rows x 13 columns]"
      ]
     },
     "execution_count": 82,
     "metadata": {},
     "output_type": "execute_result"
    }
   ],
   "source": [
    "data"
   ]
  },
  {
   "cell_type": "code",
   "execution_count": 77,
   "metadata": {},
   "outputs": [
    {
     "data": {
      "text/html": [
       "<div>\n",
       "<style scoped>\n",
       "    .dataframe tbody tr th:only-of-type {\n",
       "        vertical-align: middle;\n",
       "    }\n",
       "\n",
       "    .dataframe tbody tr th {\n",
       "        vertical-align: top;\n",
       "    }\n",
       "\n",
       "    .dataframe thead th {\n",
       "        text-align: right;\n",
       "    }\n",
       "</style>\n",
       "<table border=\"1\" class=\"dataframe\">\n",
       "  <thead>\n",
       "    <tr style=\"text-align: right;\">\n",
       "      <th></th>\n",
       "      <th>Res1</th>\n",
       "      <th>Res2</th>\n",
       "      <th>Direction</th>\n",
       "      <th>Protein</th>\n",
       "      <th>interaction_index</th>\n",
       "      <th>atom1</th>\n",
       "      <th>atom2</th>\n",
       "      <th>atom3</th>\n",
       "      <th>atom4</th>\n",
       "      <th>gamma_cutoff</th>\n",
       "    </tr>\n",
       "  </thead>\n",
       "  <tbody>\n",
       "    <tr>\n",
       "      <td>698</td>\n",
       "      <td>105</td>\n",
       "      <td>105</td>\n",
       "      <td>parallel</td>\n",
       "      <td>895</td>\n",
       "      <td>parallel_GLY_GLY_GLY_GLY</td>\n",
       "      <td>GLY</td>\n",
       "      <td>GLY</td>\n",
       "      <td>GLY</td>\n",
       "      <td>GLY</td>\n",
       "      <td>-11.075072</td>\n",
       "    </tr>\n",
       "    <tr>\n",
       "      <td>699</td>\n",
       "      <td>80</td>\n",
       "      <td>84</td>\n",
       "      <td>anti</td>\n",
       "      <td>947</td>\n",
       "      <td>anti_PHE_ALA_PHE_PHE</td>\n",
       "      <td>PHE</td>\n",
       "      <td>ALA</td>\n",
       "      <td>PHE</td>\n",
       "      <td>PHE</td>\n",
       "      <td>-10.721774</td>\n",
       "    </tr>\n",
       "    <tr>\n",
       "      <td>697</td>\n",
       "      <td>292</td>\n",
       "      <td>378</td>\n",
       "      <td>anti</td>\n",
       "      <td>771</td>\n",
       "      <td>anti_ARG_PRO_TRP_TRP</td>\n",
       "      <td>ARG</td>\n",
       "      <td>PRO</td>\n",
       "      <td>TRP</td>\n",
       "      <td>TRP</td>\n",
       "      <td>-9.171390</td>\n",
       "    </tr>\n",
       "    <tr>\n",
       "      <td>696</td>\n",
       "      <td>0</td>\n",
       "      <td>105</td>\n",
       "      <td>parallel</td>\n",
       "      <td>740</td>\n",
       "      <td>parallel_ALA_ALA_GLY_GLY</td>\n",
       "      <td>ALA</td>\n",
       "      <td>ALA</td>\n",
       "      <td>GLY</td>\n",
       "      <td>GLY</td>\n",
       "      <td>-8.416487</td>\n",
       "    </tr>\n",
       "    <tr>\n",
       "      <td>695</td>\n",
       "      <td>325</td>\n",
       "      <td>325</td>\n",
       "      <td>parallel</td>\n",
       "      <td>701</td>\n",
       "      <td>parallel_THR_GLY_THR_GLY</td>\n",
       "      <td>THR</td>\n",
       "      <td>GLY</td>\n",
       "      <td>THR</td>\n",
       "      <td>GLY</td>\n",
       "      <td>-8.267817</td>\n",
       "    </tr>\n",
       "    <tr>\n",
       "      <td>694</td>\n",
       "      <td>145</td>\n",
       "      <td>145</td>\n",
       "      <td>parallel</td>\n",
       "      <td>660</td>\n",
       "      <td>parallel_ILE_GLY_ILE_GLY</td>\n",
       "      <td>ILE</td>\n",
       "      <td>GLY</td>\n",
       "      <td>ILE</td>\n",
       "      <td>GLY</td>\n",
       "      <td>-7.732979</td>\n",
       "    </tr>\n",
       "    <tr>\n",
       "      <td>693</td>\n",
       "      <td>0</td>\n",
       "      <td>0</td>\n",
       "      <td>parallel</td>\n",
       "      <td>645</td>\n",
       "      <td>parallel_ALA_ALA_ALA_ALA</td>\n",
       "      <td>ALA</td>\n",
       "      <td>ALA</td>\n",
       "      <td>ALA</td>\n",
       "      <td>ALA</td>\n",
       "      <td>-7.183046</td>\n",
       "    </tr>\n",
       "    <tr>\n",
       "      <td>684</td>\n",
       "      <td>220</td>\n",
       "      <td>387</td>\n",
       "      <td>anti</td>\n",
       "      <td>564</td>\n",
       "      <td>anti_ASN_ALA_TYR_ILE</td>\n",
       "      <td>ASN</td>\n",
       "      <td>ALA</td>\n",
       "      <td>TYR</td>\n",
       "      <td>ILE</td>\n",
       "      <td>-6.639020</td>\n",
       "    </tr>\n",
       "    <tr>\n",
       "      <td>689</td>\n",
       "      <td>9</td>\n",
       "      <td>10</td>\n",
       "      <td>anti</td>\n",
       "      <td>580</td>\n",
       "      <td>anti_ALA_LEU_ALA_MET</td>\n",
       "      <td>ALA</td>\n",
       "      <td>LEU</td>\n",
       "      <td>ALA</td>\n",
       "      <td>MET</td>\n",
       "      <td>-6.559594</td>\n",
       "    </tr>\n",
       "    <tr>\n",
       "      <td>682</td>\n",
       "      <td>105</td>\n",
       "      <td>110</td>\n",
       "      <td>parallel</td>\n",
       "      <td>561</td>\n",
       "      <td>parallel_GLY_GLY_GLY_MET</td>\n",
       "      <td>GLY</td>\n",
       "      <td>GLY</td>\n",
       "      <td>GLY</td>\n",
       "      <td>MET</td>\n",
       "      <td>-6.536741</td>\n",
       "    </tr>\n",
       "    <tr>\n",
       "      <td>691</td>\n",
       "      <td>89</td>\n",
       "      <td>184</td>\n",
       "      <td>parallel</td>\n",
       "      <td>594</td>\n",
       "      <td>parallel_PHE_LEU_LEU_PHE</td>\n",
       "      <td>PHE</td>\n",
       "      <td>LEU</td>\n",
       "      <td>LEU</td>\n",
       "      <td>PHE</td>\n",
       "      <td>-6.469783</td>\n",
       "    </tr>\n",
       "    <tr>\n",
       "      <td>685</td>\n",
       "      <td>17</td>\n",
       "      <td>155</td>\n",
       "      <td>anti</td>\n",
       "      <td>564</td>\n",
       "      <td>anti_ALA_VAL_ILE_SER</td>\n",
       "      <td>ALA</td>\n",
       "      <td>VAL</td>\n",
       "      <td>ILE</td>\n",
       "      <td>SER</td>\n",
       "      <td>-6.394898</td>\n",
       "    </tr>\n",
       "    <tr>\n",
       "      <td>687</td>\n",
       "      <td>140</td>\n",
       "      <td>196</td>\n",
       "      <td>anti</td>\n",
       "      <td>573</td>\n",
       "      <td>anti_ILE_ALA_LEU_THR</td>\n",
       "      <td>ILE</td>\n",
       "      <td>ALA</td>\n",
       "      <td>LEU</td>\n",
       "      <td>THR</td>\n",
       "      <td>-6.314620</td>\n",
       "    </tr>\n",
       "    <tr>\n",
       "      <td>688</td>\n",
       "      <td>9</td>\n",
       "      <td>317</td>\n",
       "      <td>anti</td>\n",
       "      <td>576</td>\n",
       "      <td>anti_ALA_LEU_SER_VAL</td>\n",
       "      <td>ALA</td>\n",
       "      <td>LEU</td>\n",
       "      <td>SER</td>\n",
       "      <td>VAL</td>\n",
       "      <td>-6.314243</td>\n",
       "    </tr>\n",
       "    <tr>\n",
       "      <td>686</td>\n",
       "      <td>100</td>\n",
       "      <td>347</td>\n",
       "      <td>anti</td>\n",
       "      <td>567</td>\n",
       "      <td>anti_GLY_ALA_VAL_ILE</td>\n",
       "      <td>GLY</td>\n",
       "      <td>ALA</td>\n",
       "      <td>VAL</td>\n",
       "      <td>ILE</td>\n",
       "      <td>-6.114135</td>\n",
       "    </tr>\n",
       "    <tr>\n",
       "      <td>668</td>\n",
       "      <td>91</td>\n",
       "      <td>204</td>\n",
       "      <td>anti</td>\n",
       "      <td>514</td>\n",
       "      <td>anti_PHE_ASN_MET_PHE</td>\n",
       "      <td>PHE</td>\n",
       "      <td>ASN</td>\n",
       "      <td>MET</td>\n",
       "      <td>PHE</td>\n",
       "      <td>-6.109673</td>\n",
       "    </tr>\n",
       "    <tr>\n",
       "      <td>690</td>\n",
       "      <td>89</td>\n",
       "      <td>196</td>\n",
       "      <td>anti</td>\n",
       "      <td>583</td>\n",
       "      <td>anti_PHE_LEU_LEU_THR</td>\n",
       "      <td>PHE</td>\n",
       "      <td>LEU</td>\n",
       "      <td>LEU</td>\n",
       "      <td>THR</td>\n",
       "      <td>-6.093564</td>\n",
       "    </tr>\n",
       "    <tr>\n",
       "      <td>680</td>\n",
       "      <td>16</td>\n",
       "      <td>349</td>\n",
       "      <td>anti</td>\n",
       "      <td>557</td>\n",
       "      <td>anti_ALA_THR_VAL_LEU</td>\n",
       "      <td>ALA</td>\n",
       "      <td>THR</td>\n",
       "      <td>VAL</td>\n",
       "      <td>LEU</td>\n",
       "      <td>-6.072278</td>\n",
       "    </tr>\n",
       "    <tr>\n",
       "      <td>669</td>\n",
       "      <td>304</td>\n",
       "      <td>343</td>\n",
       "      <td>anti</td>\n",
       "      <td>515</td>\n",
       "      <td>anti_SER_PHE_VAL_GLU</td>\n",
       "      <td>SER</td>\n",
       "      <td>PHE</td>\n",
       "      <td>VAL</td>\n",
       "      <td>GLU</td>\n",
       "      <td>-6.070738</td>\n",
       "    </tr>\n",
       "    <tr>\n",
       "      <td>671</td>\n",
       "      <td>335</td>\n",
       "      <td>357</td>\n",
       "      <td>parallel</td>\n",
       "      <td>518</td>\n",
       "      <td>parallel_THR_SER_VAL_VAL</td>\n",
       "      <td>THR</td>\n",
       "      <td>SER</td>\n",
       "      <td>VAL</td>\n",
       "      <td>VAL</td>\n",
       "      <td>-6.057731</td>\n",
       "    </tr>\n",
       "  </tbody>\n",
       "</table>\n",
       "</div>"
      ],
      "text/plain": [
       "     Res1  Res2 Direction  Protein         interaction_index atom1 atom2  \\\n",
       "698   105   105  parallel      895  parallel_GLY_GLY_GLY_GLY   GLY   GLY   \n",
       "699    80    84      anti      947      anti_PHE_ALA_PHE_PHE   PHE   ALA   \n",
       "697   292   378      anti      771      anti_ARG_PRO_TRP_TRP   ARG   PRO   \n",
       "696     0   105  parallel      740  parallel_ALA_ALA_GLY_GLY   ALA   ALA   \n",
       "695   325   325  parallel      701  parallel_THR_GLY_THR_GLY   THR   GLY   \n",
       "694   145   145  parallel      660  parallel_ILE_GLY_ILE_GLY   ILE   GLY   \n",
       "693     0     0  parallel      645  parallel_ALA_ALA_ALA_ALA   ALA   ALA   \n",
       "684   220   387      anti      564      anti_ASN_ALA_TYR_ILE   ASN   ALA   \n",
       "689     9    10      anti      580      anti_ALA_LEU_ALA_MET   ALA   LEU   \n",
       "682   105   110  parallel      561  parallel_GLY_GLY_GLY_MET   GLY   GLY   \n",
       "691    89   184  parallel      594  parallel_PHE_LEU_LEU_PHE   PHE   LEU   \n",
       "685    17   155      anti      564      anti_ALA_VAL_ILE_SER   ALA   VAL   \n",
       "687   140   196      anti      573      anti_ILE_ALA_LEU_THR   ILE   ALA   \n",
       "688     9   317      anti      576      anti_ALA_LEU_SER_VAL   ALA   LEU   \n",
       "686   100   347      anti      567      anti_GLY_ALA_VAL_ILE   GLY   ALA   \n",
       "668    91   204      anti      514      anti_PHE_ASN_MET_PHE   PHE   ASN   \n",
       "690    89   196      anti      583      anti_PHE_LEU_LEU_THR   PHE   LEU   \n",
       "680    16   349      anti      557      anti_ALA_THR_VAL_LEU   ALA   THR   \n",
       "669   304   343      anti      515      anti_SER_PHE_VAL_GLU   SER   PHE   \n",
       "671   335   357  parallel      518  parallel_THR_SER_VAL_VAL   THR   SER   \n",
       "\n",
       "    atom3 atom4  gamma_cutoff  \n",
       "698   GLY   GLY    -11.075072  \n",
       "699   PHE   PHE    -10.721774  \n",
       "697   TRP   TRP     -9.171390  \n",
       "696   GLY   GLY     -8.416487  \n",
       "695   THR   GLY     -8.267817  \n",
       "694   ILE   GLY     -7.732979  \n",
       "693   ALA   ALA     -7.183046  \n",
       "684   TYR   ILE     -6.639020  \n",
       "689   ALA   MET     -6.559594  \n",
       "682   GLY   MET     -6.536741  \n",
       "691   LEU   PHE     -6.469783  \n",
       "685   ILE   SER     -6.394898  \n",
       "687   LEU   THR     -6.314620  \n",
       "688   SER   VAL     -6.314243  \n",
       "686   VAL   ILE     -6.114135  \n",
       "668   MET   PHE     -6.109673  \n",
       "690   LEU   THR     -6.093564  \n",
       "680   VAL   LEU     -6.072278  \n",
       "669   VAL   GLU     -6.070738  \n",
       "671   VAL   VAL     -6.057731  "
      ]
     },
     "execution_count": 77,
     "metadata": {},
     "output_type": "execute_result"
    }
   ],
   "source": [
    "t[[\"Res1\", \"Res2\", \"Direction\", \"Protein\", \"interaction_index\", \"atom1\", \"atom2\", \"atom3\", \"atom4\", \"gamma_cutoff\"]]"
   ]
  },
  {
   "cell_type": "markdown",
   "metadata": {},
   "source": [
    "## set a cutoff, regularization."
   ]
  },
  {
   "cell_type": "code",
   "execution_count": 56,
   "metadata": {
    "collapsed": true
   },
   "outputs": [],
   "source": [
    "def get_filtered_gamma(pre, cutoff, pp):\n",
    "    # pp = \"cath-dataset-nonredundant-S20Clean_phi_pairwise_contact_well4.5_6.5_5.0_10phi_density_mediated_contact_well6.5_9.5_5.0_10_2.6_7.0\"\n",
    "    # pp = \"proteins_name_list_phi_pairwise_contact_well4.5_6.5_5.0_10phi_density_mediated_contact_well6.5_9.5_5.0_10_2.6_7.0phi_burial_well4.0\"\n",
    "\n",
    "    A_name = pp + \"_A\"\n",
    "    B_name = pp + \"_B\"\n",
    "    B_filtered_name = pp + \"_B_filtered\"\n",
    "    P_name = pp + \"_P\"\n",
    "    Gamma_name = pp + \"_gamma\"\n",
    "    Gamma_filtered_name = pp + \"_gamma_filtered\"\n",
    "    Lamb_name = pp + \"_lamb\"\n",
    "    Lamb_filtered_name = pp + \"_lamb_filtered\"\n",
    "\n",
    "    A = np.loadtxt(pre+A_name)\n",
    "    B = np.loadtxt(pre+B_name)\n",
    "    B_filtered = np.loadtxt(pre+B_filtered_name, dtype=complex, converters={\n",
    "                               0: lambda s: complex(s.decode().replace('+-', '-'))})\n",
    "    Gamma = np.loadtxt(pre+Gamma_name)\n",
    "    Gamma_filtered = np.loadtxt(pre+Gamma_filtered_name, dtype=complex, converters={\n",
    "                               0: lambda s: complex(s.decode().replace('+-', '-'))})\n",
    "    Lamb = np.loadtxt(pre+Lamb_name, dtype=complex, converters={\n",
    "                               0: lambda s: complex(s.decode().replace('+-', '-'))})\n",
    "    Lamb_filtered = np.loadtxt(pre+Lamb_filtered_name, dtype=complex, converters={\n",
    "                               0: lambda s: complex(s.decode().replace('+-', '-'))})\n",
    "\n",
    "    half_B_name = pp + \"_half_B\"\n",
    "    half_B = np.loadtxt(pre+half_B_name)\n",
    "    other_half_B_name = pp + \"_other_half_B\"\n",
    "    other_half_B = np.loadtxt(pre+other_half_B_name)\n",
    "    std_half_B_name = pp + \"_std_half_B\"\n",
    "    std_half_B = np.loadtxt(pre+std_half_B_name)\n",
    "\n",
    "\n",
    "    # pre = \"/Users/weilu/Research/server/april_2019/\"\n",
    "    location = pre + f\"../../phis/{pp}_phi_decoy_summary.txt\"\n",
    "    A_prime = np.loadtxt(location)\n",
    "\n",
    "    lamb, P = np.linalg.eig(B)\n",
    "    lamb, P = sort_eigenvalues_and_eigenvectors(lamb, P)\n",
    "    filtered_lamb = np.copy(lamb)\n",
    "    cutoff_mode = cutoff\n",
    "    filtered_B_inv, filtered_lamb, P = get_filtered_B_inv_lambda_and_P(filtered_lamb,\n",
    "                                                                       cutoff_mode, P)\n",
    "    filtered_gamma = np.dot(filtered_B_inv, A)\n",
    "    filtered_B = np.linalg.inv(filtered_B_inv)\n",
    "\n",
    "    return A, A_prime, filtered_gamma, filtered_B_inv"
   ]
  },
  {
   "cell_type": "code",
   "execution_count": 69,
   "metadata": {
    "collapsed": true
   },
   "outputs": [],
   "source": [
    "pre = \"/Users/weilu/Research/server/jul_week1_2020/head700_gxxxg_shuffle_optimization/optimization_decoyN2000/gammas/\"\n",
    "pp = \"filtered_protein_list_phi_gxxxg_v3_well701\"\n",
    "cutoff_i = 100\n",
    "A, A_prime, filtered_gamma, filtered_B_inv = get_filtered_gamma(pre, cutoff_i, pp)\n",
    "# c = np.dot(A_prime, original_gamma_deybe)\n",
    "c = -200\n",
    "# if args.constant == 0.0:\n",
    "#     c = np.dot(A_prime, original_gamma)\n",
    "# else:\n",
    "#     c = args.constant\n",
    "# print(\"A' gamma = constant:\", c)\n",
    "# do(f\"echo 'c {c}\\n' >> constant_log\")\n",
    "B_inv = filtered_B_inv\n",
    "lambda_2 = (A_prime.dot(B_inv).dot(A) - c) / (A_prime.dot(B_inv).dot(A_prime))\n",
    "gamma_new = B_inv.dot(A-A_prime*lambda_2)\n"
   ]
  },
  {
   "cell_type": "code",
   "execution_count": 61,
   "metadata": {
    "collapsed": true
   },
   "outputs": [],
   "source": [
    "g_list = []\n",
    "for cutoff in [100, 200, 300, 400, 500, 600, 700]:\n",
    "    g = np.loadtxt(f\"/Users/weilu/Research/server/jul_week1_2020/head700_gxxxg_shuffle_optimization/optimization_decoyN2000/saved_gammas/filtered_protein_list_cutoff{cutoff}_impose_Aprime_constraint\")\n",
    "    g_list.append(g)"
   ]
  },
  {
   "cell_type": "code",
   "execution_count": 79,
   "metadata": {
    "collapsed": true
   },
   "outputs": [],
   "source": [
    "plt.rcParams['figure.figsize'] = 0.5*np.array([10,6.180])    #golden ratio"
   ]
  },
  {
   "cell_type": "code",
   "execution_count": 168,
   "metadata": {},
   "outputs": [
    {
     "data": {
      "text/plain": [
       "[<matplotlib.lines.Line2D at 0x12f0af748>]"
      ]
     },
     "execution_count": 168,
     "metadata": {},
     "output_type": "execute_result"
    },
    {
     "data": {
      "image/png": "[encoded data removed]",
      "text/plain": [
       "<Figure size 360x222.48 with 1 Axes>"
      ]
     },
     "metadata": {},
     "output_type": "display_data"
    }
   ],
   "source": [
    "plt.plot(gamma_new)"
   ]
  },
  {
   "cell_type": "code",
   "execution_count": 169,
   "metadata": {
    "collapsed": true
   },
   "outputs": [],
   "source": [
    "np.savetxt(\"/Users/weilu/Research/server/jul_week1_2020/membrane_protein_structure_prediction/gxxxg_701.dat\", -gamma_new, fmt=\"%.3f\")"
   ]
  },
  {
   "cell_type": "code",
   "execution_count": null,
   "metadata": {
    "collapsed": true
   },
   "outputs": [],
   "source": [
    "np.(\"/Users/weilu/Research/server/jul_week1_2020/membrane_protein_structure_prediction/gxxxg_701.dat\", -gamma_new, fmt=\"%.3f\")"
   ]
  },
  {
   "cell_type": "code",
   "execution_count": 80,
   "metadata": {},
   "outputs": [
    {
     "data": {
      "text/plain": [
       "[<matplotlib.lines.Line2D at 0x12e580860>]"
      ]
     },
     "execution_count": 80,
     "metadata": {},
     "output_type": "execute_result"
    },
    {
     "data": {
      "image/png": "[encoded data removed]",
      "text/plain": [
       "<Figure size 360x222.48 with 1 Axes>"
      ]
     },
     "metadata": {},
     "output_type": "display_data"
    }
   ],
   "source": [
    "plt.plot(gamma_new)"
   ]
  },
  {
   "cell_type": "code",
   "execution_count": 68,
   "metadata": {},
   "outputs": [
    {
     "data": {
      "image/png": "[encoded data removed]",
      "text/plain": [
       "<Figure size 720x444.96 with 1 Axes>"
      ]
     },
     "metadata": {},
     "output_type": "display_data"
    }
   ],
   "source": [
    "for i, cutoff in enumerate([100]):\n",
    "    plt.plot(g_list[i])"
   ]
  },
  {
   "cell_type": "code",
   "execution_count": 62,
   "metadata": {},
   "outputs": [
    {
     "data": {
      "image/png": "[encoded data removed]",
      "text/plain": [
       "<Figure size 720x444.96 with 1 Axes>"
      ]
     },
     "metadata": {},
     "output_type": "display_data"
    }
   ],
   "source": [
    "for i, cutoff in enumerate([100, 200, 300, 400, 500, 600, 700]):\n",
    "    plt.plot(g_list[i])"
   ]
  },
  {
   "cell_type": "code",
   "execution_count": 60,
   "metadata": {},
   "outputs": [
    {
     "data": {
      "text/plain": [
       "[<matplotlib.lines.Line2D at 0x12eb2ca58>]"
      ]
     },
     "execution_count": 60,
     "metadata": {},
     "output_type": "execute_result"
    },
    {
     "data": {
      "image/png": "[encoded data removed]",
      "text/plain": [
       "<Figure size 720x444.96 with 1 Axes>"
      ]
     },
     "metadata": {},
     "output_type": "display_data"
    }
   ],
   "source": [
    "plt.plot(gamma_new)"
   ]
  },
  {
   "cell_type": "code",
   "execution_count": 58,
   "metadata": {},
   "outputs": [
    {
     "data": {
      "text/plain": [
       "[<matplotlib.lines.Line2D at 0x12b4d8278>]"
      ]
     },
     "execution_count": 58,
     "metadata": {},
     "output_type": "execute_result"
    },
    {
     "data": {
      "image/png": "[encoded data removed]",
      "text/plain": [
       "<Figure size 720x444.96 with 1 Axes>"
      ]
     },
     "metadata": {},
     "output_type": "display_data"
    }
   ],
   "source": [
    "plt.plot(gamma_new)"
   ]
  },
  {
   "cell_type": "code",
   "execution_count": 13,
   "metadata": {},
   "outputs": [
    {
     "data": {
      "text/html": [
       "<div>\n",
       "<style scoped>\n",
       "    .dataframe tbody tr th:only-of-type {\n",
       "        vertical-align: middle;\n",
       "    }\n",
       "\n",
       "    .dataframe tbody tr th {\n",
       "        vertical-align: top;\n",
       "    }\n",
       "\n",
       "    .dataframe thead th {\n",
       "        text-align: right;\n",
       "    }\n",
       "</style>\n",
       "<table border=\"1\" class=\"dataframe\">\n",
       "  <thead>\n",
       "    <tr style=\"text-align: right;\">\n",
       "      <th></th>\n",
       "      <th>Res1</th>\n",
       "      <th>Res2</th>\n",
       "      <th>Direction</th>\n",
       "      <th>Protein</th>\n",
       "      <th>interaction_index</th>\n",
       "    </tr>\n",
       "  </thead>\n",
       "  <tbody>\n",
       "    <tr>\n",
       "      <td>0</td>\n",
       "      <td>107</td>\n",
       "      <td>109</td>\n",
       "      <td>parallel</td>\n",
       "      <td>97</td>\n",
       "      <td>parallel_107_109</td>\n",
       "    </tr>\n",
       "    <tr>\n",
       "      <td>1</td>\n",
       "      <td>322</td>\n",
       "      <td>395</td>\n",
       "      <td>parallel</td>\n",
       "      <td>97</td>\n",
       "      <td>parallel_322_395</td>\n",
       "    </tr>\n",
       "    <tr>\n",
       "      <td>2</td>\n",
       "      <td>85</td>\n",
       "      <td>150</td>\n",
       "      <td>anti</td>\n",
       "      <td>97</td>\n",
       "      <td>anti_85_150</td>\n",
       "    </tr>\n",
       "    <tr>\n",
       "      <td>3</td>\n",
       "      <td>70</td>\n",
       "      <td>331</td>\n",
       "      <td>anti</td>\n",
       "      <td>97</td>\n",
       "      <td>anti_70_331</td>\n",
       "    </tr>\n",
       "    <tr>\n",
       "      <td>4</td>\n",
       "      <td>9</td>\n",
       "      <td>189</td>\n",
       "      <td>parallel</td>\n",
       "      <td>97</td>\n",
       "      <td>parallel_9_189</td>\n",
       "    </tr>\n",
       "    <tr>\n",
       "      <td>...</td>\n",
       "      <td>...</td>\n",
       "      <td>...</td>\n",
       "      <td>...</td>\n",
       "      <td>...</td>\n",
       "      <td>...</td>\n",
       "    </tr>\n",
       "    <tr>\n",
       "      <td>695</td>\n",
       "      <td>325</td>\n",
       "      <td>325</td>\n",
       "      <td>parallel</td>\n",
       "      <td>701</td>\n",
       "      <td>parallel_325_325</td>\n",
       "    </tr>\n",
       "    <tr>\n",
       "      <td>696</td>\n",
       "      <td>0</td>\n",
       "      <td>105</td>\n",
       "      <td>parallel</td>\n",
       "      <td>740</td>\n",
       "      <td>parallel_0_105</td>\n",
       "    </tr>\n",
       "    <tr>\n",
       "      <td>697</td>\n",
       "      <td>292</td>\n",
       "      <td>378</td>\n",
       "      <td>anti</td>\n",
       "      <td>771</td>\n",
       "      <td>anti_292_378</td>\n",
       "    </tr>\n",
       "    <tr>\n",
       "      <td>698</td>\n",
       "      <td>105</td>\n",
       "      <td>105</td>\n",
       "      <td>parallel</td>\n",
       "      <td>895</td>\n",
       "      <td>parallel_105_105</td>\n",
       "    </tr>\n",
       "    <tr>\n",
       "      <td>699</td>\n",
       "      <td>80</td>\n",
       "      <td>84</td>\n",
       "      <td>anti</td>\n",
       "      <td>947</td>\n",
       "      <td>anti_80_84</td>\n",
       "    </tr>\n",
       "  </tbody>\n",
       "</table>\n",
       "<p>700 rows × 5 columns</p>\n",
       "</div>"
      ],
      "text/plain": [
       "     Res1  Res2 Direction  Protein interaction_index\n",
       "0     107   109  parallel       97  parallel_107_109\n",
       "1     322   395  parallel       97  parallel_322_395\n",
       "2      85   150      anti       97       anti_85_150\n",
       "3      70   331      anti       97       anti_70_331\n",
       "4       9   189  parallel       97    parallel_9_189\n",
       "..    ...   ...       ...      ...               ...\n",
       "695   325   325  parallel      701  parallel_325_325\n",
       "696     0   105  parallel      740    parallel_0_105\n",
       "697   292   378      anti      771      anti_292_378\n",
       "698   105   105  parallel      895  parallel_105_105\n",
       "699    80    84      anti      947        anti_80_84\n",
       "\n",
       "[700 rows x 5 columns]"
      ]
     },
     "execution_count": 13,
     "metadata": {},
     "output_type": "execute_result"
    }
   ],
   "source": [
    "b_cutoff_unique"
   ]
  },
  {
   "cell_type": "code",
   "execution_count": 2,
   "metadata": {
    "collapsed": true
   },
   "outputs": [],
   "source": [
    "gamma = np.loadtxt(\"/Users/weilu/Research/server/jul_week1_2020/head700_gxxxg_shuffle_optimization/optimization_decoyN2000/gammas/top_1600_phi_gxxxg_v3_well701_gamma\")"
   ]
  },
  {
   "cell_type": "code",
   "execution_count": 4,
   "metadata": {
    "collapsed": true
   },
   "outputs": [],
   "source": [
    "last = np.loadtxt(\"/Users/weilu/Research/server/jul_week1_2020/head700_gxxxg_shuffle_optimization/optimization_decoyN2000/gammas/last_1600_phi_gxxxg_v3_well701_gamma\")"
   ]
  },
  {
   "cell_type": "code",
   "execution_count": 6,
   "metadata": {
    "collapsed": true
   },
   "outputs": [],
   "source": [
    "complete = np.loadtxt(\"/Users/weilu/Research/server/jul_week1_2020/head700_gxxxg_shuffle_optimization/optimization_decoyN2000/gammas/filtered_protein_list_phi_gxxxg_v3_well701_gamma\")"
   ]
  },
  {
   "cell_type": "code",
   "execution_count": 9,
   "metadata": {
    "collapsed": true
   },
   "outputs": [],
   "source": [
    "compare = np.loadtxt(\"/Users/weilu/Research/server/jul_week1_2020/decoyN2000_gxxxg_shuffle_optimization/backup/gammas/first_1500_phi_gxxxg_well701_gamma\")"
   ]
  },
  {
   "cell_type": "markdown",
   "metadata": {},
   "source": [
    "## obviously, this is over trained, need regularization."
   ]
  },
  {
   "cell_type": "code",
   "execution_count": 8,
   "metadata": {},
   "outputs": [
    {
     "data": {
      "text/plain": [
       "[<matplotlib.lines.Line2D at 0x12b9d1e48>]"
      ]
     },
     "execution_count": 8,
     "metadata": {},
     "output_type": "execute_result"
    },
    {
     "data": {
      "image/png": "[encoded data removed]",
      "text/plain": [
       "<Figure size 720x444.96 with 1 Axes>"
      ]
     },
     "metadata": {},
     "output_type": "display_data"
    }
   ],
   "source": [
    "plt.plot(gamma)\n",
    "plt.plot(last)\n",
    "plt.plot(complete)"
   ]
  },
  {
   "cell_type": "code",
   "execution_count": 3,
   "metadata": {},
   "outputs": [
    {
     "data": {
      "text/plain": [
       "[<matplotlib.lines.Line2D at 0x12b549160>]"
      ]
     },
     "execution_count": 3,
     "metadata": {},
     "output_type": "execute_result"
    },
    {
     "data": {
      "image/png": "[encoded data removed]",
      "text/plain": [
       "<Figure size 720x444.96 with 1 Axes>"
      ]
     },
     "metadata": {},
     "output_type": "display_data"
    }
   ],
   "source": []
  },
  {
   "cell_type": "markdown",
   "metadata": {},
   "source": [
    "## using Nick's definition, 126 parameters."
   ]
  },
  {
   "cell_type": "code",
   "execution_count": null,
   "metadata": {
    "collapsed": true
   },
   "outputs": [],
   "source": [
    "fileLocation = \"/Users/weilu/Research/server/jul_week1_2020/decoyN2000_gxxxg_shuffle_optimization/optimization_decoyN2000/gammas/filtered_protein_list_phi_gxxxg_v2_well126_gamma\"\n",
    "gamma = np.loadtxt(fileLocation)\n",
    "fileLocation = \"/Users/weilu/Research/server/jul_week1_2020/gxxxg_shuffle_optimization/optimization_test_2/gammas/first_1600_phi_gxxxg_v2_well126_gamma\"\n",
    "gamma2 = np.loadtxt(fileLocation)\n",
    "\n"
   ]
  },
  {
   "cell_type": "code",
   "execution_count": 23,
   "metadata": {
    "collapsed": true
   },
   "outputs": [],
   "source": [
    "pre = \"/Users/weilu/Research/server/jul_week1_2020/decoyN2000_gxxxg_shuffle_optimization/optimization_decoyN2000/gammas/\"\n",
    "pp = \"filtered_protein_list_phi_gxxxg_v2_well126\"\n",
    "cutoff_i = 110\n",
    "A, A_prime, filtered_gamma, filtered_B_inv = get_filtered_gamma(pre, cutoff_i, pp)\n",
    "\n",
    "c = -50\n",
    "\n",
    "B_inv = filtered_B_inv\n",
    "lambda_2 = (A_prime.dot(B_inv).dot(A) - c) / (A_prime.dot(B_inv).dot(A_prime))\n",
    "gamma_new = B_inv.dot(A-A_prime*lambda_2)"
   ]
  },
  {
   "cell_type": "code",
   "execution_count": 24,
   "metadata": {},
   "outputs": [
    {
     "data": {
      "text/plain": [
       "-50.000000000000156"
      ]
     },
     "execution_count": 24,
     "metadata": {},
     "output_type": "execute_result"
    }
   ],
   "source": [
    "np.dot(gamma_new, A_prime)"
   ]
  },
  {
   "cell_type": "code",
   "execution_count": 20,
   "metadata": {
    "collapsed": true
   },
   "outputs": [],
   "source": [
    "g_compare = np.loadtxt(\"/Users/weilu/Research/server/jul_week1_2020/membrane_protein_structure_prediction/gxxxg.dat\")"
   ]
  },
  {
   "cell_type": "code",
   "execution_count": 25,
   "metadata": {
    "collapsed": true
   },
   "outputs": [],
   "source": [
    "np.savetxt(\"/Users/weilu/Research/server/jul_week1_2020/membrane_protein_structure_prediction/gxxxg_2.dat\", -gamma_new, fmt=\"%.3f\")"
   ]
  },
  {
   "cell_type": "code",
   "execution_count": 8,
   "metadata": {},
   "outputs": [
    {
     "data": {
      "text/plain": [
       "[<matplotlib.lines.Line2D at 0x107d521d0>]"
      ]
     },
     "execution_count": 8,
     "metadata": {},
     "output_type": "execute_result"
    },
    {
     "data": {
      "image/png": "[encoded data removed]",
      "text/plain": [
       "<Figure size 720x444.96 with 1 Axes>"
      ]
     },
     "metadata": {},
     "output_type": "display_data"
    }
   ],
   "source": [
    "plt.plot(gamma_new)"
   ]
  },
  {
   "cell_type": "code",
   "execution_count": null,
   "metadata": {
    "collapsed": true
   },
   "outputs": [],
   "source": [
    "g_compare = np.loadtxt(\"/Users/weilu/Research/server/jul_week1_2020/membrane_protein_structure_prediction/gxxxg.dat\")"
   ]
  },
  {
   "cell_type": "code",
   "execution_count": null,
   "metadata": {
    "collapsed": true
   },
   "outputs": [],
   "source": []
  },
  {
   "cell_type": "code",
   "execution_count": 13,
   "metadata": {},
   "outputs": [
    {
     "data": {
      "text/plain": [
       "0.4539776561573122"
      ]
     },
     "execution_count": 13,
     "metadata": {},
     "output_type": "execute_result"
    }
   ],
   "source": [
    "gamma_new.max()"
   ]
  },
  {
   "cell_type": "code",
   "execution_count": 16,
   "metadata": {
    "collapsed": true
   },
   "outputs": [],
   "source": [
    "def plot_list(list_to_plot, text_labels=None, fontsize=20, labelsize=12, aspect=1, labelrotation='horizontal'):\n",
    "\tx = list(range(len(list_to_plot)))\n",
    "\ty = np.array(list_to_plot)\n",
    "\tf = plt.figure()\n",
    "\tax = f.add_subplot(111, aspect=aspect)\n",
    "\tax.tick_params(labelsize=labelsize)\n",
    "\tplt.plot(x, y)\n",
    "    \n",
    "\tif not text_labels == None:\n",
    "\t\t# #set the bbox for the text. Increase txt_width for wider text.\n",
    "\t\t# txt_height = 0.04*(plt.ylim()[1] - plt.ylim()[0])\n",
    "\t\t# txt_width = 0.02*(plt.xlim()[1] - plt.xlim()[0])\n",
    "\t\t# #Get the corrected text positions, then write the text.\n",
    "\t\t# text_positions = get_text_positions(text_labels, x, y, txt_width, txt_height)\n",
    "\t\t# text_plotter(text_labels, x, y, text_positions, txt_width, txt_height)\n",
    "\n",
    "\t\t# plt.ylim(0,max(text_positions)+2*txt_height)\n",
    "\t\tfor i, txt in enumerate(text_labels):\n",
    "\t\t\tax.annotate(txt, (x[i], y[i]), fontsize=fontsize, rotation=labelrotation)\n",
    "\tplt.show()"
   ]
  },
  {
   "cell_type": "code",
   "execution_count": 17,
   "metadata": {
    "collapsed": true
   },
   "outputs": [],
   "source": [
    "b = gamma_new\n",
    "gammas = sorted(gamma_new)\n",
    "labels = [label for (gamma,label) in sorted(zip(b,six_letter_code_combinations))]"
   ]
  },
  {
   "cell_type": "code",
   "execution_count": 18,
   "metadata": {},
   "outputs": [
    {
     "data": {
      "image/png": "[encoded data removed]",
      "text/plain": [
       "<Figure size 720x444.96 with 1 Axes>"
      ]
     },
     "metadata": {},
     "output_type": "display_data"
    }
   ],
   "source": [
    "plot_list(gammas, text_labels=labels, fontsize=10, aspect='auto', labelrotation='horizontal')\n",
    "# plt.ylim([-10,10])"
   ]
  },
  {
   "cell_type": "code",
   "execution_count": 130,
   "metadata": {
    "collapsed": true
   },
   "outputs": [],
   "source": [
    "t = np.array(range(10000)).reshape(100,100)\n",
    "mask = np.zeros((100,100))\n",
    "mask[10:20,10:20] = 1\n",
    "mask[10:20,30:40] = 1\n",
    "mask[30:40,10:20] = 1\n",
    "mask[30:40,30:40] = 1\n",
    "tt = t[mask==1].reshape((20,20))"
   ]
  },
  {
   "cell_type": "code",
   "execution_count": null,
   "metadata": {
    "collapsed": true
   },
   "outputs": [],
   "source": []
  }
 ],
 "metadata": {
  "kernelspec": {
   "display_name": "Python 3",
   "language": "python",
   "name": "python3"
  },
  "language_info": {
   "codemirror_mode": {
    "name": "ipython",
    "version": 3
   },
   "file_extension": ".py",
   "mimetype": "text/x-python",
   "name": "python",
   "nbconvert_exporter": "python",
   "pygments_lexer": "ipython3",
   "version": "3.6.7"
  }
 },
 "nbformat": 4,
 "nbformat_minor": 2
}
