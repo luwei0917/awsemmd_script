{
 "cells": [
  {
   "cell_type": "code",
   "execution_count": 22,
   "metadata": {
    "collapsed": true
   },
   "outputs": [],
   "source": [
    "import os\n",
    "import sys\n",
    "import random\n",
    "import time\n",
    "from random import seed, randint\n",
    "import argparse\n",
    "import platform\n",
    "from datetime import datetime\n",
    "import imp\n",
    "import numpy as np\n",
    "import fileinput\n",
    "from itertools import product\n",
    "import pandas as pd\n",
    "from scipy.interpolate import griddata\n",
    "from scipy.interpolate import interp2d\n",
    "import seaborn as sns\n",
    "from os import listdir\n",
    "\n",
    "import matplotlib.pyplot as plt\n",
    "import seaborn as sns\n",
    "from scipy.interpolate import griddata\n",
    "import matplotlib as mpl\n",
    "# sys.path.insert(0,'..')\n",
    "# from notebookFunctions import *\n",
    "# from .. import notebookFunctions\n",
    "\n",
    "from Bio.PDB.PDBParser import PDBParser\n",
    "sys.path.insert(0, '/Users/weilu/Research/opt_server/')\n",
    "from pyCodeLib import *\n",
    "%matplotlib inline\n",
    "plt.rcParams['figure.figsize'] = np.array([10,6.180])    #golden ratio\n",
    "plt.rcParams['figure.facecolor'] = 'w'\n",
    "# %matplotlib notebook\n",
    "%load_ext autoreload\n",
    "%autoreload 2"
   ]
  },
  {
   "cell_type": "markdown",
   "metadata": {},
   "source": [
    "# A Check about the MSA data.\n",
    "## focus on the occurrance of '-'"
   ]
  },
  {
   "cell_type": "code",
   "execution_count": 3,
   "metadata": {
    "collapsed": true
   },
   "outputs": [],
   "source": [
    "with open(\"/Users/weilu/Research/server/sep_2020/curated_single_chain_optimization/alignments/1iw6_A_filtered_0.05.seqs\") as f:\n",
    "    a = f.readlines()"
   ]
  },
  {
   "cell_type": "code",
   "execution_count": 6,
   "metadata": {},
   "outputs": [
    {
     "data": {
      "text/plain": [
       "'SAALWTAFGILVTSSVVFYILLLFIFHVYTFTITATASVCYLLMSVQQGYKPVYWIRYVDWLVTTPLILLDLGDKIVLLIFLDLLMILSGAVGSFVNWQNLFFWGAGMLFYILIVFEVFLLLATSTVSVWSMYPIVWLLADGL-NIMPVDLETILYALLDISAKCAFGFVLLL\\n'"
      ]
     },
     "execution_count": 6,
     "metadata": {},
     "output_type": "execute_result"
    }
   ],
   "source": [
    "a[1]"
   ]
  },
  {
   "cell_type": "code",
   "execution_count": 24,
   "metadata": {
    "collapsed": true
   },
   "outputs": [],
   "source": [
    "import glob"
   ]
  },
  {
   "cell_type": "code",
   "execution_count": 27,
   "metadata": {
    "collapsed": true
   },
   "outputs": [],
   "source": [
    "all_alignments = glob.glob(\"/Users/weilu/Research/server/sep_2020/curated_single_chain_optimization/alignments/*.seqs\")"
   ]
  },
  {
   "cell_type": "code",
   "execution_count": 28,
   "metadata": {},
   "outputs": [
    {
     "data": {
      "text/plain": [
       "1747"
      ]
     },
     "execution_count": 28,
     "metadata": {},
     "output_type": "execute_result"
    }
   ],
   "source": [
    "len(all_alignments)"
   ]
  },
  {
   "cell_type": "code",
   "execution_count": 37,
   "metadata": {
    "collapsed": true
   },
   "outputs": [],
   "source": [
    "info_ = []\n",
    "for alignment in all_alignments:\n",
    "    pdb = alignment.split(\"/\")[-1][:6]\n",
    "    with open(alignment) as f:\n",
    "        a = f.readlines()\n",
    "    for i, line in enumerate(a):\n",
    "        seq = line.strip()\n",
    "\n",
    "        dash_count = seq.count(\"-\")\n",
    "        length = len(seq)\n",
    "        dash_ratio = dash_count/ length\n",
    "        info_.append([pdb, length, i, dash_ratio])\n",
    "data = pd.DataFrame(info_, columns=[\"Protein\", \"Length\", \"i\", \"Ratio\"])"
   ]
  },
  {
   "cell_type": "code",
   "execution_count": 38,
   "metadata": {
    "collapsed": true
   },
   "outputs": [],
   "source": []
  },
  {
   "cell_type": "code",
   "execution_count": 42,
   "metadata": {
    "collapsed": true
   },
   "outputs": [],
   "source": [
    "data.to_csv(\"/Users/weilu/Research/data/alignment_info.csv\")"
   ]
  },
  {
   "cell_type": "code",
   "execution_count": 51,
   "metadata": {},
   "outputs": [
    {
     "data": {
      "text/plain": [
       "array([[<matplotlib.axes._subplots.AxesSubplot object at 0x7fc65905ccc0>]],\n",
       "      dtype=object)"
      ]
     },
     "execution_count": 51,
     "metadata": {},
     "output_type": "execute_result"
    },
    {
     "data": {
      "image/png": "[encoded data removed]",
      "text/plain": [
       "<Figure size 720x444.96 with 1 Axes>"
      ]
     },
     "metadata": {},
     "output_type": "display_data"
    }
   ],
   "source": [
    "data.hist(\"Ratio\", bins=100)"
   ]
  },
  {
   "cell_type": "code",
   "execution_count": 50,
   "metadata": {},
   "outputs": [
    {
     "data": {
      "text/plain": [
       "array([[<matplotlib.axes._subplots.AxesSubplot object at 0x7fc658118358>]],\n",
       "      dtype=object)"
      ]
     },
     "execution_count": 50,
     "metadata": {},
     "output_type": "execute_result"
    },
    {
     "data": {
      "image/png": "[encoded data removed]",
      "text/plain": [
       "<Figure size 720x444.96 with 1 Axes>"
      ]
     },
     "metadata": {},
     "output_type": "display_data"
    }
   ],
   "source": [
    "data.groupby(\"Protein\")[\"Ratio\"].count().reset_index().hist(\"Ratio\", bins=100)"
   ]
  },
  {
   "cell_type": "markdown",
   "metadata": {},
   "source": [
    "# after filter out those having more than 5% of dash.\n",
    "# and filter out those protein that left with less than 100 MSA."
   ]
  },
  {
   "cell_type": "code",
   "execution_count": 74,
   "metadata": {},
   "outputs": [
    {
     "data": {
      "text/plain": [
       "array([[<matplotlib.axes._subplots.AxesSubplot object at 0x7fc6547ca978>]],\n",
       "      dtype=object)"
      ]
     },
     "execution_count": 74,
     "metadata": {},
     "output_type": "execute_result"
    },
    {
     "data": {
      "image/png": "[encoded data removed]",
      "text/plain": [
       "<Figure size 720x444.96 with 1 Axes>"
      ]
     },
     "metadata": {},
     "output_type": "display_data"
    }
   ],
   "source": [
    "data.query(\"Ratio < 0.05\").groupby(\"Protein\")[\"Ratio\"].count().reset_index().hist(\"Ratio\", bins=100)"
   ]
  },
  {
   "cell_type": "code",
   "execution_count": 78,
   "metadata": {
    "collapsed": true
   },
   "outputs": [],
   "source": [
    "new_pdb_list = data.query(\"Ratio < 0.05\").groupby(\"Protein\")[\"Ratio\"].count().reset_index().query(\"Ratio > 100\")[\"Protein\"].to_list()"
   ]
  },
  {
   "cell_type": "code",
   "execution_count": 79,
   "metadata": {},
   "outputs": [
    {
     "data": {
      "text/plain": [
       "1296"
      ]
     },
     "execution_count": 79,
     "metadata": {},
     "output_type": "execute_result"
    }
   ],
   "source": [
    "len(new_pdb_list)"
   ]
  },
  {
   "cell_type": "code",
   "execution_count": 80,
   "metadata": {},
   "outputs": [
    {
     "data": {
      "text/html": [
       "<div>\n",
       "<style scoped>\n",
       "    .dataframe tbody tr th:only-of-type {\n",
       "        vertical-align: middle;\n",
       "    }\n",
       "\n",
       "    .dataframe tbody tr th {\n",
       "        vertical-align: top;\n",
       "    }\n",
       "\n",
       "    .dataframe thead th {\n",
       "        text-align: right;\n",
       "    }\n",
       "</style>\n",
       "<table border=\"1\" class=\"dataframe\">\n",
       "  <thead>\n",
       "    <tr style=\"text-align: right;\">\n",
       "      <th></th>\n",
       "      <th>Protein</th>\n",
       "      <th>Length</th>\n",
       "      <th>i</th>\n",
       "      <th>Ratio</th>\n",
       "    </tr>\n",
       "  </thead>\n",
       "  <tbody>\n",
       "    <tr>\n",
       "      <td>0</td>\n",
       "      <td>2zzl_A</td>\n",
       "      <td>173</td>\n",
       "      <td>0</td>\n",
       "      <td>0.000000</td>\n",
       "    </tr>\n",
       "    <tr>\n",
       "      <td>1</td>\n",
       "      <td>2zzl_A</td>\n",
       "      <td>173</td>\n",
       "      <td>1</td>\n",
       "      <td>0.005780</td>\n",
       "    </tr>\n",
       "    <tr>\n",
       "      <td>2</td>\n",
       "      <td>2zzl_A</td>\n",
       "      <td>173</td>\n",
       "      <td>2</td>\n",
       "      <td>0.017341</td>\n",
       "    </tr>\n",
       "    <tr>\n",
       "      <td>3</td>\n",
       "      <td>2zzl_A</td>\n",
       "      <td>173</td>\n",
       "      <td>3</td>\n",
       "      <td>0.011561</td>\n",
       "    </tr>\n",
       "    <tr>\n",
       "      <td>4</td>\n",
       "      <td>2zzl_A</td>\n",
       "      <td>173</td>\n",
       "      <td>4</td>\n",
       "      <td>0.011561</td>\n",
       "    </tr>\n",
       "    <tr>\n",
       "      <td>...</td>\n",
       "      <td>...</td>\n",
       "      <td>...</td>\n",
       "      <td>...</td>\n",
       "      <td>...</td>\n",
       "    </tr>\n",
       "    <tr>\n",
       "      <td>1768945</td>\n",
       "      <td>6s8h_F</td>\n",
       "      <td>168</td>\n",
       "      <td>1352</td>\n",
       "      <td>0.232143</td>\n",
       "    </tr>\n",
       "    <tr>\n",
       "      <td>1768946</td>\n",
       "      <td>6s8h_F</td>\n",
       "      <td>168</td>\n",
       "      <td>1353</td>\n",
       "      <td>0.232143</td>\n",
       "    </tr>\n",
       "    <tr>\n",
       "      <td>1768947</td>\n",
       "      <td>6s8h_F</td>\n",
       "      <td>168</td>\n",
       "      <td>1354</td>\n",
       "      <td>0.232143</td>\n",
       "    </tr>\n",
       "    <tr>\n",
       "      <td>1768948</td>\n",
       "      <td>6s8h_F</td>\n",
       "      <td>168</td>\n",
       "      <td>1355</td>\n",
       "      <td>0.232143</td>\n",
       "    </tr>\n",
       "    <tr>\n",
       "      <td>1768949</td>\n",
       "      <td>6s8h_F</td>\n",
       "      <td>168</td>\n",
       "      <td>1356</td>\n",
       "      <td>0.232143</td>\n",
       "    </tr>\n",
       "  </tbody>\n",
       "</table>\n",
       "<p>1768950 rows × 4 columns</p>\n",
       "</div>"
      ],
      "text/plain": [
       "        Protein  Length     i     Ratio\n",
       "0        2zzl_A     173     0  0.000000\n",
       "1        2zzl_A     173     1  0.005780\n",
       "2        2zzl_A     173     2  0.017341\n",
       "3        2zzl_A     173     3  0.011561\n",
       "4        2zzl_A     173     4  0.011561\n",
       "...         ...     ...   ...       ...\n",
       "1768945  6s8h_F     168  1352  0.232143\n",
       "1768946  6s8h_F     168  1353  0.232143\n",
       "1768947  6s8h_F     168  1354  0.232143\n",
       "1768948  6s8h_F     168  1355  0.232143\n",
       "1768949  6s8h_F     168  1356  0.232143\n",
       "\n",
       "[1768950 rows x 4 columns]"
      ]
     },
     "execution_count": 80,
     "metadata": {},
     "output_type": "execute_result"
    }
   ],
   "source": [
    "data.query(\"Protein in @new_pdb_list\").reset_index(drop=True)"
   ]
  },
  {
   "cell_type": "markdown",
   "metadata": {},
   "source": [
    "## For those satisfy the condition of with more than 100 MSA left.\n",
    "### we wrote those MSA information into a new folder and file. "
   ]
  },
  {
   "cell_type": "code",
   "execution_count": 100,
   "metadata": {
    "collapsed": true
   },
   "outputs": [],
   "source": [
    "with open(\"/Users/weilu/Research/server/sep_2020/curated_single_chain_optimization/pdb_list_after_filtering.txt\", \"w\") as out:\n",
    "    for pdb in new_pdb_list:\n",
    "        out.write(f\"{pdb}\\n\")"
   ]
  },
  {
   "cell_type": "code",
   "execution_count": 84,
   "metadata": {
    "collapsed": true
   },
   "outputs": [],
   "source": [
    "frame_selected = data.query(\"Protein =='2zzl_A' and Ratio < 0.05\")[\"i\"].to_list()"
   ]
  },
  {
   "cell_type": "code",
   "execution_count": 85,
   "metadata": {},
   "outputs": [
    {
     "data": {
      "text/plain": [
       "533"
      ]
     },
     "execution_count": 85,
     "metadata": {},
     "output_type": "execute_result"
    }
   ],
   "source": [
    "len(frame_selected)"
   ]
  },
  {
   "cell_type": "code",
   "execution_count": 88,
   "metadata": {},
   "outputs": [
    {
     "data": {
      "text/plain": [
       "1214"
      ]
     },
     "execution_count": 88,
     "metadata": {},
     "output_type": "execute_result"
    }
   ],
   "source": [
    "frame_selected[-1]"
   ]
  },
  {
   "cell_type": "code",
   "execution_count": 99,
   "metadata": {
    "collapsed": true
   },
   "outputs": [],
   "source": [
    "for pdb in new_pdb_list:\n",
    "    frame_selected = data.query(f\"Protein =='{pdb}' and Ratio < 0.05\")[\"i\"].to_list()\n",
    "    with open(f\"/Users/weilu/Research/server/sep_2020/curated_single_chain_optimization/alignments/{pdb}_filtered_0.05.seqs\") as f:\n",
    "        a = f.readlines()\n",
    "    with open(f\"/Users/weilu/Research/server/sep_2020/curated_single_chain_optimization/alignments_filtered/{pdb}_filtered_0.05.seqs\", \"w\") as out:\n",
    "        for line in np.array(a)[frame_selected]:\n",
    "            out.write(line)"
   ]
  },
  {
   "cell_type": "code",
   "execution_count": 90,
   "metadata": {
    "collapsed": true
   },
   "outputs": [],
   "source": [
    "pdb = \"2zzl_A\""
   ]
  },
  {
   "cell_type": "code",
   "execution_count": 36,
   "metadata": {},
   "outputs": [
    {
     "data": {
      "text/plain": [
       "array([[<matplotlib.axes._subplots.AxesSubplot object at 0x7fc68d9c2d30>]],\n",
       "      dtype=object)"
      ]
     },
     "execution_count": 36,
     "metadata": {},
     "output_type": "execute_result"
    },
    {
     "data": {
      "image/png": "[encoded data removed]",
      "text/plain": [
       "<Figure size 720x444.96 with 1 Axes>"
      ]
     },
     "metadata": {},
     "output_type": "display_data"
    }
   ],
   "source": [
    "data.hist(\"Ratio\")"
   ]
  },
  {
   "cell_type": "code",
   "execution_count": 35,
   "metadata": {},
   "outputs": [
    {
     "data": {
      "text/plain": [
       "array([[<matplotlib.axes._subplots.AxesSubplot object at 0x7fc68a137b38>]],\n",
       "      dtype=object)"
      ]
     },
     "execution_count": 35,
     "metadata": {},
     "output_type": "execute_result"
    },
    {
     "data": {
      "image/png": "[encoded data removed]",
      "text/plain": [
       "<Figure size 720x444.96 with 1 Axes>"
      ]
     },
     "metadata": {},
     "output_type": "display_data"
    }
   ],
   "source": [
    "data.query(\"Protein == '5ejz_A'\").hist(\"Ratio\")"
   ]
  },
  {
   "cell_type": "code",
   "execution_count": null,
   "metadata": {
    "collapsed": true
   },
   "outputs": [],
   "source": []
  },
  {
   "cell_type": "code",
   "execution_count": null,
   "metadata": {
    "collapsed": true
   },
   "outputs": [],
   "source": []
  },
  {
   "cell_type": "code",
   "execution_count": 101,
   "metadata": {
    "collapsed": true
   },
   "outputs": [],
   "source": [
    "all_alignments = glob.glob(\"/Users/weilu/Research/server/oct_2020/specific_pdbs_list_optimization/alignments/*.seqs\")"
   ]
  },
  {
   "cell_type": "code",
   "execution_count": 114,
   "metadata": {},
   "outputs": [
    {
     "data": {
      "text/plain": [
       "'1py6_SD'"
      ]
     },
     "execution_count": 114,
     "metadata": {},
     "output_type": "execute_result"
    }
   ],
   "source": [
    "alignment.split(\"/\")[-1][:-19]"
   ]
  },
  {
   "cell_type": "code",
   "execution_count": 115,
   "metadata": {
    "collapsed": true
   },
   "outputs": [],
   "source": [
    "info_ = []\n",
    "for alignment in all_alignments:\n",
    "    pdb = alignment.split(\"/\")[-1][:-19]\n",
    "    with open(alignment) as f:\n",
    "        a = f.readlines()\n",
    "    for i, line in enumerate(a):\n",
    "        seq = line.strip()\n",
    "\n",
    "        dash_count = seq.count(\"-\")\n",
    "        length = len(seq)\n",
    "        dash_ratio = dash_count/ length\n",
    "        info_.append([pdb, length, i, dash_ratio])\n",
    "data = pd.DataFrame(info_, columns=[\"Protein\", \"Length\", \"i\", \"Ratio\"])"
   ]
  },
  {
   "cell_type": "code",
   "execution_count": 116,
   "metadata": {},
   "outputs": [
    {
     "data": {
      "text/plain": [
       "array([[<matplotlib.axes._subplots.AxesSubplot object at 0x7fc637308550>]],\n",
       "      dtype=object)"
      ]
     },
     "execution_count": 116,
     "metadata": {},
     "output_type": "execute_result"
    },
    {
     "data": {
      "image/png": "[encoded data removed]",
      "text/plain": [
       "<Figure size 720x444.96 with 1 Axes>"
      ]
     },
     "metadata": {},
     "output_type": "display_data"
    }
   ],
   "source": [
    "data.hist(\"Ratio\", bins=100)"
   ]
  },
  {
   "cell_type": "code",
   "execution_count": 120,
   "metadata": {},
   "outputs": [
    {
     "data": {
      "text/html": [
       "<div>\n",
       "<style scoped>\n",
       "    .dataframe tbody tr th:only-of-type {\n",
       "        vertical-align: middle;\n",
       "    }\n",
       "\n",
       "    .dataframe tbody tr th {\n",
       "        vertical-align: top;\n",
       "    }\n",
       "\n",
       "    .dataframe thead th {\n",
       "        text-align: right;\n",
       "    }\n",
       "</style>\n",
       "<table border=\"1\" class=\"dataframe\">\n",
       "  <thead>\n",
       "    <tr style=\"text-align: right;\">\n",
       "      <th></th>\n",
       "      <th>Protein</th>\n",
       "      <th>Ratio</th>\n",
       "    </tr>\n",
       "  </thead>\n",
       "  <tbody>\n",
       "    <tr>\n",
       "      <td>0</td>\n",
       "      <td>1iwg</td>\n",
       "      <td>431</td>\n",
       "    </tr>\n",
       "    <tr>\n",
       "      <td>1</td>\n",
       "      <td>1j4n</td>\n",
       "      <td>101</td>\n",
       "    </tr>\n",
       "    <tr>\n",
       "      <td>2</td>\n",
       "      <td>1kpl</td>\n",
       "      <td>223</td>\n",
       "    </tr>\n",
       "    <tr>\n",
       "      <td>3</td>\n",
       "      <td>1occ</td>\n",
       "      <td>109</td>\n",
       "    </tr>\n",
       "    <tr>\n",
       "      <td>4</td>\n",
       "      <td>1pv6</td>\n",
       "      <td>132</td>\n",
       "    </tr>\n",
       "    <tr>\n",
       "      <td>5</td>\n",
       "      <td>1py6</td>\n",
       "      <td>166</td>\n",
       "    </tr>\n",
       "    <tr>\n",
       "      <td>6</td>\n",
       "      <td>1py6_SD</td>\n",
       "      <td>441</td>\n",
       "    </tr>\n",
       "    <tr>\n",
       "      <td>7</td>\n",
       "      <td>1u19</td>\n",
       "      <td>576</td>\n",
       "    </tr>\n",
       "    <tr>\n",
       "      <td>8</td>\n",
       "      <td>2bg9</td>\n",
       "      <td>740</td>\n",
       "    </tr>\n",
       "    <tr>\n",
       "      <td>9</td>\n",
       "      <td>2bl2</td>\n",
       "      <td>273</td>\n",
       "    </tr>\n",
       "    <tr>\n",
       "      <td>10</td>\n",
       "      <td>2bs2</td>\n",
       "      <td>107</td>\n",
       "    </tr>\n",
       "    <tr>\n",
       "      <td>11</td>\n",
       "      <td>2ic8</td>\n",
       "      <td>488</td>\n",
       "    </tr>\n",
       "  </tbody>\n",
       "</table>\n",
       "</div>"
      ],
      "text/plain": [
       "    Protein  Ratio\n",
       "0      1iwg    431\n",
       "1      1j4n    101\n",
       "2      1kpl    223\n",
       "3      1occ    109\n",
       "4      1pv6    132\n",
       "5      1py6    166\n",
       "6   1py6_SD    441\n",
       "7      1u19    576\n",
       "8      2bg9    740\n",
       "9      2bl2    273\n",
       "10     2bs2    107\n",
       "11     2ic8    488"
      ]
     },
     "execution_count": 120,
     "metadata": {},
     "output_type": "execute_result"
    }
   ],
   "source": [
    "data.query(\"Ratio < 0.06\").groupby(\"Protein\")[\"Ratio\"].count().reset_index()"
   ]
  },
  {
   "cell_type": "code",
   "execution_count": 121,
   "metadata": {
    "collapsed": true
   },
   "outputs": [],
   "source": [
    "new_pdb_list = data.query(\"Ratio < 0.06\").groupby(\"Protein\")[\"Ratio\"].count().reset_index()[\"Protein\"].to_list()"
   ]
  },
  {
   "cell_type": "code",
   "execution_count": 126,
   "metadata": {
    "collapsed": true
   },
   "outputs": [],
   "source": [
    "with open(\"/Users/weilu/Research/server/oct_2020/specific_pdbs_list_optimization/pdb_list.txt\", \"w\") as out:\n",
    "    for pdb in new_pdb_list:\n",
    "        out.write(f\"{pdb}\\n\")"
   ]
  },
  {
   "cell_type": "code",
   "execution_count": 125,
   "metadata": {
    "collapsed": true
   },
   "outputs": [],
   "source": [
    "for pdb in new_pdb_list:\n",
    "    frame_selected = data.query(f\"Protein =='{pdb}' and Ratio < 0.06\")[\"i\"].to_list()\n",
    "    with open(f\"/Users/weilu/Research/server/oct_2020/specific_pdbs_list_optimization/alignments/{pdb}_filtered_0.05.seqs\") as f:\n",
    "        a = f.readlines()\n",
    "    with open(f\"/Users/weilu/Research/server/oct_2020/specific_pdbs_list_optimization/alignments_filtered/{pdb}_filtered_0.06.seqs\", \"w\") as out:\n",
    "        for line in np.array(a)[frame_selected]:\n",
    "            out.write(line)"
   ]
  },
  {
   "cell_type": "code",
   "execution_count": 130,
   "metadata": {
    "collapsed": true
   },
   "outputs": [],
   "source": [
    "a = np.loadtxt(\"/Users/weilu/Research/server/oct_2020/specific_pdbs_list_optimization/proteins_name_list/proteins_name_list_0.txt\", dtype=str)"
   ]
  },
  {
   "cell_type": "code",
   "execution_count": 145,
   "metadata": {},
   "outputs": [
    {
     "data": {
      "text/plain": [
       "['1iwg']"
      ]
     },
     "execution_count": 145,
     "metadata": {},
     "output_type": "execute_result"
    }
   ],
   "source": [
    "read_column_from_file(\"/Users/weilu/Research/server/oct_2020/specific_pdbs_list_optimization/proteins_name_list/proteins_name_list_0.txt\", 1)"
   ]
  },
  {
   "cell_type": "code",
   "execution_count": 143,
   "metadata": {},
   "outputs": [
    {
     "name": "stdout",
     "output_type": "stream",
     "text": [
      "1iwg\n"
     ]
    }
   ],
   "source": [
    "for b in a:\n",
    "    print(b)"
   ]
  },
  {
   "cell_type": "code",
   "execution_count": null,
   "metadata": {
    "collapsed": true
   },
   "outputs": [],
   "source": []
  },
  {
   "cell_type": "code",
   "execution_count": null,
   "metadata": {
    "collapsed": true
   },
   "outputs": [],
   "source": []
  },
  {
   "cell_type": "code",
   "execution_count": 5,
   "metadata": {
    "collapsed": true
   },
   "outputs": [],
   "source": [
    "gamma = np.loadtxt(\"/Users/weilu/Research/server/jul_week1_2020/membrane_protein_structure_prediction/cluster20.dat\")\n",
    "info = pd.read_csv(\"/Users/weilu/Research/database/gxxxg_index_dic_v5.csv\", index_col=0)\n",
    "interaction_index_dic = {}\n",
    "n = 20\n",
    "for i, line in info.iterrows():\n",
    "    # print(i, line[\"i\"])\n",
    "    interaction_index_dic[f\"{line['Direction']}_{line['i']}\"] = line[\"Group\"]"
   ]
  },
  {
   "cell_type": "code",
   "execution_count": 36,
   "metadata": {
    "collapsed": true
   },
   "outputs": [],
   "source": [
    "from Bio.PDB.Polypeptide import one_to_index\n",
    "from Bio.PDB.Polypeptide import three_to_index\n",
    "\n",
    "def get_400_based_index(res1_1, res1_2):\n",
    "    index = three_to_index(res1_1)*20 + three_to_index(res1_2)\n",
    "    return index\n",
    "def get_overall_index_v5(index1, index2, direction, interaction_index_dic):\n",
    "    n = 20\n",
    "    # plus 1, total parameters. 21*20/2 = 210\n",
    "    n_shift = 210\n",
    "    new_index1 = interaction_index_dic[f\"{direction}_{index1}\"]\n",
    "    new_index2 = interaction_index_dic[f\"{direction}_{index2}\"]\n",
    "    if new_index1 > new_index2:\n",
    "        new_index1, new_index2 = new_index2, new_index1\n",
    "    overall_index = ((2*n-(new_index1-1))*(new_index1)/2 + new_index2 - new_index1)\n",
    "    if direction == \"anti\":\n",
    "        overall_index += n_shift\n",
    "    return int(overall_index)\n",
    "\n",
    "def get_interaction_index_from_four_residues_v5(res1_1, res1_2, res2_1, res2_2, direction, interaction_index_dic=interaction_index_dic):\n",
    "\n",
    "    index1 = get_400_based_index(res1_1, res1_2)\n",
    "    if direction == \"parallel\":\n",
    "        index2 = get_400_based_index(res2_1, res2_2)\n",
    "    elif direction == \"anti\":\n",
    "        index2 = get_400_based_index(res2_2, res2_1)\n",
    "    else:\n",
    "        print(\"unknown direction\")\n",
    "        raise\n",
    "    index = get_overall_index_v5(index1, index2, direction, interaction_index_dic)\n",
    "\n",
    "    return index\n",
    "\n",
    "def compute_gxxxg_energy(structure, gamma, n_parameters, detailedOutput=False, sequence=None, get_interaction_index=get_interaction_index_from_four_residues_v5):\n",
    "    res_list = get_res_list(structure)\n",
    "    neighbor_list = get_neighbor_list(structure)\n",
    "    if sequence is None:\n",
    "        sequence = get_sequence_from_structure(structure)\n",
    "\n",
    "    min_seq_sep = 10\n",
    "    r_min = 2.0\n",
    "    r_max = 6.5\n",
    "    kappa = 5\n",
    "    info_list = []\n",
    "    get_distance_between_two_residues = get_interaction_distance_com\n",
    "    phi_gxxxg_well = np.zeros(n_parameters)\n",
    "\n",
    "    e_gxxxg = 0.0\n",
    "    e_gxxxg_parallel = 0.0\n",
    "    e_gxxxg_anti_parallel = 0.0\n",
    "    data_info = []\n",
    "    for res1globalindex, res1 in enumerate(res_list):\n",
    "        res1index = get_local_index(res1)\n",
    "        res1chain = get_chain(res1)\n",
    "        for res2 in get_neighbors_within_radius(neighbor_list, res1, r_max+2.0):\n",
    "            res2index = get_local_index(res2)\n",
    "            res2chain = get_chain(res2)\n",
    "            res2globalindex = get_global_index(res_list, res2)\n",
    "\n",
    "            for shift_to_res2_2, direction in zip([-4, 4], [\"anti\", \"parallel\"]):\n",
    "                res1_2_globalindex = res1globalindex + 4\n",
    "                res1_2 = get_res_by_globalindex(res_list, res1_2_globalindex, res1chain)\n",
    "                # for shift_to_res2_2 in [-4, 4]:\n",
    "\n",
    "                # consider parallel, and anti-parallel.\n",
    "                res2_2_globalindex = res2globalindex + shift_to_res2_2\n",
    "                res2_2 = get_res_by_globalindex(res_list, res2_2_globalindex, res2chain)\n",
    "                if res1_2 == -1 or res2_2 == -1:\n",
    "                    continue\n",
    "                if direction == \"parallel\":\n",
    "                    sep = res2globalindex - res1globalindex\n",
    "                elif direction == \"anti\":\n",
    "                    sep = res2_2_globalindex - res1globalindex\n",
    "                if sep >= min_seq_sep or (res1chain != res2chain and res2globalindex > res1globalindex):\n",
    "                    rij = get_distance_between_two_residues(res1, res2)\n",
    "\n",
    "                    rij_2 = get_distance_between_two_residues(res1_2, res2_2)\n",
    "    #                 if rij_2 > (r_max+2):\n",
    "    #                     continue\n",
    "                    try:\n",
    "                        resName_1_1 = one_to_three(sequence[res1globalindex])\n",
    "                        resName_1_2 = one_to_three(sequence[res1_2_globalindex])\n",
    "                        resName_2_1 = one_to_three(sequence[res2globalindex])\n",
    "                        resName_2_2 = one_to_three(sequence[res2_2_globalindex])\n",
    "                    except:\n",
    "                        print(res1globalindex, res2globalindex)\n",
    "                        continue\n",
    "                    # interaction_index = get_interaction_index_from_four_residues(res1.resname, res1_2.resname, res2.resname, res2_2.resname)\n",
    "                    # interaction_index = get_interaction_index_from_four_residues_v2(resName_1_1, resName_1_2, resName_2_1, resName_2_2)\n",
    "                    interaction_index = get_interaction_index(resName_1_1, resName_1_2, resName_2_1, resName_2_2, direction)\n",
    "                    phi_ = interaction_well(rij, r_min, r_max, kappa) * interaction_well(rij_2, r_min, r_max, kappa)\n",
    "                    # phi_gxxxg_well[interaction_index] += phi_\n",
    "                    if shift_to_res2_2 == -4:\n",
    "                        e_gxxxg_anti_parallel += gamma[interaction_index] * phi_\n",
    "                    else:\n",
    "                        e_gxxxg_parallel += gamma[interaction_index] * phi_\n",
    "                    if abs(phi_) > 0.1:\n",
    "                        data_info.append([res1globalindex, res2globalindex, res1index, res2index, resName_1_1, resName_1_2, resName_2_1, resName_2_2, direction, gamma[interaction_index], interaction_index, phi_])\n",
    "                    # print(res1globalindex, res2globalindex, resName_1_1, resName_2_1, gamma[interaction_index], phi_)\n",
    "    e_gxxxg = e_gxxxg_parallel + e_gxxxg_anti_parallel\n",
    "    # print(e_gxxxg)\n",
    "    if detailedOutput:\n",
    "        return pd.DataFrame(data_info, columns=[\"g_index_1\", \"g_index_2\", \"res1_index\", \"res2_index\", \"resName_1_1\", \"resName_1_2\", \"resName_2_1\", \"resName_2_2\", \"direction\", \"gamma\", \"interaction_index\", \"phi\"])\n",
    "    else:\n",
    "        return e_gxxxg"
   ]
  },
  {
   "cell_type": "code",
   "execution_count": 7,
   "metadata": {
    "collapsed": true
   },
   "outputs": [],
   "source": [
    "# fileLocation = \"/Users/weilu/Research/server/jul_week1_2020/decoyN2000_gxxxg_shuffle_optimization/optimization_decoyN2000/gammas/filtered_protein_list_phi_gxxxg_v2_well126_gamma\"\n",
    "# gamma = np.loadtxt(fileLocation)\n",
    "# fileLocation = \"/Users/weilu/Research/server/jul_week1_2020/membrane_protein_structure_prediction/gxxxg_701.dat\"\n",
    "# gamma = np.loadtxt(fileLocation)\n",
    "\n",
    "pre = \"/Users/weilu/Research/server/jul_week1_2020/membrane_protein_structure_prediction/run3_cluster20_sideMem/1iwg/0/\"\n",
    "sequence = read_fasta(f\"{pre}/crystal_structure.fasta\")\n",
    "\n",
    "pdb = \"/Users/weilu/Research/server/jul_week1_2020/membrane_protein_structure_prediction/run3_cluster20_sideMem/1iwg/0/lastFrame\"\n",
    "structure = parse_pdb(pdb)\n",
    "# compute_gxxxg_energy(structure[0], -gamma, sequence=sequence)\n",
    "data_info = compute_gxxxg_energy(structure[0], -gamma, n_parameters=420, detailedOutput=True, sequence=sequence)\n",
    "\n",
    "pdb = \"/Users/weilu/Research/server/jul_week1_2020/membrane_protein_structure_prediction/run3_cluster20_sideMem/1iwg/0/crystal_structure\"\n",
    "structure = parse_pdb(pdb)\n",
    "# compute_gxxxg_energy(structure[0], -gamma, sequence=sequence)\n",
    "data_info_native = compute_gxxxg_energy(structure[0], -gamma, n_parameters=420, detailedOutput=True, sequence=sequence)\n",
    "\n",
    "\n",
    "\n",
    "\n"
   ]
  },
  {
   "cell_type": "code",
   "execution_count": 37,
   "metadata": {},
   "outputs": [
    {
     "name": "stdout",
     "output_type": "stream",
     "text": [
      "88 108\n",
      "88 108\n",
      "88 104\n",
      "88 104\n"
     ]
    }
   ],
   "source": [
    "data_test = compute_gxxxg_energy(structure[0], -gamma, n_parameters=420, detailedOutput=True, sequence=seq1)"
   ]
  },
  {
   "cell_type": "code",
   "execution_count": 50,
   "metadata": {},
   "outputs": [
    {
     "name": "stdout",
     "output_type": "stream",
     "text": [
      "121 145\n",
      "121 145\n",
      "121 148\n",
      "121 148\n",
      "125 145\n",
      "125 145\n",
      "125 141\n",
      "125 141\n"
     ]
    }
   ],
   "source": [
    "data_fake = compute_gxxxg_energy(structure[0], -gamma, n_parameters=420, detailedOutput=True, sequence=fake_seq)"
   ]
  },
  {
   "cell_type": "code",
   "execution_count": 44,
   "metadata": {
    "collapsed": true
   },
   "outputs": [],
   "source": [
    "fake_seq = list(seq1)\n",
    "np.random.shuffle(fake_seq)\n",
    "fake_seq = \"\".join(fake_seq)"
   ]
  },
  {
   "cell_type": "code",
   "execution_count": 49,
   "metadata": {},
   "outputs": [
    {
     "data": {
      "text/plain": [
       "'TDIVIYSGNILEIQRAVAIPAVMITDNGVLLEMSYICSALVNLISTTIGGLVQLNTVGLSVSIIILLGIAEREFVFLAGATIIIFLAFSAAIRLILIYSKVHGSIRPSLISGITVLAMKFFSIVF-TRVTLSPYLGVWAGLDPALPVTIIVCMLTLFALAMASTLLLA'"
      ]
     },
     "execution_count": 49,
     "metadata": {},
     "output_type": "execute_result"
    }
   ],
   "source": [
    "fake_seq"
   ]
  },
  {
   "cell_type": "code",
   "execution_count": 48,
   "metadata": {},
   "outputs": [
    {
     "data": {
      "text/plain": [
       "'AVYIKEAIQMCYQSIILALALVVGIIYLFLGNIRAVIVPAVTLPVSLVGACLGLWLFGLTINIFTLLAIILSVAIVTDDSVVMTESIYHRVE-RGDSPLNAAATGSRNVIFAILSTSIILLAVFMPLLFIGGISGTLFREMAITLSITIVISTFTALSIAPMLGSKLL'"
      ]
     },
     "execution_count": 48,
     "metadata": {},
     "output_type": "execute_result"
    }
   ],
   "source": [
    "seq1"
   ]
  },
  {
   "cell_type": "code",
   "execution_count": 40,
   "metadata": {},
   "outputs": [
    {
     "data": {
      "text/html": [
       "<div>\n",
       "<style scoped>\n",
       "    .dataframe tbody tr th:only-of-type {\n",
       "        vertical-align: middle;\n",
       "    }\n",
       "\n",
       "    .dataframe tbody tr th {\n",
       "        vertical-align: top;\n",
       "    }\n",
       "\n",
       "    .dataframe thead th {\n",
       "        text-align: right;\n",
       "    }\n",
       "</style>\n",
       "<table border=\"1\" class=\"dataframe\">\n",
       "  <thead>\n",
       "    <tr style=\"text-align: right;\">\n",
       "      <th></th>\n",
       "      <th>g_index_1</th>\n",
       "      <th>g_index_2</th>\n",
       "      <th>res1_index</th>\n",
       "      <th>res2_index</th>\n",
       "      <th>resName_1_1</th>\n",
       "      <th>resName_1_2</th>\n",
       "      <th>resName_2_1</th>\n",
       "      <th>resName_2_2</th>\n",
       "      <th>direction</th>\n",
       "      <th>gamma</th>\n",
       "      <th>interaction_index</th>\n",
       "      <th>phi</th>\n",
       "    </tr>\n",
       "  </thead>\n",
       "  <tbody>\n",
       "    <tr>\n",
       "      <td>0</td>\n",
       "      <td>6</td>\n",
       "      <td>62</td>\n",
       "      <td>7</td>\n",
       "      <td>63</td>\n",
       "      <td>ALA</td>\n",
       "      <td>CYS</td>\n",
       "      <td>ILE</td>\n",
       "      <td>LEU</td>\n",
       "      <td>parallel</td>\n",
       "      <td>-0.577268</td>\n",
       "      <td>48</td>\n",
       "      <td>0.998908</td>\n",
       "    </tr>\n",
       "    <tr>\n",
       "      <td>1</td>\n",
       "      <td>14</td>\n",
       "      <td>46</td>\n",
       "      <td>15</td>\n",
       "      <td>47</td>\n",
       "      <td>ILE</td>\n",
       "      <td>LEU</td>\n",
       "      <td>LEU</td>\n",
       "      <td>LEU</td>\n",
       "      <td>anti</td>\n",
       "      <td>-2.115066</td>\n",
       "      <td>418</td>\n",
       "      <td>0.135374</td>\n",
       "    </tr>\n",
       "    <tr>\n",
       "      <td>2</td>\n",
       "      <td>17</td>\n",
       "      <td>72</td>\n",
       "      <td>18</td>\n",
       "      <td>73</td>\n",
       "      <td>ALA</td>\n",
       "      <td>VAL</td>\n",
       "      <td>VAL</td>\n",
       "      <td>THR</td>\n",
       "      <td>parallel</td>\n",
       "      <td>-1.159326</td>\n",
       "      <td>128</td>\n",
       "      <td>1.000000</td>\n",
       "    </tr>\n",
       "    <tr>\n",
       "      <td>3</td>\n",
       "      <td>18</td>\n",
       "      <td>39</td>\n",
       "      <td>19</td>\n",
       "      <td>40</td>\n",
       "      <td>LEU</td>\n",
       "      <td>VAL</td>\n",
       "      <td>ALA</td>\n",
       "      <td>VAL</td>\n",
       "      <td>anti</td>\n",
       "      <td>-2.352880</td>\n",
       "      <td>355</td>\n",
       "      <td>0.991449</td>\n",
       "    </tr>\n",
       "    <tr>\n",
       "      <td>4</td>\n",
       "      <td>18</td>\n",
       "      <td>43</td>\n",
       "      <td>19</td>\n",
       "      <td>44</td>\n",
       "      <td>LEU</td>\n",
       "      <td>VAL</td>\n",
       "      <td>PRO</td>\n",
       "      <td>ALA</td>\n",
       "      <td>anti</td>\n",
       "      <td>-2.144766</td>\n",
       "      <td>343</td>\n",
       "      <td>0.912705</td>\n",
       "    </tr>\n",
       "    <tr>\n",
       "      <td>...</td>\n",
       "      <td>...</td>\n",
       "      <td>...</td>\n",
       "      <td>...</td>\n",
       "      <td>...</td>\n",
       "      <td>...</td>\n",
       "      <td>...</td>\n",
       "      <td>...</td>\n",
       "      <td>...</td>\n",
       "      <td>...</td>\n",
       "      <td>...</td>\n",
       "      <td>...</td>\n",
       "      <td>...</td>\n",
       "    </tr>\n",
       "    <tr>\n",
       "      <td>65</td>\n",
       "      <td>112</td>\n",
       "      <td>152</td>\n",
       "      <td>113</td>\n",
       "      <td>153</td>\n",
       "      <td>ILE</td>\n",
       "      <td>SER</td>\n",
       "      <td>THR</td>\n",
       "      <td>ILE</td>\n",
       "      <td>anti</td>\n",
       "      <td>-1.781529</td>\n",
       "      <td>405</td>\n",
       "      <td>0.251958</td>\n",
       "    </tr>\n",
       "    <tr>\n",
       "      <td>66</td>\n",
       "      <td>116</td>\n",
       "      <td>152</td>\n",
       "      <td>117</td>\n",
       "      <td>153</td>\n",
       "      <td>SER</td>\n",
       "      <td>LEU</td>\n",
       "      <td>THR</td>\n",
       "      <td>ILE</td>\n",
       "      <td>anti</td>\n",
       "      <td>-1.964011</td>\n",
       "      <td>406</td>\n",
       "      <td>1.000000</td>\n",
       "    </tr>\n",
       "    <tr>\n",
       "      <td>67</td>\n",
       "      <td>119</td>\n",
       "      <td>148</td>\n",
       "      <td>120</td>\n",
       "      <td>149</td>\n",
       "      <td>LEU</td>\n",
       "      <td>PHE</td>\n",
       "      <td>ILE</td>\n",
       "      <td>LEU</td>\n",
       "      <td>anti</td>\n",
       "      <td>-2.349330</td>\n",
       "      <td>266</td>\n",
       "      <td>1.000000</td>\n",
       "    </tr>\n",
       "    <tr>\n",
       "      <td>68</td>\n",
       "      <td>120</td>\n",
       "      <td>145</td>\n",
       "      <td>121</td>\n",
       "      <td>146</td>\n",
       "      <td>LEU</td>\n",
       "      <td>MET</td>\n",
       "      <td>SER</td>\n",
       "      <td>ALA</td>\n",
       "      <td>anti</td>\n",
       "      <td>-1.231626</td>\n",
       "      <td>269</td>\n",
       "      <td>0.981388</td>\n",
       "    </tr>\n",
       "    <tr>\n",
       "      <td>69</td>\n",
       "      <td>123</td>\n",
       "      <td>145</td>\n",
       "      <td>124</td>\n",
       "      <td>146</td>\n",
       "      <td>PHE</td>\n",
       "      <td>LEU</td>\n",
       "      <td>SER</td>\n",
       "      <td>ALA</td>\n",
       "      <td>anti</td>\n",
       "      <td>-2.550999</td>\n",
       "      <td>304</td>\n",
       "      <td>0.994642</td>\n",
       "    </tr>\n",
       "  </tbody>\n",
       "</table>\n",
       "<p>70 rows × 12 columns</p>\n",
       "</div>"
      ],
      "text/plain": [
       "    g_index_1  g_index_2  res1_index  res2_index resName_1_1 resName_1_2  \\\n",
       "0           6         62           7          63         ALA         CYS   \n",
       "1          14         46          15          47         ILE         LEU   \n",
       "2          17         72          18          73         ALA         VAL   \n",
       "3          18         39          19          40         LEU         VAL   \n",
       "4          18         43          19          44         LEU         VAL   \n",
       "..        ...        ...         ...         ...         ...         ...   \n",
       "65        112        152         113         153         ILE         SER   \n",
       "66        116        152         117         153         SER         LEU   \n",
       "67        119        148         120         149         LEU         PHE   \n",
       "68        120        145         121         146         LEU         MET   \n",
       "69        123        145         124         146         PHE         LEU   \n",
       "\n",
       "   resName_2_1 resName_2_2 direction     gamma  interaction_index       phi  \n",
       "0          ILE         LEU  parallel -0.577268                 48  0.998908  \n",
       "1          LEU         LEU      anti -2.115066                418  0.135374  \n",
       "2          VAL         THR  parallel -1.159326                128  1.000000  \n",
       "3          ALA         VAL      anti -2.352880                355  0.991449  \n",
       "4          PRO         ALA      anti -2.144766                343  0.912705  \n",
       "..         ...         ...       ...       ...                ...       ...  \n",
       "65         THR         ILE      anti -1.781529                405  0.251958  \n",
       "66         THR         ILE      anti -1.964011                406  1.000000  \n",
       "67         ILE         LEU      anti -2.349330                266  1.000000  \n",
       "68         SER         ALA      anti -1.231626                269  0.981388  \n",
       "69         SER         ALA      anti -2.550999                304  0.994642  \n",
       "\n",
       "[70 rows x 12 columns]"
      ]
     },
     "execution_count": 40,
     "metadata": {},
     "output_type": "execute_result"
    }
   ],
   "source": [
    "data_test"
   ]
  },
  {
   "cell_type": "code",
   "execution_count": 41,
   "metadata": {},
   "outputs": [
    {
     "data": {
      "text/html": [
       "<div>\n",
       "<style scoped>\n",
       "    .dataframe tbody tr th:only-of-type {\n",
       "        vertical-align: middle;\n",
       "    }\n",
       "\n",
       "    .dataframe tbody tr th {\n",
       "        vertical-align: top;\n",
       "    }\n",
       "\n",
       "    .dataframe thead th {\n",
       "        text-align: right;\n",
       "    }\n",
       "</style>\n",
       "<table border=\"1\" class=\"dataframe\">\n",
       "  <thead>\n",
       "    <tr style=\"text-align: right;\">\n",
       "      <th></th>\n",
       "      <th>g_index_1</th>\n",
       "      <th>g_index_2</th>\n",
       "      <th>res1_index</th>\n",
       "      <th>res2_index</th>\n",
       "      <th>resName_1_1</th>\n",
       "      <th>resName_1_2</th>\n",
       "      <th>resName_2_1</th>\n",
       "      <th>resName_2_2</th>\n",
       "      <th>direction</th>\n",
       "      <th>gamma</th>\n",
       "      <th>interaction_index</th>\n",
       "      <th>phi</th>\n",
       "    </tr>\n",
       "  </thead>\n",
       "  <tbody>\n",
       "    <tr>\n",
       "      <td>0</td>\n",
       "      <td>6</td>\n",
       "      <td>62</td>\n",
       "      <td>7</td>\n",
       "      <td>63</td>\n",
       "      <td>SER</td>\n",
       "      <td>VAL</td>\n",
       "      <td>THR</td>\n",
       "      <td>PHE</td>\n",
       "      <td>parallel</td>\n",
       "      <td>-1.088887</td>\n",
       "      <td>77</td>\n",
       "      <td>0.998908</td>\n",
       "    </tr>\n",
       "    <tr>\n",
       "      <td>1</td>\n",
       "      <td>14</td>\n",
       "      <td>46</td>\n",
       "      <td>15</td>\n",
       "      <td>47</td>\n",
       "      <td>LEU</td>\n",
       "      <td>ILE</td>\n",
       "      <td>LEU</td>\n",
       "      <td>VAL</td>\n",
       "      <td>anti</td>\n",
       "      <td>-2.349330</td>\n",
       "      <td>266</td>\n",
       "      <td>0.135374</td>\n",
       "    </tr>\n",
       "    <tr>\n",
       "      <td>2</td>\n",
       "      <td>17</td>\n",
       "      <td>72</td>\n",
       "      <td>18</td>\n",
       "      <td>73</td>\n",
       "      <td>ALA</td>\n",
       "      <td>VAL</td>\n",
       "      <td>ILE</td>\n",
       "      <td>VAL</td>\n",
       "      <td>parallel</td>\n",
       "      <td>-1.646851</td>\n",
       "      <td>170</td>\n",
       "      <td>1.000000</td>\n",
       "    </tr>\n",
       "    <tr>\n",
       "      <td>3</td>\n",
       "      <td>18</td>\n",
       "      <td>39</td>\n",
       "      <td>19</td>\n",
       "      <td>40</td>\n",
       "      <td>ILE</td>\n",
       "      <td>PHE</td>\n",
       "      <td>THR</td>\n",
       "      <td>THR</td>\n",
       "      <td>anti</td>\n",
       "      <td>-2.197749</td>\n",
       "      <td>324</td>\n",
       "      <td>0.991449</td>\n",
       "    </tr>\n",
       "    <tr>\n",
       "      <td>4</td>\n",
       "      <td>18</td>\n",
       "      <td>43</td>\n",
       "      <td>19</td>\n",
       "      <td>44</td>\n",
       "      <td>ILE</td>\n",
       "      <td>PHE</td>\n",
       "      <td>PRO</td>\n",
       "      <td>THR</td>\n",
       "      <td>anti</td>\n",
       "      <td>-1.684553</td>\n",
       "      <td>323</td>\n",
       "      <td>0.912705</td>\n",
       "    </tr>\n",
       "    <tr>\n",
       "      <td>...</td>\n",
       "      <td>...</td>\n",
       "      <td>...</td>\n",
       "      <td>...</td>\n",
       "      <td>...</td>\n",
       "      <td>...</td>\n",
       "      <td>...</td>\n",
       "      <td>...</td>\n",
       "      <td>...</td>\n",
       "      <td>...</td>\n",
       "      <td>...</td>\n",
       "      <td>...</td>\n",
       "      <td>...</td>\n",
       "    </tr>\n",
       "    <tr>\n",
       "      <td>65</td>\n",
       "      <td>112</td>\n",
       "      <td>152</td>\n",
       "      <td>113</td>\n",
       "      <td>153</td>\n",
       "      <td>LEU</td>\n",
       "      <td>ALA</td>\n",
       "      <td>VAL</td>\n",
       "      <td>MET</td>\n",
       "      <td>anti</td>\n",
       "      <td>-1.872656</td>\n",
       "      <td>409</td>\n",
       "      <td>0.251958</td>\n",
       "    </tr>\n",
       "    <tr>\n",
       "      <td>66</td>\n",
       "      <td>116</td>\n",
       "      <td>152</td>\n",
       "      <td>117</td>\n",
       "      <td>153</td>\n",
       "      <td>ALA</td>\n",
       "      <td>SER</td>\n",
       "      <td>VAL</td>\n",
       "      <td>MET</td>\n",
       "      <td>anti</td>\n",
       "      <td>-2.356163</td>\n",
       "      <td>310</td>\n",
       "      <td>1.000000</td>\n",
       "    </tr>\n",
       "    <tr>\n",
       "      <td>67</td>\n",
       "      <td>119</td>\n",
       "      <td>148</td>\n",
       "      <td>120</td>\n",
       "      <td>149</td>\n",
       "      <td>LEU</td>\n",
       "      <td>PHE</td>\n",
       "      <td>MET</td>\n",
       "      <td>ILE</td>\n",
       "      <td>anti</td>\n",
       "      <td>-2.641111</td>\n",
       "      <td>262</td>\n",
       "      <td>1.000000</td>\n",
       "    </tr>\n",
       "    <tr>\n",
       "      <td>68</td>\n",
       "      <td>120</td>\n",
       "      <td>145</td>\n",
       "      <td>121</td>\n",
       "      <td>146</td>\n",
       "      <td>SER</td>\n",
       "      <td>VAL</td>\n",
       "      <td>VAL</td>\n",
       "      <td>SER</td>\n",
       "      <td>anti</td>\n",
       "      <td>-1.781529</td>\n",
       "      <td>405</td>\n",
       "      <td>0.981388</td>\n",
       "    </tr>\n",
       "    <tr>\n",
       "      <td>69</td>\n",
       "      <td>123</td>\n",
       "      <td>145</td>\n",
       "      <td>124</td>\n",
       "      <td>146</td>\n",
       "      <td>PHE</td>\n",
       "      <td>ALA</td>\n",
       "      <td>VAL</td>\n",
       "      <td>SER</td>\n",
       "      <td>anti</td>\n",
       "      <td>-1.968018</td>\n",
       "      <td>360</td>\n",
       "      <td>0.994642</td>\n",
       "    </tr>\n",
       "  </tbody>\n",
       "</table>\n",
       "<p>70 rows × 12 columns</p>\n",
       "</div>"
      ],
      "text/plain": [
       "    g_index_1  g_index_2  res1_index  res2_index resName_1_1 resName_1_2  \\\n",
       "0           6         62           7          63         SER         VAL   \n",
       "1          14         46          15          47         LEU         ILE   \n",
       "2          17         72          18          73         ALA         VAL   \n",
       "3          18         39          19          40         ILE         PHE   \n",
       "4          18         43          19          44         ILE         PHE   \n",
       "..        ...        ...         ...         ...         ...         ...   \n",
       "65        112        152         113         153         LEU         ALA   \n",
       "66        116        152         117         153         ALA         SER   \n",
       "67        119        148         120         149         LEU         PHE   \n",
       "68        120        145         121         146         SER         VAL   \n",
       "69        123        145         124         146         PHE         ALA   \n",
       "\n",
       "   resName_2_1 resName_2_2 direction     gamma  interaction_index       phi  \n",
       "0          THR         PHE  parallel -1.088887                 77  0.998908  \n",
       "1          LEU         VAL      anti -2.349330                266  0.135374  \n",
       "2          ILE         VAL  parallel -1.646851                170  1.000000  \n",
       "3          THR         THR      anti -2.197749                324  0.991449  \n",
       "4          PRO         THR      anti -1.684553                323  0.912705  \n",
       "..         ...         ...       ...       ...                ...       ...  \n",
       "65         VAL         MET      anti -1.872656                409  0.251958  \n",
       "66         VAL         MET      anti -2.356163                310  1.000000  \n",
       "67         MET         ILE      anti -2.641111                262  1.000000  \n",
       "68         VAL         SER      anti -1.781529                405  0.981388  \n",
       "69         VAL         SER      anti -1.968018                360  0.994642  \n",
       "\n",
       "[70 rows x 12 columns]"
      ]
     },
     "execution_count": 41,
     "metadata": {},
     "output_type": "execute_result"
    }
   ],
   "source": [
    "data_info_native"
   ]
  },
  {
   "cell_type": "code",
   "execution_count": 51,
   "metadata": {},
   "outputs": [
    {
     "data": {
      "text/plain": [
       "-98.59105840825087"
      ]
     },
     "execution_count": 51,
     "metadata": {},
     "output_type": "execute_result"
    }
   ],
   "source": [
    "(data_fake[\"gamma\"] * data_fake[\"phi\"]).sum()"
   ]
  },
  {
   "cell_type": "code",
   "execution_count": 39,
   "metadata": {},
   "outputs": [
    {
     "data": {
      "text/plain": [
       "-110.67986583184359"
      ]
     },
     "execution_count": 39,
     "metadata": {},
     "output_type": "execute_result"
    }
   ],
   "source": [
    "(data_test[\"gamma\"] * data_test[\"phi\"]).sum()"
   ]
  },
  {
   "cell_type": "code",
   "execution_count": 13,
   "metadata": {},
   "outputs": [
    {
     "data": {
      "text/plain": [
       "-110.31017161605686"
      ]
     },
     "execution_count": 13,
     "metadata": {},
     "output_type": "execute_result"
    }
   ],
   "source": [
    "(data_info_native[\"gamma\"] * data_info_native[\"phi\"]).sum()"
   ]
  },
  {
   "cell_type": "code",
   "execution_count": 16,
   "metadata": {
    "collapsed": true
   },
   "outputs": [],
   "source": [
    "with open(\"/Users/weilu/Research/server/aug_2020/MSA/alignments/1iwg_filtered_0.05.seqs\") as f:\n",
    "    a = f.readlines()"
   ]
  },
  {
   "cell_type": "code",
   "execution_count": 19,
   "metadata": {
    "collapsed": true
   },
   "outputs": [],
   "source": [
    "a = [b.strip() for b in a]"
   ]
  },
  {
   "cell_type": "code",
   "execution_count": 30,
   "metadata": {
    "collapsed": true
   },
   "outputs": [],
   "source": [
    "seq1 = a[2]"
   ]
  },
  {
   "cell_type": "code",
   "execution_count": 31,
   "metadata": {},
   "outputs": [
    {
     "data": {
      "text/plain": [
       "False"
      ]
     },
     "execution_count": 31,
     "metadata": {},
     "output_type": "execute_result"
    }
   ],
   "source": [
    "sequence == seq1"
   ]
  },
  {
   "cell_type": "code",
   "execution_count": null,
   "metadata": {
    "collapsed": true
   },
   "outputs": [],
   "source": []
  },
  {
   "cell_type": "code",
   "execution_count": 34,
   "metadata": {},
   "outputs": [
    {
     "data": {
      "text/html": [
       "<div>\n",
       "<style scoped>\n",
       "    .dataframe tbody tr th:only-of-type {\n",
       "        vertical-align: middle;\n",
       "    }\n",
       "\n",
       "    .dataframe tbody tr th {\n",
       "        vertical-align: top;\n",
       "    }\n",
       "\n",
       "    .dataframe thead th {\n",
       "        text-align: right;\n",
       "    }\n",
       "</style>\n",
       "<table border=\"1\" class=\"dataframe\">\n",
       "  <thead>\n",
       "    <tr style=\"text-align: right;\">\n",
       "      <th></th>\n",
       "      <th>g_index_1</th>\n",
       "      <th>g_index_2</th>\n",
       "      <th>res1_index</th>\n",
       "      <th>res2_index</th>\n",
       "      <th>resName_1_1</th>\n",
       "      <th>resName_1_2</th>\n",
       "      <th>resName_2_1</th>\n",
       "      <th>resName_2_2</th>\n",
       "      <th>direction</th>\n",
       "      <th>gamma</th>\n",
       "      <th>interaction_index</th>\n",
       "      <th>phi</th>\n",
       "    </tr>\n",
       "  </thead>\n",
       "  <tbody>\n",
       "    <tr>\n",
       "      <td>0</td>\n",
       "      <td>6</td>\n",
       "      <td>62</td>\n",
       "      <td>7</td>\n",
       "      <td>63</td>\n",
       "      <td>SER</td>\n",
       "      <td>VAL</td>\n",
       "      <td>THR</td>\n",
       "      <td>PHE</td>\n",
       "      <td>parallel</td>\n",
       "      <td>-1.088887</td>\n",
       "      <td>77</td>\n",
       "      <td>0.998908</td>\n",
       "    </tr>\n",
       "    <tr>\n",
       "      <td>1</td>\n",
       "      <td>14</td>\n",
       "      <td>46</td>\n",
       "      <td>15</td>\n",
       "      <td>47</td>\n",
       "      <td>LEU</td>\n",
       "      <td>ILE</td>\n",
       "      <td>LEU</td>\n",
       "      <td>VAL</td>\n",
       "      <td>anti</td>\n",
       "      <td>-2.349330</td>\n",
       "      <td>266</td>\n",
       "      <td>0.135374</td>\n",
       "    </tr>\n",
       "    <tr>\n",
       "      <td>2</td>\n",
       "      <td>17</td>\n",
       "      <td>72</td>\n",
       "      <td>18</td>\n",
       "      <td>73</td>\n",
       "      <td>ALA</td>\n",
       "      <td>VAL</td>\n",
       "      <td>ILE</td>\n",
       "      <td>VAL</td>\n",
       "      <td>parallel</td>\n",
       "      <td>-1.646851</td>\n",
       "      <td>170</td>\n",
       "      <td>1.000000</td>\n",
       "    </tr>\n",
       "    <tr>\n",
       "      <td>3</td>\n",
       "      <td>18</td>\n",
       "      <td>39</td>\n",
       "      <td>19</td>\n",
       "      <td>40</td>\n",
       "      <td>ILE</td>\n",
       "      <td>PHE</td>\n",
       "      <td>THR</td>\n",
       "      <td>THR</td>\n",
       "      <td>anti</td>\n",
       "      <td>-2.197749</td>\n",
       "      <td>324</td>\n",
       "      <td>0.991449</td>\n",
       "    </tr>\n",
       "    <tr>\n",
       "      <td>4</td>\n",
       "      <td>18</td>\n",
       "      <td>43</td>\n",
       "      <td>19</td>\n",
       "      <td>44</td>\n",
       "      <td>ILE</td>\n",
       "      <td>PHE</td>\n",
       "      <td>PRO</td>\n",
       "      <td>THR</td>\n",
       "      <td>anti</td>\n",
       "      <td>-1.684553</td>\n",
       "      <td>323</td>\n",
       "      <td>0.912705</td>\n",
       "    </tr>\n",
       "    <tr>\n",
       "      <td>...</td>\n",
       "      <td>...</td>\n",
       "      <td>...</td>\n",
       "      <td>...</td>\n",
       "      <td>...</td>\n",
       "      <td>...</td>\n",
       "      <td>...</td>\n",
       "      <td>...</td>\n",
       "      <td>...</td>\n",
       "      <td>...</td>\n",
       "      <td>...</td>\n",
       "      <td>...</td>\n",
       "      <td>...</td>\n",
       "    </tr>\n",
       "    <tr>\n",
       "      <td>65</td>\n",
       "      <td>112</td>\n",
       "      <td>152</td>\n",
       "      <td>113</td>\n",
       "      <td>153</td>\n",
       "      <td>LEU</td>\n",
       "      <td>ALA</td>\n",
       "      <td>VAL</td>\n",
       "      <td>MET</td>\n",
       "      <td>anti</td>\n",
       "      <td>-1.872656</td>\n",
       "      <td>409</td>\n",
       "      <td>0.251958</td>\n",
       "    </tr>\n",
       "    <tr>\n",
       "      <td>66</td>\n",
       "      <td>116</td>\n",
       "      <td>152</td>\n",
       "      <td>117</td>\n",
       "      <td>153</td>\n",
       "      <td>ALA</td>\n",
       "      <td>SER</td>\n",
       "      <td>VAL</td>\n",
       "      <td>MET</td>\n",
       "      <td>anti</td>\n",
       "      <td>-2.356163</td>\n",
       "      <td>310</td>\n",
       "      <td>1.000000</td>\n",
       "    </tr>\n",
       "    <tr>\n",
       "      <td>67</td>\n",
       "      <td>119</td>\n",
       "      <td>148</td>\n",
       "      <td>120</td>\n",
       "      <td>149</td>\n",
       "      <td>LEU</td>\n",
       "      <td>PHE</td>\n",
       "      <td>MET</td>\n",
       "      <td>ILE</td>\n",
       "      <td>anti</td>\n",
       "      <td>-2.641111</td>\n",
       "      <td>262</td>\n",
       "      <td>1.000000</td>\n",
       "    </tr>\n",
       "    <tr>\n",
       "      <td>68</td>\n",
       "      <td>120</td>\n",
       "      <td>145</td>\n",
       "      <td>121</td>\n",
       "      <td>146</td>\n",
       "      <td>SER</td>\n",
       "      <td>VAL</td>\n",
       "      <td>VAL</td>\n",
       "      <td>SER</td>\n",
       "      <td>anti</td>\n",
       "      <td>-1.781529</td>\n",
       "      <td>405</td>\n",
       "      <td>0.981388</td>\n",
       "    </tr>\n",
       "    <tr>\n",
       "      <td>69</td>\n",
       "      <td>123</td>\n",
       "      <td>145</td>\n",
       "      <td>124</td>\n",
       "      <td>146</td>\n",
       "      <td>PHE</td>\n",
       "      <td>ALA</td>\n",
       "      <td>VAL</td>\n",
       "      <td>SER</td>\n",
       "      <td>anti</td>\n",
       "      <td>-1.968018</td>\n",
       "      <td>360</td>\n",
       "      <td>0.994642</td>\n",
       "    </tr>\n",
       "  </tbody>\n",
       "</table>\n",
       "<p>70 rows × 12 columns</p>\n",
       "</div>"
      ],
      "text/plain": [
       "    g_index_1  g_index_2  res1_index  res2_index resName_1_1 resName_1_2  \\\n",
       "0           6         62           7          63         SER         VAL   \n",
       "1          14         46          15          47         LEU         ILE   \n",
       "2          17         72          18          73         ALA         VAL   \n",
       "3          18         39          19          40         ILE         PHE   \n",
       "4          18         43          19          44         ILE         PHE   \n",
       "..        ...        ...         ...         ...         ...         ...   \n",
       "65        112        152         113         153         LEU         ALA   \n",
       "66        116        152         117         153         ALA         SER   \n",
       "67        119        148         120         149         LEU         PHE   \n",
       "68        120        145         121         146         SER         VAL   \n",
       "69        123        145         124         146         PHE         ALA   \n",
       "\n",
       "   resName_2_1 resName_2_2 direction     gamma  interaction_index       phi  \n",
       "0          THR         PHE  parallel -1.088887                 77  0.998908  \n",
       "1          LEU         VAL      anti -2.349330                266  0.135374  \n",
       "2          ILE         VAL  parallel -1.646851                170  1.000000  \n",
       "3          THR         THR      anti -2.197749                324  0.991449  \n",
       "4          PRO         THR      anti -1.684553                323  0.912705  \n",
       "..         ...         ...       ...       ...                ...       ...  \n",
       "65         VAL         MET      anti -1.872656                409  0.251958  \n",
       "66         VAL         MET      anti -2.356163                310  1.000000  \n",
       "67         MET         ILE      anti -2.641111                262  1.000000  \n",
       "68         VAL         SER      anti -1.781529                405  0.981388  \n",
       "69         VAL         SER      anti -1.968018                360  0.994642  \n",
       "\n",
       "[70 rows x 12 columns]"
      ]
     },
     "execution_count": 34,
     "metadata": {},
     "output_type": "execute_result"
    }
   ],
   "source": [
    "data_info_native"
   ]
  },
  {
   "cell_type": "code",
   "execution_count": 32,
   "metadata": {},
   "outputs": [
    {
     "data": {
      "text/plain": [
       "'AVYIKEAIQMCYQSIILALALVVGIIYLFLGNIRAVIVPAVTLPVSLVGACLGLWLFGLTINIFTLLAIILSVAIVTDDSVVMTESIYHRVE-RGDSPLNAAATGSRNVIFAILSTSIILLAVFMPLLFIGGISGTLFREMAITLSITIVISTFTALSIAPMLGSKLL'"
      ]
     },
     "execution_count": 32,
     "metadata": {},
     "output_type": "execute_result"
    }
   ],
   "source": [
    "seq1"
   ]
  },
  {
   "cell_type": "code",
   "execution_count": 33,
   "metadata": {},
   "outputs": [
    {
     "data": {
      "text/plain": [
       "'TPFVKISIHEVVKTLVEAIILVFLVMYLFLQNFRATLIPTIAVPVVLLGTFAVLAAFGFSINTLTMFGMVLAIGLLVDDAIVVVENVERVMAEEGLPPKEATRKSMGQIQGALVGIAMVLSAVFVPMAFFGGSTGAIYRQFSITIVSAMALSVLVALILTPALCATML'"
      ]
     },
     "execution_count": 33,
     "metadata": {},
     "output_type": "execute_result"
    }
   ],
   "source": [
    "sequence"
   ]
  },
  {
   "cell_type": "code",
   "execution_count": null,
   "metadata": {
    "collapsed": true
   },
   "outputs": [],
   "source": []
  },
  {
   "cell_type": "code",
   "execution_count": null,
   "metadata": {
    "collapsed": true
   },
   "outputs": [],
   "source": []
  }
 ],
 "metadata": {
  "kernelspec": {
   "display_name": "Python 3",
   "language": "python",
   "name": "python3"
  },
  "language_info": {
   "codemirror_mode": {
    "name": "ipython",
    "version": 3
   },
   "file_extension": ".py",
   "mimetype": "text/x-python",
   "name": "python",
   "nbconvert_exporter": "python",
   "pygments_lexer": "ipython3",
   "version": "3.6.7"
  }
 },
 "nbformat": 4,
 "nbformat_minor": 2
}
