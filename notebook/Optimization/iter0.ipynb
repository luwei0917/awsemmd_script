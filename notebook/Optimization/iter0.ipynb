{
 "cells": [
  {
   "cell_type": "code",
   "execution_count": 20,
   "metadata": {},
   "outputs": [
    {
     "name": "stdout",
     "output_type": "stream",
     "text": [
      "The autoreload extension is already loaded. To reload it, use:\n",
      "  %reload_ext autoreload\n"
     ]
    }
   ],
   "source": [
    "import os\n",
    "import sys\n",
    "import random\n",
    "import time\n",
    "from random import seed, randint\n",
    "import argparse\n",
    "import platform\n",
    "from datetime import datetime\n",
    "import imp\n",
    "import numpy as np\n",
    "import fileinput\n",
    "from itertools import product\n",
    "import pandas as pd\n",
    "from scipy.interpolate import griddata\n",
    "from scipy.interpolate import interp2d\n",
    "import seaborn as sns\n",
    "from os import listdir\n",
    "\n",
    "import matplotlib.pyplot as plt\n",
    "import seaborn as sns\n",
    "from scipy.interpolate import griddata\n",
    "import matplotlib as mpl\n",
    "# sys.path.insert(0,'..')\n",
    "# from notebookFunctions import *\n",
    "# from .. import notebookFunctions\n",
    "from Bio.PDB.Polypeptide import one_to_three\n",
    "from Bio.PDB.Polypeptide import three_to_one\n",
    "from Bio.PDB.PDBParser import PDBParser\n",
    "from pyCodeLib import *\n",
    "from small_script.myFunctions import *\n",
    "%matplotlib inline\n",
    "plt.rcParams['figure.figsize'] = (10,6.180)    #golden ratio\n",
    "# %matplotlib notebook\n",
    "%load_ext autoreload\n",
    "%autoreload 2"
   ]
  },
  {
   "cell_type": "code",
   "execution_count": 2,
   "metadata": {},
   "outputs": [],
   "source": [
    "location = \"/Users/weilu/Research/server/may_2019/iter0_k1000/optimization/\""
   ]
  },
  {
   "cell_type": "code",
   "execution_count": 3,
   "metadata": {},
   "outputs": [],
   "source": [
    "with open(location+\"cath-dataset-nonredundant-S20Clean.list\", \"r\") as f:\n",
    "    a = f.readlines()"
   ]
  },
  {
   "cell_type": "code",
   "execution_count": 11,
   "metadata": {},
   "outputs": [
    {
     "name": "stdout",
     "output_type": "stream",
     "text": [
      "2azeA01\n",
      "\n",
      "2b8tB02\n",
      "\n",
      "2c0uA01\n",
      "\n",
      "2ckzB01\n",
      "\n",
      "2cruA01\n",
      "\n",
      "2cw9A00\n",
      "\n",
      "2d7iA02\n",
      "\n",
      "5u47A04\n",
      "\n"
     ]
    }
   ],
   "source": [
    "pre = \"/Users/weilu/Research/server/may_2019/iter0_k1000/phis/\"\n",
    "with open(location+\"protein_list\", \"w\") as out:\n",
    "    for line in a:\n",
    "        protein = line.strip()\n",
    "        # print(line)\n",
    "        loc = f\"{pre}phi_pairwise_contact_well_{protein}_decoys_shuffle_4.5_6.5_5.0_10\"\n",
    "        loc_native = f\"{pre}phi_pairwise_contact_well_{protein}_native_4.5_6.5_5.0_10\"\n",
    "        loc_contact = f\"{pre}phi_density_mediated_contact_well_{protein}_decoys_shuffle_6.5_9.5_5.0_10_2.6_7.0\"\n",
    "        loc_contact_native = f\"{pre}phi_density_mediated_contact_well_{protein}_native_6.5_9.5_5.0_10_2.6_7.0\"\n",
    "        loc_burial = f\"{pre}phi_burial_well_{protein}_decoys_shuffle_4.0\"\n",
    "        loc_burial_native = f\"{pre}phi_burial_well_{protein}_native_4.0\"\n",
    "        if not os.path.exists(loc) or not os.path.exists(loc_native)\n",
    "            or not os.path.exists(loc_contact) or not os.path.exists(loc_contact_native)\n",
    "            or not os.path.exists(loc_burial) or not os.path.exists(loc_burial_native):\n",
    "            print(line)\n",
    "            out.write(line)"
   ]
  },
  {
   "cell_type": "code",
   "execution_count": 18,
   "metadata": {},
   "outputs": [],
   "source": [
    "pre = \"/Users/weilu/Research/server/may_2019/iter0_k1000/phis/\"\n",
    "with open(location+\"protein_list\", \"w\") as out:\n",
    "    for line in a:\n",
    "        protein = line.strip()\n",
    "        # print(line)\n",
    "        loc = f\"{pre}phi_pairwise_contact_well_{protein}_decoys_shuffle_4.5_6.5_5.0_10\"\n",
    "        loc_native = f\"{pre}phi_pairwise_contact_well_{protein}_native_4.5_6.5_5.0_10\"\n",
    "        loc_contact = f\"{pre}phi_density_mediated_contact_well_{protein}_decoys_shuffle_6.5_9.5_5.0_10_2.6_7.0\"\n",
    "        loc_contact_native = f\"{pre}phi_density_mediated_contact_well_{protein}_native_6.5_9.5_5.0_10_2.6_7.0\"\n",
    "        loc_burial = f\"{pre}phi_burial_well_{protein}_decoys_shuffle_4.0\"\n",
    "        loc_burial_native = f\"{pre}phi_burial_well_{protein}_native_4.0\"\n",
    "        if not os.path.exists(loc) or not os.path.exists(loc_native) or not os.path.exists(loc_contact) or not os.path.exists(loc_contact_native) or not os.path.exists(loc_burial) or not os.path.exists(loc_burial_native):\n",
    "            print(line)\n",
    "            out.write(line)"
   ]
  },
  {
   "cell_type": "code",
   "execution_count": null,
   "metadata": {},
   "outputs": [],
   "source": [
    "pre = \"/Users/weilu/Research/server/may_2019/iter0_k1000/phis/\"\n",
    "with open(location+\"protein_list\", \"w\") as out:\n",
    "    for line in a:\n",
    "        protein = line.strip()\n",
    "        # print(line)\n",
    "        loc = f\"{pre}phi_pairwise_contact_well_{protein}_decoys_shuffle_4.5_6.5_5.0_10\"\n",
    "        loc_native = f\"{pre}phi_pairwise_contact_well_{protein}_native_4.5_6.5_5.0_10\"\n",
    "        loc_contact = f\"{pre}phi_density_mediated_contact_well_{protein}_decoys_shuffle_6.5_9.5_5.0_10_2.6_7.0\"\n",
    "        loc_contact_native = f\"{pre}phi_density_mediated_contact_well_{protein}_native_6.5_9.5_5.0_10_2.6_7.0\"\n",
    "        loc_burial = f\"{pre}phi_burial_well_{protein}_decoys_shuffle_4.0\"\n",
    "        loc_burial_native = f\"{pre}phi_burial_well_{protein}_native_4.0\"\n",
    "        if os.path.exists(loc) and os.path.exists(loc_native) and os.path.exists(loc_contact) and os.path.exists(loc_contact_native) and os.path.exists(loc_burial) and  os.path.exists(loc_burial_native):\n",
    "            print(line)\n",
    "#             out.write(line)"
   ]
  },
  {
   "cell_type": "code",
   "execution_count": null,
   "metadata": {},
   "outputs": [],
   "source": [
    "phi_density_mediated_contact_well_2azeA01_decoys_shuffle_6.5_9.5_5.0_10_2.6_7.0"
   ]
  },
  {
   "cell_type": "code",
   "execution_count": 6,
   "metadata": {},
   "outputs": [
    {
     "data": {
      "text/plain": [
       "True"
      ]
     },
     "execution_count": 6,
     "metadata": {},
     "output_type": "execute_result"
    }
   ],
   "source": [
    "loc = f\"/Users/weilu/Research/server/may_2019/iter0_k1000/phis/phi_pairwise_contact_well_{protein}_decoys_shuffle_4.5_6.5_5.0_10\"\n",
    "os.path.exists(loc)\n",
    "\n",
    "\n",
    "\n"
   ]
  },
  {
   "cell_type": "code",
   "execution_count": 22,
   "metadata": {},
   "outputs": [],
   "source": [
    "pre = \"/Users/weilu/Research/server/may_2019/iter0_k1000/optimization/gammas/\"\n",
    "name = \"cath-dataset-nonredundant-S20Clean_phi_pairwise_contact_well4.5_6.5_5.0_10phi_density_mediated_contact_well6.5_9.5_5.0_10_2.6_7.0phi_burial_well4.0\"\n",
    "A,B,B_filtered,Gamma,Gamma_filtered,Lamb,Lamb_filtered,half_B,other_half_B,std_half_B,A_prime = get_raw_optimization_data(pre, name)\n"
   ]
  },
  {
   "cell_type": "code",
   "execution_count": 24,
   "metadata": {},
   "outputs": [
    {
     "data": {
      "image/png": "[encoded data removed]",
      "text/plain": [
       "<Figure size 720x444.96 with 1 Axes>"
      ]
     },
     "metadata": {
      "needs_background": "light"
     },
     "output_type": "display_data"
    }
   ],
   "source": [
    "plt.plot(Lamb)\n",
    "plt.yscale(\"log\")"
   ]
  },
  {
   "cell_type": "code",
   "execution_count": 26,
   "metadata": {},
   "outputs": [],
   "source": [
    "total_phis = len(A)\n",
    "num_decoys = 1000"
   ]
  },
  {
   "cell_type": "code",
   "execution_count": 27,
   "metadata": {},
   "outputs": [
    {
     "name": "stdout",
     "output_type": "stream",
     "text": [
      "600\n"
     ]
    }
   ],
   "source": [
    "filtered_gamma, filtered_B, filtered_lamb, P, lamb = get_filtered_gamma_B_lamb_P_and_lamb(\n",
    "            A, B, half_B, other_half_B, std_half_B, total_phis, num_decoys, setCutoff=600)"
   ]
  },
  {
   "cell_type": "code",
   "execution_count": 29,
   "metadata": {},
   "outputs": [],
   "source": [
    "np.savetxt(pre+\"cutoff600\", filtered_gamma)"
   ]
  },
  {
   "cell_type": "code",
   "execution_count": null,
   "metadata": {},
   "outputs": [],
   "source": []
  }
 ],
 "metadata": {
  "kernelspec": {
   "display_name": "Python 3",
   "language": "python",
   "name": "python3"
  },
  "language_info": {
   "codemirror_mode": {
    "name": "ipython",
    "version": 3
   },
   "file_extension": ".py",
   "mimetype": "text/x-python",
   "name": "python",
   "nbconvert_exporter": "python",
   "pygments_lexer": "ipython3",
   "version": "3.6.8"
  }
 },
 "nbformat": 4,
 "nbformat_minor": 2
}
