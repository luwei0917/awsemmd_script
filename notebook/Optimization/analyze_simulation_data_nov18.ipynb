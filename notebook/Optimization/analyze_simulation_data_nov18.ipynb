{
 "cells": [
  {
   "cell_type": "code",
   "execution_count": 1,
   "metadata": {
    "collapsed": true
   },
   "outputs": [],
   "source": [
    "import numpy as np\n",
    "import pandas as pd\n",
    "import matplotlib.pyplot as plt\n",
    "import seaborn as sns\n",
    "\n",
    "sns.set(rc={'figure.figsize':(10,6.180)})\n",
    "sns.set_style(\"whitegrid\")\n",
    "\n",
    "%matplotlib inline"
   ]
  },
  {
   "cell_type": "code",
   "execution_count": 4,
   "metadata": {
    "collapsed": true
   },
   "outputs": [],
   "source": [
    "def my_reorder(a, first):\n",
    "    # move first to the top. and keep the rest\n",
    "    new_order = first.copy()\n",
    "    for col in a:\n",
    "        if col not in first:\n",
    "            new_order.append(col)\n",
    "    return new_order\n",
    "\n",
    "def read_pdb(name):\n",
    "    all_data = []\n",
    "    for i in range(20):\n",
    "        for j in range(2):\n",
    "            pre = \"/Users/weilu/Research/server/nov_2018/iterative_optimization_4/all_simulations/\"\n",
    "            location = pre + f\"{name}/simulation/{i}/{j}/\"\n",
    "            try:\n",
    "                wham = pd.read_csv(location+\"wham.dat\")\n",
    "            except:\n",
    "                print(f\"PDB: {name}, repeat: {i}, run: {j} not exist\")\n",
    "                continue\n",
    "            wham.columns = wham.columns.str.strip()\n",
    "            remove_columns = ['Tc', 'Energy']\n",
    "            wham = wham.drop(remove_columns, axis=1)\n",
    "            energy = pd.read_csv(location+\"energy.dat\")\n",
    "            energy.columns = energy.columns.str.strip()\n",
    "            remove_columns = ['Steps', 'Shake', 'Excluded', 'DSSP', 'Helix', 'AMH-Go', 'Vec_FM', 'Membrane', 'SSB']\n",
    "            energy = energy.drop(remove_columns, axis=1)\n",
    "            data = pd.concat([wham, energy], axis=1).assign(Repeat=i, Run=j)\n",
    "            all_data.append(data)\n",
    "    data = pd.concat(all_data).reset_index(drop=True)\n",
    "    data = data.reindex(columns=my_reorder(data.columns, [\"Steps\", \"Qw\", \"VTotal\", \"Run\", \"Repeat\"]))\n",
    "    print(name, len(data))\n",
    "    return data"
   ]
  },
  {
   "cell_type": "code",
   "execution_count": 5,
   "metadata": {},
   "outputs": [
    {
     "name": "stdout",
     "output_type": "stream",
     "text": [
      "1r69 40000\n",
      "1utg 40000\n",
      "3icb 40000\n",
      "256b 40000\n",
      "PDB: 4cpv, repeat: 0, run: 1 not exist\n",
      "4cpv 38000\n",
      "1ccr 40000\n",
      "PDB: 2mhr, repeat: 7, run: 1 not exist\n",
      "2mhr 37898\n",
      "PDB: 1mba, repeat: 1, run: 1 not exist\n",
      "PDB: 1mba, repeat: 11, run: 1 not exist\n",
      "PDB: 1mba, repeat: 14, run: 1 not exist\n",
      "PDB: 1mba, repeat: 18, run: 1 not exist\n",
      "1mba 16000\n",
      "PDB: 2fha, repeat: 6, run: 1 not exist\n",
      "PDB: 2fha, repeat: 7, run: 1 not exist\n",
      "PDB: 2fha, repeat: 8, run: 1 not exist\n",
      "PDB: 2fha, repeat: 16, run: 1 not exist\n",
      "PDB: 2fha, repeat: 19, run: 1 not exist\n",
      "2fha 14939\n"
     ]
    }
   ],
   "source": [
    "pdb_list = \"1R69, 1UTG, 3ICB, 256BA, 4CPV, 1CCR, 2MHR, 1MBA, 2FHA\".split(\", \")\n",
    "all_data = []\n",
    "for p in pdb_list:\n",
    "    name = p.lower()[:4]\n",
    "    tmp = read_pdb(name)\n",
    "    all_data.append(tmp)\n",
    "data = pd.concat(all_data)"
   ]
  },
  {
   "cell_type": "code",
   "execution_count": null,
   "metadata": {
    "collapsed": true
   },
   "outputs": [],
   "source": []
  }
 ],
 "metadata": {
  "kernelspec": {
   "display_name": "Python 3",
   "language": "python",
   "name": "python3"
  },
  "language_info": {
   "codemirror_mode": {
    "name": "ipython",
    "version": 3
   },
   "file_extension": ".py",
   "mimetype": "text/x-python",
   "name": "python",
   "nbconvert_exporter": "python",
   "pygments_lexer": "ipython3",
   "version": "3.6.3"
  }
 },
 "nbformat": 4,
 "nbformat_minor": 2
}
