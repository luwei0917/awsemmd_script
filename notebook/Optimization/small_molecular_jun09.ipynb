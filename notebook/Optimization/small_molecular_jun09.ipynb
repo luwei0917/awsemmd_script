{
 "cells": [
  {
   "cell_type": "code",
   "execution_count": 1,
   "metadata": {
    "collapsed": true,
    "scrolled": true
   },
   "outputs": [],
   "source": [
    "from simtk.openmm.app import *\n",
    "from simtk.openmm import *\n",
    "from simtk.unit import *\n",
    "from sys import stdout\n",
    "import pandas as pd"
   ]
  },
  {
   "cell_type": "code",
   "execution_count": 2,
   "metadata": {
    "collapsed": true,
    "scrolled": true
   },
   "outputs": [],
   "source": [
    "# real test case"
   ]
  },
  {
   "cell_type": "code",
   "execution_count": null,
   "metadata": {
    "collapsed": true
   },
   "outputs": [],
   "source": [
    "def compute_dis(pos1, pos2):\n",
    "    dis = pos1 - pos2\n",
    "    dis = dis.value_in_unit(nanometer)\n",
    "    r = (dis[0]**2 + dis[1]**2 + dis[2]**2)**0.5\n",
    "    return r"
   ]
  },
  {
   "cell_type": "code",
   "execution_count": 71,
   "metadata": {
    "collapsed": true
   },
   "outputs": [],
   "source": [
    "\n",
    "# AWSEM_xml = \"/Users/weilu/openmmawsem/awsem_heme.xml\"\n",
    "\n",
    "pre = \"/Users/weilu/Research/server/jun_week1_2020/debug_xun_heme/ligand_xml_l/\"\n",
    "AWSEM_xml = f\"{pre}/awsem.xml\"\n",
    "AWSEM_xml = f\"{pre}/awsem_test.xml\"\n",
    "fileLocation = f\"{pre}/crystal_structure-openmmawsem.pdb\"\n",
    "pdb = PDBFile(fileLocation)\n",
    "# pdb = PDBFile(\"/Users/weilu/Research/server/jan_2020/include_small_molecular/my_ABCDE_with_ligand/my_ABCDE_with_ligand-openmmawsem.pdb\")"
   ]
  },
  {
   "cell_type": "code",
   "execution_count": 29,
   "metadata": {
    "collapsed": true
   },
   "outputs": [],
   "source": []
  },
  {
   "cell_type": "code",
   "execution_count": 43,
   "metadata": {},
   "outputs": [
    {
     "ename": "Exception",
     "evalue": "Could not find typename 'Fe' for atom '<Atom 807 (FE) of chain 1 residue 131 (HEM)>' in list of known atom types.\nKnown atom types are: dict_keys(['N', 'H', 'CA', 'C', 'O', 'CB', 'Ni', 'CAA', 'CAB', 'CAC', 'CAD', 'NA', 'CBA', 'CBB', 'CBC', 'CBD', 'NB', 'CGA', 'CGD', 'ND', 'CHA', 'CHB', 'CHC', 'CHD', 'CMA', 'CMB', 'CMC', 'CMD', 'C1A', 'C1B', 'C1C', 'C1D', 'O1A', 'O1D', 'C2A', 'C2B', 'C2C', 'C2D', 'O2A', 'O2D', 'C3A', 'C3B', 'C3C', 'C3D', 'C4A', 'C4B', 'C4C', 'C4D', 'NC'])",
     "output_type": "error",
     "traceback": [
      "\u001b[0;31m---------------------------------------------------------------------------\u001b[0m",
      "\u001b[0;31mException\u001b[0m                                 Traceback (most recent call last)",
      "\u001b[0;32m<ipython-input-43-3f1460dc24c2>\u001b[0m in \u001b[0;36m<module>\u001b[0;34m()\u001b[0m\n\u001b[1;32m     36\u001b[0m         \u001b[0;31m# a1.type = a1.element.symbol\u001b[0m\u001b[0;34m\u001b[0m\u001b[0;34m\u001b[0m\u001b[0;34m\u001b[0m\u001b[0m\n\u001b[1;32m     37\u001b[0m     \u001b[0mforcefield\u001b[0m\u001b[0;34m.\u001b[0m\u001b[0mregisterResidueTemplate\u001b[0m\u001b[0;34m(\u001b[0m\u001b[0ma\u001b[0m\u001b[0;34m)\u001b[0m\u001b[0;34m\u001b[0m\u001b[0;34m\u001b[0m\u001b[0m\n\u001b[0;32m---> 38\u001b[0;31m \u001b[0msystem\u001b[0m \u001b[0;34m=\u001b[0m \u001b[0mforcefield\u001b[0m\u001b[0;34m.\u001b[0m\u001b[0mcreateSystem\u001b[0m\u001b[0;34m(\u001b[0m\u001b[0mpdb\u001b[0m\u001b[0;34m.\u001b[0m\u001b[0mtopology\u001b[0m\u001b[0;34m)\u001b[0m\u001b[0;34m\u001b[0m\u001b[0;34m\u001b[0m\u001b[0m\n\u001b[0m\u001b[1;32m     39\u001b[0m \u001b[0;34m\u001b[0m\u001b[0m\n\u001b[1;32m     40\u001b[0m \u001b[0minfo\u001b[0m \u001b[0;34m=\u001b[0m \u001b[0;34m[\u001b[0m\u001b[0;34m]\u001b[0m\u001b[0;34m\u001b[0m\u001b[0;34m\u001b[0m\u001b[0m\n",
      "\u001b[0;32m~/anaconda/lib/python3.6/site-packages/simtk/openmm/app/forcefield.py\u001b[0m in \u001b[0;36mcreateSystem\u001b[0;34m(self, topology, nonbondedMethod, nonbondedCutoff, constraints, rigidWater, removeCMMotion, hydrogenMass, residueTemplates, ignoreExternalBonds, switchDistance, flexibleConstraints, **args)\u001b[0m\n\u001b[1;32m   1160\u001b[0m                 \u001b[0mmsg\u001b[0m  \u001b[0;34m=\u001b[0m \u001b[0;34m\"Could not find typename '%s' for atom '%s' in list of known atom types.\\n\"\u001b[0m \u001b[0;34m%\u001b[0m \u001b[0;34m(\u001b[0m\u001b[0mtypename\u001b[0m\u001b[0;34m,\u001b[0m \u001b[0mstr\u001b[0m\u001b[0;34m(\u001b[0m\u001b[0matom\u001b[0m\u001b[0;34m)\u001b[0m\u001b[0;34m)\u001b[0m\u001b[0;34m\u001b[0m\u001b[0;34m\u001b[0m\u001b[0m\n\u001b[1;32m   1161\u001b[0m                 \u001b[0mmsg\u001b[0m \u001b[0;34m+=\u001b[0m \u001b[0;34m\"Known atom types are: %s\"\u001b[0m \u001b[0;34m%\u001b[0m \u001b[0mstr\u001b[0m\u001b[0;34m(\u001b[0m\u001b[0mself\u001b[0m\u001b[0;34m.\u001b[0m\u001b[0m_atomTypes\u001b[0m\u001b[0;34m.\u001b[0m\u001b[0mkeys\u001b[0m\u001b[0;34m(\u001b[0m\u001b[0;34m)\u001b[0m\u001b[0;34m)\u001b[0m\u001b[0;34m\u001b[0m\u001b[0;34m\u001b[0m\u001b[0m\n\u001b[0;32m-> 1162\u001b[0;31m                 \u001b[0;32mraise\u001b[0m \u001b[0mException\u001b[0m\u001b[0;34m(\u001b[0m\u001b[0mmsg\u001b[0m\u001b[0;34m)\u001b[0m\u001b[0;34m\u001b[0m\u001b[0;34m\u001b[0m\u001b[0m\n\u001b[0m\u001b[1;32m   1163\u001b[0m \u001b[0;34m\u001b[0m\u001b[0m\n\u001b[1;32m   1164\u001b[0m             \u001b[0;31m# Add the particle to the OpenMM system.\u001b[0m\u001b[0;34m\u001b[0m\u001b[0;34m\u001b[0m\u001b[0;34m\u001b[0m\u001b[0m\n",
      "\u001b[0;31mException\u001b[0m: Could not find typename 'Fe' for atom '<Atom 807 (FE) of chain 1 residue 131 (HEM)>' in list of known atom types.\nKnown atom types are: dict_keys(['N', 'H', 'CA', 'C', 'O', 'CB', 'Ni', 'CAA', 'CAB', 'CAC', 'CAD', 'NA', 'CBA', 'CBB', 'CBC', 'CBD', 'NB', 'CGA', 'CGD', 'ND', 'CHA', 'CHB', 'CHC', 'CHD', 'CMA', 'CMB', 'CMC', 'CMD', 'C1A', 'C1B', 'C1C', 'C1D', 'O1A', 'O1D', 'C2A', 'C2B', 'C2C', 'C2D', 'O2A', 'O2D', 'C3A', 'C3B', 'C3C', 'C3D', 'C4A', 'C4B', 'C4C', 'C4D', 'NC'])"
     ]
    }
   ],
   "source": [
    "res_list = list(pdb.topology.residues())\n",
    "atom_list = list(pdb.topology.atoms())\n",
    "protein_resNames = [\"NGP\", \"IGL\", \"IPR\", \"NTER\", \"CTER\"]\n",
    "DNA_resNames = [\"DA\", \"DC\", \"DT\", \"DG\"]\n",
    "protein_res_list = []\n",
    "DNA_res_list = []\n",
    "ligand_res_list = []\n",
    "for res in res_list:\n",
    "    if res.name in protein_resNames:\n",
    "        protein_res_list.append(res)\n",
    "    elif res.name in DNA_resNames:\n",
    "        DNA_res_list.append(res)\n",
    "    else:\n",
    "        ligand_res_list.append(res)\n",
    "\n",
    "protein_atom_list = []\n",
    "DNA_atom_list = []\n",
    "ligand_atom_list = []\n",
    "for atom in atom_list:\n",
    "    if atom.residue.name in protein_resNames:\n",
    "        protein_atom_list.append(atom)\n",
    "    elif atom.residue.name in DNA_resNames:\n",
    "        DNA_atom_list.append(atom)\n",
    "    else:\n",
    "        ligand_atom_list.append(atom)\n",
    "\n",
    "\n",
    "forcefield = ForceField(AWSEM_xml)\n",
    "[templates, names] = forcefield.generateTemplatesForUnmatchedResidues(pdb.topology)\n",
    "for a in templates:\n",
    "    for a1 in a.atoms:\n",
    "        if a1.element.symbol == \"C\":\n",
    "            a1.type = \"CA\"\n",
    "        else:\n",
    "            a1.type = a1.element.symbol\n",
    "        # a1.type = a1.element.symbol\n",
    "    forcefield.registerResidueTemplate(a)\n",
    "system = forcefield.createSystem(pdb.topology)\n",
    "\n",
    "info = []\n",
    "for ligand_atom in ligand_atom_list:\n",
    "    pos1 = pdb.positions[ligand_atom.index]\n",
    "    for protein_atom in protein_atom_list:\n",
    "        if protein_atom.name != \"CB\":\n",
    "            continue\n",
    "        protein_chain = protein_atom.residue.chain.id\n",
    "        pos2 = pdb.positions[protein_atom.index]\n",
    "        r = compute_dis(pos1, pos2)\n",
    "        if r < 0.65:\n",
    "            # print(ligand_atom, protein_atom, \"in contact\", r)\n",
    "            info.append([ligand_atom.index, protein_atom.index, r, protein_chain, ligand_atom.name, protein_atom.name])"
   ]
  },
  {
   "cell_type": "code",
   "execution_count": 31,
   "metadata": {},
   "outputs": [],
   "source": [
    "data = pd.DataFrame(info, columns=[\"Ligand_atom_index\", \"Protein_atom_index\", \"r\", \"Protein_chain\", \"Ligand_atom_name\", \"Protein_atom_name\"])"
   ]
  },
  {
   "cell_type": "code",
   "execution_count": 72,
   "metadata": {
    "collapsed": true
   },
   "outputs": [],
   "source": [
    "forcefield = ForceField(AWSEM_xml)\n",
    "[templates, names] = forcefield.generateTemplatesForUnmatchedResidues(pdb.topology)"
   ]
  },
  {
   "cell_type": "code",
   "execution_count": 73,
   "metadata": {},
   "outputs": [
    {
     "name": "stdout",
     "output_type": "stream",
     "text": [
      "CAA <Element carbon>\n",
      "CAB <Element carbon>\n",
      "CAC <Element carbon>\n",
      "CAD <Element carbon>\n",
      "NA <Element nitrogen>\n",
      "CBA <Element carbon>\n",
      "CBB <Element carbon>\n",
      "CBC <Element carbon>\n",
      "CBD <Element carbon>\n",
      "NB <Element nitrogen>\n",
      "CGA <Element carbon>\n",
      "CGD <Element carbon>\n",
      "ND <Element nitrogen>\n",
      "CHA <Element carbon>\n",
      "CHB <Element carbon>\n",
      "CHC <Element carbon>\n",
      "CHD <Element carbon>\n",
      "CMA <Element carbon>\n",
      "CMB <Element carbon>\n",
      "CMC <Element carbon>\n",
      "CMD <Element carbon>\n",
      "C1A <Element carbon>\n",
      "C1B <Element carbon>\n",
      "C1C <Element carbon>\n",
      "C1D <Element carbon>\n",
      "O1A <Element oxygen>\n",
      "O1D <Element oxygen>\n",
      "C2A <Element carbon>\n",
      "C2B <Element carbon>\n",
      "C2C <Element carbon>\n",
      "C2D <Element carbon>\n",
      "O2A <Element oxygen>\n",
      "O2D <Element oxygen>\n",
      "C3A <Element carbon>\n",
      "C3B <Element carbon>\n",
      "C3C <Element carbon>\n",
      "C3D <Element carbon>\n",
      "C4A <Element carbon>\n",
      "C4B <Element carbon>\n",
      "C4C <Element carbon>\n",
      "C4D <Element carbon>\n",
      "NC <Element nitrogen>\n",
      "FE <Element iron>\n"
     ]
    }
   ],
   "source": [
    "for a in templates:\n",
    "    for a1 in a.atoms:\n",
    "        a1.type = a1.name\n",
    "        print(a1.type, a1.element)\n",
    "        # a1.type = a1.element.symbol\n",
    "    forcefield.registerResidueTemplate(a)"
   ]
  },
  {
   "cell_type": "code",
   "execution_count": 74,
   "metadata": {},
   "outputs": [],
   "source": [
    "system = forcefield.createSystem(pdb.topology)"
   ]
  },
  {
   "cell_type": "code",
   "execution_count": 75,
   "metadata": {},
   "outputs": [
    {
     "data": {
      "text/plain": [
       "'FE'"
      ]
     },
     "execution_count": 75,
     "metadata": {},
     "output_type": "execute_result"
    }
   ],
   "source": [
    "a1.name"
   ]
  },
  {
   "cell_type": "code",
   "execution_count": 76,
   "metadata": {},
   "outputs": [],
   "source": [
    "b =a1.element"
   ]
  },
  {
   "cell_type": "code",
   "execution_count": 77,
   "metadata": {},
   "outputs": [
    {
     "data": {
      "text/plain": [
       "Quantity(value=55.8452, unit=dalton)"
      ]
     },
     "execution_count": 77,
     "metadata": {},
     "output_type": "execute_result"
    }
   ],
   "source": [
    "b.mass"
   ]
  },
  {
   "cell_type": "code",
   "execution_count": 78,
   "metadata": {},
   "outputs": [
    {
     "data": {
      "text/plain": [
       "'iron'"
      ]
     },
     "execution_count": 78,
     "metadata": {},
     "output_type": "execute_result"
    }
   ],
   "source": [
    "b.name"
   ]
  },
  {
   "cell_type": "code",
   "execution_count": 41,
   "metadata": {},
   "outputs": [
    {
     "data": {
      "text/plain": [
       "Quantity(value=55.8452, unit=dalton)"
      ]
     },
     "execution_count": 41,
     "metadata": {},
     "output_type": "execute_result"
    }
   ],
   "source": [
    "b.mass"
   ]
  },
  {
   "cell_type": "code",
   "execution_count": 36,
   "metadata": {},
   "outputs": [
    {
     "data": {
      "text/plain": [
       "{}"
      ]
     },
     "execution_count": 36,
     "metadata": {},
     "output_type": "execute_result"
    }
   ],
   "source": [
    "a1.parameters"
   ]
  },
  {
   "cell_type": "code",
   "execution_count": 37,
   "metadata": {},
   "outputs": [
    {
     "data": {
      "text/plain": [
       "'Fe'"
      ]
     },
     "execution_count": 37,
     "metadata": {},
     "output_type": "execute_result"
    }
   ],
   "source": [
    "a1.type"
   ]
  },
  {
   "cell_type": "code",
   "execution_count": null,
   "metadata": {
    "collapsed": true
   },
   "outputs": [],
   "source": [
    "a1."
   ]
  },
  {
   "cell_type": "code",
   "execution_count": 33,
   "metadata": {},
   "outputs": [
    {
     "data": {
      "text/plain": [
       "[<simtk.openmm.app.forcefield.ForceField._TemplateData at 0x115a8ff98>]"
      ]
     },
     "execution_count": 33,
     "metadata": {},
     "output_type": "execute_result"
    }
   ],
   "source": [
    "templates"
   ]
  },
  {
   "cell_type": "code",
   "execution_count": 79,
   "metadata": {},
   "outputs": [
    {
     "name": "stdout",
     "output_type": "stream",
     "text": [
      "0 12.0 Da\n",
      "1 0.0 Da\n",
      "2 16.0 Da\n",
      "3 12.0 Da\n",
      "4 0.0 Da\n",
      "5 0.0 Da\n",
      "6 12.0 Da\n",
      "7 0.0 Da\n",
      "8 16.0 Da\n",
      "9 0.0 Da\n",
      "10 0.0 Da\n",
      "11 12.0 Da\n",
      "12 0.0 Da\n",
      "13 16.0 Da\n",
      "14 12.0 Da\n",
      "15 0.0 Da\n",
      "16 0.0 Da\n",
      "17 12.0 Da\n",
      "18 0.0 Da\n",
      "19 16.0 Da\n",
      "20 12.0 Da\n",
      "21 0.0 Da\n",
      "22 12.0 Da\n",
      "23 0.0 Da\n",
      "24 16.0 Da\n",
      "25 12.0 Da\n",
      "26 0.0 Da\n",
      "27 0.0 Da\n",
      "28 12.0 Da\n",
      "29 0.0 Da\n",
      "30 16.0 Da\n",
      "31 12.0 Da\n",
      "32 0.0 Da\n",
      "33 0.0 Da\n",
      "34 12.0 Da\n",
      "35 0.0 Da\n",
      "36 16.0 Da\n",
      "37 12.0 Da\n",
      "38 0.0 Da\n",
      "39 0.0 Da\n",
      "40 12.0 Da\n",
      "41 0.0 Da\n",
      "42 16.0 Da\n",
      "43 12.0 Da\n",
      "44 0.0 Da\n",
      "45 0.0 Da\n",
      "46 12.0 Da\n",
      "47 0.0 Da\n",
      "48 16.0 Da\n",
      "49 12.0 Da\n",
      "50 0.0 Da\n",
      "51 0.0 Da\n",
      "52 12.0 Da\n",
      "53 0.0 Da\n",
      "54 16.0 Da\n",
      "55 12.0 Da\n",
      "56 0.0 Da\n",
      "57 0.0 Da\n",
      "58 12.0 Da\n",
      "59 0.0 Da\n",
      "60 16.0 Da\n",
      "61 12.0 Da\n",
      "62 0.0 Da\n",
      "63 0.0 Da\n",
      "64 12.0 Da\n",
      "65 0.0 Da\n",
      "66 16.0 Da\n",
      "67 12.0 Da\n",
      "68 0.0 Da\n",
      "69 0.0 Da\n",
      "70 12.0 Da\n",
      "71 0.0 Da\n",
      "72 16.0 Da\n",
      "73 12.0 Da\n",
      "74 0.0 Da\n",
      "75 0.0 Da\n",
      "76 12.0 Da\n",
      "77 0.0 Da\n",
      "78 16.0 Da\n",
      "79 12.0 Da\n",
      "80 0.0 Da\n",
      "81 0.0 Da\n",
      "82 12.0 Da\n",
      "83 0.0 Da\n",
      "84 16.0 Da\n",
      "85 0.0 Da\n",
      "86 0.0 Da\n",
      "87 12.0 Da\n",
      "88 0.0 Da\n",
      "89 16.0 Da\n",
      "90 12.0 Da\n",
      "91 0.0 Da\n",
      "92 0.0 Da\n",
      "93 12.0 Da\n",
      "94 0.0 Da\n",
      "95 16.0 Da\n",
      "96 12.0 Da\n",
      "97 0.0 Da\n",
      "98 0.0 Da\n",
      "99 12.0 Da\n",
      "100 0.0 Da\n",
      "101 16.0 Da\n",
      "102 12.0 Da\n",
      "103 0.0 Da\n",
      "104 0.0 Da\n",
      "105 12.0 Da\n",
      "106 0.0 Da\n",
      "107 16.0 Da\n",
      "108 12.0 Da\n",
      "109 0.0 Da\n",
      "110 0.0 Da\n",
      "111 12.0 Da\n",
      "112 0.0 Da\n",
      "113 16.0 Da\n",
      "114 0.0 Da\n",
      "115 0.0 Da\n",
      "116 12.0 Da\n",
      "117 0.0 Da\n",
      "118 16.0 Da\n",
      "119 12.0 Da\n",
      "120 0.0 Da\n",
      "121 0.0 Da\n",
      "122 12.0 Da\n",
      "123 0.0 Da\n",
      "124 16.0 Da\n",
      "125 12.0 Da\n",
      "126 0.0 Da\n",
      "127 0.0 Da\n",
      "128 12.0 Da\n",
      "129 0.0 Da\n",
      "130 16.0 Da\n",
      "131 12.0 Da\n",
      "132 0.0 Da\n",
      "133 0.0 Da\n",
      "134 12.0 Da\n",
      "135 0.0 Da\n",
      "136 16.0 Da\n",
      "137 0.0 Da\n",
      "138 0.0 Da\n",
      "139 12.0 Da\n",
      "140 0.0 Da\n",
      "141 16.0 Da\n",
      "142 12.0 Da\n",
      "143 0.0 Da\n",
      "144 0.0 Da\n",
      "145 12.0 Da\n",
      "146 0.0 Da\n",
      "147 16.0 Da\n",
      "148 12.0 Da\n",
      "149 0.0 Da\n",
      "150 0.0 Da\n",
      "151 12.0 Da\n",
      "152 0.0 Da\n",
      "153 16.0 Da\n",
      "154 12.0 Da\n",
      "155 0.0 Da\n",
      "156 0.0 Da\n",
      "157 12.0 Da\n",
      "158 0.0 Da\n",
      "159 16.0 Da\n",
      "160 12.0 Da\n",
      "161 0.0 Da\n",
      "162 0.0 Da\n",
      "163 12.0 Da\n",
      "164 0.0 Da\n",
      "165 16.0 Da\n",
      "166 12.0 Da\n",
      "167 0.0 Da\n",
      "168 0.0 Da\n",
      "169 12.0 Da\n",
      "170 0.0 Da\n",
      "171 16.0 Da\n",
      "172 12.0 Da\n",
      "173 0.0 Da\n",
      "174 0.0 Da\n",
      "175 12.0 Da\n",
      "176 0.0 Da\n",
      "177 16.0 Da\n",
      "178 12.0 Da\n",
      "179 0.0 Da\n",
      "180 0.0 Da\n",
      "181 12.0 Da\n",
      "182 0.0 Da\n",
      "183 16.0 Da\n",
      "184 0.0 Da\n",
      "185 0.0 Da\n",
      "186 12.0 Da\n",
      "187 0.0 Da\n",
      "188 16.0 Da\n",
      "189 12.0 Da\n",
      "190 0.0 Da\n",
      "191 0.0 Da\n",
      "192 12.0 Da\n",
      "193 0.0 Da\n",
      "194 16.0 Da\n",
      "195 12.0 Da\n",
      "196 0.0 Da\n",
      "197 0.0 Da\n",
      "198 12.0 Da\n",
      "199 0.0 Da\n",
      "200 16.0 Da\n",
      "201 12.0 Da\n",
      "202 0.0 Da\n",
      "203 0.0 Da\n",
      "204 12.0 Da\n",
      "205 0.0 Da\n",
      "206 16.0 Da\n",
      "207 12.0 Da\n",
      "208 0.0 Da\n",
      "209 0.0 Da\n",
      "210 12.0 Da\n",
      "211 0.0 Da\n",
      "212 16.0 Da\n",
      "213 12.0 Da\n",
      "214 0.0 Da\n",
      "215 0.0 Da\n",
      "216 12.0 Da\n",
      "217 0.0 Da\n",
      "218 16.0 Da\n",
      "219 12.0 Da\n",
      "220 0.0 Da\n",
      "221 0.0 Da\n",
      "222 12.0 Da\n",
      "223 0.0 Da\n",
      "224 16.0 Da\n",
      "225 12.0 Da\n",
      "226 0.0 Da\n",
      "227 0.0 Da\n",
      "228 12.0 Da\n",
      "229 0.0 Da\n",
      "230 16.0 Da\n",
      "231 12.0 Da\n",
      "232 0.0 Da\n",
      "233 0.0 Da\n",
      "234 12.0 Da\n",
      "235 0.0 Da\n",
      "236 16.0 Da\n",
      "237 12.0 Da\n",
      "238 0.0 Da\n",
      "239 0.0 Da\n",
      "240 12.0 Da\n",
      "241 0.0 Da\n",
      "242 16.0 Da\n",
      "243 12.0 Da\n",
      "244 0.0 Da\n",
      "245 0.0 Da\n",
      "246 12.0 Da\n",
      "247 0.0 Da\n",
      "248 16.0 Da\n",
      "249 12.0 Da\n",
      "250 0.0 Da\n",
      "251 0.0 Da\n",
      "252 12.0 Da\n",
      "253 0.0 Da\n",
      "254 16.0 Da\n",
      "255 12.0 Da\n",
      "256 0.0 Da\n",
      "257 0.0 Da\n",
      "258 12.0 Da\n",
      "259 0.0 Da\n",
      "260 16.0 Da\n",
      "261 12.0 Da\n",
      "262 0.0 Da\n",
      "263 0.0 Da\n",
      "264 12.0 Da\n",
      "265 0.0 Da\n",
      "266 16.0 Da\n",
      "267 12.0 Da\n",
      "268 0.0 Da\n",
      "269 0.0 Da\n",
      "270 12.0 Da\n",
      "271 0.0 Da\n",
      "272 16.0 Da\n",
      "273 12.0 Da\n",
      "274 0.0 Da\n",
      "275 0.0 Da\n",
      "276 12.0 Da\n",
      "277 0.0 Da\n",
      "278 16.0 Da\n",
      "279 12.0 Da\n",
      "280 0.0 Da\n",
      "281 0.0 Da\n",
      "282 12.0 Da\n",
      "283 0.0 Da\n",
      "284 16.0 Da\n",
      "285 12.0 Da\n",
      "286 0.0 Da\n",
      "287 0.0 Da\n",
      "288 12.0 Da\n",
      "289 0.0 Da\n",
      "290 16.0 Da\n",
      "291 12.0 Da\n",
      "292 0.0 Da\n",
      "293 0.0 Da\n",
      "294 12.0 Da\n",
      "295 0.0 Da\n",
      "296 16.0 Da\n",
      "297 12.0 Da\n",
      "298 0.0 Da\n",
      "299 0.0 Da\n",
      "300 12.0 Da\n",
      "301 0.0 Da\n",
      "302 16.0 Da\n",
      "303 12.0 Da\n",
      "304 0.0 Da\n",
      "305 0.0 Da\n",
      "306 12.0 Da\n",
      "307 0.0 Da\n",
      "308 16.0 Da\n",
      "309 0.0 Da\n",
      "310 0.0 Da\n",
      "311 12.0 Da\n",
      "312 0.0 Da\n",
      "313 16.0 Da\n",
      "314 12.0 Da\n",
      "315 0.0 Da\n",
      "316 0.0 Da\n",
      "317 12.0 Da\n",
      "318 0.0 Da\n",
      "319 16.0 Da\n",
      "320 0.0 Da\n",
      "321 0.0 Da\n",
      "322 12.0 Da\n",
      "323 0.0 Da\n",
      "324 16.0 Da\n",
      "325 12.0 Da\n",
      "326 0.0 Da\n",
      "327 0.0 Da\n",
      "328 12.0 Da\n",
      "329 0.0 Da\n",
      "330 16.0 Da\n",
      "331 12.0 Da\n",
      "332 0.0 Da\n",
      "333 0.0 Da\n",
      "334 12.0 Da\n",
      "335 0.0 Da\n",
      "336 16.0 Da\n",
      "337 12.0 Da\n",
      "338 0.0 Da\n",
      "339 0.0 Da\n",
      "340 12.0 Da\n",
      "341 0.0 Da\n",
      "342 16.0 Da\n",
      "343 0.0 Da\n",
      "344 12.0 Da\n",
      "345 0.0 Da\n",
      "346 16.0 Da\n",
      "347 12.0 Da\n",
      "348 0.0 Da\n",
      "349 0.0 Da\n",
      "350 12.0 Da\n",
      "351 0.0 Da\n",
      "352 16.0 Da\n",
      "353 0.0 Da\n",
      "354 0.0 Da\n",
      "355 12.0 Da\n",
      "356 0.0 Da\n",
      "357 16.0 Da\n",
      "358 12.0 Da\n",
      "359 0.0 Da\n",
      "360 0.0 Da\n",
      "361 12.0 Da\n",
      "362 0.0 Da\n",
      "363 16.0 Da\n",
      "364 12.0 Da\n",
      "365 0.0 Da\n",
      "366 0.0 Da\n",
      "367 12.0 Da\n",
      "368 0.0 Da\n",
      "369 16.0 Da\n",
      "370 12.0 Da\n",
      "371 0.0 Da\n",
      "372 0.0 Da\n",
      "373 12.0 Da\n",
      "374 0.0 Da\n",
      "375 16.0 Da\n",
      "376 12.0 Da\n",
      "377 0.0 Da\n",
      "378 0.0 Da\n",
      "379 12.0 Da\n",
      "380 0.0 Da\n",
      "381 16.0 Da\n",
      "382 12.0 Da\n",
      "383 0.0 Da\n",
      "384 0.0 Da\n",
      "385 12.0 Da\n",
      "386 0.0 Da\n",
      "387 16.0 Da\n",
      "388 0.0 Da\n",
      "389 0.0 Da\n",
      "390 12.0 Da\n",
      "391 0.0 Da\n",
      "392 16.0 Da\n",
      "393 12.0 Da\n",
      "394 0.0 Da\n",
      "395 0.0 Da\n",
      "396 12.0 Da\n",
      "397 0.0 Da\n",
      "398 16.0 Da\n",
      "399 12.0 Da\n",
      "400 0.0 Da\n",
      "401 0.0 Da\n",
      "402 12.0 Da\n",
      "403 0.0 Da\n",
      "404 16.0 Da\n",
      "405 12.0 Da\n",
      "406 0.0 Da\n",
      "407 0.0 Da\n",
      "408 12.0 Da\n",
      "409 0.0 Da\n",
      "410 16.0 Da\n",
      "411 12.0 Da\n",
      "412 0.0 Da\n",
      "413 0.0 Da\n",
      "414 12.0 Da\n",
      "415 0.0 Da\n",
      "416 16.0 Da\n",
      "417 12.0 Da\n",
      "418 0.0 Da\n",
      "419 0.0 Da\n",
      "420 12.0 Da\n",
      "421 0.0 Da\n",
      "422 16.0 Da\n",
      "423 12.0 Da\n",
      "424 0.0 Da\n",
      "425 0.0 Da\n",
      "426 12.0 Da\n",
      "427 0.0 Da\n",
      "428 16.0 Da\n",
      "429 12.0 Da\n",
      "430 0.0 Da\n",
      "431 12.0 Da\n",
      "432 0.0 Da\n",
      "433 16.0 Da\n",
      "434 12.0 Da\n",
      "435 0.0 Da\n",
      "436 0.0 Da\n",
      "437 12.0 Da\n",
      "438 0.0 Da\n",
      "439 16.0 Da\n",
      "440 12.0 Da\n",
      "441 0.0 Da\n",
      "442 0.0 Da\n",
      "443 12.0 Da\n",
      "444 0.0 Da\n",
      "445 16.0 Da\n",
      "446 12.0 Da\n",
      "447 0.0 Da\n",
      "448 0.0 Da\n",
      "449 12.0 Da\n",
      "450 0.0 Da\n",
      "451 16.0 Da\n",
      "452 12.0 Da\n",
      "453 0.0 Da\n",
      "454 0.0 Da\n",
      "455 12.0 Da\n",
      "456 0.0 Da\n",
      "457 16.0 Da\n",
      "458 12.0 Da\n",
      "459 0.0 Da\n",
      "460 0.0 Da\n",
      "461 12.0 Da\n",
      "462 0.0 Da\n",
      "463 16.0 Da\n",
      "464 12.0 Da\n",
      "465 0.0 Da\n",
      "466 0.0 Da\n",
      "467 12.0 Da\n",
      "468 0.0 Da\n",
      "469 16.0 Da\n",
      "470 12.0 Da\n",
      "471 0.0 Da\n",
      "472 0.0 Da\n",
      "473 12.0 Da\n",
      "474 0.0 Da\n",
      "475 16.0 Da\n",
      "476 12.0 Da\n",
      "477 0.0 Da\n",
      "478 0.0 Da\n",
      "479 12.0 Da\n",
      "480 0.0 Da\n",
      "481 16.0 Da\n",
      "482 12.0 Da\n",
      "483 0.0 Da\n",
      "484 0.0 Da\n",
      "485 12.0 Da\n",
      "486 0.0 Da\n",
      "487 16.0 Da\n",
      "488 12.0 Da\n",
      "489 0.0 Da\n",
      "490 0.0 Da\n",
      "491 12.0 Da\n",
      "492 0.0 Da\n",
      "493 16.0 Da\n",
      "494 0.0 Da\n",
      "495 0.0 Da\n",
      "496 12.0 Da\n",
      "497 0.0 Da\n",
      "498 16.0 Da\n",
      "499 12.0 Da\n",
      "500 0.0 Da\n",
      "501 0.0 Da\n",
      "502 12.0 Da\n",
      "503 0.0 Da\n",
      "504 16.0 Da\n",
      "505 12.0 Da\n",
      "506 0.0 Da\n",
      "507 0.0 Da\n",
      "508 12.0 Da\n",
      "509 0.0 Da\n",
      "510 16.0 Da\n",
      "511 12.0 Da\n",
      "512 0.0 Da\n",
      "513 0.0 Da\n",
      "514 12.0 Da\n",
      "515 0.0 Da\n",
      "516 16.0 Da\n",
      "517 12.0 Da\n",
      "518 0.0 Da\n",
      "519 0.0 Da\n",
      "520 12.0 Da\n",
      "521 0.0 Da\n",
      "522 16.0 Da\n",
      "523 12.0 Da\n",
      "524 0.0 Da\n",
      "525 0.0 Da\n",
      "526 12.0 Da\n",
      "527 0.0 Da\n",
      "528 16.0 Da\n",
      "529 12.0 Da\n",
      "530 0.0 Da\n",
      "531 0.0 Da\n",
      "532 12.0 Da\n",
      "533 0.0 Da\n",
      "534 16.0 Da\n",
      "535 12.0 Da\n",
      "536 0.0 Da\n",
      "537 0.0 Da\n",
      "538 12.0 Da\n",
      "539 0.0 Da\n",
      "540 16.0 Da\n",
      "541 0.0 Da\n",
      "542 0.0 Da\n",
      "543 12.0 Da\n",
      "544 0.0 Da\n",
      "545 16.0 Da\n",
      "546 12.0 Da\n",
      "547 0.0 Da\n",
      "548 0.0 Da\n",
      "549 12.0 Da\n",
      "550 0.0 Da\n",
      "551 16.0 Da\n",
      "552 12.0 Da\n",
      "553 0.0 Da\n",
      "554 0.0 Da\n",
      "555 12.0 Da\n",
      "556 0.0 Da\n",
      "557 16.0 Da\n",
      "558 12.0 Da\n",
      "559 0.0 Da\n",
      "560 0.0 Da\n",
      "561 12.0 Da\n",
      "562 0.0 Da\n",
      "563 16.0 Da\n",
      "564 12.0 Da\n",
      "565 0.0 Da\n",
      "566 0.0 Da\n",
      "567 12.0 Da\n",
      "568 0.0 Da\n",
      "569 16.0 Da\n",
      "570 12.0 Da\n",
      "571 0.0 Da\n",
      "572 0.0 Da\n",
      "573 12.0 Da\n",
      "574 0.0 Da\n",
      "575 16.0 Da\n",
      "576 12.0 Da\n",
      "577 0.0 Da\n",
      "578 0.0 Da\n",
      "579 12.0 Da\n",
      "580 0.0 Da\n",
      "581 16.0 Da\n",
      "582 12.0 Da\n",
      "583 0.0 Da\n",
      "584 0.0 Da\n",
      "585 12.0 Da\n",
      "586 0.0 Da\n",
      "587 16.0 Da\n",
      "588 12.0 Da\n",
      "589 0.0 Da\n",
      "590 0.0 Da\n",
      "591 12.0 Da\n",
      "592 0.0 Da\n",
      "593 16.0 Da\n",
      "594 12.0 Da\n",
      "595 0.0 Da\n",
      "596 0.0 Da\n",
      "597 12.0 Da\n",
      "598 0.0 Da\n",
      "599 16.0 Da\n",
      "600 12.0 Da\n",
      "601 0.0 Da\n",
      "602 0.0 Da\n",
      "603 12.0 Da\n",
      "604 0.0 Da\n",
      "605 16.0 Da\n",
      "606 12.0 Da\n",
      "607 0.0 Da\n",
      "608 0.0 Da\n",
      "609 12.0 Da\n",
      "610 0.0 Da\n",
      "611 16.0 Da\n",
      "612 0.0 Da\n",
      "613 0.0 Da\n",
      "614 12.0 Da\n",
      "615 0.0 Da\n",
      "616 16.0 Da\n",
      "617 12.0 Da\n",
      "618 0.0 Da\n",
      "619 0.0 Da\n",
      "620 12.0 Da\n",
      "621 0.0 Da\n",
      "622 16.0 Da\n",
      "623 12.0 Da\n",
      "624 0.0 Da\n",
      "625 0.0 Da\n",
      "626 12.0 Da\n",
      "627 0.0 Da\n",
      "628 16.0 Da\n",
      "629 12.0 Da\n",
      "630 0.0 Da\n",
      "631 0.0 Da\n",
      "632 12.0 Da\n",
      "633 0.0 Da\n",
      "634 16.0 Da\n",
      "635 12.0 Da\n",
      "636 0.0 Da\n",
      "637 0.0 Da\n",
      "638 12.0 Da\n",
      "639 0.0 Da\n",
      "640 16.0 Da\n",
      "641 12.0 Da\n",
      "642 0.0 Da\n",
      "643 0.0 Da\n",
      "644 12.0 Da\n",
      "645 0.0 Da\n",
      "646 16.0 Da\n",
      "647 12.0 Da\n",
      "648 0.0 Da\n",
      "649 0.0 Da\n",
      "650 12.0 Da\n",
      "651 0.0 Da\n",
      "652 16.0 Da\n",
      "653 12.0 Da\n",
      "654 0.0 Da\n",
      "655 0.0 Da\n",
      "656 12.0 Da\n",
      "657 0.0 Da\n",
      "658 16.0 Da\n",
      "659 12.0 Da\n",
      "660 0.0 Da\n",
      "661 0.0 Da\n",
      "662 12.0 Da\n",
      "663 0.0 Da\n",
      "664 16.0 Da\n",
      "665 12.0 Da\n",
      "666 0.0 Da\n",
      "667 0.0 Da\n",
      "668 12.0 Da\n",
      "669 0.0 Da\n",
      "670 16.0 Da\n",
      "671 0.0 Da\n",
      "672 0.0 Da\n",
      "673 12.0 Da\n",
      "674 0.0 Da\n",
      "675 16.0 Da\n",
      "676 12.0 Da\n",
      "677 0.0 Da\n",
      "678 0.0 Da\n",
      "679 12.0 Da\n",
      "680 0.0 Da\n",
      "681 16.0 Da\n",
      "682 12.0 Da\n",
      "683 0.0 Da\n",
      "684 0.0 Da\n",
      "685 12.0 Da\n",
      "686 0.0 Da\n",
      "687 16.0 Da\n",
      "688 0.0 Da\n",
      "689 0.0 Da\n",
      "690 12.0 Da\n",
      "691 0.0 Da\n",
      "692 16.0 Da\n",
      "693 12.0 Da\n",
      "694 0.0 Da\n",
      "695 0.0 Da\n",
      "696 12.0 Da\n",
      "697 0.0 Da\n",
      "698 16.0 Da\n",
      "699 12.0 Da\n",
      "700 0.0 Da\n",
      "701 0.0 Da\n",
      "702 12.0 Da\n",
      "703 0.0 Da\n",
      "704 16.0 Da\n",
      "705 12.0 Da\n",
      "706 0.0 Da\n",
      "707 0.0 Da\n",
      "708 12.0 Da\n",
      "709 0.0 Da\n",
      "710 16.0 Da\n",
      "711 12.0 Da\n",
      "712 0.0 Da\n",
      "713 0.0 Da\n",
      "714 12.0 Da\n",
      "715 0.0 Da\n",
      "716 16.0 Da\n",
      "717 12.0 Da\n",
      "718 0.0 Da\n",
      "719 0.0 Da\n",
      "720 12.0 Da\n",
      "721 0.0 Da\n",
      "722 16.0 Da\n",
      "723 12.0 Da\n",
      "724 0.0 Da\n",
      "725 0.0 Da\n",
      "726 12.0 Da\n",
      "727 0.0 Da\n",
      "728 16.0 Da\n",
      "729 12.0 Da\n",
      "730 0.0 Da\n",
      "731 0.0 Da\n",
      "732 12.0 Da\n",
      "733 0.0 Da\n",
      "734 16.0 Da\n",
      "735 12.0 Da\n",
      "736 0.0 Da\n",
      "737 0.0 Da\n",
      "738 12.0 Da\n",
      "739 0.0 Da\n",
      "740 16.0 Da\n",
      "741 12.0 Da\n",
      "742 0.0 Da\n",
      "743 0.0 Da\n",
      "744 12.0 Da\n",
      "745 0.0 Da\n",
      "746 16.0 Da\n",
      "747 12.0 Da\n",
      "748 0.0 Da\n",
      "749 0.0 Da\n",
      "750 12.0 Da\n",
      "751 0.0 Da\n",
      "752 16.0 Da\n",
      "753 12.0 Da\n",
      "754 0.0 Da\n",
      "755 0.0 Da\n",
      "756 12.0 Da\n",
      "757 0.0 Da\n",
      "758 16.0 Da\n",
      "759 12.0 Da\n",
      "760 0.0 Da\n",
      "761 0.0 Da\n",
      "762 12.0 Da\n",
      "763 16.0 Da\n",
      "764 12.0 Da\n",
      "765 12.0 Da\n",
      "766 12.0 Da\n",
      "767 12.0 Da\n",
      "768 12.0 Da\n",
      "769 14.0 Da\n",
      "770 12.0 Da\n",
      "771 12.0 Da\n",
      "772 12.0 Da\n",
      "773 12.0 Da\n",
      "774 14.0 Da\n",
      "775 12.0 Da\n",
      "776 12.0 Da\n",
      "777 14.0 Da\n",
      "778 12.0 Da\n",
      "779 12.0 Da\n",
      "780 12.0 Da\n",
      "781 12.0 Da\n",
      "782 12.0 Da\n",
      "783 12.0 Da\n",
      "784 12.0 Da\n",
      "785 12.0 Da\n",
      "786 12.0 Da\n",
      "787 12.0 Da\n",
      "788 12.0 Da\n",
      "789 12.0 Da\n",
      "790 16.0 Da\n",
      "791 16.0 Da\n",
      "792 12.0 Da\n",
      "793 12.0 Da\n",
      "794 12.0 Da\n",
      "795 12.0 Da\n",
      "796 16.0 Da\n",
      "797 16.0 Da\n",
      "798 12.0 Da\n",
      "799 12.0 Da\n",
      "800 12.0 Da\n",
      "801 12.0 Da\n",
      "802 12.0 Da\n",
      "803 12.0 Da\n",
      "804 12.0 Da\n",
      "805 12.0 Da\n",
      "806 14.0 Da\n",
      "807 15.845 Da\n"
     ]
    },
    {
     "ename": "Exception",
     "evalue": "Assertion failure at System.cpp:55.  Index out of range",
     "output_type": "error",
     "traceback": [
      "\u001b[0;31m---------------------------------------------------------------------------\u001b[0m",
      "\u001b[0;31mException\u001b[0m                                 Traceback (most recent call last)",
      "\u001b[0;32m<ipython-input-79-fe8a681587ce>\u001b[0m in \u001b[0;36m<module>\u001b[0;34m()\u001b[0m\n\u001b[1;32m      1\u001b[0m \u001b[0;32mfor\u001b[0m \u001b[0mi\u001b[0m \u001b[0;32min\u001b[0m \u001b[0mrange\u001b[0m\u001b[0;34m(\u001b[0m\u001b[0;36m810\u001b[0m\u001b[0;34m)\u001b[0m\u001b[0;34m:\u001b[0m\u001b[0;34m\u001b[0m\u001b[0;34m\u001b[0m\u001b[0m\n\u001b[0;32m----> 2\u001b[0;31m     \u001b[0ma\u001b[0m \u001b[0;34m=\u001b[0m \u001b[0msystem\u001b[0m\u001b[0;34m.\u001b[0m\u001b[0mgetParticleMass\u001b[0m\u001b[0;34m(\u001b[0m\u001b[0mi\u001b[0m\u001b[0;34m)\u001b[0m\u001b[0;34m\u001b[0m\u001b[0;34m\u001b[0m\u001b[0m\n\u001b[0m\u001b[1;32m      3\u001b[0m     \u001b[0mprint\u001b[0m\u001b[0;34m(\u001b[0m\u001b[0mi\u001b[0m\u001b[0;34m,\u001b[0m \u001b[0ma\u001b[0m\u001b[0;34m)\u001b[0m\u001b[0;34m\u001b[0m\u001b[0;34m\u001b[0m\u001b[0m\n",
      "\u001b[0;32m~/anaconda/lib/python3.6/site-packages/simtk/openmm/openmm.py\u001b[0m in \u001b[0;36mgetParticleMass\u001b[0;34m(self, index)\u001b[0m\n\u001b[1;32m  19708\u001b[0m             \u001b[0mthe\u001b[0m \u001b[0mindex\u001b[0m \u001b[0mof\u001b[0m \u001b[0mthe\u001b[0m \u001b[0mparticle\u001b[0m \u001b[0;32mfor\u001b[0m \u001b[0mwhich\u001b[0m \u001b[0mto\u001b[0m \u001b[0mget\u001b[0m \u001b[0mthe\u001b[0m \u001b[0mmass\u001b[0m\u001b[0;34m\u001b[0m\u001b[0;34m\u001b[0m\u001b[0m\n\u001b[1;32m  19709\u001b[0m         \"\"\"\n\u001b[0;32m> 19710\u001b[0;31m         \u001b[0mval\u001b[0m \u001b[0;34m=\u001b[0m \u001b[0m_openmm\u001b[0m\u001b[0;34m.\u001b[0m\u001b[0mSystem_getParticleMass\u001b[0m\u001b[0;34m(\u001b[0m\u001b[0mself\u001b[0m\u001b[0;34m,\u001b[0m \u001b[0mindex\u001b[0m\u001b[0;34m)\u001b[0m\u001b[0;34m\u001b[0m\u001b[0;34m\u001b[0m\u001b[0m\n\u001b[0m\u001b[1;32m  19711\u001b[0m \u001b[0;34m\u001b[0m\u001b[0m\n\u001b[1;32m  19712\u001b[0m         \u001b[0mval\u001b[0m\u001b[0;34m=\u001b[0m\u001b[0munit\u001b[0m\u001b[0;34m.\u001b[0m\u001b[0mQuantity\u001b[0m\u001b[0;34m(\u001b[0m\u001b[0mval\u001b[0m\u001b[0;34m,\u001b[0m \u001b[0munit\u001b[0m\u001b[0;34m.\u001b[0m\u001b[0mamu\u001b[0m\u001b[0;34m)\u001b[0m\u001b[0;34m\u001b[0m\u001b[0;34m\u001b[0m\u001b[0m\n",
      "\u001b[0;31mException\u001b[0m: Assertion failure at System.cpp:55.  Index out of range"
     ]
    }
   ],
   "source": [
    "for i in range(810):\n",
    "    a = system.getParticleMass(i)\n",
    "    print(i, a)"
   ]
  },
  {
   "cell_type": "code",
   "execution_count": 20,
   "metadata": {},
   "outputs": [
    {
     "data": {
      "text/html": [
       "<div>\n",
       "<style scoped>\n",
       "    .dataframe tbody tr th:only-of-type {\n",
       "        vertical-align: middle;\n",
       "    }\n",
       "\n",
       "    .dataframe tbody tr th {\n",
       "        vertical-align: top;\n",
       "    }\n",
       "\n",
       "    .dataframe thead th {\n",
       "        text-align: right;\n",
       "    }\n",
       "</style>\n",
       "<table border=\"1\" class=\"dataframe\">\n",
       "  <thead>\n",
       "    <tr style=\"text-align: right;\">\n",
       "      <th></th>\n",
       "      <th>Ligand_atom_index</th>\n",
       "      <th>Protein_atom_index</th>\n",
       "      <th>r</th>\n",
       "      <th>Protein_chain</th>\n",
       "      <th>Ligand_atom_name</th>\n",
       "      <th>Protein_atom_name</th>\n",
       "    </tr>\n",
       "  </thead>\n",
       "  <tbody>\n",
       "    <tr>\n",
       "      <td>0</td>\n",
       "      <td>765</td>\n",
       "      <td>73</td>\n",
       "      <td>0.560354</td>\n",
       "      <td>A</td>\n",
       "      <td>CAA</td>\n",
       "      <td>CB</td>\n",
       "    </tr>\n",
       "    <tr>\n",
       "      <td>1</td>\n",
       "      <td>765</td>\n",
       "      <td>90</td>\n",
       "      <td>0.453520</td>\n",
       "      <td>A</td>\n",
       "      <td>CAA</td>\n",
       "      <td>CB</td>\n",
       "    </tr>\n",
       "    <tr>\n",
       "      <td>2</td>\n",
       "      <td>765</td>\n",
       "      <td>96</td>\n",
       "      <td>0.559185</td>\n",
       "      <td>A</td>\n",
       "      <td>CAA</td>\n",
       "      <td>CB</td>\n",
       "    </tr>\n",
       "    <tr>\n",
       "      <td>3</td>\n",
       "      <td>766</td>\n",
       "      <td>108</td>\n",
       "      <td>0.516014</td>\n",
       "      <td>A</td>\n",
       "      <td>CAB</td>\n",
       "      <td>CB</td>\n",
       "    </tr>\n",
       "    <tr>\n",
       "      <td>4</td>\n",
       "      <td>766</td>\n",
       "      <td>682</td>\n",
       "      <td>0.610380</td>\n",
       "      <td>A</td>\n",
       "      <td>CAB</td>\n",
       "      <td>CB</td>\n",
       "    </tr>\n",
       "    <tr>\n",
       "      <td>...</td>\n",
       "      <td>...</td>\n",
       "      <td>...</td>\n",
       "      <td>...</td>\n",
       "      <td>...</td>\n",
       "      <td>...</td>\n",
       "      <td>...</td>\n",
       "    </tr>\n",
       "    <tr>\n",
       "      <td>165</td>\n",
       "      <td>807</td>\n",
       "      <td>90</td>\n",
       "      <td>0.435179</td>\n",
       "      <td>A</td>\n",
       "      <td>FE</td>\n",
       "      <td>CB</td>\n",
       "    </tr>\n",
       "    <tr>\n",
       "      <td>166</td>\n",
       "      <td>807</td>\n",
       "      <td>705</td>\n",
       "      <td>0.557864</td>\n",
       "      <td>A</td>\n",
       "      <td>FE</td>\n",
       "      <td>CB</td>\n",
       "    </tr>\n",
       "    <tr>\n",
       "      <td>167</td>\n",
       "      <td>807</td>\n",
       "      <td>723</td>\n",
       "      <td>0.617690</td>\n",
       "      <td>A</td>\n",
       "      <td>FE</td>\n",
       "      <td>CB</td>\n",
       "    </tr>\n",
       "    <tr>\n",
       "      <td>168</td>\n",
       "      <td>807</td>\n",
       "      <td>729</td>\n",
       "      <td>0.558187</td>\n",
       "      <td>A</td>\n",
       "      <td>FE</td>\n",
       "      <td>CB</td>\n",
       "    </tr>\n",
       "    <tr>\n",
       "      <td>169</td>\n",
       "      <td>807</td>\n",
       "      <td>753</td>\n",
       "      <td>0.634061</td>\n",
       "      <td>A</td>\n",
       "      <td>FE</td>\n",
       "      <td>CB</td>\n",
       "    </tr>\n",
       "  </tbody>\n",
       "</table>\n",
       "<p>170 rows × 6 columns</p>\n",
       "</div>"
      ],
      "text/plain": [
       "     Ligand_atom_index  Protein_atom_index         r Protein_chain  \\\n",
       "0                  765                  73  0.560354             A   \n",
       "1                  765                  90  0.453520             A   \n",
       "2                  765                  96  0.559185             A   \n",
       "3                  766                 108  0.516014             A   \n",
       "4                  766                 682  0.610380             A   \n",
       "..                 ...                 ...       ...           ...   \n",
       "165                807                  90  0.435179             A   \n",
       "166                807                 705  0.557864             A   \n",
       "167                807                 723  0.617690             A   \n",
       "168                807                 729  0.558187             A   \n",
       "169                807                 753  0.634061             A   \n",
       "\n",
       "    Ligand_atom_name Protein_atom_name  \n",
       "0                CAA                CB  \n",
       "1                CAA                CB  \n",
       "2                CAA                CB  \n",
       "3                CAB                CB  \n",
       "4                CAB                CB  \n",
       "..               ...               ...  \n",
       "165               FE                CB  \n",
       "166               FE                CB  \n",
       "167               FE                CB  \n",
       "168               FE                CB  \n",
       "169               FE                CB  \n",
       "\n",
       "[170 rows x 6 columns]"
      ]
     },
     "execution_count": 20,
     "metadata": {},
     "output_type": "execute_result"
    }
   ],
   "source": [
    "data"
   ]
  },
  {
   "cell_type": "code",
   "execution_count": 26,
   "metadata": {
    "collapsed": true,
    "scrolled": true
   },
   "outputs": [],
   "source": [
    "AWSEM_xml = \"/Users/weilu/openmmawsem/awsem_heme.xml\"\n",
    "pre = \"/Users/weilu/Research/server/may_week3_2020/hemoglobin/setups/debug_displacement_of_N/\"\n",
    "fileLocation = \"/Users/weilu/Research/server/may_week3_2020/hemoglobin/setups/four_chains/5x2r-openmmawsem.pdb\"\n",
    "fileLocation = \"/Users/weilu/Research/server/may_week3_2020/hemoglobin/setups/debug_displacement_of_N/5x2r-openmmawsem.pdb\"\n",
    "pdb = PDBFile(fileLocation)\n",
    "# pdb = PDBFile(\"/Users/weilu/Research/server/jan_2020/include_small_molecular/my_ABCDE_with_ligand/my_ABCDE_with_ligand-openmmawsem.pdb\")"
   ]
  },
  {
   "cell_type": "code",
   "execution_count": 27,
   "metadata": {
    "collapsed": true,
    "scrolled": true
   },
   "outputs": [],
   "source": []
  },
  {
   "cell_type": "code",
   "execution_count": 28,
   "metadata": {
    "collapsed": true,
    "scrolled": true
   },
   "outputs": [],
   "source": [
    "res_list = list(pdb.topology.residues())\n",
    "atom_list = list(pdb.topology.atoms())\n",
    "protein_resNames = [\"NGP\", \"IGL\", \"IPR\", \"NTER\", \"CTER\"]\n",
    "DNA_resNames = [\"DA\", \"DC\", \"DT\", \"DG\"]\n",
    "protein_res_list = []\n",
    "DNA_res_list = []\n",
    "ligand_res_list = []\n",
    "for res in res_list:\n",
    "    if res.name in protein_resNames:\n",
    "        protein_res_list.append(res)\n",
    "    elif res.name in DNA_resNames:\n",
    "        DNA_res_list.append(res)\n",
    "    else:\n",
    "        ligand_res_list.append(res)\n",
    "\n",
    "protein_atom_list = []\n",
    "DNA_atom_list = []\n",
    "ligand_atom_list = []\n",
    "for atom in atom_list:\n",
    "    if atom.residue.name in protein_resNames:\n",
    "        protein_atom_list.append(atom)\n",
    "    elif atom.residue.name in DNA_resNames:\n",
    "        DNA_atom_list.append(atom)\n",
    "    else:\n",
    "        ligand_atom_list.append(atom)"
   ]
  },
  {
   "cell_type": "code",
   "execution_count": 29,
   "metadata": {
    "collapsed": true,
    "scrolled": true
   },
   "outputs": [],
   "source": []
  },
  {
   "cell_type": "code",
   "execution_count": 30,
   "metadata": {
    "collapsed": true,
    "scrolled": true
   },
   "outputs": [],
   "source": []
  },
  {
   "cell_type": "code",
   "execution_count": 31,
   "metadata": {
    "collapsed": true,
    "scrolled": true
   },
   "outputs": [],
   "source": [
    "data = pd.DataFrame(info, columns=[\"Ligand_atom_index\", \"Protein_atom_index\", \"r\", \"Protein_chain\"])"
   ]
  },
  {
   "cell_type": "code",
   "execution_count": 32,
   "metadata": {
    "collapsed": true,
    "scrolled": true
   },
   "outputs": [],
   "source": [
    "data.to_csv(f\"{pre}/het_protein_bonds.csv\", index=False)"
   ]
  },
  {
   "cell_type": "code",
   "execution_count": 33,
   "metadata": {},
   "outputs": [
    {
     "data": {
      "text/html": [
       "<div>\n",
       "<style scoped>\n",
       "    .dataframe tbody tr th:only-of-type {\n",
       "        vertical-align: middle;\n",
       "    }\n",
       "\n",
       "    .dataframe tbody tr th {\n",
       "        vertical-align: top;\n",
       "    }\n",
       "\n",
       "    .dataframe thead th {\n",
       "        text-align: right;\n",
       "    }\n",
       "</style>\n",
       "<table border=\"1\" class=\"dataframe\">\n",
       "  <thead>\n",
       "    <tr style=\"text-align: right;\">\n",
       "      <th></th>\n",
       "      <th>Ligand_atom_index</th>\n",
       "      <th>Protein_atom_index</th>\n",
       "      <th>r</th>\n",
       "      <th>Protein_chain</th>\n",
       "    </tr>\n",
       "  </thead>\n",
       "  <tbody>\n",
       "    <tr>\n",
       "      <td>0</td>\n",
       "      <td>3340</td>\n",
       "      <td>353</td>\n",
       "      <td>0.567563</td>\n",
       "      <td>A</td>\n",
       "    </tr>\n",
       "    <tr>\n",
       "      <td>1</td>\n",
       "      <td>3340</td>\n",
       "      <td>502</td>\n",
       "      <td>0.562452</td>\n",
       "      <td>A</td>\n",
       "    </tr>\n",
       "    <tr>\n",
       "      <td>2</td>\n",
       "      <td>3341</td>\n",
       "      <td>330</td>\n",
       "      <td>0.646263</td>\n",
       "      <td>A</td>\n",
       "    </tr>\n",
       "    <tr>\n",
       "      <td>3</td>\n",
       "      <td>3341</td>\n",
       "      <td>347</td>\n",
       "      <td>0.600552</td>\n",
       "      <td>A</td>\n",
       "    </tr>\n",
       "    <tr>\n",
       "      <td>4</td>\n",
       "      <td>3341</td>\n",
       "      <td>496</td>\n",
       "      <td>0.586840</td>\n",
       "      <td>A</td>\n",
       "    </tr>\n",
       "    <tr>\n",
       "      <td>...</td>\n",
       "      <td>...</td>\n",
       "      <td>...</td>\n",
       "      <td>...</td>\n",
       "      <td>...</td>\n",
       "    </tr>\n",
       "    <tr>\n",
       "      <td>548</td>\n",
       "      <td>3508</td>\n",
       "      <td>2724</td>\n",
       "      <td>0.628420</td>\n",
       "      <td>D</td>\n",
       "    </tr>\n",
       "    <tr>\n",
       "      <td>549</td>\n",
       "      <td>3508</td>\n",
       "      <td>3046</td>\n",
       "      <td>0.585422</td>\n",
       "      <td>D</td>\n",
       "    </tr>\n",
       "    <tr>\n",
       "      <td>550</td>\n",
       "      <td>3509</td>\n",
       "      <td>3046</td>\n",
       "      <td>0.563507</td>\n",
       "      <td>D</td>\n",
       "    </tr>\n",
       "    <tr>\n",
       "      <td>551</td>\n",
       "      <td>3510</td>\n",
       "      <td>3046</td>\n",
       "      <td>0.524599</td>\n",
       "      <td>D</td>\n",
       "    </tr>\n",
       "    <tr>\n",
       "      <td>552</td>\n",
       "      <td>3511</td>\n",
       "      <td>3046</td>\n",
       "      <td>0.630991</td>\n",
       "      <td>D</td>\n",
       "    </tr>\n",
       "  </tbody>\n",
       "</table>\n",
       "<p>553 rows × 4 columns</p>\n",
       "</div>"
      ],
      "text/plain": [
       "     Ligand_atom_index  Protein_atom_index         r Protein_chain\n",
       "0                 3340                 353  0.567563             A\n",
       "1                 3340                 502  0.562452             A\n",
       "2                 3341                 330  0.646263             A\n",
       "3                 3341                 347  0.600552             A\n",
       "4                 3341                 496  0.586840             A\n",
       "..                 ...                 ...       ...           ...\n",
       "548               3508                2724  0.628420             D\n",
       "549               3508                3046  0.585422             D\n",
       "550               3509                3046  0.563507             D\n",
       "551               3510                3046  0.524599             D\n",
       "552               3511                3046  0.630991             D\n",
       "\n",
       "[553 rows x 4 columns]"
      ]
     },
     "execution_count": 33,
     "metadata": {},
     "output_type": "execute_result"
    }
   ],
   "source": [
    "data"
   ]
  },
  {
   "cell_type": "code",
   "execution_count": 34,
   "metadata": {
    "collapsed": true,
    "scrolled": true
   },
   "outputs": [],
   "source": [
    "# data = pd.read_csv(f\"{pre}/het_protein_bonds.csv\")"
   ]
  },
  {
   "cell_type": "code",
   "execution_count": 35,
   "metadata": {
    "scrolled": true
   },
   "outputs": [
    {
     "data": {
      "text/plain": [
       "[<Residue 570 (HNI) of chain 4>,\n",
       " <Residue 571 (HEM) of chain 5>,\n",
       " <Residue 572 (HEM) of chain 6>,\n",
       " <Residue 573 (HNI) of chain 7>]"
      ]
     },
     "execution_count": 35,
     "metadata": {},
     "output_type": "execute_result"
    }
   ],
   "source": [
    "res_list = list(pdb.topology.residues())\n",
    "atom_list = list(pdb.topology.atoms())\n",
    "protein_resNames = [\"NGP\", \"IGL\", \"IPR\", \"NTER\", \"CTER\"]\n",
    "DNA_resNames = [\"DA\", \"DC\", \"DT\", \"DG\"]\n",
    "protein_res_list = []\n",
    "DNA_res_list = []\n",
    "ligand_res_list = []\n",
    "for res in res_list:\n",
    "    if res.name in protein_resNames:\n",
    "        protein_res_list.append(res)\n",
    "    elif res.name in DNA_resNames:\n",
    "        DNA_res_list.append(res)\n",
    "    else:\n",
    "        ligand_res_list.append(res)\n",
    "\n",
    "protein_atom_list = []\n",
    "DNA_atom_list = []\n",
    "ligand_atom_list = []\n",
    "for atom in atom_list:\n",
    "    if atom.residue.name in protein_resNames:\n",
    "        protein_atom_list.append(atom)\n",
    "    elif atom.residue.name in DNA_resNames:\n",
    "        DNA_atom_list.append(atom)\n",
    "    else:\n",
    "        ligand_atom_list.append(atom)\n",
    "ligand_res_list\n",
    "\n"
   ]
  },
  {
   "cell_type": "code",
   "execution_count": 36,
   "metadata": {},
   "outputs": [
    {
     "data": {
      "text/html": [
       "<div>\n",
       "<style scoped>\n",
       "    .dataframe tbody tr th:only-of-type {\n",
       "        vertical-align: middle;\n",
       "    }\n",
       "\n",
       "    .dataframe tbody tr th {\n",
       "        vertical-align: top;\n",
       "    }\n",
       "\n",
       "    .dataframe thead th {\n",
       "        text-align: right;\n",
       "    }\n",
       "</style>\n",
       "<table border=\"1\" class=\"dataframe\">\n",
       "  <thead>\n",
       "    <tr style=\"text-align: right;\">\n",
       "      <th></th>\n",
       "      <th>Name</th>\n",
       "      <th>Atom1</th>\n",
       "      <th>Atom2</th>\n",
       "      <th>Name1</th>\n",
       "      <th>Name2</th>\n",
       "      <th>Symbol1</th>\n",
       "      <th>Symbol2</th>\n",
       "      <th>r</th>\n",
       "    </tr>\n",
       "  </thead>\n",
       "  <tbody>\n",
       "    <tr>\n",
       "      <td>0</td>\n",
       "      <td>HNI</td>\n",
       "      <td>3340</td>\n",
       "      <td>3341</td>\n",
       "      <td>NI</td>\n",
       "      <td>CHA</td>\n",
       "      <td>Ni</td>\n",
       "      <td>C</td>\n",
       "      <td>0.336</td>\n",
       "    </tr>\n",
       "    <tr>\n",
       "      <td>1</td>\n",
       "      <td>HNI</td>\n",
       "      <td>3340</td>\n",
       "      <td>3342</td>\n",
       "      <td>NI</td>\n",
       "      <td>CHB</td>\n",
       "      <td>Ni</td>\n",
       "      <td>C</td>\n",
       "      <td>0.336</td>\n",
       "    </tr>\n",
       "    <tr>\n",
       "      <td>2</td>\n",
       "      <td>HNI</td>\n",
       "      <td>3340</td>\n",
       "      <td>3343</td>\n",
       "      <td>NI</td>\n",
       "      <td>CHC</td>\n",
       "      <td>Ni</td>\n",
       "      <td>C</td>\n",
       "      <td>0.335</td>\n",
       "    </tr>\n",
       "    <tr>\n",
       "      <td>3</td>\n",
       "      <td>HNI</td>\n",
       "      <td>3340</td>\n",
       "      <td>3344</td>\n",
       "      <td>NI</td>\n",
       "      <td>CHD</td>\n",
       "      <td>Ni</td>\n",
       "      <td>C</td>\n",
       "      <td>0.337</td>\n",
       "    </tr>\n",
       "    <tr>\n",
       "      <td>4</td>\n",
       "      <td>HNI</td>\n",
       "      <td>3340</td>\n",
       "      <td>3345</td>\n",
       "      <td>NI</td>\n",
       "      <td>NA</td>\n",
       "      <td>Ni</td>\n",
       "      <td>N</td>\n",
       "      <td>0.193</td>\n",
       "    </tr>\n",
       "    <tr>\n",
       "      <td>...</td>\n",
       "      <td>...</td>\n",
       "      <td>...</td>\n",
       "      <td>...</td>\n",
       "      <td>...</td>\n",
       "      <td>...</td>\n",
       "      <td>...</td>\n",
       "      <td>...</td>\n",
       "      <td>...</td>\n",
       "    </tr>\n",
       "    <tr>\n",
       "      <td>3607</td>\n",
       "      <td>HNI</td>\n",
       "      <td>3508</td>\n",
       "      <td>3510</td>\n",
       "      <td>CBD</td>\n",
       "      <td>O1D</td>\n",
       "      <td>C</td>\n",
       "      <td>O</td>\n",
       "      <td>0.240</td>\n",
       "    </tr>\n",
       "    <tr>\n",
       "      <td>3608</td>\n",
       "      <td>HNI</td>\n",
       "      <td>3508</td>\n",
       "      <td>3511</td>\n",
       "      <td>CBD</td>\n",
       "      <td>O2D</td>\n",
       "      <td>C</td>\n",
       "      <td>O</td>\n",
       "      <td>0.250</td>\n",
       "    </tr>\n",
       "    <tr>\n",
       "      <td>3609</td>\n",
       "      <td>HNI</td>\n",
       "      <td>3509</td>\n",
       "      <td>3510</td>\n",
       "      <td>CGD</td>\n",
       "      <td>O1D</td>\n",
       "      <td>C</td>\n",
       "      <td>O</td>\n",
       "      <td>0.122</td>\n",
       "    </tr>\n",
       "    <tr>\n",
       "      <td>3610</td>\n",
       "      <td>HNI</td>\n",
       "      <td>3509</td>\n",
       "      <td>3511</td>\n",
       "      <td>CGD</td>\n",
       "      <td>O2D</td>\n",
       "      <td>C</td>\n",
       "      <td>O</td>\n",
       "      <td>0.135</td>\n",
       "    </tr>\n",
       "    <tr>\n",
       "      <td>3611</td>\n",
       "      <td>HNI</td>\n",
       "      <td>3510</td>\n",
       "      <td>3511</td>\n",
       "      <td>O1D</td>\n",
       "      <td>O2D</td>\n",
       "      <td>O</td>\n",
       "      <td>O</td>\n",
       "      <td>0.221</td>\n",
       "    </tr>\n",
       "  </tbody>\n",
       "</table>\n",
       "<p>3612 rows × 8 columns</p>\n",
       "</div>"
      ],
      "text/plain": [
       "     Name  Atom1  Atom2 Name1 Name2 Symbol1 Symbol2      r\n",
       "0     HNI   3340   3341    NI   CHA      Ni       C  0.336\n",
       "1     HNI   3340   3342    NI   CHB      Ni       C  0.336\n",
       "2     HNI   3340   3343    NI   CHC      Ni       C  0.335\n",
       "3     HNI   3340   3344    NI   CHD      Ni       C  0.337\n",
       "4     HNI   3340   3345    NI    NA      Ni       N  0.193\n",
       "...   ...    ...    ...   ...   ...     ...     ...    ...\n",
       "3607  HNI   3508   3510   CBD   O1D       C       O  0.240\n",
       "3608  HNI   3508   3511   CBD   O2D       C       O  0.250\n",
       "3609  HNI   3509   3510   CGD   O1D       C       O  0.122\n",
       "3610  HNI   3509   3511   CGD   O2D       C       O  0.135\n",
       "3611  HNI   3510   3511   O1D   O2D       O       O  0.221\n",
       "\n",
       "[3612 rows x 8 columns]"
      ]
     },
     "execution_count": 36,
     "metadata": {},
     "output_type": "execute_result"
    }
   ],
   "source": [
    "info = []\n",
    "for res in ligand_res_list:\n",
    "    atoms = list(res.atoms())\n",
    "    n_atoms = len(atoms)\n",
    "    for i in range(n_atoms):\n",
    "        atom1 = atoms[i]\n",
    "        pos1 = pdb.positions[atom1.index]\n",
    "        for j in range(i+1, n_atoms):\n",
    "            atom2 = atoms[j]\n",
    "            pos2 = pdb.positions[atom2.index]\n",
    "            dis = pos1 - pos2\n",
    "            dis = dis.value_in_unit(nanometer)\n",
    "            r = (dis[0]**2 + dis[1]**2 + dis[2]**2)**0.5\n",
    "            # print(atom1.index, atom2.index, round(r, 3))\n",
    "            info.append([res.name, atom1.index, atom2.index, atom1.name, atom2.name, atom1.element.symbol, atom2.element.symbol, round(r, 3)])\n",
    "\n",
    "data = pd.DataFrame(info, columns=[\"Name\", \"Atom1\", \"Atom2\", \"Name1\", \"Name2\", \"Symbol1\", \"Symbol2\", \"r\"])\n",
    "data"
   ]
  },
  {
   "cell_type": "code",
   "execution_count": 37,
   "metadata": {
    "collapsed": true,
    "scrolled": false
   },
   "outputs": [],
   "source": [
    "data.to_csv(f\"{pre}/het_frag.csv\", index=False)"
   ]
  },
  {
   "cell_type": "code",
   "execution_count": null,
   "metadata": {
    "collapsed": true,
    "scrolled": true
   },
   "outputs": [],
   "source": []
  },
  {
   "cell_type": "code",
   "execution_count": null,
   "metadata": {
    "collapsed": true,
    "scrolled": true
   },
   "outputs": [],
   "source": []
  },
  {
   "cell_type": "code",
   "execution_count": null,
   "metadata": {
    "collapsed": true,
    "scrolled": true
   },
   "outputs": [],
   "source": []
  },
  {
   "cell_type": "code",
   "execution_count": null,
   "metadata": {
    "collapsed": true,
    "scrolled": true
   },
   "outputs": [],
   "source": [
    "info = []\n",
    "for res in ligand_res_list:\n",
    "    atoms = list(res.atoms())\n",
    "    n_atoms = len(atoms)\n",
    "    for i in range(n_atoms):\n",
    "        atom1 = atoms[i]\n",
    "        pos1 = pdb.positions[atom1.index]\n",
    "        for j in range(i+1, n_atoms):\n",
    "            atom2 = atoms[j]\n",
    "            pos2 = pdb.positions[atom2.index]\n",
    "            r = compute_dis(pos1, pos2)\n",
    "            # print(atom1.index, atom2.index, round(r, 3))\n",
    "            info.append([res.name, atom1.index, atom2.index, atom1.name, atom2.name, atom1.element.symbol, atom2.element.symbol, round(r, 3)])\n",
    "            \n",
    "            \n",
    "\n",
    "data = pd.DataFrame(info, columns=[\"Name\", \"Atom1\", \"Atom2\", \"Name1\", \"Name2\", \"Symbol1\", \"Symbol2\", \"r\"])"
   ]
  },
  {
   "cell_type": "code",
   "execution_count": null,
   "metadata": {
    "collapsed": true,
    "scrolled": true
   },
   "outputs": [],
   "source": []
  },
  {
   "cell_type": "code",
   "execution_count": null,
   "metadata": {
    "collapsed": true,
    "scrolled": true
   },
   "outputs": [],
   "source": []
  },
  {
   "cell_type": "code",
   "execution_count": null,
   "metadata": {
    "collapsed": true,
    "scrolled": true
   },
   "outputs": [],
   "source": []
  },
  {
   "cell_type": "code",
   "execution_count": null,
   "metadata": {
    "collapsed": true,
    "scrolled": true
   },
   "outputs": [],
   "source": []
  },
  {
   "cell_type": "code",
   "execution_count": null,
   "metadata": {
    "collapsed": true,
    "scrolled": true
   },
   "outputs": [],
   "source": []
  },
  {
   "cell_type": "code",
   "execution_count": 33,
   "metadata": {
    "scrolled": true
   },
   "outputs": [
    {
     "data": {
      "text/plain": [
       "Ligand_atom_index       int64\n",
       "Protein_atom_index      int64\n",
       "r                     float64\n",
       "Protein_chain          object\n",
       "dtype: object"
      ]
     },
     "execution_count": 33,
     "metadata": {},
     "output_type": "execute_result"
    }
   ],
   "source": [
    "data.dtypes"
   ]
  },
  {
   "cell_type": "code",
   "execution_count": 34,
   "metadata": {
    "scrolled": true
   },
   "outputs": [
    {
     "data": {
      "text/plain": [
       "<Atom 0 (CA) of chain 0 residue 0 (NGP)>"
      ]
     },
     "execution_count": 34,
     "metadata": {},
     "output_type": "execute_result"
    }
   ],
   "source": [
    "protein_atom_list[0]"
   ]
  },
  {
   "cell_type": "code",
   "execution_count": 23,
   "metadata": {
    "scrolled": true
   },
   "outputs": [
    {
     "data": {
      "text/plain": [
       "'CLR'"
      ]
     },
     "execution_count": 23,
     "metadata": {},
     "output_type": "execute_result"
    }
   ],
   "source": [
    "res."
   ]
  },
  {
   "cell_type": "code",
   "execution_count": 123,
   "metadata": {
    "scrolled": true
   },
   "outputs": [
    {
     "data": {
      "text/plain": [
       "'C18'"
      ]
     },
     "execution_count": 123,
     "metadata": {},
     "output_type": "execute_result"
    }
   ],
   "source": [
    "atom.name"
   ]
  },
  {
   "cell_type": "code",
   "execution_count": 114,
   "metadata": {
    "collapsed": true,
    "scrolled": true
   },
   "outputs": [],
   "source": [
    "d = pdb.positions[atom.index]"
   ]
  },
  {
   "cell_type": "code",
   "execution_count": 121,
   "metadata": {
    "collapsed": true,
    "scrolled": true
   },
   "outputs": [],
   "source": [
    "atom = ligand_atom_list[0]"
   ]
  },
  {
   "cell_type": "code",
   "execution_count": null,
   "metadata": {
    "collapsed": true,
    "scrolled": true
   },
   "outputs": [],
   "source": [
    "atom.index"
   ]
  },
  {
   "cell_type": "code",
   "execution_count": 91,
   "metadata": {
    "collapsed": true,
    "scrolled": true
   },
   "outputs": [],
   "source": [
    "a = list(pdb.getTopology().bonds())"
   ]
  },
  {
   "cell_type": "code",
   "execution_count": 100,
   "metadata": {
    "collapsed": true,
    "scrolled": true
   },
   "outputs": [],
   "source": [
    "a = ligand_atom_list[0]"
   ]
  },
  {
   "cell_type": "code",
   "execution_count": 103,
   "metadata": {
    "collapsed": true,
    "scrolled": true
   },
   "outputs": [],
   "source": [
    "ligand_atoms_index_list = [atom.index for atom in ligand_atom_list]\n",
    "protein_atoms_index_list = [atom.index for atom in protein_atom_list]"
   ]
  },
  {
   "cell_type": "code",
   "execution_count": 106,
   "metadata": {
    "collapsed": true,
    "scrolled": true
   },
   "outputs": [],
   "source": [
    "a = protein_atom_list[0]"
   ]
  },
  {
   "cell_type": "code",
   "execution_count": 108,
   "metadata": {
    "scrolled": true
   },
   "outputs": [
    {
     "data": {
      "text/plain": [
       "0"
      ]
     },
     "execution_count": 108,
     "metadata": {},
     "output_type": "execute_result"
    }
   ],
   "source": []
  },
  {
   "cell_type": "code",
   "execution_count": 96,
   "metadata": {
    "collapsed": true,
    "scrolled": true
   },
   "outputs": [],
   "source": [
    "atom1 = a[0].atom1"
   ]
  },
  {
   "cell_type": "code",
   "execution_count": 97,
   "metadata": {
    "scrolled": true
   },
   "outputs": [
    {
     "data": {
      "text/plain": [
       "3548"
      ]
     },
     "execution_count": 97,
     "metadata": {},
     "output_type": "execute_result"
    }
   ],
   "source": [
    "atom1.index"
   ]
  },
  {
   "cell_type": "code",
   "execution_count": 98,
   "metadata": {
    "scrolled": true
   },
   "outputs": [
    {
     "data": {
      "text/plain": [
       "'31351'"
      ]
     },
     "execution_count": 98,
     "metadata": {},
     "output_type": "execute_result"
    }
   ],
   "source": [
    "atom1.id"
   ]
  },
  {
   "cell_type": "code",
   "execution_count": 128,
   "metadata": {
    "scrolled": true
   },
   "outputs": [
    {
     "data": {
      "text/plain": [
       "<Topology; 13 chains, 612 residues, 3760 atoms, 220 bonds>"
      ]
     },
     "execution_count": 128,
     "metadata": {},
     "output_type": "execute_result"
    }
   ],
   "source": [
    "pdb.getTopology()"
   ]
  },
  {
   "cell_type": "code",
   "execution_count": 4,
   "metadata": {
    "collapsed": true,
    "scrolled": true
   },
   "outputs": [],
   "source": [
    "forcefield = ForceField(AWSEM_xml)"
   ]
  },
  {
   "cell_type": "code",
   "execution_count": 5,
   "metadata": {
    "collapsed": true,
    "scrolled": true
   },
   "outputs": [],
   "source": [
    "[templates, names] = forcefield.generateTemplatesForUnmatchedResidues(pdb.topology)"
   ]
  },
  {
   "cell_type": "code",
   "execution_count": 6,
   "metadata": {
    "collapsed": true,
    "scrolled": true
   },
   "outputs": [],
   "source": [
    "for a in templates:\n",
    "    for a1 in a.atoms:\n",
    "        if a1.element.symbol == \"C\":\n",
    "            a1.type = \"CA\"\n",
    "        else:\n",
    "            a1.type = a1.element.symbol\n",
    "        # a1.type = a1.element.symbol\n",
    "    forcefield.registerResidueTemplate(a)"
   ]
  },
  {
   "cell_type": "code",
   "execution_count": 7,
   "metadata": {
    "collapsed": true,
    "scrolled": true
   },
   "outputs": [],
   "source": [
    "system = forcefield.createSystem(pdb.topology)"
   ]
  },
  {
   "cell_type": "code",
   "execution_count": 8,
   "metadata": {
    "collapsed": true,
    "scrolled": true
   },
   "outputs": [],
   "source": [
    "a = templates[0]"
   ]
  },
  {
   "cell_type": "code",
   "execution_count": 61,
   "metadata": {
    "scrolled": true
   },
   "outputs": [
    {
     "data": {
      "text/plain": [
       "[<Residue 604 (OLC) of chain 5>, <Residue 606 (CLR) of chain 7>]"
      ]
     },
     "execution_count": 61,
     "metadata": {},
     "output_type": "execute_result"
    }
   ],
   "source": [
    "names"
   ]
  },
  {
   "cell_type": "code",
   "execution_count": 35,
   "metadata": {
    "collapsed": true,
    "scrolled": true
   },
   "outputs": [],
   "source": []
  },
  {
   "cell_type": "code",
   "execution_count": 36,
   "metadata": {
    "scrolled": true
   },
   "outputs": [
    {
     "data": {
      "text/plain": [
       "[<Residue 570 (HNI) of chain 4>,\n",
       " <Residue 571 (HEM) of chain 5>,\n",
       " <Residue 572 (HEM) of chain 6>,\n",
       " <Residue 573 (HNI) of chain 7>]"
      ]
     },
     "execution_count": 36,
     "metadata": {},
     "output_type": "execute_result"
    }
   ],
   "source": []
  },
  {
   "cell_type": "code",
   "execution_count": null,
   "metadata": {
    "collapsed": true,
    "scrolled": true
   },
   "outputs": [],
   "source": []
  },
  {
   "cell_type": "code",
   "execution_count": null,
   "metadata": {
    "collapsed": true,
    "scrolled": true
   },
   "outputs": [],
   "source": []
  },
  {
   "cell_type": "code",
   "execution_count": 15,
   "metadata": {
    "collapsed": true,
    "scrolled": true
   },
   "outputs": [],
   "source": [
    "positions = pdb.positions"
   ]
  },
  {
   "cell_type": "code",
   "execution_count": 46,
   "metadata": {
    "collapsed": true,
    "scrolled": true
   },
   "outputs": [],
   "source": [
    "atoms = list(res.atoms())"
   ]
  },
  {
   "cell_type": "code",
   "execution_count": 48,
   "metadata": {
    "collapsed": true,
    "scrolled": true
   },
   "outputs": [],
   "source": [
    "atom = atoms[0]"
   ]
  },
  {
   "cell_type": "code",
   "execution_count": 49,
   "metadata": {
    "scrolled": true
   },
   "outputs": [
    {
     "data": {
      "text/plain": [
       "3548"
      ]
     },
     "execution_count": 49,
     "metadata": {},
     "output_type": "execute_result"
    }
   ],
   "source": [
    "atom.index"
   ]
  },
  {
   "cell_type": "code",
   "execution_count": 68,
   "metadata": {
    "scrolled": true
   },
   "outputs": [
    {
     "data": {
      "text/plain": [
       "'O1'"
      ]
     },
     "execution_count": 68,
     "metadata": {},
     "output_type": "execute_result"
    }
   ],
   "source": [
    "atom1.name"
   ]
  },
  {
   "cell_type": "code",
   "execution_count": 69,
   "metadata": {
    "scrolled": true
   },
   "outputs": [
    {
     "data": {
      "text/plain": [
       "'C'"
      ]
     },
     "execution_count": 69,
     "metadata": {},
     "output_type": "execute_result"
    }
   ],
   "source": [
    "atom.element.symbol"
   ]
  },
  {
   "cell_type": "code",
   "execution_count": 37,
   "metadata": {
    "collapsed": true,
    "scrolled": true
   },
   "outputs": [],
   "source": []
  },
  {
   "cell_type": "code",
   "execution_count": 82,
   "metadata": {
    "collapsed": true,
    "scrolled": true
   },
   "outputs": [],
   "source": []
  },
  {
   "cell_type": "code",
   "execution_count": 38,
   "metadata": {
    "collapsed": true,
    "scrolled": true
   },
   "outputs": [],
   "source": []
  },
  {
   "cell_type": "code",
   "execution_count": 39,
   "metadata": {
    "scrolled": true
   },
   "outputs": [
    {
     "data": {
      "text/html": [
       "<div>\n",
       "<style scoped>\n",
       "    .dataframe tbody tr th:only-of-type {\n",
       "        vertical-align: middle;\n",
       "    }\n",
       "\n",
       "    .dataframe tbody tr th {\n",
       "        vertical-align: top;\n",
       "    }\n",
       "\n",
       "    .dataframe thead th {\n",
       "        text-align: right;\n",
       "    }\n",
       "</style>\n",
       "<table border=\"1\" class=\"dataframe\">\n",
       "  <thead>\n",
       "    <tr style=\"text-align: right;\">\n",
       "      <th></th>\n",
       "      <th>Name</th>\n",
       "      <th>Atom1</th>\n",
       "      <th>Atom2</th>\n",
       "      <th>Name1</th>\n",
       "      <th>Name2</th>\n",
       "      <th>Symbol1</th>\n",
       "      <th>Symbol2</th>\n",
       "      <th>r</th>\n",
       "    </tr>\n",
       "  </thead>\n",
       "  <tbody>\n",
       "    <tr>\n",
       "      <td>0</td>\n",
       "      <td>HNI</td>\n",
       "      <td>3340</td>\n",
       "      <td>3341</td>\n",
       "      <td>NI</td>\n",
       "      <td>CHA</td>\n",
       "      <td>Ni</td>\n",
       "      <td>C</td>\n",
       "      <td>0.336</td>\n",
       "    </tr>\n",
       "    <tr>\n",
       "      <td>1</td>\n",
       "      <td>HNI</td>\n",
       "      <td>3340</td>\n",
       "      <td>3342</td>\n",
       "      <td>NI</td>\n",
       "      <td>CHB</td>\n",
       "      <td>Ni</td>\n",
       "      <td>C</td>\n",
       "      <td>0.336</td>\n",
       "    </tr>\n",
       "    <tr>\n",
       "      <td>2</td>\n",
       "      <td>HNI</td>\n",
       "      <td>3340</td>\n",
       "      <td>3343</td>\n",
       "      <td>NI</td>\n",
       "      <td>CHC</td>\n",
       "      <td>Ni</td>\n",
       "      <td>C</td>\n",
       "      <td>0.335</td>\n",
       "    </tr>\n",
       "    <tr>\n",
       "      <td>3</td>\n",
       "      <td>HNI</td>\n",
       "      <td>3340</td>\n",
       "      <td>3344</td>\n",
       "      <td>NI</td>\n",
       "      <td>CHD</td>\n",
       "      <td>Ni</td>\n",
       "      <td>C</td>\n",
       "      <td>0.337</td>\n",
       "    </tr>\n",
       "    <tr>\n",
       "      <td>4</td>\n",
       "      <td>HNI</td>\n",
       "      <td>3340</td>\n",
       "      <td>3345</td>\n",
       "      <td>NI</td>\n",
       "      <td>NA</td>\n",
       "      <td>Ni</td>\n",
       "      <td>N</td>\n",
       "      <td>0.193</td>\n",
       "    </tr>\n",
       "    <tr>\n",
       "      <td>...</td>\n",
       "      <td>...</td>\n",
       "      <td>...</td>\n",
       "      <td>...</td>\n",
       "      <td>...</td>\n",
       "      <td>...</td>\n",
       "      <td>...</td>\n",
       "      <td>...</td>\n",
       "      <td>...</td>\n",
       "    </tr>\n",
       "    <tr>\n",
       "      <td>3607</td>\n",
       "      <td>HNI</td>\n",
       "      <td>3508</td>\n",
       "      <td>3510</td>\n",
       "      <td>CBD</td>\n",
       "      <td>O1D</td>\n",
       "      <td>C</td>\n",
       "      <td>O</td>\n",
       "      <td>0.240</td>\n",
       "    </tr>\n",
       "    <tr>\n",
       "      <td>3608</td>\n",
       "      <td>HNI</td>\n",
       "      <td>3508</td>\n",
       "      <td>3511</td>\n",
       "      <td>CBD</td>\n",
       "      <td>O2D</td>\n",
       "      <td>C</td>\n",
       "      <td>O</td>\n",
       "      <td>0.250</td>\n",
       "    </tr>\n",
       "    <tr>\n",
       "      <td>3609</td>\n",
       "      <td>HNI</td>\n",
       "      <td>3509</td>\n",
       "      <td>3510</td>\n",
       "      <td>CGD</td>\n",
       "      <td>O1D</td>\n",
       "      <td>C</td>\n",
       "      <td>O</td>\n",
       "      <td>0.122</td>\n",
       "    </tr>\n",
       "    <tr>\n",
       "      <td>3610</td>\n",
       "      <td>HNI</td>\n",
       "      <td>3509</td>\n",
       "      <td>3511</td>\n",
       "      <td>CGD</td>\n",
       "      <td>O2D</td>\n",
       "      <td>C</td>\n",
       "      <td>O</td>\n",
       "      <td>0.135</td>\n",
       "    </tr>\n",
       "    <tr>\n",
       "      <td>3611</td>\n",
       "      <td>HNI</td>\n",
       "      <td>3510</td>\n",
       "      <td>3511</td>\n",
       "      <td>O1D</td>\n",
       "      <td>O2D</td>\n",
       "      <td>O</td>\n",
       "      <td>O</td>\n",
       "      <td>0.221</td>\n",
       "    </tr>\n",
       "  </tbody>\n",
       "</table>\n",
       "<p>3612 rows × 8 columns</p>\n",
       "</div>"
      ],
      "text/plain": [
       "     Name  Atom1  Atom2 Name1 Name2 Symbol1 Symbol2      r\n",
       "0     HNI   3340   3341    NI   CHA      Ni       C  0.336\n",
       "1     HNI   3340   3342    NI   CHB      Ni       C  0.336\n",
       "2     HNI   3340   3343    NI   CHC      Ni       C  0.335\n",
       "3     HNI   3340   3344    NI   CHD      Ni       C  0.337\n",
       "4     HNI   3340   3345    NI    NA      Ni       N  0.193\n",
       "...   ...    ...    ...   ...   ...     ...     ...    ...\n",
       "3607  HNI   3508   3510   CBD   O1D       C       O  0.240\n",
       "3608  HNI   3508   3511   CBD   O2D       C       O  0.250\n",
       "3609  HNI   3509   3510   CGD   O1D       C       O  0.122\n",
       "3610  HNI   3509   3511   CGD   O2D       C       O  0.135\n",
       "3611  HNI   3510   3511   O1D   O2D       O       O  0.221\n",
       "\n",
       "[3612 rows x 8 columns]"
      ]
     },
     "execution_count": 39,
     "metadata": {},
     "output_type": "execute_result"
    }
   ],
   "source": [
    "data"
   ]
  },
  {
   "cell_type": "code",
   "execution_count": 40,
   "metadata": {
    "collapsed": true,
    "scrolled": true
   },
   "outputs": [],
   "source": [
    "data.to_csv(f\"{pre}/het_frag.csv\", index=False)"
   ]
  },
  {
   "cell_type": "code",
   "execution_count": null,
   "metadata": {
    "collapsed": true
   },
   "outputs": [],
   "source": [
    "for i, line in data.iterrows():\n",
    "    atom1 = line[\"Atom1\"]\n",
    "    atom2 = line[\"Atom2\"]\n",
    "    r = float(line[\"r\"])\n",
    "    print(atom1, atom2, r)\n",
    "    "
   ]
  },
  {
   "cell_type": "code",
   "execution_count": 16,
   "metadata": {
    "scrolled": true
   },
   "outputs": [
    {
     "data": {
      "text/plain": [
       "3760"
      ]
     },
     "execution_count": 16,
     "metadata": {},
     "output_type": "execute_result"
    }
   ],
   "source": [
    "len(positions)"
   ]
  },
  {
   "cell_type": "code",
   "execution_count": 52,
   "metadata": {
    "collapsed": true,
    "scrolled": true
   },
   "outputs": [],
   "source": [
    "pos1 = positions[3548]"
   ]
  },
  {
   "cell_type": "code",
   "execution_count": 53,
   "metadata": {
    "collapsed": true,
    "scrolled": true
   },
   "outputs": [],
   "source": [
    "pos2 = positions[3551]"
   ]
  },
  {
   "cell_type": "code",
   "execution_count": 54,
   "metadata": {
    "scrolled": true
   },
   "outputs": [
    {
     "data": {
      "text/plain": [
       "Quantity(value=1.7304134910477322, unit=nanometer)"
      ]
     },
     "execution_count": 54,
     "metadata": {},
     "output_type": "execute_result"
    }
   ],
   "source": [
    "(pos1[0]**2 + pos1[1]**2 + pos1[2]**2)**0.5"
   ]
  },
  {
   "cell_type": "code",
   "execution_count": 55,
   "metadata": {
    "collapsed": true,
    "scrolled": true
   },
   "outputs": [],
   "source": [
    "dis = pos1 - pos2\n",
    "dis = dis.value_in_unit(nanometer)\n",
    "r = (dis[0]**2 + dis[1]**2 + dis[2]**2)**0.5"
   ]
  },
  {
   "cell_type": "code",
   "execution_count": 56,
   "metadata": {
    "scrolled": true
   },
   "outputs": [
    {
     "data": {
      "text/plain": [
       "0.15375965010366024"
      ]
     },
     "execution_count": 56,
     "metadata": {},
     "output_type": "execute_result"
    }
   ],
   "source": [
    "r"
   ]
  },
  {
   "cell_type": "code",
   "execution_count": 17,
   "metadata": {
    "collapsed": true,
    "scrolled": true
   },
   "outputs": [],
   "source": [
    "res = ligand_res_list[0]"
   ]
  },
  {
   "cell_type": "code",
   "execution_count": 18,
   "metadata": {
    "collapsed": true,
    "scrolled": true
   },
   "outputs": [],
   "source": [
    "b = list(res.bonds())[0]"
   ]
  },
  {
   "cell_type": "code",
   "execution_count": 19,
   "metadata": {
    "scrolled": true
   },
   "outputs": [
    {
     "data": {
      "text/plain": [
       "<Atom 3548 (C18) of chain 5 residue 604 (OLC)>"
      ]
     },
     "execution_count": 19,
     "metadata": {},
     "output_type": "execute_result"
    }
   ],
   "source": [
    "b.atom1"
   ]
  },
  {
   "cell_type": "code",
   "execution_count": 20,
   "metadata": {
    "scrolled": true
   },
   "outputs": [
    {
     "data": {
      "text/plain": [
       "[Bond(<Atom 3548 (C18) of chain 5 residue 604 (OLC)>, <Atom 3551 (C17) of chain 5 residue 604 (OLC)>),\n",
       " Bond(<Atom 3549 (C10) of chain 5 residue 604 (OLC)>, <Atom 3550 (C9) of chain 5 residue 604 (OLC)>),\n",
       " Bond(<Atom 3549 (C10) of chain 5 residue 604 (OLC)>, <Atom 3552 (C11) of chain 5 residue 604 (OLC)>),\n",
       " Bond(<Atom 3550 (C9) of chain 5 residue 604 (OLC)>, <Atom 3553 (C8) of chain 5 residue 604 (OLC)>),\n",
       " Bond(<Atom 3551 (C17) of chain 5 residue 604 (OLC)>, <Atom 3555 (C16) of chain 5 residue 604 (OLC)>),\n",
       " Bond(<Atom 3552 (C11) of chain 5 residue 604 (OLC)>, <Atom 3556 (C12) of chain 5 residue 604 (OLC)>),\n",
       " Bond(<Atom 3553 (C8) of chain 5 residue 604 (OLC)>, <Atom 3557 (C7) of chain 5 residue 604 (OLC)>),\n",
       " Bond(<Atom 3554 (C24) of chain 5 residue 604 (OLC)>, <Atom 3568 (C22) of chain 5 residue 604 (OLC)>),\n",
       " Bond(<Atom 3554 (C24) of chain 5 residue 604 (OLC)>, <Atom 3570 (O25) of chain 5 residue 604 (OLC)>),\n",
       " Bond(<Atom 3555 (C16) of chain 5 residue 604 (OLC)>, <Atom 3558 (C15) of chain 5 residue 604 (OLC)>),\n",
       " Bond(<Atom 3556 (C12) of chain 5 residue 604 (OLC)>, <Atom 3559 (C13) of chain 5 residue 604 (OLC)>),\n",
       " Bond(<Atom 3557 (C7) of chain 5 residue 604 (OLC)>, <Atom 3560 (C6) of chain 5 residue 604 (OLC)>),\n",
       " Bond(<Atom 3558 (C15) of chain 5 residue 604 (OLC)>, <Atom 3561 (C14) of chain 5 residue 604 (OLC)>),\n",
       " Bond(<Atom 3559 (C13) of chain 5 residue 604 (OLC)>, <Atom 3561 (C14) of chain 5 residue 604 (OLC)>),\n",
       " Bond(<Atom 3560 (C6) of chain 5 residue 604 (OLC)>, <Atom 3562 (C5) of chain 5 residue 604 (OLC)>),\n",
       " Bond(<Atom 3562 (C5) of chain 5 residue 604 (OLC)>, <Atom 3563 (C4) of chain 5 residue 604 (OLC)>),\n",
       " Bond(<Atom 3563 (C4) of chain 5 residue 604 (OLC)>, <Atom 3564 (C3) of chain 5 residue 604 (OLC)>),\n",
       " Bond(<Atom 3564 (C3) of chain 5 residue 604 (OLC)>, <Atom 3565 (C2) of chain 5 residue 604 (OLC)>),\n",
       " Bond(<Atom 3565 (C2) of chain 5 residue 604 (OLC)>, <Atom 3567 (C1) of chain 5 residue 604 (OLC)>),\n",
       " Bond(<Atom 3566 (C21) of chain 5 residue 604 (OLC)>, <Atom 3568 (C22) of chain 5 residue 604 (OLC)>),\n",
       " Bond(<Atom 3566 (C21) of chain 5 residue 604 (OLC)>, <Atom 3572 (O20) of chain 5 residue 604 (OLC)>),\n",
       " Bond(<Atom 3567 (C1) of chain 5 residue 604 (OLC)>, <Atom 3569 (O19) of chain 5 residue 604 (OLC)>),\n",
       " Bond(<Atom 3567 (C1) of chain 5 residue 604 (OLC)>, <Atom 3572 (O20) of chain 5 residue 604 (OLC)>),\n",
       " Bond(<Atom 3568 (C22) of chain 5 residue 604 (OLC)>, <Atom 3571 (O23) of chain 5 residue 604 (OLC)>)]"
      ]
     },
     "execution_count": 20,
     "metadata": {},
     "output_type": "execute_result"
    }
   ],
   "source": [
    "list(res.bonds())"
   ]
  },
  {
   "cell_type": "code",
   "execution_count": 160,
   "metadata": {
    "collapsed": true,
    "scrolled": true
   },
   "outputs": [],
   "source": [
    "b.type"
   ]
  },
  {
   "cell_type": "code",
   "execution_count": 161,
   "metadata": {
    "collapsed": true,
    "scrolled": true
   },
   "outputs": [],
   "source": [
    "atom1 = b.atom1"
   ]
  },
  {
   "cell_type": "code",
   "execution_count": 162,
   "metadata": {
    "scrolled": true
   },
   "outputs": [
    {
     "data": {
      "text/plain": [
       "'31351'"
      ]
     },
     "execution_count": 162,
     "metadata": {},
     "output_type": "execute_result"
    }
   ],
   "source": [
    "atom1.id"
   ]
  },
  {
   "cell_type": "code",
   "execution_count": 163,
   "metadata": {
    "scrolled": true
   },
   "outputs": [
    {
     "data": {
      "text/plain": [
       "3548"
      ]
     },
     "execution_count": 163,
     "metadata": {},
     "output_type": "execute_result"
    }
   ],
   "source": [
    "atom1.index"
   ]
  },
  {
   "cell_type": "code",
   "execution_count": 168,
   "metadata": {
    "scrolled": true
   },
   "outputs": [
    {
     "data": {
      "text/plain": [
       "'C'"
      ]
     },
     "execution_count": 168,
     "metadata": {},
     "output_type": "execute_result"
    }
   ],
   "source": [
    "atom1.element.symbol"
   ]
  },
  {
   "cell_type": "code",
   "execution_count": null,
   "metadata": {
    "collapsed": true,
    "scrolled": true
   },
   "outputs": [],
   "source": [
    "# initial testing."
   ]
  },
  {
   "cell_type": "code",
   "execution_count": 5,
   "metadata": {
    "collapsed": true,
    "scrolled": true
   },
   "outputs": [],
   "source": [
    "origin_pdb = PDBFile(\"/Users/weilu/Research/server/jan_2020/include_small_molecular/6ud8_F_complete/6ud8_F_complete-openmmawsem.pdb\")"
   ]
  },
  {
   "cell_type": "code",
   "execution_count": 6,
   "metadata": {
    "scrolled": true
   },
   "outputs": [
    {
     "data": {
      "text/plain": [
       "<Topology; 1 chains, 174 residues, 1028 atoms, 0 bonds>"
      ]
     },
     "execution_count": 6,
     "metadata": {},
     "output_type": "execute_result"
    }
   ],
   "source": [
    "origin_pdb.getTopology()"
   ]
  },
  {
   "cell_type": "code",
   "execution_count": 64,
   "metadata": {
    "collapsed": true,
    "scrolled": true
   },
   "outputs": [],
   "source": [
    "pdb = PDBFile(\"/Users/weilu/Research/server/jan_2020/include_small_molecular/6ud8_F_complete-openmmawsem.pdb\")"
   ]
  },
  {
   "cell_type": "code",
   "execution_count": 65,
   "metadata": {
    "scrolled": true
   },
   "outputs": [
    {
     "data": {
      "text/plain": [
       "<Topology; 2 chains, 175 residues, 1093 atoms, 64 bonds>"
      ]
     },
     "execution_count": 65,
     "metadata": {},
     "output_type": "execute_result"
    }
   ],
   "source": [
    "pdb.getTopology()"
   ]
  },
  {
   "cell_type": "code",
   "execution_count": 66,
   "metadata": {
    "collapsed": true,
    "scrolled": true
   },
   "outputs": [],
   "source": [
    "forcefield = ForceField(\"/Users/weilu/openmmawsem/awsem.xml\")"
   ]
  },
  {
   "cell_type": "code",
   "execution_count": 67,
   "metadata": {
    "scrolled": true
   },
   "outputs": [
    {
     "data": {
      "text/plain": [
       "[[<simtk.openmm.app.forcefield.ForceField._TemplateData at 0x1a20bc71d0>],\n",
       " [<Residue 174 (OLC) of chain 1>]]"
      ]
     },
     "execution_count": 67,
     "metadata": {},
     "output_type": "execute_result"
    }
   ],
   "source": [
    "forcefield.generateTemplatesForUnmatchedResidues(pdb.topology)"
   ]
  },
  {
   "cell_type": "code",
   "execution_count": 68,
   "metadata": {
    "collapsed": true,
    "scrolled": true
   },
   "outputs": [],
   "source": [
    "[template, ffxml] = forcefield.generateTemplatesForUnmatchedResidues(pdb.topology)"
   ]
  },
  {
   "cell_type": "code",
   "execution_count": 69,
   "metadata": {
    "collapsed": true,
    "scrolled": true
   },
   "outputs": [],
   "source": [
    "a = template[0]"
   ]
  },
  {
   "cell_type": "code",
   "execution_count": 70,
   "metadata": {
    "scrolled": true
   },
   "outputs": [
    {
     "data": {
      "text/plain": [
       "'OLC'"
      ]
     },
     "execution_count": 70,
     "metadata": {},
     "output_type": "execute_result"
    }
   ],
   "source": [
    "a.name"
   ]
  },
  {
   "cell_type": "code",
   "execution_count": 71,
   "metadata": {
    "scrolled": true
   },
   "outputs": [
    {
     "data": {
      "text/plain": [
       "[(0, 3),\n",
       " (0, 25),\n",
       " (0, 26),\n",
       " (0, 27),\n",
       " (1, 2),\n",
       " (1, 4),\n",
       " (1, 28),\n",
       " (2, 5),\n",
       " (2, 29),\n",
       " (3, 7),\n",
       " (3, 30),\n",
       " (3, 31),\n",
       " (4, 8),\n",
       " (4, 32),\n",
       " (4, 33),\n",
       " (5, 9),\n",
       " (5, 34),\n",
       " (5, 35),\n",
       " (6, 20),\n",
       " (6, 22),\n",
       " (6, 36),\n",
       " (6, 37),\n",
       " (7, 10),\n",
       " (7, 38),\n",
       " (7, 39),\n",
       " (8, 11),\n",
       " (8, 40),\n",
       " (8, 41),\n",
       " (9, 12),\n",
       " (9, 42),\n",
       " (9, 43),\n",
       " (10, 13),\n",
       " (10, 44),\n",
       " (10, 45),\n",
       " (11, 13),\n",
       " (11, 46),\n",
       " (11, 47),\n",
       " (12, 14),\n",
       " (12, 48),\n",
       " (12, 49),\n",
       " (13, 50),\n",
       " (13, 51),\n",
       " (14, 15),\n",
       " (14, 52),\n",
       " (14, 53),\n",
       " (15, 16),\n",
       " (15, 54),\n",
       " (15, 55),\n",
       " (16, 17),\n",
       " (16, 56),\n",
       " (16, 57),\n",
       " (17, 19),\n",
       " (17, 58),\n",
       " (17, 59),\n",
       " (18, 20),\n",
       " (18, 24),\n",
       " (18, 60),\n",
       " (18, 61),\n",
       " (19, 21),\n",
       " (19, 24),\n",
       " (20, 23),\n",
       " (20, 62),\n",
       " (22, 63),\n",
       " (23, 64)]"
      ]
     },
     "execution_count": 71,
     "metadata": {},
     "output_type": "execute_result"
    }
   ],
   "source": [
    "a.bonds"
   ]
  },
  {
   "cell_type": "code",
   "execution_count": 56,
   "metadata": {
    "scrolled": true
   },
   "outputs": [
    {
     "data": {
      "text/plain": [
       "<simtk.openmm.app.forcefield.ForceField._TemplateData at 0x1a206219b0>"
      ]
     },
     "execution_count": 56,
     "metadata": {},
     "output_type": "execute_result"
    }
   ],
   "source": [
    "a"
   ]
  },
  {
   "cell_type": "code",
   "execution_count": 86,
   "metadata": {
    "collapsed": true,
    "scrolled": true
   },
   "outputs": [],
   "source": [
    "for a1 in a.atoms:\n",
    "    a1.type = a1.element.symbol"
   ]
  },
  {
   "cell_type": "code",
   "execution_count": 72,
   "metadata": {
    "collapsed": true,
    "scrolled": true
   },
   "outputs": [],
   "source": [
    "a1 = a.atoms[0]"
   ]
  },
  {
   "cell_type": "code",
   "execution_count": 73,
   "metadata": {
    "scrolled": true
   },
   "outputs": [
    {
     "data": {
      "text/plain": [
       "'C'"
      ]
     },
     "execution_count": 73,
     "metadata": {},
     "output_type": "execute_result"
    }
   ],
   "source": [
    "a1.element.symbol"
   ]
  },
  {
   "cell_type": "code",
   "execution_count": 74,
   "metadata": {
    "scrolled": true
   },
   "outputs": [
    {
     "data": {
      "text/plain": [
       "'C18'"
      ]
     },
     "execution_count": 74,
     "metadata": {},
     "output_type": "execute_result"
    }
   ],
   "source": [
    "a1.name"
   ]
  },
  {
   "cell_type": "code",
   "execution_count": 75,
   "metadata": {
    "scrolled": true
   },
   "outputs": [
    {
     "data": {
      "text/plain": [
       "{}"
      ]
     },
     "execution_count": 75,
     "metadata": {},
     "output_type": "execute_result"
    }
   ],
   "source": [
    "a1.parameters"
   ]
  },
  {
   "cell_type": "code",
   "execution_count": 76,
   "metadata": {
    "collapsed": true,
    "scrolled": true
   },
   "outputs": [],
   "source": [
    "a1.type"
   ]
  },
  {
   "cell_type": "code",
   "execution_count": 77,
   "metadata": {
    "scrolled": true
   },
   "outputs": [
    {
     "data": {
      "text/plain": [
       "0"
      ]
     },
     "execution_count": 77,
     "metadata": {},
     "output_type": "execute_result"
    }
   ],
   "source": [
    "a1.externalBonds"
   ]
  },
  {
   "cell_type": "code",
   "execution_count": 78,
   "metadata": {
    "scrolled": true
   },
   "outputs": [
    {
     "data": {
      "text/plain": [
       "[]"
      ]
     },
     "execution_count": 78,
     "metadata": {},
     "output_type": "execute_result"
    }
   ],
   "source": [
    "a.externalBonds"
   ]
  },
  {
   "cell_type": "code",
   "execution_count": 80,
   "metadata": {
    "scrolled": true
   },
   "outputs": [
    {
     "data": {
      "text/plain": [
       "[3, 25, 26, 27]"
      ]
     },
     "execution_count": 80,
     "metadata": {},
     "output_type": "execute_result"
    }
   ],
   "source": [
    "a1.bondedTo"
   ]
  },
  {
   "cell_type": "code",
   "execution_count": 82,
   "metadata": {
    "scrolled": true
   },
   "outputs": [
    {
     "data": {
      "text/plain": [
       "'C17'"
      ]
     },
     "execution_count": 82,
     "metadata": {},
     "output_type": "execute_result"
    }
   ],
   "source": [
    "a.atoms[3].name"
   ]
  },
  {
   "cell_type": "code",
   "execution_count": 21,
   "metadata": {
    "collapsed": true,
    "scrolled": true
   },
   "outputs": [],
   "source": [
    "olc = a[1]"
   ]
  },
  {
   "cell_type": "code",
   "execution_count": 40,
   "metadata": {
    "scrolled": true
   },
   "outputs": [
    {
     "data": {
      "text/plain": [
       "[]"
      ]
     },
     "execution_count": 40,
     "metadata": {},
     "output_type": "execute_result"
    }
   ],
   "source": [
    "forcefield.getGenerators()"
   ]
  },
  {
   "cell_type": "code",
   "execution_count": 84,
   "metadata": {
    "collapsed": true,
    "scrolled": true
   },
   "outputs": [],
   "source": [
    "forcefield.registerResidueTemplate(a)"
   ]
  },
  {
   "cell_type": "code",
   "execution_count": 89,
   "metadata": {
    "collapsed": true,
    "scrolled": true
   },
   "outputs": [],
   "source": [
    "system = forcefield.createSystem(pdb.topology)"
   ]
  },
  {
   "cell_type": "code",
   "execution_count": 90,
   "metadata": {
    "scrolled": true
   },
   "outputs": [
    {
     "data": {
      "text/plain": [
       "1093"
      ]
     },
     "execution_count": 90,
     "metadata": {},
     "output_type": "execute_result"
    }
   ],
   "source": [
    "system.getNumParticles()"
   ]
  },
  {
   "cell_type": "code",
   "execution_count": 126,
   "metadata": {
    "scrolled": true
   },
   "outputs": [
    {
     "data": {
      "text/plain": [
       "<Swig Object of type 'OpenMM::System *' at 0x1a21f8a600>"
      ]
     },
     "execution_count": 126,
     "metadata": {},
     "output_type": "execute_result"
    }
   ],
   "source": [
    "system."
   ]
  },
  {
   "cell_type": "code",
   "execution_count": 95,
   "metadata": {
    "collapsed": true,
    "scrolled": true
   },
   "outputs": [],
   "source": [
    "b = list(pdb.topology.atoms())"
   ]
  },
  {
   "cell_type": "code",
   "execution_count": 96,
   "metadata": {
    "scrolled": true
   },
   "outputs": [
    {
     "data": {
      "text/plain": [
       "<Atom 1092 (HO23) of chain 1 residue 174 (OLC)>"
      ]
     },
     "execution_count": 96,
     "metadata": {},
     "output_type": "execute_result"
    }
   ],
   "source": [
    "b[-1]"
   ]
  },
  {
   "cell_type": "code",
   "execution_count": 97,
   "metadata": {
    "scrolled": true
   },
   "outputs": [
    {
     "data": {
      "text/plain": [
       "<Atom 0 (CA) of chain 0 residue 0 (NGP)>"
      ]
     },
     "execution_count": 97,
     "metadata": {},
     "output_type": "execute_result"
    }
   ],
   "source": [
    "b[0]"
   ]
  },
  {
   "cell_type": "code",
   "execution_count": 103,
   "metadata": {
    "collapsed": true,
    "scrolled": true
   },
   "outputs": [],
   "source": [
    "b0 = b[-1]"
   ]
  },
  {
   "cell_type": "code",
   "execution_count": 104,
   "metadata": {
    "scrolled": true
   },
   "outputs": [
    {
     "data": {
      "text/plain": [
       "'31415'"
      ]
     },
     "execution_count": 104,
     "metadata": {},
     "output_type": "execute_result"
    }
   ],
   "source": [
    "b0.id"
   ]
  },
  {
   "cell_type": "code",
   "execution_count": 105,
   "metadata": {
    "scrolled": true
   },
   "outputs": [
    {
     "data": {
      "text/plain": [
       "1092"
      ]
     },
     "execution_count": 105,
     "metadata": {},
     "output_type": "execute_result"
    }
   ],
   "source": [
    "b0.index"
   ]
  },
  {
   "cell_type": "code",
   "execution_count": 106,
   "metadata": {
    "scrolled": true
   },
   "outputs": [
    {
     "data": {
      "text/plain": [
       "<Element hydrogen>"
      ]
     },
     "execution_count": 106,
     "metadata": {},
     "output_type": "execute_result"
    }
   ],
   "source": [
    "b0.element"
   ]
  },
  {
   "cell_type": "code",
   "execution_count": 107,
   "metadata": {
    "scrolled": true
   },
   "outputs": [
    {
     "data": {
      "text/plain": [
       "175"
      ]
     },
     "execution_count": 107,
     "metadata": {},
     "output_type": "execute_result"
    }
   ],
   "source": [
    "pdb.topology.getNumResidues()"
   ]
  },
  {
   "cell_type": "code",
   "execution_count": 111,
   "metadata": {
    "collapsed": true,
    "scrolled": true
   },
   "outputs": [],
   "source": [
    "res_list = list(pdb.topology.residues())\n",
    "protein_resNames = [\"NGP\", \"IGL\", \"IPR\", \"NTER\", \"CTER\"]\n",
    "DNA_resNames = [\"DA\", \"DC\", \"DT\", \"DG\"]\n",
    "protein_res_list = []\n",
    "DNA_res_list = []\n",
    "ligand_res_list = []\n",
    "for res in res_list:\n",
    "    if res.name in protein_resNames:\n",
    "        protein_res_list.append(res)\n",
    "    elif res.name in DNA_resNames:\n",
    "        DNA_res_list.append(res)\n",
    "    else:\n",
    "        ligand_res_list.append(res)"
   ]
  },
  {
   "cell_type": "code",
   "execution_count": 112,
   "metadata": {
    "collapsed": true,
    "scrolled": true
   },
   "outputs": [],
   "source": [
    "res = res_list[0]"
   ]
  },
  {
   "cell_type": "code",
   "execution_count": 114,
   "metadata": {
    "collapsed": true,
    "scrolled": true
   },
   "outputs": [],
   "source": []
  },
  {
   "cell_type": "code",
   "execution_count": null,
   "metadata": {
    "collapsed": true,
    "scrolled": true
   },
   "outputs": [],
   "source": [
    "nres = len(protein_res_list)\n",
    "residues = protein_res_list\n",
    "natoms "
   ]
  },
  {
   "cell_type": "code",
   "execution_count": 117,
   "metadata": {
    "collapsed": true,
    "scrolled": true
   },
   "outputs": [],
   "source": [
    "atom_list = list(pdb.topology.atoms())"
   ]
  },
  {
   "cell_type": "code",
   "execution_count": 124,
   "metadata": {
    "collapsed": true,
    "scrolled": true
   },
   "outputs": [],
   "source": [
    "protein_atom_list = []\n",
    "DNA_atom_list = []\n",
    "ligand_atom_list = []\n",
    "for atom in atom_list:\n",
    "    if atom.residue.name in protein_resNames:\n",
    "        protein_atom_list.append(atom)\n",
    "    elif atom.residue.name in DNA_resNames:\n",
    "        DNA_atom_list.append(atom)\n",
    "    else:\n",
    "        ligand_atom_list.append(atom)"
   ]
  },
  {
   "cell_type": "code",
   "execution_count": 119,
   "metadata": {
    "collapsed": true,
    "scrolled": true
   },
   "outputs": [],
   "source": [
    "atom = atom_list[0]"
   ]
  },
  {
   "cell_type": "code",
   "execution_count": 125,
   "metadata": {
    "scrolled": true
   },
   "outputs": [
    {
     "data": {
      "text/plain": [
       "[<Atom 1028 (C18) of chain 1 residue 174 (OLC)>,\n",
       " <Atom 1029 (C10) of chain 1 residue 174 (OLC)>,\n",
       " <Atom 1030 (C9) of chain 1 residue 174 (OLC)>,\n",
       " <Atom 1031 (C17) of chain 1 residue 174 (OLC)>,\n",
       " <Atom 1032 (C11) of chain 1 residue 174 (OLC)>,\n",
       " <Atom 1033 (C8) of chain 1 residue 174 (OLC)>,\n",
       " <Atom 1034 (C24) of chain 1 residue 174 (OLC)>,\n",
       " <Atom 1035 (C16) of chain 1 residue 174 (OLC)>,\n",
       " <Atom 1036 (C12) of chain 1 residue 174 (OLC)>,\n",
       " <Atom 1037 (C7) of chain 1 residue 174 (OLC)>,\n",
       " <Atom 1038 (C15) of chain 1 residue 174 (OLC)>,\n",
       " <Atom 1039 (C13) of chain 1 residue 174 (OLC)>,\n",
       " <Atom 1040 (C6) of chain 1 residue 174 (OLC)>,\n",
       " <Atom 1041 (C14) of chain 1 residue 174 (OLC)>,\n",
       " <Atom 1042 (C5) of chain 1 residue 174 (OLC)>,\n",
       " <Atom 1043 (C4) of chain 1 residue 174 (OLC)>,\n",
       " <Atom 1044 (C3) of chain 1 residue 174 (OLC)>,\n",
       " <Atom 1045 (C2) of chain 1 residue 174 (OLC)>,\n",
       " <Atom 1046 (C21) of chain 1 residue 174 (OLC)>,\n",
       " <Atom 1047 (C1) of chain 1 residue 174 (OLC)>,\n",
       " <Atom 1048 (C22) of chain 1 residue 174 (OLC)>,\n",
       " <Atom 1049 (O19) of chain 1 residue 174 (OLC)>,\n",
       " <Atom 1050 (O25) of chain 1 residue 174 (OLC)>,\n",
       " <Atom 1051 (O23) of chain 1 residue 174 (OLC)>,\n",
       " <Atom 1052 (O20) of chain 1 residue 174 (OLC)>,\n",
       " <Atom 1053 (H18) of chain 1 residue 174 (OLC)>,\n",
       " <Atom 1054 (H18A) of chain 1 residue 174 (OLC)>,\n",
       " <Atom 1055 (H18B) of chain 1 residue 174 (OLC)>,\n",
       " <Atom 1056 (H10) of chain 1 residue 174 (OLC)>,\n",
       " <Atom 1057 (H9) of chain 1 residue 174 (OLC)>,\n",
       " <Atom 1058 (H17) of chain 1 residue 174 (OLC)>,\n",
       " <Atom 1059 (H17A) of chain 1 residue 174 (OLC)>,\n",
       " <Atom 1060 (H11) of chain 1 residue 174 (OLC)>,\n",
       " <Atom 1061 (H11A) of chain 1 residue 174 (OLC)>,\n",
       " <Atom 1062 (H8) of chain 1 residue 174 (OLC)>,\n",
       " <Atom 1063 (H8A) of chain 1 residue 174 (OLC)>,\n",
       " <Atom 1064 (H24) of chain 1 residue 174 (OLC)>,\n",
       " <Atom 1065 (H24A) of chain 1 residue 174 (OLC)>,\n",
       " <Atom 1066 (H16) of chain 1 residue 174 (OLC)>,\n",
       " <Atom 1067 (H16A) of chain 1 residue 174 (OLC)>,\n",
       " <Atom 1068 (H12) of chain 1 residue 174 (OLC)>,\n",
       " <Atom 1069 (H12A) of chain 1 residue 174 (OLC)>,\n",
       " <Atom 1070 (H7) of chain 1 residue 174 (OLC)>,\n",
       " <Atom 1071 (H7A) of chain 1 residue 174 (OLC)>,\n",
       " <Atom 1072 (H15) of chain 1 residue 174 (OLC)>,\n",
       " <Atom 1073 (H15A) of chain 1 residue 174 (OLC)>,\n",
       " <Atom 1074 (H13) of chain 1 residue 174 (OLC)>,\n",
       " <Atom 1075 (H13A) of chain 1 residue 174 (OLC)>,\n",
       " <Atom 1076 (H6) of chain 1 residue 174 (OLC)>,\n",
       " <Atom 1077 (H6A) of chain 1 residue 174 (OLC)>,\n",
       " <Atom 1078 (H14) of chain 1 residue 174 (OLC)>,\n",
       " <Atom 1079 (H14A) of chain 1 residue 174 (OLC)>,\n",
       " <Atom 1080 (H5) of chain 1 residue 174 (OLC)>,\n",
       " <Atom 1081 (H5A) of chain 1 residue 174 (OLC)>,\n",
       " <Atom 1082 (H4) of chain 1 residue 174 (OLC)>,\n",
       " <Atom 1083 (H4A) of chain 1 residue 174 (OLC)>,\n",
       " <Atom 1084 (H3) of chain 1 residue 174 (OLC)>,\n",
       " <Atom 1085 (H3A) of chain 1 residue 174 (OLC)>,\n",
       " <Atom 1086 (H2) of chain 1 residue 174 (OLC)>,\n",
       " <Atom 1087 (H2A) of chain 1 residue 174 (OLC)>,\n",
       " <Atom 1088 (H21) of chain 1 residue 174 (OLC)>,\n",
       " <Atom 1089 (H21A) of chain 1 residue 174 (OLC)>,\n",
       " <Atom 1090 (H22) of chain 1 residue 174 (OLC)>,\n",
       " <Atom 1091 (HO25) of chain 1 residue 174 (OLC)>,\n",
       " <Atom 1092 (HO23) of chain 1 residue 174 (OLC)>]"
      ]
     },
     "execution_count": 125,
     "metadata": {},
     "output_type": "execute_result"
    }
   ],
   "source": [
    "ligand_atom_list"
   ]
  },
  {
   "cell_type": "code",
   "execution_count": 120,
   "metadata": {
    "scrolled": true
   },
   "outputs": [
    {
     "data": {
      "text/plain": [
       "0"
      ]
     },
     "execution_count": 120,
     "metadata": {},
     "output_type": "execute_result"
    }
   ],
   "source": [
    "atom.index"
   ]
  },
  {
   "cell_type": "code",
   "execution_count": 121,
   "metadata": {
    "scrolled": true
   },
   "outputs": [
    {
     "data": {
      "text/plain": [
       "'CA'"
      ]
     },
     "execution_count": 121,
     "metadata": {},
     "output_type": "execute_result"
    }
   ],
   "source": [
    "atom.name"
   ]
  },
  {
   "cell_type": "code",
   "execution_count": 123,
   "metadata": {
    "scrolled": true
   },
   "outputs": [
    {
     "data": {
      "text/plain": [
       "'NGP'"
      ]
     },
     "execution_count": 123,
     "metadata": {},
     "output_type": "execute_result"
    }
   ],
   "source": [
    "atom.residue.name"
   ]
  },
  {
   "cell_type": "code",
   "execution_count": 116,
   "metadata": {
    "scrolled": true
   },
   "outputs": [
    {
     "data": {
      "text/plain": [
       "[]"
      ]
     },
     "execution_count": 116,
     "metadata": {},
     "output_type": "execute_result"
    }
   ],
   "source": [
    "DNA_res_list"
   ]
  },
  {
   "cell_type": "code",
   "execution_count": 115,
   "metadata": {
    "scrolled": true
   },
   "outputs": [
    {
     "data": {
      "text/plain": [
       "[<Residue 174 (OLC) of chain 1>]"
      ]
     },
     "execution_count": 115,
     "metadata": {},
     "output_type": "execute_result"
    }
   ],
   "source": [
    "ligand_res_list"
   ]
  },
  {
   "cell_type": "code",
   "execution_count": null,
   "metadata": {
    "collapsed": true,
    "scrolled": true
   },
   "outputs": [],
   "source": [
    "for res in res_list:\n",
    "    if "
   ]
  }
 ],
 "metadata": {
  "kernelspec": {
   "display_name": "Python 3",
   "language": "python",
   "name": "python3"
  },
  "language_info": {
   "codemirror_mode": {
    "name": "ipython",
    "version": 3
   },
   "file_extension": ".py",
   "mimetype": "text/x-python",
   "name": "python",
   "nbconvert_exporter": "python",
   "pygments_lexer": "ipython3",
   "version": "3.6.7"
  }
 },
 "nbformat": 4,
 "nbformat_minor": 2
}
