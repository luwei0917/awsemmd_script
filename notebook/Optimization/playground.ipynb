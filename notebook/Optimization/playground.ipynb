{
 "cells": [
  {
   "cell_type": "code",
   "execution_count": 22,
   "metadata": {},
   "outputs": [],
   "source": [
    "import numpy as np\n",
    "import pandas as pd\n",
    "from Bio.PDB.PDBParser import PDBParser"
   ]
  },
  {
   "cell_type": "code",
   "execution_count": 1,
   "metadata": {},
   "outputs": [],
   "source": [
    "a = \"/Users/weilu/Research/server/apr_2020/cornichon_cbd/chain_E/frags.mem\"\n",
    "with open(a) as f:\n",
    "    b = f.readlines()\n",
    "pdb_list = [c.split()[0].split(\"/\")[-1].split(\".\")[0] for c in b[4:]]"
   ]
  },
  {
   "cell_type": "code",
   "execution_count": 23,
   "metadata": {},
   "outputs": [],
   "source": [
    "\n",
    "a = \"/Users/weilu/Research/server/apr_2020/cornichon_cbd//chain_E/fraglib/1deka.gro\""
   ]
  },
  {
   "cell_type": "code",
   "execution_count": 24,
   "metadata": {},
   "outputs": [],
   "source": [
    "parser = PDBParser()\n",
    "# all_atom_pdb_file = \"/Users/weilu/Research/server/feb_2020/compare_side_chain_with_and_without/side_chain_run1/256b/4_0/crystal_structure.pdb\"\n",
    "structure = parser.get_structure(\"x\", a)"
   ]
  },
  {
   "cell_type": "code",
   "execution_count": 27,
   "metadata": {
    "collapsed": true
   },
   "outputs": [
    {
     "data": {
      "text/plain": [
       "[]"
      ]
     },
     "execution_count": 27,
     "metadata": {},
     "output_type": "execute_result"
    }
   ],
   "source": [
    "list(structure.get_residues())"
   ]
  },
  {
   "cell_type": "code",
   "execution_count": 29,
   "metadata": {},
   "outputs": [],
   "source": [
    "import sys\n",
    "sys.path.insert(0, \"/Users/weilu/openmmawsem/helperFunctions/\")\n",
    "from Pdb2GroLib import *\n"
   ]
  },
  {
   "cell_type": "code",
   "execution_count": 36,
   "metadata": {},
   "outputs": [],
   "source": [
    "a = list(structure.get_residues())[0]"
   ]
  },
  {
   "cell_type": "code",
   "execution_count": 39,
   "metadata": {},
   "outputs": [
    {
     "data": {
      "text/plain": [
       "[<Atom O5'>,\n",
       " <Atom C5'>,\n",
       " <Atom C4'>,\n",
       " <Atom O4'>,\n",
       " <Atom C3'>,\n",
       " <Atom O3'>,\n",
       " <Atom C2'>,\n",
       " <Atom C1'>,\n",
       " <Atom N9>,\n",
       " <Atom C8>,\n",
       " <Atom N7>,\n",
       " <Atom C5>,\n",
       " <Atom C6>,\n",
       " <Atom N6>,\n",
       " <Atom N1>,\n",
       " <Atom C2>,\n",
       " <Atom N3>,\n",
       " <Atom C4>]"
      ]
     },
     "execution_count": 39,
     "metadata": {},
     "output_type": "execute_result"
    }
   ],
   "source": [
    "list(a.get_atoms())"
   ]
  },
  {
   "cell_type": "code",
   "execution_count": 42,
   "metadata": {},
   "outputs": [
    {
     "data": {
      "text/plain": [
       "False"
      ]
     },
     "execution_count": 42,
     "metadata": {},
     "output_type": "execute_result"
    }
   ],
   "source": [
    "set()"
   ]
  },
  {
   "cell_type": "code",
   "execution_count": 37,
   "metadata": {},
   "outputs": [
    {
     "data": {
      "text/plain": [
       "False"
      ]
     },
     "execution_count": 37,
     "metadata": {},
     "output_type": "execute_result"
    }
   ],
   "source": [
    "\"CA\" in a"
   ]
  },
  {
   "cell_type": "code",
   "execution_count": 33,
   "metadata": {},
   "outputs": [
    {
     "name": "stderr",
     "output_type": "stream",
     "text": [
      "/Users/weilu/anaconda3/envs/py36/lib/python3.6/site-packages/Bio/PDB/StructureBuilder.py:92: PDBConstructionWarning: WARNING: Chain D is discontinuous at line 3312.\n",
      "  PDBConstructionWarning,\n",
      "/Users/weilu/anaconda3/envs/py36/lib/python3.6/site-packages/Bio/PDB/StructureBuilder.py:92: PDBConstructionWarning: WARNING: Chain E is discontinuous at line 3313.\n",
      "  PDBConstructionWarning,\n",
      "/Users/weilu/anaconda3/envs/py36/lib/python3.6/site-packages/Bio/PDB/StructureBuilder.py:92: PDBConstructionWarning: WARNING: Chain A is discontinuous at line 3314.\n",
      "  PDBConstructionWarning,\n",
      "/Users/weilu/anaconda3/envs/py36/lib/python3.6/site-packages/Bio/PDB/StructureBuilder.py:92: PDBConstructionWarning: WARNING: Chain B is discontinuous at line 3331.\n",
      "  PDBConstructionWarning,\n"
     ]
    }
   ],
   "source": [
    "parser = PDBParser()\n",
    "# all_atom_pdb_file = \"/Users/weilu/Research/server/feb_2020/compare_side_chain_with_and_without/side_chain_run1/256b/4_0/crystal_structure.pdb\"\n",
    "structure = parser.get_structure(\"x\", pdbFile)"
   ]
  },
  {
   "cell_type": "code",
   "execution_count": 35,
   "metadata": {},
   "outputs": [
    {
     "data": {
      "text/plain": [
       "[<Chain id=D>, <Chain id=E>, <Chain id=A>, <Chain id=B>]"
      ]
     },
     "execution_count": 35,
     "metadata": {},
     "output_type": "execute_result"
    }
   ],
   "source": [
    "list(structure.get_chains())"
   ]
  },
  {
   "cell_type": "code",
   "execution_count": 32,
   "metadata": {},
   "outputs": [],
   "source": [
    "pdbFile = \"/Users/weilu/Research/server/apr_2020/cornichon_cbd/frag_in_cbd/pdbs/1AWC.pdb\"\n",
    "groFile = \"/Users/weilu/Research/server/apr_2020/cornichon_cbd/frag_in_cbd/pdbs/1awcA.pdb\"\n",
    "chainID = \"A\"\n",
    "Pdb2Gro(pdbFile, groFile, chainID.upper())"
   ]
  },
  {
   "cell_type": "code",
   "execution_count": null,
   "metadata": {},
   "outputs": [],
   "source": [
    "def convert_all_atom_pdb_to_cbd_representation(all_atom_pdb_file, cbd_representation_file):\n",
    "    # from a all atom pdb.\n",
    "    # preserve N, CA, C, O, and place the CB at the center of mass of the side chain\n",
    "    parser = PDBParser()\n",
    "    # all_atom_pdb_file = \"/Users/weilu/Research/server/feb_2020/compare_side_chain_with_and_without/side_chain_run1/256b/4_0/crystal_structure.pdb\"\n",
    "    structure = parser.get_structure(\"x\", all_atom_pdb_file)\n",
    "\n",
    "    x_com_dic = {}\n",
    "    for res in structure.get_residues():\n",
    "        chain = res.get_full_id()[2]\n",
    "        resID = res.get_full_id()[3][1]\n",
    "        x_com = get_side_chain_center_of_mass(res)\n",
    "        x_com_dic[f\"{chain}{resID}\"] = x_com\n",
    "\n",
    "\n",
    "    for res in structure.get_residues():\n",
    "        chain = res.get_full_id()[2]\n",
    "        resID = res.get_full_id()[3][1]\n",
    "        x_com = x_com_dic[f\"{chain}{resID}\"]\n",
    "        if res.resname == \"GLY\":\n",
    "            continue\n",
    "        res[\"CB\"].set_coord(x_com)\n",
    "    io = PDBIO()\n",
    "    io.set_structure(structure)\n",
    "\n",
    "    class CBDRepresentationSelect(Select):\n",
    "        def accept_atom(self, atom):\n",
    "            if atom.id in [\"N\", \"CA\", \"C\", \"O\", \"CB\", \"H\"]:\n",
    "                return True\n",
    "            else:\n",
    "                return False\n",
    "    # cbd_representation_file = \"/Users/weilu/Research/server/feb_2020/compare_side_chain_with_and_without/side_chain_run1/256b/4_0/cbd_representation.pdb\"\n",
    "    io.save(cbd_representation_file, CBDRepresentationSelect())\n",
    "    return True"
   ]
  }
 ],
 "metadata": {
  "kernelspec": {
   "display_name": "Python 3",
   "language": "python",
   "name": "python3"
  },
  "language_info": {
   "codemirror_mode": {
    "name": "ipython",
    "version": 3
   },
   "file_extension": ".py",
   "mimetype": "text/x-python",
   "name": "python",
   "nbconvert_exporter": "python",
   "pygments_lexer": "ipython3",
   "version": "3.6.8"
  }
 },
 "nbformat": 4,
 "nbformat_minor": 2
}
