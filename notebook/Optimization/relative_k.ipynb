{
 "cells": [
  {
   "cell_type": "code",
   "execution_count": 1,
   "metadata": {},
   "outputs": [],
   "source": [
    "import numpy as np\n",
    "import pandas as pd\n",
    "import matplotlib.pyplot as plt\n",
    "import seaborn as sns\n",
    "import datetime\n",
    "import os\n",
    "# from small_script.myFunctions import *\n",
    "\n",
    "\n",
    "\n",
    "%matplotlib inline\n",
    "%load_ext autoreload\n",
    "%autoreload 2"
   ]
  },
  {
   "cell_type": "code",
   "execution_count": 2,
   "metadata": {},
   "outputs": [],
   "source": [
    "plt.rcParams['figure.figsize'] = [16.18033, 10]    #golden ratio\n",
    "plt.rcParams['figure.facecolor'] = 'w'\n",
    "plt.rcParams['figure.dpi'] = 100"
   ]
  },
  {
   "cell_type": "code",
   "execution_count": 27,
   "metadata": {},
   "outputs": [],
   "source": [
    "from Bio.PDB.PDBParser import PDBParser\n",
    "from Bio.PDB.Polypeptide import PPBuilder\n",
    "from Bio.PDB.Polypeptide import three_to_one\n",
    "def get_inside_or_not_table(pdb_file):\n",
    "    parser = PDBParser(PERMISSIVE=1,QUIET=True)\n",
    "    try:\n",
    "        structure = parser.get_structure('X', pdb_file)\n",
    "    except:\n",
    "        return [0]\n",
    "    inside_or_not_table = []\n",
    "    for res in structure.get_residues():\n",
    "        if res.get_id()[0] != \" \":\n",
    "            continue# skip\n",
    "        try:\n",
    "            res[\"CA\"].get_vector()\n",
    "        except:\n",
    "            print(pdb_file, res.get_id())\n",
    "            return [0]\n",
    "        inside_or_not_table.append(int(abs(res[\"CA\"].get_vector()[-1]) < 15))\n",
    "    return inside_or_not_table\n",
    "def extractTransmembrane(toLocation, location):\n",
    "    x = PDBParser().get_structure(\"x\", location)\n",
    "    class Transmembrane(Select):\n",
    "        def accept_residue(self, residue):\n",
    "            if abs(residue[\"CA\"].get_vector()[-1]) < 15:\n",
    "                return 1\n",
    "            else:\n",
    "                return 0\n",
    "\n",
    "    io = PDBIO()\n",
    "    io.set_structure(x)\n",
    "    io.save(toLocation, Transmembrane())\n",
    "\n",
    "def getSeqFromPDB(location, considerGap=True):\n",
    "    x = PDBParser().get_structure(\"x\", location)\n",
    "    seq = \"\"\n",
    "    resseqs = []\n",
    "    preResId = 0\n",
    "    for res in x.get_residues():\n",
    "        resId = res.get_id()[1]\n",
    "        if considerGap and resId != preResId + 1:\n",
    "            seq += \" \"\n",
    "            resseqs.append(-1)\n",
    "        seq += three_to_one(res.get_resname())\n",
    "        resseqs.append(res.get_id()[1])\n",
    "        preResId = resId\n",
    "    return seq,resseqs"
   ]
  },
  {
   "cell_type": "code",
   "execution_count": 3,
   "metadata": {},
   "outputs": [],
   "source": [
    "data = pd.read_csv(\"/Users/weilu/Research/database/membrane_training_set/proteins-2019-05-01.csv\")\n",
    "data.pdbid = data.pdbid.apply(lambda x: x[2:-1])"
   ]
  },
  {
   "cell_type": "code",
   "execution_count": 4,
   "metadata": {},
   "outputs": [
    {
     "data": {
      "text/html": [
       "<div>\n",
       "<style scoped>\n",
       "    .dataframe tbody tr th:only-of-type {\n",
       "        vertical-align: middle;\n",
       "    }\n",
       "\n",
       "    .dataframe tbody tr th {\n",
       "        vertical-align: top;\n",
       "    }\n",
       "\n",
       "    .dataframe thead th {\n",
       "        text-align: right;\n",
       "    }\n",
       "</style>\n",
       "<table border=\"1\" class=\"dataframe\">\n",
       "  <thead>\n",
       "    <tr style=\"text-align: right;\">\n",
       "      <th></th>\n",
       "      <th>id</th>\n",
       "      <th>ordering</th>\n",
       "      <th>family_name_cache</th>\n",
       "      <th>species_name_cache</th>\n",
       "      <th>membrane_name_cache</th>\n",
       "      <th>name</th>\n",
       "      <th>description</th>\n",
       "      <th>comments</th>\n",
       "      <th>pdbid</th>\n",
       "      <th>resolution</th>\n",
       "      <th>...</th>\n",
       "      <th>species_id</th>\n",
       "      <th>family_id</th>\n",
       "      <th>superfamily_id</th>\n",
       "      <th>classtype_id</th>\n",
       "      <th>type_id</th>\n",
       "      <th>secondary_representations_count</th>\n",
       "      <th>structure_subunits_count</th>\n",
       "      <th>citations_count</th>\n",
       "      <th>created_at</th>\n",
       "      <th>updated_at</th>\n",
       "    </tr>\n",
       "  </thead>\n",
       "  <tbody>\n",
       "    <tr>\n",
       "      <th>0</th>\n",
       "      <td>1</td>\n",
       "      <td>2024.0</td>\n",
       "      <td>OmpA family</td>\n",
       "      <td>Escherichia coli</td>\n",
       "      <td>Gram-neg. outer</td>\n",
       "      <td>Outer membrane protein A (OMPA), disordered loops</td>\n",
       "      <td>NaN</td>\n",
       "      <td>OmpA is required for the action of colicins K ...</td>\n",
       "      <td>1qjp</td>\n",
       "      <td>1.65</td>\n",
       "      <td>...</td>\n",
       "      <td>9</td>\n",
       "      <td>34</td>\n",
       "      <td>26</td>\n",
       "      <td>2</td>\n",
       "      <td>1</td>\n",
       "      <td>3</td>\n",
       "      <td>1</td>\n",
       "      <td>2</td>\n",
       "      <td>2018-08-13 03:49:46 UTC</td>\n",
       "      <td>2018-09-21 18:14:03 UTC</td>\n",
       "    </tr>\n",
       "    <tr>\n",
       "      <th>1</th>\n",
       "      <td>2</td>\n",
       "      <td>2028.0</td>\n",
       "      <td>Enterobacterial Ail/Lom protein</td>\n",
       "      <td>Escherichia coli</td>\n",
       "      <td>Gram-neg. outer</td>\n",
       "      <td>Outer membrane protein X (OMPX)</td>\n",
       "      <td>NaN</td>\n",
       "      <td>OmpX from Escherichia coli promotes adhesion t...</td>\n",
       "      <td>1qj8</td>\n",
       "      <td>1.90</td>\n",
       "      <td>...</td>\n",
       "      <td>9</td>\n",
       "      <td>355</td>\n",
       "      <td>26</td>\n",
       "      <td>2</td>\n",
       "      <td>1</td>\n",
       "      <td>7</td>\n",
       "      <td>1</td>\n",
       "      <td>1</td>\n",
       "      <td>2018-08-13 03:49:46 UTC</td>\n",
       "      <td>2018-09-21 18:14:03 UTC</td>\n",
       "    </tr>\n",
       "    <tr>\n",
       "      <th>2</th>\n",
       "      <td>3</td>\n",
       "      <td>2033.0</td>\n",
       "      <td>Opacity porins</td>\n",
       "      <td>Neisseria meningitidis</td>\n",
       "      <td>Gram-neg. outer</td>\n",
       "      <td>Outer membrane protein NspA</td>\n",
       "      <td>NaN</td>\n",
       "      <td>Pathogenic Neisseria spp. possess a repertoire...</td>\n",
       "      <td>1p4t</td>\n",
       "      <td>2.55</td>\n",
       "      <td>...</td>\n",
       "      <td>24</td>\n",
       "      <td>337</td>\n",
       "      <td>235</td>\n",
       "      <td>2</td>\n",
       "      <td>1</td>\n",
       "      <td>0</td>\n",
       "      <td>1</td>\n",
       "      <td>0</td>\n",
       "      <td>2018-08-13 03:49:46 UTC</td>\n",
       "      <td>2018-09-21 18:14:03 UTC</td>\n",
       "    </tr>\n",
       "    <tr>\n",
       "      <th>3</th>\n",
       "      <td>4</td>\n",
       "      <td>1740.0</td>\n",
       "      <td>Influenza virus matrix protein 2</td>\n",
       "      <td>Influenza virus</td>\n",
       "      <td>Viral</td>\n",
       "      <td>M2 proton channel of Influenza A, closed state...</td>\n",
       "      <td>NaN</td>\n",
       "      <td>NaN</td>\n",
       "      <td>3lbw</td>\n",
       "      <td>1.65</td>\n",
       "      <td>...</td>\n",
       "      <td>51</td>\n",
       "      <td>263</td>\n",
       "      <td>185</td>\n",
       "      <td>11</td>\n",
       "      <td>1</td>\n",
       "      <td>3</td>\n",
       "      <td>4</td>\n",
       "      <td>0</td>\n",
       "      <td>2018-08-13 03:49:46 UTC</td>\n",
       "      <td>2018-10-02 17:42:36 UTC</td>\n",
       "    </tr>\n",
       "    <tr>\n",
       "      <th>4</th>\n",
       "      <td>5</td>\n",
       "      <td>2045.0</td>\n",
       "      <td>OM protease omptin, OMPT</td>\n",
       "      <td>Yersinia pestis</td>\n",
       "      <td>Gram-neg. outer</td>\n",
       "      <td>Plasminogen activator PLA (coagulase/fibrinoly...</td>\n",
       "      <td>NaN</td>\n",
       "      <td>NaN</td>\n",
       "      <td>2x55</td>\n",
       "      <td>1.85</td>\n",
       "      <td>...</td>\n",
       "      <td>299</td>\n",
       "      <td>36</td>\n",
       "      <td>27</td>\n",
       "      <td>2</td>\n",
       "      <td>1</td>\n",
       "      <td>2</td>\n",
       "      <td>1</td>\n",
       "      <td>0</td>\n",
       "      <td>2018-08-13 03:49:46 UTC</td>\n",
       "      <td>2018-09-21 18:14:03 UTC</td>\n",
       "    </tr>\n",
       "  </tbody>\n",
       "</table>\n",
       "<p>5 rows × 31 columns</p>\n",
       "</div>"
      ],
      "text/plain": [
       "   id  ordering                 family_name_cache      species_name_cache  \\\n",
       "0   1    2024.0                       OmpA family        Escherichia coli   \n",
       "1   2    2028.0   Enterobacterial Ail/Lom protein        Escherichia coli   \n",
       "2   3    2033.0                    Opacity porins  Neisseria meningitidis   \n",
       "3   4    1740.0  Influenza virus matrix protein 2         Influenza virus   \n",
       "4   5    2045.0          OM protease omptin, OMPT         Yersinia pestis   \n",
       "\n",
       "  membrane_name_cache                                               name  \\\n",
       "0     Gram-neg. outer  Outer membrane protein A (OMPA), disordered loops   \n",
       "1     Gram-neg. outer                    Outer membrane protein X (OMPX)   \n",
       "2     Gram-neg. outer                        Outer membrane protein NspA   \n",
       "3               Viral  M2 proton channel of Influenza A, closed state...   \n",
       "4     Gram-neg. outer  Plasminogen activator PLA (coagulase/fibrinoly...   \n",
       "\n",
       "  description                                           comments pdbid  \\\n",
       "0         NaN  OmpA is required for the action of colicins K ...  1qjp   \n",
       "1         NaN  OmpX from Escherichia coli promotes adhesion t...  1qj8   \n",
       "2         NaN  Pathogenic Neisseria spp. possess a repertoire...  1p4t   \n",
       "3         NaN                                                NaN  3lbw   \n",
       "4         NaN                                                NaN  2x55   \n",
       "\n",
       "  resolution  ... species_id  family_id  superfamily_id  classtype_id  \\\n",
       "0       1.65  ...          9         34              26             2   \n",
       "1       1.90  ...          9        355              26             2   \n",
       "2       2.55  ...         24        337             235             2   \n",
       "3       1.65  ...         51        263             185            11   \n",
       "4       1.85  ...        299         36              27             2   \n",
       "\n",
       "   type_id  secondary_representations_count  structure_subunits_count  \\\n",
       "0        1                                3                         1   \n",
       "1        1                                7                         1   \n",
       "2        1                                0                         1   \n",
       "3        1                                3                         4   \n",
       "4        1                                2                         1   \n",
       "\n",
       "   citations_count               created_at               updated_at  \n",
       "0                2  2018-08-13 03:49:46 UTC  2018-09-21 18:14:03 UTC  \n",
       "1                1  2018-08-13 03:49:46 UTC  2018-09-21 18:14:03 UTC  \n",
       "2                0  2018-08-13 03:49:46 UTC  2018-09-21 18:14:03 UTC  \n",
       "3                0  2018-08-13 03:49:46 UTC  2018-10-02 17:42:36 UTC  \n",
       "4                0  2018-08-13 03:49:46 UTC  2018-09-21 18:14:03 UTC  \n",
       "\n",
       "[5 rows x 31 columns]"
      ]
     },
     "execution_count": 4,
     "metadata": {},
     "output_type": "execute_result"
    }
   ],
   "source": [
    "data.head()"
   ]
  },
  {
   "cell_type": "code",
   "execution_count": 7,
   "metadata": {},
   "outputs": [],
   "source": [
    "dd = pd.read_csv(\"/Users/weilu/Research/database/membrane_training_set/chosen.csv\", index_col=0)\n",
    "pdb_list = dd.pdbid.tolist()"
   ]
  },
  {
   "cell_type": "code",
   "execution_count": null,
   "metadata": {},
   "outputs": [],
   "source": []
  },
  {
   "cell_type": "code",
   "execution_count": 18,
   "metadata": {
    "collapsed": true
   },
   "outputs": [
    {
     "name": "stdout",
     "output_type": "stream",
     "text": [
      "not good 5lcb 0.0847457627118644\n",
      "not good 6f0k 0.09178743961352658\n",
      "not good 6adq 0.1346153846153846\n",
      "not good 2oau 0.15748031496062992\n",
      "not good 6cxh 0.1099476439790576\n",
      "not good 1p49 0.09124087591240876\n",
      "not good 4i0u 0.11527377521613832\n",
      "not good 3bpp 0.0\n",
      "not good 1kn9 0.004273504273504274\n",
      "not good 4qo2 0.8186813186813187\n",
      "not good 2hi7 0.0\n",
      "not good 5svl 0.16516516516516516\n",
      "not good 6el1 0.06267806267806268\n",
      "not good 2ksf 0.8691588785046729\n",
      "not good 2bhv 0.010582010582010581\n",
      "not good 6idf 0.037481259370314844\n",
      "not good 4jza 0.0\n",
      "not good 5iji 0.18061674008810572\n",
      "not good 1lv7 0.00398406374501992\n",
      "not good 3b8n 0.0\n",
      "not good 3pjv 0.0078125\n",
      "not good 2lop 0.88\n",
      "not good 2lom 0.8387096774193549\n",
      "not good 2mmu 0.82\n",
      "not good 5eke 0.1736111111111111\n",
      "not good 5sy1 0.0\n",
      "not good 5wud 0.8469387755102041\n",
      "not good 5uph 0.0\n",
      "not good 5v7v 0.021207177814029365\n",
      "not good 6f2d 0.03940886699507389\n",
      "not good 6c5w 0.14736842105263157\n",
      "not good 6bug 0.0\n",
      "not good 6mlu 0.0784313725490196\n",
      "not good 6mct 0.8076923076923077\n"
     ]
    }
   ],
   "source": [
    "filtered_list = []\n",
    "for pdb in pdb_list:\n",
    "    location = f\"/Users/weilu/Research/database/relative_k/cleaned_pdbs/{pdb}.pdb\"\n",
    "    a = get_inside_or_not_table(location)\n",
    "    ratio = sum(a)/len(a)\n",
    "    if ratio < 0.2 or ratio > 0.8:\n",
    "        print(\"not good\", pdb, ratio)\n",
    "    else:\n",
    "        filtered_list.append(pdb)\n",
    "        # print(\"good\", pdb, ratio)\n",
    "    # print(pdb, ratio)"
   ]
  },
  {
   "cell_type": "code",
   "execution_count": 19,
   "metadata": {},
   "outputs": [
    {
     "data": {
      "text/plain": [
       "86"
      ]
     },
     "execution_count": 19,
     "metadata": {},
     "output_type": "execute_result"
    }
   ],
   "source": [
    "len(filtered_list)"
   ]
  },
  {
   "cell_type": "code",
   "execution_count": 20,
   "metadata": {},
   "outputs": [],
   "source": [
    "pdb_list = filtered_list"
   ]
  },
  {
   "cell_type": "code",
   "execution_count": 23,
   "metadata": {},
   "outputs": [],
   "source": [
    "with open(\"/Users/weilu/Research/server/may_2019/relative_k/optimization/protein_list\", \"w\") as out:\n",
    "    for pdb in pdb_list:\n",
    "        # print(pdb)\n",
    "        out.write(pdb+\"\\n\")"
   ]
  },
  {
   "cell_type": "code",
   "execution_count": 28,
   "metadata": {},
   "outputs": [],
   "source": [
    "for pdb in pdb_list:\n",
    "    location = f\"/Users/weilu/Research/server/may_2019/relative_k/database/dompdb/{pdb}.pdb\"\n",
    "    toLocation = f\"/Users/weilu/Research/server/may_2019/relative_k/database/S20_seq/{pdb}.seq\"\n",
    "    seq,resseqs = getSeqFromPDB(location, considerGap=False)\n",
    "    with open(toLocation, \"w\") as out:\n",
    "        out.write(seq+'\\n')"
   ]
  },
  {
   "cell_type": "code",
   "execution_count": null,
   "metadata": {},
   "outputs": [],
   "source": [
    "0.01442\n",
    "-0.31612"
   ]
  },
  {
   "cell_type": "code",
   "execution_count": 29,
   "metadata": {},
   "outputs": [],
   "source": [
    "complete_proteins = \"../database/cath-dataset-nonredundant-S20Clean.list\""
   ]
  },
  {
   "cell_type": "code",
   "execution_count": 33,
   "metadata": {},
   "outputs": [],
   "source": [
    "a = \"proteins_name_list/proteins_name_list_0.txt\""
   ]
  },
  {
   "cell_type": "code",
   "execution_count": 34,
   "metadata": {},
   "outputs": [
    {
     "data": {
      "text/plain": [
       "'proteins_name_list_0'"
      ]
     },
     "execution_count": 34,
     "metadata": {},
     "output_type": "execute_result"
    }
   ],
   "source": [
    "\n",
    "a.split('/')[-1].split('.')[0]"
   ]
  },
  {
   "cell_type": "code",
   "execution_count": null,
   "metadata": {},
   "outputs": [],
   "source": []
  }
 ],
 "metadata": {
  "kernelspec": {
   "display_name": "Python 3",
   "language": "python",
   "name": "python3"
  },
  "language_info": {
   "codemirror_mode": {
    "name": "ipython",
    "version": 3
   },
   "file_extension": ".py",
   "mimetype": "text/x-python",
   "name": "python",
   "nbconvert_exporter": "python",
   "pygments_lexer": "ipython3",
   "version": "3.6.8"
  }
 },
 "nbformat": 4,
 "nbformat_minor": 2
}
