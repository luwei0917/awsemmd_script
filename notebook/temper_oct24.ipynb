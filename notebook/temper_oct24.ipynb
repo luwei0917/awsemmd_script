{
 "cells": [
  {
   "cell_type": "code",
   "execution_count": 97,
   "metadata": {},
   "outputs": [],
   "source": [
    "import pandas as pd\n",
    "import numpy as np\n",
    "import matplotlib.pyplot as plt\n",
    "import glob\n",
    "import jedi\n",
    "%matplotlib inline"
   ]
  },
  {
   "cell_type": "code",
   "execution_count": 105,
   "metadata": {},
   "outputs": [],
   "source": [
    "def read_temper(n=4, location=\".\"):\n",
    "    all_lipid_list = []\n",
    "    for i in range(n):\n",
    "        file = \"lipid.{}.dat\".format(i)\n",
    "        lipid = pd.read_csv(location+file).assign(Run = i)\n",
    "        lipid.columns = lipid.columns.str.strip()\n",
    "        lipid = lipid[[\"Steps\",\"Lipid\",\"Run\"]]\n",
    "        all_lipid_list.append(lipid)\n",
    "    lipid = pd.concat(all_lipid_list)\n",
    "    \n",
    "    all_energy_list = []\n",
    "    for i in range(n):\n",
    "        file = \"energy.{}.dat\".format(i)\n",
    "        energy = pd.read_csv(location+file).assign(Run = i)\n",
    "        energy.columns = energy.columns.str.strip()\n",
    "        energy = energy[[\"Steps\", \"AMH-Go\", \"Membrane\", \"Rg\", \"Run\"]]\n",
    "        all_energy_list.append(energy)\n",
    "    energy = pd.concat(all_energy_list)\n",
    "    \n",
    "    all_dis_list = []\n",
    "    for i in range(n):\n",
    "        file = \"addforce.{}.dat\".format(i)\n",
    "        dis = pd.read_csv(location+file).assign(Run = i)\n",
    "        dis.columns = dis.columns.str.strip()\n",
    "        remove_columns = ['AddedForce', 'Dis12', 'Dis34', 'Dis56']\n",
    "        dis.drop(remove_columns, axis=1,inplace=True)\n",
    "        all_dis_list.append(dis)\n",
    "    dis = pd.concat(all_dis_list)\n",
    "\n",
    "    all_wham_list = []\n",
    "    for i in range(n):\n",
    "        file = \"wham.{}.dat\".format(i)\n",
    "        wham = pd.read_csv(location+file).assign(Run = i)\n",
    "        wham.columns = wham.columns.str.strip()\n",
    "        remove_columns = ['Rg', 'Tc']\n",
    "        wham = wham.drop(remove_columns, axis=1)\n",
    "        all_wham_list.append(wham)\n",
    "    wham = pd.concat(all_wham_list)\n",
    "\n",
    "    file = \"../log0/log.lammps\"\n",
    "#     file = \"../log.lammps\"\n",
    "    temper = pd.read_table(location+file, skiprows=2, sep=' ')\n",
    "    temper = temper.melt(id_vars=['Step'], value_vars=['T' + str(i) for i in range(n)], value_name=\"Temp\", var_name=\"Run\")\n",
    "    temper[\"Run\"] = temper[\"Run\"].str[1:].astype(int)\n",
    "    temper[\"Temp\"] = \"T\" + temper[\"Temp\"].astype(str) \n",
    "    t2 = temper.merge(wham, how='inner', left_on=[\"Step\", \"Run\"], right_on=[\"Steps\", \"Run\"]\n",
    "                     ).sort_values('Step').drop('Steps', axis=1)\n",
    "    t3 = t2.merge(dis, how='inner', left_on=[\"Step\", \"Run\"], right_on=[\"Steps\", \"Run\"]\n",
    "                     ).sort_values('Step').drop('Steps', axis=1)\n",
    "    t4 = t3.merge(lipid, how='inner', left_on=[\"Step\", \"Run\"], right_on=[\"Steps\", \"Run\"]\n",
    "                             ).sort_values('Step').drop('Steps', axis=1)\n",
    "    t5 = t4.merge(energy, how='inner', left_on=[\"Step\", \"Run\"], right_on=[\"Steps\", \"Run\"]\n",
    "                             ).sort_values('Step').drop('Steps', axis=1)\n",
    "    t5 = t5.assign(TotalE = t5.Energy + t5.Lipid)\n",
    "    t6 = t5.assign(TotalE_perturb_mem_p = t5.TotalE + 0.05*t5.Membrane)\n",
    "    t6 = t6.assign(TotalE_perturb_mem_m = t6.TotalE - 0.05*t6.Membrane)\n",
    "    t6 = t6.assign(TotalE_perturb_lipid_p = t6.TotalE + 0.05*t6.Lipid)\n",
    "    t6 = t6.assign(TotalE_perturb_lipid_m = t6.TotalE - 0.05*t6.Lipid)\n",
    "    return t6"
   ]
  },
  {
   "cell_type": "code",
   "execution_count": 106,
   "metadata": {},
   "outputs": [
    {
     "name": "stdout",
     "output_type": "stream",
     "text": [
      "30.0\n",
      "32.0\n",
      "34.0\n",
      "36.0\n",
      "38.0\n",
      "40.0\n",
      "42.0\n",
      "44.0\n",
      "46.0\n",
      "48.0\n",
      "50.0\n",
      "52.0\n",
      "54.0\n",
      "56.0\n",
      "58.0\n",
      "60.0\n",
      "62.0\n",
      "64.0\n",
      "66.0\n",
      "68.0\n",
      "70.0\n",
      "72.0\n",
      "74.0\n",
      "76.0\n",
      "78.0\n",
      "80.0\n",
      "82.0\n",
      "84.0\n",
      "86.0\n",
      "88.0\n",
      "90.0\n",
      "92.0\n",
      "94.0\n",
      "96.0\n",
      "98.0\n",
      "100.0\n",
      "102.0\n",
      "104.0\n",
      "106.0\n",
      "108.0\n",
      "110.0\n",
      "112.0\n",
      "114.0\n",
      "116.0\n",
      "118.0\n",
      "120.0\n",
      "122.0\n",
      "124.0\n",
      "126.0\n",
      "128.0\n",
      "130.0\n",
      "30.0\n",
      "32.0\n",
      "34.0\n",
      "36.0\n",
      "38.0\n",
      "40.0\n",
      "42.0\n",
      "44.0\n",
      "46.0\n",
      "48.0\n",
      "50.0\n",
      "52.0\n",
      "54.0\n",
      "56.0\n",
      "58.0\n",
      "60.0\n",
      "62.0\n",
      "64.0\n",
      "66.0\n",
      "68.0\n",
      "70.0\n",
      "72.0\n",
      "74.0\n",
      "76.0\n",
      "78.0\n",
      "80.0\n",
      "82.0\n",
      "84.0\n",
      "86.0\n",
      "88.0\n",
      "90.0\n",
      "92.0\n",
      "94.0\n",
      "96.0\n",
      "98.0\n",
      "100.0\n",
      "102.0\n",
      "104.0\n",
      "106.0\n",
      "108.0\n",
      "110.0\n",
      "112.0\n",
      "114.0\n",
      "116.0\n",
      "118.0\n",
      "120.0\n",
      "122.0\n",
      "124.0\n",
      "126.0\n",
      "128.0\n",
      "130.0\n"
     ]
    }
   ],
   "source": [
    "folder_list = [\n",
    "   '/Users/weilu/Research/server/oct_2017/23oct/memb_3_rg_0.1_lipid_1_extended/',\n",
    "    '/Users/weilu/Research/server/oct_2017/23oct/memb_3_rg_0.1_lipid_1_topology/'\n",
    "]\n",
    "dis_list = np.linspace(30, 130, 51)\n",
    "# dis_list = np.linspace(132, 232, 51)\n",
    "# dis_list = [30.0]\n",
    "dic = {\"T0\":350, \"T1\":400, \"T2\":450, \"T3\":500, \"T4\":550, \"T5\":600, \"T6\":650, \"T7\":700, \"T8\":750, \"T9\":800, \"T10\":900, \"T11\":1000}\n",
    "for folder in folder_list:\n",
    "    for dis in dis_list:\n",
    "        print(dis)\n",
    "        location = folder + \"/simulation/dis_{}/0/\".format(dis)\n",
    "        data = read_temper(location=location, n=12)\n",
    "        temps = list(dic.keys())\n",
    "        for temp in temps:\n",
    "#             tmp = data.query('Temp==\"{}\"& Step > 1e7 & Step <= 2.6e7'.format(temp))\n",
    "            tmp = data.query('Temp==\"{}\"'.format(temp))\n",
    "            tmp.to_csv(location+\"t{}_new.dat\".format(dic[temp]), sep=' ', index=False, header=False)"
   ]
  },
  {
   "cell_type": "code",
   "execution_count": 4,
   "metadata": {},
   "outputs": [],
   "source": [
    "import subprocess"
   ]
  },
  {
   "cell_type": "code",
   "execution_count": 13,
   "metadata": {},
   "outputs": [],
   "source": [
    "a = subprocess.Popen('grep \"std\" temper_oct24.ipynb',stdout=subprocess.PIPE,shell=True).communicate()[0].decode()"
   ]
  },
  {
   "cell_type": "code",
   "execution_count": 14,
   "metadata": {},
   "outputs": [
    {
     "name": "stdout",
     "output_type": "stream",
     "text": [
      "     \"name\": \"stdout\",\n",
      "       \"'     \\\"name\\\": \\\"stdout\\\",\\\\n'\"\n",
      "    \"subprocess.Popen('grep \\\"std\\\" temper_oct24.ipynb',stdout=subprocess.PIPE,shell=True).communicate()[0].decode()\"\n",
      "     \"name\": \"stdout\",\n",
      "\n"
     ]
    }
   ],
   "source": [
    "print(a)"
   ]
  },
  {
   "cell_type": "code",
   "execution_count": 34,
   "metadata": {},
   "outputs": [],
   "source": [
    "location = folder + \"/simulation/dis_{}/0/\".format(30.0)\n",
    "n=12\n",
    "all_lipid_list = []\n",
    "for i in range(n):\n",
    "    file = \"lipid.{}.dat\".format(i)\n",
    "    lipid = pd.read_csv(location+file).assign(Run = i)\n",
    "    lipid.columns = lipid.columns.str.strip()\n",
    "    lipid = lipid[[\"Steps\",\"Lipid\",\"Run\"]]\n",
    "    all_lipid_list.append(lipid)\n",
    "lipid = pd.concat(all_lipid_list)\n",
    "\n",
    "all_energy_list = []\n",
    "for i in range(n):\n",
    "    file = \"energy.{}.dat\".format(i)\n",
    "    energy = pd.read_csv(location+file).assign(Run = i)\n",
    "    energy.columns = energy.columns.str.strip()\n",
    "    energy = energy[[\"Steps\", \"AMH-Go\", \"Membrane\", \"Rg\", \"Run\"]]\n",
    "    all_energy_list.append(energy)\n",
    "energy = pd.concat(all_energy_list)\n",
    "\n",
    "all_dis_list = []\n",
    "for i in range(n):\n",
    "    file = \"addforce.{}.dat\".format(i)\n",
    "    dis = pd.read_csv(location+file).assign(Run = i)\n",
    "    dis.columns = dis.columns.str.strip()\n",
    "    remove_columns = ['AddedForce', 'Dis12', 'Dis34', 'Dis56']\n",
    "    dis.drop(remove_columns, axis=1,inplace=True)\n",
    "    all_dis_list.append(dis)\n",
    "dis = pd.concat(all_dis_list)\n",
    "\n",
    "all_wham_list = []\n",
    "for i in range(n):\n",
    "    file = \"wham.{}.dat\".format(i)\n",
    "    wham = pd.read_csv(location+file).assign(Run = i)\n",
    "    wham.columns = wham.columns.str.strip()\n",
    "    remove_columns = ['Rg', 'Tc']\n",
    "    wham = wham.drop(remove_columns, axis=1)\n",
    "    all_wham_list.append(wham)\n",
    "wham = pd.concat(all_wham_list)\n",
    "\n",
    "file = \"../log.lammps\"\n",
    "temper = pd.read_table(location+file, skiprows=2, sep=' ')\n",
    "temper = temper.melt(id_vars=['Step'], value_vars=['T' + str(i) for i in range(n)], value_name=\"Temp\", var_name=\"Run\")\n",
    "temper[\"Run\"] = temper[\"Run\"].str[1:].astype(int)\n",
    "temper[\"Temp\"] = \"T\" + temper[\"Temp\"].astype(str) \n",
    "    t2 = temper.merge(wham, how='inner', left_on=[\"Step\", \"Run\"], right_on=[\"Steps\", \"Run\"]\n",
    "                     ).sort_values('Step').drop('Steps', axis=1)\n",
    "    t3 = t2.merge(dis, how='inner', left_on=[\"Step\", \"Run\"], right_on=[\"Steps\", \"Run\"]\n",
    "                     ).sort_values('Step').drop('Steps', axis=1)\n",
    "    t4 = t3.merge(lipid, how='inner', left_on=[\"Step\", \"Run\"], right_on=[\"Steps\", \"Run\"]\n",
    "                             ).sort_values('Step').drop('Steps', axis=1)\n",
    "    t5 = t4.merge(energy, how='inner', left_on=[\"Step\", \"Run\"], right_on=[\"Steps\", \"Run\"]\n",
    "                             ).sort_values('Step').drop('Steps', axis=1)\n",
    "    t5 = t5.assign(TotalE = t5.Energy + t5.Lipid)\n",
    "    t6 = t5.assign(TotalE_perturb = t5.TotalE + 0.1*t5.Membrane)"
   ]
  },
  {
   "cell_type": "code",
   "execution_count": 48,
   "metadata": {},
   "outputs": [],
   "source": [
    "location = \"/Users/weilu/Research/server/oct_2017/23oct/memb_3_rg_0.1_lipid_1_extended/1d_dis/t_all/force_0.0/evpb-500.dat\""
   ]
  },
  {
   "cell_type": "code",
   "execution_count": 81,
   "metadata": {},
   "outputs": [],
   "source": [
    "%matplotlib inline"
   ]
  },
  {
   "cell_type": "code",
   "execution_count": 96,
   "metadata": {},
   "outputs": [
    {
     "data": {
      "text/plain": [
       "(-60, 20)"
      ]
     },
     "execution_count": 96,
     "metadata": {},
     "output_type": "execute_result"
    },
    {
     "data": {
      "image/png": "[encoded data removed]",
      "text/plain": [
       "<matplotlib.figure.Figure at 0x11b5d5940>"
      ]
     },
     "metadata": {},
     "output_type": "display_data"
    }
   ],
   "source": [
    "plt.figure(figsize=(12, 8))\n",
    "num = 4\n",
    "plt.plot(data[:,1], data[:,2] - data[:,2][-num] + data[:,3] - data[:,3][-num], c=\"red\")\n",
    "plt.plot(data[:,1], data[:,3] - data[:,3][-num], c=\"black\")\n",
    "plt.plot(data[:,1], data[:,4] - data[:,4][-num])\n",
    "plt.plot(data[:,1], data[:,5] - data[:,5][-num])\n",
    "plt.ylim(-60, 20)"
   ]
  },
  {
   "cell_type": "code",
   "execution_count": null,
   "metadata": {},
   "outputs": [],
   "source": []
  }
 ],
 "metadata": {
  "kernelspec": {
   "display_name": "Python 3",
   "language": "python",
   "name": "python3"
  },
  "language_info": {
   "codemirror_mode": {
    "name": "ipython",
    "version": 3
   },
   "file_extension": ".py",
   "mimetype": "text/x-python",
   "name": "python",
   "nbconvert_exporter": "python",
   "pygments_lexer": "ipython3",
   "version": "3.6.1"
  }
 },
 "nbformat": 4,
 "nbformat_minor": 2
}
