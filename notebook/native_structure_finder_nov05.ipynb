{
 "cells": [
  {
   "cell_type": "code",
   "execution_count": 1,
   "metadata": {
    "collapsed": true
   },
   "outputs": [],
   "source": [
    "import numpy as np\n",
    "import pandas as pd\n",
    "import matplotlib\n",
    "import matplotlib.pyplot as plt\n",
    "import os\n",
    "%matplotlib inline\n",
    "\n",
    "plt.rcParams['axes.labelsize'] = 14\n",
    "plt.rcParams['xtick.labelsize'] = 12\n",
    "plt.rcParams['ytick.labelsize'] = 12\n",
    "\n",
    "# Where to save the figures\n",
    "PROJECT_ROOT_DIR = \".\"\n",
    "CHAPTER_ID = \"classification\"\n",
    "\n",
    "def save_fig(fig_id, tight_layout=True):\n",
    "    path = os.path.join(PROJECT_ROOT_DIR, \"images\", CHAPTER_ID, fig_id + \".png\")\n",
    "    print(\"Saving figure\", fig_id)\n",
    "    if tight_layout:\n",
    "        plt.tight_layout()\n",
    "    plt.savefig(path, format='png', dpi=300)"
   ]
  },
  {
   "cell_type": "code",
   "execution_count": 2,
   "metadata": {
    "collapsed": true
   },
   "outputs": [],
   "source": [
    "raw_test_data = pd.read_csv(\"/Users/weilu/Research/data/test_data/test_data_4.csv\")\n",
    "raw_data = raw_test_data.groupby(\"Name\").get_group(\"T0792\")"
   ]
  },
  {
   "cell_type": "code",
   "execution_count": 4,
   "metadata": {},
   "outputs": [
    {
     "data": {
      "text/plain": [
       "Index(['Step', 'Qw', 'Rw', 'VTotal', 'QGO', 'Burial', 'Water', 'Rama', 'Chain',\n",
       "       'Chi', 'DSSP', 'P_AP', 'Helix', 'Frag_Mem', 'GDT', 'Name', 'Good'],\n",
       "      dtype='object')"
      ]
     },
     "execution_count": 4,
     "metadata": {},
     "output_type": "execute_result"
    }
   ],
   "source": [
    "raw_test_data.columns"
   ]
  },
  {
   "cell_type": "code",
   "execution_count": 5,
   "metadata": {},
   "outputs": [
    {
     "data": {
      "text/plain": [
       "['Rw',\n",
       " 'VTotal',\n",
       " 'QGO',\n",
       " 'Burial',\n",
       " 'Water',\n",
       " 'Rama',\n",
       " 'Chain',\n",
       " 'Chi',\n",
       " 'DSSP',\n",
       " 'P_AP',\n",
       " 'Helix',\n",
       " 'Frag_Mem']"
      ]
     },
     "execution_count": 5,
     "metadata": {},
     "output_type": "execute_result"
    }
   ],
   "source": [
    "list(raw_test_data.columns[2:-3])"
   ]
  },
  {
   "cell_type": "code",
   "execution_count": 71,
   "metadata": {
    "collapsed": true
   },
   "outputs": [],
   "source": [
    "# FEATURES = [\"Rw\", \"VTotal\", \"QGO\"]\n",
    "# FEATURES = [\"Rw\", \"VTotal\", \"QGO\", \"Burial\", \"Frag_Mem\", \"Water\"]\n",
    "FEATURES = list(raw_test_data.columns[2:-3])\n",
    "FEATURES = ['Rw',\n",
    " 'VTotal',\n",
    " 'QGO',\n",
    " 'Burial',\n",
    " 'Water',\n",
    " 'Rama',\n",
    " 'DSSP',\n",
    " 'P_AP',\n",
    " 'Helix',\n",
    " 'Frag_Mem']\n",
    "LABEL = [\"Good\"]"
   ]
  },
  {
   "cell_type": "code",
   "execution_count": 72,
   "metadata": {},
   "outputs": [],
   "source": [
    "test = raw_data.filter(FEATURES)"
   ]
  },
  {
   "cell_type": "code",
   "execution_count": 73,
   "metadata": {},
   "outputs": [],
   "source": [
    "a = test - test.mean() "
   ]
  },
  {
   "cell_type": "code",
   "execution_count": 74,
   "metadata": {
    "collapsed": true
   },
   "outputs": [],
   "source": [
    "U, s, V = np.linalg.svd(a)"
   ]
  },
  {
   "cell_type": "code",
   "execution_count": 75,
   "metadata": {
    "collapsed": true
   },
   "outputs": [],
   "source": [
    "c1 = V.T[:, 0]\n",
    "c2 = V.T[:, 1]"
   ]
  },
  {
   "cell_type": "code",
   "execution_count": 76,
   "metadata": {},
   "outputs": [
    {
     "data": {
      "text/plain": [
       "array([  9.99676899e-01,   2.30606380e-02,   4.19808837e-03,\n",
       "         7.66989107e-04,   2.39040414e-03,   2.76195027e-03,\n",
       "         1.32539971e-03,   7.67124115e-04,   2.14383033e-03,\n",
       "         8.70685183e-03])"
      ]
     },
     "execution_count": 76,
     "metadata": {},
     "output_type": "execute_result"
    }
   ],
   "source": [
    "c1"
   ]
  },
  {
   "cell_type": "code",
   "execution_count": 77,
   "metadata": {},
   "outputs": [
    {
     "data": {
      "text/plain": [
       "Rw          1.0\n",
       "VTotal      1.0\n",
       "QGO         1.0\n",
       "Burial      1.0\n",
       "Water       1.0\n",
       "Rama        1.0\n",
       "DSSP        1.0\n",
       "P_AP        1.0\n",
       "Helix       1.0\n",
       "Frag_Mem    1.0\n",
       "dtype: float64"
      ]
     },
     "execution_count": 77,
     "metadata": {},
     "output_type": "execute_result"
    }
   ],
   "source": [
    "np.std(a/np.std(a))"
   ]
  },
  {
   "cell_type": "code",
   "execution_count": 78,
   "metadata": {},
   "outputs": [],
   "source": [
    "b = a/np.std(a)\n",
    "b\n",
    "U, s, V = np.linalg.svd(b)\n",
    "c1 = V.T[:, 0]\n",
    "c2 = V.T[:, 1]"
   ]
  },
  {
   "cell_type": "code",
   "execution_count": 79,
   "metadata": {},
   "outputs": [
    {
     "data": {
      "text/plain": [
       "array([ 0.26534191,  0.55426683,  0.1082651 , -0.01471415,  0.03828705,\n",
       "        0.41946372,  0.20433614,  0.22997682,  0.39455654,  0.427447  ])"
      ]
     },
     "execution_count": 79,
     "metadata": {},
     "output_type": "execute_result"
    }
   ],
   "source": [
    "c1"
   ]
  },
  {
   "cell_type": "code",
   "execution_count": 83,
   "metadata": {},
   "outputs": [],
   "source": [
    "a = StandardScaler(test)"
   ]
  },
  {
   "cell_type": "code",
   "execution_count": 87,
   "metadata": {},
   "outputs": [
    {
     "data": {
      "text/plain": [
       "StandardScaler(copy=                Rw      VTotal        QGO     Burial      Water        Rama  \\\n",
       "6030 -10913.216331 -598.271323   8.105555 -69.408140 -31.126137 -327.905525\n",
       "6031 -10167.657091 -498.314220  20.261380 -69.158464 -23.624554 -265.301770\n",
       "6032 -10294.674660 -530.439020  17.701859 -66.558903 -25.7...13.016733 -130.167483\n",
       "8039 -12.015912 -5.429175 -12.869567 -133.227691\n",
       "\n",
       "[2010 rows x 10 columns],\n",
       "        with_mean=True, with_std=True)"
      ]
     },
     "execution_count": 87,
     "metadata": {},
     "output_type": "execute_result"
    }
   ],
   "source": [
    "a"
   ]
  },
  {
   "cell_type": "code",
   "execution_count": 81,
   "metadata": {},
   "outputs": [
    {
     "ename": "TypeError",
     "evalue": "float() argument must be a string or a number, not 'StandardScaler'",
     "output_type": "error",
     "traceback": [
      "\u001b[0;31m---------------------------------------------------------------------------\u001b[0m",
      "\u001b[0;31mTypeError\u001b[0m                                 Traceback (most recent call last)",
      "\u001b[0;32m<ipython-input-81-2d886fe19b82>\u001b[0m in \u001b[0;36m<module>\u001b[0;34m()\u001b[0m\n\u001b[1;32m      1\u001b[0m \u001b[0;32mfrom\u001b[0m \u001b[0msklearn\u001b[0m\u001b[0;34m.\u001b[0m\u001b[0mdecomposition\u001b[0m \u001b[0;32mimport\u001b[0m \u001b[0mPCA\u001b[0m\u001b[0;34m\u001b[0m\u001b[0m\n\u001b[1;32m      2\u001b[0m \u001b[0mpca\u001b[0m \u001b[0;34m=\u001b[0m \u001b[0mPCA\u001b[0m\u001b[0;34m(\u001b[0m\u001b[0mn_components\u001b[0m \u001b[0;34m=\u001b[0m \u001b[0;36m0.95\u001b[0m\u001b[0;34m)\u001b[0m\u001b[0;34m\u001b[0m\u001b[0m\n\u001b[0;32m----> 3\u001b[0;31m \u001b[0mpca\u001b[0m\u001b[0;34m.\u001b[0m\u001b[0mfit\u001b[0m\u001b[0;34m(\u001b[0m\u001b[0mStandardScaler\u001b[0m\u001b[0;34m(\u001b[0m\u001b[0mtest\u001b[0m\u001b[0;34m)\u001b[0m\u001b[0;34m)\u001b[0m\u001b[0;34m\u001b[0m\u001b[0m\n\u001b[0m\u001b[1;32m      4\u001b[0m \u001b[0mcumsum\u001b[0m \u001b[0;34m=\u001b[0m \u001b[0mnp\u001b[0m\u001b[0;34m.\u001b[0m\u001b[0mcumsum\u001b[0m\u001b[0;34m(\u001b[0m\u001b[0mpca\u001b[0m\u001b[0;34m.\u001b[0m\u001b[0mexplained_variance_ratio_\u001b[0m\u001b[0;34m)\u001b[0m\u001b[0;34m\u001b[0m\u001b[0m\n\u001b[1;32m      5\u001b[0m \u001b[0md\u001b[0m \u001b[0;34m=\u001b[0m \u001b[0mnp\u001b[0m\u001b[0;34m.\u001b[0m\u001b[0margmax\u001b[0m\u001b[0;34m(\u001b[0m\u001b[0mcumsum\u001b[0m \u001b[0;34m>=\u001b[0m \u001b[0;36m0.95\u001b[0m\u001b[0;34m)\u001b[0m \u001b[0;34m+\u001b[0m \u001b[0;36m1\u001b[0m\u001b[0;34m\u001b[0m\u001b[0m\n",
      "\u001b[0;32m~/anaconda3/lib/python3.6/site-packages/sklearn/decomposition/pca.py\u001b[0m in \u001b[0;36mfit\u001b[0;34m(self, X, y)\u001b[0m\n\u001b[1;32m    327\u001b[0m             \u001b[0mReturns\u001b[0m \u001b[0mthe\u001b[0m \u001b[0minstance\u001b[0m \u001b[0mitself\u001b[0m\u001b[0;34m.\u001b[0m\u001b[0;34m\u001b[0m\u001b[0m\n\u001b[1;32m    328\u001b[0m         \"\"\"\n\u001b[0;32m--> 329\u001b[0;31m         \u001b[0mself\u001b[0m\u001b[0;34m.\u001b[0m\u001b[0m_fit\u001b[0m\u001b[0;34m(\u001b[0m\u001b[0mX\u001b[0m\u001b[0;34m)\u001b[0m\u001b[0;34m\u001b[0m\u001b[0m\n\u001b[0m\u001b[1;32m    330\u001b[0m         \u001b[0;32mreturn\u001b[0m \u001b[0mself\u001b[0m\u001b[0;34m\u001b[0m\u001b[0m\n\u001b[1;32m    331\u001b[0m \u001b[0;34m\u001b[0m\u001b[0m\n",
      "\u001b[0;32m~/anaconda3/lib/python3.6/site-packages/sklearn/decomposition/pca.py\u001b[0m in \u001b[0;36m_fit\u001b[0;34m(self, X)\u001b[0m\n\u001b[1;32m    368\u001b[0m \u001b[0;34m\u001b[0m\u001b[0m\n\u001b[1;32m    369\u001b[0m         X = check_array(X, dtype=[np.float64, np.float32], ensure_2d=True,\n\u001b[0;32m--> 370\u001b[0;31m                         copy=self.copy)\n\u001b[0m\u001b[1;32m    371\u001b[0m \u001b[0;34m\u001b[0m\u001b[0m\n\u001b[1;32m    372\u001b[0m         \u001b[0;31m# Handle n_components==None\u001b[0m\u001b[0;34m\u001b[0m\u001b[0;34m\u001b[0m\u001b[0m\n",
      "\u001b[0;32m~/anaconda3/lib/python3.6/site-packages/sklearn/utils/validation.py\u001b[0m in \u001b[0;36mcheck_array\u001b[0;34m(array, accept_sparse, dtype, order, copy, force_all_finite, ensure_2d, allow_nd, ensure_min_samples, ensure_min_features, warn_on_dtype, estimator)\u001b[0m\n\u001b[1;32m    431\u001b[0m                                       force_all_finite)\n\u001b[1;32m    432\u001b[0m     \u001b[0;32melse\u001b[0m\u001b[0;34m:\u001b[0m\u001b[0;34m\u001b[0m\u001b[0m\n\u001b[0;32m--> 433\u001b[0;31m         \u001b[0marray\u001b[0m \u001b[0;34m=\u001b[0m \u001b[0mnp\u001b[0m\u001b[0;34m.\u001b[0m\u001b[0marray\u001b[0m\u001b[0;34m(\u001b[0m\u001b[0marray\u001b[0m\u001b[0;34m,\u001b[0m \u001b[0mdtype\u001b[0m\u001b[0;34m=\u001b[0m\u001b[0mdtype\u001b[0m\u001b[0;34m,\u001b[0m \u001b[0morder\u001b[0m\u001b[0;34m=\u001b[0m\u001b[0morder\u001b[0m\u001b[0;34m,\u001b[0m \u001b[0mcopy\u001b[0m\u001b[0;34m=\u001b[0m\u001b[0mcopy\u001b[0m\u001b[0;34m)\u001b[0m\u001b[0;34m\u001b[0m\u001b[0m\n\u001b[0m\u001b[1;32m    434\u001b[0m \u001b[0;34m\u001b[0m\u001b[0m\n\u001b[1;32m    435\u001b[0m         \u001b[0;32mif\u001b[0m \u001b[0mensure_2d\u001b[0m\u001b[0;34m:\u001b[0m\u001b[0;34m\u001b[0m\u001b[0m\n",
      "\u001b[0;31mTypeError\u001b[0m: float() argument must be a string or a number, not 'StandardScaler'"
     ]
    }
   ],
   "source": [
    "from sklearn.decomposition import PCA\n",
    "pca = PCA(n_components = 0.95)\n",
    "pca.fit(StandardScaler(test))\n",
    "cumsum = np.cumsum(pca.explained_variance_ratio_)\n",
    "d = np.argmax(cumsum >= 0.95) + 1"
   ]
  },
  {
   "cell_type": "code",
   "execution_count": 67,
   "metadata": {},
   "outputs": [
    {
     "data": {
      "text/plain": [
       "8"
      ]
     },
     "execution_count": 67,
     "metadata": {},
     "output_type": "execute_result"
    }
   ],
   "source": [
    "d"
   ]
  },
  {
   "cell_type": "code",
   "execution_count": 69,
   "metadata": {},
   "outputs": [
    {
     "data": {
      "text/plain": [
       "10"
      ]
     },
     "execution_count": 69,
     "metadata": {},
     "output_type": "execute_result"
    }
   ],
   "source": [
    "len(FEATURES)"
   ]
  },
  {
   "cell_type": "code",
   "execution_count": 68,
   "metadata": {},
   "outputs": [
    {
     "data": {
      "text/plain": [
       "[<matplotlib.lines.Line2D at 0x1a26850f98>]"
      ]
     },
     "execution_count": 68,
     "metadata": {},
     "output_type": "execute_result"
    },
    {
     "data": {
      "image/png": "[encoded data removed]",
      "text/plain": [
       "<matplotlib.figure.Figure at 0x1a26850e80>"
      ]
     },
     "metadata": {},
     "output_type": "display_data"
    }
   ],
   "source": [
    "plt.plot(cumsum)"
   ]
  },
  {
   "cell_type": "code",
   "execution_count": 25,
   "metadata": {
    "collapsed": true
   },
   "outputs": [],
   "source": [
    "from sklearn.base import BaseEstimator, TransformerMixin\n",
    "from sklearn.pipeline import Pipeline\n",
    "from sklearn.preprocessing import StandardScaler\n",
    "from sklearn.pipeline import FeatureUnion\n",
    "from sklearn.preprocessing import PolynomialFeatures\n",
    "# Create a class to select numerical or categorical columns \n",
    "# since Scikit-Learn doesn't handle DataFrames yet\n",
    "class DataFrameSelector(BaseEstimator, TransformerMixin):\n",
    "    def __init__(self, attribute_names):\n",
    "        self.attribute_names = attribute_names\n",
    "    def fit(self, X, y=None):\n",
    "        return self\n",
    "    def transform(self, X):\n",
    "        return X[self.attribute_names].values"
   ]
  },
  {
   "cell_type": "code",
   "execution_count": null,
   "metadata": {
    "collapsed": true
   },
   "outputs": [],
   "source": [
    "# I want to start with the simplest linear regression\n"
   ]
  },
  {
   "cell_type": "code",
   "execution_count": 20,
   "metadata": {
    "collapsed": true
   },
   "outputs": [],
   "source": [
    "num_attribs = FEATURES\n",
    "cat_attribs = LABEL\n",
    "num_pipeline = Pipeline([\n",
    "        ('selector', DataFrameSelector(num_attribs)),\n",
    "        ('std_scaler', StandardScaler()),\n",
    "        ('poly', PolynomialFeatures(degree=3, include_bias=False))\n",
    "    ])\n",
    "cat_pipeline = Pipeline([\n",
    "        ('selector', DataFrameSelector(cat_attribs))\n",
    "    ])\n",
    "\n",
    "full_pipeline = FeatureUnion(transformer_list=[\n",
    "        (\"num_pipeline\", num_pipeline),\n",
    "        (\"cat_pipeline\", cat_pipeline),\n",
    "    ])"
   ]
  },
  {
   "cell_type": "code",
   "execution_count": 21,
   "metadata": {
    "collapsed": true
   },
   "outputs": [],
   "source": [
    "from sklearn.model_selection import train_test_split\n",
    "# raw_data = raw_test_data.groupby(\"Name\").get_group(\"1MBA\")\n",
    "train_set, test_set = train_test_split(raw_data, test_size=0.2, random_state=42)\n",
    "X_train = full_pipeline.fit_transform(train_set)\n",
    "X_test = full_pipeline.fit_transform(test_set)\n",
    "train_y = X_train[:,-1]\n",
    "train_set = X_train[:,:-1]\n",
    "test_y = X_test[:,-1]\n",
    "test_set = X_test[:,:-1]"
   ]
  },
  {
   "cell_type": "code",
   "execution_count": 22,
   "metadata": {},
   "outputs": [
    {
     "data": {
      "text/plain": [
       "VotingClassifier(estimators=[('lr', LogisticRegression(C=1.0, class_weight={0: 0.9, 1: 0.09999999999999998},\n",
       "          dual=False, fit_intercept=True, intercept_scaling=1,\n",
       "          max_iter=100, multi_class='ovr', n_jobs=1, penalty='l2',\n",
       "          random_state=142, solver='liblinear', tol=0.0001, verbose=0,\n",
       "       ...rbf', max_iter=-1, probability=True, random_state=412,\n",
       "  shrinking=True, tol=0.001, verbose=False))],\n",
       "         n_jobs=1, voting='soft', weights=None)"
      ]
     },
     "execution_count": 22,
     "metadata": {},
     "output_type": "execute_result"
    }
   ],
   "source": [
    "from sklearn.ensemble import RandomForestClassifier\n",
    "from sklearn.ensemble import VotingClassifier\n",
    "from sklearn.linear_model import LogisticRegression\n",
    "from sklearn.svm import SVC\n",
    "from sklearn.linear_model import SGDClassifier\n",
    "\n",
    "from sklearn.model_selection import cross_val_score\n",
    "from sklearn.model_selection import cross_val_predict\n",
    "from sklearn.metrics import confusion_matrix\n",
    "from sklearn.metrics import accuracy_score\n",
    "p = 0.9\n",
    "log_clf = LogisticRegression(random_state=142, class_weight={0:p, 1:(1-p)})\n",
    "rnd_clf = RandomForestClassifier(random_state=432, class_weight={0:p, 1:(1-p)})\n",
    "svm_clf = SVC(probability=True, random_state=412, class_weight={0:p, 1:(1-p)})\n",
    "\n",
    "voting_clf = VotingClassifier(\n",
    "    estimators=[('lr', log_clf), ('rf', rnd_clf), ('svc', svm_clf)],\n",
    "    voting='soft')\n",
    "log_clf.fit(train_set, train_y)\n",
    "rnd_clf.fit(train_set, train_y)\n",
    "svm_clf.fit(train_set, train_y)\n",
    "voting_clf.fit(train_set, train_y)"
   ]
  },
  {
   "cell_type": "code",
   "execution_count": 23,
   "metadata": {},
   "outputs": [
    {
     "name": "stdout",
     "output_type": "stream",
     "text": [
      "LogisticRegression \n",
      " [[1567    0]\n",
      " [  31   10]]\n",
      "RandomForestClassifier \n",
      " [[1567    0]\n",
      " [  31   10]]\n",
      "SVC \n",
      " [[1567    0]\n",
      " [  31   10]]\n",
      "VotingClassifier \n",
      " [[1567    0]\n",
      " [  31   10]]\n"
     ]
    }
   ],
   "source": [
    "n = 10\n",
    "for clf in (log_clf, rnd_clf, svm_clf, voting_clf):\n",
    "#     y_pred = clf.predict(train_set)\n",
    "    prob= clf.predict_proba(train_set)[:,1]\n",
    "    position_of_top_n = prob.argsort()[-n:][::-1]\n",
    "    threshold = prob[position_of_top_n][-1]\n",
    "    predict_y = np.zeros(len(train_y),)\n",
    "    predict_y[position_of_top_n] = 1\n",
    "#     predict_y = (test > threshold)\n",
    "#     print(threshold)\n",
    "    cm = confusion_matrix(train_y, predict_y)\n",
    "#     print(clf.__class__.__name__, \"\\n\", accuracy_score(train_y, predict_y))\n",
    "    print(clf.__class__.__name__, \"\\n\", cm)"
   ]
  },
  {
   "cell_type": "code",
   "execution_count": 24,
   "metadata": {},
   "outputs": [
    {
     "name": "stdout",
     "output_type": "stream",
     "text": [
      "LogisticRegression \n",
      " [[391   3]\n",
      " [  1   7]]\n",
      "RandomForestClassifier \n",
      " [[389   5]\n",
      " [  3   5]]\n",
      "SVC \n",
      " [[390   4]\n",
      " [  2   6]]\n",
      "VotingClassifier \n",
      " [[389   5]\n",
      " [  3   5]]\n"
     ]
    }
   ],
   "source": [
    "n = 10\n",
    "for clf in (log_clf, rnd_clf, svm_clf, voting_clf):\n",
    "#     y_pred = clf.predict(train_set)\n",
    "    prob= clf.predict_proba(test_set)[:,1]\n",
    "    position_of_top_n = prob.argsort()[-n:][::-1]\n",
    "    threshold = prob[position_of_top_n][-1]\n",
    "    predict_y = np.zeros(len(test_y),)\n",
    "    predict_y[position_of_top_n] = 1\n",
    "#     predict_y = (test > threshold)\n",
    "#     print(threshold)\n",
    "    cm = confusion_matrix(test_y, predict_y)\n",
    "#     print(clf.__class__.__name__, \"\\n\", accuracy_score(train_y, predict_y))\n",
    "    print(clf.__class__.__name__, \"\\n\", cm)"
   ]
  },
  {
   "cell_type": "code",
   "execution_count": 15,
   "metadata": {
    "collapsed": true
   },
   "outputs": [],
   "source": [
    "def compute_with_my_score_function(p=0.9, degree=3):\n",
    "    num_attribs = FEATURES\n",
    "    cat_attribs = LABEL\n",
    "    num_pipeline = Pipeline([\n",
    "            ('selector', DataFrameSelector(num_attribs)),\n",
    "            ('std_scaler', StandardScaler()),\n",
    "            ('poly', PolynomialFeatures(degree=degree, include_bias=False))\n",
    "        ])\n",
    "    cat_pipeline = Pipeline([\n",
    "            ('selector', DataFrameSelector(cat_attribs))\n",
    "        ])\n",
    "\n",
    "    full_pipeline = FeatureUnion(transformer_list=[\n",
    "            (\"num_pipeline\", num_pipeline),\n",
    "            (\"cat_pipeline\", cat_pipeline),\n",
    "        ])\n",
    "    train_set, test_set = train_test_split(raw_data, test_size=0.2, random_state=42)\n",
    "    X_train = full_pipeline.fit_transform(train_set)\n",
    "    X_test = full_pipeline.fit_transform(test_set)\n",
    "#     X_train = full_pipeline.fit_transform(raw_data)\n",
    "    train_y = X_train[:,-1]\n",
    "    train_set = X_train[:,:-1]\n",
    "    log_clf = LogisticRegression(random_state=142, class_weight={0:p, 1:(1-p)})\n",
    "    rnd_clf = RandomForestClassifier(random_state=432, class_weight={0:p, 1:(1-p)})\n",
    "    svm_clf = SVC(probability=True, random_state=412, class_weight={0:p, 1:(1-p)})\n",
    "    voting_clf = VotingClassifier(\n",
    "        estimators=[('lr', log_clf), ('rf', rnd_clf), ('svc', svm_clf)],\n",
    "        voting='soft')\n",
    "\n",
    "#     voting_clf.fit(train_set, train_y)\n",
    "    n = 10\n",
    "    for cl_name, clf in zip((\"lr\", \"rf\", \"svc\", \"voting\"), (log_clf, rnd_clf, svm_clf, voting_clf)):\n",
    "#     for cl_name, clf in (\"voting\", voting_clf):\n",
    "        my_evaluation = 1.0\n",
    "        another_evaluation = 0.0\n",
    "        for name, data in raw_test_data.groupby(\"Name\"):\n",
    "#             print(name)\n",
    "            X = full_pipeline.fit_transform(data)\n",
    "            validation_data, test_data = train_test_split(X, test_size=0.6, random_state=124)\n",
    "\n",
    "            validation_y = validation_data[:,-1]\n",
    "            validation_set = validation_data[:,:-1]\n",
    "            clf.fit(train_set, train_y)\n",
    "            test= clf.predict_proba(validation_set)[:,1]\n",
    "            position_of_top_n = test.argsort()[-n:][::-1]\n",
    "            threshold = test[position_of_top_n][-1]\n",
    "            predict_y = np.zeros(len(validation_y),)\n",
    "            predict_y[position_of_top_n] = 1\n",
    "        #     predict_y = (test > threshold)\n",
    "    #         print(threshold)\n",
    "            cm = confusion_matrix(validation_y, predict_y)\n",
    "#             print(cm)\n",
    "            precision = cm[1][1] / (cm[1][1] + cm[0][1])\n",
    "#             print(name,  \" precision\", precision,end = \" \")\n",
    "            if name != \"T0766\" and name != \"T0833\":\n",
    "                my_evaluation *= precision\n",
    "                another_evaluation += precision\n",
    "#         print(\"\")\n",
    "        print(\"classifier:\", cl_name, \", p:\",p, \", degree\", degree, \", score\", my_evaluation, \", another score\", another_evaluation)\n",
    "    return (cl_name, p, degree, my_evaluation)"
   ]
  },
  {
   "cell_type": "code",
   "execution_count": 16,
   "metadata": {
    "collapsed": true
   },
   "outputs": [],
   "source": [
    "def myGridSerach():\n",
    "    p_list = [0.9, 0.8, 0.7, 0.5, 0.1]\n",
    "    degree_list = [3, 2, 1]\n",
    "#     p_list = [0.1, 0.8, 0.9, 0.95]\n",
    "#     degree_list = [1, 2, 3]\n",
    "#     p_list = [0.1, 0.15, 0.2, 0.5, 0.7, 0.8, 0.85, 0.9, 0.95]\n",
    "#     degree_list = [1, 2, 3, 4]\n",
    "    result = []\n",
    "    for p in p_list:\n",
    "        for degree in degree_list:\n",
    "            result += [compute_with_my_score_function(p, degree)]\n",
    "            "
   ]
  },
  {
   "cell_type": "code",
   "execution_count": 17,
   "metadata": {},
   "outputs": [
    {
     "name": "stdout",
     "output_type": "stream",
     "text": [
      "classifier: lr , p: 0.9 , degree 3 , score 0.01008 , another score 3.0\n",
      "classifier: rf , p: 0.9 , degree 3 , score 0.00576 , another score 3.1\n",
      "classifier: svc , p: 0.9 , degree 3 , score 0.0 , another score 1.8\n",
      "classifier: voting , p: 0.9 , degree 3 , score 0.0 , another score 3.0\n",
      "classifier: lr , p: 0.9 , degree 2 , score 0.0 , another score 1.6\n",
      "classifier: rf , p: 0.9 , degree 2 , score 0.00216 , another score 2.6\n",
      "classifier: svc , p: 0.9 , degree 2 , score 0.00048 , another score 2.3\n",
      "classifier: voting , p: 0.9 , degree 2 , score 0.0036 , another score 2.7\n",
      "classifier: lr , p: 0.9 , degree 1 , score 0.0 , another score 2.0\n",
      "classifier: rf , p: 0.9 , degree 1 , score 0.00448 , another score 3.0\n",
      "classifier: svc , p: 0.9 , degree 1 , score 0.000216 , another score 2.0\n",
      "classifier: voting , p: 0.9 , degree 1 , score 0.00336 , another score 2.9\n",
      "classifier: lr , p: 0.8 , degree 3 , score 0.0075 , another score 2.8\n",
      "classifier: rf , p: 0.8 , degree 3 , score 0.0 , another score 2.1\n",
      "classifier: svc , p: 0.8 , degree 3 , score 0.0 , another score 1.8\n",
      "classifier: voting , p: 0.8 , degree 3 , score 0.0024 , another score 2.7\n",
      "classifier: lr , p: 0.8 , degree 2 , score 0.0 , another score 2.0\n",
      "classifier: rf , p: 0.8 , degree 2 , score 0.00192 , another score 2.7\n",
      "classifier: svc , p: 0.8 , degree 2 , score 0.00048 , another score 2.3\n",
      "classifier: voting , p: 0.8 , degree 2 , score 0.00576 , another score 3.1\n",
      "classifier: lr , p: 0.8 , degree 1 , score 0.0 , another score 2.0\n",
      "classifier: rf , p: 0.8 , degree 1 , score 0.0 , another score 2.6\n",
      "classifier: svc , p: 0.8 , degree 1 , score 0.000384 , another score 2.0\n",
      "classifier: voting , p: 0.8 , degree 1 , score 0.0 , another score 2.4\n",
      "classifier: lr , p: 0.7 , degree 3 , score 0.00225 , another score 2.5\n",
      "classifier: rf , p: 0.7 , degree 3 , score 0.0 , another score 2.2\n",
      "classifier: svc , p: 0.7 , degree 3 , score 0.0 , another score 1.8\n",
      "classifier: voting , p: 0.7 , degree 3 , score 0.0048 , another score 2.8\n",
      "classifier: lr , p: 0.7 , degree 2 , score 0.0 , another score 2.1\n",
      "classifier: rf , p: 0.7 , degree 2 , score 0.0084 , another score 3.1\n",
      "classifier: svc , p: 0.7 , degree 2 , score 0.000324 , another score 2.1\n",
      "classifier: voting , p: 0.7 , degree 2 , score 0.010368 , another score 3.1\n",
      "classifier: lr , p: 0.7 , degree 1 , score 0.0 , another score 2.0\n",
      "classifier: rf , p: 0.7 , degree 1 , score 0.0 , another score 1.9\n",
      "classifier: svc , p: 0.7 , degree 1 , score 0.0012 , another score 2.4\n",
      "classifier: voting , p: 0.7 , degree 1 , score 0.001296 , another score 2.5\n",
      "classifier: lr , p: 0.5 , degree 3 , score 0.0024 , another score 2.5\n",
      "classifier: rf , p: 0.5 , degree 3 , score 0.000486 , another score 2.1\n",
      "classifier: svc , p: 0.5 , degree 3 , score 0.0 , another score 2.2\n",
      "classifier: voting , p: 0.5 , degree 3 , score 0.0081 , another score 2.9\n",
      "classifier: lr , p: 0.5 , degree 2 , score 0.000336 , another score 2.0\n",
      "classifier: rf , p: 0.5 , degree 2 , score 0.0 , another score 2.2\n",
      "classifier: svc , p: 0.5 , degree 2 , score 0.0 , another score 2.3\n",
      "classifier: voting , p: 0.5 , degree 2 , score 0.0 , another score 2.4\n",
      "classifier: lr , p: 0.5 , degree 1 , score 0.0 , another score 1.9\n",
      "classifier: rf , p: 0.5 , degree 1 , score 0.00048 , another score 2.3\n",
      "classifier: svc , p: 0.5 , degree 1 , score 0.0 , another score 2.6\n",
      "classifier: voting , p: 0.5 , degree 1 , score 0.0 , another score 2.5\n",
      "classifier: lr , p: 0.1 , degree 3 , score 0.00384 , another score 2.4\n",
      "classifier: rf , p: 0.1 , degree 3 , score 0.0012 , another score 2.5\n",
      "classifier: svc , p: 0.1 , degree 3 , score 4e-05 , another score 1.4\n",
      "classifier: voting , p: 0.1 , degree 3 , score 0.00324 , another score 2.6\n",
      "classifier: lr , p: 0.1 , degree 2 , score 0.000576 , another score 2.0\n",
      "classifier: rf , p: 0.1 , degree 2 , score 0.0 , another score 2.2\n",
      "classifier: svc , p: 0.1 , degree 2 , score 2.4e-05 , another score 1.2\n",
      "classifier: voting , p: 0.1 , degree 2 , score 0.0 , another score 1.8\n",
      "classifier: lr , p: 0.1 , degree 1 , score 0.000525 , another score 2.2\n",
      "classifier: rf , p: 0.1 , degree 1 , score 0.0 , another score 1.7\n",
      "classifier: svc , p: 0.1 , degree 1 , score 9.6e-05 , another score 1.8\n",
      "classifier: voting , p: 0.1 , degree 1 , score 0.0 , another score 1.8\n"
     ]
    }
   ],
   "source": [
    "myGridSerach()"
   ]
  },
  {
   "cell_type": "code",
   "execution_count": 25,
   "metadata": {},
   "outputs": [
    {
     "name": "stdout",
     "output_type": "stream",
     "text": [
      "1MBA\n",
      "[[1955    6]\n",
      " [  49    0]]\n",
      "T0766\n",
      "[[1955    6]\n",
      " [  49    0]]\n",
      "T0784\n",
      "[[1956    5]\n",
      " [  48    1]]\n",
      "T0792\n",
      "[[1961    0]\n",
      " [  43    6]]\n",
      "T0803\n",
      "[[1956    5]\n",
      " [  48    1]]\n",
      "T0815\n",
      "[[1954    3]\n",
      " [  50    3]]\n",
      "T0833\n",
      "[[1927    6]\n",
      " [  49    0]]\n",
      "T251\n",
      "[[1961    0]\n",
      " [  43    6]]\n"
     ]
    }
   ],
   "source": [
    "from sklearn.metrics import confusion_matrix\n",
    "from sklearn.ensemble import RandomForestClassifier\n",
    "from sklearn.ensemble import VotingClassifier\n",
    "from sklearn.linear_model import LogisticRegression\n",
    "from sklearn.svm import SVC\n",
    "num_attribs = FEATURES\n",
    "cat_attribs = LABEL\n",
    "degree = 3\n",
    "num_pipeline = Pipeline([\n",
    "        ('selector', DataFrameSelector(num_attribs)),\n",
    "        ('std_scaler', StandardScaler()),\n",
    "        ('poly', PolynomialFeatures(degree=degree, include_bias=False))\n",
    "    ])\n",
    "cat_pipeline = Pipeline([\n",
    "        ('selector', DataFrameSelector(cat_attribs))\n",
    "    ])\n",
    "\n",
    "full_pipeline = FeatureUnion(transformer_list=[\n",
    "        (\"num_pipeline\", num_pipeline),\n",
    "        (\"cat_pipeline\", cat_pipeline),\n",
    "    ])\n",
    "\n",
    "# raw_data = raw_test_data.groupby(\"Name\").get_group(\"1MBA\")\n",
    "train_set, test_set = train_test_split(raw_data, test_size=0.2, random_state=42)\n",
    "X_train = full_pipeline.fit_transform(train_set)\n",
    "X_test = full_pipeline.fit_transform(test_set)\n",
    "train_y = X_train[:,-1]\n",
    "train_set = X_train[:,:-1]\n",
    "# test_y = X_test[:,-1]\n",
    "# test_set = X_test[:,:-1]\n",
    "\n",
    "p = 0.9\n",
    "log_clf = LogisticRegression(random_state=142, class_weight={0:p, 1:(1-p)})\n",
    "rnd_clf = RandomForestClassifier(random_state=432, class_weight={0:p, 1:(1-p)})\n",
    "svm_clf = SVC(probability=True, random_state=412, class_weight={0:p, 1:(1-p)})\n",
    "\n",
    "voting_clf = VotingClassifier(\n",
    "    estimators=[('lr', log_clf), ('rf', rnd_clf), ('svc', svm_clf)],\n",
    "    voting='soft')\n",
    "voting_clf.fit(train_set, train_y)\n",
    "n = 6\n",
    "for name, data in raw_test_data.groupby(\"Name\"):\n",
    "    print(name)\n",
    "    X = full_pipeline.fit_transform(data)\n",
    "    eval_y = X[:,-1]\n",
    "    eval_set = X[:,:-1]\n",
    "    test= voting_clf.predict_proba(eval_set)[:,1]\n",
    "    position_of_top_n = test.argsort()[-n:][::-1]\n",
    "    threshold = test[position_of_top_n][-1]\n",
    "    predict_y = np.zeros(len(eval_y),)\n",
    "    predict_y[position_of_top_n] = 1\n",
    "    with open(\"/Users/weilu/Research/data/structure_selector/{}_results.csv\".format(name), \"w\") as f:\n",
    "        f.write(\"Result\\n\")\n",
    "        for i in test:\n",
    "            f.write(str(i) + \"\\n\")\n",
    "#     predict_y = (test > threshold)\n",
    "#     print(threshold)\n",
    "    print(confusion_matrix(eval_y, predict_y))\n",
    "\n"
   ]
  },
  {
   "cell_type": "code",
   "execution_count": null,
   "metadata": {
    "collapsed": true
   },
   "outputs": [],
   "source": []
  }
 ],
 "metadata": {
  "kernelspec": {
   "display_name": "Python 3",
   "language": "python",
   "name": "python3"
  },
  "language_info": {
   "codemirror_mode": {
    "name": "ipython",
    "version": 3
   },
   "file_extension": ".py",
   "mimetype": "text/x-python",
   "name": "python",
   "nbconvert_exporter": "python",
   "pygments_lexer": "ipython3",
   "version": "3.6.3"
  }
 },
 "nbformat": 4,
 "nbformat_minor": 2
}
