{
 "cells": [
  {
   "cell_type": "code",
   "execution_count": 2,
   "metadata": {},
   "outputs": [],
   "source": [
    "import matplotlib as mpl\n",
    "import matplotlib.pyplot as plt\n",
    "from scipy.interpolate import griddata\n",
    "from scipy.interpolate import interp2d\n",
    "import sys\n",
    "import argparse\n",
    "import os\n",
    "import numpy as np\n",
    "import pandas as pd\n",
    "from numpy.random import uniform\n",
    "import glob\n",
    "# %matplotlib inline\n",
    "\n",
    "%matplotlib notebook"
   ]
  },
  {
   "cell_type": "code",
   "execution_count": 42,
   "metadata": {},
   "outputs": [],
   "source": [
    "location = \"/Users/weilu/Research/server/oct_2017/30oct/strengthen_helix_1_baseline_without_strengthen/\"\n",
    "folder_list = glob.glob(pathname=location + \"*_\")"
   ]
  },
  {
   "cell_type": "code",
   "execution_count": null,
   "metadata": {},
   "outputs": [],
   "source": [
    "location = folder_list[0] + \"/simulation/0/0/\"\n",
    "i = 0"
   ]
  },
  {
   "cell_type": "code",
   "execution_count": 53,
   "metadata": {},
   "outputs": [],
   "source": [
    "def read(location, i):\n",
    "    file = \"lipid.dat\"\n",
    "    lipid = pd.read_csv(location+file)\n",
    "    lipid.columns = lipid.columns.str.strip()\n",
    "\n",
    "    file = \"energy.dat\"\n",
    "    energy = pd.read_csv(location+file)\n",
    "    energy.columns = energy.columns.str.strip()\n",
    "    file = \"addforce.dat\"\n",
    "    dis = pd.read_csv(location+file)\n",
    "    dis.columns = dis.columns.str.strip()\n",
    "    remove_columns = ['AddedForce', 'Dis12', 'Dis34', 'Dis56']\n",
    "    file = \"rgs.dat\"\n",
    "    rgs = pd.read_csv(location+file)\n",
    "    rgs.columns = rgs.columns.str.strip()\n",
    "    file = \"wham.dat\"\n",
    "    wham = pd.read_csv(location+file)\n",
    "    wham.columns = wham.columns.str.strip()\n",
    "    remove_columns = ['Rg', 'Tc']\n",
    "    wham = wham.drop(remove_columns, axis=1)\n",
    "    data = wham.merge(rgs, how='inner', left_on=[\"Steps\"], right_on=[\"Steps\"]).\\\n",
    "        merge(dis, how='inner', left_on=[\"Steps\"], right_on=[\"Steps\"]).\\\n",
    "        merge(energy, how='inner', left_on=[\"Steps\"], right_on=[\"Steps\"]).\\\n",
    "        merge(lipid, how='inner', left_on=[\"Steps\"], right_on=[\"Steps\"])\n",
    "    data = data.assign(TotalE = data.Energy + data.Lipid)\n",
    "    return data"
   ]
  },
  {
   "cell_type": "code",
   "execution_count": 67,
   "metadata": {},
   "outputs": [
    {
     "name": "stdout",
     "output_type": "stream",
     "text": [
      "/Users/weilu/Research/server/oct_2017/30oct/strengthen_helix_1/temp_350_memb_2_rg_0.1_\n",
      "/Users/weilu/Research/server/oct_2017/30oct/strengthen_helix_1/temp_350_memb_4_rg_0.4_\n",
      "/Users/weilu/Research/server/oct_2017/30oct/strengthen_helix_1/temp_500_memb_2_rg_0.1_\n",
      "/Users/weilu/Research/server/oct_2017/30oct/strengthen_helix_1/temp_350_memb_2_rg_0.4_\n",
      "/Users/weilu/Research/server/oct_2017/30oct/strengthen_helix_1/temp_500_memb_4_rg_0.4_\n",
      "/Users/weilu/Research/server/oct_2017/30oct/strengthen_helix_1/temp_500_memb_4_rg_0.1_\n",
      "/Users/weilu/Research/server/oct_2017/30oct/strengthen_helix_1/temp_500_memb_2_rg_0.4_\n",
      "/Users/weilu/Research/server/oct_2017/30oct/strengthen_helix_1/temp_350_memb_4_rg_0.1_\n",
      "/Users/weilu/Research/server/oct_2017/30oct/strengthen_helix_1_baseline_without_strengthen/temp_350_memb_2_rg_0.1_\n",
      "/Users/weilu/Research/server/oct_2017/30oct/strengthen_helix_1_baseline_without_strengthen/temp_350_memb_4_rg_0.4_\n",
      "/Users/weilu/Research/server/oct_2017/30oct/strengthen_helix_1_baseline_without_strengthen/temp_500_memb_2_rg_0.1_\n",
      "/Users/weilu/Research/server/oct_2017/30oct/strengthen_helix_1_baseline_without_strengthen/temp_350_memb_2_rg_0.4_\n",
      "/Users/weilu/Research/server/oct_2017/30oct/strengthen_helix_1_baseline_without_strengthen/temp_500_memb_4_rg_0.4_\n",
      "/Users/weilu/Research/server/oct_2017/30oct/strengthen_helix_1_baseline_without_strengthen/temp_500_memb_4_rg_0.1_\n",
      "/Users/weilu/Research/server/oct_2017/30oct/strengthen_helix_1_baseline_without_strengthen/temp_500_memb_2_rg_0.4_\n",
      "/Users/weilu/Research/server/oct_2017/30oct/strengthen_helix_1_baseline_without_strengthen/temp_350_memb_4_rg_0.1_\n"
     ]
    }
   ],
   "source": [
    "all_data_list = []\n",
    "location_list = [\"strengthen_helix_1\", \"strengthen_helix_1_baseline_without_strengthen\"]\n",
    "pre = \"/Users/weilu/Research/server/oct_2017/30oct/\"\n",
    "for location in location_list:\n",
    "    folder_list = glob.glob(pathname=pre + location + \"/*_\")\n",
    "    for folder in folder_list:\n",
    "        print(folder)\n",
    "        for i in range(10):\n",
    "            data = read(folder + \"/simulation/{}/0/\".format(i), i)\n",
    "            tmp = folder.split(\"/\")[-1]\n",
    "            _,temp,_,memb,_,rg, _ = tmp.split(\"_\")\n",
    "            data = data.assign(Run = i, temp = temp, memb = memb, rg = rg, Location=location)\n",
    "            all_data_list.append(data)\n",
    "data = pd.concat(all_data_list)\n",
    "data.reset_index().to_feather(\"/Users/weilu/Research/data/pulling/nov01_strengthen\")"
   ]
  },
  {
   "cell_type": "code",
   "execution_count": 70,
   "metadata": {},
   "outputs": [],
   "source": []
  }
 ],
 "metadata": {
  "kernelspec": {
   "display_name": "Python 3",
   "language": "python",
   "name": "python3"
  },
  "language_info": {
   "codemirror_mode": {
    "name": "ipython",
    "version": 3
   },
   "file_extension": ".py",
   "mimetype": "text/x-python",
   "name": "python",
   "nbconvert_exporter": "python",
   "pygments_lexer": "ipython3",
   "version": "3.6.1"
  }
 },
 "nbformat": 4,
 "nbformat_minor": 2
}
