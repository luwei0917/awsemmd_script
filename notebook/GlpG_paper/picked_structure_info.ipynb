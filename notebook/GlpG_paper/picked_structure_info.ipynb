{
 "cells": [
  {
   "cell_type": "code",
   "execution_count": 1,
   "metadata": {
    "collapsed": true
   },
   "outputs": [],
   "source": [
    "from Bio.PDB import *\n",
    "import os\n",
    "import sys\n",
    "import random\n",
    "import time\n",
    "from random import seed, randint\n",
    "import argparse\n",
    "import platform\n",
    "from datetime import datetime\n",
    "import imp\n",
    "import numpy as np\n",
    "import fileinput\n",
    "from itertools import product\n",
    "import pandas as pd\n",
    "from scipy.interpolate import griddata\n",
    "from scipy.interpolate import interp2d\n",
    "import seaborn as sns\n",
    "from os import listdir\n",
    "import scipy\n",
    "import matplotlib.pyplot as plt\n",
    "import seaborn as sns\n",
    "from scipy.interpolate import griddata\n",
    "import matplotlib as mpl\n",
    "import filecmp\n",
    "# from .. import notebookFunctions\n",
    "\n",
    "%matplotlib inline\n",
    "plt.rcParams['figure.figsize'] = (10,6.180)    #golden ratio\n",
    "# %matplotlib notebook\n",
    "%load_ext autoreload\n",
    "%autoreload 2"
   ]
  },
  {
   "cell_type": "code",
   "execution_count": 38,
   "metadata": {},
   "outputs": [
    {
     "data": {
      "text/plain": [
       "True"
      ]
     },
     "execution_count": 38,
     "metadata": {},
     "output_type": "execute_result"
    }
   ],
   "source": [
    "pre = \"/Users/weilu/Dropbox/GlpG_paper_2018/figures/\"\n",
    "file1 = \"/Users/weilu/Dropbox/GlpG_paper_2018/figures/picked_structure_pdbs/complete_out/structure_0.pdb\"\n",
    "file2 = \"/Users/weilu/Dropbox/GlpG_paper_2018/figures/selected_structure_complete/low_e_jun01_out/structure_13.pdb\"\n",
    "filecmp.cmp(file1, file2)"
   ]
  },
  {
   "cell_type": "code",
   "execution_count": null,
   "metadata": {
    "collapsed": true
   },
   "outputs": [],
   "source": []
  },
  {
   "cell_type": "code",
   "execution_count": 32,
   "metadata": {},
   "outputs": [],
   "source": []
  },
  {
   "cell_type": "code",
   "execution_count": 34,
   "metadata": {},
   "outputs": [
    {
     "data": {
      "text/html": [
       "<div>\n",
       "<style>\n",
       "    .dataframe thead tr:only-child th {\n",
       "        text-align: right;\n",
       "    }\n",
       "\n",
       "    .dataframe thead th {\n",
       "        text-align: left;\n",
       "    }\n",
       "\n",
       "    .dataframe tbody tr th {\n",
       "        vertical-align: top;\n",
       "    }\n",
       "</style>\n",
       "<table border=\"1\" class=\"dataframe\">\n",
       "  <thead>\n",
       "    <tr style=\"text-align: right;\">\n",
       "      <th></th>\n",
       "      <th>index</th>\n",
       "      <th>AMH</th>\n",
       "      <th>AMH-Go</th>\n",
       "      <th>AMH_3H</th>\n",
       "      <th>AMH_4H</th>\n",
       "      <th>BiasTo</th>\n",
       "      <th>DisReal</th>\n",
       "      <th>Dis_h56</th>\n",
       "      <th>Distance</th>\n",
       "      <th>Energy</th>\n",
       "      <th>...</th>\n",
       "      <th>z_average</th>\n",
       "      <th>z_h1</th>\n",
       "      <th>z_h2</th>\n",
       "      <th>z_h3</th>\n",
       "      <th>z_h4</th>\n",
       "      <th>z_h5</th>\n",
       "      <th>z_h6</th>\n",
       "      <th>BiasedEnergy</th>\n",
       "      <th>BiasEnergy</th>\n",
       "      <th>Energy_with_all_bias</th>\n",
       "    </tr>\n",
       "  </thead>\n",
       "  <tbody>\n",
       "    <tr>\n",
       "      <th>2</th>\n",
       "      <td>2</td>\n",
       "      <td>NaN</td>\n",
       "      <td>-368.794764</td>\n",
       "      <td>NaN</td>\n",
       "      <td>-280.810983</td>\n",
       "      <td>274.0</td>\n",
       "      <td>264.425563</td>\n",
       "      <td>68.20642</td>\n",
       "      <td>120.60384</td>\n",
       "      <td>-673.649006</td>\n",
       "      <td>...</td>\n",
       "      <td>-16.978985</td>\n",
       "      <td>-18.064276</td>\n",
       "      <td>-14.082236</td>\n",
       "      <td>-20.113153</td>\n",
       "      <td>-19.360805</td>\n",
       "      <td>-11.60792</td>\n",
       "      <td>-19.682536</td>\n",
       "      <td>-451.72726</td>\n",
       "      <td>1.833397</td>\n",
       "      <td>-449.893863</td>\n",
       "    </tr>\n",
       "  </tbody>\n",
       "</table>\n",
       "<p>1 rows × 52 columns</p>\n",
       "</div>"
      ],
      "text/plain": [
       "   index  AMH      AMH-Go  AMH_3H      AMH_4H  BiasTo     DisReal   Dis_h56  \\\n",
       "2      2  NaN -368.794764     NaN -280.810983   274.0  264.425563  68.20642   \n",
       "\n",
       "    Distance      Energy          ...           z_average       z_h1  \\\n",
       "2  120.60384 -673.649006          ...          -16.978985 -18.064276   \n",
       "\n",
       "        z_h2       z_h3       z_h4      z_h5       z_h6  BiasedEnergy  \\\n",
       "2 -14.082236 -20.113153 -19.360805 -11.60792 -19.682536    -451.72726   \n",
       "\n",
       "   BiasEnergy  Energy_with_all_bias  \n",
       "2    1.833397           -449.893863  \n",
       "\n",
       "[1 rows x 52 columns]"
      ]
     },
     "execution_count": 34,
     "metadata": {},
     "output_type": "execute_result"
    }
   ],
   "source": [
    "data.query(\"index == 2\")"
   ]
  },
  {
   "cell_type": "code",
   "execution_count": 30,
   "metadata": {},
   "outputs": [
    {
     "data": {
      "text/plain": [
       "Index(['Unnamed: 0', 'level_0', 'AMH', 'AMH-Go', 'AMH_3H', 'AMH_4H', 'BiasTo',\n",
       "       'DisReal', 'Dis_h56', 'Distance', 'Energy', 'Lipid', 'Lipid1',\n",
       "       'Lipid10', 'Lipid11', 'Lipid12', 'Lipid13', 'Lipid14', 'Lipid15',\n",
       "       'Lipid2', 'Lipid3', 'Lipid4', 'Lipid5', 'Lipid6', 'Lipid7', 'Lipid8',\n",
       "       'Lipid9', 'Membrane', 'Qw', 'Rg', 'Run', 'Step', 'Temp', 'TempT',\n",
       "       'TotalE', 'abs_z_average', 'index', 'rg1', 'rg2', 'rg3', 'rg4', 'rg5',\n",
       "       'rg6', 'rg_all', 'z_average', 'z_h1', 'z_h2', 'z_h3', 'z_h4', 'z_h5',\n",
       "       'z_h6', 'BiasedEnergy', 'BiasEnergy', 'Energy_with_all_bias'],\n",
       "      dtype='object')"
      ]
     },
     "execution_count": 30,
     "metadata": {},
     "output_type": "execute_result"
    }
   ],
   "source": [
    "data.columns"
   ]
  },
  {
   "cell_type": "code",
   "execution_count": 202,
   "metadata": {
    "collapsed": true
   },
   "outputs": [],
   "source": []
  },
  {
   "cell_type": "code",
   "execution_count": 251,
   "metadata": {},
   "outputs": [],
   "source": [
    "def get_info(name=None):\n",
    "    target = target_dic[name]\n",
    "    data = pd.read_csv(pre + f\"selected_structure_complete/{target}.csv\")\n",
    "#     data = data.drop([\"level_0\", \"index\", \"Unnamed: 0\"], axis=1).reset_index()\n",
    "    data = data.drop([\"index\"], axis=1).reset_index()\n",
    "    chosen_list = []\n",
    "    for j in range(5):\n",
    "        file1 = pre + f\"picked_structure_pdbs/{name}/structure_{j}.pdb\"\n",
    "        for i in range(20):\n",
    "            file2 = pre + f\"selected_structure_complete/{target}/structure_{i}.pdb\"\n",
    "            if filecmp.cmp(file1, file2):\n",
    "#                 print(i)\n",
    "                chosen_list.append(data.query(f\"index == {i}\"))\n",
    "                break\n",
    "    chosen = pd.concat(chosen_list)\n",
    "#     print(chosen)\n",
    "    # data[\"Energy\"] = data[\"Lipid\"] + data[\"Rg\"] + data[\"Membrane\"] + data[\"AMH-Go\"]\n",
    "    chosen[\"z_h56\"] = chosen[\"z_h5\"] + chosen[\"z_h6\"]\n",
    "    chosen[\"average_z_h56\"] = chosen[\"z_h56\"]/2  \n",
    "    chosen[\"z_average\"] = chosen[\"z_average\"]\n",
    "#     info = chosen[[\"DisReal\", \"z_average\", \"Qw\", \"Dis_h56\", \"z_h56\", \"Lipid\", \"Rg\", \"Membrane\", \"AMH-Go\"]]\n",
    "    info = chosen[[\"DisReal\", \"z_average\", \"Qw\", \"Dis_h56\", \"average_z_h56\", \"Lipid\", \"Rg\", \"Membrane\", \"AMH-Go\"]]\n",
    "    info = info.describe().loc[[\"mean\",\"std\"]].T\n",
    "#     out = info[\"mean\"].map('{:.3f}'.format) + \"±\" + info[\"std\"].map('{:.1f}'.format)\n",
    "    out = info[\"mean\"].map('{:.2f}'.format) + \"$\\pm$\" + info[\"std\"].map('{:.2f}'.format)\n",
    "    return out"
   ]
  },
  {
   "cell_type": "code",
   "execution_count": 258,
   "metadata": {},
   "outputs": [],
   "source": [
    "target_dic = {\"complete_out\":\"low_e_jun01_out\",\n",
    "            \"low_e_h12\":\"low_e_jun01_h12\",\n",
    "             \"low_e_h34\":\"low_e_jun01_h34\",\n",
    "             \"low_e_h56\":\"low_e_jun01_h56\",\n",
    "             \"low_e_pre_transition\":\"low_e_jun01_pre\",\n",
    "             \"low_e_transition\":\"low_e_jun01_transition\",\n",
    "             \"low_e_post_transition\":\"low_e_jun01_post_transition\",\n",
    "             \"other_path/low_e_path1\":\"other_path/low_e_path1\",\n",
    "             \"other_path/low_e_path2\":\"other_path/low_e_path2\",\n",
    "             \"native\":\"native\"}\n",
    "name_dic = {\"complete_out\":\"U2\",\n",
    "            \"low_e_h12\":\"U1\",\n",
    "             \"low_e_h34\":\"I2\",\n",
    "             \"low_e_h56\":\"I1\",\n",
    "             \"low_e_pre_transition\":\"$\\\\alpha$\",\n",
    "             \"low_e_transition\":\"$\\\\beta$\",\n",
    "             \"low_e_post_transition\":\"$\\gamma$\",\n",
    "             \"other_path/low_e_path1\":\"path1\",\n",
    "             \"other_path/low_e_path2\":\"path2\",\n",
    "            \"native\":\"N\"}\n",
    "\n",
    "name_list = [\"complete_out\", \"low_e_h12\", \"low_e_h34\", \"low_e_h56\", \n",
    "             \"low_e_post_transition\", \"low_e_transition\",\"low_e_pre_transition\", \"native\"]\n",
    "# name_list = [\"complete_out\", \"low_e_h12\", \"low_e_h34\", \"low_e_h56\", \n",
    "#              \"low_e_post_transition\", \"low_e_transition\",\"low_e_pre_transition\",\n",
    "#             \"other_path/low_e_path1\", \"other_path/low_e_path2\"]\n",
    "all_info_list = []\n",
    "for name in name_list:\n",
    "    a = get_info(name)\n",
    "    a[\"name\"] = name_dic[name]\n",
    "    all_info_list.append(a)\n",
    "all_info = pd.concat(all_info_list, axis=1).T.set_index('name').reset_index()\n"
   ]
  },
  {
   "cell_type": "code",
   "execution_count": 259,
   "metadata": {},
   "outputs": [
    {
     "data": {
      "text/html": [
       "<div>\n",
       "<style>\n",
       "    .dataframe thead tr:only-child th {\n",
       "        text-align: right;\n",
       "    }\n",
       "\n",
       "    .dataframe thead th {\n",
       "        text-align: left;\n",
       "    }\n",
       "\n",
       "    .dataframe tbody tr th {\n",
       "        vertical-align: top;\n",
       "    }\n",
       "</style>\n",
       "<table border=\"1\" class=\"dataframe\">\n",
       "  <thead>\n",
       "    <tr style=\"text-align: right;\">\n",
       "      <th></th>\n",
       "      <th>name</th>\n",
       "      <th>DisReal</th>\n",
       "      <th>z_average</th>\n",
       "      <th>Qw</th>\n",
       "      <th>Dis_h56</th>\n",
       "      <th>average_z_h56</th>\n",
       "    </tr>\n",
       "  </thead>\n",
       "  <tbody>\n",
       "    <tr>\n",
       "      <th>0</th>\n",
       "      <td>U2</td>\n",
       "      <td>271.92$\\pm$7.33</td>\n",
       "      <td>-18.89$\\pm$1.80</td>\n",
       "      <td>0.09$\\pm$0.00</td>\n",
       "      <td>73.53$\\pm$3.32</td>\n",
       "      <td>-17.13$\\pm$1.18</td>\n",
       "    </tr>\n",
       "    <tr>\n",
       "      <th>1</th>\n",
       "      <td>U1</td>\n",
       "      <td>226.45$\\pm$2.65</td>\n",
       "      <td>-12.60$\\pm$1.45</td>\n",
       "      <td>0.09$\\pm$0.01</td>\n",
       "      <td>73.45$\\pm$2.34</td>\n",
       "      <td>-17.01$\\pm$0.66</td>\n",
       "    </tr>\n",
       "    <tr>\n",
       "      <th>2</th>\n",
       "      <td>I2</td>\n",
       "      <td>145.80$\\pm$6.41</td>\n",
       "      <td>-9.66$\\pm$0.82</td>\n",
       "      <td>0.16$\\pm$0.01</td>\n",
       "      <td>67.45$\\pm$4.91</td>\n",
       "      <td>-16.10$\\pm$1.33</td>\n",
       "    </tr>\n",
       "    <tr>\n",
       "      <th>3</th>\n",
       "      <td>I1</td>\n",
       "      <td>83.98$\\pm$7.36</td>\n",
       "      <td>-6.58$\\pm$0.85</td>\n",
       "      <td>0.42$\\pm$0.02</td>\n",
       "      <td>61.94$\\pm$6.30</td>\n",
       "      <td>-17.44$\\pm$2.68</td>\n",
       "    </tr>\n",
       "    <tr>\n",
       "      <th>4</th>\n",
       "      <td>$\\gamma$</td>\n",
       "      <td>67.08$\\pm$1.55</td>\n",
       "      <td>-5.51$\\pm$0.37</td>\n",
       "      <td>0.46$\\pm$0.03</td>\n",
       "      <td>53.40$\\pm$5.05</td>\n",
       "      <td>-13.78$\\pm$1.07</td>\n",
       "    </tr>\n",
       "    <tr>\n",
       "      <th>5</th>\n",
       "      <td>$\\beta$</td>\n",
       "      <td>60.19$\\pm$1.87</td>\n",
       "      <td>-3.91$\\pm$0.59</td>\n",
       "      <td>0.41$\\pm$0.06</td>\n",
       "      <td>40.16$\\pm$17.73</td>\n",
       "      <td>-10.14$\\pm$3.53</td>\n",
       "    </tr>\n",
       "    <tr>\n",
       "      <th>6</th>\n",
       "      <td>$\\alpha$</td>\n",
       "      <td>53.38$\\pm$1.06</td>\n",
       "      <td>-3.14$\\pm$0.58</td>\n",
       "      <td>0.59$\\pm$0.03</td>\n",
       "      <td>27.51$\\pm$3.53</td>\n",
       "      <td>-5.60$\\pm$1.34</td>\n",
       "    </tr>\n",
       "    <tr>\n",
       "      <th>7</th>\n",
       "      <td>N</td>\n",
       "      <td>34.94$\\pm$2.84</td>\n",
       "      <td>-2.55$\\pm$0.35</td>\n",
       "      <td>0.75$\\pm$0.03</td>\n",
       "      <td>26.52$\\pm$2.10</td>\n",
       "      <td>-5.45$\\pm$0.24</td>\n",
       "    </tr>\n",
       "  </tbody>\n",
       "</table>\n",
       "</div>"
      ],
      "text/plain": [
       "       name          DisReal        z_average             Qw          Dis_h56  \\\n",
       "0        U2  271.92$\\pm$7.33  -18.89$\\pm$1.80  0.09$\\pm$0.00   73.53$\\pm$3.32   \n",
       "1        U1  226.45$\\pm$2.65  -12.60$\\pm$1.45  0.09$\\pm$0.01   73.45$\\pm$2.34   \n",
       "2        I2  145.80$\\pm$6.41   -9.66$\\pm$0.82  0.16$\\pm$0.01   67.45$\\pm$4.91   \n",
       "3        I1   83.98$\\pm$7.36   -6.58$\\pm$0.85  0.42$\\pm$0.02   61.94$\\pm$6.30   \n",
       "4  $\\gamma$   67.08$\\pm$1.55   -5.51$\\pm$0.37  0.46$\\pm$0.03   53.40$\\pm$5.05   \n",
       "5   $\\beta$   60.19$\\pm$1.87   -3.91$\\pm$0.59  0.41$\\pm$0.06  40.16$\\pm$17.73   \n",
       "6  $\\alpha$   53.38$\\pm$1.06   -3.14$\\pm$0.58  0.59$\\pm$0.03   27.51$\\pm$3.53   \n",
       "7         N   34.94$\\pm$2.84   -2.55$\\pm$0.35  0.75$\\pm$0.03   26.52$\\pm$2.10   \n",
       "\n",
       "     average_z_h56  \n",
       "0  -17.13$\\pm$1.18  \n",
       "1  -17.01$\\pm$0.66  \n",
       "2  -16.10$\\pm$1.33  \n",
       "3  -17.44$\\pm$2.68  \n",
       "4  -13.78$\\pm$1.07  \n",
       "5  -10.14$\\pm$3.53  \n",
       "6   -5.60$\\pm$1.34  \n",
       "7   -5.45$\\pm$0.24  "
      ]
     },
     "execution_count": 259,
     "metadata": {},
     "output_type": "execute_result"
    }
   ],
   "source": [
    "all_info[[\"name\", \"DisReal\", \"z_average\", \"Qw\", \"Dis_h56\", \"average_z_h56\"]]"
   ]
  },
  {
   "cell_type": "code",
   "execution_count": 254,
   "metadata": {},
   "outputs": [
    {
     "data": {
      "text/html": [
       "<div>\n",
       "<style>\n",
       "    .dataframe thead tr:only-child th {\n",
       "        text-align: right;\n",
       "    }\n",
       "\n",
       "    .dataframe thead th {\n",
       "        text-align: left;\n",
       "    }\n",
       "\n",
       "    .dataframe tbody tr th {\n",
       "        vertical-align: top;\n",
       "    }\n",
       "</style>\n",
       "<table border=\"1\" class=\"dataframe\">\n",
       "  <thead>\n",
       "    <tr style=\"text-align: right;\">\n",
       "      <th></th>\n",
       "      <th>name</th>\n",
       "      <th>AMH-Go</th>\n",
       "      <th>Membrane</th>\n",
       "      <th>Rg</th>\n",
       "      <th>Lipid</th>\n",
       "    </tr>\n",
       "  </thead>\n",
       "  <tbody>\n",
       "    <tr>\n",
       "      <th>0</th>\n",
       "      <td>U2</td>\n",
       "      <td>-369.97$\\pm$1.28</td>\n",
       "      <td>-26.65$\\pm$2.83</td>\n",
       "      <td>4.33$\\pm$2.49</td>\n",
       "      <td>0.00$\\pm$0.00</td>\n",
       "    </tr>\n",
       "    <tr>\n",
       "      <th>1</th>\n",
       "      <td>U1</td>\n",
       "      <td>-374.87$\\pm$2.37</td>\n",
       "      <td>-32.25$\\pm$1.41</td>\n",
       "      <td>3.60$\\pm$0.93</td>\n",
       "      <td>0.01$\\pm$0.00</td>\n",
       "    </tr>\n",
       "    <tr>\n",
       "      <th>2</th>\n",
       "      <td>I2</td>\n",
       "      <td>-397.57$\\pm$4.88</td>\n",
       "      <td>-35.24$\\pm$1.88</td>\n",
       "      <td>3.83$\\pm$1.07</td>\n",
       "      <td>-1.31$\\pm$0.35</td>\n",
       "    </tr>\n",
       "    <tr>\n",
       "      <th>3</th>\n",
       "      <td>I1</td>\n",
       "      <td>-437.50$\\pm$2.53</td>\n",
       "      <td>-35.38$\\pm$1.32</td>\n",
       "      <td>6.37$\\pm$1.33</td>\n",
       "      <td>-4.53$\\pm$0.71</td>\n",
       "    </tr>\n",
       "    <tr>\n",
       "      <th>4</th>\n",
       "      <td>$\\gamma$</td>\n",
       "      <td>-432.65$\\pm$6.00</td>\n",
       "      <td>-38.59$\\pm$2.29</td>\n",
       "      <td>7.15$\\pm$0.63</td>\n",
       "      <td>-6.17$\\pm$1.12</td>\n",
       "    </tr>\n",
       "    <tr>\n",
       "      <th>5</th>\n",
       "      <td>$\\beta$</td>\n",
       "      <td>-419.80$\\pm$16.07</td>\n",
       "      <td>-38.45$\\pm$2.84</td>\n",
       "      <td>6.98$\\pm$1.35</td>\n",
       "      <td>-7.04$\\pm$2.23</td>\n",
       "    </tr>\n",
       "    <tr>\n",
       "      <th>6</th>\n",
       "      <td>$\\alpha$</td>\n",
       "      <td>-456.54$\\pm$2.54</td>\n",
       "      <td>-36.62$\\pm$1.39</td>\n",
       "      <td>6.95$\\pm$0.51</td>\n",
       "      <td>-9.24$\\pm$0.67</td>\n",
       "    </tr>\n",
       "    <tr>\n",
       "      <th>7</th>\n",
       "      <td>N</td>\n",
       "      <td>-504.54$\\pm$2.73</td>\n",
       "      <td>-36.85$\\pm$0.56</td>\n",
       "      <td>7.40$\\pm$0.58</td>\n",
       "      <td>-12.11$\\pm$1.54</td>\n",
       "    </tr>\n",
       "  </tbody>\n",
       "</table>\n",
       "</div>"
      ],
      "text/plain": [
       "       name             AMH-Go         Membrane             Rg  \\\n",
       "0        U2   -369.97$\\pm$1.28  -26.65$\\pm$2.83  4.33$\\pm$2.49   \n",
       "1        U1   -374.87$\\pm$2.37  -32.25$\\pm$1.41  3.60$\\pm$0.93   \n",
       "2        I2   -397.57$\\pm$4.88  -35.24$\\pm$1.88  3.83$\\pm$1.07   \n",
       "3        I1   -437.50$\\pm$2.53  -35.38$\\pm$1.32  6.37$\\pm$1.33   \n",
       "4  $\\gamma$   -432.65$\\pm$6.00  -38.59$\\pm$2.29  7.15$\\pm$0.63   \n",
       "5   $\\beta$  -419.80$\\pm$16.07  -38.45$\\pm$2.84  6.98$\\pm$1.35   \n",
       "6  $\\alpha$   -456.54$\\pm$2.54  -36.62$\\pm$1.39  6.95$\\pm$0.51   \n",
       "7         N   -504.54$\\pm$2.73  -36.85$\\pm$0.56  7.40$\\pm$0.58   \n",
       "\n",
       "             Lipid  \n",
       "0    0.00$\\pm$0.00  \n",
       "1    0.01$\\pm$0.00  \n",
       "2   -1.31$\\pm$0.35  \n",
       "3   -4.53$\\pm$0.71  \n",
       "4   -6.17$\\pm$1.12  \n",
       "5   -7.04$\\pm$2.23  \n",
       "6   -9.24$\\pm$0.67  \n",
       "7  -12.11$\\pm$1.54  "
      ]
     },
     "execution_count": 254,
     "metadata": {},
     "output_type": "execute_result"
    }
   ],
   "source": [
    "all_info[[\"name\", \"AMH-Go\", \"Membrane\", \"Rg\", \"Lipid\"]]"
   ]
  },
  {
   "cell_type": "code",
   "execution_count": 255,
   "metadata": {},
   "outputs": [
    {
     "name": "stdout",
     "output_type": "stream",
     "text": [
      "\\begin{tabular}{llllll}\n",
      "\\toprule\n",
      "     name &          DisReal &        z_average &             Qw &          Dis_h56 &    average_z_h56 \\\\\n",
      "\\midrule\n",
      "       U2 &  271.92$\\pm$7.33 &  -18.89$\\pm$1.80 &  0.09$\\pm$0.00 &   73.53$\\pm$3.32 &  -17.13$\\pm$1.18 \\\\\n",
      "       U1 &  226.45$\\pm$2.65 &  -12.60$\\pm$1.45 &  0.09$\\pm$0.01 &   73.45$\\pm$2.34 &  -17.01$\\pm$0.66 \\\\\n",
      "       I2 &  145.80$\\pm$6.41 &   -9.66$\\pm$0.82 &  0.16$\\pm$0.01 &   67.45$\\pm$4.91 &  -16.10$\\pm$1.33 \\\\\n",
      "       I1 &   83.98$\\pm$7.36 &   -6.58$\\pm$0.85 &  0.42$\\pm$0.02 &   61.94$\\pm$6.30 &  -17.44$\\pm$2.68 \\\\\n",
      " $\\gamma$ &   67.08$\\pm$1.55 &   -5.51$\\pm$0.37 &  0.46$\\pm$0.03 &   53.40$\\pm$5.05 &  -13.78$\\pm$1.07 \\\\\n",
      "  $\\beta$ &   60.19$\\pm$1.87 &   -3.91$\\pm$0.59 &  0.41$\\pm$0.06 &  40.16$\\pm$17.73 &  -10.14$\\pm$3.53 \\\\\n",
      " $\\alpha$ &   53.38$\\pm$1.06 &   -3.14$\\pm$0.58 &  0.59$\\pm$0.03 &   27.51$\\pm$3.53 &   -5.60$\\pm$1.34 \\\\\n",
      "        N &   34.94$\\pm$2.84 &   -2.55$\\pm$0.35 &  0.75$\\pm$0.03 &   26.52$\\pm$2.10 &   -5.45$\\pm$0.24 \\\\\n",
      "\\bottomrule\n",
      "\\end{tabular}\n",
      "\n"
     ]
    }
   ],
   "source": [
    "print(all_info[[\"name\", \"DisReal\", \"z_average\", \"Qw\", \"Dis_h56\", \"average_z_h56\"]].to_latex(index=False, escape=False))"
   ]
  },
  {
   "cell_type": "code",
   "execution_count": 261,
   "metadata": {},
   "outputs": [
    {
     "name": "stdout",
     "output_type": "stream",
     "text": [
      "\\begin{tabular}{lllll}\n",
      "\\toprule\n",
      "     name &             AMH-Go &         Membrane &             Rg &            Lipid \\\\\n",
      "\\midrule\n",
      "       U2 &   -369.97$\\pm$1.28 &  -26.65$\\pm$2.83 &  4.33$\\pm$2.49 &    0.00$\\pm$0.00 \\\\\n",
      "       U1 &   -374.87$\\pm$2.37 &  -32.25$\\pm$1.41 &  3.60$\\pm$0.93 &    0.01$\\pm$0.00 \\\\\n",
      "       I2 &   -397.57$\\pm$4.88 &  -35.24$\\pm$1.88 &  3.83$\\pm$1.07 &   -1.31$\\pm$0.35 \\\\\n",
      "       I1 &   -437.50$\\pm$2.53 &  -35.38$\\pm$1.32 &  6.37$\\pm$1.33 &   -4.53$\\pm$0.71 \\\\\n",
      " $\\gamma$ &   -432.65$\\pm$6.00 &  -38.59$\\pm$2.29 &  7.15$\\pm$0.63 &   -6.17$\\pm$1.12 \\\\\n",
      "  $\\beta$ &  -419.80$\\pm$16.07 &  -38.45$\\pm$2.84 &  6.98$\\pm$1.35 &   -7.04$\\pm$2.23 \\\\\n",
      " $\\alpha$ &   -456.54$\\pm$2.54 &  -36.62$\\pm$1.39 &  6.95$\\pm$0.51 &   -9.24$\\pm$0.67 \\\\\n",
      "        N &   -504.54$\\pm$2.73 &  -36.85$\\pm$0.56 &  7.40$\\pm$0.58 &  -12.11$\\pm$1.54 \\\\\n",
      "\\bottomrule\n",
      "\\end{tabular}\n",
      "\n"
     ]
    }
   ],
   "source": [
    "print(all_info[[\"name\", \"AMH-Go\", \"Membrane\", \"Rg\", \"Lipid\"]].to_latex(index=False, escape=False))"
   ]
  },
  {
   "cell_type": "code",
   "execution_count": 209,
   "metadata": {
    "scrolled": true
   },
   "outputs": [
    {
     "name": "stdout",
     "output_type": "stream",
     "text": [
      "\\begin{tabular}{llllllllll}\n",
      "\\toprule\n",
      "            name &      DisReal &   z\\_average &         Qw &      Dis\\_h56 & average\\_z\\_h56 &        Lipid &         Rg &     Membrane &         AMH-Go \\\\\n",
      "\\midrule\n",
      "    complete out &  271.923±7.3 &  -1.259±0.1 &  0.087±0.0 &   73.532±3.3 &    -1.142±0.1 &    0.003±0.0 &  4.327±2.5 &  -26.646±2.8 &   -369.970±1.3 \\\\\n",
      "             h12 &  226.449±2.7 &  -0.840±0.1 &  0.092±0.0 &   73.454±2.3 &    -1.134±0.0 &    0.005±0.0 &  3.599±0.9 &  -32.248±1.4 &   -374.874±2.4 \\\\\n",
      "             h34 &  145.800±6.4 &  -0.644±0.1 &  0.163±0.0 &   67.454±4.9 &    -1.074±0.1 &   -1.306±0.3 &  3.827±1.1 &  -35.244±1.9 &   -397.567±4.9 \\\\\n",
      "             h56 &   83.985±7.4 &  -0.438±0.1 &  0.419±0.0 &   61.942±6.3 &    -1.163±0.2 &   -4.529±0.7 &  6.369±1.3 &  -35.380±1.3 &   -437.501±2.5 \\\\\n",
      " post\\_transition &   67.076±1.6 &  -0.367±0.0 &  0.460±0.0 &   53.396±5.0 &    -0.919±0.1 &   -6.174±1.1 &  7.150±0.6 &  -38.595±2.3 &   -432.651±6.0 \\\\\n",
      "      transition &   60.191±1.9 &  -0.261±0.0 &  0.409±0.1 &  40.160±17.7 &    -0.676±0.2 &   -7.038±2.2 &  6.978±1.3 &  -38.446±2.8 &  -419.796±16.1 \\\\\n",
      "  pre transition &   53.385±1.1 &  -0.209±0.0 &  0.594±0.0 &   27.514±3.5 &    -0.373±0.1 &   -9.243±0.7 &  6.954±0.5 &  -36.620±1.4 &   -456.538±2.5 \\\\\n",
      "          native &   34.944±2.8 &  -0.170±0.0 &  0.752±0.0 &   26.524±2.1 &    -0.363±0.0 &  -12.110±1.5 &  7.399±0.6 &  -36.848±0.6 &   -504.538±2.7 \\\\\n",
      "\\bottomrule\n",
      "\\end{tabular}\n",
      "\n"
     ]
    }
   ],
   "source": [
    "print(all_info.to_latex(index=False))"
   ]
  },
  {
   "cell_type": "code",
   "execution_count": 208,
   "metadata": {},
   "outputs": [
    {
     "name": "stdout",
     "output_type": "stream",
     "text": [
      "\\begin{tabular}{lllllllll}\n",
      "\\toprule\n",
      "name          &  complete out &           h12 &           h34 &           h56 &  post\\_transition &     transition &  pre transition &        native \\\\\n",
      "DisReal       &   271.923±7.3 &   226.449±2.7 &   145.800±6.4 &    83.985±7.4 &       67.076±1.6 &     60.191±1.9 &      53.385±1.1 &    34.944±2.8 \\\\\n",
      "z\\_average     &    -1.259±0.1 &    -0.840±0.1 &    -0.644±0.1 &    -0.438±0.1 &       -0.367±0.0 &     -0.261±0.0 &      -0.209±0.0 &    -0.170±0.0 \\\\\n",
      "Qw            &     0.087±0.0 &     0.092±0.0 &     0.163±0.0 &     0.419±0.0 &        0.460±0.0 &      0.409±0.1 &       0.594±0.0 &     0.752±0.0 \\\\\n",
      "Dis\\_h56       &    73.532±3.3 &    73.454±2.3 &    67.454±4.9 &    61.942±6.3 &       53.396±5.0 &    40.160±17.7 &      27.514±3.5 &    26.524±2.1 \\\\\n",
      "average\\_z\\_h56 &    -1.142±0.1 &    -1.134±0.0 &    -1.074±0.1 &    -1.163±0.2 &       -0.919±0.1 &     -0.676±0.2 &      -0.373±0.1 &    -0.363±0.0 \\\\\n",
      "Lipid         &     0.003±0.0 &     0.005±0.0 &    -1.306±0.3 &    -4.529±0.7 &       -6.174±1.1 &     -7.038±2.2 &      -9.243±0.7 &   -12.110±1.5 \\\\\n",
      "Rg            &     4.327±2.5 &     3.599±0.9 &     3.827±1.1 &     6.369±1.3 &        7.150±0.6 &      6.978±1.3 &       6.954±0.5 &     7.399±0.6 \\\\\n",
      "Membrane      &   -26.646±2.8 &   -32.248±1.4 &   -35.244±1.9 &   -35.380±1.3 &      -38.595±2.3 &    -38.446±2.8 &     -36.620±1.4 &   -36.848±0.6 \\\\\n",
      "AMH-Go        &  -369.970±1.3 &  -374.874±2.4 &  -397.567±4.9 &  -437.501±2.5 &     -432.651±6.0 &  -419.796±16.1 &    -456.538±2.5 &  -504.538±2.7 \\\\\n",
      "\\bottomrule\n",
      "\\end{tabular}\n",
      "\n"
     ]
    }
   ],
   "source": [
    "print(all_info.T.to_latex(header=False))"
   ]
  },
  {
   "cell_type": "code",
   "execution_count": 64,
   "metadata": {},
   "outputs": [],
   "source": [
    "\n",
    "target = target_dic[\"complete_out\"]\n",
    "chosen_list = []\n",
    "for j in range(5):\n",
    "    file1 = pre + f\"picked_structure_pdbs/{name}/structure_{j}.pdb\"\n",
    "    for i in range(20):\n",
    "        file2 = pre + f\"selected_structure_complete/{target}/structure_{i}.pdb\"\n",
    "        if filecmp.cmp(file1, file2):\n",
    "#                 print(i)\n",
    "            chosen_list.append(data.query(f\"index == {i}\"))\n",
    "            break\n",
    "chosen = pd.concat(chosen_list)\n",
    "print(chosen)\n",
    "# data[\"Energy\"] = data[\"Lipid\"] + data[\"Rg\"] + data[\"Membrane\"] + data[\"AMH-Go\"]\n",
    "chosen[\"z_h56\"] = chosen[\"z_h5\"] + chosen[\"z_h6\"]\n",
    "info = chosen[[\"DisReal\", \"z_average\", \"Qw\", \"Dis_h56\", \"z_h56\", \"Lipid\", \"Rg\", \"Membrane\", \"AMH-Go\"]]\n",
    "info = info.describe().loc[[\"mean\",\"std\"]].T\n",
    "out = info[\"mean\"].map('{:.4f}'.format) + \"±\" + info[\"std\"].map('{:.1f}'.format)\n",
    "\n"
   ]
  },
  {
   "cell_type": "code",
   "execution_count": 76,
   "metadata": {},
   "outputs": [],
   "source": [
    "info[\"mean_and_std\"] = info[\"mean\"].astype(str) + \"±\" + info[\"std\"].round(2).astype(str)"
   ]
  },
  {
   "cell_type": "code",
   "execution_count": 77,
   "metadata": {},
   "outputs": [
    {
     "data": {
      "text/html": [
       "<div>\n",
       "<style>\n",
       "    .dataframe thead tr:only-child th {\n",
       "        text-align: right;\n",
       "    }\n",
       "\n",
       "    .dataframe thead th {\n",
       "        text-align: left;\n",
       "    }\n",
       "\n",
       "    .dataframe tbody tr th {\n",
       "        vertical-align: top;\n",
       "    }\n",
       "</style>\n",
       "<table border=\"1\" class=\"dataframe\">\n",
       "  <thead>\n",
       "    <tr style=\"text-align: right;\">\n",
       "      <th></th>\n",
       "      <th>mean</th>\n",
       "      <th>std</th>\n",
       "      <th>mean_and_std</th>\n",
       "    </tr>\n",
       "  </thead>\n",
       "  <tbody>\n",
       "    <tr>\n",
       "      <th>DisReal</th>\n",
       "      <td>271.923053</td>\n",
       "      <td>7.331435</td>\n",
       "      <td>271.923052679±7.33</td>\n",
       "    </tr>\n",
       "    <tr>\n",
       "      <th>z_average</th>\n",
       "      <td>-18.891734</td>\n",
       "      <td>1.803124</td>\n",
       "      <td>-18.8917337445±1.8</td>\n",
       "    </tr>\n",
       "    <tr>\n",
       "      <th>Qw</th>\n",
       "      <td>0.087463</td>\n",
       "      <td>0.002548</td>\n",
       "      <td>0.0874632048331±0.0</td>\n",
       "    </tr>\n",
       "    <tr>\n",
       "      <th>Dis_h56</th>\n",
       "      <td>73.531906</td>\n",
       "      <td>3.320595</td>\n",
       "      <td>73.5319055641±3.32</td>\n",
       "    </tr>\n",
       "    <tr>\n",
       "      <th>z_h56</th>\n",
       "      <td>-34.259260</td>\n",
       "      <td>2.360749</td>\n",
       "      <td>-34.259260334±2.36</td>\n",
       "    </tr>\n",
       "    <tr>\n",
       "      <th>Lipid</th>\n",
       "      <td>0.002629</td>\n",
       "      <td>0.002888</td>\n",
       "      <td>0.00262884889888±0.0</td>\n",
       "    </tr>\n",
       "    <tr>\n",
       "      <th>Rg</th>\n",
       "      <td>4.326651</td>\n",
       "      <td>2.494501</td>\n",
       "      <td>4.3266511143±2.49</td>\n",
       "    </tr>\n",
       "    <tr>\n",
       "      <th>Membrane</th>\n",
       "      <td>-26.646285</td>\n",
       "      <td>2.831294</td>\n",
       "      <td>-26.6462852962±2.83</td>\n",
       "    </tr>\n",
       "    <tr>\n",
       "      <th>AMH-Go</th>\n",
       "      <td>-369.970422</td>\n",
       "      <td>1.278426</td>\n",
       "      <td>-369.970421797±1.28</td>\n",
       "    </tr>\n",
       "  </tbody>\n",
       "</table>\n",
       "</div>"
      ],
      "text/plain": [
       "                 mean       std          mean_and_std\n",
       "DisReal    271.923053  7.331435    271.923052679±7.33\n",
       "z_average  -18.891734  1.803124    -18.8917337445±1.8\n",
       "Qw           0.087463  0.002548   0.0874632048331±0.0\n",
       "Dis_h56     73.531906  3.320595    73.5319055641±3.32\n",
       "z_h56      -34.259260  2.360749    -34.259260334±2.36\n",
       "Lipid        0.002629  0.002888  0.00262884889888±0.0\n",
       "Rg           4.326651  2.494501     4.3266511143±2.49\n",
       "Membrane   -26.646285  2.831294   -26.6462852962±2.83\n",
       "AMH-Go    -369.970422  1.278426   -369.970421797±1.28"
      ]
     },
     "execution_count": 77,
     "metadata": {},
     "output_type": "execute_result"
    }
   ],
   "source": [
    "info"
   ]
  },
  {
   "cell_type": "code",
   "execution_count": 12,
   "metadata": {},
   "outputs": [
    {
     "name": "stdout",
     "output_type": "stream",
     "text": [
      "True\n",
      "False\n",
      "False\n",
      "False\n",
      "False\n"
     ]
    }
   ],
   "source": [
    "for i in range(5):\n",
    "    file1 = pre + f\"picked_structure_pdbs/complete_out/structure_{i}.pdb\"\n",
    "#     file2 = pre + f\"selected_structure_complete/low_e_jun01_out/structure_{i}.pdb\"\n",
    "    print(filecmp.cmp(file1, file2))"
   ]
  },
  {
   "cell_type": "code",
   "execution_count": null,
   "metadata": {
    "collapsed": true
   },
   "outputs": [],
   "source": []
  }
 ],
 "metadata": {
  "kernelspec": {
   "display_name": "Python 3",
   "language": "python",
   "name": "python3"
  },
  "language_info": {
   "codemirror_mode": {
    "name": "ipython",
    "version": 3
   },
   "file_extension": ".py",
   "mimetype": "text/x-python",
   "name": "python",
   "nbconvert_exporter": "python",
   "pygments_lexer": "ipython3",
   "version": "3.6.3"
  }
 },
 "nbformat": 4,
 "nbformat_minor": 2
}
