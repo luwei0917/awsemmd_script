{
 "cells": [
  {
   "cell_type": "code",
   "execution_count": 3,
   "metadata": {},
   "outputs": [
    {
     "name": "stdout",
     "output_type": "stream",
     "text": [
      "The autoreload extension is already loaded. To reload it, use:\n",
      "  %reload_ext autoreload\n"
     ]
    }
   ],
   "source": [
    "from Bio.PDB import *\n",
    "import os\n",
    "import sys\n",
    "import random\n",
    "import time\n",
    "from random import seed, randint\n",
    "import argparse\n",
    "import platform\n",
    "from datetime import datetime\n",
    "import imp\n",
    "import numpy as np\n",
    "import fileinput\n",
    "from itertools import product\n",
    "import pandas as pd\n",
    "from scipy.interpolate import griddata\n",
    "from scipy.interpolate import interp2d\n",
    "import seaborn as sns\n",
    "from os import listdir\n",
    "import scipy\n",
    "import matplotlib.pyplot as plt\n",
    "import seaborn as sns\n",
    "from scipy.interpolate import griddata\n",
    "import matplotlib as mpl\n",
    "# from .. import notebookFunctions\n",
    "\n",
    "%matplotlib inline\n",
    "plt.rcParams['figure.figsize'] = (10,6.180)    #golden ratio\n",
    "# %matplotlib notebook\n",
    "%load_ext autoreload\n",
    "%autoreload 2"
   ]
  },
  {
   "cell_type": "markdown",
   "metadata": {},
   "source": [
    "# average of 20 proteins"
   ]
  },
  {
   "cell_type": "code",
   "execution_count": 4,
   "metadata": {
    "collapsed": true
   },
   "outputs": [],
   "source": [
    "data = np.zeros((181,181))\n",
    "for i in range(20):\n",
    "    parser = PDBParser()\n",
    "    target = f\"low_e_jun01_h56/structure_{i}.pdb\"\n",
    "    structure = parser.get_structure('target', target)\n",
    "    # Assume only one chain\n",
    "    model = structure[0]\n",
    "    # chain = model['A']\n",
    "    chain = model.child_list[0]\n",
    "    # with open(\"contact.csv\", \"w\") as out:\n",
    "    #     out.write(\"i, j, Distance\\n\")\n",
    "    for i_residue in chain:\n",
    "#         print(i)\n",
    "        is_regular_res = i_residue.has_id('CA')\n",
    "        # print(i_residue, is_regular_res)\n",
    "        if i_residue.get_resname() == \"GLY\":\n",
    "            res_i = i_residue['CA']\n",
    "        else:\n",
    "            res_i = i_residue['CB']\n",
    "        for j_residue in chain:\n",
    "            if j_residue.get_resname() == \"GLY\":\n",
    "                res_j = j_residue['CA']\n",
    "            else:\n",
    "                res_j = j_residue['CB']\n",
    "            distance = (res_i.get_coord()[0] - res_j.get_coord()[0])**2\n",
    "            distance += (res_i.get_coord()[1] - res_j.get_coord()[1])**2\n",
    "            distance += (res_i.get_coord()[2] - res_j.get_coord()[2])**2\n",
    "            distance = distance**0.5\n",
    "    #         print(res_i.get_coord()[0], res_j.get_coord()[0], res_i.get_coord()[0] - res_j.get_coord()[0])\n",
    "            i = i_residue.id[1]\n",
    "            j = j_residue.id[1]\n",
    "            data[i-1,j-1] += distance\n",
    "            out_line = str(i) + \", \" + str(j) + \", \" + str(distance) + \"\\n\"\n",
    "    #         out.write(out_line)\n",
    "    #         print(out_line)\n",
    "data /= 20"
   ]
  },
  {
   "cell_type": "code",
   "execution_count": 5,
   "metadata": {},
   "outputs": [
    {
     "data": {
      "text/plain": [
       "<matplotlib.image.AxesImage at 0x112917588>"
      ]
     },
     "execution_count": 5,
     "metadata": {},
     "output_type": "execute_result"
    },
    {
     "data": {
      "image/png": "[encoded data removed]",
      "text/plain": [
       "<matplotlib.figure.Figure at 0x1128fe860>"
      ]
     },
     "metadata": {},
     "output_type": "display_data"
    }
   ],
   "source": [
    "plt.imshow(data < 7)"
   ]
  },
  {
   "cell_type": "code",
   "execution_count": 49,
   "metadata": {
    "collapsed": true
   },
   "outputs": [],
   "source": [
    "# one protein\n",
    "data = np.zeros((181,181))\n",
    "parser = PDBParser()\n",
    "target = \"/Users/weilu/Research/data/03_week/low_e_jun01_h56/structure_0.pdb\"\n",
    "structure = parser.get_structure('target', target)\n",
    "# Assume only one chain\n",
    "model = structure[0]\n",
    "# chain = model['A']\n",
    "chain = model.child_list[0]\n",
    "# with open(\"contact.csv\", \"w\") as out:\n",
    "#     out.write(\"i, j, Distance\\n\")\n",
    "for i_residue in chain:\n",
    "    is_regular_res = i_residue.has_id('CA')\n",
    "    # print(i_residue, is_regular_res)\n",
    "    if i_residue.get_resname() == \"GLY\":\n",
    "        res_i = i_residue['CA']\n",
    "    else:\n",
    "        res_i = i_residue['CB']\n",
    "    for j_residue in chain:\n",
    "        if j_residue.get_resname() == \"GLY\":\n",
    "            res_j = j_residue['CA']\n",
    "        else:\n",
    "            res_j = j_residue['CB']\n",
    "        distance = (res_i.get_coord()[0] - res_j.get_coord()[0])**2\n",
    "        distance += (res_i.get_coord()[1] - res_j.get_coord()[1])**2\n",
    "        distance += (res_i.get_coord()[2] - res_j.get_coord()[2])**2\n",
    "        distance = distance**0.5\n",
    "#         print(res_i.get_coord()[0], res_j.get_coord()[0], res_i.get_coord()[0] - res_j.get_coord()[0])\n",
    "        i = i_residue.id[1]\n",
    "        j = j_residue.id[1]\n",
    "        data[i-1,j-1] = distance\n",
    "        out_line = str(i) + \", \" + str(j) + \", \" + str(distance) + \"\\n\"\n",
    "#         out.write(out_line)\n",
    "#         print(out_line)"
   ]
  },
  {
   "cell_type": "code",
   "execution_count": 50,
   "metadata": {},
   "outputs": [
    {
     "data": {
      "text/plain": [
       "<matplotlib.image.AxesImage at 0x11eff9da0>"
      ]
     },
     "execution_count": 50,
     "metadata": {},
     "output_type": "execute_result"
    },
    {
     "data": {
      "image/png": "[encoded data removed]",
      "text/plain": [
       "<matplotlib.figure.Figure at 0x11e5edb70>"
      ]
     },
     "metadata": {},
     "output_type": "display_data"
    }
   ],
   "source": [
    "plt.imshow(data < 7)"
   ]
  },
  {
   "cell_type": "code",
   "execution_count": null,
   "metadata": {
    "collapsed": true
   },
   "outputs": [],
   "source": []
  }
 ],
 "metadata": {
  "kernelspec": {
   "display_name": "Python 3",
   "language": "python",
   "name": "python3"
  },
  "language_info": {
   "codemirror_mode": {
    "name": "ipython",
    "version": 3
   },
   "file_extension": ".py",
   "mimetype": "text/x-python",
   "name": "python",
   "nbconvert_exporter": "python",
   "pygments_lexer": "ipython3",
   "version": "3.6.3"
  }
 },
 "nbformat": 4,
 "nbformat_minor": 2
}
