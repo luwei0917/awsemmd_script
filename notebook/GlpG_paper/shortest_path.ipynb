{
 "cells": [
  {
   "cell_type": "code",
   "execution_count": 3,
   "metadata": {
    "collapsed": true
   },
   "outputs": [],
   "source": [
    "import matplotlib as mpl\n",
    "import matplotlib.pyplot as plt\n",
    "from scipy.interpolate import griddata\n",
    "from scipy.interpolate import interp2d\n",
    "import sys\n",
    "import argparse\n",
    "import os\n",
    "import numpy as np\n",
    "from numpy.random import uniform\n",
    "import pandas as pd\n",
    "from itertools import product\n",
    "import datetime\n",
    "import glob\n",
    "import re\n",
    "from numpy import ma\n",
    "%matplotlib inline\n",
    "# %matplotlib notebook\n",
    "plt.rcParams['axes.labelsize'] = 14\n",
    "plt.rcParams['xtick.labelsize'] = 12\n",
    "plt.rcParams['ytick.labelsize'] = 12\n",
    "# plt.rcParams['figure.figsize'] = (10,5) \n",
    "# plt.rcParams['figure.figsize'] = (10,5.625)   # 16:9\n",
    "plt.rcParams['figure.figsize'] = (10,6.180)    #golden ratio\n",
    "# plt.rcParams['figure.figsize'] = (10*2,6.180*2)    #golden ratio"
   ]
  },
  {
   "cell_type": "code",
   "execution_count": 4,
   "metadata": {
    "collapsed": true
   },
   "outputs": [],
   "source": [
    "# https://bougui505.github.io/2016/08/31/compute_the_shortest_path_on_a_grid_using_python.html\n",
    "def dijkstra(V):\n",
    "    mask = V.mask\n",
    "    visit_mask = mask.copy() # mask visited cells\n",
    "    m = np.ones_like(V) * np.inf\n",
    "    connectivity = [(i,j) for i in [-1, 0, 1] for j in [-1, 0, 1] if (not (i == j == 0))]\n",
    "    cc = np.unravel_index(V.argmin(), m.shape) # current_cell\n",
    "    m[cc] = 0\n",
    "    P = {}  # dictionary of predecessors \n",
    "    #while (~visit_mask).sum() > 0:\n",
    "    for _ in range(V.size):\n",
    "        #print cc\n",
    "        neighbors = [tuple(e) for e in np.asarray(cc) - connectivity \n",
    "                     if e[0] > 0 and e[1] > 0 and e[0] < V.shape[0] and e[1] < V.shape[1]]\n",
    "        neighbors = [ e for e in neighbors if not visit_mask[e] ]\n",
    "        tentative_distance = np.asarray([V[e]-V[cc] for e in neighbors])\n",
    "        for i,e in enumerate(neighbors):\n",
    "            d = tentative_distance[i] + m[cc]\n",
    "            if d < m[e]:\n",
    "                m[e] = d\n",
    "                P[e] = cc\n",
    "        visit_mask[cc] = True\n",
    "        m_mask = ma.masked_array(m, visit_mask)\n",
    "        cc = np.unravel_index(m_mask.argmin(), m.shape)\n",
    "    return m, P"
   ]
  },
  {
   "cell_type": "code",
   "execution_count": 5,
   "metadata": {
    "collapsed": true
   },
   "outputs": [],
   "source": [
    "def shortestPath(start, end, P):\n",
    "    Path = []\n",
    "    step = end\n",
    "    while 1:\n",
    "        Path.append(step)\n",
    "        if step == start: break\n",
    "        step = P[step]\n",
    "    Path.reverse()\n",
    "    return np.asarray(Path)"
   ]
  },
  {
   "cell_type": "code",
   "execution_count": 6,
   "metadata": {
    "collapsed": true
   },
   "outputs": [],
   "source": [
    "all_data = pd.read_feather(\"/Users/weilu/Research/data/pulling/19_Feb_data_1.feather\")"
   ]
  },
  {
   "cell_type": "code",
   "execution_count": 7,
   "metadata": {
    "collapsed": true
   },
   "outputs": [],
   "source": [
    "test = all_data.query(\"temp=='400'\").query(\"perturbation=='original'\").query(\"mode=='2d_z_qw'\")"
   ]
  },
  {
   "cell_type": "code",
   "execution_count": 8,
   "metadata": {
    "collapsed": true
   },
   "outputs": [],
   "source": [
    "x=1\n",
    "y=2\n",
    "z=3\n",
    "zmin = 0\n",
    "zmax=20\n",
    "data = test[[\"index\", \"x\",\"y\",\"f\"]].values\n",
    "#         print(data)\n",
    "data = data[~np.isnan(data).any(axis=1)] # remove rows with nan\n",
    "data = data[~(data[:,z] > zmax)] # remove rows of data for z not in [zmin zmax]\n",
    "data = data[~(data[:,z] < zmin)]\n",
    "size = 20\n",
    "xi = np.linspace(min(data[:,x]), max(data[:,x]), size)\n",
    "yi = np.linspace(min(data[:,y]), max(data[:,y]), size)\n",
    "zi = griddata((data[:,x], data[:,y]), data[:,z], (xi[None,:], yi[:,None]), method='linear')"
   ]
  },
  {
   "cell_type": "code",
   "execution_count": 13,
   "metadata": {},
   "outputs": [
    {
     "data": {
      "text/plain": [
       "{(1, 2): (2, 3),\n",
       " (1, 3): (2, 4),\n",
       " (1, 4): (2, 4),\n",
       " (1, 5): (2, 4),\n",
       " (1, 6): (2, 5),\n",
       " (1, 7): (2, 8),\n",
       " (1, 8): (2, 8),\n",
       " (2, 1): (2, 2),\n",
       " (2, 2): (2, 3),\n",
       " (2, 3): (3, 4),\n",
       " (2, 4): (3, 4),\n",
       " (2, 5): (3, 4),\n",
       " (2, 6): (3, 5),\n",
       " (2, 7): (3, 6),\n",
       " (2, 8): (3, 7),\n",
       " (2, 9): (2, 8),\n",
       " (2, 10): (3, 9),\n",
       " (2, 11): (3, 10),\n",
       " (2, 12): (3, 11),\n",
       " (2, 13): (2, 12),\n",
       " (3, 1): (2, 2),\n",
       " (3, 2): (2, 3),\n",
       " (3, 3): (4, 4),\n",
       " (3, 4): (4, 4),\n",
       " (3, 5): (4, 4),\n",
       " (3, 6): (3, 5),\n",
       " (3, 7): (3, 6),\n",
       " (3, 8): (3, 7),\n",
       " (3, 9): (2, 8),\n",
       " (3, 10): (3, 9),\n",
       " (3, 11): (4, 10),\n",
       " (3, 12): (4, 13),\n",
       " (3, 13): (4, 14),\n",
       " (3, 14): (4, 15),\n",
       " (3, 15): (4, 15),\n",
       " (3, 16): (4, 15),\n",
       " (3, 17): (4, 16),\n",
       " (4, 2): (3, 3),\n",
       " (4, 3): (4, 4),\n",
       " (4, 4): (5, 5),\n",
       " (4, 5): (5, 5),\n",
       " (4, 6): (5, 5),\n",
       " (4, 7): (3, 6),\n",
       " (4, 8): (3, 7),\n",
       " (4, 9): (3, 9),\n",
       " (4, 10): (3, 9),\n",
       " (4, 11): (5, 12),\n",
       " (4, 12): (5, 13),\n",
       " (4, 13): (5, 14),\n",
       " (4, 14): (5, 13),\n",
       " (4, 15): (5, 16),\n",
       " (4, 16): (5, 15),\n",
       " (4, 17): (5, 16),\n",
       " (4, 18): (5, 17),\n",
       " (4, 19): (5, 18),\n",
       " (5, 2): (4, 3),\n",
       " (5, 3): (4, 4),\n",
       " (5, 4): (6, 5),\n",
       " (5, 5): (6, 5),\n",
       " (5, 6): (6, 5),\n",
       " (5, 7): (6, 6),\n",
       " (5, 8): (5, 9),\n",
       " (5, 9): (4, 10),\n",
       " (5, 10): (6, 11),\n",
       " (5, 11): (6, 12),\n",
       " (5, 12): (6, 13),\n",
       " (5, 13): (6, 14),\n",
       " (5, 14): (6, 14),\n",
       " (5, 15): (6, 14),\n",
       " (5, 16): (6, 15),\n",
       " (5, 17): (5, 16),\n",
       " (5, 18): (6, 17),\n",
       " (5, 19): (5, 18),\n",
       " (6, 3): (5, 4),\n",
       " (6, 4): (6, 5),\n",
       " (6, 5): (7, 6),\n",
       " (6, 6): (7, 6),\n",
       " (6, 7): (7, 6),\n",
       " (6, 8): (5, 9),\n",
       " (6, 9): (5, 10),\n",
       " (6, 10): (6, 11),\n",
       " (6, 11): (7, 12),\n",
       " (6, 12): (7, 13),\n",
       " (6, 13): (7, 14),\n",
       " (6, 14): (7, 14),\n",
       " (6, 15): (7, 14),\n",
       " (6, 16): (7, 15),\n",
       " (6, 17): (7, 16),\n",
       " (6, 18): (7, 17),\n",
       " (6, 19): (7, 18),\n",
       " (7, 4): (6, 5),\n",
       " (7, 5): (8, 6),\n",
       " (7, 6): (8, 6),\n",
       " (7, 7): (8, 6),\n",
       " (7, 8): (8, 7),\n",
       " (7, 9): (8, 10),\n",
       " (7, 10): (8, 11),\n",
       " (7, 11): (8, 12),\n",
       " (7, 12): (8, 13),\n",
       " (7, 13): (8, 13),\n",
       " (7, 14): (8, 13),\n",
       " (7, 15): (7, 14),\n",
       " (7, 16): (7, 15),\n",
       " (7, 17): (7, 16),\n",
       " (7, 18): (7, 17),\n",
       " (7, 19): (7, 18),\n",
       " (8, 4): (7, 5),\n",
       " (8, 5): (9, 6),\n",
       " (8, 6): (9, 6),\n",
       " (8, 7): (9, 6),\n",
       " (8, 8): (8, 7),\n",
       " (8, 9): (9, 10),\n",
       " (8, 10): (8, 11),\n",
       " (8, 11): (8, 12),\n",
       " (8, 12): (8, 13),\n",
       " (8, 13): (9, 14),\n",
       " (8, 14): (9, 14),\n",
       " (8, 15): (9, 14),\n",
       " (8, 16): (7, 15),\n",
       " (8, 17): (7, 16),\n",
       " (8, 18): (7, 17),\n",
       " (8, 19): (7, 18),\n",
       " (9, 5): (9, 6),\n",
       " (9, 6): (10, 7),\n",
       " (9, 7): (10, 7),\n",
       " (9, 8): (10, 7),\n",
       " (9, 9): (10, 10),\n",
       " (9, 10): (8, 11),\n",
       " (9, 11): (10, 12),\n",
       " (9, 12): (10, 13),\n",
       " (9, 13): (10, 13),\n",
       " (9, 14): (10, 13),\n",
       " (9, 15): (9, 14),\n",
       " (9, 16): (9, 15),\n",
       " (9, 17): (8, 16),\n",
       " (9, 18): (8, 17),\n",
       " (9, 19): (9, 18),\n",
       " (10, 6): (11, 7),\n",
       " (10, 7): (11, 7),\n",
       " (10, 8): (11, 7),\n",
       " (10, 9): (11, 10),\n",
       " (10, 10): (11, 11),\n",
       " (10, 11): (11, 12),\n",
       " (10, 12): (11, 13),\n",
       " (10, 13): (11, 13),\n",
       " (10, 14): (11, 13),\n",
       " (10, 15): (11, 14),\n",
       " (10, 16): (11, 15),\n",
       " (10, 17): (11, 17),\n",
       " (10, 18): (11, 17),\n",
       " (10, 19): (11, 18),\n",
       " (11, 6): (11, 7),\n",
       " (11, 7): (12, 8),\n",
       " (11, 8): (12, 8),\n",
       " (11, 9): (12, 10),\n",
       " (11, 10): (12, 10),\n",
       " (11, 11): (12, 12),\n",
       " (11, 12): (12, 13),\n",
       " (11, 13): (12, 13),\n",
       " (11, 14): (12, 13),\n",
       " (11, 15): (12, 14),\n",
       " (11, 16): (12, 15),\n",
       " (11, 17): (12, 16),\n",
       " (11, 18): (12, 17),\n",
       " (11, 19): (12, 18),\n",
       " (12, 7): (12, 8),\n",
       " (12, 8): (13, 9),\n",
       " (12, 9): (13, 10),\n",
       " (12, 10): (13, 11),\n",
       " (12, 11): (13, 12),\n",
       " (12, 12): (13, 13),\n",
       " (12, 13): (13, 13),\n",
       " (12, 14): (13, 13),\n",
       " (12, 15): (13, 14),\n",
       " (12, 16): (13, 15),\n",
       " (12, 17): (13, 16),\n",
       " (12, 18): (13, 17),\n",
       " (12, 19): (13, 18),\n",
       " (13, 8): (14, 9),\n",
       " (13, 9): (14, 10),\n",
       " (13, 10): (14, 11),\n",
       " (13, 11): (14, 12),\n",
       " (13, 12): (14, 13),\n",
       " (13, 13): (14, 13),\n",
       " (13, 14): (14, 13),\n",
       " (13, 15): (14, 14),\n",
       " (13, 16): (14, 15),\n",
       " (13, 17): (14, 16),\n",
       " (13, 18): (13, 17),\n",
       " (13, 19): (14, 18),\n",
       " (14, 8): (14, 9),\n",
       " (14, 9): (15, 10),\n",
       " (14, 10): (15, 11),\n",
       " (14, 11): (15, 12),\n",
       " (14, 12): (15, 13),\n",
       " (14, 13): (15, 13),\n",
       " (14, 14): (15, 13),\n",
       " (14, 15): (15, 14),\n",
       " (14, 16): (15, 15),\n",
       " (14, 17): (15, 16),\n",
       " (14, 18): (15, 17),\n",
       " (14, 19): (15, 18),\n",
       " (15, 9): (15, 10),\n",
       " (15, 10): (15, 11),\n",
       " (15, 11): (15, 12),\n",
       " (15, 12): (15, 13),\n",
       " (15, 14): (15, 13),\n",
       " (15, 15): (15, 14),\n",
       " (15, 16): (15, 15),\n",
       " (15, 17): (15, 16),\n",
       " (15, 18): (15, 17),\n",
       " (15, 19): (14, 18),\n",
       " (16, 10): (15, 11),\n",
       " (16, 11): (15, 12),\n",
       " (16, 12): (15, 13),\n",
       " (16, 13): (15, 13),\n",
       " (16, 14): (15, 13),\n",
       " (16, 15): (15, 14),\n",
       " (16, 16): (15, 15),\n",
       " (16, 17): (15, 16),\n",
       " (16, 18): (15, 17),\n",
       " (16, 19): (16, 18),\n",
       " (17, 10): (16, 11),\n",
       " (17, 11): (18, 12),\n",
       " (17, 12): (16, 13),\n",
       " (17, 13): (16, 13),\n",
       " (17, 14): (16, 13),\n",
       " (17, 15): (16, 14),\n",
       " (17, 16): (18, 15),\n",
       " (17, 17): (17, 16),\n",
       " (18, 11): (17, 12),\n",
       " (18, 12): (17, 13),\n",
       " (18, 13): (17, 13),\n",
       " (18, 14): (17, 13),\n",
       " (18, 15): (17, 14),\n",
       " (18, 16): (17, 15),\n",
       " (19, 13): (18, 13),\n",
       " (19, 14): (18, 13)}"
      ]
     },
     "execution_count": 13,
     "metadata": {},
     "output_type": "execute_result"
    }
   ],
   "source": [
    "P"
   ]
  },
  {
   "cell_type": "code",
   "execution_count": 10,
   "metadata": {},
   "outputs": [
    {
     "data": {
      "text/plain": [
       "[<matplotlib.lines.Line2D at 0x10c8a8518>]"
      ]
     },
     "execution_count": 10,
     "metadata": {},
     "output_type": "execute_result"
    },
    {
     "data": {
      "image/png": "[encoded data removed]",
      "text/plain": [
       "<matplotlib.figure.Figure at 0x10c8a8358>"
      ]
     },
     "metadata": {},
     "output_type": "display_data"
    }
   ],
   "source": [
    "zi = np.where(np.isnan(zi), 50, zi)\n",
    "V = ma.masked_array(zi, zi>40)\n",
    "D, P = dijkstra(V)\n",
    "source = np.unravel_index(V.argmin(), V.shape)\n",
    "# source = (17,35)\n",
    "path = shortestPath(source, (1,2), P)\n",
    "plt.contourf(xi, yi, V, 30, cmap='jet')\n",
    "# plt.plot(path[:,1], path[:,0], 'r.-')\n",
    "plt.plot(xi[path[:,1]], yi[path[:,0]], 'r.-')"
   ]
  },
  {
   "cell_type": "code",
   "execution_count": 12,
   "metadata": {},
   "outputs": [
    {
     "data": {
      "text/plain": [
       "[<matplotlib.lines.Line2D at 0x181885fe10>]"
      ]
     },
     "execution_count": 12,
     "metadata": {},
     "output_type": "execute_result"
    },
    {
     "data": {
      "image/png": "[encoded data removed]",
      "text/plain": [
       "<matplotlib.figure.Figure at 0x1828d8e278>"
      ]
     },
     "metadata": {},
     "output_type": "display_data"
    }
   ],
   "source": [
    "f_on_path = [zi[tuple(p)] for p in path]\n",
    "plt.plot(f_on_path)"
   ]
  },
  {
   "cell_type": "code",
   "execution_count": null,
   "metadata": {
    "collapsed": true
   },
   "outputs": [],
   "source": []
  }
 ],
 "metadata": {
  "kernelspec": {
   "display_name": "Python 3",
   "language": "python",
   "name": "python3"
  },
  "language_info": {
   "codemirror_mode": {
    "name": "ipython",
    "version": 3
   },
   "file_extension": ".py",
   "mimetype": "text/x-python",
   "name": "python",
   "nbconvert_exporter": "python",
   "pygments_lexer": "ipython3",
   "version": "3.6.3"
  }
 },
 "nbformat": 4,
 "nbformat_minor": 2
}
