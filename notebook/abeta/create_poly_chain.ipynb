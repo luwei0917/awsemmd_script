{
 "cells": [
  {
   "cell_type": "code",
   "execution_count": 45,
   "metadata": {
    "collapsed": true
   },
   "outputs": [],
   "source": [
    "from Bio.PDB import PDBParser\n",
    "from Bio.PDB import PDBIO\n",
    "parser = PDBParser()"
   ]
  },
  {
   "cell_type": "code",
   "execution_count": 64,
   "metadata": {
    "collapsed": true
   },
   "outputs": [],
   "source": [
    "location = \"/Users/weilu/Research/server/jul_2018/two_abeta42/crystal_structure.pdb\"\n",
    "to = \"/Users/weilu/Research/server/jul_2018/two_abeta42/t.pdb\""
   ]
  },
  {
   "cell_type": "code",
   "execution_count": 70,
   "metadata": {},
   "outputs": [],
   "source": [
    "with open(to, \"w\") as out:\n",
    "    with open(location, \"r\") as f:\n",
    "        for line in f:\n",
    "            tmp = list(line)\n",
    "            atom = line[0:4]\n",
    "            atomSerialNumber = line[6:11]\n",
    "            atomName = line[12:16]\n",
    "            atomResidueName = line[17:20]\n",
    "            chain = line[21]\n",
    "            residueNumber = line[22:26]\n",
    "            # change chain A to B\n",
    "            new_chain = \"B\"\n",
    "            tmp[21] = new_chain\n",
    "            if atom == \"ATOM\":\n",
    "                x = float(line[30:38])\n",
    "                y = float(line[38:46])\n",
    "                z = float(line[46:54])\n",
    "\n",
    "                # add 40 to the x\n",
    "                new_x = x + 40.0\n",
    "                new_y = y + 0.0\n",
    "                \n",
    "                \n",
    "                tmp[30:38] = \"{:8.3f}\".format(new_x)\n",
    "                tmp[38:46] = \"{:8.3f}\".format(new_y)\n",
    "                \n",
    "            a = \"\".join(tmp)\n",
    "            out.write(a)"
   ]
  },
  {
   "cell_type": "code",
   "execution_count": 6,
   "metadata": {},
   "outputs": [],
   "source": [
    "structure = parser.get_structure('abeta42', location)"
   ]
  },
  {
   "cell_type": "code",
   "execution_count": 12,
   "metadata": {
    "collapsed": true
   },
   "outputs": [],
   "source": [
    "model = structure[0]"
   ]
  },
  {
   "cell_type": "code",
   "execution_count": 46,
   "metadata": {},
   "outputs": [],
   "source": [
    "io = PDBIO()"
   ]
  },
  {
   "cell_type": "code",
   "execution_count": 48,
   "metadata": {},
   "outputs": [
    {
     "data": {
      "text/plain": [
       "{'A': <Chain id=A>}"
      ]
     },
     "execution_count": 48,
     "metadata": {},
     "output_type": "execute_result"
    }
   ],
   "source": [
    "model[\"B\"]"
   ]
  },
  {
   "cell_type": "code",
   "execution_count": null,
   "metadata": {
    "collapsed": true
   },
   "outputs": [],
   "source": [
    "io.set_structure(s)"
   ]
  },
  {
   "cell_type": "code",
   "execution_count": 30,
   "metadata": {},
   "outputs": [
    {
     "name": "stdout",
     "output_type": "stream",
     "text": [
      "<Residue ASP het=  resseq=1 icode= >\n",
      "<Residue ALA het=  resseq=2 icode= >\n",
      "<Residue GLU het=  resseq=3 icode= >\n",
      "<Residue PHE het=  resseq=4 icode= >\n",
      "<Residue ARG het=  resseq=5 icode= >\n",
      "<Residue HIS het=  resseq=6 icode= >\n",
      "<Residue ASP het=  resseq=7 icode= >\n",
      "<Residue SER het=  resseq=8 icode= >\n",
      "<Residue GLY het=  resseq=9 icode= >\n",
      "<Residue TYR het=  resseq=10 icode= >\n",
      "<Residue GLU het=  resseq=11 icode= >\n",
      "<Residue VAL het=  resseq=12 icode= >\n",
      "<Residue HIS het=  resseq=13 icode= >\n",
      "<Residue HIS het=  resseq=14 icode= >\n",
      "<Residue GLN het=  resseq=15 icode= >\n",
      "<Residue LYS het=  resseq=16 icode= >\n",
      "<Residue LEU het=  resseq=17 icode= >\n",
      "<Residue VAL het=  resseq=18 icode= >\n",
      "<Residue PHE het=  resseq=19 icode= >\n",
      "<Residue PHE het=  resseq=20 icode= >\n",
      "<Residue ALA het=  resseq=21 icode= >\n",
      "<Residue GLU het=  resseq=22 icode= >\n",
      "<Residue ASP het=  resseq=23 icode= >\n",
      "<Residue VAL het=  resseq=24 icode= >\n",
      "<Residue GLY het=  resseq=25 icode= >\n",
      "<Residue SER het=  resseq=26 icode= >\n",
      "<Residue ASN het=  resseq=27 icode= >\n",
      "<Residue LYS het=  resseq=28 icode= >\n",
      "<Residue GLY het=  resseq=29 icode= >\n",
      "<Residue ALA het=  resseq=30 icode= >\n",
      "<Residue ILE het=  resseq=31 icode= >\n",
      "<Residue ILE het=  resseq=32 icode= >\n",
      "<Residue GLY het=  resseq=33 icode= >\n",
      "<Residue LEU het=  resseq=34 icode= >\n",
      "<Residue MET het=  resseq=35 icode= >\n",
      "<Residue VAL het=  resseq=36 icode= >\n",
      "<Residue GLY het=  resseq=37 icode= >\n",
      "<Residue GLY het=  resseq=38 icode= >\n",
      "<Residue VAL het=  resseq=39 icode= >\n",
      "<Residue VAL het=  resseq=40 icode= >\n",
      "<Residue ILE het=  resseq=41 icode= >\n",
      "<Residue ALA het=  resseq=42 icode= >\n"
     ]
    }
   ],
   "source": [
    "for chain in model:\n",
    "    for residue in chain:\n",
    "        print(residue)"
   ]
  },
  {
   "cell_type": "code",
   "execution_count": 18,
   "metadata": {},
   "outputs": [],
   "source": [
    "c = model[\"A\"]"
   ]
  },
  {
   "cell_type": "code",
   "execution_count": 33,
   "metadata": {},
   "outputs": [],
   "source": [
    "res = c[1]"
   ]
  },
  {
   "cell_type": "code",
   "execution_count": 37,
   "metadata": {},
   "outputs": [],
   "source": [
    "atom = res['CA']"
   ]
  },
  {
   "cell_type": "code",
   "execution_count": 42,
   "metadata": {},
   "outputs": [
    {
     "data": {
      "text/plain": [
       "array([-27.77899933,   4.59499979,  21.68600082])"
      ]
     },
     "execution_count": 42,
     "metadata": {},
     "output_type": "execute_result"
    }
   ],
   "source": [
    "atom.get_coord() - np.array([10,0,0])"
   ]
  },
  {
   "cell_type": "code",
   "execution_count": 43,
   "metadata": {},
   "outputs": [
    {
     "data": {
      "text/plain": [
       "array([-17.77899933,   4.59499979,  21.68600082], dtype=float32)"
      ]
     },
     "execution_count": 43,
     "metadata": {},
     "output_type": "execute_result"
    }
   ],
   "source": [
    "atom.get_coord()"
   ]
  },
  {
   "cell_type": "code",
   "execution_count": 41,
   "metadata": {
    "collapsed": true
   },
   "outputs": [],
   "source": [
    "import numpy as np"
   ]
  },
  {
   "cell_type": "code",
   "execution_count": 29,
   "metadata": {},
   "outputs": [
    {
     "data": {
      "text/plain": [
       "{(' ', 1, ' '): <Residue ASP het=  resseq=1 icode= >,\n",
       " (' ', 2, ' '): <Residue ALA het=  resseq=2 icode= >,\n",
       " (' ', 3, ' '): <Residue GLU het=  resseq=3 icode= >,\n",
       " (' ', 4, ' '): <Residue PHE het=  resseq=4 icode= >,\n",
       " (' ', 5, ' '): <Residue ARG het=  resseq=5 icode= >,\n",
       " (' ', 6, ' '): <Residue HIS het=  resseq=6 icode= >,\n",
       " (' ', 7, ' '): <Residue ASP het=  resseq=7 icode= >,\n",
       " (' ', 8, ' '): <Residue SER het=  resseq=8 icode= >,\n",
       " (' ', 9, ' '): <Residue GLY het=  resseq=9 icode= >,\n",
       " (' ', 10, ' '): <Residue TYR het=  resseq=10 icode= >,\n",
       " (' ', 11, ' '): <Residue GLU het=  resseq=11 icode= >,\n",
       " (' ', 12, ' '): <Residue VAL het=  resseq=12 icode= >,\n",
       " (' ', 13, ' '): <Residue HIS het=  resseq=13 icode= >,\n",
       " (' ', 14, ' '): <Residue HIS het=  resseq=14 icode= >,\n",
       " (' ', 15, ' '): <Residue GLN het=  resseq=15 icode= >,\n",
       " (' ', 16, ' '): <Residue LYS het=  resseq=16 icode= >,\n",
       " (' ', 17, ' '): <Residue LEU het=  resseq=17 icode= >,\n",
       " (' ', 18, ' '): <Residue VAL het=  resseq=18 icode= >,\n",
       " (' ', 19, ' '): <Residue PHE het=  resseq=19 icode= >,\n",
       " (' ', 20, ' '): <Residue PHE het=  resseq=20 icode= >,\n",
       " (' ', 21, ' '): <Residue ALA het=  resseq=21 icode= >,\n",
       " (' ', 22, ' '): <Residue GLU het=  resseq=22 icode= >,\n",
       " (' ', 23, ' '): <Residue ASP het=  resseq=23 icode= >,\n",
       " (' ', 24, ' '): <Residue VAL het=  resseq=24 icode= >,\n",
       " (' ', 25, ' '): <Residue GLY het=  resseq=25 icode= >,\n",
       " (' ', 26, ' '): <Residue SER het=  resseq=26 icode= >,\n",
       " (' ', 27, ' '): <Residue ASN het=  resseq=27 icode= >,\n",
       " (' ', 28, ' '): <Residue LYS het=  resseq=28 icode= >,\n",
       " (' ', 29, ' '): <Residue GLY het=  resseq=29 icode= >,\n",
       " (' ', 30, ' '): <Residue ALA het=  resseq=30 icode= >,\n",
       " (' ', 31, ' '): <Residue ILE het=  resseq=31 icode= >,\n",
       " (' ', 32, ' '): <Residue ILE het=  resseq=32 icode= >,\n",
       " (' ', 33, ' '): <Residue GLY het=  resseq=33 icode= >,\n",
       " (' ', 34, ' '): <Residue LEU het=  resseq=34 icode= >,\n",
       " (' ', 35, ' '): <Residue MET het=  resseq=35 icode= >,\n",
       " (' ', 36, ' '): <Residue VAL het=  resseq=36 icode= >,\n",
       " (' ', 37, ' '): <Residue GLY het=  resseq=37 icode= >,\n",
       " (' ', 38, ' '): <Residue GLY het=  resseq=38 icode= >,\n",
       " (' ', 39, ' '): <Residue VAL het=  resseq=39 icode= >,\n",
       " (' ', 40, ' '): <Residue VAL het=  resseq=40 icode= >,\n",
       " (' ', 41, ' '): <Residue ILE het=  resseq=41 icode= >,\n",
       " (' ', 42, ' '): <Residue ALA het=  resseq=42 icode= >}"
      ]
     },
     "execution_count": 29,
     "metadata": {},
     "output_type": "execute_result"
    }
   ],
   "source": [
    "c.child_dict"
   ]
  },
  {
   "cell_type": "code",
   "execution_count": null,
   "metadata": {
    "collapsed": true
   },
   "outputs": [],
   "source": []
  }
 ],
 "metadata": {
  "kernelspec": {
   "display_name": "Python 3",
   "language": "python",
   "name": "python3"
  },
  "language_info": {
   "codemirror_mode": {
    "name": "ipython",
    "version": 3
   },
   "file_extension": ".py",
   "mimetype": "text/x-python",
   "name": "python",
   "nbconvert_exporter": "python",
   "pygments_lexer": "ipython3",
   "version": "3.6.3"
  }
 },
 "nbformat": 4,
 "nbformat_minor": 2
}
