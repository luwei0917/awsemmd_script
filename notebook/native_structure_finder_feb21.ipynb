{
 "cells": [
  {
   "cell_type": "code",
   "execution_count": 47,
   "metadata": {
    "collapsed": true
   },
   "outputs": [],
   "source": [
    "import numpy as np\n",
    "import pandas as pd\n",
    "import matplotlib\n",
    "import matplotlib.pyplot as plt\n",
    "import os\n",
    "from datetime import datetime\n",
    "\n",
    "%matplotlib inline\n",
    "\n",
    "plt.rcParams['axes.labelsize'] = 14\n",
    "plt.rcParams['xtick.labelsize'] = 12\n",
    "plt.rcParams['ytick.labelsize'] = 12\n",
    "\n",
    "# Where to save the figures\n",
    "PROJECT_ROOT_DIR = \".\"\n",
    "CHAPTER_ID = \"classification\"\n",
    "\n",
    "def save_fig(fig_id, tight_layout=True):\n",
    "    path = os.path.join(PROJECT_ROOT_DIR, \"images\", CHAPTER_ID, fig_id + \".png\")\n",
    "    print(\"Saving figure\", fig_id)\n",
    "    if tight_layout:\n",
    "        plt.tight_layout()\n",
    "    plt.savefig(path, format='png', dpi=300)"
   ]
  },
  {
   "cell_type": "code",
   "execution_count": 21,
   "metadata": {
    "collapsed": true
   },
   "outputs": [],
   "source": [
    "raw_test_data = pd.read_csv(\"/Users/weilu/Research/data/test_data/test_data_4.csv\")\n",
    "raw_data = raw_test_data.groupby(\"Name\").get_group(\"T0792\")"
   ]
  },
  {
   "cell_type": "code",
   "execution_count": 22,
   "metadata": {
    "collapsed": true
   },
   "outputs": [],
   "source": [
    "my_validation_set = raw_test_data.groupby(\"Name\").get_group(\"T0803\")"
   ]
  },
  {
   "cell_type": "code",
   "execution_count": 23,
   "metadata": {},
   "outputs": [
    {
     "data": {
      "text/plain": [
       "Index(['Step', 'Qw', 'Rw', 'VTotal', 'QGO', 'Burial', 'Water', 'Rama', 'Chain',\n",
       "       'Chi', 'DSSP', 'P_AP', 'Helix', 'Frag_Mem', 'GDT', 'Name', 'Good'],\n",
       "      dtype='object')"
      ]
     },
     "execution_count": 23,
     "metadata": {},
     "output_type": "execute_result"
    }
   ],
   "source": [
    "raw_test_data.columns"
   ]
  },
  {
   "cell_type": "code",
   "execution_count": 24,
   "metadata": {},
   "outputs": [
    {
     "data": {
      "text/plain": [
       "0    1961\n",
       "1      49\n",
       "Name: Good, dtype: int64"
      ]
     },
     "execution_count": 24,
     "metadata": {},
     "output_type": "execute_result"
    }
   ],
   "source": [
    "raw_data[\"Good\"].value_counts()"
   ]
  },
  {
   "cell_type": "code",
   "execution_count": 25,
   "metadata": {
    "collapsed": true
   },
   "outputs": [],
   "source": [
    "# FEATURES = [\"Rw\", \"VTotal\", \"QGO\"]\n",
    "# FEATURES = [\"Rw\", \"VTotal\", \"QGO\", \"Burial\", \"Frag_Mem\", \"Water\"]\n",
    "# FEATURES = list(raw_test_data.columns[2:-3])\n",
    "FEATURES = ['Rw',\n",
    " 'VTotal',\n",
    " 'QGO',\n",
    " 'Burial',\n",
    " 'Water',\n",
    " 'Rama',\n",
    " 'DSSP',\n",
    " 'P_AP',\n",
    " 'Helix',\n",
    " 'Frag_Mem']\n",
    "# LABEL = \"Qw\"\n",
    "LABEL = \"Good\""
   ]
  },
  {
   "cell_type": "code",
   "execution_count": 43,
   "metadata": {
    "collapsed": true
   },
   "outputs": [],
   "source": [
    "from sklearn.base import BaseEstimator, TransformerMixin\n",
    "from sklearn.pipeline import Pipeline\n",
    "from sklearn.preprocessing import StandardScaler\n",
    "from sklearn.pipeline import FeatureUnion\n",
    "from sklearn.preprocessing import PolynomialFeatures\n",
    "# Create a class to select numerical or categorical columns \n",
    "# since Scikit-Learn doesn't handle DataFrames yet\n",
    "class DataFrameSelector(BaseEstimator, TransformerMixin):\n",
    "    def __init__(self, attribute_names):\n",
    "        self.attribute_names = attribute_names\n",
    "    def fit(self, X, y=None):\n",
    "        return self\n",
    "    def transform(self, X):\n",
    "        return X[self.attribute_names].values\n",
    "class RemoveFirstFrame(BaseEstimator, TransformerMixin):\n",
    "    def __init__(self, frame):\n",
    "        self.frame = frame\n",
    "    def fit(self, X, y=None):\n",
    "        return self\n",
    "    def transform(self, X):\n",
    "        return X.query(f\"Step % {frame} != 1\")"
   ]
  },
  {
   "cell_type": "code",
   "execution_count": 44,
   "metadata": {
    "collapsed": true
   },
   "outputs": [],
   "source": [
    "# I want to start with the simplest linear regression"
   ]
  },
  {
   "cell_type": "code",
   "execution_count": 45,
   "metadata": {
    "collapsed": true
   },
   "outputs": [],
   "source": [
    "num_attribs = FEATURES\n",
    "cat_attribs = [LABEL]\n",
    "frame = 201\n",
    "num_pipeline = Pipeline([\n",
    "        ('selector', DataFrameSelector(num_attribs)),\n",
    "        ('std_scaler', StandardScaler()),\n",
    "        ('poly', PolynomialFeatures(degree=1, include_bias=False))\n",
    "    ])\n",
    "cat_pipeline = Pipeline([\n",
    "        ('selector', DataFrameSelector(cat_attribs))\n",
    "    ])\n",
    "\n",
    "full_pipeline = FeatureUnion(transformer_list=[\n",
    "        (\"num_pipeline\", num_pipeline),\n",
    "        (\"cat_pipeline\", cat_pipeline),\n",
    "    ])\n",
    "my_full_pipeline = Pipeline([\n",
    "        ('removeFirstFrame', RemoveFirstFrame(frame)),\n",
    "        ('featureSelection', full_pipeline)\n",
    "])"
   ]
  },
  {
   "cell_type": "code",
   "execution_count": 29,
   "metadata": {
    "collapsed": true
   },
   "outputs": [],
   "source": [
    "from sklearn.model_selection import StratifiedShuffleSplit\n",
    "\n",
    "split = StratifiedShuffleSplit(n_splits=1, test_size=0.2, random_state=42)\n",
    "for train_index, test_index in split.split(raw_data, raw_data[\"Good\"]):\n",
    "    strat_train_set = raw_data.iloc[train_index]\n",
    "    strat_test_set = raw_data.iloc[test_index]\n",
    "# strat_test_set[LABEL].value_counts() / len(strat_test_set)\n",
    "X_train = my_full_pipeline.fit_transform(strat_train_set)\n",
    "X_test = my_full_pipeline.fit_transform(strat_test_set)\n",
    "train_y = X_train[:,-1]\n",
    "train_set = X_train[:,:-1]\n",
    "test_y = X_test[:,-1]\n",
    "test_set = X_test[:,:-1]"
   ]
  },
  {
   "cell_type": "code",
   "execution_count": 30,
   "metadata": {
    "collapsed": true
   },
   "outputs": [],
   "source": [
    "from sklearn.model_selection import train_test_split\n",
    "\n",
    "strat_train_set, strat_test_set = train_test_split(raw_data, test_size=0.2, random_state=42)\n",
    "X_train = my_full_pipeline.fit_transform(strat_train_set)\n",
    "X_test = my_full_pipeline.fit_transform(strat_test_set)\n",
    "train_y = X_train[:,-1]\n",
    "train_set = X_train[:,:-1]\n",
    "test_y = X_test[:,-1]\n",
    "test_set = X_test[:,:-1]"
   ]
  },
  {
   "cell_type": "code",
   "execution_count": 31,
   "metadata": {
    "collapsed": true
   },
   "outputs": [],
   "source": [
    "X_validation = my_full_pipeline.fit_transform(my_validation_set)\n",
    "validation_y = X_validation[:,-1]\n",
    "validation_set = X_validation[:,:-1]"
   ]
  },
  {
   "cell_type": "code",
   "execution_count": 32,
   "metadata": {},
   "outputs": [
    {
     "data": {
      "text/plain": [
       "(2000, 10)"
      ]
     },
     "execution_count": 32,
     "metadata": {},
     "output_type": "execute_result"
    }
   ],
   "source": [
    "validation_set.shape"
   ]
  },
  {
   "cell_type": "code",
   "execution_count": 33,
   "metadata": {},
   "outputs": [
    {
     "data": {
      "text/plain": [
       "LinearRegression(copy_X=True, fit_intercept=True, n_jobs=1, normalize=False)"
      ]
     },
     "execution_count": 33,
     "metadata": {},
     "output_type": "execute_result"
    }
   ],
   "source": [
    "from sklearn.linear_model import LinearRegression\n",
    "\n",
    "lin_reg = LinearRegression()\n",
    "lin_reg.fit(train_set, train_y)"
   ]
  },
  {
   "cell_type": "code",
   "execution_count": 34,
   "metadata": {},
   "outputs": [
    {
     "data": {
      "text/plain": [
       "0.14586809742479179"
      ]
     },
     "execution_count": 34,
     "metadata": {},
     "output_type": "execute_result"
    }
   ],
   "source": [
    "from sklearn.metrics import mean_squared_error\n",
    "\n",
    "housing_predictions = lin_reg.predict(train_set)\n",
    "lin_mse = mean_squared_error(train_y, housing_predictions)\n",
    "lin_rmse = np.sqrt(lin_mse)\n",
    "lin_rmse"
   ]
  },
  {
   "cell_type": "code",
   "execution_count": 35,
   "metadata": {},
   "outputs": [
    {
     "data": {
      "text/plain": [
       "1"
      ]
     },
     "execution_count": 35,
     "metadata": {},
     "output_type": "execute_result"
    }
   ],
   "source": [
    "good = 10\n",
    "n = 10\n",
    "position_of_top_n = train_y.argsort()[-good:][::-1]\n",
    "position_of_top_n\n",
    "chosen_amony_good = 0\n",
    "predict_position_of_top_n = housing_predictions.argsort()[-n:][::-1]\n",
    "predict_position_of_top_n\n",
    "for i in predict_position_of_top_n:\n",
    "    if i in position_of_top_n:\n",
    "        chosen_amony_good += 1\n",
    "chosen_amony_good"
   ]
  },
  {
   "cell_type": "code",
   "execution_count": 36,
   "metadata": {},
   "outputs": [
    {
     "data": {
      "text/plain": [
       "0"
      ]
     },
     "execution_count": 36,
     "metadata": {},
     "output_type": "execute_result"
    }
   ],
   "source": [
    "n = 10\n",
    "good = 10\n",
    "chosen_amony_good = 0\n",
    "position_of_top_n = validation_y.argsort()[-good:][::-1]\n",
    "chosen_amony_good = 0\n",
    "predictions = lin_reg.predict(validation_set)\n",
    "predict_position_of_top_n = predictions.argsort()[-n:][::-1]\n",
    "for i in predict_position_of_top_n:\n",
    "    if i in position_of_top_n:\n",
    "        chosen_amony_good += 1\n",
    "chosen_amony_good"
   ]
  },
  {
   "cell_type": "code",
   "execution_count": 37,
   "metadata": {},
   "outputs": [
    {
     "data": {
      "text/plain": [
       "VotingClassifier(estimators=[('lr', LogisticRegression(C=1.0, class_weight=None, dual=False, fit_intercept=True,\n",
       "          intercept_scaling=1, max_iter=100, multi_class='ovr', n_jobs=1,\n",
       "          penalty='l2', random_state=142, solver='liblinear', tol=0.0001,\n",
       "          verbose=0, warm_start=False)), ('rf', RandomFo...f',\n",
       "  max_iter=-1, probability=True, random_state=412, shrinking=True,\n",
       "  tol=0.001, verbose=False))],\n",
       "         flatten_transform=None, n_jobs=1, voting='soft', weights=None)"
      ]
     },
     "execution_count": 37,
     "metadata": {},
     "output_type": "execute_result"
    }
   ],
   "source": [
    "from sklearn.ensemble import RandomForestClassifier\n",
    "from sklearn.ensemble import VotingClassifier\n",
    "from sklearn.linear_model import LogisticRegression\n",
    "from sklearn.svm import SVC\n",
    "from sklearn.linear_model import SGDClassifier\n",
    "\n",
    "from sklearn.model_selection import cross_val_score\n",
    "from sklearn.model_selection import cross_val_predict\n",
    "from sklearn.metrics import confusion_matrix\n",
    "from sklearn.metrics import accuracy_score\n",
    "p = 0.5\n",
    "log_clf = LogisticRegression(random_state=142)\n",
    "rnd_clf = RandomForestClassifier(random_state=432)\n",
    "svm_clf = SVC(probability=True, random_state=412)\n",
    "# log_clf = LogisticRegression(random_state=142, class_weight={0:p, 1:(1-p)})\n",
    "# rnd_clf = RandomForestClassifier(random_state=432, class_weight={0:p, 1:(1-p)})\n",
    "# svm_clf = SVC(probability=True, random_state=412, class_weight={0:p, 1:(1-p)})\n",
    "\n",
    "voting_clf = VotingClassifier(\n",
    "    estimators=[('lr', log_clf), ('rf', rnd_clf), ('svc', svm_clf)],\n",
    "    voting='soft')\n",
    "log_clf.fit(train_set, train_y)\n",
    "rnd_clf.fit(train_set, train_y)\n",
    "svm_clf.fit(train_set, train_y)\n",
    "voting_clf.fit(train_set, train_y)"
   ]
  },
  {
   "cell_type": "code",
   "execution_count": 38,
   "metadata": {},
   "outputs": [
    {
     "name": "stdout",
     "output_type": "stream",
     "text": [
      "LogisticRegression \n",
      " [[1942    9]\n",
      " [  48    1]]\n",
      "RandomForestClassifier \n",
      " [[1941   10]\n",
      " [  49    0]]\n",
      "SVC \n",
      " [[1942    9]\n",
      " [  48    1]]\n",
      "VotingClassifier \n",
      " [[1942    9]\n",
      " [  48    1]]\n"
     ]
    }
   ],
   "source": [
    "# check on validation set\n",
    "n = 10\n",
    "for clf in (log_clf, rnd_clf, svm_clf, voting_clf):\n",
    "#     y_pred = clf.predict(train_set)\n",
    "    prob= clf.predict_proba(validation_set)[:,1]\n",
    "    position_of_top_n = prob.argsort()[-n:][::-1]\n",
    "    threshold = prob[position_of_top_n][-1]\n",
    "    predict_y = np.zeros(len(validation_y),)\n",
    "    predict_y[position_of_top_n] = 1\n",
    "#     predict_y = (test > threshold)\n",
    "#     print(threshold)\n",
    "    cm = confusion_matrix(validation_y, predict_y)\n",
    "#     print(clf.__class__.__name__, \"\\n\", accuracy_score(train_y, predict_y))\n",
    "    print(clf.__class__.__name__, \"\\n\", cm)"
   ]
  },
  {
   "cell_type": "code",
   "execution_count": 39,
   "metadata": {},
   "outputs": [
    {
     "name": "stdout",
     "output_type": "stream",
     "text": [
      "LogisticRegression \n",
      " [[1556    2]\n",
      " [  33    8]]\n",
      "RandomForestClassifier \n",
      " [[1558    0]\n",
      " [  31   10]]\n",
      "SVC \n",
      " [[1557    1]\n",
      " [  32    9]]\n",
      "VotingClassifier \n",
      " [[1557    1]\n",
      " [  32    9]]\n"
     ]
    }
   ],
   "source": [
    "# check on training set\n",
    "n = 10\n",
    "for clf in (log_clf, rnd_clf, svm_clf, voting_clf):\n",
    "#     y_pred = clf.predict(train_set)\n",
    "    prob= clf.predict_proba(train_set)[:,1]\n",
    "    position_of_top_n = prob.argsort()[-n:][::-1]\n",
    "    threshold = prob[position_of_top_n][-1]\n",
    "    predict_y = np.zeros(len(train_y),)\n",
    "    predict_y[position_of_top_n] = 1\n",
    "#     predict_y = (test > threshold)\n",
    "#     print(threshold)\n",
    "    cm = confusion_matrix(train_y, predict_y)\n",
    "#     print(clf.__class__.__name__, \"\\n\", accuracy_score(train_y, predict_y))\n",
    "    print(clf.__class__.__name__, \"\\n\", cm)"
   ]
  },
  {
   "cell_type": "code",
   "execution_count": 48,
   "metadata": {},
   "outputs": [
    {
     "name": "stdout",
     "output_type": "stream",
     "text": [
      "1MBA\n",
      "[[1952    9]\n",
      " [  48    1]]\n",
      "T0766\n",
      "[[1951   10]\n",
      " [  49    0]]\n",
      "T0784\n",
      "[[1951   10]\n",
      " [  49    0]]\n",
      "T0792\n",
      "[[1959    2]\n",
      " [  41    8]]\n",
      "T0803\n",
      "[[1952    9]\n",
      " [  48    1]]\n",
      "T0815\n",
      "[[1949    8]\n",
      " [  51    2]]\n",
      "T0833\n",
      "[[1924    9]\n",
      " [  48    1]]\n",
      "T251\n",
      "[[1951   10]\n",
      " [  49    0]]\n"
     ]
    }
   ],
   "source": [
    "time_stamp = f\"{datetime.today().strftime('%d_%h_%H%M%S')}\"\n",
    "for name, data in raw_test_data.groupby(\"Name\"):\n",
    "    print(name)\n",
    "    X = full_pipeline.fit_transform(data)\n",
    "    eval_y = X[:,-1]\n",
    "    eval_set = X[:,:-1]\n",
    "    test= log_clf.predict_proba(eval_set)[:,1]\n",
    "    position_of_top_n = test.argsort()[-n:][::-1]\n",
    "    threshold = test[position_of_top_n][-1]\n",
    "    predict_y = np.zeros(len(eval_y),)\n",
    "    predict_y[position_of_top_n] = 1\n",
    "\n",
    "    with open(f\"/Users/weilu/Research/data/structure_selector/{name}_results_{time_stamp}.csv\", \"w\") as f:\n",
    "        f.write(\"Result\\n\")\n",
    "        for i in test:\n",
    "            f.write(str(i) + \"\\n\")\n",
    "\n",
    "#     predict_y = (test > threshold)\n",
    "#     print(threshold)\n",
    "    print(confusion_matrix(eval_y, predict_y))"
   ]
  },
  {
   "cell_type": "code",
   "execution_count": 40,
   "metadata": {},
   "outputs": [
    {
     "data": {
      "text/plain": [
       "41.0"
      ]
     },
     "execution_count": 40,
     "metadata": {},
     "output_type": "execute_result"
    }
   ],
   "source": [
    "sum(train_y)"
   ]
  },
  {
   "cell_type": "code",
   "execution_count": 41,
   "metadata": {
    "collapsed": true
   },
   "outputs": [],
   "source": [
    "from sklearn.model_selection import StratifiedKFold\n",
    "from sklearn.base import clone"
   ]
  },
  {
   "cell_type": "code",
   "execution_count": 181,
   "metadata": {},
   "outputs": [
    {
     "name": "stdout",
     "output_type": "stream",
     "text": [
      "[[521   0]\n",
      " [ 10   3]]\n",
      "[[520   0]\n",
      " [ 10   3]]\n",
      "[[520   0]\n",
      " [ 10   3]]\n"
     ]
    }
   ],
   "source": [
    "from sklearn.model_selection import StratifiedKFold\n",
    "from sklearn.base import clone\n",
    "\n",
    "skfolds = StratifiedKFold(n_splits=3, random_state=42)\n",
    "n = 3\n",
    "for train_index, test_index in skfolds.split(train_set, train_y):\n",
    "    clone_clf = clone(rnd_clf)\n",
    "    X_train_folds = train_set[train_index]\n",
    "    y_train_folds = (train_y[train_index])\n",
    "    X_test_fold = train_set[test_index]\n",
    "    y_test_fold = (train_y[test_index])\n",
    "\n",
    "    clone_clf.fit(X_train_folds, y_train_folds)\n",
    "#     y_pred = clone_clf.predict(X_test_fold)\n",
    "    prob= clf.predict_proba(X_test_fold)[:,1]\n",
    "    position_of_top_n = prob.argsort()[-n:][::-1]\n",
    "    threshold = prob[position_of_top_n][-1]\n",
    "    y_pred = np.zeros(len(y_test_fold),)\n",
    "    y_pred[position_of_top_n] = 1\n",
    "    cm = confusion_matrix(y_test_fold, y_pred)\n",
    "    print(cm)"
   ]
  },
  {
   "cell_type": "code",
   "execution_count": 182,
   "metadata": {},
   "outputs": [
    {
     "name": "stdout",
     "output_type": "stream",
     "text": [
      "[[521   0]\n",
      " [ 10   3]]\n",
      "[[520   0]\n",
      " [ 10   3]]\n",
      "[[520   0]\n",
      " [ 10   3]]\n"
     ]
    }
   ],
   "source": [
    "from sklearn.model_selection import StratifiedKFold\n",
    "from sklearn.base import clone\n",
    "\n",
    "skfolds = StratifiedKFold(n_splits=3, random_state=42)\n",
    "n = 3\n",
    "for train_index, test_index in skfolds.split(train_set, train_y):\n",
    "    clone_clf = clone(log_clf)\n",
    "    X_train_folds = train_set[train_index]\n",
    "    y_train_folds = (train_y[train_index])\n",
    "    X_test_fold = train_set[test_index]\n",
    "    y_test_fold = (train_y[test_index])\n",
    "\n",
    "    clone_clf.fit(X_train_folds, y_train_folds)\n",
    "#     y_pred = clone_clf.predict(X_test_fold)\n",
    "    prob= clf.predict_proba(X_test_fold)[:,1]\n",
    "    position_of_top_n = prob.argsort()[-n:][::-1]\n",
    "    threshold = prob[position_of_top_n][-1]\n",
    "    y_pred = np.zeros(len(y_test_fold),)\n",
    "    y_pred[position_of_top_n] = 1\n",
    "    cm = confusion_matrix(y_test_fold, y_pred)\n",
    "    print(cm)"
   ]
  },
  {
   "cell_type": "code",
   "execution_count": 24,
   "metadata": {},
   "outputs": [
    {
     "name": "stdout",
     "output_type": "stream",
     "text": [
      "LogisticRegression \n",
      " [[391   3]\n",
      " [  1   7]]\n",
      "RandomForestClassifier \n",
      " [[389   5]\n",
      " [  3   5]]\n",
      "SVC \n",
      " [[390   4]\n",
      " [  2   6]]\n",
      "VotingClassifier \n",
      " [[389   5]\n",
      " [  3   5]]\n"
     ]
    }
   ],
   "source": [
    "n = 10\n",
    "for clf in (log_clf, rnd_clf, svm_clf, voting_clf):\n",
    "#     y_pred = clf.predict(train_set)\n",
    "    prob= clf.predict_proba(test_set)[:,1]\n",
    "    position_of_top_n = prob.argsort()[-n:][::-1]\n",
    "    threshold = prob[position_of_top_n][-1]\n",
    "    predict_y = np.zeros(len(test_y),)\n",
    "    predict_y[position_of_top_n] = 1\n",
    "#     predict_y = (test > threshold)\n",
    "#     print(threshold)\n",
    "    cm = confusion_matrix(test_y, predict_y)\n",
    "#     print(clf.__class__.__name__, \"\\n\", accuracy_score(train_y, predict_y))\n",
    "    print(clf.__class__.__name__, \"\\n\", cm)"
   ]
  },
  {
   "cell_type": "code",
   "execution_count": 15,
   "metadata": {
    "collapsed": true
   },
   "outputs": [],
   "source": [
    "def compute_with_my_score_function(p=0.9, degree=3):\n",
    "    num_attribs = FEATURES\n",
    "    cat_attribs = LABEL\n",
    "    num_pipeline = Pipeline([\n",
    "            ('selector', DataFrameSelector(num_attribs)),\n",
    "            ('std_scaler', StandardScaler()),\n",
    "            ('poly', PolynomialFeatures(degree=degree, include_bias=False))\n",
    "        ])\n",
    "    cat_pipeline = Pipeline([\n",
    "            ('selector', DataFrameSelector(cat_attribs))\n",
    "        ])\n",
    "\n",
    "    full_pipeline = FeatureUnion(transformer_list=[\n",
    "            (\"num_pipeline\", num_pipeline),\n",
    "            (\"cat_pipeline\", cat_pipeline),\n",
    "        ])\n",
    "    train_set, test_set = train_test_split(raw_data, test_size=0.2, random_state=42)\n",
    "    X_train = full_pipeline.fit_transform(train_set)\n",
    "    X_test = full_pipeline.fit_transform(test_set)\n",
    "#     X_train = full_pipeline.fit_transform(raw_data)\n",
    "    train_y = X_train[:,-1]\n",
    "    train_set = X_train[:,:-1]\n",
    "    log_clf = LogisticRegression(random_state=142, class_weight={0:p, 1:(1-p)})\n",
    "    rnd_clf = RandomForestClassifier(random_state=432, class_weight={0:p, 1:(1-p)})\n",
    "    svm_clf = SVC(probability=True, random_state=412, class_weight={0:p, 1:(1-p)})\n",
    "    voting_clf = VotingClassifier(\n",
    "        estimators=[('lr', log_clf), ('rf', rnd_clf), ('svc', svm_clf)],\n",
    "        voting='soft')\n",
    "\n",
    "#     voting_clf.fit(train_set, train_y)\n",
    "    n = 10\n",
    "    for cl_name, clf in zip((\"lr\", \"rf\", \"svc\", \"voting\"), (log_clf, rnd_clf, svm_clf, voting_clf)):\n",
    "#     for cl_name, clf in (\"voting\", voting_clf):\n",
    "        my_evaluation = 1.0\n",
    "        another_evaluation = 0.0\n",
    "        for name, data in raw_test_data.groupby(\"Name\"):\n",
    "#             print(name)\n",
    "            X = full_pipeline.fit_transform(data)\n",
    "            validation_data, test_data = train_test_split(X, test_size=0.6, random_state=124)\n",
    "\n",
    "            validation_y = validation_data[:,-1]\n",
    "            validation_set = validation_data[:,:-1]\n",
    "            clf.fit(train_set, train_y)\n",
    "            test= clf.predict_proba(validation_set)[:,1]\n",
    "            position_of_top_n = test.argsort()[-n:][::-1]\n",
    "            threshold = test[position_of_top_n][-1]\n",
    "            predict_y = np.zeros(len(validation_y),)\n",
    "            predict_y[position_of_top_n] = 1\n",
    "        #     predict_y = (test > threshold)\n",
    "    #         print(threshold)\n",
    "            cm = confusion_matrix(validation_y, predict_y)\n",
    "#             print(cm)\n",
    "            precision = cm[1][1] / (cm[1][1] + cm[0][1])\n",
    "#             print(name,  \" precision\", precision,end = \" \")\n",
    "            if name != \"T0766\" and name != \"T0833\":\n",
    "                my_evaluation *= precision\n",
    "                another_evaluation += precision\n",
    "#         print(\"\")\n",
    "        print(\"classifier:\", cl_name, \", p:\",p, \", degree\", degree, \", score\", my_evaluation, \", another score\", another_evaluation)\n",
    "    return (cl_name, p, degree, my_evaluation)"
   ]
  },
  {
   "cell_type": "code",
   "execution_count": 16,
   "metadata": {
    "collapsed": true
   },
   "outputs": [],
   "source": [
    "def myGridSerach():\n",
    "    p_list = [0.9, 0.8, 0.7, 0.5, 0.1]\n",
    "    degree_list = [3, 2, 1]\n",
    "#     p_list = [0.1, 0.8, 0.9, 0.95]\n",
    "#     degree_list = [1, 2, 3]\n",
    "#     p_list = [0.1, 0.15, 0.2, 0.5, 0.7, 0.8, 0.85, 0.9, 0.95]\n",
    "#     degree_list = [1, 2, 3, 4]\n",
    "    result = []\n",
    "    for p in p_list:\n",
    "        for degree in degree_list:\n",
    "            result += [compute_with_my_score_function(p, degree)]\n",
    "            "
   ]
  },
  {
   "cell_type": "code",
   "execution_count": 17,
   "metadata": {},
   "outputs": [
    {
     "name": "stdout",
     "output_type": "stream",
     "text": [
      "classifier: lr , p: 0.9 , degree 3 , score 0.01008 , another score 3.0\n",
      "classifier: rf , p: 0.9 , degree 3 , score 0.00576 , another score 3.1\n",
      "classifier: svc , p: 0.9 , degree 3 , score 0.0 , another score 1.8\n",
      "classifier: voting , p: 0.9 , degree 3 , score 0.0 , another score 3.0\n",
      "classifier: lr , p: 0.9 , degree 2 , score 0.0 , another score 1.6\n",
      "classifier: rf , p: 0.9 , degree 2 , score 0.00216 , another score 2.6\n",
      "classifier: svc , p: 0.9 , degree 2 , score 0.00048 , another score 2.3\n",
      "classifier: voting , p: 0.9 , degree 2 , score 0.0036 , another score 2.7\n",
      "classifier: lr , p: 0.9 , degree 1 , score 0.0 , another score 2.0\n",
      "classifier: rf , p: 0.9 , degree 1 , score 0.00448 , another score 3.0\n",
      "classifier: svc , p: 0.9 , degree 1 , score 0.000216 , another score 2.0\n",
      "classifier: voting , p: 0.9 , degree 1 , score 0.00336 , another score 2.9\n",
      "classifier: lr , p: 0.8 , degree 3 , score 0.0075 , another score 2.8\n",
      "classifier: rf , p: 0.8 , degree 3 , score 0.0 , another score 2.1\n",
      "classifier: svc , p: 0.8 , degree 3 , score 0.0 , another score 1.8\n",
      "classifier: voting , p: 0.8 , degree 3 , score 0.0024 , another score 2.7\n",
      "classifier: lr , p: 0.8 , degree 2 , score 0.0 , another score 2.0\n",
      "classifier: rf , p: 0.8 , degree 2 , score 0.00192 , another score 2.7\n",
      "classifier: svc , p: 0.8 , degree 2 , score 0.00048 , another score 2.3\n",
      "classifier: voting , p: 0.8 , degree 2 , score 0.00576 , another score 3.1\n",
      "classifier: lr , p: 0.8 , degree 1 , score 0.0 , another score 2.0\n",
      "classifier: rf , p: 0.8 , degree 1 , score 0.0 , another score 2.6\n",
      "classifier: svc , p: 0.8 , degree 1 , score 0.000384 , another score 2.0\n",
      "classifier: voting , p: 0.8 , degree 1 , score 0.0 , another score 2.4\n",
      "classifier: lr , p: 0.7 , degree 3 , score 0.00225 , another score 2.5\n",
      "classifier: rf , p: 0.7 , degree 3 , score 0.0 , another score 2.2\n",
      "classifier: svc , p: 0.7 , degree 3 , score 0.0 , another score 1.8\n",
      "classifier: voting , p: 0.7 , degree 3 , score 0.0048 , another score 2.8\n",
      "classifier: lr , p: 0.7 , degree 2 , score 0.0 , another score 2.1\n",
      "classifier: rf , p: 0.7 , degree 2 , score 0.0084 , another score 3.1\n",
      "classifier: svc , p: 0.7 , degree 2 , score 0.000324 , another score 2.1\n",
      "classifier: voting , p: 0.7 , degree 2 , score 0.010368 , another score 3.1\n",
      "classifier: lr , p: 0.7 , degree 1 , score 0.0 , another score 2.0\n",
      "classifier: rf , p: 0.7 , degree 1 , score 0.0 , another score 1.9\n",
      "classifier: svc , p: 0.7 , degree 1 , score 0.0012 , another score 2.4\n",
      "classifier: voting , p: 0.7 , degree 1 , score 0.001296 , another score 2.5\n",
      "classifier: lr , p: 0.5 , degree 3 , score 0.0024 , another score 2.5\n",
      "classifier: rf , p: 0.5 , degree 3 , score 0.000486 , another score 2.1\n",
      "classifier: svc , p: 0.5 , degree 3 , score 0.0 , another score 2.2\n",
      "classifier: voting , p: 0.5 , degree 3 , score 0.0081 , another score 2.9\n",
      "classifier: lr , p: 0.5 , degree 2 , score 0.000336 , another score 2.0\n",
      "classifier: rf , p: 0.5 , degree 2 , score 0.0 , another score 2.2\n",
      "classifier: svc , p: 0.5 , degree 2 , score 0.0 , another score 2.3\n",
      "classifier: voting , p: 0.5 , degree 2 , score 0.0 , another score 2.4\n",
      "classifier: lr , p: 0.5 , degree 1 , score 0.0 , another score 1.9\n",
      "classifier: rf , p: 0.5 , degree 1 , score 0.00048 , another score 2.3\n",
      "classifier: svc , p: 0.5 , degree 1 , score 0.0 , another score 2.6\n",
      "classifier: voting , p: 0.5 , degree 1 , score 0.0 , another score 2.5\n",
      "classifier: lr , p: 0.1 , degree 3 , score 0.00384 , another score 2.4\n",
      "classifier: rf , p: 0.1 , degree 3 , score 0.0012 , another score 2.5\n",
      "classifier: svc , p: 0.1 , degree 3 , score 4e-05 , another score 1.4\n",
      "classifier: voting , p: 0.1 , degree 3 , score 0.00324 , another score 2.6\n",
      "classifier: lr , p: 0.1 , degree 2 , score 0.000576 , another score 2.0\n",
      "classifier: rf , p: 0.1 , degree 2 , score 0.0 , another score 2.2\n",
      "classifier: svc , p: 0.1 , degree 2 , score 2.4e-05 , another score 1.2\n",
      "classifier: voting , p: 0.1 , degree 2 , score 0.0 , another score 1.8\n",
      "classifier: lr , p: 0.1 , degree 1 , score 0.000525 , another score 2.2\n",
      "classifier: rf , p: 0.1 , degree 1 , score 0.0 , another score 1.7\n",
      "classifier: svc , p: 0.1 , degree 1 , score 9.6e-05 , another score 1.8\n",
      "classifier: voting , p: 0.1 , degree 1 , score 0.0 , another score 1.8\n"
     ]
    }
   ],
   "source": [
    "myGridSerach()"
   ]
  },
  {
   "cell_type": "code",
   "execution_count": 42,
   "metadata": {},
   "outputs": [
    {
     "ename": "ValueError",
     "evalue": "all the input arrays must have same number of dimensions",
     "output_type": "error",
     "traceback": [
      "\u001b[0;31m---------------------------------------------------------------------------\u001b[0m",
      "\u001b[0;31mValueError\u001b[0m                                Traceback (most recent call last)",
      "\u001b[0;32m<ipython-input-42-a1bedafa528d>\u001b[0m in \u001b[0;36m<module>\u001b[0;34m()\u001b[0m\n\u001b[1;32m     23\u001b[0m \u001b[0;31m# raw_data = raw_test_data.groupby(\"Name\").get_group(\"1MBA\")\u001b[0m\u001b[0;34m\u001b[0m\u001b[0;34m\u001b[0m\u001b[0m\n\u001b[1;32m     24\u001b[0m \u001b[0mtrain_set\u001b[0m\u001b[0;34m,\u001b[0m \u001b[0mtest_set\u001b[0m \u001b[0;34m=\u001b[0m \u001b[0mtrain_test_split\u001b[0m\u001b[0;34m(\u001b[0m\u001b[0mraw_data\u001b[0m\u001b[0;34m,\u001b[0m \u001b[0mtest_size\u001b[0m\u001b[0;34m=\u001b[0m\u001b[0;36m0.2\u001b[0m\u001b[0;34m,\u001b[0m \u001b[0mrandom_state\u001b[0m\u001b[0;34m=\u001b[0m\u001b[0;36m42\u001b[0m\u001b[0;34m)\u001b[0m\u001b[0;34m\u001b[0m\u001b[0m\n\u001b[0;32m---> 25\u001b[0;31m \u001b[0mX_train\u001b[0m \u001b[0;34m=\u001b[0m \u001b[0mfull_pipeline\u001b[0m\u001b[0;34m.\u001b[0m\u001b[0mfit_transform\u001b[0m\u001b[0;34m(\u001b[0m\u001b[0mtrain_set\u001b[0m\u001b[0;34m)\u001b[0m\u001b[0;34m\u001b[0m\u001b[0m\n\u001b[0m\u001b[1;32m     26\u001b[0m \u001b[0mX_test\u001b[0m \u001b[0;34m=\u001b[0m \u001b[0mfull_pipeline\u001b[0m\u001b[0;34m.\u001b[0m\u001b[0mfit_transform\u001b[0m\u001b[0;34m(\u001b[0m\u001b[0mtest_set\u001b[0m\u001b[0;34m)\u001b[0m\u001b[0;34m\u001b[0m\u001b[0m\n\u001b[1;32m     27\u001b[0m \u001b[0mtrain_y\u001b[0m \u001b[0;34m=\u001b[0m \u001b[0mX_train\u001b[0m\u001b[0;34m[\u001b[0m\u001b[0;34m:\u001b[0m\u001b[0;34m,\u001b[0m\u001b[0;34m-\u001b[0m\u001b[0;36m1\u001b[0m\u001b[0;34m]\u001b[0m\u001b[0;34m\u001b[0m\u001b[0m\n",
      "\u001b[0;32m~/anaconda3/lib/python3.6/site-packages/sklearn/pipeline.py\u001b[0m in \u001b[0;36mfit_transform\u001b[0;34m(self, X, y, **fit_params)\u001b[0m\n\u001b[1;32m    747\u001b[0m             \u001b[0mXs\u001b[0m \u001b[0;34m=\u001b[0m \u001b[0msparse\u001b[0m\u001b[0;34m.\u001b[0m\u001b[0mhstack\u001b[0m\u001b[0;34m(\u001b[0m\u001b[0mXs\u001b[0m\u001b[0;34m)\u001b[0m\u001b[0;34m.\u001b[0m\u001b[0mtocsr\u001b[0m\u001b[0;34m(\u001b[0m\u001b[0;34m)\u001b[0m\u001b[0;34m\u001b[0m\u001b[0m\n\u001b[1;32m    748\u001b[0m         \u001b[0;32melse\u001b[0m\u001b[0;34m:\u001b[0m\u001b[0;34m\u001b[0m\u001b[0m\n\u001b[0;32m--> 749\u001b[0;31m             \u001b[0mXs\u001b[0m \u001b[0;34m=\u001b[0m \u001b[0mnp\u001b[0m\u001b[0;34m.\u001b[0m\u001b[0mhstack\u001b[0m\u001b[0;34m(\u001b[0m\u001b[0mXs\u001b[0m\u001b[0;34m)\u001b[0m\u001b[0;34m\u001b[0m\u001b[0m\n\u001b[0m\u001b[1;32m    750\u001b[0m         \u001b[0;32mreturn\u001b[0m \u001b[0mXs\u001b[0m\u001b[0;34m\u001b[0m\u001b[0m\n\u001b[1;32m    751\u001b[0m \u001b[0;34m\u001b[0m\u001b[0m\n",
      "\u001b[0;32m~/anaconda3/lib/python3.6/site-packages/numpy/core/shape_base.py\u001b[0m in \u001b[0;36mhstack\u001b[0;34m(tup)\u001b[0m\n\u001b[1;32m    291\u001b[0m         \u001b[0;32mreturn\u001b[0m \u001b[0m_nx\u001b[0m\u001b[0;34m.\u001b[0m\u001b[0mconcatenate\u001b[0m\u001b[0;34m(\u001b[0m\u001b[0marrs\u001b[0m\u001b[0;34m,\u001b[0m \u001b[0;36m0\u001b[0m\u001b[0;34m)\u001b[0m\u001b[0;34m\u001b[0m\u001b[0m\n\u001b[1;32m    292\u001b[0m     \u001b[0;32melse\u001b[0m\u001b[0;34m:\u001b[0m\u001b[0;34m\u001b[0m\u001b[0m\n\u001b[0;32m--> 293\u001b[0;31m         \u001b[0;32mreturn\u001b[0m \u001b[0m_nx\u001b[0m\u001b[0;34m.\u001b[0m\u001b[0mconcatenate\u001b[0m\u001b[0;34m(\u001b[0m\u001b[0marrs\u001b[0m\u001b[0;34m,\u001b[0m \u001b[0;36m1\u001b[0m\u001b[0;34m)\u001b[0m\u001b[0;34m\u001b[0m\u001b[0m\n\u001b[0m\u001b[1;32m    294\u001b[0m \u001b[0;34m\u001b[0m\u001b[0m\n\u001b[1;32m    295\u001b[0m \u001b[0;34m\u001b[0m\u001b[0m\n",
      "\u001b[0;31mValueError\u001b[0m: all the input arrays must have same number of dimensions"
     ]
    }
   ],
   "source": [
    "from sklearn.metrics import confusion_matrix\n",
    "from sklearn.ensemble import RandomForestClassifier\n",
    "from sklearn.ensemble import VotingClassifier\n",
    "from sklearn.linear_model import LogisticRegression\n",
    "from sklearn.svm import SVC\n",
    "num_attribs = FEATURES\n",
    "cat_attribs = LABEL\n",
    "degree = 3\n",
    "num_pipeline = Pipeline([\n",
    "        ('selector', DataFrameSelector(num_attribs)),\n",
    "        ('std_scaler', StandardScaler()),\n",
    "        ('poly', PolynomialFeatures(degree=degree, include_bias=False))\n",
    "    ])\n",
    "cat_pipeline = Pipeline([\n",
    "        ('selector', DataFrameSelector(cat_attribs))\n",
    "    ])\n",
    "\n",
    "full_pipeline = FeatureUnion(transformer_list=[\n",
    "        (\"num_pipeline\", num_pipeline),\n",
    "        (\"cat_pipeline\", cat_pipeline),\n",
    "    ])\n",
    "\n",
    "# raw_data = raw_test_data.groupby(\"Name\").get_group(\"1MBA\")\n",
    "train_set, test_set = train_test_split(raw_data, test_size=0.2, random_state=42)\n",
    "X_train = full_pipeline.fit_transform(train_set)\n",
    "X_test = full_pipeline.fit_transform(test_set)\n",
    "train_y = X_train[:,-1]\n",
    "train_set = X_train[:,:-1]\n",
    "# test_y = X_test[:,-1]\n",
    "# test_set = X_test[:,:-1]\n",
    "\n",
    "p = 0.9\n",
    "log_clf = LogisticRegression(random_state=142, class_weight={0:p, 1:(1-p)})\n",
    "rnd_clf = RandomForestClassifier(random_state=432, class_weight={0:p, 1:(1-p)})\n",
    "svm_clf = SVC(probability=True, random_state=412, class_weight={0:p, 1:(1-p)})\n",
    "\n",
    "voting_clf = VotingClassifier(\n",
    "    estimators=[('lr', log_clf), ('rf', rnd_clf), ('svc', svm_clf)],\n",
    "    voting='soft')\n",
    "voting_clf.fit(train_set, train_y)\n",
    "n = 6\n",
    "time_stamp = f\"{datetime.today().strftime('%d_%h_%H%M%S')}\"\n",
    "for name, data in raw_test_data.groupby(\"Name\"):\n",
    "    print(name)\n",
    "    X = full_pipeline.fit_transform(data)\n",
    "    eval_y = X[:,-1]\n",
    "    eval_set = X[:,:-1]\n",
    "    test= voting_clf.predict_proba(eval_set)[:,1]\n",
    "    position_of_top_n = test.argsort()[-n:][::-1]\n",
    "    threshold = test[position_of_top_n][-1]\n",
    "    predict_y = np.zeros(len(eval_y),)\n",
    "    predict_y[position_of_top_n] = 1\n",
    "    with open(f\"/Users/weilu/Research/data/structure_selector/{name}_results_{time_stamp}.csv\", \"w\") as f:\n",
    "        f.write(\"Result\\n\")\n",
    "        for i in test:\n",
    "            f.write(str(i) + \"\\n\")\n",
    "#     predict_y = (test > threshold)\n",
    "#     print(threshold)\n",
    "    print(confusion_matrix(eval_y, predict_y))\n",
    "\n"
   ]
  },
  {
   "cell_type": "code",
   "execution_count": null,
   "metadata": {
    "collapsed": true
   },
   "outputs": [],
   "source": [
    "from sklearn.decomposition import PCA\n",
    "from sklearn.preprocessing import StandardScaler\n",
    "pca = PCA(n_components = 0.95)\n",
    "stdscaler = StandardScaler\n",
    "stdscaler.fit(test)\n",
    "cumsum = np.cumsum(pca.explained_variance_ratio_)\n",
    "d = np.argmax(cumsum >= 0.95) + 1"
   ]
  }
 ],
 "metadata": {
  "kernelspec": {
   "display_name": "Python 3",
   "language": "python",
   "name": "python3"
  },
  "language_info": {
   "codemirror_mode": {
    "name": "ipython",
    "version": 3
   },
   "file_extension": ".py",
   "mimetype": "text/x-python",
   "name": "python",
   "nbconvert_exporter": "python",
   "pygments_lexer": "ipython3",
   "version": "3.6.3"
  }
 },
 "nbformat": 4,
 "nbformat_minor": 2
}
