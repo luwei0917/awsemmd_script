{
 "cells": [
  {
   "cell_type": "code",
   "execution_count": 1,
   "metadata": {
    "collapsed": true
   },
   "outputs": [],
   "source": [
    "import pandas as pd\n",
    "import numpy as np\n",
    "import matplotlib.pyplot as plt\n",
    "import glob\n",
    "import jedi\n",
    "%matplotlib inline"
   ]
  },
  {
   "cell_type": "code",
   "execution_count": 34,
   "metadata": {
    "collapsed": true
   },
   "outputs": [],
   "source": [
    "location = \"/Users/weilu/Research/server/oct_2017/23oct/memb_3_rg_0.1_lipid_1_topology/simulation/test/0/0/\"\n",
    "fileName = \"angles.csv\"\n",
    "data = pd.read_csv(location + fileName)\n",
    "data.columns = data.columns.str.strip()\n",
    "data2 = data.pivot_table(values='Angle', index='Frame', columns='Helix')\n",
    "data2.columns = [\"Helix\" + str(i) for i in list(data2.columns)]"
   ]
  },
  {
   "cell_type": "code",
   "execution_count": 35,
   "metadata": {},
   "outputs": [
    {
     "data": {
      "text/html": [
       "<div>\n",
       "<style>\n",
       "    .dataframe thead tr:only-child th {\n",
       "        text-align: right;\n",
       "    }\n",
       "\n",
       "    .dataframe thead th {\n",
       "        text-align: left;\n",
       "    }\n",
       "\n",
       "    .dataframe tbody tr th {\n",
       "        vertical-align: top;\n",
       "    }\n",
       "</style>\n",
       "<table border=\"1\" class=\"dataframe\">\n",
       "  <thead>\n",
       "    <tr style=\"text-align: right;\">\n",
       "      <th></th>\n",
       "      <th>Helix1</th>\n",
       "      <th>Helix2</th>\n",
       "      <th>Helix3</th>\n",
       "      <th>Helix4</th>\n",
       "      <th>Helix5</th>\n",
       "      <th>Helix6</th>\n",
       "    </tr>\n",
       "    <tr>\n",
       "      <th>Frame</th>\n",
       "      <th></th>\n",
       "      <th></th>\n",
       "      <th></th>\n",
       "      <th></th>\n",
       "      <th></th>\n",
       "      <th></th>\n",
       "    </tr>\n",
       "  </thead>\n",
       "  <tbody>\n",
       "    <tr>\n",
       "      <th>2</th>\n",
       "      <td>0.958807</td>\n",
       "      <td>-0.843155</td>\n",
       "      <td>0.784203</td>\n",
       "      <td>-0.922474</td>\n",
       "      <td>0.316717</td>\n",
       "      <td>0.112457</td>\n",
       "    </tr>\n",
       "    <tr>\n",
       "      <th>3</th>\n",
       "      <td>0.983988</td>\n",
       "      <td>-0.884886</td>\n",
       "      <td>0.973504</td>\n",
       "      <td>-0.875190</td>\n",
       "      <td>-0.301486</td>\n",
       "      <td>0.138367</td>\n",
       "    </tr>\n",
       "    <tr>\n",
       "      <th>4</th>\n",
       "      <td>0.988920</td>\n",
       "      <td>-0.991375</td>\n",
       "      <td>0.819003</td>\n",
       "      <td>-0.893863</td>\n",
       "      <td>-0.121061</td>\n",
       "      <td>0.184560</td>\n",
       "    </tr>\n",
       "    <tr>\n",
       "      <th>7</th>\n",
       "      <td>0.965696</td>\n",
       "      <td>-0.937274</td>\n",
       "      <td>0.929194</td>\n",
       "      <td>-0.961609</td>\n",
       "      <td>-0.277609</td>\n",
       "      <td>0.197083</td>\n",
       "    </tr>\n",
       "    <tr>\n",
       "      <th>8</th>\n",
       "      <td>0.870417</td>\n",
       "      <td>-0.975476</td>\n",
       "      <td>0.883158</td>\n",
       "      <td>-0.783042</td>\n",
       "      <td>-0.173975</td>\n",
       "      <td>0.154555</td>\n",
       "    </tr>\n",
       "    <tr>\n",
       "      <th>9</th>\n",
       "      <td>0.984983</td>\n",
       "      <td>-0.939534</td>\n",
       "      <td>0.913308</td>\n",
       "      <td>-0.881203</td>\n",
       "      <td>-0.496792</td>\n",
       "      <td>0.165638</td>\n",
       "    </tr>\n",
       "    <tr>\n",
       "      <th>10</th>\n",
       "      <td>0.953259</td>\n",
       "      <td>-0.988167</td>\n",
       "      <td>0.940443</td>\n",
       "      <td>-0.898698</td>\n",
       "      <td>-0.253104</td>\n",
       "      <td>0.068214</td>\n",
       "    </tr>\n",
       "    <tr>\n",
       "      <th>11</th>\n",
       "      <td>0.988898</td>\n",
       "      <td>-0.869757</td>\n",
       "      <td>0.902109</td>\n",
       "      <td>-0.756724</td>\n",
       "      <td>0.753479</td>\n",
       "      <td>-0.038889</td>\n",
       "    </tr>\n",
       "    <tr>\n",
       "      <th>2983</th>\n",
       "      <td>0.849606</td>\n",
       "      <td>-0.876580</td>\n",
       "      <td>0.926273</td>\n",
       "      <td>-0.838251</td>\n",
       "      <td>0.875517</td>\n",
       "      <td>0.088100</td>\n",
       "    </tr>\n",
       "    <tr>\n",
       "      <th>2984</th>\n",
       "      <td>0.956263</td>\n",
       "      <td>-0.822980</td>\n",
       "      <td>0.982380</td>\n",
       "      <td>-0.963726</td>\n",
       "      <td>0.976369</td>\n",
       "      <td>0.123281</td>\n",
       "    </tr>\n",
       "    <tr>\n",
       "      <th>2985</th>\n",
       "      <td>0.879235</td>\n",
       "      <td>-0.733759</td>\n",
       "      <td>0.886220</td>\n",
       "      <td>-0.970354</td>\n",
       "      <td>0.636246</td>\n",
       "      <td>0.167980</td>\n",
       "    </tr>\n",
       "    <tr>\n",
       "      <th>2986</th>\n",
       "      <td>0.948674</td>\n",
       "      <td>-0.861237</td>\n",
       "      <td>0.997800</td>\n",
       "      <td>-0.949333</td>\n",
       "      <td>0.947599</td>\n",
       "      <td>-0.117024</td>\n",
       "    </tr>\n",
       "    <tr>\n",
       "      <th>2988</th>\n",
       "      <td>0.934450</td>\n",
       "      <td>-0.776396</td>\n",
       "      <td>0.910108</td>\n",
       "      <td>-0.843526</td>\n",
       "      <td>0.277435</td>\n",
       "      <td>0.063588</td>\n",
       "    </tr>\n",
       "    <tr>\n",
       "      <th>2989</th>\n",
       "      <td>0.928283</td>\n",
       "      <td>-0.903119</td>\n",
       "      <td>0.987344</td>\n",
       "      <td>-0.768861</td>\n",
       "      <td>0.485970</td>\n",
       "      <td>-0.132733</td>\n",
       "    </tr>\n",
       "    <tr>\n",
       "      <th>2993</th>\n",
       "      <td>0.975392</td>\n",
       "      <td>-0.896838</td>\n",
       "      <td>0.987115</td>\n",
       "      <td>-0.993382</td>\n",
       "      <td>0.557705</td>\n",
       "      <td>-0.002005</td>\n",
       "    </tr>\n",
       "    <tr>\n",
       "      <th>2994</th>\n",
       "      <td>0.996225</td>\n",
       "      <td>-0.922031</td>\n",
       "      <td>0.950887</td>\n",
       "      <td>-0.913136</td>\n",
       "      <td>0.755891</td>\n",
       "      <td>-0.144787</td>\n",
       "    </tr>\n",
       "    <tr>\n",
       "      <th>2996</th>\n",
       "      <td>0.990582</td>\n",
       "      <td>-0.711645</td>\n",
       "      <td>0.945308</td>\n",
       "      <td>-0.976782</td>\n",
       "      <td>0.773397</td>\n",
       "      <td>0.099843</td>\n",
       "    </tr>\n",
       "    <tr>\n",
       "      <th>2997</th>\n",
       "      <td>0.999059</td>\n",
       "      <td>-0.915638</td>\n",
       "      <td>0.929169</td>\n",
       "      <td>-0.990210</td>\n",
       "      <td>0.635490</td>\n",
       "      <td>0.016146</td>\n",
       "    </tr>\n",
       "    <tr>\n",
       "      <th>2998</th>\n",
       "      <td>0.990973</td>\n",
       "      <td>-0.705024</td>\n",
       "      <td>0.987189</td>\n",
       "      <td>-0.827492</td>\n",
       "      <td>0.680304</td>\n",
       "      <td>-0.122239</td>\n",
       "    </tr>\n",
       "  </tbody>\n",
       "</table>\n",
       "</div>"
      ],
      "text/plain": [
       "         Helix1    Helix2    Helix3    Helix4    Helix5    Helix6\n",
       "Frame                                                            \n",
       "2      0.958807 -0.843155  0.784203 -0.922474  0.316717  0.112457\n",
       "3      0.983988 -0.884886  0.973504 -0.875190 -0.301486  0.138367\n",
       "4      0.988920 -0.991375  0.819003 -0.893863 -0.121061  0.184560\n",
       "7      0.965696 -0.937274  0.929194 -0.961609 -0.277609  0.197083\n",
       "8      0.870417 -0.975476  0.883158 -0.783042 -0.173975  0.154555\n",
       "9      0.984983 -0.939534  0.913308 -0.881203 -0.496792  0.165638\n",
       "10     0.953259 -0.988167  0.940443 -0.898698 -0.253104  0.068214\n",
       "11     0.988898 -0.869757  0.902109 -0.756724  0.753479 -0.038889\n",
       "2983   0.849606 -0.876580  0.926273 -0.838251  0.875517  0.088100\n",
       "2984   0.956263 -0.822980  0.982380 -0.963726  0.976369  0.123281\n",
       "2985   0.879235 -0.733759  0.886220 -0.970354  0.636246  0.167980\n",
       "2986   0.948674 -0.861237  0.997800 -0.949333  0.947599 -0.117024\n",
       "2988   0.934450 -0.776396  0.910108 -0.843526  0.277435  0.063588\n",
       "2989   0.928283 -0.903119  0.987344 -0.768861  0.485970 -0.132733\n",
       "2993   0.975392 -0.896838  0.987115 -0.993382  0.557705 -0.002005\n",
       "2994   0.996225 -0.922031  0.950887 -0.913136  0.755891 -0.144787\n",
       "2996   0.990582 -0.711645  0.945308 -0.976782  0.773397  0.099843\n",
       "2997   0.999059 -0.915638  0.929169 -0.990210  0.635490  0.016146\n",
       "2998   0.990973 -0.705024  0.987189 -0.827492  0.680304 -0.122239"
      ]
     },
     "execution_count": 35,
     "metadata": {},
     "output_type": "execute_result"
    }
   ],
   "source": [
    "data2.query('abs(Helix1) > 0.2 & abs(Helix6) < 0.2')"
   ]
  },
  {
   "cell_type": "code",
   "execution_count": 1,
   "metadata": {},
   "outputs": [
    {
     "ename": "NameError",
     "evalue": "name 'pd' is not defined",
     "output_type": "error",
     "traceback": [
      "\u001b[0;31m---------------------------------------------------------------------------\u001b[0m",
      "\u001b[0;31mNameError\u001b[0m                                 Traceback (most recent call last)",
      "\u001b[0;32m<ipython-input-1-28befba385d1>\u001b[0m in \u001b[0;36m<module>\u001b[0;34m()\u001b[0m\n\u001b[1;32m      2\u001b[0m \u001b[0mname_list\u001b[0m \u001b[0;34m=\u001b[0m \u001b[0;34m[\u001b[0m\u001b[0;34m\"Lipid\"\u001b[0m\u001b[0;34m,\u001b[0m \u001b[0;34m\"Go\"\u001b[0m\u001b[0;34m,\u001b[0m \u001b[0;34m\"Mem\"\u001b[0m\u001b[0;34m,\u001b[0m \u001b[0;34m\"Rg\"\u001b[0m\u001b[0;34m]\u001b[0m\u001b[0;34m\u001b[0m\u001b[0m\n\u001b[1;32m      3\u001b[0m \u001b[0mnames\u001b[0m \u001b[0;34m=\u001b[0m \u001b[0;34m[\u001b[0m\u001b[0;34m\"bin\"\u001b[0m\u001b[0;34m,\u001b[0m \u001b[0;34m\"x\"\u001b[0m\u001b[0;34m]\u001b[0m \u001b[0;34m+\u001b[0m \u001b[0mname_list\u001b[0m\u001b[0;34m\u001b[0m\u001b[0m\n\u001b[0;32m----> 4\u001b[0;31m \u001b[0mdata\u001b[0m \u001b[0;34m=\u001b[0m \u001b[0mpd\u001b[0m\u001b[0;34m.\u001b[0m\u001b[0mread_table\u001b[0m\u001b[0;34m(\u001b[0m\u001b[0mlocation\u001b[0m\u001b[0;34m,\u001b[0m \u001b[0mskiprows\u001b[0m\u001b[0;34m=\u001b[0m\u001b[0;36m1\u001b[0m\u001b[0;34m,\u001b[0m \u001b[0msep\u001b[0m\u001b[0;34m=\u001b[0m\u001b[0;34m'\\s+'\u001b[0m\u001b[0;34m,\u001b[0m \u001b[0mnames\u001b[0m\u001b[0;34m=\u001b[0m\u001b[0mnames\u001b[0m\u001b[0;34m)\u001b[0m\u001b[0;34m\u001b[0m\u001b[0m\n\u001b[0m",
      "\u001b[0;31mNameError\u001b[0m: name 'pd' is not defined"
     ]
    }
   ],
   "source": [
    "location = \"/Users/weilu/Research/server/oct_2017/23oct/memb_3_rg_0.1_lipid_1_extended/1d_dis/t_all/force_0.0/evpb-500.dat\"\n",
    "name_list = [\"Lipid\", \"Go\", \"Mem\", \"Rg\"]\n",
    "names = [\"bin\", \"x\"] + name_list\n",
    "data = pd.read_table(location, skiprows=1, sep='\\s+', names=names)"
   ]
  },
  {
   "cell_type": "code",
   "execution_count": 69,
   "metadata": {},
   "outputs": [
    {
     "data": {
      "image/png": "[encoded data removed]",
      "text/plain": [
       "<matplotlib.figure.Figure at 0x121242278>"
      ]
     },
     "metadata": {},
     "output_type": "display_data"
    }
   ],
   "source": [
    "fig, ax = plt.subplots()\n",
    "\n",
    "processed_data = data - data.mean()\n",
    "for name in name_list:\n",
    "    processed_data.query('x < 120').plot('x', name, ax=ax, ylim=(-50,50))\n"
   ]
  },
  {
   "cell_type": "code",
   "execution_count": 64,
   "metadata": {},
   "outputs": [
    {
     "data": {
      "text/plain": [
       "bin     24.50000\n",
       "x       71.54094\n",
       "e1     -38.71914\n",
       "e2    -487.81078\n",
       "e3    -122.26358\n",
       "e4       5.73332\n",
       "dtype: float64"
      ]
     },
     "execution_count": 64,
     "metadata": {},
     "output_type": "execute_result"
    }
   ],
   "source": [
    "data.mean()"
   ]
  },
  {
   "cell_type": "code",
   "execution_count": 74,
   "metadata": {
    "collapsed": true
   },
   "outputs": [],
   "source": [
    "location = \"/Users/weilu/Research/server/oct_2017/23oct/memb_3_rg_0.1_lipid_1_topology/sub_sample_1d_dis_t_all/\"\n",
    "file = \"pmf-420.dat\"\n",
    "name_list = [\"e1\", \"e2\", \"e3\", \"e4\"]\n",
    "names = [\"bin\", \"x\"] + name_list\n",
    "data1 = pd.read_table(location+file, skiprows=2, sep='\\s+', names=names)\n",
    "\n",
    "location = \"/Users/weilu/Research/server/oct_2017/23oct/memb_3_rg_0.1_lipid_1_topology/sub_sample_1d_dis_t_all/compare/\"\n",
    "file = \"pmf-420.dat\"\n",
    "name_list = [\"e1\", \"e2\", \"e3\", \"e4\"]\n",
    "names = [\"bin\", \"x\"] + name_list\n",
    "data2 = pd.read_table(location+file, skiprows=2, sep='\\s+', names=names)"
   ]
  },
  {
   "cell_type": "code",
   "execution_count": 79,
   "metadata": {},
   "outputs": [
    {
     "data": {
      "text/plain": [
       "<matplotlib.axes._subplots.AxesSubplot at 0x120ec8e48>"
      ]
     },
     "execution_count": 79,
     "metadata": {},
     "output_type": "execute_result"
    },
    {
     "data": {
      "image/png": "[encoded data removed]",
      "text/plain": [
       "<matplotlib.figure.Figure at 0x120d6f5f8>"
      ]
     },
     "metadata": {},
     "output_type": "display_data"
    }
   ],
   "source": [
    "fig, ax = plt.subplots()\n",
    "data1.plot('x', 'e1', ax=ax)\n",
    "data2.plot('x', 'e1', ax=ax, c=\"red\")"
   ]
  },
  {
   "cell_type": "code",
   "execution_count": null,
   "metadata": {
    "collapsed": true
   },
   "outputs": [],
   "source": []
  }
 ],
 "metadata": {
  "kernelspec": {
   "display_name": "Python 3",
   "language": "python",
   "name": "python3"
  },
  "language_info": {
   "codemirror_mode": {
    "name": "ipython",
    "version": 3
   },
   "file_extension": ".py",
   "mimetype": "text/x-python",
   "name": "python",
   "nbconvert_exporter": "python",
   "pygments_lexer": "ipython3",
   "version": "3.6.3"
  }
 },
 "nbformat": 4,
 "nbformat_minor": 2
}
