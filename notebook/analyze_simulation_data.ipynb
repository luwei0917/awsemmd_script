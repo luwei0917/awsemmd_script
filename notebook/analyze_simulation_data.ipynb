{
 "cells": [
  {
   "cell_type": "code",
   "execution_count": 123,
   "metadata": {
    "collapsed": true
   },
   "outputs": [],
   "source": [
    "import numpy as np\n",
    "import pandas as pd\n",
    "import matplotlib.pyplot as plt\n",
    "import seaborn as sns\n",
    "\n",
    "sns.set(rc={'figure.figsize':(10,6.180)})\n",
    "sns.set_style(\"whitegrid\")"
   ]
  },
  {
   "cell_type": "code",
   "execution_count": 2,
   "metadata": {
    "collapsed": true
   },
   "outputs": [],
   "source": [
    "%matplotlib inline"
   ]
  },
  {
   "cell_type": "code",
   "execution_count": 64,
   "metadata": {
    "collapsed": true
   },
   "outputs": [],
   "source": [
    "def my_reorder(a, first):\n",
    "    # move first to the top. and keep the rest\n",
    "    new_order = first.copy()\n",
    "    for col in a:\n",
    "        if col not in first:\n",
    "            new_order.append(col)\n",
    "    return new_order"
   ]
  },
  {
   "cell_type": "code",
   "execution_count": 69,
   "metadata": {},
   "outputs": [],
   "source": [
    "def read_pdb(name):\n",
    "    all_data = []\n",
    "    for i in range(20):\n",
    "        for j in range(2):\n",
    "            pre = \"/Users/weilu/Research/server/nov_2018/iterative_optimization_3/all_simulations/\"\n",
    "            location = pre + f\"{name}/simulation/{i}/{j}/\"\n",
    "            try:\n",
    "                wham = pd.read_csv(location+\"wham.dat\")\n",
    "            except:\n",
    "                print(f\"PDB: {name}, repeat: {i}, run: {j} not exist\")\n",
    "                continue\n",
    "            wham.columns = wham.columns.str.strip()\n",
    "            remove_columns = ['Tc', 'Energy']\n",
    "            wham = wham.drop(remove_columns, axis=1)\n",
    "            energy = pd.read_csv(location+\"energy.dat\")\n",
    "            energy.columns = energy.columns.str.strip()\n",
    "            remove_columns = ['Steps', 'Shake', 'Excluded', 'DSSP', 'Helix', 'AMH-Go', 'Vec_FM', 'Membrane', 'SSB']\n",
    "            energy = energy.drop(remove_columns, axis=1)\n",
    "            data = pd.concat([wham, energy], axis=1).assign(Repeat=i, Run=j)\n",
    "            all_data.append(data)\n",
    "    data = pd.concat(all_data).reset_index(drop=True)\n",
    "    data = data.reindex(columns=my_reorder(data.columns, [\"Steps\", \"Qw\", \"VTotal\", \"Run\", \"Repeat\"]))\n",
    "    print(name, len(data))\n",
    "    return data"
   ]
  },
  {
   "cell_type": "code",
   "execution_count": 71,
   "metadata": {},
   "outputs": [
    {
     "name": "stdout",
     "output_type": "stream",
     "text": [
      "1r69 40000\n",
      "1utg 40000\n",
      "3icb 40000\n",
      "256b 40000\n",
      "PDB: 4cpv, repeat: 0, run: 1 not exist\n",
      "PDB: 4cpv, repeat: 4, run: 1 not exist\n",
      "4cpv 36000\n",
      "1ccr 40000\n",
      "PDB: 2mhr, repeat: 0, run: 1 not exist\n",
      "PDB: 2mhr, repeat: 1, run: 1 not exist\n",
      "PDB: 2mhr, repeat: 2, run: 1 not exist\n",
      "PDB: 2mhr, repeat: 3, run: 1 not exist\n",
      "PDB: 2mhr, repeat: 4, run: 1 not exist\n",
      "PDB: 2mhr, repeat: 5, run: 1 not exist\n",
      "PDB: 2mhr, repeat: 6, run: 1 not exist\n",
      "PDB: 2mhr, repeat: 7, run: 1 not exist\n",
      "PDB: 2mhr, repeat: 8, run: 1 not exist\n",
      "PDB: 2mhr, repeat: 9, run: 1 not exist\n",
      "2mhr 28610\n",
      "PDB: 1mba, repeat: 9, run: 1 not exist\n",
      "PDB: 1mba, repeat: 15, run: 1 not exist\n",
      "1mba 18000\n",
      "PDB: 2fha, repeat: 8, run: 1 not exist\n",
      "PDB: 2fha, repeat: 9, run: 1 not exist\n",
      "PDB: 2fha, repeat: 10, run: 1 not exist\n",
      "PDB: 2fha, repeat: 11, run: 1 not exist\n",
      "PDB: 2fha, repeat: 12, run: 1 not exist\n",
      "PDB: 2fha, repeat: 13, run: 1 not exist\n",
      "PDB: 2fha, repeat: 14, run: 1 not exist\n",
      "PDB: 2fha, repeat: 15, run: 1 not exist\n",
      "PDB: 2fha, repeat: 16, run: 1 not exist\n",
      "PDB: 2fha, repeat: 17, run: 1 not exist\n",
      "PDB: 2fha, repeat: 18, run: 1 not exist\n",
      "PDB: 2fha, repeat: 19, run: 1 not exist\n",
      "2fha 11011\n"
     ]
    }
   ],
   "source": [
    "pdb_list = \"1R69, 1UTG, 3ICB, 256BA, 4CPV, 1CCR, 2MHR, 1MBA, 2FHA\".split(\", \")\n",
    "all_data = []\n",
    "for p in pdb_list:\n",
    "    name = p.lower()[:4]\n",
    "    tmp = read_pdb(name)\n",
    "    all_data.append(tmp)\n",
    "data = pd.concat(all_data)"
   ]
  },
  {
   "cell_type": "code",
   "execution_count": 72,
   "metadata": {},
   "outputs": [
    {
     "name": "stdout",
     "output_type": "stream",
     "text": [
      "1r69 40000\n"
     ]
    }
   ],
   "source": [
    "data = read_pdb(\"1r69\")"
   ]
  },
  {
   "cell_type": "code",
   "execution_count": null,
   "metadata": {
    "collapsed": true
   },
   "outputs": [],
   "source": []
  },
  {
   "cell_type": "code",
   "execution_count": 121,
   "metadata": {},
   "outputs": [],
   "source": [
    "last20 = data.groupby([\"Repeat\", \"Run\"]).apply(lambda x: x.sort_values([\"Steps\"], ascending=False).head(n=20).mean())\n",
    "last20 = last20.reset_index(drop=True).assign(Type=\"Last20\")"
   ]
  },
  {
   "cell_type": "code",
   "execution_count": 120,
   "metadata": {},
   "outputs": [],
   "source": [
    "maxQ = data.groupby([\"Repeat\", \"Run\"]).apply(lambda x: x.sort_values([\"Qw\"], ascending=False).head(n=1))\n",
    "maxQ = maxQ.reset_index(drop=True).assign(Type=\"maxQ\")"
   ]
  },
  {
   "cell_type": "code",
   "execution_count": 122,
   "metadata": {
    "collapsed": true
   },
   "outputs": [],
   "source": [
    "plot_data = pd.concat([last20, maxQ])"
   ]
  },
  {
   "cell_type": "code",
   "execution_count": 136,
   "metadata": {
    "collapsed": true
   },
   "outputs": [],
   "source": []
  },
  {
   "cell_type": "markdown",
   "metadata": {},
   "source": [
    "# Continue run increases the Qw a little bit. not obvious."
   ]
  },
  {
   "cell_type": "code",
   "execution_count": 150,
   "metadata": {},
   "outputs": [
    {
     "data": {
      "image/png": "[encoded data removed]",
      "text/plain": [
       "<Figure size 720x444.96 with 1 Axes>"
      ]
     },
     "metadata": {},
     "output_type": "display_data"
    }
   ],
   "source": [
    "ax = sns.scatterplot(x=\"Qw\", y=\"Repeat\",\n",
    "                     hue=\"Run\", size=\"Type\",\n",
    "                     data=plot_data)"
   ]
  },
  {
   "cell_type": "markdown",
   "metadata": {},
   "source": [
    "# Water energy is not correlated with the Qw"
   ]
  },
  {
   "cell_type": "code",
   "execution_count": 151,
   "metadata": {},
   "outputs": [
    {
     "data": {
      "image/png": "[encoded data removed]",
      "text/plain": [
       "<Figure size 1080x576 with 1 Axes>"
      ]
     },
     "metadata": {},
     "output_type": "display_data"
    }
   ],
   "source": [
    "plt.figure(figsize=(15,8))\n",
    "ax = sns.scatterplot(x=\"Qw\", y=\"Water\",\n",
    "                     hue=\"Type\",\n",
    "                     data=plot_data)\n",
    "# plt.savefig(\"/Users/weilu/Desktop/test.png\", dpi=300)"
   ]
  },
  {
   "cell_type": "code",
   "execution_count": 100,
   "metadata": {
    "scrolled": false
   },
   "outputs": [
    {
     "data": {
      "text/html": [
       "<div>\n",
       "<style scoped>\n",
       "    .dataframe tbody tr th:only-of-type {\n",
       "        vertical-align: middle;\n",
       "    }\n",
       "\n",
       "    .dataframe tbody tr th {\n",
       "        vertical-align: top;\n",
       "    }\n",
       "\n",
       "    .dataframe thead th {\n",
       "        text-align: right;\n",
       "    }\n",
       "</style>\n",
       "<table border=\"1\" class=\"dataframe\">\n",
       "  <thead>\n",
       "    <tr style=\"text-align: right;\">\n",
       "      <th></th>\n",
       "      <th>Steps</th>\n",
       "      <th>Qw</th>\n",
       "      <th>VTotal</th>\n",
       "      <th>Run</th>\n",
       "      <th>Repeat</th>\n",
       "      <th>Rg</th>\n",
       "      <th>Chain</th>\n",
       "      <th>Chi</th>\n",
       "      <th>Rama</th>\n",
       "      <th>P_AP</th>\n",
       "      <th>Water</th>\n",
       "      <th>Burial</th>\n",
       "      <th>Frag_Mem</th>\n",
       "      <th>Ebond</th>\n",
       "      <th>Epair</th>\n",
       "    </tr>\n",
       "  </thead>\n",
       "  <tbody>\n",
       "    <tr>\n",
       "      <th>max</th>\n",
       "      <td>8000000.0</td>\n",
       "      <td>0.759261</td>\n",
       "      <td>-127.122231</td>\n",
       "      <td>1.0</td>\n",
       "      <td>19.0</td>\n",
       "      <td>26.537453</td>\n",
       "      <td>168.905642</td>\n",
       "      <td>43.591733</td>\n",
       "      <td>-44.768810</td>\n",
       "      <td>0.000000</td>\n",
       "      <td>0.704776</td>\n",
       "      <td>-49.582732</td>\n",
       "      <td>-203.340215</td>\n",
       "      <td>1573.083232</td>\n",
       "      <td>28.788246</td>\n",
       "    </tr>\n",
       "    <tr>\n",
       "      <th>min</th>\n",
       "      <td>4000.0</td>\n",
       "      <td>0.084460</td>\n",
       "      <td>-706.776193</td>\n",
       "      <td>0.0</td>\n",
       "      <td>0.0</td>\n",
       "      <td>9.856601</td>\n",
       "      <td>19.219310</td>\n",
       "      <td>3.371440</td>\n",
       "      <td>-289.201613</td>\n",
       "      <td>-16.657081</td>\n",
       "      <td>-55.790590</td>\n",
       "      <td>-58.264624</td>\n",
       "      <td>-341.427608</td>\n",
       "      <td>34.996280</td>\n",
       "      <td>0.882511</td>\n",
       "    </tr>\n",
       "    <tr>\n",
       "      <th>average_of_last_ten_percent</th>\n",
       "      <td>7962000.0</td>\n",
       "      <td>0.498119</td>\n",
       "      <td>-682.207254</td>\n",
       "      <td>1.0</td>\n",
       "      <td>19.0</td>\n",
       "      <td>10.409388</td>\n",
       "      <td>29.287886</td>\n",
       "      <td>7.808046</td>\n",
       "      <td>-280.148638</td>\n",
       "      <td>-9.445058</td>\n",
       "      <td>-40.005925</td>\n",
       "      <td>-56.361248</td>\n",
       "      <td>-333.342316</td>\n",
       "      <td>50.162303</td>\n",
       "      <td>4.629262</td>\n",
       "    </tr>\n",
       "  </tbody>\n",
       "</table>\n",
       "</div>"
      ],
      "text/plain": [
       "                                 Steps        Qw      VTotal  Run  Repeat  \\\n",
       "max                          8000000.0  0.759261 -127.122231  1.0    19.0   \n",
       "min                             4000.0  0.084460 -706.776193  0.0     0.0   \n",
       "average_of_last_ten_percent  7962000.0  0.498119 -682.207254  1.0    19.0   \n",
       "\n",
       "                                    Rg       Chain        Chi        Rama  \\\n",
       "max                          26.537453  168.905642  43.591733  -44.768810   \n",
       "min                           9.856601   19.219310   3.371440 -289.201613   \n",
       "average_of_last_ten_percent  10.409388   29.287886   7.808046 -280.148638   \n",
       "\n",
       "                                  P_AP      Water     Burial    Frag_Mem  \\\n",
       "max                           0.000000   0.704776 -49.582732 -203.340215   \n",
       "min                         -16.657081 -55.790590 -58.264624 -341.427608   \n",
       "average_of_last_ten_percent  -9.445058 -40.005925 -56.361248 -333.342316   \n",
       "\n",
       "                                   Ebond      Epair  \n",
       "max                          1573.083232  28.788246  \n",
       "min                            34.996280   0.882511  \n",
       "average_of_last_ten_percent    50.162303   4.629262  "
      ]
     },
     "execution_count": 100,
     "metadata": {},
     "output_type": "execute_result"
    }
   ],
   "source": [
    "data.agg([\"max\", \"min\", average_of_last_ten_percent])"
   ]
  },
  {
   "cell_type": "code",
   "execution_count": null,
   "metadata": {
    "collapsed": true
   },
   "outputs": [],
   "source": [
    "np.mean()"
   ]
  },
  {
   "cell_type": "code",
   "execution_count": null,
   "metadata": {
    "collapsed": true
   },
   "outputs": [],
   "source": []
  }
 ],
 "metadata": {
  "kernelspec": {
   "display_name": "Python 3",
   "language": "python",
   "name": "python3"
  },
  "language_info": {
   "codemirror_mode": {
    "name": "ipython",
    "version": 3
   },
   "file_extension": ".py",
   "mimetype": "text/x-python",
   "name": "python",
   "nbconvert_exporter": "python",
   "pygments_lexer": "ipython3",
   "version": "3.6.3"
  }
 },
 "nbformat": 4,
 "nbformat_minor": 2
}
