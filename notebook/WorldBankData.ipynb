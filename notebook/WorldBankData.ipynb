{
 "cells": [
  {
   "cell_type": "code",
   "execution_count": 1,
   "metadata": {
    "collapsed": true
   },
   "outputs": [],
   "source": [
    "import numpy as np\n",
    "import pandas as pd\n",
    "import matplotlib.pyplot as plt\n",
    "import seaborn as sns\n",
    "\n",
    "sns.set(rc={'figure.figsize':(10,6.180)})\n",
    "sns.set_style(\"whitegrid\")"
   ]
  },
  {
   "cell_type": "code",
   "execution_count": 2,
   "metadata": {
    "collapsed": true
   },
   "outputs": [],
   "source": [
    "%matplotlib inline"
   ]
  },
  {
   "cell_type": "code",
   "execution_count": 126,
   "metadata": {},
   "outputs": [],
   "source": [
    "code = pd.read_csv(\"/Users/weilu/Dropbox/WorldBankData/averageGDP/Metadata_Country_API_NY.GDP.PCAP.CD_DS2_en_csv_v2_10224851.csv\").dropna(axis=1, how=\"all\")"
   ]
  },
  {
   "cell_type": "code",
   "execution_count": 132,
   "metadata": {},
   "outputs": [
    {
     "data": {
      "text/html": [
       "<div>\n",
       "<style scoped>\n",
       "    .dataframe tbody tr th:only-of-type {\n",
       "        vertical-align: middle;\n",
       "    }\n",
       "\n",
       "    .dataframe tbody tr th {\n",
       "        vertical-align: top;\n",
       "    }\n",
       "\n",
       "    .dataframe thead th {\n",
       "        text-align: right;\n",
       "    }\n",
       "</style>\n",
       "<table border=\"1\" class=\"dataframe\">\n",
       "  <thead>\n",
       "    <tr style=\"text-align: right;\">\n",
       "      <th></th>\n",
       "      <th>Country Code</th>\n",
       "      <th>Region</th>\n",
       "      <th>IncomeGroup</th>\n",
       "      <th>SpecialNotes</th>\n",
       "      <th>TableName</th>\n",
       "    </tr>\n",
       "  </thead>\n",
       "  <tbody>\n",
       "    <tr>\n",
       "      <th>5</th>\n",
       "      <td>ARB</td>\n",
       "      <td>NaN</td>\n",
       "      <td>NaN</td>\n",
       "      <td>Arab World aggregate. Arab World is composed o...</td>\n",
       "      <td>Arab World</td>\n",
       "    </tr>\n",
       "    <tr>\n",
       "      <th>34</th>\n",
       "      <td>CEB</td>\n",
       "      <td>NaN</td>\n",
       "      <td>NaN</td>\n",
       "      <td>Central Europe and the Baltics aggregate.</td>\n",
       "      <td>Central Europe and the Baltics</td>\n",
       "    </tr>\n",
       "    <tr>\n",
       "      <th>47</th>\n",
       "      <td>CSS</td>\n",
       "      <td>NaN</td>\n",
       "      <td>NaN</td>\n",
       "      <td>NaN</td>\n",
       "      <td>Caribbean small states</td>\n",
       "    </tr>\n",
       "    <tr>\n",
       "      <th>59</th>\n",
       "      <td>EAP</td>\n",
       "      <td>NaN</td>\n",
       "      <td>NaN</td>\n",
       "      <td>East Asia and Pacific regional aggregate (does...</td>\n",
       "      <td>East Asia &amp; Pacific (excluding high income)</td>\n",
       "    </tr>\n",
       "    <tr>\n",
       "      <th>60</th>\n",
       "      <td>EAR</td>\n",
       "      <td>NaN</td>\n",
       "      <td>NaN</td>\n",
       "      <td>Early-dividend countries are mostly lower-midd...</td>\n",
       "      <td>Early-demographic dividend</td>\n",
       "    </tr>\n",
       "    <tr>\n",
       "      <th>61</th>\n",
       "      <td>EAS</td>\n",
       "      <td>NaN</td>\n",
       "      <td>NaN</td>\n",
       "      <td>East Asia and Pacific regional aggregate (incl...</td>\n",
       "      <td>East Asia &amp; Pacific</td>\n",
       "    </tr>\n",
       "    <tr>\n",
       "      <th>62</th>\n",
       "      <td>ECA</td>\n",
       "      <td>NaN</td>\n",
       "      <td>NaN</td>\n",
       "      <td>Europe and Central Asia regional aggregate (do...</td>\n",
       "      <td>Europe &amp; Central Asia (excluding high income)</td>\n",
       "    </tr>\n",
       "    <tr>\n",
       "      <th>63</th>\n",
       "      <td>ECS</td>\n",
       "      <td>NaN</td>\n",
       "      <td>NaN</td>\n",
       "      <td>Europe and Central Asia regional aggregate (in...</td>\n",
       "      <td>Europe &amp; Central Asia</td>\n",
       "    </tr>\n",
       "    <tr>\n",
       "      <th>66</th>\n",
       "      <td>EMU</td>\n",
       "      <td>NaN</td>\n",
       "      <td>NaN</td>\n",
       "      <td>Euro area aggregate.</td>\n",
       "      <td>Euro area</td>\n",
       "    </tr>\n",
       "    <tr>\n",
       "      <th>71</th>\n",
       "      <td>EUU</td>\n",
       "      <td>NaN</td>\n",
       "      <td>NaN</td>\n",
       "      <td>European Union aggregate.</td>\n",
       "      <td>European Union</td>\n",
       "    </tr>\n",
       "    <tr>\n",
       "      <th>72</th>\n",
       "      <td>FCS</td>\n",
       "      <td>NaN</td>\n",
       "      <td>NaN</td>\n",
       "      <td>Fragile and conflict affected situations aggre...</td>\n",
       "      <td>Fragile and conflict affected situations</td>\n",
       "    </tr>\n",
       "    <tr>\n",
       "      <th>93</th>\n",
       "      <td>HIC</td>\n",
       "      <td>NaN</td>\n",
       "      <td>NaN</td>\n",
       "      <td>High income group aggregate. High-income econo...</td>\n",
       "      <td>High income</td>\n",
       "    </tr>\n",
       "    <tr>\n",
       "      <th>96</th>\n",
       "      <td>HPC</td>\n",
       "      <td>NaN</td>\n",
       "      <td>NaN</td>\n",
       "      <td>Heavily indebted poor countries aggregate.</td>\n",
       "      <td>Heavily indebted poor countries (HIPC)</td>\n",
       "    </tr>\n",
       "    <tr>\n",
       "      <th>100</th>\n",
       "      <td>IBD</td>\n",
       "      <td>NaN</td>\n",
       "      <td>NaN</td>\n",
       "      <td>IBRD only group aggregate.</td>\n",
       "      <td>IBRD only</td>\n",
       "    </tr>\n",
       "    <tr>\n",
       "      <th>101</th>\n",
       "      <td>IBT</td>\n",
       "      <td>NaN</td>\n",
       "      <td>NaN</td>\n",
       "      <td>IDA and IBRD total group aggregate (includes I...</td>\n",
       "      <td>IDA &amp; IBRD total</td>\n",
       "    </tr>\n",
       "    <tr>\n",
       "      <th>102</th>\n",
       "      <td>IDA</td>\n",
       "      <td>NaN</td>\n",
       "      <td>NaN</td>\n",
       "      <td>IDA total group aggregate (includes IDA only a...</td>\n",
       "      <td>IDA total</td>\n",
       "    </tr>\n",
       "    <tr>\n",
       "      <th>103</th>\n",
       "      <td>IDB</td>\n",
       "      <td>NaN</td>\n",
       "      <td>NaN</td>\n",
       "      <td>IDA blend group aggregate.</td>\n",
       "      <td>IDA blend</td>\n",
       "    </tr>\n",
       "    <tr>\n",
       "      <th>105</th>\n",
       "      <td>IDX</td>\n",
       "      <td>NaN</td>\n",
       "      <td>NaN</td>\n",
       "      <td>IDA only group aggregate.</td>\n",
       "      <td>IDA only</td>\n",
       "    </tr>\n",
       "    <tr>\n",
       "      <th>125</th>\n",
       "      <td>LAC</td>\n",
       "      <td>NaN</td>\n",
       "      <td>NaN</td>\n",
       "      <td>NaN</td>\n",
       "      <td>Latin America &amp; Caribbean (excluding high income)</td>\n",
       "    </tr>\n",
       "    <tr>\n",
       "      <th>131</th>\n",
       "      <td>LCN</td>\n",
       "      <td>NaN</td>\n",
       "      <td>NaN</td>\n",
       "      <td>NaN</td>\n",
       "      <td>Latin America &amp; Caribbean</td>\n",
       "    </tr>\n",
       "    <tr>\n",
       "      <th>132</th>\n",
       "      <td>LDC</td>\n",
       "      <td>NaN</td>\n",
       "      <td>NaN</td>\n",
       "      <td>NaN</td>\n",
       "      <td>Least developed countries: UN classification</td>\n",
       "    </tr>\n",
       "    <tr>\n",
       "      <th>133</th>\n",
       "      <td>LIC</td>\n",
       "      <td>NaN</td>\n",
       "      <td>NaN</td>\n",
       "      <td>NaN</td>\n",
       "      <td>Low income</td>\n",
       "    </tr>\n",
       "    <tr>\n",
       "      <th>136</th>\n",
       "      <td>LMC</td>\n",
       "      <td>NaN</td>\n",
       "      <td>NaN</td>\n",
       "      <td>NaN</td>\n",
       "      <td>Lower middle income</td>\n",
       "    </tr>\n",
       "    <tr>\n",
       "      <th>137</th>\n",
       "      <td>LMY</td>\n",
       "      <td>NaN</td>\n",
       "      <td>NaN</td>\n",
       "      <td>NaN</td>\n",
       "      <td>Low &amp; middle income</td>\n",
       "    </tr>\n",
       "    <tr>\n",
       "      <th>139</th>\n",
       "      <td>LTE</td>\n",
       "      <td>NaN</td>\n",
       "      <td>NaN</td>\n",
       "      <td>NaN</td>\n",
       "      <td>Late-demographic dividend</td>\n",
       "    </tr>\n",
       "    <tr>\n",
       "      <th>150</th>\n",
       "      <td>MEA</td>\n",
       "      <td>NaN</td>\n",
       "      <td>NaN</td>\n",
       "      <td>Middle East and North Africa regional aggregat...</td>\n",
       "      <td>Middle East &amp; North Africa</td>\n",
       "    </tr>\n",
       "    <tr>\n",
       "      <th>153</th>\n",
       "      <td>MIC</td>\n",
       "      <td>NaN</td>\n",
       "      <td>NaN</td>\n",
       "      <td>Middle income group aggregate. Middle-income e...</td>\n",
       "      <td>Middle income</td>\n",
       "    </tr>\n",
       "    <tr>\n",
       "      <th>158</th>\n",
       "      <td>MNA</td>\n",
       "      <td>NaN</td>\n",
       "      <td>NaN</td>\n",
       "      <td>NaN</td>\n",
       "      <td>Middle East &amp; North Africa (excluding high inc...</td>\n",
       "    </tr>\n",
       "    <tr>\n",
       "      <th>167</th>\n",
       "      <td>NAC</td>\n",
       "      <td>NaN</td>\n",
       "      <td>NaN</td>\n",
       "      <td>North America regional aggregate. There are no...</td>\n",
       "      <td>North America</td>\n",
       "    </tr>\n",
       "    <tr>\n",
       "      <th>178</th>\n",
       "      <td>OED</td>\n",
       "      <td>NaN</td>\n",
       "      <td>NaN</td>\n",
       "      <td>Aggregations include Lithuania.</td>\n",
       "      <td>OECD members</td>\n",
       "    </tr>\n",
       "    <tr>\n",
       "      <th>180</th>\n",
       "      <td>OSS</td>\n",
       "      <td>NaN</td>\n",
       "      <td>NaN</td>\n",
       "      <td>NaN</td>\n",
       "      <td>Other small states</td>\n",
       "    </tr>\n",
       "    <tr>\n",
       "      <th>188</th>\n",
       "      <td>PRE</td>\n",
       "      <td>NaN</td>\n",
       "      <td>NaN</td>\n",
       "      <td>Pre-dividend countries are mostly low-income c...</td>\n",
       "      <td>Pre-demographic dividend</td>\n",
       "    </tr>\n",
       "    <tr>\n",
       "      <th>194</th>\n",
       "      <td>PSS</td>\n",
       "      <td>NaN</td>\n",
       "      <td>NaN</td>\n",
       "      <td>Pacific island small states aggregate.</td>\n",
       "      <td>Pacific island small states</td>\n",
       "    </tr>\n",
       "    <tr>\n",
       "      <th>195</th>\n",
       "      <td>PST</td>\n",
       "      <td>NaN</td>\n",
       "      <td>NaN</td>\n",
       "      <td>Post-dividend countries are mostly high-income...</td>\n",
       "      <td>Post-demographic dividend</td>\n",
       "    </tr>\n",
       "    <tr>\n",
       "      <th>201</th>\n",
       "      <td>SAS</td>\n",
       "      <td>NaN</td>\n",
       "      <td>NaN</td>\n",
       "      <td>NaN</td>\n",
       "      <td>South Asia</td>\n",
       "    </tr>\n",
       "    <tr>\n",
       "      <th>212</th>\n",
       "      <td>SSA</td>\n",
       "      <td>NaN</td>\n",
       "      <td>NaN</td>\n",
       "      <td>Sub-Saharan Africa regional aggregate (does no...</td>\n",
       "      <td>Sub-Saharan Africa (excluding high income)</td>\n",
       "    </tr>\n",
       "    <tr>\n",
       "      <th>214</th>\n",
       "      <td>SSF</td>\n",
       "      <td>NaN</td>\n",
       "      <td>NaN</td>\n",
       "      <td>Sub-Saharan Africa regional aggregate (include...</td>\n",
       "      <td>Sub-Saharan Africa</td>\n",
       "    </tr>\n",
       "    <tr>\n",
       "      <th>215</th>\n",
       "      <td>SST</td>\n",
       "      <td>NaN</td>\n",
       "      <td>NaN</td>\n",
       "      <td>Small states aggregate. Includes 41 members of...</td>\n",
       "      <td>Small states</td>\n",
       "    </tr>\n",
       "    <tr>\n",
       "      <th>227</th>\n",
       "      <td>TEA</td>\n",
       "      <td>NaN</td>\n",
       "      <td>NaN</td>\n",
       "      <td>East Asia &amp; Pacific (IDA &amp; IBRD countries) agg...</td>\n",
       "      <td>East Asia &amp; Pacific (IDA &amp; IBRD)</td>\n",
       "    </tr>\n",
       "    <tr>\n",
       "      <th>228</th>\n",
       "      <td>TEC</td>\n",
       "      <td>NaN</td>\n",
       "      <td>NaN</td>\n",
       "      <td>Europe &amp; Central Asia (IDA &amp; IBRD countries) a...</td>\n",
       "      <td>Europe &amp; Central Asia (IDA &amp; IBRD)</td>\n",
       "    </tr>\n",
       "    <tr>\n",
       "      <th>233</th>\n",
       "      <td>TLA</td>\n",
       "      <td>NaN</td>\n",
       "      <td>NaN</td>\n",
       "      <td>Latin America &amp; the Caribbean (IDA &amp; IBRD coun...</td>\n",
       "      <td>Latin America &amp; Caribbean (IDA &amp; IBRD)</td>\n",
       "    </tr>\n",
       "    <tr>\n",
       "      <th>235</th>\n",
       "      <td>TMN</td>\n",
       "      <td>NaN</td>\n",
       "      <td>NaN</td>\n",
       "      <td>Middle East &amp; North Africa (IDA &amp; IBRD countri...</td>\n",
       "      <td>Middle East &amp; North Africa (IDA &amp; IBRD)</td>\n",
       "    </tr>\n",
       "    <tr>\n",
       "      <th>237</th>\n",
       "      <td>TSA</td>\n",
       "      <td>NaN</td>\n",
       "      <td>NaN</td>\n",
       "      <td>South Asia (IDA &amp; IBRD countries) aggregate.</td>\n",
       "      <td>South Asia (IDA &amp; IBRD)</td>\n",
       "    </tr>\n",
       "    <tr>\n",
       "      <th>238</th>\n",
       "      <td>TSS</td>\n",
       "      <td>NaN</td>\n",
       "      <td>NaN</td>\n",
       "      <td>Sub-Saharan Africa (IDA &amp; IBRD countries) aggr...</td>\n",
       "      <td>Sub-Saharan Africa (IDA &amp; IBRD)</td>\n",
       "    </tr>\n",
       "    <tr>\n",
       "      <th>246</th>\n",
       "      <td>UMC</td>\n",
       "      <td>NaN</td>\n",
       "      <td>NaN</td>\n",
       "      <td>Upper middle income group aggregate. Upper-mid...</td>\n",
       "      <td>Upper middle income</td>\n",
       "    </tr>\n",
       "    <tr>\n",
       "      <th>256</th>\n",
       "      <td>WLD</td>\n",
       "      <td>NaN</td>\n",
       "      <td>NaN</td>\n",
       "      <td>World aggregate.</td>\n",
       "      <td>World</td>\n",
       "    </tr>\n",
       "  </tbody>\n",
       "</table>\n",
       "</div>"
      ],
      "text/plain": [
       "    Country Code Region IncomeGroup  \\\n",
       "5            ARB    NaN         NaN   \n",
       "34           CEB    NaN         NaN   \n",
       "47           CSS    NaN         NaN   \n",
       "59           EAP    NaN         NaN   \n",
       "60           EAR    NaN         NaN   \n",
       "61           EAS    NaN         NaN   \n",
       "62           ECA    NaN         NaN   \n",
       "63           ECS    NaN         NaN   \n",
       "66           EMU    NaN         NaN   \n",
       "71           EUU    NaN         NaN   \n",
       "72           FCS    NaN         NaN   \n",
       "93           HIC    NaN         NaN   \n",
       "96           HPC    NaN         NaN   \n",
       "100          IBD    NaN         NaN   \n",
       "101          IBT    NaN         NaN   \n",
       "102          IDA    NaN         NaN   \n",
       "103          IDB    NaN         NaN   \n",
       "105          IDX    NaN         NaN   \n",
       "125          LAC    NaN         NaN   \n",
       "131          LCN    NaN         NaN   \n",
       "132          LDC    NaN         NaN   \n",
       "133          LIC    NaN         NaN   \n",
       "136          LMC    NaN         NaN   \n",
       "137          LMY    NaN         NaN   \n",
       "139          LTE    NaN         NaN   \n",
       "150          MEA    NaN         NaN   \n",
       "153          MIC    NaN         NaN   \n",
       "158          MNA    NaN         NaN   \n",
       "167          NAC    NaN         NaN   \n",
       "178          OED    NaN         NaN   \n",
       "180          OSS    NaN         NaN   \n",
       "188          PRE    NaN         NaN   \n",
       "194          PSS    NaN         NaN   \n",
       "195          PST    NaN         NaN   \n",
       "201          SAS    NaN         NaN   \n",
       "212          SSA    NaN         NaN   \n",
       "214          SSF    NaN         NaN   \n",
       "215          SST    NaN         NaN   \n",
       "227          TEA    NaN         NaN   \n",
       "228          TEC    NaN         NaN   \n",
       "233          TLA    NaN         NaN   \n",
       "235          TMN    NaN         NaN   \n",
       "237          TSA    NaN         NaN   \n",
       "238          TSS    NaN         NaN   \n",
       "246          UMC    NaN         NaN   \n",
       "256          WLD    NaN         NaN   \n",
       "\n",
       "                                          SpecialNotes  \\\n",
       "5    Arab World aggregate. Arab World is composed o...   \n",
       "34           Central Europe and the Baltics aggregate.   \n",
       "47                                                 NaN   \n",
       "59   East Asia and Pacific regional aggregate (does...   \n",
       "60   Early-dividend countries are mostly lower-midd...   \n",
       "61   East Asia and Pacific regional aggregate (incl...   \n",
       "62   Europe and Central Asia regional aggregate (do...   \n",
       "63   Europe and Central Asia regional aggregate (in...   \n",
       "66                                Euro area aggregate.   \n",
       "71                           European Union aggregate.   \n",
       "72   Fragile and conflict affected situations aggre...   \n",
       "93   High income group aggregate. High-income econo...   \n",
       "96          Heavily indebted poor countries aggregate.   \n",
       "100                         IBRD only group aggregate.   \n",
       "101  IDA and IBRD total group aggregate (includes I...   \n",
       "102  IDA total group aggregate (includes IDA only a...   \n",
       "103                         IDA blend group aggregate.   \n",
       "105                          IDA only group aggregate.   \n",
       "125                                                NaN   \n",
       "131                                                NaN   \n",
       "132                                                NaN   \n",
       "133                                                NaN   \n",
       "136                                                NaN   \n",
       "137                                                NaN   \n",
       "139                                                NaN   \n",
       "150  Middle East and North Africa regional aggregat...   \n",
       "153  Middle income group aggregate. Middle-income e...   \n",
       "158                                                NaN   \n",
       "167  North America regional aggregate. There are no...   \n",
       "178                    Aggregations include Lithuania.   \n",
       "180                                                NaN   \n",
       "188  Pre-dividend countries are mostly low-income c...   \n",
       "194             Pacific island small states aggregate.   \n",
       "195  Post-dividend countries are mostly high-income...   \n",
       "201                                                NaN   \n",
       "212  Sub-Saharan Africa regional aggregate (does no...   \n",
       "214  Sub-Saharan Africa regional aggregate (include...   \n",
       "215  Small states aggregate. Includes 41 members of...   \n",
       "227  East Asia & Pacific (IDA & IBRD countries) agg...   \n",
       "228  Europe & Central Asia (IDA & IBRD countries) a...   \n",
       "233  Latin America & the Caribbean (IDA & IBRD coun...   \n",
       "235  Middle East & North Africa (IDA & IBRD countri...   \n",
       "237       South Asia (IDA & IBRD countries) aggregate.   \n",
       "238  Sub-Saharan Africa (IDA & IBRD countries) aggr...   \n",
       "246  Upper middle income group aggregate. Upper-mid...   \n",
       "256                                   World aggregate.   \n",
       "\n",
       "                                             TableName  \n",
       "5                                           Arab World  \n",
       "34                      Central Europe and the Baltics  \n",
       "47                              Caribbean small states  \n",
       "59         East Asia & Pacific (excluding high income)  \n",
       "60                          Early-demographic dividend  \n",
       "61                                 East Asia & Pacific  \n",
       "62       Europe & Central Asia (excluding high income)  \n",
       "63                               Europe & Central Asia  \n",
       "66                                           Euro area  \n",
       "71                                      European Union  \n",
       "72            Fragile and conflict affected situations  \n",
       "93                                         High income  \n",
       "96              Heavily indebted poor countries (HIPC)  \n",
       "100                                          IBRD only  \n",
       "101                                   IDA & IBRD total  \n",
       "102                                          IDA total  \n",
       "103                                          IDA blend  \n",
       "105                                           IDA only  \n",
       "125  Latin America & Caribbean (excluding high income)  \n",
       "131                          Latin America & Caribbean  \n",
       "132       Least developed countries: UN classification  \n",
       "133                                         Low income  \n",
       "136                                Lower middle income  \n",
       "137                                Low & middle income  \n",
       "139                          Late-demographic dividend  \n",
       "150                         Middle East & North Africa  \n",
       "153                                      Middle income  \n",
       "158  Middle East & North Africa (excluding high inc...  \n",
       "167                                      North America  \n",
       "178                                       OECD members  \n",
       "180                                 Other small states  \n",
       "188                           Pre-demographic dividend  \n",
       "194                        Pacific island small states  \n",
       "195                          Post-demographic dividend  \n",
       "201                                         South Asia  \n",
       "212         Sub-Saharan Africa (excluding high income)  \n",
       "214                                 Sub-Saharan Africa  \n",
       "215                                       Small states  \n",
       "227                   East Asia & Pacific (IDA & IBRD)  \n",
       "228                 Europe & Central Asia (IDA & IBRD)  \n",
       "233             Latin America & Caribbean (IDA & IBRD)  \n",
       "235            Middle East & North Africa (IDA & IBRD)  \n",
       "237                            South Asia (IDA & IBRD)  \n",
       "238                    Sub-Saharan Africa (IDA & IBRD)  \n",
       "246                                Upper middle income  \n",
       "256                                              World  "
      ]
     },
     "execution_count": 132,
     "metadata": {},
     "output_type": "execute_result"
    }
   ],
   "source": [
    "exclude = code.query(\"Region != Region\")\n",
    "exclude"
   ]
  },
  {
   "cell_type": "code",
   "execution_count": 136,
   "metadata": {},
   "outputs": [
    {
     "data": {
      "text/plain": [
       "True"
      ]
     },
     "execution_count": 136,
     "metadata": {},
     "output_type": "execute_result"
    }
   ],
   "source": [
    "\"WLD\" in exclude[\"Country Code\"].values"
   ]
  },
  {
   "cell_type": "code",
   "execution_count": 109,
   "metadata": {},
   "outputs": [],
   "source": [
    "averageGDP = pd.read_csv(\"/Users/weilu/Dropbox/WorldBankData/averageGDP/API_NY.GDP.PCAP.CD_DS2_en_csv_v2_10224851.csv\", skiprows=4)\n",
    "\n",
    "averageGDP = averageGDP.dropna(axis=1, how=\"all\")\n",
    "averageGDP.columns = averageGDP.columns.str.replace(\" \", \"_\")\n",
    "\n"
   ]
  },
  {
   "cell_type": "code",
   "execution_count": 112,
   "metadata": {},
   "outputs": [
    {
     "name": "stderr",
     "output_type": "stream",
     "text": [
      "/Users/weilu/anaconda3/lib/python3.6/site-packages/ipykernel_launcher.py:1: RuntimeWarning: invalid value encountered in greater\n",
      "  \"\"\"Entry point for launching an IPython kernel.\n"
     ]
    }
   ],
   "source": [
    "t = (averageGDP.dropna(axis=1, how=\"all\")[[str(i) for i in range(1960, 2018)]].values > 0).sum(axis=0)"
   ]
  },
  {
   "cell_type": "code",
   "execution_count": 114,
   "metadata": {},
   "outputs": [
    {
     "data": {
      "text/plain": [
       "<matplotlib.colorbar.Colorbar at 0x1a25302a90>"
      ]
     },
     "execution_count": 114,
     "metadata": {},
     "output_type": "execute_result"
    },
    {
     "data": {
      "image/png": "[encoded data removed]",
      "text/plain": [
       "<Figure size 1440x720 with 2 Axes>"
      ]
     },
     "metadata": {},
     "output_type": "display_data"
    }
   ],
   "source": [
    "m = averageGDP.dropna(axis=1, how=\"all\")[[str(i) for i in range(1960, 2018)]]\n",
    "plt.figure(figsize=(20,10))\n",
    "plt.imshow(m.T)\n",
    "plt.colorbar()"
   ]
  },
  {
   "cell_type": "code",
   "execution_count": 115,
   "metadata": {},
   "outputs": [],
   "source": [
    "population = pd.read_csv(\"/Users/weilu/Dropbox/WorldBankData/Population/API_SP.POP.TOTL_DS2_en_csv_v2_10203548.csv\", skiprows=4).dropna(axis=1, how=\"all\")\n",
    "population.columns = population.columns.str.replace(\" \", \"_\")\n"
   ]
  },
  {
   "cell_type": "code",
   "execution_count": 116,
   "metadata": {},
   "outputs": [
    {
     "data": {
      "text/plain": [
       "<matplotlib.colorbar.Colorbar at 0x1a24b53240>"
      ]
     },
     "execution_count": 116,
     "metadata": {},
     "output_type": "execute_result"
    },
    {
     "data": {
      "image/png": "[encoded data removed]",
      "text/plain": [
       "<Figure size 1440x720 with 2 Axes>"
      ]
     },
     "metadata": {},
     "output_type": "display_data"
    }
   ],
   "source": [
    "m = averageGDP.dropna(axis=1, how=\"all\")[[str(i) for i in range(1960, 2018)]]\n",
    "plt.figure(figsize=(20,10))\n",
    "plt.imshow(m.T)\n",
    "plt.colorbar()"
   ]
  },
  {
   "cell_type": "code",
   "execution_count": 117,
   "metadata": {},
   "outputs": [
    {
     "data": {
      "text/plain": [
       "264"
      ]
     },
     "execution_count": 117,
     "metadata": {},
     "output_type": "execute_result"
    }
   ],
   "source": [
    "len(averageGDP)"
   ]
  },
  {
   "cell_type": "code",
   "execution_count": 118,
   "metadata": {},
   "outputs": [
    {
     "data": {
      "text/plain": [
       "264"
      ]
     },
     "execution_count": 118,
     "metadata": {},
     "output_type": "execute_result"
    }
   ],
   "source": [
    "len(population)"
   ]
  },
  {
   "cell_type": "code",
   "execution_count": 119,
   "metadata": {},
   "outputs": [
    {
     "data": {
      "text/plain": [
       "59659.887694344005"
      ]
     },
     "execution_count": 119,
     "metadata": {},
     "output_type": "execute_result"
    }
   ],
   "source": [
    "china"
   ]
  },
  {
   "cell_type": "code",
   "execution_count": 172,
   "metadata": {},
   "outputs": [
    {
     "name": "stdout",
     "output_type": "stream",
     "text": [
      "Argentina 14401.974854608101 44.271041\n",
      "Australia 53799.938089959905 24.598933\n",
      "Belgium 43323.8073364711 11.372068\n",
      "Brazil 9821.407686410079 209.288278\n",
      "Canada 45032.1199081697 36.708083\n",
      "Chile 15346.4496997595 18.054726\n",
      "China 8826.99409574835 1386.395\n",
      "Czech Republic 20368.1385576071 10.591323\n",
      "Germany 44469.90906072441 82.695\n",
      "Spain 28156.8158362352 46.572028\n",
      "France 38476.6586361575 67.118648\n",
      "United Kingdom 39720.4434267836 66.022273\n",
      "Greece 18613.4238733817 10.760421\n",
      "Italy 31952.9759206841 60.551416\n",
      "Japan 38428.0973168279 126.785797\n",
      "Kazakhstan 8837.45730230661 18.037646\n",
      "Korea, Rep. 29742.8388613471 51.466201\n",
      "Mexico 8902.83082294794 129.163276\n",
      "Malaysia 9944.904300185759 31.624264\n",
      "Netherlands 48223.1554941825 17.132854\n",
      "Poland 13811.664243680802 37.975841\n",
      "Portugal 21136.2972102005 10.293718\n",
      "Romania 10813.7166001986 19.586539\n",
      "Russian Federation 10743.0965915463 144.495044\n",
      "Saudi Arabia 20760.9060117662 32.938213\n",
      "Sweden 53442.0082808022 10.067744\n",
      "Turkey 10540.617998709 80.74502\n",
      "United States 59531.661964344006 325.719178\n",
      "[2017, 0.5592285966041578, 0.7473825288770098, 7368408320.0, 8826.99409574835]\n",
      "1225.193308\n"
     ]
    }
   ],
   "source": [
    "higher_than_china_pop = 0\n",
    "for year in range(2017, 2018):\n",
    "    china = averageGDP.query(f\"Country_Name == 'China'\")[str(year)].values[0]\n",
    "    p_china = population.query(f\"Country_Name == 'China'\")[str(year)].values[0]\n",
    "    p_below_china = 0.0\n",
    "    total_p_this_year = 0.0\n",
    "    for i in range(len(averageGDP)):\n",
    "        c = averageGDP.iloc[i]\n",
    "#         print(i, c)\n",
    "        country = c[\"Country_Name\"]\n",
    "        this_country_code = c[\"Country_Code\"]\n",
    "        gdp_per_capita = averageGDP.iloc[i][str(year)]\n",
    "        p = population.query(f'Country_Name == \"{country}\"')\n",
    "        pop = p[str(year)].values[0]\n",
    "        if this_country_code in exclude[\"Country Code\"].values:\n",
    "            pass\n",
    "        elif np.isnan(gdp_per_capita):\n",
    "#             print(\"gdp_per_capita Nan\")\n",
    "            pass\n",
    "        elif np.isnan(pop):\n",
    "#             print(\"population Nan\")\n",
    "            pass\n",
    "        else:\n",
    "            if gdp_per_capita < china:\n",
    "                p_below_china += pop\n",
    "            else:\n",
    "                if pop > 1e7: # 1 millions in population\n",
    "                    print(country, gdp_per_capita, pop/1e6)\n",
    "            if gdp_per_capita > china and gdp_per_capita > 10814:\n",
    "#                 print(country)\n",
    "                higher_than_china_pop += pop\n",
    "            total_p_this_year += pop \n",
    "#         if not np.isnan(pop):\n",
    "#             total_p_this_year += pop \n",
    "#         else:\n",
    "#             print(\"Hi\", country)\n",
    "    #     print(country, gdp_per_capita, pop)\n",
    "    below_percent = p_below_china/total_p_this_year\n",
    "    include_china = (p_below_china + p_china)/total_p_this_year\n",
    "    tmp = [year, below_percent, include_china, total_p_this_year, china]\n",
    "    print(tmp)\n",
    "print(higher_than_china_pop/1e6)"
   ]
  },
  {
   "cell_type": "code",
   "execution_count": 166,
   "metadata": {},
   "outputs": [
    {
     "name": "stdout",
     "output_type": "stream",
     "text": [
      "Andorra\n",
      "United Arab Emirates\n",
      "Argentina 14401.974854608101 44.271041\n",
      "Argentina\n",
      "Antigua and Barbuda\n",
      "Australia 53799.938089959905 24.598933\n",
      "Australia\n",
      "Austria\n",
      "Belgium 43323.8073364711 11.372068\n",
      "Belgium\n",
      "Bahrain\n",
      "Bahamas, The\n",
      "Brazil 9821.407686410079 209.288278\n",
      "Brazil\n",
      "Barbados\n",
      "Brunei Darussalam\n",
      "Canada 45032.1199081697 36.708083\n",
      "Canada\n",
      "Switzerland\n",
      "Chile 15346.4496997595 18.054726\n",
      "Chile\n",
      "China 8826.99409574835 1386.395\n",
      "Costa Rica\n",
      "Cyprus\n",
      "Czech Republic 20368.1385576071 10.591323\n",
      "Czech Republic\n",
      "Germany 44469.90906072441 82.695\n",
      "Germany\n",
      "Denmark\n",
      "Spain 28156.8158362352 46.572028\n",
      "Spain\n",
      "Estonia\n",
      "Finland\n",
      "France 38476.6586361575 67.118648\n",
      "France\n",
      "United Kingdom 39720.4434267836 66.022273\n",
      "United Kingdom\n",
      "Equatorial Guinea\n",
      "Greece 18613.4238733817 10.760421\n",
      "Greece\n",
      "Grenada\n",
      "Hong Kong SAR, China\n",
      "Croatia\n",
      "Hungary\n",
      "Ireland\n",
      "Iceland\n",
      "Israel\n",
      "Italy 31952.9759206841 60.551416\n",
      "Italy\n",
      "Japan 38428.0973168279 126.785797\n",
      "Japan\n",
      "Kazakhstan 8837.45730230661 18.037646\n",
      "Kazakhstan\n",
      "St. Kitts and Nevis\n",
      "Korea, Rep. 29742.8388613471 51.466201\n",
      "Korea, Rep.\n",
      "Kuwait\n",
      "St. Lucia\n",
      "Lithuania\n",
      "Luxembourg\n",
      "Latvia\n",
      "Macao SAR, China\n",
      "Maldives\n",
      "Mexico 8902.83082294794 129.163276\n",
      "Mexico\n",
      "Malta\n",
      "Mauritius\n",
      "Malaysia 9944.904300185759 31.624264\n",
      "Malaysia\n",
      "Netherlands 48223.1554941825 17.132854\n",
      "Netherlands\n",
      "Norway\n",
      "New Zealand\n",
      "Oman\n",
      "Panama\n",
      "Palau\n",
      "Poland 13811.664243680802 37.975841\n",
      "Poland\n",
      "Portugal 21136.2972102005 10.293718\n",
      "Portugal\n",
      "Qatar\n",
      "Romania 10813.7166001986 19.586539\n",
      "Romania\n",
      "Russian Federation 10743.0965915463 144.495044\n",
      "Russian Federation\n",
      "Saudi Arabia 20760.9060117662 32.938213\n",
      "Saudi Arabia\n",
      "Singapore\n",
      "San Marino\n",
      "Slovak Republic\n",
      "Slovenia\n",
      "Sweden 53442.0082808022 10.067744\n",
      "Sweden\n",
      "Seychelles\n",
      "Trinidad and Tobago\n",
      "Turkey 10540.617998709 80.74502\n",
      "Turkey\n",
      "Uruguay\n",
      "United States 59531.661964344006 325.719178\n",
      "United States\n",
      "[2017, 0.5592285966041578, 0.7473825288770098, 7368408320.0]\n",
      "3111.030573\n"
     ]
    }
   ],
   "source": [
    "data = []\n",
    "higher_than_china_pop = 0.0\n",
    "for year in range(2017, 2018):\n",
    "    china = averageGDP.query(f\"Country_Name == 'China'\")[str(year)].values[0]\n",
    "    p_china = population.query(f\"Country_Name == 'China'\")[str(year)].values[0]\n",
    "    p_below_china = 0.0\n",
    "    total_p_this_year = 0.0\n",
    "    for i in range(len(averageGDP)):\n",
    "        c = averageGDP.iloc[i]\n",
    "#         print(i, c)\n",
    "        country = c[\"Country_Name\"]\n",
    "        this_country_code = c[\"Country_Code\"]\n",
    "        gdp_per_capita = averageGDP.iloc[i][str(year)]\n",
    "        p = population.query(f'Country_Name == \"{country}\"')\n",
    "        pop = p[str(year)].values[0]\n",
    "        if this_country_code in exclude[\"Country Code\"].values:\n",
    "            pass\n",
    "        elif np.isnan(gdp_per_capita):\n",
    "#             print(\"gdp_per_capita Nan\")\n",
    "            pass\n",
    "        elif np.isnan(pop):\n",
    "#             print(\"population Nan\")\n",
    "            pass\n",
    "        else:\n",
    "            if gdp_per_capita < china:\n",
    "                p_below_china += pop\n",
    "            else:\n",
    "                if pop > 1e7: # 1 millions in population\n",
    "                    print(country, gdp_per_capita, pop/1e6)\n",
    "                    higher_than_china_pop += pop\n",
    "            if gdp_per_capita > china:\n",
    "                print(country)\n",
    "            total_p_this_year += pop \n",
    "#         if not np.isnan(pop):\n",
    "#             total_p_this_year += pop \n",
    "#         else:\n",
    "#             print(\"Hi\", country)\n",
    "    #     print(country, gdp_per_capita, pop)\n",
    "    below_percent = p_below_china/total_p_this_year\n",
    "    include_china = (p_below_china + p_china)/total_p_this_year\n",
    "    tmp = [year, below_percent, include_china, total_p_this_year]\n",
    "    data.append(tmp)\n",
    "    print(tmp)\n",
    "print(higher_than_china_pop/1e6)"
   ]
  },
  {
   "cell_type": "code",
   "execution_count": null,
   "metadata": {
    "collapsed": true
   },
   "outputs": [],
   "source": []
  },
  {
   "cell_type": "code",
   "execution_count": 141,
   "metadata": {},
   "outputs": [
    {
     "name": "stdout",
     "output_type": "stream",
     "text": [
      "[1960, 0.24938035057899183, 0.5358748022055203, 2328387151.0, 89.52054151035841]\n",
      "[1961, 0.0179179114868462, 0.2980966865142763, 2356816643.0, 75.8058379259965]\n",
      "[1962, 0.014679121828633852, 0.289965719295237, 2418461364.0, 70.90941166710071]\n",
      "[1963, 0.010824993775869724, 0.2869949724180933, 2470706640.0, 74.3136434486145]\n",
      "[1964, 0.016724221594707808, 0.29350229488756685, 2523158687.0, 85.4985551596313]\n",
      "[1965, 0.011347243546853614, 0.28516617403118016, 2611890269.0, 98.48677775222059]\n",
      "[1966, 0.20160112086978632, 0.47696388522275335, 2670658837.0, 104.324566181147]\n",
      "[1967, 0.23285661731946677, 0.4985078683798731, 2840378116.0, 96.5895319417819]\n",
      "[1968, 0.049295281604295776, 0.3148444553403496, 2916634946.0, 91.4727183066072]\n",
      "[1969, 0.049445233935341094, 0.31632654815563016, 2982692896.0, 100.12990326618]\n",
      "[1970, 0.22809886061085063, 0.48938847006963726, 3131831387.0, 113.16299155468599]\n",
      "[1971, 0.2270301684936131, 0.4897358070553263, 3201701359.0, 118.65457778534599]\n",
      "[1972, 0.24964394138287124, 0.5132342121185014, 3270340736.0, 131.883561243868]\n",
      "[1973, 0.2727495259925619, 0.5369614333826652, 3338002472.0, 157.090374298657]\n",
      "[1974, 0.03367317364291264, 0.2979806488806319, 3406449247.0, 160.140093727686]\n",
      "[1975, 0.2103825204181777, 0.47473495737700583, 3466565357.0, 178.34181960809602]\n",
      "[1976, 0.21261356487914246, 0.47612514108735426, 3531856222.0, 165.40554037241998]\n",
      "[1977, 0.21369379367733582, 0.4760221618379846, 3596465783.0, 185.42283291367298]\n",
      "[1978, 0.005173458956161883, 0.26629928237484585, 3661702192.0, 156.396388520044]\n",
      "[1979, 0.008990139549242666, 0.2688482304103945, 3728977600.0, 183.983152215978]\n",
      "[1980, 0.007366526087289222, 0.26321215539656695, 3835261922.0, 194.80472218683602]\n",
      "[1981, 0.010195593222689838, 0.2622568563248505, 3943029515.0, 197.07147449910198]\n",
      "[1982, 0.012146975515958322, 0.26402839484115287, 4004384296.0, 203.33491950346402]\n",
      "[1983, 0.045077405807081396, 0.2959409379575094, 4079150091.0, 225.431928890812]\n",
      "[1984, 0.046477176194951446, 0.29573576552717945, 4159635994.0, 250.71396904698798]\n",
      "[1985, 0.2577999878338535, 0.5024141339524515, 4296726157.0, 294.45884850496003]\n",
      "[1986, 0.07805899098770697, 0.3215582169715526, 4381081688.0, 281.928120911563]\n",
      "[1987, 0.05250060117990328, 0.291226659279981, 4540916097.0, 251.811956961329]\n",
      "[1988, 0.07990834217947881, 0.31678875498509945, 4650574469.0, 283.537695240524]\n",
      "[1989, 0.09599276217501805, 0.32492623077138166, 4886354131.0, 310.8819124049]\n",
      "[1990, 0.07763547171898547, 0.29955258676177876, 5115355793.0, 317.884673040928]\n",
      "[1991, 0.271560818562033, 0.4953206919863782, 5142923896.0, 333.142145400184]\n",
      "[1992, 0.28860019008534427, 0.5114936123873188, 5226578640.0, 366.46069230207297]\n",
      "[1993, 0.29179667762441597, 0.510966442943344, 5376836528.0, 377.38983947995797]\n",
      "[1994, 0.3298364711309829, 0.5479432078053159, 5464457532.0, 473.492278718042]\n",
      "[1995, 0.33742742268617254, 0.5536443445765664, 5572436188.0, 609.6566792024839]\n",
      "[1996, 0.34066383560973623, 0.556060313735455, 5652599386.0, 709.413755085039]\n",
      "[1997, 0.35110478713657556, 0.5656783748217907, 5732648707.0, 781.744164341053]\n",
      "[1998, 0.38899126393559, 0.6026782739234592, 5811934942.0, 828.580479295681]\n",
      "[1999, 0.40419539293931944, 0.6168824967527766, 5890037419.0, 873.2870617257901]\n",
      "[2000, 0.41091867184099695, 0.620787491964921, 6016353450.0, 959.372483639691]\n",
      "[2001, 0.43006910877743465, 0.6380853563201535, 6114185863.0, 1053.1082430045199]\n",
      "[2002, 0.4347433884728073, 0.6415194580700756, 6192205909.0, 1148.5082904417]\n",
      "[2003, 0.4525456148608514, 0.6580309230913743, 6270034637.0, 1288.64325183381]\n",
      "[2004, 0.45757410577766494, 0.6608884857149139, 6374733555.0, 1508.6680978826598]\n",
      "[2005, 0.44867668863775045, 0.6506685362085446, 6454319893.0, 1753.41782925823]\n",
      "[2006, 0.4489809233487611, 0.649607894339996, 6534614930.0, 2099.22943460447]\n",
      "[2007, 0.45608025011156517, 0.6552960554906383, 6615363663.0, 2695.36591709669]\n",
      "[2008, 0.4586223026119019, 0.6570132695351808, 6676992509.0, 3471.2480543115003]\n",
      "[2009, 0.47659255873665596, 0.6735594958742225, 6758799316.0, 3838.43397176904]\n",
      "[2010, 0.48764200235131894, 0.6831853544387017, 6840963836.0, 4560.512586009289]\n",
      "[2011, 0.5000331986647464, 0.6939140296813503, 6932763765.0, 5633.7957168394]\n",
      "[2012, 0.5038386007355834, 0.6964512441626176, 7012493967.0, 6337.88332279255]\n",
      "[2013, 0.5366752156604534, 0.7275562486922579, 7111130836.0, 7077.7707653955795]\n",
      "[2014, 0.5401686734223236, 0.7297145871643546, 7197570093.0, 7683.502613091179]\n",
      "[2015, 0.5563270570741055, 0.7453876380973851, 7252807500.0, 8069.2130238951095]\n",
      "[2016, 0.5605787859786744, 0.748734612471496, 7327251171.0, 8117.267465431791]\n",
      "[2017, 0.5592285966041578, 0.7473825288770098, 7368408320.0, 8826.99409574835]\n"
     ]
    }
   ],
   "source": [
    "data = []\n",
    "for year in range(1960, 2018):\n",
    "    china = averageGDP.query(f\"Country_Name == 'China'\")[str(year)].values[0]\n",
    "    p_china = population.query(f\"Country_Name == 'China'\")[str(year)].values[0]\n",
    "    p_below_china = 0.0\n",
    "    total_p_this_year = 0.0\n",
    "    for i in range(len(averageGDP)):\n",
    "        c = averageGDP.iloc[i]\n",
    "#         print(i, c)\n",
    "        country = c[\"Country_Name\"]\n",
    "        this_country_code = c[\"Country_Code\"]\n",
    "        gdp_per_capita = averageGDP.iloc[i][str(year)]\n",
    "        p = population.query(f'Country_Name == \"{country}\"')\n",
    "        pop = p[str(year)].values[0]\n",
    "        if this_country_code in exclude[\"Country Code\"].values:\n",
    "            pass\n",
    "        elif np.isnan(gdp_per_capita):\n",
    "#             print(\"gdp_per_capita Nan\")\n",
    "            pass\n",
    "        elif np.isnan(pop):\n",
    "#             print(\"population Nan\")\n",
    "            pass\n",
    "        else:\n",
    "            if gdp_per_capita < china:\n",
    "                p_below_china += pop\n",
    "            total_p_this_year += pop \n",
    "#         if not np.isnan(pop):\n",
    "#             total_p_this_year += pop \n",
    "#         else:\n",
    "#             print(\"Hi\", country)\n",
    "    #     print(country, gdp_per_capita, pop)\n",
    "    below_percent = p_below_china/total_p_this_year\n",
    "    include_china = (p_below_china + p_china)/total_p_this_year\n",
    "    tmp = [year, below_percent, include_china, total_p_this_year, china]\n",
    "    data.append(tmp)\n",
    "    print(tmp)\n",
    "data = np.array(data)"
   ]
  },
  {
   "cell_type": "code",
   "execution_count": 144,
   "metadata": {},
   "outputs": [
    {
     "data": {
      "text/plain": [
       "[<matplotlib.lines.Line2D at 0x1a22925d68>]"
      ]
     },
     "execution_count": 144,
     "metadata": {},
     "output_type": "execute_result"
    },
    {
     "data": {
      "image/png": "[encoded data removed]",
      "text/plain": [
       "<Figure size 432x288 with 1 Axes>"
      ]
     },
     "metadata": {},
     "output_type": "display_data"
    }
   ],
   "source": [
    "plt.plot(data[:,0], data[:,4])"
   ]
  },
  {
   "cell_type": "code",
   "execution_count": 148,
   "metadata": {},
   "outputs": [
    {
     "data": {
      "text/plain": [
       "[<matplotlib.lines.Line2D at 0x1a248ca2e8>]"
      ]
     },
     "execution_count": 148,
     "metadata": {},
     "output_type": "execute_result"
    },
    {
     "data": {
      "image/png": "[encoded data removed]",
      "text/plain": [
       "<Figure size 432x288 with 1 Axes>"
      ]
     },
     "metadata": {},
     "output_type": "display_data"
    }
   ],
   "source": [
    "n = 40\n",
    "plt.plot(data[:,0][:n], data[:,4][:n])"
   ]
  },
  {
   "cell_type": "code",
   "execution_count": 140,
   "metadata": {},
   "outputs": [
    {
     "data": {
      "text/plain": [
       "[<matplotlib.lines.Line2D at 0x1a237c9978>]"
      ]
     },
     "execution_count": 140,
     "metadata": {},
     "output_type": "execute_result"
    },
    {
     "data": {
      "image/png": "[encoded data removed]",
      "text/plain": [
       "<Figure size 432x288 with 1 Axes>"
      ]
     },
     "metadata": {},
     "output_type": "display_data"
    }
   ],
   "source": [
    "plt.plot(data[:,0], data[:,3])"
   ]
  },
  {
   "cell_type": "code",
   "execution_count": 145,
   "metadata": {},
   "outputs": [
    {
     "data": {
      "text/plain": [
       "(0, 1)"
      ]
     },
     "execution_count": 145,
     "metadata": {},
     "output_type": "execute_result"
    },
    {
     "data": {
      "image/png": "[encoded data removed]",
      "text/plain": [
       "<Figure size 432x288 with 1 Axes>"
      ]
     },
     "metadata": {},
     "output_type": "display_data"
    }
   ],
   "source": [
    "data = np.array(data)\n",
    "plt.scatter(data[:,0], data[:,1])\n",
    "plt.scatter(data[:,0], data[:,2])\n",
    "plt.ylim([0,1])"
   ]
  },
  {
   "cell_type": "code",
   "execution_count": 146,
   "metadata": {},
   "outputs": [
    {
     "data": {
      "text/plain": [
       "(0, 1)"
      ]
     },
     "execution_count": 146,
     "metadata": {},
     "output_type": "execute_result"
    },
    {
     "data": {
      "image/png": "[encoded data removed]",
      "text/plain": [
       "<Figure size 432x288 with 1 Axes>"
      ]
     },
     "metadata": {},
     "output_type": "display_data"
    }
   ],
   "source": [
    "data = np.array(data)\n",
    "plt.plot(data[:,0], data[:,1])\n",
    "plt.plot(data[:,0], data[:,2])\n",
    "plt.ylim([0,1])"
   ]
  }
 ],
 "metadata": {
  "kernelspec": {
   "display_name": "Python 3",
   "language": "python",
   "name": "python3"
  },
  "language_info": {
   "codemirror_mode": {
    "name": "ipython",
    "version": 3
   },
   "file_extension": ".py",
   "mimetype": "text/x-python",
   "name": "python",
   "nbconvert_exporter": "python",
   "pygments_lexer": "ipython3",
   "version": "3.6.3"
  }
 },
 "nbformat": 4,
 "nbformat_minor": 2
}
