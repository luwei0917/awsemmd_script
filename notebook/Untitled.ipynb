{
 "cells": [
  {
   "cell_type": "code",
   "execution_count": 1,
   "metadata": {
    "collapsed": true
   },
   "outputs": [],
   "source": [
    "import os\n",
    "import sys\n",
    "import random\n",
    "import time\n",
    "from random import seed, randint\n",
    "import argparse\n",
    "import platform\n",
    "from datetime import datetime\n",
    "import imp\n",
    "import numpy as np\n",
    "import fileinput\n",
    "from itertools import product\n",
    "import pandas as pd"
   ]
  },
  {
   "cell_type": "code",
   "execution_count": 14,
   "metadata": {},
   "outputs": [],
   "source": [
    "mu, sigma = 0, 0.001 # mean and standard deviation\n",
    "X = np.random.normal(mu, sigma, (int(n),2))"
   ]
  },
  {
   "cell_type": "code",
   "execution_count": 10,
   "metadata": {},
   "outputs": [
    {
     "data": {
      "text/plain": [
       "(1000000, 2)"
      ]
     },
     "execution_count": 10,
     "metadata": {},
     "output_type": "execute_result"
    }
   ],
   "source": [
    "s.shape"
   ]
  },
  {
   "cell_type": "code",
   "execution_count": 21,
   "metadata": {
    "collapsed": true
   },
   "outputs": [],
   "source": [
    "import numpy as np\n",
    "import matplotlib.pyplot as plt\n",
    "from sklearn import linear_model, datasets\n",
    "\n",
    "# import some data to play with\n",
    "# iris = datasets.load_iris()\n",
    "# X = iris.data[:, :2]  # we only take the first two features.\n",
    "# Y = iris.target\n",
    "n = 1e6\n",
    "mu, sigma = 0, 100 # mean and standard deviation\n",
    "X = np.random.normal(mu, sigma, (int(n),2))\n",
    "\n",
    "# X = np.random.rand(int(n),2)\n",
    "# X = np.random.randint(2, size=(100,2))\n",
    "Y = np.random.randint(2, size=int(n))\n",
    "h = .02  # step size in the mesh"
   ]
  },
  {
   "cell_type": "code",
   "execution_count": 22,
   "metadata": {},
   "outputs": [
    {
     "data": {
      "text/plain": [
       "array([[  9.30496021e-06,   2.02059006e-05]])"
      ]
     },
     "execution_count": 22,
     "metadata": {},
     "output_type": "execute_result"
    }
   ],
   "source": [
    "logreg = linear_model.LogisticRegression(C=1)\n",
    "\n",
    "# we create an instance of Neighbours Classifier and fit the data.\n",
    "logreg.fit(X, Y)\n",
    "\n",
    "# # Plot the decision boundary. For that, we will assign a color to each\n",
    "# # point in the mesh [x_min, x_max]x[y_min, y_max].\n",
    "# x_min, x_max = X[:, 0].min() - .5, X[:, 0].max() + .5\n",
    "# y_min, y_max = X[:, 1].min() - .5, X[:, 1].max() + .5\n",
    "# xx, yy = np.meshgrid(np.arange(x_min, x_max, h), np.arange(y_min, y_max, h))\n",
    "# Z = logreg.predict(np.c_[xx.ravel(), yy.ravel()])\n",
    "\n",
    "# # Put the result into a color plot\n",
    "# Z = Z.reshape(xx.shape)\n",
    "# plt.figure(1, figsize=(4, 3))\n",
    "# plt.pcolormesh(xx, yy, Z, cmap=plt.cm.Paired)\n",
    "\n",
    "# # Plot also the training points\n",
    "# plt.scatter(X[:, 0], X[:, 1], c=Y, edgecolors='k', cmap=plt.cm.Paired)\n",
    "# plt.xlabel('Sepal length')\n",
    "# plt.ylabel('Sepal width')\n",
    "\n",
    "# plt.xlim(xx.min(), xx.max())\n",
    "# plt.ylim(yy.min(), yy.max())\n",
    "# plt.xticks(())\n",
    "# plt.yticks(())\n",
    "\n",
    "plt.show()\n",
    "logreg.coef_"
   ]
  },
  {
   "cell_type": "code",
   "execution_count": 39,
   "metadata": {},
   "outputs": [
    {
     "data": {
      "text/plain": [
       "array([[ 0.00261729,  0.00699159]])"
      ]
     },
     "execution_count": 39,
     "metadata": {},
     "output_type": "execute_result"
    }
   ],
   "source": [
    "\n",
    "\n",
    "logreg = linear_model.LogisticRegression(C=0.001)\n",
    "\n",
    "# we create an instance of Neighbours Classifier and fit the data.\n",
    "logreg.fit(X, Y)\n",
    "\n",
    "# # Plot the decision boundary. For that, we will assign a color to each\n",
    "# # point in the mesh [x_min, x_max]x[y_min, y_max].\n",
    "# x_min, x_max = X[:, 0].min() - .5, X[:, 0].max() + .5\n",
    "# y_min, y_max = X[:, 1].min() - .5, X[:, 1].max() + .5\n",
    "# xx, yy = np.meshgrid(np.arange(x_min, x_max, h), np.arange(y_min, y_max, h))\n",
    "# Z = logreg.predict(np.c_[xx.ravel(), yy.ravel()])\n",
    "\n",
    "# # Put the result into a color plot\n",
    "# Z = Z.reshape(xx.shape)\n",
    "# plt.figure(1, figsize=(4, 3))\n",
    "# plt.pcolormesh(xx, yy, Z, cmap=plt.cm.Paired)\n",
    "\n",
    "# # Plot also the training points\n",
    "# plt.scatter(X[:, 0], X[:, 1], c=Y, edgecolors='k', cmap=plt.cm.Paired)\n",
    "# plt.xlabel('Sepal length')\n",
    "# plt.ylabel('Sepal width')\n",
    "\n",
    "# plt.xlim(xx.min(), xx.max())\n",
    "# plt.ylim(yy.min(), yy.max())\n",
    "# plt.xticks(())\n",
    "# plt.yticks(())\n",
    "\n",
    "# plt.show()\n",
    "logreg.coef_"
   ]
  },
  {
   "cell_type": "code",
   "execution_count": 18,
   "metadata": {
    "scrolled": true
   },
   "outputs": [
    {
     "data": {
      "text/plain": [
       "array([[-0.55421509,  1.08626766]])"
      ]
     },
     "execution_count": 18,
     "metadata": {},
     "output_type": "execute_result"
    }
   ],
   "source": [
    "logreg.coef_"
   ]
  },
  {
   "cell_type": "code",
   "execution_count": 21,
   "metadata": {},
   "outputs": [
    {
     "data": {
      "image/png": "[encoded data removed]",
      "text/plain": [
       "<matplotlib.figure.Figure at 0x1a220f6d68>"
      ]
     },
     "metadata": {},
     "output_type": "display_data"
    },
    {
     "data": {
      "text/plain": [
       "array([[-0.37177846,  0.69021342]])"
      ]
     },
     "execution_count": 21,
     "metadata": {},
     "output_type": "execute_result"
    }
   ],
   "source": [
    "logreg = linear_model.LogisticRegression(C=1)\n",
    "\n",
    "# we create an instance of Neighbours Classifier and fit the data.\n",
    "logreg.fit(X, Y)\n",
    "\n",
    "# Plot the decision boundary. For that, we will assign a color to each\n",
    "# point in the mesh [x_min, x_max]x[y_min, y_max].\n",
    "x_min, x_max = X[:, 0].min() - .5, X[:, 0].max() + .5\n",
    "y_min, y_max = X[:, 1].min() - .5, X[:, 1].max() + .5\n",
    "xx, yy = np.meshgrid(np.arange(x_min, x_max, h), np.arange(y_min, y_max, h))\n",
    "Z = logreg.predict(np.c_[xx.ravel(), yy.ravel()])\n",
    "\n",
    "# Put the result into a color plot\n",
    "Z = Z.reshape(xx.shape)\n",
    "plt.figure(1, figsize=(4, 3))\n",
    "plt.pcolormesh(xx, yy, Z, cmap=plt.cm.Paired)\n",
    "\n",
    "# Plot also the training points\n",
    "plt.scatter(X[:, 0], X[:, 1], c=Y, edgecolors='k', cmap=plt.cm.Paired)\n",
    "plt.xlabel('Sepal length')\n",
    "plt.ylabel('Sepal width')\n",
    "\n",
    "plt.xlim(xx.min(), xx.max())\n",
    "plt.ylim(yy.min(), yy.max())\n",
    "plt.xticks(())\n",
    "plt.yticks(())\n",
    "\n",
    "plt.show()\n",
    "logreg.coef_"
   ]
  },
  {
   "cell_type": "code",
   "execution_count": 5,
   "metadata": {},
   "outputs": [
    {
     "data": {
      "text/plain": [
       "(150, 2)"
      ]
     },
     "execution_count": 5,
     "metadata": {},
     "output_type": "execute_result"
    }
   ],
   "source": [
    "X.shape"
   ]
  },
  {
   "cell_type": "code",
   "execution_count": 10,
   "metadata": {},
   "outputs": [
    {
     "data": {
      "text/plain": [
       "(150,)"
      ]
     },
     "execution_count": 10,
     "metadata": {},
     "output_type": "execute_result"
    }
   ],
   "source": [
    "Y.shape"
   ]
  },
  {
   "cell_type": "code",
   "execution_count": 11,
   "metadata": {},
   "outputs": [
    {
     "data": {
      "text/plain": [
       "array([0, 0, 0, 0, 1, 1, 0, 1, 1, 0, 1, 0, 0, 0, 1, 0, 1, 0, 0, 1, 0, 1, 1,\n",
       "       1, 1, 0, 0, 1, 1, 0, 0, 1, 0, 0, 1, 0, 1, 0, 1, 0, 1, 1, 0, 0, 0, 0,\n",
       "       1, 1, 0, 1, 1, 1, 0, 1, 0, 0, 0, 0, 0, 0, 0, 1, 0, 1, 0, 1, 1, 0, 1,\n",
       "       1, 1, 0, 1, 0, 1, 0, 0, 1, 1, 0, 1, 0, 0, 1, 0, 0, 1, 1, 1, 0, 0, 1,\n",
       "       1, 0, 0, 0, 1, 0, 1, 1])"
      ]
     },
     "execution_count": 11,
     "metadata": {},
     "output_type": "execute_result"
    }
   ],
   "source": [
    "Y = np.random.randint(2, size=100)"
   ]
  },
  {
   "cell_type": "code",
   "execution_count": 8,
   "metadata": {},
   "outputs": [
    {
     "data": {
      "text/plain": [
       "array([[ 0.2307863 , -0.48469222],\n",
       "       [ 0.40605838, -0.11351738],\n",
       "       [-0.23503438,  0.11866574],\n",
       "       [-0.10383742, -0.45509079],\n",
       "       [ 0.35625542,  0.40691158],\n",
       "       [-0.05025682, -0.13459328],\n",
       "       [ 0.14278331,  0.47035423],\n",
       "       [-0.13149812, -0.05816769],\n",
       "       [ 0.30448409,  0.1261345 ],\n",
       "       [ 0.36001408, -0.14128981],\n",
       "       [ 0.48362139, -0.19231098],\n",
       "       [ 0.37094612, -0.30143582],\n",
       "       [-0.17272141,  0.49316   ],\n",
       "       [ 0.15740091, -0.16811762],\n",
       "       [ 0.44076051, -0.11703988],\n",
       "       [-0.00073148, -0.37747617],\n",
       "       [ 0.21077316, -0.17760818],\n",
       "       [ 0.2998303 ,  0.12776617],\n",
       "       [-0.36623186,  0.04595447],\n",
       "       [ 0.11545453,  0.22159948],\n",
       "       [-0.12810018, -0.37659821],\n",
       "       [ 0.43964474, -0.37573036],\n",
       "       [-0.37568209, -0.33172956],\n",
       "       [-0.19409524,  0.08899616],\n",
       "       [ 0.48291882, -0.18241232],\n",
       "       [ 0.20637445,  0.00142292],\n",
       "       [ 0.1486748 ,  0.18465496],\n",
       "       [ 0.41048277, -0.43389116],\n",
       "       [-0.43529362,  0.26557567],\n",
       "       [ 0.30366128, -0.3784693 ],\n",
       "       [ 0.44089316,  0.38661432],\n",
       "       [ 0.31971199, -0.22912049],\n",
       "       [-0.24857855, -0.45785898],\n",
       "       [ 0.39815821,  0.47531939],\n",
       "       [-0.37921676, -0.39976975],\n",
       "       [ 0.31366945, -0.46619398],\n",
       "       [-0.163613  ,  0.13658531],\n",
       "       [ 0.47864265, -0.09587867],\n",
       "       [ 0.21862261,  0.44887846],\n",
       "       [ 0.10247097,  0.40250188],\n",
       "       [-0.46621419,  0.46532218],\n",
       "       [ 0.27929643, -0.44103745],\n",
       "       [ 0.13881789, -0.3298341 ],\n",
       "       [-0.02734113,  0.08597208],\n",
       "       [ 0.31006987, -0.18061379],\n",
       "       [ 0.31482456,  0.13126331],\n",
       "       [ 0.38613767,  0.17036133],\n",
       "       [ 0.13114865, -0.189795  ],\n",
       "       [ 0.32950238,  0.11891771],\n",
       "       [-0.30141421,  0.15321047],\n",
       "       [ 0.4391253 ,  0.22187187],\n",
       "       [-0.35573877,  0.10456775],\n",
       "       [ 0.0041601 ,  0.17523155],\n",
       "       [ 0.06854497,  0.44706421],\n",
       "       [-0.07204829, -0.4689437 ],\n",
       "       [-0.39180908, -0.18389676],\n",
       "       [ 0.03856116, -0.49634087],\n",
       "       [ 0.46613886, -0.15706079],\n",
       "       [ 0.4454318 , -0.00340083],\n",
       "       [ 0.4089974 , -0.05593884],\n",
       "       [ 0.07606376,  0.07346124],\n",
       "       [-0.3733226 ,  0.20559858],\n",
       "       [ 0.08608546, -0.48701153],\n",
       "       [-0.11008255, -0.15542409],\n",
       "       [ 0.46770615, -0.34497369],\n",
       "       [ 0.0504103 ,  0.1567277 ],\n",
       "       [ 0.03093885, -0.19596107],\n",
       "       [-0.06817253,  0.18164646],\n",
       "       [ 0.43475167, -0.46117899],\n",
       "       [ 0.0565189 , -0.14173045],\n",
       "       [-0.28725629,  0.22623906],\n",
       "       [-0.24675773, -0.31580697],\n",
       "       [ 0.07033375, -0.05043594],\n",
       "       [-0.30160583, -0.13420784],\n",
       "       [-0.25162586,  0.09638681],\n",
       "       [-0.11941317,  0.40619313],\n",
       "       [ 0.22232561,  0.37570006],\n",
       "       [-0.42441704,  0.31069666],\n",
       "       [-0.37053954, -0.42356599],\n",
       "       [-0.23994549,  0.26956125],\n",
       "       [-0.05762309, -0.48027431],\n",
       "       [ 0.22055568,  0.49943802],\n",
       "       [-0.47813803,  0.39693139],\n",
       "       [ 0.47932254,  0.01266483],\n",
       "       [-0.14785689,  0.15413381],\n",
       "       [-0.2524341 ,  0.44547018],\n",
       "       [ 0.13743406,  0.02402207],\n",
       "       [ 0.38632912,  0.04147356],\n",
       "       [ 0.43688478,  0.47654825],\n",
       "       [-0.08829368,  0.37958363],\n",
       "       [-0.2647181 ,  0.28889872],\n",
       "       [-0.3204166 ,  0.41147538],\n",
       "       [ 0.12062125,  0.00788861],\n",
       "       [-0.2451592 , -0.3062482 ],\n",
       "       [-0.12160834,  0.39290665],\n",
       "       [ 0.32691456, -0.17592159],\n",
       "       [-0.08200787,  0.04147399],\n",
       "       [ 0.1918122 ,  0.47885276],\n",
       "       [ 0.12679796,  0.15078735],\n",
       "       [ 0.11067543,  0.1144015 ]])"
      ]
     },
     "execution_count": 8,
     "metadata": {},
     "output_type": "execute_result"
    }
   ],
   "source": [
    "X = np.random.rand(100,2) - 0.5"
   ]
  },
  {
   "cell_type": "code",
   "execution_count": 2,
   "metadata": {
    "collapsed": true
   },
   "outputs": [],
   "source": [
    "def expand_grid(dictionary):\n",
    "    return pd.DataFrame([row for row in product(*dictionary.values())],\n",
    "                        columns=dictionary.keys())"
   ]
  },
  {
   "cell_type": "code",
   "execution_count": 3,
   "metadata": {
    "collapsed": true
   },
   "outputs": [],
   "source": [
    "\n",
    "modify_list = {\"MY_RG\":[0.4],\n",
    "                \"MY_LIPID\":[2],\n",
    "                \"MY_RUN\":list(range(12))}"
   ]
  },
  {
   "cell_type": "code",
   "execution_count": 5,
   "metadata": {
    "collapsed": true
   },
   "outputs": [],
   "source": [
    "data = expand_grid(modify_list)"
   ]
  },
  {
   "cell_type": "code",
   "execution_count": 13,
   "metadata": {},
   "outputs": [
    {
     "data": {
      "text/html": [
       "<div>\n",
       "<style>\n",
       "    .dataframe thead tr:only-child th {\n",
       "        text-align: right;\n",
       "    }\n",
       "\n",
       "    .dataframe thead th {\n",
       "        text-align: left;\n",
       "    }\n",
       "\n",
       "    .dataframe tbody tr th {\n",
       "        vertical-align: top;\n",
       "    }\n",
       "</style>\n",
       "<table border=\"1\" class=\"dataframe\">\n",
       "  <thead>\n",
       "    <tr style=\"text-align: right;\">\n",
       "      <th></th>\n",
       "      <th>MY_RG</th>\n",
       "      <th>MY_LIPID</th>\n",
       "      <th>MY_RUN</th>\n",
       "    </tr>\n",
       "  </thead>\n",
       "  <tbody>\n",
       "    <tr>\n",
       "      <th>0</th>\n",
       "      <td>0.4</td>\n",
       "      <td>2</td>\n",
       "      <td>0</td>\n",
       "    </tr>\n",
       "    <tr>\n",
       "      <th>1</th>\n",
       "      <td>0.4</td>\n",
       "      <td>2</td>\n",
       "      <td>1</td>\n",
       "    </tr>\n",
       "    <tr>\n",
       "      <th>2</th>\n",
       "      <td>0.4</td>\n",
       "      <td>2</td>\n",
       "      <td>2</td>\n",
       "    </tr>\n",
       "    <tr>\n",
       "      <th>3</th>\n",
       "      <td>0.4</td>\n",
       "      <td>2</td>\n",
       "      <td>3</td>\n",
       "    </tr>\n",
       "    <tr>\n",
       "      <th>4</th>\n",
       "      <td>0.4</td>\n",
       "      <td>2</td>\n",
       "      <td>4</td>\n",
       "    </tr>\n",
       "    <tr>\n",
       "      <th>5</th>\n",
       "      <td>0.4</td>\n",
       "      <td>2</td>\n",
       "      <td>5</td>\n",
       "    </tr>\n",
       "    <tr>\n",
       "      <th>6</th>\n",
       "      <td>0.4</td>\n",
       "      <td>2</td>\n",
       "      <td>6</td>\n",
       "    </tr>\n",
       "    <tr>\n",
       "      <th>7</th>\n",
       "      <td>0.4</td>\n",
       "      <td>2</td>\n",
       "      <td>7</td>\n",
       "    </tr>\n",
       "    <tr>\n",
       "      <th>8</th>\n",
       "      <td>0.4</td>\n",
       "      <td>2</td>\n",
       "      <td>8</td>\n",
       "    </tr>\n",
       "    <tr>\n",
       "      <th>9</th>\n",
       "      <td>0.4</td>\n",
       "      <td>2</td>\n",
       "      <td>9</td>\n",
       "    </tr>\n",
       "    <tr>\n",
       "      <th>10</th>\n",
       "      <td>0.4</td>\n",
       "      <td>2</td>\n",
       "      <td>10</td>\n",
       "    </tr>\n",
       "    <tr>\n",
       "      <th>11</th>\n",
       "      <td>0.4</td>\n",
       "      <td>2</td>\n",
       "      <td>11</td>\n",
       "    </tr>\n",
       "  </tbody>\n",
       "</table>\n",
       "</div>"
      ],
      "text/plain": [
       "    MY_RG  MY_LIPID  MY_RUN\n",
       "0     0.4         2       0\n",
       "1     0.4         2       1\n",
       "2     0.4         2       2\n",
       "3     0.4         2       3\n",
       "4     0.4         2       4\n",
       "5     0.4         2       5\n",
       "6     0.4         2       6\n",
       "7     0.4         2       7\n",
       "8     0.4         2       8\n",
       "9     0.4         2       9\n",
       "10    0.4         2      10\n",
       "11    0.4         2      11"
      ]
     },
     "execution_count": 13,
     "metadata": {},
     "output_type": "execute_result"
    }
   ],
   "source": [
    "data"
   ]
  },
  {
   "cell_type": "code",
   "execution_count": 18,
   "metadata": {},
   "outputs": [
    {
     "data": {
      "text/plain": [
       "0.40000000000000002"
      ]
     },
     "execution_count": 18,
     "metadata": {},
     "output_type": "execute_result"
    }
   ],
   "source": [
    "data[\"MY_RG\"][9]"
   ]
  },
  {
   "cell_type": "code",
   "execution_count": 14,
   "metadata": {},
   "outputs": [
    {
     "name": "stdout",
     "output_type": "stream",
     "text": [
      "[ 0.4  2.   0. ]\n",
      "[ 0.4  2.   1. ]\n",
      "[ 0.4  2.   2. ]\n",
      "[ 0.4  2.   3. ]\n",
      "[ 0.4  2.   4. ]\n",
      "[ 0.4  2.   5. ]\n",
      "[ 0.4  2.   6. ]\n",
      "[ 0.4  2.   7. ]\n",
      "[ 0.4  2.   8. ]\n",
      "[ 0.4  2.   9. ]\n",
      "[  0.4   2.   10. ]\n",
      "[  0.4   2.   11. ]\n"
     ]
    }
   ],
   "source": [
    "for i in data.values:\n",
    "    print(i)"
   ]
  },
  {
   "cell_type": "code",
   "execution_count": 10,
   "metadata": {
    "collapsed": true
   },
   "outputs": [],
   "source": [
    "def expand_grid2(data_dict):\n",
    "    \"\"\"Create a dataframe from every combination of given values.\"\"\"\n",
    "    rows = product(*data_dict.values())\n",
    "    return pd.DataFrame.from_records(rows, columns=data_dict.keys())"
   ]
  },
  {
   "cell_type": "code",
   "execution_count": 19,
   "metadata": {
    "collapsed": true
   },
   "outputs": [],
   "source": [
    "d2 = expand_grid2(modify_list)"
   ]
  },
  {
   "cell_type": "code",
   "execution_count": 20,
   "metadata": {},
   "outputs": [
    {
     "data": {
      "text/plain": [
       "0.40000000000000002"
      ]
     },
     "execution_count": 20,
     "metadata": {},
     "output_type": "execute_result"
    }
   ],
   "source": [
    "d2[\"MY_RG\"][9]"
   ]
  },
  {
   "cell_type": "code",
   "execution_count": 22,
   "metadata": {},
   "outputs": [
    {
     "name": "stdout",
     "output_type": "stream",
     "text": [
      "0 MY_RG       0.4\n",
      "MY_LIPID    2.0\n",
      "MY_RUN      0.0\n",
      "Name: 0, dtype: float64\n",
      "1 MY_RG       0.4\n",
      "MY_LIPID    2.0\n",
      "MY_RUN      1.0\n",
      "Name: 1, dtype: float64\n",
      "2 MY_RG       0.4\n",
      "MY_LIPID    2.0\n",
      "MY_RUN      2.0\n",
      "Name: 2, dtype: float64\n",
      "3 MY_RG       0.4\n",
      "MY_LIPID    2.0\n",
      "MY_RUN      3.0\n",
      "Name: 3, dtype: float64\n",
      "4 MY_RG       0.4\n",
      "MY_LIPID    2.0\n",
      "MY_RUN      4.0\n",
      "Name: 4, dtype: float64\n",
      "5 MY_RG       0.4\n",
      "MY_LIPID    2.0\n",
      "MY_RUN      5.0\n",
      "Name: 5, dtype: float64\n",
      "6 MY_RG       0.4\n",
      "MY_LIPID    2.0\n",
      "MY_RUN      6.0\n",
      "Name: 6, dtype: float64\n",
      "7 MY_RG       0.4\n",
      "MY_LIPID    2.0\n",
      "MY_RUN      7.0\n",
      "Name: 7, dtype: float64\n",
      "8 MY_RG       0.4\n",
      "MY_LIPID    2.0\n",
      "MY_RUN      8.0\n",
      "Name: 8, dtype: float64\n",
      "9 MY_RG       0.4\n",
      "MY_LIPID    2.0\n",
      "MY_RUN      9.0\n",
      "Name: 9, dtype: float64\n",
      "10 MY_RG        0.4\n",
      "MY_LIPID     2.0\n",
      "MY_RUN      10.0\n",
      "Name: 10, dtype: float64\n",
      "11 MY_RG        0.4\n",
      "MY_LIPID     2.0\n",
      "MY_RUN      11.0\n",
      "Name: 11, dtype: float64\n"
     ]
    }
   ],
   "source": [
    "for index, row in d2.iterrows():\n",
    "    print(index, row)"
   ]
  },
  {
   "cell_type": "code",
   "execution_count": 24,
   "metadata": {},
   "outputs": [
    {
     "data": {
      "text/plain": [
       "int"
      ]
     },
     "execution_count": 24,
     "metadata": {},
     "output_type": "execute_result"
    }
   ],
   "source": [
    "type(list(range(10))[0])"
   ]
  },
  {
   "cell_type": "code",
   "execution_count": 27,
   "metadata": {},
   "outputs": [
    {
     "name": "stdout",
     "output_type": "stream",
     "text": [
      "MY_RG\n",
      "MY_LIPID\n",
      "MY_RUN\n"
     ]
    }
   ],
   "source": [
    "for key in d2.keys():\n",
    "    print(key)"
   ]
  },
  {
   "cell_type": "code",
   "execution_count": null,
   "metadata": {
    "collapsed": true
   },
   "outputs": [],
   "source": []
  }
 ],
 "metadata": {
  "kernelspec": {
   "display_name": "Python 3",
   "language": "python",
   "name": "python3"
  },
  "language_info": {
   "codemirror_mode": {
    "name": "ipython",
    "version": 3
   },
   "file_extension": ".py",
   "mimetype": "text/x-python",
   "name": "python",
   "nbconvert_exporter": "python",
   "pygments_lexer": "ipython3",
   "version": "3.6.3"
  }
 },
 "nbformat": 4,
 "nbformat_minor": 2
}
