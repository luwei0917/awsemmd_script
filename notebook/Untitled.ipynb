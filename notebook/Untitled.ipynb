{
 "cells": [
  {
   "cell_type": "code",
   "execution_count": 1,
   "metadata": {},
   "outputs": [],
   "source": [
    "import os\n",
    "import sys\n",
    "import random\n",
    "import time\n",
    "from random import seed, randint\n",
    "import argparse\n",
    "import platform\n",
    "from datetime import datetime\n",
    "import imp\n",
    "import numpy as np\n",
    "import fileinput\n",
    "from itertools import product\n",
    "import pandas as pd"
   ]
  },
  {
   "cell_type": "code",
   "execution_count": 2,
   "metadata": {},
   "outputs": [],
   "source": [
    "def expand_grid(dictionary):\n",
    "    return pd.DataFrame([row for row in product(*dictionary.values())],\n",
    "                        columns=dictionary.keys())"
   ]
  },
  {
   "cell_type": "code",
   "execution_count": 3,
   "metadata": {},
   "outputs": [],
   "source": [
    "\n",
    "modify_list = {\"MY_RG\":[0.4],\n",
    "                \"MY_LIPID\":[2],\n",
    "                \"MY_RUN\":list(range(12))}"
   ]
  },
  {
   "cell_type": "code",
   "execution_count": 5,
   "metadata": {},
   "outputs": [],
   "source": [
    "data = expand_grid(modify_list)"
   ]
  },
  {
   "cell_type": "code",
   "execution_count": 13,
   "metadata": {},
   "outputs": [
    {
     "data": {
      "text/html": [
       "<div>\n",
       "<style>\n",
       "    .dataframe thead tr:only-child th {\n",
       "        text-align: right;\n",
       "    }\n",
       "\n",
       "    .dataframe thead th {\n",
       "        text-align: left;\n",
       "    }\n",
       "\n",
       "    .dataframe tbody tr th {\n",
       "        vertical-align: top;\n",
       "    }\n",
       "</style>\n",
       "<table border=\"1\" class=\"dataframe\">\n",
       "  <thead>\n",
       "    <tr style=\"text-align: right;\">\n",
       "      <th></th>\n",
       "      <th>MY_RG</th>\n",
       "      <th>MY_LIPID</th>\n",
       "      <th>MY_RUN</th>\n",
       "    </tr>\n",
       "  </thead>\n",
       "  <tbody>\n",
       "    <tr>\n",
       "      <th>0</th>\n",
       "      <td>0.4</td>\n",
       "      <td>2</td>\n",
       "      <td>0</td>\n",
       "    </tr>\n",
       "    <tr>\n",
       "      <th>1</th>\n",
       "      <td>0.4</td>\n",
       "      <td>2</td>\n",
       "      <td>1</td>\n",
       "    </tr>\n",
       "    <tr>\n",
       "      <th>2</th>\n",
       "      <td>0.4</td>\n",
       "      <td>2</td>\n",
       "      <td>2</td>\n",
       "    </tr>\n",
       "    <tr>\n",
       "      <th>3</th>\n",
       "      <td>0.4</td>\n",
       "      <td>2</td>\n",
       "      <td>3</td>\n",
       "    </tr>\n",
       "    <tr>\n",
       "      <th>4</th>\n",
       "      <td>0.4</td>\n",
       "      <td>2</td>\n",
       "      <td>4</td>\n",
       "    </tr>\n",
       "    <tr>\n",
       "      <th>5</th>\n",
       "      <td>0.4</td>\n",
       "      <td>2</td>\n",
       "      <td>5</td>\n",
       "    </tr>\n",
       "    <tr>\n",
       "      <th>6</th>\n",
       "      <td>0.4</td>\n",
       "      <td>2</td>\n",
       "      <td>6</td>\n",
       "    </tr>\n",
       "    <tr>\n",
       "      <th>7</th>\n",
       "      <td>0.4</td>\n",
       "      <td>2</td>\n",
       "      <td>7</td>\n",
       "    </tr>\n",
       "    <tr>\n",
       "      <th>8</th>\n",
       "      <td>0.4</td>\n",
       "      <td>2</td>\n",
       "      <td>8</td>\n",
       "    </tr>\n",
       "    <tr>\n",
       "      <th>9</th>\n",
       "      <td>0.4</td>\n",
       "      <td>2</td>\n",
       "      <td>9</td>\n",
       "    </tr>\n",
       "    <tr>\n",
       "      <th>10</th>\n",
       "      <td>0.4</td>\n",
       "      <td>2</td>\n",
       "      <td>10</td>\n",
       "    </tr>\n",
       "    <tr>\n",
       "      <th>11</th>\n",
       "      <td>0.4</td>\n",
       "      <td>2</td>\n",
       "      <td>11</td>\n",
       "    </tr>\n",
       "  </tbody>\n",
       "</table>\n",
       "</div>"
      ],
      "text/plain": [
       "    MY_RG  MY_LIPID  MY_RUN\n",
       "0     0.4         2       0\n",
       "1     0.4         2       1\n",
       "2     0.4         2       2\n",
       "3     0.4         2       3\n",
       "4     0.4         2       4\n",
       "5     0.4         2       5\n",
       "6     0.4         2       6\n",
       "7     0.4         2       7\n",
       "8     0.4         2       8\n",
       "9     0.4         2       9\n",
       "10    0.4         2      10\n",
       "11    0.4         2      11"
      ]
     },
     "execution_count": 13,
     "metadata": {},
     "output_type": "execute_result"
    }
   ],
   "source": [
    "data"
   ]
  },
  {
   "cell_type": "code",
   "execution_count": 18,
   "metadata": {},
   "outputs": [
    {
     "data": {
      "text/plain": [
       "0.40000000000000002"
      ]
     },
     "execution_count": 18,
     "metadata": {},
     "output_type": "execute_result"
    }
   ],
   "source": [
    "data[\"MY_RG\"][9]"
   ]
  },
  {
   "cell_type": "code",
   "execution_count": 14,
   "metadata": {},
   "outputs": [
    {
     "name": "stdout",
     "output_type": "stream",
     "text": [
      "[ 0.4  2.   0. ]\n",
      "[ 0.4  2.   1. ]\n",
      "[ 0.4  2.   2. ]\n",
      "[ 0.4  2.   3. ]\n",
      "[ 0.4  2.   4. ]\n",
      "[ 0.4  2.   5. ]\n",
      "[ 0.4  2.   6. ]\n",
      "[ 0.4  2.   7. ]\n",
      "[ 0.4  2.   8. ]\n",
      "[ 0.4  2.   9. ]\n",
      "[  0.4   2.   10. ]\n",
      "[  0.4   2.   11. ]\n"
     ]
    }
   ],
   "source": [
    "for i in data.values:\n",
    "    print(i)"
   ]
  },
  {
   "cell_type": "code",
   "execution_count": 10,
   "metadata": {},
   "outputs": [],
   "source": [
    "def expand_grid2(data_dict):\n",
    "    \"\"\"Create a dataframe from every combination of given values.\"\"\"\n",
    "    rows = product(*data_dict.values())\n",
    "    return pd.DataFrame.from_records(rows, columns=data_dict.keys())"
   ]
  },
  {
   "cell_type": "code",
   "execution_count": 19,
   "metadata": {},
   "outputs": [],
   "source": [
    "d2 = expand_grid2(modify_list)"
   ]
  },
  {
   "cell_type": "code",
   "execution_count": 20,
   "metadata": {},
   "outputs": [
    {
     "data": {
      "text/plain": [
       "0.40000000000000002"
      ]
     },
     "execution_count": 20,
     "metadata": {},
     "output_type": "execute_result"
    }
   ],
   "source": [
    "d2[\"MY_RG\"][9]"
   ]
  },
  {
   "cell_type": "code",
   "execution_count": 22,
   "metadata": {},
   "outputs": [
    {
     "name": "stdout",
     "output_type": "stream",
     "text": [
      "0 MY_RG       0.4\n",
      "MY_LIPID    2.0\n",
      "MY_RUN      0.0\n",
      "Name: 0, dtype: float64\n",
      "1 MY_RG       0.4\n",
      "MY_LIPID    2.0\n",
      "MY_RUN      1.0\n",
      "Name: 1, dtype: float64\n",
      "2 MY_RG       0.4\n",
      "MY_LIPID    2.0\n",
      "MY_RUN      2.0\n",
      "Name: 2, dtype: float64\n",
      "3 MY_RG       0.4\n",
      "MY_LIPID    2.0\n",
      "MY_RUN      3.0\n",
      "Name: 3, dtype: float64\n",
      "4 MY_RG       0.4\n",
      "MY_LIPID    2.0\n",
      "MY_RUN      4.0\n",
      "Name: 4, dtype: float64\n",
      "5 MY_RG       0.4\n",
      "MY_LIPID    2.0\n",
      "MY_RUN      5.0\n",
      "Name: 5, dtype: float64\n",
      "6 MY_RG       0.4\n",
      "MY_LIPID    2.0\n",
      "MY_RUN      6.0\n",
      "Name: 6, dtype: float64\n",
      "7 MY_RG       0.4\n",
      "MY_LIPID    2.0\n",
      "MY_RUN      7.0\n",
      "Name: 7, dtype: float64\n",
      "8 MY_RG       0.4\n",
      "MY_LIPID    2.0\n",
      "MY_RUN      8.0\n",
      "Name: 8, dtype: float64\n",
      "9 MY_RG       0.4\n",
      "MY_LIPID    2.0\n",
      "MY_RUN      9.0\n",
      "Name: 9, dtype: float64\n",
      "10 MY_RG        0.4\n",
      "MY_LIPID     2.0\n",
      "MY_RUN      10.0\n",
      "Name: 10, dtype: float64\n",
      "11 MY_RG        0.4\n",
      "MY_LIPID     2.0\n",
      "MY_RUN      11.0\n",
      "Name: 11, dtype: float64\n"
     ]
    }
   ],
   "source": [
    "for index, row in d2.iterrows():\n",
    "    print(index, row)"
   ]
  },
  {
   "cell_type": "code",
   "execution_count": 24,
   "metadata": {},
   "outputs": [
    {
     "data": {
      "text/plain": [
       "int"
      ]
     },
     "execution_count": 24,
     "metadata": {},
     "output_type": "execute_result"
    }
   ],
   "source": [
    "type(list(range(10))[0])"
   ]
  },
  {
   "cell_type": "code",
   "execution_count": 27,
   "metadata": {},
   "outputs": [
    {
     "name": "stdout",
     "output_type": "stream",
     "text": [
      "MY_RG\n",
      "MY_LIPID\n",
      "MY_RUN\n"
     ]
    }
   ],
   "source": [
    "for key in d2.keys():\n",
    "    print(key)"
   ]
  },
  {
   "cell_type": "code",
   "execution_count": null,
   "metadata": {},
   "outputs": [],
   "source": []
  }
 ],
 "metadata": {
  "kernelspec": {
   "display_name": "Python 3",
   "language": "python",
   "name": "python3"
  },
  "language_info": {
   "codemirror_mode": {
    "name": "ipython",
    "version": 3
   },
   "file_extension": ".py",
   "mimetype": "text/x-python",
   "name": "python",
   "nbconvert_exporter": "python",
   "pygments_lexer": "ipython3",
   "version": "3.6.1"
  }
 },
 "nbformat": 4,
 "nbformat_minor": 2
}
